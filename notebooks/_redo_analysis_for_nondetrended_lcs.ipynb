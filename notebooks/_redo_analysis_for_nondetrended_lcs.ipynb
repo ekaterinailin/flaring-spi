{
 "cells": [
  {
   "cell_type": "code",
   "execution_count": 2,
   "metadata": {},
   "outputs": [
    {
     "name": "stderr",
     "output_type": "stream",
     "text": [
      "/home/ekaterina/Documents/000_envs/forallpurposes/lib/python3.6/importlib/_bootstrap.py:219: RuntimeWarning: numpy.ufunc size changed, may indicate binary incompatibility. Expected 192 from C header, got 216 from PyObject\n",
      "  return f(*args, **kwds)\n"
     ]
    }
   ],
   "source": [
    "\"\"\"\n",
    "UTF-8, Python 3\n",
    "\n",
    "------------------\n",
    "Flaring SPI\n",
    "------------------\n",
    "\n",
    "Ekaterina Ilin, 2021, MIT License\n",
    "\n",
    "De-trending Kepler and TESS\n",
    "\n",
    "- get table of Kepler exoplanet system light curves\n",
    "- fetch FLC\n",
    "- get system info from table\n",
    "- mask transits\n",
    "- apply custom detrending\n",
    "- search flares\n",
    "- save results\n",
    "\"\"\"\n",
    "\n",
    "\n",
    "import copy\n",
    "import time\n",
    "\n",
    "from funcs.notebook import *\n",
    "from funcs.detrend import estimate_detrended_noise, fit_spline, remove_sines_iteratively, remove_exponential_fringes\n",
    "from funcs.transitmask import get_full_transit_mask\n",
    "\n",
    "from altaipony.lcio import from_mast\n",
    "from altaipony.flarelc import FlareLightCurve\n",
    "from altaipony.altai import find_iterative_median\n",
    "\n",
    "\n",
    "def custom_detrending(lc, spline_coarseness=30, spline_order=3,\n",
    "                      savgol1=6., savgol2=3., pad=3):\n",
    "    \"\"\"Custom de-trending for TESS and Kepler \n",
    "    short cadence light curves, including TESS Cycle 3 20s\n",
    "    cadence.\n",
    "    \n",
    "    Parameters:\n",
    "    ------------\n",
    "    lc : FlareLightCurve\n",
    "        light curve that has at least time, flux and flux_err\n",
    "    spline_coarseness : float\n",
    "        time scale in hours for spline points. \n",
    "        See fit_spline for details.\n",
    "    spline_order: int\n",
    "        Spline order for the coarse spline fit.\n",
    "        Default is cubic spline.\n",
    "    savgol1 : float\n",
    "        Window size for first Savitzky-Golay filter application.\n",
    "        Unit is hours, defaults to 6 hours.\n",
    "    savgol2 : float\n",
    "        Window size for second Savitzky-Golay filter application.\n",
    "        Unit is hours, defaults to 3 hours.\n",
    "    pad : 3\n",
    "        Outliers in Savitzky-Golay filter are padded with this\n",
    "        number of data points. Defaults to 3.\n",
    "        \n",
    "    Return:\n",
    "    -------\n",
    "    FlareLightCurve with detrended_flux attribute\n",
    "    \"\"\"\n",
    "    dt = np.mean(np.diff(lc.time))\n",
    "#     plt.figure(figsize=(16,8))\n",
    "#     plt.xlim(20,21)\n",
    "#     plt.plot(lc.time, lc.flux+2500, c=\"c\", label=\"original light curve\")\n",
    "    t0 = time.clock()\n",
    "    # fit a spline to the general trends\n",
    "    lc1, model = fit_spline(lc, spline_order=spline_order,\n",
    "                            spline_coarseness=spline_coarseness)\n",
    "    \n",
    "    # replace for next step\n",
    "    lc1.flux = lc1.detrended_flux\n",
    "    t1 = time.clock()\n",
    "#     plt.plot(lc1.time, model+2500, c=\"r\", label=\"rough trends\")\n",
    "#     plt.plot(lc1.time, lc1.detrended_flux+500, c=\"orange\", label=\"rough trends removed\")\n",
    "\n",
    "    # removes strong and fast variability on 5 day to 4.8 hours \n",
    "    # simple sines are probably because rotational variability is \n",
    "    # either weak and transient or strong and persistent on the timescales\n",
    "    lc2 = remove_sines_iteratively(lc1)\n",
    "    t2 = time.clock()\n",
    "#     plt.plot(lc2time, lc2.detrended_flux-200, label=\"sines removed\")\n",
    "    \n",
    "    # choose a 6 hour window\n",
    "    w = int((np.rint(savgol1 / 24. / dt) // 2) * 2 + 1)\n",
    "\n",
    "    # use Savitzy-Golay to iron out the rest\n",
    "    lc3 = lc2.detrend(\"savgol\", window_length=w, pad=pad)\n",
    "    t3 = time.clock()\n",
    "    # choose a three hour window\n",
    "    w = int((np.rint(savgol2 / 24. / dt) // 2) * 2 + 1)\n",
    "\n",
    "    # use Savitzy-Golay to iron out the rest\n",
    "    lc4 = lc3.detrend(\"savgol\", window_length=w, pad=pad)\n",
    "    t4 = time.clock()\n",
    "#     plt.plot(lc4.time, lc4.detrended_flux-800, c=\"k\", label=\"SavGol applied\")\n",
    "    \n",
    "    # find median value\n",
    "    lc4 = find_iterative_median(lc4)\n",
    "    t41 = time.clock()\n",
    "    # replace for next step\n",
    "    lc4.flux = lc4.detrended_flux\n",
    "    \n",
    "    # remove exopential fringes that neither spline, \n",
    "    # nor sines, nor SavGol \n",
    "    # can remove.\n",
    "    lc5 = remove_exponential_fringes(lc4)\n",
    "    t5 = time.clock()\n",
    "#     plt.plot(lc5.time, lc5.detrended_flux, c=\"magenta\", label=\"expfunc applied\")\n",
    "    print(t1-t0, t2-t1, t3-t2, t4-t3, t41-t4, t5-t41, t5-t0)\n",
    "#     plt.xlim(10,40)\n",
    "#     plt.xlabel(\"time [days]\")\n",
    "#     plt.ylabel(\"flux\")\n",
    "#     plt.legend()    \n",
    "    return lc5\n"
   ]
  },
  {
   "cell_type": "code",
   "execution_count": 3,
   "metadata": {},
   "outputs": [
    {
     "name": "stdout",
     "output_type": "stream",
     "text": [
      "-----------------------------------------\n",
      "[UP] Using confirmed and uncontroversial entries in NASA Composite Table from {path}\n",
      "-----------------------------------------\n",
      "-----------------------------------------\n",
      "[UP] Using TESS-TOI Table from ../data/2021_01_13_TESS_TOI_CATALOG.csv\n",
      "-----------------------------------------\n",
      "-----------------------------------------\n",
      "LC left to search: 59\n",
      "-----------------------------------------\n"
     ]
    }
   ],
   "source": [
    "sep = \"-----------------------------------------\"\n",
    "\n",
    "def mprint(message):\n",
    "    print(sep)\n",
    "    print(message)\n",
    "    print(sep)\n",
    "    \n",
    "offset = {\"K2\":2454833.,\n",
    "          \"Kepler\":2454833.,\n",
    "          \"TESS\":2457000.,\n",
    "          'Transiting Exoplanet Survey Satellite (TESS)':2457000.}    \n",
    "\n",
    "# Composite Table of confirmed exoplanets\n",
    "path = \"20_01_2021_confirmed_uncontroversial_exoplanet_systems.csv\"\n",
    "\n",
    "mprint(f\"[UP] Using confirmed and uncontroversial \"\n",
    "      \"entries in NASA Composite Table from {path}\")\n",
    "\n",
    "exokepler = pd.read_csv(f\"../data/{path}\") # composite table\n",
    "\n",
    "# read in TESS-TOI sample \n",
    "path = \"../data/2021_01_13_TESS_TOI_CATALOG.csv\"\n",
    "\n",
    "mprint(f\"[UP] Using TESS-TOI Table from {path}\")\n",
    "\n",
    "exotess = pd.read_csv(path, skiprows=4)\n",
    "\n",
    "# rename the relevant columns for transit masking\n",
    "exotess = exotess.rename(index=str, \n",
    "                         columns={'Transit Duration Value':\"pl_trandur\",\n",
    "                                  'Orbital Period Value': \"pl_orbper\", \n",
    "                                  'Epoch Value':\"pl_tranmidepoch\"})\n",
    "\n",
    "\n",
    "# read in list of LCs to search\n",
    "es = pd.read_csv(\"../data/20_01_2021_full_kepler_k2_tess_exoplanet_lcs_some_excluded.csv\")\n",
    "\n",
    "# select only Kepler and TESS, ignore K2 for now\n",
    "eskeptess = es[(es.mission==\"TESS\") | (es.mission==\"Kepler\")]\n",
    "\n",
    "# # read in searched LCs with and without flares\n",
    "fla = pd.read_csv(\"../results/2020_02_flares_vetted.csv\")\n",
    "\n",
    "# # pick only LC that were not yet searched\n",
    "eskeptess = eskeptess[~eskeptess.ID.isin(fla.ID.unique())]\n",
    "\n",
    "mprint(f\"LC left to search: {eskeptess.shape[0]}\")"
   ]
  },
  {
   "cell_type": "code",
   "execution_count": 65,
   "metadata": {},
   "outputs": [
    {
     "data": {
      "text/plain": [
       "0                                             WASP-138\n",
       "1                                                   31\n",
       "2                                                 TESS\n",
       "3                                  04_02_2021_11_52_57\n",
       "4                                                    1\n",
       "5    Optimal parameters not found: Number of calls ...\n",
       "Name: 3, dtype: object"
      ]
     },
     "execution_count": 65,
     "metadata": {},
     "output_type": "execute_result"
    }
   ],
   "source": [
    "# load info on un-detrended LCs\n",
    "undet = pd.read_csv(\"../results/nodetrend.txt\", header=None).drop_duplicates(subset=[0,1,2,4])\n",
    "row = undet.iloc[3]\n",
    "ID, QCS = row[0],row[1]\n",
    "row"
   ]
  },
  {
   "cell_type": "code",
   "execution_count": 66,
   "metadata": {},
   "outputs": [],
   "source": [
    "#work through a subset first\n",
    "_eskep = eskeptess[(eskeptess.ID == ID) & (eskeptess.qcs == QCS)]\n",
    "\n",
    "#track progress\n",
    "N, n = _eskep.shape[0], 0\n",
    "\n",
    "# take how long it takes to process\n",
    "TSTART = time.time()"
   ]
  },
  {
   "cell_type": "code",
   "execution_count": 67,
   "metadata": {},
   "outputs": [
    {
     "data": {
      "text/html": [
       "<div>\n",
       "<style scoped>\n",
       "    .dataframe tbody tr th:only-of-type {\n",
       "        vertical-align: middle;\n",
       "    }\n",
       "\n",
       "    .dataframe tbody tr th {\n",
       "        vertical-align: top;\n",
       "    }\n",
       "\n",
       "    .dataframe thead th {\n",
       "        text-align: right;\n",
       "    }\n",
       "</style>\n",
       "<table border=\"1\" class=\"dataframe\">\n",
       "  <thead>\n",
       "    <tr style=\"text-align: right;\">\n",
       "      <th></th>\n",
       "      <th>qcs</th>\n",
       "      <th>mission</th>\n",
       "      <th>ID</th>\n",
       "      <th>TIC</th>\n",
       "      <th>catalog_nasa</th>\n",
       "      <th>catalog_toi</th>\n",
       "      <th>est_obs_time_days</th>\n",
       "    </tr>\n",
       "  </thead>\n",
       "  <tbody>\n",
       "    <tr>\n",
       "      <th>57</th>\n",
       "      <td>31</td>\n",
       "      <td>TESS</td>\n",
       "      <td>WASP-138</td>\n",
       "      <td>35857242</td>\n",
       "      <td>1</td>\n",
       "      <td>1</td>\n",
       "      <td>25</td>\n",
       "    </tr>\n",
       "  </tbody>\n",
       "</table>\n",
       "</div>"
      ],
      "text/plain": [
       "    qcs mission        ID       TIC  catalog_nasa  catalog_toi  \\\n",
       "57   31    TESS  WASP-138  35857242             1            1   \n",
       "\n",
       "    est_obs_time_days  \n",
       "57                 25  "
      ]
     },
     "execution_count": 67,
     "metadata": {},
     "output_type": "execute_result"
    }
   ],
   "source": [
    "_eskep"
   ]
  },
  {
   "cell_type": "code",
   "execution_count": 68,
   "metadata": {
    "scrolled": true
   },
   "outputs": [
    {
     "name": "stdout",
     "output_type": "stream",
     "text": [
      "3030    BJD\n",
      "Name: pl_tranmid_systemref, dtype: object\n"
     ]
    },
    {
     "name": "stderr",
     "output_type": "stream",
     "text": [
      "6% (6230/109893) of the cadences will be ignored due to the quality mask (quality_bitmask=175).\n",
      "6% (6230/109893) of the cadences will be ignored due to the quality mask (quality_bitmask=175).\n",
      "6% (1060/18314) of the cadences will be ignored due to the quality mask (quality_bitmask=175).\n",
      "6% (1060/18314) of the cadences will be ignored due to the quality mask (quality_bitmask=175).\n",
      "/home/ekaterina/Documents/000_envs/forallpurposes/lib/python3.6/site-packages/altaipony/lcio.py:114: ResourceWarning: unclosed file <_io.FileIO name='/home/ekaterina/Documents/001_science/lcs/mastDownload/TESS/tess2020294194027-s0031-0000000035857242-0198-s/tess2020294194027-s0031-0000000035857242-0198-s_lc.fits' mode='rb' closefd=True>\n",
      "  c)\n",
      "/home/ekaterina/Documents/000_envs/forallpurposes/lib/python3.6/site-packages/altaipony/lcio.py:114: ResourceWarning: unclosed file <_io.FileIO name='/home/ekaterina/Documents/001_science/lcs/mastDownload/TESS/tess2020294194027-s0031-0000000035857242-0198-a_fast/tess2020294194027-s0031-0000000035857242-0198-a_fast-lc.fits' mode='rb' closefd=True>\n",
      "  c)\n"
     ]
    },
    {
     "name": "stdout",
     "output_type": "stream",
     "text": [
      "-----------------------------------------\n",
      "2 light curves available for WASP-138 in TESS.\n",
      "-----------------------------------------\n",
      "-----------------------------------------\n",
      "    Source Pipeline       TIC  Full TOI ID TOI Disposition  \\\n",
      "700            spoc  35857242       400.01              KP   \n",
      "\n",
      "     TIC Right Ascension  TIC Declination  TMag Value  TMag Uncertainty  \\\n",
      "700             41.63909        -0.463937      11.263             0.018   \n",
      "\n",
      "     pl_tranmidepoch  Epoch Error  ...  Centroid Offset  TFOP Master  \\\n",
      "700      1413.315221     0.000913  ...            False          5.0   \n",
      "\n",
      "     TFOP SG1a  TFOP SG1b  TFOP SG2  TFOP SG3 TFOP SG4 TFOP SG5  \\\n",
      "700        5.0        5.0       5.0       5.0      5.0      5.0   \n",
      "\n",
      "                      Alerted                   Updated  \n",
      "700  2019-02-08 20:04:48+0000  2019-02-08 20:04:48+0000  \n",
      "\n",
      "[1 rows x 40 columns]\n",
      "-----------------------------------------\n"
     ]
    },
    {
     "name": "stderr",
     "output_type": "stream",
     "text": [
      "/home/ekaterina/Documents/000_envs/forallpurposes/lib/python3.6/site-packages/numpy/lib/nanfunctions.py:1113: RuntimeWarning: Mean of empty slice\n",
      "  return np.nanmean(a, axis, out=out, keepdims=keepdims)\n"
     ]
    },
    {
     "name": "stdout",
     "output_type": "stream",
     "text": [
      "0.020740000000003533 35.36798399999999 7.591418000000004 7.393334999999993 7.079709000000008 7.143165999999994 64.596352\n"
     ]
    },
    {
     "name": "stderr",
     "output_type": "stream",
     "text": [
      "Found 1 candidate(s) in the (0,49304) gap.\n",
      "Found 0 candidate(s) in the (49304,97123) gap.\n"
     ]
    },
    {
     "name": "stdout",
     "output_type": "stream",
     "text": [
      "100.0%, [1/1]\n",
      "-----------------------------------------\n",
      "Analysis of 1 light curves took 0.0 hours.\n",
      "-----------------------------------------\n"
     ]
    },
    {
     "data": {
      "image/png": "[encoded data removed]",
      "text/plain": [
       "<Figure size 432x288 with 1 Axes>"
      ]
     },
     "metadata": {
      "needs_background": "light"
     },
     "output_type": "display_data"
    }
   ],
   "source": [
    "%matplotlib inline\n",
    "for i, row in _eskep.iterrows():\n",
    "\n",
    "    # TIC is unique ID for star\n",
    "    system_tess = exotess[(exotess.TIC == row.TIC)]\n",
    "    \n",
    "    # ID is unique, also ignore entries that have no transits\n",
    "    # because there is nothing to mask (they are still searched for flares)\n",
    "    system_kepler = exokepler[(exokepler.hostname == row.ID) &\n",
    "                       (exokepler.discoverymethod == \"Transit\")]\n",
    "    \n",
    "    try:\n",
    "        if system_kepler.shape[0] > 0:\n",
    "            system_kepler[\"pl_tranmidepoch\"] = (system_kepler.pl_tranmid -\n",
    "                                                offset[system_kepler.iloc[0].disc_facility])\n",
    "        system = pd.concat([system_kepler, system_tess],ignore_index=True)\n",
    "    \n",
    "    except KeyError:\n",
    "        system = system_tess\n",
    "        print(system_kepler.pl_tranmid_systemref)\n",
    "\n",
    "\n",
    "    # fetch light curve from MAST\n",
    "    flc = from_mast(row.ID, mission=row.mission, c=row.qcs, cadence=\"short\",\n",
    "                    download_dir=\"/home/ekaterina/Documents/001_science/lcs\")\n",
    "\n",
    "    # make it a list of LCs even if only one LC is returned\n",
    "    if type(flc) == FlareLightCurve:\n",
    "\n",
    "        flc = [flc]\n",
    "\n",
    "    elif type(flc) == list:\n",
    "\n",
    "        flc = flc\n",
    "\n",
    "    # info\n",
    "    mprint(f\"{len(flc)} light curves available for {row.ID} in {row.mission}.\")\n",
    "    \n",
    "    #info \n",
    "    mprint(system)\n",
    "\n",
    "    # loop over all LCs for the system    \n",
    "    for i, f in enumerate(flc[:1]):\n",
    "        \n",
    "#         plt.xlim(1573,1576)\n",
    "        # If any planet transiting\n",
    "#         if system.shape[0] > 0:\n",
    "\n",
    "#             # mask transits\n",
    "#             tranmask = get_full_transit_mask(system, f, pad=0)\n",
    "#             f.flux[tranmask] = np.nan\n",
    "        \n",
    "        plt.plot(f.time, f.flux)\n",
    "        # apply custom detrending\n",
    "#         try:\n",
    "        ts = time.clock()\n",
    "        fd = custom_detrending(f)\n",
    "        tf = time.clock()\n",
    "\n",
    "\n",
    "        # define two hour window for rolling std\n",
    "        w = np.floor(1./12./np.nanmin(np.diff(fd.time)))\n",
    "        if w%2==0: \n",
    "            w+=1\n",
    "\n",
    "        # use window to estimate the noise in the LC\n",
    "        df = estimate_detrended_noise(fd, std_window=int(w), mask_pos_outliers_sigma=2.5)\n",
    "\n",
    "        # search the residual for flares\n",
    "        ff = df.find_flares(addtail=True).flares\n",
    "\n",
    "        # get timestamp for result\n",
    "        tstamp = time.strftime(\"%d_%m_%Y_%H_%M_%S\", time.localtime())\n",
    "\n",
    "        # add meta info to flare table\n",
    "        # if no flares found, add empty row\n",
    "        if ff.shape[0]==0:\n",
    "            ff[\"total_n_valid_data_points\"] = df.detrended_flux.shape[0]\n",
    "            ff[\"ID\"] = row.ID\n",
    "            ff[\"qcs\"] = row.qcs\n",
    "            ff[\"mission\"] = row.mission\n",
    "            ff[\"tstamp\"] = tstamp\n",
    "            ff[\"dur_detrend\"] = tf - ts\n",
    "            ff[\"lc_n\"] = i\n",
    "            ff = ff.append({\"total_n_valid_data_points\":df.detrended_flux.shape[0],\n",
    "                            \"ID\":row.ID,\n",
    "                            \"qcs\" : row.qcs,\n",
    "                            \"mission\":row.mission,\n",
    "                            \"tstamp\":tstamp,\n",
    "                            \"dur_detrend\":tf-ts,\n",
    "                            \"lc_n\":i},\n",
    "                             ignore_index=True)\n",
    "\n",
    "        # otherwise add ID, QCS and mission\n",
    "        else:\n",
    "            ff[\"ID\"] = row.ID\n",
    "            ff[\"qcs\"] = row.qcs\n",
    "            ff[\"mission\"] = row.mission\n",
    "            ff[\"tstamp\"] = tstamp\n",
    "            ff[\"dur_detrend\"] = tf - ts\n",
    "            ff[\"lc_n\"] = i\n",
    "\n",
    "    # add results to file\n",
    "        with open(\"../results/2021_03_second_try_detrending_flares.csv\", \"a\") as file:\n",
    "            ff.to_csv(file, index=False, header=False)\n",
    "#         except Exception as err:\n",
    "#             mprint(f\"{row.ID}, QCS={row.qcs} ({row.mission}) not de-trended!\")\n",
    "#             mprint(err)\n",
    "#                 with open(\"../results/nodetrend.txt\", \"a\") as file:\n",
    "#                     s = f\"{row.ID},{row.qcs},{row.mission},{tstamp},{i},{err}\\n\"\n",
    "#                     file.write(s)\n",
    "\n",
    "    # info\n",
    "    n += 1\n",
    "    print(f\"{n / N * 100.:.1f}%, [{n}/{N}]\")\n",
    "\n",
    "    # breathe\n",
    "#     time.sleep(10)\n",
    "\n",
    "TSTOP = time.time()\n",
    "mprint(f\"Analysis of {N} light curves took {(TSTOP - TSTART) / 60. / 60.:.1f} hours.\")"
   ]
  },
  {
   "cell_type": "code",
   "execution_count": null,
   "metadata": {},
   "outputs": [],
   "source": [
    "plt.plot(fd.time, fd.detrended_flux)\n",
    "plt.plot(fd.time, fd.it_med)\n",
    "plt.plot(fd.time, fd.it_med+3*fd.detrended_flux_err)\n",
    "plt.plot(flc[0].time, flc[0].flux)\n",
    "plt.xlim(1588.1,1588.3)"
   ]
  },
  {
   "cell_type": "code",
   "execution_count": null,
   "metadata": {},
   "outputs": [],
   "source": [
    "for j, flare in ff.iloc[110:115].iterrows():\n",
    "    plt.figure(figsize=(16,5))\n",
    "    cap=.3\n",
    "    ts, tf = flare.tstart, flare.tstop\n",
    "    _ = f[np.where((f.time>=ts-.1/cap) & (f.time<=tf+.1/cap))]\n",
    "    plt.plot(_.time, _.flux, c=\"k\")\n",
    "\n",
    "    _ = f[np.where((f.time>=ts-1e-8) & (f.time<=tf+1e-8))]\n",
    "    plt.scatter(_.time, _.flux, c=\"r\")\n",
    "\n",
    "#     plt.ylim(278500, 281000)\n",
    "#     x=1\n",
    "#     plt.xlim(2036.25+x,2036.75+x)"
   ]
  },
  {
   "cell_type": "code",
   "execution_count": null,
   "metadata": {
    "scrolled": false
   },
   "outputs": [],
   "source": [
    "%matplotlib inline\n",
    "LC = f\n",
    "cad = 2\n",
    "for i, row in ff.iloc[30:31].iterrows():\n",
    "    plt.figure(figsize=(17,5))\n",
    "    ts, tf = row.tstart, row.tstop\n",
    "    \n",
    "    # pick\n",
    "\n",
    "#     if row.mission==\"TESS\":\n",
    "#         LC = lc[0]\n",
    "#         cad=5\n",
    "#     else:\n",
    "#         nlc = np.where((ts>tts)[:,0] != (ts>tts)[:,1])[0][0]\n",
    "#         LC = lc[nlc]\n",
    "#         cad=1\n",
    "    _ = LC[np.where((LC.time>=ts-.2/cad) & (LC.time<=tf+.2/cad))]\n",
    "    plt.plot(_.time, _.flux, c=\"k\")\n",
    "\n",
    "    _ = LC[np.where((LC.time>=ts-1e-8) & (LC.time<=tf+1e-8))]\n",
    "#     plt.scatter(_.time, _.flux, c=\"r\")\n",
    "#     plt.ylim(3200,3900)"
   ]
  },
  {
   "cell_type": "code",
   "execution_count": null,
   "metadata": {},
   "outputs": [],
   "source": [
    "plt.figure(figsize=(17,5))\n",
    "t = 2037.0445\n",
    "cad =.5\n",
    "_ = f[np.where((LC.time>=t-.1/cad) & (LC.time<=t+.1/cad))]\n",
    "# plt.axvline(t,c=\"r\")\n",
    "plt.plot(_.time, _.flux)\n",
    "plt.ylim(278500,280500)"
   ]
  },
  {
   "cell_type": "code",
   "execution_count": null,
   "metadata": {},
   "outputs": [],
   "source": [
    "81/18094/2*60*24"
   ]
  },
  {
   "cell_type": "code",
   "execution_count": null,
   "metadata": {},
   "outputs": [],
   "source": [
    "115/100736*3*60*24"
   ]
  },
  {
   "cell_type": "code",
   "execution_count": null,
   "metadata": {},
   "outputs": [],
   "source": [
    "0.015*24*60"
   ]
  },
  {
   "cell_type": "code",
   "execution_count": null,
   "metadata": {},
   "outputs": [],
   "source": [
    "%matplotlib widget"
   ]
  },
  {
   "cell_type": "code",
   "execution_count": null,
   "metadata": {},
   "outputs": [],
   "source": []
  }
 ],
 "metadata": {
  "kernelspec": {
   "display_name": "forallpurposes",
   "language": "python",
   "name": "forallpurposes"
  },
  "language_info": {
   "codemirror_mode": {
    "name": "ipython",
    "version": 3
   },
   "file_extension": ".py",
   "mimetype": "text/x-python",
   "name": "python",
   "nbconvert_exporter": "python",
   "pygments_lexer": "ipython3",
   "version": "3.6.9"
  }
 },
 "nbformat": 4,
 "nbformat_minor": 2
}
