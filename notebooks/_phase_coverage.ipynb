{
 "cells": [
  {
   "cell_type": "code",
   "execution_count": 2,
   "metadata": {},
   "outputs": [],
   "source": [
    "from funcs.notebook import *\n",
    "df = pd.read_csv(\"../results/2020_02_obsdurs.csv\")\n",
    "hist = pd.DataFrame()"
   ]
  },
  {
   "cell_type": "code",
   "execution_count": 3,
   "metadata": {},
   "outputs": [
    {
     "data": {
      "text/plain": [
       "array([0.00000000e+00, 8.13008130e-04, 1.62601626e-03, ...,\n",
       "       9.98373984e-01, 9.99186992e-01, 1.00000000e+00])"
      ]
     },
     "execution_count": 3,
     "metadata": {},
     "output_type": "execute_result"
    }
   ],
   "source": [
    "bins = np.linspace(0,1,1231)\n",
    "bins"
   ]
  },
  {
   "cell_type": "code",
   "execution_count": 4,
   "metadata": {},
   "outputs": [
    {
     "data": {
      "text/plain": [
       "1231"
      ]
     },
     "execution_count": 4,
     "metadata": {},
     "output_type": "execute_result"
    }
   ],
   "source": [
    "len(bins)"
   ]
  },
  {
   "cell_type": "code",
   "execution_count": 355,
   "metadata": {},
   "outputs": [],
   "source": [
    "for i, row in df.iterrows():\n",
    "    lc = pd.read_csv(f\"../results/observedtimes/{row.ID}_{row.qcs}_{row.lc_n}_{row.mission}.csv\")\n",
    "    counts, bins = np.histogram(lc.phase.values, bins=bins)\n",
    "    hist[f\"{row.ID}_{row.qcs}_{row.lc_n}_{row.mission}\"] = counts"
   ]
  },
  {
   "cell_type": "code",
   "execution_count": 356,
   "metadata": {},
   "outputs": [],
   "source": [
    "hist.to_csv(f\"../results/observedtimes/hist_1231_obst.csv\")"
   ]
  },
  {
   "cell_type": "code",
   "execution_count": 357,
   "metadata": {},
   "outputs": [
    {
     "data": {
      "text/plain": [
       "(0.0, 1.0)"
      ]
     },
     "execution_count": 357,
     "metadata": {},
     "output_type": "execute_result"
    },
    {
     "data": {
      "image/png": "[encoded data removed]",
      "text/plain": [
       "<Figure size 432x288 with 1 Axes>"
      ]
     },
     "metadata": {
      "needs_background": "light"
     },
     "output_type": "display_data"
    }
   ],
   "source": [
    "plt.bar((bins[:-1]+bins[1:]) / 2, hist.sum(axis=1).values, width = bins[1]-bins[0],facecolor=\"w\", edgecolor=\"k\")\n",
    "plt.xlim(0,1)"
   ]
  },
  {
   "cell_type": "code",
   "execution_count": 358,
   "metadata": {},
   "outputs": [
    {
     "data": {
      "text/plain": [
       "(1295, 19)"
      ]
     },
     "execution_count": 358,
     "metadata": {},
     "output_type": "execute_result"
    }
   ],
   "source": [
    "flares = pd.read_csv(\"../results/2020_02_flares_vetted.csv\")\n",
    "flares[\"real?\"] = flares[\"real?\"].fillna(0).astype(float)\n",
    "ff = flares[(flares[\"real?\"]==1.)]\n",
    "ff.shape"
   ]
  },
  {
   "cell_type": "code",
   "execution_count": 359,
   "metadata": {},
   "outputs": [
    {
     "name": "stdout",
     "output_type": "stream",
     "text": [
      "[Errno 2] No such file or directory: '../results/observedtimes/TOI-700_27_0_TESS.csv'\n",
      "[Errno 2] No such file or directory: '../results/observedtimes/2MASS J01225093-2439505_30_1_TESS.csv'\n",
      "[Errno 2] No such file or directory: '../results/observedtimes/2MASS J01225093-2439505_30_1_TESS.csv'\n",
      "[Errno 2] No such file or directory: '../results/observedtimes/2MASS J01225093-2439505_30_1_TESS.csv'\n",
      "[Errno 2] No such file or directory: '../results/observedtimes/2MASS J01225093-2439505_30_1_TESS.csv'\n",
      "[Errno 2] No such file or directory: '../results/observedtimes/2MASS J01225093-2439505_30_1_TESS.csv'\n",
      "[Errno 2] No such file or directory: '../results/observedtimes/2MASS J01225093-2439505_30_1_TESS.csv'\n",
      "[Errno 2] No such file or directory: '../results/observedtimes/2MASS J01225093-2439505_30_1_TESS.csv'\n",
      "[Errno 2] No such file or directory: '../results/observedtimes/2MASS J01225093-2439505_30_1_TESS.csv'\n",
      "[Errno 2] No such file or directory: '../results/observedtimes/2MASS J01225093-2439505_30_1_TESS.csv'\n",
      "[Errno 2] No such file or directory: '../results/observedtimes/2MASS J01225093-2439505_30_1_TESS.csv'\n",
      "[Errno 2] No such file or directory: '../results/observedtimes/2MASS J01225093-2439505_30_1_TESS.csv'\n",
      "[Errno 2] No such file or directory: '../results/observedtimes/2MASS J01225093-2439505_30_1_TESS.csv'\n",
      "[Errno 2] No such file or directory: '../results/observedtimes/2MASS J01225093-2439505_30_1_TESS.csv'\n",
      "[Errno 2] No such file or directory: '../results/observedtimes/GJ 1061_30_1_TESS.csv'\n",
      "[Errno 2] No such file or directory: '../results/observedtimes/GJ 1061_31_1_TESS.csv'\n",
      "[Errno 2] No such file or directory: '../results/observedtimes/GJ 3323_5_1_TESS.csv'\n",
      "[Errno 2] No such file or directory: '../results/observedtimes/GJ 3323_5_1_TESS.csv'\n",
      "[Errno 2] No such file or directory: '../results/observedtimes/GJ 3323_5_1_TESS.csv'\n",
      "[Errno 2] No such file or directory: '../results/observedtimes/GJ 3323_5_1_TESS.csv'\n",
      "[Errno 2] No such file or directory: '../results/observedtimes/GJ 3323_5_1_TESS.csv'\n",
      "[Errno 2] No such file or directory: '../results/observedtimes/GJ 3323_5_1_TESS.csv'\n",
      "[Errno 2] No such file or directory: '../results/observedtimes/GJ 3323_5_1_TESS.csv'\n",
      "[Errno 2] No such file or directory: '../results/observedtimes/RR Cae_30_1_TESS.csv'\n",
      "[Errno 2] No such file or directory: '../results/observedtimes/RR Cae_30_1_TESS.csv'\n",
      "[Errno 2] No such file or directory: '../results/observedtimes/RR Cae_30_1_TESS.csv'\n",
      "[Errno 2] No such file or directory: '../results/observedtimes/YZ Cet_30_1_TESS.csv'\n",
      "[Errno 2] No such file or directory: '../results/observedtimes/YZ Cet_30_1_TESS.csv'\n",
      "[Errno 2] No such file or directory: '../results/observedtimes/YZ Cet_30_1_TESS.csv'\n",
      "[Errno 2] No such file or directory: '../results/observedtimes/YZ Cet_30_1_TESS.csv'\n",
      "[Errno 2] No such file or directory: '../results/observedtimes/YZ Cet_30_1_TESS.csv'\n",
      "[Errno 2] No such file or directory: '../results/observedtimes/YZ Cet_30_1_TESS.csv'\n",
      "[Errno 2] No such file or directory: '../results/observedtimes/YZ Cet_30_1_TESS.csv'\n",
      "[Errno 2] No such file or directory: '../results/observedtimes/YZ Cet_30_1_TESS.csv'\n",
      "[Errno 2] No such file or directory: '../results/observedtimes/TIC 32090583_27_1_TESS.csv'\n",
      "[Errno 2] No such file or directory: '../results/observedtimes/TIC 32090583_27_1_TESS.csv'\n",
      "[Errno 2] No such file or directory: '../results/observedtimes/TIC 32090583_27_1_TESS.csv'\n",
      "[Errno 2] No such file or directory: '../results/observedtimes/TIC 32090583_27_1_TESS.csv'\n",
      "[Errno 2] No such file or directory: '../results/observedtimes/TIC 32090583_27_1_TESS.csv'\n",
      "[Errno 2] No such file or directory: '../results/observedtimes/TIC 32090583_28_1_TESS.csv'\n",
      "[Errno 2] No such file or directory: '../results/observedtimes/TIC 32090583_28_1_TESS.csv'\n",
      "[Errno 2] No such file or directory: '../results/observedtimes/TIC 32090583_28_1_TESS.csv'\n",
      "[Errno 2] No such file or directory: '../results/observedtimes/TIC 32090583_28_1_TESS.csv'\n",
      "[Errno 2] No such file or directory: '../results/observedtimes/TIC 32090583_29_1_TESS.csv'\n",
      "[Errno 2] No such file or directory: '../results/observedtimes/TIC 32090583_29_1_TESS.csv'\n",
      "[Errno 2] No such file or directory: '../results/observedtimes/TIC 32090583_29_1_TESS.csv'\n",
      "[Errno 2] No such file or directory: '../results/observedtimes/TIC 32090583_29_1_TESS.csv'\n",
      "[Errno 2] No such file or directory: '../results/observedtimes/TIC 32090583_30_1_TESS.csv'\n",
      "[Errno 2] No such file or directory: '../results/observedtimes/TIC 32090583_30_1_TESS.csv'\n",
      "[Errno 2] No such file or directory: '../results/observedtimes/TIC 32090583_30_1_TESS.csv'\n",
      "[Errno 2] No such file or directory: '../results/observedtimes/TIC 32090583_30_1_TESS.csv'\n",
      "[Errno 2] No such file or directory: '../results/observedtimes/TIC 32090583_30_1_TESS.csv'\n",
      "[Errno 2] No such file or directory: '../results/observedtimes/TIC 32090583_30_1_TESS.csv'\n",
      "[Errno 2] No such file or directory: '../results/observedtimes/TIC 32090583_31_1_TESS.csv'\n",
      "[Errno 2] No such file or directory: '../results/observedtimes/TIC 101230735_27_1_TESS.csv'\n",
      "[Errno 2] No such file or directory: '../results/observedtimes/TIC 272086159_27_1_TESS.csv'\n",
      "[Errno 2] No such file or directory: '../results/observedtimes/TIC 272086159_27_1_TESS.csv'\n",
      "[Errno 2] No such file or directory: '../results/observedtimes/TIC 272086159_27_1_TESS.csv'\n",
      "[Errno 2] No such file or directory: '../results/observedtimes/TIC 272086159_28_1_TESS.csv'\n",
      "[Errno 2] No such file or directory: '../results/observedtimes/TIC 272086159_28_1_TESS.csv'\n",
      "[Errno 2] No such file or directory: '../results/observedtimes/TIC 272086159_28_1_TESS.csv'\n",
      "[Errno 2] No such file or directory: '../results/observedtimes/TIC 278198753_27_1_TESS.csv'\n",
      "[Errno 2] No such file or directory: '../results/observedtimes/TIC 278198753_27_1_TESS.csv'\n",
      "[Errno 2] No such file or directory: '../results/observedtimes/TIC 278683844_31_1_TESS.csv'\n",
      "[Errno 2] No such file or directory: '../results/observedtimes/TIC 420112587_22_1_TESS.csv'\n",
      "[Errno 2] No such file or directory: '../results/observedtimes/TIC 420112587_26_1_TESS.csv'\n",
      "[Errno 2] No such file or directory: '../results/observedtimes/TIC 2760710_29_1_TESS.csv'\n"
     ]
    }
   ],
   "source": [
    "phases = []\n",
    "for j, row in ff.iterrows():\n",
    "    try:\n",
    "        lc = pd.read_csv(f\"../results/observedtimes/{row.ID}_{row.qcs}_{row.lc_n}_{row.mission}.csv\")\n",
    "        phases.append(lc.phase[np.argmin(np.abs(lc.time-row.tstart))])\n",
    "    except Exception as e:\n",
    "        print(e)\n",
    "        phases.append(np.nan)\n",
    " "
   ]
  },
  {
   "cell_type": "code",
   "execution_count": 361,
   "metadata": {},
   "outputs": [],
   "source": [
    "counts, bins = np.histogram(phases, bins=bins)\n",
    "cumfreq = (counts / hist.sum(axis=1).values).cumsum()\n",
    "lin = np.linspace(cumfreq[0],np.max(cumfreq),len(bins)-1)"
   ]
  },
  {
   "cell_type": "code",
   "execution_count": 367,
   "metadata": {},
   "outputs": [
    {
     "data": {
      "image/png": "[encoded data removed]",
      "text/plain": [
       "<Figure size 792x504 with 1 Axes>"
      ]
     },
     "metadata": {
      "needs_background": "light"
     },
     "output_type": "display_data"
    }
   ],
   "source": [
    "plt.figure(figsize=(11,7))\n",
    "plt.errorbar((bins[:-1]+bins[1:]) / 2,\n",
    "             cumfreq,#counts / hist.sum(axis=1).values, \n",
    "             #yerr = np.sqrt(counts) / hist.sum(axis=1).values,\n",
    "             c='k',fmt=\"o\")\n",
    "plt.plot((bins[:-1]+bins[1:]) / 2, lin, c=\"orange\")\n",
    "plt.xlim(0,1)\n",
    "plt.ylabel(\"cumulative flare start observations / all observations\")\n",
    "plt.xlabel(\"orbital phase\")\n",
    "plt.title(\"full sample\")\n",
    "plt.ylim(cumfreq[0],np.max(cumfreq))\n",
    "plt.savefig(\"../results/plots/cumulative_flare_phases_full_sample.png\", dpi=300)"
   ]
  },
  {
   "cell_type": "code",
   "execution_count": 372,
   "metadata": {},
   "outputs": [
    {
     "name": "stdout",
     "output_type": "stream",
     "text": [
      "2.48e-05 +/- 1.03e-06\n",
      "2.53e-05 +/- 1.03e-06\n"
     ]
    }
   ],
   "source": [
    "f = pd.DataFrame({\"freq\":counts / hist.sum(axis=1).values, \"phase\":(bins[:-1]+bins[1:]) / 2})\n",
    "h1 = hist.sum(axis=1).values[:615].sum()\n",
    "h2 = hist.sum(axis=1).values[615:].sum()\n",
    "phases = np.array(phases)\n",
    "f1 = np.where((phases<.25) | (phases>.75))[0].shape[0] \n",
    "f2 = np.where((phases>.25) & (phases<.75))[0].shape[0]\n",
    "e1, e2 = np.sqrt(f1)/h1, np.sqrt(f2)/h2\n",
    "print(fr\"{f1 / h1:.2e} +/- {e1:.2e}\")\n",
    "print(fr\"{f2 / h1:.2e} +/- {e2:.2e}\")"
   ]
  },
  {
   "cell_type": "code",
   "execution_count": 376,
   "metadata": {},
   "outputs": [
    {
     "data": {
      "text/plain": [
       "'2.59e-05'"
      ]
     },
     "execution_count": 376,
     "metadata": {},
     "output_type": "execute_result"
    }
   ],
   "source": [
    "_ = f1 / h1 + e1\n",
    "fr\"{_:.2e}\""
   ]
  }
 ],
 "metadata": {
  "kernelspec": {
   "display_name": "forallpurposes",
   "language": "python",
   "name": "forallpurposes"
  },
  "language_info": {
   "codemirror_mode": {
    "name": "ipython",
    "version": 3
   },
   "file_extension": ".py",
   "mimetype": "text/x-python",
   "name": "python",
   "nbconvert_exporter": "python",
   "pygments_lexer": "ipython3",
   "version": "3.6.9"
  }
 },
 "nbformat": 4,
 "nbformat_minor": 2
}
