{
 "cells": [
  {
   "cell_type": "code",
   "execution_count": 19,
   "metadata": {},
   "outputs": [],
   "source": [
    "import pandas as pd\n",
    "import numpy as np\n",
    "\n",
    "from funcs.phaseanalysismulti import OFFSET\n",
    "\n",
    "import matplotlib.pyplot as plt\n"
   ]
  },
  {
   "cell_type": "code",
   "execution_count": 20,
   "metadata": {},
   "outputs": [],
   "source": [
    "def coherence_timescale(period, error):\n",
    "    \"\"\"Calculate the coherence timescale from the period and the error on the\n",
    "    period.\n",
    "\n",
    "    Parameters\n",
    "    ----------\n",
    "    period : float\n",
    "        The period in days.\n",
    "    error : float\n",
    "        The error on the period in days.\n",
    "\n",
    "    Returns\n",
    "    -------\n",
    "    float\n",
    "        The coherence timescale in days.\n",
    "\n",
    "    \"\"\"\n",
    "    if error == 0:\n",
    "        return np.inf\n",
    "    elif ~np.isfinite(error):\n",
    "        return np.inf\n",
    "\n",
    "    return period**2 / error\n",
    "\n",
    "\n"
   ]
  },
  {
   "cell_type": "code",
   "execution_count": 33,
   "metadata": {},
   "outputs": [
    {
     "data": {
      "image/png": "[encoded data removed]",
      "text/plain": [
       "<Figure size 504x396 with 1 Axes>"
      ]
     },
     "metadata": {
      "needs_background": "light"
     },
     "output_type": "display_data"
    }
   ],
   "source": [
    "# -\n",
    "# 1. ROTATION PERIOD COHERENCE\n",
    "\n",
    "# Read in stellar parameters from the literature\n",
    "path = \"../results/2022_08_stellar_params.csv\"\n",
    "df = pd.read_csv(path)\n",
    "print(f\"Get literature stellar parameters from\\n{path}\\n\")\n",
    "\n",
    "\n",
    "# Read in flare table\n",
    "path = \"../results/PAPER_flare_table.csv\"\n",
    "flares = pd.read_csv(path)\n",
    "print(f\"Get flare table from\\n{path}\\n\")\n",
    "\n",
    "# shift each tstart by mission specific offset using mission column and OFFSET\n",
    "# column\n",
    "flares[\"abs_tstart\"] = flares.tstart + flares[\"mission\"].apply(lambda x: OFFSET[x])\n",
    "\n",
    "# Get first and last absolute flare times for each star\n",
    "tmin = flares.groupby(\"TIC\").abs_tstart.min()\n",
    "tmax = flares.groupby(\"TIC\").abs_tstart.max()\n",
    "\n",
    "# merge tmin and tmax into a single DataFrame\n",
    "tminmax = pd.merge(tmin, tmax, on=\"TIC\", suffixes=(\"_min\", \"_max\"))\n",
    "\n",
    "# Calculate the time span between first and last flare\n",
    "tminmax[\"time_span_d\"] = tminmax[\"abs_tstart_max\"] - tminmax[\"abs_tstart_min\"]\n",
    "\n",
    "# merge tminmax with the table of stellar parameters\n",
    "df_timespan = pd.merge(df, tminmax, on=\"TIC\")\n",
    "\n",
    "g = lambda x: coherence_timescale(x.st_rotp, x.st_rotp_err)\n",
    "df_timespan[\"coherence_timescale_rotation_d\"] = df_timespan.apply(g, axis=1)\n",
    "\n",
    "# Calculate the coherence ratio \n",
    "# as the ratio between the total time between first and last flare\n",
    "# and the time it takes to lose the information on rotational phase\n",
    "# Ideally, the number is << 1\n",
    "df_timespan[\"coherence_ratio_rotation\"] = (df_timespan[\"time_span_d\"] / \n",
    "                                  df_timespan[\"coherence_timescale_rotation_d\"])\n",
    "\n",
    "# ------------------------------------------------------------------------------\n",
    "# plot the result and save the file\n",
    "plt.figure(figsize=(7,5.5))\n",
    "plt.hist(df_timespan[\"coherence_ratio_rotation\"], bins=np.logspace(-3,1.,30),\n",
    "         facecolor=\"orange\", edgecolor=\"maroon\")\n",
    "plt.xscale(\"log\")\n",
    "\n",
    "plt.xlabel(\"time span covered by flares / coherence time of rotation period\",\n",
    "            size=12)\n",
    "plt.ylabel(\"number of star-planet systems\")\n",
    "plt.tight_layout()\n",
    "plt.savefig(\"../results/plots/coherence_time_of_rotation_period.png\", dpi=300)\n",
    "# ------------------------------------------------------------------------------\n",
    "\n",
    "# write to file\n",
    "df_timespan.to_csv(\"../results/2022_09_stellar_params_with_coherence_times.csv\", \n",
    "                   index=False)"
   ]
  },
  {
   "cell_type": "code",
   "execution_count": 45,
   "metadata": {},
   "outputs": [
    {
     "name": "stdout",
     "output_type": "stream",
     "text": [
      "Get get orbital periods and uncertainties from\n",
      "../data/2022_07_27_input_catalog_star_planet_systems.csv\n",
      "\n"
     ]
    },
    {
     "ename": "KeyError",
     "evalue": "\"Passing list-likes to .loc or [] with any missing labels is no longer supported. The following labels were missing: Index(['pl_orbpererr'], dtype='object'). See https://pandas.pydata.org/pandas-docs/stable/user_guide/indexing.html#deprecate-loc-reindex-listlike\"",
     "output_type": "error",
     "traceback": [
      "\u001b[0;31m---------------------------------------------------------------------------\u001b[0m",
      "\u001b[0;31mKeyError\u001b[0m                                  Traceback (most recent call last)",
      "\u001b[0;32m/tmp/ipykernel_6554/520639031.py\u001b[0m in \u001b[0;36m<module>\u001b[0;34m\u001b[0m\n\u001b[1;32m     90\u001b[0m         \u001b[0mtminmax\u001b[0m\u001b[0;34m[\u001b[0m\u001b[0;34m\"orbper_err\"\u001b[0m\u001b[0;34m]\u001b[0m \u001b[0;34m=\u001b[0m \u001b[0;34m(\u001b[0m\u001b[0mo\u001b[0m\u001b[0;34m[\u001b[0m\u001b[0mcols\u001b[0m\u001b[0;34m[\u001b[0m\u001b[0;36m1\u001b[0m\u001b[0;34m]\u001b[0m\u001b[0;34m]\u001b[0m \u001b[0;34m-\u001b[0m \u001b[0mo\u001b[0m\u001b[0;34m[\u001b[0m\u001b[0mcols\u001b[0m\u001b[0;34m[\u001b[0m\u001b[0;36m2\u001b[0m\u001b[0;34m]\u001b[0m\u001b[0;34m]\u001b[0m\u001b[0;34m)\u001b[0m \u001b[0;34m/\u001b[0m \u001b[0;36m2.\u001b[0m\u001b[0;34m\u001b[0m\u001b[0;34m\u001b[0m\u001b[0m\n\u001b[1;32m     91\u001b[0m \u001b[0;34m\u001b[0m\u001b[0m\n\u001b[0;32m---> 92\u001b[0;31m         \u001b[0mcheck_output\u001b[0m\u001b[0;34m(\u001b[0m\u001b[0mtminmax\u001b[0m\u001b[0;34m,\u001b[0m \u001b[0mrow\u001b[0m\u001b[0;34m.\u001b[0m\u001b[0mTIC\u001b[0m\u001b[0;34m,\u001b[0m \u001b[0mseparate\u001b[0m\u001b[0;34m,\u001b[0m \u001b[0mmissions\u001b[0m\u001b[0;34m,\u001b[0m \u001b[0mo\u001b[0m\u001b[0;34m[\u001b[0m\u001b[0mcols\u001b[0m\u001b[0;34m]\u001b[0m\u001b[0;34m)\u001b[0m\u001b[0;34m\u001b[0m\u001b[0;34m\u001b[0m\u001b[0m\n\u001b[0m\u001b[1;32m     93\u001b[0m \u001b[0;34m\u001b[0m\u001b[0m\n\u001b[1;32m     94\u001b[0m \u001b[0;34m\u001b[0m\u001b[0m\n",
      "\u001b[0;32m~/Documents/000_envs/fleck38/lib/python3.8/site-packages/pandas/core/series.py\u001b[0m in \u001b[0;36m__getitem__\u001b[0;34m(self, key)\u001b[0m\n\u001b[1;32m    904\u001b[0m             \u001b[0;32mreturn\u001b[0m \u001b[0mself\u001b[0m\u001b[0;34m.\u001b[0m\u001b[0m_get_values\u001b[0m\u001b[0;34m(\u001b[0m\u001b[0mkey\u001b[0m\u001b[0;34m)\u001b[0m\u001b[0;34m\u001b[0m\u001b[0;34m\u001b[0m\u001b[0m\n\u001b[1;32m    905\u001b[0m \u001b[0;34m\u001b[0m\u001b[0m\n\u001b[0;32m--> 906\u001b[0;31m         \u001b[0;32mreturn\u001b[0m \u001b[0mself\u001b[0m\u001b[0;34m.\u001b[0m\u001b[0m_get_with\u001b[0m\u001b[0;34m(\u001b[0m\u001b[0mkey\u001b[0m\u001b[0;34m)\u001b[0m\u001b[0;34m\u001b[0m\u001b[0;34m\u001b[0m\u001b[0m\n\u001b[0m\u001b[1;32m    907\u001b[0m \u001b[0;34m\u001b[0m\u001b[0m\n\u001b[1;32m    908\u001b[0m     \u001b[0;32mdef\u001b[0m \u001b[0m_get_with\u001b[0m\u001b[0;34m(\u001b[0m\u001b[0mself\u001b[0m\u001b[0;34m,\u001b[0m \u001b[0mkey\u001b[0m\u001b[0;34m)\u001b[0m\u001b[0;34m:\u001b[0m\u001b[0;34m\u001b[0m\u001b[0;34m\u001b[0m\u001b[0m\n",
      "\u001b[0;32m~/Documents/000_envs/fleck38/lib/python3.8/site-packages/pandas/core/series.py\u001b[0m in \u001b[0;36m_get_with\u001b[0;34m(self, key)\u001b[0m\n\u001b[1;32m    944\u001b[0m \u001b[0;34m\u001b[0m\u001b[0m\n\u001b[1;32m    945\u001b[0m         \u001b[0;31m# handle the dup indexing case GH#4246\u001b[0m\u001b[0;34m\u001b[0m\u001b[0;34m\u001b[0m\u001b[0;34m\u001b[0m\u001b[0m\n\u001b[0;32m--> 946\u001b[0;31m         \u001b[0;32mreturn\u001b[0m \u001b[0mself\u001b[0m\u001b[0;34m.\u001b[0m\u001b[0mloc\u001b[0m\u001b[0;34m[\u001b[0m\u001b[0mkey\u001b[0m\u001b[0;34m]\u001b[0m\u001b[0;34m\u001b[0m\u001b[0;34m\u001b[0m\u001b[0m\n\u001b[0m\u001b[1;32m    947\u001b[0m \u001b[0;34m\u001b[0m\u001b[0m\n\u001b[1;32m    948\u001b[0m     \u001b[0;32mdef\u001b[0m \u001b[0m_get_values_tuple\u001b[0m\u001b[0;34m(\u001b[0m\u001b[0mself\u001b[0m\u001b[0;34m,\u001b[0m \u001b[0mkey\u001b[0m\u001b[0;34m)\u001b[0m\u001b[0;34m:\u001b[0m\u001b[0;34m\u001b[0m\u001b[0;34m\u001b[0m\u001b[0m\n",
      "\u001b[0;32m~/Documents/000_envs/fleck38/lib/python3.8/site-packages/pandas/core/indexing.py\u001b[0m in \u001b[0;36m__getitem__\u001b[0;34m(self, key)\u001b[0m\n\u001b[1;32m    877\u001b[0m \u001b[0;34m\u001b[0m\u001b[0m\n\u001b[1;32m    878\u001b[0m             \u001b[0mmaybe_callable\u001b[0m \u001b[0;34m=\u001b[0m \u001b[0mcom\u001b[0m\u001b[0;34m.\u001b[0m\u001b[0mapply_if_callable\u001b[0m\u001b[0;34m(\u001b[0m\u001b[0mkey\u001b[0m\u001b[0;34m,\u001b[0m \u001b[0mself\u001b[0m\u001b[0;34m.\u001b[0m\u001b[0mobj\u001b[0m\u001b[0;34m)\u001b[0m\u001b[0;34m\u001b[0m\u001b[0;34m\u001b[0m\u001b[0m\n\u001b[0;32m--> 879\u001b[0;31m             \u001b[0;32mreturn\u001b[0m \u001b[0mself\u001b[0m\u001b[0;34m.\u001b[0m\u001b[0m_getitem_axis\u001b[0m\u001b[0;34m(\u001b[0m\u001b[0mmaybe_callable\u001b[0m\u001b[0;34m,\u001b[0m \u001b[0maxis\u001b[0m\u001b[0;34m=\u001b[0m\u001b[0maxis\u001b[0m\u001b[0;34m)\u001b[0m\u001b[0;34m\u001b[0m\u001b[0;34m\u001b[0m\u001b[0m\n\u001b[0m\u001b[1;32m    880\u001b[0m \u001b[0;34m\u001b[0m\u001b[0m\n\u001b[1;32m    881\u001b[0m     \u001b[0;32mdef\u001b[0m \u001b[0m_is_scalar_access\u001b[0m\u001b[0;34m(\u001b[0m\u001b[0mself\u001b[0m\u001b[0;34m,\u001b[0m \u001b[0mkey\u001b[0m\u001b[0;34m:\u001b[0m \u001b[0mTuple\u001b[0m\u001b[0;34m)\u001b[0m\u001b[0;34m:\u001b[0m\u001b[0;34m\u001b[0m\u001b[0;34m\u001b[0m\u001b[0m\n",
      "\u001b[0;32m~/Documents/000_envs/fleck38/lib/python3.8/site-packages/pandas/core/indexing.py\u001b[0m in \u001b[0;36m_getitem_axis\u001b[0;34m(self, key, axis)\u001b[0m\n\u001b[1;32m   1097\u001b[0m                     \u001b[0;32mraise\u001b[0m \u001b[0mValueError\u001b[0m\u001b[0;34m(\u001b[0m\u001b[0;34m\"Cannot index with multidimensional key\"\u001b[0m\u001b[0;34m)\u001b[0m\u001b[0;34m\u001b[0m\u001b[0;34m\u001b[0m\u001b[0m\n\u001b[1;32m   1098\u001b[0m \u001b[0;34m\u001b[0m\u001b[0m\n\u001b[0;32m-> 1099\u001b[0;31m                 \u001b[0;32mreturn\u001b[0m \u001b[0mself\u001b[0m\u001b[0;34m.\u001b[0m\u001b[0m_getitem_iterable\u001b[0m\u001b[0;34m(\u001b[0m\u001b[0mkey\u001b[0m\u001b[0;34m,\u001b[0m \u001b[0maxis\u001b[0m\u001b[0;34m=\u001b[0m\u001b[0maxis\u001b[0m\u001b[0;34m)\u001b[0m\u001b[0;34m\u001b[0m\u001b[0;34m\u001b[0m\u001b[0m\n\u001b[0m\u001b[1;32m   1100\u001b[0m \u001b[0;34m\u001b[0m\u001b[0m\n\u001b[1;32m   1101\u001b[0m             \u001b[0;31m# nested tuple slicing\u001b[0m\u001b[0;34m\u001b[0m\u001b[0;34m\u001b[0m\u001b[0;34m\u001b[0m\u001b[0m\n",
      "\u001b[0;32m~/Documents/000_envs/fleck38/lib/python3.8/site-packages/pandas/core/indexing.py\u001b[0m in \u001b[0;36m_getitem_iterable\u001b[0;34m(self, key, axis)\u001b[0m\n\u001b[1;32m   1035\u001b[0m \u001b[0;34m\u001b[0m\u001b[0m\n\u001b[1;32m   1036\u001b[0m         \u001b[0;31m# A collection of keys\u001b[0m\u001b[0;34m\u001b[0m\u001b[0;34m\u001b[0m\u001b[0;34m\u001b[0m\u001b[0m\n\u001b[0;32m-> 1037\u001b[0;31m         \u001b[0mkeyarr\u001b[0m\u001b[0;34m,\u001b[0m \u001b[0mindexer\u001b[0m \u001b[0;34m=\u001b[0m \u001b[0mself\u001b[0m\u001b[0;34m.\u001b[0m\u001b[0m_get_listlike_indexer\u001b[0m\u001b[0;34m(\u001b[0m\u001b[0mkey\u001b[0m\u001b[0;34m,\u001b[0m \u001b[0maxis\u001b[0m\u001b[0;34m,\u001b[0m \u001b[0mraise_missing\u001b[0m\u001b[0;34m=\u001b[0m\u001b[0;32mFalse\u001b[0m\u001b[0;34m)\u001b[0m\u001b[0;34m\u001b[0m\u001b[0;34m\u001b[0m\u001b[0m\n\u001b[0m\u001b[1;32m   1038\u001b[0m         return self.obj._reindex_with_indexers(\n\u001b[1;32m   1039\u001b[0m             \u001b[0;34m{\u001b[0m\u001b[0maxis\u001b[0m\u001b[0;34m:\u001b[0m \u001b[0;34m[\u001b[0m\u001b[0mkeyarr\u001b[0m\u001b[0;34m,\u001b[0m \u001b[0mindexer\u001b[0m\u001b[0;34m]\u001b[0m\u001b[0;34m}\u001b[0m\u001b[0;34m,\u001b[0m \u001b[0mcopy\u001b[0m\u001b[0;34m=\u001b[0m\u001b[0;32mTrue\u001b[0m\u001b[0;34m,\u001b[0m \u001b[0mallow_dups\u001b[0m\u001b[0;34m=\u001b[0m\u001b[0;32mTrue\u001b[0m\u001b[0;34m\u001b[0m\u001b[0;34m\u001b[0m\u001b[0m\n",
      "\u001b[0;32m~/Documents/000_envs/fleck38/lib/python3.8/site-packages/pandas/core/indexing.py\u001b[0m in \u001b[0;36m_get_listlike_indexer\u001b[0;34m(self, key, axis, raise_missing)\u001b[0m\n\u001b[1;32m   1252\u001b[0m             \u001b[0mkeyarr\u001b[0m\u001b[0;34m,\u001b[0m \u001b[0mindexer\u001b[0m\u001b[0;34m,\u001b[0m \u001b[0mnew_indexer\u001b[0m \u001b[0;34m=\u001b[0m \u001b[0max\u001b[0m\u001b[0;34m.\u001b[0m\u001b[0m_reindex_non_unique\u001b[0m\u001b[0;34m(\u001b[0m\u001b[0mkeyarr\u001b[0m\u001b[0;34m)\u001b[0m\u001b[0;34m\u001b[0m\u001b[0;34m\u001b[0m\u001b[0m\n\u001b[1;32m   1253\u001b[0m \u001b[0;34m\u001b[0m\u001b[0m\n\u001b[0;32m-> 1254\u001b[0;31m         \u001b[0mself\u001b[0m\u001b[0;34m.\u001b[0m\u001b[0m_validate_read_indexer\u001b[0m\u001b[0;34m(\u001b[0m\u001b[0mkeyarr\u001b[0m\u001b[0;34m,\u001b[0m \u001b[0mindexer\u001b[0m\u001b[0;34m,\u001b[0m \u001b[0maxis\u001b[0m\u001b[0;34m,\u001b[0m \u001b[0mraise_missing\u001b[0m\u001b[0;34m=\u001b[0m\u001b[0mraise_missing\u001b[0m\u001b[0;34m)\u001b[0m\u001b[0;34m\u001b[0m\u001b[0;34m\u001b[0m\u001b[0m\n\u001b[0m\u001b[1;32m   1255\u001b[0m         \u001b[0;32mreturn\u001b[0m \u001b[0mkeyarr\u001b[0m\u001b[0;34m,\u001b[0m \u001b[0mindexer\u001b[0m\u001b[0;34m\u001b[0m\u001b[0;34m\u001b[0m\u001b[0m\n\u001b[1;32m   1256\u001b[0m \u001b[0;34m\u001b[0m\u001b[0m\n",
      "\u001b[0;32m~/Documents/000_envs/fleck38/lib/python3.8/site-packages/pandas/core/indexing.py\u001b[0m in \u001b[0;36m_validate_read_indexer\u001b[0;34m(self, key, indexer, axis, raise_missing)\u001b[0m\n\u001b[1;32m   1313\u001b[0m \u001b[0;34m\u001b[0m\u001b[0m\n\u001b[1;32m   1314\u001b[0m                 \u001b[0;32mwith\u001b[0m \u001b[0moption_context\u001b[0m\u001b[0;34m(\u001b[0m\u001b[0;34m\"display.max_seq_items\"\u001b[0m\u001b[0;34m,\u001b[0m \u001b[0;36m10\u001b[0m\u001b[0;34m,\u001b[0m \u001b[0;34m\"display.width\"\u001b[0m\u001b[0;34m,\u001b[0m \u001b[0;36m80\u001b[0m\u001b[0;34m)\u001b[0m\u001b[0;34m:\u001b[0m\u001b[0;34m\u001b[0m\u001b[0;34m\u001b[0m\u001b[0m\n\u001b[0;32m-> 1315\u001b[0;31m                     raise KeyError(\n\u001b[0m\u001b[1;32m   1316\u001b[0m                         \u001b[0;34m\"Passing list-likes to .loc or [] with any missing labels \"\u001b[0m\u001b[0;34m\u001b[0m\u001b[0;34m\u001b[0m\u001b[0m\n\u001b[1;32m   1317\u001b[0m                         \u001b[0;34m\"is no longer supported. \"\u001b[0m\u001b[0;34m\u001b[0m\u001b[0;34m\u001b[0m\u001b[0m\n",
      "\u001b[0;31mKeyError\u001b[0m: \"Passing list-likes to .loc or [] with any missing labels is no longer supported. The following labels were missing: Index(['pl_orbpererr'], dtype='object'). See https://pandas.pydata.org/pandas-docs/stable/user_guide/indexing.html#deprecate-loc-reindex-listlike\""
     ]
    }
   ],
   "source": [
    "def check_output(tminmax, TIC, separate, missions, per_and_errs):\n",
    "\n",
    "    system_string = (f\"System {TIC}:\\n\"\n",
    "                     f\"  tmin = {tminmax.loc[TIC, 'tstart_min']:.2f}\\n\"\n",
    "                     f\"  tmax = {tminmax.loc[TIC, 'tstart_max']:.2f}\\n\",\n",
    "                     f\"  missions = {missions}\\n\",\n",
    "                     f\"  periods = {per_and_errs}\\n\",)\n",
    "                    #  f\"  time span = {tminmax.loc[TIC, 'time_span_d']:.2f}\\n\")\n",
    "                    #  f\"  orbital_period = {o[\"pl_orbper\"]:.2f}\\n\"\"]}\"\n",
    "                    #  f\"  orbital_period_err1 = {o['pl_orbpererr1']:.2f}\\n\"\n",
    "                    #  f\"  orbital_period_err2 = {o['pl_orbpererr2']:.2f}\\n\"\n",
    "                    #  f\"  orbital_period_tess = {o['pl_orbper_tes']:.2f}\\n\"\n",
    "                    #  f\"  orbital_period_err1_tess = {o['pl_orbpererr1_tess']:.2f}\\n\"\n",
    "                    #  f\"  orbital_period_err2_tess = {o['pl_orbpererr2_tess']:.2f}\\n\")\n",
    "    # print a message if the orbital period is not finite\n",
    "    if ~np.isfinite(tminmax[\"orbper\"].values[0]):\n",
    "        print(f\"Orbital period not finite for TIC {row.TIC}\")\n",
    "        print(system_string)\n",
    "    # print a message if the orbital period error is not finite\n",
    "    if ~np.isfinite(tminmax[\"orbper_err\"]).values[0]:\n",
    "        print(f\"Orbital period error not finite for TIC {row.TIC}\")\n",
    "        print(system_string)\n",
    "\n",
    "\n",
    "\n",
    "# 2. ORBITAL PERIOD COHERENCE TIMES\n",
    "# This is a little more complicated because we sometimes have Kepler transit\n",
    "# midtimes only but TESS observations without TESS transit midtimes\n",
    "\n",
    "# Get orbital period of SPSs\n",
    "path = \"../data/2022_07_27_input_catalog_star_planet_systems.csv\"\n",
    "orbits = pd.read_csv(path)\n",
    "print(f\"Get get orbital periods and uncertainties from\\n{path}\\n\")\n",
    "\n",
    "# Init a coherence timescales table\n",
    "coherence_timescales_orbit = pd.DataFrame()\n",
    "\n",
    "# go through the SPSs table\n",
    "for i, row in df.iterrows():\n",
    "\n",
    "    # take the real flares for this TIC\n",
    "    f = flares[(flares[\"TIC\"]==row.TIC) & (flares[\"orbital_phase\"] != -1)]\n",
    "\n",
    "    # take the orbit\n",
    "    o = orbits[(orbits[\"TIC\"]==row.TIC)].iloc[0]\n",
    "\n",
    "    # If both transit midtimes for Kepler and TESS are present\n",
    "    if (np.isfinite(o.pl_tranmid)) & (np.isfinite(o.pl_tranmid_tess)):\n",
    "        separate = True\n",
    "    # Otherwise use the one available\n",
    "    else:\n",
    "        separate = False\n",
    "\n",
    "    # in which missions were flares observed?\n",
    "    missions = f.mission.unique()\n",
    "\n",
    "    # in how many missions were flares observed?\n",
    "    nmissions = missions.size\n",
    " \n",
    "    # If only one mission, pick the min and max flare times without \n",
    "    # grouping by mission\n",
    "    if nmissions == 1:\n",
    "\n",
    "        # no need to get absolute flare times, just get min and max\n",
    "        tmin = f.groupby(\"TIC\").tstart.min()\n",
    "        tmax = f.groupby(\"TIC\").tstart.max()\n",
    "\n",
    "        # merge the two values into one Series\n",
    "        tminmax = pd.merge(tmin, tmax, on=\"TIC\", suffixes=(\"_min\", \"_max\"))\n",
    "\n",
    "        # select the mission and get the orbital period and the error on the\n",
    "        # orbital period\n",
    "\n",
    "        # define coloumns with the orbital period and uncertainty to use\n",
    "        cols = [\"pl_orbper\",\"pl_orbpererr1\", \"pl_orbpererr2\"]\n",
    "\n",
    "        # if TESS ...\n",
    "        if missions[0] == \"TESS\":\n",
    "\n",
    "            # and TESS available use tess columns\n",
    "            available_cols = [x for x in cols if np.isfinite(o[f\"{x}_tess\"])]\n",
    "            \n",
    "            if len(available_cols) == 3:\n",
    "                cols = [f\"{x}_tess\" for x in cols]\n",
    "            # ... else use Kepler, that is, cols as given above    \n",
    "            \n",
    "\n",
    "        # add them to the Series\n",
    "        tminmax[\"orbper\"] = o[cols[0]]\n",
    "        tminmax[\"orbper_err\"] = (o[cols[1]] - o[cols[2]]) / 2.\n",
    "\n",
    "        check_output(tminmax, row.TIC, separate, missions, o[cols])\n",
    "\n",
    "    \n",
    "    # if there are multiple missions, pick the first and last flare times while\n",
    "    # grouping by mission if separate is True\n",
    "    elif nmissions == 2:\n",
    "        if separate:\n",
    "            tmin = f.groupby([\"mission\", \"TIC\"]).tstart.min()\n",
    "            tmax = f.groupby([\"mission\", \"TIC\"]).tstart.max()\n",
    "            tminmax = pd.merge(tmin, tmax, on=[\"mission\", \"TIC\"], suffixes=(\"_min\", \"_max\"))\n",
    "\n",
    "            # pick the Kepler orbital period for both missions\n",
    "            tminmax[\"orbper\"] = o.pl_orbper\n",
    "            tminmax[\"orbper_err\"] = (o.pl_orbpererr1 - o.pl_orbpererr2) / 2. \n",
    "        \n",
    "        # if separate is False, group by TIC only    \n",
    "        # because you have both missions present, but only\n",
    "        else:\n",
    "            tmin = f.groupby(\"TIC\").abs_tstart.min()\n",
    "            tmax = f.groupby(\"TIC\").abs_tstart.max()\n",
    "            tminmax = pd.merge(tmin, tmax, on=\"TIC\", suffixes=(\"_min\", \"_max\"))\n",
    "            tminmax = tminmax.rename(index=str, columns={\"abs_tstart_min\": \"tstart_min\", \n",
    "                                                         \"abs_tstart_max\": \"tstart_max\"})\n",
    "\n",
    "            # select the mission where tranmid time is from and get the orbital \n",
    "            # period and the error on the orbital period\n",
    "            if np.isfinite(o.pl_tranmid):\n",
    "                tminmax[\"orbper\"] = o.pl_orbper\n",
    "                tminmax[\"orbper_err\"] = (o.pl_orbpererr1 - o.pl_orbpererr2) / 2. \n",
    "            elif np.isfinite(o.pl_tranmid_tess):\n",
    "                tminmax[\"orbper\"] = o.pl_orbper_tess\n",
    "                tminmax[\"orbper_err\"] = (o.pl_orbpererr1_tess - o.pl_orbpererr2_tess) / 2.\n",
    "\n",
    "    # Calculate the time span covered by the flares\n",
    "    tminmax[\"timespan_d\"] = tminmax[\"tstart_max\"] - tminmax[\"tstart_min\"]\n",
    "\n",
    "    # Calculate the coherence time of the orbital period\n",
    "    g = lambda x: coherence_timescale(x.orbper, x.orbper_err)\n",
    "    tminmax[\"coherence_timescale_orbit_d\"] = tminmax.apply(g, axis=1)\n",
    "\n",
    "    # append tminmax to coherence_timescales_orbit\n",
    "    coherence_timescales_orbit = pd.concat([coherence_timescales_orbit, tminmax],\n",
    "                                            axis=0)\n",
    "\n"
   ]
  },
  {
   "cell_type": "code",
   "execution_count": 16,
   "metadata": {},
   "outputs": [],
   "source": [
    "coherence_timescales_orbit[\"coherence_ratio\"] = (coherence_timescales_orbit.timespan_d / \n",
    "                                                 coherence_timescales_orbit.coherence_timescale_orbit_d)"
   ]
  },
  {
   "cell_type": "code",
   "execution_count": 17,
   "metadata": {},
   "outputs": [
    {
     "data": {
      "image/png": "[encoded data removed]",
      "text/plain": [
       "<Figure size 432x288 with 1 Axes>"
      ]
     },
     "metadata": {
      "needs_background": "light"
     },
     "output_type": "display_data"
    }
   ],
   "source": [
    "plt.hist(coherence_timescales_orbit[\"coherence_ratio\"], bins=np.logspace(-6,-2,30))\n",
    "plt.xscale(\"log\")"
   ]
  },
  {
   "cell_type": "code",
   "execution_count": null,
   "metadata": {},
   "outputs": [],
   "source": []
  }
 ],
 "metadata": {
  "kernelspec": {
   "display_name": "Python 3.8.0 ('fleck38')",
   "language": "python",
   "name": "python3"
  },
  "language_info": {
   "codemirror_mode": {
    "name": "ipython",
    "version": 3
   },
   "file_extension": ".py",
   "mimetype": "text/x-python",
   "name": "python",
   "nbconvert_exporter": "python",
   "pygments_lexer": "ipython3",
   "version": "3.8.0"
  },
  "orig_nbformat": 4,
  "vscode": {
   "interpreter": {
    "hash": "239f151665663ac09b56fa8527c8dc94fe02ea8363d482306c95acce58e26dca"
   }
  }
 },
 "nbformat": 4,
 "nbformat_minor": 2
}
