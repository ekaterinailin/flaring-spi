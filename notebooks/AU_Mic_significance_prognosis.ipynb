{
 "cells": [
  {
   "cell_type": "code",
   "execution_count": 1,
   "metadata": {},
   "outputs": [],
   "source": [
    "from funcs.notebook import *\n",
    "\n",
    "import numpy as np\n",
    "import pandas as pd\n",
    "import pytest\n",
    "\n",
    "\n",
    "orbper =  8.463 # exoplanet.eu\n",
    "# critical KS statistic D for 99% confidence\n",
    "g001 = lambda x: 1.62762 / np.sqrt(x)\n",
    "# critical KS statistic D for 99.9% confidence\n",
    "g0001 = lambda x: 1.94947 / np.sqrt(x)"
   ]
  },
  {
   "cell_type": "code",
   "execution_count": 2,
   "metadata": {},
   "outputs": [],
   "source": [
    "# Get K-S test results\n",
    "res = pd.read_csv(\"../results/kstests.csv\")\n",
    "\n",
    "# Select only those where we study orbital \n",
    "# dependence on the total sample of flares\n",
    "res = res[(res.period==\"Orbit\") &\n",
    "          (res.subsample==\"total\")] \n",
    "\n",
    "# Get total observing time for each Sector out of the table\n",
    "d = res[[\"sector\",\"totobs_days\"]].iloc[1:]\n",
    "d = d.set_index(\"sector\").totobs_days.to_dict()\n",
    "\n",
    "# Get total number of flares for each Sector out of the table\n",
    "n = res[[\"sector\",\"nflares\"]].iloc[1:]\n",
    "n = n.set_index(\"sector\").nflares.to_dict()\n",
    "\n",
    "# Convert to baseline flare frequencies\n",
    "f1 = n[\"Sector 1\"] / d[\"Sector 1\"]\n",
    "f2 = n[\"Sector 27\"] / d[\"Sector 27\"]"
   ]
  },
  {
   "cell_type": "code",
   "execution_count": 3,
   "metadata": {},
   "outputs": [],
   "source": [
    "# How many flares do we need to observe\n",
    "# to get a significant result?\n",
    "# More than 0 but probably less than 30000?\n",
    "x = np.arange(0,30000)\n"
   ]
  },
  {
   "cell_type": "code",
   "execution_count": 4,
   "metadata": {},
   "outputs": [],
   "source": [
    "resul = {}\n",
    "\n",
    "# Cycle through all three analyses (Sectors 1, 27 and 1+27)\n",
    "for i, row in res.iterrows():\n",
    "    \n",
    "    # Get the number of flares we need \n",
    "    # to observe in total for a p=0.01 and p=0.001\n",
    "    N001 = np.argmin(np.abs(g001(x) - row.D))\n",
    "    N0001 = np.argmin(np.abs(g0001(x) - row.D))\n",
    "    \n",
    "    # How many flares are left after subtracting what have already seen?\n",
    "    dN001, dN0001 = N001 - row.nflares, N0001 - row.nflares\n",
    "    \n",
    "    # Calculate for how low we need to observe AU Mic\n",
    "    # at different cadences to get a significant detection\n",
    "    resul[row.sector] = {\"99%\" : {\"2 min\" : dN001 / f1, \n",
    "                                  \"20 s\" : dN001 / f2}, \n",
    "                         \"99.9%\" : {\"2 min\" : dN0001 / f1, \n",
    "                                    \"20 s\" : dN0001 / f2}}"
   ]
  },
  {
   "cell_type": "code",
   "execution_count": 5,
   "metadata": {},
   "outputs": [],
   "source": [
    "# Transform the dict to a table \n",
    "# to create a latex output for the paper\n",
    "reform = {(outerKey, innerKey): values for outerKey, \n",
    "          innerDict in resul.items() for innerKey, \n",
    "          values in innerDict.items()}\n",
    "\n",
    "prediction = pd.DataFrame(reform)"
   ]
  },
  {
   "cell_type": "code",
   "execution_count": 6,
   "metadata": {},
   "outputs": [
    {
     "name": "stdout",
     "output_type": "stream",
     "text": [
      "\\begin{tabular}{l|cccccc}\n",
      "\\hline\n",
      "\\hline & \\multicolumn{2}{l}{Both Sectors} & \\multicolumn{2}{l}{Sector 1} & \\multicolumn{2}{l}{Sector 27} \\\\\n",
      "\\hline &          99\\% &  99.9\\% &      99\\% & 99.9\\% &       99\\% &  99.9\\% \\\\\n",
      "\\hline\n",
      "2 min &         62.7 &  117.3 &     12.7 &  29.2 &      63.7 &  108.2 \\\\\n",
      "20 s  &         38.3 &   71.6 &      7.8 &  17.8 &      38.9 &   66.1 \\\\\n",
      "\\hline\n",
      "\n",
      "\\end{tabular}\n",
      "\n"
     ]
    }
   ],
   "source": [
    "\n",
    "stri = prediction.round(1).to_latex(index=True, escape=False, column_format=f\"l|ccccc\")\n",
    "stri = stri.replace(\"\\\\toprule\",\"\\hline\")\n",
    "stri = stri.replace(\"\\\\midrule\",\"\\hline\")\n",
    "stri = stri.replace(\"{}\",\"\\hline\")\n",
    "stri = stri.replace(\"\\\\bottomrule\",\"\\hline\\n\" )\n",
    "stri = stri.replace(\"%\",\"\\%\" )\n",
    "print(stri)"
   ]
  },
  {
   "cell_type": "code",
   "execution_count": 9,
   "metadata": {},
   "outputs": [],
   "source": [
    "with open(\"/home/ekaterina/Documents/002_writing/aumic-flaring-spi-draft/tables/prediction.tex\", \"w\") as f:\n",
    "    f.write(stri)"
   ]
  },
  {
   "cell_type": "code",
   "execution_count": 30,
   "metadata": {},
   "outputs": [
    {
     "data": {
      "text/plain": [
       "5.724810832337718"
      ]
     },
     "execution_count": 30,
     "metadata": {},
     "output_type": "execute_result"
    }
   ],
   "source": [
    "48.4490740740741 / orbper"
   ]
  },
  {
   "cell_type": "code",
   "execution_count": 7,
   "metadata": {},
   "outputs": [
    {
     "data": {
      "text/plain": [
       "13.860333215171925"
      ]
     },
     "execution_count": 7,
     "metadata": {},
     "output_type": "execute_result"
    }
   ],
   "source": [
    "117.3 / orbper"
   ]
  },
  {
   "cell_type": "code",
   "execution_count": 8,
   "metadata": {},
   "outputs": [
    {
     "data": {
      "text/plain": [
       "7.408720311946119"
      ]
     },
     "execution_count": 8,
     "metadata": {},
     "output_type": "execute_result"
    }
   ],
   "source": [
    "62.7 /orbper"
   ]
  },
  {
   "cell_type": "code",
   "execution_count": null,
   "metadata": {},
   "outputs": [],
   "source": []
  }
 ],
 "metadata": {
  "kernelspec": {
   "display_name": "forallpurposes",
   "language": "python",
   "name": "forallpurposes"
  },
  "language_info": {
   "codemirror_mode": {
    "name": "ipython",
    "version": 3
   },
   "file_extension": ".py",
   "mimetype": "text/x-python",
   "name": "python",
   "nbconvert_exporter": "python",
   "pygments_lexer": "ipython3",
   "version": "3.6.9"
  }
 },
 "nbformat": 4,
 "nbformat_minor": 2
}
