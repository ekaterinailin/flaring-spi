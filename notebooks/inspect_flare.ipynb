{
 "cells": [
  {
   "cell_type": "code",
   "execution_count": null,
   "metadata": {},
   "outputs": [],
   "source": [
    "from funcs.notebook import *\n",
    "\n",
    "from lightkurve import search_lightcurvefile\n",
    "from altaipony.lcio import from_mast\n",
    "from altaipony.flarelc import FlareLightCurve\n"
   ]
  },
  {
   "cell_type": "code",
   "execution_count": null,
   "metadata": {},
   "outputs": [],
   "source": [
    "ff = pd.read_csv(\"../results/2020_02_flares_vetted.csv\")\n",
    "ff = ff.drop([\"real?\",\"note\"], axis=1)\n",
    "f = ff.dropna().drop_duplicates(subset=[\"ID\", \"qcs\",\"istart\"])\n",
    "f"
   ]
  },
  {
   "cell_type": "code",
   "execution_count": null,
   "metadata": {},
   "outputs": [],
   "source": [
    "f.shape, ff.dropna().shape"
   ]
  },
  {
   "cell_type": "code",
   "execution_count": null,
   "metadata": {},
   "outputs": [],
   "source": [
    "gf = f[[\"ID\",\"qcs\",\"mission\",'tstamp']].drop_duplicates(subset=[\"ID\",\"qcs\",\"mission\"])"
   ]
  },
  {
   "cell_type": "code",
   "execution_count": null,
   "metadata": {},
   "outputs": [],
   "source": [
    "gf.shape"
   ]
  },
  {
   "cell_type": "code",
   "execution_count": null,
   "metadata": {
    "scrolled": false
   },
   "outputs": [],
   "source": [
    "row = gf.iloc[1296]\n",
    "\n",
    "# plot all flares for a light curve at once\n",
    "ID, qcs = row.ID, int(row.qcs)\n",
    "sdf = f[(f.qcs == qcs) & (f.ID == ID) & (f.mission == row.mission)]\n",
    "\n",
    "lc = from_mast(ID,c=qcs,mission=row.mission,cadence=\"short\",flux_type=\"PDCSAP_FLUX\",\n",
    "               download_dir=\"/home/ekaterina/Documents/001_science/lcs\")\n",
    "\n",
    "# make it a list of LCs even if only one LC is returned\n",
    "if type(lc) == FlareLightCurve:\n",
    "\n",
    "    lc = [lc]\n",
    "\n",
    "elif type(lc) == list:\n",
    "\n",
    "    lc = lc\n",
    "tts = np.array([(l.time[0], l.time[-1]) for l in lc])\n",
    "print(row.ID, row.qcs)"
   ]
  },
  {
   "cell_type": "code",
   "execution_count": null,
   "metadata": {
    "scrolled": false
   },
   "outputs": [],
   "source": [
    "%matplotlib inline\n",
    "for i, row in sdf.iloc[:].iterrows():\n",
    "    plt.figure(figsize=(17,5))\n",
    "    ts, tf = row.tstart, row.tstop\n",
    "    \n",
    "    # pick\n",
    "\n",
    "    if row.mission==\"TESS\":\n",
    "        LC = lc[0]\n",
    "        cad=.5\n",
    "    else:\n",
    "        nlc = np.where((ts>tts)[:,0] != (ts>tts)[:,1])[0][0]\n",
    "        LC = lc[nlc]\n",
    "        cad = 5.25\n",
    "    _ = LC[np.where((LC.time>=ts-.2/cad) & (LC.time<=tf+.2/cad))]\n",
    "    plt.plot(_.time, _.flux, c=\"k\")\n",
    "\n",
    "    _ = LC[np.where((LC.time>=ts-1e-8) & (LC.time<=tf+1e-8))]\n",
    "    plt.scatter(_.time, _.flux, c=\"r\")\n",
    "#     plt.ylim(18000,18500)"
   ]
  },
  {
   "cell_type": "code",
   "execution_count": null,
   "metadata": {},
   "outputs": [],
   "source": [
    "from lightkurve import search_targetpixelfile"
   ]
  },
  {
   "cell_type": "code",
   "execution_count": null,
   "metadata": {},
   "outputs": [],
   "source": [
    "tpf = search_targetpixelfile(ID,sector=qcs,mission=\"TESS\").download_all()"
   ]
  },
  {
   "cell_type": "code",
   "execution_count": null,
   "metadata": {},
   "outputs": [],
   "source": [
    "tpf"
   ]
  },
  {
   "cell_type": "code",
   "execution_count": null,
   "metadata": {},
   "outputs": [],
   "source": [
    "tpf[0].interact(notebook_url='localhost:8889')"
   ]
  },
  {
   "cell_type": "code",
   "execution_count": null,
   "metadata": {},
   "outputs": [],
   "source": [
    "lc[0].plot()\n",
    "# # # plt.scatter(lc[0].time, lc[0].flux)\n",
    "# plt.xlim(1323,1323.3)\n",
    "# plt.ylim(17000,18000);"
   ]
  },
  {
   "cell_type": "code",
   "execution_count": null,
   "metadata": {},
   "outputs": [],
   "source": [
    "2e-3 * 60 * 24"
   ]
  },
  {
   "cell_type": "code",
   "execution_count": null,
   "metadata": {},
   "outputs": [],
   "source": [
    "ff = pd.read_csv(\"../results/2020_02_flares_vetted.csv\")\n"
   ]
  },
  {
   "cell_type": "code",
   "execution_count": null,
   "metadata": {},
   "outputs": [],
   "source": [
    "_t =1576.37151889061\n",
    "\n",
    "\n",
    "\n",
    "\n",
    "select = (ff.tstart > _t - 1e-3) & (ff.tstart < _t + 1e-3)"
   ]
  },
  {
   "cell_type": "code",
   "execution_count": null,
   "metadata": {},
   "outputs": [],
   "source": [
    "ff[select].groupby(\"note\").count()"
   ]
  },
  {
   "cell_type": "code",
   "execution_count": null,
   "metadata": {},
   "outputs": [],
   "source": [
    "ff[select].shape"
   ]
  },
  {
   "cell_type": "code",
   "execution_count": null,
   "metadata": {
    "scrolled": true
   },
   "outputs": [],
   "source": [
    "ff.loc[select, \"note\"] = \"simultaneous FP in multiple Lcs\""
   ]
  },
  {
   "cell_type": "code",
   "execution_count": null,
   "metadata": {},
   "outputs": [],
   "source": [
    "ff.loc[select].groupby(\"note\").count()"
   ]
  },
  {
   "cell_type": "code",
   "execution_count": null,
   "metadata": {},
   "outputs": [],
   "source": [
    "ff.shape"
   ]
  },
  {
   "cell_type": "code",
   "execution_count": null,
   "metadata": {},
   "outputs": [],
   "source": [
    "ff.to_csv(\"../results/2020_02_flares_vetted.csv\", index=False)"
   ]
  },
  {
   "cell_type": "code",
   "execution_count": null,
   "metadata": {},
   "outputs": [],
   "source": []
  },
  {
   "cell_type": "code",
   "execution_count": null,
   "metadata": {},
   "outputs": [],
   "source": []
  }
 ],
 "metadata": {
  "kernelspec": {
   "display_name": "forallpurposes",
   "language": "python",
   "name": "forallpurposes"
  },
  "language_info": {
   "codemirror_mode": {
    "name": "ipython",
    "version": 3
   },
   "file_extension": ".py",
   "mimetype": "text/x-python",
   "name": "python",
   "nbconvert_exporter": "python",
   "pygments_lexer": "ipython3",
   "version": "3.6.9"
  }
 },
 "nbformat": 4,
 "nbformat_minor": 2
}
