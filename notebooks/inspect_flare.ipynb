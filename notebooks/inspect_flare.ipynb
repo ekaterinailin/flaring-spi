{
 "cells": [
  {
   "cell_type": "code",
   "execution_count": 1,
   "metadata": {},
   "outputs": [
    {
     "name": "stderr",
     "output_type": "stream",
     "text": [
      "/home/ekaterina/Documents/000_envs/forallpurposes/lib/python3.6/importlib/_bootstrap.py:219: RuntimeWarning: numpy.ufunc size changed, may indicate binary incompatibility. Expected 192 from C header, got 216 from PyObject\n",
      "  return f(*args, **kwds)\n"
     ]
    }
   ],
   "source": [
    "from funcs.notebook import *\n",
    "\n",
    "from lightkurve import search_lightcurvefile\n",
    "from altaipony.lcio import from_mast\n",
    "from altaipony.flarelc import FlareLightCurve\n"
   ]
  },
  {
   "cell_type": "code",
   "execution_count": 2,
   "metadata": {},
   "outputs": [
    {
     "name": "stderr",
     "output_type": "stream",
     "text": [
      "NumExpr defaulting to 8 threads.\n"
     ]
    },
    {
     "data": {
      "text/html": [
       "<div>\n",
       "<style scoped>\n",
       "    .dataframe tbody tr th:only-of-type {\n",
       "        vertical-align: middle;\n",
       "    }\n",
       "\n",
       "    .dataframe tbody tr th {\n",
       "        vertical-align: top;\n",
       "    }\n",
       "\n",
       "    .dataframe thead th {\n",
       "        text-align: right;\n",
       "    }\n",
       "</style>\n",
       "<table border=\"1\" class=\"dataframe\">\n",
       "  <thead>\n",
       "    <tr style=\"text-align: right;\">\n",
       "      <th></th>\n",
       "      <th>istart</th>\n",
       "      <th>istop</th>\n",
       "      <th>cstart</th>\n",
       "      <th>cstop</th>\n",
       "      <th>tstart</th>\n",
       "      <th>tstop</th>\n",
       "      <th>ed_rec</th>\n",
       "      <th>ed_rec_err</th>\n",
       "      <th>ampl_rec</th>\n",
       "      <th>dur</th>\n",
       "      <th>total_n_valid_data_points</th>\n",
       "      <th>ID</th>\n",
       "      <th>qcs</th>\n",
       "      <th>mission</th>\n",
       "      <th>tstamp</th>\n",
       "      <th>dur_detrend</th>\n",
       "      <th>lc_n</th>\n",
       "    </tr>\n",
       "  </thead>\n",
       "  <tbody>\n",
       "    <tr>\n",
       "      <th>8</th>\n",
       "      <td>8318.0</td>\n",
       "      <td>8323.0</td>\n",
       "      <td>257978.0</td>\n",
       "      <td>257983.0</td>\n",
       "      <td>1585.761463</td>\n",
       "      <td>1585.768408</td>\n",
       "      <td>6.663345</td>\n",
       "      <td>0.543845</td>\n",
       "      <td>0.016775</td>\n",
       "      <td>0.006944</td>\n",
       "      <td>15290</td>\n",
       "      <td>GJ 1132</td>\n",
       "      <td>10</td>\n",
       "      <td>TESS</td>\n",
       "      <td>04_02_2021_12_55_04</td>\n",
       "      <td>5.070231</td>\n",
       "      <td>0</td>\n",
       "    </tr>\n",
       "    <tr>\n",
       "      <th>13</th>\n",
       "      <td>61073.0</td>\n",
       "      <td>61085.0</td>\n",
       "      <td>3678347.0</td>\n",
       "      <td>3678359.0</td>\n",
       "      <td>2078.925187</td>\n",
       "      <td>2078.927965</td>\n",
       "      <td>0.754213</td>\n",
       "      <td>0.042297</td>\n",
       "      <td>0.003964</td>\n",
       "      <td>0.002778</td>\n",
       "      <td>89725</td>\n",
       "      <td>GJ 143</td>\n",
       "      <td>28</td>\n",
       "      <td>TESS</td>\n",
       "      <td>05_02_2021_10_30_00</td>\n",
       "      <td>56.600531</td>\n",
       "      <td>0</td>\n",
       "    </tr>\n",
       "    <tr>\n",
       "      <th>23</th>\n",
       "      <td>9188.0</td>\n",
       "      <td>9191.0</td>\n",
       "      <td>496458.0</td>\n",
       "      <td>496461.0</td>\n",
       "      <td>1916.985504</td>\n",
       "      <td>1916.989671</td>\n",
       "      <td>0.668132</td>\n",
       "      <td>0.099933</td>\n",
       "      <td>0.002017</td>\n",
       "      <td>0.004167</td>\n",
       "      <td>15881</td>\n",
       "      <td>GJ 436</td>\n",
       "      <td>22</td>\n",
       "      <td>TESS</td>\n",
       "      <td>04_02_2021_13_19_56</td>\n",
       "      <td>6.225650</td>\n",
       "      <td>0</td>\n",
       "    </tr>\n",
       "    <tr>\n",
       "      <th>50</th>\n",
       "      <td>17317.0</td>\n",
       "      <td>17328.0</td>\n",
       "      <td>90451.0</td>\n",
       "      <td>90462.0</td>\n",
       "      <td>1353.087227</td>\n",
       "      <td>1353.102504</td>\n",
       "      <td>19.307381</td>\n",
       "      <td>1.226647</td>\n",
       "      <td>0.023652</td>\n",
       "      <td>0.015277</td>\n",
       "      <td>17376</td>\n",
       "      <td>HATS-14</td>\n",
       "      <td>1</td>\n",
       "      <td>TESS</td>\n",
       "      <td>04_02_2021_11_45_42</td>\n",
       "      <td>2.848574</td>\n",
       "      <td>0</td>\n",
       "    </tr>\n",
       "    <tr>\n",
       "      <th>80</th>\n",
       "      <td>17559.0</td>\n",
       "      <td>17563.0</td>\n",
       "      <td>170476.0</td>\n",
       "      <td>170480.0</td>\n",
       "      <td>1464.231243</td>\n",
       "      <td>1464.236798</td>\n",
       "      <td>24.828945</td>\n",
       "      <td>3.410916</td>\n",
       "      <td>0.065594</td>\n",
       "      <td>0.005556</td>\n",
       "      <td>17591</td>\n",
       "      <td>HATS-44</td>\n",
       "      <td>5</td>\n",
       "      <td>TESS</td>\n",
       "      <td>04_02_2021_11_50_21</td>\n",
       "      <td>4.947662</td>\n",
       "      <td>0</td>\n",
       "    </tr>\n",
       "    <tr>\n",
       "      <th>...</th>\n",
       "      <td>...</td>\n",
       "      <td>...</td>\n",
       "      <td>...</td>\n",
       "      <td>...</td>\n",
       "      <td>...</td>\n",
       "      <td>...</td>\n",
       "      <td>...</td>\n",
       "      <td>...</td>\n",
       "      <td>...</td>\n",
       "      <td>...</td>\n",
       "      <td>...</td>\n",
       "      <td>...</td>\n",
       "      <td>...</td>\n",
       "      <td>...</td>\n",
       "      <td>...</td>\n",
       "      <td>...</td>\n",
       "      <td>...</td>\n",
       "    </tr>\n",
       "    <tr>\n",
       "      <th>12398</th>\n",
       "      <td>17631.0</td>\n",
       "      <td>17634.0</td>\n",
       "      <td>170339.0</td>\n",
       "      <td>170342.0</td>\n",
       "      <td>1464.038803</td>\n",
       "      <td>1464.042969</td>\n",
       "      <td>7.414745</td>\n",
       "      <td>1.047438</td>\n",
       "      <td>0.027657</td>\n",
       "      <td>0.004167</td>\n",
       "      <td>17738</td>\n",
       "      <td>TIC 219175972</td>\n",
       "      <td>5</td>\n",
       "      <td>TESS</td>\n",
       "      <td>25_02_2021_12_49_57</td>\n",
       "      <td>4.987033</td>\n",
       "      <td>0</td>\n",
       "    </tr>\n",
       "    <tr>\n",
       "      <th>12431</th>\n",
       "      <td>19019.0</td>\n",
       "      <td>19022.0</td>\n",
       "      <td>3624034.0</td>\n",
       "      <td>3624037.0</td>\n",
       "      <td>2066.354993</td>\n",
       "      <td>2066.355688</td>\n",
       "      <td>3.248465</td>\n",
       "      <td>0.050730</td>\n",
       "      <td>0.135728</td>\n",
       "      <td>0.000694</td>\n",
       "      <td>62134</td>\n",
       "      <td>TIC 219338557</td>\n",
       "      <td>28</td>\n",
       "      <td>TESS</td>\n",
       "      <td>25_02_2021_13_01_49</td>\n",
       "      <td>34.072365</td>\n",
       "      <td>0</td>\n",
       "    </tr>\n",
       "    <tr>\n",
       "      <th>12453</th>\n",
       "      <td>84582.0</td>\n",
       "      <td>84585.0</td>\n",
       "      <td>3590729.0</td>\n",
       "      <td>3590732.0</td>\n",
       "      <td>2058.641240</td>\n",
       "      <td>2058.641934</td>\n",
       "      <td>1.133798</td>\n",
       "      <td>0.060072</td>\n",
       "      <td>0.023016</td>\n",
       "      <td>0.000694</td>\n",
       "      <td>92039</td>\n",
       "      <td>TIC 219401954</td>\n",
       "      <td>27</td>\n",
       "      <td>TESS</td>\n",
       "      <td>25_02_2021_13_09_25</td>\n",
       "      <td>61.972733</td>\n",
       "      <td>0</td>\n",
       "    </tr>\n",
       "    <tr>\n",
       "      <th>12465</th>\n",
       "      <td>1412.0</td>\n",
       "      <td>1415.0</td>\n",
       "      <td>329689.0</td>\n",
       "      <td>329692.0</td>\n",
       "      <td>1685.354720</td>\n",
       "      <td>1685.358887</td>\n",
       "      <td>1.397102</td>\n",
       "      <td>0.222182</td>\n",
       "      <td>0.004605</td>\n",
       "      <td>0.004167</td>\n",
       "      <td>18424</td>\n",
       "      <td>TIC 219466784</td>\n",
       "      <td>14</td>\n",
       "      <td>TESS</td>\n",
       "      <td>25_02_2021_13_14_02</td>\n",
       "      <td>4.062325</td>\n",
       "      <td>0</td>\n",
       "    </tr>\n",
       "    <tr>\n",
       "      <th>12485</th>\n",
       "      <td>17109.0</td>\n",
       "      <td>17128.0</td>\n",
       "      <td>461711.0</td>\n",
       "      <td>461730.0</td>\n",
       "      <td>1868.720193</td>\n",
       "      <td>1868.746582</td>\n",
       "      <td>7.150398</td>\n",
       "      <td>0.376486</td>\n",
       "      <td>0.004623</td>\n",
       "      <td>0.026389</td>\n",
       "      <td>17183</td>\n",
       "      <td>TIC 219776325</td>\n",
       "      <td>20</td>\n",
       "      <td>TESS</td>\n",
       "      <td>25_02_2021_13_20_59</td>\n",
       "      <td>4.939944</td>\n",
       "      <td>0</td>\n",
       "    </tr>\n",
       "  </tbody>\n",
       "</table>\n",
       "<p>3967 rows × 17 columns</p>\n",
       "</div>"
      ],
      "text/plain": [
       "        istart    istop     cstart      cstop       tstart        tstop  \\\n",
       "8       8318.0   8323.0   257978.0   257983.0  1585.761463  1585.768408   \n",
       "13     61073.0  61085.0  3678347.0  3678359.0  2078.925187  2078.927965   \n",
       "23      9188.0   9191.0   496458.0   496461.0  1916.985504  1916.989671   \n",
       "50     17317.0  17328.0    90451.0    90462.0  1353.087227  1353.102504   \n",
       "80     17559.0  17563.0   170476.0   170480.0  1464.231243  1464.236798   \n",
       "...        ...      ...        ...        ...          ...          ...   \n",
       "12398  17631.0  17634.0   170339.0   170342.0  1464.038803  1464.042969   \n",
       "12431  19019.0  19022.0  3624034.0  3624037.0  2066.354993  2066.355688   \n",
       "12453  84582.0  84585.0  3590729.0  3590732.0  2058.641240  2058.641934   \n",
       "12465   1412.0   1415.0   329689.0   329692.0  1685.354720  1685.358887   \n",
       "12485  17109.0  17128.0   461711.0   461730.0  1868.720193  1868.746582   \n",
       "\n",
       "          ed_rec  ed_rec_err  ampl_rec       dur  total_n_valid_data_points  \\\n",
       "8       6.663345    0.543845  0.016775  0.006944                      15290   \n",
       "13      0.754213    0.042297  0.003964  0.002778                      89725   \n",
       "23      0.668132    0.099933  0.002017  0.004167                      15881   \n",
       "50     19.307381    1.226647  0.023652  0.015277                      17376   \n",
       "80     24.828945    3.410916  0.065594  0.005556                      17591   \n",
       "...          ...         ...       ...       ...                        ...   \n",
       "12398   7.414745    1.047438  0.027657  0.004167                      17738   \n",
       "12431   3.248465    0.050730  0.135728  0.000694                      62134   \n",
       "12453   1.133798    0.060072  0.023016  0.000694                      92039   \n",
       "12465   1.397102    0.222182  0.004605  0.004167                      18424   \n",
       "12485   7.150398    0.376486  0.004623  0.026389                      17183   \n",
       "\n",
       "                  ID  qcs mission               tstamp  dur_detrend  lc_n  \n",
       "8            GJ 1132   10    TESS  04_02_2021_12_55_04     5.070231     0  \n",
       "13            GJ 143   28    TESS  05_02_2021_10_30_00    56.600531     0  \n",
       "23            GJ 436   22    TESS  04_02_2021_13_19_56     6.225650     0  \n",
       "50           HATS-14    1    TESS  04_02_2021_11_45_42     2.848574     0  \n",
       "80           HATS-44    5    TESS  04_02_2021_11_50_21     4.947662     0  \n",
       "...              ...  ...     ...                  ...          ...   ...  \n",
       "12398  TIC 219175972    5    TESS  25_02_2021_12_49_57     4.987033     0  \n",
       "12431  TIC 219338557   28    TESS  25_02_2021_13_01_49    34.072365     0  \n",
       "12453  TIC 219401954   27    TESS  25_02_2021_13_09_25    61.972733     0  \n",
       "12465  TIC 219466784   14    TESS  25_02_2021_13_14_02     4.062325     0  \n",
       "12485  TIC 219776325   20    TESS  25_02_2021_13_20_59     4.939944     0  \n",
       "\n",
       "[3967 rows x 17 columns]"
      ]
     },
     "execution_count": 2,
     "metadata": {},
     "output_type": "execute_result"
    }
   ],
   "source": [
    "ff = pd.read_csv(\"../results/2020_02_flares_vetted.csv\")\n",
    "ff = ff.drop([\"real?\",\"note\"], axis=1)\n",
    "f = ff.dropna().drop_duplicates(subset=[\"ID\", \"qcs\",\"istart\"])\n",
    "f"
   ]
  },
  {
   "cell_type": "code",
   "execution_count": 3,
   "metadata": {},
   "outputs": [
    {
     "data": {
      "text/plain": [
       "((3967, 17), (4005, 17))"
      ]
     },
     "execution_count": 3,
     "metadata": {},
     "output_type": "execute_result"
    }
   ],
   "source": [
    "f.shape, ff.dropna().shape"
   ]
  },
  {
   "cell_type": "code",
   "execution_count": 4,
   "metadata": {},
   "outputs": [],
   "source": [
    "gf = f[[\"ID\",\"qcs\",\"mission\",'tstamp']].drop_duplicates(subset=[\"ID\",\"qcs\",\"mission\"])"
   ]
  },
  {
   "cell_type": "code",
   "execution_count": 5,
   "metadata": {},
   "outputs": [
    {
     "data": {
      "text/plain": [
       "(1523, 4)"
      ]
     },
     "execution_count": 5,
     "metadata": {},
     "output_type": "execute_result"
    }
   ],
   "source": [
    "gf.shape"
   ]
  },
  {
   "cell_type": "code",
   "execution_count": 302,
   "metadata": {
    "scrolled": true
   },
   "outputs": [
    {
     "name": "stderr",
     "output_type": "stream",
     "text": [
      "Found cached file /home/ekaterina/Documents/001_science/lcs/mastDownload/TESS/tess2020212050318-s0028-0000000219338557-0190-a_fast/tess2020212050318-s0028-0000000219338557-0190-a_fast-lc.fits with expected size 10941120.\n",
      "5% (5291/109095) of the cadences will be ignored due to the quality mask (quality_bitmask=175).\n",
      "5% (5291/109095) of the cadences will be ignored due to the quality mask (quality_bitmask=175).\n",
      "Found cached file /home/ekaterina/Documents/001_science/lcs/mastDownload/TESS/tess2020212050318-s0028-0000000219338557-0190-s/tess2020212050318-s0028-0000000219338557-0190-s_lc.fits with expected size 1848960.\n",
      "5% (897/18182) of the cadences will be ignored due to the quality mask (quality_bitmask=175).\n",
      "5% (897/18182) of the cadences will be ignored due to the quality mask (quality_bitmask=175).\n"
     ]
    },
    {
     "name": "stdout",
     "output_type": "stream",
     "text": [
      "TIC 219338557 28\n"
     ]
    },
    {
     "name": "stderr",
     "output_type": "stream",
     "text": [
      "/home/ekaterina/Documents/000_envs/forallpurposes/lib/python3.6/site-packages/altaipony/lcio.py:114: ResourceWarning: unclosed file <_io.FileIO name='/home/ekaterina/Documents/001_science/lcs/mastDownload/TESS/tess2020212050318-s0028-0000000219338557-0190-s/tess2020212050318-s0028-0000000219338557-0190-s_lc.fits' mode='rb' closefd=True>\n",
      "  c)\n",
      "/home/ekaterina/Documents/000_envs/forallpurposes/lib/python3.6/site-packages/altaipony/lcio.py:114: ResourceWarning: unclosed file <_io.FileIO name='/home/ekaterina/Documents/001_science/lcs/mastDownload/TESS/tess2020212050318-s0028-0000000219338557-0190-a_fast/tess2020212050318-s0028-0000000219338557-0190-a_fast-lc.fits' mode='rb' closefd=True>\n",
      "  c)\n"
     ]
    }
   ],
   "source": [
    "row = gf.iloc[1519]\n",
    "\n",
    "# plot all flares for a light curve at once\n",
    "ID, qcs = row.ID, int(row.qcs)\n",
    "sdf = f[(f.qcs == qcs) & (f.ID == ID) & (f.mission == row.mission)]\n",
    "\n",
    "lc = from_mast(ID,c=qcs,mission=row.mission,cadence=\"short\",flux_type=\"PDCSAP_FLUX\",\n",
    "               download_dir=\"/home/ekaterina/Documents/001_science/lcs\")\n",
    "\n",
    "# make it a list of LCs even if only one LC is returned\n",
    "if type(lc) == FlareLightCurve:\n",
    "\n",
    "    lc = [lc]\n",
    "\n",
    "elif type(lc) == list:\n",
    "\n",
    "    lc = lc\n",
    "tts = np.array([(l.time[0], l.time[-1]) for l in lc])\n",
    "print(row.ID, row.qcs)"
   ]
  },
  {
   "cell_type": "code",
   "execution_count": 304,
   "metadata": {
    "scrolled": false
   },
   "outputs": [
    {
     "data": {
      "image/png": "[encoded data removed]",
      "text/plain": [
       "<Figure size 1224x360 with 1 Axes>"
      ]
     },
     "metadata": {
      "needs_background": "light"
     },
     "output_type": "display_data"
    }
   ],
   "source": [
    "%matplotlib inline\n",
    "for i, row in sdf.iloc[:].iterrows():\n",
    "    plt.figure(figsize=(17,5))\n",
    "    ts, tf = row.tstart, row.tstop\n",
    "    \n",
    "    # pick\n",
    "\n",
    "    if row.mission==\"TESS\":\n",
    "        LC = lc[0]\n",
    "        cad=4.5\n",
    "    else:\n",
    "        nlc = np.where((ts>tts)[:,0] != (ts>tts)[:,1])[0][0]\n",
    "        LC = lc[nlc]\n",
    "        cad = 5.25\n",
    "    _ = LC[np.where((LC.time>=ts-.2/cad) & (LC.time<=tf+.2/cad))]\n",
    "    plt.plot(_.time, _.flux, c=\"k\")\n",
    "\n",
    "    _ = LC[np.where((LC.time>=ts-1e-8) & (LC.time<=tf+1e-8))]\n",
    "    plt.scatter(_.time, _.flux, c=\"r\")\n",
    "    plt.xlim(ts-.2/cad, ts+.2/cad)\n",
    "#     plt.xlabel(\"time [BTJD - 2457000 days]\", fontsize=14)\n",
    "#     plt.ylabel(r\"flux [e$^-$ s$^{-1}$]\", fontsize=14)\n",
    "#     plt.savefig(\"../results/random/SSO_signature_K2_208_s30.png\", dpi=300)"
   ]
  },
  {
   "cell_type": "code",
   "execution_count": 253,
   "metadata": {},
   "outputs": [],
   "source": [
    "from lightkurve import search_targetpixelfile"
   ]
  },
  {
   "cell_type": "code",
   "execution_count": 254,
   "metadata": {},
   "outputs": [
    {
     "name": "stderr",
     "output_type": "stream",
     "text": [
      "7% (1250/17612) of the cadences will be ignored due to the quality mask (quality_bitmask=175).\n",
      "7% (1250/17612) of the cadences will be ignored due to the quality mask (quality_bitmask=175).\n"
     ]
    }
   ],
   "source": [
    "tpf = search_targetpixelfile(ID,sector=qcs,mission=\"TESS\").download_all()"
   ]
  },
  {
   "cell_type": "code",
   "execution_count": 255,
   "metadata": {},
   "outputs": [
    {
     "data": {
      "text/plain": [
       "TargetPixelFileCollection of 1 objects:\n",
       "\t186812530 (1 TessTargetPixelFiles) Sectors: 7"
      ]
     },
     "execution_count": 255,
     "metadata": {},
     "output_type": "execute_result"
    }
   ],
   "source": [
    "tpf"
   ]
  },
  {
   "cell_type": "code",
   "execution_count": 256,
   "metadata": {},
   "outputs": [
    {
     "data": {
      "application/javascript": [
       "\n",
       "(function(root) {\n",
       "  function now() {\n",
       "    return new Date();\n",
       "  }\n",
       "\n",
       "  var force = true;\n",
       "\n",
       "  if (typeof root._bokeh_onload_callbacks === \"undefined\" || force === true) {\n",
       "    root._bokeh_onload_callbacks = [];\n",
       "    root._bokeh_is_loading = undefined;\n",
       "  }\n",
       "\n",
       "  var JS_MIME_TYPE = 'application/javascript';\n",
       "  var HTML_MIME_TYPE = 'text/html';\n",
       "  var EXEC_MIME_TYPE = 'application/vnd.bokehjs_exec.v0+json';\n",
       "  var CLASS_NAME = 'output_bokeh rendered_html';\n",
       "\n",
       "  /**\n",
       "   * Render data to the DOM node\n",
       "   */\n",
       "  function render(props, node) {\n",
       "    var script = document.createElement(\"script\");\n",
       "    node.appendChild(script);\n",
       "  }\n",
       "\n",
       "  /**\n",
       "   * Handle when an output is cleared or removed\n",
       "   */\n",
       "  function handleClearOutput(event, handle) {\n",
       "    var cell = handle.cell;\n",
       "\n",
       "    var id = cell.output_area._bokeh_element_id;\n",
       "    var server_id = cell.output_area._bokeh_server_id;\n",
       "    // Clean up Bokeh references\n",
       "    if (id != null && id in Bokeh.index) {\n",
       "      Bokeh.index[id].model.document.clear();\n",
       "      delete Bokeh.index[id];\n",
       "    }\n",
       "\n",
       "    if (server_id !== undefined) {\n",
       "      // Clean up Bokeh references\n",
       "      var cmd = \"from bokeh.io.state import curstate; print(curstate().uuid_to_server['\" + server_id + \"'].get_sessions()[0].document.roots[0]._id)\";\n",
       "      cell.notebook.kernel.execute(cmd, {\n",
       "        iopub: {\n",
       "          output: function(msg) {\n",
       "            var id = msg.content.text.trim();\n",
       "            if (id in Bokeh.index) {\n",
       "              Bokeh.index[id].model.document.clear();\n",
       "              delete Bokeh.index[id];\n",
       "            }\n",
       "          }\n",
       "        }\n",
       "      });\n",
       "      // Destroy server and session\n",
       "      var cmd = \"import bokeh.io.notebook as ion; ion.destroy_server('\" + server_id + \"')\";\n",
       "      cell.notebook.kernel.execute(cmd);\n",
       "    }\n",
       "  }\n",
       "\n",
       "  /**\n",
       "   * Handle when a new output is added\n",
       "   */\n",
       "  function handleAddOutput(event, handle) {\n",
       "    var output_area = handle.output_area;\n",
       "    var output = handle.output;\n",
       "\n",
       "    // limit handleAddOutput to display_data with EXEC_MIME_TYPE content only\n",
       "    if ((output.output_type != \"display_data\") || (!output.data.hasOwnProperty(EXEC_MIME_TYPE))) {\n",
       "      return\n",
       "    }\n",
       "\n",
       "    var toinsert = output_area.element.find(\".\" + CLASS_NAME.split(' ')[0]);\n",
       "\n",
       "    if (output.metadata[EXEC_MIME_TYPE][\"id\"] !== undefined) {\n",
       "      toinsert[toinsert.length - 1].firstChild.textContent = output.data[JS_MIME_TYPE];\n",
       "      // store reference to embed id on output_area\n",
       "      output_area._bokeh_element_id = output.metadata[EXEC_MIME_TYPE][\"id\"];\n",
       "    }\n",
       "    if (output.metadata[EXEC_MIME_TYPE][\"server_id\"] !== undefined) {\n",
       "      var bk_div = document.createElement(\"div\");\n",
       "      bk_div.innerHTML = output.data[HTML_MIME_TYPE];\n",
       "      var script_attrs = bk_div.children[0].attributes;\n",
       "      for (var i = 0; i < script_attrs.length; i++) {\n",
       "        toinsert[toinsert.length - 1].firstChild.setAttribute(script_attrs[i].name, script_attrs[i].value);\n",
       "        toinsert[toinsert.length - 1].firstChild.textContent = bk_div.children[0].textContent\n",
       "      }\n",
       "      // store reference to server id on output_area\n",
       "      output_area._bokeh_server_id = output.metadata[EXEC_MIME_TYPE][\"server_id\"];\n",
       "    }\n",
       "  }\n",
       "\n",
       "  function register_renderer(events, OutputArea) {\n",
       "\n",
       "    function append_mime(data, metadata, element) {\n",
       "      // create a DOM node to render to\n",
       "      var toinsert = this.create_output_subarea(\n",
       "        metadata,\n",
       "        CLASS_NAME,\n",
       "        EXEC_MIME_TYPE\n",
       "      );\n",
       "      this.keyboard_manager.register_events(toinsert);\n",
       "      // Render to node\n",
       "      var props = {data: data, metadata: metadata[EXEC_MIME_TYPE]};\n",
       "      render(props, toinsert[toinsert.length - 1]);\n",
       "      element.append(toinsert);\n",
       "      return toinsert\n",
       "    }\n",
       "\n",
       "    /* Handle when an output is cleared or removed */\n",
       "    events.on('clear_output.CodeCell', handleClearOutput);\n",
       "    events.on('delete.Cell', handleClearOutput);\n",
       "\n",
       "    /* Handle when a new output is added */\n",
       "    events.on('output_added.OutputArea', handleAddOutput);\n",
       "\n",
       "    /**\n",
       "     * Register the mime type and append_mime function with output_area\n",
       "     */\n",
       "    OutputArea.prototype.register_mime_type(EXEC_MIME_TYPE, append_mime, {\n",
       "      /* Is output safe? */\n",
       "      safe: true,\n",
       "      /* Index of renderer in `output_area.display_order` */\n",
       "      index: 0\n",
       "    });\n",
       "  }\n",
       "\n",
       "  // register the mime type if in Jupyter Notebook environment and previously unregistered\n",
       "  if (root.Jupyter !== undefined) {\n",
       "    var events = require('base/js/events');\n",
       "    var OutputArea = require('notebook/js/outputarea').OutputArea;\n",
       "\n",
       "    if (OutputArea.prototype.mime_types().indexOf(EXEC_MIME_TYPE) == -1) {\n",
       "      register_renderer(events, OutputArea);\n",
       "    }\n",
       "  }\n",
       "\n",
       "  \n",
       "  if (typeof (root._bokeh_timeout) === \"undefined\" || force === true) {\n",
       "    root._bokeh_timeout = Date.now() + 5000;\n",
       "    root._bokeh_failed_load = false;\n",
       "  }\n",
       "\n",
       "  var NB_LOAD_WARNING = {'data': {'text/html':\n",
       "     \"<div style='background-color: #fdd'>\\n\"+\n",
       "     \"<p>\\n\"+\n",
       "     \"BokehJS does not appear to have successfully loaded. If loading BokehJS from CDN, this \\n\"+\n",
       "     \"may be due to a slow or bad network connection. Possible fixes:\\n\"+\n",
       "     \"</p>\\n\"+\n",
       "     \"<ul>\\n\"+\n",
       "     \"<li>re-rerun `output_notebook()` to attempt to load from CDN again, or</li>\\n\"+\n",
       "     \"<li>use INLINE resources instead, as so:</li>\\n\"+\n",
       "     \"</ul>\\n\"+\n",
       "     \"<code>\\n\"+\n",
       "     \"from bokeh.resources import INLINE\\n\"+\n",
       "     \"output_notebook(resources=INLINE)\\n\"+\n",
       "     \"</code>\\n\"+\n",
       "     \"</div>\"}};\n",
       "\n",
       "  function display_loaded() {\n",
       "    var el = document.getElementById(null);\n",
       "    if (el != null) {\n",
       "      el.textContent = \"BokehJS is loading...\";\n",
       "    }\n",
       "    if (root.Bokeh !== undefined) {\n",
       "      if (el != null) {\n",
       "        el.textContent = \"BokehJS \" + root.Bokeh.version + \" successfully loaded.\";\n",
       "      }\n",
       "    } else if (Date.now() < root._bokeh_timeout) {\n",
       "      setTimeout(display_loaded, 100)\n",
       "    }\n",
       "  }\n",
       "\n",
       "\n",
       "  function run_callbacks() {\n",
       "    try {\n",
       "      root._bokeh_onload_callbacks.forEach(function(callback) {\n",
       "        if (callback != null)\n",
       "          callback();\n",
       "      });\n",
       "    } finally {\n",
       "      delete root._bokeh_onload_callbacks\n",
       "    }\n",
       "    console.debug(\"Bokeh: all callbacks have finished\");\n",
       "  }\n",
       "\n",
       "  function load_libs(css_urls, js_urls, callback) {\n",
       "    if (css_urls == null) css_urls = [];\n",
       "    if (js_urls == null) js_urls = [];\n",
       "\n",
       "    root._bokeh_onload_callbacks.push(callback);\n",
       "    if (root._bokeh_is_loading > 0) {\n",
       "      console.debug(\"Bokeh: BokehJS is being loaded, scheduling callback at\", now());\n",
       "      return null;\n",
       "    }\n",
       "    if (js_urls == null || js_urls.length === 0) {\n",
       "      run_callbacks();\n",
       "      return null;\n",
       "    }\n",
       "    console.debug(\"Bokeh: BokehJS not loaded, scheduling load and callback at\", now());\n",
       "    root._bokeh_is_loading = css_urls.length + js_urls.length;\n",
       "\n",
       "    function on_load() {\n",
       "      root._bokeh_is_loading--;\n",
       "      if (root._bokeh_is_loading === 0) {\n",
       "        console.debug(\"Bokeh: all BokehJS libraries/stylesheets loaded\");\n",
       "        run_callbacks()\n",
       "      }\n",
       "    }\n",
       "\n",
       "    function on_error() {\n",
       "      console.error(\"failed to load \" + url);\n",
       "    }\n",
       "\n",
       "    for (var i = 0; i < css_urls.length; i++) {\n",
       "      var url = css_urls[i];\n",
       "      const element = document.createElement(\"link\");\n",
       "      element.onload = on_load;\n",
       "      element.onerror = on_error;\n",
       "      element.rel = \"stylesheet\";\n",
       "      element.type = \"text/css\";\n",
       "      element.href = url;\n",
       "      console.debug(\"Bokeh: injecting link tag for BokehJS stylesheet: \", url);\n",
       "      document.body.appendChild(element);\n",
       "    }\n",
       "\n",
       "    for (var i = 0; i < js_urls.length; i++) {\n",
       "      var url = js_urls[i];\n",
       "      var element = document.createElement('script');\n",
       "      element.onload = on_load;\n",
       "      element.onerror = on_error;\n",
       "      element.async = false;\n",
       "      element.src = url;\n",
       "      \n",
       "      console.debug(\"Bokeh: injecting script tag for BokehJS library: \", url);\n",
       "      document.head.appendChild(element);\n",
       "    }\n",
       "  };\n",
       "\n",
       "  function inject_raw_css(css) {\n",
       "    const element = document.createElement(\"style\");\n",
       "    element.appendChild(document.createTextNode(css));\n",
       "    document.body.appendChild(element);\n",
       "  }\n",
       "\n",
       "  \n",
       "  var js_urls = [\"https://cdn.bokeh.org/bokeh/release/bokeh-2.0.0.min.js\", \"https://cdn.bokeh.org/bokeh/release/bokeh-widgets-2.0.0.min.js\", \"https://cdn.bokeh.org/bokeh/release/bokeh-tables-2.0.0.min.js\", \"https://cdn.bokeh.org/bokeh/release/bokeh-gl-2.0.0.min.js\"];\n",
       "  var css_urls = [];\n",
       "  \n",
       "\n",
       "  var inline_js = [\n",
       "    function(Bokeh) {\n",
       "      Bokeh.set_log_level(\"info\");\n",
       "    },\n",
       "    function(Bokeh) {\n",
       "    \n",
       "    \n",
       "    }\n",
       "  ];\n",
       "\n",
       "  function run_inline_js() {\n",
       "    \n",
       "    if (root.Bokeh !== undefined || force === true) {\n",
       "      \n",
       "    for (var i = 0; i < inline_js.length; i++) {\n",
       "      inline_js[i].call(root, root.Bokeh);\n",
       "    }\n",
       "    } else if (Date.now() < root._bokeh_timeout) {\n",
       "      setTimeout(run_inline_js, 100);\n",
       "    } else if (!root._bokeh_failed_load) {\n",
       "      console.log(\"Bokeh: BokehJS failed to load within specified timeout.\");\n",
       "      root._bokeh_failed_load = true;\n",
       "    } else if (force !== true) {\n",
       "      var cell = $(document.getElementById(null)).parents('.cell').data().cell;\n",
       "      cell.output_area.append_execute_result(NB_LOAD_WARNING)\n",
       "    }\n",
       "\n",
       "  }\n",
       "\n",
       "  if (root._bokeh_is_loading === 0) {\n",
       "    console.debug(\"Bokeh: BokehJS loaded, going straight to plotting\");\n",
       "    run_inline_js();\n",
       "  } else {\n",
       "    load_libs(css_urls, js_urls, function() {\n",
       "      console.debug(\"Bokeh: BokehJS plotting callback run at\", now());\n",
       "      run_inline_js();\n",
       "    });\n",
       "  }\n",
       "}(window));"
      ],
      "application/vnd.bokehjs_load.v0+json": "\n(function(root) {\n  function now() {\n    return new Date();\n  }\n\n  var force = true;\n\n  if (typeof root._bokeh_onload_callbacks === \"undefined\" || force === true) {\n    root._bokeh_onload_callbacks = [];\n    root._bokeh_is_loading = undefined;\n  }\n\n  \n\n  \n  if (typeof (root._bokeh_timeout) === \"undefined\" || force === true) {\n    root._bokeh_timeout = Date.now() + 5000;\n    root._bokeh_failed_load = false;\n  }\n\n  var NB_LOAD_WARNING = {'data': {'text/html':\n     \"<div style='background-color: #fdd'>\\n\"+\n     \"<p>\\n\"+\n     \"BokehJS does not appear to have successfully loaded. If loading BokehJS from CDN, this \\n\"+\n     \"may be due to a slow or bad network connection. Possible fixes:\\n\"+\n     \"</p>\\n\"+\n     \"<ul>\\n\"+\n     \"<li>re-rerun `output_notebook()` to attempt to load from CDN again, or</li>\\n\"+\n     \"<li>use INLINE resources instead, as so:</li>\\n\"+\n     \"</ul>\\n\"+\n     \"<code>\\n\"+\n     \"from bokeh.resources import INLINE\\n\"+\n     \"output_notebook(resources=INLINE)\\n\"+\n     \"</code>\\n\"+\n     \"</div>\"}};\n\n  function display_loaded() {\n    var el = document.getElementById(null);\n    if (el != null) {\n      el.textContent = \"BokehJS is loading...\";\n    }\n    if (root.Bokeh !== undefined) {\n      if (el != null) {\n        el.textContent = \"BokehJS \" + root.Bokeh.version + \" successfully loaded.\";\n      }\n    } else if (Date.now() < root._bokeh_timeout) {\n      setTimeout(display_loaded, 100)\n    }\n  }\n\n\n  function run_callbacks() {\n    try {\n      root._bokeh_onload_callbacks.forEach(function(callback) {\n        if (callback != null)\n          callback();\n      });\n    } finally {\n      delete root._bokeh_onload_callbacks\n    }\n    console.debug(\"Bokeh: all callbacks have finished\");\n  }\n\n  function load_libs(css_urls, js_urls, callback) {\n    if (css_urls == null) css_urls = [];\n    if (js_urls == null) js_urls = [];\n\n    root._bokeh_onload_callbacks.push(callback);\n    if (root._bokeh_is_loading > 0) {\n      console.debug(\"Bokeh: BokehJS is being loaded, scheduling callback at\", now());\n      return null;\n    }\n    if (js_urls == null || js_urls.length === 0) {\n      run_callbacks();\n      return null;\n    }\n    console.debug(\"Bokeh: BokehJS not loaded, scheduling load and callback at\", now());\n    root._bokeh_is_loading = css_urls.length + js_urls.length;\n\n    function on_load() {\n      root._bokeh_is_loading--;\n      if (root._bokeh_is_loading === 0) {\n        console.debug(\"Bokeh: all BokehJS libraries/stylesheets loaded\");\n        run_callbacks()\n      }\n    }\n\n    function on_error() {\n      console.error(\"failed to load \" + url);\n    }\n\n    for (var i = 0; i < css_urls.length; i++) {\n      var url = css_urls[i];\n      const element = document.createElement(\"link\");\n      element.onload = on_load;\n      element.onerror = on_error;\n      element.rel = \"stylesheet\";\n      element.type = \"text/css\";\n      element.href = url;\n      console.debug(\"Bokeh: injecting link tag for BokehJS stylesheet: \", url);\n      document.body.appendChild(element);\n    }\n\n    for (var i = 0; i < js_urls.length; i++) {\n      var url = js_urls[i];\n      var element = document.createElement('script');\n      element.onload = on_load;\n      element.onerror = on_error;\n      element.async = false;\n      element.src = url;\n      \n      console.debug(\"Bokeh: injecting script tag for BokehJS library: \", url);\n      document.head.appendChild(element);\n    }\n  };\n\n  function inject_raw_css(css) {\n    const element = document.createElement(\"style\");\n    element.appendChild(document.createTextNode(css));\n    document.body.appendChild(element);\n  }\n\n  \n  var js_urls = [\"https://cdn.bokeh.org/bokeh/release/bokeh-2.0.0.min.js\", \"https://cdn.bokeh.org/bokeh/release/bokeh-widgets-2.0.0.min.js\", \"https://cdn.bokeh.org/bokeh/release/bokeh-tables-2.0.0.min.js\", \"https://cdn.bokeh.org/bokeh/release/bokeh-gl-2.0.0.min.js\"];\n  var css_urls = [];\n  \n\n  var inline_js = [\n    function(Bokeh) {\n      Bokeh.set_log_level(\"info\");\n    },\n    function(Bokeh) {\n    \n    \n    }\n  ];\n\n  function run_inline_js() {\n    \n    if (root.Bokeh !== undefined || force === true) {\n      \n    for (var i = 0; i < inline_js.length; i++) {\n      inline_js[i].call(root, root.Bokeh);\n    }\n    } else if (Date.now() < root._bokeh_timeout) {\n      setTimeout(run_inline_js, 100);\n    } else if (!root._bokeh_failed_load) {\n      console.log(\"Bokeh: BokehJS failed to load within specified timeout.\");\n      root._bokeh_failed_load = true;\n    } else if (force !== true) {\n      var cell = $(document.getElementById(null)).parents('.cell').data().cell;\n      cell.output_area.append_execute_result(NB_LOAD_WARNING)\n    }\n\n  }\n\n  if (root._bokeh_is_loading === 0) {\n    console.debug(\"Bokeh: BokehJS loaded, going straight to plotting\");\n    run_inline_js();\n  } else {\n    load_libs(css_urls, js_urls, function() {\n      console.debug(\"Bokeh: BokehJS plotting callback run at\", now());\n      run_inline_js();\n    });\n  }\n}(window));"
     },
     "metadata": {},
     "output_type": "display_data"
    },
    {
     "name": "stderr",
     "output_type": "stream",
     "text": [
      "INFO:bokeh.server.server:Starting Bokeh server version 2.0.0 (running on Tornado 6.0.4)\n",
      "INFO:bokeh.server.tornado:User authentication hooks NOT provided (default user enabled)\n"
     ]
    },
    {
     "data": {
      "application/vnd.bokehjs_exec.v0+json": "",
      "text/html": [
       "\n",
       "<script id=\"30502\">\n",
       "  var xhr = new XMLHttpRequest()\n",
       "  xhr.responseType = 'blob';\n",
       "  xhr.open('GET', \"http://localhost:39235/autoload.js?bokeh-autoload-element=30502&bokeh-absolute-url=http://localhost:39235&resources=none\", true);\n",
       "  \n",
       "  xhr.onload = function (event) {\n",
       "    var script = document.createElement('script'),\n",
       "    src = URL.createObjectURL(event.target.response);\n",
       "    script.src = src;\n",
       "    document.body.appendChild(script);\n",
       "  };\n",
       "xhr.send();\n",
       "</script>"
      ]
     },
     "metadata": {
      "application/vnd.bokehjs_exec.v0+json": {
       "server_id": "ff2d0cc9b5f94e80b721aec976ef103e"
      }
     },
     "output_type": "display_data"
    },
    {
     "name": "stderr",
     "output_type": "stream",
     "text": [
      "200 GET /autoload.js?bokeh-autoload-element=30502&bokeh-absolute-url=http://localhost:39235&resources=none (127.0.0.1) 910.21ms\n",
      "101 GET /ws (127.0.0.1) 2.70ms\n",
      "INFO:bokeh.server.views.ws:WebSocket connection opened\n",
      "INFO:bokeh.server.views.ws:ServerConnection created\n"
     ]
    }
   ],
   "source": [
    "tpf[0].interact(notebook_url='localhost:8888')"
   ]
  },
  {
   "cell_type": "code",
   "execution_count": 196,
   "metadata": {},
   "outputs": [
    {
     "data": {
      "text/plain": [
       "<matplotlib.axes._subplots.AxesSubplot at 0x7f0218f57e10>"
      ]
     },
     "execution_count": 196,
     "metadata": {},
     "output_type": "execute_result"
    },
    {
     "data": {
      "image/png": "[encoded data removed]",
      "text/plain": [
       "<Figure size 848.5x400 with 1 Axes>"
      ]
     },
     "metadata": {},
     "output_type": "display_data"
    }
   ],
   "source": [
    "lc[0].plot()\n",
    "# # # plt.scatter(lc[0].time, lc[0].flux)\n",
    "# plt.xlim(1323,1323.3)\n",
    "# plt.ylim(17000,18000);"
   ]
  },
  {
   "cell_type": "code",
   "execution_count": null,
   "metadata": {},
   "outputs": [],
   "source": [
    "2e-3 * 60 * 24"
   ]
  },
  {
   "cell_type": "code",
   "execution_count": 226,
   "metadata": {},
   "outputs": [],
   "source": [
    "ff = pd.read_csv(\"../results/2020_02_flares_vetted.csv\")\n"
   ]
  },
  {
   "cell_type": "code",
   "execution_count": 227,
   "metadata": {},
   "outputs": [],
   "source": [
    "_t =2038.90350253072\n",
    "\n",
    "select = (ff.tstart > _t - 1e-3) & (ff.tstart < _t + 1e-3)"
   ]
  },
  {
   "cell_type": "code",
   "execution_count": 228,
   "metadata": {},
   "outputs": [
    {
     "data": {
      "text/html": [
       "<div>\n",
       "<style scoped>\n",
       "    .dataframe tbody tr th:only-of-type {\n",
       "        vertical-align: middle;\n",
       "    }\n",
       "\n",
       "    .dataframe tbody tr th {\n",
       "        vertical-align: top;\n",
       "    }\n",
       "\n",
       "    .dataframe thead th {\n",
       "        text-align: right;\n",
       "    }\n",
       "</style>\n",
       "<table border=\"1\" class=\"dataframe\">\n",
       "  <thead>\n",
       "    <tr style=\"text-align: right;\">\n",
       "      <th></th>\n",
       "      <th>istart</th>\n",
       "      <th>istop</th>\n",
       "      <th>cstart</th>\n",
       "      <th>cstop</th>\n",
       "      <th>tstart</th>\n",
       "      <th>tstop</th>\n",
       "      <th>ed_rec</th>\n",
       "      <th>ed_rec_err</th>\n",
       "      <th>ampl_rec</th>\n",
       "      <th>dur</th>\n",
       "      <th>total_n_valid_data_points</th>\n",
       "      <th>ID</th>\n",
       "      <th>qcs</th>\n",
       "      <th>mission</th>\n",
       "      <th>tstamp</th>\n",
       "      <th>dur_detrend</th>\n",
       "      <th>lc_n</th>\n",
       "      <th>real?</th>\n",
       "    </tr>\n",
       "    <tr>\n",
       "      <th>note</th>\n",
       "      <th></th>\n",
       "      <th></th>\n",
       "      <th></th>\n",
       "      <th></th>\n",
       "      <th></th>\n",
       "      <th></th>\n",
       "      <th></th>\n",
       "      <th></th>\n",
       "      <th></th>\n",
       "      <th></th>\n",
       "      <th></th>\n",
       "      <th></th>\n",
       "      <th></th>\n",
       "      <th></th>\n",
       "      <th></th>\n",
       "      <th></th>\n",
       "      <th></th>\n",
       "      <th></th>\n",
       "    </tr>\n",
       "  </thead>\n",
       "  <tbody>\n",
       "  </tbody>\n",
       "</table>\n",
       "</div>"
      ],
      "text/plain": [
       "Empty DataFrame\n",
       "Columns: [istart, istop, cstart, cstop, tstart, tstop, ed_rec, ed_rec_err, ampl_rec, dur, total_n_valid_data_points, ID, qcs, mission, tstamp, dur_detrend, lc_n, real?]\n",
       "Index: []"
      ]
     },
     "execution_count": 228,
     "metadata": {},
     "output_type": "execute_result"
    }
   ],
   "source": [
    "ff[select].groupby(\"note\").count()"
   ]
  },
  {
   "cell_type": "code",
   "execution_count": 229,
   "metadata": {},
   "outputs": [
    {
     "data": {
      "text/plain": [
       "(1, 19)"
      ]
     },
     "execution_count": 229,
     "metadata": {},
     "output_type": "execute_result"
    }
   ],
   "source": [
    "ff[select].shape"
   ]
  },
  {
   "cell_type": "code",
   "execution_count": null,
   "metadata": {
    "scrolled": true
   },
   "outputs": [],
   "source": [
    "ff.loc[select, \"note\"] = \"simultaneous FP in multiple Lcs\""
   ]
  },
  {
   "cell_type": "code",
   "execution_count": null,
   "metadata": {},
   "outputs": [],
   "source": [
    "ff.loc[select].groupby(\"note\").count()"
   ]
  },
  {
   "cell_type": "code",
   "execution_count": null,
   "metadata": {},
   "outputs": [],
   "source": [
    "ff.shape"
   ]
  },
  {
   "cell_type": "code",
   "execution_count": null,
   "metadata": {},
   "outputs": [],
   "source": [
    "ff.to_csv(\"../results/2020_02_flares_vetted.csv\", index=False)"
   ]
  },
  {
   "cell_type": "code",
   "execution_count": null,
   "metadata": {},
   "outputs": [],
   "source": []
  },
  {
   "cell_type": "code",
   "execution_count": null,
   "metadata": {},
   "outputs": [],
   "source": []
  }
 ],
 "metadata": {
  "kernelspec": {
   "display_name": "forallpurposes",
   "language": "python",
   "name": "forallpurposes"
  },
  "language_info": {
   "codemirror_mode": {
    "name": "ipython",
    "version": 3
   },
   "file_extension": ".py",
   "mimetype": "text/x-python",
   "name": "python",
   "nbconvert_exporter": "python",
   "pygments_lexer": "ipython3",
   "version": "3.6.9"
  }
 },
 "nbformat": 4,
 "nbformat_minor": 2
}
