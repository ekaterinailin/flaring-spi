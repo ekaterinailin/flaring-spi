{
 "cells": [
  {
   "cell_type": "code",
   "execution_count": 20,
   "metadata": {},
   "outputs": [],
   "source": [
    "from funcs.notebook import *\n",
    "\n",
    "path = \"/home/ekaterina/Documents/002_writing/flaring-spi-draft/flaring-spi-draft/values/\""
   ]
  },
  {
   "cell_type": "code",
   "execution_count": 4,
   "metadata": {},
   "outputs": [],
   "source": [
    "nasa = pd.read_csv(\"../data/20_01_2021_confirmed_uncontroversial_exoplanet_systems.csv\")\n",
    "tess = pd.read_csv(\"../data/20_01_2021_tess_toi_candidates_known_planets.csv\")\n",
    "lcs = pd.read_csv(\"../data/20_01_2021_full_kepler_k2_tess_exoplanet_lcs_complete.csv\")\n",
    "lcsselect = pd.read_csv(\"../data/20_01_2021_full_kepler_k2_tess_exoplanet_lcs_some_excluded.csv\")"
   ]
  },
  {
   "cell_type": "code",
   "execution_count": 18,
   "metadata": {},
   "outputs": [
    {
     "data": {
      "text/plain": [
       "(3209, 2078)"
      ]
     },
     "execution_count": 18,
     "metadata": {},
     "output_type": "execute_result"
    }
   ],
   "source": [
    "nasa.shape[0], tess.TIC.unique().shape[0]"
   ]
  },
  {
   "cell_type": "code",
   "execution_count": 26,
   "metadata": {},
   "outputs": [
    {
     "data": {
      "text/plain": [
       "0.4166666666666667"
      ]
     },
     "execution_count": 26,
     "metadata": {},
     "output_type": "execute_result"
    }
   ],
   "source": [
    "10/24"
   ]
  },
  {
   "cell_type": "code",
   "execution_count": 25,
   "metadata": {},
   "outputs": [],
   "source": [
    "for mission in [\"Kepler\", \"TESS\"]:\n",
    "    n = lcs.groupby(\"mission\").mission.count()[mission]\n",
    "    # All uncontroversial systems in NASA Composite Table\n",
    "    with open(f\"{path}lcs_{mission}.txt\",\"w\") as f:\n",
    "        f.write(str(n))"
   ]
  },
  {
   "cell_type": "code",
   "execution_count": 19,
   "metadata": {},
   "outputs": [
    {
     "data": {
      "text/plain": [
       "2484"
      ]
     },
     "execution_count": 19,
     "metadata": {},
     "output_type": "execute_result"
    }
   ],
   "source": [
    "lcs.groupby(\"ID\").count().TIC.shape[0]"
   ]
  },
  {
   "cell_type": "code",
   "execution_count": 22,
   "metadata": {},
   "outputs": [],
   "source": [
    "# All uncontroversial systems in NASA Composite Table\n",
    "with open(f\"{path}nasa_all_systems.txt\",\"w\") as f:\n",
    "    f.write(str(nasa.shape[0]))"
   ]
  },
  {
   "cell_type": "code",
   "execution_count": 23,
   "metadata": {},
   "outputs": [],
   "source": [
    "# All unique TESS TOIs\n",
    "with open(f\"{path}tess_unique_tois.txt\",\"w\") as f:\n",
    "    f.write(str(tess.TIC.unique().shape[0]))\n"
   ]
  },
  {
   "cell_type": "code",
   "execution_count": null,
   "metadata": {},
   "outputs": [],
   "source": []
  }
 ],
 "metadata": {
  "kernelspec": {
   "display_name": "forallpurposes",
   "language": "python",
   "name": "forallpurposes"
  },
  "language_info": {
   "codemirror_mode": {
    "name": "ipython",
    "version": 3
   },
   "file_extension": ".py",
   "mimetype": "text/x-python",
   "name": "python",
   "nbconvert_exporter": "python",
   "pygments_lexer": "ipython3",
   "version": "3.6.9"
  }
 },
 "nbformat": 4,
 "nbformat_minor": 2
}
