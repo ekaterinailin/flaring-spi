{
 "cells": [
  {
   "cell_type": "code",
   "execution_count": 1,
   "metadata": {},
   "outputs": [
    {
     "name": "stderr",
     "output_type": "stream",
     "text": [
      "/home/ekaterina/Documents/000_envs/forallpurposes/lib/python3.6/importlib/_bootstrap.py:219: RuntimeWarning: numpy.ufunc size changed, may indicate binary incompatibility. Expected 192 from C header, got 216 from PyObject\n",
      "  return f(*args, **kwds)\n",
      "/home/ekaterina/Documents/000_envs/forallpurposes/lib/python3.6/importlib/_bootstrap.py:219: RuntimeWarning: numpy.ufunc size changed, may indicate binary incompatibility. Expected 192 from C header, got 216 from PyObject\n",
      "  return f(*args, **kwds)\n"
     ]
    }
   ],
   "source": [
    "import pytest\n",
    "\n",
    "from funcs.notebook import *\n",
    "\n",
    "from altaipony.flarelc import FlareLightCurve\n",
    "from altaipony.altai import find_iterative_median\n",
    "from altaipony.utils import sigma_clip\n",
    "\n",
    "import copy\n",
    "from scipy.interpolate import UnivariateSpline\n",
    "from scipy import optimize\n",
    "from funcs.detrend import custom_detrending\n",
    "from funcs.tests.test_detrend import generate_lightcurve, test_custom_detrending\n",
    "\n",
    "import astropy.units as u\n",
    "import time"
   ]
  },
  {
   "cell_type": "code",
   "execution_count": 2,
   "metadata": {},
   "outputs": [],
   "source": [
    "cases = [(.05, 0.005, 1.5, 24.4, 1.5, 0.1),\n",
    "         (.1, 0.005, 1.5, 14.4, 1.5, 0.5),\n",
    "         (.1, 0.05, 1.5, 8, 1.5, 0.5),\n",
    "         (.01, .1, 1.5, 8, -.5, 0.25),\n",
    "         (.3, .05, .5, 30, -.5, 0.25),\n",
    "         ]"
   ]
  },
  {
   "cell_type": "code",
   "execution_count": 4,
   "metadata": {},
   "outputs": [
    {
     "name": "stderr",
     "output_type": "stream",
     "text": [
      "/home/ekaterina/Documents/000_envs/forallpurposes/lib/python3.6/site-packages/numpy/lib/nanfunctions.py:1113: RuntimeWarning: Mean of empty slice\n",
      "  return np.nanmean(a, axis, out=out, keepdims=keepdims)\n"
     ]
    },
    {
     "name": "stdout",
     "output_type": "stream",
     "text": [
      "1.0 1 0.0157519999999991 0.0015249999999937813 0.014227000000005319\n",
      "1.3298621077306043 1 1.2985900000000044 0.037168999999998675 1.2614210000000057\n",
      "1.3200789345150596 2 1.598120999999999 0.03668700000000058 1.5614339999999984\n",
      "1.32896213416731 3 2.019562999999998 0.0023370000000042523 2.0172259999999937\n",
      "1.3399383460726197 4 1.7395250000000004 0.04048699999999883 1.6990380000000016\n",
      "1.336162537466245 5 1.82517 0.03736599999999868 1.7878040000000013\n",
      "0.009295000000001608 9.860622999999997 2.9370329999999996 2.813487000000002 2.7574809999999985 2.8262789999999995 21.204197999999998\n"
     ]
    },
    {
     "name": "stderr",
     "output_type": "stream",
     "text": [
      "Found 1 candidate(s) in the (0,5600) gap.\n",
      "Found 2 candidate(s) in the (5600,37150) gap.\n"
     ]
    },
    {
     "name": "stdout",
     "output_type": "stream",
     "text": [
      "  istart  istop  cstart  cstop  tstart    tstop      ed_rec  ed_rec_err  \\\n",
      "0   5280   5346     NaN    NaN  14.224  14.2768  806.540863    1.569995   \n",
      "1  13160  13163     NaN    NaN  22.224  22.2264    4.737610    0.515130   \n",
      "2  23160  23175     NaN    NaN  30.224  30.2360   42.538383    1.137728   \n",
      "\n",
      "   ampl_rec     dur  total_n_valid_data_points  \n",
      "0  0.294009  0.0528                    37150.0  \n",
      "1  0.029002  0.0024                    37150.0  \n",
      "2  0.064809  0.0120                    37150.0  \n"
     ]
    }
   ],
   "source": [
    "%matplotlib inline\n",
    "flccc = test_custom_detrending(*cases[2])\n"
   ]
  },
  {
   "cell_type": "markdown",
   "metadata": {},
   "source": [
    "0.007321000000000133 15.159305 0.6549980000000026 0.6596189999999993 2.656223999999998 2.7085930000000005 21.84606"
   ]
  },
  {
   "cell_type": "markdown",
   "metadata": {},
   "source": [
    "0.011009999999998854 14.916663 2.542176000000012 2.5286809999999775 2.558152000000007 2.4999310000000037\n",
    "0.009945000000001869 14.680476999999996 2.641241000000008 2.5513599999999883 2.667962000000003 2.552970000000002\n",
    "0.01013900000000234 11.127821000000004 2.5498949999999923 2.528225000000006 2.5794059999999916 2.5361079999999987\n",
    "0.011635000000005391 10.434984999999998 2.5610169999999997 2.5077459999999974 2.257595000000002 2.2517110000000002\n",
    "0.007468000000000252 11.240172 2.557538000000001 2.5957219999999985 2.624523 2.6387300000000025"
   ]
  },
  {
   "cell_type": "markdown",
   "metadata": {},
   "source": [
    "0.009240000000000137 25.056921 2.676472000000004 2.6206709999999944 2.702503 2.5561819999999997\n",
    "0.010066000000001907 25.205929999999995 2.5820369999999997 2.5937160000000006 2.5199369999999988 2.563781000000006\n",
    "0.009810999999999126 20.788005 2.568739000000008 2.535179999999997 2.640715 2.6293040000000047\n",
    "0.008521999999999252 20.12190799999999 2.586459000000019 2.659132999999997 2.278025999999983 2.33310800000001\n",
    "0.00946700000000078 21.261772000000008 2.5894910000000095 2.554126999999994 2.5151730000000043 2.605903999999981\n"
   ]
  },
  {
   "cell_type": "code",
   "execution_count": null,
   "metadata": {},
   "outputs": [],
   "source": []
  }
 ],
 "metadata": {
  "kernelspec": {
   "display_name": "forallpurposes",
   "language": "python",
   "name": "forallpurposes"
  },
  "language_info": {
   "codemirror_mode": {
    "name": "ipython",
    "version": 3
   },
   "file_extension": ".py",
   "mimetype": "text/x-python",
   "name": "python",
   "nbconvert_exporter": "python",
   "pygments_lexer": "ipython3",
   "version": "3.6.9"
  }
 },
 "nbformat": 4,
 "nbformat_minor": 2
}
