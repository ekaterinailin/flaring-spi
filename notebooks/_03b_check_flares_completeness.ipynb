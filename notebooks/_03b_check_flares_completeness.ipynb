{
 "cells": [
  {
   "cell_type": "code",
   "execution_count": 296,
   "metadata": {},
   "outputs": [],
   "source": [
    "import pandas as pd\n",
    "import numpy as np\n",
    "import matplotlib.pyplot as plt\n",
    "\n",
    "from astropy.io import fits"
   ]
  },
  {
   "cell_type": "code",
   "execution_count": 315,
   "metadata": {},
   "outputs": [],
   "source": [
    "def unique_and_count(df, col=\"TIC\"):\n",
    "    unique = df[col].unique().astype(\"<U12\")\n",
    "    return unique, len(unique)"
   ]
  },
  {
   "cell_type": "code",
   "execution_count": 316,
   "metadata": {},
   "outputs": [
    {
     "name": "stdout",
     "output_type": "stream",
     "text": [
      "[UP] Using compiled input catalog from ../data/2022_07_27_input_catalog_star_planet_systems.csv\n"
     ]
    }
   ],
   "source": [
    "# Composite Table of confirmed exoplanets\n",
    "path = \"../data/2022_07_27_input_catalog_star_planet_systems.csv\"\n",
    "\n",
    "print(f\"[UP] Using compiled input catalog from {path}\")\n",
    "\n",
    "input_catalog = pd.read_csv(path) "
   ]
  },
  {
   "cell_type": "code",
   "execution_count": 317,
   "metadata": {},
   "outputs": [
    {
     "data": {
      "text/plain": [
       "((10275, 22), (10745, 22))"
      ]
     },
     "execution_count": 317,
     "metadata": {},
     "output_type": "execute_result"
    }
   ],
   "source": [
    "vetted_table = pd.read_csv(\"../results/2022_07_flares_vetted.csv\")\n",
    "unvetted_table = pd.read_csv(\"../results/2022_07_flares.csv\")\n",
    "vetted_table.shape, unvetted_table.shape"
   ]
  },
  {
   "cell_type": "code",
   "execution_count": 318,
   "metadata": {},
   "outputs": [],
   "source": [
    "unique_input_catalog, n_unique_input_catalog = unique_and_count(input_catalog,col=\"TIC\")\n",
    "assert n_unique_input_catalog == 2993\n",
    "assert unique_and_count(input_catalog,col=\"hostname\")[1] == 2949 # 2948 + 1 NaN\n"
   ]
  },
  {
   "cell_type": "code",
   "execution_count": 319,
   "metadata": {},
   "outputs": [],
   "source": [
    "unique_in_vetted_table, n_unique_in_vetted_table = unique_and_count(vetted_table)\n"
   ]
  },
  {
   "cell_type": "code",
   "execution_count": 320,
   "metadata": {},
   "outputs": [],
   "source": [
    "unique_in_unvetted_table, n_unique_in_unvetted_table = unique_and_count(unvetted_table)"
   ]
  },
  {
   "cell_type": "code",
   "execution_count": 321,
   "metadata": {},
   "outputs": [
    {
     "data": {
      "text/plain": [
       "1336"
      ]
     },
     "execution_count": 321,
     "metadata": {},
     "output_type": "execute_result"
    }
   ],
   "source": [
    "nolc = pd.read_csv(\"../results/2022_07_nolc.txt\").drop_duplicates()\n",
    "# nolc.TIC = nolc.TIC.str[4:]\n",
    "unique_nolc, n_unique_nolc = unique_and_count(nolc)\n",
    "n_unique_nolc"
   ]
  },
  {
   "cell_type": "code",
   "execution_count": 322,
   "metadata": {},
   "outputs": [],
   "source": [
    "nothingfound = pd.read_csv(\"../results/2022_07_listed_but_nothing_found.csv\")\n",
    "nothingfound.TIC = nothingfound.TIC.str[4:]\n",
    "\n",
    "unique_nothingfound, n_unique_nothingfound = unique_and_count(nothingfound)"
   ]
  },
  {
   "cell_type": "code",
   "execution_count": 323,
   "metadata": {},
   "outputs": [],
   "source": [
    "assert n_unique_in_vetted_table == n_unique_in_unvetted_table"
   ]
  },
  {
   "cell_type": "code",
   "execution_count": 324,
   "metadata": {},
   "outputs": [],
   "source": [
    "lost_tics = list(set(unique_input_catalog) -\n",
    "                 set(unique_in_vetted_table) - \n",
    "                 set(unique_nolc) -\n",
    "                 set(unique_nothingfound))"
   ]
  },
  {
   "cell_type": "code",
   "execution_count": 325,
   "metadata": {},
   "outputs": [
    {
     "data": {
      "text/plain": [
       "(2993, 1522, 1336, 414)"
      ]
     },
     "execution_count": 325,
     "metadata": {},
     "output_type": "execute_result"
    }
   ],
   "source": [
    "n_unique_input_catalog, n_unique_in_vetted_table, n_unique_nolc, n_unique_nothingfound"
   ]
  },
  {
   "cell_type": "code",
   "execution_count": 326,
   "metadata": {},
   "outputs": [
    {
     "data": {
      "text/plain": [
       "22"
      ]
     },
     "execution_count": 326,
     "metadata": {},
     "output_type": "execute_result"
    }
   ],
   "source": [
    "len(lost_tics)"
   ]
  },
  {
   "cell_type": "code",
   "execution_count": 327,
   "metadata": {},
   "outputs": [],
   "source": [
    "from lightkurve import search_lightcurve"
   ]
  },
  {
   "cell_type": "code",
   "execution_count": 328,
   "metadata": {},
   "outputs": [
    {
     "name": "stderr",
     "output_type": "stream",
     "text": [
      "/home/ekaterina/Documents/000_envs/forallpurposes/lib/python3.6/site-packages/ipykernel_launcher.py:1: LightkurveDeprecationWarning: The search_lightcurvefile function is deprecated and may be removed in a future version.\n",
      "        Use search_lightcurve() instead.\n",
      "  \"\"\"Entry point for launching an IPython kernel.\n"
     ]
    },
    {
     "data": {
      "text/plain": [
       "0"
      ]
     },
     "execution_count": 328,
     "metadata": {},
     "output_type": "execute_result"
    }
   ],
   "source": [
    "lcs  = search_lightcurvefile(\"TIC 26657021\")   \n",
    "conditions = (lcs.exptime.value < 130) & (lcs.author != \"TASOC\")\n",
    "lcs_sel = lcs[conditions]\n",
    "\n",
    "len(lcs_sel)"
   ]
  },
  {
   "cell_type": "code",
   "execution_count": 329,
   "metadata": {},
   "outputs": [],
   "source": [
    "lcs  = search_lightcurve(f\"TIC {lost_tics[0]}\")"
   ]
  },
  {
   "cell_type": "code",
   "execution_count": 330,
   "metadata": {},
   "outputs": [
    {
     "data": {
      "text/html": [
       "SearchResult containing 3 data products.\n",
       "\n",
       "<table id=\"table139813993742576\">\n",
       "<thead><tr><th>#</th><th>mission</th><th>year</th><th>author</th><th>exptime</th><th>target_name</th><th>distance</th></tr></thead>\n",
       "<thead><tr><th></th><th></th><th></th><th></th><th>s</th><th></th><th>arcsec</th></tr></thead>\n",
       "<tr><td>0</td><td>TESS Sector 37</td><td>2021</td><td><a href='https://heasarc.gsfc.nasa.gov/docs/tess/pipeline.html'>SPOC</a></td><td>20</td><td>287331845</td><td>0.0</td></tr>\n",
       "<tr><td>1</td><td>TESS Sector 37</td><td>2021</td><td><a href='https://heasarc.gsfc.nasa.gov/docs/tess/pipeline.html'>SPOC</a></td><td>120</td><td>287331845</td><td>0.0</td></tr>\n",
       "<tr><td>2</td><td>TESS Sector 37</td><td>2021</td><td><a href='https://archive.stsci.edu/hlsp/tess-spoc'>TESS-SPOC</a></td><td>600</td><td>287331845</td><td>0.0</td></tr>\n",
       "</table>"
      ],
      "text/plain": [
       "SearchResult containing 3 data products.\n",
       "\n",
       " #     mission     year   author  exptime target_name distance\n",
       "                                     s                 arcsec \n",
       "--- -------------- ---- --------- ------- ----------- --------\n",
       "  0 TESS Sector 37 2021      SPOC      20   287331845      0.0\n",
       "  1 TESS Sector 37 2021      SPOC     120   287331845      0.0\n",
       "  2 TESS Sector 37 2021 TESS-SPOC     600   287331845      0.0"
      ]
     },
     "execution_count": 330,
     "metadata": {},
     "output_type": "execute_result"
    }
   ],
   "source": [
    "lcs"
   ]
  },
  {
   "cell_type": "code",
   "execution_count": 312,
   "metadata": {},
   "outputs": [
    {
     "data": {
      "text/plain": [
       "'187309502'"
      ]
     },
     "execution_count": 312,
     "metadata": {},
     "output_type": "execute_result"
    }
   ],
   "source": [
    "lost_tics[0]"
   ]
  },
  {
   "cell_type": "code",
   "execution_count": 314,
   "metadata": {},
   "outputs": [
    {
     "name": "stdout",
     "output_type": "stream",
     "text": [
      "0\n",
      "2\n",
      "0\n",
      "4\n",
      "0\n",
      "0\n",
      "1\n",
      "4\n",
      "2\n",
      "0\n",
      "2\n",
      "3\n",
      "3\n",
      "0\n",
      "0\n",
      "2\n",
      "0\n",
      "0\n",
      "0\n",
      "0\n",
      "1\n",
      "1\n",
      "3\n",
      "0\n",
      "1\n",
      "2\n",
      "0\n",
      "0\n",
      "2\n",
      "2\n",
      "0\n",
      "1\n",
      "0\n",
      "2\n",
      "0\n",
      "0\n",
      "0\n",
      "0\n",
      "0\n",
      "1\n",
      "2\n",
      "1\n",
      "1\n",
      "0\n",
      "0\n"
     ]
    }
   ],
   "source": [
    "for tic in lost_tics:\n",
    "\n",
    "    lcs  = search_lightcurve(f\"TIC {tic}\")\n",
    "    try:\n",
    "        conditions = (lcs.exptime.value < 130) & (lcs.author != \"TASOC\")  & (lcs.author != \"K2\")\n",
    "        lcs_sel = lcs[conditions]\n",
    "        print(len(lcs_sel))\n",
    "        if len(lcs_sel)==0:\n",
    "            with open(\"../results/2022_07_nolc.txt\",\"a\") as f:\n",
    "                f.write(tic + \"\\n\")\n",
    "            with open(\"../results/2022_07_k2_short_cadence.txt\",\"a\") as f:\n",
    "                f.write(tic + \"\\n\")\n",
    "    except KeyError:\n",
    "        with open(\"../results/2022_07_error_in_search.txt\",\"a\") as f:\n",
    "            f.write(tic + \"\\n\")"
   ]
  },
  {
   "cell_type": "code",
   "execution_count": null,
   "metadata": {},
   "outputs": [],
   "source": []
  }
 ],
 "metadata": {
  "kernelspec": {
   "display_name": "forallpurposes",
   "language": "python",
   "name": "forallpurposes"
  },
  "language_info": {
   "codemirror_mode": {
    "name": "ipython",
    "version": 3
   },
   "file_extension": ".py",
   "mimetype": "text/x-python",
   "name": "python",
   "nbconvert_exporter": "python",
   "pygments_lexer": "ipython3",
   "version": "3.6.9"
  }
 },
 "nbformat": 4,
 "nbformat_minor": 4
}
