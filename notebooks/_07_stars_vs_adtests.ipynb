{
 "cells": [
  {
   "cell_type": "code",
   "execution_count": 1,
   "metadata": {},
   "outputs": [],
   "source": [
    "import pandas as pd\n",
    "import numpy as np\n",
    "import matplotlib.pyplot as plt\n",
    "from funcs.ad import aggregate_pvalues, get_sigma_values"
   ]
  },
  {
   "cell_type": "code",
   "execution_count": 97,
   "metadata": {},
   "outputs": [
    {
     "name": "stdout",
     "output_type": "stream",
     "text": [
      "(36, 4)\n",
      "(36, 18)\n"
     ]
    }
   ],
   "source": [
    "# read in AD test results\n",
    "adtests = pd.read_csv(\"../results/multistar_adtest.csv\")\n",
    "\n",
    "# read in the table of known parameters from the NASA Exoplanet Archive and TESS\n",
    "sps_w_ad = pd.read_csv(\"../results/params_of_star_planet_systems_with_AD_tests.csv\")\n",
    "\n",
    "# rename column tic_id to TIC\n",
    "sps_w_ad.rename(columns={\"tic_id\": \"TIC\"}, inplace=True)\n",
    "\n",
    "sps_w_ad_rv = pd.read_csv(\"../data/2022_11_15_input_catalog_NONtransit_star_planet_systems.csv\")\n",
    "\n",
    "# concat the two tables\n",
    "sps_w_ad = pd.concat([sps_w_ad, sps_w_ad_rv], axis=0)\n",
    "\n",
    "# read in age and rotation period from the literature search\n",
    "literature_params = pd.read_csv(\"../results/2022_09_stellar_params_with_coherence_times.csv\")\n",
    "literature_params.TIC = literature_params.TIC.astype(str)\n",
    "\n",
    "# aggregate the p-values\n",
    "mean_std = aggregate_pvalues(adtests, subsample=\"ED>1s\", period=\"orbit\")\n",
    "print(mean_std.shape)\n",
    "# merge the AD test results with the stellar parameters\n",
    "mean_std = mean_std.merge(literature_params, on=[\"TIC\"], how=\"left\")\n",
    "print(mean_std.shape)\n"
   ]
  },
  {
   "cell_type": "code",
   "execution_count": 99,
   "metadata": {},
   "outputs": [
    {
     "name": "stdout",
     "output_type": "stream",
     "text": [
      "Kepler-1627\n",
      "Kepler-1646\n",
      "HIP 67522\n",
      "KOI-12\n",
      "TOI-540\n",
      "DS Tuc A\n",
      "K2-25\n",
      "TAP 26\n",
      "AU Mic\n",
      "TOI-837\n",
      "TIC 67646988\n"
     ]
    },
    {
     "data": {
      "text/plain": [
       "<matplotlib.legend.Legend at 0x7fb2df091b20>"
      ]
     },
     "execution_count": 99,
     "metadata": {},
     "output_type": "execute_result"
    },
    {
     "data": {
      "image/png": "[encoded data removed]",
      "text/plain": [
       "<Figure size 720x468 with 1 Axes>"
      ]
     },
     "metadata": {
      "needs_background": "light"
     },
     "output_type": "display_data"
    }
   ],
   "source": [
    "\n",
    "from matplotlib.lines import Line2D\n",
    "\n",
    "sigmas, sigma_labels = get_sigma_values()\n",
    "\n",
    "legend = [Line2D([0], [0], marker='X', color='w', label=r\"$10 \\leq P_{rot} < 15$ d\", markerfacecolor='blue', markersize=10),\n",
    "            Line2D([0], [0], marker='d', color='w', label=r\"$P_{rot} \\geq 15$ d\", markerfacecolor='black', markersize=10),\n",
    "            Line2D([0], [0], marker='o', color='w', label=r\"$P_{rot} < 10$ d\", markerfacecolor='green', markersize=10),    \n",
    "            Line2D([0], [0], marker='s', color='w', label=r\"no $P_{rot}$\", markerfacecolor='lightgrey', markersize=10)]\n",
    "labels = [r\"$10 \\leq P_{rot} < 15$ d\", r\"$P_{rot} \\geq 15$ d\", r\"$P_{rot} < 10$ d\", \"no $P_{rot}$\"]\n",
    "\n",
    "fig, ax = plt.subplots(figsize=(10,6.5))\n",
    "for i, row in mean_std.iterrows():\n",
    "    # try:\n",
    "    a = sps_w_ad[sps_w_ad.TIC.astype(str) == str(row.TIC)].pl_orbsmax.values[0]\n",
    "    st_rotp = row.st_rotp\n",
    "    hostname = sps_w_ad[sps_w_ad.TIC.astype(str) == str(row.TIC)].hostname.values[0]\n",
    "    \n",
    "    if type(hostname) == float:\n",
    "        hostname = f\"TIC {row.TIC}\"\n",
    "\n",
    "    if st_rotp < 10.:\n",
    "        color = \"green\"\n",
    "        symbol = \"o\"\n",
    "        print(hostname)\n",
    "    elif (st_rotp >= 10.) & (st_rotp < 15.):\n",
    "        color = \"blue\"\n",
    "        symbol = \"x\"\n",
    "    elif (st_rotp >= 15.):\n",
    "        color = \"black\"\n",
    "        symbol = \"d\"\n",
    "    else:\n",
    "        color = \"lightgrey\"\n",
    "        symbol = \"s\"\n",
    "    \n",
    "\n",
    "    plt.scatter(a, row[\"mean\"], marker=symbol,     \n",
    "        c=color, s=90, alpha=1.)\n",
    "    # plt.text(a*1.02, row[\"mean\"]*.9, fr\"{hostname}, {row.number_of_flares}\", fontsize=8, color=\"k\",\n",
    "    #     horizontalalignment='left', verticalalignment='center', rotation=0)\n",
    "\n",
    "plt.yscale(\"log\")\n",
    "plt.xscale(\"log\")\n",
    "\n",
    "\n",
    "for sigma, label in list(zip(sigmas, sigma_labels)):\n",
    "    plt.axhline(sigma, color=\"grey\", linestyle=\"-.\")\n",
    "    plt.text(.3, sigma, label, fontsize=15, color=\"k\", verticalalignment=\"center\")\n",
    "\n",
    "plt.ylabel(\"p-value of AD test\")\n",
    "plt.xlabel(\"semi-major axis (AU)\")\n",
    "# plt.xlabel(\"orbital period (days)\")\n",
    "plt.legend(legend,labels,loc=(0,0.08), fontsize=15)"
   ]
  },
  {
   "cell_type": "markdown",
   "metadata": {},
   "source": [
    "# Compare to fake p-value calculations"
   ]
  },
  {
   "cell_type": "code",
   "execution_count": null,
   "metadata": {},
   "outputs": [],
   "source": [
    "# read in AD test results\n",
    "adtests = pd.read_csv(\"../results/multistar_adtest.csv\")\n",
    "\n",
    "# get different modes\n",
    "modes = adtests[\"period\"].unique()\n",
    "\n",
    "# read in the table of known parameters from the NASA Exoplanet Archive and TESS\n",
    "sps_w_ad = pd.read_csv(\"../results/params_of_star_planet_systems_with_AD_tests.csv\")\n",
    "\n",
    "# read in age and rotation period from the literature search\n",
    "literature_params = pd.read_csv(\"../results/2022_09_stellar_params_with_coherence_times.csv\")\n",
    "literature_params.TIC = literature_params.TIC.astype(str)\n",
    "\n",
    "res = pd.DataFrame()\n",
    "print(res.shape)\n",
    "# aggregate the p-values\n",
    "for mode in modes:\n",
    "    \n",
    "    mean_std = aggregate_pvalues(adtests, subsample=\"ED>1s\", period=mode)\n",
    "    print(mode)\n",
    "\n",
    "    mean_std = mean_std[[\"TIC\",\"mean\"]]\n",
    "    \n",
    "    if res.shape[0] == 0:\n",
    "        res = mean_std.set_index(\"TIC\")\n",
    "    else:\n",
    "        # join the the table to res as a new column\n",
    "        res = res.merge(mean_std, on=\"TIC\", how=\"left\")\n",
    "\n",
    "    res = res.rename(columns={\"mean\": f\"mean_{mode}\"})\n",
    "\n",
    "# merge the AD test results with the stellar parameters\n",
    "res = res.merge(literature_params, on=[\"TIC\"], how=\"left\")\n"
   ]
  },
  {
   "cell_type": "code",
   "execution_count": null,
   "metadata": {},
   "outputs": [],
   "source": [
    "res.columns"
   ]
  },
  {
   "cell_type": "code",
   "execution_count": null,
   "metadata": {},
   "outputs": [],
   "source": [
    "plt.figure(figsize=(9,6.5))\n",
    "\n",
    "for mode in modes:\n",
    "    if mode == \"orbit\":\n",
    "        o = 10\n",
    "        histtype = \"bar\"\n",
    "    else:\n",
    "        o = 1\n",
    "        histtype=\"step\"\n",
    "    plt.hist(res[f\"mean_{mode}\"], bins=np.logspace(-3,0,15), \n",
    "              label=mode.replace(\"_\",\" \"), linewidth=3,zorder=o,alpha=.5, histtype=histtype)\n",
    "\n",
    "plt.xscale(\"log\")\n",
    "plt.legend(loc=2)\n",
    "plt.xlabel(\"p-value of AD test\")\n",
    "plt.ylabel(\"number of stars\")"
   ]
  },
  {
   "cell_type": "code",
   "execution_count": null,
   "metadata": {},
   "outputs": [],
   "source": []
  }
 ],
 "metadata": {
  "kernelspec": {
   "display_name": "Python 3.8.0 ('fleck38')",
   "language": "python",
   "name": "python3"
  },
  "language_info": {
   "codemirror_mode": {
    "name": "ipython",
    "version": 3
   },
   "file_extension": ".py",
   "mimetype": "text/x-python",
   "name": "python",
   "nbconvert_exporter": "python",
   "pygments_lexer": "ipython3",
   "version": "3.8.0"
  },
  "orig_nbformat": 4,
  "vscode": {
   "interpreter": {
    "hash": "239f151665663ac09b56fa8527c8dc94fe02ea8363d482306c95acce58e26dca"
   }
  }
 },
 "nbformat": 4,
 "nbformat_minor": 2
}
