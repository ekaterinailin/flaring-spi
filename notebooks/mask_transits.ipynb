{
 "cells": [
  {
   "cell_type": "code",
   "execution_count": 65,
   "metadata": {},
   "outputs": [],
   "source": [
    "from funcs.notebook import *\n",
    "\n",
    "%matplotlib inline\n",
    "\n",
    "import copy\n",
    "\n",
    "from funcs.transitmask import get_full_transit_mask, get_transit_mid_epochs"
   ]
  },
  {
   "cell_type": "code",
   "execution_count": 2,
   "metadata": {},
   "outputs": [
    {
     "name": "stdout",
     "output_type": "stream",
     "text": [
      "[UP] Using NASA Composite Table from ../data/PSCompPars_2021.01.08_01.59.05.csv\n"
     ]
    }
   ],
   "source": [
    "# Composite Table of confirmed exoplanets\n",
    "path = \"../data/PSCompPars_2021.01.08_01.59.05.csv\"\n",
    "print(f\"[UP] Using NASA Composite Table from {path}\")\n",
    "df = pd.read_csv(path, skiprows=318) # composite table"
   ]
  },
  {
   "cell_type": "code",
   "execution_count": 34,
   "metadata": {},
   "outputs": [
    {
     "data": {
      "text/plain": [
       "array(['rowid', 'pl_name', 'hostname', 'pl_letter', 'hd_name', 'hip_name',\n",
       "       'tic_id', 'gaia_id', 'sy_snum', 'sy_pnum', 'sy_mnum', 'cb_flag',\n",
       "       'discoverymethod', 'disc_year', 'disc_refname', 'disc_pubdate',\n",
       "       'disc_locale', 'disc_facility', 'disc_telescope',\n",
       "       'disc_instrument', 'rv_flag', 'pul_flag', 'ptv_flag', 'tran_flag',\n",
       "       'ast_flag', 'obm_flag', 'micro_flag', 'etv_flag', 'ima_flag',\n",
       "       'dkin_flag', 'pl_controv_flag', 'pl_orbper', 'pl_orbpererr1',\n",
       "       'pl_orbpererr2', 'pl_orbperlim', 'pl_orbper_reflink', 'pl_orbsmax',\n",
       "       'pl_orbsmaxerr1', 'pl_orbsmaxerr2', 'pl_orbsmaxlim',\n",
       "       'pl_orbsmax_reflink', 'pl_rade', 'pl_radeerr1', 'pl_radeerr2',\n",
       "       'pl_radelim', 'pl_rade_reflink', 'pl_radj', 'pl_radjerr1',\n",
       "       'pl_radjerr2', 'pl_radjlim', 'pl_radj_reflink', 'pl_bmasse',\n",
       "       'pl_bmasseerr1', 'pl_bmasseerr2', 'pl_bmasselim',\n",
       "       'pl_bmasse_reflink', 'pl_bmassj', 'pl_bmassjerr1', 'pl_bmassjerr2',\n",
       "       'pl_bmassjlim', 'pl_bmassj_reflink', 'pl_bmassprov', 'pl_dens',\n",
       "       'pl_denserr1', 'pl_denserr2', 'pl_denslim', 'pl_dens_reflink',\n",
       "       'pl_orbeccen', 'pl_orbeccenerr1', 'pl_orbeccenerr2',\n",
       "       'pl_orbeccenlim', 'pl_orbeccen_reflink', 'pl_insol',\n",
       "       'pl_insolerr1', 'pl_insolerr2', 'pl_insollim', 'pl_insol_reflink',\n",
       "       'pl_eqt', 'pl_eqterr1', 'pl_eqterr2', 'pl_eqtlim',\n",
       "       'pl_eqt_reflink', 'pl_orbincl', 'pl_orbinclerr1', 'pl_orbinclerr2',\n",
       "       'pl_orbincllim', 'pl_orbincl_reflink', 'pl_tranmid',\n",
       "       'pl_tranmiderr1', 'pl_tranmiderr2', 'pl_tranmidlim',\n",
       "       'pl_tranmid_systemref', 'pl_tranmid_reflink', 'ttv_flag',\n",
       "       'pl_imppar', 'pl_impparerr1', 'pl_impparerr2', 'pl_impparlim',\n",
       "       'pl_imppar_reflink', 'pl_trandep', 'pl_trandeperr1',\n",
       "       'pl_trandeperr2', 'pl_trandeplim', 'pl_trandep_reflink',\n",
       "       'pl_trandur', 'pl_trandurerr1', 'pl_trandurerr2', 'pl_trandurlim',\n",
       "       'pl_trandur_reflink', 'pl_ratdor', 'pl_ratdorerr1',\n",
       "       'pl_ratdorerr2', 'pl_ratdorlim', 'pl_ratdor_reflink', 'pl_ratror',\n",
       "       'pl_ratrorerr1', 'pl_ratrorerr2', 'pl_ratrorlim',\n",
       "       'pl_ratror_reflink', 'pl_occdep', 'pl_occdeperr1', 'pl_occdeperr2',\n",
       "       'pl_occdeplim', 'pl_occdep_reflink', 'pl_orbtper',\n",
       "       'pl_orbtpererr1', 'pl_orbtpererr2', 'pl_orbtperlim',\n",
       "       'pl_orbtper_systemref', 'pl_orbtper_reflink', 'pl_orblper',\n",
       "       'pl_orblpererr1', 'pl_orblpererr2', 'pl_orblperlim',\n",
       "       'pl_orblper_reflink', 'pl_rvamp', 'pl_rvamperr1', 'pl_rvamperr2',\n",
       "       'pl_rvamplim', 'pl_rvamp_reflink', 'pl_projobliq',\n",
       "       'pl_projobliqerr1', 'pl_projobliqerr2', 'pl_projobliqlim',\n",
       "       'pl_projobliq_reflink', 'pl_trueobliq', 'pl_trueobliqerr1',\n",
       "       'pl_trueobliqerr2', 'pl_trueobliqlim', 'pl_trueobliq_reflink',\n",
       "       'st_spectype', 'st_spectype_reflink', 'st_teff', 'st_tefferr1',\n",
       "       'st_tefferr2', 'st_tefflim', 'st_teff_reflink', 'st_rad',\n",
       "       'st_raderr1', 'st_raderr2', 'st_radlim', 'st_rad_reflink',\n",
       "       'st_mass', 'st_masserr1', 'st_masserr2', 'st_masslim',\n",
       "       'st_mass_reflink', 'st_met', 'st_meterr1', 'st_meterr2',\n",
       "       'st_metlim', 'st_met_reflink', 'st_metratio', 'st_lum',\n",
       "       'st_lumerr1', 'st_lumerr2', 'st_lumlim', 'st_lum_reflink',\n",
       "       'st_logg', 'st_loggerr1', 'st_loggerr2', 'st_logglim',\n",
       "       'st_logg_reflink', 'st_age', 'st_ageerr1', 'st_ageerr2',\n",
       "       'st_agelim', 'st_age_reflink', 'st_dens', 'st_denserr1',\n",
       "       'st_denserr2', 'st_denslim', 'st_dens_reflink', 'st_vsin',\n",
       "       'st_vsinerr1', 'st_vsinerr2', 'st_vsinlim', 'st_vsin_reflink',\n",
       "       'st_rotp', 'st_rotperr1', 'st_rotperr2', 'st_rotplim',\n",
       "       'st_rotp_reflink', 'st_radv', 'st_radverr1', 'st_radverr2',\n",
       "       'st_radvlim', 'st_radv_reflink', 'rastr', 'ra', 'decstr', 'dec',\n",
       "       'glat', 'glon', 'elat', 'elon', 'ra_reflink', 'sy_pm', 'sy_pmerr1',\n",
       "       'sy_pmerr2', 'sy_pmra', 'sy_pmraerr1', 'sy_pmraerr2', 'sy_pmdec',\n",
       "       'sy_pmdecerr1', 'sy_pmdecerr2', 'sy_pm_reflink', 'sy_dist',\n",
       "       'sy_disterr1', 'sy_disterr2', 'sy_dist_reflink', 'sy_plx',\n",
       "       'sy_plxerr1', 'sy_plxerr2', 'sy_plx_reflink', 'sy_bmag',\n",
       "       'sy_bmagerr1', 'sy_bmagerr2', 'sy_bmag_reflink', 'sy_vmag',\n",
       "       'sy_vmagerr1', 'sy_vmagerr2', 'sy_vmag_reflink', 'sy_jmag',\n",
       "       'sy_jmagerr1', 'sy_jmagerr2', 'sy_jmag_reflink', 'sy_hmag',\n",
       "       'sy_hmagerr1', 'sy_hmagerr2', 'sy_hmag_reflink', 'sy_kmag',\n",
       "       'sy_kmagerr1', 'sy_kmagerr2', 'sy_kmag_reflink', 'sy_umag',\n",
       "       'sy_umagerr1', 'sy_umagerr2', 'sy_umag_reflink', 'sy_gmag',\n",
       "       'sy_gmagerr1', 'sy_gmagerr2', 'sy_gmag_reflink', 'sy_rmag',\n",
       "       'sy_rmagerr1', 'sy_rmagerr2', 'sy_rmag_reflink', 'sy_imag',\n",
       "       'sy_imagerr1', 'sy_imagerr2', 'sy_imag_reflink', 'sy_zmag',\n",
       "       'sy_zmagerr1', 'sy_zmagerr2', 'sy_zmag_reflink', 'sy_w1mag',\n",
       "       'sy_w1magerr1', 'sy_w1magerr2', 'sy_w1mag_reflink', 'sy_w2mag',\n",
       "       'sy_w2magerr1', 'sy_w2magerr2', 'sy_w2mag_reflink', 'sy_w3mag',\n",
       "       'sy_w3magerr1', 'sy_w3magerr2', 'sy_w3mag_reflink', 'sy_w4mag',\n",
       "       'sy_w4magerr1', 'sy_w4magerr2', 'sy_w4mag_reflink', 'sy_gaiamag',\n",
       "       'sy_gaiamagerr1', 'sy_gaiamagerr2', 'sy_gaiamag_reflink',\n",
       "       'sy_icmag', 'sy_icmagerr1', 'sy_icmagerr2', 'sy_icmag_reflink',\n",
       "       'sy_tmag', 'sy_tmagerr1', 'sy_tmagerr2', 'sy_tmag_reflink',\n",
       "       'sy_kepmag', 'sy_kepmagerr1', 'sy_kepmagerr2', 'sy_kepmag_reflink',\n",
       "       'pl_nnotes', 'st_nphot', 'st_nrvc', 'st_nspec', 'pl_nespec',\n",
       "       'pl_ntranspec'], dtype=object)"
      ]
     },
     "execution_count": 34,
     "metadata": {},
     "output_type": "execute_result"
    }
   ],
   "source": [
    "df.columns.values"
   ]
  },
  {
   "cell_type": "code",
   "execution_count": 35,
   "metadata": {},
   "outputs": [
    {
     "data": {
      "text/html": [
       "<div>\n",
       "<style scoped>\n",
       "    .dataframe tbody tr th:only-of-type {\n",
       "        vertical-align: middle;\n",
       "    }\n",
       "\n",
       "    .dataframe tbody tr th {\n",
       "        vertical-align: top;\n",
       "    }\n",
       "\n",
       "    .dataframe thead th {\n",
       "        text-align: right;\n",
       "    }\n",
       "</style>\n",
       "<table border=\"1\" class=\"dataframe\">\n",
       "  <thead>\n",
       "    <tr style=\"text-align: right;\">\n",
       "      <th></th>\n",
       "      <th>pl_tranmid</th>\n",
       "      <th>pl_tranmid_systemref</th>\n",
       "      <th>pl_tranmiderr1</th>\n",
       "      <th>pl_tranmiderr2</th>\n",
       "      <th>pl_orbper</th>\n",
       "      <th>pl_orbpererr1</th>\n",
       "      <th>pl_orbpererr2</th>\n",
       "      <th>pl_trandur</th>\n",
       "      <th>pl_trandurerr1</th>\n",
       "      <th>pl_trandurerr2</th>\n",
       "    </tr>\n",
       "  </thead>\n",
       "  <tbody>\n",
       "    <tr>\n",
       "      <th>4056</th>\n",
       "      <td>2.457323e+06</td>\n",
       "      <td>BJD-TDB</td>\n",
       "      <td>0.00010</td>\n",
       "      <td>-0.00010</td>\n",
       "      <td>1.510871</td>\n",
       "      <td>6.000000e-07</td>\n",
       "      <td>-6.000000e-07</td>\n",
       "      <td>0.6067</td>\n",
       "      <td>0.0028</td>\n",
       "      <td>-0.0028</td>\n",
       "    </tr>\n",
       "    <tr>\n",
       "      <th>4057</th>\n",
       "      <td>2.457283e+06</td>\n",
       "      <td>BJD-TDB</td>\n",
       "      <td>0.00019</td>\n",
       "      <td>-0.00019</td>\n",
       "      <td>2.421823</td>\n",
       "      <td>1.700000e-06</td>\n",
       "      <td>-1.700000e-06</td>\n",
       "      <td>0.7062</td>\n",
       "      <td>0.0037</td>\n",
       "      <td>-0.0037</td>\n",
       "    </tr>\n",
       "    <tr>\n",
       "      <th>4058</th>\n",
       "      <td>2.457670e+06</td>\n",
       "      <td>BJD-TDB</td>\n",
       "      <td>0.00035</td>\n",
       "      <td>-0.00035</td>\n",
       "      <td>4.049610</td>\n",
       "      <td>6.300000e-05</td>\n",
       "      <td>-6.300000e-05</td>\n",
       "      <td>0.8188</td>\n",
       "      <td>0.0110</td>\n",
       "      <td>-0.0110</td>\n",
       "    </tr>\n",
       "    <tr>\n",
       "      <th>4059</th>\n",
       "      <td>2.457660e+06</td>\n",
       "      <td>BJD-TDB</td>\n",
       "      <td>0.00038</td>\n",
       "      <td>-0.00038</td>\n",
       "      <td>6.099615</td>\n",
       "      <td>1.100000e-05</td>\n",
       "      <td>-1.100000e-05</td>\n",
       "      <td>0.9535</td>\n",
       "      <td>0.0120</td>\n",
       "      <td>-0.0120</td>\n",
       "    </tr>\n",
       "    <tr>\n",
       "      <th>4060</th>\n",
       "      <td>2.457671e+06</td>\n",
       "      <td>BJD-TDB</td>\n",
       "      <td>0.00023</td>\n",
       "      <td>-0.00023</td>\n",
       "      <td>9.206690</td>\n",
       "      <td>1.500000e-05</td>\n",
       "      <td>-1.500000e-05</td>\n",
       "      <td>1.0430</td>\n",
       "      <td>0.0100</td>\n",
       "      <td>-0.0100</td>\n",
       "    </tr>\n",
       "    <tr>\n",
       "      <th>4061</th>\n",
       "      <td>2.457665e+06</td>\n",
       "      <td>BJD-TDB</td>\n",
       "      <td>0.00021</td>\n",
       "      <td>-0.00021</td>\n",
       "      <td>12.352940</td>\n",
       "      <td>1.200000e-04</td>\n",
       "      <td>-1.200000e-04</td>\n",
       "      <td>1.1400</td>\n",
       "      <td>0.0110</td>\n",
       "      <td>-0.0110</td>\n",
       "    </tr>\n",
       "    <tr>\n",
       "      <th>4062</th>\n",
       "      <td>2.457663e+06</td>\n",
       "      <td>BJD-TDB</td>\n",
       "      <td>0.00037</td>\n",
       "      <td>-0.00037</td>\n",
       "      <td>18.767000</td>\n",
       "      <td>4.000000e-03</td>\n",
       "      <td>-3.000000e-03</td>\n",
       "      <td>1.2600</td>\n",
       "      <td>0.0192</td>\n",
       "      <td>-0.0192</td>\n",
       "    </tr>\n",
       "  </tbody>\n",
       "</table>\n",
       "</div>"
      ],
      "text/plain": [
       "        pl_tranmid pl_tranmid_systemref  pl_tranmiderr1  pl_tranmiderr2  \\\n",
       "4056  2.457323e+06              BJD-TDB         0.00010        -0.00010   \n",
       "4057  2.457283e+06              BJD-TDB         0.00019        -0.00019   \n",
       "4058  2.457670e+06              BJD-TDB         0.00035        -0.00035   \n",
       "4059  2.457660e+06              BJD-TDB         0.00038        -0.00038   \n",
       "4060  2.457671e+06              BJD-TDB         0.00023        -0.00023   \n",
       "4061  2.457665e+06              BJD-TDB         0.00021        -0.00021   \n",
       "4062  2.457663e+06              BJD-TDB         0.00037        -0.00037   \n",
       "\n",
       "      pl_orbper  pl_orbpererr1  pl_orbpererr2  pl_trandur  pl_trandurerr1  \\\n",
       "4056   1.510871   6.000000e-07  -6.000000e-07      0.6067          0.0028   \n",
       "4057   2.421823   1.700000e-06  -1.700000e-06      0.7062          0.0037   \n",
       "4058   4.049610   6.300000e-05  -6.300000e-05      0.8188          0.0110   \n",
       "4059   6.099615   1.100000e-05  -1.100000e-05      0.9535          0.0120   \n",
       "4060   9.206690   1.500000e-05  -1.500000e-05      1.0430          0.0100   \n",
       "4061  12.352940   1.200000e-04  -1.200000e-04      1.1400          0.0110   \n",
       "4062  18.767000   4.000000e-03  -3.000000e-03      1.2600          0.0192   \n",
       "\n",
       "      pl_trandurerr2  \n",
       "4056         -0.0028  \n",
       "4057         -0.0037  \n",
       "4058         -0.0110  \n",
       "4059         -0.0120  \n",
       "4060         -0.0100  \n",
       "4061         -0.0110  \n",
       "4062         -0.0192  "
      ]
     },
     "execution_count": 35,
     "metadata": {},
     "output_type": "execute_result"
    }
   ],
   "source": [
    "system = df.loc[(df.hostname == \"TRAPPIST-1\") &\n",
    "                (df.discoverymethod == \"Transit\"),\n",
    "                [\"pl_tranmid\", \"pl_tranmid_systemref\",\n",
    "                 'pl_tranmiderr1', 'pl_tranmiderr2',\n",
    "                 \"pl_orbper\", \"pl_orbpererr1\", \"pl_orbpererr2\",\n",
    "                 \"pl_trandur\", \"pl_trandurerr1\", \"pl_trandurerr2\",\n",
    "                 ]]\n",
    "system"
   ]
  },
  {
   "cell_type": "code",
   "execution_count": 14,
   "metadata": {},
   "outputs": [],
   "source": [
    "from lightkurve import search_lightcurvefile"
   ]
  },
  {
   "cell_type": "code",
   "execution_count": 15,
   "metadata": {},
   "outputs": [],
   "source": [
    "flcs = search_lightcurvefile(\"TRAPPIST-1\", cadence=\"short\")"
   ]
  },
  {
   "cell_type": "code",
   "execution_count": 16,
   "metadata": {},
   "outputs": [],
   "source": [
    "flc = flcs[0].download()"
   ]
  },
  {
   "cell_type": "code",
   "execution_count": 17,
   "metadata": {},
   "outputs": [],
   "source": [
    "flc = flc.get_lightcurve(\"PDCSAP_FLUX\")"
   ]
  },
  {
   "cell_type": "code",
   "execution_count": 127,
   "metadata": {},
   "outputs": [],
   "source": [
    "offset = {\"K2\":2454833.,\"Kepler\":2454833.,\"TESS\":2457000.}\n",
    "system[\"pl_tranmidepoch\"] = system.pl_tranmid - offset[flc.mission]"
   ]
  },
  {
   "cell_type": "code",
   "execution_count": 159,
   "metadata": {},
   "outputs": [],
   "source": []
  },
  {
   "cell_type": "code",
   "execution_count": 160,
   "metadata": {},
   "outputs": [],
   "source": [
    "import pytest\n",
    "\n",
    "from altaipony.flarelc import FlareLightCurve\n",
    "\n"
   ]
  },
  {
   "cell_type": "code",
   "execution_count": 155,
   "metadata": {},
   "outputs": [],
   "source": []
  },
  {
   "cell_type": "code",
   "execution_count": 131,
   "metadata": {},
   "outputs": [],
   "source": [
    "newflux = copy.deepcopy(flc.flux)\n",
    "istransit = get_full_transit_mask(system, flc)\n",
    "newflux[istransit] = np.nan\n",
    "flc.flux = newflux"
   ]
  },
  {
   "cell_type": "code",
   "execution_count": 134,
   "metadata": {},
   "outputs": [
    {
     "data": {
      "text/plain": [
       "(2920.5, 2935.5)"
      ]
     },
     "execution_count": 134,
     "metadata": {},
     "output_type": "execute_result"
    },
    {
     "data": {
      "image/png": "[encoded data removed]",
      "text/plain": [
       "<Figure size 432x288 with 1 Axes>"
      ]
     },
     "metadata": {
      "needs_background": "light"
     },
     "output_type": "display_data"
    }
   ],
   "source": [
    "plt.plot(flc.time, istransit, zorder=-5)\n",
    "plt.xlim(2920.5,2935.5)"
   ]
  },
  {
   "cell_type": "markdown",
   "metadata": {},
   "source": [
    "# toi"
   ]
  },
  {
   "cell_type": "code",
   "execution_count": null,
   "metadata": {},
   "outputs": [],
   "source": [
    "path = \"../data/2021_01_13_TESS_TOI_CATALOG.csv\"\n",
    "print(f\"[UP] Using TESS-TOI Table from {path}\")\n",
    "df = pd.read_csv(path, skiprows=4)"
   ]
  },
  {
   "cell_type": "code",
   "execution_count": null,
   "metadata": {},
   "outputs": [],
   "source": [
    "df.columns.values"
   ]
  },
  {
   "cell_type": "code",
   "execution_count": null,
   "metadata": {},
   "outputs": [],
   "source": [
    "'Transit Duration Value', 'Orbital Period Value', 'Epoch Value'"
   ]
  }
 ],
 "metadata": {
  "kernelspec": {
   "display_name": "forallpurposes",
   "language": "python",
   "name": "forallpurposes"
  },
  "language_info": {
   "codemirror_mode": {
    "name": "ipython",
    "version": 3
   },
   "file_extension": ".py",
   "mimetype": "text/x-python",
   "name": "python",
   "nbconvert_exporter": "python",
   "pygments_lexer": "ipython3",
   "version": "3.6.9"
  }
 },
 "nbformat": 4,
 "nbformat_minor": 2
}
