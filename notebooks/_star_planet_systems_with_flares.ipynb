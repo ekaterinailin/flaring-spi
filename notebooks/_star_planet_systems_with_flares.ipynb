{
 "cells": [
  {
   "cell_type": "code",
   "execution_count": 3,
   "metadata": {},
   "outputs": [],
   "source": [
    "from funcs.notebook import *"
   ]
  },
  {
   "cell_type": "code",
   "execution_count": 4,
   "metadata": {},
   "outputs": [],
   "source": [
    "df = pd.read_csv(\"../results/2020_02_obsdurs.csv\")\n",
    "df = df.drop_duplicates(subset=\"ID\",keep=\"first\")"
   ]
  },
  {
   "cell_type": "code",
   "execution_count": 6,
   "metadata": {},
   "outputs": [
    {
     "data": {
      "text/plain": [
       "0            GJ 1132\n",
       "2            HATS-68\n",
       "4           HD 15337\n",
       "7          HD 213885\n",
       "10          HD 23472\n",
       "31           L 168-9\n",
       "33           L 98-59\n",
       "42          LHS 1140\n",
       "44          LHS 1815\n",
       "61     TIC 410214986\n",
       "64        HD 41004 A\n",
       "67           TOI-837\n",
       "69       Kepler-1229\n",
       "75           GJ 1061\n",
       "79          WASP-100\n",
       "95        Kepler-102\n",
       "140     TIC 89256802\n",
       "142       Kepler-411\n",
       "158          GJ 3082\n",
       "160        Kepler-93\n",
       "203          TOI-169\n",
       "206       Kepler-725\n",
       "224       Kepler-504\n",
       "245    TIC 318937509\n",
       "246         WASP-117\n",
       "250    TIC 348538431\n",
       "251    TIC 238086647\n",
       "254    TIC 278683844\n",
       "270     TIC 15863518\n",
       "271         WASP-164\n",
       "Name: ID, dtype: object"
      ]
     },
     "execution_count": 6,
     "metadata": {},
     "output_type": "execute_result"
    }
   ],
   "source": [
    "df.ID.head(30)"
   ]
  },
  {
   "cell_type": "code",
   "execution_count": 7,
   "metadata": {},
   "outputs": [
    {
     "name": "stdout",
     "output_type": "stream",
     "text": [
      "[UP] Using confirmed and uncontroversial entries in NASA Composite Table from {path}\n",
      "[UP] Using TESS-TOI Table from ../data/2021_01_13_TESS_TOI_CATALOG.csv\n"
     ]
    }
   ],
   "source": [
    "# Composite Table of confirmed exoplanets\n",
    "path = \"20_01_2021_confirmed_uncontroversial_exoplanet_systems.csv\"\n",
    "\n",
    "print(f\"[UP] Using confirmed and uncontroversial \"\n",
    "      \"entries in NASA Composite Table from {path}\")\n",
    "\n",
    "exokepler = pd.read_csv(f\"../data/{path}\") # composite table\n",
    "\n",
    "# read in TESS-TOI sample \n",
    "path = \"../data/2021_01_13_TESS_TOI_CATALOG.csv\"\n",
    "\n",
    "print(f\"[UP] Using TESS-TOI Table from {path}\")\n",
    "\n",
    "exotess = pd.read_csv(path, skiprows=4)\n",
    "\n",
    "# rename the relevant columns for transit masking\n",
    "exotess = exotess.rename(index=str, \n",
    "                         columns={'Transit Duration Value':\"pl_trandur\",\n",
    "                                  'Orbital Period Value': \"pl_orbper\", \n",
    "                                  'Epoch Value':\"pl_tranmidepoch\"})"
   ]
  },
  {
   "cell_type": "code",
   "execution_count": 8,
   "metadata": {},
   "outputs": [],
   "source": [
    "exokepler_withflares = exokepler.merge(df, how=\"inner\", left_on=\"hostname\", right_on=\"ID\")"
   ]
  },
  {
   "cell_type": "code",
   "execution_count": 9,
   "metadata": {},
   "outputs": [
    {
     "data": {
      "text/plain": [
       "(102,)"
      ]
     },
     "execution_count": 9,
     "metadata": {},
     "output_type": "execute_result"
    }
   ],
   "source": [
    "exokepler_withflares.hostname.unique().shape"
   ]
  },
  {
   "cell_type": "code",
   "execution_count": 10,
   "metadata": {},
   "outputs": [
    {
     "data": {
      "text/plain": [
       "(0.0, 90.0)"
      ]
     },
     "execution_count": 10,
     "metadata": {},
     "output_type": "execute_result"
    },
    {
     "data": {
      "image/png": "[encoded data removed]",
      "text/plain": [
       "<Figure size 432x288 with 1 Axes>"
      ]
     },
     "metadata": {
      "needs_background": "light"
     },
     "output_type": "display_data"
    }
   ],
   "source": [
    "exokepler_withflares.discoverymethod.hist()\n",
    "plt.ylim(0,90)\n"
   ]
  },
  {
   "cell_type": "code",
   "execution_count": 13,
   "metadata": {},
   "outputs": [
    {
     "data": {
      "text/plain": [
       "array(['hostname', 'rowid', 'pl_name', 'pl_letter', 'hd_name', 'hip_name',\n",
       "       'tic_id', 'gaia_id', 'sy_snum', 'sy_pnum', 'sy_mnum', 'cb_flag',\n",
       "       'discoverymethod', 'disc_year', 'disc_refname', 'disc_pubdate',\n",
       "       'disc_locale', 'disc_facility', 'disc_telescope',\n",
       "       'disc_instrument', 'rv_flag', 'pul_flag', 'ptv_flag', 'tran_flag',\n",
       "       'ast_flag', 'obm_flag', 'micro_flag', 'etv_flag', 'ima_flag',\n",
       "       'dkin_flag', 'pl_controv_flag', 'pl_orbper', 'pl_orbpererr1',\n",
       "       'pl_orbpererr2', 'pl_orbperlim', 'pl_orbper_reflink', 'pl_orbsmax',\n",
       "       'pl_orbsmaxerr1', 'pl_orbsmaxerr2', 'pl_orbsmaxlim',\n",
       "       'pl_orbsmax_reflink', 'pl_rade', 'pl_radeerr1', 'pl_radeerr2',\n",
       "       'pl_radelim', 'pl_rade_reflink', 'pl_radj', 'pl_radjerr1',\n",
       "       'pl_radjerr2', 'pl_radjlim', 'pl_radj_reflink', 'pl_bmasse',\n",
       "       'pl_bmasseerr1', 'pl_bmasseerr2', 'pl_bmasselim',\n",
       "       'pl_bmasse_reflink', 'pl_bmassj', 'pl_bmassjerr1', 'pl_bmassjerr2',\n",
       "       'pl_bmassjlim', 'pl_bmassj_reflink', 'pl_bmassprov', 'pl_dens',\n",
       "       'pl_denserr1', 'pl_denserr2', 'pl_denslim', 'pl_dens_reflink',\n",
       "       'pl_orbeccen', 'pl_orbeccenerr1', 'pl_orbeccenerr2',\n",
       "       'pl_orbeccenlim', 'pl_orbeccen_reflink', 'pl_insol',\n",
       "       'pl_insolerr1', 'pl_insolerr2', 'pl_insollim', 'pl_insol_reflink',\n",
       "       'pl_eqt', 'pl_eqterr1', 'pl_eqterr2', 'pl_eqtlim',\n",
       "       'pl_eqt_reflink', 'pl_orbincl', 'pl_orbinclerr1', 'pl_orbinclerr2',\n",
       "       'pl_orbincllim', 'pl_orbincl_reflink', 'pl_tranmid',\n",
       "       'pl_tranmiderr1', 'pl_tranmiderr2', 'pl_tranmidlim',\n",
       "       'pl_tranmid_systemref', 'pl_tranmid_reflink', 'ttv_flag',\n",
       "       'pl_imppar', 'pl_impparerr1', 'pl_impparerr2', 'pl_impparlim',\n",
       "       'pl_imppar_reflink', 'pl_trandep', 'pl_trandeperr1',\n",
       "       'pl_trandeperr2', 'pl_trandeplim', 'pl_trandep_reflink',\n",
       "       'pl_trandur', 'pl_trandurerr1', 'pl_trandurerr2', 'pl_trandurlim',\n",
       "       'pl_trandur_reflink', 'pl_ratdor', 'pl_ratdorerr1',\n",
       "       'pl_ratdorerr2', 'pl_ratdorlim', 'pl_ratdor_reflink', 'pl_ratror',\n",
       "       'pl_ratrorerr1', 'pl_ratrorerr2', 'pl_ratrorlim',\n",
       "       'pl_ratror_reflink', 'pl_occdep', 'pl_occdeperr1', 'pl_occdeperr2',\n",
       "       'pl_occdeplim', 'pl_occdep_reflink', 'pl_orbtper',\n",
       "       'pl_orbtpererr1', 'pl_orbtpererr2', 'pl_orbtperlim',\n",
       "       'pl_orbtper_systemref', 'pl_orbtper_reflink', 'pl_orblper',\n",
       "       'pl_orblpererr1', 'pl_orblpererr2', 'pl_orblperlim',\n",
       "       'pl_orblper_reflink', 'pl_rvamp', 'pl_rvamperr1', 'pl_rvamperr2',\n",
       "       'pl_rvamplim', 'pl_rvamp_reflink', 'pl_projobliq',\n",
       "       'pl_projobliqerr1', 'pl_projobliqerr2', 'pl_projobliqlim',\n",
       "       'pl_projobliq_reflink', 'pl_trueobliq', 'pl_trueobliqerr1',\n",
       "       'pl_trueobliqerr2', 'pl_trueobliqlim', 'pl_trueobliq_reflink',\n",
       "       'st_spectype', 'st_spectype_reflink', 'st_teff', 'st_tefferr1',\n",
       "       'st_tefferr2', 'st_tefflim', 'st_teff_reflink', 'st_rad',\n",
       "       'st_raderr1', 'st_raderr2', 'st_radlim', 'st_rad_reflink',\n",
       "       'st_mass', 'st_masserr1', 'st_masserr2', 'st_masslim',\n",
       "       'st_mass_reflink', 'st_met', 'st_meterr1', 'st_meterr2',\n",
       "       'st_metlim', 'st_met_reflink', 'st_metratio', 'st_lum',\n",
       "       'st_lumerr1', 'st_lumerr2', 'st_lumlim', 'st_lum_reflink',\n",
       "       'st_logg', 'st_loggerr1', 'st_loggerr2', 'st_logglim',\n",
       "       'st_logg_reflink', 'st_age', 'st_ageerr1', 'st_ageerr2',\n",
       "       'st_agelim', 'st_age_reflink', 'st_dens', 'st_denserr1',\n",
       "       'st_denserr2', 'st_denslim', 'st_dens_reflink', 'st_vsin',\n",
       "       'st_vsinerr1', 'st_vsinerr2', 'st_vsinlim', 'st_vsin_reflink',\n",
       "       'st_rotp', 'st_rotperr1', 'st_rotperr2', 'st_rotplim',\n",
       "       'st_rotp_reflink', 'st_radv', 'st_radverr1', 'st_radverr2',\n",
       "       'st_radvlim', 'st_radv_reflink', 'rastr', 'ra', 'decstr', 'dec',\n",
       "       'glat', 'glon', 'elat', 'elon', 'ra_reflink', 'sy_pm', 'sy_pmerr1',\n",
       "       'sy_pmerr2', 'sy_pmra', 'sy_pmraerr1', 'sy_pmraerr2', 'sy_pmdec',\n",
       "       'sy_pmdecerr1', 'sy_pmdecerr2', 'sy_pm_reflink', 'sy_dist',\n",
       "       'sy_disterr1', 'sy_disterr2', 'sy_dist_reflink', 'sy_plx',\n",
       "       'sy_plxerr1', 'sy_plxerr2', 'sy_plx_reflink', 'sy_bmag',\n",
       "       'sy_bmagerr1', 'sy_bmagerr2', 'sy_bmag_reflink', 'sy_vmag',\n",
       "       'sy_vmagerr1', 'sy_vmagerr2', 'sy_vmag_reflink', 'sy_jmag',\n",
       "       'sy_jmagerr1', 'sy_jmagerr2', 'sy_jmag_reflink', 'sy_hmag',\n",
       "       'sy_hmagerr1', 'sy_hmagerr2', 'sy_hmag_reflink', 'sy_kmag',\n",
       "       'sy_kmagerr1', 'sy_kmagerr2', 'sy_kmag_reflink', 'sy_umag',\n",
       "       'sy_umagerr1', 'sy_umagerr2', 'sy_umag_reflink', 'sy_gmag',\n",
       "       'sy_gmagerr1', 'sy_gmagerr2', 'sy_gmag_reflink', 'sy_rmag',\n",
       "       'sy_rmagerr1', 'sy_rmagerr2', 'sy_rmag_reflink', 'sy_imag',\n",
       "       'sy_imagerr1', 'sy_imagerr2', 'sy_imag_reflink', 'sy_zmag',\n",
       "       'sy_zmagerr1', 'sy_zmagerr2', 'sy_zmag_reflink', 'sy_w1mag',\n",
       "       'sy_w1magerr1', 'sy_w1magerr2', 'sy_w1mag_reflink', 'sy_w2mag',\n",
       "       'sy_w2magerr1', 'sy_w2magerr2', 'sy_w2mag_reflink', 'sy_w3mag',\n",
       "       'sy_w3magerr1', 'sy_w3magerr2', 'sy_w3mag_reflink', 'sy_w4mag',\n",
       "       'sy_w4magerr1', 'sy_w4magerr2', 'sy_w4mag_reflink', 'sy_gaiamag',\n",
       "       'sy_gaiamagerr1', 'sy_gaiamagerr2', 'sy_gaiamag_reflink',\n",
       "       'sy_icmag', 'sy_icmagerr1', 'sy_icmagerr2', 'sy_icmag_reflink',\n",
       "       'sy_tmag', 'sy_tmagerr1', 'sy_tmagerr2', 'sy_tmag_reflink',\n",
       "       'sy_kepmag', 'sy_kepmagerr1', 'sy_kepmagerr2', 'sy_kepmag_reflink',\n",
       "       'pl_nnotes', 'st_nphot', 'st_nrvc', 'st_nspec', 'pl_nespec',\n",
       "       'pl_ntranspec', 'ID', 'qcs', 'lc_n', 'datapoints', 'mission',\n",
       "       'total_available_lcs'], dtype=object)"
      ]
     },
     "execution_count": 13,
     "metadata": {},
     "output_type": "execute_result"
    }
   ],
   "source": [
    "exokepler_withflares.columns.values"
   ]
  },
  {
   "cell_type": "code",
   "execution_count": 11,
   "metadata": {},
   "outputs": [],
   "source": [
    "df[\"TIC\"] = df.ID.str[3:] \n",
    "df[\"istic\"] = (df.ID.str[:3] == \"TIC\")"
   ]
  },
  {
   "cell_type": "code",
   "execution_count": 14,
   "metadata": {},
   "outputs": [],
   "source": [
    "dftic = df[df.istic]\n",
    "dftic.TIC = dftic.TIC.astype(int)"
   ]
  },
  {
   "cell_type": "code",
   "execution_count": 19,
   "metadata": {},
   "outputs": [],
   "source": [
    "exotess_withflares = exotess.merge(dftic, how=\"inner\", on=\"TIC\")\n",
    "exotess_withflares[\"discoverymethod\"] = \"Transit\""
   ]
  },
  {
   "cell_type": "code",
   "execution_count": 27,
   "metadata": {},
   "outputs": [
    {
     "data": {
      "text/plain": [
       "([0, 1, 2, 3], <a list of 4 Text major ticklabel objects>)"
      ]
     },
     "execution_count": 27,
     "metadata": {},
     "output_type": "execute_result"
    },
    {
     "data": {
      "image/png": "[encoded data removed]",
      "text/plain": [
       "<Figure size 432x288 with 1 Axes>"
      ]
     },
     "metadata": {
      "needs_background": "light"
     },
     "output_type": "display_data"
    }
   ],
   "source": [
    "s = pd.concat([exotess_withflares.discoverymethod, exokepler_withflares.discoverymethod] )\n",
    "s.hist()\n",
    "# plt.ylim(0,90)\n",
    "plt.xticks(rotation=8)"
   ]
  },
  {
   "cell_type": "code",
   "execution_count": 41,
   "metadata": {},
   "outputs": [
    {
     "name": "stdout",
     "output_type": "stream",
     "text": [
      "['2MASS J01225093-2439505' '2MASS J02192210-3925225' '51 Eri' 'GU Psc'\n",
      " 'VHS J125601.92-125723.9']\n"
     ]
    }
   ],
   "source": [
    "print(str(exokepler_withflares[(exokepler_withflares.discoverymethod==\"Imaging\")].hostname.values))"
   ]
  },
  {
   "cell_type": "code",
   "execution_count": 69,
   "metadata": {
    "scrolled": true
   },
   "outputs": [],
   "source": [
    "pd.options.display.max_colwidth =130\n",
    "exokepler_withflares.loc[exokepler_withflares.discoverymethod==\"Radial Velocity\",\n",
    "                         [\"hostname\",#'pl_orbeccen', 'pl_orbeccenerr1','pl_orbeccenerr2',\"pl_orbeccen_reflink\",\n",
    "                           \"pl_orbtper\", \"pl_orbtpererr1\", \n",
    "                          \"pl_orbtpererr2\",\"pl_orblper\", \"pl_orblpererr1\",\n",
    "                          \"pl_orblpererr2\", \"pl_orblper_reflink\",\"pl_orbtper_reflink\",\"pl_orbeccen_reflink\"]].to_csv(\"../inter.csv\")"
   ]
  },
  {
   "cell_type": "code",
   "execution_count": 51,
   "metadata": {},
   "outputs": [
    {
     "data": {
      "text/plain": [
       "array(['hostname', 'rowid', 'pl_name', 'pl_letter', 'hd_name', 'hip_name',\n",
       "       'tic_id', 'gaia_id', 'sy_snum', 'sy_pnum', 'sy_mnum', 'cb_flag',\n",
       "       'discoverymethod', 'disc_year', 'disc_refname', 'disc_pubdate',\n",
       "       'disc_locale', 'disc_facility', 'disc_telescope',\n",
       "       'disc_instrument', 'rv_flag', 'pul_flag', 'ptv_flag', 'tran_flag',\n",
       "       'ast_flag', 'obm_flag', 'micro_flag', 'etv_flag', 'ima_flag',\n",
       "       'dkin_flag', 'pl_controv_flag', 'pl_orbper', 'pl_orbpererr1',\n",
       "       'pl_orbpererr2', 'pl_orbperlim', 'pl_orbper_reflink', 'pl_orbsmax',\n",
       "       'pl_orbsmaxerr1', 'pl_orbsmaxerr2', 'pl_orbsmaxlim',\n",
       "       'pl_orbsmax_reflink', 'pl_rade', 'pl_radeerr1', 'pl_radeerr2',\n",
       "       'pl_radelim', 'pl_rade_reflink', 'pl_radj', 'pl_radjerr1',\n",
       "       'pl_radjerr2', 'pl_radjlim', 'pl_radj_reflink', 'pl_bmasse',\n",
       "       'pl_bmasseerr1', 'pl_bmasseerr2', 'pl_bmasselim',\n",
       "       'pl_bmasse_reflink', 'pl_bmassj', 'pl_bmassjerr1', 'pl_bmassjerr2',\n",
       "       'pl_bmassjlim', 'pl_bmassj_reflink', 'pl_bmassprov', 'pl_dens',\n",
       "       'pl_denserr1', 'pl_denserr2', 'pl_denslim', 'pl_dens_reflink',\n",
       "       'pl_orbeccen', 'pl_orbeccenerr1', 'pl_orbeccenerr2',\n",
       "       'pl_orbeccenlim', 'pl_orbeccen_reflink', 'pl_insol',\n",
       "       'pl_insolerr1', 'pl_insolerr2', 'pl_insollim', 'pl_insol_reflink',\n",
       "       'pl_eqt', 'pl_eqterr1', 'pl_eqterr2', 'pl_eqtlim',\n",
       "       'pl_eqt_reflink', 'pl_orbincl', 'pl_orbinclerr1', 'pl_orbinclerr2',\n",
       "       'pl_orbincllim', 'pl_orbincl_reflink', 'pl_tranmid',\n",
       "       'pl_tranmiderr1', 'pl_tranmiderr2', 'pl_tranmidlim',\n",
       "       'pl_tranmid_systemref', 'pl_tranmid_reflink', 'ttv_flag',\n",
       "       'pl_imppar', 'pl_impparerr1', 'pl_impparerr2', 'pl_impparlim',\n",
       "       'pl_imppar_reflink', 'pl_trandep', 'pl_trandeperr1',\n",
       "       'pl_trandeperr2', 'pl_trandeplim', 'pl_trandep_reflink',\n",
       "       'pl_trandur', 'pl_trandurerr1', 'pl_trandurerr2', 'pl_trandurlim',\n",
       "       'pl_trandur_reflink', 'pl_ratdor', 'pl_ratdorerr1',\n",
       "       'pl_ratdorerr2', 'pl_ratdorlim', 'pl_ratdor_reflink', 'pl_ratror',\n",
       "       'pl_ratrorerr1', 'pl_ratrorerr2', 'pl_ratrorlim',\n",
       "       'pl_ratror_reflink', 'pl_occdep', 'pl_occdeperr1', 'pl_occdeperr2',\n",
       "       'pl_occdeplim', 'pl_occdep_reflink', 'pl_orbtper',\n",
       "       'pl_orbtpererr1', 'pl_orbtpererr2', 'pl_orbtperlim',\n",
       "       'pl_orbtper_systemref', 'pl_orbtper_reflink', 'pl_orblper',\n",
       "       'pl_orblpererr1', 'pl_orblpererr2', 'pl_orblperlim',\n",
       "       'pl_orblper_reflink', 'pl_rvamp', 'pl_rvamperr1', 'pl_rvamperr2',\n",
       "       'pl_rvamplim', 'pl_rvamp_reflink', 'pl_projobliq',\n",
       "       'pl_projobliqerr1', 'pl_projobliqerr2', 'pl_projobliqlim',\n",
       "       'pl_projobliq_reflink', 'pl_trueobliq', 'pl_trueobliqerr1',\n",
       "       'pl_trueobliqerr2', 'pl_trueobliqlim', 'pl_trueobliq_reflink',\n",
       "       'st_spectype', 'st_spectype_reflink', 'st_teff', 'st_tefferr1',\n",
       "       'st_tefferr2', 'st_tefflim', 'st_teff_reflink', 'st_rad',\n",
       "       'st_raderr1', 'st_raderr2', 'st_radlim', 'st_rad_reflink',\n",
       "       'st_mass', 'st_masserr1', 'st_masserr2', 'st_masslim',\n",
       "       'st_mass_reflink', 'st_met', 'st_meterr1', 'st_meterr2',\n",
       "       'st_metlim', 'st_met_reflink', 'st_metratio', 'st_lum',\n",
       "       'st_lumerr1', 'st_lumerr2', 'st_lumlim', 'st_lum_reflink',\n",
       "       'st_logg', 'st_loggerr1', 'st_loggerr2', 'st_logglim',\n",
       "       'st_logg_reflink', 'st_age', 'st_ageerr1', 'st_ageerr2',\n",
       "       'st_agelim', 'st_age_reflink', 'st_dens', 'st_denserr1',\n",
       "       'st_denserr2', 'st_denslim', 'st_dens_reflink', 'st_vsin',\n",
       "       'st_vsinerr1', 'st_vsinerr2', 'st_vsinlim', 'st_vsin_reflink',\n",
       "       'st_rotp', 'st_rotperr1', 'st_rotperr2', 'st_rotplim',\n",
       "       'st_rotp_reflink', 'st_radv', 'st_radverr1', 'st_radverr2',\n",
       "       'st_radvlim', 'st_radv_reflink', 'rastr', 'ra', 'decstr', 'dec',\n",
       "       'glat', 'glon', 'elat', 'elon', 'ra_reflink', 'sy_pm', 'sy_pmerr1',\n",
       "       'sy_pmerr2', 'sy_pmra', 'sy_pmraerr1', 'sy_pmraerr2', 'sy_pmdec',\n",
       "       'sy_pmdecerr1', 'sy_pmdecerr2', 'sy_pm_reflink', 'sy_dist',\n",
       "       'sy_disterr1', 'sy_disterr2', 'sy_dist_reflink', 'sy_plx',\n",
       "       'sy_plxerr1', 'sy_plxerr2', 'sy_plx_reflink', 'sy_bmag',\n",
       "       'sy_bmagerr1', 'sy_bmagerr2', 'sy_bmag_reflink', 'sy_vmag',\n",
       "       'sy_vmagerr1', 'sy_vmagerr2', 'sy_vmag_reflink', 'sy_jmag',\n",
       "       'sy_jmagerr1', 'sy_jmagerr2', 'sy_jmag_reflink', 'sy_hmag',\n",
       "       'sy_hmagerr1', 'sy_hmagerr2', 'sy_hmag_reflink', 'sy_kmag',\n",
       "       'sy_kmagerr1', 'sy_kmagerr2', 'sy_kmag_reflink', 'sy_umag',\n",
       "       'sy_umagerr1', 'sy_umagerr2', 'sy_umag_reflink', 'sy_gmag',\n",
       "       'sy_gmagerr1', 'sy_gmagerr2', 'sy_gmag_reflink', 'sy_rmag',\n",
       "       'sy_rmagerr1', 'sy_rmagerr2', 'sy_rmag_reflink', 'sy_imag',\n",
       "       'sy_imagerr1', 'sy_imagerr2', 'sy_imag_reflink', 'sy_zmag',\n",
       "       'sy_zmagerr1', 'sy_zmagerr2', 'sy_zmag_reflink', 'sy_w1mag',\n",
       "       'sy_w1magerr1', 'sy_w1magerr2', 'sy_w1mag_reflink', 'sy_w2mag',\n",
       "       'sy_w2magerr1', 'sy_w2magerr2', 'sy_w2mag_reflink', 'sy_w3mag',\n",
       "       'sy_w3magerr1', 'sy_w3magerr2', 'sy_w3mag_reflink', 'sy_w4mag',\n",
       "       'sy_w4magerr1', 'sy_w4magerr2', 'sy_w4mag_reflink', 'sy_gaiamag',\n",
       "       'sy_gaiamagerr1', 'sy_gaiamagerr2', 'sy_gaiamag_reflink',\n",
       "       'sy_icmag', 'sy_icmagerr1', 'sy_icmagerr2', 'sy_icmag_reflink',\n",
       "       'sy_tmag', 'sy_tmagerr1', 'sy_tmagerr2', 'sy_tmag_reflink',\n",
       "       'sy_kepmag', 'sy_kepmagerr1', 'sy_kepmagerr2', 'sy_kepmag_reflink',\n",
       "       'pl_nnotes', 'st_nphot', 'st_nrvc', 'st_nspec', 'pl_nespec',\n",
       "       'pl_ntranspec', 'ID', 'qcs', 'lc_n', 'datapoints', 'mission',\n",
       "       'total_available_lcs'], dtype=object)"
      ]
     },
     "execution_count": 51,
     "metadata": {},
     "output_type": "execute_result"
    }
   ],
   "source": [
    "exokepler_withflares.columns.values"
   ]
  },
  {
   "cell_type": "code",
   "execution_count": 10,
   "metadata": {},
   "outputs": [],
   "source": [
    "# exotess_withflares.groupby(\"TIC\").count()"
   ]
  },
  {
   "cell_type": "code",
   "execution_count": 55,
   "metadata": {},
   "outputs": [
    {
     "data": {
      "text/plain": [
       "array(['TIC 410214986', 'TIC 89256802', 'TIC 318937509', 'TIC 348538431',\n",
       "       'TIC 238086647', 'TIC 278683844', 'TIC 15863518', 'TIC 42015200',\n",
       "       'TIC 278866211', 'TIC 180695581', 'TIC 366563452', 'TIC 93125144',\n",
       "       'TIC 409934330', 'TIC 44797824', 'TIC 278198753', 'TIC 420112587',\n",
       "       'TIC 459837008', 'TIC 67646988', 'TIC 459970307', 'TIC 368287008',\n",
       "       'TIC 299798795', 'TIC 264544388', 'TIC 8348911', 'TIC 101230735',\n",
       "       'TIC 262530407', 'TIC 142090065', 'TIC 236714379', 'TIC 115623434',\n",
       "       'TIC 259962054', 'TIC 328350926', 'TIC 236387002', 'TIC 32090583',\n",
       "       'TIC 224298134', 'TIC 138968089', 'TIC 257605131', 'TIC 32830028',\n",
       "       'TIC 2760710', 'TIC 198385543', 'TIC 235037761', 'TIC 120916706',\n",
       "       'TIC 377293776', 'TIC 13684720', 'TIC 272086159', 'TIC 233120979',\n",
       "       'TIC 161032923', 'TIC 206609630', 'TIC 52280468', 'TIC 77951245',\n",
       "       'TIC 310231275', 'TIC 233211762'], dtype=object)"
      ]
     },
     "execution_count": 55,
     "metadata": {},
     "output_type": "execute_result"
    }
   ],
   "source": [
    "# df[df.istic].ID.values"
   ]
  },
  {
   "cell_type": "code",
   "execution_count": 56,
   "metadata": {},
   "outputs": [
    {
     "data": {
      "text/plain": [
       "((50, 8), (102, 8))"
      ]
     },
     "execution_count": 56,
     "metadata": {},
     "output_type": "execute_result"
    }
   ],
   "source": [
    " df[df.istic].shape, df[~df.istic].shape"
   ]
  },
  {
   "cell_type": "code",
   "execution_count": null,
   "metadata": {},
   "outputs": [],
   "source": []
  }
 ],
 "metadata": {
  "kernelspec": {
   "display_name": "forallpurposes",
   "language": "python",
   "name": "forallpurposes"
  },
  "language_info": {
   "codemirror_mode": {
    "name": "ipython",
    "version": 3
   },
   "file_extension": ".py",
   "mimetype": "text/x-python",
   "name": "python",
   "nbconvert_exporter": "python",
   "pygments_lexer": "ipython3",
   "version": "3.6.9"
  }
 },
 "nbformat": 4,
 "nbformat_minor": 2
}
