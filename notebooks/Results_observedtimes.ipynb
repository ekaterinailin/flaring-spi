{
 "cells": [
  {
   "cell_type": "code",
   "execution_count": 6,
   "metadata": {},
   "outputs": [],
   "source": [
    "from funcs.notebook import *\n",
    "from funcs.transitmask import get_full_transit_mask\n",
    "from funcs.detrend import custom_detrending, estimate_detrended_noise\n",
    "import time\n",
    "\n",
    "\n",
    "sep = \"-----------------------------------------\"\n",
    "\n",
    "def mprint(message):\n",
    "    print(sep)\n",
    "    print(message)\n",
    "    print(sep)\n",
    "    \n",
    "offset = {\"K2\":2454833.,\"Kepler\":2454833.,\"TESS\":2457000., \n",
    "          \"Transiting Exoplanet Survey Satellite (TESS)\" : 2457000.}    \n",
    "\n",
    "\n",
    "from altaipony.lcio import from_mast\n",
    "from altaipony.flarelc import FlareLightCurve"
   ]
  },
  {
   "cell_type": "code",
   "execution_count": 7,
   "metadata": {},
   "outputs": [
    {
     "name": "stdout",
     "output_type": "stream",
     "text": [
      "-----------------------------------------\n",
      "[UP] Using confirmed and uncontroversial entries in NASA Composite Table from {path}\n",
      "-----------------------------------------\n",
      "-----------------------------------------\n",
      "[UP] Using TESS-TOI Table from ../data/2021_01_13_TESS_TOI_CATALOG.csv\n",
      "-----------------------------------------\n"
     ]
    }
   ],
   "source": [
    "# Composite Table of confirmed exoplanets\n",
    "path = \"20_01_2021_confirmed_uncontroversial_exoplanet_systems.csv\"\n",
    "\n",
    "mprint(f\"[UP] Using confirmed and uncontroversial \"\n",
    "      \"entries in NASA Composite Table from {path}\")\n",
    "\n",
    "exokepler = pd.read_csv(f\"../data/{path}\") # composite table\n",
    "\n",
    "# read in TESS-TOI sample \n",
    "path = \"../data/2021_01_13_TESS_TOI_CATALOG.csv\"\n",
    "\n",
    "mprint(f\"[UP] Using TESS-TOI Table from {path}\")\n",
    "\n",
    "exotess = pd.read_csv(path, skiprows=4)\n",
    "\n",
    "# rename the relevant columns for transit masking\n",
    "exotess = exotess.rename(index=str, \n",
    "                         columns={'Transit Duration Value':\"pl_trandur\",\n",
    "                                  'Orbital Period Value': \"pl_orbper\",\n",
    "                                  'Orbital Period Error': \"pl_orbpererr\",\n",
    "                                  'Epoch Value':\"pl_tranmidepoch\",\n",
    "                                  'Epoch Error':\"pl_tranmidepocherr\"})\n",
    "\n",
    "\n",
    "# read in list of LCs to search\n",
    "es = pd.read_csv(\"../data/20_01_2021_full_kepler_k2_tess_exoplanet_lcs_some_excluded.csv\")\n",
    "\n",
    "# select only Kepler and TESS, ignore K2 for now\n",
    "eskeptess = es[(es.mission==\"TESS\") | (es.mission==\"Kepler\")]\n",
    "\n",
    "# read in searched LCs with and without flares\n",
    "flares = pd.read_csv(\"../results/2020_02_flares_vetted.csv\")\n",
    "fla = flares[(flares[\"real?\"]==1)]\n",
    "\n",
    "# pick only LC that were not yet searched\n",
    "#eskeptess = eskeptess[~eskeptess.ID.isin(fla.ID.unique())]"
   ]
  },
  {
   "cell_type": "code",
   "execution_count": 3,
   "metadata": {},
   "outputs": [
    {
     "data": {
      "text/plain": [
       "((9177, 17), (9519, 4))"
      ]
     },
     "execution_count": 3,
     "metadata": {},
     "output_type": "execute_result"
    }
   ],
   "source": [
    "flares.groupby([\"ID\", \"qcs\"]).count().shape, eskeptess.groupby([\"ID\", \"qcs\", \"mission\"]).count().shape"
   ]
  },
  {
   "cell_type": "code",
   "execution_count": null,
   "metadata": {},
   "outputs": [],
   "source": [
    "ff = fla[[\"ID\", \"qcs\"]].drop_duplicates(keep=\"first\")"
   ]
  },
  {
   "cell_type": "code",
   "execution_count": null,
   "metadata": {},
   "outputs": [],
   "source": [
    "obsdurs = pd.read_csv(\"../results/2020_02_obsdurs.csv\")\n",
    "missing = pd.concat([obsdurs, ff]).drop_duplicates(subset=[\"ID\", \"qcs\"], \n",
    "                                                          keep=False)\n",
    "obsdurs.shape, missing.shape"
   ]
  },
  {
   "cell_type": "code",
   "execution_count": null,
   "metadata": {},
   "outputs": [],
   "source": [
    "a = set(ff.ID.unique())\n",
    "b = set(obsdurs.ID.unique())\n",
    "left =  list(a - b)"
   ]
  },
  {
   "cell_type": "code",
   "execution_count": null,
   "metadata": {},
   "outputs": [],
   "source": [
    "len(a), len(b), len(left)"
   ]
  },
  {
   "cell_type": "code",
   "execution_count": null,
   "metadata": {},
   "outputs": [],
   "source": [
    "TSTART = time.time()\n",
    "n=0\n",
    "N = ff.shape[0]\n",
    "\n",
    "\n",
    "for ID in left:\n",
    "    \n",
    "    rows = eskeptess[(ID == eskeptess[\"ID\"])]\n",
    "    print(rows.qcs)\n",
    "    available_lcs = rows.shape[0]\n",
    "    for j, row in rows.iterrows():\n",
    "        # TIC is unique ID for star\n",
    "        system_tess = exotess[(exotess.TIC == row.TIC)]\n",
    "\n",
    "\n",
    "        # ID is unique, also ignore entries that have no transits\n",
    "        # because there is nothing to mask (they are still searched for flares)\n",
    "        system_kepler = exokepler[(exokepler.hostname == row.ID) &\n",
    "                           (exokepler.discoverymethod == \"Transit\")]\n",
    "        \n",
    "        system_kepler[\"pl_orbpererr\"] = (system_kepler.pl_orbpererr1 +\n",
    "                                         system_kepler.pl_orbpererr2) / 2\n",
    "\n",
    "        try:\n",
    "            if system_kepler.shape[0] > 0:\n",
    "                system_kepler[\"pl_tranmidepoch\"] = (system_kepler.pl_tranmid -\n",
    "                                                    offset[system_kepler.iloc[0].disc_facility])\n",
    "                system_kepler[\"pl_tranmidepocherr\"] = (system_kepler.pl_tranmiderr1 +\n",
    "                                                  system_kepler.pl_tranmiderr2) / 2\n",
    "            system = pd.concat([system_kepler, system_tess],ignore_index=True)\n",
    "\n",
    "        except KeyError:\n",
    "            system = system_tess\n",
    "            print(system_kepler.pl_tranmid_systemref)\n",
    "\n",
    "        # fetch light curve from MAST\n",
    "        flc = from_mast(row.ID, mission=row.mission, c=row.qcs, cadence=\"short\",\n",
    "                        download_dir=\"/home/ekaterina/Documents/001_science/lcs\")\n",
    "\n",
    "        # make it a list of LCs even if only one LC is returned\n",
    "        if type(flc) == FlareLightCurve:\n",
    "\n",
    "            flc = [flc]\n",
    "\n",
    "        elif type(flc) == list:\n",
    "\n",
    "            flc = flc\n",
    "\n",
    "        # info\n",
    "        mprint(f\"{len(flc)} light curves available for {row.ID} in {row.mission}.\")\n",
    "        \n",
    "        if row.mission == \"TESS\":\n",
    "            flc = flc[:1]\n",
    "\n",
    "        # loop over all LCs for the system    \n",
    "        for i, f in enumerate(flc):\n",
    "\n",
    "            # If any planet transiting\n",
    "            if system.shape[0] > 0:\n",
    "\n",
    "                # mask transits\n",
    "                tranmask = get_full_transit_mask(system, f, pad=0)\n",
    "                f.flux[tranmask] = np.nan\n",
    "\n",
    "            # get timestamp for result\n",
    "            tstamp = time.strftime(\"%d_%m_%Y_%H_%M_%S\", time.localtime())\n",
    "            # apply custom detrending\n",
    "            \n",
    "            try:\n",
    "                ts = time.clock()\n",
    "                fd = custom_detrending(f)\n",
    "                tf = time.clock()\n",
    "\n",
    "\n",
    "                # define two hour window for rolling std\n",
    "                w = np.floor(1. / 12. / np.nanmin(np.diff(fd.time)))\n",
    "                if w%2==0: \n",
    "                    w+=1\n",
    "\n",
    "                # use window to estimate the noise in the LC\n",
    "                df = estimate_detrended_noise(fd, std_window=int(w), mask_pos_outliers_sigma=1.5)\n",
    "\n",
    "                fin = np.isfinite(df.detrended_flux)\n",
    "                print(df.detrended_flux[fin].shape)\n",
    "\n",
    "                        # add results to file\n",
    "                with open(\"../results/2020_02_obsdurs.csv\", \"a\") as file:\n",
    "                    s = f\"{row.ID},{row.qcs},{i},{df.detrended_flux[fin].shape[0]},{row.mission},{available_lcs}\\n\"\n",
    "                    file.write(s)    # info\n",
    "\n",
    "                with open(f\"../results/observedtimes/{row.ID}_{row.qcs}_{i}_{row.mission}.csv\", \"w\") as file:\n",
    "                    d = pd.DataFrame({\"time\":df.time[fin],\"flux\":df.detrended_flux[fin]})\n",
    "                    d.to_csv(file,index=False)\n",
    "            except Exception as err:\n",
    "                with open(\"../results/nodetrend_phase.txt\", \"a\") as file:\n",
    "                    s = f\"{row.ID},{row.qcs},{row.mission},{tstamp},{i},{err}\\n\"\n",
    "                    file.write(s)\n",
    "        n += 1\n",
    "        print(f\"{n / N * 100.:.1f}%, [{n}/{N}]\")\n",
    "\n",
    "        # breathe\n",
    "        time.sleep(10)\n",
    "\n",
    "TSTOP = time.time()\n",
    "mprint(f\"Analysis of {N} light curves took {(TSTOP - TSTART) / 60. / 60.:.1f} hours.\")"
   ]
  },
  {
   "cell_type": "markdown",
   "metadata": {},
   "source": [
    "# Add one"
   ]
  },
  {
   "cell_type": "code",
   "execution_count": 8,
   "metadata": {},
   "outputs": [
    {
     "name": "stdout",
     "output_type": "stream",
     "text": [
      "29\n"
     ]
    }
   ],
   "source": [
    "row = eskeptess[(\"HATS-68\" == eskeptess[\"ID\"])].iloc[1]\n",
    "print(row.qcs)"
   ]
  },
  {
   "cell_type": "code",
   "execution_count": 9,
   "metadata": {},
   "outputs": [
    {
     "name": "stderr",
     "output_type": "stream",
     "text": [
      "/home/ekaterina/Documents/000_envs/forallpurposes/lib/python3.6/site-packages/lightkurve/io/tess.py:34: ResourceWarning: unclosed file <_io.FileIO name='/home/ekaterina/Documents/001_science/lcs/mastDownload/TESS/tess2020238165205-s0029-0000000322307342-0193-s/tess2020238165205-s0029-0000000322307342-0193-s_lc.fits' mode='rb' closefd=True>\n",
      "  lc = read_generic_lightcurve(filename, flux_column=flux_column, time_format=\"btjd\")\n",
      "1% (254/18183) of the cadences will be ignored due to the quality mask (quality_bitmask=175).\n",
      "1% (254/18183) of the cadences will be ignored due to the quality mask (quality_bitmask=175).\n"
     ]
    },
    {
     "name": "stdout",
     "output_type": "stream",
     "text": [
      "Index(['Source Pipeline', 'TIC', 'Full TOI ID', 'TOI Disposition',\n",
      "       'TIC Right Ascension', 'TIC Declination', 'TMag Value',\n",
      "       'TMag Uncertainty', 'pl_tranmidepoch', 'pl_tranmidepocherr',\n",
      "       'pl_orbper', 'pl_orbpererr', 'pl_trandur', 'Transit Duration Error',\n",
      "       'Transit Depth Value', 'Transit Depth Error', 'Sectors',\n",
      "       'Public Comment', 'Surface Gravity Value',\n",
      "       'Surface Gravity Uncertainty', 'Signal ID', 'Star Radius Value',\n",
      "       'Star Radius Error', 'Planet Radius Value', 'Planet Radius Error',\n",
      "       'Planet Equilibrium Temperature (K) Value',\n",
      "       'Effective Temperature Value', 'Effective Temperature Uncertainty',\n",
      "       'Effective Stellar Flux Value', 'Signal-to-noise', 'Centroid Offset',\n",
      "       'TFOP Master', 'TFOP SG1a', 'TFOP SG1b', 'TFOP SG2', 'TFOP SG3',\n",
      "       'TFOP SG4', 'TFOP SG5', 'Alerted', 'Updated'],\n",
      "      dtype='object')\n",
      "-----------------------------------------\n",
      "1 light curves available for HATS-68 in TESS.\n",
      "-----------------------------------------\n",
      "462    0.06911\n",
      "Name: durhalf, dtype: float64 <<< durhalf\n",
      "462    0.00133\n",
      "Name: pl_tranmidepocherr, dtype: float64 <<< pl_tranmidepoch\n",
      "462    0.000399\n",
      "Name: pl_orbpererr, dtype: float64 <<< pl_orbpererr\n"
     ]
    },
    {
     "name": "stderr",
     "output_type": "stream",
     "text": [
      "/home/ekaterina/Documents/001_science/Flaring_SPI/notebooks/funcs/transitmask.py:80: SettingWithCopyWarning: \n",
      "A value is trying to be set on a copy of a slice from a DataFrame.\n",
      "Try using .loc[row_indexer,col_indexer] = value instead\n",
      "\n",
      "See the caveats in the documentation: https://pandas.pydata.org/pandas-docs/stable/user_guide/indexing.html#returning-a-view-versus-a-copy\n",
      "  system[\"durhalf\"] = system[\"pl_trandur\"] / 48. # convert to days and cut in half\n",
      "/home/ekaterina/Documents/000_envs/forallpurposes/lib/python3.6/site-packages/numpy/lib/nanfunctions.py:1113: RuntimeWarning: Mean of empty slice\n",
      "  return np.nanmean(a, axis, out=out, keepdims=keepdims)\n"
     ]
    },
    {
     "name": "stdout",
     "output_type": "stream",
     "text": [
      "0.023115999999998138 2.055348000000002 0.3247289999999978 0.28993300000000133 0.22304199999999952 0.3381989999999995 3.2543669999999985\n"
     ]
    },
    {
     "name": "stderr",
     "output_type": "stream",
     "text": [
      "/home/ekaterina/Documents/000_envs/forallpurposes/lib/python3.6/site-packages/numpy/lib/nanfunctions.py:1113: RuntimeWarning: Mean of empty slice\n",
      "  return np.nanmean(a, axis, out=out, keepdims=keepdims)\n"
     ]
    },
    {
     "data": {
      "image/png": "[encoded data removed]",
      "text/plain": [
       "<Figure size 432x288 with 1 Axes>"
      ]
     },
     "metadata": {
      "needs_background": "light"
     },
     "output_type": "display_data"
    },
    {
     "data": {
      "image/png": "[encoded data removed]",
      "text/plain": [
       "<Figure size 1152x576 with 1 Axes>"
      ]
     },
     "metadata": {
      "needs_background": "light"
     },
     "output_type": "display_data"
    }
   ],
   "source": [
    "%matplotlib inline\n",
    "# TIC is unique ID for star\n",
    "system_tess = exotess[(exotess.TIC == row.TIC)]\n",
    "\n",
    "# ID is unique, also ignore entries that have no transits\n",
    "# because there is nothing to mask (they are still searched for flares)\n",
    "system_kepler = exokepler[(exokepler.hostname == row.ID) &\n",
    "                   (exokepler.discoverymethod == \"Transit\")]\n",
    "\n",
    "try:\n",
    "    if system_kepler.shape[0] > 0:\n",
    "        system_kepler[\"pl_tranmidepoch\"] = (system_kepler.pl_tranmid -\n",
    "                                            offset[system_kepler.iloc[0].disc_facility])\n",
    "    system = pd.concat([system_kepler, system_tess],ignore_index=True)\n",
    "\n",
    "except KeyError:\n",
    "    system = system_tess\n",
    "    print(system.columns)\n",
    "\n",
    "    \n",
    "    \n",
    "# fetch light curve from MAST\n",
    "flc = from_mast(row.ID, mission=row.mission, c=row.qcs, cadence=\"short\",\n",
    "                download_dir=\"/home/ekaterina/Documents/001_science/lcs\")\n",
    "\n",
    "# make it a list of LCs even if only one LC is returned\n",
    "if type(flc) == FlareLightCurve:\n",
    "\n",
    "    flc = [flc]\n",
    "\n",
    "elif type(flc) == list:\n",
    "\n",
    "    flc = flc\n",
    "\n",
    "# info\n",
    "mprint(f\"{len(flc)} light curves available for {row.ID} in {row.mission}.\")\n",
    "\n",
    "if row.mission == \"TESS\":\n",
    "    flc = flc[:1]\n",
    "\n",
    "# loop over all LCs for the system    \n",
    "for i, f in enumerate(flc):\n",
    "\n",
    "    # If any planet transiting\n",
    "    if system.shape[0] > 0:\n",
    "\n",
    "        # mask transits\n",
    "        tranmask = get_full_transit_mask(system, f, pad=0)\n",
    "        f.flux[tranmask] = np.nan\n",
    "\n",
    "    # get timestamp for result\n",
    "    tstamp = time.strftime(\"%d_%m_%Y_%H_%M_%S\", time.localtime())\n",
    "    # apply custom detrending\n",
    "\n",
    "    try:\n",
    "        ts = time.clock()\n",
    "        \n",
    "        fd = custom_detrending(f)\n",
    "        tf = time.clock()\n",
    "        \n",
    "\n",
    "        # define two hour window for rolling std\n",
    "        w = np.floor(1. / 12. / np.nanmin(np.diff(fd.time.value)))\n",
    "        if w%2==0: \n",
    "            w+=1\n",
    "\n",
    "        # use window to estimate the noise in the LC\n",
    "        df = estimate_detrended_noise(fd, std_window=int(w), mask_pos_outliers_sigma=2.5)\n",
    "\n",
    "        fin = np.isfinite(df.detrended_flux.value)\n",
    "#         print(df.detrended_flux[fin].shape)\n",
    "\n",
    "                # add results to file\n",
    "        with open(\"../results/2020_02_obsdurs.csv\", \"a\") as file:\n",
    "            s = f\"{row.ID},{row.qcs},{i},{df.detrended_flux[fin].shape[0]},{row.mission},2\\n\"\n",
    "            file.write(s)    # info\n",
    "\n",
    "        with open(f\"../results/observedtimes/{row.ID}_{row.qcs}_{i}_{row.mission}.csv\", \"w\") as file:\n",
    "            d = pd.DataFrame({\"time\":df.time.value[fin],\"flux\":df.detrended_flux[fin]})\n",
    "            d.to_csv(file,index=False)\n",
    "    except Exception as err:\n",
    "        print(\"FAIL\")\n",
    "        with open(\"../results/nodetrend_phase.txt\", \"a\") as file:\n",
    "            s = f\"{row.ID},{row.qcs},{row.mission},{tstamp},{i},{err}\\n\"\n",
    "            file.write(s)"
   ]
  },
  {
   "cell_type": "markdown",
   "metadata": {},
   "source": [
    "# Backlog"
   ]
  },
  {
   "cell_type": "code",
   "execution_count": null,
   "metadata": {
    "scrolled": false
   },
   "outputs": [],
   "source": [
    "#work through a subset first\n",
    "# row = fla.iloc[158]\n",
    "phases = []\n",
    "trandurs = []\n",
    "for label, row in fla.iterrows():\n",
    "\n",
    "    # TIC is unique ID for star\n",
    "    system_tess = exotess[(exotess.TIC == row.ID)]\n",
    "\n",
    "    # ID is unique, also ignore entries that have no transits\n",
    "    # because there is nothing to mask (they are still searched for flares)\n",
    "    system_kepler = exokepler[(exokepler.hostname == row.ID) &\n",
    "                       (exokepler.discoverymethod == \"Transit\")]\n",
    "\n",
    "    try:\n",
    "        if system_kepler.shape[0] > 0:\n",
    "            system_kepler[\"pl_tranmidepoch\"] = (system_kepler.pl_tranmid -\n",
    "                                                offset[system_kepler.iloc[0].disc_facility])\n",
    "\n",
    "        system = pd.concat([system_kepler, system_tess],ignore_index=True)\n",
    "        system = system.sort_values(by=\"pl_orbper\",ascending=True).iloc[0]\n",
    "\n",
    "        tmid = system.pl_tranmidepoch\n",
    "        orbper = system.pl_orbper\n",
    "        tflare = row.tstart\n",
    "        phase = ((tflare - tmid) % orbper) / orbper\n",
    "        trandurs.append(system.pl_trandur / 24. / orbper)\n",
    "        phases.append(phase)\n",
    "        print(phase)\n",
    "    except KeyError:\n",
    "        phases.append(np.nan)\n",
    "        trandurs.append(0.)\n",
    "        print(\"nope\")\n",
    "    except IndexError:\n",
    "        phases.append(np.nan)\n",
    "        trandurs.append(0.)\n",
    "        print(\"nope\")"
   ]
  },
  {
   "cell_type": "code",
   "execution_count": null,
   "metadata": {},
   "outputs": [],
   "source": [
    "st = startrandurs[~np.isnan(startrandurs)]\n",
    "np.percentile(np.sort(st),90)"
   ]
  },
  {
   "cell_type": "code",
   "execution_count": null,
   "metadata": {},
   "outputs": [],
   "source": [
    "plt.figure(figsize=(8,5))\n",
    "\n",
    "hist = plt.hist(phases, bins=np.linspace(0,1,10), histtype=\"step\",edgecolor=\"r\")\n",
    "plt.axvline(np.nanmean(startrandurs), c=\"k\", label=\"mean transit duration\")\n",
    "plt.axvline(np.percentile(np.sort(st),95), c=\"grey\", label=\"95th percentile transit duration\")\n",
    "plt.axvline(np.nanmax(startrandurs), c=\"silver\", label=\"\")\n",
    "plt.axhline(np.mean(hist[0]),c=\"orange\",label=\"mean\")\n",
    "plt.fill_between(hist[1],np.mean(hist[0]) - np.std(hist[0]),\n",
    "                 np.mean(hist[0]) + np.std(hist[0]),alpha=.4,\n",
    "                 label=\"standard deviation\")\n",
    "# plt.axhline(np.mean(hist[0]) - np.std(hist[0]))\n",
    "plt.xlim(0,1)\n",
    "plt.legend(frameon=False);"
   ]
  },
  {
   "cell_type": "code",
   "execution_count": null,
   "metadata": {},
   "outputs": [],
   "source": [
    "np.std(hist[0])"
   ]
  },
  {
   "cell_type": "code",
   "execution_count": null,
   "metadata": {},
   "outputs": [],
   "source": [
    "fla[\"phase\"] = phases\n",
    "fla[\"frac_tran\"] = trandurs"
   ]
  },
  {
   "cell_type": "code",
   "execution_count": null,
   "metadata": {},
   "outputs": [],
   "source": [
    "startrandurs = fla.drop_duplicates(subset=[\"ID\"]).frac_tran"
   ]
  },
  {
   "cell_type": "code",
   "execution_count": null,
   "metadata": {},
   "outputs": [],
   "source": [
    "plt.hist(startrandurs, bins=np.logspace(-3,-.5,15), histtype=\"step\", edgecolor=\"k\")\n",
    "plt.xscale(\"log\")\n",
    "plt.xlabel(\"duration of transit / orbital period\")\n",
    "plt.title(f\"{len(startrandurs)} star-planet-systems with flares\")"
   ]
  },
  {
   "cell_type": "code",
   "execution_count": null,
   "metadata": {},
   "outputs": [],
   "source": []
  },
  {
   "cell_type": "code",
   "execution_count": null,
   "metadata": {},
   "outputs": [],
   "source": [
    "np.sum(startrandurs)/len(startrandurs)"
   ]
  },
  {
   "cell_type": "markdown",
   "metadata": {},
   "source": [
    "- tranmidepoch is phase 0\n",
    "\n",
    "- select innermost component in multiplanet systems\n",
    "- calculate pseudotransit mid epoch for RV planets\n",
    "\n",
    "\n",
    "- the correct metric is number of flares per observed phase"
   ]
  },
  {
   "cell_type": "code",
   "execution_count": null,
   "metadata": {},
   "outputs": [],
   "source": [
    "0.009200275324758905 * 3000"
   ]
  },
  {
   "cell_type": "code",
   "execution_count": null,
   "metadata": {},
   "outputs": [],
   "source": [
    "system.columns"
   ]
  },
  {
   "cell_type": "code",
   "execution_count": null,
   "metadata": {},
   "outputs": [],
   "source": []
  },
  {
   "cell_type": "code",
   "execution_count": null,
   "metadata": {},
   "outputs": [],
   "source": []
  }
 ],
 "metadata": {
  "kernelspec": {
   "display_name": "forallpurposes",
   "language": "python",
   "name": "forallpurposes"
  },
  "language_info": {
   "codemirror_mode": {
    "name": "ipython",
    "version": 3
   },
   "file_extension": ".py",
   "mimetype": "text/x-python",
   "name": "python",
   "nbconvert_exporter": "python",
   "pygments_lexer": "ipython3",
   "version": "3.6.9"
  }
 },
 "nbformat": 4,
 "nbformat_minor": 2
}
