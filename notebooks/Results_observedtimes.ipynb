{
 "cells": [
  {
   "cell_type": "code",
   "execution_count": 1,
   "metadata": {},
   "outputs": [
    {
     "name": "stderr",
     "output_type": "stream",
     "text": [
      "/home/ekaterina/Documents/000_envs/forallpurposes/lib/python3.6/importlib/_bootstrap.py:219: RuntimeWarning: numpy.ufunc size changed, may indicate binary incompatibility. Expected 192 from C header, got 216 from PyObject\n",
      "  return f(*args, **kwds)\n"
     ]
    }
   ],
   "source": [
    "from funcs.notebook import *\n",
    "from funcs.transitmask import get_full_transit_mask\n",
    "from funcs.detrend import custom_detrending, estimate_detrended_noise\n",
    "import time\n",
    "\n",
    "\n",
    "sep = \"-----------------------------------------\"\n",
    "\n",
    "def mprint(message):\n",
    "    print(sep)\n",
    "    print(message)\n",
    "    print(sep)\n",
    "    \n",
    "offset = {\"K2\":2454833.,\"Kepler\":2454833.,\"TESS\":2457000., \"Transiting Exoplanet Survey Satellite (TESS)\" : 2457000.}    \n",
    "\n",
    "\n",
    "from altaipony.lcio import from_mast\n",
    "from altaipony.flarelc import FlareLightCurve"
   ]
  },
  {
   "cell_type": "code",
   "execution_count": 2,
   "metadata": {},
   "outputs": [
    {
     "name": "stdout",
     "output_type": "stream",
     "text": [
      "-----------------------------------------\n",
      "[UP] Using confirmed and uncontroversial entries in NASA Composite Table from {path}\n",
      "-----------------------------------------\n"
     ]
    },
    {
     "name": "stderr",
     "output_type": "stream",
     "text": [
      "NumExpr defaulting to 8 threads.\n"
     ]
    },
    {
     "name": "stdout",
     "output_type": "stream",
     "text": [
      "-----------------------------------------\n",
      "[UP] Using TESS-TOI Table from ../data/2021_01_13_TESS_TOI_CATALOG.csv\n",
      "-----------------------------------------\n"
     ]
    }
   ],
   "source": [
    "# Composite Table of confirmed exoplanets\n",
    "path = \"20_01_2021_confirmed_uncontroversial_exoplanet_systems.csv\"\n",
    "\n",
    "mprint(f\"[UP] Using confirmed and uncontroversial \"\n",
    "      \"entries in NASA Composite Table from {path}\")\n",
    "\n",
    "exokepler = pd.read_csv(f\"../data/{path}\") # composite table\n",
    "\n",
    "# read in TESS-TOI sample \n",
    "path = \"../data/2021_01_13_TESS_TOI_CATALOG.csv\"\n",
    "\n",
    "mprint(f\"[UP] Using TESS-TOI Table from {path}\")\n",
    "\n",
    "exotess = pd.read_csv(path, skiprows=4)\n",
    "\n",
    "# rename the relevant columns for transit masking\n",
    "exotess = exotess.rename(index=str, \n",
    "                         columns={'Transit Duration Value':\"pl_trandur\",\n",
    "                                  'Orbital Period Value': \"pl_orbper\", \n",
    "                                  'Epoch Value':\"pl_tranmidepoch\"})\n",
    "\n",
    "\n",
    "# read in list of LCs to search\n",
    "es = pd.read_csv(\"../data/20_01_2021_full_kepler_k2_tess_exoplanet_lcs_some_excluded.csv\")\n",
    "\n",
    "# select only Kepler and TESS, ignore K2 for now\n",
    "eskeptess = es[(es.mission==\"TESS\") | (es.mission==\"Kepler\")]\n",
    "\n",
    "# read in searched LCs with and without flares\n",
    "flares = pd.read_csv(\"../results/2020_02_flares_vetted.csv\")\n",
    "fla = flares[(flares[\"real?\"]==1)]\n",
    "\n",
    "# pick only LC that were not yet searched\n",
    "#eskeptess = eskeptess[~eskeptess.ID.isin(fla.ID.unique())]"
   ]
  },
  {
   "cell_type": "code",
   "execution_count": 3,
   "metadata": {},
   "outputs": [
    {
     "data": {
      "text/plain": [
       "((9179, 17), (9519, 4))"
      ]
     },
     "execution_count": 3,
     "metadata": {},
     "output_type": "execute_result"
    }
   ],
   "source": [
    "flares.groupby([\"ID\", \"qcs\"]).count().shape, eskeptess.groupby([\"ID\", \"qcs\", \"mission\"]).count().shape"
   ]
  },
  {
   "cell_type": "code",
   "execution_count": 4,
   "metadata": {},
   "outputs": [],
   "source": [
    "ff = fla[[\"ID\", \"qcs\"]].drop_duplicates(keep=\"first\")"
   ]
  },
  {
   "cell_type": "code",
   "execution_count": 5,
   "metadata": {},
   "outputs": [
    {
     "data": {
      "text/plain": [
       "((1112, 6), (302, 6))"
      ]
     },
     "execution_count": 5,
     "metadata": {},
     "output_type": "execute_result"
    }
   ],
   "source": [
    "obsdurs = pd.read_csv(\"../results/2020_02_obsdurs.csv\")\n",
    "missing = pd.concat([obsdurs, ff]).drop_duplicates(subset=[\"ID\", \"qcs\"], \n",
    "                                                          keep=False)\n",
    "obsdurs.shape, missing.shape"
   ]
  },
  {
   "cell_type": "code",
   "execution_count": 6,
   "metadata": {},
   "outputs": [],
   "source": [
    "a = set(ff.ID.unique())\n",
    "b = set(obsdurs.ID.unique())\n",
    "left =  list(a - b)"
   ]
  },
  {
   "cell_type": "code",
   "execution_count": 7,
   "metadata": {},
   "outputs": [
    {
     "data": {
      "text/plain": [
       "(152, 124, 28)"
      ]
     },
     "execution_count": 7,
     "metadata": {},
     "output_type": "execute_result"
    }
   ],
   "source": [
    "len(a), len(b), len(left)"
   ]
  },
  {
   "cell_type": "code",
   "execution_count": 8,
   "metadata": {},
   "outputs": [
    {
     "name": "stdout",
     "output_type": "stream",
     "text": [
      "3892    17\n",
      "Name: qcs, dtype: int64\n"
     ]
    },
    {
     "name": "stderr",
     "output_type": "stream",
     "text": [
      "7% (1347/18012) of the cadences will be ignored due to the quality mask (quality_bitmask=175).\n",
      "7% (1347/18012) of the cadences will be ignored due to the quality mask (quality_bitmask=175).\n",
      "/home/ekaterina/Documents/000_envs/forallpurposes/lib/python3.6/site-packages/altaipony/lcio.py:114: ResourceWarning: unclosed file <_io.FileIO name='/home/ekaterina/Documents/001_science/lcs/mastDownload/TESS/tess2019279210107-s0017-0000000408263079-0161-s/tess2019279210107-s0017-0000000408263079-0161-s_lc.fits' mode='rb' closefd=True>\n",
      "  c)\n"
     ]
    },
    {
     "name": "stdout",
     "output_type": "stream",
     "text": [
      "-----------------------------------------\n",
      "1 light curves available for GU Psc in TESS.\n",
      "-----------------------------------------\n"
     ]
    },
    {
     "name": "stderr",
     "output_type": "stream",
     "text": [
      "/home/ekaterina/Documents/000_envs/forallpurposes/lib/python3.6/site-packages/numpy/lib/nanfunctions.py:1113: RuntimeWarning: Mean of empty slice\n",
      "  return np.nanmean(a, axis, out=out, keepdims=keepdims)\n"
     ]
    },
    {
     "name": "stdout",
     "output_type": "stream",
     "text": [
      "0.011611999999999512 2.60818 0.9565540000000006 0.939271999999999 1.0307070000000014 1.0477469999999993 6.594072\n",
      "(12927,)\n",
      "0.3%, [1/325]\n",
      "4844    14\n",
      "4845    15\n",
      "Name: qcs, dtype: int64\n"
     ]
    },
    {
     "name": "stderr",
     "output_type": "stream",
     "text": [
      "5% (913/19337) of the cadences will be ignored due to the quality mask (quality_bitmask=175).\n",
      "5% (913/19337) of the cadences will be ignored due to the quality mask (quality_bitmask=175).\n",
      "/home/ekaterina/Documents/000_envs/forallpurposes/lib/python3.6/site-packages/altaipony/lcio.py:114: ResourceWarning: unclosed file <_io.FileIO name='/home/ekaterina/Documents/001_science/lcs/mastDownload/TESS/tess2019198215352-s0014-0000000013684720-0150-s/tess2019198215352-s0014-0000000013684720-0150-s_lc.fits' mode='rb' closefd=True>\n",
      "  c)\n"
     ]
    },
    {
     "name": "stdout",
     "output_type": "stream",
     "text": [
      "-----------------------------------------\n",
      "1 light curves available for TIC 13684720 in TESS.\n",
      "-----------------------------------------\n"
     ]
    },
    {
     "name": "stderr",
     "output_type": "stream",
     "text": [
      "/home/ekaterina/Documents/000_envs/forallpurposes/lib/python3.6/site-packages/numpy/lib/nanfunctions.py:1113: RuntimeWarning: Mean of empty slice\n",
      "  return np.nanmean(a, axis, out=out, keepdims=keepdims)\n"
     ]
    },
    {
     "name": "stdout",
     "output_type": "stream",
     "text": [
      "0.00429299999999877 2.704385000000002 0.8430389999999974 0.8498149999999995 0.8308990000000023 0.9102789999999992 6.142709999999999\n",
      "(13929,)\n",
      "0.6%, [2/325]\n"
     ]
    },
    {
     "name": "stderr",
     "output_type": "stream",
     "text": [
      "5% (1008/18757) of the cadences will be ignored due to the quality mask (quality_bitmask=175).\n",
      "5% (1008/18757) of the cadences will be ignored due to the quality mask (quality_bitmask=175).\n",
      "/home/ekaterina/Documents/000_envs/forallpurposes/lib/python3.6/site-packages/altaipony/lcio.py:114: ResourceWarning: unclosed file <_io.FileIO name='/home/ekaterina/Documents/001_science/lcs/mastDownload/TESS/tess2019226182529-s0015-0000000013684720-0151-s/tess2019226182529-s0015-0000000013684720-0151-s_lc.fits' mode='rb' closefd=True>\n",
      "  c)\n"
     ]
    },
    {
     "name": "stdout",
     "output_type": "stream",
     "text": [
      "-----------------------------------------\n",
      "1 light curves available for TIC 13684720 in TESS.\n",
      "-----------------------------------------\n"
     ]
    },
    {
     "name": "stderr",
     "output_type": "stream",
     "text": [
      "/home/ekaterina/Documents/000_envs/forallpurposes/lib/python3.6/site-packages/numpy/lib/nanfunctions.py:1113: RuntimeWarning: Mean of empty slice\n",
      "  return np.nanmean(a, axis, out=out, keepdims=keepdims)\n"
     ]
    },
    {
     "name": "stdout",
     "output_type": "stream",
     "text": [
      "0.004125000000001933 2.6988959999999977 1.0633000000000017 1.1013570000000001 0.9617059999999995 1.0168600000000012 6.846244000000002\n",
      "(13114,)\n",
      "0.9%, [3/325]\n",
      "3118    14\n",
      "3119    15\n",
      "Name: qcs, dtype: int64\n"
     ]
    },
    {
     "name": "stderr",
     "output_type": "stream",
     "text": [
      "/home/ekaterina/Documents/000_envs/forallpurposes/lib/python3.6/site-packages/ipykernel_launcher.py:24: SettingWithCopyWarning: \n",
      "A value is trying to be set on a copy of a slice from a DataFrame.\n",
      "Try using .loc[row_indexer,col_indexer] = value instead\n",
      "\n",
      "See the caveats in the documentation: https://pandas.pydata.org/pandas-docs/stable/user_guide/indexing.html#returning-a-view-versus-a-copy\n",
      "19% (8480/45330) of the cadences will be ignored due to the quality mask (quality_bitmask=1130799).\n",
      "19% (8480/45330) of the cadences will be ignored due to the quality mask (quality_bitmask=1130799).\n",
      "0% (106/44280) of the cadences will be ignored due to the quality mask (quality_bitmask=1130799).\n",
      "0% (106/44280) of the cadences will be ignored due to the quality mask (quality_bitmask=1130799).\n",
      "0% (161/50160) of the cadences will be ignored due to the quality mask (quality_bitmask=1130799).\n",
      "0% (161/50160) of the cadences will be ignored due to the quality mask (quality_bitmask=1130799).\n",
      "/home/ekaterina/Documents/000_envs/forallpurposes/lib/python3.6/site-packages/altaipony/lcio.py:102: ResourceWarning: unclosed file <_io.FileIO name='/home/ekaterina/Documents/001_science/lcs/mastDownload/Kepler/kplr008845205_sc_Q000000000000003300/kplr008845205-2012277125453_slc.fits' mode='rb' closefd=True>\n",
      "  c)\n",
      "/home/ekaterina/Documents/000_envs/forallpurposes/lib/python3.6/site-packages/altaipony/lcio.py:102: ResourceWarning: unclosed file <_io.FileIO name='/home/ekaterina/Documents/001_science/lcs/mastDownload/Kepler/kplr008845205_sc_Q000000000000003300/kplr008845205-2012242122129_slc.fits' mode='rb' closefd=True>\n",
      "  c)\n",
      "/home/ekaterina/Documents/000_envs/forallpurposes/lib/python3.6/site-packages/altaipony/lcio.py:102: ResourceWarning: unclosed file <_io.FileIO name='/home/ekaterina/Documents/001_science/lcs/mastDownload/Kepler/kplr008845205_sc_Q000000000000003300/kplr008845205-2012211050319_slc.fits' mode='rb' closefd=True>\n",
      "  c)\n"
     ]
    },
    {
     "name": "stdout",
     "output_type": "stream",
     "text": [
      "-----------------------------------------\n",
      "3 light curves available for Kepler-560 in Kepler.\n",
      "-----------------------------------------\n"
     ]
    },
    {
     "name": "stderr",
     "output_type": "stream",
     "text": [
      "/home/ekaterina/Documents/000_envs/forallpurposes/lib/python3.6/site-packages/numpy/lib/nanfunctions.py:1113: RuntimeWarning: Mean of empty slice\n",
      "  return np.nanmean(a, axis, out=out, keepdims=keepdims)\n"
     ]
    },
    {
     "name": "stdout",
     "output_type": "stream",
     "text": [
      "0.0080139999999993 17.092877 0.8255979999999994 0.6000329999999963 2.4831180000000046 1.797658999999996 22.807298999999997\n",
      "(34695,)\n",
      "0.008437000000000694 16.754101000000006 0.6795489999999944 0.686782000000008 3.2956099999999964 3.2394759999999962 24.663955\n",
      "(43918,)\n",
      "0.009523000000001502 14.99712000000001 3.767713999999998 3.7731270000000023 0.750079999999997 4.468623999999991 27.766188\n",
      "(49728,)\n",
      "1.2%, [4/325]\n"
     ]
    },
    {
     "name": "stderr",
     "output_type": "stream",
     "text": [
      "/home/ekaterina/Documents/000_envs/forallpurposes/lib/python3.6/site-packages/ipykernel_launcher.py:24: SettingWithCopyWarning: \n",
      "A value is trying to be set on a copy of a slice from a DataFrame.\n",
      "Try using .loc[row_indexer,col_indexer] = value instead\n",
      "\n",
      "See the caveats in the documentation: https://pandas.pydata.org/pandas-docs/stable/user_guide/indexing.html#returning-a-view-versus-a-copy\n",
      "1% (334/45270) of the cadences will be ignored due to the quality mask (quality_bitmask=1130799).\n",
      "1% (334/45270) of the cadences will be ignored due to the quality mask (quality_bitmask=1130799).\n",
      "14% (6276/44220) of the cadences will be ignored due to the quality mask (quality_bitmask=1130799).\n",
      "14% (6276/44220) of the cadences will be ignored due to the quality mask (quality_bitmask=1130799).\n",
      "0% (198/51270) of the cadences will be ignored due to the quality mask (quality_bitmask=1130799).\n",
      "0% (198/51270) of the cadences will be ignored due to the quality mask (quality_bitmask=1130799).\n",
      "/home/ekaterina/Documents/000_envs/forallpurposes/lib/python3.6/site-packages/altaipony/lcio.py:102: ResourceWarning: unclosed file <_io.FileIO name='/home/ekaterina/Documents/001_science/lcs/mastDownload/Kepler/kplr008845205_sc_Q000000000000003300/kplr008845205-2013011073258_slc.fits' mode='rb' closefd=True>\n",
      "  c)\n",
      "/home/ekaterina/Documents/000_envs/forallpurposes/lib/python3.6/site-packages/altaipony/lcio.py:102: ResourceWarning: unclosed file <_io.FileIO name='/home/ekaterina/Documents/001_science/lcs/mastDownload/Kepler/kplr008845205_sc_Q000000000000003300/kplr008845205-2012341132017_slc.fits' mode='rb' closefd=True>\n",
      "  c)\n",
      "/home/ekaterina/Documents/000_envs/forallpurposes/lib/python3.6/site-packages/altaipony/lcio.py:102: ResourceWarning: unclosed file <_io.FileIO name='/home/ekaterina/Documents/001_science/lcs/mastDownload/Kepler/kplr008845205_sc_Q000000000000003300/kplr008845205-2012310112549_slc.fits' mode='rb' closefd=True>\n",
      "  c)\n"
     ]
    },
    {
     "name": "stdout",
     "output_type": "stream",
     "text": [
      "-----------------------------------------\n",
      "3 light curves available for Kepler-560 in Kepler.\n",
      "-----------------------------------------\n",
      "0.009756999999993354 12.709662999999992 1.0151470000000131 1.004179999999991 3.7644870000000026 0.6787250000000142 19.181959000000006\n",
      "(44772,)\n"
     ]
    },
    {
     "name": "stderr",
     "output_type": "stream",
     "text": [
      "/home/ekaterina/Documents/000_envs/forallpurposes/lib/python3.6/site-packages/numpy/lib/nanfunctions.py:1113: RuntimeWarning: Mean of empty slice\n",
      "  return np.nanmean(a, axis, out=out, keepdims=keepdims)\n"
     ]
    },
    {
     "name": "stdout",
     "output_type": "stream",
     "text": [
      "0.010543000000012626 16.98531699999998 1.9999439999999993 2.022424000000001 2.0772599999999954 2.0691970000000026 25.16468499999999\n",
      "(35541,)\n",
      "0.009787999999986141 15.784042000000028 3.8580929999999967 3.6675019999999847 3.5965209999999956 3.595678000000021 30.511624000000012\n",
      "(50840,)\n",
      "1.5%, [5/325]\n",
      "44     14\n",
      "45     15\n",
      "677     0\n",
      "678     1\n",
      "679     2\n",
      "680     3\n",
      "681     4\n",
      "682     5\n",
      "683     6\n",
      "684     9\n",
      "685    10\n",
      "686    12\n",
      "687    13\n",
      "688    14\n",
      "689    16\n",
      "690    17\n",
      "Name: qcs, dtype: int64\n",
      "182    BJD-TDB\n",
      "Name: pl_tranmid_systemref, dtype: object\n"
     ]
    },
    {
     "name": "stderr",
     "output_type": "stream",
     "text": [
      "5% (913/19337) of the cadences will be ignored due to the quality mask (quality_bitmask=175).\n",
      "5% (913/19337) of the cadences will be ignored due to the quality mask (quality_bitmask=175).\n",
      "/home/ekaterina/Documents/000_envs/forallpurposes/lib/python3.6/site-packages/altaipony/lcio.py:114: ResourceWarning: unclosed file <_io.FileIO name='/home/ekaterina/Documents/001_science/lcs/mastDownload/TESS/tess2019198215352-s0014-0000000028230919-0150-s/tess2019198215352-s0014-0000000028230919-0150-s_lc.fits' mode='rb' closefd=True>\n",
      "  c)\n",
      "/home/ekaterina/Documents/001_science/Flaring_SPI/notebooks/funcs/transitmask.py:72: SettingWithCopyWarning: \n",
      "A value is trying to be set on a copy of a slice from a DataFrame.\n",
      "Try using .loc[row_indexer,col_indexer] = value instead\n",
      "\n",
      "See the caveats in the documentation: https://pandas.pydata.org/pandas-docs/stable/user_guide/indexing.html#returning-a-view-versus-a-copy\n",
      "  system[\"durhalf\"] = system[\"pl_trandur\"] / 48. # convert to days and cut in half\n",
      "/home/ekaterina/Documents/000_envs/forallpurposes/lib/python3.6/site-packages/numpy/lib/nanfunctions.py:1113: RuntimeWarning: Mean of empty slice\n",
      "  return np.nanmean(a, axis, out=out, keepdims=keepdims)\n"
     ]
    },
    {
     "name": "stdout",
     "output_type": "stream",
     "text": [
      "-----------------------------------------\n",
      "1 light curves available for HAT-P-11 in TESS.\n",
      "-----------------------------------------\n",
      "0.006332999999983713 2.612289000000004 0.41253800000001206 0.4135080000000073 0.3700159999999926 0.3300920000000076 4.144776000000007\n",
      "(18145,)\n",
      "1.8%, [6/325]\n",
      "182    BJD-TDB\n",
      "Name: pl_tranmid_systemref, dtype: object\n"
     ]
    },
    {
     "name": "stderr",
     "output_type": "stream",
     "text": [
      "Found cached file /home/ekaterina/Documents/001_science/lcs/mastDownload/TESS/tess2019226182529-s0015-0000000028230919-0151-s/tess2019226182529-s0015-0000000028230919-0151-s_lc.fits with expected size 1906560.\n",
      "5% (1008/18757) of the cadences will be ignored due to the quality mask (quality_bitmask=175).\n",
      "5% (1008/18757) of the cadences will be ignored due to the quality mask (quality_bitmask=175).\n",
      "/home/ekaterina/Documents/000_envs/forallpurposes/lib/python3.6/site-packages/altaipony/lcio.py:114: ResourceWarning: unclosed file <_io.FileIO name='/home/ekaterina/Documents/001_science/lcs/mastDownload/TESS/tess2019226182529-s0015-0000000028230919-0151-s/tess2019226182529-s0015-0000000028230919-0151-s_lc.fits' mode='rb' closefd=True>\n",
      "  c)\n",
      "/home/ekaterina/Documents/001_science/Flaring_SPI/notebooks/funcs/transitmask.py:72: SettingWithCopyWarning: \n",
      "A value is trying to be set on a copy of a slice from a DataFrame.\n",
      "Try using .loc[row_indexer,col_indexer] = value instead\n",
      "\n",
      "See the caveats in the documentation: https://pandas.pydata.org/pandas-docs/stable/user_guide/indexing.html#returning-a-view-versus-a-copy\n",
      "  system[\"durhalf\"] = system[\"pl_trandur\"] / 48. # convert to days and cut in half\n",
      "/home/ekaterina/Documents/000_envs/forallpurposes/lib/python3.6/site-packages/numpy/lib/nanfunctions.py:1113: RuntimeWarning: Mean of empty slice\n",
      "  return np.nanmean(a, axis, out=out, keepdims=keepdims)\n"
     ]
    },
    {
     "name": "stdout",
     "output_type": "stream",
     "text": [
      "-----------------------------------------\n",
      "1 light curves available for HAT-P-11 in TESS.\n",
      "-----------------------------------------\n",
      "2.2%, [7/325]\n",
      "182    BJD-TDB\n",
      "Name: pl_tranmid_systemref, dtype: object\n"
     ]
    },
    {
     "name": "stderr",
     "output_type": "stream",
     "text": [
      "0% (38/14280) of the cadences will be ignored due to the quality mask (quality_bitmask=1130799).\n",
      "0% (38/14280) of the cadences will be ignored due to the quality mask (quality_bitmask=1130799).\n",
      "/home/ekaterina/Documents/000_envs/forallpurposes/lib/python3.6/site-packages/altaipony/lcio.py:102: ResourceWarning: unclosed file <_io.FileIO name='/home/ekaterina/Documents/001_science/lcs/mastDownload/Kepler/kplr010748390_sc_Q113333300330333032/kplr010748390-2009131110544_slc.fits' mode='rb' closefd=True>\n",
      "  c)\n",
      "/home/ekaterina/Documents/001_science/Flaring_SPI/notebooks/funcs/transitmask.py:72: SettingWithCopyWarning: \n",
      "A value is trying to be set on a copy of a slice from a DataFrame.\n",
      "Try using .loc[row_indexer,col_indexer] = value instead\n",
      "\n",
      "See the caveats in the documentation: https://pandas.pydata.org/pandas-docs/stable/user_guide/indexing.html#returning-a-view-versus-a-copy\n",
      "  system[\"durhalf\"] = system[\"pl_trandur\"] / 48. # convert to days and cut in half\n",
      "/home/ekaterina/Documents/000_envs/forallpurposes/lib/python3.6/site-packages/numpy/lib/nanfunctions.py:1113: RuntimeWarning: Mean of empty slice\n",
      "  return np.nanmean(a, axis, out=out, keepdims=keepdims)\n"
     ]
    },
    {
     "name": "stdout",
     "output_type": "stream",
     "text": [
      "-----------------------------------------\n",
      "1 light curves available for HAT-P-11 in Kepler.\n",
      "-----------------------------------------\n",
      "0.0040370000000109485 1.53248099999999 0.6287920000000042 0.6184740000000204 0.6168599999999742 0.6082130000000063 4.008857000000006\n",
      "(13944,)\n",
      "2.5%, [8/325]\n",
      "182    BJD-TDB\n",
      "Name: pl_tranmid_systemref, dtype: object\n"
     ]
    },
    {
     "name": "stderr",
     "output_type": "stream",
     "text": [
      "0% (133/49170) of the cadences will be ignored due to the quality mask (quality_bitmask=1130799).\n",
      "0% (133/49170) of the cadences will be ignored due to the quality mask (quality_bitmask=1130799).\n",
      "/home/ekaterina/Documents/000_envs/forallpurposes/lib/python3.6/site-packages/altaipony/lcio.py:102: ResourceWarning: unclosed file <_io.FileIO name='/home/ekaterina/Documents/001_science/lcs/mastDownload/Kepler/kplr010748390_sc_Q113333300330333032/kplr010748390-2009166044711_slc.fits' mode='rb' closefd=True>\n",
      "  c)\n",
      "/home/ekaterina/Documents/001_science/Flaring_SPI/notebooks/funcs/transitmask.py:72: SettingWithCopyWarning: \n",
      "A value is trying to be set on a copy of a slice from a DataFrame.\n",
      "Try using .loc[row_indexer,col_indexer] = value instead\n",
      "\n",
      "See the caveats in the documentation: https://pandas.pydata.org/pandas-docs/stable/user_guide/indexing.html#returning-a-view-versus-a-copy\n",
      "  system[\"durhalf\"] = system[\"pl_trandur\"] / 48. # convert to days and cut in half\n",
      "/home/ekaterina/Documents/000_envs/forallpurposes/lib/python3.6/site-packages/numpy/lib/nanfunctions.py:1113: RuntimeWarning: Mean of empty slice\n",
      "  return np.nanmean(a, axis, out=out, keepdims=keepdims)\n"
     ]
    },
    {
     "name": "stdout",
     "output_type": "stream",
     "text": [
      "-----------------------------------------\n",
      "1 light curves available for HAT-P-11 in Kepler.\n",
      "-----------------------------------------\n",
      "0.010831999999993513 4.825504999999993 2.5036300000000153 2.4634690000000035 2.584988999999979 1.300136000000009 13.688560999999993\n",
      "(48023,)\n",
      "2.8%, [9/325]\n",
      "182    BJD-TDB\n",
      "Name: pl_tranmid_systemref, dtype: object\n"
     ]
    },
    {
     "name": "stderr",
     "output_type": "stream",
     "text": [
      "7% (3390/45210) of the cadences will be ignored due to the quality mask (quality_bitmask=1130799).\n",
      "7% (3390/45210) of the cadences will be ignored due to the quality mask (quality_bitmask=1130799).\n",
      "1% (647/44010) of the cadences will be ignored due to the quality mask (quality_bitmask=1130799).\n",
      "1% (647/44010) of the cadences will be ignored due to the quality mask (quality_bitmask=1130799).\n",
      "4% (1534/39810) of the cadences will be ignored due to the quality mask (quality_bitmask=1130799).\n",
      "4% (1534/39810) of the cadences will be ignored due to the quality mask (quality_bitmask=1130799).\n",
      "/home/ekaterina/Documents/000_envs/forallpurposes/lib/python3.6/site-packages/altaipony/lcio.py:102: ResourceWarning: unclosed file <_io.FileIO name='/home/ekaterina/Documents/001_science/lcs/mastDownload/Kepler/kplr010748390_sc_Q113333300330333032/kplr010748390-2009259162342_slc.fits' mode='rb' closefd=True>\n",
      "  c)\n",
      "/home/ekaterina/Documents/000_envs/forallpurposes/lib/python3.6/site-packages/altaipony/lcio.py:102: ResourceWarning: unclosed file <_io.FileIO name='/home/ekaterina/Documents/001_science/lcs/mastDownload/Kepler/kplr010748390_sc_Q113333300330333032/kplr010748390-2009231120729_slc.fits' mode='rb' closefd=True>\n",
      "  c)\n",
      "/home/ekaterina/Documents/000_envs/forallpurposes/lib/python3.6/site-packages/altaipony/lcio.py:102: ResourceWarning: unclosed file <_io.FileIO name='/home/ekaterina/Documents/001_science/lcs/mastDownload/Kepler/kplr010748390_sc_Q113333300330333032/kplr010748390-2009201121230_slc.fits' mode='rb' closefd=True>\n",
      "  c)\n",
      "/home/ekaterina/Documents/001_science/Flaring_SPI/notebooks/funcs/transitmask.py:72: SettingWithCopyWarning: \n",
      "A value is trying to be set on a copy of a slice from a DataFrame.\n",
      "Try using .loc[row_indexer,col_indexer] = value instead\n",
      "\n",
      "See the caveats in the documentation: https://pandas.pydata.org/pandas-docs/stable/user_guide/indexing.html#returning-a-view-versus-a-copy\n",
      "  system[\"durhalf\"] = system[\"pl_trandur\"] / 48. # convert to days and cut in half\n",
      "/home/ekaterina/Documents/000_envs/forallpurposes/lib/python3.6/site-packages/numpy/lib/nanfunctions.py:1113: RuntimeWarning: Mean of empty slice\n",
      "  return np.nanmean(a, axis, out=out, keepdims=keepdims)\n"
     ]
    },
    {
     "name": "stdout",
     "output_type": "stream",
     "text": [
      "-----------------------------------------\n",
      "3 light curves available for HAT-P-11 in Kepler.\n",
      "-----------------------------------------\n",
      "0.009306000000009362 4.482711999999992 2.156263999999993 2.1621609999999976 1.79673200000002 1.2351609999999766 11.842335999999989\n",
      "(41092,)\n",
      "0.0085679999999968 4.200211999999993 1.2771549999999934 1.2906280000000265 1.976114999999993 0.9017640000000142 9.654442000000017\n",
      "(42507,)\n",
      "0.008176000000048589 3.3112649999999917 1.5767740000000003 1.5819979999999987 1.4936779999999885 1.4257349999999747 9.397626000000002\n",
      "(37549,)\n",
      "3.1%, [10/325]\n",
      "182    BJD-TDB\n",
      "Name: pl_tranmid_systemref, dtype: object\n"
     ]
    },
    {
     "name": "stderr",
     "output_type": "stream",
     "text": [
      "3% (1453/44550) of the cadences will be ignored due to the quality mask (quality_bitmask=1130799).\n",
      "3% (1453/44550) of the cadences will be ignored due to the quality mask (quality_bitmask=1130799).\n",
      "0% (120/44100) of the cadences will be ignored due to the quality mask (quality_bitmask=1130799).\n",
      "0% (120/44100) of the cadences will be ignored due to the quality mask (quality_bitmask=1130799).\n",
      "0% (149/38160) of the cadences will be ignored due to the quality mask (quality_bitmask=1130799).\n",
      "0% (149/38160) of the cadences will be ignored due to the quality mask (quality_bitmask=1130799).\n",
      "/home/ekaterina/Documents/000_envs/forallpurposes/lib/python3.6/site-packages/altaipony/lcio.py:102: ResourceWarning: unclosed file <_io.FileIO name='/home/ekaterina/Documents/001_science/lcs/mastDownload/Kepler/kplr010748390_sc_Q113333300330333032/kplr010748390-2009350160919_slc.fits' mode='rb' closefd=True>\n",
      "  c)\n",
      "/home/ekaterina/Documents/000_envs/forallpurposes/lib/python3.6/site-packages/altaipony/lcio.py:102: ResourceWarning: unclosed file <_io.FileIO name='/home/ekaterina/Documents/001_science/lcs/mastDownload/Kepler/kplr010748390_sc_Q113333300330333032/kplr010748390-2009322144938_slc.fits' mode='rb' closefd=True>\n",
      "  c)\n",
      "/home/ekaterina/Documents/000_envs/forallpurposes/lib/python3.6/site-packages/altaipony/lcio.py:102: ResourceWarning: unclosed file <_io.FileIO name='/home/ekaterina/Documents/001_science/lcs/mastDownload/Kepler/kplr010748390_sc_Q113333300330333032/kplr010748390-2009291181958_slc.fits' mode='rb' closefd=True>\n",
      "  c)\n",
      "/home/ekaterina/Documents/001_science/Flaring_SPI/notebooks/funcs/transitmask.py:72: SettingWithCopyWarning: \n",
      "A value is trying to be set on a copy of a slice from a DataFrame.\n",
      "Try using .loc[row_indexer,col_indexer] = value instead\n",
      "\n",
      "See the caveats in the documentation: https://pandas.pydata.org/pandas-docs/stable/user_guide/indexing.html#returning-a-view-versus-a-copy\n",
      "  system[\"durhalf\"] = system[\"pl_trandur\"] / 48. # convert to days and cut in half\n"
     ]
    },
    {
     "name": "stdout",
     "output_type": "stream",
     "text": [
      "-----------------------------------------\n",
      "3 light curves available for HAT-P-11 in Kepler.\n",
      "-----------------------------------------\n"
     ]
    },
    {
     "name": "stderr",
     "output_type": "stream",
     "text": [
      "/home/ekaterina/Documents/000_envs/forallpurposes/lib/python3.6/site-packages/numpy/lib/nanfunctions.py:1113: RuntimeWarning: Mean of empty slice\n",
      "  return np.nanmean(a, axis, out=out, keepdims=keepdims)\n"
     ]
    },
    {
     "name": "stdout",
     "output_type": "stream",
     "text": [
      "0.00922400000001744 4.573747000000026 2.380096999999978 2.361803000000009 1.7149 0.8170549999999821 11.856826000000012\n",
      "(42227,)\n",
      "0.00917000000004009 4.1678719999999885 1.5435699999999883 1.534448999999995 1.5564750000000345 1.5295869999999923 10.341123000000039\n",
      "(43111,)\n",
      "0.007784999999955744 4.8387780000000475 2.2905979999999886 2.294433999999967 1.8211750000000393 1.7731169999999565 13.025886999999955\n",
      "(37259,)\n",
      "3.4%, [11/325]\n",
      "182    BJD-TDB\n",
      "Name: pl_tranmid_systemref, dtype: object\n"
     ]
    },
    {
     "name": "stderr",
     "output_type": "stream",
     "text": [
      "0% (147/45600) of the cadences will be ignored due to the quality mask (quality_bitmask=1130799).\n",
      "0% (147/45600) of the cadences will be ignored due to the quality mask (quality_bitmask=1130799).\n",
      "14% (5930/42480) of the cadences will be ignored due to the quality mask (quality_bitmask=1130799).\n",
      "14% (5930/42480) of the cadences will be ignored due to the quality mask (quality_bitmask=1130799).\n",
      "0% (120/42450) of the cadences will be ignored due to the quality mask (quality_bitmask=1130799).\n",
      "0% (120/42450) of the cadences will be ignored due to the quality mask (quality_bitmask=1130799).\n",
      "/home/ekaterina/Documents/000_envs/forallpurposes/lib/python3.6/site-packages/altaipony/lcio.py:102: ResourceWarning: unclosed file <_io.FileIO name='/home/ekaterina/Documents/001_science/lcs/mastDownload/Kepler/kplr010748390_sc_Q113333300330333032/kplr010748390-2010078100744_slc.fits' mode='rb' closefd=True>\n",
      "  c)\n",
      "/home/ekaterina/Documents/000_envs/forallpurposes/lib/python3.6/site-packages/altaipony/lcio.py:102: ResourceWarning: unclosed file <_io.FileIO name='/home/ekaterina/Documents/001_science/lcs/mastDownload/Kepler/kplr010748390_sc_Q113333300330333032/kplr010748390-2010049094358_slc.fits' mode='rb' closefd=True>\n",
      "  c)\n",
      "/home/ekaterina/Documents/000_envs/forallpurposes/lib/python3.6/site-packages/altaipony/lcio.py:102: ResourceWarning: unclosed file <_io.FileIO name='/home/ekaterina/Documents/001_science/lcs/mastDownload/Kepler/kplr010748390_sc_Q113333300330333032/kplr010748390-2010019161129_slc.fits' mode='rb' closefd=True>\n",
      "  c)\n",
      "/home/ekaterina/Documents/001_science/Flaring_SPI/notebooks/funcs/transitmask.py:72: SettingWithCopyWarning: \n",
      "A value is trying to be set on a copy of a slice from a DataFrame.\n",
      "Try using .loc[row_indexer,col_indexer] = value instead\n",
      "\n",
      "See the caveats in the documentation: https://pandas.pydata.org/pandas-docs/stable/user_guide/indexing.html#returning-a-view-versus-a-copy\n",
      "  system[\"durhalf\"] = system[\"pl_trandur\"] / 48. # convert to days and cut in half\n",
      "/home/ekaterina/Documents/000_envs/forallpurposes/lib/python3.6/site-packages/numpy/lib/nanfunctions.py:1113: RuntimeWarning: Mean of empty slice\n",
      "  return np.nanmean(a, axis, out=out, keepdims=keepdims)\n"
     ]
    },
    {
     "name": "stdout",
     "output_type": "stream",
     "text": [
      "-----------------------------------------\n",
      "3 light curves available for HAT-P-11 in Kepler.\n",
      "-----------------------------------------\n",
      "0.010051999999973305 4.516480000000001 2.319859000000008 2.368301000000031 3.0250619999999913 2.717328000000009 14.957082000000014\n",
      "(44409,)\n",
      "0.007784999999955744 3.2388730000000123 1.6239340000000198 1.6520800000000122 1.5682749999999714 1.5714720000000284 9.662419\n",
      "(35709,)\n",
      "0.00858400000004167 4.14628799999997 1.5779150000000186 1.5873679999999695 1.9228770000000281 1.531045000000006 10.774077000000034\n",
      "(41461,)\n",
      "3.7%, [12/325]\n",
      "182    BJD-TDB\n",
      "Name: pl_tranmid_systemref, dtype: object\n"
     ]
    },
    {
     "name": "stderr",
     "output_type": "stream",
     "text": [
      "0% (132/46290) of the cadences will be ignored due to the quality mask (quality_bitmask=1130799).\n",
      "0% (132/46290) of the cadences will be ignored due to the quality mask (quality_bitmask=1130799).\n",
      "0% (120/40560) of the cadences will be ignored due to the quality mask (quality_bitmask=1130799).\n",
      "0% (120/40560) of the cadences will be ignored due to the quality mask (quality_bitmask=1130799).\n",
      "0% (145/49290) of the cadences will be ignored due to the quality mask (quality_bitmask=1130799).\n",
      "0% (145/49290) of the cadences will be ignored due to the quality mask (quality_bitmask=1130799).\n",
      "/home/ekaterina/Documents/000_envs/forallpurposes/lib/python3.6/site-packages/altaipony/lcio.py:102: ResourceWarning: unclosed file <_io.FileIO name='/home/ekaterina/Documents/001_science/lcs/mastDownload/Kepler/kplr010748390_sc_Q113333300330333032/kplr010748390-2010174090439_slc.fits' mode='rb' closefd=True>\n",
      "  c)\n",
      "/home/ekaterina/Documents/000_envs/forallpurposes/lib/python3.6/site-packages/altaipony/lcio.py:102: ResourceWarning: unclosed file <_io.FileIO name='/home/ekaterina/Documents/001_science/lcs/mastDownload/Kepler/kplr010748390_sc_Q113333300330333032/kplr010748390-2010140023957_slc.fits' mode='rb' closefd=True>\n",
      "  c)\n",
      "/home/ekaterina/Documents/000_envs/forallpurposes/lib/python3.6/site-packages/altaipony/lcio.py:102: ResourceWarning: unclosed file <_io.FileIO name='/home/ekaterina/Documents/001_science/lcs/mastDownload/Kepler/kplr010748390_sc_Q113333300330333032/kplr010748390-2010111051353_slc.fits' mode='rb' closefd=True>\n",
      "  c)\n",
      "/home/ekaterina/Documents/001_science/Flaring_SPI/notebooks/funcs/transitmask.py:72: SettingWithCopyWarning: \n",
      "A value is trying to be set on a copy of a slice from a DataFrame.\n",
      "Try using .loc[row_indexer,col_indexer] = value instead\n",
      "\n",
      "See the caveats in the documentation: https://pandas.pydata.org/pandas-docs/stable/user_guide/indexing.html#returning-a-view-versus-a-copy\n",
      "  system[\"durhalf\"] = system[\"pl_trandur\"] / 48. # convert to days and cut in half\n"
     ]
    },
    {
     "name": "stdout",
     "output_type": "stream",
     "text": [
      "-----------------------------------------\n",
      "3 light curves available for HAT-P-11 in Kepler.\n",
      "-----------------------------------------\n"
     ]
    },
    {
     "name": "stderr",
     "output_type": "stream",
     "text": [
      "/home/ekaterina/Documents/000_envs/forallpurposes/lib/python3.6/site-packages/numpy/lib/nanfunctions.py:1113: RuntimeWarning: Mean of empty slice\n",
      "  return np.nanmean(a, axis, out=out, keepdims=keepdims)\n"
     ]
    },
    {
     "name": "stdout",
     "output_type": "stream",
     "text": [
      "0.00984899999997424 4.068062999999995 1.6862350000000106 1.6739660000000072 1.3222049999999967 1.2459779999999796 10.006295999999963\n",
      "(45245,)\n",
      "0.008738999999991393 3.2696040000000153 1.887724999999989 1.8582829999999717 1.7556680000000142 1.8080209999999965 10.588039999999978\n",
      "(39710,)\n",
      "0.01017300000000887 5.262542999999994 1.3885940000000119 1.383878999999979 2.086484999999982 1.31625200000002 11.447925999999995\n",
      "(48293,)\n",
      "4.0%, [13/325]\n",
      "182    BJD-TDB\n",
      "Name: pl_tranmid_systemref, dtype: object\n"
     ]
    },
    {
     "name": "stderr",
     "output_type": "stream",
     "text": [
      "0% (150/39780) of the cadences will be ignored due to the quality mask (quality_bitmask=1130799).\n",
      "0% (150/39780) of the cadences will be ignored due to the quality mask (quality_bitmask=1130799).\n",
      "0% (133/45390) of the cadences will be ignored due to the quality mask (quality_bitmask=1130799).\n",
      "0% (133/45390) of the cadences will be ignored due to the quality mask (quality_bitmask=1130799).\n",
      "1% (222/44220) of the cadences will be ignored due to the quality mask (quality_bitmask=1130799).\n",
      "1% (222/44220) of the cadences will be ignored due to the quality mask (quality_bitmask=1130799).\n",
      "/home/ekaterina/Documents/000_envs/forallpurposes/lib/python3.6/site-packages/altaipony/lcio.py:102: ResourceWarning: unclosed file <_io.FileIO name='/home/ekaterina/Documents/001_science/lcs/mastDownload/Kepler/kplr010748390_sc_Q113333300330333032/kplr010748390-2010265121752_slc.fits' mode='rb' closefd=True>\n",
      "  c)\n",
      "/home/ekaterina/Documents/000_envs/forallpurposes/lib/python3.6/site-packages/altaipony/lcio.py:102: ResourceWarning: unclosed file <_io.FileIO name='/home/ekaterina/Documents/001_science/lcs/mastDownload/Kepler/kplr010748390_sc_Q113333300330333032/kplr010748390-2010234115140_slc.fits' mode='rb' closefd=True>\n",
      "  c)\n",
      "/home/ekaterina/Documents/000_envs/forallpurposes/lib/python3.6/site-packages/altaipony/lcio.py:102: ResourceWarning: unclosed file <_io.FileIO name='/home/ekaterina/Documents/001_science/lcs/mastDownload/Kepler/kplr010748390_sc_Q113333300330333032/kplr010748390-2010203174610_slc.fits' mode='rb' closefd=True>\n",
      "  c)\n",
      "/home/ekaterina/Documents/001_science/Flaring_SPI/notebooks/funcs/transitmask.py:72: SettingWithCopyWarning: \n",
      "A value is trying to be set on a copy of a slice from a DataFrame.\n",
      "Try using .loc[row_indexer,col_indexer] = value instead\n",
      "\n",
      "See the caveats in the documentation: https://pandas.pydata.org/pandas-docs/stable/user_guide/indexing.html#returning-a-view-versus-a-copy\n",
      "  system[\"durhalf\"] = system[\"pl_trandur\"] / 48. # convert to days and cut in half\n"
     ]
    },
    {
     "name": "stdout",
     "output_type": "stream",
     "text": [
      "-----------------------------------------\n",
      "3 light curves available for HAT-P-11 in Kepler.\n",
      "-----------------------------------------\n"
     ]
    },
    {
     "name": "stderr",
     "output_type": "stream",
     "text": [
      "/home/ekaterina/Documents/000_envs/forallpurposes/lib/python3.6/site-packages/numpy/lib/nanfunctions.py:1113: RuntimeWarning: Mean of empty slice\n",
      "  return np.nanmean(a, axis, out=out, keepdims=keepdims)\n"
     ]
    },
    {
     "name": "stdout",
     "output_type": "stream",
     "text": [
      "0.009668999999973948 5.193128999999999 1.93100400000003 1.933981000000017 1.9996949999999742 1.9209220000000187 12.988400000000013\n",
      "(38905,)\n",
      "0.009381000000018958 4.077752999999973 1.6989690000000337 1.6467509999999947 1.7291779999999903 1.2444540000000188 10.40648600000003\n",
      "(44241,)\n",
      "0.009033999999985554 3.9238300000000095 1.290976999999998 1.2805309999999963 0.8830050000000256 1.055928999999992 8.443306000000007\n",
      "(43132,)\n",
      "4.3%, [14/325]\n",
      "182    BJD-TDB\n",
      "Name: pl_tranmid_systemref, dtype: object\n"
     ]
    },
    {
     "name": "stderr",
     "output_type": "stream",
     "text": [
      "0% (144/53460) of the cadences will be ignored due to the quality mask (quality_bitmask=1130799).\n",
      "0% (144/53460) of the cadences will be ignored due to the quality mask (quality_bitmask=1130799).\n",
      "0% (138/41850) of the cadences will be ignored due to the quality mask (quality_bitmask=1130799).\n",
      "0% (138/41850) of the cadences will be ignored due to the quality mask (quality_bitmask=1130799).\n",
      "0% (150/45780) of the cadences will be ignored due to the quality mask (quality_bitmask=1130799).\n",
      "0% (150/45780) of the cadences will be ignored due to the quality mask (quality_bitmask=1130799).\n",
      "/home/ekaterina/Documents/000_envs/forallpurposes/lib/python3.6/site-packages/altaipony/lcio.py:102: ResourceWarning: unclosed file <_io.FileIO name='/home/ekaterina/Documents/001_science/lcs/mastDownload/Kepler/kplr010748390_sc_Q113333300330333032/kplr010748390-2011177032512_slc.fits' mode='rb' closefd=True>\n",
      "  c)\n",
      "/home/ekaterina/Documents/000_envs/forallpurposes/lib/python3.6/site-packages/altaipony/lcio.py:102: ResourceWarning: unclosed file <_io.FileIO name='/home/ekaterina/Documents/001_science/lcs/mastDownload/Kepler/kplr010748390_sc_Q113333300330333032/kplr010748390-2011145075126_slc.fits' mode='rb' closefd=True>\n",
      "  c)\n",
      "/home/ekaterina/Documents/000_envs/forallpurposes/lib/python3.6/site-packages/altaipony/lcio.py:102: ResourceWarning: unclosed file <_io.FileIO name='/home/ekaterina/Documents/001_science/lcs/mastDownload/Kepler/kplr010748390_sc_Q113333300330333032/kplr010748390-2011116030358_slc.fits' mode='rb' closefd=True>\n",
      "  c)\n",
      "/home/ekaterina/Documents/001_science/Flaring_SPI/notebooks/funcs/transitmask.py:72: SettingWithCopyWarning: \n",
      "A value is trying to be set on a copy of a slice from a DataFrame.\n",
      "Try using .loc[row_indexer,col_indexer] = value instead\n",
      "\n",
      "See the caveats in the documentation: https://pandas.pydata.org/pandas-docs/stable/user_guide/indexing.html#returning-a-view-versus-a-copy\n",
      "  system[\"durhalf\"] = system[\"pl_trandur\"] / 48. # convert to days and cut in half\n"
     ]
    },
    {
     "name": "stdout",
     "output_type": "stream",
     "text": [
      "-----------------------------------------\n",
      "3 light curves available for HAT-P-11 in Kepler.\n",
      "-----------------------------------------\n"
     ]
    },
    {
     "name": "stderr",
     "output_type": "stream",
     "text": [
      "/home/ekaterina/Documents/000_envs/forallpurposes/lib/python3.6/site-packages/numpy/lib/nanfunctions.py:1113: RuntimeWarning: Mean of empty slice\n",
      "  return np.nanmean(a, axis, out=out, keepdims=keepdims)\n"
     ]
    },
    {
     "name": "stdout",
     "output_type": "stream",
     "text": [
      "0.011503000000004704 5.704157000000009 3.103886999999986 3.060335000000009 2.6886449999999513 2.083726000000013 16.652252999999973\n",
      "(52276,)\n",
      "0.00863499999996975 4.818357999999989 1.9168860000000336 1.853586000000007 2.451025999999956 1.719850000000008 12.768340999999964\n",
      "(40843,)\n",
      "0.009724000000005617 3.542190000000005 1.9888189999999781 1.976694000000009 2.310250999999994 1.2077659999999923 11.035443999999984\n",
      "(44605,)\n",
      "4.6%, [15/325]\n",
      "182    BJD-TDB\n",
      "Name: pl_tranmid_systemref, dtype: object\n"
     ]
    },
    {
     "name": "stderr",
     "output_type": "stream",
     "text": [
      "1% (242/44220) of the cadences will be ignored due to the quality mask (quality_bitmask=1130799).\n",
      "1% (242/44220) of the cadences will be ignored due to the quality mask (quality_bitmask=1130799).\n",
      "3% (1158/46170) of the cadences will be ignored due to the quality mask (quality_bitmask=1130799).\n",
      "3% (1158/46170) of the cadences will be ignored due to the quality mask (quality_bitmask=1130799).\n",
      "1% (241/44340) of the cadences will be ignored due to the quality mask (quality_bitmask=1130799).\n",
      "1% (241/44340) of the cadences will be ignored due to the quality mask (quality_bitmask=1130799).\n",
      "/home/ekaterina/Documents/000_envs/forallpurposes/lib/python3.6/site-packages/altaipony/lcio.py:102: ResourceWarning: unclosed file <_io.FileIO name='/home/ekaterina/Documents/001_science/lcs/mastDownload/Kepler/kplr010748390_sc_Q113333300330333032/kplr010748390-2011271113734_slc.fits' mode='rb' closefd=True>\n",
      "  c)\n",
      "/home/ekaterina/Documents/000_envs/forallpurposes/lib/python3.6/site-packages/altaipony/lcio.py:102: ResourceWarning: unclosed file <_io.FileIO name='/home/ekaterina/Documents/001_science/lcs/mastDownload/Kepler/kplr010748390_sc_Q113333300330333032/kplr010748390-2011240104155_slc.fits' mode='rb' closefd=True>\n",
      "  c)\n",
      "/home/ekaterina/Documents/000_envs/forallpurposes/lib/python3.6/site-packages/altaipony/lcio.py:102: ResourceWarning: unclosed file <_io.FileIO name='/home/ekaterina/Documents/001_science/lcs/mastDownload/Kepler/kplr010748390_sc_Q113333300330333032/kplr010748390-2011208035123_slc.fits' mode='rb' closefd=True>\n",
      "  c)\n",
      "/home/ekaterina/Documents/001_science/Flaring_SPI/notebooks/funcs/transitmask.py:72: SettingWithCopyWarning: \n",
      "A value is trying to be set on a copy of a slice from a DataFrame.\n",
      "Try using .loc[row_indexer,col_indexer] = value instead\n",
      "\n",
      "See the caveats in the documentation: https://pandas.pydata.org/pandas-docs/stable/user_guide/indexing.html#returning-a-view-versus-a-copy\n",
      "  system[\"durhalf\"] = system[\"pl_trandur\"] / 48. # convert to days and cut in half\n"
     ]
    },
    {
     "name": "stdout",
     "output_type": "stream",
     "text": [
      "-----------------------------------------\n",
      "3 light curves available for HAT-P-11 in Kepler.\n",
      "-----------------------------------------\n"
     ]
    },
    {
     "name": "stderr",
     "output_type": "stream",
     "text": [
      "/home/ekaterina/Documents/000_envs/forallpurposes/lib/python3.6/site-packages/numpy/lib/nanfunctions.py:1113: RuntimeWarning: Mean of empty slice\n",
      "  return np.nanmean(a, axis, out=out, keepdims=keepdims)\n"
     ]
    },
    {
     "name": "stdout",
     "output_type": "stream",
     "text": [
      "0.009546999999997752 5.799229000000082 2.8081789999999955 2.7614209999999275 3.0988170000000537 2.435202000000004 16.91239500000006\n",
      "(43124,)\n",
      "0.009434000000055676 4.421734000000015 2.184095999999954 2.154780999999957 1.9867810000000645 1.1741660000000138 11.93099200000006\n",
      "(44009,)\n",
      "0.008796000000074855 5.678150999999957 2.5756410000000187 2.6962109999999484 2.109751000000074 1.6813519999999471 14.74990200000002\n",
      "(43199,)\n",
      "4.9%, [16/325]\n",
      "182    BJD-TDB\n",
      "Name: pl_tranmid_systemref, dtype: object\n"
     ]
    },
    {
     "name": "stderr",
     "output_type": "stream",
     "text": [
      "13% (4872/38910) of the cadences will be ignored due to the quality mask (quality_bitmask=1130799).\n",
      "13% (4872/38910) of the cadences will be ignored due to the quality mask (quality_bitmask=1130799).\n",
      "1% (216/40200) of the cadences will be ignored due to the quality mask (quality_bitmask=1130799).\n",
      "1% (216/40200) of the cadences will be ignored due to the quality mask (quality_bitmask=1130799).\n",
      "17% (6893/39840) of the cadences will be ignored due to the quality mask (quality_bitmask=1130799).\n",
      "17% (6893/39840) of the cadences will be ignored due to the quality mask (quality_bitmask=1130799).\n",
      "/home/ekaterina/Documents/000_envs/forallpurposes/lib/python3.6/site-packages/altaipony/lcio.py:102: ResourceWarning: unclosed file <_io.FileIO name='/home/ekaterina/Documents/001_science/lcs/mastDownload/Kepler/kplr010748390_sc_Q113333300330333032/kplr010748390-2012088054726_slc.fits' mode='rb' closefd=True>\n",
      "  c)\n",
      "/home/ekaterina/Documents/000_envs/forallpurposes/lib/python3.6/site-packages/altaipony/lcio.py:102: ResourceWarning: unclosed file <_io.FileIO name='/home/ekaterina/Documents/001_science/lcs/mastDownload/Kepler/kplr010748390_sc_Q113333300330333032/kplr010748390-2012060035710_slc.fits' mode='rb' closefd=True>\n",
      "  c)\n",
      "/home/ekaterina/Documents/000_envs/forallpurposes/lib/python3.6/site-packages/altaipony/lcio.py:102: ResourceWarning: unclosed file <_io.FileIO name='/home/ekaterina/Documents/001_science/lcs/mastDownload/Kepler/kplr010748390_sc_Q113333300330333032/kplr010748390-2012032013838_slc.fits' mode='rb' closefd=True>\n",
      "  c)\n",
      "/home/ekaterina/Documents/001_science/Flaring_SPI/notebooks/funcs/transitmask.py:72: SettingWithCopyWarning: \n",
      "A value is trying to be set on a copy of a slice from a DataFrame.\n",
      "Try using .loc[row_indexer,col_indexer] = value instead\n",
      "\n",
      "See the caveats in the documentation: https://pandas.pydata.org/pandas-docs/stable/user_guide/indexing.html#returning-a-view-versus-a-copy\n",
      "  system[\"durhalf\"] = system[\"pl_trandur\"] / 48. # convert to days and cut in half\n",
      "/home/ekaterina/Documents/000_envs/forallpurposes/lib/python3.6/site-packages/numpy/lib/nanfunctions.py:1113: RuntimeWarning: Mean of empty slice\n",
      "  return np.nanmean(a, axis, out=out, keepdims=keepdims)\n"
     ]
    },
    {
     "name": "stdout",
     "output_type": "stream",
     "text": [
      "-----------------------------------------\n",
      "3 light curves available for HAT-P-11 in Kepler.\n",
      "-----------------------------------------\n"
     ]
    },
    {
     "name": "stderr",
     "output_type": "stream",
     "text": [
      "/home/ekaterina/Documents/001_science/Flaring_SPI/notebooks/funcs/detrend.py:229: RuntimeWarning: overflow encountered in exp\n",
      "  return a * np.exp(b * (c - x)) + d * np.exp(e * (f - x)) + g\n",
      "/home/ekaterina/Documents/001_science/Flaring_SPI/notebooks/funcs/detrend.py:229: RuntimeWarning: overflow encountered in multiply\n",
      "  return a * np.exp(b * (c - x)) + d * np.exp(e * (f - x)) + g\n"
     ]
    },
    {
     "name": "stdout",
     "output_type": "stream",
     "text": [
      "0.008012000000007902 3.658470999999963 1.46550400000001 1.421974999999975 1.3953290000000607 1.4540399999999636 9.40333099999998\n",
      "(39276,)\n",
      "0.007084999999960928 4.214291000000003 1.5730260000000271 1.5823579999999993 1.2121619999999211 1.2778180000000248 9.866739999999936\n",
      "(32399,)\n",
      "5.2%, [17/325]\n",
      "182    BJD-TDB\n",
      "Name: pl_tranmid_systemref, dtype: object\n"
     ]
    },
    {
     "name": "stderr",
     "output_type": "stream",
     "text": [
      "1% (563/47370) of the cadences will be ignored due to the quality mask (quality_bitmask=1130799).\n",
      "1% (563/47370) of the cadences will be ignored due to the quality mask (quality_bitmask=1130799).\n",
      "1% (448/42930) of the cadences will be ignored due to the quality mask (quality_bitmask=1130799).\n",
      "1% (448/42930) of the cadences will be ignored due to the quality mask (quality_bitmask=1130799).\n",
      "2% (867/39990) of the cadences will be ignored due to the quality mask (quality_bitmask=1130799).\n",
      "2% (867/39990) of the cadences will be ignored due to the quality mask (quality_bitmask=1130799).\n",
      "/home/ekaterina/Documents/000_envs/forallpurposes/lib/python3.6/site-packages/altaipony/lcio.py:102: ResourceWarning: unclosed file <_io.FileIO name='/home/ekaterina/Documents/001_science/lcs/mastDownload/Kepler/kplr010748390_sc_Q113333300330333032/kplr010748390-2012179063303_slc.fits' mode='rb' closefd=True>\n",
      "  c)\n",
      "/home/ekaterina/Documents/000_envs/forallpurposes/lib/python3.6/site-packages/altaipony/lcio.py:102: ResourceWarning: unclosed file <_io.FileIO name='/home/ekaterina/Documents/001_science/lcs/mastDownload/Kepler/kplr010748390_sc_Q113333300330333032/kplr010748390-2012151031540_slc.fits' mode='rb' closefd=True>\n",
      "  c)\n",
      "/home/ekaterina/Documents/000_envs/forallpurposes/lib/python3.6/site-packages/altaipony/lcio.py:102: ResourceWarning: unclosed file <_io.FileIO name='/home/ekaterina/Documents/001_science/lcs/mastDownload/Kepler/kplr010748390_sc_Q113333300330333032/kplr010748390-2012121044856_slc.fits' mode='rb' closefd=True>\n",
      "  c)\n",
      "/home/ekaterina/Documents/001_science/Flaring_SPI/notebooks/funcs/transitmask.py:72: SettingWithCopyWarning: \n",
      "A value is trying to be set on a copy of a slice from a DataFrame.\n",
      "Try using .loc[row_indexer,col_indexer] = value instead\n",
      "\n",
      "See the caveats in the documentation: https://pandas.pydata.org/pandas-docs/stable/user_guide/indexing.html#returning-a-view-versus-a-copy\n",
      "  system[\"durhalf\"] = system[\"pl_trandur\"] / 48. # convert to days and cut in half\n",
      "/home/ekaterina/Documents/000_envs/forallpurposes/lib/python3.6/site-packages/numpy/lib/nanfunctions.py:1113: RuntimeWarning: Mean of empty slice\n",
      "  return np.nanmean(a, axis, out=out, keepdims=keepdims)\n"
     ]
    },
    {
     "name": "stdout",
     "output_type": "stream",
     "text": [
      "-----------------------------------------\n",
      "3 light curves available for HAT-P-11 in Kepler.\n",
      "-----------------------------------------\n",
      "0.008355999999935193 4.69357500000001 2.081266000000028 2.1410260000000108 1.6313420000000178 1.2982059999999365 11.853770999999938\n",
      "(41421,)\n",
      "0.007199000000014166 3.4719270000000506 1.944484999999986 1.9554580000000215 1.5455149999999094 0.8235930000000735 9.748177000000055\n",
      "(38254,)\n",
      "5.5%, [18/325]\n",
      "182    BJD-TDB\n",
      "Name: pl_tranmid_systemref, dtype: object\n"
     ]
    },
    {
     "name": "stderr",
     "output_type": "stream",
     "text": [
      "19% (8480/45330) of the cadences will be ignored due to the quality mask (quality_bitmask=1130799).\n",
      "19% (8480/45330) of the cadences will be ignored due to the quality mask (quality_bitmask=1130799).\n",
      "0% (106/44280) of the cadences will be ignored due to the quality mask (quality_bitmask=1130799).\n",
      "0% (106/44280) of the cadences will be ignored due to the quality mask (quality_bitmask=1130799).\n",
      "0% (161/50160) of the cadences will be ignored due to the quality mask (quality_bitmask=1130799).\n",
      "0% (161/50160) of the cadences will be ignored due to the quality mask (quality_bitmask=1130799).\n",
      "/home/ekaterina/Documents/000_envs/forallpurposes/lib/python3.6/site-packages/altaipony/lcio.py:102: ResourceWarning: unclosed file <_io.FileIO name='/home/ekaterina/Documents/001_science/lcs/mastDownload/Kepler/kplr010748390_sc_Q113333300330333032/kplr010748390-2012277125453_slc.fits' mode='rb' closefd=True>\n",
      "  c)\n",
      "/home/ekaterina/Documents/000_envs/forallpurposes/lib/python3.6/site-packages/altaipony/lcio.py:102: ResourceWarning: unclosed file <_io.FileIO name='/home/ekaterina/Documents/001_science/lcs/mastDownload/Kepler/kplr010748390_sc_Q113333300330333032/kplr010748390-2012242122129_slc.fits' mode='rb' closefd=True>\n",
      "  c)\n",
      "/home/ekaterina/Documents/000_envs/forallpurposes/lib/python3.6/site-packages/altaipony/lcio.py:102: ResourceWarning: unclosed file <_io.FileIO name='/home/ekaterina/Documents/001_science/lcs/mastDownload/Kepler/kplr010748390_sc_Q113333300330333032/kplr010748390-2012211050319_slc.fits' mode='rb' closefd=True>\n",
      "  c)\n",
      "/home/ekaterina/Documents/001_science/Flaring_SPI/notebooks/funcs/transitmask.py:72: SettingWithCopyWarning: \n",
      "A value is trying to be set on a copy of a slice from a DataFrame.\n",
      "Try using .loc[row_indexer,col_indexer] = value instead\n",
      "\n",
      "See the caveats in the documentation: https://pandas.pydata.org/pandas-docs/stable/user_guide/indexing.html#returning-a-view-versus-a-copy\n",
      "  system[\"durhalf\"] = system[\"pl_trandur\"] / 48. # convert to days and cut in half\n",
      "/home/ekaterina/Documents/000_envs/forallpurposes/lib/python3.6/site-packages/numpy/lib/nanfunctions.py:1113: RuntimeWarning: Mean of empty slice\n",
      "  return np.nanmean(a, axis, out=out, keepdims=keepdims)\n"
     ]
    },
    {
     "name": "stdout",
     "output_type": "stream",
     "text": [
      "-----------------------------------------\n",
      "3 light curves available for HAT-P-11 in Kepler.\n",
      "-----------------------------------------\n",
      "0.009043000000019674 3.6868389999999636 2.349366000000032 2.3325780000000123 1.665446999999972 1.650115000000028 11.693388000000027\n",
      "(43282,)\n",
      "0.009807999999907224 6.01496300000008 2.786216999999965 2.783975000000055 3.1326729999999543 2.4048830000000407 17.132519000000002\n",
      "(48948,)\n",
      "5.8%, [19/325]\n",
      "182    BJD-TDB\n",
      "Name: pl_tranmid_systemref, dtype: object\n"
     ]
    },
    {
     "name": "stderr",
     "output_type": "stream",
     "text": [
      "1% (58/7680) of the cadences will be ignored due to the quality mask (quality_bitmask=1130799).\n",
      "1% (58/7680) of the cadences will be ignored due to the quality mask (quality_bitmask=1130799).\n",
      "1% (545/53310) of the cadences will be ignored due to the quality mask (quality_bitmask=1130799).\n",
      "1% (545/53310) of the cadences will be ignored due to the quality mask (quality_bitmask=1130799).\n",
      "1% (274/46770) of the cadences will be ignored due to the quality mask (quality_bitmask=1130799).\n",
      "1% (274/46770) of the cadences will be ignored due to the quality mask (quality_bitmask=1130799).\n",
      "/home/ekaterina/Documents/000_envs/forallpurposes/lib/python3.6/site-packages/altaipony/lcio.py:102: ResourceWarning: unclosed file <_io.FileIO name='/home/ekaterina/Documents/001_science/lcs/mastDownload/Kepler/kplr010748390_sc_Q113333300330333032/kplr010748390-2013098041711_slc.fits' mode='rb' closefd=True>\n",
      "  c)\n",
      "/home/ekaterina/Documents/000_envs/forallpurposes/lib/python3.6/site-packages/altaipony/lcio.py:102: ResourceWarning: unclosed file <_io.FileIO name='/home/ekaterina/Documents/001_science/lcs/mastDownload/Kepler/kplr010748390_sc_Q113333300330333032/kplr010748390-2013065031647_slc.fits' mode='rb' closefd=True>\n",
      "  c)\n",
      "/home/ekaterina/Documents/000_envs/forallpurposes/lib/python3.6/site-packages/altaipony/lcio.py:102: ResourceWarning: unclosed file <_io.FileIO name='/home/ekaterina/Documents/001_science/lcs/mastDownload/Kepler/kplr010748390_sc_Q113333300330333032/kplr010748390-2013017113907_slc.fits' mode='rb' closefd=True>\n",
      "  c)\n",
      "/home/ekaterina/Documents/001_science/Flaring_SPI/notebooks/funcs/transitmask.py:72: SettingWithCopyWarning: \n",
      "A value is trying to be set on a copy of a slice from a DataFrame.\n",
      "Try using .loc[row_indexer,col_indexer] = value instead\n",
      "\n",
      "See the caveats in the documentation: https://pandas.pydata.org/pandas-docs/stable/user_guide/indexing.html#returning-a-view-versus-a-copy\n",
      "  system[\"durhalf\"] = system[\"pl_trandur\"] / 48. # convert to days and cut in half\n",
      "/home/ekaterina/Documents/000_envs/forallpurposes/lib/python3.6/site-packages/numpy/lib/nanfunctions.py:1113: RuntimeWarning: Mean of empty slice\n",
      "  return np.nanmean(a, axis, out=out, keepdims=keepdims)\n"
     ]
    },
    {
     "name": "stdout",
     "output_type": "stream",
     "text": [
      "-----------------------------------------\n",
      "3 light curves available for HAT-P-11 in Kepler.\n",
      "-----------------------------------------\n",
      "0.003526000000078966 0.6018329999999423 0.18125800000007075 0.17087900000001355 0.17123399999991307 0.1756790000000592 1.3044090000000779\n",
      "(7355,)\n",
      "0.01149200000008932 5.896663999999987 2.37199099999998 2.366231999999968 2.5942999999999756 1.8349550000000363 15.075634000000036\n",
      "(51742,)\n",
      "0.01089600000000246 6.230626000000029 2.365224000000012 2.3093900000000076 2.0123299999999062 1.618233000000032 14.54669899999999\n",
      "(45595,)\n",
      "6.2%, [20/325]\n",
      "182    BJD-TDB\n",
      "Name: pl_tranmid_systemref, dtype: object\n"
     ]
    },
    {
     "name": "stderr",
     "output_type": "stream",
     "text": [
      "1% (248/32850) of the cadences will be ignored due to the quality mask (quality_bitmask=1130799).\n",
      "1% (248/32850) of the cadences will be ignored due to the quality mask (quality_bitmask=1130799).\n",
      "0% (28/6180) of the cadences will be ignored due to the quality mask (quality_bitmask=1130799).\n",
      "0% (28/6180) of the cadences will be ignored due to the quality mask (quality_bitmask=1130799).\n",
      "/home/ekaterina/Documents/000_envs/forallpurposes/lib/python3.6/site-packages/altaipony/lcio.py:102: ResourceWarning: unclosed file <_io.FileIO name='/home/ekaterina/Documents/001_science/lcs/mastDownload/Kepler/kplr010748390_sc_Q113333300330333032/kplr010748390-2013131215648_slc.fits' mode='rb' closefd=True>\n",
      "  c)\n",
      "/home/ekaterina/Documents/000_envs/forallpurposes/lib/python3.6/site-packages/altaipony/lcio.py:102: ResourceWarning: unclosed file <_io.FileIO name='/home/ekaterina/Documents/001_science/lcs/mastDownload/Kepler/kplr010748390_sc_Q113333300330333032/kplr010748390-2013121191144_slc.fits' mode='rb' closefd=True>\n",
      "  c)\n",
      "/home/ekaterina/Documents/001_science/Flaring_SPI/notebooks/funcs/transitmask.py:72: SettingWithCopyWarning: \n",
      "A value is trying to be set on a copy of a slice from a DataFrame.\n",
      "Try using .loc[row_indexer,col_indexer] = value instead\n",
      "\n",
      "See the caveats in the documentation: https://pandas.pydata.org/pandas-docs/stable/user_guide/indexing.html#returning-a-view-versus-a-copy\n",
      "  system[\"durhalf\"] = system[\"pl_trandur\"] / 48. # convert to days and cut in half\n",
      "/home/ekaterina/Documents/000_envs/forallpurposes/lib/python3.6/site-packages/numpy/lib/nanfunctions.py:1113: RuntimeWarning: Mean of empty slice\n",
      "  return np.nanmean(a, axis, out=out, keepdims=keepdims)\n"
     ]
    },
    {
     "name": "stdout",
     "output_type": "stream",
     "text": [
      "-----------------------------------------\n",
      "2 light curves available for HAT-P-11 in Kepler.\n",
      "-----------------------------------------\n",
      "0.010533000000009451 3.720062999999982 1.4942250000000286 1.494683000000009 1.7680639999999812 1.3947940000000472 9.882362000000057\n",
      "(31880,)\n",
      "0.0026370000000497384 0.42817700000000514 0.2704710000000432 0.26299999999991996 0.29178699999999935 0.301900000000046 1.5579720000000634\n",
      "(6006,)\n",
      "6.5%, [21/325]\n",
      "3854    12\n",
      "Name: qcs, dtype: int64\n"
     ]
    },
    {
     "name": "stderr",
     "output_type": "stream",
     "text": [
      "5% (1015/20119) of the cadences will be ignored due to the quality mask (quality_bitmask=175).\n",
      "5% (1015/20119) of the cadences will be ignored due to the quality mask (quality_bitmask=175).\n",
      "/home/ekaterina/Documents/000_envs/forallpurposes/lib/python3.6/site-packages/altaipony/lcio.py:114: ResourceWarning: unclosed file <_io.FileIO name='/home/ekaterina/Documents/001_science/lcs/mastDownload/TESS/tess2019140104343-s0012-0000000016909043-0144-s/tess2019140104343-s0012-0000000016909043-0144-s_lc.fits' mode='rb' closefd=True>\n",
      "  c)\n"
     ]
    },
    {
     "name": "stdout",
     "output_type": "stream",
     "text": [
      "-----------------------------------------\n",
      "1 light curves available for GJ 682 in TESS.\n",
      "-----------------------------------------\n"
     ]
    },
    {
     "name": "stderr",
     "output_type": "stream",
     "text": [
      "/home/ekaterina/Documents/000_envs/forallpurposes/lib/python3.6/site-packages/numpy/lib/nanfunctions.py:1113: RuntimeWarning: Mean of empty slice\n",
      "  return np.nanmean(a, axis, out=out, keepdims=keepdims)\n"
     ]
    },
    {
     "name": "stdout",
     "output_type": "stream",
     "text": [
      "0.008769000000029337 4.063736999999946 1.5307360000000472 1.1469730000000027 1.2603259999999636 1.2696280000000115 9.280169\n",
      "(15699,)\n",
      "6.8%, [22/325]\n",
      "7741     2\n",
      "7742     3\n",
      "7743     4\n",
      "7744     5\n",
      "7745     6\n",
      "7746     7\n",
      "7747     8\n",
      "7748     9\n",
      "7749    10\n",
      "7750    12\n",
      "7751    13\n",
      "7752    27\n",
      "7753    28\n",
      "7754    29\n",
      "7755    30\n",
      "Name: qcs, dtype: int64\n"
     ]
    },
    {
     "name": "stderr",
     "output_type": "stream",
     "text": [
      "7% (1420/19737) of the cadences will be ignored due to the quality mask (quality_bitmask=175).\n",
      "7% (1420/19737) of the cadences will be ignored due to the quality mask (quality_bitmask=175).\n",
      "/home/ekaterina/Documents/000_envs/forallpurposes/lib/python3.6/site-packages/altaipony/lcio.py:114: ResourceWarning: unclosed file <_io.FileIO name='/home/ekaterina/Documents/001_science/lcs/mastDownload/TESS/tess2018234235059-s0002-0000000272086159-0121-s/tess2018234235059-s0002-0000000272086159-0121-s_lc.fits' mode='rb' closefd=True>\n",
      "  c)\n"
     ]
    },
    {
     "name": "stdout",
     "output_type": "stream",
     "text": [
      "-----------------------------------------\n",
      "1 light curves available for TIC 272086159 in TESS.\n",
      "-----------------------------------------\n"
     ]
    },
    {
     "name": "stderr",
     "output_type": "stream",
     "text": [
      "/home/ekaterina/Documents/000_envs/forallpurposes/lib/python3.6/site-packages/numpy/lib/nanfunctions.py:1113: RuntimeWarning: Mean of empty slice\n",
      "  return np.nanmean(a, axis, out=out, keepdims=keepdims)\n"
     ]
    },
    {
     "name": "stdout",
     "output_type": "stream",
     "text": [
      "0.005792000000042208 3.6673609999999144 1.537148000000002 1.416949000000045 1.3279449999999997 1.2999220000000378 9.255117000000041\n",
      "(18223,)\n",
      "7.1%, [23/325]\n"
     ]
    },
    {
     "name": "stderr",
     "output_type": "stream",
     "text": [
      "Warning: 31% (6168/19692) of the cadences will be ignored due to the quality mask (quality_bitmask=175).\n",
      "Warning: 31% (6168/19692) of the cadences will be ignored due to the quality mask (quality_bitmask=175).\n",
      "/home/ekaterina/Documents/000_envs/forallpurposes/lib/python3.6/site-packages/altaipony/lcio.py:114: ResourceWarning: unclosed file <_io.FileIO name='/home/ekaterina/Documents/001_science/lcs/mastDownload/TESS/tess2018263035959-s0003-0000000272086159-0123-s/tess2018263035959-s0003-0000000272086159-0123-s_lc.fits' mode='rb' closefd=True>\n",
      "  c)\n"
     ]
    },
    {
     "name": "stdout",
     "output_type": "stream",
     "text": [
      "-----------------------------------------\n",
      "1 light curves available for TIC 272086159 in TESS.\n",
      "-----------------------------------------\n"
     ]
    },
    {
     "name": "stderr",
     "output_type": "stream",
     "text": [
      "/home/ekaterina/Documents/000_envs/forallpurposes/lib/python3.6/site-packages/numpy/lib/nanfunctions.py:1113: RuntimeWarning: Mean of empty slice\n",
      "  return np.nanmean(a, axis, out=out, keepdims=keepdims)\n"
     ]
    },
    {
     "name": "stdout",
     "output_type": "stream",
     "text": [
      "0.004097999999999047 2.500359000000003 0.9675150000000485 0.9856159999999363 0.9866570000000365 0.9709619999999859 6.415207000000009\n",
      "(13398,)\n",
      "7.4%, [24/325]\n"
     ]
    },
    {
     "name": "stderr",
     "output_type": "stream",
     "text": [
      "5% (920/18684) of the cadences will be ignored due to the quality mask (quality_bitmask=175).\n",
      "5% (920/18684) of the cadences will be ignored due to the quality mask (quality_bitmask=175).\n",
      "/home/ekaterina/Documents/000_envs/forallpurposes/lib/python3.6/site-packages/altaipony/lcio.py:114: ResourceWarning: unclosed file <_io.FileIO name='/home/ekaterina/Documents/001_science/lcs/mastDownload/TESS/tess2018292075959-s0004-0000000272086159-0124-s/tess2018292075959-s0004-0000000272086159-0124-s_lc.fits' mode='rb' closefd=True>\n",
      "  c)\n"
     ]
    },
    {
     "name": "stdout",
     "output_type": "stream",
     "text": [
      "-----------------------------------------\n",
      "1 light curves available for TIC 272086159 in TESS.\n",
      "-----------------------------------------\n"
     ]
    },
    {
     "name": "stderr",
     "output_type": "stream",
     "text": [
      "/home/ekaterina/Documents/000_envs/forallpurposes/lib/python3.6/site-packages/numpy/lib/nanfunctions.py:1113: RuntimeWarning: Mean of empty slice\n",
      "  return np.nanmean(a, axis, out=out, keepdims=keepdims)\n"
     ]
    },
    {
     "name": "stdout",
     "output_type": "stream",
     "text": [
      "0.004700999999954547 2.4899599999999964 1.1465259999999944 1.2828250000000025 1.1571780000000444 1.1912999999999556 7.272489999999948\n",
      "(15697,)\n",
      "7.7%, [25/325]\n"
     ]
    },
    {
     "name": "stderr",
     "output_type": "stream",
     "text": [
      "6% (1050/18944) of the cadences will be ignored due to the quality mask (quality_bitmask=175).\n",
      "6% (1050/18944) of the cadences will be ignored due to the quality mask (quality_bitmask=175).\n",
      "/home/ekaterina/Documents/000_envs/forallpurposes/lib/python3.6/site-packages/altaipony/lcio.py:114: ResourceWarning: unclosed file <_io.FileIO name='/home/ekaterina/Documents/001_science/lcs/mastDownload/TESS/tess2018319095959-s0005-0000000272086159-0125-s/tess2018319095959-s0005-0000000272086159-0125-s_lc.fits' mode='rb' closefd=True>\n",
      "  c)\n"
     ]
    },
    {
     "name": "stdout",
     "output_type": "stream",
     "text": [
      "-----------------------------------------\n",
      "1 light curves available for TIC 272086159 in TESS.\n",
      "-----------------------------------------\n"
     ]
    },
    {
     "name": "stderr",
     "output_type": "stream",
     "text": [
      "/home/ekaterina/Documents/000_envs/forallpurposes/lib/python3.6/site-packages/numpy/lib/nanfunctions.py:1113: RuntimeWarning: Mean of empty slice\n",
      "  return np.nanmean(a, axis, out=out, keepdims=keepdims)\n"
     ]
    },
    {
     "name": "stdout",
     "output_type": "stream",
     "text": [
      "0.008312000000046282 5.583112000000028 1.774552999999969 1.4731789999999592 1.3082679999999982 1.2827369999999974 11.430160999999998\n",
      "(17783,)\n",
      "8.0%, [26/325]\n"
     ]
    },
    {
     "name": "stderr",
     "output_type": "stream",
     "text": [
      "5% (843/15678) of the cadences will be ignored due to the quality mask (quality_bitmask=175).\n",
      "5% (843/15678) of the cadences will be ignored due to the quality mask (quality_bitmask=175).\n",
      "/home/ekaterina/Documents/000_envs/forallpurposes/lib/python3.6/site-packages/altaipony/lcio.py:114: ResourceWarning: unclosed file <_io.FileIO name='/home/ekaterina/Documents/001_science/lcs/mastDownload/TESS/tess2018349182459-s0006-0000000272086159-0126-s/tess2018349182459-s0006-0000000272086159-0126-s_lc.fits' mode='rb' closefd=True>\n",
      "  c)\n"
     ]
    },
    {
     "name": "stdout",
     "output_type": "stream",
     "text": [
      "-----------------------------------------\n",
      "1 light curves available for TIC 272086159 in TESS.\n",
      "-----------------------------------------\n"
     ]
    },
    {
     "name": "stderr",
     "output_type": "stream",
     "text": [
      "/home/ekaterina/Documents/000_envs/forallpurposes/lib/python3.6/site-packages/numpy/lib/nanfunctions.py:1113: RuntimeWarning: Mean of empty slice\n",
      "  return np.nanmean(a, axis, out=out, keepdims=keepdims)\n"
     ]
    },
    {
     "name": "stdout",
     "output_type": "stream",
     "text": [
      "0.01283699999999044 1.883499000000029 0.6288839999999709 0.6190619999999853 0.6226900000000342 0.5605559999999059 4.327527999999916\n",
      "(14778,)\n",
      "8.3%, [27/325]\n"
     ]
    },
    {
     "name": "stderr",
     "output_type": "stream",
     "text": [
      "7% (1250/17612) of the cadences will be ignored due to the quality mask (quality_bitmask=175).\n",
      "7% (1250/17612) of the cadences will be ignored due to the quality mask (quality_bitmask=175).\n",
      "/home/ekaterina/Documents/000_envs/forallpurposes/lib/python3.6/site-packages/altaipony/lcio.py:114: ResourceWarning: unclosed file <_io.FileIO name='/home/ekaterina/Documents/001_science/lcs/mastDownload/TESS/tess2019006130736-s0007-0000000272086159-0131-s/tess2019006130736-s0007-0000000272086159-0131-s_lc.fits' mode='rb' closefd=True>\n",
      "  c)\n"
     ]
    },
    {
     "name": "stdout",
     "output_type": "stream",
     "text": [
      "-----------------------------------------\n",
      "1 light curves available for TIC 272086159 in TESS.\n",
      "-----------------------------------------\n"
     ]
    },
    {
     "name": "stderr",
     "output_type": "stream",
     "text": [
      "/home/ekaterina/Documents/000_envs/forallpurposes/lib/python3.6/site-packages/numpy/lib/nanfunctions.py:1113: RuntimeWarning: Mean of empty slice\n",
      "  return np.nanmean(a, axis, out=out, keepdims=keepdims)\n"
     ]
    },
    {
     "name": "stdout",
     "output_type": "stream",
     "text": [
      "0.004966999999965083 2.9074920000000475 1.190291000000002 1.1565600000000131 1.139316000000008 1.1601499999999305 7.558775999999966\n",
      "(16269,)\n",
      "8.6%, [28/325]\n"
     ]
    },
    {
     "name": "stderr",
     "output_type": "stream",
     "text": [
      "11% (1987/17755) of the cadences will be ignored due to the quality mask (quality_bitmask=175).\n",
      "11% (1987/17755) of the cadences will be ignored due to the quality mask (quality_bitmask=175).\n",
      "/home/ekaterina/Documents/000_envs/forallpurposes/lib/python3.6/site-packages/altaipony/lcio.py:114: ResourceWarning: unclosed file <_io.FileIO name='/home/ekaterina/Documents/001_science/lcs/mastDownload/TESS/tess2019032160000-s0008-0000000272086159-0136-s/tess2019032160000-s0008-0000000272086159-0136-s_lc.fits' mode='rb' closefd=True>\n",
      "  c)\n"
     ]
    },
    {
     "name": "stdout",
     "output_type": "stream",
     "text": [
      "-----------------------------------------\n",
      "1 light curves available for TIC 272086159 in TESS.\n",
      "-----------------------------------------\n"
     ]
    },
    {
     "name": "stderr",
     "output_type": "stream",
     "text": [
      "/home/ekaterina/Documents/000_envs/forallpurposes/lib/python3.6/site-packages/numpy/lib/nanfunctions.py:1113: RuntimeWarning: Mean of empty slice\n",
      "  return np.nanmean(a, axis, out=out, keepdims=keepdims)\n"
     ]
    },
    {
     "name": "stdout",
     "output_type": "stream",
     "text": [
      "0.005004999999982829 2.4669110000000956 0.9547649999999521 0.9748919999999544 0.946798000000058 0.971033000000034 6.319404000000077\n",
      "(13326,)\n",
      "8.9%, [29/325]\n"
     ]
    },
    {
     "name": "stderr",
     "output_type": "stream",
     "text": [
      "5% (930/18187) of the cadences will be ignored due to the quality mask (quality_bitmask=175).\n",
      "5% (930/18187) of the cadences will be ignored due to the quality mask (quality_bitmask=175).\n",
      "/home/ekaterina/Documents/000_envs/forallpurposes/lib/python3.6/site-packages/altaipony/lcio.py:114: ResourceWarning: unclosed file <_io.FileIO name='/home/ekaterina/Documents/001_science/lcs/mastDownload/TESS/tess2019058134432-s0009-0000000272086159-0139-s/tess2019058134432-s0009-0000000272086159-0139-s_lc.fits' mode='rb' closefd=True>\n",
      "  c)\n"
     ]
    },
    {
     "name": "stdout",
     "output_type": "stream",
     "text": [
      "-----------------------------------------\n",
      "1 light curves available for TIC 272086159 in TESS.\n",
      "-----------------------------------------\n"
     ]
    },
    {
     "name": "stderr",
     "output_type": "stream",
     "text": [
      "/home/ekaterina/Documents/000_envs/forallpurposes/lib/python3.6/site-packages/numpy/lib/nanfunctions.py:1113: RuntimeWarning: Mean of empty slice\n",
      "  return np.nanmean(a, axis, out=out, keepdims=keepdims)\n"
     ]
    },
    {
     "name": "stdout",
     "output_type": "stream",
     "text": [
      "0.004368999999996959 2.9651939999999968 1.1803799999999 1.151531000000091 1.1300299999999197 1.1811360000000377 7.612639999999942\n",
      "(15833,)\n",
      "9.2%, [30/325]\n"
     ]
    },
    {
     "name": "stderr",
     "output_type": "stream",
     "text": [
      "4% (815/18900) of the cadences will be ignored due to the quality mask (quality_bitmask=175).\n",
      "4% (815/18900) of the cadences will be ignored due to the quality mask (quality_bitmask=175).\n",
      "/home/ekaterina/Documents/000_envs/forallpurposes/lib/python3.6/site-packages/altaipony/lcio.py:114: ResourceWarning: unclosed file <_io.FileIO name='/home/ekaterina/Documents/001_science/lcs/mastDownload/TESS/tess2019085135100-s0010-0000000272086159-0140-s/tess2019085135100-s0010-0000000272086159-0140-s_lc.fits' mode='rb' closefd=True>\n",
      "  c)\n"
     ]
    },
    {
     "name": "stdout",
     "output_type": "stream",
     "text": [
      "-----------------------------------------\n",
      "1 light curves available for TIC 272086159 in TESS.\n",
      "-----------------------------------------\n"
     ]
    },
    {
     "name": "stderr",
     "output_type": "stream",
     "text": [
      "/home/ekaterina/Documents/000_envs/forallpurposes/lib/python3.6/site-packages/numpy/lib/nanfunctions.py:1113: RuntimeWarning: Mean of empty slice\n",
      "  return np.nanmean(a, axis, out=out, keepdims=keepdims)\n"
     ]
    },
    {
     "name": "stdout",
     "output_type": "stream",
     "text": [
      "0.004638999999997395 2.497752999999989 1.1449460000000045 1.1752440000000206 1.141157000000021 1.1506180000000086 7.114357000000041\n",
      "(16325,)\n",
      "9.5%, [31/325]\n"
     ]
    },
    {
     "name": "stderr",
     "output_type": "stream",
     "text": [
      "5% (1015/20119) of the cadences will be ignored due to the quality mask (quality_bitmask=175).\n",
      "5% (1015/20119) of the cadences will be ignored due to the quality mask (quality_bitmask=175).\n",
      "/home/ekaterina/Documents/000_envs/forallpurposes/lib/python3.6/site-packages/altaipony/lcio.py:114: ResourceWarning: unclosed file <_io.FileIO name='/home/ekaterina/Documents/001_science/lcs/mastDownload/TESS/tess2019140104343-s0012-0000000272086159-0144-s/tess2019140104343-s0012-0000000272086159-0144-s_lc.fits' mode='rb' closefd=True>\n",
      "  c)\n"
     ]
    },
    {
     "name": "stdout",
     "output_type": "stream",
     "text": [
      "-----------------------------------------\n",
      "1 light curves available for TIC 272086159 in TESS.\n",
      "-----------------------------------------\n"
     ]
    },
    {
     "name": "stderr",
     "output_type": "stream",
     "text": [
      "/home/ekaterina/Documents/000_envs/forallpurposes/lib/python3.6/site-packages/numpy/lib/nanfunctions.py:1113: RuntimeWarning: Mean of empty slice\n",
      "  return np.nanmean(a, axis, out=out, keepdims=keepdims)\n"
     ]
    },
    {
     "name": "stdout",
     "output_type": "stream",
     "text": [
      "0.005673999999999069 3.3965769999999793 1.4025360000000546 1.4156480000000329 1.3566549999999324 1.3718210000000681 8.948911000000066\n",
      "(19055,)\n",
      "9.8%, [32/325]\n"
     ]
    },
    {
     "name": "stderr",
     "output_type": "stream",
     "text": [
      "4% (896/20479) of the cadences will be ignored due to the quality mask (quality_bitmask=175).\n",
      "4% (896/20479) of the cadences will be ignored due to the quality mask (quality_bitmask=175).\n",
      "/home/ekaterina/Documents/000_envs/forallpurposes/lib/python3.6/site-packages/altaipony/lcio.py:114: ResourceWarning: unclosed file <_io.FileIO name='/home/ekaterina/Documents/001_science/lcs/mastDownload/TESS/tess2019169103026-s0013-0000000272086159-0146-s/tess2019169103026-s0013-0000000272086159-0146-s_lc.fits' mode='rb' closefd=True>\n",
      "  c)\n"
     ]
    },
    {
     "name": "stdout",
     "output_type": "stream",
     "text": [
      "-----------------------------------------\n",
      "1 light curves available for TIC 272086159 in TESS.\n",
      "-----------------------------------------\n"
     ]
    },
    {
     "name": "stderr",
     "output_type": "stream",
     "text": [
      "/home/ekaterina/Documents/000_envs/forallpurposes/lib/python3.6/site-packages/numpy/lib/nanfunctions.py:1113: RuntimeWarning: Mean of empty slice\n",
      "  return np.nanmean(a, axis, out=out, keepdims=keepdims)\n"
     ]
    },
    {
     "name": "stdout",
     "output_type": "stream",
     "text": [
      "0.006278999999949519 3.512518 1.402215999999953 1.3978590000000395 1.4157510000000002 1.3997620000000097 9.134384999999952\n",
      "(19535,)\n",
      "10.2%, [33/325]\n"
     ]
    },
    {
     "name": "stderr",
     "output_type": "stream",
     "text": [
      "4% (4549/105285) of the cadences will be ignored due to the quality mask (quality_bitmask=175).\n",
      "4% (4549/105285) of the cadences will be ignored due to the quality mask (quality_bitmask=175).\n",
      "4% (765/17546) of the cadences will be ignored due to the quality mask (quality_bitmask=175).\n",
      "4% (765/17546) of the cadences will be ignored due to the quality mask (quality_bitmask=175).\n",
      "/home/ekaterina/Documents/000_envs/forallpurposes/lib/python3.6/site-packages/altaipony/lcio.py:114: ResourceWarning: unclosed file <_io.FileIO name='/home/ekaterina/Documents/001_science/lcs/mastDownload/TESS/tess2020186164531-s0027-0000000272086159-0189-s/tess2020186164531-s0027-0000000272086159-0189-s_lc.fits' mode='rb' closefd=True>\n",
      "  c)\n",
      "/home/ekaterina/Documents/000_envs/forallpurposes/lib/python3.6/site-packages/altaipony/lcio.py:114: ResourceWarning: unclosed file <_io.FileIO name='/home/ekaterina/Documents/001_science/lcs/mastDownload/TESS/tess2020186164531-s0027-0000000272086159-0189-a_fast/tess2020186164531-s0027-0000000272086159-0189-a_fast-lc.fits' mode='rb' closefd=True>\n",
      "  c)\n"
     ]
    },
    {
     "name": "stdout",
     "output_type": "stream",
     "text": [
      "-----------------------------------------\n",
      "2 light curves available for TIC 272086159 in TESS.\n",
      "-----------------------------------------\n"
     ]
    },
    {
     "name": "stderr",
     "output_type": "stream",
     "text": [
      "/home/ekaterina/Documents/000_envs/forallpurposes/lib/python3.6/site-packages/numpy/lib/nanfunctions.py:1113: RuntimeWarning: Mean of empty slice\n",
      "  return np.nanmean(a, axis, out=out, keepdims=keepdims)\n"
     ]
    },
    {
     "name": "stdout",
     "output_type": "stream",
     "text": [
      "0.0202359999999544 32.53984000000003 5.9665710000000445 6.15687099999991 6.0600990000000365 6.038695999999959 56.78231299999993\n",
      "(84385,)\n",
      "10.5%, [34/325]\n"
     ]
    },
    {
     "name": "stderr",
     "output_type": "stream",
     "text": [
      "5% (5291/109095) of the cadences will be ignored due to the quality mask (quality_bitmask=175).\n",
      "5% (5291/109095) of the cadences will be ignored due to the quality mask (quality_bitmask=175).\n",
      "5% (897/18182) of the cadences will be ignored due to the quality mask (quality_bitmask=175).\n",
      "5% (897/18182) of the cadences will be ignored due to the quality mask (quality_bitmask=175).\n",
      "/home/ekaterina/Documents/000_envs/forallpurposes/lib/python3.6/site-packages/altaipony/lcio.py:114: ResourceWarning: unclosed file <_io.FileIO name='/home/ekaterina/Documents/001_science/lcs/mastDownload/TESS/tess2020212050318-s0028-0000000272086159-0190-s/tess2020212050318-s0028-0000000272086159-0190-s_lc.fits' mode='rb' closefd=True>\n",
      "  c)\n",
      "/home/ekaterina/Documents/000_envs/forallpurposes/lib/python3.6/site-packages/altaipony/lcio.py:114: ResourceWarning: unclosed file <_io.FileIO name='/home/ekaterina/Documents/001_science/lcs/mastDownload/TESS/tess2020212050318-s0028-0000000272086159-0190-a_fast/tess2020212050318-s0028-0000000272086159-0190-a_fast-lc.fits' mode='rb' closefd=True>\n",
      "  c)\n"
     ]
    },
    {
     "name": "stdout",
     "output_type": "stream",
     "text": [
      "-----------------------------------------\n",
      "2 light curves available for TIC 272086159 in TESS.\n",
      "-----------------------------------------\n"
     ]
    },
    {
     "name": "stderr",
     "output_type": "stream",
     "text": [
      "/home/ekaterina/Documents/000_envs/forallpurposes/lib/python3.6/site-packages/numpy/lib/nanfunctions.py:1113: RuntimeWarning: Mean of empty slice\n",
      "  return np.nanmean(a, axis, out=out, keepdims=keepdims)\n"
     ]
    },
    {
     "name": "stdout",
     "output_type": "stream",
     "text": [
      "0.01850200000001223 33.931007999999906 6.427103000000102 6.390856999999983 3.7713880000000017 6.2733089999999265 56.81216699999993\n",
      "(88958,)\n",
      "10.8%, [35/325]\n"
     ]
    },
    {
     "name": "stderr",
     "output_type": "stream",
     "text": [
      "5% (5140/113190) of the cadences will be ignored due to the quality mask (quality_bitmask=175).\n",
      "5% (5140/113190) of the cadences will be ignored due to the quality mask (quality_bitmask=175).\n",
      "5% (935/18864) of the cadences will be ignored due to the quality mask (quality_bitmask=175).\n",
      "5% (935/18864) of the cadences will be ignored due to the quality mask (quality_bitmask=175).\n",
      "/home/ekaterina/Documents/000_envs/forallpurposes/lib/python3.6/site-packages/altaipony/lcio.py:114: ResourceWarning: unclosed file <_io.FileIO name='/home/ekaterina/Documents/001_science/lcs/mastDownload/TESS/tess2020238165205-s0029-0000000272086159-0193-s/tess2020238165205-s0029-0000000272086159-0193-s_lc.fits' mode='rb' closefd=True>\n",
      "  c)\n",
      "/home/ekaterina/Documents/000_envs/forallpurposes/lib/python3.6/site-packages/altaipony/lcio.py:114: ResourceWarning: unclosed file <_io.FileIO name='/home/ekaterina/Documents/001_science/lcs/mastDownload/TESS/tess2020238165205-s0029-0000000272086159-0193-a_fast/tess2020238165205-s0029-0000000272086159-0193-a_fast-lc.fits' mode='rb' closefd=True>\n",
      "  c)\n"
     ]
    },
    {
     "name": "stdout",
     "output_type": "stream",
     "text": [
      "-----------------------------------------\n",
      "2 light curves available for TIC 272086159 in TESS.\n",
      "-----------------------------------------\n"
     ]
    },
    {
     "name": "stderr",
     "output_type": "stream",
     "text": [
      "/home/ekaterina/Documents/000_envs/forallpurposes/lib/python3.6/site-packages/numpy/lib/nanfunctions.py:1113: RuntimeWarning: Mean of empty slice\n",
      "  return np.nanmean(a, axis, out=out, keepdims=keepdims)\n"
     ]
    },
    {
     "name": "stdout",
     "output_type": "stream",
     "text": [
      "0.021210999999993874 34.56081000000006 6.409187999999972 6.426142000000027 6.417080999999939 6.362653000000137 60.19708500000013\n",
      "(89465,)\n",
      "11.1%, [36/325]\n"
     ]
    },
    {
     "name": "stderr",
     "output_type": "stream",
     "text": [
      "5% (5794/118125) of the cadences will be ignored due to the quality mask (quality_bitmask=175).\n",
      "5% (5794/118125) of the cadences will be ignored due to the quality mask (quality_bitmask=175).\n",
      "6% (1120/19687) of the cadences will be ignored due to the quality mask (quality_bitmask=175).\n",
      "6% (1120/19687) of the cadences will be ignored due to the quality mask (quality_bitmask=175).\n",
      "/home/ekaterina/Documents/000_envs/forallpurposes/lib/python3.6/site-packages/altaipony/lcio.py:114: ResourceWarning: unclosed file <_io.FileIO name='/home/ekaterina/Documents/001_science/lcs/mastDownload/TESS/tess2020266004630-s0030-0000000272086159-0195-s/tess2020266004630-s0030-0000000272086159-0195-s_lc.fits' mode='rb' closefd=True>\n",
      "  c)\n",
      "/home/ekaterina/Documents/000_envs/forallpurposes/lib/python3.6/site-packages/altaipony/lcio.py:114: ResourceWarning: unclosed file <_io.FileIO name='/home/ekaterina/Documents/001_science/lcs/mastDownload/TESS/tess2020266004630-s0030-0000000272086159-0195-a_fast/tess2020266004630-s0030-0000000272086159-0195-a_fast-lc.fits' mode='rb' closefd=True>\n",
      "  c)\n"
     ]
    },
    {
     "name": "stdout",
     "output_type": "stream",
     "text": [
      "-----------------------------------------\n",
      "2 light curves available for TIC 272086159 in TESS.\n",
      "-----------------------------------------\n"
     ]
    },
    {
     "name": "stderr",
     "output_type": "stream",
     "text": [
      "/home/ekaterina/Documents/000_envs/forallpurposes/lib/python3.6/site-packages/numpy/lib/nanfunctions.py:1113: RuntimeWarning: Mean of empty slice\n",
      "  return np.nanmean(a, axis, out=out, keepdims=keepdims)\n"
     ]
    },
    {
     "name": "stdout",
     "output_type": "stream",
     "text": [
      "0.021322000000054686 37.17250600000011 7.177658999999949 7.101556999999957 7.144512000000077 7.175309999999854 65.792866\n",
      "(99073,)\n",
      "11.4%, [37/325]\n",
      "7021    14\n",
      "7022    15\n",
      "7023    16\n",
      "7024    18\n",
      "7025    19\n",
      "7026    20\n",
      "7027    21\n",
      "7028    22\n",
      "7029    23\n",
      "7030    24\n",
      "7031    25\n",
      "7032    26\n",
      "Name: qcs, dtype: int64\n"
     ]
    },
    {
     "name": "stderr",
     "output_type": "stream",
     "text": [
      "Found cached file /home/ekaterina/Documents/001_science/lcs/mastDownload/TESS/tess2019198215352-s0014-0000000233120979-0150-s/tess2019198215352-s0014-0000000233120979-0150-s_lc.fits with expected size 1964160.\n",
      "5% (913/19337) of the cadences will be ignored due to the quality mask (quality_bitmask=175).\n",
      "5% (913/19337) of the cadences will be ignored due to the quality mask (quality_bitmask=175).\n",
      "/home/ekaterina/Documents/000_envs/forallpurposes/lib/python3.6/site-packages/altaipony/lcio.py:114: ResourceWarning: unclosed file <_io.FileIO name='/home/ekaterina/Documents/001_science/lcs/mastDownload/TESS/tess2019198215352-s0014-0000000233120979-0150-s/tess2019198215352-s0014-0000000233120979-0150-s_lc.fits' mode='rb' closefd=True>\n",
      "  c)\n",
      "/home/ekaterina/Documents/000_envs/forallpurposes/lib/python3.6/site-packages/numpy/lib/nanfunctions.py:1113: RuntimeWarning: Mean of empty slice\n",
      "  return np.nanmean(a, axis, out=out, keepdims=keepdims)\n"
     ]
    },
    {
     "name": "stdout",
     "output_type": "stream",
     "text": [
      "-----------------------------------------\n",
      "1 light curves available for TIC 233120979 in TESS.\n",
      "-----------------------------------------\n",
      "0.006304000000000087 1.6455739999998968 0.27422300000012 0.2696339999999964 0.2527589999999691 0.2740510000000995 2.722545000000082\n",
      "(17957,)\n",
      "11.7%, [38/325]\n"
     ]
    },
    {
     "name": "stderr",
     "output_type": "stream",
     "text": [
      "5% (1008/18757) of the cadences will be ignored due to the quality mask (quality_bitmask=175).\n",
      "5% (1008/18757) of the cadences will be ignored due to the quality mask (quality_bitmask=175).\n",
      "/home/ekaterina/Documents/000_envs/forallpurposes/lib/python3.6/site-packages/altaipony/lcio.py:114: ResourceWarning: unclosed file <_io.FileIO name='/home/ekaterina/Documents/001_science/lcs/mastDownload/TESS/tess2019226182529-s0015-0000000233120979-0151-s/tess2019226182529-s0015-0000000233120979-0151-s_lc.fits' mode='rb' closefd=True>\n",
      "  c)\n",
      "/home/ekaterina/Documents/000_envs/forallpurposes/lib/python3.6/site-packages/numpy/lib/nanfunctions.py:1113: RuntimeWarning: Mean of empty slice\n",
      "  return np.nanmean(a, axis, out=out, keepdims=keepdims)\n"
     ]
    },
    {
     "name": "stdout",
     "output_type": "stream",
     "text": [
      "-----------------------------------------\n",
      "1 light curves available for TIC 233120979 in TESS.\n",
      "-----------------------------------------\n",
      "0.0044849999999314605 1.6332890000001044 0.6524150000000191 0.6638169999998809 0.4096870000000763 0.35524899999995796 3.71894199999997\n",
      "(14653,)\n",
      "12.0%, [39/325]\n"
     ]
    },
    {
     "name": "stderr",
     "output_type": "stream",
     "text": [
      "6% (1046/17765) of the cadences will be ignored due to the quality mask (quality_bitmask=175).\n",
      "6% (1046/17765) of the cadences will be ignored due to the quality mask (quality_bitmask=175).\n",
      "/home/ekaterina/Documents/000_envs/forallpurposes/lib/python3.6/site-packages/altaipony/lcio.py:114: ResourceWarning: unclosed file <_io.FileIO name='/home/ekaterina/Documents/001_science/lcs/mastDownload/TESS/tess2019253231442-s0016-0000000233120979-0152-s/tess2019253231442-s0016-0000000233120979-0152-s_lc.fits' mode='rb' closefd=True>\n",
      "  c)\n",
      "/home/ekaterina/Documents/000_envs/forallpurposes/lib/python3.6/site-packages/numpy/lib/nanfunctions.py:1113: RuntimeWarning: Mean of empty slice\n",
      "  return np.nanmean(a, axis, out=out, keepdims=keepdims)\n"
     ]
    },
    {
     "name": "stdout",
     "output_type": "stream",
     "text": [
      "-----------------------------------------\n",
      "1 light curves available for TIC 233120979 in TESS.\n",
      "-----------------------------------------\n",
      "0.006121000000121057 1.990432999999939 0.6616570000001047 0.6601729999999861 0.6539359999999306 0.6330339999999524 4.605354000000034\n",
      "(14393,)\n",
      "12.3%, [40/325]\n"
     ]
    },
    {
     "name": "stderr",
     "output_type": "stream",
     "text": [
      "5% (922/17554) of the cadences will be ignored due to the quality mask (quality_bitmask=175).\n",
      "5% (922/17554) of the cadences will be ignored due to the quality mask (quality_bitmask=175).\n",
      "/home/ekaterina/Documents/000_envs/forallpurposes/lib/python3.6/site-packages/altaipony/lcio.py:114: ResourceWarning: unclosed file <_io.FileIO name='/home/ekaterina/Documents/001_science/lcs/mastDownload/TESS/tess2019306063752-s0018-0000000233120979-0162-s/tess2019306063752-s0018-0000000233120979-0162-s_lc.fits' mode='rb' closefd=True>\n",
      "  c)\n",
      "/home/ekaterina/Documents/000_envs/forallpurposes/lib/python3.6/site-packages/numpy/lib/nanfunctions.py:1113: RuntimeWarning: Mean of empty slice\n",
      "  return np.nanmean(a, axis, out=out, keepdims=keepdims)\n"
     ]
    },
    {
     "name": "stdout",
     "output_type": "stream",
     "text": [
      "-----------------------------------------\n",
      "1 light curves available for TIC 233120979 in TESS.\n",
      "-----------------------------------------\n",
      "0.004579999999805295 1.1732950000000528 0.29864900000006855 0.29836599999998725 0.28086499999994885 0.2561480000001666 2.3119030000000294\n",
      "(13870,)\n",
      "12.6%, [41/325]\n"
     ]
    },
    {
     "name": "stderr",
     "output_type": "stream",
     "text": [
      "5% (985/18052) of the cadences will be ignored due to the quality mask (quality_bitmask=175).\n",
      "5% (985/18052) of the cadences will be ignored due to the quality mask (quality_bitmask=175).\n",
      "/home/ekaterina/Documents/000_envs/forallpurposes/lib/python3.6/site-packages/altaipony/lcio.py:114: ResourceWarning: unclosed file <_io.FileIO name='/home/ekaterina/Documents/001_science/lcs/mastDownload/TESS/tess2019331140908-s0019-0000000233120979-0164-s/tess2019331140908-s0019-0000000233120979-0164-s_lc.fits' mode='rb' closefd=True>\n",
      "  c)\n",
      "/home/ekaterina/Documents/000_envs/forallpurposes/lib/python3.6/site-packages/numpy/lib/nanfunctions.py:1113: RuntimeWarning: Mean of empty slice\n",
      "  return np.nanmean(a, axis, out=out, keepdims=keepdims)\n"
     ]
    },
    {
     "name": "stdout",
     "output_type": "stream",
     "text": [
      "-----------------------------------------\n",
      "1 light curves available for TIC 233120979 in TESS.\n",
      "-----------------------------------------\n",
      "0.006217999999989843 1.3491340000000491 0.30934899999988374 0.30920500000001994 0.5301170000000184 0.5181730000001608 3.022196000000122\n",
      "(16155,)\n",
      "12.9%, [42/325]\n"
     ]
    },
    {
     "name": "stderr",
     "output_type": "stream",
     "text": [
      "7% (1320/18954) of the cadences will be ignored due to the quality mask (quality_bitmask=175).\n",
      "7% (1320/18954) of the cadences will be ignored due to the quality mask (quality_bitmask=175).\n",
      "/home/ekaterina/Documents/000_envs/forallpurposes/lib/python3.6/site-packages/altaipony/lcio.py:114: ResourceWarning: unclosed file <_io.FileIO name='/home/ekaterina/Documents/001_science/lcs/mastDownload/TESS/tess2019357164649-s0020-0000000233120979-0165-s/tess2019357164649-s0020-0000000233120979-0165-s_lc.fits' mode='rb' closefd=True>\n",
      "  c)\n"
     ]
    },
    {
     "name": "stdout",
     "output_type": "stream",
     "text": [
      "-----------------------------------------\n",
      "1 light curves available for TIC 233120979 in TESS.\n",
      "-----------------------------------------\n"
     ]
    },
    {
     "name": "stderr",
     "output_type": "stream",
     "text": [
      "/home/ekaterina/Documents/000_envs/forallpurposes/lib/python3.6/site-packages/numpy/lib/nanfunctions.py:1113: RuntimeWarning: Mean of empty slice\n",
      "  return np.nanmean(a, axis, out=out, keepdims=keepdims)\n"
     ]
    },
    {
     "name": "stdout",
     "output_type": "stream",
     "text": [
      "0.005678999999872758 2.3218480000000454 0.936591000000135 0.9250239999998939 1.0476109999999608 0.9211769999999433 6.157929999999851\n",
      "(17251,)\n",
      "13.2%, [43/325]\n"
     ]
    },
    {
     "name": "stderr",
     "output_type": "stream",
     "text": [
      "5% (935/19694) of the cadences will be ignored due to the quality mask (quality_bitmask=175).\n",
      "5% (935/19694) of the cadences will be ignored due to the quality mask (quality_bitmask=175).\n",
      "/home/ekaterina/Documents/000_envs/forallpurposes/lib/python3.6/site-packages/altaipony/lcio.py:114: ResourceWarning: unclosed file <_io.FileIO name='/home/ekaterina/Documents/001_science/lcs/mastDownload/TESS/tess2020020091053-s0021-0000000233120979-0167-s/tess2020020091053-s0021-0000000233120979-0167-s_lc.fits' mode='rb' closefd=True>\n",
      "  c)\n",
      "/home/ekaterina/Documents/000_envs/forallpurposes/lib/python3.6/site-packages/numpy/lib/nanfunctions.py:1113: RuntimeWarning: Mean of empty slice\n",
      "  return np.nanmean(a, axis, out=out, keepdims=keepdims)\n"
     ]
    },
    {
     "name": "stdout",
     "output_type": "stream",
     "text": [
      "-----------------------------------------\n",
      "1 light curves available for TIC 233120979 in TESS.\n",
      "-----------------------------------------\n",
      "0.006986999999980981 2.1773580000001402 0.7814599999999245 0.7650160000000596 0.5208709999999428 0.5422349999998914 4.79392699999994\n",
      "(17926,)\n",
      "13.5%, [44/325]\n"
     ]
    },
    {
     "name": "stderr",
     "output_type": "stream",
     "text": [
      "5% (954/19579) of the cadences will be ignored due to the quality mask (quality_bitmask=175).\n",
      "5% (954/19579) of the cadences will be ignored due to the quality mask (quality_bitmask=175).\n",
      "/home/ekaterina/Documents/000_envs/forallpurposes/lib/python3.6/site-packages/altaipony/lcio.py:114: ResourceWarning: unclosed file <_io.FileIO name='/home/ekaterina/Documents/001_science/lcs/mastDownload/TESS/tess2020049080258-s0022-0000000233120979-0174-s/tess2020049080258-s0022-0000000233120979-0174-s_lc.fits' mode='rb' closefd=True>\n",
      "  c)\n",
      "/home/ekaterina/Documents/000_envs/forallpurposes/lib/python3.6/site-packages/numpy/lib/nanfunctions.py:1113: RuntimeWarning: Mean of empty slice\n",
      "  return np.nanmean(a, axis, out=out, keepdims=keepdims)\n"
     ]
    },
    {
     "name": "stdout",
     "output_type": "stream",
     "text": [
      "-----------------------------------------\n",
      "1 light curves available for TIC 233120979 in TESS.\n",
      "-----------------------------------------\n",
      "0.005240000000185319 1.5745869999998376 0.6320980000000418 0.6736760000001141 0.40833999999995285 0.36429900000007365 3.6582400000002053\n",
      "(16095,)\n",
      "13.8%, [45/325]\n"
     ]
    },
    {
     "name": "stderr",
     "output_type": "stream",
     "text": [
      "9% (1744/19279) of the cadences will be ignored due to the quality mask (quality_bitmask=175).\n",
      "9% (1744/19279) of the cadences will be ignored due to the quality mask (quality_bitmask=175).\n",
      "/home/ekaterina/Documents/000_envs/forallpurposes/lib/python3.6/site-packages/altaipony/lcio.py:114: ResourceWarning: unclosed file <_io.FileIO name='/home/ekaterina/Documents/001_science/lcs/mastDownload/TESS/tess2020078014623-s0023-0000000233120979-0177-s/tess2020078014623-s0023-0000000233120979-0177-s_lc.fits' mode='rb' closefd=True>\n",
      "  c)\n",
      "/home/ekaterina/Documents/000_envs/forallpurposes/lib/python3.6/site-packages/numpy/lib/nanfunctions.py:1113: RuntimeWarning: Mean of empty slice\n",
      "  return np.nanmean(a, axis, out=out, keepdims=keepdims)\n"
     ]
    },
    {
     "name": "stdout",
     "output_type": "stream",
     "text": [
      "-----------------------------------------\n",
      "1 light curves available for TIC 233120979 in TESS.\n",
      "-----------------------------------------\n",
      "0.005527999999912936 1.2149440000000595 0.29340499999989333 0.3131190000001425 0.27946099999985563 0.24117200000000594 2.34762899999987\n",
      "(14268,)\n",
      "14.2%, [46/325]\n"
     ]
    },
    {
     "name": "stderr",
     "output_type": "stream",
     "text": [
      "4% (857/19074) of the cadences will be ignored due to the quality mask (quality_bitmask=175).\n",
      "4% (857/19074) of the cadences will be ignored due to the quality mask (quality_bitmask=175).\n",
      "/home/ekaterina/Documents/000_envs/forallpurposes/lib/python3.6/site-packages/altaipony/lcio.py:114: ResourceWarning: unclosed file <_io.FileIO name='/home/ekaterina/Documents/001_science/lcs/mastDownload/TESS/tess2020106103520-s0024-0000000233120979-0180-s/tess2020106103520-s0024-0000000233120979-0180-s_lc.fits' mode='rb' closefd=True>\n",
      "  c)\n",
      "/home/ekaterina/Documents/000_envs/forallpurposes/lib/python3.6/site-packages/numpy/lib/nanfunctions.py:1113: RuntimeWarning: Mean of empty slice\n",
      "  return np.nanmean(a, axis, out=out, keepdims=keepdims)\n"
     ]
    },
    {
     "name": "stdout",
     "output_type": "stream",
     "text": [
      "-----------------------------------------\n",
      "1 light curves available for TIC 233120979 in TESS.\n",
      "-----------------------------------------\n",
      "0.005697000000054686 1.8639279999999872 0.8726990000000114 0.8870339999998578 0.7969950000001518 0.4878830000000107 4.9142360000000735\n",
      "(17839,)\n",
      "14.5%, [47/325]\n"
     ]
    },
    {
     "name": "stderr",
     "output_type": "stream",
     "text": [
      "7% (1243/18489) of the cadences will be ignored due to the quality mask (quality_bitmask=175).\n",
      "7% (1243/18489) of the cadences will be ignored due to the quality mask (quality_bitmask=175).\n",
      "/home/ekaterina/Documents/000_envs/forallpurposes/lib/python3.6/site-packages/altaipony/lcio.py:114: ResourceWarning: unclosed file <_io.FileIO name='/home/ekaterina/Documents/001_science/lcs/mastDownload/TESS/tess2020133194932-s0025-0000000233120979-0182-s/tess2020133194932-s0025-0000000233120979-0182-s_lc.fits' mode='rb' closefd=True>\n",
      "  c)\n",
      "/home/ekaterina/Documents/000_envs/forallpurposes/lib/python3.6/site-packages/numpy/lib/nanfunctions.py:1113: RuntimeWarning: Mean of empty slice\n",
      "  return np.nanmean(a, axis, out=out, keepdims=keepdims)\n"
     ]
    },
    {
     "name": "stdout",
     "output_type": "stream",
     "text": [
      "-----------------------------------------\n",
      "1 light curves available for TIC 233120979 in TESS.\n",
      "-----------------------------------------\n",
      "0.0058989999999994325 1.28765199999998 0.3055209999999988 0.31722100000001774 0.4606340000000273 0.26608600000008664 2.64301300000011\n",
      "(16869,)\n",
      "14.8%, [48/325]\n"
     ]
    },
    {
     "name": "stderr",
     "output_type": "stream",
     "text": [
      "5% (967/17909) of the cadences will be ignored due to the quality mask (quality_bitmask=175).\n",
      "5% (967/17909) of the cadences will be ignored due to the quality mask (quality_bitmask=175).\n",
      "/home/ekaterina/Documents/000_envs/forallpurposes/lib/python3.6/site-packages/altaipony/lcio.py:114: ResourceWarning: unclosed file <_io.FileIO name='/home/ekaterina/Documents/001_science/lcs/mastDownload/TESS/tess2020160202036-s0026-0000000233120979-0188-s/tess2020160202036-s0026-0000000233120979-0188-s_lc.fits' mode='rb' closefd=True>\n",
      "  c)\n",
      "/home/ekaterina/Documents/000_envs/forallpurposes/lib/python3.6/site-packages/numpy/lib/nanfunctions.py:1113: RuntimeWarning: Mean of empty slice\n",
      "  return np.nanmean(a, axis, out=out, keepdims=keepdims)\n"
     ]
    },
    {
     "name": "stdout",
     "output_type": "stream",
     "text": [
      "-----------------------------------------\n",
      "1 light curves available for TIC 233120979 in TESS.\n",
      "-----------------------------------------\n",
      "0.005699999999933425 1.771797000000106 0.6371119999998882 0.6603460000001178 0.3647519999999531 0.36894600000005084 3.8086530000000494\n",
      "(16566,)\n",
      "15.1%, [49/325]\n",
      "112     1\n",
      "113     2\n",
      "114     3\n",
      "115     4\n",
      "116     5\n",
      "117     6\n",
      "118     7\n",
      "119     8\n",
      "120     9\n",
      "121    11\n",
      "122    12\n",
      "123    13\n",
      "124    27\n",
      "125    28\n",
      "126    29\n",
      "127    30\n",
      "128    31\n",
      "Name: qcs, dtype: int64\n"
     ]
    },
    {
     "name": "stderr",
     "output_type": "stream",
     "text": [
      "/home/ekaterina/Documents/000_envs/forallpurposes/lib/python3.6/site-packages/ipykernel_launcher.py:24: SettingWithCopyWarning: \n",
      "A value is trying to be set on a copy of a slice from a DataFrame.\n",
      "Try using .loc[row_indexer,col_indexer] = value instead\n",
      "\n",
      "See the caveats in the documentation: https://pandas.pydata.org/pandas-docs/stable/user_guide/indexing.html#returning-a-view-versus-a-copy\n",
      "Found cached file /home/ekaterina/Documents/001_science/lcs/mastDownload/TESS/tess2018206045859-s0001-0000000055652896-0120-s/tess2018206045859-s0001-0000000055652896-0120-s_lc.fits with expected size 2039040.\n",
      "10% (1972/20076) of the cadences will be ignored due to the quality mask (quality_bitmask=175).\n",
      "10% (1972/20076) of the cadences will be ignored due to the quality mask (quality_bitmask=175).\n",
      "/home/ekaterina/Documents/000_envs/forallpurposes/lib/python3.6/site-packages/altaipony/lcio.py:114: ResourceWarning: unclosed file <_io.FileIO name='/home/ekaterina/Documents/001_science/lcs/mastDownload/TESS/tess2018206045859-s0001-0000000055652896-0120-s/tess2018206045859-s0001-0000000055652896-0120-s_lc.fits' mode='rb' closefd=True>\n",
      "  c)\n",
      "/home/ekaterina/Documents/000_envs/forallpurposes/lib/python3.6/site-packages/numpy/lib/nanfunctions.py:1113: RuntimeWarning: Mean of empty slice\n",
      "  return np.nanmean(a, axis, out=out, keepdims=keepdims)\n"
     ]
    },
    {
     "name": "stdout",
     "output_type": "stream",
     "text": [
      "-----------------------------------------\n",
      "1 light curves available for TOI-216 in TESS.\n",
      "-----------------------------------------\n",
      "15.4%, [50/325]\n"
     ]
    },
    {
     "name": "stderr",
     "output_type": "stream",
     "text": [
      "/home/ekaterina/Documents/000_envs/forallpurposes/lib/python3.6/site-packages/ipykernel_launcher.py:24: SettingWithCopyWarning: \n",
      "A value is trying to be set on a copy of a slice from a DataFrame.\n",
      "Try using .loc[row_indexer,col_indexer] = value instead\n",
      "\n",
      "See the caveats in the documentation: https://pandas.pydata.org/pandas-docs/stable/user_guide/indexing.html#returning-a-view-versus-a-copy\n",
      "7% (1420/19737) of the cadences will be ignored due to the quality mask (quality_bitmask=175).\n",
      "7% (1420/19737) of the cadences will be ignored due to the quality mask (quality_bitmask=175).\n",
      "/home/ekaterina/Documents/000_envs/forallpurposes/lib/python3.6/site-packages/altaipony/lcio.py:114: ResourceWarning: unclosed file <_io.FileIO name='/home/ekaterina/Documents/001_science/lcs/mastDownload/TESS/tess2018234235059-s0002-0000000055652896-0121-s/tess2018234235059-s0002-0000000055652896-0121-s_lc.fits' mode='rb' closefd=True>\n",
      "  c)\n",
      "/home/ekaterina/Documents/000_envs/forallpurposes/lib/python3.6/site-packages/numpy/lib/nanfunctions.py:1113: RuntimeWarning: Mean of empty slice\n",
      "  return np.nanmean(a, axis, out=out, keepdims=keepdims)\n"
     ]
    },
    {
     "name": "stdout",
     "output_type": "stream",
     "text": [
      "-----------------------------------------\n",
      "1 light curves available for TOI-216 in TESS.\n",
      "-----------------------------------------\n",
      "0.005818999999974039 1.525677000000087 0.3047469999999066 0.30252199999995355 0.31178399999998874 0.25989800000002106 2.710446999999931\n",
      "(17968,)\n",
      "15.7%, [51/325]\n"
     ]
    },
    {
     "name": "stderr",
     "output_type": "stream",
     "text": [
      "/home/ekaterina/Documents/000_envs/forallpurposes/lib/python3.6/site-packages/ipykernel_launcher.py:24: SettingWithCopyWarning: \n",
      "A value is trying to be set on a copy of a slice from a DataFrame.\n",
      "Try using .loc[row_indexer,col_indexer] = value instead\n",
      "\n",
      "See the caveats in the documentation: https://pandas.pydata.org/pandas-docs/stable/user_guide/indexing.html#returning-a-view-versus-a-copy\n",
      "Warning: 31% (6168/19692) of the cadences will be ignored due to the quality mask (quality_bitmask=175).\n",
      "Warning: 31% (6168/19692) of the cadences will be ignored due to the quality mask (quality_bitmask=175).\n",
      "/home/ekaterina/Documents/000_envs/forallpurposes/lib/python3.6/site-packages/altaipony/lcio.py:114: ResourceWarning: unclosed file <_io.FileIO name='/home/ekaterina/Documents/001_science/lcs/mastDownload/TESS/tess2018263035959-s0003-0000000055652896-0123-s/tess2018263035959-s0003-0000000055652896-0123-s_lc.fits' mode='rb' closefd=True>\n",
      "  c)\n",
      "/home/ekaterina/Documents/000_envs/forallpurposes/lib/python3.6/site-packages/numpy/lib/nanfunctions.py:1113: RuntimeWarning: Mean of empty slice\n",
      "  return np.nanmean(a, axis, out=out, keepdims=keepdims)\n"
     ]
    },
    {
     "name": "stdout",
     "output_type": "stream",
     "text": [
      "-----------------------------------------\n",
      "1 light curves available for TOI-216 in TESS.\n",
      "-----------------------------------------\n",
      "0.005054999999856591 1.129908000000114 0.19748699999991004 0.20516799999995783 0.23569700000007288 0.4031410000000051 2.1764559999999165\n",
      "(13184,)\n",
      "16.0%, [52/325]\n"
     ]
    },
    {
     "name": "stderr",
     "output_type": "stream",
     "text": [
      "/home/ekaterina/Documents/000_envs/forallpurposes/lib/python3.6/site-packages/ipykernel_launcher.py:24: SettingWithCopyWarning: \n",
      "A value is trying to be set on a copy of a slice from a DataFrame.\n",
      "Try using .loc[row_indexer,col_indexer] = value instead\n",
      "\n",
      "See the caveats in the documentation: https://pandas.pydata.org/pandas-docs/stable/user_guide/indexing.html#returning-a-view-versus-a-copy\n",
      "5% (920/18684) of the cadences will be ignored due to the quality mask (quality_bitmask=175).\n",
      "5% (920/18684) of the cadences will be ignored due to the quality mask (quality_bitmask=175).\n",
      "/home/ekaterina/Documents/000_envs/forallpurposes/lib/python3.6/site-packages/altaipony/lcio.py:114: ResourceWarning: unclosed file <_io.FileIO name='/home/ekaterina/Documents/001_science/lcs/mastDownload/TESS/tess2018292075959-s0004-0000000055652896-0124-s/tess2018292075959-s0004-0000000055652896-0124-s_lc.fits' mode='rb' closefd=True>\n",
      "  c)\n",
      "/home/ekaterina/Documents/000_envs/forallpurposes/lib/python3.6/site-packages/numpy/lib/nanfunctions.py:1113: RuntimeWarning: Mean of empty slice\n",
      "  return np.nanmean(a, axis, out=out, keepdims=keepdims)\n"
     ]
    },
    {
     "name": "stdout",
     "output_type": "stream",
     "text": [
      "-----------------------------------------\n",
      "1 light curves available for TOI-216 in TESS.\n",
      "-----------------------------------------\n",
      "0.005276000000094427 1.3657120000000305 0.38563699999986056 0.3429029999999784 0.3233020000000124 0.23956799999996292 2.662397999999939\n",
      "(15525,)\n",
      "16.3%, [53/325]\n"
     ]
    },
    {
     "name": "stderr",
     "output_type": "stream",
     "text": [
      "/home/ekaterina/Documents/000_envs/forallpurposes/lib/python3.6/site-packages/ipykernel_launcher.py:24: SettingWithCopyWarning: \n",
      "A value is trying to be set on a copy of a slice from a DataFrame.\n",
      "Try using .loc[row_indexer,col_indexer] = value instead\n",
      "\n",
      "See the caveats in the documentation: https://pandas.pydata.org/pandas-docs/stable/user_guide/indexing.html#returning-a-view-versus-a-copy\n",
      "6% (1050/18944) of the cadences will be ignored due to the quality mask (quality_bitmask=175).\n",
      "6% (1050/18944) of the cadences will be ignored due to the quality mask (quality_bitmask=175).\n",
      "/home/ekaterina/Documents/000_envs/forallpurposes/lib/python3.6/site-packages/altaipony/lcio.py:114: ResourceWarning: unclosed file <_io.FileIO name='/home/ekaterina/Documents/001_science/lcs/mastDownload/TESS/tess2018319095959-s0005-0000000055652896-0125-s/tess2018319095959-s0005-0000000055652896-0125-s_lc.fits' mode='rb' closefd=True>\n",
      "  c)\n",
      "/home/ekaterina/Documents/000_envs/forallpurposes/lib/python3.6/site-packages/numpy/lib/nanfunctions.py:1113: RuntimeWarning: Mean of empty slice\n",
      "  return np.nanmean(a, axis, out=out, keepdims=keepdims)\n"
     ]
    },
    {
     "name": "stdout",
     "output_type": "stream",
     "text": [
      "-----------------------------------------\n",
      "1 light curves available for TOI-216 in TESS.\n",
      "-----------------------------------------\n",
      "0.007139999999935753 1.498794000000089 0.4235160000000633 0.42420399999991787 0.43880300000000716 0.3558740000000853 3.1483310000000984\n",
      "(17717,)\n",
      "16.6%, [54/325]\n"
     ]
    },
    {
     "name": "stderr",
     "output_type": "stream",
     "text": [
      "/home/ekaterina/Documents/000_envs/forallpurposes/lib/python3.6/site-packages/ipykernel_launcher.py:24: SettingWithCopyWarning: \n",
      "A value is trying to be set on a copy of a slice from a DataFrame.\n",
      "Try using .loc[row_indexer,col_indexer] = value instead\n",
      "\n",
      "See the caveats in the documentation: https://pandas.pydata.org/pandas-docs/stable/user_guide/indexing.html#returning-a-view-versus-a-copy\n",
      "5% (843/15678) of the cadences will be ignored due to the quality mask (quality_bitmask=175).\n",
      "5% (843/15678) of the cadences will be ignored due to the quality mask (quality_bitmask=175).\n",
      "/home/ekaterina/Documents/000_envs/forallpurposes/lib/python3.6/site-packages/altaipony/lcio.py:114: ResourceWarning: unclosed file <_io.FileIO name='/home/ekaterina/Documents/001_science/lcs/mastDownload/TESS/tess2018349182459-s0006-0000000055652896-0126-s/tess2018349182459-s0006-0000000055652896-0126-s_lc.fits' mode='rb' closefd=True>\n",
      "  c)\n",
      "/home/ekaterina/Documents/000_envs/forallpurposes/lib/python3.6/site-packages/numpy/lib/nanfunctions.py:1113: RuntimeWarning: Mean of empty slice\n",
      "  return np.nanmean(a, axis, out=out, keepdims=keepdims)\n"
     ]
    },
    {
     "name": "stdout",
     "output_type": "stream",
     "text": [
      "-----------------------------------------\n",
      "1 light curves available for TOI-216 in TESS.\n",
      "-----------------------------------------\n",
      "0.0049369999999271386 1.1450760000000173 0.22427600000014536 0.23488099999985934 0.25924300000019684 0.30621799999994437 2.1746310000000904\n",
      "(14553,)\n",
      "16.9%, [55/325]\n"
     ]
    },
    {
     "name": "stderr",
     "output_type": "stream",
     "text": [
      "/home/ekaterina/Documents/000_envs/forallpurposes/lib/python3.6/site-packages/ipykernel_launcher.py:24: SettingWithCopyWarning: \n",
      "A value is trying to be set on a copy of a slice from a DataFrame.\n",
      "Try using .loc[row_indexer,col_indexer] = value instead\n",
      "\n",
      "See the caveats in the documentation: https://pandas.pydata.org/pandas-docs/stable/user_guide/indexing.html#returning-a-view-versus-a-copy\n",
      "7% (1250/17612) of the cadences will be ignored due to the quality mask (quality_bitmask=175).\n",
      "7% (1250/17612) of the cadences will be ignored due to the quality mask (quality_bitmask=175).\n",
      "/home/ekaterina/Documents/000_envs/forallpurposes/lib/python3.6/site-packages/altaipony/lcio.py:114: ResourceWarning: unclosed file <_io.FileIO name='/home/ekaterina/Documents/001_science/lcs/mastDownload/TESS/tess2019006130736-s0007-0000000055652896-0131-s/tess2019006130736-s0007-0000000055652896-0131-s_lc.fits' mode='rb' closefd=True>\n",
      "  c)\n"
     ]
    },
    {
     "name": "stdout",
     "output_type": "stream",
     "text": [
      "-----------------------------------------\n",
      "1 light curves available for TOI-216 in TESS.\n",
      "-----------------------------------------\n"
     ]
    },
    {
     "name": "stderr",
     "output_type": "stream",
     "text": [
      "/home/ekaterina/Documents/000_envs/forallpurposes/lib/python3.6/site-packages/numpy/lib/nanfunctions.py:1113: RuntimeWarning: Mean of empty slice\n",
      "  return np.nanmean(a, axis, out=out, keepdims=keepdims)\n"
     ]
    },
    {
     "name": "stdout",
     "output_type": "stream",
     "text": [
      "0.00628299999993942 2.015041999999994 0.2731659999999465 0.2698880000000372 0.25922700000000987 0.23120300000005045 3.0548089999999775\n",
      "(16198,)\n",
      "17.2%, [56/325]\n"
     ]
    },
    {
     "name": "stderr",
     "output_type": "stream",
     "text": [
      "/home/ekaterina/Documents/000_envs/forallpurposes/lib/python3.6/site-packages/ipykernel_launcher.py:24: SettingWithCopyWarning: \n",
      "A value is trying to be set on a copy of a slice from a DataFrame.\n",
      "Try using .loc[row_indexer,col_indexer] = value instead\n",
      "\n",
      "See the caveats in the documentation: https://pandas.pydata.org/pandas-docs/stable/user_guide/indexing.html#returning-a-view-versus-a-copy\n",
      "11% (1987/17755) of the cadences will be ignored due to the quality mask (quality_bitmask=175).\n",
      "11% (1987/17755) of the cadences will be ignored due to the quality mask (quality_bitmask=175).\n",
      "/home/ekaterina/Documents/000_envs/forallpurposes/lib/python3.6/site-packages/altaipony/lcio.py:114: ResourceWarning: unclosed file <_io.FileIO name='/home/ekaterina/Documents/001_science/lcs/mastDownload/TESS/tess2019032160000-s0008-0000000055652896-0136-s/tess2019032160000-s0008-0000000055652896-0136-s_lc.fits' mode='rb' closefd=True>\n",
      "  c)\n",
      "/home/ekaterina/Documents/000_envs/forallpurposes/lib/python3.6/site-packages/numpy/lib/nanfunctions.py:1113: RuntimeWarning: Mean of empty slice\n",
      "  return np.nanmean(a, axis, out=out, keepdims=keepdims)\n"
     ]
    },
    {
     "name": "stdout",
     "output_type": "stream",
     "text": [
      "-----------------------------------------\n",
      "1 light curves available for TOI-216 in TESS.\n",
      "-----------------------------------------\n",
      "0.004637000000002445 1.1836390000000847 0.25691200000005665 0.25787799999989147 0.6763459999999668 0.25394100000016806 2.63335300000017\n",
      "(13226,)\n",
      "17.5%, [57/325]\n"
     ]
    },
    {
     "name": "stderr",
     "output_type": "stream",
     "text": [
      "/home/ekaterina/Documents/000_envs/forallpurposes/lib/python3.6/site-packages/ipykernel_launcher.py:24: SettingWithCopyWarning: \n",
      "A value is trying to be set on a copy of a slice from a DataFrame.\n",
      "Try using .loc[row_indexer,col_indexer] = value instead\n",
      "\n",
      "See the caveats in the documentation: https://pandas.pydata.org/pandas-docs/stable/user_guide/indexing.html#returning-a-view-versus-a-copy\n",
      "5% (930/18187) of the cadences will be ignored due to the quality mask (quality_bitmask=175).\n",
      "5% (930/18187) of the cadences will be ignored due to the quality mask (quality_bitmask=175).\n",
      "/home/ekaterina/Documents/000_envs/forallpurposes/lib/python3.6/site-packages/altaipony/lcio.py:114: ResourceWarning: unclosed file <_io.FileIO name='/home/ekaterina/Documents/001_science/lcs/mastDownload/TESS/tess2019058134432-s0009-0000000055652896-0139-s/tess2019058134432-s0009-0000000055652896-0139-s_lc.fits' mode='rb' closefd=True>\n",
      "  c)\n",
      "/home/ekaterina/Documents/000_envs/forallpurposes/lib/python3.6/site-packages/numpy/lib/nanfunctions.py:1113: RuntimeWarning: Mean of empty slice\n",
      "  return np.nanmean(a, axis, out=out, keepdims=keepdims)\n"
     ]
    },
    {
     "name": "stdout",
     "output_type": "stream",
     "text": [
      "-----------------------------------------\n",
      "1 light curves available for TOI-216 in TESS.\n",
      "-----------------------------------------\n",
      "0.004867000000103872 1.2243029999999635 0.7331449999999222 0.7252290000001267 0.6475379999999404 0.20109900000011294 3.5361810000001697\n",
      "(14805,)\n",
      "17.8%, [58/325]\n"
     ]
    },
    {
     "name": "stderr",
     "output_type": "stream",
     "text": [
      "/home/ekaterina/Documents/000_envs/forallpurposes/lib/python3.6/site-packages/ipykernel_launcher.py:24: SettingWithCopyWarning: \n",
      "A value is trying to be set on a copy of a slice from a DataFrame.\n",
      "Try using .loc[row_indexer,col_indexer] = value instead\n",
      "\n",
      "See the caveats in the documentation: https://pandas.pydata.org/pandas-docs/stable/user_guide/indexing.html#returning-a-view-versus-a-copy\n",
      "5% (976/19527) of the cadences will be ignored due to the quality mask (quality_bitmask=175).\n",
      "5% (976/19527) of the cadences will be ignored due to the quality mask (quality_bitmask=175).\n",
      "/home/ekaterina/Documents/000_envs/forallpurposes/lib/python3.6/site-packages/altaipony/lcio.py:114: ResourceWarning: unclosed file <_io.FileIO name='/home/ekaterina/Documents/001_science/lcs/mastDownload/TESS/tess2019112060037-s0011-0000000055652896-0143-s/tess2019112060037-s0011-0000000055652896-0143-s_lc.fits' mode='rb' closefd=True>\n",
      "  c)\n",
      "/home/ekaterina/Documents/000_envs/forallpurposes/lib/python3.6/site-packages/numpy/lib/nanfunctions.py:1113: RuntimeWarning: Mean of empty slice\n",
      "  return np.nanmean(a, axis, out=out, keepdims=keepdims)\n"
     ]
    },
    {
     "name": "stdout",
     "output_type": "stream",
     "text": [
      "-----------------------------------------\n",
      "1 light curves available for TOI-216 in TESS.\n",
      "-----------------------------------------\n",
      "0.004995000000008076 1.1772690000000239 0.6337749999997868 0.6128450000001067 0.29427099999998063 0.2301150000000689 2.953269999999975\n",
      "(15731,)\n",
      "18.2%, [59/325]\n"
     ]
    },
    {
     "name": "stderr",
     "output_type": "stream",
     "text": [
      "/home/ekaterina/Documents/000_envs/forallpurposes/lib/python3.6/site-packages/ipykernel_launcher.py:24: SettingWithCopyWarning: \n",
      "A value is trying to be set on a copy of a slice from a DataFrame.\n",
      "Try using .loc[row_indexer,col_indexer] = value instead\n",
      "\n",
      "See the caveats in the documentation: https://pandas.pydata.org/pandas-docs/stable/user_guide/indexing.html#returning-a-view-versus-a-copy\n",
      "5% (1015/20119) of the cadences will be ignored due to the quality mask (quality_bitmask=175).\n",
      "5% (1015/20119) of the cadences will be ignored due to the quality mask (quality_bitmask=175).\n",
      "/home/ekaterina/Documents/000_envs/forallpurposes/lib/python3.6/site-packages/altaipony/lcio.py:114: ResourceWarning: unclosed file <_io.FileIO name='/home/ekaterina/Documents/001_science/lcs/mastDownload/TESS/tess2019140104343-s0012-0000000055652896-0144-s/tess2019140104343-s0012-0000000055652896-0144-s_lc.fits' mode='rb' closefd=True>\n",
      "  c)\n",
      "/home/ekaterina/Documents/000_envs/forallpurposes/lib/python3.6/site-packages/numpy/lib/nanfunctions.py:1113: RuntimeWarning: Mean of empty slice\n",
      "  return np.nanmean(a, axis, out=out, keepdims=keepdims)\n"
     ]
    },
    {
     "name": "stdout",
     "output_type": "stream",
     "text": [
      "-----------------------------------------\n",
      "1 light curves available for TOI-216 in TESS.\n",
      "-----------------------------------------\n",
      "0.0058819999999286665 2.0592770000000655 0.6933970000000045 0.7080339999999978 0.7101149999998597 0.6259039999999914 4.802608999999848\n",
      "(18739,)\n",
      "18.5%, [60/325]\n"
     ]
    },
    {
     "name": "stderr",
     "output_type": "stream",
     "text": [
      "/home/ekaterina/Documents/000_envs/forallpurposes/lib/python3.6/site-packages/ipykernel_launcher.py:24: SettingWithCopyWarning: \n",
      "A value is trying to be set on a copy of a slice from a DataFrame.\n",
      "Try using .loc[row_indexer,col_indexer] = value instead\n",
      "\n",
      "See the caveats in the documentation: https://pandas.pydata.org/pandas-docs/stable/user_guide/indexing.html#returning-a-view-versus-a-copy\n",
      "4% (896/20479) of the cadences will be ignored due to the quality mask (quality_bitmask=175).\n",
      "4% (896/20479) of the cadences will be ignored due to the quality mask (quality_bitmask=175).\n",
      "/home/ekaterina/Documents/000_envs/forallpurposes/lib/python3.6/site-packages/altaipony/lcio.py:114: ResourceWarning: unclosed file <_io.FileIO name='/home/ekaterina/Documents/001_science/lcs/mastDownload/TESS/tess2019169103026-s0013-0000000055652896-0146-s/tess2019169103026-s0013-0000000055652896-0146-s_lc.fits' mode='rb' closefd=True>\n",
      "  c)\n"
     ]
    },
    {
     "name": "stdout",
     "output_type": "stream",
     "text": [
      "-----------------------------------------\n",
      "1 light curves available for TOI-216 in TESS.\n",
      "-----------------------------------------\n"
     ]
    },
    {
     "name": "stderr",
     "output_type": "stream",
     "text": [
      "/home/ekaterina/Documents/000_envs/forallpurposes/lib/python3.6/site-packages/numpy/lib/nanfunctions.py:1113: RuntimeWarning: Mean of empty slice\n",
      "  return np.nanmean(a, axis, out=out, keepdims=keepdims)\n"
     ]
    },
    {
     "name": "stdout",
     "output_type": "stream",
     "text": [
      "0.005753000000140673 1.5045769999999266 0.38964000000009946 0.39174099999991085 0.8745590000000902 0.8616499999998268 4.027919999999995\n",
      "(19301,)\n",
      "18.8%, [61/325]\n"
     ]
    },
    {
     "name": "stderr",
     "output_type": "stream",
     "text": [
      "/home/ekaterina/Documents/000_envs/forallpurposes/lib/python3.6/site-packages/ipykernel_launcher.py:24: SettingWithCopyWarning: \n",
      "A value is trying to be set on a copy of a slice from a DataFrame.\n",
      "Try using .loc[row_indexer,col_indexer] = value instead\n",
      "\n",
      "See the caveats in the documentation: https://pandas.pydata.org/pandas-docs/stable/user_guide/indexing.html#returning-a-view-versus-a-copy\n",
      "4% (4549/105285) of the cadences will be ignored due to the quality mask (quality_bitmask=175).\n",
      "4% (4549/105285) of the cadences will be ignored due to the quality mask (quality_bitmask=175).\n",
      "4% (765/17546) of the cadences will be ignored due to the quality mask (quality_bitmask=175).\n",
      "4% (765/17546) of the cadences will be ignored due to the quality mask (quality_bitmask=175).\n",
      "/home/ekaterina/Documents/000_envs/forallpurposes/lib/python3.6/site-packages/altaipony/lcio.py:114: ResourceWarning: unclosed file <_io.FileIO name='/home/ekaterina/Documents/001_science/lcs/mastDownload/TESS/tess2020186164531-s0027-0000000055652896-0189-s/tess2020186164531-s0027-0000000055652896-0189-s_lc.fits' mode='rb' closefd=True>\n",
      "  c)\n",
      "/home/ekaterina/Documents/000_envs/forallpurposes/lib/python3.6/site-packages/altaipony/lcio.py:114: ResourceWarning: unclosed file <_io.FileIO name='/home/ekaterina/Documents/001_science/lcs/mastDownload/TESS/tess2020186164531-s0027-0000000055652896-0189-a_fast/tess2020186164531-s0027-0000000055652896-0189-a_fast-lc.fits' mode='rb' closefd=True>\n",
      "  c)\n"
     ]
    },
    {
     "name": "stdout",
     "output_type": "stream",
     "text": [
      "-----------------------------------------\n",
      "2 light curves available for TOI-216 in TESS.\n",
      "-----------------------------------------\n"
     ]
    },
    {
     "name": "stderr",
     "output_type": "stream",
     "text": [
      "/home/ekaterina/Documents/000_envs/forallpurposes/lib/python3.6/site-packages/numpy/lib/nanfunctions.py:1113: RuntimeWarning: Mean of empty slice\n",
      "  return np.nanmean(a, axis, out=out, keepdims=keepdims)\n"
     ]
    },
    {
     "name": "stdout",
     "output_type": "stream",
     "text": [
      "0.018720000000030268 34.31135099999983 3.9128270000001066 3.862824000000046 4.056106 3.907756999999947 50.06958499999996\n",
      "(92242,)\n",
      "19.1%, [62/325]\n"
     ]
    },
    {
     "name": "stderr",
     "output_type": "stream",
     "text": [
      "/home/ekaterina/Documents/000_envs/forallpurposes/lib/python3.6/site-packages/ipykernel_launcher.py:24: SettingWithCopyWarning: \n",
      "A value is trying to be set on a copy of a slice from a DataFrame.\n",
      "Try using .loc[row_indexer,col_indexer] = value instead\n",
      "\n",
      "See the caveats in the documentation: https://pandas.pydata.org/pandas-docs/stable/user_guide/indexing.html#returning-a-view-versus-a-copy\n",
      "5% (5291/109095) of the cadences will be ignored due to the quality mask (quality_bitmask=175).\n",
      "5% (5291/109095) of the cadences will be ignored due to the quality mask (quality_bitmask=175).\n",
      "5% (897/18182) of the cadences will be ignored due to the quality mask (quality_bitmask=175).\n",
      "5% (897/18182) of the cadences will be ignored due to the quality mask (quality_bitmask=175).\n",
      "/home/ekaterina/Documents/000_envs/forallpurposes/lib/python3.6/site-packages/altaipony/lcio.py:114: ResourceWarning: unclosed file <_io.FileIO name='/home/ekaterina/Documents/001_science/lcs/mastDownload/TESS/tess2020212050318-s0028-0000000055652896-0190-s/tess2020212050318-s0028-0000000055652896-0190-s_lc.fits' mode='rb' closefd=True>\n",
      "  c)\n",
      "/home/ekaterina/Documents/000_envs/forallpurposes/lib/python3.6/site-packages/altaipony/lcio.py:114: ResourceWarning: unclosed file <_io.FileIO name='/home/ekaterina/Documents/001_science/lcs/mastDownload/TESS/tess2020212050318-s0028-0000000055652896-0190-a_fast/tess2020212050318-s0028-0000000055652896-0190-a_fast-lc.fits' mode='rb' closefd=True>\n",
      "  c)\n"
     ]
    },
    {
     "name": "stdout",
     "output_type": "stream",
     "text": [
      "-----------------------------------------\n",
      "2 light curves available for TOI-216 in TESS.\n",
      "-----------------------------------------\n"
     ]
    },
    {
     "name": "stderr",
     "output_type": "stream",
     "text": [
      "/home/ekaterina/Documents/000_envs/forallpurposes/lib/python3.6/site-packages/numpy/lib/nanfunctions.py:1113: RuntimeWarning: Mean of empty slice\n",
      "  return np.nanmean(a, axis, out=out, keepdims=keepdims)\n"
     ]
    },
    {
     "name": "stdout",
     "output_type": "stream",
     "text": [
      "0.01997299999993629 32.95141999999987 6.027411000000029 6.023819000000003 5.977734000000055 6.045620000000099 57.04597699999999\n",
      "(88634,)\n",
      "19.4%, [63/325]\n"
     ]
    },
    {
     "name": "stderr",
     "output_type": "stream",
     "text": [
      "/home/ekaterina/Documents/000_envs/forallpurposes/lib/python3.6/site-packages/ipykernel_launcher.py:24: SettingWithCopyWarning: \n",
      "A value is trying to be set on a copy of a slice from a DataFrame.\n",
      "Try using .loc[row_indexer,col_indexer] = value instead\n",
      "\n",
      "See the caveats in the documentation: https://pandas.pydata.org/pandas-docs/stable/user_guide/indexing.html#returning-a-view-versus-a-copy\n",
      "5% (5140/113190) of the cadences will be ignored due to the quality mask (quality_bitmask=175).\n",
      "5% (5140/113190) of the cadences will be ignored due to the quality mask (quality_bitmask=175).\n",
      "5% (935/18864) of the cadences will be ignored due to the quality mask (quality_bitmask=175).\n",
      "5% (935/18864) of the cadences will be ignored due to the quality mask (quality_bitmask=175).\n",
      "/home/ekaterina/Documents/000_envs/forallpurposes/lib/python3.6/site-packages/altaipony/lcio.py:114: ResourceWarning: unclosed file <_io.FileIO name='/home/ekaterina/Documents/001_science/lcs/mastDownload/TESS/tess2020238165205-s0029-0000000055652896-0193-s/tess2020238165205-s0029-0000000055652896-0193-s_lc.fits' mode='rb' closefd=True>\n",
      "  c)\n",
      "/home/ekaterina/Documents/000_envs/forallpurposes/lib/python3.6/site-packages/altaipony/lcio.py:114: ResourceWarning: unclosed file <_io.FileIO name='/home/ekaterina/Documents/001_science/lcs/mastDownload/TESS/tess2020238165205-s0029-0000000055652896-0193-a_fast/tess2020238165205-s0029-0000000055652896-0193-a_fast-lc.fits' mode='rb' closefd=True>\n",
      "  c)\n"
     ]
    },
    {
     "name": "stdout",
     "output_type": "stream",
     "text": [
      "-----------------------------------------\n",
      "2 light curves available for TOI-216 in TESS.\n",
      "-----------------------------------------\n"
     ]
    },
    {
     "name": "stderr",
     "output_type": "stream",
     "text": [
      "/home/ekaterina/Documents/000_envs/forallpurposes/lib/python3.6/site-packages/numpy/lib/nanfunctions.py:1113: RuntimeWarning: Mean of empty slice\n",
      "  return np.nanmean(a, axis, out=out, keepdims=keepdims)\n"
     ]
    },
    {
     "name": "stdout",
     "output_type": "stream",
     "text": [
      "0.01723600000013903 24.761038999999982 4.364190999999892 4.32540999999992 4.506921000000148 4.005664999999908 41.98046199999999\n",
      "(86536,)\n",
      "19.7%, [64/325]\n"
     ]
    },
    {
     "name": "stderr",
     "output_type": "stream",
     "text": [
      "/home/ekaterina/Documents/000_envs/forallpurposes/lib/python3.6/site-packages/ipykernel_launcher.py:24: SettingWithCopyWarning: \n",
      "A value is trying to be set on a copy of a slice from a DataFrame.\n",
      "Try using .loc[row_indexer,col_indexer] = value instead\n",
      "\n",
      "See the caveats in the documentation: https://pandas.pydata.org/pandas-docs/stable/user_guide/indexing.html#returning-a-view-versus-a-copy\n",
      "5% (5794/118125) of the cadences will be ignored due to the quality mask (quality_bitmask=175).\n",
      "5% (5794/118125) of the cadences will be ignored due to the quality mask (quality_bitmask=175).\n",
      "6% (1120/19687) of the cadences will be ignored due to the quality mask (quality_bitmask=175).\n",
      "6% (1120/19687) of the cadences will be ignored due to the quality mask (quality_bitmask=175).\n",
      "/home/ekaterina/Documents/000_envs/forallpurposes/lib/python3.6/site-packages/altaipony/lcio.py:114: ResourceWarning: unclosed file <_io.FileIO name='/home/ekaterina/Documents/001_science/lcs/mastDownload/TESS/tess2020266004630-s0030-0000000055652896-0195-s/tess2020266004630-s0030-0000000055652896-0195-s_lc.fits' mode='rb' closefd=True>\n",
      "  c)\n",
      "/home/ekaterina/Documents/000_envs/forallpurposes/lib/python3.6/site-packages/altaipony/lcio.py:114: ResourceWarning: unclosed file <_io.FileIO name='/home/ekaterina/Documents/001_science/lcs/mastDownload/TESS/tess2020266004630-s0030-0000000055652896-0195-a_fast/tess2020266004630-s0030-0000000055652896-0195-a_fast-lc.fits' mode='rb' closefd=True>\n",
      "  c)\n"
     ]
    },
    {
     "name": "stdout",
     "output_type": "stream",
     "text": [
      "-----------------------------------------\n",
      "2 light curves available for TOI-216 in TESS.\n",
      "-----------------------------------------\n"
     ]
    },
    {
     "name": "stderr",
     "output_type": "stream",
     "text": [
      "/home/ekaterina/Documents/000_envs/forallpurposes/lib/python3.6/site-packages/numpy/lib/nanfunctions.py:1113: RuntimeWarning: Mean of empty slice\n",
      "  return np.nanmean(a, axis, out=out, keepdims=keepdims)\n"
     ]
    },
    {
     "name": "stdout",
     "output_type": "stream",
     "text": [
      "0.019062000000076296 27.020017999999936 2.2283330000000205 2.19017000000008 2.366942999999992 1.7824379999999564 35.60696400000006\n",
      "(96809,)\n",
      "20.0%, [65/325]\n"
     ]
    },
    {
     "name": "stderr",
     "output_type": "stream",
     "text": [
      "/home/ekaterina/Documents/000_envs/forallpurposes/lib/python3.6/site-packages/ipykernel_launcher.py:24: SettingWithCopyWarning: \n",
      "A value is trying to be set on a copy of a slice from a DataFrame.\n",
      "Try using .loc[row_indexer,col_indexer] = value instead\n",
      "\n",
      "See the caveats in the documentation: https://pandas.pydata.org/pandas-docs/stable/user_guide/indexing.html#returning-a-view-versus-a-copy\n",
      "6% (6230/109893) of the cadences will be ignored due to the quality mask (quality_bitmask=175).\n",
      "6% (6230/109893) of the cadences will be ignored due to the quality mask (quality_bitmask=175).\n",
      "6% (1060/18314) of the cadences will be ignored due to the quality mask (quality_bitmask=175).\n",
      "6% (1060/18314) of the cadences will be ignored due to the quality mask (quality_bitmask=175).\n",
      "/home/ekaterina/Documents/000_envs/forallpurposes/lib/python3.6/site-packages/altaipony/lcio.py:114: ResourceWarning: unclosed file <_io.FileIO name='/home/ekaterina/Documents/001_science/lcs/mastDownload/TESS/tess2020294194027-s0031-0000000055652896-0198-s/tess2020294194027-s0031-0000000055652896-0198-s_lc.fits' mode='rb' closefd=True>\n",
      "  c)\n",
      "/home/ekaterina/Documents/000_envs/forallpurposes/lib/python3.6/site-packages/altaipony/lcio.py:114: ResourceWarning: unclosed file <_io.FileIO name='/home/ekaterina/Documents/001_science/lcs/mastDownload/TESS/tess2020294194027-s0031-0000000055652896-0198-a_fast/tess2020294194027-s0031-0000000055652896-0198-a_fast-lc.fits' mode='rb' closefd=True>\n",
      "  c)\n",
      "/home/ekaterina/Documents/000_envs/forallpurposes/lib/python3.6/site-packages/numpy/lib/nanfunctions.py:1113: RuntimeWarning: Mean of empty slice\n",
      "  return np.nanmean(a, axis, out=out, keepdims=keepdims)\n"
     ]
    },
    {
     "name": "stdout",
     "output_type": "stream",
     "text": [
      "-----------------------------------------\n",
      "2 light curves available for TOI-216 in TESS.\n",
      "-----------------------------------------\n",
      "0.020203999999921507 24.29466000000002 2.564440000000104 2.4376760000000104 2.0069109999999455 2.0835359999998673 33.40742699999987\n",
      "(97075,)\n",
      "20.3%, [66/325]\n",
      "5859    13\n",
      "Name: qcs, dtype: int64\n"
     ]
    },
    {
     "name": "stderr",
     "output_type": "stream",
     "text": [
      "4% (896/20479) of the cadences will be ignored due to the quality mask (quality_bitmask=175).\n",
      "4% (896/20479) of the cadences will be ignored due to the quality mask (quality_bitmask=175).\n",
      "/home/ekaterina/Documents/000_envs/forallpurposes/lib/python3.6/site-packages/altaipony/lcio.py:114: ResourceWarning: unclosed file <_io.FileIO name='/home/ekaterina/Documents/001_science/lcs/mastDownload/TESS/tess2019169103026-s0013-0000000161032923-0146-s/tess2019169103026-s0013-0000000161032923-0146-s_lc.fits' mode='rb' closefd=True>\n",
      "  c)\n"
     ]
    },
    {
     "name": "stdout",
     "output_type": "stream",
     "text": [
      "-----------------------------------------\n",
      "1 light curves available for TIC 161032923 in TESS.\n",
      "-----------------------------------------\n"
     ]
    },
    {
     "name": "stderr",
     "output_type": "stream",
     "text": [
      "/home/ekaterina/Documents/000_envs/forallpurposes/lib/python3.6/site-packages/numpy/lib/nanfunctions.py:1113: RuntimeWarning: Mean of empty slice\n",
      "  return np.nanmean(a, axis, out=out, keepdims=keepdims)\n"
     ]
    },
    {
     "name": "stdout",
     "output_type": "stream",
     "text": [
      "0.004912999999987733 2.093951000000061 0.8067730000000211 0.8017989999998463 0.7014540000000125 0.7978140000000167 5.206703999999945\n",
      "(17752,)\n",
      "20.6%, [67/325]\n",
      "4584    11\n",
      "Name: qcs, dtype: int64\n"
     ]
    },
    {
     "name": "stderr",
     "output_type": "stream",
     "text": [
      "/home/ekaterina/Documents/000_envs/forallpurposes/lib/python3.6/site-packages/ipykernel_launcher.py:24: SettingWithCopyWarning: \n",
      "A value is trying to be set on a copy of a slice from a DataFrame.\n",
      "Try using .loc[row_indexer,col_indexer] = value instead\n",
      "\n",
      "See the caveats in the documentation: https://pandas.pydata.org/pandas-docs/stable/user_guide/indexing.html#returning-a-view-versus-a-copy\n",
      "5% (976/19527) of the cadences will be ignored due to the quality mask (quality_bitmask=175).\n",
      "5% (976/19527) of the cadences will be ignored due to the quality mask (quality_bitmask=175).\n",
      "/home/ekaterina/Documents/000_envs/forallpurposes/lib/python3.6/site-packages/altaipony/lcio.py:114: ResourceWarning: unclosed file <_io.FileIO name='/home/ekaterina/Documents/001_science/lcs/mastDownload/TESS/tess2019112060037-s0011-0000000166527623-0143-s/tess2019112060037-s0011-0000000166527623-0143-s_lc.fits' mode='rb' closefd=True>\n",
      "  c)\n",
      "/home/ekaterina/Documents/000_envs/forallpurposes/lib/python3.6/site-packages/numpy/lib/nanfunctions.py:1113: RuntimeWarning: Mean of empty slice\n",
      "  return np.nanmean(a, axis, out=out, keepdims=keepdims)\n"
     ]
    },
    {
     "name": "stdout",
     "output_type": "stream",
     "text": [
      "-----------------------------------------\n",
      "1 light curves available for HIP 67522 in TESS.\n",
      "-----------------------------------------\n",
      "0.005339999999932843 1.0670090000000982 0.46479999999996835 0.45528399999989233 0.49818500000014865 0.49350699999990866 2.984124999999949\n",
      "(13598,)\n",
      "20.9%, [68/325]\n",
      "6351     1\n",
      "6352     2\n",
      "6353    28\n",
      "6354    29\n",
      "Name: qcs, dtype: int64\n"
     ]
    },
    {
     "name": "stderr",
     "output_type": "stream",
     "text": [
      "10% (1972/20076) of the cadences will be ignored due to the quality mask (quality_bitmask=175).\n",
      "10% (1972/20076) of the cadences will be ignored due to the quality mask (quality_bitmask=175).\n",
      "/home/ekaterina/Documents/000_envs/forallpurposes/lib/python3.6/site-packages/altaipony/lcio.py:114: ResourceWarning: unclosed file <_io.FileIO name='/home/ekaterina/Documents/001_science/lcs/mastDownload/TESS/tess2018206045859-s0001-0000000206609630-0120-s/tess2018206045859-s0001-0000000206609630-0120-s_lc.fits' mode='rb' closefd=True>\n",
      "  c)\n"
     ]
    },
    {
     "name": "stdout",
     "output_type": "stream",
     "text": [
      "-----------------------------------------\n",
      "1 light curves available for TIC 206609630 in TESS.\n",
      "-----------------------------------------\n"
     ]
    },
    {
     "name": "stderr",
     "output_type": "stream",
     "text": [
      "/home/ekaterina/Documents/000_envs/forallpurposes/lib/python3.6/site-packages/numpy/lib/nanfunctions.py:1113: RuntimeWarning: Mean of empty slice\n",
      "  return np.nanmean(a, axis, out=out, keepdims=keepdims)\n"
     ]
    },
    {
     "name": "stdout",
     "output_type": "stream",
     "text": [
      "0.006425000000035652 3.5714459999999235 1.1990440000001854 1.2022089999998116 1.1457510000000184 1.1450200000001587 8.269895000000133\n",
      "(17587,)\n",
      "21.2%, [69/325]\n"
     ]
    },
    {
     "name": "stderr",
     "output_type": "stream",
     "text": [
      "7% (1420/19737) of the cadences will be ignored due to the quality mask (quality_bitmask=175).\n",
      "7% (1420/19737) of the cadences will be ignored due to the quality mask (quality_bitmask=175).\n",
      "/home/ekaterina/Documents/000_envs/forallpurposes/lib/python3.6/site-packages/altaipony/lcio.py:114: ResourceWarning: unclosed file <_io.FileIO name='/home/ekaterina/Documents/001_science/lcs/mastDownload/TESS/tess2018234235059-s0002-0000000206609630-0121-s/tess2018234235059-s0002-0000000206609630-0121-s_lc.fits' mode='rb' closefd=True>\n",
      "  c)\n"
     ]
    },
    {
     "name": "stdout",
     "output_type": "stream",
     "text": [
      "-----------------------------------------\n",
      "1 light curves available for TIC 206609630 in TESS.\n",
      "-----------------------------------------\n"
     ]
    },
    {
     "name": "stderr",
     "output_type": "stream",
     "text": [
      "/home/ekaterina/Documents/000_envs/forallpurposes/lib/python3.6/site-packages/numpy/lib/nanfunctions.py:1113: RuntimeWarning: Mean of empty slice\n",
      "  return np.nanmean(a, axis, out=out, keepdims=keepdims)\n"
     ]
    },
    {
     "name": "stdout",
     "output_type": "stream",
     "text": [
      "0.005280000000084328 3.4083530000000337 1.3263970000000427 1.4225329999999303 1.305426000000125 1.303164999999808 8.771154000000024\n",
      "(17793,)\n",
      "21.5%, [70/325]\n"
     ]
    },
    {
     "name": "stderr",
     "output_type": "stream",
     "text": [
      "5% (5291/109095) of the cadences will be ignored due to the quality mask (quality_bitmask=175).\n",
      "5% (5291/109095) of the cadences will be ignored due to the quality mask (quality_bitmask=175).\n",
      "5% (897/18182) of the cadences will be ignored due to the quality mask (quality_bitmask=175).\n",
      "5% (897/18182) of the cadences will be ignored due to the quality mask (quality_bitmask=175).\n",
      "/home/ekaterina/Documents/000_envs/forallpurposes/lib/python3.6/site-packages/altaipony/lcio.py:114: ResourceWarning: unclosed file <_io.FileIO name='/home/ekaterina/Documents/001_science/lcs/mastDownload/TESS/tess2020212050318-s0028-0000000206609630-0190-s/tess2020212050318-s0028-0000000206609630-0190-s_lc.fits' mode='rb' closefd=True>\n",
      "  c)\n",
      "/home/ekaterina/Documents/000_envs/forallpurposes/lib/python3.6/site-packages/altaipony/lcio.py:114: ResourceWarning: unclosed file <_io.FileIO name='/home/ekaterina/Documents/001_science/lcs/mastDownload/TESS/tess2020212050318-s0028-0000000206609630-0190-a_fast/tess2020212050318-s0028-0000000206609630-0190-a_fast-lc.fits' mode='rb' closefd=True>\n",
      "  c)\n"
     ]
    },
    {
     "name": "stdout",
     "output_type": "stream",
     "text": [
      "-----------------------------------------\n",
      "2 light curves available for TIC 206609630 in TESS.\n",
      "-----------------------------------------\n"
     ]
    },
    {
     "name": "stderr",
     "output_type": "stream",
     "text": [
      "/home/ekaterina/Documents/000_envs/forallpurposes/lib/python3.6/site-packages/numpy/lib/nanfunctions.py:1113: RuntimeWarning: Mean of empty slice\n",
      "  return np.nanmean(a, axis, out=out, keepdims=keepdims)\n"
     ]
    },
    {
     "name": "stdout",
     "output_type": "stream",
     "text": [
      "0.0174970000000485 29.76156200000014 4.267055000000028 4.285403999999971 4.204144999999926 4.277035999999953 46.812699000000066\n",
      "(89116,)\n",
      "21.8%, [71/325]\n"
     ]
    },
    {
     "name": "stderr",
     "output_type": "stream",
     "text": [
      "5% (5140/113190) of the cadences will be ignored due to the quality mask (quality_bitmask=175).\n",
      "5% (5140/113190) of the cadences will be ignored due to the quality mask (quality_bitmask=175).\n",
      "5% (935/18864) of the cadences will be ignored due to the quality mask (quality_bitmask=175).\n",
      "5% (935/18864) of the cadences will be ignored due to the quality mask (quality_bitmask=175).\n",
      "/home/ekaterina/Documents/000_envs/forallpurposes/lib/python3.6/site-packages/altaipony/lcio.py:114: ResourceWarning: unclosed file <_io.FileIO name='/home/ekaterina/Documents/001_science/lcs/mastDownload/TESS/tess2020238165205-s0029-0000000206609630-0193-s/tess2020238165205-s0029-0000000206609630-0193-s_lc.fits' mode='rb' closefd=True>\n",
      "  c)\n",
      "/home/ekaterina/Documents/000_envs/forallpurposes/lib/python3.6/site-packages/altaipony/lcio.py:114: ResourceWarning: unclosed file <_io.FileIO name='/home/ekaterina/Documents/001_science/lcs/mastDownload/TESS/tess2020238165205-s0029-0000000206609630-0193-a_fast/tess2020238165205-s0029-0000000206609630-0193-a_fast-lc.fits' mode='rb' closefd=True>\n",
      "  c)\n"
     ]
    },
    {
     "name": "stdout",
     "output_type": "stream",
     "text": [
      "-----------------------------------------\n",
      "2 light curves available for TIC 206609630 in TESS.\n",
      "-----------------------------------------\n"
     ]
    },
    {
     "name": "stderr",
     "output_type": "stream",
     "text": [
      "/home/ekaterina/Documents/000_envs/forallpurposes/lib/python3.6/site-packages/numpy/lib/nanfunctions.py:1113: RuntimeWarning: Mean of empty slice\n",
      "  return np.nanmean(a, axis, out=out, keepdims=keepdims)\n"
     ]
    },
    {
     "name": "stdout",
     "output_type": "stream",
     "text": [
      "0.017198000000007596 34.420201000000134 6.544196000000056 6.51563299999998 6.374034999999822 6.5026620000001 60.3739250000001\n",
      "(89730,)\n",
      "22.2%, [72/325]\n",
      "2793     4\n",
      "2794     5\n",
      "2795     6\n",
      "2796     7\n",
      "2797    13\n",
      "2798    14\n",
      "2799    15\n",
      "2800    16\n",
      "Name: qcs, dtype: int64\n"
     ]
    },
    {
     "name": "stderr",
     "output_type": "stream",
     "text": [
      "/home/ekaterina/Documents/000_envs/forallpurposes/lib/python3.6/site-packages/ipykernel_launcher.py:24: SettingWithCopyWarning: \n",
      "A value is trying to be set on a copy of a slice from a DataFrame.\n",
      "Try using .loc[row_indexer,col_indexer] = value instead\n",
      "\n",
      "See the caveats in the documentation: https://pandas.pydata.org/pandas-docs/stable/user_guide/indexing.html#returning-a-view-versus-a-copy\n",
      "0% (147/45600) of the cadences will be ignored due to the quality mask (quality_bitmask=1130799).\n",
      "0% (147/45600) of the cadences will be ignored due to the quality mask (quality_bitmask=1130799).\n",
      "14% (5930/42480) of the cadences will be ignored due to the quality mask (quality_bitmask=1130799).\n",
      "14% (5930/42480) of the cadences will be ignored due to the quality mask (quality_bitmask=1130799).\n",
      "0% (120/42450) of the cadences will be ignored due to the quality mask (quality_bitmask=1130799).\n",
      "0% (120/42450) of the cadences will be ignored due to the quality mask (quality_bitmask=1130799).\n",
      "/home/ekaterina/Documents/000_envs/forallpurposes/lib/python3.6/site-packages/altaipony/lcio.py:102: ResourceWarning: unclosed file <_io.FileIO name='/home/ekaterina/Documents/001_science/lcs/mastDownload/Kepler/kplr010904857_sc_Q000033310000033330/kplr010904857-2010078100744_slc.fits' mode='rb' closefd=True>\n",
      "  c)\n",
      "/home/ekaterina/Documents/000_envs/forallpurposes/lib/python3.6/site-packages/altaipony/lcio.py:102: ResourceWarning: unclosed file <_io.FileIO name='/home/ekaterina/Documents/001_science/lcs/mastDownload/Kepler/kplr010904857_sc_Q000033310000033330/kplr010904857-2010049094358_slc.fits' mode='rb' closefd=True>\n",
      "  c)\n",
      "/home/ekaterina/Documents/000_envs/forallpurposes/lib/python3.6/site-packages/altaipony/lcio.py:102: ResourceWarning: unclosed file <_io.FileIO name='/home/ekaterina/Documents/001_science/lcs/mastDownload/Kepler/kplr010904857_sc_Q000033310000033330/kplr010904857-2010019161129_slc.fits' mode='rb' closefd=True>\n",
      "  c)\n",
      "/home/ekaterina/Documents/000_envs/forallpurposes/lib/python3.6/site-packages/numpy/lib/nanfunctions.py:1113: RuntimeWarning: Mean of empty slice\n",
      "  return np.nanmean(a, axis, out=out, keepdims=keepdims)\n"
     ]
    },
    {
     "name": "stdout",
     "output_type": "stream",
     "text": [
      "-----------------------------------------\n",
      "3 light curves available for Kepler-488 in Kepler.\n",
      "-----------------------------------------\n",
      "0.011737999999922977 3.6059940000000097 1.0967689999999948 1.074355000000196 1.185895999999957 0.9618769999999586 7.936629000000039\n",
      "(44091,)\n",
      "0.007329000000027008 2.535088000000087 0.8966439999999238 0.8839290000000801 1.0496610000000146 0.785425000000032 6.158076000000165\n",
      "(35491,)\n",
      "0.009187999999994645 3.057342999999946 0.9784520000000612 1.0173150000000533 1.1551999999999225 0.9038490000000365 7.121347000000014\n",
      "(41018,)\n",
      "22.5%, [73/325]\n"
     ]
    },
    {
     "name": "stderr",
     "output_type": "stream",
     "text": [
      "/home/ekaterina/Documents/000_envs/forallpurposes/lib/python3.6/site-packages/ipykernel_launcher.py:24: SettingWithCopyWarning: \n",
      "A value is trying to be set on a copy of a slice from a DataFrame.\n",
      "Try using .loc[row_indexer,col_indexer] = value instead\n",
      "\n",
      "See the caveats in the documentation: https://pandas.pydata.org/pandas-docs/stable/user_guide/indexing.html#returning-a-view-versus-a-copy\n",
      "0% (132/46290) of the cadences will be ignored due to the quality mask (quality_bitmask=1130799).\n",
      "0% (132/46290) of the cadences will be ignored due to the quality mask (quality_bitmask=1130799).\n",
      "0% (120/40560) of the cadences will be ignored due to the quality mask (quality_bitmask=1130799).\n",
      "0% (120/40560) of the cadences will be ignored due to the quality mask (quality_bitmask=1130799).\n",
      "0% (145/49290) of the cadences will be ignored due to the quality mask (quality_bitmask=1130799).\n",
      "0% (145/49290) of the cadences will be ignored due to the quality mask (quality_bitmask=1130799).\n",
      "/home/ekaterina/Documents/000_envs/forallpurposes/lib/python3.6/site-packages/altaipony/lcio.py:102: ResourceWarning: unclosed file <_io.FileIO name='/home/ekaterina/Documents/001_science/lcs/mastDownload/Kepler/kplr010904857_sc_Q000033310000033330/kplr010904857-2010174090439_slc.fits' mode='rb' closefd=True>\n",
      "  c)\n",
      "/home/ekaterina/Documents/000_envs/forallpurposes/lib/python3.6/site-packages/altaipony/lcio.py:102: ResourceWarning: unclosed file <_io.FileIO name='/home/ekaterina/Documents/001_science/lcs/mastDownload/Kepler/kplr010904857_sc_Q000033310000033330/kplr010904857-2010140023957_slc.fits' mode='rb' closefd=True>\n",
      "  c)\n",
      "/home/ekaterina/Documents/000_envs/forallpurposes/lib/python3.6/site-packages/altaipony/lcio.py:102: ResourceWarning: unclosed file <_io.FileIO name='/home/ekaterina/Documents/001_science/lcs/mastDownload/Kepler/kplr010904857_sc_Q000033310000033330/kplr010904857-2010111051353_slc.fits' mode='rb' closefd=True>\n",
      "  c)\n",
      "/home/ekaterina/Documents/000_envs/forallpurposes/lib/python3.6/site-packages/numpy/lib/nanfunctions.py:1113: RuntimeWarning: Mean of empty slice\n",
      "  return np.nanmean(a, axis, out=out, keepdims=keepdims)\n"
     ]
    },
    {
     "name": "stdout",
     "output_type": "stream",
     "text": [
      "-----------------------------------------\n",
      "3 light curves available for Kepler-488 in Kepler.\n",
      "-----------------------------------------\n",
      "0.010590999999976702 3.4346479999999247 1.1907900000001064 1.1885469999999714 1.1300149999999576 1.2953170000000682 8.249908000000005\n",
      "(44821,)\n",
      "0.008704999999963547 3.490011000000095 1.357710999999881 1.4088430000001608 0.9924340000000029 1.1790479999999661 8.43675200000007\n",
      "(39234,)\n",
      "0.009675999999899432 3.4984850000000733 1.2870490000000245 1.2238689999999224 1.0218979999999647 0.7671560000001136 7.808132999999998\n",
      "(47738,)\n",
      "22.8%, [74/325]\n"
     ]
    },
    {
     "name": "stderr",
     "output_type": "stream",
     "text": [
      "/home/ekaterina/Documents/000_envs/forallpurposes/lib/python3.6/site-packages/ipykernel_launcher.py:24: SettingWithCopyWarning: \n",
      "A value is trying to be set on a copy of a slice from a DataFrame.\n",
      "Try using .loc[row_indexer,col_indexer] = value instead\n",
      "\n",
      "See the caveats in the documentation: https://pandas.pydata.org/pandas-docs/stable/user_guide/indexing.html#returning-a-view-versus-a-copy\n",
      "0% (150/39780) of the cadences will be ignored due to the quality mask (quality_bitmask=1130799).\n",
      "0% (150/39780) of the cadences will be ignored due to the quality mask (quality_bitmask=1130799).\n",
      "0% (133/45390) of the cadences will be ignored due to the quality mask (quality_bitmask=1130799).\n",
      "0% (133/45390) of the cadences will be ignored due to the quality mask (quality_bitmask=1130799).\n",
      "1% (222/44220) of the cadences will be ignored due to the quality mask (quality_bitmask=1130799).\n",
      "1% (222/44220) of the cadences will be ignored due to the quality mask (quality_bitmask=1130799).\n",
      "/home/ekaterina/Documents/000_envs/forallpurposes/lib/python3.6/site-packages/altaipony/lcio.py:102: ResourceWarning: unclosed file <_io.FileIO name='/home/ekaterina/Documents/001_science/lcs/mastDownload/Kepler/kplr010904857_sc_Q000033310000033330/kplr010904857-2010265121752_slc.fits' mode='rb' closefd=True>\n",
      "  c)\n",
      "/home/ekaterina/Documents/000_envs/forallpurposes/lib/python3.6/site-packages/altaipony/lcio.py:102: ResourceWarning: unclosed file <_io.FileIO name='/home/ekaterina/Documents/001_science/lcs/mastDownload/Kepler/kplr010904857_sc_Q000033310000033330/kplr010904857-2010234115140_slc.fits' mode='rb' closefd=True>\n",
      "  c)\n",
      "/home/ekaterina/Documents/000_envs/forallpurposes/lib/python3.6/site-packages/altaipony/lcio.py:102: ResourceWarning: unclosed file <_io.FileIO name='/home/ekaterina/Documents/001_science/lcs/mastDownload/Kepler/kplr010904857_sc_Q000033310000033330/kplr010904857-2010203174610_slc.fits' mode='rb' closefd=True>\n",
      "  c)\n",
      "/home/ekaterina/Documents/000_envs/forallpurposes/lib/python3.6/site-packages/numpy/lib/nanfunctions.py:1113: RuntimeWarning: Mean of empty slice\n",
      "  return np.nanmean(a, axis, out=out, keepdims=keepdims)\n"
     ]
    },
    {
     "name": "stdout",
     "output_type": "stream",
     "text": [
      "-----------------------------------------\n",
      "3 light curves available for Kepler-488 in Kepler.\n",
      "-----------------------------------------\n",
      "0.010242000000062035 3.0902699999999186 0.7839739999999438 0.7328440000001137 0.6421569999999974 0.5724089999998796 5.831895999999915\n",
      "(38564,)\n",
      "0.00951600000007602 3.899071000000049 0.8177819999998519 0.8227570000001379 0.8114430000000539 0.6953269999999065 7.055896000000075\n",
      "(43933,)\n",
      "0.009303999999929147 3.7690529999999853 1.1833550000001196 1.2019379999999273 1.019762000000128 0.8992739999998776 8.082685999999967\n",
      "(42801,)\n",
      "23.1%, [75/325]\n"
     ]
    },
    {
     "name": "stderr",
     "output_type": "stream",
     "text": [
      "/home/ekaterina/Documents/000_envs/forallpurposes/lib/python3.6/site-packages/ipykernel_launcher.py:24: SettingWithCopyWarning: \n",
      "A value is trying to be set on a copy of a slice from a DataFrame.\n",
      "Try using .loc[row_indexer,col_indexer] = value instead\n",
      "\n",
      "See the caveats in the documentation: https://pandas.pydata.org/pandas-docs/stable/user_guide/indexing.html#returning-a-view-versus-a-copy\n",
      "2% (959/41760) of the cadences will be ignored due to the quality mask (quality_bitmask=1130799).\n",
      "2% (959/41760) of the cadences will be ignored due to the quality mask (quality_bitmask=1130799).\n",
      "/home/ekaterina/Documents/000_envs/forallpurposes/lib/python3.6/site-packages/altaipony/lcio.py:102: ResourceWarning: unclosed file <_io.FileIO name='/home/ekaterina/Documents/001_science/lcs/mastDownload/Kepler/kplr010904857_sc_Q000033310000033330/kplr010904857-2010355172524_slc.fits' mode='rb' closefd=True>\n",
      "  c)\n",
      "/home/ekaterina/Documents/000_envs/forallpurposes/lib/python3.6/site-packages/numpy/lib/nanfunctions.py:1113: RuntimeWarning: Mean of empty slice\n",
      "  return np.nanmean(a, axis, out=out, keepdims=keepdims)\n"
     ]
    },
    {
     "name": "stdout",
     "output_type": "stream",
     "text": [
      "-----------------------------------------\n",
      "1 light curves available for Kepler-488 in Kepler.\n",
      "-----------------------------------------\n",
      "0.012595999999803098 2.669930000000022 0.734096000000136 0.757522999999992 0.6814269999999851 0.634510999999975 5.490082999999913\n",
      "(39574,)\n",
      "23.4%, [76/325]\n"
     ]
    },
    {
     "name": "stderr",
     "output_type": "stream",
     "text": [
      "/home/ekaterina/Documents/000_envs/forallpurposes/lib/python3.6/site-packages/ipykernel_launcher.py:24: SettingWithCopyWarning: \n",
      "A value is trying to be set on a copy of a slice from a DataFrame.\n",
      "Try using .loc[row_indexer,col_indexer] = value instead\n",
      "\n",
      "See the caveats in the documentation: https://pandas.pydata.org/pandas-docs/stable/user_guide/indexing.html#returning-a-view-versus-a-copy\n",
      "1% (563/47370) of the cadences will be ignored due to the quality mask (quality_bitmask=1130799).\n",
      "1% (563/47370) of the cadences will be ignored due to the quality mask (quality_bitmask=1130799).\n",
      "1% (448/42930) of the cadences will be ignored due to the quality mask (quality_bitmask=1130799).\n",
      "1% (448/42930) of the cadences will be ignored due to the quality mask (quality_bitmask=1130799).\n",
      "2% (867/39990) of the cadences will be ignored due to the quality mask (quality_bitmask=1130799).\n",
      "2% (867/39990) of the cadences will be ignored due to the quality mask (quality_bitmask=1130799).\n",
      "/home/ekaterina/Documents/000_envs/forallpurposes/lib/python3.6/site-packages/altaipony/lcio.py:102: ResourceWarning: unclosed file <_io.FileIO name='/home/ekaterina/Documents/001_science/lcs/mastDownload/Kepler/kplr010904857_sc_Q000033310000033330/kplr010904857-2012179063303_slc.fits' mode='rb' closefd=True>\n",
      "  c)\n",
      "/home/ekaterina/Documents/000_envs/forallpurposes/lib/python3.6/site-packages/altaipony/lcio.py:102: ResourceWarning: unclosed file <_io.FileIO name='/home/ekaterina/Documents/001_science/lcs/mastDownload/Kepler/kplr010904857_sc_Q000033310000033330/kplr010904857-2012151031540_slc.fits' mode='rb' closefd=True>\n",
      "  c)\n",
      "/home/ekaterina/Documents/000_envs/forallpurposes/lib/python3.6/site-packages/altaipony/lcio.py:102: ResourceWarning: unclosed file <_io.FileIO name='/home/ekaterina/Documents/001_science/lcs/mastDownload/Kepler/kplr010904857_sc_Q000033310000033330/kplr010904857-2012121044856_slc.fits' mode='rb' closefd=True>\n",
      "  c)\n",
      "/home/ekaterina/Documents/000_envs/forallpurposes/lib/python3.6/site-packages/numpy/lib/nanfunctions.py:1113: RuntimeWarning: Mean of empty slice\n",
      "  return np.nanmean(a, axis, out=out, keepdims=keepdims)\n"
     ]
    },
    {
     "name": "stdout",
     "output_type": "stream",
     "text": [
      "-----------------------------------------\n",
      "3 light curves available for Kepler-488 in Kepler.\n",
      "-----------------------------------------\n",
      "0.011812000000190892 3.638140999999905 1.039839000000029 1.216613999999936 1.1450560000000678 1.3897890000000643 8.441251000000193\n",
      "(45515,)\n",
      "0.00913100000002487 3.379813000000013 1.0825540000000728 1.1036689999998543 1.1458130000000892 0.8728810000000067 7.593861000000061\n",
      "(41016,)\n",
      "0.008133000000043467 2.2038930000001073 0.919832999999926 0.8963619999999537 0.6774769999999535 0.6607450000001336 5.3664430000001175\n",
      "(37998,)\n",
      "23.7%, [77/325]\n"
     ]
    },
    {
     "name": "stderr",
     "output_type": "stream",
     "text": [
      "/home/ekaterina/Documents/000_envs/forallpurposes/lib/python3.6/site-packages/ipykernel_launcher.py:24: SettingWithCopyWarning: \n",
      "A value is trying to be set on a copy of a slice from a DataFrame.\n",
      "Try using .loc[row_indexer,col_indexer] = value instead\n",
      "\n",
      "See the caveats in the documentation: https://pandas.pydata.org/pandas-docs/stable/user_guide/indexing.html#returning-a-view-versus-a-copy\n",
      "19% (8480/45330) of the cadences will be ignored due to the quality mask (quality_bitmask=1130799).\n",
      "19% (8480/45330) of the cadences will be ignored due to the quality mask (quality_bitmask=1130799).\n",
      "0% (106/44280) of the cadences will be ignored due to the quality mask (quality_bitmask=1130799).\n",
      "0% (106/44280) of the cadences will be ignored due to the quality mask (quality_bitmask=1130799).\n",
      "0% (161/50160) of the cadences will be ignored due to the quality mask (quality_bitmask=1130799).\n",
      "0% (161/50160) of the cadences will be ignored due to the quality mask (quality_bitmask=1130799).\n",
      "/home/ekaterina/Documents/000_envs/forallpurposes/lib/python3.6/site-packages/altaipony/lcio.py:102: ResourceWarning: unclosed file <_io.FileIO name='/home/ekaterina/Documents/001_science/lcs/mastDownload/Kepler/kplr010904857_sc_Q000033310000033330/kplr010904857-2012277125453_slc.fits' mode='rb' closefd=True>\n",
      "  c)\n",
      "/home/ekaterina/Documents/000_envs/forallpurposes/lib/python3.6/site-packages/altaipony/lcio.py:102: ResourceWarning: unclosed file <_io.FileIO name='/home/ekaterina/Documents/001_science/lcs/mastDownload/Kepler/kplr010904857_sc_Q000033310000033330/kplr010904857-2012242122129_slc.fits' mode='rb' closefd=True>\n",
      "  c)\n",
      "/home/ekaterina/Documents/000_envs/forallpurposes/lib/python3.6/site-packages/altaipony/lcio.py:102: ResourceWarning: unclosed file <_io.FileIO name='/home/ekaterina/Documents/001_science/lcs/mastDownload/Kepler/kplr010904857_sc_Q000033310000033330/kplr010904857-2012211050319_slc.fits' mode='rb' closefd=True>\n",
      "  c)\n",
      "/home/ekaterina/Documents/000_envs/forallpurposes/lib/python3.6/site-packages/numpy/lib/nanfunctions.py:1113: RuntimeWarning: Mean of empty slice\n",
      "  return np.nanmean(a, axis, out=out, keepdims=keepdims)\n"
     ]
    },
    {
     "name": "stdout",
     "output_type": "stream",
     "text": [
      "-----------------------------------------\n",
      "3 light curves available for Kepler-488 in Kepler.\n",
      "-----------------------------------------\n",
      "0.010099999999965803 2.7586209999999483 0.9300709999999981 0.936294000000089 0.8304459999999381 0.8012610000000677 6.266793000000007\n",
      "(33747,)\n",
      "0.009107999999969252 3.2162060000000565 1.2579909999999472 1.235341999999946 1.3728820000001178 1.1752439999997932 8.26677299999983\n",
      "(42815,)\n",
      "0.010285000000067157 3.8784699999998793 1.6629100000000108 1.6511439999999311 1.8213000000000648 1.3816830000000664 10.40579200000002\n",
      "(48494,)\n",
      "24.0%, [78/325]\n"
     ]
    },
    {
     "name": "stderr",
     "output_type": "stream",
     "text": [
      "/home/ekaterina/Documents/000_envs/forallpurposes/lib/python3.6/site-packages/ipykernel_launcher.py:24: SettingWithCopyWarning: \n",
      "A value is trying to be set on a copy of a slice from a DataFrame.\n",
      "Try using .loc[row_indexer,col_indexer] = value instead\n",
      "\n",
      "See the caveats in the documentation: https://pandas.pydata.org/pandas-docs/stable/user_guide/indexing.html#returning-a-view-versus-a-copy\n",
      "1% (334/45270) of the cadences will be ignored due to the quality mask (quality_bitmask=1130799).\n",
      "1% (334/45270) of the cadences will be ignored due to the quality mask (quality_bitmask=1130799).\n",
      "14% (6276/44220) of the cadences will be ignored due to the quality mask (quality_bitmask=1130799).\n",
      "14% (6276/44220) of the cadences will be ignored due to the quality mask (quality_bitmask=1130799).\n",
      "0% (198/51270) of the cadences will be ignored due to the quality mask (quality_bitmask=1130799).\n",
      "0% (198/51270) of the cadences will be ignored due to the quality mask (quality_bitmask=1130799).\n",
      "/home/ekaterina/Documents/000_envs/forallpurposes/lib/python3.6/site-packages/altaipony/lcio.py:102: ResourceWarning: unclosed file <_io.FileIO name='/home/ekaterina/Documents/001_science/lcs/mastDownload/Kepler/kplr010904857_sc_Q000033310000033330/kplr010904857-2013011073258_slc.fits' mode='rb' closefd=True>\n",
      "  c)\n",
      "/home/ekaterina/Documents/000_envs/forallpurposes/lib/python3.6/site-packages/altaipony/lcio.py:102: ResourceWarning: unclosed file <_io.FileIO name='/home/ekaterina/Documents/001_science/lcs/mastDownload/Kepler/kplr010904857_sc_Q000033310000033330/kplr010904857-2012341132017_slc.fits' mode='rb' closefd=True>\n",
      "  c)\n",
      "/home/ekaterina/Documents/000_envs/forallpurposes/lib/python3.6/site-packages/altaipony/lcio.py:102: ResourceWarning: unclosed file <_io.FileIO name='/home/ekaterina/Documents/001_science/lcs/mastDownload/Kepler/kplr010904857_sc_Q000033310000033330/kplr010904857-2012310112549_slc.fits' mode='rb' closefd=True>\n",
      "  c)\n",
      "/home/ekaterina/Documents/000_envs/forallpurposes/lib/python3.6/site-packages/numpy/lib/nanfunctions.py:1113: RuntimeWarning: Mean of empty slice\n",
      "  return np.nanmean(a, axis, out=out, keepdims=keepdims)\n"
     ]
    },
    {
     "name": "stdout",
     "output_type": "stream",
     "text": [
      "-----------------------------------------\n",
      "3 light curves available for Kepler-488 in Kepler.\n",
      "-----------------------------------------\n",
      "0.01252399999998488 2.568074000000024 1.1086009999999078 1.0976580000001377 0.9490329999998721 0.6966870000001109 6.4325770000000375\n",
      "(43570,)\n",
      "0.008239999999887004 2.646314000000075 0.8624509999999646 0.8649120000000039 1.0343840000000455 0.561390000000074 5.97769100000005\n",
      "(34469,)\n",
      "0.010231999999859909 3.6606490000001486 1.122331000000031 1.18803099999991 1.018385999999964 0.8639840000000731 7.863612999999987\n",
      "(49612,)\n",
      "24.3%, [79/325]\n"
     ]
    },
    {
     "name": "stderr",
     "output_type": "stream",
     "text": [
      "/home/ekaterina/Documents/000_envs/forallpurposes/lib/python3.6/site-packages/ipykernel_launcher.py:24: SettingWithCopyWarning: \n",
      "A value is trying to be set on a copy of a slice from a DataFrame.\n",
      "Try using .loc[row_indexer,col_indexer] = value instead\n",
      "\n",
      "See the caveats in the documentation: https://pandas.pydata.org/pandas-docs/stable/user_guide/indexing.html#returning-a-view-versus-a-copy\n",
      "1% (58/7680) of the cadences will be ignored due to the quality mask (quality_bitmask=1130799).\n",
      "1% (58/7680) of the cadences will be ignored due to the quality mask (quality_bitmask=1130799).\n",
      "1% (545/53310) of the cadences will be ignored due to the quality mask (quality_bitmask=1130799).\n",
      "1% (545/53310) of the cadences will be ignored due to the quality mask (quality_bitmask=1130799).\n",
      "1% (274/46770) of the cadences will be ignored due to the quality mask (quality_bitmask=1130799).\n",
      "1% (274/46770) of the cadences will be ignored due to the quality mask (quality_bitmask=1130799).\n",
      "/home/ekaterina/Documents/000_envs/forallpurposes/lib/python3.6/site-packages/altaipony/lcio.py:102: ResourceWarning: unclosed file <_io.FileIO name='/home/ekaterina/Documents/001_science/lcs/mastDownload/Kepler/kplr010904857_sc_Q000033310000033330/kplr010904857-2013098041711_slc.fits' mode='rb' closefd=True>\n",
      "  c)\n",
      "/home/ekaterina/Documents/000_envs/forallpurposes/lib/python3.6/site-packages/altaipony/lcio.py:102: ResourceWarning: unclosed file <_io.FileIO name='/home/ekaterina/Documents/001_science/lcs/mastDownload/Kepler/kplr010904857_sc_Q000033310000033330/kplr010904857-2013065031647_slc.fits' mode='rb' closefd=True>\n",
      "  c)\n",
      "/home/ekaterina/Documents/000_envs/forallpurposes/lib/python3.6/site-packages/altaipony/lcio.py:102: ResourceWarning: unclosed file <_io.FileIO name='/home/ekaterina/Documents/001_science/lcs/mastDownload/Kepler/kplr010904857_sc_Q000033310000033330/kplr010904857-2013017113907_slc.fits' mode='rb' closefd=True>\n",
      "  c)\n",
      "/home/ekaterina/Documents/000_envs/forallpurposes/lib/python3.6/site-packages/numpy/lib/nanfunctions.py:1113: RuntimeWarning: Mean of empty slice\n",
      "  return np.nanmean(a, axis, out=out, keepdims=keepdims)\n"
     ]
    },
    {
     "name": "stdout",
     "output_type": "stream",
     "text": [
      "-----------------------------------------\n",
      "3 light curves available for Kepler-488 in Kepler.\n",
      "-----------------------------------------\n",
      "0.0025290000000950386 0.5825740000000224 0.14846799999986615 0.14387299999998504 0.10785500000019965 0.11194399999999405 1.0972430000001623\n",
      "(7487,)\n",
      "0.01050100000020393 4.126987999999983 1.7083079999999882 1.7086499999998068 1.5451120000000174 1.569204000000127 10.668763000000126\n",
      "(51286,)\n",
      "0.008753999999953521 3.3526469999999335 1.0962349999999788 1.1186629999999695 1.01213400000006 0.8820789999999761 7.4705119999998715\n",
      "(45128,)\n",
      "24.6%, [80/325]\n",
      "98      4\n",
      "99      5\n",
      "100     6\n",
      "101     8\n",
      "102     9\n",
      "103    10\n",
      "104    11\n",
      "105    12\n",
      "106    13\n",
      "107    27\n",
      "108    28\n",
      "109    29\n",
      "110    30\n",
      "111    31\n",
      "Name: qcs, dtype: int64\n"
     ]
    },
    {
     "name": "stderr",
     "output_type": "stream",
     "text": [
      "/home/ekaterina/Documents/000_envs/forallpurposes/lib/python3.6/site-packages/ipykernel_launcher.py:24: SettingWithCopyWarning: \n",
      "A value is trying to be set on a copy of a slice from a DataFrame.\n",
      "Try using .loc[row_indexer,col_indexer] = value instead\n",
      "\n",
      "See the caveats in the documentation: https://pandas.pydata.org/pandas-docs/stable/user_guide/indexing.html#returning-a-view-versus-a-copy\n",
      "5% (920/18684) of the cadences will be ignored due to the quality mask (quality_bitmask=175).\n",
      "5% (920/18684) of the cadences will be ignored due to the quality mask (quality_bitmask=175).\n",
      "/home/ekaterina/Documents/000_envs/forallpurposes/lib/python3.6/site-packages/altaipony/lcio.py:114: ResourceWarning: unclosed file <_io.FileIO name='/home/ekaterina/Documents/001_science/lcs/mastDownload/TESS/tess2018292075959-s0004-0000000055525572-0124-s/tess2018292075959-s0004-0000000055525572-0124-s_lc.fits' mode='rb' closefd=True>\n",
      "  c)\n",
      "/home/ekaterina/Documents/000_envs/forallpurposes/lib/python3.6/site-packages/numpy/lib/nanfunctions.py:1113: RuntimeWarning: Mean of empty slice\n",
      "  return np.nanmean(a, axis, out=out, keepdims=keepdims)\n"
     ]
    },
    {
     "name": "stdout",
     "output_type": "stream",
     "text": [
      "-----------------------------------------\n",
      "1 light curves available for TOI-813 in TESS.\n",
      "-----------------------------------------\n",
      "0.004492999999911262 1.3950740000000224 0.5606239999999616 0.5492719999999736 0.6019620000001851 0.2989069999998719 3.4103319999999258\n",
      "(15795,)\n",
      "24.9%, [81/325]\n"
     ]
    },
    {
     "name": "stderr",
     "output_type": "stream",
     "text": [
      "/home/ekaterina/Documents/000_envs/forallpurposes/lib/python3.6/site-packages/ipykernel_launcher.py:24: SettingWithCopyWarning: \n",
      "A value is trying to be set on a copy of a slice from a DataFrame.\n",
      "Try using .loc[row_indexer,col_indexer] = value instead\n",
      "\n",
      "See the caveats in the documentation: https://pandas.pydata.org/pandas-docs/stable/user_guide/indexing.html#returning-a-view-versus-a-copy\n",
      "6% (1050/18944) of the cadences will be ignored due to the quality mask (quality_bitmask=175).\n",
      "6% (1050/18944) of the cadences will be ignored due to the quality mask (quality_bitmask=175).\n",
      "/home/ekaterina/Documents/000_envs/forallpurposes/lib/python3.6/site-packages/altaipony/lcio.py:114: ResourceWarning: unclosed file <_io.FileIO name='/home/ekaterina/Documents/001_science/lcs/mastDownload/TESS/tess2018319095959-s0005-0000000055525572-0125-s/tess2018319095959-s0005-0000000055525572-0125-s_lc.fits' mode='rb' closefd=True>\n",
      "  c)\n"
     ]
    },
    {
     "name": "stdout",
     "output_type": "stream",
     "text": [
      "-----------------------------------------\n",
      "1 light curves available for TOI-813 in TESS.\n",
      "-----------------------------------------\n"
     ]
    },
    {
     "name": "stderr",
     "output_type": "stream",
     "text": [
      "/home/ekaterina/Documents/000_envs/forallpurposes/lib/python3.6/site-packages/numpy/lib/nanfunctions.py:1113: RuntimeWarning: Mean of empty slice\n",
      "  return np.nanmean(a, axis, out=out, keepdims=keepdims)\n"
     ]
    },
    {
     "name": "stdout",
     "output_type": "stream",
     "text": [
      "0.005407999999988533 3.044206000000031 1.1597300000000814 1.1724420000000464 0.6863509999998314 0.3318970000000263 6.400034000000005\n",
      "(17488,)\n",
      "25.2%, [82/325]\n"
     ]
    },
    {
     "name": "stderr",
     "output_type": "stream",
     "text": [
      "/home/ekaterina/Documents/000_envs/forallpurposes/lib/python3.6/site-packages/ipykernel_launcher.py:24: SettingWithCopyWarning: \n",
      "A value is trying to be set on a copy of a slice from a DataFrame.\n",
      "Try using .loc[row_indexer,col_indexer] = value instead\n",
      "\n",
      "See the caveats in the documentation: https://pandas.pydata.org/pandas-docs/stable/user_guide/indexing.html#returning-a-view-versus-a-copy\n",
      "5% (843/15678) of the cadences will be ignored due to the quality mask (quality_bitmask=175).\n",
      "5% (843/15678) of the cadences will be ignored due to the quality mask (quality_bitmask=175).\n",
      "/home/ekaterina/Documents/000_envs/forallpurposes/lib/python3.6/site-packages/altaipony/lcio.py:114: ResourceWarning: unclosed file <_io.FileIO name='/home/ekaterina/Documents/001_science/lcs/mastDownload/TESS/tess2018349182459-s0006-0000000055525572-0126-s/tess2018349182459-s0006-0000000055525572-0126-s_lc.fits' mode='rb' closefd=True>\n",
      "  c)\n",
      "/home/ekaterina/Documents/000_envs/forallpurposes/lib/python3.6/site-packages/numpy/lib/nanfunctions.py:1113: RuntimeWarning: Mean of empty slice\n",
      "  return np.nanmean(a, axis, out=out, keepdims=keepdims)\n"
     ]
    },
    {
     "name": "stdout",
     "output_type": "stream",
     "text": [
      "-----------------------------------------\n",
      "1 light curves available for TOI-813 in TESS.\n",
      "-----------------------------------------\n",
      "0.004540000000133659 1.1052210000000287 0.2271859999998469 0.2275449999999637 0.25622500000008586 0.22419300000001385 2.0449100000000726\n",
      "(14825,)\n",
      "25.5%, [83/325]\n"
     ]
    },
    {
     "name": "stderr",
     "output_type": "stream",
     "text": [
      "/home/ekaterina/Documents/000_envs/forallpurposes/lib/python3.6/site-packages/ipykernel_launcher.py:24: SettingWithCopyWarning: \n",
      "A value is trying to be set on a copy of a slice from a DataFrame.\n",
      "Try using .loc[row_indexer,col_indexer] = value instead\n",
      "\n",
      "See the caveats in the documentation: https://pandas.pydata.org/pandas-docs/stable/user_guide/indexing.html#returning-a-view-versus-a-copy\n",
      "11% (1987/17755) of the cadences will be ignored due to the quality mask (quality_bitmask=175).\n",
      "11% (1987/17755) of the cadences will be ignored due to the quality mask (quality_bitmask=175).\n",
      "/home/ekaterina/Documents/000_envs/forallpurposes/lib/python3.6/site-packages/altaipony/lcio.py:114: ResourceWarning: unclosed file <_io.FileIO name='/home/ekaterina/Documents/001_science/lcs/mastDownload/TESS/tess2019032160000-s0008-0000000055525572-0136-s/tess2019032160000-s0008-0000000055525572-0136-s_lc.fits' mode='rb' closefd=True>\n",
      "  c)\n"
     ]
    },
    {
     "name": "stdout",
     "output_type": "stream",
     "text": [
      "-----------------------------------------\n",
      "1 light curves available for TOI-813 in TESS.\n",
      "-----------------------------------------\n"
     ]
    },
    {
     "name": "stderr",
     "output_type": "stream",
     "text": [
      "/home/ekaterina/Documents/000_envs/forallpurposes/lib/python3.6/site-packages/numpy/lib/nanfunctions.py:1113: RuntimeWarning: Mean of empty slice\n",
      "  return np.nanmean(a, axis, out=out, keepdims=keepdims)\n"
     ]
    },
    {
     "name": "stdout",
     "output_type": "stream",
     "text": [
      "0.004277000000001863 2.041740000000118 0.677829999999858 0.6644290000001547 0.6635389999999006 0.27945500000009815 4.331270000000131\n",
      "(13021,)\n",
      "25.8%, [84/325]\n"
     ]
    },
    {
     "name": "stderr",
     "output_type": "stream",
     "text": [
      "/home/ekaterina/Documents/000_envs/forallpurposes/lib/python3.6/site-packages/ipykernel_launcher.py:24: SettingWithCopyWarning: \n",
      "A value is trying to be set on a copy of a slice from a DataFrame.\n",
      "Try using .loc[row_indexer,col_indexer] = value instead\n",
      "\n",
      "See the caveats in the documentation: https://pandas.pydata.org/pandas-docs/stable/user_guide/indexing.html#returning-a-view-versus-a-copy\n",
      "5% (930/18187) of the cadences will be ignored due to the quality mask (quality_bitmask=175).\n",
      "5% (930/18187) of the cadences will be ignored due to the quality mask (quality_bitmask=175).\n",
      "/home/ekaterina/Documents/000_envs/forallpurposes/lib/python3.6/site-packages/altaipony/lcio.py:114: ResourceWarning: unclosed file <_io.FileIO name='/home/ekaterina/Documents/001_science/lcs/mastDownload/TESS/tess2019058134432-s0009-0000000055525572-0139-s/tess2019058134432-s0009-0000000055525572-0139-s_lc.fits' mode='rb' closefd=True>\n",
      "  c)\n"
     ]
    },
    {
     "name": "stdout",
     "output_type": "stream",
     "text": [
      "-----------------------------------------\n",
      "1 light curves available for TOI-813 in TESS.\n",
      "-----------------------------------------\n"
     ]
    },
    {
     "name": "stderr",
     "output_type": "stream",
     "text": [
      "/home/ekaterina/Documents/000_envs/forallpurposes/lib/python3.6/site-packages/numpy/lib/nanfunctions.py:1113: RuntimeWarning: Mean of empty slice\n",
      "  return np.nanmean(a, axis, out=out, keepdims=keepdims)\n"
     ]
    },
    {
     "name": "stdout",
     "output_type": "stream",
     "text": [
      "0.007059000000026572 1.4765019999999822 0.32931299999995645 0.32988000000000284 0.27136700000005476 0.23517600000013772 2.6492970000001606\n",
      "(14967,)\n",
      "26.2%, [85/325]\n"
     ]
    },
    {
     "name": "stderr",
     "output_type": "stream",
     "text": [
      "/home/ekaterina/Documents/000_envs/forallpurposes/lib/python3.6/site-packages/ipykernel_launcher.py:24: SettingWithCopyWarning: \n",
      "A value is trying to be set on a copy of a slice from a DataFrame.\n",
      "Try using .loc[row_indexer,col_indexer] = value instead\n",
      "\n",
      "See the caveats in the documentation: https://pandas.pydata.org/pandas-docs/stable/user_guide/indexing.html#returning-a-view-versus-a-copy\n",
      "4% (815/18900) of the cadences will be ignored due to the quality mask (quality_bitmask=175).\n",
      "4% (815/18900) of the cadences will be ignored due to the quality mask (quality_bitmask=175).\n",
      "/home/ekaterina/Documents/000_envs/forallpurposes/lib/python3.6/site-packages/altaipony/lcio.py:114: ResourceWarning: unclosed file <_io.FileIO name='/home/ekaterina/Documents/001_science/lcs/mastDownload/TESS/tess2019085135100-s0010-0000000055525572-0140-s/tess2019085135100-s0010-0000000055525572-0140-s_lc.fits' mode='rb' closefd=True>\n",
      "  c)\n",
      "/home/ekaterina/Documents/000_envs/forallpurposes/lib/python3.6/site-packages/numpy/lib/nanfunctions.py:1113: RuntimeWarning: Mean of empty slice\n",
      "  return np.nanmean(a, axis, out=out, keepdims=keepdims)\n"
     ]
    },
    {
     "name": "stdout",
     "output_type": "stream",
     "text": [
      "-----------------------------------------\n",
      "1 light curves available for TOI-813 in TESS.\n",
      "-----------------------------------------\n",
      "0.004807000000027983 1.2024989999999889 0.2893300000000636 0.2912309999999252 0.28271200000017416 0.28894199999990633 2.359521000000086\n",
      "(15547,)\n",
      "26.5%, [86/325]\n"
     ]
    },
    {
     "name": "stderr",
     "output_type": "stream",
     "text": [
      "/home/ekaterina/Documents/000_envs/forallpurposes/lib/python3.6/site-packages/ipykernel_launcher.py:24: SettingWithCopyWarning: \n",
      "A value is trying to be set on a copy of a slice from a DataFrame.\n",
      "Try using .loc[row_indexer,col_indexer] = value instead\n",
      "\n",
      "See the caveats in the documentation: https://pandas.pydata.org/pandas-docs/stable/user_guide/indexing.html#returning-a-view-versus-a-copy\n",
      "5% (976/19527) of the cadences will be ignored due to the quality mask (quality_bitmask=175).\n",
      "5% (976/19527) of the cadences will be ignored due to the quality mask (quality_bitmask=175).\n",
      "/home/ekaterina/Documents/000_envs/forallpurposes/lib/python3.6/site-packages/altaipony/lcio.py:114: ResourceWarning: unclosed file <_io.FileIO name='/home/ekaterina/Documents/001_science/lcs/mastDownload/TESS/tess2019112060037-s0011-0000000055525572-0143-s/tess2019112060037-s0011-0000000055525572-0143-s_lc.fits' mode='rb' closefd=True>\n",
      "  c)\n",
      "/home/ekaterina/Documents/000_envs/forallpurposes/lib/python3.6/site-packages/numpy/lib/nanfunctions.py:1113: RuntimeWarning: Mean of empty slice\n",
      "  return np.nanmean(a, axis, out=out, keepdims=keepdims)\n"
     ]
    },
    {
     "name": "stdout",
     "output_type": "stream",
     "text": [
      "-----------------------------------------\n",
      "1 light curves available for TOI-813 in TESS.\n",
      "-----------------------------------------\n",
      "0.0047120000001541484 1.1552159999998821 0.28830100000004677 0.2842009999999391 0.26927999999998065 0.22451100000012048 2.2262210000001232\n",
      "(15692,)\n",
      "26.8%, [87/325]\n"
     ]
    },
    {
     "name": "stderr",
     "output_type": "stream",
     "text": [
      "/home/ekaterina/Documents/000_envs/forallpurposes/lib/python3.6/site-packages/ipykernel_launcher.py:24: SettingWithCopyWarning: \n",
      "A value is trying to be set on a copy of a slice from a DataFrame.\n",
      "Try using .loc[row_indexer,col_indexer] = value instead\n",
      "\n",
      "See the caveats in the documentation: https://pandas.pydata.org/pandas-docs/stable/user_guide/indexing.html#returning-a-view-versus-a-copy\n",
      "5% (1015/20119) of the cadences will be ignored due to the quality mask (quality_bitmask=175).\n",
      "5% (1015/20119) of the cadences will be ignored due to the quality mask (quality_bitmask=175).\n",
      "/home/ekaterina/Documents/000_envs/forallpurposes/lib/python3.6/site-packages/altaipony/lcio.py:114: ResourceWarning: unclosed file <_io.FileIO name='/home/ekaterina/Documents/001_science/lcs/mastDownload/TESS/tess2019140104343-s0012-0000000055525572-0144-s/tess2019140104343-s0012-0000000055525572-0144-s_lc.fits' mode='rb' closefd=True>\n",
      "  c)\n"
     ]
    },
    {
     "name": "stdout",
     "output_type": "stream",
     "text": [
      "-----------------------------------------\n",
      "1 light curves available for TOI-813 in TESS.\n",
      "-----------------------------------------\n"
     ]
    },
    {
     "name": "stderr",
     "output_type": "stream",
     "text": [
      "/home/ekaterina/Documents/000_envs/forallpurposes/lib/python3.6/site-packages/numpy/lib/nanfunctions.py:1113: RuntimeWarning: Mean of empty slice\n",
      "  return np.nanmean(a, axis, out=out, keepdims=keepdims)\n"
     ]
    },
    {
     "name": "stdout",
     "output_type": "stream",
     "text": [
      "0.005419999999958236 1.3905019999999695 0.9042900000001737 0.882176999999956 0.42384900000001835 0.4165729999999712 4.022811000000047\n",
      "(19099,)\n",
      "27.1%, [88/325]\n"
     ]
    },
    {
     "name": "stderr",
     "output_type": "stream",
     "text": [
      "/home/ekaterina/Documents/000_envs/forallpurposes/lib/python3.6/site-packages/ipykernel_launcher.py:24: SettingWithCopyWarning: \n",
      "A value is trying to be set on a copy of a slice from a DataFrame.\n",
      "Try using .loc[row_indexer,col_indexer] = value instead\n",
      "\n",
      "See the caveats in the documentation: https://pandas.pydata.org/pandas-docs/stable/user_guide/indexing.html#returning-a-view-versus-a-copy\n",
      "4% (896/20479) of the cadences will be ignored due to the quality mask (quality_bitmask=175).\n",
      "4% (896/20479) of the cadences will be ignored due to the quality mask (quality_bitmask=175).\n",
      "/home/ekaterina/Documents/000_envs/forallpurposes/lib/python3.6/site-packages/altaipony/lcio.py:114: ResourceWarning: unclosed file <_io.FileIO name='/home/ekaterina/Documents/001_science/lcs/mastDownload/TESS/tess2019169103026-s0013-0000000055525572-0146-s/tess2019169103026-s0013-0000000055525572-0146-s_lc.fits' mode='rb' closefd=True>\n",
      "  c)\n"
     ]
    },
    {
     "name": "stdout",
     "output_type": "stream",
     "text": [
      "-----------------------------------------\n",
      "1 light curves available for TOI-813 in TESS.\n",
      "-----------------------------------------\n"
     ]
    },
    {
     "name": "stderr",
     "output_type": "stream",
     "text": [
      "/home/ekaterina/Documents/000_envs/forallpurposes/lib/python3.6/site-packages/numpy/lib/nanfunctions.py:1113: RuntimeWarning: Mean of empty slice\n",
      "  return np.nanmean(a, axis, out=out, keepdims=keepdims)\n"
     ]
    },
    {
     "name": "stdout",
     "output_type": "stream",
     "text": [
      "0.0053560000001198205 1.4201359999999568 0.4356960000000072 0.4435160000000451 0.4137559999999212 0.2861910000001444 3.0046510000001945\n",
      "(19582,)\n",
      "27.4%, [89/325]\n"
     ]
    },
    {
     "name": "stderr",
     "output_type": "stream",
     "text": [
      "/home/ekaterina/Documents/000_envs/forallpurposes/lib/python3.6/site-packages/ipykernel_launcher.py:24: SettingWithCopyWarning: \n",
      "A value is trying to be set on a copy of a slice from a DataFrame.\n",
      "Try using .loc[row_indexer,col_indexer] = value instead\n",
      "\n",
      "See the caveats in the documentation: https://pandas.pydata.org/pandas-docs/stable/user_guide/indexing.html#returning-a-view-versus-a-copy\n",
      "4% (4549/105285) of the cadences will be ignored due to the quality mask (quality_bitmask=175).\n",
      "4% (4549/105285) of the cadences will be ignored due to the quality mask (quality_bitmask=175).\n",
      "4% (765/17546) of the cadences will be ignored due to the quality mask (quality_bitmask=175).\n",
      "4% (765/17546) of the cadences will be ignored due to the quality mask (quality_bitmask=175).\n",
      "/home/ekaterina/Documents/000_envs/forallpurposes/lib/python3.6/site-packages/altaipony/lcio.py:114: ResourceWarning: unclosed file <_io.FileIO name='/home/ekaterina/Documents/001_science/lcs/mastDownload/TESS/tess2020186164531-s0027-0000000055525572-0189-s/tess2020186164531-s0027-0000000055525572-0189-s_lc.fits' mode='rb' closefd=True>\n",
      "  c)\n",
      "/home/ekaterina/Documents/000_envs/forallpurposes/lib/python3.6/site-packages/altaipony/lcio.py:114: ResourceWarning: unclosed file <_io.FileIO name='/home/ekaterina/Documents/001_science/lcs/mastDownload/TESS/tess2020186164531-s0027-0000000055525572-0189-a_fast/tess2020186164531-s0027-0000000055525572-0189-a_fast-lc.fits' mode='rb' closefd=True>\n",
      "  c)\n"
     ]
    },
    {
     "name": "stdout",
     "output_type": "stream",
     "text": [
      "-----------------------------------------\n",
      "2 light curves available for TOI-813 in TESS.\n",
      "-----------------------------------------\n"
     ]
    },
    {
     "name": "stderr",
     "output_type": "stream",
     "text": [
      "/home/ekaterina/Documents/000_envs/forallpurposes/lib/python3.6/site-packages/numpy/lib/nanfunctions.py:1113: RuntimeWarning: Mean of empty slice\n",
      "  return np.nanmean(a, axis, out=out, keepdims=keepdims)\n"
     ]
    },
    {
     "name": "stdout",
     "output_type": "stream",
     "text": [
      "0.019379000000071755 38.67465399999992 7.000495999999885 6.8011169999999765 3.9701980000002095 6.7331279999998515 63.19897199999991\n",
      "(93927,)\n",
      "27.7%, [90/325]\n"
     ]
    },
    {
     "name": "stderr",
     "output_type": "stream",
     "text": [
      "/home/ekaterina/Documents/000_envs/forallpurposes/lib/python3.6/site-packages/ipykernel_launcher.py:24: SettingWithCopyWarning: \n",
      "A value is trying to be set on a copy of a slice from a DataFrame.\n",
      "Try using .loc[row_indexer,col_indexer] = value instead\n",
      "\n",
      "See the caveats in the documentation: https://pandas.pydata.org/pandas-docs/stable/user_guide/indexing.html#returning-a-view-versus-a-copy\n",
      "5% (5291/109095) of the cadences will be ignored due to the quality mask (quality_bitmask=175).\n",
      "5% (5291/109095) of the cadences will be ignored due to the quality mask (quality_bitmask=175).\n",
      "5% (897/18182) of the cadences will be ignored due to the quality mask (quality_bitmask=175).\n",
      "5% (897/18182) of the cadences will be ignored due to the quality mask (quality_bitmask=175).\n",
      "/home/ekaterina/Documents/000_envs/forallpurposes/lib/python3.6/site-packages/altaipony/lcio.py:114: ResourceWarning: unclosed file <_io.FileIO name='/home/ekaterina/Documents/001_science/lcs/mastDownload/TESS/tess2020212050318-s0028-0000000055525572-0190-s/tess2020212050318-s0028-0000000055525572-0190-s_lc.fits' mode='rb' closefd=True>\n",
      "  c)\n",
      "/home/ekaterina/Documents/000_envs/forallpurposes/lib/python3.6/site-packages/altaipony/lcio.py:114: ResourceWarning: unclosed file <_io.FileIO name='/home/ekaterina/Documents/001_science/lcs/mastDownload/TESS/tess2020212050318-s0028-0000000055525572-0190-a_fast/tess2020212050318-s0028-0000000055525572-0190-a_fast-lc.fits' mode='rb' closefd=True>\n",
      "  c)\n"
     ]
    },
    {
     "name": "stdout",
     "output_type": "stream",
     "text": [
      "-----------------------------------------\n",
      "2 light curves available for TOI-813 in TESS.\n",
      "-----------------------------------------\n"
     ]
    },
    {
     "name": "stderr",
     "output_type": "stream",
     "text": [
      "/home/ekaterina/Documents/000_envs/forallpurposes/lib/python3.6/site-packages/numpy/lib/nanfunctions.py:1113: RuntimeWarning: Mean of empty slice\n",
      "  return np.nanmean(a, axis, out=out, keepdims=keepdims)\n"
     ]
    },
    {
     "name": "stdout",
     "output_type": "stream",
     "text": [
      "0.017873000000008687 32.63429499999984 6.663905000000113 6.563415999999961 6.535029000000122 6.601567999999816 59.01608599999986\n",
      "(91649,)\n",
      "28.0%, [91/325]\n"
     ]
    },
    {
     "name": "stderr",
     "output_type": "stream",
     "text": [
      "/home/ekaterina/Documents/000_envs/forallpurposes/lib/python3.6/site-packages/ipykernel_launcher.py:24: SettingWithCopyWarning: \n",
      "A value is trying to be set on a copy of a slice from a DataFrame.\n",
      "Try using .loc[row_indexer,col_indexer] = value instead\n",
      "\n",
      "See the caveats in the documentation: https://pandas.pydata.org/pandas-docs/stable/user_guide/indexing.html#returning-a-view-versus-a-copy\n",
      "5% (935/18864) of the cadences will be ignored due to the quality mask (quality_bitmask=175).\n",
      "5% (935/18864) of the cadences will be ignored due to the quality mask (quality_bitmask=175).\n",
      "/home/ekaterina/Documents/000_envs/forallpurposes/lib/python3.6/site-packages/altaipony/lcio.py:114: ResourceWarning: unclosed file <_io.FileIO name='/home/ekaterina/Documents/001_science/lcs/mastDownload/TESS/tess2020238165205-s0029-0000000055525572-0193-s/tess2020238165205-s0029-0000000055525572-0193-s_lc.fits' mode='rb' closefd=True>\n",
      "  c)\n"
     ]
    },
    {
     "name": "stdout",
     "output_type": "stream",
     "text": [
      "-----------------------------------------\n",
      "1 light curves available for TOI-813 in TESS.\n",
      "-----------------------------------------\n"
     ]
    },
    {
     "name": "stderr",
     "output_type": "stream",
     "text": [
      "/home/ekaterina/Documents/000_envs/forallpurposes/lib/python3.6/site-packages/numpy/lib/nanfunctions.py:1113: RuntimeWarning: Mean of empty slice\n",
      "  return np.nanmean(a, axis, out=out, keepdims=keepdims)\n"
     ]
    },
    {
     "name": "stdout",
     "output_type": "stream",
     "text": [
      "0.004370999999991909 1.3813310000000456 0.3417850000000726 0.33830799999986993 0.21216400000002977 0.2172960000002604 2.4952550000002702\n",
      "(14919,)\n",
      "28.3%, [92/325]\n"
     ]
    },
    {
     "name": "stderr",
     "output_type": "stream",
     "text": [
      "/home/ekaterina/Documents/000_envs/forallpurposes/lib/python3.6/site-packages/ipykernel_launcher.py:24: SettingWithCopyWarning: \n",
      "A value is trying to be set on a copy of a slice from a DataFrame.\n",
      "Try using .loc[row_indexer,col_indexer] = value instead\n",
      "\n",
      "See the caveats in the documentation: https://pandas.pydata.org/pandas-docs/stable/user_guide/indexing.html#returning-a-view-versus-a-copy\n",
      "6% (1120/19687) of the cadences will be ignored due to the quality mask (quality_bitmask=175).\n",
      "6% (1120/19687) of the cadences will be ignored due to the quality mask (quality_bitmask=175).\n",
      "/home/ekaterina/Documents/000_envs/forallpurposes/lib/python3.6/site-packages/altaipony/lcio.py:114: ResourceWarning: unclosed file <_io.FileIO name='/home/ekaterina/Documents/001_science/lcs/mastDownload/TESS/tess2020266004630-s0030-0000000055525572-0195-s/tess2020266004630-s0030-0000000055525572-0195-s_lc.fits' mode='rb' closefd=True>\n",
      "  c)\n"
     ]
    },
    {
     "name": "stdout",
     "output_type": "stream",
     "text": [
      "-----------------------------------------\n",
      "1 light curves available for TOI-813 in TESS.\n",
      "-----------------------------------------\n"
     ]
    },
    {
     "name": "stderr",
     "output_type": "stream",
     "text": [
      "/home/ekaterina/Documents/000_envs/forallpurposes/lib/python3.6/site-packages/numpy/lib/nanfunctions.py:1113: RuntimeWarning: Mean of empty slice\n",
      "  return np.nanmean(a, axis, out=out, keepdims=keepdims)\n"
     ]
    },
    {
     "name": "stdout",
     "output_type": "stream",
     "text": [
      "0.005298000000038883 1.5502480000000105 0.7070859999998902 0.7082949999999073 0.6320750000004409 0.7432079999998678 4.346210000000156\n",
      "(16216,)\n",
      "28.6%, [93/325]\n"
     ]
    },
    {
     "name": "stderr",
     "output_type": "stream",
     "text": [
      "/home/ekaterina/Documents/000_envs/forallpurposes/lib/python3.6/site-packages/ipykernel_launcher.py:24: SettingWithCopyWarning: \n",
      "A value is trying to be set on a copy of a slice from a DataFrame.\n",
      "Try using .loc[row_indexer,col_indexer] = value instead\n",
      "\n",
      "See the caveats in the documentation: https://pandas.pydata.org/pandas-docs/stable/user_guide/indexing.html#returning-a-view-versus-a-copy\n",
      "6% (1060/18314) of the cadences will be ignored due to the quality mask (quality_bitmask=175).\n",
      "6% (1060/18314) of the cadences will be ignored due to the quality mask (quality_bitmask=175).\n",
      "/home/ekaterina/Documents/000_envs/forallpurposes/lib/python3.6/site-packages/altaipony/lcio.py:114: ResourceWarning: unclosed file <_io.FileIO name='/home/ekaterina/Documents/001_science/lcs/mastDownload/TESS/tess2020294194027-s0031-0000000055525572-0198-s/tess2020294194027-s0031-0000000055525572-0198-s_lc.fits' mode='rb' closefd=True>\n",
      "  c)\n",
      "/home/ekaterina/Documents/000_envs/forallpurposes/lib/python3.6/site-packages/numpy/lib/nanfunctions.py:1113: RuntimeWarning: Mean of empty slice\n",
      "  return np.nanmean(a, axis, out=out, keepdims=keepdims)\n"
     ]
    },
    {
     "name": "stdout",
     "output_type": "stream",
     "text": [
      "-----------------------------------------\n",
      "1 light curves available for TOI-813 in TESS.\n",
      "-----------------------------------------\n",
      "0.004730000000108703 1.262471000000005 0.3671589999999014 0.3645109999997658 0.30133100000011837 0.24531500000011874 2.545517000000018\n",
      "(16741,)\n",
      "28.9%, [94/325]\n",
      "4756     3\n",
      "4757     4\n",
      "4758     5\n",
      "4759    30\n",
      "Name: qcs, dtype: int64\n"
     ]
    },
    {
     "name": "stderr",
     "output_type": "stream",
     "text": [
      "Found cached file /home/ekaterina/Documents/001_science/lcs/mastDownload/TESS/tess2018263035959-s0003-0000000219244444-0123-s/tess2018263035959-s0003-0000000219244444-0123-s_lc.fits with expected size 1998720.\n",
      "Warning: 31% (6168/19692) of the cadences will be ignored due to the quality mask (quality_bitmask=175).\n",
      "Warning: 31% (6168/19692) of the cadences will be ignored due to the quality mask (quality_bitmask=175).\n",
      "/home/ekaterina/Documents/000_envs/forallpurposes/lib/python3.6/site-packages/altaipony/lcio.py:114: ResourceWarning: unclosed file <_io.FileIO name='/home/ekaterina/Documents/001_science/lcs/mastDownload/TESS/tess2018263035959-s0003-0000000219244444-0123-s/tess2018263035959-s0003-0000000219244444-0123-s_lc.fits' mode='rb' closefd=True>\n",
      "  c)\n"
     ]
    },
    {
     "name": "stdout",
     "output_type": "stream",
     "text": [
      "-----------------------------------------\n",
      "1 light curves available for RR Cae in TESS.\n",
      "-----------------------------------------\n"
     ]
    },
    {
     "name": "stderr",
     "output_type": "stream",
     "text": [
      "/home/ekaterina/Documents/000_envs/forallpurposes/lib/python3.6/site-packages/numpy/lib/nanfunctions.py:1113: RuntimeWarning: Mean of empty slice\n",
      "  return np.nanmean(a, axis, out=out, keepdims=keepdims)\n"
     ]
    },
    {
     "name": "stdout",
     "output_type": "stream",
     "text": [
      "0.004037999999582098 2.481978000000254 0.599521999999979 0.5905379999999241 0.5865279999998165 0.9718530000000101 5.234456999999566\n",
      "(13452,)\n",
      "29.2%, [95/325]\n"
     ]
    },
    {
     "name": "stderr",
     "output_type": "stream",
     "text": [
      "Found cached file /home/ekaterina/Documents/001_science/lcs/mastDownload/TESS/tess2018292075959-s0004-0000000219244444-0124-s/tess2018292075959-s0004-0000000219244444-0124-s_lc.fits with expected size 1897920.\n",
      "5% (920/18684) of the cadences will be ignored due to the quality mask (quality_bitmask=175).\n",
      "5% (920/18684) of the cadences will be ignored due to the quality mask (quality_bitmask=175).\n",
      "/home/ekaterina/Documents/000_envs/forallpurposes/lib/python3.6/site-packages/altaipony/lcio.py:114: ResourceWarning: unclosed file <_io.FileIO name='/home/ekaterina/Documents/001_science/lcs/mastDownload/TESS/tess2018292075959-s0004-0000000219244444-0124-s/tess2018292075959-s0004-0000000219244444-0124-s_lc.fits' mode='rb' closefd=True>\n",
      "  c)\n"
     ]
    },
    {
     "name": "stdout",
     "output_type": "stream",
     "text": [
      "-----------------------------------------\n",
      "1 light curves available for RR Cae in TESS.\n",
      "-----------------------------------------\n"
     ]
    },
    {
     "name": "stderr",
     "output_type": "stream",
     "text": [
      "/home/ekaterina/Documents/000_envs/forallpurposes/lib/python3.6/site-packages/numpy/lib/nanfunctions.py:1113: RuntimeWarning: Mean of empty slice\n",
      "  return np.nanmean(a, axis, out=out, keepdims=keepdims)\n"
     ]
    },
    {
     "name": "stdout",
     "output_type": "stream",
     "text": [
      "0.004656000000068161 2.0447410000001582 1.0245219999997062 1.0301110000000335 1.1215240000001359 1.1544589999998607 6.380012999999963\n",
      "(15794,)\n",
      "29.5%, [96/325]\n"
     ]
    },
    {
     "name": "stderr",
     "output_type": "stream",
     "text": [
      "Found cached file /home/ekaterina/Documents/001_science/lcs/mastDownload/TESS/tess2018319095959-s0005-0000000219244444-0125-s/tess2018319095959-s0005-0000000219244444-0125-s_lc.fits with expected size 1923840.\n",
      "6% (1050/18944) of the cadences will be ignored due to the quality mask (quality_bitmask=175).\n",
      "6% (1050/18944) of the cadences will be ignored due to the quality mask (quality_bitmask=175).\n",
      "/home/ekaterina/Documents/000_envs/forallpurposes/lib/python3.6/site-packages/altaipony/lcio.py:114: ResourceWarning: unclosed file <_io.FileIO name='/home/ekaterina/Documents/001_science/lcs/mastDownload/TESS/tess2018319095959-s0005-0000000219244444-0125-s/tess2018319095959-s0005-0000000219244444-0125-s_lc.fits' mode='rb' closefd=True>\n",
      "  c)\n"
     ]
    },
    {
     "name": "stdout",
     "output_type": "stream",
     "text": [
      "-----------------------------------------\n",
      "1 light curves available for RR Cae in TESS.\n",
      "-----------------------------------------\n"
     ]
    },
    {
     "name": "stderr",
     "output_type": "stream",
     "text": [
      "/home/ekaterina/Documents/000_envs/forallpurposes/lib/python3.6/site-packages/numpy/lib/nanfunctions.py:1113: RuntimeWarning: Mean of empty slice\n",
      "  return np.nanmean(a, axis, out=out, keepdims=keepdims)\n"
     ]
    },
    {
     "name": "stdout",
     "output_type": "stream",
     "text": [
      "0.005625000000236469 3.1656880000000456 1.3067909999999756 1.2807929999999033 1.2753319999997075 1.2988970000001245 8.333125999999993\n",
      "(17873,)\n",
      "29.8%, [97/325]\n"
     ]
    },
    {
     "name": "stderr",
     "output_type": "stream",
     "text": [
      "5% (5794/118125) of the cadences will be ignored due to the quality mask (quality_bitmask=175).\n",
      "5% (5794/118125) of the cadences will be ignored due to the quality mask (quality_bitmask=175).\n",
      "6% (1120/19687) of the cadences will be ignored due to the quality mask (quality_bitmask=175).\n",
      "6% (1120/19687) of the cadences will be ignored due to the quality mask (quality_bitmask=175).\n",
      "/home/ekaterina/Documents/000_envs/forallpurposes/lib/python3.6/site-packages/altaipony/lcio.py:114: ResourceWarning: unclosed file <_io.FileIO name='/home/ekaterina/Documents/001_science/lcs/mastDownload/TESS/tess2020266004630-s0030-0000000219244444-0195-s/tess2020266004630-s0030-0000000219244444-0195-s_lc.fits' mode='rb' closefd=True>\n",
      "  c)\n",
      "/home/ekaterina/Documents/000_envs/forallpurposes/lib/python3.6/site-packages/altaipony/lcio.py:114: ResourceWarning: unclosed file <_io.FileIO name='/home/ekaterina/Documents/001_science/lcs/mastDownload/TESS/tess2020266004630-s0030-0000000219244444-0195-a_fast/tess2020266004630-s0030-0000000219244444-0195-a_fast-lc.fits' mode='rb' closefd=True>\n",
      "  c)\n"
     ]
    },
    {
     "name": "stdout",
     "output_type": "stream",
     "text": [
      "-----------------------------------------\n",
      "2 light curves available for RR Cae in TESS.\n",
      "-----------------------------------------\n"
     ]
    },
    {
     "name": "stderr",
     "output_type": "stream",
     "text": [
      "/home/ekaterina/Documents/000_envs/forallpurposes/lib/python3.6/site-packages/numpy/lib/nanfunctions.py:1113: RuntimeWarning: Mean of empty slice\n",
      "  return np.nanmean(a, axis, out=out, keepdims=keepdims)\n"
     ]
    },
    {
     "name": "stdout",
     "output_type": "stream",
     "text": [
      "0.01970599999958722 35.85078800000019 6.92274499999985 6.89637300000004 6.814470000000256 6.8698639999997795 63.373945999999705\n",
      "(96728,)\n",
      "30.2%, [98/325]\n",
      "5220    6\n",
      "5221    7\n",
      "Name: qcs, dtype: int64\n"
     ]
    },
    {
     "name": "stderr",
     "output_type": "stream",
     "text": [
      "5% (843/15678) of the cadences will be ignored due to the quality mask (quality_bitmask=175).\n",
      "5% (843/15678) of the cadences will be ignored due to the quality mask (quality_bitmask=175).\n",
      "/home/ekaterina/Documents/000_envs/forallpurposes/lib/python3.6/site-packages/altaipony/lcio.py:114: ResourceWarning: unclosed file <_io.FileIO name='/home/ekaterina/Documents/001_science/lcs/mastDownload/TESS/tess2018349182459-s0006-0000000052280468-0126-s/tess2018349182459-s0006-0000000052280468-0126-s_lc.fits' mode='rb' closefd=True>\n",
      "  c)\n"
     ]
    },
    {
     "name": "stdout",
     "output_type": "stream",
     "text": [
      "-----------------------------------------\n",
      "1 light curves available for TIC 52280468 in TESS.\n",
      "-----------------------------------------\n"
     ]
    },
    {
     "name": "stderr",
     "output_type": "stream",
     "text": [
      "/home/ekaterina/Documents/000_envs/forallpurposes/lib/python3.6/site-packages/numpy/lib/nanfunctions.py:1113: RuntimeWarning: Mean of empty slice\n",
      "  return np.nanmean(a, axis, out=out, keepdims=keepdims)\n"
     ]
    },
    {
     "name": "stdout",
     "output_type": "stream",
     "text": [
      "0.0038199999999051215 1.6437289999998939 0.5319700000000012 0.530732000000171 0.5836030000000392 0.5251079999998183 3.8189619999998285\n",
      "(13647,)\n",
      "30.5%, [99/325]\n"
     ]
    },
    {
     "name": "stderr",
     "output_type": "stream",
     "text": [
      "7% (1250/17612) of the cadences will be ignored due to the quality mask (quality_bitmask=175).\n",
      "7% (1250/17612) of the cadences will be ignored due to the quality mask (quality_bitmask=175).\n",
      "/home/ekaterina/Documents/000_envs/forallpurposes/lib/python3.6/site-packages/altaipony/lcio.py:114: ResourceWarning: unclosed file <_io.FileIO name='/home/ekaterina/Documents/001_science/lcs/mastDownload/TESS/tess2019006130736-s0007-0000000052280468-0131-s/tess2019006130736-s0007-0000000052280468-0131-s_lc.fits' mode='rb' closefd=True>\n",
      "  c)\n"
     ]
    },
    {
     "name": "stdout",
     "output_type": "stream",
     "text": [
      "-----------------------------------------\n",
      "1 light curves available for TIC 52280468 in TESS.\n",
      "-----------------------------------------\n"
     ]
    },
    {
     "name": "stderr",
     "output_type": "stream",
     "text": [
      "/home/ekaterina/Documents/000_envs/forallpurposes/lib/python3.6/site-packages/numpy/lib/nanfunctions.py:1113: RuntimeWarning: Mean of empty slice\n",
      "  return np.nanmean(a, axis, out=out, keepdims=keepdims)\n"
     ]
    },
    {
     "name": "stdout",
     "output_type": "stream",
     "text": [
      "0.004343000000062602 2.716497000000345 1.0695939999995971 1.0761130000000776 1.0799329999999827 0.6561839999999393 6.602664000000004\n",
      "(15050,)\n",
      "30.8%, [100/325]\n",
      "3776    5\n",
      "Name: qcs, dtype: int64\n"
     ]
    },
    {
     "name": "stderr",
     "output_type": "stream",
     "text": [
      "6% (1050/18944) of the cadences will be ignored due to the quality mask (quality_bitmask=175).\n",
      "6% (1050/18944) of the cadences will be ignored due to the quality mask (quality_bitmask=175).\n",
      "/home/ekaterina/Documents/000_envs/forallpurposes/lib/python3.6/site-packages/altaipony/lcio.py:114: ResourceWarning: unclosed file <_io.FileIO name='/home/ekaterina/Documents/001_science/lcs/mastDownload/TESS/tess2018319095959-s0005-0000000298810162-0125-s/tess2018319095959-s0005-0000000298810162-0125-s_lc.fits' mode='rb' closefd=True>\n",
      "  c)\n",
      "/home/ekaterina/Documents/000_envs/forallpurposes/lib/python3.6/site-packages/numpy/lib/nanfunctions.py:1113: RuntimeWarning: Mean of empty slice\n",
      "  return np.nanmean(a, axis, out=out, keepdims=keepdims)\n"
     ]
    },
    {
     "name": "stdout",
     "output_type": "stream",
     "text": [
      "-----------------------------------------\n",
      "1 light curves available for 51 Eri in TESS.\n",
      "-----------------------------------------\n",
      "0.005995999999868218 1.6045630000003257 1.3582809999998062 1.301676999999927 1.3025830000001406 0.8536420000000362 6.426742000000104\n",
      "(17664,)\n",
      "31.1%, [101/325]\n",
      "5329    5\n",
      "5330    6\n",
      "Name: qcs, dtype: int64\n"
     ]
    },
    {
     "name": "stderr",
     "output_type": "stream",
     "text": [
      "6% (1050/18944) of the cadences will be ignored due to the quality mask (quality_bitmask=175).\n",
      "6% (1050/18944) of the cadences will be ignored due to the quality mask (quality_bitmask=175).\n",
      "/home/ekaterina/Documents/000_envs/forallpurposes/lib/python3.6/site-packages/altaipony/lcio.py:114: ResourceWarning: unclosed file <_io.FileIO name='/home/ekaterina/Documents/001_science/lcs/mastDownload/TESS/tess2018319095959-s0005-0000000077951245-0125-s/tess2018319095959-s0005-0000000077951245-0125-s_lc.fits' mode='rb' closefd=True>\n",
      "  c)\n"
     ]
    },
    {
     "name": "stdout",
     "output_type": "stream",
     "text": [
      "-----------------------------------------\n",
      "1 light curves available for TIC 77951245 in TESS.\n",
      "-----------------------------------------\n"
     ]
    },
    {
     "name": "stderr",
     "output_type": "stream",
     "text": [
      "/home/ekaterina/Documents/000_envs/forallpurposes/lib/python3.6/site-packages/numpy/lib/nanfunctions.py:1113: RuntimeWarning: Mean of empty slice\n",
      "  return np.nanmean(a, axis, out=out, keepdims=keepdims)\n"
     ]
    },
    {
     "name": "stdout",
     "output_type": "stream",
     "text": [
      "0.008666999999604741 3.241566000000148 1.3076500000001943 1.2950029999997241 1.2580630000002202 1.3322549999998046 8.443203999999696\n",
      "(17753,)\n",
      "31.4%, [102/325]\n"
     ]
    },
    {
     "name": "stderr",
     "output_type": "stream",
     "text": [
      "5% (843/15678) of the cadences will be ignored due to the quality mask (quality_bitmask=175).\n",
      "5% (843/15678) of the cadences will be ignored due to the quality mask (quality_bitmask=175).\n",
      "/home/ekaterina/Documents/000_envs/forallpurposes/lib/python3.6/site-packages/altaipony/lcio.py:114: ResourceWarning: unclosed file <_io.FileIO name='/home/ekaterina/Documents/001_science/lcs/mastDownload/TESS/tess2018349182459-s0006-0000000077951245-0126-s/tess2018349182459-s0006-0000000077951245-0126-s_lc.fits' mode='rb' closefd=True>\n",
      "  c)\n",
      "/home/ekaterina/Documents/000_envs/forallpurposes/lib/python3.6/site-packages/numpy/lib/nanfunctions.py:1113: RuntimeWarning: Mean of empty slice\n",
      "  return np.nanmean(a, axis, out=out, keepdims=keepdims)\n"
     ]
    },
    {
     "name": "stdout",
     "output_type": "stream",
     "text": [
      "-----------------------------------------\n",
      "1 light curves available for TIC 77951245 in TESS.\n",
      "-----------------------------------------\n",
      "0.005071999999927357 2.232985000000099 1.0454789999998866 1.0483910000002652 1.0600099999996928 0.5744550000003983 5.966392000000269\n",
      "(14702,)\n",
      "31.7%, [103/325]\n",
      "4763    10\n",
      "Name: qcs, dtype: int64\n"
     ]
    },
    {
     "name": "stderr",
     "output_type": "stream",
     "text": [
      "4% (815/18900) of the cadences will be ignored due to the quality mask (quality_bitmask=175).\n",
      "4% (815/18900) of the cadences will be ignored due to the quality mask (quality_bitmask=175).\n",
      "/home/ekaterina/Documents/000_envs/forallpurposes/lib/python3.6/site-packages/altaipony/lcio.py:114: ResourceWarning: unclosed file <_io.FileIO name='/home/ekaterina/Documents/001_science/lcs/mastDownload/TESS/tess2019085135100-s0010-0000000002470992-0140-s/tess2019085135100-s0010-0000000002470992-0140-s_lc.fits' mode='rb' closefd=True>\n",
      "  c)\n"
     ]
    },
    {
     "name": "stdout",
     "output_type": "stream",
     "text": [
      "-----------------------------------------\n",
      "1 light curves available for VHS J125601.92-125723.9 in TESS.\n",
      "-----------------------------------------\n"
     ]
    },
    {
     "name": "stderr",
     "output_type": "stream",
     "text": [
      "/home/ekaterina/Documents/000_envs/forallpurposes/lib/python3.6/site-packages/numpy/lib/nanfunctions.py:1113: RuntimeWarning: Mean of empty slice\n",
      "  return np.nanmean(a, axis, out=out, keepdims=keepdims)\n"
     ]
    },
    {
     "name": "stdout",
     "output_type": "stream",
     "text": [
      "0.005790000000160944 2.8509909999997944 1.1393870000001698 1.120086999999785 1.1324130000002697 1.1200749999998152 7.368742999999995\n",
      "(15742,)\n",
      "32.0%, [104/325]\n",
      "272     3\n",
      "273     4\n",
      "274    30\n",
      "275    31\n",
      "Name: qcs, dtype: int64\n",
      "3031    HJD-UTC\n",
      "Name: pl_tranmid_systemref, dtype: object\n"
     ]
    },
    {
     "name": "stderr",
     "output_type": "stream",
     "text": [
      "Warning: 31% (6168/19692) of the cadences will be ignored due to the quality mask (quality_bitmask=175).\n",
      "Warning: 31% (6168/19692) of the cadences will be ignored due to the quality mask (quality_bitmask=175).\n",
      "/home/ekaterina/Documents/000_envs/forallpurposes/lib/python3.6/site-packages/altaipony/lcio.py:114: ResourceWarning: unclosed file <_io.FileIO name='/home/ekaterina/Documents/001_science/lcs/mastDownload/TESS/tess2018263035959-s0003-0000000159951311-0123-s/tess2018263035959-s0003-0000000159951311-0123-s_lc.fits' mode='rb' closefd=True>\n",
      "  c)\n",
      "/home/ekaterina/Documents/001_science/Flaring_SPI/notebooks/funcs/transitmask.py:72: SettingWithCopyWarning: \n",
      "A value is trying to be set on a copy of a slice from a DataFrame.\n",
      "Try using .loc[row_indexer,col_indexer] = value instead\n",
      "\n",
      "See the caveats in the documentation: https://pandas.pydata.org/pandas-docs/stable/user_guide/indexing.html#returning-a-view-versus-a-copy\n",
      "  system[\"durhalf\"] = system[\"pl_trandur\"] / 48. # convert to days and cut in half\n",
      "/home/ekaterina/Documents/000_envs/forallpurposes/lib/python3.6/site-packages/numpy/lib/nanfunctions.py:1113: RuntimeWarning: Mean of empty slice\n",
      "  return np.nanmean(a, axis, out=out, keepdims=keepdims)\n"
     ]
    },
    {
     "name": "stdout",
     "output_type": "stream",
     "text": [
      "-----------------------------------------\n",
      "1 light curves available for WASP-139 in TESS.\n",
      "-----------------------------------------\n",
      "0.004696999999850959 0.922226000000137 0.22980099999995218 0.23336999999992258 0.22213400000009642 0.1712929999998778 1.783520999999837\n",
      "(13123,)\n",
      "32.3%, [105/325]\n",
      "3031    HJD-UTC\n",
      "Name: pl_tranmid_systemref, dtype: object\n"
     ]
    },
    {
     "name": "stderr",
     "output_type": "stream",
     "text": [
      "5% (920/18684) of the cadences will be ignored due to the quality mask (quality_bitmask=175).\n",
      "5% (920/18684) of the cadences will be ignored due to the quality mask (quality_bitmask=175).\n",
      "/home/ekaterina/Documents/000_envs/forallpurposes/lib/python3.6/site-packages/altaipony/lcio.py:114: ResourceWarning: unclosed file <_io.FileIO name='/home/ekaterina/Documents/001_science/lcs/mastDownload/TESS/tess2018292075959-s0004-0000000159951311-0124-s/tess2018292075959-s0004-0000000159951311-0124-s_lc.fits' mode='rb' closefd=True>\n",
      "  c)\n",
      "/home/ekaterina/Documents/001_science/Flaring_SPI/notebooks/funcs/transitmask.py:72: SettingWithCopyWarning: \n",
      "A value is trying to be set on a copy of a slice from a DataFrame.\n",
      "Try using .loc[row_indexer,col_indexer] = value instead\n",
      "\n",
      "See the caveats in the documentation: https://pandas.pydata.org/pandas-docs/stable/user_guide/indexing.html#returning-a-view-versus-a-copy\n",
      "  system[\"durhalf\"] = system[\"pl_trandur\"] / 48. # convert to days and cut in half\n",
      "/home/ekaterina/Documents/000_envs/forallpurposes/lib/python3.6/site-packages/numpy/lib/nanfunctions.py:1113: RuntimeWarning: Mean of empty slice\n",
      "  return np.nanmean(a, axis, out=out, keepdims=keepdims)\n"
     ]
    },
    {
     "name": "stdout",
     "output_type": "stream",
     "text": [
      "-----------------------------------------\n",
      "1 light curves available for WASP-139 in TESS.\n",
      "-----------------------------------------\n",
      "0.004758999999921798 1.2944310000002588 0.2391899999997804 0.23867199999995137 0.22028499999987616 0.24096899999995003 2.2383059999997386\n",
      "(15387,)\n",
      "32.6%, [106/325]\n",
      "3031    HJD-UTC\n",
      "Name: pl_tranmid_systemref, dtype: object\n"
     ]
    },
    {
     "name": "stderr",
     "output_type": "stream",
     "text": [
      "5% (5794/118125) of the cadences will be ignored due to the quality mask (quality_bitmask=175).\n",
      "5% (5794/118125) of the cadences will be ignored due to the quality mask (quality_bitmask=175).\n",
      "6% (1120/19687) of the cadences will be ignored due to the quality mask (quality_bitmask=175).\n",
      "6% (1120/19687) of the cadences will be ignored due to the quality mask (quality_bitmask=175).\n",
      "/home/ekaterina/Documents/000_envs/forallpurposes/lib/python3.6/site-packages/altaipony/lcio.py:114: ResourceWarning: unclosed file <_io.FileIO name='/home/ekaterina/Documents/001_science/lcs/mastDownload/TESS/tess2020266004630-s0030-0000000159951311-0195-s/tess2020266004630-s0030-0000000159951311-0195-s_lc.fits' mode='rb' closefd=True>\n",
      "  c)\n",
      "/home/ekaterina/Documents/000_envs/forallpurposes/lib/python3.6/site-packages/altaipony/lcio.py:114: ResourceWarning: unclosed file <_io.FileIO name='/home/ekaterina/Documents/001_science/lcs/mastDownload/TESS/tess2020266004630-s0030-0000000159951311-0195-a_fast/tess2020266004630-s0030-0000000159951311-0195-a_fast-lc.fits' mode='rb' closefd=True>\n",
      "  c)\n",
      "/home/ekaterina/Documents/001_science/Flaring_SPI/notebooks/funcs/transitmask.py:72: SettingWithCopyWarning: \n",
      "A value is trying to be set on a copy of a slice from a DataFrame.\n",
      "Try using .loc[row_indexer,col_indexer] = value instead\n",
      "\n",
      "See the caveats in the documentation: https://pandas.pydata.org/pandas-docs/stable/user_guide/indexing.html#returning-a-view-versus-a-copy\n",
      "  system[\"durhalf\"] = system[\"pl_trandur\"] / 48. # convert to days and cut in half\n",
      "/home/ekaterina/Documents/000_envs/forallpurposes/lib/python3.6/site-packages/numpy/lib/nanfunctions.py:1113: RuntimeWarning: Mean of empty slice\n",
      "  return np.nanmean(a, axis, out=out, keepdims=keepdims)\n"
     ]
    },
    {
     "name": "stdout",
     "output_type": "stream",
     "text": [
      "-----------------------------------------\n",
      "2 light curves available for WASP-139 in TESS.\n",
      "-----------------------------------------\n",
      "0.02125000000023647 36.49943799999983 2.4007430000001477 2.361642999999731 2.174413000000186 1.6749039999999695 45.1323910000001\n",
      "(99412,)\n",
      "32.9%, [107/325]\n",
      "3031    HJD-UTC\n",
      "Name: pl_tranmid_systemref, dtype: object\n"
     ]
    },
    {
     "name": "stderr",
     "output_type": "stream",
     "text": [
      "6% (6230/109893) of the cadences will be ignored due to the quality mask (quality_bitmask=175).\n",
      "6% (6230/109893) of the cadences will be ignored due to the quality mask (quality_bitmask=175).\n",
      "6% (1060/18314) of the cadences will be ignored due to the quality mask (quality_bitmask=175).\n",
      "6% (1060/18314) of the cadences will be ignored due to the quality mask (quality_bitmask=175).\n",
      "/home/ekaterina/Documents/000_envs/forallpurposes/lib/python3.6/site-packages/altaipony/lcio.py:114: ResourceWarning: unclosed file <_io.FileIO name='/home/ekaterina/Documents/001_science/lcs/mastDownload/TESS/tess2020294194027-s0031-0000000159951311-0198-s/tess2020294194027-s0031-0000000159951311-0198-s_lc.fits' mode='rb' closefd=True>\n",
      "  c)\n",
      "/home/ekaterina/Documents/000_envs/forallpurposes/lib/python3.6/site-packages/altaipony/lcio.py:114: ResourceWarning: unclosed file <_io.FileIO name='/home/ekaterina/Documents/001_science/lcs/mastDownload/TESS/tess2020294194027-s0031-0000000159951311-0198-a_fast/tess2020294194027-s0031-0000000159951311-0198-a_fast-lc.fits' mode='rb' closefd=True>\n",
      "  c)\n",
      "/home/ekaterina/Documents/001_science/Flaring_SPI/notebooks/funcs/transitmask.py:72: SettingWithCopyWarning: \n",
      "A value is trying to be set on a copy of a slice from a DataFrame.\n",
      "Try using .loc[row_indexer,col_indexer] = value instead\n",
      "\n",
      "See the caveats in the documentation: https://pandas.pydata.org/pandas-docs/stable/user_guide/indexing.html#returning-a-view-versus-a-copy\n",
      "  system[\"durhalf\"] = system[\"pl_trandur\"] / 48. # convert to days and cut in half\n",
      "/home/ekaterina/Documents/000_envs/forallpurposes/lib/python3.6/site-packages/numpy/lib/nanfunctions.py:1113: RuntimeWarning: Mean of empty slice\n",
      "  return np.nanmean(a, axis, out=out, keepdims=keepdims)\n"
     ]
    },
    {
     "name": "stdout",
     "output_type": "stream",
     "text": [
      "-----------------------------------------\n",
      "2 light curves available for WASP-139 in TESS.\n",
      "-----------------------------------------\n",
      "0.02126399999997375 35.958476000000246 3.59150499999987 3.5452470000000176 3.467153000000053 2.8061800000000403 49.3898250000002\n",
      "(98420,)\n",
      "33.2%, [108/325]\n",
      "166    27\n",
      "Name: qcs, dtype: int64\n",
      "3151    HJD-TDB\n",
      "Name: pl_tranmid_systemref, dtype: object\n"
     ]
    },
    {
     "name": "stderr",
     "output_type": "stream",
     "text": [
      "4% (4549/105285) of the cadences will be ignored due to the quality mask (quality_bitmask=175).\n",
      "4% (4549/105285) of the cadences will be ignored due to the quality mask (quality_bitmask=175).\n",
      "4% (765/17546) of the cadences will be ignored due to the quality mask (quality_bitmask=175).\n",
      "4% (765/17546) of the cadences will be ignored due to the quality mask (quality_bitmask=175).\n",
      "/home/ekaterina/Documents/000_envs/forallpurposes/lib/python3.6/site-packages/altaipony/lcio.py:114: ResourceWarning: unclosed file <_io.FileIO name='/home/ekaterina/Documents/001_science/lcs/mastDownload/TESS/tess2020186164531-s0027-0000000100566492-0189-s/tess2020186164531-s0027-0000000100566492-0189-s_lc.fits' mode='rb' closefd=True>\n",
      "  c)\n",
      "/home/ekaterina/Documents/000_envs/forallpurposes/lib/python3.6/site-packages/altaipony/lcio.py:114: ResourceWarning: unclosed file <_io.FileIO name='/home/ekaterina/Documents/001_science/lcs/mastDownload/TESS/tess2020186164531-s0027-0000000100566492-0189-a_fast/tess2020186164531-s0027-0000000100566492-0189-a_fast-lc.fits' mode='rb' closefd=True>\n",
      "  c)\n",
      "/home/ekaterina/Documents/001_science/Flaring_SPI/notebooks/funcs/transitmask.py:72: SettingWithCopyWarning: \n",
      "A value is trying to be set on a copy of a slice from a DataFrame.\n",
      "Try using .loc[row_indexer,col_indexer] = value instead\n",
      "\n",
      "See the caveats in the documentation: https://pandas.pydata.org/pandas-docs/stable/user_guide/indexing.html#returning-a-view-versus-a-copy\n",
      "  system[\"durhalf\"] = system[\"pl_trandur\"] / 48. # convert to days and cut in half\n"
     ]
    },
    {
     "name": "stdout",
     "output_type": "stream",
     "text": [
      "-----------------------------------------\n",
      "2 light curves available for WASP-88 in TESS.\n",
      "-----------------------------------------\n"
     ]
    },
    {
     "name": "stderr",
     "output_type": "stream",
     "text": [
      "/home/ekaterina/Documents/000_envs/forallpurposes/lib/python3.6/site-packages/numpy/lib/nanfunctions.py:1113: RuntimeWarning: Mean of empty slice\n",
      "  return np.nanmean(a, axis, out=out, keepdims=keepdims)\n"
     ]
    },
    {
     "name": "stdout",
     "output_type": "stream",
     "text": [
      "0.017356999999719847 35.23868500000026 4.117197000000033 4.03881999999976 3.9715180000002874 4.007521999999881 51.39109899999994\n",
      "(94594,)\n",
      "33.5%, [109/325]\n",
      "2271    12\n",
      "2272    13\n",
      "2273    14\n",
      "2274    15\n",
      "2275    16\n",
      "2276    17\n",
      "Name: qcs, dtype: int64\n"
     ]
    },
    {
     "name": "stderr",
     "output_type": "stream",
     "text": [
      "/home/ekaterina/Documents/000_envs/forallpurposes/lib/python3.6/site-packages/ipykernel_launcher.py:24: SettingWithCopyWarning: \n",
      "A value is trying to be set on a copy of a slice from a DataFrame.\n",
      "Try using .loc[row_indexer,col_indexer] = value instead\n",
      "\n",
      "See the caveats in the documentation: https://pandas.pydata.org/pandas-docs/stable/user_guide/indexing.html#returning-a-view-versus-a-copy\n",
      "13% (4872/38910) of the cadences will be ignored due to the quality mask (quality_bitmask=1130799).\n",
      "13% (4872/38910) of the cadences will be ignored due to the quality mask (quality_bitmask=1130799).\n",
      "1% (216/40200) of the cadences will be ignored due to the quality mask (quality_bitmask=1130799).\n",
      "1% (216/40200) of the cadences will be ignored due to the quality mask (quality_bitmask=1130799).\n",
      "17% (6893/39840) of the cadences will be ignored due to the quality mask (quality_bitmask=1130799).\n",
      "17% (6893/39840) of the cadences will be ignored due to the quality mask (quality_bitmask=1130799).\n",
      "/home/ekaterina/Documents/000_envs/forallpurposes/lib/python3.6/site-packages/altaipony/lcio.py:102: ResourceWarning: unclosed file <_io.FileIO name='/home/ekaterina/Documents/001_science/lcs/mastDownload/Kepler/kplr011774991_sc_Q000000000000323322/kplr011774991-2012088054726_slc.fits' mode='rb' closefd=True>\n",
      "  c)\n",
      "/home/ekaterina/Documents/000_envs/forallpurposes/lib/python3.6/site-packages/altaipony/lcio.py:102: ResourceWarning: unclosed file <_io.FileIO name='/home/ekaterina/Documents/001_science/lcs/mastDownload/Kepler/kplr011774991_sc_Q000000000000323322/kplr011774991-2012060035710_slc.fits' mode='rb' closefd=True>\n",
      "  c)\n",
      "/home/ekaterina/Documents/000_envs/forallpurposes/lib/python3.6/site-packages/altaipony/lcio.py:102: ResourceWarning: unclosed file <_io.FileIO name='/home/ekaterina/Documents/001_science/lcs/mastDownload/Kepler/kplr011774991_sc_Q000000000000323322/kplr011774991-2012032013838_slc.fits' mode='rb' closefd=True>\n",
      "  c)\n"
     ]
    },
    {
     "name": "stdout",
     "output_type": "stream",
     "text": [
      "-----------------------------------------\n",
      "3 light curves available for Kepler-367 in Kepler.\n",
      "-----------------------------------------\n"
     ]
    },
    {
     "name": "stderr",
     "output_type": "stream",
     "text": [
      "/home/ekaterina/Documents/000_envs/forallpurposes/lib/python3.6/site-packages/numpy/lib/nanfunctions.py:1113: RuntimeWarning: Mean of empty slice\n",
      "  return np.nanmean(a, axis, out=out, keepdims=keepdims)\n"
     ]
    },
    {
     "name": "stdout",
     "output_type": "stream",
     "text": [
      "0.007915000000139116 10.518808999999692 0.9420480000003408 0.937876999999844 0.9052419999998165 0.7113979999999174 14.02328899999975\n",
      "(33754,)\n",
      "0.008117999999740277 16.318215000000237 2.9700659999998607 2.9764500000001135 2.904652000000169 0.8827699999997094 26.06027099999983\n",
      "(39983,)\n",
      "0.006877999999687745 12.270294000000376 2.2616699999998673 1.9625510000000759 2.034283999999843 1.919003999999859 20.45468099999971\n",
      "(32946,)\n",
      "33.8%, [110/325]\n"
     ]
    },
    {
     "name": "stderr",
     "output_type": "stream",
     "text": [
      "/home/ekaterina/Documents/000_envs/forallpurposes/lib/python3.6/site-packages/ipykernel_launcher.py:24: SettingWithCopyWarning: \n",
      "A value is trying to be set on a copy of a slice from a DataFrame.\n",
      "Try using .loc[row_indexer,col_indexer] = value instead\n",
      "\n",
      "See the caveats in the documentation: https://pandas.pydata.org/pandas-docs/stable/user_guide/indexing.html#returning-a-view-versus-a-copy\n",
      "1% (563/47370) of the cadences will be ignored due to the quality mask (quality_bitmask=1130799).\n",
      "1% (563/47370) of the cadences will be ignored due to the quality mask (quality_bitmask=1130799).\n",
      "1% (448/42930) of the cadences will be ignored due to the quality mask (quality_bitmask=1130799).\n",
      "1% (448/42930) of the cadences will be ignored due to the quality mask (quality_bitmask=1130799).\n",
      "/home/ekaterina/Documents/000_envs/forallpurposes/lib/python3.6/site-packages/altaipony/lcio.py:102: ResourceWarning: unclosed file <_io.FileIO name='/home/ekaterina/Documents/001_science/lcs/mastDownload/Kepler/kplr011774991_sc_Q000000000000323322/kplr011774991-2012151031540_slc.fits' mode='rb' closefd=True>\n",
      "  c)\n",
      "/home/ekaterina/Documents/000_envs/forallpurposes/lib/python3.6/site-packages/altaipony/lcio.py:102: ResourceWarning: unclosed file <_io.FileIO name='/home/ekaterina/Documents/001_science/lcs/mastDownload/Kepler/kplr011774991_sc_Q000000000000323322/kplr011774991-2012121044856_slc.fits' mode='rb' closefd=True>\n",
      "  c)\n"
     ]
    },
    {
     "name": "stdout",
     "output_type": "stream",
     "text": [
      "-----------------------------------------\n",
      "2 light curves available for Kepler-367 in Kepler.\n",
      "-----------------------------------------\n"
     ]
    },
    {
     "name": "stderr",
     "output_type": "stream",
     "text": [
      "/home/ekaterina/Documents/000_envs/forallpurposes/lib/python3.6/site-packages/numpy/lib/nanfunctions.py:1113: RuntimeWarning: Mean of empty slice\n",
      "  return np.nanmean(a, axis, out=out, keepdims=keepdims)\n"
     ]
    },
    {
     "name": "stdout",
     "output_type": "stream",
     "text": [
      "0.011140999999952328 21.51562899999999 2.3226059999997233 2.320748000000094 2.4380049999999756 2.277106999999887 30.885235999999622\n",
      "(46566,)\n",
      "0.008186000000023341 20.33725800000002 2.9733839999998963 2.5477430000000822 2.670716999999968 0.697845000000143 29.235133000000133\n",
      "(42006,)\n",
      "34.2%, [111/325]\n"
     ]
    },
    {
     "name": "stderr",
     "output_type": "stream",
     "text": [
      "/home/ekaterina/Documents/000_envs/forallpurposes/lib/python3.6/site-packages/ipykernel_launcher.py:24: SettingWithCopyWarning: \n",
      "A value is trying to be set on a copy of a slice from a DataFrame.\n",
      "Try using .loc[row_indexer,col_indexer] = value instead\n",
      "\n",
      "See the caveats in the documentation: https://pandas.pydata.org/pandas-docs/stable/user_guide/indexing.html#returning-a-view-versus-a-copy\n",
      "19% (8480/45330) of the cadences will be ignored due to the quality mask (quality_bitmask=1130799).\n",
      "19% (8480/45330) of the cadences will be ignored due to the quality mask (quality_bitmask=1130799).\n",
      "0% (106/44280) of the cadences will be ignored due to the quality mask (quality_bitmask=1130799).\n",
      "0% (106/44280) of the cadences will be ignored due to the quality mask (quality_bitmask=1130799).\n",
      "0% (161/50160) of the cadences will be ignored due to the quality mask (quality_bitmask=1130799).\n",
      "0% (161/50160) of the cadences will be ignored due to the quality mask (quality_bitmask=1130799).\n",
      "/home/ekaterina/Documents/000_envs/forallpurposes/lib/python3.6/site-packages/altaipony/lcio.py:102: ResourceWarning: unclosed file <_io.FileIO name='/home/ekaterina/Documents/001_science/lcs/mastDownload/Kepler/kplr011774991_sc_Q000000000000323322/kplr011774991-2012277125453_slc.fits' mode='rb' closefd=True>\n",
      "  c)\n",
      "/home/ekaterina/Documents/000_envs/forallpurposes/lib/python3.6/site-packages/altaipony/lcio.py:102: ResourceWarning: unclosed file <_io.FileIO name='/home/ekaterina/Documents/001_science/lcs/mastDownload/Kepler/kplr011774991_sc_Q000000000000323322/kplr011774991-2012242122129_slc.fits' mode='rb' closefd=True>\n",
      "  c)\n",
      "/home/ekaterina/Documents/000_envs/forallpurposes/lib/python3.6/site-packages/altaipony/lcio.py:102: ResourceWarning: unclosed file <_io.FileIO name='/home/ekaterina/Documents/001_science/lcs/mastDownload/Kepler/kplr011774991_sc_Q000000000000323322/kplr011774991-2012211050319_slc.fits' mode='rb' closefd=True>\n",
      "  c)\n",
      "/home/ekaterina/Documents/000_envs/forallpurposes/lib/python3.6/site-packages/numpy/lib/nanfunctions.py:1113: RuntimeWarning: Mean of empty slice\n",
      "  return np.nanmean(a, axis, out=out, keepdims=keepdims)\n"
     ]
    },
    {
     "name": "stdout",
     "output_type": "stream",
     "text": [
      "-----------------------------------------\n",
      "3 light curves available for Kepler-367 in Kepler.\n",
      "-----------------------------------------\n",
      "0.00804100000004837 17.256623000000218 1.957365999999638 1.7820550000001276 1.7422740000001795 1.6499409999996715 24.396299999999883\n",
      "(34530,)\n",
      "0.008663000000069587 19.8805269999998 2.69428999999991 2.649569000000156 2.6065349999998944 3.16647200000034 31.00605600000017\n",
      "(43866,)\n",
      "0.009583999999904336 23.564574999999877 3.6410570000002735 3.5578929999996944 3.45770500000026 3.625456999999642 37.85627099999965\n",
      "(49688,)\n",
      "34.5%, [112/325]\n"
     ]
    },
    {
     "name": "stderr",
     "output_type": "stream",
     "text": [
      "/home/ekaterina/Documents/000_envs/forallpurposes/lib/python3.6/site-packages/ipykernel_launcher.py:24: SettingWithCopyWarning: \n",
      "A value is trying to be set on a copy of a slice from a DataFrame.\n",
      "Try using .loc[row_indexer,col_indexer] = value instead\n",
      "\n",
      "See the caveats in the documentation: https://pandas.pydata.org/pandas-docs/stable/user_guide/indexing.html#returning-a-view-versus-a-copy\n",
      "1% (334/45270) of the cadences will be ignored due to the quality mask (quality_bitmask=1130799).\n",
      "1% (334/45270) of the cadences will be ignored due to the quality mask (quality_bitmask=1130799).\n",
      "14% (6276/44220) of the cadences will be ignored due to the quality mask (quality_bitmask=1130799).\n",
      "14% (6276/44220) of the cadences will be ignored due to the quality mask (quality_bitmask=1130799).\n",
      "0% (198/51270) of the cadences will be ignored due to the quality mask (quality_bitmask=1130799).\n",
      "0% (198/51270) of the cadences will be ignored due to the quality mask (quality_bitmask=1130799).\n",
      "/home/ekaterina/Documents/000_envs/forallpurposes/lib/python3.6/site-packages/altaipony/lcio.py:102: ResourceWarning: unclosed file <_io.FileIO name='/home/ekaterina/Documents/001_science/lcs/mastDownload/Kepler/kplr011774991_sc_Q000000000000323322/kplr011774991-2013011073258_slc.fits' mode='rb' closefd=True>\n",
      "  c)\n",
      "/home/ekaterina/Documents/000_envs/forallpurposes/lib/python3.6/site-packages/altaipony/lcio.py:102: ResourceWarning: unclosed file <_io.FileIO name='/home/ekaterina/Documents/001_science/lcs/mastDownload/Kepler/kplr011774991_sc_Q000000000000323322/kplr011774991-2012341132017_slc.fits' mode='rb' closefd=True>\n",
      "  c)\n",
      "/home/ekaterina/Documents/000_envs/forallpurposes/lib/python3.6/site-packages/altaipony/lcio.py:102: ResourceWarning: unclosed file <_io.FileIO name='/home/ekaterina/Documents/001_science/lcs/mastDownload/Kepler/kplr011774991_sc_Q000000000000323322/kplr011774991-2012310112549_slc.fits' mode='rb' closefd=True>\n",
      "  c)\n"
     ]
    },
    {
     "name": "stdout",
     "output_type": "stream",
     "text": [
      "-----------------------------------------\n",
      "3 light curves available for Kepler-367 in Kepler.\n",
      "-----------------------------------------\n"
     ]
    },
    {
     "name": "stderr",
     "output_type": "stream",
     "text": [
      "/home/ekaterina/Documents/000_envs/forallpurposes/lib/python3.6/site-packages/numpy/lib/nanfunctions.py:1113: RuntimeWarning: Mean of empty slice\n",
      "  return np.nanmean(a, axis, out=out, keepdims=keepdims)\n"
     ]
    },
    {
     "name": "stdout",
     "output_type": "stream",
     "text": [
      "0.012704000000212545 22.992363999999725 3.26361100000031 3.1875019999997676 3.1461420000000544 3.2391099999999824 35.84143300000005\n",
      "(44591,)\n",
      "0.007281000000148197 20.03253799999993 1.7159160000001066 1.3717560000000049 1.414712999999665 1.1787160000003496 25.720920000000206\n",
      "(35372,)\n",
      "0.00966999999991458 17.567879000000175 3.3418879999999263 3.2415430000000924 3.1170389999997496 3.131945000000087 30.409963999999945\n",
      "(50800,)\n",
      "34.8%, [113/325]\n"
     ]
    },
    {
     "name": "stderr",
     "output_type": "stream",
     "text": [
      "/home/ekaterina/Documents/000_envs/forallpurposes/lib/python3.6/site-packages/ipykernel_launcher.py:24: SettingWithCopyWarning: \n",
      "A value is trying to be set on a copy of a slice from a DataFrame.\n",
      "Try using .loc[row_indexer,col_indexer] = value instead\n",
      "\n",
      "See the caveats in the documentation: https://pandas.pydata.org/pandas-docs/stable/user_guide/indexing.html#returning-a-view-versus-a-copy\n",
      "1% (545/53310) of the cadences will be ignored due to the quality mask (quality_bitmask=1130799).\n",
      "1% (545/53310) of the cadences will be ignored due to the quality mask (quality_bitmask=1130799).\n",
      "1% (274/46770) of the cadences will be ignored due to the quality mask (quality_bitmask=1130799).\n",
      "1% (274/46770) of the cadences will be ignored due to the quality mask (quality_bitmask=1130799).\n",
      "/home/ekaterina/Documents/000_envs/forallpurposes/lib/python3.6/site-packages/altaipony/lcio.py:102: ResourceWarning: unclosed file <_io.FileIO name='/home/ekaterina/Documents/001_science/lcs/mastDownload/Kepler/kplr011774991_sc_Q000000000000323322/kplr011774991-2013098041711_slc.fits' mode='rb' closefd=True>\n",
      "  c)\n",
      "/home/ekaterina/Documents/000_envs/forallpurposes/lib/python3.6/site-packages/altaipony/lcio.py:102: ResourceWarning: unclosed file <_io.FileIO name='/home/ekaterina/Documents/001_science/lcs/mastDownload/Kepler/kplr011774991_sc_Q000000000000323322/kplr011774991-2013065031647_slc.fits' mode='rb' closefd=True>\n",
      "  c)\n"
     ]
    },
    {
     "name": "stdout",
     "output_type": "stream",
     "text": [
      "-----------------------------------------\n",
      "2 light curves available for Kepler-367 in Kepler.\n",
      "-----------------------------------------\n"
     ]
    },
    {
     "name": "stderr",
     "output_type": "stream",
     "text": [
      "/home/ekaterina/Documents/000_envs/forallpurposes/lib/python3.6/site-packages/numpy/lib/nanfunctions.py:1113: RuntimeWarning: Mean of empty slice\n",
      "  return np.nanmean(a, axis, out=out, keepdims=keepdims)\n"
     ]
    },
    {
     "name": "stdout",
     "output_type": "stream",
     "text": [
      "0.011937000000216358 20.864223999999922 2.123540000000048 2.1702540000001136 2.3739230000001044 2.1463569999996253 29.69023500000003\n",
      "(52467,)\n",
      "0.008769999999913125 23.442355000000134 2.1107700000002296 2.00105799999983 3.4963229999998475 3.5852970000000823 34.64457300000004\n",
      "(46179,)\n",
      "35.1%, [114/325]\n"
     ]
    },
    {
     "name": "stderr",
     "output_type": "stream",
     "text": [
      "/home/ekaterina/Documents/000_envs/forallpurposes/lib/python3.6/site-packages/ipykernel_launcher.py:24: SettingWithCopyWarning: \n",
      "A value is trying to be set on a copy of a slice from a DataFrame.\n",
      "Try using .loc[row_indexer,col_indexer] = value instead\n",
      "\n",
      "See the caveats in the documentation: https://pandas.pydata.org/pandas-docs/stable/user_guide/indexing.html#returning-a-view-versus-a-copy\n",
      "1% (248/32850) of the cadences will be ignored due to the quality mask (quality_bitmask=1130799).\n",
      "1% (248/32850) of the cadences will be ignored due to the quality mask (quality_bitmask=1130799).\n",
      "0% (28/6180) of the cadences will be ignored due to the quality mask (quality_bitmask=1130799).\n",
      "0% (28/6180) of the cadences will be ignored due to the quality mask (quality_bitmask=1130799).\n",
      "/home/ekaterina/Documents/000_envs/forallpurposes/lib/python3.6/site-packages/altaipony/lcio.py:102: ResourceWarning: unclosed file <_io.FileIO name='/home/ekaterina/Documents/001_science/lcs/mastDownload/Kepler/kplr011774991_sc_Q000000000000323322/kplr011774991-2013131215648_slc.fits' mode='rb' closefd=True>\n",
      "  c)\n",
      "/home/ekaterina/Documents/000_envs/forallpurposes/lib/python3.6/site-packages/altaipony/lcio.py:102: ResourceWarning: unclosed file <_io.FileIO name='/home/ekaterina/Documents/001_science/lcs/mastDownload/Kepler/kplr011774991_sc_Q000000000000323322/kplr011774991-2013121191144_slc.fits' mode='rb' closefd=True>\n",
      "  c)\n",
      "/home/ekaterina/Documents/000_envs/forallpurposes/lib/python3.6/site-packages/numpy/lib/nanfunctions.py:1113: RuntimeWarning: Mean of empty slice\n",
      "  return np.nanmean(a, axis, out=out, keepdims=keepdims)\n"
     ]
    },
    {
     "name": "stdout",
     "output_type": "stream",
     "text": [
      "-----------------------------------------\n",
      "2 light curves available for Kepler-367 in Kepler.\n",
      "-----------------------------------------\n",
      "0.008071000000200002 10.866281000000072 1.9212109999998574 1.8825090000000273 1.904700000000048 1.8947839999996177 18.477555999999822\n",
      "(32317,)\n",
      "35.4%, [115/325]\n",
      "3096     7\n",
      "3097     8\n",
      "3098     9\n",
      "3099    10\n",
      "3100    11\n",
      "3101    12\n",
      "3102    13\n",
      "3103    14\n",
      "3104    15\n",
      "3105    16\n",
      "3106    17\n",
      "Name: qcs, dtype: int64\n"
     ]
    },
    {
     "name": "stderr",
     "output_type": "stream",
     "text": [
      "/home/ekaterina/Documents/000_envs/forallpurposes/lib/python3.6/site-packages/ipykernel_launcher.py:24: SettingWithCopyWarning: \n",
      "A value is trying to be set on a copy of a slice from a DataFrame.\n",
      "Try using .loc[row_indexer,col_indexer] = value instead\n",
      "\n",
      "See the caveats in the documentation: https://pandas.pydata.org/pandas-docs/stable/user_guide/indexing.html#returning-a-view-versus-a-copy\n",
      "0% (154/44220) of the cadences will be ignored due to the quality mask (quality_bitmask=1130799).\n",
      "0% (154/44220) of the cadences will be ignored due to the quality mask (quality_bitmask=1130799).\n",
      "0% (170/42870) of the cadences will be ignored due to the quality mask (quality_bitmask=1130799).\n",
      "0% (170/42870) of the cadences will be ignored due to the quality mask (quality_bitmask=1130799).\n",
      "2% (959/41760) of the cadences will be ignored due to the quality mask (quality_bitmask=1130799).\n",
      "2% (959/41760) of the cadences will be ignored due to the quality mask (quality_bitmask=1130799).\n",
      "/home/ekaterina/Documents/000_envs/forallpurposes/lib/python3.6/site-packages/altaipony/lcio.py:102: ResourceWarning: unclosed file <_io.FileIO name='/home/ekaterina/Documents/001_science/lcs/mastDownload/Kepler/kplr008150320_sc_Q000000033333333332/kplr008150320-2010355172524_slc.fits' mode='rb' closefd=True>\n",
      "  c)\n",
      "/home/ekaterina/Documents/000_envs/forallpurposes/lib/python3.6/site-packages/altaipony/lcio.py:102: ResourceWarning: unclosed file <_io.FileIO name='/home/ekaterina/Documents/001_science/lcs/mastDownload/Kepler/kplr008150320_sc_Q000000033333333332/kplr008150320-2010326094124_slc.fits' mode='rb' closefd=True>\n",
      "  c)\n",
      "/home/ekaterina/Documents/000_envs/forallpurposes/lib/python3.6/site-packages/altaipony/lcio.py:102: ResourceWarning: unclosed file <_io.FileIO name='/home/ekaterina/Documents/001_science/lcs/mastDownload/Kepler/kplr008150320_sc_Q000000033333333332/kplr008150320-2010296114515_slc.fits' mode='rb' closefd=True>\n",
      "  c)\n"
     ]
    },
    {
     "name": "stdout",
     "output_type": "stream",
     "text": [
      "-----------------------------------------\n",
      "3 light curves available for Kepler-55 in Kepler.\n",
      "-----------------------------------------\n"
     ]
    },
    {
     "name": "stderr",
     "output_type": "stream",
     "text": [
      "/home/ekaterina/Documents/000_envs/forallpurposes/lib/python3.6/site-packages/numpy/lib/nanfunctions.py:1113: RuntimeWarning: Mean of empty slice\n",
      "  return np.nanmean(a, axis, out=out, keepdims=keepdims)\n"
     ]
    },
    {
     "name": "stdout",
     "output_type": "stream",
     "text": [
      "0.010544000000209053 13.550910999999815 0.901346999999987 0.8988070000000334 0.881633999999849 0.910392000000229 17.153635000000122\n",
      "(43821,)\n",
      "0.008470999999644846 16.99773200000027 1.5403739999997015 1.0668940000000475 1.4894090000002507 1.5320259999998598 22.634905999999773\n",
      "(42487,)\n",
      "0.007869000000027881 17.04955199999995 2.647743999999875 2.2067180000003646 2.176890999999614 2.1376560000003337 26.226430000000164\n",
      "(40558,)\n",
      "35.7%, [116/325]\n"
     ]
    },
    {
     "name": "stderr",
     "output_type": "stream",
     "text": [
      "/home/ekaterina/Documents/000_envs/forallpurposes/lib/python3.6/site-packages/ipykernel_launcher.py:24: SettingWithCopyWarning: \n",
      "A value is trying to be set on a copy of a slice from a DataFrame.\n",
      "Try using .loc[row_indexer,col_indexer] = value instead\n",
      "\n",
      "See the caveats in the documentation: https://pandas.pydata.org/pandas-docs/stable/user_guide/indexing.html#returning-a-view-versus-a-copy\n",
      "0% (84/25980) of the cadences will be ignored due to the quality mask (quality_bitmask=1130799).\n",
      "0% (84/25980) of the cadences will be ignored due to the quality mask (quality_bitmask=1130799).\n",
      "10% (4072/42720) of the cadences will be ignored due to the quality mask (quality_bitmask=1130799).\n",
      "10% (4072/42720) of the cadences will be ignored due to the quality mask (quality_bitmask=1130799).\n",
      "0% (98/29490) of the cadences will be ignored due to the quality mask (quality_bitmask=1130799).\n",
      "0% (98/29490) of the cadences will be ignored due to the quality mask (quality_bitmask=1130799).\n",
      "/home/ekaterina/Documents/000_envs/forallpurposes/lib/python3.6/site-packages/altaipony/lcio.py:102: ResourceWarning: unclosed file <_io.FileIO name='/home/ekaterina/Documents/001_science/lcs/mastDownload/Kepler/kplr008150320_sc_Q000000033333333332/kplr008150320-2011073133259_slc.fits' mode='rb' closefd=True>\n",
      "  c)\n",
      "/home/ekaterina/Documents/000_envs/forallpurposes/lib/python3.6/site-packages/altaipony/lcio.py:102: ResourceWarning: unclosed file <_io.FileIO name='/home/ekaterina/Documents/001_science/lcs/mastDownload/Kepler/kplr008150320_sc_Q000000033333333332/kplr008150320-2011053090032_slc.fits' mode='rb' closefd=True>\n",
      "  c)\n",
      "/home/ekaterina/Documents/000_envs/forallpurposes/lib/python3.6/site-packages/altaipony/lcio.py:102: ResourceWarning: unclosed file <_io.FileIO name='/home/ekaterina/Documents/001_science/lcs/mastDownload/Kepler/kplr008150320_sc_Q000000033333333332/kplr008150320-2011024051157_slc.fits' mode='rb' closefd=True>\n",
      "  c)\n",
      "/home/ekaterina/Documents/000_envs/forallpurposes/lib/python3.6/site-packages/numpy/lib/nanfunctions.py:1113: RuntimeWarning: Mean of empty slice\n",
      "  return np.nanmean(a, axis, out=out, keepdims=keepdims)\n"
     ]
    },
    {
     "name": "stdout",
     "output_type": "stream",
     "text": [
      "-----------------------------------------\n",
      "3 light curves available for Kepler-55 in Kepler.\n",
      "-----------------------------------------\n",
      "0.006495000000086293 8.708009999999831 0.7066780000000108 0.5354689999999209 0.5459110000001601 0.367877000000135 10.870440000000144\n",
      "(25677,)\n",
      "0.007247999999890453 15.367577999999867 2.0523809999999685 2.0017280000001847 0.8021029999999882 0.5685359999997672 20.799573999999666\n",
      "(38432,)\n",
      "0.006478000000242901 16.2966449999999 2.493167000000085 2.0739439999997558 1.1341520000000855 2.0393890000000283 24.043775000000096\n",
      "(29174,)\n",
      "36.0%, [117/325]\n"
     ]
    },
    {
     "name": "stderr",
     "output_type": "stream",
     "text": [
      "/home/ekaterina/Documents/000_envs/forallpurposes/lib/python3.6/site-packages/ipykernel_launcher.py:24: SettingWithCopyWarning: \n",
      "A value is trying to be set on a copy of a slice from a DataFrame.\n",
      "Try using .loc[row_indexer,col_indexer] = value instead\n",
      "\n",
      "See the caveats in the documentation: https://pandas.pydata.org/pandas-docs/stable/user_guide/indexing.html#returning-a-view-versus-a-copy\n",
      "0% (144/53460) of the cadences will be ignored due to the quality mask (quality_bitmask=1130799).\n",
      "0% (144/53460) of the cadences will be ignored due to the quality mask (quality_bitmask=1130799).\n",
      "0% (138/41850) of the cadences will be ignored due to the quality mask (quality_bitmask=1130799).\n",
      "0% (138/41850) of the cadences will be ignored due to the quality mask (quality_bitmask=1130799).\n",
      "0% (150/45780) of the cadences will be ignored due to the quality mask (quality_bitmask=1130799).\n",
      "0% (150/45780) of the cadences will be ignored due to the quality mask (quality_bitmask=1130799).\n",
      "/home/ekaterina/Documents/000_envs/forallpurposes/lib/python3.6/site-packages/altaipony/lcio.py:102: ResourceWarning: unclosed file <_io.FileIO name='/home/ekaterina/Documents/001_science/lcs/mastDownload/Kepler/kplr008150320_sc_Q000000033333333332/kplr008150320-2011177032512_slc.fits' mode='rb' closefd=True>\n",
      "  c)\n",
      "/home/ekaterina/Documents/000_envs/forallpurposes/lib/python3.6/site-packages/altaipony/lcio.py:102: ResourceWarning: unclosed file <_io.FileIO name='/home/ekaterina/Documents/001_science/lcs/mastDownload/Kepler/kplr008150320_sc_Q000000033333333332/kplr008150320-2011145075126_slc.fits' mode='rb' closefd=True>\n",
      "  c)\n",
      "/home/ekaterina/Documents/000_envs/forallpurposes/lib/python3.6/site-packages/altaipony/lcio.py:102: ResourceWarning: unclosed file <_io.FileIO name='/home/ekaterina/Documents/001_science/lcs/mastDownload/Kepler/kplr008150320_sc_Q000000033333333332/kplr008150320-2011116030358_slc.fits' mode='rb' closefd=True>\n",
      "  c)\n"
     ]
    },
    {
     "name": "stdout",
     "output_type": "stream",
     "text": [
      "-----------------------------------------\n",
      "3 light curves available for Kepler-55 in Kepler.\n",
      "-----------------------------------------\n"
     ]
    },
    {
     "name": "stderr",
     "output_type": "stream",
     "text": [
      "/home/ekaterina/Documents/000_envs/forallpurposes/lib/python3.6/site-packages/numpy/lib/nanfunctions.py:1113: RuntimeWarning: Mean of empty slice\n",
      "  return np.nanmean(a, axis, out=out, keepdims=keepdims)\n"
     ]
    },
    {
     "name": "stdout",
     "output_type": "stream",
     "text": [
      "0.011465000000043801 19.70087199999989 2.774670000000242 2.755702999999812 2.8796259999999165 1.1801180000002205 29.302454000000125\n",
      "(53068,)\n",
      "0.008332999999765889 15.300447000000077 2.822361000000001 2.7581420000001344 0.6511669999999867 2.8136789999998655 24.35412899999983\n",
      "(41496,)\n",
      "0.008860999999797059 14.702450000000226 3.2294520000000375 3.197863999999754 3.083868000000166 3.0789300000001276 27.30142500000011\n",
      "(45182,)\n",
      "36.3%, [118/325]\n"
     ]
    },
    {
     "name": "stderr",
     "output_type": "stream",
     "text": [
      "/home/ekaterina/Documents/000_envs/forallpurposes/lib/python3.6/site-packages/ipykernel_launcher.py:24: SettingWithCopyWarning: \n",
      "A value is trying to be set on a copy of a slice from a DataFrame.\n",
      "Try using .loc[row_indexer,col_indexer] = value instead\n",
      "\n",
      "See the caveats in the documentation: https://pandas.pydata.org/pandas-docs/stable/user_guide/indexing.html#returning-a-view-versus-a-copy\n",
      "1% (242/44220) of the cadences will be ignored due to the quality mask (quality_bitmask=1130799).\n",
      "1% (242/44220) of the cadences will be ignored due to the quality mask (quality_bitmask=1130799).\n",
      "3% (1158/46170) of the cadences will be ignored due to the quality mask (quality_bitmask=1130799).\n",
      "3% (1158/46170) of the cadences will be ignored due to the quality mask (quality_bitmask=1130799).\n",
      "1% (241/44340) of the cadences will be ignored due to the quality mask (quality_bitmask=1130799).\n",
      "1% (241/44340) of the cadences will be ignored due to the quality mask (quality_bitmask=1130799).\n",
      "/home/ekaterina/Documents/000_envs/forallpurposes/lib/python3.6/site-packages/altaipony/lcio.py:102: ResourceWarning: unclosed file <_io.FileIO name='/home/ekaterina/Documents/001_science/lcs/mastDownload/Kepler/kplr008150320_sc_Q000000033333333332/kplr008150320-2011271113734_slc.fits' mode='rb' closefd=True>\n",
      "  c)\n",
      "/home/ekaterina/Documents/000_envs/forallpurposes/lib/python3.6/site-packages/altaipony/lcio.py:102: ResourceWarning: unclosed file <_io.FileIO name='/home/ekaterina/Documents/001_science/lcs/mastDownload/Kepler/kplr008150320_sc_Q000000033333333332/kplr008150320-2011240104155_slc.fits' mode='rb' closefd=True>\n",
      "  c)\n",
      "/home/ekaterina/Documents/000_envs/forallpurposes/lib/python3.6/site-packages/altaipony/lcio.py:102: ResourceWarning: unclosed file <_io.FileIO name='/home/ekaterina/Documents/001_science/lcs/mastDownload/Kepler/kplr008150320_sc_Q000000033333333332/kplr008150320-2011208035123_slc.fits' mode='rb' closefd=True>\n",
      "  c)\n"
     ]
    },
    {
     "name": "stdout",
     "output_type": "stream",
     "text": [
      "-----------------------------------------\n",
      "3 light curves available for Kepler-55 in Kepler.\n",
      "-----------------------------------------\n"
     ]
    },
    {
     "name": "stderr",
     "output_type": "stream",
     "text": [
      "/home/ekaterina/Documents/000_envs/forallpurposes/lib/python3.6/site-packages/numpy/lib/nanfunctions.py:1113: RuntimeWarning: Mean of empty slice\n",
      "  return np.nanmean(a, axis, out=out, keepdims=keepdims)\n"
     ]
    },
    {
     "name": "stdout",
     "output_type": "stream",
     "text": [
      "0.011352999999871827 16.348383000000013 2.844589000000269 2.8262479999998504 0.9058740000000398 0.6410460000001876 23.57749300000023\n",
      "(43764,)\n",
      "0.009336999999959517 20.382840999999644 2.941780000000108 2.672591999999895 0.9940260000003036 0.9283459999996921 27.928921999999602\n",
      "(44793,)\n",
      "0.008244000000104279 22.538114999999834 1.6692579999998998 1.6673319999999876 3.297078000000056 3.2432370000001356 32.42326400000002\n",
      "(43845,)\n",
      "36.6%, [119/325]\n"
     ]
    },
    {
     "name": "stderr",
     "output_type": "stream",
     "text": [
      "/home/ekaterina/Documents/000_envs/forallpurposes/lib/python3.6/site-packages/ipykernel_launcher.py:24: SettingWithCopyWarning: \n",
      "A value is trying to be set on a copy of a slice from a DataFrame.\n",
      "Try using .loc[row_indexer,col_indexer] = value instead\n",
      "\n",
      "See the caveats in the documentation: https://pandas.pydata.org/pandas-docs/stable/user_guide/indexing.html#returning-a-view-versus-a-copy\n",
      "1% (436/45630) of the cadences will be ignored due to the quality mask (quality_bitmask=1130799).\n",
      "1% (436/45630) of the cadences will be ignored due to the quality mask (quality_bitmask=1130799).\n",
      "2% (797/44340) of the cadences will be ignored due to the quality mask (quality_bitmask=1130799).\n",
      "2% (797/44340) of the cadences will be ignored due to the quality mask (quality_bitmask=1130799).\n",
      "8% (3938/50250) of the cadences will be ignored due to the quality mask (quality_bitmask=1130799).\n",
      "8% (3938/50250) of the cadences will be ignored due to the quality mask (quality_bitmask=1130799).\n",
      "/home/ekaterina/Documents/000_envs/forallpurposes/lib/python3.6/site-packages/altaipony/lcio.py:102: ResourceWarning: unclosed file <_io.FileIO name='/home/ekaterina/Documents/001_science/lcs/mastDownload/Kepler/kplr008150320_sc_Q000000033333333332/kplr008150320-2012004120508_slc.fits' mode='rb' closefd=True>\n",
      "  c)\n",
      "/home/ekaterina/Documents/000_envs/forallpurposes/lib/python3.6/site-packages/altaipony/lcio.py:102: ResourceWarning: unclosed file <_io.FileIO name='/home/ekaterina/Documents/001_science/lcs/mastDownload/Kepler/kplr008150320_sc_Q000000033333333332/kplr008150320-2011334093404_slc.fits' mode='rb' closefd=True>\n",
      "  c)\n",
      "/home/ekaterina/Documents/000_envs/forallpurposes/lib/python3.6/site-packages/altaipony/lcio.py:102: ResourceWarning: unclosed file <_io.FileIO name='/home/ekaterina/Documents/001_science/lcs/mastDownload/Kepler/kplr008150320_sc_Q000000033333333332/kplr008150320-2011303113607_slc.fits' mode='rb' closefd=True>\n",
      "  c)\n"
     ]
    },
    {
     "name": "stdout",
     "output_type": "stream",
     "text": [
      "-----------------------------------------\n",
      "3 light curves available for Kepler-55 in Kepler.\n",
      "-----------------------------------------\n"
     ]
    },
    {
     "name": "stderr",
     "output_type": "stream",
     "text": [
      "/home/ekaterina/Documents/000_envs/forallpurposes/lib/python3.6/site-packages/numpy/lib/nanfunctions.py:1113: RuntimeWarning: Mean of empty slice\n",
      "  return np.nanmean(a, axis, out=out, keepdims=keepdims)\n"
     ]
    },
    {
     "name": "stdout",
     "output_type": "stream",
     "text": [
      "0.011547999999947933 20.148363000000245 1.0038079999999354 0.8268969999999172 3.2641819999998916 0.8240009999999529 26.07879899999989\n",
      "(44969,)\n",
      "0.008514000000104716 18.52436899999975 2.360063000000082 2.347353000000112 2.214398000000074 0.7716789999999492 26.226376000000073\n",
      "(43329,)\n",
      "0.008961999999883119 13.239362000000256 2.982285000000047 2.8903809999997065 2.8610960000000887 2.7242489999998725 24.706334999999854\n",
      "(46098,)\n",
      "36.9%, [120/325]\n"
     ]
    },
    {
     "name": "stderr",
     "output_type": "stream",
     "text": [
      "/home/ekaterina/Documents/000_envs/forallpurposes/lib/python3.6/site-packages/ipykernel_launcher.py:24: SettingWithCopyWarning: \n",
      "A value is trying to be set on a copy of a slice from a DataFrame.\n",
      "Try using .loc[row_indexer,col_indexer] = value instead\n",
      "\n",
      "See the caveats in the documentation: https://pandas.pydata.org/pandas-docs/stable/user_guide/indexing.html#returning-a-view-versus-a-copy\n",
      "13% (4872/38910) of the cadences will be ignored due to the quality mask (quality_bitmask=1130799).\n",
      "13% (4872/38910) of the cadences will be ignored due to the quality mask (quality_bitmask=1130799).\n",
      "1% (216/40200) of the cadences will be ignored due to the quality mask (quality_bitmask=1130799).\n",
      "1% (216/40200) of the cadences will be ignored due to the quality mask (quality_bitmask=1130799).\n",
      "17% (6893/39840) of the cadences will be ignored due to the quality mask (quality_bitmask=1130799).\n",
      "17% (6893/39840) of the cadences will be ignored due to the quality mask (quality_bitmask=1130799).\n",
      "/home/ekaterina/Documents/000_envs/forallpurposes/lib/python3.6/site-packages/altaipony/lcio.py:102: ResourceWarning: unclosed file <_io.FileIO name='/home/ekaterina/Documents/001_science/lcs/mastDownload/Kepler/kplr008150320_sc_Q000000033333333332/kplr008150320-2012088054726_slc.fits' mode='rb' closefd=True>\n",
      "  c)\n",
      "/home/ekaterina/Documents/000_envs/forallpurposes/lib/python3.6/site-packages/altaipony/lcio.py:102: ResourceWarning: unclosed file <_io.FileIO name='/home/ekaterina/Documents/001_science/lcs/mastDownload/Kepler/kplr008150320_sc_Q000000033333333332/kplr008150320-2012060035710_slc.fits' mode='rb' closefd=True>\n",
      "  c)\n",
      "/home/ekaterina/Documents/000_envs/forallpurposes/lib/python3.6/site-packages/altaipony/lcio.py:102: ResourceWarning: unclosed file <_io.FileIO name='/home/ekaterina/Documents/001_science/lcs/mastDownload/Kepler/kplr008150320_sc_Q000000033333333332/kplr008150320-2012032013838_slc.fits' mode='rb' closefd=True>\n",
      "  c)\n",
      "/home/ekaterina/Documents/000_envs/forallpurposes/lib/python3.6/site-packages/numpy/lib/nanfunctions.py:1113: RuntimeWarning: Mean of empty slice\n",
      "  return np.nanmean(a, axis, out=out, keepdims=keepdims)\n"
     ]
    },
    {
     "name": "stdout",
     "output_type": "stream",
     "text": [
      "-----------------------------------------\n",
      "3 light curves available for Kepler-55 in Kepler.\n",
      "-----------------------------------------\n",
      "0.008090000000265718 12.032979999999952 1.8818889999997737 1.8759210000002895 1.7744490000000042 1.7868260000000191 19.360155000000304\n",
      "(33823,)\n",
      "0.007366000000274653 14.975997000000007 2.912148999999772 2.8773599999999533 2.6931260000001203 2.6386170000000675 26.104615000000194\n",
      "(39770,)\n",
      "0.006601000000046042 12.694189999999708 2.095397999999932 2.076980000000276 0.5815159999997377 2.038416000000325 19.493101000000024\n",
      "(32747,)\n",
      "37.2%, [121/325]\n"
     ]
    },
    {
     "name": "stderr",
     "output_type": "stream",
     "text": [
      "/home/ekaterina/Documents/000_envs/forallpurposes/lib/python3.6/site-packages/ipykernel_launcher.py:24: SettingWithCopyWarning: \n",
      "A value is trying to be set on a copy of a slice from a DataFrame.\n",
      "Try using .loc[row_indexer,col_indexer] = value instead\n",
      "\n",
      "See the caveats in the documentation: https://pandas.pydata.org/pandas-docs/stable/user_guide/indexing.html#returning-a-view-versus-a-copy\n",
      "1% (563/47370) of the cadences will be ignored due to the quality mask (quality_bitmask=1130799).\n",
      "1% (563/47370) of the cadences will be ignored due to the quality mask (quality_bitmask=1130799).\n",
      "1% (448/42930) of the cadences will be ignored due to the quality mask (quality_bitmask=1130799).\n",
      "1% (448/42930) of the cadences will be ignored due to the quality mask (quality_bitmask=1130799).\n",
      "2% (867/39990) of the cadences will be ignored due to the quality mask (quality_bitmask=1130799).\n",
      "2% (867/39990) of the cadences will be ignored due to the quality mask (quality_bitmask=1130799).\n",
      "/home/ekaterina/Documents/000_envs/forallpurposes/lib/python3.6/site-packages/altaipony/lcio.py:102: ResourceWarning: unclosed file <_io.FileIO name='/home/ekaterina/Documents/001_science/lcs/mastDownload/Kepler/kplr008150320_sc_Q000000033333333332/kplr008150320-2012179063303_slc.fits' mode='rb' closefd=True>\n",
      "  c)\n",
      "/home/ekaterina/Documents/000_envs/forallpurposes/lib/python3.6/site-packages/altaipony/lcio.py:102: ResourceWarning: unclosed file <_io.FileIO name='/home/ekaterina/Documents/001_science/lcs/mastDownload/Kepler/kplr008150320_sc_Q000000033333333332/kplr008150320-2012151031540_slc.fits' mode='rb' closefd=True>\n",
      "  c)\n",
      "/home/ekaterina/Documents/000_envs/forallpurposes/lib/python3.6/site-packages/altaipony/lcio.py:102: ResourceWarning: unclosed file <_io.FileIO name='/home/ekaterina/Documents/001_science/lcs/mastDownload/Kepler/kplr008150320_sc_Q000000033333333332/kplr008150320-2012121044856_slc.fits' mode='rb' closefd=True>\n",
      "  c)\n",
      "/home/ekaterina/Documents/000_envs/forallpurposes/lib/python3.6/site-packages/numpy/lib/nanfunctions.py:1113: RuntimeWarning: Mean of empty slice\n",
      "  return np.nanmean(a, axis, out=out, keepdims=keepdims)\n"
     ]
    },
    {
     "name": "stdout",
     "output_type": "stream",
     "text": [
      "-----------------------------------------\n",
      "3 light curves available for Kepler-55 in Kepler.\n",
      "-----------------------------------------\n",
      "0.010729000000083033 15.291787999999997 3.081702999999834 3.0765630000000783 2.9469359999998233 2.9885199999998804 27.396238999999696\n",
      "(46376,)\n",
      "0.008334000000104425 15.794283000000178 2.808353999999781 2.8148080000000846 2.798290000000179 2.7406059999998433 26.96467500000017\n",
      "(42074,)\n",
      "0.008407000000261178 11.379746999999952 0.832155000000057 0.8175280000000384 0.8736629999998513 0.5893200000000434 14.500820000000203\n",
      "(39071,)\n",
      "37.5%, [122/325]\n"
     ]
    },
    {
     "name": "stderr",
     "output_type": "stream",
     "text": [
      "/home/ekaterina/Documents/000_envs/forallpurposes/lib/python3.6/site-packages/ipykernel_launcher.py:24: SettingWithCopyWarning: \n",
      "A value is trying to be set on a copy of a slice from a DataFrame.\n",
      "Try using .loc[row_indexer,col_indexer] = value instead\n",
      "\n",
      "See the caveats in the documentation: https://pandas.pydata.org/pandas-docs/stable/user_guide/indexing.html#returning-a-view-versus-a-copy\n",
      "19% (8480/45330) of the cadences will be ignored due to the quality mask (quality_bitmask=1130799).\n",
      "19% (8480/45330) of the cadences will be ignored due to the quality mask (quality_bitmask=1130799).\n",
      "0% (106/44280) of the cadences will be ignored due to the quality mask (quality_bitmask=1130799).\n",
      "0% (106/44280) of the cadences will be ignored due to the quality mask (quality_bitmask=1130799).\n",
      "0% (161/50160) of the cadences will be ignored due to the quality mask (quality_bitmask=1130799).\n",
      "0% (161/50160) of the cadences will be ignored due to the quality mask (quality_bitmask=1130799).\n",
      "/home/ekaterina/Documents/000_envs/forallpurposes/lib/python3.6/site-packages/altaipony/lcio.py:102: ResourceWarning: unclosed file <_io.FileIO name='/home/ekaterina/Documents/001_science/lcs/mastDownload/Kepler/kplr008150320_sc_Q000000033333333332/kplr008150320-2012277125453_slc.fits' mode='rb' closefd=True>\n",
      "  c)\n",
      "/home/ekaterina/Documents/000_envs/forallpurposes/lib/python3.6/site-packages/altaipony/lcio.py:102: ResourceWarning: unclosed file <_io.FileIO name='/home/ekaterina/Documents/001_science/lcs/mastDownload/Kepler/kplr008150320_sc_Q000000033333333332/kplr008150320-2012242122129_slc.fits' mode='rb' closefd=True>\n",
      "  c)\n",
      "/home/ekaterina/Documents/000_envs/forallpurposes/lib/python3.6/site-packages/altaipony/lcio.py:102: ResourceWarning: unclosed file <_io.FileIO name='/home/ekaterina/Documents/001_science/lcs/mastDownload/Kepler/kplr008150320_sc_Q000000033333333332/kplr008150320-2012211050319_slc.fits' mode='rb' closefd=True>\n",
      "  c)\n"
     ]
    },
    {
     "name": "stdout",
     "output_type": "stream",
     "text": [
      "-----------------------------------------\n",
      "3 light curves available for Kepler-55 in Kepler.\n",
      "-----------------------------------------\n"
     ]
    },
    {
     "name": "stderr",
     "output_type": "stream",
     "text": [
      "/home/ekaterina/Documents/000_envs/forallpurposes/lib/python3.6/site-packages/numpy/lib/nanfunctions.py:1113: RuntimeWarning: Mean of empty slice\n",
      "  return np.nanmean(a, axis, out=out, keepdims=keepdims)\n"
     ]
    },
    {
     "name": "stdout",
     "output_type": "stream",
     "text": [
      "0.009223000000019965 16.475099000000228 2.9724820000001273 2.5176719999999477 2.534573999999793 1.2186510000001363 25.727701000000252\n",
      "(34595,)\n",
      "0.008367999999791209 21.53613099999984 3.42259200000035 3.2974789999998393 3.2791729999999006 3.293927000000167 34.83766999999989\n",
      "(43934,)\n",
      "0.009649999999965075 20.092791999999918 3.0847359999997934 2.862977000000228 2.780696999999691 2.379967000000306 31.2108189999999\n",
      "(49744,)\n",
      "37.8%, [123/325]\n"
     ]
    },
    {
     "name": "stderr",
     "output_type": "stream",
     "text": [
      "/home/ekaterina/Documents/000_envs/forallpurposes/lib/python3.6/site-packages/ipykernel_launcher.py:24: SettingWithCopyWarning: \n",
      "A value is trying to be set on a copy of a slice from a DataFrame.\n",
      "Try using .loc[row_indexer,col_indexer] = value instead\n",
      "\n",
      "See the caveats in the documentation: https://pandas.pydata.org/pandas-docs/stable/user_guide/indexing.html#returning-a-view-versus-a-copy\n",
      "1% (334/45270) of the cadences will be ignored due to the quality mask (quality_bitmask=1130799).\n",
      "1% (334/45270) of the cadences will be ignored due to the quality mask (quality_bitmask=1130799).\n",
      "14% (6276/44220) of the cadences will be ignored due to the quality mask (quality_bitmask=1130799).\n",
      "14% (6276/44220) of the cadences will be ignored due to the quality mask (quality_bitmask=1130799).\n",
      "0% (198/51270) of the cadences will be ignored due to the quality mask (quality_bitmask=1130799).\n",
      "0% (198/51270) of the cadences will be ignored due to the quality mask (quality_bitmask=1130799).\n",
      "/home/ekaterina/Documents/000_envs/forallpurposes/lib/python3.6/site-packages/altaipony/lcio.py:102: ResourceWarning: unclosed file <_io.FileIO name='/home/ekaterina/Documents/001_science/lcs/mastDownload/Kepler/kplr008150320_sc_Q000000033333333332/kplr008150320-2013011073258_slc.fits' mode='rb' closefd=True>\n",
      "  c)\n",
      "/home/ekaterina/Documents/000_envs/forallpurposes/lib/python3.6/site-packages/altaipony/lcio.py:102: ResourceWarning: unclosed file <_io.FileIO name='/home/ekaterina/Documents/001_science/lcs/mastDownload/Kepler/kplr008150320_sc_Q000000033333333332/kplr008150320-2012341132017_slc.fits' mode='rb' closefd=True>\n",
      "  c)\n",
      "/home/ekaterina/Documents/000_envs/forallpurposes/lib/python3.6/site-packages/altaipony/lcio.py:102: ResourceWarning: unclosed file <_io.FileIO name='/home/ekaterina/Documents/001_science/lcs/mastDownload/Kepler/kplr008150320_sc_Q000000033333333332/kplr008150320-2012310112549_slc.fits' mode='rb' closefd=True>\n",
      "  c)\n"
     ]
    },
    {
     "name": "stdout",
     "output_type": "stream",
     "text": [
      "-----------------------------------------\n",
      "3 light curves available for Kepler-55 in Kepler.\n",
      "-----------------------------------------\n"
     ]
    },
    {
     "name": "stderr",
     "output_type": "stream",
     "text": [
      "/home/ekaterina/Documents/000_envs/forallpurposes/lib/python3.6/site-packages/numpy/lib/nanfunctions.py:1113: RuntimeWarning: Mean of empty slice\n",
      "  return np.nanmean(a, axis, out=out, keepdims=keepdims)\n"
     ]
    },
    {
     "name": "stdout",
     "output_type": "stream",
     "text": [
      "0.01430900000013935 17.17267300000003 3.527794999999969 3.4122940000002018 0.9473909999996977 3.3113350000003265 28.385797000000366\n",
      "(44661,)\n",
      "0.009806999999909749 13.414284999999836 2.6325230000002193 3.09393799999998 2.8720319999997628 2.8542730000003758 24.876858000000084\n",
      "(35441,)\n",
      "0.011243999999805965 17.541149000000132 4.083886999999777 3.5337600000002567 4.148282999999992 4.084503000000041 33.402826000000005\n",
      "(50642,)\n",
      "38.2%, [124/325]\n"
     ]
    },
    {
     "name": "stderr",
     "output_type": "stream",
     "text": [
      "/home/ekaterina/Documents/000_envs/forallpurposes/lib/python3.6/site-packages/ipykernel_launcher.py:24: SettingWithCopyWarning: \n",
      "A value is trying to be set on a copy of a slice from a DataFrame.\n",
      "Try using .loc[row_indexer,col_indexer] = value instead\n",
      "\n",
      "See the caveats in the documentation: https://pandas.pydata.org/pandas-docs/stable/user_guide/indexing.html#returning-a-view-versus-a-copy\n",
      "1% (58/7680) of the cadences will be ignored due to the quality mask (quality_bitmask=1130799).\n",
      "1% (58/7680) of the cadences will be ignored due to the quality mask (quality_bitmask=1130799).\n",
      "1% (545/53310) of the cadences will be ignored due to the quality mask (quality_bitmask=1130799).\n",
      "1% (545/53310) of the cadences will be ignored due to the quality mask (quality_bitmask=1130799).\n",
      "1% (274/46770) of the cadences will be ignored due to the quality mask (quality_bitmask=1130799).\n",
      "1% (274/46770) of the cadences will be ignored due to the quality mask (quality_bitmask=1130799).\n",
      "/home/ekaterina/Documents/000_envs/forallpurposes/lib/python3.6/site-packages/altaipony/lcio.py:102: ResourceWarning: unclosed file <_io.FileIO name='/home/ekaterina/Documents/001_science/lcs/mastDownload/Kepler/kplr008150320_sc_Q000000033333333332/kplr008150320-2013098041711_slc.fits' mode='rb' closefd=True>\n",
      "  c)\n",
      "/home/ekaterina/Documents/000_envs/forallpurposes/lib/python3.6/site-packages/altaipony/lcio.py:102: ResourceWarning: unclosed file <_io.FileIO name='/home/ekaterina/Documents/001_science/lcs/mastDownload/Kepler/kplr008150320_sc_Q000000033333333332/kplr008150320-2013065031647_slc.fits' mode='rb' closefd=True>\n",
      "  c)\n",
      "/home/ekaterina/Documents/000_envs/forallpurposes/lib/python3.6/site-packages/altaipony/lcio.py:102: ResourceWarning: unclosed file <_io.FileIO name='/home/ekaterina/Documents/001_science/lcs/mastDownload/Kepler/kplr008150320_sc_Q000000033333333332/kplr008150320-2013017113907_slc.fits' mode='rb' closefd=True>\n",
      "  c)\n"
     ]
    },
    {
     "name": "stdout",
     "output_type": "stream",
     "text": [
      "-----------------------------------------\n",
      "3 light curves available for Kepler-55 in Kepler.\n",
      "-----------------------------------------\n",
      "0.004535000000032596 0.7960709999997562 0.23530600000003687 0.24843200000032084 0.1418999999996231 0.15025800000012168 1.5765019999998913\n",
      "(7621,)\n"
     ]
    },
    {
     "name": "stderr",
     "output_type": "stream",
     "text": [
      "/home/ekaterina/Documents/000_envs/forallpurposes/lib/python3.6/site-packages/numpy/lib/nanfunctions.py:1113: RuntimeWarning: Mean of empty slice\n",
      "  return np.nanmean(a, axis, out=out, keepdims=keepdims)\n"
     ]
    },
    {
     "name": "stdout",
     "output_type": "stream",
     "text": [
      "0.016238000000157626 17.243261000000075 4.041909000000032 3.988278999999693 3.4481290000003355 3.3257340000000113 32.063550000000305\n",
      "(52324,)\n",
      "0.009299000000282831 21.051437000000078 3.0874629999998433 2.730184999999892 0.7754460000001018 0.8065390000001571 28.460369000000355\n",
      "(46248,)\n",
      "38.5%, [125/325]\n"
     ]
    },
    {
     "name": "stderr",
     "output_type": "stream",
     "text": [
      "/home/ekaterina/Documents/000_envs/forallpurposes/lib/python3.6/site-packages/ipykernel_launcher.py:24: SettingWithCopyWarning: \n",
      "A value is trying to be set on a copy of a slice from a DataFrame.\n",
      "Try using .loc[row_indexer,col_indexer] = value instead\n",
      "\n",
      "See the caveats in the documentation: https://pandas.pydata.org/pandas-docs/stable/user_guide/indexing.html#returning-a-view-versus-a-copy\n",
      "1% (248/32850) of the cadences will be ignored due to the quality mask (quality_bitmask=1130799).\n",
      "1% (248/32850) of the cadences will be ignored due to the quality mask (quality_bitmask=1130799).\n",
      "0% (28/6180) of the cadences will be ignored due to the quality mask (quality_bitmask=1130799).\n",
      "0% (28/6180) of the cadences will be ignored due to the quality mask (quality_bitmask=1130799).\n",
      "/home/ekaterina/Documents/000_envs/forallpurposes/lib/python3.6/site-packages/altaipony/lcio.py:102: ResourceWarning: unclosed file <_io.FileIO name='/home/ekaterina/Documents/001_science/lcs/mastDownload/Kepler/kplr008150320_sc_Q000000033333333332/kplr008150320-2013131215648_slc.fits' mode='rb' closefd=True>\n",
      "  c)\n",
      "/home/ekaterina/Documents/000_envs/forallpurposes/lib/python3.6/site-packages/altaipony/lcio.py:102: ResourceWarning: unclosed file <_io.FileIO name='/home/ekaterina/Documents/001_science/lcs/mastDownload/Kepler/kplr008150320_sc_Q000000033333333332/kplr008150320-2013121191144_slc.fits' mode='rb' closefd=True>\n",
      "  c)\n",
      "/home/ekaterina/Documents/000_envs/forallpurposes/lib/python3.6/site-packages/numpy/lib/nanfunctions.py:1113: RuntimeWarning: Mean of empty slice\n",
      "  return np.nanmean(a, axis, out=out, keepdims=keepdims)\n"
     ]
    },
    {
     "name": "stdout",
     "output_type": "stream",
     "text": [
      "-----------------------------------------\n",
      "2 light curves available for Kepler-55 in Kepler.\n",
      "-----------------------------------------\n",
      "0.008009000000129163 12.065743999999995 1.9109800000001087 1.9211849999996957 1.8481220000003304 1.8393849999997656 19.593425000000025\n",
      "(32386,)\n",
      "0.002492999999958556 0.4706680000003871 0.1460559999995894 0.14737300000024334 0.1412239999999656 0.09879399999999805 1.006608000000142\n",
      "(6151,)\n",
      "38.8%, [126/325]\n",
      "3041     6\n",
      "3042     7\n",
      "3043    17\n",
      "Name: qcs, dtype: int64\n"
     ]
    },
    {
     "name": "stderr",
     "output_type": "stream",
     "text": [
      "/home/ekaterina/Documents/000_envs/forallpurposes/lib/python3.6/site-packages/ipykernel_launcher.py:24: SettingWithCopyWarning: \n",
      "A value is trying to be set on a copy of a slice from a DataFrame.\n",
      "Try using .loc[row_indexer,col_indexer] = value instead\n",
      "\n",
      "See the caveats in the documentation: https://pandas.pydata.org/pandas-docs/stable/user_guide/indexing.html#returning-a-view-versus-a-copy\n",
      "0% (150/39780) of the cadences will be ignored due to the quality mask (quality_bitmask=1130799).\n",
      "0% (150/39780) of the cadences will be ignored due to the quality mask (quality_bitmask=1130799).\n",
      "0% (133/45390) of the cadences will be ignored due to the quality mask (quality_bitmask=1130799).\n",
      "0% (133/45390) of the cadences will be ignored due to the quality mask (quality_bitmask=1130799).\n",
      "1% (222/44220) of the cadences will be ignored due to the quality mask (quality_bitmask=1130799).\n",
      "1% (222/44220) of the cadences will be ignored due to the quality mask (quality_bitmask=1130799).\n",
      "/home/ekaterina/Documents/000_envs/forallpurposes/lib/python3.6/site-packages/altaipony/lcio.py:102: ResourceWarning: unclosed file <_io.FileIO name='/home/ekaterina/Documents/001_science/lcs/mastDownload/Kepler/kplr011074541_sc_Q000000310000000002/kplr011074541-2010265121752_slc.fits' mode='rb' closefd=True>\n",
      "  c)\n",
      "/home/ekaterina/Documents/000_envs/forallpurposes/lib/python3.6/site-packages/altaipony/lcio.py:102: ResourceWarning: unclosed file <_io.FileIO name='/home/ekaterina/Documents/001_science/lcs/mastDownload/Kepler/kplr011074541_sc_Q000000310000000002/kplr011074541-2010234115140_slc.fits' mode='rb' closefd=True>\n",
      "  c)\n",
      "/home/ekaterina/Documents/000_envs/forallpurposes/lib/python3.6/site-packages/altaipony/lcio.py:102: ResourceWarning: unclosed file <_io.FileIO name='/home/ekaterina/Documents/001_science/lcs/mastDownload/Kepler/kplr011074541_sc_Q000000310000000002/kplr011074541-2010203174610_slc.fits' mode='rb' closefd=True>\n",
      "  c)\n"
     ]
    },
    {
     "name": "stdout",
     "output_type": "stream",
     "text": [
      "-----------------------------------------\n",
      "3 light curves available for Kepler-531 in Kepler.\n",
      "-----------------------------------------\n"
     ]
    },
    {
     "name": "stderr",
     "output_type": "stream",
     "text": [
      "/home/ekaterina/Documents/000_envs/forallpurposes/lib/python3.6/site-packages/numpy/lib/nanfunctions.py:1113: RuntimeWarning: Mean of empty slice\n",
      "  return np.nanmean(a, axis, out=out, keepdims=keepdims)\n"
     ]
    },
    {
     "name": "stdout",
     "output_type": "stream",
     "text": [
      "0.009116000000176427 12.895884000000024 0.8751320000001215 0.8650899999997819 0.6696870000000672 0.8968989999998485 16.21180800000002\n",
      "(39351,)\n",
      "0.009047000000009575 12.939605999999912 2.8892150000001493 2.8585469999998168 0.7302310000000034 0.6708410000001095 20.097487\n",
      "(44977,)\n",
      "0.008425999999872147 20.360157999999956 2.9301620000001094 2.7429940000001807 2.5723049999996874 2.610841000000164 31.22488599999997\n",
      "(43719,)\n",
      "39.1%, [127/325]\n"
     ]
    },
    {
     "name": "stderr",
     "output_type": "stream",
     "text": [
      "/home/ekaterina/Documents/000_envs/forallpurposes/lib/python3.6/site-packages/ipykernel_launcher.py:24: SettingWithCopyWarning: \n",
      "A value is trying to be set on a copy of a slice from a DataFrame.\n",
      "Try using .loc[row_indexer,col_indexer] = value instead\n",
      "\n",
      "See the caveats in the documentation: https://pandas.pydata.org/pandas-docs/stable/user_guide/indexing.html#returning-a-view-versus-a-copy\n",
      "2% (959/41760) of the cadences will be ignored due to the quality mask (quality_bitmask=1130799).\n",
      "2% (959/41760) of the cadences will be ignored due to the quality mask (quality_bitmask=1130799).\n",
      "/home/ekaterina/Documents/000_envs/forallpurposes/lib/python3.6/site-packages/altaipony/lcio.py:102: ResourceWarning: unclosed file <_io.FileIO name='/home/ekaterina/Documents/001_science/lcs/mastDownload/Kepler/kplr011074541_sc_Q000000310000000002/kplr011074541-2010355172524_slc.fits' mode='rb' closefd=True>\n",
      "  c)\n"
     ]
    },
    {
     "name": "stdout",
     "output_type": "stream",
     "text": [
      "-----------------------------------------\n",
      "1 light curves available for Kepler-531 in Kepler.\n",
      "-----------------------------------------\n"
     ]
    },
    {
     "name": "stderr",
     "output_type": "stream",
     "text": [
      "/home/ekaterina/Documents/000_envs/forallpurposes/lib/python3.6/site-packages/numpy/lib/nanfunctions.py:1113: RuntimeWarning: Mean of empty slice\n",
      "  return np.nanmean(a, axis, out=out, keepdims=keepdims)\n"
     ]
    },
    {
     "name": "stdout",
     "output_type": "stream",
     "text": [
      "0.0110779999999977 17.23117500000035 1.2009729999999763 0.9017089999997552 1.1985319999998865 0.9344130000004043 21.47788000000037\n",
      "(40771,)\n",
      "39.4%, [128/325]\n"
     ]
    },
    {
     "name": "stderr",
     "output_type": "stream",
     "text": [
      "/home/ekaterina/Documents/000_envs/forallpurposes/lib/python3.6/site-packages/ipykernel_launcher.py:24: SettingWithCopyWarning: \n",
      "A value is trying to be set on a copy of a slice from a DataFrame.\n",
      "Try using .loc[row_indexer,col_indexer] = value instead\n",
      "\n",
      "See the caveats in the documentation: https://pandas.pydata.org/pandas-docs/stable/user_guide/indexing.html#returning-a-view-versus-a-copy\n",
      "1% (248/32850) of the cadences will be ignored due to the quality mask (quality_bitmask=1130799).\n",
      "1% (248/32850) of the cadences will be ignored due to the quality mask (quality_bitmask=1130799).\n",
      "0% (28/6180) of the cadences will be ignored due to the quality mask (quality_bitmask=1130799).\n",
      "0% (28/6180) of the cadences will be ignored due to the quality mask (quality_bitmask=1130799).\n",
      "/home/ekaterina/Documents/000_envs/forallpurposes/lib/python3.6/site-packages/altaipony/lcio.py:102: ResourceWarning: unclosed file <_io.FileIO name='/home/ekaterina/Documents/001_science/lcs/mastDownload/Kepler/kplr011074541_sc_Q000000310000000002/kplr011074541-2013131215648_slc.fits' mode='rb' closefd=True>\n",
      "  c)\n",
      "/home/ekaterina/Documents/000_envs/forallpurposes/lib/python3.6/site-packages/altaipony/lcio.py:102: ResourceWarning: unclosed file <_io.FileIO name='/home/ekaterina/Documents/001_science/lcs/mastDownload/Kepler/kplr011074541_sc_Q000000310000000002/kplr011074541-2013121191144_slc.fits' mode='rb' closefd=True>\n",
      "  c)\n",
      "/home/ekaterina/Documents/000_envs/forallpurposes/lib/python3.6/site-packages/numpy/lib/nanfunctions.py:1113: RuntimeWarning: Mean of empty slice\n",
      "  return np.nanmean(a, axis, out=out, keepdims=keepdims)\n"
     ]
    },
    {
     "name": "stdout",
     "output_type": "stream",
     "text": [
      "-----------------------------------------\n",
      "2 light curves available for Kepler-531 in Kepler.\n",
      "-----------------------------------------\n",
      "0.008440999999947962 11.497378000000026 0.5569300000001931 0.5452150000000984 2.011971999999787 2.0749519999999393 16.69488799999999\n",
      "(32321,)\n",
      "0.002395999999862397 0.6457310000000689 0.15000000000009095 0.17408999999997832 0.15191700000013952 0.14434200000005148 1.2684760000001916\n",
      "(6151,)\n",
      "39.7%, [129/325]\n",
      "8375    24\n",
      "8376    25\n",
      "Name: qcs, dtype: int64\n"
     ]
    },
    {
     "name": "stderr",
     "output_type": "stream",
     "text": [
      "4% (857/19074) of the cadences will be ignored due to the quality mask (quality_bitmask=175).\n",
      "4% (857/19074) of the cadences will be ignored due to the quality mask (quality_bitmask=175).\n",
      "/home/ekaterina/Documents/000_envs/forallpurposes/lib/python3.6/site-packages/altaipony/lcio.py:114: ResourceWarning: unclosed file <_io.FileIO name='/home/ekaterina/Documents/001_science/lcs/mastDownload/TESS/tess2020106103520-s0024-0000000310231275-0180-s/tess2020106103520-s0024-0000000310231275-0180-s_lc.fits' mode='rb' closefd=True>\n",
      "  c)\n",
      "/home/ekaterina/Documents/000_envs/forallpurposes/lib/python3.6/site-packages/numpy/lib/nanfunctions.py:1113: RuntimeWarning: Mean of empty slice\n",
      "  return np.nanmean(a, axis, out=out, keepdims=keepdims)\n"
     ]
    },
    {
     "name": "stdout",
     "output_type": "stream",
     "text": [
      "-----------------------------------------\n",
      "1 light curves available for TIC 310231275 in TESS.\n",
      "-----------------------------------------\n",
      "0.0062499999999090505 1.2670310000003155 0.39549799999986135 0.4175500000001193 0.8717750000000706 0.2962579999998525 3.2543620000001283\n",
      "(15290,)\n",
      "40.0%, [130/325]\n"
     ]
    },
    {
     "name": "stderr",
     "output_type": "stream",
     "text": [
      "7% (1243/18489) of the cadences will be ignored due to the quality mask (quality_bitmask=175).\n",
      "7% (1243/18489) of the cadences will be ignored due to the quality mask (quality_bitmask=175).\n",
      "/home/ekaterina/Documents/000_envs/forallpurposes/lib/python3.6/site-packages/altaipony/lcio.py:114: ResourceWarning: unclosed file <_io.FileIO name='/home/ekaterina/Documents/001_science/lcs/mastDownload/TESS/tess2020133194932-s0025-0000000310231275-0182-s/tess2020133194932-s0025-0000000310231275-0182-s_lc.fits' mode='rb' closefd=True>\n",
      "  c)\n"
     ]
    },
    {
     "name": "stdout",
     "output_type": "stream",
     "text": [
      "-----------------------------------------\n",
      "1 light curves available for TIC 310231275 in TESS.\n",
      "-----------------------------------------\n"
     ]
    },
    {
     "name": "stderr",
     "output_type": "stream",
     "text": [
      "/home/ekaterina/Documents/000_envs/forallpurposes/lib/python3.6/site-packages/numpy/lib/nanfunctions.py:1113: RuntimeWarning: Mean of empty slice\n",
      "  return np.nanmean(a, axis, out=out, keepdims=keepdims)\n"
     ]
    },
    {
     "name": "stdout",
     "output_type": "stream",
     "text": [
      "0.005974000000151136 1.6276669999997466 1.3004860000000917 1.2780310000002828 1.2395469999996749 1.2780350000002727 6.72974000000022\n",
      "(16751,)\n",
      "40.3%, [131/325]\n",
      "1505    14\n",
      "1506    15\n",
      "1507    16\n",
      "4672    14\n",
      "4673    26\n",
      "Name: qcs, dtype: int64\n"
     ]
    },
    {
     "name": "stderr",
     "output_type": "stream",
     "text": [
      "/home/ekaterina/Documents/000_envs/forallpurposes/lib/python3.6/site-packages/ipykernel_launcher.py:24: SettingWithCopyWarning: \n",
      "A value is trying to be set on a copy of a slice from a DataFrame.\n",
      "Try using .loc[row_indexer,col_indexer] = value instead\n",
      "\n",
      "See the caveats in the documentation: https://pandas.pydata.org/pandas-docs/stable/user_guide/indexing.html#returning-a-view-versus-a-copy\n",
      "19% (8480/45330) of the cadences will be ignored due to the quality mask (quality_bitmask=1130799).\n",
      "19% (8480/45330) of the cadences will be ignored due to the quality mask (quality_bitmask=1130799).\n",
      "0% (106/44280) of the cadences will be ignored due to the quality mask (quality_bitmask=1130799).\n",
      "0% (106/44280) of the cadences will be ignored due to the quality mask (quality_bitmask=1130799).\n",
      "0% (161/50160) of the cadences will be ignored due to the quality mask (quality_bitmask=1130799).\n",
      "0% (161/50160) of the cadences will be ignored due to the quality mask (quality_bitmask=1130799).\n",
      "/home/ekaterina/Documents/000_envs/forallpurposes/lib/python3.6/site-packages/altaipony/lcio.py:102: ResourceWarning: unclosed file <_io.FileIO name='/home/ekaterina/Documents/001_science/lcs/mastDownload/Kepler/kplr006504534_sc_Q000000000000003330/kplr006504534-2012277125453_slc.fits' mode='rb' closefd=True>\n",
      "  c)\n",
      "/home/ekaterina/Documents/000_envs/forallpurposes/lib/python3.6/site-packages/altaipony/lcio.py:102: ResourceWarning: unclosed file <_io.FileIO name='/home/ekaterina/Documents/001_science/lcs/mastDownload/Kepler/kplr006504534_sc_Q000000000000003330/kplr006504534-2012242122129_slc.fits' mode='rb' closefd=True>\n",
      "  c)\n",
      "/home/ekaterina/Documents/000_envs/forallpurposes/lib/python3.6/site-packages/altaipony/lcio.py:102: ResourceWarning: unclosed file <_io.FileIO name='/home/ekaterina/Documents/001_science/lcs/mastDownload/Kepler/kplr006504534_sc_Q000000000000003330/kplr006504534-2012211050319_slc.fits' mode='rb' closefd=True>\n",
      "  c)\n",
      "/home/ekaterina/Documents/001_science/Flaring_SPI/notebooks/funcs/transitmask.py:79: RuntimeWarning: invalid value encountered in greater\n",
      "  for mid in get_transit_mid_epochs(x.pl_tranmidepoch,\n",
      "/home/ekaterina/Documents/001_science/Flaring_SPI/notebooks/funcs/transitmask.py:79: RuntimeWarning: invalid value encountered in less\n",
      "  for mid in get_transit_mid_epochs(x.pl_tranmidepoch,\n"
     ]
    },
    {
     "name": "stdout",
     "output_type": "stream",
     "text": [
      "-----------------------------------------\n",
      "3 light curves available for Kepler-1661 in Kepler.\n",
      "-----------------------------------------\n"
     ]
    },
    {
     "name": "stderr",
     "output_type": "stream",
     "text": [
      "/home/ekaterina/Documents/000_envs/forallpurposes/lib/python3.6/site-packages/numpy/lib/nanfunctions.py:1113: RuntimeWarning: Mean of empty slice\n",
      "  return np.nanmean(a, axis, out=out, keepdims=keepdims)\n"
     ]
    },
    {
     "name": "stdout",
     "output_type": "stream",
     "text": [
      "0.008084999999937281 17.06156400000009 2.8375280000000203 2.577995000000101 2.600522999999612 1.2515790000002198 26.33727399999998\n",
      "(34810,)\n",
      "0.00826599999982136 17.095957999999882 3.2366680000000088 3.293981000000258 0.6889129999999568 3.3392619999999624 27.66304799999989\n",
      "(44147,)\n",
      "0.011383000000023458 18.786110000000008 4.072320999999647 3.9956630000001496 3.7849059999998644 4.070412000000033 34.720794999999725\n",
      "(49958,)\n",
      "40.6%, [132/325]\n"
     ]
    },
    {
     "name": "stderr",
     "output_type": "stream",
     "text": [
      "/home/ekaterina/Documents/000_envs/forallpurposes/lib/python3.6/site-packages/ipykernel_launcher.py:24: SettingWithCopyWarning: \n",
      "A value is trying to be set on a copy of a slice from a DataFrame.\n",
      "Try using .loc[row_indexer,col_indexer] = value instead\n",
      "\n",
      "See the caveats in the documentation: https://pandas.pydata.org/pandas-docs/stable/user_guide/indexing.html#returning-a-view-versus-a-copy\n",
      "1% (334/45270) of the cadences will be ignored due to the quality mask (quality_bitmask=1130799).\n",
      "1% (334/45270) of the cadences will be ignored due to the quality mask (quality_bitmask=1130799).\n",
      "14% (6276/44220) of the cadences will be ignored due to the quality mask (quality_bitmask=1130799).\n",
      "14% (6276/44220) of the cadences will be ignored due to the quality mask (quality_bitmask=1130799).\n",
      "0% (198/51270) of the cadences will be ignored due to the quality mask (quality_bitmask=1130799).\n",
      "0% (198/51270) of the cadences will be ignored due to the quality mask (quality_bitmask=1130799).\n",
      "/home/ekaterina/Documents/000_envs/forallpurposes/lib/python3.6/site-packages/altaipony/lcio.py:102: ResourceWarning: unclosed file <_io.FileIO name='/home/ekaterina/Documents/001_science/lcs/mastDownload/Kepler/kplr006504534_sc_Q000000000000003330/kplr006504534-2013011073258_slc.fits' mode='rb' closefd=True>\n",
      "  c)\n",
      "/home/ekaterina/Documents/000_envs/forallpurposes/lib/python3.6/site-packages/altaipony/lcio.py:102: ResourceWarning: unclosed file <_io.FileIO name='/home/ekaterina/Documents/001_science/lcs/mastDownload/Kepler/kplr006504534_sc_Q000000000000003330/kplr006504534-2012341132017_slc.fits' mode='rb' closefd=True>\n",
      "  c)\n",
      "/home/ekaterina/Documents/000_envs/forallpurposes/lib/python3.6/site-packages/altaipony/lcio.py:102: ResourceWarning: unclosed file <_io.FileIO name='/home/ekaterina/Documents/001_science/lcs/mastDownload/Kepler/kplr006504534_sc_Q000000000000003330/kplr006504534-2012310112549_slc.fits' mode='rb' closefd=True>\n",
      "  c)\n",
      "/home/ekaterina/Documents/001_science/Flaring_SPI/notebooks/funcs/transitmask.py:79: RuntimeWarning: invalid value encountered in greater\n",
      "  for mid in get_transit_mid_epochs(x.pl_tranmidepoch,\n",
      "/home/ekaterina/Documents/001_science/Flaring_SPI/notebooks/funcs/transitmask.py:79: RuntimeWarning: invalid value encountered in less\n",
      "  for mid in get_transit_mid_epochs(x.pl_tranmidepoch,\n"
     ]
    },
    {
     "name": "stdout",
     "output_type": "stream",
     "text": [
      "-----------------------------------------\n",
      "3 light curves available for Kepler-1661 in Kepler.\n",
      "-----------------------------------------\n",
      "0.009679000000232918 15.19784299999992 3.7199499999996988 3.67761500000006 3.910681000000295 0.7860129999999117 27.30178100000012\n",
      "(44875,)\n"
     ]
    },
    {
     "name": "stderr",
     "output_type": "stream",
     "text": [
      "/home/ekaterina/Documents/000_envs/forallpurposes/lib/python3.6/site-packages/numpy/lib/nanfunctions.py:1113: RuntimeWarning: Mean of empty slice\n",
      "  return np.nanmean(a, axis, out=out, keepdims=keepdims)\n"
     ]
    },
    {
     "name": "stdout",
     "output_type": "stream",
     "text": [
      "0.007564999999885913 15.185288000000128 1.022262999999839 1.00253100000009 0.6883630000002086 0.6954549999995834 18.601464999999735\n",
      "(35655,)\n",
      "0.009285999999974592 13.22269099999994 1.3968009999998685 1.3575470000000678 1.4792489999999816 1.3195160000000214 18.785089999999855\n",
      "(51069,)\n",
      "40.9%, [133/325]\n"
     ]
    },
    {
     "name": "stderr",
     "output_type": "stream",
     "text": [
      "/home/ekaterina/Documents/000_envs/forallpurposes/lib/python3.6/site-packages/ipykernel_launcher.py:24: SettingWithCopyWarning: \n",
      "A value is trying to be set on a copy of a slice from a DataFrame.\n",
      "Try using .loc[row_indexer,col_indexer] = value instead\n",
      "\n",
      "See the caveats in the documentation: https://pandas.pydata.org/pandas-docs/stable/user_guide/indexing.html#returning-a-view-versus-a-copy\n",
      "1% (58/7680) of the cadences will be ignored due to the quality mask (quality_bitmask=1130799).\n",
      "1% (58/7680) of the cadences will be ignored due to the quality mask (quality_bitmask=1130799).\n",
      "1% (545/53310) of the cadences will be ignored due to the quality mask (quality_bitmask=1130799).\n",
      "1% (545/53310) of the cadences will be ignored due to the quality mask (quality_bitmask=1130799).\n",
      "1% (274/46770) of the cadences will be ignored due to the quality mask (quality_bitmask=1130799).\n",
      "1% (274/46770) of the cadences will be ignored due to the quality mask (quality_bitmask=1130799).\n",
      "/home/ekaterina/Documents/000_envs/forallpurposes/lib/python3.6/site-packages/altaipony/lcio.py:102: ResourceWarning: unclosed file <_io.FileIO name='/home/ekaterina/Documents/001_science/lcs/mastDownload/Kepler/kplr006504534_sc_Q000000000000003330/kplr006504534-2013098041711_slc.fits' mode='rb' closefd=True>\n",
      "  c)\n",
      "/home/ekaterina/Documents/000_envs/forallpurposes/lib/python3.6/site-packages/altaipony/lcio.py:102: ResourceWarning: unclosed file <_io.FileIO name='/home/ekaterina/Documents/001_science/lcs/mastDownload/Kepler/kplr006504534_sc_Q000000000000003330/kplr006504534-2013065031647_slc.fits' mode='rb' closefd=True>\n",
      "  c)\n",
      "/home/ekaterina/Documents/000_envs/forallpurposes/lib/python3.6/site-packages/altaipony/lcio.py:102: ResourceWarning: unclosed file <_io.FileIO name='/home/ekaterina/Documents/001_science/lcs/mastDownload/Kepler/kplr006504534_sc_Q000000000000003330/kplr006504534-2013017113907_slc.fits' mode='rb' closefd=True>\n",
      "  c)\n",
      "/home/ekaterina/Documents/001_science/Flaring_SPI/notebooks/funcs/transitmask.py:79: RuntimeWarning: invalid value encountered in greater\n",
      "  for mid in get_transit_mid_epochs(x.pl_tranmidepoch,\n",
      "/home/ekaterina/Documents/001_science/Flaring_SPI/notebooks/funcs/transitmask.py:79: RuntimeWarning: invalid value encountered in less\n",
      "  for mid in get_transit_mid_epochs(x.pl_tranmidepoch,\n"
     ]
    },
    {
     "name": "stdout",
     "output_type": "stream",
     "text": [
      "-----------------------------------------\n",
      "3 light curves available for Kepler-1661 in Kepler.\n",
      "-----------------------------------------\n",
      "0.0031999999996514816 0.6120559999999386 0.17301300000008268 0.17296299999998155 0.1659340000001066 0.16625199999998586 1.2934179999997468\n",
      "(7622,)\n",
      "0.009900000000016007 16.84051499999987 4.974910000000364 4.353972999999769 4.2867940000001 4.358997999999701 34.82508999999982\n",
      "(52752,)\n",
      "0.008699999999862484 12.575511000000006 1.33968300000015 1.1851670000000922 1.1237429999996493 1.0656200000003082 17.298424000000068\n",
      "(46462,)\n",
      "41.2%, [134/325]\n"
     ]
    },
    {
     "name": "stderr",
     "output_type": "stream",
     "text": [
      "/home/ekaterina/Documents/000_envs/forallpurposes/lib/python3.6/site-packages/ipykernel_launcher.py:24: SettingWithCopyWarning: \n",
      "A value is trying to be set on a copy of a slice from a DataFrame.\n",
      "Try using .loc[row_indexer,col_indexer] = value instead\n",
      "\n",
      "See the caveats in the documentation: https://pandas.pydata.org/pandas-docs/stable/user_guide/indexing.html#returning-a-view-versus-a-copy\n",
      "5% (913/19337) of the cadences will be ignored due to the quality mask (quality_bitmask=175).\n",
      "5% (913/19337) of the cadences will be ignored due to the quality mask (quality_bitmask=175).\n",
      "/home/ekaterina/Documents/000_envs/forallpurposes/lib/python3.6/site-packages/altaipony/lcio.py:114: ResourceWarning: unclosed file <_io.FileIO name='/home/ekaterina/Documents/001_science/lcs/mastDownload/TESS/tess2019198215352-s0014-0000000164886585-0150-s/tess2019198215352-s0014-0000000164886585-0150-s_lc.fits' mode='rb' closefd=True>\n",
      "  c)\n",
      "/home/ekaterina/Documents/001_science/Flaring_SPI/notebooks/funcs/transitmask.py:79: RuntimeWarning: invalid value encountered in greater\n",
      "  for mid in get_transit_mid_epochs(x.pl_tranmidepoch,\n",
      "/home/ekaterina/Documents/001_science/Flaring_SPI/notebooks/funcs/transitmask.py:79: RuntimeWarning: invalid value encountered in less\n",
      "  for mid in get_transit_mid_epochs(x.pl_tranmidepoch,\n"
     ]
    },
    {
     "name": "stdout",
     "output_type": "stream",
     "text": [
      "-----------------------------------------\n",
      "1 light curves available for Kepler-1661 in TESS.\n",
      "-----------------------------------------\n"
     ]
    },
    {
     "name": "stderr",
     "output_type": "stream",
     "text": [
      "/home/ekaterina/Documents/000_envs/forallpurposes/lib/python3.6/site-packages/numpy/lib/nanfunctions.py:1113: RuntimeWarning: Mean of empty slice\n",
      "  return np.nanmean(a, axis, out=out, keepdims=keepdims)\n"
     ]
    },
    {
     "name": "stdout",
     "output_type": "stream",
     "text": [
      "0.005984999999782303 1.4846080000006623 0.8802779999996346 0.8791190000001734 0.3312420000002021 0.2780539999994289 3.8592859999998836\n",
      "(18424,)\n",
      "41.5%, [135/325]\n"
     ]
    },
    {
     "name": "stderr",
     "output_type": "stream",
     "text": [
      "/home/ekaterina/Documents/000_envs/forallpurposes/lib/python3.6/site-packages/ipykernel_launcher.py:24: SettingWithCopyWarning: \n",
      "A value is trying to be set on a copy of a slice from a DataFrame.\n",
      "Try using .loc[row_indexer,col_indexer] = value instead\n",
      "\n",
      "See the caveats in the documentation: https://pandas.pydata.org/pandas-docs/stable/user_guide/indexing.html#returning-a-view-versus-a-copy\n",
      "Found cached file /home/ekaterina/Documents/001_science/lcs/mastDownload/TESS/tess2020160202036-s0026-0000000164886585-0188-s/tess2020160202036-s0026-0000000164886585-0188-s_lc.fits with expected size 1820160.\n",
      "5% (967/17909) of the cadences will be ignored due to the quality mask (quality_bitmask=175).\n",
      "5% (967/17909) of the cadences will be ignored due to the quality mask (quality_bitmask=175).\n",
      "/home/ekaterina/Documents/000_envs/forallpurposes/lib/python3.6/site-packages/altaipony/lcio.py:114: ResourceWarning: unclosed file <_io.FileIO name='/home/ekaterina/Documents/001_science/lcs/mastDownload/TESS/tess2020160202036-s0026-0000000164886585-0188-s/tess2020160202036-s0026-0000000164886585-0188-s_lc.fits' mode='rb' closefd=True>\n",
      "  c)\n",
      "/home/ekaterina/Documents/001_science/Flaring_SPI/notebooks/funcs/transitmask.py:79: RuntimeWarning: invalid value encountered in greater\n",
      "  for mid in get_transit_mid_epochs(x.pl_tranmidepoch,\n",
      "/home/ekaterina/Documents/001_science/Flaring_SPI/notebooks/funcs/transitmask.py:79: RuntimeWarning: invalid value encountered in less\n",
      "  for mid in get_transit_mid_epochs(x.pl_tranmidepoch,\n"
     ]
    },
    {
     "name": "stdout",
     "output_type": "stream",
     "text": [
      "-----------------------------------------\n",
      "1 light curves available for Kepler-1661 in TESS.\n",
      "-----------------------------------------\n"
     ]
    },
    {
     "name": "stderr",
     "output_type": "stream",
     "text": [
      "/home/ekaterina/Documents/000_envs/forallpurposes/lib/python3.6/site-packages/numpy/lib/nanfunctions.py:1113: RuntimeWarning: Mean of empty slice\n",
      "  return np.nanmean(a, axis, out=out, keepdims=keepdims)\n"
     ]
    },
    {
     "name": "stdout",
     "output_type": "stream",
     "text": [
      "0.006497000000308617 1.3098589999999604 0.3811259999993126 0.38253400000030524 0.37145799999962037 0.24939400000039313 2.7008679999999003\n",
      "(16941,)\n",
      "41.8%, [136/325]\n",
      "3894    18\n",
      "3895    24\n",
      "Name: qcs, dtype: int64\n"
     ]
    },
    {
     "name": "stderr",
     "output_type": "stream",
     "text": [
      "5% (922/17554) of the cadences will be ignored due to the quality mask (quality_bitmask=175).\n",
      "5% (922/17554) of the cadences will be ignored due to the quality mask (quality_bitmask=175).\n",
      "/home/ekaterina/Documents/000_envs/forallpurposes/lib/python3.6/site-packages/altaipony/lcio.py:114: ResourceWarning: unclosed file <_io.FileIO name='/home/ekaterina/Documents/001_science/lcs/mastDownload/TESS/tess2019306063752-s0018-0000000256419669-0162-s/tess2019306063752-s0018-0000000256419669-0162-s_lc.fits' mode='rb' closefd=True>\n",
      "  c)\n",
      "/home/ekaterina/Documents/000_envs/forallpurposes/lib/python3.6/site-packages/numpy/lib/nanfunctions.py:1113: RuntimeWarning: Mean of empty slice\n",
      "  return np.nanmean(a, axis, out=out, keepdims=keepdims)\n"
     ]
    },
    {
     "name": "stdout",
     "output_type": "stream",
     "text": [
      "-----------------------------------------\n",
      "1 light curves available for Gl 49 in TESS.\n",
      "-----------------------------------------\n",
      "0.005593000000772008 1.970831999999973 0.7677549999998519 0.7657739999995101 0.6892109999998866 0.6517250000006243 4.850890000000618\n",
      "(15207,)\n",
      "42.2%, [137/325]\n"
     ]
    },
    {
     "name": "stderr",
     "output_type": "stream",
     "text": [
      "4% (857/19074) of the cadences will be ignored due to the quality mask (quality_bitmask=175).\n",
      "4% (857/19074) of the cadences will be ignored due to the quality mask (quality_bitmask=175).\n",
      "/home/ekaterina/Documents/000_envs/forallpurposes/lib/python3.6/site-packages/altaipony/lcio.py:114: ResourceWarning: unclosed file <_io.FileIO name='/home/ekaterina/Documents/001_science/lcs/mastDownload/TESS/tess2020106103520-s0024-0000000256419669-0180-s/tess2020106103520-s0024-0000000256419669-0180-s_lc.fits' mode='rb' closefd=True>\n",
      "  c)\n"
     ]
    },
    {
     "name": "stdout",
     "output_type": "stream",
     "text": [
      "-----------------------------------------\n",
      "1 light curves available for Gl 49 in TESS.\n",
      "-----------------------------------------\n"
     ]
    },
    {
     "name": "stderr",
     "output_type": "stream",
     "text": [
      "/home/ekaterina/Documents/000_envs/forallpurposes/lib/python3.6/site-packages/numpy/lib/nanfunctions.py:1113: RuntimeWarning: Mean of empty slice\n",
      "  return np.nanmean(a, axis, out=out, keepdims=keepdims)\n"
     ]
    },
    {
     "name": "stdout",
     "output_type": "stream",
     "text": [
      "0.005400000000008731 2.3494650000002366 0.8158439999997427 0.8386160000000018 0.3931539999994129 0.31990200000018376 4.7223809999995865\n",
      "(18217,)\n",
      "42.5%, [138/325]\n",
      "1716     8\n",
      "1717    17\n",
      "Name: qcs, dtype: int64\n"
     ]
    },
    {
     "name": "stderr",
     "output_type": "stream",
     "text": [
      "/home/ekaterina/Documents/000_envs/forallpurposes/lib/python3.6/site-packages/ipykernel_launcher.py:24: SettingWithCopyWarning: \n",
      "A value is trying to be set on a copy of a slice from a DataFrame.\n",
      "Try using .loc[row_indexer,col_indexer] = value instead\n",
      "\n",
      "See the caveats in the documentation: https://pandas.pydata.org/pandas-docs/stable/user_guide/indexing.html#returning-a-view-versus-a-copy\n",
      "10% (4072/42720) of the cadences will be ignored due to the quality mask (quality_bitmask=1130799).\n",
      "10% (4072/42720) of the cadences will be ignored due to the quality mask (quality_bitmask=1130799).\n",
      "/home/ekaterina/Documents/000_envs/forallpurposes/lib/python3.6/site-packages/altaipony/lcio.py:102: ResourceWarning: unclosed file <_io.FileIO name='/home/ekaterina/Documents/001_science/lcs/mastDownload/Kepler/kplr007509886_sc_Q000000001000000002/kplr007509886-2011053090032_slc.fits' mode='rb' closefd=True>\n",
      "  c)\n",
      "/home/ekaterina/Documents/000_envs/forallpurposes/lib/python3.6/site-packages/numpy/lib/nanfunctions.py:1113: RuntimeWarning: Mean of empty slice\n",
      "  return np.nanmean(a, axis, out=out, keepdims=keepdims)\n"
     ]
    },
    {
     "name": "stdout",
     "output_type": "stream",
     "text": [
      "-----------------------------------------\n",
      "1 light curves available for Kepler-211 in Kepler.\n",
      "-----------------------------------------\n",
      "0.010318999999981315 3.101408999999876 0.771614999999656 0.7647280000001047 1.054283000000396 0.6000340000000506 6.3023880000000645\n",
      "(37792,)\n",
      "42.8%, [139/325]\n"
     ]
    },
    {
     "name": "stderr",
     "output_type": "stream",
     "text": [
      "/home/ekaterina/Documents/000_envs/forallpurposes/lib/python3.6/site-packages/ipykernel_launcher.py:24: SettingWithCopyWarning: \n",
      "A value is trying to be set on a copy of a slice from a DataFrame.\n",
      "Try using .loc[row_indexer,col_indexer] = value instead\n",
      "\n",
      "See the caveats in the documentation: https://pandas.pydata.org/pandas-docs/stable/user_guide/indexing.html#returning-a-view-versus-a-copy\n",
      "1% (248/32850) of the cadences will be ignored due to the quality mask (quality_bitmask=1130799).\n",
      "1% (248/32850) of the cadences will be ignored due to the quality mask (quality_bitmask=1130799).\n",
      "0% (28/6180) of the cadences will be ignored due to the quality mask (quality_bitmask=1130799).\n",
      "0% (28/6180) of the cadences will be ignored due to the quality mask (quality_bitmask=1130799).\n",
      "/home/ekaterina/Documents/000_envs/forallpurposes/lib/python3.6/site-packages/altaipony/lcio.py:102: ResourceWarning: unclosed file <_io.FileIO name='/home/ekaterina/Documents/001_science/lcs/mastDownload/Kepler/kplr007509886_sc_Q000000001000000002/kplr007509886-2013131215648_slc.fits' mode='rb' closefd=True>\n",
      "  c)\n",
      "/home/ekaterina/Documents/000_envs/forallpurposes/lib/python3.6/site-packages/altaipony/lcio.py:102: ResourceWarning: unclosed file <_io.FileIO name='/home/ekaterina/Documents/001_science/lcs/mastDownload/Kepler/kplr007509886_sc_Q000000001000000002/kplr007509886-2013121191144_slc.fits' mode='rb' closefd=True>\n",
      "  c)\n",
      "/home/ekaterina/Documents/000_envs/forallpurposes/lib/python3.6/site-packages/numpy/lib/nanfunctions.py:1113: RuntimeWarning: Mean of empty slice\n",
      "  return np.nanmean(a, axis, out=out, keepdims=keepdims)\n"
     ]
    },
    {
     "name": "stdout",
     "output_type": "stream",
     "text": [
      "-----------------------------------------\n",
      "2 light curves available for Kepler-211 in Kepler.\n",
      "-----------------------------------------\n",
      "0.00810300000011921 3.4742990000004284 1.466867999999522 1.501140999999734 1.2089750000004642 1.5744850000000952 9.233871000000363\n",
      "(31784,)\n",
      "43.1%, [140/325]\n",
      "7038    14\n",
      "7039    15\n",
      "7040    16\n",
      "7041    17\n",
      "7042    18\n",
      "7043    19\n",
      "7044    21\n",
      "7045    22\n",
      "7046    24\n",
      "7047    25\n",
      "7048    26\n",
      "Name: qcs, dtype: int64\n"
     ]
    },
    {
     "name": "stderr",
     "output_type": "stream",
     "text": [
      "5% (913/19337) of the cadences will be ignored due to the quality mask (quality_bitmask=175).\n",
      "5% (913/19337) of the cadences will be ignored due to the quality mask (quality_bitmask=175).\n",
      "/home/ekaterina/Documents/000_envs/forallpurposes/lib/python3.6/site-packages/altaipony/lcio.py:114: ResourceWarning: unclosed file <_io.FileIO name='/home/ekaterina/Documents/001_science/lcs/mastDownload/TESS/tess2019198215352-s0014-0000000233211762-0150-s/tess2019198215352-s0014-0000000233211762-0150-s_lc.fits' mode='rb' closefd=True>\n",
      "  c)\n",
      "/home/ekaterina/Documents/000_envs/forallpurposes/lib/python3.6/site-packages/numpy/lib/nanfunctions.py:1113: RuntimeWarning: Mean of empty slice\n",
      "  return np.nanmean(a, axis, out=out, keepdims=keepdims)\n"
     ]
    },
    {
     "name": "stdout",
     "output_type": "stream",
     "text": [
      "-----------------------------------------\n",
      "1 light curves available for TIC 233211762 in TESS.\n",
      "-----------------------------------------\n",
      "0.006604000000152155 0.9459850000002916 1.3071899999995367 1.283234999999877 1.2733570000000327 1.4706590000005235 6.287030000000414\n",
      "(17776,)\n",
      "43.4%, [141/325]\n"
     ]
    },
    {
     "name": "stderr",
     "output_type": "stream",
     "text": [
      "5% (1008/18757) of the cadences will be ignored due to the quality mask (quality_bitmask=175).\n",
      "5% (1008/18757) of the cadences will be ignored due to the quality mask (quality_bitmask=175).\n",
      "/home/ekaterina/Documents/000_envs/forallpurposes/lib/python3.6/site-packages/altaipony/lcio.py:114: ResourceWarning: unclosed file <_io.FileIO name='/home/ekaterina/Documents/001_science/lcs/mastDownload/TESS/tess2019226182529-s0015-0000000233211762-0151-s/tess2019226182529-s0015-0000000233211762-0151-s_lc.fits' mode='rb' closefd=True>\n",
      "  c)\n",
      "/home/ekaterina/Documents/000_envs/forallpurposes/lib/python3.6/site-packages/numpy/lib/nanfunctions.py:1113: RuntimeWarning: Mean of empty slice\n",
      "  return np.nanmean(a, axis, out=out, keepdims=keepdims)\n"
     ]
    },
    {
     "name": "stdout",
     "output_type": "stream",
     "text": [
      "-----------------------------------------\n",
      "1 light curves available for TIC 233211762 in TESS.\n",
      "-----------------------------------------\n",
      "0.005276999999296095 0.8641230000002906 1.0973469999998997 1.084617000000435 1.081728999999541 0.7156979999999749 4.848790999999437\n",
      "(15216,)\n",
      "43.7%, [142/325]\n"
     ]
    },
    {
     "name": "stderr",
     "output_type": "stream",
     "text": [
      "6% (1046/17765) of the cadences will be ignored due to the quality mask (quality_bitmask=175).\n",
      "6% (1046/17765) of the cadences will be ignored due to the quality mask (quality_bitmask=175).\n",
      "/home/ekaterina/Documents/000_envs/forallpurposes/lib/python3.6/site-packages/altaipony/lcio.py:114: ResourceWarning: unclosed file <_io.FileIO name='/home/ekaterina/Documents/001_science/lcs/mastDownload/TESS/tess2019253231442-s0016-0000000233211762-0152-s/tess2019253231442-s0016-0000000233211762-0152-s_lc.fits' mode='rb' closefd=True>\n",
      "  c)\n",
      "/home/ekaterina/Documents/000_envs/forallpurposes/lib/python3.6/site-packages/numpy/lib/nanfunctions.py:1113: RuntimeWarning: Mean of empty slice\n",
      "  return np.nanmean(a, axis, out=out, keepdims=keepdims)\n"
     ]
    },
    {
     "name": "stdout",
     "output_type": "stream",
     "text": [
      "-----------------------------------------\n",
      "1 light curves available for TIC 233211762 in TESS.\n",
      "-----------------------------------------\n",
      "0.004656999999497202 0.8356450000001132 1.0681160000003729 1.0379480000001422 1.0442830000001777 1.0618739999999889 5.052523000000292\n",
      "(14560,)\n",
      "44.0%, [143/325]\n"
     ]
    },
    {
     "name": "stderr",
     "output_type": "stream",
     "text": [
      "7% (1347/18012) of the cadences will be ignored due to the quality mask (quality_bitmask=175).\n",
      "7% (1347/18012) of the cadences will be ignored due to the quality mask (quality_bitmask=175).\n",
      "/home/ekaterina/Documents/000_envs/forallpurposes/lib/python3.6/site-packages/altaipony/lcio.py:114: ResourceWarning: unclosed file <_io.FileIO name='/home/ekaterina/Documents/001_science/lcs/mastDownload/TESS/tess2019279210107-s0017-0000000233211762-0161-s/tess2019279210107-s0017-0000000233211762-0161-s_lc.fits' mode='rb' closefd=True>\n",
      "  c)\n",
      "/home/ekaterina/Documents/000_envs/forallpurposes/lib/python3.6/site-packages/numpy/lib/nanfunctions.py:1113: RuntimeWarning: Mean of empty slice\n",
      "  return np.nanmean(a, axis, out=out, keepdims=keepdims)\n"
     ]
    },
    {
     "name": "stdout",
     "output_type": "stream",
     "text": [
      "-----------------------------------------\n",
      "1 light curves available for TIC 233211762 in TESS.\n",
      "-----------------------------------------\n",
      "0.0038439999998445273 0.9149429999997665 0.5425470000000132 0.5159899999998743 0.8796830000001137 0.9359260000001086 3.7929329999997208\n",
      "(11565,)\n",
      "44.3%, [144/325]\n"
     ]
    },
    {
     "name": "stderr",
     "output_type": "stream",
     "text": [
      "5% (922/17554) of the cadences will be ignored due to the quality mask (quality_bitmask=175).\n",
      "5% (922/17554) of the cadences will be ignored due to the quality mask (quality_bitmask=175).\n",
      "/home/ekaterina/Documents/000_envs/forallpurposes/lib/python3.6/site-packages/altaipony/lcio.py:114: ResourceWarning: unclosed file <_io.FileIO name='/home/ekaterina/Documents/001_science/lcs/mastDownload/TESS/tess2019306063752-s0018-0000000233211762-0162-s/tess2019306063752-s0018-0000000233211762-0162-s_lc.fits' mode='rb' closefd=True>\n",
      "  c)\n",
      "/home/ekaterina/Documents/000_envs/forallpurposes/lib/python3.6/site-packages/numpy/lib/nanfunctions.py:1113: RuntimeWarning: Mean of empty slice\n",
      "  return np.nanmean(a, axis, out=out, keepdims=keepdims)\n"
     ]
    },
    {
     "name": "stdout",
     "output_type": "stream",
     "text": [
      "-----------------------------------------\n",
      "1 light curves available for TIC 233211762 in TESS.\n",
      "-----------------------------------------\n",
      "0.004167000000052212 0.8103440000004412 0.9333969999997862 0.9497549999996409 0.5805840000002718 0.9809130000003279 4.25916000000052\n",
      "(13407,)\n",
      "44.6%, [145/325]\n"
     ]
    },
    {
     "name": "stderr",
     "output_type": "stream",
     "text": [
      "5% (985/18052) of the cadences will be ignored due to the quality mask (quality_bitmask=175).\n",
      "5% (985/18052) of the cadences will be ignored due to the quality mask (quality_bitmask=175).\n",
      "/home/ekaterina/Documents/000_envs/forallpurposes/lib/python3.6/site-packages/altaipony/lcio.py:114: ResourceWarning: unclosed file <_io.FileIO name='/home/ekaterina/Documents/001_science/lcs/mastDownload/TESS/tess2019331140908-s0019-0000000233211762-0164-s/tess2019331140908-s0019-0000000233211762-0164-s_lc.fits' mode='rb' closefd=True>\n",
      "  c)\n"
     ]
    },
    {
     "name": "stdout",
     "output_type": "stream",
     "text": [
      "-----------------------------------------\n",
      "1 light curves available for TIC 233211762 in TESS.\n",
      "-----------------------------------------\n"
     ]
    },
    {
     "name": "stderr",
     "output_type": "stream",
     "text": [
      "/home/ekaterina/Documents/000_envs/forallpurposes/lib/python3.6/site-packages/numpy/lib/nanfunctions.py:1113: RuntimeWarning: Mean of empty slice\n",
      "  return np.nanmean(a, axis, out=out, keepdims=keepdims)\n"
     ]
    },
    {
     "name": "stdout",
     "output_type": "stream",
     "text": [
      "0.004632000000128755 1.1279130000002624 1.145741000000271 1.1356229999992138 1.153585000000021 1.1416939999999158 5.709187999999813\n",
      "(15716,)\n",
      "44.9%, [146/325]\n"
     ]
    },
    {
     "name": "stderr",
     "output_type": "stream",
     "text": [
      "5% (935/19694) of the cadences will be ignored due to the quality mask (quality_bitmask=175).\n",
      "5% (935/19694) of the cadences will be ignored due to the quality mask (quality_bitmask=175).\n",
      "/home/ekaterina/Documents/000_envs/forallpurposes/lib/python3.6/site-packages/altaipony/lcio.py:114: ResourceWarning: unclosed file <_io.FileIO name='/home/ekaterina/Documents/001_science/lcs/mastDownload/TESS/tess2020020091053-s0021-0000000233211762-0167-s/tess2020020091053-s0021-0000000233211762-0167-s_lc.fits' mode='rb' closefd=True>\n",
      "  c)\n",
      "/home/ekaterina/Documents/000_envs/forallpurposes/lib/python3.6/site-packages/numpy/lib/nanfunctions.py:1113: RuntimeWarning: Mean of empty slice\n",
      "  return np.nanmean(a, axis, out=out, keepdims=keepdims)\n"
     ]
    },
    {
     "name": "stdout",
     "output_type": "stream",
     "text": [
      "-----------------------------------------\n",
      "1 light curves available for TIC 233211762 in TESS.\n",
      "-----------------------------------------\n",
      "0.005274999999528518 1.1604330000000118 1.379570000000058 1.3204619999996794 1.2790140000006431 1.309494000000086 6.454248000000007\n",
      "(17698,)\n",
      "45.2%, [147/325]\n"
     ]
    },
    {
     "name": "stderr",
     "output_type": "stream",
     "text": [
      "5% (954/19579) of the cadences will be ignored due to the quality mask (quality_bitmask=175).\n",
      "5% (954/19579) of the cadences will be ignored due to the quality mask (quality_bitmask=175).\n",
      "/home/ekaterina/Documents/000_envs/forallpurposes/lib/python3.6/site-packages/altaipony/lcio.py:114: ResourceWarning: unclosed file <_io.FileIO name='/home/ekaterina/Documents/001_science/lcs/mastDownload/TESS/tess2020049080258-s0022-0000000233211762-0174-s/tess2020049080258-s0022-0000000233211762-0174-s_lc.fits' mode='rb' closefd=True>\n",
      "  c)\n",
      "/home/ekaterina/Documents/000_envs/forallpurposes/lib/python3.6/site-packages/numpy/lib/nanfunctions.py:1113: RuntimeWarning: Mean of empty slice\n",
      "  return np.nanmean(a, axis, out=out, keepdims=keepdims)\n"
     ]
    },
    {
     "name": "stdout",
     "output_type": "stream",
     "text": [
      "-----------------------------------------\n",
      "1 light curves available for TIC 233211762 in TESS.\n",
      "-----------------------------------------\n",
      "0.004614999999830616 1.280243000000155 1.0763859999997294 1.0865340000000288 1.0817000000006374 1.1038289999996778 5.633307000000059\n",
      "(15300,)\n",
      "45.5%, [148/325]\n"
     ]
    },
    {
     "name": "stderr",
     "output_type": "stream",
     "text": [
      "4% (857/19074) of the cadences will be ignored due to the quality mask (quality_bitmask=175).\n",
      "4% (857/19074) of the cadences will be ignored due to the quality mask (quality_bitmask=175).\n",
      "/home/ekaterina/Documents/000_envs/forallpurposes/lib/python3.6/site-packages/altaipony/lcio.py:114: ResourceWarning: unclosed file <_io.FileIO name='/home/ekaterina/Documents/001_science/lcs/mastDownload/TESS/tess2020106103520-s0024-0000000233211762-0180-s/tess2020106103520-s0024-0000000233211762-0180-s_lc.fits' mode='rb' closefd=True>\n",
      "  c)\n",
      "/home/ekaterina/Documents/000_envs/forallpurposes/lib/python3.6/site-packages/numpy/lib/nanfunctions.py:1113: RuntimeWarning: Mean of empty slice\n",
      "  return np.nanmean(a, axis, out=out, keepdims=keepdims)\n"
     ]
    },
    {
     "name": "stdout",
     "output_type": "stream",
     "text": [
      "-----------------------------------------\n",
      "1 light curves available for TIC 233211762 in TESS.\n",
      "-----------------------------------------\n",
      "0.005376000000069325 2.1540039999999863 0.7705380000006699 0.7635399999999208 0.8135839999995369 0.7596170000006168 5.2666590000008\n",
      "(17563,)\n",
      "45.8%, [149/325]\n"
     ]
    },
    {
     "name": "stderr",
     "output_type": "stream",
     "text": [
      "7% (1243/18489) of the cadences will be ignored due to the quality mask (quality_bitmask=175).\n",
      "7% (1243/18489) of the cadences will be ignored due to the quality mask (quality_bitmask=175).\n",
      "/home/ekaterina/Documents/000_envs/forallpurposes/lib/python3.6/site-packages/altaipony/lcio.py:114: ResourceWarning: unclosed file <_io.FileIO name='/home/ekaterina/Documents/001_science/lcs/mastDownload/TESS/tess2020133194932-s0025-0000000233211762-0182-s/tess2020133194932-s0025-0000000233211762-0182-s_lc.fits' mode='rb' closefd=True>\n",
      "  c)\n"
     ]
    },
    {
     "name": "stdout",
     "output_type": "stream",
     "text": [
      "-----------------------------------------\n",
      "1 light curves available for TIC 233211762 in TESS.\n",
      "-----------------------------------------\n"
     ]
    },
    {
     "name": "stderr",
     "output_type": "stream",
     "text": [
      "/home/ekaterina/Documents/000_envs/forallpurposes/lib/python3.6/site-packages/numpy/lib/nanfunctions.py:1113: RuntimeWarning: Mean of empty slice\n",
      "  return np.nanmean(a, axis, out=out, keepdims=keepdims)\n"
     ]
    },
    {
     "name": "stdout",
     "output_type": "stream",
     "text": [
      "0.005043000000114262 3.1465419999994992 1.2443709999997736 1.2719850000003134 1.2103269999997792 1.24875400000019 8.12702199999967\n",
      "(16625,)\n",
      "46.2%, [150/325]\n"
     ]
    },
    {
     "name": "stderr",
     "output_type": "stream",
     "text": [
      "5% (967/17909) of the cadences will be ignored due to the quality mask (quality_bitmask=175).\n",
      "5% (967/17909) of the cadences will be ignored due to the quality mask (quality_bitmask=175).\n",
      "/home/ekaterina/Documents/000_envs/forallpurposes/lib/python3.6/site-packages/altaipony/lcio.py:114: ResourceWarning: unclosed file <_io.FileIO name='/home/ekaterina/Documents/001_science/lcs/mastDownload/TESS/tess2020160202036-s0026-0000000233211762-0188-s/tess2020160202036-s0026-0000000233211762-0188-s_lc.fits' mode='rb' closefd=True>\n",
      "  c)\n"
     ]
    },
    {
     "name": "stdout",
     "output_type": "stream",
     "text": [
      "-----------------------------------------\n",
      "1 light curves available for TIC 233211762 in TESS.\n",
      "-----------------------------------------\n"
     ]
    },
    {
     "name": "stderr",
     "output_type": "stream",
     "text": [
      "/home/ekaterina/Documents/000_envs/forallpurposes/lib/python3.6/site-packages/numpy/lib/nanfunctions.py:1113: RuntimeWarning: Mean of empty slice\n",
      "  return np.nanmean(a, axis, out=out, keepdims=keepdims)\n"
     ]
    },
    {
     "name": "stdout",
     "output_type": "stream",
     "text": [
      "0.0048579999993307865 2.126774000000296 0.7050790000002962 0.6973849999994854 0.6892330000000584 0.7073630000004414 4.930691999999908\n",
      "(16353,)\n",
      "46.5%, [151/325]\n",
      "-----------------------------------------\n",
      "Analysis of 325 light curves took 1.7 hours.\n",
      "-----------------------------------------\n"
     ]
    }
   ],
   "source": [
    "TSTART = time.time()\n",
    "n=0\n",
    "N = ff.shape[0]\n",
    "\n",
    "\n",
    "for ID in left:\n",
    "    \n",
    "    rows = eskeptess[(ID == eskeptess[\"ID\"])]\n",
    "    print(rows.qcs)\n",
    "    available_lcs = rows.shape[0]\n",
    "    for j, row in rows.iterrows():\n",
    "        # TIC is unique ID for star\n",
    "        system_tess = exotess[(exotess.TIC == row.TIC)]\n",
    "\n",
    "\n",
    "        # ID is unique, also ignore entries that have no transits\n",
    "        # because there is nothing to mask (they are still searched for flares)\n",
    "        system_kepler = exokepler[(exokepler.hostname == row.ID) &\n",
    "                           (exokepler.discoverymethod == \"Transit\")]\n",
    "\n",
    "        try:\n",
    "            if system_kepler.shape[0] > 0:\n",
    "                system_kepler[\"pl_tranmidepoch\"] = (system_kepler.pl_tranmid -\n",
    "                                                    offset[system_kepler.iloc[0].disc_facility])\n",
    "            system = pd.concat([system_kepler, system_tess],ignore_index=True)\n",
    "\n",
    "        except KeyError:\n",
    "            system = system_tess\n",
    "            print(system_kepler.pl_tranmid_systemref)\n",
    "\n",
    "        # fetch light curve from MAST\n",
    "        flc = from_mast(row.ID, mission=row.mission, c=row.qcs, cadence=\"short\",\n",
    "                        download_dir=\"/home/ekaterina/Documents/001_science/lcs\")\n",
    "\n",
    "        # make it a list of LCs even if only one LC is returned\n",
    "        if type(flc) == FlareLightCurve:\n",
    "\n",
    "            flc = [flc]\n",
    "\n",
    "        elif type(flc) == list:\n",
    "\n",
    "            flc = flc\n",
    "\n",
    "        # info\n",
    "        mprint(f\"{len(flc)} light curves available for {row.ID} in {row.mission}.\")\n",
    "        \n",
    "        if row.mission == \"TESS\":\n",
    "            flc = flc[:1]\n",
    "\n",
    "        # loop over all LCs for the system    \n",
    "        for i, f in enumerate(flc):\n",
    "\n",
    "            # If any planet transiting\n",
    "            if system.shape[0] > 0:\n",
    "\n",
    "                # mask transits\n",
    "                tranmask = get_full_transit_mask(system, f, pad=0)\n",
    "                f.flux[tranmask] = np.nan\n",
    "\n",
    "            # get timestamp for result\n",
    "            tstamp = time.strftime(\"%d_%m_%Y_%H_%M_%S\", time.localtime())\n",
    "            # apply custom detrending\n",
    "            \n",
    "            try:\n",
    "                ts = time.clock()\n",
    "                fd = custom_detrending(f)\n",
    "                tf = time.clock()\n",
    "\n",
    "\n",
    "                # define two hour window for rolling std\n",
    "                w = np.floor(1. / 12. / np.nanmin(np.diff(fd.time)))\n",
    "                if w%2==0: \n",
    "                    w+=1\n",
    "\n",
    "                # use window to estimate the noise in the LC\n",
    "                df = estimate_detrended_noise(fd, std_window=int(w), mask_pos_outliers_sigma=1.5)\n",
    "\n",
    "                fin = np.isfinite(df.detrended_flux)\n",
    "                print(df.detrended_flux[fin].shape)\n",
    "\n",
    "                        # add results to file\n",
    "                with open(\"../results/2020_02_obsdurs.csv\", \"a\") as file:\n",
    "                    s = f\"{row.ID},{row.qcs},{i},{df.detrended_flux[fin].shape[0]},{row.mission},{available_lcs}\\n\"\n",
    "                    file.write(s)    # info\n",
    "\n",
    "                with open(f\"../results/observedtimes/{row.ID}_{row.qcs}_{i}_{row.mission}.csv\", \"w\") as file:\n",
    "                    d = pd.DataFrame({\"time\":df.time[fin],\"flux\":df.detrended_flux[fin]})\n",
    "                    d.to_csv(file,index=False)\n",
    "            except Exception as err:\n",
    "                with open(\"../results/nodetrend_phase.txt\", \"a\") as file:\n",
    "                    s = f\"{row.ID},{row.qcs},{row.mission},{tstamp},{i},{err}\\n\"\n",
    "                    file.write(s)\n",
    "        n += 1\n",
    "        print(f\"{n / N * 100.:.1f}%, [{n}/{N}]\")\n",
    "\n",
    "        # breathe\n",
    "        time.sleep(10)\n",
    "\n",
    "TSTOP = time.time()\n",
    "mprint(f\"Analysis of {N} light curves took {(TSTOP - TSTART) / 60. / 60.:.1f} hours.\")"
   ]
  },
  {
   "cell_type": "markdown",
   "metadata": {},
   "source": [
    "# Add one"
   ]
  },
  {
   "cell_type": "code",
   "execution_count": 18,
   "metadata": {},
   "outputs": [
    {
     "name": "stdout",
     "output_type": "stream",
     "text": [
      "27\n"
     ]
    }
   ],
   "source": [
    "row = eskeptess[(\"AU Mic\" == eskeptess[\"ID\"])].iloc[1]\n",
    "print(row.qcs)"
   ]
  },
  {
   "cell_type": "code",
   "execution_count": 19,
   "metadata": {},
   "outputs": [
    {
     "name": "stderr",
     "output_type": "stream",
     "text": [
      "/home/ekaterina/Documents/000_envs/forallpurposes/lib/python3.6/site-packages/ipykernel_launcher.py:13: SettingWithCopyWarning: \n",
      "A value is trying to be set on a copy of a slice from a DataFrame.\n",
      "Try using .loc[row_indexer,col_indexer] = value instead\n",
      "\n",
      "See the caveats in the documentation: https://pandas.pydata.org/pandas-docs/stable/user_guide/indexing.html#returning-a-view-versus-a-copy\n",
      "  del sys.path[0]\n",
      "Found cached file /home/ekaterina/Documents/001_science/lcs/mastDownload/TESS/tess2020186164531-s0027-0000000441420236-0189-a_fast/tess2020186164531-s0027-0000000441420236-0189-a_fast-lc.fits with expected size 10558080.\n",
      "4% (4549/105285) of the cadences will be ignored due to the quality mask (quality_bitmask=175).\n",
      "4% (4549/105285) of the cadences will be ignored due to the quality mask (quality_bitmask=175).\n",
      "Found cached file /home/ekaterina/Documents/001_science/lcs/mastDownload/TESS/tess2020186164531-s0027-0000000441420236-0189-s/tess2020186164531-s0027-0000000441420236-0189-s_lc.fits with expected size 1785600.\n",
      "4% (765/17546) of the cadences will be ignored due to the quality mask (quality_bitmask=175).\n",
      "4% (765/17546) of the cadences will be ignored due to the quality mask (quality_bitmask=175).\n",
      "/home/ekaterina/Documents/000_envs/forallpurposes/lib/python3.6/site-packages/altaipony/lcio.py:114: ResourceWarning: unclosed file <_io.FileIO name='/home/ekaterina/Documents/001_science/lcs/mastDownload/TESS/tess2020186164531-s0027-0000000441420236-0189-s/tess2020186164531-s0027-0000000441420236-0189-s_lc.fits' mode='rb' closefd=True>\n",
      "  c)\n",
      "/home/ekaterina/Documents/000_envs/forallpurposes/lib/python3.6/site-packages/altaipony/lcio.py:114: ResourceWarning: unclosed file <_io.FileIO name='/home/ekaterina/Documents/001_science/lcs/mastDownload/TESS/tess2020186164531-s0027-0000000441420236-0189-a_fast/tess2020186164531-s0027-0000000441420236-0189-a_fast-lc.fits' mode='rb' closefd=True>\n",
      "  c)\n"
     ]
    },
    {
     "name": "stdout",
     "output_type": "stream",
     "text": [
      "-----------------------------------------\n",
      "2 light curves available for AU Mic in TESS.\n",
      "-----------------------------------------\n"
     ]
    },
    {
     "name": "stderr",
     "output_type": "stream",
     "text": [
      "/home/ekaterina/Documents/000_envs/forallpurposes/lib/python3.6/site-packages/numpy/lib/nanfunctions.py:1113: RuntimeWarning: Mean of empty slice\n",
      "  return np.nanmean(a, axis, out=out, keepdims=keepdims)\n"
     ]
    },
    {
     "name": "stdout",
     "output_type": "stream",
     "text": [
      "0.023182000000019798 36.72249700000003 8.654831999999999 8.854547999999966 8.054339000000027 8.170119999999997 70.47951800000004\n",
      "(100736,)\n"
     ]
    }
   ],
   "source": [
    "# TIC is unique ID for star\n",
    "system_tess = exotess[(exotess.TIC == row.TIC)]\n",
    "\n",
    "\n",
    "# ID is unique, also ignore entries that have no transits\n",
    "# because there is nothing to mask (they are still searched for flares)\n",
    "system_kepler = exokepler[(exokepler.hostname == row.ID) &\n",
    "                   (exokepler.discoverymethod == \"Transit\")]\n",
    "\n",
    "try:\n",
    "    if system_kepler.shape[0] > 0:\n",
    "        system_kepler[\"pl_tranmidepoch\"] = (system_kepler.pl_tranmid -\n",
    "                                            offset[system_kepler.iloc[0].disc_facility])\n",
    "    system = pd.concat([system_kepler, system_tess],ignore_index=True)\n",
    "\n",
    "except KeyError:\n",
    "    system = system_tess\n",
    "    print(system_kepler.pl_tranmid_systemref)\n",
    "\n",
    "# fetch light curve from MAST\n",
    "flc = from_mast(row.ID, mission=row.mission, c=row.qcs, cadence=\"short\",\n",
    "                download_dir=\"/home/ekaterina/Documents/001_science/lcs\")\n",
    "\n",
    "# make it a list of LCs even if only one LC is returned\n",
    "if type(flc) == FlareLightCurve:\n",
    "\n",
    "    flc = [flc]\n",
    "\n",
    "elif type(flc) == list:\n",
    "\n",
    "    flc = flc\n",
    "\n",
    "# info\n",
    "mprint(f\"{len(flc)} light curves available for {row.ID} in {row.mission}.\")\n",
    "\n",
    "if row.mission == \"TESS\":\n",
    "    flc = flc[:1]\n",
    "\n",
    "# loop over all LCs for the system    \n",
    "for i, f in enumerate(flc):\n",
    "\n",
    "#     # If any planet transiting\n",
    "#     if system.shape[0] > 0:\n",
    "\n",
    "#         # mask transits\n",
    "#         tranmask = get_full_transit_mask(system, f, pad=0)\n",
    "#         f.flux[tranmask] = np.nan\n",
    "\n",
    "    # get timestamp for result\n",
    "    tstamp = time.strftime(\"%d_%m_%Y_%H_%M_%S\", time.localtime())\n",
    "    # apply custom detrending\n",
    "\n",
    "    try:\n",
    "        ts = time.clock()\n",
    "        fd = custom_detrending(f)\n",
    "        tf = time.clock()\n",
    "\n",
    "\n",
    "        # define two hour window for rolling std\n",
    "        w = np.floor(1. / 12. / np.nanmin(np.diff(fd.time)))\n",
    "        if w%2==0: \n",
    "            w+=1\n",
    "\n",
    "        # use window to estimate the noise in the LC\n",
    "        df = estimate_detrended_noise(fd, std_window=int(w), mask_pos_outliers_sigma=1.5)\n",
    "\n",
    "        fin = np.isfinite(df.detrended_flux)\n",
    "        print(df.detrended_flux[fin].shape)\n",
    "\n",
    "                # add results to file\n",
    "        with open(\"../results/2020_02_obsdurs.csv\", \"a\") as file:\n",
    "            s = f\"{row.ID},{row.qcs},{i},{df.detrended_flux[fin].shape[0]},{row.mission},2\\n\"\n",
    "            file.write(s)    # info\n",
    "\n",
    "        with open(f\"../results/observedtimes/{row.ID}_{row.qcs}_{i}_{row.mission}.csv\", \"w\") as file:\n",
    "            d = pd.DataFrame({\"time\":df.time[fin],\"flux\":df.detrended_flux[fin]})\n",
    "            d.to_csv(file,index=False)\n",
    "    except Exception as err:\n",
    "        with open(\"../results/nodetrend_phase.txt\", \"a\") as file:\n",
    "            s = f\"{row.ID},{row.qcs},{row.mission},{tstamp},{i},{err}\\n\"\n",
    "            file.write(s)"
   ]
  },
  {
   "cell_type": "markdown",
   "metadata": {},
   "source": [
    "# Backlog"
   ]
  },
  {
   "cell_type": "code",
   "execution_count": null,
   "metadata": {
    "scrolled": false
   },
   "outputs": [],
   "source": [
    "#work through a subset first\n",
    "# row = fla.iloc[158]\n",
    "phases = []\n",
    "trandurs = []\n",
    "for label, row in fla.iterrows():\n",
    "\n",
    "    # TIC is unique ID for star\n",
    "    system_tess = exotess[(exotess.TIC == row.ID)]\n",
    "\n",
    "    # ID is unique, also ignore entries that have no transits\n",
    "    # because there is nothing to mask (they are still searched for flares)\n",
    "    system_kepler = exokepler[(exokepler.hostname == row.ID) &\n",
    "                       (exokepler.discoverymethod == \"Transit\")]\n",
    "\n",
    "    try:\n",
    "        if system_kepler.shape[0] > 0:\n",
    "            system_kepler[\"pl_tranmidepoch\"] = (system_kepler.pl_tranmid -\n",
    "                                                offset[system_kepler.iloc[0].disc_facility])\n",
    "\n",
    "        system = pd.concat([system_kepler, system_tess],ignore_index=True)\n",
    "        system = system.sort_values(by=\"pl_orbper\",ascending=True).iloc[0]\n",
    "\n",
    "        tmid = system.pl_tranmidepoch\n",
    "        orbper = system.pl_orbper\n",
    "        tflare = row.tstart\n",
    "        phase = ((tflare - tmid) % orbper) / orbper\n",
    "        trandurs.append(system.pl_trandur / 24. / orbper)\n",
    "        phases.append(phase)\n",
    "        print(phase)\n",
    "    except KeyError:\n",
    "        phases.append(np.nan)\n",
    "        trandurs.append(0.)\n",
    "        print(\"nope\")\n",
    "    except IndexError:\n",
    "        phases.append(np.nan)\n",
    "        trandurs.append(0.)\n",
    "        print(\"nope\")"
   ]
  },
  {
   "cell_type": "code",
   "execution_count": null,
   "metadata": {},
   "outputs": [],
   "source": [
    "st = startrandurs[~np.isnan(startrandurs)]\n",
    "np.percentile(np.sort(st),90)"
   ]
  },
  {
   "cell_type": "code",
   "execution_count": 9,
   "metadata": {},
   "outputs": [
    {
     "ename": "NameError",
     "evalue": "name 'phases' is not defined",
     "output_type": "error",
     "traceback": [
      "\u001b[0;31m---------------------------------------------------------------------------\u001b[0m",
      "\u001b[0;31mNameError\u001b[0m                                 Traceback (most recent call last)",
      "\u001b[0;32m<ipython-input-9-c0d8d651c701>\u001b[0m in \u001b[0;36m<module>\u001b[0;34m\u001b[0m\n\u001b[1;32m      1\u001b[0m \u001b[0mplt\u001b[0m\u001b[0;34m.\u001b[0m\u001b[0mfigure\u001b[0m\u001b[0;34m(\u001b[0m\u001b[0mfigsize\u001b[0m\u001b[0;34m=\u001b[0m\u001b[0;34m(\u001b[0m\u001b[0;36m8\u001b[0m\u001b[0;34m,\u001b[0m\u001b[0;36m5\u001b[0m\u001b[0;34m)\u001b[0m\u001b[0;34m)\u001b[0m\u001b[0;34m\u001b[0m\u001b[0;34m\u001b[0m\u001b[0m\n\u001b[1;32m      2\u001b[0m \u001b[0;34m\u001b[0m\u001b[0m\n\u001b[0;32m----> 3\u001b[0;31m \u001b[0mhist\u001b[0m \u001b[0;34m=\u001b[0m \u001b[0mplt\u001b[0m\u001b[0;34m.\u001b[0m\u001b[0mhist\u001b[0m\u001b[0;34m(\u001b[0m\u001b[0mphases\u001b[0m\u001b[0;34m,\u001b[0m \u001b[0mbins\u001b[0m\u001b[0;34m=\u001b[0m\u001b[0mnp\u001b[0m\u001b[0;34m.\u001b[0m\u001b[0mlinspace\u001b[0m\u001b[0;34m(\u001b[0m\u001b[0;36m0\u001b[0m\u001b[0;34m,\u001b[0m\u001b[0;36m1\u001b[0m\u001b[0;34m,\u001b[0m\u001b[0;36m10\u001b[0m\u001b[0;34m)\u001b[0m\u001b[0;34m,\u001b[0m \u001b[0mhisttype\u001b[0m\u001b[0;34m=\u001b[0m\u001b[0;34m\"step\"\u001b[0m\u001b[0;34m,\u001b[0m\u001b[0medgecolor\u001b[0m\u001b[0;34m=\u001b[0m\u001b[0;34m\"r\"\u001b[0m\u001b[0;34m)\u001b[0m\u001b[0;34m\u001b[0m\u001b[0;34m\u001b[0m\u001b[0m\n\u001b[0m\u001b[1;32m      4\u001b[0m \u001b[0mplt\u001b[0m\u001b[0;34m.\u001b[0m\u001b[0maxvline\u001b[0m\u001b[0;34m(\u001b[0m\u001b[0mnp\u001b[0m\u001b[0;34m.\u001b[0m\u001b[0mnanmean\u001b[0m\u001b[0;34m(\u001b[0m\u001b[0mstartrandurs\u001b[0m\u001b[0;34m)\u001b[0m\u001b[0;34m,\u001b[0m \u001b[0mc\u001b[0m\u001b[0;34m=\u001b[0m\u001b[0;34m\"k\"\u001b[0m\u001b[0;34m,\u001b[0m \u001b[0mlabel\u001b[0m\u001b[0;34m=\u001b[0m\u001b[0;34m\"mean transit duration\"\u001b[0m\u001b[0;34m)\u001b[0m\u001b[0;34m\u001b[0m\u001b[0;34m\u001b[0m\u001b[0m\n\u001b[1;32m      5\u001b[0m \u001b[0mplt\u001b[0m\u001b[0;34m.\u001b[0m\u001b[0maxvline\u001b[0m\u001b[0;34m(\u001b[0m\u001b[0mnp\u001b[0m\u001b[0;34m.\u001b[0m\u001b[0mpercentile\u001b[0m\u001b[0;34m(\u001b[0m\u001b[0mnp\u001b[0m\u001b[0;34m.\u001b[0m\u001b[0msort\u001b[0m\u001b[0;34m(\u001b[0m\u001b[0mst\u001b[0m\u001b[0;34m)\u001b[0m\u001b[0;34m,\u001b[0m\u001b[0;36m95\u001b[0m\u001b[0;34m)\u001b[0m\u001b[0;34m,\u001b[0m \u001b[0mc\u001b[0m\u001b[0;34m=\u001b[0m\u001b[0;34m\"grey\"\u001b[0m\u001b[0;34m,\u001b[0m \u001b[0mlabel\u001b[0m\u001b[0;34m=\u001b[0m\u001b[0;34m\"95th percentile transit duration\"\u001b[0m\u001b[0;34m)\u001b[0m\u001b[0;34m\u001b[0m\u001b[0;34m\u001b[0m\u001b[0m\n",
      "\u001b[0;31mNameError\u001b[0m: name 'phases' is not defined"
     ]
    }
   ],
   "source": [
    "plt.figure(figsize=(8,5))\n",
    "\n",
    "hist = plt.hist(phases, bins=np.linspace(0,1,10), histtype=\"step\",edgecolor=\"r\")\n",
    "plt.axvline(np.nanmean(startrandurs), c=\"k\", label=\"mean transit duration\")\n",
    "plt.axvline(np.percentile(np.sort(st),95), c=\"grey\", label=\"95th percentile transit duration\")\n",
    "plt.axvline(np.nanmax(startrandurs), c=\"silver\", label=\"\")\n",
    "plt.axhline(np.mean(hist[0]),c=\"orange\",label=\"mean\")\n",
    "plt.fill_between(hist[1],np.mean(hist[0]) - np.std(hist[0]),\n",
    "                 np.mean(hist[0]) + np.std(hist[0]),alpha=.4,\n",
    "                 label=\"standard deviation\")\n",
    "# plt.axhline(np.mean(hist[0]) - np.std(hist[0]))\n",
    "plt.xlim(0,1)\n",
    "plt.legend(frameon=False);"
   ]
  },
  {
   "cell_type": "code",
   "execution_count": null,
   "metadata": {},
   "outputs": [],
   "source": [
    "np.std(hist[0])"
   ]
  },
  {
   "cell_type": "code",
   "execution_count": null,
   "metadata": {},
   "outputs": [],
   "source": [
    "fla[\"phase\"] = phases\n",
    "fla[\"frac_tran\"] = trandurs"
   ]
  },
  {
   "cell_type": "code",
   "execution_count": null,
   "metadata": {},
   "outputs": [],
   "source": [
    "startrandurs = fla.drop_duplicates(subset=[\"ID\"]).frac_tran"
   ]
  },
  {
   "cell_type": "code",
   "execution_count": null,
   "metadata": {},
   "outputs": [],
   "source": [
    "plt.hist(startrandurs, bins=np.logspace(-3,-.5,15), histtype=\"step\", edgecolor=\"k\")\n",
    "plt.xscale(\"log\")\n",
    "plt.xlabel(\"duration of transit / orbital period\")\n",
    "plt.title(f\"{len(startrandurs)} star-planet-systems with flares\")"
   ]
  },
  {
   "cell_type": "code",
   "execution_count": null,
   "metadata": {},
   "outputs": [],
   "source": []
  },
  {
   "cell_type": "code",
   "execution_count": null,
   "metadata": {},
   "outputs": [],
   "source": [
    "np.sum(startrandurs)/len(startrandurs)"
   ]
  },
  {
   "cell_type": "markdown",
   "metadata": {},
   "source": [
    "- tranmidepoch is phase 0\n",
    "\n",
    "- select innermost component in multiplanet systems\n",
    "- calculate pseudotransit mid epoch for RV planets\n",
    "\n",
    "\n",
    "- the correct metric is number of flares per observed phase"
   ]
  },
  {
   "cell_type": "code",
   "execution_count": null,
   "metadata": {},
   "outputs": [],
   "source": [
    "0.009200275324758905 * 3000"
   ]
  },
  {
   "cell_type": "code",
   "execution_count": null,
   "metadata": {},
   "outputs": [],
   "source": []
  }
 ],
 "metadata": {
  "kernelspec": {
   "display_name": "forallpurposes",
   "language": "python",
   "name": "forallpurposes"
  },
  "language_info": {
   "codemirror_mode": {
    "name": "ipython",
    "version": 3
   },
   "file_extension": ".py",
   "mimetype": "text/x-python",
   "name": "python",
   "nbconvert_exporter": "python",
   "pygments_lexer": "ipython3",
   "version": "3.6.9"
  }
 },
 "nbformat": 4,
 "nbformat_minor": 2
}
