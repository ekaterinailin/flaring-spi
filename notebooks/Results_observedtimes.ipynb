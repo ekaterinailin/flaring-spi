{
 "cells": [
  {
   "cell_type": "code",
   "execution_count": 1,
   "metadata": {},
   "outputs": [],
   "source": [
    "from funcs.notebook import *\n",
    "from funcs.transitmask import get_full_transit_mask, fit_and_remove_transits\n",
    "from funcs.detrend import custom_detrending, estimate_detrended_noise\n",
    "import time\n",
    "\n",
    "import transitleastsquares as tls\n",
    "\n",
    "sep = \"-----------------------------------------\"\n",
    "\n",
    "def mprint(message):\n",
    "    print(sep)\n",
    "    print(message)\n",
    "    print(sep)\n",
    "    \n",
    "offset = {\"K2\":2454833.,\"Kepler\":2454833.,\"TESS\":2457000., \n",
    "          \"Transiting Exoplanet Survey Satellite (TESS)\" : 2457000.}    \n",
    "\n",
    "\n",
    "from altaipony.lcio import from_mast\n",
    "from altaipony.flarelc import FlareLightCurve\n",
    "from altaipony.altai import find_iterative_median"
   ]
  },
  {
   "cell_type": "code",
   "execution_count": 2,
   "metadata": {},
   "outputs": [
    {
     "name": "stdout",
     "output_type": "stream",
     "text": [
      "-----------------------------------------\n",
      "[UP] Using confirmed and uncontroversial entries in NASA Composite Table from {path}\n",
      "-----------------------------------------\n"
     ]
    },
    {
     "name": "stderr",
     "output_type": "stream",
     "text": [
      "NumExpr defaulting to 8 threads.\n"
     ]
    },
    {
     "name": "stdout",
     "output_type": "stream",
     "text": [
      "-----------------------------------------\n",
      "[UP] Using TESS-TOI Table from ../data/2021_01_13_TESS_TOI_CATALOG.csv\n",
      "-----------------------------------------\n"
     ]
    }
   ],
   "source": [
    "# Composite Table of confirmed exoplanets\n",
    "path = \"20_01_2021_confirmed_uncontroversial_exoplanet_systems.csv\"\n",
    "\n",
    "mprint(f\"[UP] Using confirmed and uncontroversial \"\n",
    "      \"entries in NASA Composite Table from {path}\")\n",
    "\n",
    "exokepler = pd.read_csv(f\"../data/{path}\") # composite table\n",
    "\n",
    "# read in TESS-TOI sample \n",
    "path = \"../data/2021_01_13_TESS_TOI_CATALOG.csv\"\n",
    "\n",
    "mprint(f\"[UP] Using TESS-TOI Table from {path}\")\n",
    "\n",
    "exotess = pd.read_csv(path, skiprows=4)\n",
    "\n",
    "# rename the relevant columns for transit masking\n",
    "exotess = exotess.rename(index=str, \n",
    "                         columns={'Transit Duration Value':\"pl_trandur\",\n",
    "                                  'Orbital Period Value': \"pl_orbper\",\n",
    "                                  'Orbital Period Error': \"pl_orbpererr\",\n",
    "                                  'Epoch Value':\"pl_tranmidepoch\",\n",
    "                                  'Epoch Error':\"pl_tranmidepocherr\"})\n",
    "\n",
    "\n",
    "# read in list of LCs to search\n",
    "es = pd.read_csv(\"../data/20_01_2021_full_kepler_k2_tess_exoplanet_lcs_some_excluded.csv\")\n",
    "\n",
    "# select only Kepler and TESS, ignore K2 for now\n",
    "eskeptess = es[(es.mission==\"TESS\") | (es.mission==\"Kepler\")]\n",
    "\n",
    "# read in searched LCs with and without flares\n",
    "flares = pd.read_csv(\"../results/2020_02_flares_vetted.csv\")\n",
    "fla = flares[(flares[\"real?\"]==1)]\n",
    "\n",
    "# pick only LC that were not yet searched\n",
    "#eskeptess = eskeptess[~eskeptess.ID.isin(fla.ID.unique())]"
   ]
  },
  {
   "cell_type": "code",
   "execution_count": null,
   "metadata": {},
   "outputs": [],
   "source": [
    "exokepler.columns.values"
   ]
  },
  {
   "cell_type": "code",
   "execution_count": null,
   "metadata": {},
   "outputs": [],
   "source": [
    "flares.groupby([\"ID\", \"qcs\"]).count().shape, eskeptess.groupby([\"ID\", \"qcs\", \"mission\"]).count().shape"
   ]
  },
  {
   "cell_type": "code",
   "execution_count": null,
   "metadata": {},
   "outputs": [],
   "source": [
    "ff = fla[[\"ID\", \"qcs\"]].drop_duplicates(keep=\"first\")"
   ]
  },
  {
   "cell_type": "code",
   "execution_count": null,
   "metadata": {},
   "outputs": [],
   "source": [
    "obsdurs = pd.read_csv(\"../results/2020_02_obsdurs.csv\")\n",
    "missing = pd.concat([obsdurs, ff]).drop_duplicates(subset=[\"ID\", \"qcs\"], \n",
    "                                                          keep=False)\n",
    "obsdurs.shape, missing.shape"
   ]
  },
  {
   "cell_type": "code",
   "execution_count": null,
   "metadata": {},
   "outputs": [],
   "source": [
    "a = set(ff.ID.unique())\n",
    "b = set(obsdurs.ID.unique())\n",
    "left =  list(a - b)"
   ]
  },
  {
   "cell_type": "code",
   "execution_count": null,
   "metadata": {},
   "outputs": [],
   "source": [
    "len(a), len(b), len(left)"
   ]
  },
  {
   "cell_type": "code",
   "execution_count": null,
   "metadata": {},
   "outputs": [],
   "source": [
    "TSTART = time.time()\n",
    "n=0\n",
    "N = ff.shape[0]\n",
    "\n",
    "\n",
    "for ID in left:\n",
    "    \n",
    "    rows = eskeptess[(ID == eskeptess[\"ID\"])]\n",
    "    \n",
    "    available_lcs = rows.shape[0]\n",
    "    for j, row in rows.iterrows():\n",
    "        # TIC is unique ID for star\n",
    "        system_tess = exotess[(exotess.TIC == row.TIC)]\n",
    "\n",
    "\n",
    "        # ID is unique, also ignore entries that have no transits\n",
    "        # because there is nothing to mask (they are still searched for flares)\n",
    "        system_kepler = exokepler[(exokepler.hostname == row.ID) &\n",
    "                           (exokepler.discoverymethod == \"Transit\")]\n",
    "        \n",
    "        system_kepler[\"pl_orbpererr\"] = (system_kepler.pl_orbpererr1 +\n",
    "                                         system_kepler.pl_orbpererr2) / 2\n",
    "\n",
    "        try:\n",
    "            if system_kepler.shape[0] > 0:\n",
    "                system_kepler[\"pl_tranmidepoch\"] = (system_kepler.pl_tranmid -\n",
    "                                                    offset[system_kepler.iloc[0].disc_facility])\n",
    "                system_kepler[\"pl_tranmidepocherr\"] = (system_kepler.pl_tranmiderr1 +\n",
    "                                                  system_kepler.pl_tranmiderr2) / 2\n",
    "            system = pd.concat([system_kepler, system_tess],ignore_index=True)\n",
    "\n",
    "        except KeyError:\n",
    "            system = system_tess\n",
    "            print(system_kepler.pl_tranmid_systemref)\n",
    "\n",
    "        # fetch light curve from MAST\n",
    "        flc = from_mast(row.ID, mission=row.mission, c=row.qcs, cadence=\"short\",\n",
    "                        download_dir=\"/home/ekaterina/Documents/001_science/lcs\")\n",
    "\n",
    "        # make it a list of LCs even if only one LC is returned\n",
    "        if type(flc) == FlareLightCurve:\n",
    "\n",
    "            flc = [flc]\n",
    "\n",
    "        elif type(flc) == list:\n",
    "\n",
    "            flc = flc\n",
    "\n",
    "        # info\n",
    "        mprint(f\"{len(flc)} light curves available for {row.ID} in {row.mission}.\")\n",
    "        \n",
    "        if row.mission == \"TESS\":\n",
    "            flc = flc[:1]\n",
    "\n",
    "        # loop over all LCs for the system    \n",
    "        for i, f in enumerate(flc):\n",
    "\n",
    "            # If any planet transiting\n",
    "            if system.shape[0] > 0:\n",
    "\n",
    "                # mask transits\n",
    "                tranmask = get_full_transit_mask(system, f, pad=0)\n",
    "                f.flux[tranmask] = np.nan\n",
    "\n",
    "            # get timestamp for result\n",
    "            tstamp = time.strftime(\"%d_%m_%Y_%H_%M_%S\", time.localtime())\n",
    "            # apply custom detrending\n",
    "            \n",
    "            try:\n",
    "                ts = time.clock()\n",
    "                fd = custom_detrending(f)\n",
    "                tf = time.clock()\n",
    "\n",
    "\n",
    "                # define two hour window for rolling std\n",
    "                w = np.floor(1. / 12. / np.nanmin(np.diff(fd.time)))\n",
    "                if w%2==0: \n",
    "                    w+=1\n",
    "\n",
    "                # use window to estimate the noise in the LC\n",
    "                df = estimate_detrended_noise(fd, std_window=int(w), mask_pos_outliers_sigma=1.5)\n",
    "\n",
    "                fin = np.isfinite(df.detrended_flux)\n",
    "\n",
    "                        # add results to file\n",
    "                with open(\"../results/2020_02_obsdurs.csv\", \"a\") as file:\n",
    "                    s = f\"{row.ID},{row.qcs},{i},{df.detrended_flux[fin].shape[0]},{row.mission},{available_lcs}\\n\"\n",
    "                    file.write(s)    # info\n",
    "\n",
    "                with open(f\"../results/observedtimes/{row.ID}_{row.qcs}_{i}_{row.mission}.csv\", \"w\") as file:\n",
    "                    d = pd.DataFrame({\"time\":df.time[fin],\"flux\":df.detrended_flux[fin]})\n",
    "                    d.to_csv(file,index=False)\n",
    "            except Exception as err:\n",
    "                with open(\"../results/nodetrend_phase.txt\", \"a\") as file:\n",
    "                    s = f\"{row.ID},{row.qcs},{row.mission},{tstamp},{i},{err}\\n\"\n",
    "                    file.write(s)\n",
    "        n += 1\n",
    "        print(f\"{n / N * 100.:.1f}%, [{n}/{N}]\")\n",
    "\n",
    "        # breathe\n",
    "        time.sleep(10)\n",
    "\n",
    "TSTOP = time.time()\n",
    "mprint(f\"Analysis of {N} light curves took {(TSTOP - TSTART) / 60. / 60.:.1f} hours.\")"
   ]
  },
  {
   "cell_type": "markdown",
   "metadata": {},
   "source": [
    "# Add one"
   ]
  },
  {
   "cell_type": "code",
   "execution_count": 127,
   "metadata": {},
   "outputs": [],
   "source": [
    "ID = \"Kepler-16\"\n",
    "rows = eskeptess[(ID == eskeptess[\"ID\"])]\n",
    "available_lcs = rows.shape[0]"
   ]
  },
  {
   "cell_type": "code",
   "execution_count": 130,
   "metadata": {},
   "outputs": [
    {
     "name": "stdout",
     "output_type": "stream",
     "text": [
      "17\n"
     ]
    }
   ],
   "source": [
    "row = eskeptess[(ID == eskeptess[\"ID\"])].iloc[8]\n",
    "print(row.qcs)"
   ]
  },
  {
   "cell_type": "code",
   "execution_count": 131,
   "metadata": {},
   "outputs": [
    {
     "name": "stderr",
     "output_type": "stream",
     "text": [
      "/home/ekaterina/Documents/000_envs/python37/lib/python3.7/site-packages/ipykernel_launcher.py:13: SettingWithCopyWarning: \n",
      "A value is trying to be set on a copy of a slice from a DataFrame.\n",
      "Try using .loc[row_indexer,col_indexer] = value instead\n",
      "\n",
      "See the caveats in the documentation: https://pandas.pydata.org/pandas-docs/stable/user_guide/indexing.html#returning-a-view-versus-a-copy\n",
      "  del sys.path[0]\n"
     ]
    },
    {
     "data": {
      "text/html": [
       "<div>\n",
       "<style scoped>\n",
       "    .dataframe tbody tr th:only-of-type {\n",
       "        vertical-align: middle;\n",
       "    }\n",
       "\n",
       "    .dataframe tbody tr th {\n",
       "        vertical-align: top;\n",
       "    }\n",
       "\n",
       "    .dataframe thead th {\n",
       "        text-align: right;\n",
       "    }\n",
       "</style>\n",
       "<table border=\"1\" class=\"dataframe\">\n",
       "  <thead>\n",
       "    <tr style=\"text-align: right;\">\n",
       "      <th></th>\n",
       "      <th>0</th>\n",
       "    </tr>\n",
       "  </thead>\n",
       "  <tbody>\n",
       "    <tr>\n",
       "      <th>hostname</th>\n",
       "      <td>Kepler-16</td>\n",
       "    </tr>\n",
       "    <tr>\n",
       "      <th>rowid</th>\n",
       "      <td>2262</td>\n",
       "    </tr>\n",
       "    <tr>\n",
       "      <th>pl_name</th>\n",
       "      <td>Kepler-16 b</td>\n",
       "    </tr>\n",
       "    <tr>\n",
       "      <th>pl_letter</th>\n",
       "      <td>b</td>\n",
       "    </tr>\n",
       "    <tr>\n",
       "      <th>hd_name</th>\n",
       "      <td>NaN</td>\n",
       "    </tr>\n",
       "    <tr>\n",
       "      <th>...</th>\n",
       "      <td>...</td>\n",
       "    </tr>\n",
       "    <tr>\n",
       "      <th>TFOP SG3</th>\n",
       "      <td>NaN</td>\n",
       "    </tr>\n",
       "    <tr>\n",
       "      <th>TFOP SG4</th>\n",
       "      <td>NaN</td>\n",
       "    </tr>\n",
       "    <tr>\n",
       "      <th>TFOP SG5</th>\n",
       "      <td>NaN</td>\n",
       "    </tr>\n",
       "    <tr>\n",
       "      <th>Alerted</th>\n",
       "      <td>NaN</td>\n",
       "    </tr>\n",
       "    <tr>\n",
       "      <th>Updated</th>\n",
       "      <td>NaN</td>\n",
       "    </tr>\n",
       "  </tbody>\n",
       "</table>\n",
       "<p>351 rows × 1 columns</p>\n",
       "</div>"
      ],
      "text/plain": [
       "                     0\n",
       "hostname     Kepler-16\n",
       "rowid             2262\n",
       "pl_name    Kepler-16 b\n",
       "pl_letter            b\n",
       "hd_name            NaN\n",
       "...                ...\n",
       "TFOP SG3           NaN\n",
       "TFOP SG4           NaN\n",
       "TFOP SG5           NaN\n",
       "Alerted            NaN\n",
       "Updated            NaN\n",
       "\n",
       "[351 rows x 1 columns]"
      ]
     },
     "execution_count": 131,
     "metadata": {},
     "output_type": "execute_result"
    }
   ],
   "source": [
    "%matplotlib inline\n",
    "# TIC is unique ID for star\n",
    "system_tess = exotess[(exotess.TIC == row.TIC)]\n",
    "\n",
    "# ID is unique, also ignore entries that have no transits\n",
    "# because there is nothing to mask (they are still searched for flares)\n",
    "system_kepler = exokepler[(exokepler.hostname == row.ID) &\n",
    "                   (exokepler.discoverymethod == \"Transit\")]\n",
    "\n",
    "try:\n",
    "    if system_kepler.shape[0] > 0:\n",
    "        system_kepler[\"pl_tranmidepoch\"] = (system_kepler.pl_tranmid -\n",
    "                                            offset[system_kepler.iloc[0].disc_facility])\n",
    "    system = pd.concat([system_kepler, system_tess],ignore_index=True)\n",
    "\n",
    "except KeyError:\n",
    "    system = system_tess\n",
    "    print(system.columns)\n",
    "\n",
    "    \n",
    "system.T"
   ]
  },
  {
   "cell_type": "code",
   "execution_count": 132,
   "metadata": {},
   "outputs": [
    {
     "name": "stderr",
     "output_type": "stream",
     "text": [
      "/home/ekaterina/Documents/000_envs/python37/lib/python3.7/site-packages/lightkurve/io/kepler.py:38: ResourceWarning: unclosed file <_io.FileIO name='/home/ekaterina/Documents/001_science/lcs/mastDownload/Kepler/kplr012644769_sc_Q001000000033333322/kplr012644769-2013121191144_slc.fits' mode='rb' closefd=True>\n",
      "  time_format=\"bkjd\",\n",
      "1% (248/32850) of the cadences will be ignored due to the quality mask (quality_bitmask=1130799).\n",
      "1% (248/32850) of the cadences will be ignored due to the quality mask (quality_bitmask=1130799).\n",
      "/home/ekaterina/Documents/000_envs/python37/lib/python3.7/site-packages/lightkurve/io/kepler.py:38: ResourceWarning: unclosed file <_io.FileIO name='/home/ekaterina/Documents/001_science/lcs/mastDownload/Kepler/kplr012644769_sc_Q001000000033333322/kplr012644769-2013131215648_slc.fits' mode='rb' closefd=True>\n",
      "  time_format=\"bkjd\",\n",
      "0% (28/6180) of the cadences will be ignored due to the quality mask (quality_bitmask=1130799).\n",
      "0% (28/6180) of the cadences will be ignored due to the quality mask (quality_bitmask=1130799).\n"
     ]
    }
   ],
   "source": [
    "# fetch light curve from MAST\n",
    "flc = from_mast(row.ID, mission=row.mission, c=row.qcs, cadence=\"short\",\n",
    "                download_dir=\"/home/ekaterina/Documents/001_science/lcs\")\n",
    "\n",
    "# from astropy.io import fits\n",
    "# hdu = fits.open(\"/home/ekaterina/Documents/001_science/lcs/mastDownload/TESS/tess2018349182459-s0006-0000000032090583-0126-s_lc.fits\")\n",
    "# t = hdu[1].data['TIME']\n",
    "# flu = hdu[1].data['PDCSAP_FLUX'].astype(np.float64) # values with non-zero quality are nan or zero'ed\n",
    "# # make it a list of LCs even if only one LC is returned\n",
    "# mask = np.where(np.isfinite(t))"
   ]
  },
  {
   "cell_type": "code",
   "execution_count": 133,
   "metadata": {},
   "outputs": [
    {
     "data": {
      "text/plain": [
       "[FlareLightCurve(ID: 12644769), FlareLightCurve(ID: 12644769)]"
      ]
     },
     "execution_count": 133,
     "metadata": {},
     "output_type": "execute_result"
    }
   ],
   "source": [
    "flc"
   ]
  },
  {
   "cell_type": "code",
   "execution_count": 134,
   "metadata": {},
   "outputs": [
    {
     "name": "stdout",
     "output_type": "stream",
     "text": [
      "-----------------------------------------\n",
      "2 light curves available for Kepler-16 in Kepler.\n",
      "-----------------------------------------\n"
     ]
    }
   ],
   "source": [
    "# flc = FlareLightCurve(time=t[mask], flux=flu[mask])\n",
    "\n",
    "if type(flc) == FlareLightCurve:\n",
    "\n",
    "    flc = [flc]\n",
    "\n",
    "elif type(flc) == list:\n",
    "\n",
    "    flc = flc\n",
    "\n",
    "# info\n",
    "mprint(f\"{len(flc)} light curves available for {row.ID} in {row.mission}.\")\n",
    "\n",
    "if row.mission == \"TESS\":\n",
    "    flc = flc[:1]"
   ]
  },
  {
   "cell_type": "code",
   "execution_count": 135,
   "metadata": {
    "scrolled": true
   },
   "outputs": [
    {
     "data": {
      "text/plain": [
       "<AxesSubplot:xlabel='Phase [JD]', ylabel='Flux [$\\\\mathrm{e^{-}\\\\,s^{-1}}$]'>"
      ]
     },
     "execution_count": 135,
     "metadata": {},
     "output_type": "execute_result"
    },
    {
     "data": {
      "image/png": "[encoded data removed]",
      "text/plain": [
       "<Figure size 848.5x400 with 1 Axes>"
      ]
     },
     "metadata": {},
     "output_type": "display_data"
    }
   ],
   "source": [
    "flc[0].fold(system.pl_orbper.iloc[0]).plot()\n"
   ]
  },
  {
   "cell_type": "code",
   "execution_count": 144,
   "metadata": {
    "scrolled": false
   },
   "outputs": [
    {
     "name": "stderr",
     "output_type": "stream",
     "text": [
      "/home/ekaterina/Documents/001_science/Flaring_SPI/notebooks/funcs/detrend.py:237: RuntimeWarning: overflow encountered in exp\n",
      "  return a * np.exp(b * (c - x)) + d * np.exp(e * (f - x)) + g\n",
      "/home/ekaterina/Documents/001_science/Flaring_SPI/notebooks/funcs/detrend.py:237: RuntimeWarning: overflow encountered in multiply\n",
      "  return a * np.exp(b * (c - x)) + d * np.exp(e * (f - x)) + g\n"
     ]
    },
    {
     "name": "stdout",
     "output_type": "stream",
     "text": [
      "0.028097976000026392 0.003124093999986144 2.0401018790000194 2.0443986459999905 1.937158291000003 2.0737648229999763 8.126645709000002\n",
      "[1559.2172063  1559.21788741 1559.21856852 ... 1581.39228035 1581.39296147\n",
      " 1581.39364268]\n",
      "1581.3936426848086 1559.2172062953105 228.77599999999998\n",
      "No transit duration uncertainty given.\n",
      "[1559.2172063  1559.21790074 1559.21859519 ... 1581.39225379 1581.39294824\n",
      " 1581.39364268] [1.00469168 1.00424411 1.00394139 ... 0.99993258 0.99953623 1.00002701] (31935,) (31935,)\n",
      "171.582 343.164 0 0.08 1.3 0.13 1.3 0\n",
      "Transit Least Squares TLS 1.0.28 (13 June 2021)\n",
      "Creating model cache for 37 durations\n",
      "Searching 31935 data points, 1944 periods from 0.602 to 11.088 days\n",
      "Using all 8 CPU threads\n"
     ]
    },
    {
     "name": "stderr",
     "output_type": "stream",
     "text": [
      "100%|██████████████████████████████████████████| 1944/1944 periods | 00:24<00:00\n",
      "/home/ekaterina/Documents/000_envs/python37/lib/python3.7/site-packages/transitleastsquares/helpers.py:96: DeprecationWarning: `np.int` is a deprecated alias for the builtin `int`. To silence this warning, use `int` by itself. Doing this will not modify any behavior and is safe. When replacing `np.int`, you may wish to use e.g. `np.int64` or `np.int32` to specify the precision. If you wish to review your current use, check the release note link for additional information.\n",
      "Deprecated in NumPy 1.20; for more details and guidance: https://numpy.org/devdocs/release/1.20.0-notes.html#deprecations\n",
      "  idx = idx.astype(numpy.int)  # needed if oversampling_factor is not int\n"
     ]
    },
    {
     "name": "stdout",
     "output_type": "stream",
     "text": [
      "Searching for best T0 for period 11.08822 days\n"
     ]
    },
    {
     "name": "stderr",
     "output_type": "stream",
     "text": [
      "100%|█████████████████████████████████████| 5622/5622 [00:02<00:00, 2350.12it/s]\n",
      "/home/ekaterina/Documents/000_envs/python37/lib/python3.7/site-packages/numpy/lib/nanfunctions.py:1117: RuntimeWarning: Mean of empty slice\n",
      "  return np.nanmean(a, axis, out=out, keepdims=keepdims)\n"
     ]
    },
    {
     "name": "stdout",
     "output_type": "stream",
     "text": [
      "FIN\n"
     ]
    },
    {
     "name": "stderr",
     "output_type": "stream",
     "text": [
      "Found 1 candidate(s) in the (0,2385) gap.\n",
      "Found 1 candidate(s) in the (2385,32310) gap.\n"
     ]
    },
    {
     "name": "stdout",
     "output_type": "stream",
     "text": [
      "FIN2\n"
     ]
    },
    {
     "data": {
      "image/png": "[encoded data removed]",
      "text/plain": [
       "<Figure size 1152x576 with 1 Axes>"
      ]
     },
     "metadata": {
      "needs_background": "light"
     },
     "output_type": "display_data"
    }
   ],
   "source": [
    "# loop over all LCs for the system    \n",
    "for i, f in enumerate(flc):\n",
    "    if i !=0:\n",
    "        continue\n",
    "\n",
    "    # get timestamp for result\n",
    "    tstamp = time.strftime(\"%d_%m_%Y_%H_%M_%S\", time.localtime())\n",
    "    # apply custom detrending\n",
    "\n",
    "#     try:\n",
    "    ts = time.process_time()\n",
    "#     f.flux[-2:] = np.nan\n",
    "    fd = custom_detrending(f)\n",
    "\n",
    "    # Fit the transits\n",
    "    # If any planet transiting\n",
    "    periods = []\n",
    "    if system.shape[0] > 0:\n",
    "        for j,r in system.iterrows():\n",
    "\n",
    "            timearr, flux = tls.cleaned_array(fd.time.value, fd.detrended_flux.value)\n",
    "            print(timearr)\n",
    "            notransit_flux, results = fit_and_remove_transits(timearr, flux,\n",
    "                                                             pl_orbper=r.pl_orbper,)\n",
    "            fd.detrended_flux = notransit_flux\n",
    "            periods.append(results.period)\n",
    "\n",
    "        # add periods to file\n",
    "        pers = pd.DataFrame({\"ID\":row.ID,\n",
    "                             \"qcs\":row.qcs,\n",
    "                             \"lc_n\":i,\n",
    "                             \"mission\":row.mission,\n",
    "                             \"orbper_tls\" : results.period,\n",
    "                             \"pl_tranmidepoch_tls\" : results.T0,\n",
    "                             \"orbper_nasa\" : system.pl_orbper,\n",
    "                             \"orbper_err_nasa\" : system.pl_orbpererr,\n",
    "                             \"pl_tranmidepoch_nasa\" : system.pl_tranmidepoch,\n",
    "                             })\n",
    "        with open(\"../results/2021_08_orbpers.csv\", \"a\") as file:\n",
    "            pers.to_csv(file, index=False, header=False)\n",
    "\n",
    "\n",
    "    tf = time.process_time()\n",
    "\n",
    "    # define two hour window for rolling std\n",
    "    w = np.floor(1. / 12. / np.nanmin(np.diff(fd.time.value)))\n",
    "    if w%2==0: \n",
    "        w+=1\n",
    "\n",
    "\n",
    "    # use window to estimate the noise in the LC\n",
    "    df = estimate_detrended_noise(fd, std_window=int(w), mask_pos_outliers_sigma=2.5)\n",
    "    print(\"FIN\")\n",
    "    df.detrended_flux[-140:] = np.nan\n",
    "    # search the residual for flares\n",
    "    ff = df.find_flares(addtail=True).flares\n",
    "    print(\"FIN2\")\n",
    "    # add meta info to flare table\n",
    "    # if no flares found, add empty row\n",
    "    if ff.shape[0]==0:\n",
    "        ff[\"total_n_valid_data_points\"] = df.detrended_flux.value.shape[0]\n",
    "        ff[\"ID\"] = row.ID\n",
    "        ff[\"qcs\"] = row.qcs\n",
    "        ff[\"mission\"] = row.mission\n",
    "        ff[\"tstamp\"] = tstamp\n",
    "        ff[\"dur_detrend\"] = tf - ts\n",
    "        ff[\"lc_n\"] = i\n",
    "        ff = ff.append({\"total_n_valid_data_points\":df.detrended_flux.value.shape[0],\n",
    "                        \"ID\":row.ID,\n",
    "                        \"qcs\" : row.qcs,\n",
    "                        \"mission\":row.mission,\n",
    "                        \"tstamp\":tstamp,\n",
    "                        \"dur_detrend\":tf-ts,\n",
    "                        \"lc_n\":i},\n",
    "                         ignore_index=True)\n",
    "\n",
    "    # otherwise add ID, QCS and mission\n",
    "    else:\n",
    "        ff[\"ID\"] = row.ID\n",
    "        ff[\"qcs\"] = row.qcs\n",
    "        ff[\"mission\"] = row.mission\n",
    "        ff[\"tstamp\"] = tstamp\n",
    "        ff[\"dur_detrend\"] = tf - ts\n",
    "        ff[\"lc_n\"] = i\n",
    "\n",
    "\n",
    "\n",
    "    # add results to file\n",
    "    with open(\"../results/2021_08_flares_uncorrected.csv\", \"a\") as file:\n",
    "        ff.to_csv(file, index=False, header=False)\n",
    "\n",
    "    # save observing times\n",
    "    fin = np.isfinite(df.detrended_flux.value)\n",
    "\n",
    "    with open(\"../results/2021_08_obsdurs.csv\", \"a\") as file:\n",
    "        s = f\"{row.ID},{row.qcs},{i},{df.detrended_flux[fin].shape[0]},{row.mission},{available_lcs}\\n\"\n",
    "        file.write(s)    # info\n",
    "\n",
    "    with open(f\"../results/observedtimes/2021_08_{row.ID}_{row.qcs}_{i}_{row.mission}.csv\", \"w\") as file:\n",
    "        d = pd.DataFrame({\"time\":df.time.value[fin],\n",
    "                          \"flux\":df.detrended_flux.value[fin]})\n",
    "        d.to_csv(file,index=False)\n",
    "\n",
    "#     except Exception as err:\n",
    "#         print(err)\n",
    "#         mprint(f\"{row.ID}, QCS={row.qcs} ({row.mission}) not de-trended!\")\n",
    "#         with open(\"../results/2021_08_nodetrend.txt\", \"a\") as file:\n",
    "#             s = f\"{row.ID},{row.qcs},{row.mission},{tstamp},{i},{err}\\n\"\n",
    "#             file.write(s)\n"
   ]
  },
  {
   "cell_type": "code",
   "execution_count": 141,
   "metadata": {},
   "outputs": [
    {
     "data": {
      "text/plain": [
       "[(0, 2385), (2385, 32410)]"
      ]
     },
     "execution_count": 141,
     "metadata": {},
     "output_type": "execute_result"
    }
   ],
   "source": [
    "df.detrended_flux.shape\n",
    "df.gaps"
   ]
  },
  {
   "cell_type": "code",
   "execution_count": 145,
   "metadata": {},
   "outputs": [
    {
     "data": {
      "text/plain": [
       "Text(0, 0.5, 'flux')"
      ]
     },
     "execution_count": 145,
     "metadata": {},
     "output_type": "execute_result"
    },
    {
     "data": {
      "image/png": "[encoded data removed]",
      "text/plain": [
       "<Figure size 1008x576 with 1 Axes>"
      ]
     },
     "metadata": {
      "needs_background": "light"
     },
     "output_type": "display_data"
    }
   ],
   "source": [
    "plt.figure(figsize=(14,8))\n",
    "\n",
    "plt.plot(timearr, flux, c=\"r\", linewidth=.35)\n",
    "plt.plot(timearr, notransit_flux, c=\"k\", linewidth=.35)\n",
    "# plt.ylim(2.88e6,2.89e6)\n",
    "plt.xlim(1141.5,1142.5)\n",
    "plt.xlabel(\"time [d]\", fontsize=14)\n",
    "plt.ylabel(\"flux\",fontsize=14)"
   ]
  },
  {
   "cell_type": "code",
   "execution_count": 146,
   "metadata": {},
   "outputs": [
    {
     "data": {
      "text/html": [
       "<div>\n",
       "<style scoped>\n",
       "    .dataframe tbody tr th:only-of-type {\n",
       "        vertical-align: middle;\n",
       "    }\n",
       "\n",
       "    .dataframe tbody tr th {\n",
       "        vertical-align: top;\n",
       "    }\n",
       "\n",
       "    .dataframe thead th {\n",
       "        text-align: right;\n",
       "    }\n",
       "</style>\n",
       "<table border=\"1\" class=\"dataframe\">\n",
       "  <thead>\n",
       "    <tr style=\"text-align: right;\">\n",
       "      <th></th>\n",
       "      <th>istart</th>\n",
       "      <th>istop</th>\n",
       "      <th>cstart</th>\n",
       "      <th>cstop</th>\n",
       "      <th>tstart</th>\n",
       "      <th>tstop</th>\n",
       "      <th>ed_rec</th>\n",
       "      <th>ed_rec_err</th>\n",
       "      <th>ampl_rec</th>\n",
       "      <th>dur</th>\n",
       "      <th>total_n_valid_data_points</th>\n",
       "      <th>ID</th>\n",
       "      <th>qcs</th>\n",
       "      <th>mission</th>\n",
       "      <th>tstamp</th>\n",
       "      <th>dur_detrend</th>\n",
       "      <th>lc_n</th>\n",
       "    </tr>\n",
       "  </thead>\n",
       "  <tbody>\n",
       "    <tr>\n",
       "      <th>0</th>\n",
       "      <td>210</td>\n",
       "      <td>240</td>\n",
       "      <td>2117951</td>\n",
       "      <td>2117981</td>\n",
       "      <td>1559.360244</td>\n",
       "      <td>1559.380678</td>\n",
       "      <td>58.608550</td>\n",
       "      <td>0.055443</td>\n",
       "      <td>0.045405</td>\n",
       "      <td>0.020434</td>\n",
       "      <td>32310.0</td>\n",
       "      <td>Kepler-16</td>\n",
       "      <td>17</td>\n",
       "      <td>Kepler</td>\n",
       "      <td>18_08_2021_13_21_31</td>\n",
       "      <td>14.812273</td>\n",
       "      <td>0</td>\n",
       "    </tr>\n",
       "    <tr>\n",
       "      <th>1</th>\n",
       "      <td>2386</td>\n",
       "      <td>2399</td>\n",
       "      <td>2120291</td>\n",
       "      <td>2120304</td>\n",
       "      <td>1560.954098</td>\n",
       "      <td>1560.962953</td>\n",
       "      <td>1.799417</td>\n",
       "      <td>0.094124</td>\n",
       "      <td>0.004597</td>\n",
       "      <td>0.008855</td>\n",
       "      <td>32310.0</td>\n",
       "      <td>Kepler-16</td>\n",
       "      <td>17</td>\n",
       "      <td>Kepler</td>\n",
       "      <td>18_08_2021_13_21_31</td>\n",
       "      <td>14.812273</td>\n",
       "      <td>0</td>\n",
       "    </tr>\n",
       "  </tbody>\n",
       "</table>\n",
       "</div>"
      ],
      "text/plain": [
       "  istart istop   cstart    cstop       tstart        tstop     ed_rec  \\\n",
       "0    210   240  2117951  2117981  1559.360244  1559.380678  58.608550   \n",
       "1   2386  2399  2120291  2120304  1560.954098  1560.962953   1.799417   \n",
       "\n",
       "   ed_rec_err  ampl_rec       dur  total_n_valid_data_points         ID  qcs  \\\n",
       "0    0.055443  0.045405  0.020434                    32310.0  Kepler-16   17   \n",
       "1    0.094124  0.004597  0.008855                    32310.0  Kepler-16   17   \n",
       "\n",
       "  mission               tstamp  dur_detrend  lc_n  \n",
       "0  Kepler  18_08_2021_13_21_31    14.812273     0  \n",
       "1  Kepler  18_08_2021_13_21_31    14.812273     0  "
      ]
     },
     "execution_count": 146,
     "metadata": {},
     "output_type": "execute_result"
    }
   ],
   "source": [
    "ff"
   ]
  },
  {
   "cell_type": "code",
   "execution_count": null,
   "metadata": {},
   "outputs": [],
   "source": [
    "0.438 /2 * 24"
   ]
  },
  {
   "cell_type": "code",
   "execution_count": null,
   "metadata": {},
   "outputs": [],
   "source": [
    "df.fold(system.pl_orbper.iloc[0]).plot();"
   ]
  },
  {
   "cell_type": "code",
   "execution_count": null,
   "metadata": {},
   "outputs": [],
   "source": [
    "system.pl_orbper, results.period"
   ]
  },
  {
   "cell_type": "markdown",
   "metadata": {},
   "source": [
    "# Backlog"
   ]
  },
  {
   "cell_type": "code",
   "execution_count": null,
   "metadata": {
    "scrolled": false
   },
   "outputs": [],
   "source": [
    "#work through a subset first\n",
    "# row = fla.iloc[158]\n",
    "phases = []\n",
    "trandurs = []\n",
    "for label, row in fla.iterrows():\n",
    "\n",
    "    # TIC is unique ID for star\n",
    "    system_tess = exotess[(exotess.TIC == row.ID)]\n",
    "\n",
    "    # ID is unique, also ignore entries that have no transits\n",
    "    # because there is nothing to mask (they are still searched for flares)\n",
    "    system_kepler = exokepler[(exokepler.hostname == row.ID) &\n",
    "                       (exokepler.discoverymethod == \"Transit\")]\n",
    "\n",
    "    try:\n",
    "        if system_kepler.shape[0] > 0:\n",
    "            system_kepler[\"pl_tranmidepoch\"] = (system_kepler.pl_tranmid -\n",
    "                                                offset[system_kepler.iloc[0].disc_facility])\n",
    "\n",
    "        system = pd.concat([system_kepler, system_tess],ignore_index=True)\n",
    "        system = system.sort_values(by=\"pl_orbper\",ascending=True).iloc[0]\n",
    "\n",
    "        tmid = system.pl_tranmidepoch\n",
    "        orbper = system.pl_orbper\n",
    "        tflare = row.tstart\n",
    "        phase = ((tflare - tmid) % orbper) / orbper\n",
    "        trandurs.append(system.pl_trandur / 24. / orbper)\n",
    "        phases.append(phase)\n",
    "        print(phase)\n",
    "    except KeyError:\n",
    "        phases.append(np.nan)\n",
    "        trandurs.append(0.)\n",
    "        print(\"nope\")\n",
    "    except IndexError:\n",
    "        phases.append(np.nan)\n",
    "        trandurs.append(0.)\n",
    "        print(\"nope\")"
   ]
  },
  {
   "cell_type": "code",
   "execution_count": null,
   "metadata": {},
   "outputs": [],
   "source": [
    "st = startrandurs[~np.isnan(startrandurs)]\n",
    "np.percentile(np.sort(st),90)"
   ]
  },
  {
   "cell_type": "code",
   "execution_count": null,
   "metadata": {},
   "outputs": [],
   "source": [
    "plt.figure(figsize=(8,5))\n",
    "\n",
    "hist = plt.hist(phases, bins=np.linspace(0,1,10), histtype=\"step\",edgecolor=\"r\")\n",
    "plt.axvline(np.nanmean(startrandurs), c=\"k\", label=\"mean transit duration\")\n",
    "plt.axvline(np.percentile(np.sort(st),95), c=\"grey\", label=\"95th percentile transit duration\")\n",
    "plt.axvline(np.nanmax(startrandurs), c=\"silver\", label=\"\")\n",
    "plt.axhline(np.mean(hist[0]),c=\"orange\",label=\"mean\")\n",
    "plt.fill_between(hist[1],np.mean(hist[0]) - np.std(hist[0]),\n",
    "                 np.mean(hist[0]) + np.std(hist[0]),alpha=.4,\n",
    "                 label=\"standard deviation\")\n",
    "# plt.axhline(np.mean(hist[0]) - np.std(hist[0]))\n",
    "plt.xlim(0,1)\n",
    "plt.legend(frameon=False);"
   ]
  },
  {
   "cell_type": "code",
   "execution_count": null,
   "metadata": {},
   "outputs": [],
   "source": [
    "np.std(hist[0])"
   ]
  },
  {
   "cell_type": "code",
   "execution_count": null,
   "metadata": {},
   "outputs": [],
   "source": [
    "fla[\"phase\"] = phases\n",
    "fla[\"frac_tran\"] = trandurs"
   ]
  },
  {
   "cell_type": "code",
   "execution_count": null,
   "metadata": {},
   "outputs": [],
   "source": [
    "startrandurs = fla.drop_duplicates(subset=[\"ID\"]).frac_tran"
   ]
  },
  {
   "cell_type": "code",
   "execution_count": null,
   "metadata": {},
   "outputs": [],
   "source": [
    "plt.hist(startrandurs, bins=np.logspace(-3,-.5,15), histtype=\"step\", edgecolor=\"k\")\n",
    "plt.xscale(\"log\")\n",
    "plt.xlabel(\"duration of transit / orbital period\")\n",
    "plt.title(f\"{len(startrandurs)} star-planet-systems with flares\")"
   ]
  },
  {
   "cell_type": "code",
   "execution_count": null,
   "metadata": {},
   "outputs": [],
   "source": []
  },
  {
   "cell_type": "code",
   "execution_count": null,
   "metadata": {},
   "outputs": [],
   "source": [
    "np.sum(startrandurs)/len(startrandurs)"
   ]
  },
  {
   "cell_type": "markdown",
   "metadata": {},
   "source": [
    "- tranmidepoch is phase 0\n",
    "\n",
    "- select innermost component in multiplanet systems\n",
    "- calculate pseudotransit mid epoch for RV planets\n",
    "\n",
    "\n",
    "- the correct metric is number of flares per observed phase"
   ]
  },
  {
   "cell_type": "code",
   "execution_count": null,
   "metadata": {},
   "outputs": [],
   "source": [
    "0.009200275324758905 * 3000"
   ]
  },
  {
   "cell_type": "code",
   "execution_count": null,
   "metadata": {},
   "outputs": [],
   "source": [
    "system.columns"
   ]
  },
  {
   "cell_type": "code",
   "execution_count": null,
   "metadata": {},
   "outputs": [],
   "source": []
  },
  {
   "cell_type": "code",
   "execution_count": null,
   "metadata": {},
   "outputs": [],
   "source": [
    "import pandas as pd"
   ]
  },
  {
   "cell_type": "code",
   "execution_count": null,
   "metadata": {},
   "outputs": [],
   "source": []
  }
 ],
 "metadata": {
  "kernelspec": {
   "display_name": "python37",
   "language": "python",
   "name": "python37"
  },
  "language_info": {
   "codemirror_mode": {
    "name": "ipython",
    "version": 3
   },
   "file_extension": ".py",
   "mimetype": "text/x-python",
   "name": "python",
   "nbconvert_exporter": "python",
   "pygments_lexer": "ipython3",
   "version": "3.7.5"
  }
 },
 "nbformat": 4,
 "nbformat_minor": 2
}
