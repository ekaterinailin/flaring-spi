{
 "cells": [
  {
   "cell_type": "code",
   "execution_count": 1,
   "metadata": {},
   "outputs": [],
   "source": [
    "from funcs.notebook import *"
   ]
  },
  {
   "cell_type": "code",
   "execution_count": 2,
   "metadata": {},
   "outputs": [
    {
     "data": {
      "text/html": [
       "<div>\n",
       "<style scoped>\n",
       "    .dataframe tbody tr th:only-of-type {\n",
       "        vertical-align: middle;\n",
       "    }\n",
       "\n",
       "    .dataframe tbody tr th {\n",
       "        vertical-align: top;\n",
       "    }\n",
       "\n",
       "    .dataframe thead th {\n",
       "        text-align: right;\n",
       "    }\n",
       "</style>\n",
       "<table border=\"1\" class=\"dataframe\">\n",
       "  <thead>\n",
       "    <tr style=\"text-align: right;\">\n",
       "      <th></th>\n",
       "      <th>tstamp</th>\n",
       "      <th>period</th>\n",
       "      <th>sector</th>\n",
       "      <th>subsample</th>\n",
       "      <th>AD</th>\n",
       "      <th>p</th>\n",
       "      <th>nflares</th>\n",
       "      <th>nsteps_mcmc</th>\n",
       "      <th>totobs_days</th>\n",
       "      <th>shift</th>\n",
       "      <th>dataset</th>\n",
       "    </tr>\n",
       "  </thead>\n",
       "  <tbody>\n",
       "    <tr>\n",
       "      <th>575</th>\n",
       "      <td>2021-12-20</td>\n",
       "      <td>Rotation</td>\n",
       "      <td>Both Sectors</td>\n",
       "      <td>high energy half</td>\n",
       "      <td>2.049125</td>\n",
       "      <td>0.16230</td>\n",
       "      <td>142</td>\n",
       "      <td>200000</td>\n",
       "      <td>48.449074</td>\n",
       "      <td>0.45</td>\n",
       "      <td>discussion</td>\n",
       "    </tr>\n",
       "    <tr>\n",
       "      <th>576</th>\n",
       "      <td>2021-12-20</td>\n",
       "      <td>Rotation</td>\n",
       "      <td>Both Sectors</td>\n",
       "      <td>high energy half</td>\n",
       "      <td>7.988830</td>\n",
       "      <td>0.00033</td>\n",
       "      <td>142</td>\n",
       "      <td>200000</td>\n",
       "      <td>48.449074</td>\n",
       "      <td>0.85</td>\n",
       "      <td>discussion</td>\n",
       "    </tr>\n",
       "    <tr>\n",
       "      <th>577</th>\n",
       "      <td>2021-12-20</td>\n",
       "      <td>Rotation</td>\n",
       "      <td>Both Sectors</td>\n",
       "      <td>high energy half</td>\n",
       "      <td>2.743006</td>\n",
       "      <td>0.07357</td>\n",
       "      <td>142</td>\n",
       "      <td>200000</td>\n",
       "      <td>48.449074</td>\n",
       "      <td>0.75</td>\n",
       "      <td>discussion</td>\n",
       "    </tr>\n",
       "    <tr>\n",
       "      <th>578</th>\n",
       "      <td>2021-12-20</td>\n",
       "      <td>Rotation</td>\n",
       "      <td>Both Sectors</td>\n",
       "      <td>high energy half</td>\n",
       "      <td>1.131325</td>\n",
       "      <td>0.58955</td>\n",
       "      <td>142</td>\n",
       "      <td>200000</td>\n",
       "      <td>48.449074</td>\n",
       "      <td>0.65</td>\n",
       "      <td>discussion</td>\n",
       "    </tr>\n",
       "    <tr>\n",
       "      <th>579</th>\n",
       "      <td>2021-12-20</td>\n",
       "      <td>Rotation</td>\n",
       "      <td>Both Sectors</td>\n",
       "      <td>high energy half</td>\n",
       "      <td>1.215314</td>\n",
       "      <td>0.51024</td>\n",
       "      <td>142</td>\n",
       "      <td>200000</td>\n",
       "      <td>48.449074</td>\n",
       "      <td>0.95</td>\n",
       "      <td>discussion</td>\n",
       "    </tr>\n",
       "  </tbody>\n",
       "</table>\n",
       "</div>"
      ],
      "text/plain": [
       "         tstamp    period        sector         subsample        AD        p  \\\n",
       "575  2021-12-20  Rotation  Both Sectors  high energy half  2.049125  0.16230   \n",
       "576  2021-12-20  Rotation  Both Sectors  high energy half  7.988830  0.00033   \n",
       "577  2021-12-20  Rotation  Both Sectors  high energy half  2.743006  0.07357   \n",
       "578  2021-12-20  Rotation  Both Sectors  high energy half  1.131325  0.58955   \n",
       "579  2021-12-20  Rotation  Both Sectors  high energy half  1.215314  0.51024   \n",
       "\n",
       "     nflares  nsteps_mcmc  totobs_days  shift     dataset  \n",
       "575      142       200000    48.449074   0.45  discussion  \n",
       "576      142       200000    48.449074   0.85  discussion  \n",
       "577      142       200000    48.449074   0.75  discussion  \n",
       "578      142       200000    48.449074   0.65  discussion  \n",
       "579      142       200000    48.449074   0.95  discussion  "
      ]
     },
     "execution_count": 2,
     "metadata": {},
     "output_type": "execute_result"
    }
   ],
   "source": [
    "df = pd.read_csv(\"../results/adtests.csv\")\n",
    "df.tail()"
   ]
  },
  {
   "cell_type": "code",
   "execution_count": 6,
   "metadata": {},
   "outputs": [
    {
     "data": {
      "text/plain": [
       "(40, 11)"
      ]
     },
     "execution_count": 6,
     "metadata": {},
     "output_type": "execute_result"
    }
   ],
   "source": [
    "# select the latest results\n",
    "df = df[df.dataset==\"discussion\"]\n",
    "df.shape"
   ]
  },
  {
   "cell_type": "code",
   "execution_count": 7,
   "metadata": {},
   "outputs": [
    {
     "data": {
      "text/plain": [
       "sector        subsample         period  \n",
       "Both Sectors  high energy half  Orbit       20\n",
       "                                Rotation    20\n",
       "Name: shift, dtype: int64"
      ]
     },
     "execution_count": 7,
     "metadata": {},
     "output_type": "execute_result"
    }
   ],
   "source": [
    "new = df.groupby([\"sector\",'subsample','period'])[\"shift\"].count()\n",
    "new"
   ]
  },
  {
   "cell_type": "code",
   "execution_count": 8,
   "metadata": {},
   "outputs": [],
   "source": [
    "groupedmed = df.groupby([\"period\", \"sector\", \"subsample\"]).p.median()\n",
    "groupedvar = df.groupby([\"period\", \"sector\", \"subsample\"]).p.std()"
   ]
  },
  {
   "cell_type": "code",
   "execution_count": 9,
   "metadata": {},
   "outputs": [
    {
     "data": {
      "text/html": [
       "<div>\n",
       "<style scoped>\n",
       "    .dataframe tbody tr th:only-of-type {\n",
       "        vertical-align: middle;\n",
       "    }\n",
       "\n",
       "    .dataframe tbody tr th {\n",
       "        vertical-align: top;\n",
       "    }\n",
       "\n",
       "    .dataframe thead th {\n",
       "        text-align: right;\n",
       "    }\n",
       "</style>\n",
       "<table border=\"1\" class=\"dataframe\">\n",
       "  <thead>\n",
       "    <tr style=\"text-align: right;\">\n",
       "      <th></th>\n",
       "      <th></th>\n",
       "      <th></th>\n",
       "      <th>pval</th>\n",
       "      <th>sig</th>\n",
       "    </tr>\n",
       "    <tr>\n",
       "      <th>period</th>\n",
       "      <th>sector</th>\n",
       "      <th>subsample</th>\n",
       "      <th></th>\n",
       "      <th></th>\n",
       "    </tr>\n",
       "  </thead>\n",
       "  <tbody>\n",
       "    <tr>\n",
       "      <th>Orbit</th>\n",
       "      <th>Both Sectors</th>\n",
       "      <th>high energy half</th>\n",
       "      <td>0.003425</td>\n",
       "      <td>0.006403</td>\n",
       "    </tr>\n",
       "    <tr>\n",
       "      <th>Rotation</th>\n",
       "      <th>Both Sectors</th>\n",
       "      <th>high energy half</th>\n",
       "      <td>0.417890</td>\n",
       "      <td>0.212198</td>\n",
       "    </tr>\n",
       "  </tbody>\n",
       "</table>\n",
       "</div>"
      ],
      "text/plain": [
       "                                            pval       sig\n",
       "period   sector       subsample                           \n",
       "Orbit    Both Sectors high energy half  0.003425  0.006403\n",
       "Rotation Both Sectors high energy half  0.417890  0.212198"
      ]
     },
     "execution_count": 9,
     "metadata": {},
     "output_type": "execute_result"
    }
   ],
   "source": [
    "d = pd.DataFrame({\"pval\":groupedmed, \"sig\":groupedvar})\n",
    "d"
   ]
  },
  {
   "cell_type": "code",
   "execution_count": 10,
   "metadata": {},
   "outputs": [
    {
     "data": {
      "text/plain": [
       "0.001086666666667"
      ]
     },
     "execution_count": 10,
     "metadata": {},
     "output_type": "execute_result"
    }
   ],
   "source": [
    "# hand copied data from the triple-section to confirm the median p value is above 3 sigma, i.e., below 0.0013\n",
    "\n",
    "np.median([0., 6.67E-06, 0.00014, 0.001086666666667, 0.001626666666667, 3.33E-05, 0.0014, 0.00266])"
   ]
  },
  {
   "cell_type": "code",
   "execution_count": null,
   "metadata": {},
   "outputs": [],
   "source": []
  }
 ],
 "metadata": {
  "kernelspec": {
   "display_name": "python37",
   "language": "python",
   "name": "python37"
  },
  "language_info": {
   "codemirror_mode": {
    "name": "ipython",
    "version": 3
   },
   "file_extension": ".py",
   "mimetype": "text/x-python",
   "name": "python",
   "nbconvert_exporter": "python",
   "pygments_lexer": "ipython3",
   "version": "3.7.5"
  }
 },
 "nbformat": 4,
 "nbformat_minor": 2
}
