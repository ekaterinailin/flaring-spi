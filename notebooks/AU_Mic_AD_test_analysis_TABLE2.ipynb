{
 "cells": [
  {
   "cell_type": "code",
   "execution_count": null,
   "metadata": {},
   "outputs": [],
   "source": [
    "from funcs.notebook import *"
   ]
  },
  {
   "cell_type": "code",
   "execution_count": null,
   "metadata": {},
   "outputs": [],
   "source": [
    "# get AD tests\n",
    "df = pd.read_csv(\"../results/adtests.csv\")\n",
    "\n",
    "# select the test results using the real data\n",
    "df = df[df.dataset==\"analysis\"]\n",
    "assert df.shape[0] == 540"
   ]
  },
  {
   "cell_type": "code",
   "execution_count": null,
   "metadata": {},
   "outputs": [],
   "source": [
    "# check completeness: each subsample is tested on 20 different start phases\n",
    "new = df.groupby([\"sector\",'subsample','period'])[\"shift\"].count()\n",
    "new"
   ]
  },
  {
   "cell_type": "code",
   "execution_count": null,
   "metadata": {},
   "outputs": [],
   "source": [
    "# calculate median and std value of all 20 start phased tests\n",
    "groupedmed = df.groupby([\"period\", \"sector\", \"subsample\"]).p.median()\n",
    "groupedvar = df.groupby([\"period\", \"sector\", \"subsample\"]).p.std()\n",
    "\n",
    "d = pd.DataFrame({\"pval\":groupedmed, \"sig\":groupedvar})\n",
    "d"
   ]
  },
  {
   "cell_type": "code",
   "execution_count": null,
   "metadata": {},
   "outputs": [],
   "source": [
    "# latexify table\n",
    "dd = d.apply(lambda x: fr\"${x.pval:.2f}$\", axis=1)\n",
    "\n",
    "\n",
    "ddd = dd.unstack(level=0).T\n",
    "\n",
    "groupedn = df.groupby([\"period\", \"sector\", \"subsample\"]).nflares.first().unstack(level=0).T.iloc[0]\n",
    "groupedn = groupedn.rename(\"# flares\")\n",
    "\n",
    "dddd = ddd.append(groupedn)\n",
    "\n",
    "names = [r'$n$', \"$p(P_{orb})$\", \"$p(P_{rot})$\", \"$p(P_{syn})$\"]\n",
    "oldnames = [r'# flares', \"Orbit\", \"Rotation\", \"Beat Period\"]\n",
    "dddd = dddd.T.rename(index=str, columns=dict(zip(oldnames, names))).T\n",
    "\n",
    "dddd"
   ]
  },
  {
   "cell_type": "code",
   "execution_count": null,
   "metadata": {},
   "outputs": [],
   "source": [
    "# make it a string\n",
    "stri = dddd.T[names].to_latex(index=True, escape=False, column_format=f\"llcccc\")\n",
    "stri = stri.replace(\"\\\\toprule\",\"\\hline\")\n",
    "stri = stri.replace(\"\\\\midrule\",\"\\hline\")\n",
    "stri = stri.replace(\"{}\",\"\\hline\")\n",
    "stri = stri.replace(\"\\\\bottomrule\",\"\\hline\\n\" )\n",
    "stri = stri.replace(\"%\",\"\\%\" )\n",
    "stri = stri.replace(\"high energy half\",\"$ED>1\\,$s\")\n",
    "stri = stri.replace(\"low energy half\",\"$ED<1\\,$s\")\n",
    "stri = stri.replace(\"Both Sectors\",\"both\")\n",
    "stri = stri.replace(\"Sector 27\",\"27\")\n",
    "stri = stri.replace(\"Sector 1\",\"1\")\n",
    "stri = stri.replace(\"subsample &      &\",\"sample &     $n$ &\")\n",
    "stri = stri.replace(\"period\",\"\")\n",
    "stri = stri.replace(\"&  $n$ & $\",\"&      & $\") \n",
    "stri = stri.replace(\"$0.07$\",\"$\\mathbf{0.07}$\") \n",
    "stri = stri.replace(\"sector\",\"Sec.\") \n",
    "\n",
    "print(stri)"
   ]
  },
  {
   "cell_type": "code",
   "execution_count": null,
   "metadata": {},
   "outputs": [],
   "source": [
    "# save to paper\n",
    "with open(\"/home/ekaterina/Documents/002_writing/aumic-flaring-spi-draft/tables/pvals.tex\", \"w\") as f:\n",
    "    f.write(stri)"
   ]
  },
  {
   "cell_type": "markdown",
   "metadata": {},
   "source": [
    "# Other visualizations to explore"
   ]
  },
  {
   "cell_type": "code",
   "execution_count": null,
   "metadata": {},
   "outputs": [],
   "source": [
    "f = df.groupby([\"period\", \"sector\",\"subsample\"]).p.median()\n",
    "f.unstack(level=0).unstack(level=1).plot(kind='bar', subplots=True, rot=0, \n",
    "                                         figsize=(15, 12), layout=(3, 3), legend=False,\n",
    "                                         ylim=(0,1));"
   ]
  },
  {
   "cell_type": "code",
   "execution_count": null,
   "metadata": {},
   "outputs": [],
   "source": [
    "f = df[df.period == \"Orbit\"].groupby([\"shift\",\"subsample\"]).p.median()\n",
    "f.unstack(level=0).plot(kind='bar', subplots=True, rot=0, \n",
    "                                         figsize=(15, 12), layout=(4, 5), legend=False,\n",
    "                                         ylim=(0,1));"
   ]
  },
  {
   "cell_type": "code",
   "execution_count": null,
   "metadata": {
    "scrolled": false
   },
   "outputs": [],
   "source": [
    "f = df[df.sector==\"Both Sectors\"].groupby([\"shift\",\"period\",\"subsample\"]).p.median()\n",
    "axes = f.unstack(level=2).unstack(level=1).plot(kind='line', subplots=True, rot=0, \n",
    "                                         figsize=(20, 20), layout=(3, 3), legend=False,\n",
    "                                         ylim=(1e-3,1),xlim=(0,.9),logy=False, color=\"k\",ylabel=\"p value\");\n",
    "[ax.legend(frameon=False) for ax_ in axes for ax in ax_];"
   ]
  },
  {
   "cell_type": "code",
   "execution_count": null,
   "metadata": {},
   "outputs": [],
   "source": []
  }
 ],
 "metadata": {
  "kernelspec": {
   "display_name": "python37",
   "language": "python",
   "name": "python37"
  },
  "language_info": {
   "codemirror_mode": {
    "name": "ipython",
    "version": 3
   },
   "file_extension": ".py",
   "mimetype": "text/x-python",
   "name": "python",
   "nbconvert_exporter": "python",
   "pygments_lexer": "ipython3",
   "version": "3.7.5"
  }
 },
 "nbformat": 4,
 "nbformat_minor": 2
}
