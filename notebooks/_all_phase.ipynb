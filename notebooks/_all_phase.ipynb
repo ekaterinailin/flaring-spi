{
 "cells": [
  {
   "cell_type": "code",
   "execution_count": null,
   "metadata": {},
   "outputs": [],
   "source": [
    "from funcs.notebook import *\n",
    "\n",
    "# Composite Table of confirmed exoplanets\n",
    "path = \"20_01_2021_confirmed_uncontroversial_exoplanet_systems.csv\"\n",
    "\n",
    "exokepler = pd.read_csv(f\"../data/{path}\") # composite table\n",
    "\n",
    "# read in TESS-TOI sample \n",
    "path = \"../data/2021_01_13_TESS_TOI_CATALOG.csv\"\n",
    "\n",
    "\n",
    "exotess = pd.read_csv(path, skiprows=4)\n",
    "\n",
    "# rename the relevant columns for transit masking\n",
    "exotess = exotess.rename(index=str, \n",
    "                         columns={'Transit Duration Value':\"pl_trandur\",\n",
    "                                  'Orbital Period Value': \"pl_orbper\", \n",
    "                                  'Epoch Value':\"pl_tranmidepoch\"})\n",
    "\n",
    "\n",
    "sep = \"-----------------------------------------\"\n",
    "\n",
    "def mprint(message):\n",
    "    print(sep)\n",
    "    print(message)\n",
    "    print(sep)\n",
    "    \n",
    "offset = {#\"K2\":2454833.,\n",
    "          \"Kepler\":2454833.,\n",
    "          \"TESS\":2457000., \n",
    "          }    \n",
    "\n"
   ]
  },
  {
   "cell_type": "code",
   "execution_count": null,
   "metadata": {},
   "outputs": [],
   "source": [
    "facility = {\"Cerro Tololo Inter-American Observatory\":\"BJD-TDB\",\n",
    "          \"HATSouth\":\"BJD\",\n",
    "          \"MEarth Project\":\"BJD\",\n",
    "           'Transiting Exoplanet Survey Satellite (TESS)':\"BJD-TDB\"}"
   ]
  },
  {
   "cell_type": "code",
   "execution_count": null,
   "metadata": {},
   "outputs": [],
   "source": [
    "df = pd.read_csv(\"../results/2020_02_obsdurs.csv\")\n",
    "df"
   ]
  },
  {
   "cell_type": "code",
   "execution_count": null,
   "metadata": {},
   "outputs": [],
   "source": [
    "# exokepler[(exokepler.hostname == \"TIC 410214986\")]\n",
    "exotess[(exotess.TIC == 410214986)]"
   ]
  },
  {
   "cell_type": "code",
   "execution_count": null,
   "metadata": {},
   "outputs": [],
   "source": [
    "\n",
    "for i, row in df.iloc[61:].iterrows():\n",
    "    print(i)\n",
    "    lc = pd.read_csv(f\"../results/observedtimes/{row.ID}_{row.qcs}_{row.lc_n}_{row.mission}.csv\")\n",
    "    if row.ID[:3] == \"TIC\":\n",
    "        system_tess = exotess[(exotess.TIC == int(row.ID[3:]))]\n",
    "\n",
    "#     print(system_tess)\n",
    "    # ID is unique, also ignore entries that have no transits\n",
    "    # because there is nothing to mask (they are still searched for flares)\n",
    "    system_kepler = exokepler[(exokepler.hostname == row.ID)]# &\n",
    " #                      (exokepler.discoverymethod == \"Transit\")]\n",
    "    print(system_kepler, system_tess)\n",
    "    try:\n",
    "#         print(system_kepler)\n",
    "        if system_kepler.shape[0] > 0:\n",
    "            system_kepler[\"pl_tranmidepoch\"] = (system_kepler.pl_tranmid -\n",
    "                                                offset[row.mission])\n",
    "        system = pd.concat([system_kepler, system_tess],ignore_index=True)\n",
    "#         print(system_kepler)\n",
    "#         print(system)\n",
    "#         print(system_kepler.pl_tranmid_systemref.iloc[0],system.pl_tranmid.iloc[0])\n",
    "        \n",
    "#         print(facility[system.iloc[0].disc_facility])\n",
    "\n",
    "    except KeyError:\n",
    "        system = system_tess\n",
    "#         print(system.pl_tranmidepoch.iloc[0],system_kepler.pl_tranmid_systemref.iloc[0])\n",
    "#         print(facility[system.iloc[0].disc_facility])\n",
    "\n",
    "    print(system)\n",
    "    system = system.sort_values(by=\"pl_orbper\",ascending=True).iloc[0]\n",
    "    tmid = system.pl_tranmidepoch\n",
    "#     print(tmid, system_kepler.pl_tranmid)\n",
    "    orbper = system.pl_orbper\n",
    "    tflare = lc.time\n",
    "    phase = ((tflare - tmid) % orbper) / orbper\n",
    "\n",
    "    lc[\"phase\"] =phase\n",
    "    \n",
    "    lc.to_csv(f\"../results/observedtimes/{row.ID}_{row.qcs}_{row.lc_n}_{row.mission}.csv\",index=False)"
   ]
  },
  {
   "cell_type": "markdown",
   "metadata": {},
   "source": [
    "# AU Mic phases"
   ]
  },
  {
   "cell_type": "code",
   "execution_count": null,
   "metadata": {},
   "outputs": [],
   "source": [
    "\n",
    "lc = pd.read_csv(f\"../results/observedtimes/AU Mic_1_0_TESS.csv\")\n",
    "\n",
    "#     print(system_tess)\n",
    "# ID is unique, also ignore entries that have no transits\n",
    "# because there is nothing to mask (they are still searched for flares)\n",
    "system_kepler = exokepler[(exokepler.hostname == \"AU Mic\")]# &\n",
    "#                      (exokepler.discoverymethod == \"Transit\")]\n",
    "\n",
    "if system_kepler.shape[0] > 0:\n",
    "    system_kepler[\"pl_tranmidepoch\"] = (system_kepler.pl_tranmid -\n",
    "                                        offset[\"TESS\"])\n",
    "system = system_kepler\n",
    "\n",
    "system = system.sort_values(by=\"pl_orbper\",ascending=True).iloc[0]\n",
    "tmid = system.pl_tranmidepoch\n",
    "#     print(tmid, system_kepler.pl_tranmid)\n",
    "orbper = system.pl_orbper\n",
    "tflare = lc.time\n",
    "phase = ((tflare - tmid) % orbper) / orbper\n",
    "\n",
    "lc[\"phase\"] =phase\n",
    "print(lc)\n",
    "lc.to_csv(f\"../results/observedtimes/AU Mic_1_0_TESS.csv\",index=False)"
   ]
  },
  {
   "cell_type": "code",
   "execution_count": null,
   "metadata": {},
   "outputs": [],
   "source": [
    "plt.plot(lc.time, phase);"
   ]
  },
  {
   "cell_type": "code",
   "execution_count": null,
   "metadata": {},
   "outputs": [],
   "source": [
    "lc[\"phase\"] =phase"
   ]
  },
  {
   "cell_type": "code",
   "execution_count": null,
   "metadata": {},
   "outputs": [],
   "source": [
    "lc.head()"
   ]
  },
  {
   "cell_type": "code",
   "execution_count": null,
   "metadata": {},
   "outputs": [],
   "source": [
    "lc.to_csv(f\"../results/observedtimes/{row.ID}_{row.qcs}_{row.lc_n}_{row.mission}.csv\",index=False)"
   ]
  },
  {
   "cell_type": "code",
   "execution_count": null,
   "metadata": {},
   "outputs": [],
   "source": [
    "system.columns.values"
   ]
  },
  {
   "cell_type": "code",
   "execution_count": null,
   "metadata": {},
   "outputs": [],
   "source": []
  }
 ],
 "metadata": {
  "kernelspec": {
   "display_name": "forallpurposes",
   "language": "python",
   "name": "forallpurposes"
  },
  "language_info": {
   "codemirror_mode": {
    "name": "ipython",
    "version": 3
   },
   "file_extension": ".py",
   "mimetype": "text/x-python",
   "name": "python",
   "nbconvert_exporter": "python",
   "pygments_lexer": "ipython3",
   "version": "3.6.9"
  }
 },
 "nbformat": 4,
 "nbformat_minor": 2
}
