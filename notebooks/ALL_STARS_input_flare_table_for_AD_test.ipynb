{
 "cells": [
  {
   "cell_type": "code",
   "execution_count": 9,
   "metadata": {},
   "outputs": [],
   "source": [
    "import numpy as np\n",
    "import pandas as pd\n",
    "import matplotlib.pyplot as plt\n",
    "%matplotlib inline"
   ]
  },
  {
   "cell_type": "markdown",
   "metadata": {},
   "source": [
    "### Get all validated flares"
   ]
  },
  {
   "cell_type": "code",
   "execution_count": 3,
   "metadata": {},
   "outputs": [],
   "source": [
    "df = pd.read_csv(\"../results/2020_02_flares_vetted.csv\")"
   ]
  },
  {
   "cell_type": "code",
   "execution_count": 6,
   "metadata": {},
   "outputs": [],
   "source": [
    "flares = df[df[\"real?\"]==1]"
   ]
  },
  {
   "cell_type": "code",
   "execution_count": 107,
   "metadata": {},
   "outputs": [
    {
     "data": {
      "text/plain": [
       "(151,)"
      ]
     },
     "execution_count": 107,
     "metadata": {},
     "output_type": "execute_result"
    }
   ],
   "source": [
    "flares.ID.unique().shape"
   ]
  },
  {
   "cell_type": "code",
   "execution_count": 142,
   "metadata": {},
   "outputs": [],
   "source": [
    "rvtran = pd.read_csv(\"../results/2021_03_star_planet_systems_with_flares.csv\")\n",
    "transit = rvtran[rvtran.discoverymethod.isnull()].ID"
   ]
  },
  {
   "cell_type": "code",
   "execution_count": 143,
   "metadata": {},
   "outputs": [],
   "source": [
    "flares = flares.merge(transit, how=\"inner\", on=\"ID\")"
   ]
  },
  {
   "cell_type": "code",
   "execution_count": 144,
   "metadata": {},
   "outputs": [
    {
     "data": {
      "text/plain": [
       "(133,)"
      ]
     },
     "execution_count": 144,
     "metadata": {},
     "output_type": "execute_result"
    }
   ],
   "source": [
    "flares.ID.unique().shape"
   ]
  },
  {
   "cell_type": "markdown",
   "metadata": {},
   "source": [
    "### Calculate all flare phases"
   ]
  },
  {
   "cell_type": "code",
   "execution_count": 145,
   "metadata": {},
   "outputs": [],
   "source": [
    "def get_flare_phases(df, mode):\n",
    "    phases = []\n",
    "    \n",
    "    if mode==\"Orbit\":\n",
    "        for j, row in df.iterrows():\n",
    "            try:\n",
    "                lc = pd.read_csv(f\"../results/observedtimes/{row.ID}_{row.qcs}_{row.lc_n}_{row.mission}.csv\")\n",
    "                phases.append(lc.phase[np.argmin(np.abs(lc.time - row.tstart))])\n",
    "            except Exception as e:\n",
    "                print(e)\n",
    "                phases.append(np.nan)\n",
    "        df[\"phases\"] = phases\n",
    "                \n",
    "    elif mode==\"Rotation\":\n",
    "        \n",
    "        df[\"phases\"] = (df.tstart % rotper) / rotper\n",
    "        \n",
    "    return df"
   ]
  },
  {
   "cell_type": "code",
   "execution_count": 146,
   "metadata": {},
   "outputs": [
    {
     "name": "stdout",
     "output_type": "stream",
     "text": [
      "[Errno 2] No such file or directory: '../results/observedtimes/TOI-700_27_0_TESS.csv'\n",
      "[Errno 2] No such file or directory: '../results/observedtimes/TIC 420112587_22_1_TESS.csv'\n",
      "[Errno 2] No such file or directory: '../results/observedtimes/TIC 420112587_26_1_TESS.csv'\n"
     ]
    }
   ],
   "source": [
    "wphases = get_flare_phases(flares, \"Orbit\")"
   ]
  },
  {
   "cell_type": "code",
   "execution_count": 44,
   "metadata": {},
   "outputs": [],
   "source": [
    "flarephases = np.sort(wphases.phases.dropna().values)"
   ]
  },
  {
   "cell_type": "code",
   "execution_count": 79,
   "metadata": {},
   "outputs": [
    {
     "data": {
      "text/plain": [
       "[<matplotlib.lines.Line2D at 0x7f4b1c2f6c50>]"
      ]
     },
     "execution_count": 79,
     "metadata": {},
     "output_type": "execute_result"
    },
    {
     "data": {
      "image/png": "[encoded data removed]",
      "text/plain": [
       "<Figure size 432x288 with 1 Axes>"
      ]
     },
     "metadata": {
      "needs_background": "light"
     },
     "output_type": "display_data"
    }
   ],
   "source": [
    "plt.plot(flarephases)"
   ]
  },
  {
   "cell_type": "markdown",
   "metadata": {},
   "source": [
    "### Get all observed phases"
   ]
  },
  {
   "cell_type": "code",
   "execution_count": 46,
   "metadata": {},
   "outputs": [],
   "source": [
    "def get_observed_phases(obstimes, mode, flarephases):\n",
    "    \n",
    "    # bin array is two elements longer than the number of bins\n",
    "    # to include 0 and 1\n",
    "    bins = np.zeros(len(flarephases) +2) \n",
    "    \n",
    "    # add zero and one\n",
    "    bins[0] = 0 \n",
    "    bins[-1] = 1 \n",
    "    \n",
    "    # and the others are kept as defined by observations\n",
    "    bins[1:-1] = flarephases\n",
    "    \n",
    "    obsphases = pd.DataFrame()\n",
    "\n",
    "    for i, row in obstimes.iterrows():\n",
    "        lc = pd.read_csv(f\"../results/observedtimes/{row.ID}_{row.qcs}_{row.lc_n}_{row.mission}.csv\")\n",
    "        \n",
    "        if mode==\"Orbit\":\n",
    "            counts, bins = np.histogram(lc.phase.values, bins=bins)\n",
    "            \n",
    "        elif mode==\"Rotation\":\n",
    "            counts, bins = np.histogram((lc.time % rotper) / rotper, bins=bins)\n",
    "            \n",
    "        # circular boundary condition\n",
    "        counts[0] = counts[0] + counts[-1]\n",
    "        \n",
    "        # remove last bin to avoid double counting\n",
    "        counts = counts[:-1]\n",
    "        \n",
    "        # get observing times for each Sector\n",
    "        obsphases[f\"{row.ID}_{row.qcs}_{row.lc_n}_{row.mission}\"] = counts * row.cadence\n",
    "\n",
    "    return obsphases"
   ]
  },
  {
   "cell_type": "code",
   "execution_count": 38,
   "metadata": {},
   "outputs": [],
   "source": [
    "def get_cadence(qcs, mission, datapoints):\n",
    "    if mission == \"TESS\":\n",
    "        if (qcs>26) & (datapoints>50000):\n",
    "            return 1./3.\n",
    "        elif (qcs>26) & (datapoints<50000):\n",
    "            return 2.\n",
    "        else:\n",
    "            return 2.\n",
    "    elif mission == \"Kepler\":\n",
    "        return 1."
   ]
  },
  {
   "cell_type": "code",
   "execution_count": 147,
   "metadata": {},
   "outputs": [],
   "source": [
    "obsdurs = pd.read_csv(\"../results/2020_02_obsdurs.csv\")"
   ]
  },
  {
   "cell_type": "code",
   "execution_count": 148,
   "metadata": {},
   "outputs": [],
   "source": [
    "obsdurs[\"cadence\"] = obsdurs.apply(lambda x: get_cadence(x.qcs,x.mission,x.datapoints), axis=1)"
   ]
  },
  {
   "cell_type": "code",
   "execution_count": 149,
   "metadata": {},
   "outputs": [],
   "source": [
    "obsdurswflares = obsdurs.merge(transit, how=\"inner\", on=\"ID\")"
   ]
  },
  {
   "cell_type": "code",
   "execution_count": 150,
   "metadata": {},
   "outputs": [
    {
     "data": {
      "text/plain": [
       "(1266, 7)"
      ]
     },
     "execution_count": 150,
     "metadata": {},
     "output_type": "execute_result"
    }
   ],
   "source": [
    "obsdurswflares.shape"
   ]
  },
  {
   "cell_type": "code",
   "execution_count": 151,
   "metadata": {},
   "outputs": [],
   "source": [
    "obsphases =  get_observed_phases(obsdurs, \"Orbit\", flarephases)"
   ]
  },
  {
   "cell_type": "code",
   "execution_count": 166,
   "metadata": {},
   "outputs": [
    {
     "data": {
      "text/plain": [
       "<matplotlib.axes._subplots.AxesSubplot at 0x7f4b17edf6d8>"
      ]
     },
     "execution_count": 166,
     "metadata": {},
     "output_type": "execute_result"
    },
    {
     "data": {
      "image/png": "[encoded data removed]",
      "text/plain": [
       "<Figure size 432x288 with 1 Axes>"
      ]
     },
     "metadata": {
      "needs_background": "light"
     },
     "output_type": "display_data"
    }
   ],
   "source": [
    "obsphases.iloc[650].plot()"
   ]
  },
  {
   "cell_type": "code",
   "execution_count": 153,
   "metadata": {},
   "outputs": [],
   "source": [
    "observedphases = obsphases.sum(axis=1).values"
   ]
  },
  {
   "cell_type": "code",
   "execution_count": 154,
   "metadata": {},
   "outputs": [
    {
     "data": {
      "text/plain": [
       "(array([], dtype=int64),)"
      ]
     },
     "execution_count": 154,
     "metadata": {},
     "output_type": "execute_result"
    },
    {
     "data": {
      "image/png": "[encoded data removed]",
      "text/plain": [
       "<Figure size 432x288 with 1 Axes>"
      ]
     },
     "metadata": {
      "needs_background": "light"
     },
     "output_type": "display_data"
    }
   ],
   "source": [
    "plt.plot(flarephases)\n",
    "np.where(~np.isfinite(flarephases))"
   ]
  },
  {
   "cell_type": "code",
   "execution_count": 155,
   "metadata": {},
   "outputs": [
    {
     "data": {
      "text/plain": [
       "(array([], dtype=int64),)"
      ]
     },
     "execution_count": 155,
     "metadata": {},
     "output_type": "execute_result"
    },
    {
     "data": {
      "image/png": "[encoded data removed]",
      "text/plain": [
       "<Figure size 432x288 with 1 Axes>"
      ]
     },
     "metadata": {
      "needs_background": "light"
     },
     "output_type": "display_data"
    }
   ],
   "source": [
    "plt.plot(observedphases)\n",
    "np.where(~np.isfinite(observedphases))"
   ]
  },
  {
   "cell_type": "code",
   "execution_count": 157,
   "metadata": {},
   "outputs": [
    {
     "data": {
      "image/png": "[encoded data removed]",
      "text/plain": [
       "<Figure size 432x288 with 1 Axes>"
      ]
     },
     "metadata": {
      "needs_background": "light"
     },
     "output_type": "display_data"
    }
   ],
   "source": [
    "relphasefreq = flarephases/observedphases\n",
    "plt.plot(relphasefreq)\n",
    "plt.yscale(\"log\");"
   ]
  },
  {
   "cell_type": "code",
   "execution_count": 158,
   "metadata": {},
   "outputs": [
    {
     "data": {
      "text/plain": [
       "(4.537395554365475e-09, inf)"
      ]
     },
     "execution_count": 158,
     "metadata": {},
     "output_type": "execute_result"
    }
   ],
   "source": [
    "np.min(relphasefreq), np.max(relphasefreq) "
   ]
  },
  {
   "cell_type": "code",
   "execution_count": 72,
   "metadata": {},
   "outputs": [
    {
     "name": "stderr",
     "output_type": "stream",
     "text": [
      "100%|██████████| 1000/1000 [00:26<00:00, 37.68it/s]\n"
     ]
    }
   ],
   "source": [
    "# sample from the near-uniform expected distribution and get the AD statistic\n",
    "A2 = sample_AD_for_custom_distribution(flarephases, observedphases, 1000)\n",
    "\n",
    "# get p value and statistic value\n",
    "pvalue, adtestvalue = get_pvalue_from_AD_statistic(flarephases, A2)"
   ]
  },
  {
   "cell_type": "code",
   "execution_count": 78,
   "metadata": {},
   "outputs": [
    {
     "data": {
      "image/png": "[encoded data removed]",
      "text/plain": [
       "<Figure size 432x288 with 1 Axes>"
      ]
     },
     "metadata": {
      "needs_background": "light"
     },
     "output_type": "display_data"
    }
   ],
   "source": [
    "plt.hist(A2,bins=50,histtype=\"step\",color=\"k\")\n",
    "plt.axvline(adtestvalue);"
   ]
  },
  {
   "cell_type": "code",
   "execution_count": 76,
   "metadata": {},
   "outputs": [
    {
     "data": {
      "text/plain": [
       "0.026000000000000002"
      ]
     },
     "execution_count": 76,
     "metadata": {},
     "output_type": "execute_result"
    }
   ],
   "source": [
    "pvalue"
   ]
  },
  {
   "cell_type": "code",
   "execution_count": 168,
   "metadata": {},
   "outputs": [
    {
     "data": {
      "text/plain": [
       "37.75"
      ]
     },
     "execution_count": 168,
     "metadata": {},
     "output_type": "execute_result"
    }
   ],
   "source": [
    "0.1 / 3.6 * 1359"
   ]
  },
  {
   "cell_type": "code",
   "execution_count": 169,
   "metadata": {},
   "outputs": [
    {
     "data": {
      "text/plain": [
       "144.00000000000003"
      ]
     },
     "execution_count": 169,
     "metadata": {},
     "output_type": "execute_result"
    }
   ],
   "source": [
    "0.1 *24*60"
   ]
  },
  {
   "cell_type": "code",
   "execution_count": 174,
   "metadata": {},
   "outputs": [
    {
     "ename": "AttributeError",
     "evalue": "module 'numpy' has no attribute 'index'",
     "output_type": "error",
     "traceback": [
      "\u001b[0;31m---------------------------------------------------------------------------\u001b[0m",
      "\u001b[0;31mAttributeError\u001b[0m                            Traceback (most recent call last)",
      "\u001b[0;32m<ipython-input-174-9288093311ad>\u001b[0m in \u001b[0;36m<module>\u001b[0;34m\u001b[0m\n\u001b[0;32m----> 1\u001b[0;31m \u001b[0mnp\u001b[0m\u001b[0;34m.\u001b[0m\u001b[0mindex\u001b[0m\u001b[0;34m(\u001b[0m\u001b[0mnp\u001b[0m\u001b[0;34m.\u001b[0m\u001b[0marange\u001b[0m\u001b[0;34m(\u001b[0m\u001b[0;36m7\u001b[0m\u001b[0;34m,\u001b[0m\u001b[0;36m17\u001b[0m\u001b[0;34m,\u001b[0m\u001b[0;36m1\u001b[0m\u001b[0;34m)\u001b[0m\u001b[0;34m)\u001b[0m\u001b[0;34m\u001b[0m\u001b[0;34m\u001b[0m\u001b[0m\n\u001b[0m",
      "\u001b[0;31mAttributeError\u001b[0m: module 'numpy' has no attribute 'index'"
     ]
    }
   ],
   "source": [
    "np.index(np.arange(7,17,1))"
   ]
  },
  {
   "cell_type": "code",
   "execution_count": null,
   "metadata": {},
   "outputs": [],
   "source": []
  }
 ],
 "metadata": {
  "kernelspec": {
   "display_name": "forallpurposes",
   "language": "python",
   "name": "forallpurposes"
  },
  "language_info": {
   "codemirror_mode": {
    "name": "ipython",
    "version": 3
   },
   "file_extension": ".py",
   "mimetype": "text/x-python",
   "name": "python",
   "nbconvert_exporter": "python",
   "pygments_lexer": "ipython3",
   "version": "3.6.9"
  }
 },
 "nbformat": 4,
 "nbformat_minor": 2
}
