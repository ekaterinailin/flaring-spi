{
 "cells": [
  {
   "cell_type": "code",
   "execution_count": 11,
   "metadata": {},
   "outputs": [],
   "source": [
    "from funcs.notebook import *"
   ]
  },
  {
   "cell_type": "markdown",
   "metadata": {},
   "source": [
    "- false positive numbers are often double counted, not a reliable source of algorithm efficiency\n",
    "- the vetted list is rather a search protocol\n",
    "- 20s and 2min duplicate lcs >>> use only 20s except for four cases with marginal but real looking flares that are not detected in 20s but in 2min\n",
    "- \n"
   ]
  },
  {
   "cell_type": "code",
   "execution_count": 138,
   "metadata": {},
   "outputs": [],
   "source": [
    "df = pd.read_csv(\"../results/2020_02_flares_vetted.csv\")"
   ]
  },
  {
   "cell_type": "code",
   "execution_count": 141,
   "metadata": {},
   "outputs": [
    {
     "data": {
      "text/plain": [
       "array([nan, 'duplicate lc', 'not seen in TPF', 'end of LC sys?',\n",
       "       'end of LC noise', 'checked TPF', 'lc sys', 'marginal detection',\n",
       "       'unusual pattern, also second such event around 2070 not recovered',\n",
       "       'supershort but real in TPF', 'De-trending failed',\n",
       "       'end of LC sys', 'signal center is off pixelmask center',\n",
       "       'only in LC, not in TPF?', 'right after transit',\n",
       "       'saturated in detector', 'simultaneous FP in multiple Lcs',\n",
       "       'start of lc', 'added the tail to this solution already',\n",
       "       'tail of flare right before', 'entire TPF flashes', 'lc noise',\n",
       "       'some sort of variability that is not flares', 'SSO?',\n",
       "       'has tail, added manually at the end',\n",
       "       'gradual like a spot, extended flare range manually', 'SSO',\n",
       "       'De-trending failed, EB, no flares', 'a mess in the TPF',\n",
       "       'gradual like a spot, saturated TPF?', 'cut off',\n",
       "       'tail of possible flare right before', 'gradual like a spot',\n",
       "       'cosmic ray flag', 'looks good but ED calculation is negative?',\n",
       "       'unusual form, but nothing suspicious in TPF, no quality flags',\n",
       "       'gradual ', 'start of complex flares',\n",
       "       'eruptive T Tauri with directly imaged planet', 'RS Cvn',\n",
       "       'too long duration captured', 'same as in A component', 'A star',\n",
       "       'cosmic?', 'very gradual, but looks good in TPF', 'complex flare',\n",
       "       'weird light wave in TPF', 'near transit noise',\n",
       "       'longer tail actually', 'blended target', 'start o lc',\n",
       "       'Post-common envelope binary with disk and possible planet',\n",
       "       'non flare events around HJ transit (eclipse variation?)',\n",
       "       'double flare that can be separated', 'has tail',\n",
       "       'tail of previous', 'tail of gradual', 'double flare',\n",
       "       'possible oscillation in tail?', 'separated double flare',\n",
       "       'tail added', 'tail added to complex flare',\n",
       "       'tail added but not the possible oscillation',\n",
       "       'tail added to gradual flare',\n",
       "       'tail and start added to gradual flare', 'need broader coverage',\n",
       "       'Gradual has tail', 'edge of transit', 'check TPF',\n",
       "       'Gradual like a spot', 'has gradual spot as a tail',\n",
       "       'has a secondary shortly after decay', 'transit edge',\n",
       "       'flare in transit', 'has longer tail', 'gradual flare',\n",
       "       'long tail',\n",
       "       'originally false negative, was so gradual that AltaiPony missed it',\n",
       "       'originally false negative', 'found in 2min but not in 20s'],\n",
       "      dtype=object)"
      ]
     },
     "execution_count": 141,
     "metadata": {},
     "output_type": "execute_result"
    }
   ],
   "source": [
    "df.note.unique()#.shape"
   ]
  },
  {
   "cell_type": "code",
   "execution_count": 14,
   "metadata": {},
   "outputs": [
    {
     "data": {
      "text/plain": [
       "547"
      ]
     },
     "execution_count": 14,
     "metadata": {},
     "output_type": "execute_result"
    }
   ],
   "source": [
    "df[df.note == \"saturated in detector\"].shape[0]"
   ]
  },
  {
   "cell_type": "code",
   "execution_count": 15,
   "metadata": {},
   "outputs": [
    {
     "data": {
      "text/plain": [
       "1367"
      ]
     },
     "execution_count": 15,
     "metadata": {},
     "output_type": "execute_result"
    }
   ],
   "source": [
    "df[df.note == \"simultaneous FP in multiple Lcs\"].shape[0]"
   ]
  },
  {
   "cell_type": "code",
   "execution_count": 16,
   "metadata": {},
   "outputs": [],
   "source": [
    "lcs_without_flare_candidates = df[df.ampl_rec.isnull()].shape[0]\n",
    "flare_candidates = df[~df.ampl_rec.isnull()].shape[0]\n",
    "assert df.shape[0] == flare_candidates + lcs_without_flare_candidates"
   ]
  },
  {
   "cell_type": "code",
   "execution_count": 17,
   "metadata": {},
   "outputs": [
    {
     "data": {
      "text/plain": [
       "(5652, 12487)"
      ]
     },
     "execution_count": 17,
     "metadata": {},
     "output_type": "execute_result"
    }
   ],
   "source": [
    "flare_candidates, lcs_without_flare_candidates"
   ]
  },
  {
   "cell_type": "code",
   "execution_count": 18,
   "metadata": {},
   "outputs": [
    {
     "data": {
      "text/plain": [
       "2413"
      ]
     },
     "execution_count": 18,
     "metadata": {},
     "output_type": "execute_result"
    }
   ],
   "source": [
    "lcs_with_flare_candidates = df[~df.ampl_rec.isnull()].groupby([\"ID\",\"qcs\",\"lc_n\"]).first().shape[0]\n",
    "lcs_with_flare_candidates"
   ]
  },
  {
   "cell_type": "code",
   "execution_count": 48,
   "metadata": {},
   "outputs": [
    {
     "data": {
      "text/html": [
       "<div>\n",
       "<style scoped>\n",
       "    .dataframe tbody tr th:only-of-type {\n",
       "        vertical-align: middle;\n",
       "    }\n",
       "\n",
       "    .dataframe tbody tr th {\n",
       "        vertical-align: top;\n",
       "    }\n",
       "\n",
       "    .dataframe thead th {\n",
       "        text-align: right;\n",
       "    }\n",
       "</style>\n",
       "<table border=\"1\" class=\"dataframe\">\n",
       "  <thead>\n",
       "    <tr style=\"text-align: right;\">\n",
       "      <th></th>\n",
       "      <th>ID</th>\n",
       "      <th>qcs</th>\n",
       "      <th>has2min</th>\n",
       "    </tr>\n",
       "  </thead>\n",
       "  <tbody>\n",
       "    <tr>\n",
       "      <th>12</th>\n",
       "      <td>GJ 1252</td>\n",
       "      <td>27</td>\n",
       "      <td>True</td>\n",
       "    </tr>\n",
       "    <tr>\n",
       "      <th>17</th>\n",
       "      <td>GJ 143</td>\n",
       "      <td>28</td>\n",
       "      <td>True</td>\n",
       "    </tr>\n",
       "    <tr>\n",
       "      <th>19</th>\n",
       "      <td>GJ 143</td>\n",
       "      <td>29</td>\n",
       "      <td>True</td>\n",
       "    </tr>\n",
       "    <tr>\n",
       "      <th>21</th>\n",
       "      <td>GJ 143</td>\n",
       "      <td>30</td>\n",
       "      <td>True</td>\n",
       "    </tr>\n",
       "    <tr>\n",
       "      <th>49</th>\n",
       "      <td>HATS-13</td>\n",
       "      <td>28</td>\n",
       "      <td>True</td>\n",
       "    </tr>\n",
       "    <tr>\n",
       "      <th>...</th>\n",
       "      <td>...</td>\n",
       "      <td>...</td>\n",
       "      <td>...</td>\n",
       "    </tr>\n",
       "    <tr>\n",
       "      <th>17698</th>\n",
       "      <td>TIC 306472057</td>\n",
       "      <td>28</td>\n",
       "      <td>True</td>\n",
       "    </tr>\n",
       "    <tr>\n",
       "      <th>17707</th>\n",
       "      <td>TIC 350332997</td>\n",
       "      <td>27</td>\n",
       "      <td>True</td>\n",
       "    </tr>\n",
       "    <tr>\n",
       "      <th>17709</th>\n",
       "      <td>TIC 350332997</td>\n",
       "      <td>28</td>\n",
       "      <td>True</td>\n",
       "    </tr>\n",
       "    <tr>\n",
       "      <th>17725</th>\n",
       "      <td>TIC 391904697</td>\n",
       "      <td>27</td>\n",
       "      <td>True</td>\n",
       "    </tr>\n",
       "    <tr>\n",
       "      <th>17727</th>\n",
       "      <td>TIC 391904697</td>\n",
       "      <td>28</td>\n",
       "      <td>True</td>\n",
       "    </tr>\n",
       "  </tbody>\n",
       "</table>\n",
       "<p>519 rows × 3 columns</p>\n",
       "</div>"
      ],
      "text/plain": [
       "                  ID  qcs  has2min\n",
       "12           GJ 1252   27     True\n",
       "17            GJ 143   28     True\n",
       "19            GJ 143   29     True\n",
       "21            GJ 143   30     True\n",
       "49           HATS-13   28     True\n",
       "...              ...  ...      ...\n",
       "17698  TIC 306472057   28     True\n",
       "17707  TIC 350332997   27     True\n",
       "17709  TIC 350332997   28     True\n",
       "17725  TIC 391904697   27     True\n",
       "17727  TIC 391904697   28     True\n",
       "\n",
       "[519 rows x 3 columns]"
      ]
     },
     "execution_count": 48,
     "metadata": {},
     "output_type": "execute_result"
    }
   ],
   "source": [
    "a = df.loc[(df.qcs > 26) & (df.lc_n == 1) & (df[\"note\"]!=\"duplicate lc\"),[\"ID\",\"qcs\"]].drop_duplicates(keep=\"last\")\n",
    "a[\"has2min\"] = True\n",
    "a"
   ]
  },
  {
   "cell_type": "code",
   "execution_count": 49,
   "metadata": {},
   "outputs": [
    {
     "data": {
      "text/html": [
       "<div>\n",
       "<style scoped>\n",
       "    .dataframe tbody tr th:only-of-type {\n",
       "        vertical-align: middle;\n",
       "    }\n",
       "\n",
       "    .dataframe tbody tr th {\n",
       "        vertical-align: top;\n",
       "    }\n",
       "\n",
       "    .dataframe thead th {\n",
       "        text-align: right;\n",
       "    }\n",
       "</style>\n",
       "<table border=\"1\" class=\"dataframe\">\n",
       "  <thead>\n",
       "    <tr style=\"text-align: right;\">\n",
       "      <th></th>\n",
       "      <th>ID</th>\n",
       "      <th>qcs</th>\n",
       "      <th>has20s</th>\n",
       "    </tr>\n",
       "  </thead>\n",
       "  <tbody>\n",
       "    <tr>\n",
       "      <th>11</th>\n",
       "      <td>GJ 1252</td>\n",
       "      <td>27</td>\n",
       "      <td>True</td>\n",
       "    </tr>\n",
       "    <tr>\n",
       "      <th>13</th>\n",
       "      <td>GJ 143</td>\n",
       "      <td>28</td>\n",
       "      <td>True</td>\n",
       "    </tr>\n",
       "    <tr>\n",
       "      <th>18</th>\n",
       "      <td>GJ 143</td>\n",
       "      <td>29</td>\n",
       "      <td>True</td>\n",
       "    </tr>\n",
       "    <tr>\n",
       "      <th>20</th>\n",
       "      <td>GJ 143</td>\n",
       "      <td>30</td>\n",
       "      <td>True</td>\n",
       "    </tr>\n",
       "    <tr>\n",
       "      <th>48</th>\n",
       "      <td>HATS-13</td>\n",
       "      <td>28</td>\n",
       "      <td>True</td>\n",
       "    </tr>\n",
       "    <tr>\n",
       "      <th>...</th>\n",
       "      <td>...</td>\n",
       "      <td>...</td>\n",
       "      <td>...</td>\n",
       "    </tr>\n",
       "    <tr>\n",
       "      <th>18132</th>\n",
       "      <td>TIC 299798795</td>\n",
       "      <td>28</td>\n",
       "      <td>True</td>\n",
       "    </tr>\n",
       "    <tr>\n",
       "      <th>18135</th>\n",
       "      <td>TIC 101230735</td>\n",
       "      <td>27</td>\n",
       "      <td>True</td>\n",
       "    </tr>\n",
       "    <tr>\n",
       "      <th>18136</th>\n",
       "      <td>TIC 278198753</td>\n",
       "      <td>27</td>\n",
       "      <td>True</td>\n",
       "    </tr>\n",
       "    <tr>\n",
       "      <th>18137</th>\n",
       "      <td>TIC 278683844</td>\n",
       "      <td>31</td>\n",
       "      <td>True</td>\n",
       "    </tr>\n",
       "    <tr>\n",
       "      <th>18138</th>\n",
       "      <td>TIC 2760710</td>\n",
       "      <td>29</td>\n",
       "      <td>True</td>\n",
       "    </tr>\n",
       "  </tbody>\n",
       "</table>\n",
       "<p>1318 rows × 3 columns</p>\n",
       "</div>"
      ],
      "text/plain": [
       "                  ID  qcs  has20s\n",
       "11           GJ 1252   27    True\n",
       "13            GJ 143   28    True\n",
       "18            GJ 143   29    True\n",
       "20            GJ 143   30    True\n",
       "48           HATS-13   28    True\n",
       "...              ...  ...     ...\n",
       "18132  TIC 299798795   28    True\n",
       "18135  TIC 101230735   27    True\n",
       "18136  TIC 278198753   27    True\n",
       "18137  TIC 278683844   31    True\n",
       "18138    TIC 2760710   29    True\n",
       "\n",
       "[1318 rows x 3 columns]"
      ]
     },
     "execution_count": 49,
     "metadata": {},
     "output_type": "execute_result"
    }
   ],
   "source": [
    "b = df.loc[(df.qcs > 26) & (df.lc_n == 0),[\"ID\",\"qcs\"]].drop_duplicates(keep=\"last\")\n",
    "b['has20s'] =True\n",
    "b"
   ]
  },
  {
   "cell_type": "code",
   "execution_count": 89,
   "metadata": {},
   "outputs": [
    {
     "data": {
      "text/plain": [
       "(511, 4)"
      ]
     },
     "execution_count": 89,
     "metadata": {},
     "output_type": "execute_result"
    }
   ],
   "source": [
    "c = b.merge(a, how=\"inner\").shape\n",
    "c"
   ]
  },
  {
   "cell_type": "code",
   "execution_count": 85,
   "metadata": {},
   "outputs": [
    {
     "data": {
      "text/plain": [
       "(136, 19)"
      ]
     },
     "execution_count": 85,
     "metadata": {},
     "output_type": "execute_result"
    }
   ],
   "source": [
    "df[df.note == \"duplicate lc\"].shape"
   ]
  },
  {
   "cell_type": "code",
   "execution_count": 130,
   "metadata": {},
   "outputs": [],
   "source": [
    "r=df[(df.qcs > 26)].groupby([\"ID\",\"qcs\",\"lc_n\"]).first().reset_index()[[\"ID\",\"qcs\",\"lc_n\"]].groupby([\"ID\",\"qcs\"]).count()\n",
    "r = r[r.lc_n==2].reset_index()"
   ]
  },
  {
   "cell_type": "code",
   "execution_count": 131,
   "metadata": {},
   "outputs": [],
   "source": [
    "for j,v in r.iterrows():\n",
    "    df.loc[(df.ID == v.ID) & (df.qcs == v.qcs) & (df.lc_n==1) ,\"note\"]= \"duplicate lc\""
   ]
  },
  {
   "cell_type": "code",
   "execution_count": 132,
   "metadata": {},
   "outputs": [],
   "source": []
  },
  {
   "cell_type": "code",
   "execution_count": 134,
   "metadata": {},
   "outputs": [
    {
     "data": {
      "text/plain": [
       "(        istart    istop     cstart      cstop       tstart        tstop  \\\n",
       " 0          NaN      NaN        NaN        NaN          NaN          NaN   \n",
       " 1          NaN      NaN        NaN        NaN          NaN          NaN   \n",
       " 2          NaN      NaN        NaN        NaN          NaN          NaN   \n",
       " 3          NaN      NaN        NaN        NaN          NaN          NaN   \n",
       " 4          NaN      NaN        NaN        NaN          NaN          NaN   \n",
       " ...        ...      ...        ...        ...          ...          ...   \n",
       " 18134   9986.0  10011.0  1309142.0  1309167.0  1008.467093  1008.484120   \n",
       " 18135  68803.0  68890.0  3583826.0  3583913.0  2057.048922  2057.069061   \n",
       " 18136   1590.0   1633.0  3495709.0  3495752.0  2036.647599  2036.657552   \n",
       " 18137  77126.0  77152.0  4050732.0  4050758.0  2165.124274  2165.130293   \n",
       " 18138  55177.0  55192.0  3790024.0  3790039.0  2104.780506  2104.783978   \n",
       " \n",
       "           ed_rec  ed_rec_err  ampl_rec       dur  total_n_valid_data_points  \\\n",
       " 0            NaN         NaN       NaN       NaN                      15910   \n",
       " 1            NaN         NaN       NaN       NaN                      14215   \n",
       " 2            NaN         NaN       NaN       NaN                      14391   \n",
       " 3            NaN         NaN       NaN       NaN                      14076   \n",
       " 4            NaN         NaN       NaN       NaN                      13973   \n",
       " ...          ...         ...       ...       ...                        ...   \n",
       " 18134   0.629660    0.034204  0.000801  0.017028                      42698   \n",
       " 18135   4.510398    0.272109  0.009388  0.020139                      70755   \n",
       " 18136  34.310443    1.259707  0.103939  0.009954                      98331   \n",
       " 18137   1.762960    0.116504  0.013946  0.006019                      97449   \n",
       " 18138  17.454931    1.823675  0.151429  0.003472                      88509   \n",
       " \n",
       "                   ID  qcs mission               tstamp  dur_detrend  lc_n  \\\n",
       " 0             55 Cnc   21    TESS  05_02_2021_10_58_23     5.128713     0   \n",
       " 1           CoRoT-12    6    TESS  05_02_2021_10_34_04     1.948424     0   \n",
       " 2           CoRoT-13    6    TESS  05_02_2021_10_38_55     2.359519     0   \n",
       " 3           CoRoT-18    6    TESS  04_02_2021_11_54_29     1.959264     0   \n",
       " 4           CoRoT-19    6    TESS  04_02_2021_12_05_32     2.281104     0   \n",
       " ...              ...  ...     ...                  ...          ...   ...   \n",
       " 18134      Kepler-68   11  Kepler  25_03_2021_15_44_30     9.024352     0   \n",
       " 18135  TIC 101230735   27    TESS  26_03_2021_07_16_18    41.971729     0   \n",
       " 18136  TIC 278198753   27    TESS  26_03_2021_07_30_26    51.835201     0   \n",
       " 18137  TIC 278683844   31    TESS  26_03_2021_07_41_56    66.711938     0   \n",
       " 18138    TIC 2760710   29    TESS  26_03_2021_08_47_47    38.658093     0   \n",
       " \n",
       "        real?                          note  \n",
       " 0        NaN                           NaN  \n",
       " 1        NaN                           NaN  \n",
       " 2        NaN                           NaN  \n",
       " 3        NaN                           NaN  \n",
       " 4        NaN                           NaN  \n",
       " ...      ...                           ...  \n",
       " 18134    1.0                     long tail  \n",
       " 18135    1.0  found in 2min but not in 20s  \n",
       " 18136    1.0  found in 2min but not in 20s  \n",
       " 18137    1.0  found in 2min but not in 20s  \n",
       " 18138    1.0  found in 2min but not in 20s  \n",
       " \n",
       " [17470 rows x 19 columns],\n",
       " (18139, 19))"
      ]
     },
     "execution_count": 134,
     "metadata": {},
     "output_type": "execute_result"
    }
   ],
   "source": [
    "df[df.note!=\"duplicate lc\"], df.shape"
   ]
  },
  {
   "cell_type": "code",
   "execution_count": null,
   "metadata": {},
   "outputs": [],
   "source": []
  }
 ],
 "metadata": {
  "kernelspec": {
   "display_name": "forallpurposes",
   "language": "python",
   "name": "forallpurposes"
  },
  "language_info": {
   "codemirror_mode": {
    "name": "ipython",
    "version": 3
   },
   "file_extension": ".py",
   "mimetype": "text/x-python",
   "name": "python",
   "nbconvert_exporter": "python",
   "pygments_lexer": "ipython3",
   "version": "3.6.9"
  }
 },
 "nbformat": 4,
 "nbformat_minor": 2
}
