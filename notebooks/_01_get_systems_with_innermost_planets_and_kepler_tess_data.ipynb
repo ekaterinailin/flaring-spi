{
 "cells": [
  {
   "cell_type": "code",
   "execution_count": 1,
   "metadata": {},
   "outputs": [
    {
     "name": "stderr",
     "output_type": "stream",
     "text": [
      "\n",
      "Bad key \"pcolor.shading\" on line 132 in\n",
      "/home/ekaterina/.config/matplotlib/matplotlibrc.\n",
      "You probably need to get an updated matplotlibrc file from\n",
      "https://github.com/matplotlib/matplotlib/blob/v3.2.0/matplotlibrc.template\n",
      "or from the matplotlib source distribution\n",
      "\n",
      "Bad key \"pcolormesh.snap\" on line 133 in\n",
      "/home/ekaterina/.config/matplotlib/matplotlibrc.\n",
      "You probably need to get an updated matplotlibrc file from\n",
      "https://github.com/matplotlib/matplotlib/blob/v3.2.0/matplotlibrc.template\n",
      "or from the matplotlib source distribution\n",
      "Bad val 'force_autohint' on line #287\n",
      "\t\"text.hinting: force_autohint\n",
      "\"\n",
      "\tin file \"/home/ekaterina/.config/matplotlib/matplotlibrc\"\n",
      "\tKey text.hinting: hinting should be 'auto', 'native', 'either' or 'none'\n",
      "\n",
      "Bad key \"mathtext.fallback\" on line 341 in\n",
      "/home/ekaterina/.config/matplotlib/matplotlibrc.\n",
      "You probably need to get an updated matplotlibrc file from\n",
      "https://github.com/matplotlib/matplotlib/blob/v3.2.0/matplotlibrc.template\n",
      "or from the matplotlib source distribution\n",
      "\n",
      "Bad key \"axes.titley\" on line 368 in\n",
      "/home/ekaterina/.config/matplotlib/matplotlibrc.\n",
      "You probably need to get an updated matplotlibrc file from\n",
      "https://github.com/matplotlib/matplotlib/blob/v3.2.0/matplotlibrc.template\n",
      "or from the matplotlib source distribution\n",
      "\n",
      "Bad key \"axes.zmargin\" on line 417 in\n",
      "/home/ekaterina/.config/matplotlib/matplotlibrc.\n",
      "You probably need to get an updated matplotlibrc file from\n",
      "https://github.com/matplotlib/matplotlib/blob/v3.2.0/matplotlibrc.template\n",
      "or from the matplotlib source distribution\n",
      "\n",
      "Bad key \"xaxis.labellocation\" on line 428 in\n",
      "/home/ekaterina/.config/matplotlib/matplotlibrc.\n",
      "You probably need to get an updated matplotlibrc file from\n",
      "https://github.com/matplotlib/matplotlib/blob/v3.2.0/matplotlibrc.template\n",
      "or from the matplotlib source distribution\n",
      "\n",
      "Bad key \"yaxis.labellocation\" on line 429 in\n",
      "/home/ekaterina/.config/matplotlib/matplotlibrc.\n",
      "You probably need to get an updated matplotlibrc file from\n",
      "https://github.com/matplotlib/matplotlib/blob/v3.2.0/matplotlibrc.template\n",
      "or from the matplotlib source distribution\n",
      "\n",
      "Bad key \"date.epoch\" on line 453 in\n",
      "/home/ekaterina/.config/matplotlib/matplotlibrc.\n",
      "You probably need to get an updated matplotlibrc file from\n",
      "https://github.com/matplotlib/matplotlib/blob/v3.2.0/matplotlibrc.template\n",
      "or from the matplotlib source distribution\n",
      "\n",
      "Bad key \"date.converter\" on line 455 in\n",
      "/home/ekaterina/.config/matplotlib/matplotlibrc.\n",
      "You probably need to get an updated matplotlibrc file from\n",
      "https://github.com/matplotlib/matplotlib/blob/v3.2.0/matplotlibrc.template\n",
      "or from the matplotlib source distribution\n",
      "\n",
      "Bad key \"date.interval_multiples\" on line 457 in\n",
      "/home/ekaterina/.config/matplotlib/matplotlibrc.\n",
      "You probably need to get an updated matplotlibrc file from\n",
      "https://github.com/matplotlib/matplotlib/blob/v3.2.0/matplotlibrc.template\n",
      "or from the matplotlib source distribution\n",
      "\n",
      "Bad key \"xtick.labelcolor\" on line 474 in\n",
      "/home/ekaterina/.config/matplotlib/matplotlibrc.\n",
      "You probably need to get an updated matplotlibrc file from\n",
      "https://github.com/matplotlib/matplotlib/blob/v3.2.0/matplotlibrc.template\n",
      "or from the matplotlib source distribution\n",
      "\n",
      "Bad key \"ytick.labelcolor\" on line 495 in\n",
      "/home/ekaterina/.config/matplotlib/matplotlibrc.\n",
      "You probably need to get an updated matplotlibrc file from\n",
      "https://github.com/matplotlib/matplotlib/blob/v3.2.0/matplotlibrc.template\n",
      "or from the matplotlib source distribution\n",
      "\n",
      "Bad key \"legend.labelcolor\" on line 530 in\n",
      "/home/ekaterina/.config/matplotlib/matplotlibrc.\n",
      "You probably need to get an updated matplotlibrc file from\n",
      "https://github.com/matplotlib/matplotlib/blob/v3.2.0/matplotlibrc.template\n",
      "or from the matplotlib source distribution\n",
      "\n",
      "Bad key \"figure.raise_window\" on line 557 in\n",
      "/home/ekaterina/.config/matplotlib/matplotlibrc.\n",
      "You probably need to get an updated matplotlibrc file from\n",
      "https://github.com/matplotlib/matplotlib/blob/v3.2.0/matplotlibrc.template\n",
      "or from the matplotlib source distribution\n",
      "\n",
      "Bad key \"contour.linewidth\" on line 602 in\n",
      "/home/ekaterina/.config/matplotlib/matplotlibrc.\n",
      "You probably need to get an updated matplotlibrc file from\n",
      "https://github.com/matplotlib/matplotlib/blob/v3.2.0/matplotlibrc.template\n",
      "or from the matplotlib source distribution\n",
      "Bad val 'auto' on line #670\n",
      "\t\"savefig.facecolor: auto        # figure face color when saving\n",
      "\"\n",
      "\tin file \"/home/ekaterina/.config/matplotlib/matplotlibrc\"\n",
      "\tKey savefig.facecolor: auto does not look like a color arg\n",
      "Bad val 'auto' on line #671\n",
      "\t\"savefig.edgecolor: auto        # figure edge color when saving\n",
      "\"\n",
      "\tin file \"/home/ekaterina/.config/matplotlib/matplotlibrc\"\n",
      "\tKey savefig.edgecolor: auto does not look like a color arg\n"
     ]
    }
   ],
   "source": [
    "\"\"\"\n",
    "UTF-8, Python 3\n",
    "\n",
    "------------------\n",
    "Flaring SPI\n",
    "------------------\n",
    "\n",
    "Ekaterina Ilin, 2022, MIT License\n",
    "\n",
    "This script uses the Composite Table of confirmed exoplanets\n",
    "from the NASA Exoplanet Archive* (column description**) AND \n",
    "the TESS-TOI table of confirmed planets and known planets***\n",
    "(column description****) to compile a sample of all \n",
    "Kepler/K2/TESS short cadence light curves available \n",
    "for all currently known exoplanet systems.\n",
    "\n",
    "* https://exoplanetarchive.ipac.caltech.edu/cgi-bin/TblView/nph-tblView?app=ExoTbls&config=PSCompPars\n",
    "** https://exoplanetarchive.ipac.caltech.edu/docs/API_PS_columns.html\n",
    "*** https://exoplanetarchive.ipac.caltech.edu/cgi-bin/TblView/nph-tblView?app=ExoTbls&config=TOI\n",
    "**** https://exoplanetarchive.ipac.caltech.edu/docs/API_toi_columns.html\n",
    "\"\"\"\n",
    "\n",
    "import pandas as pd\n",
    "from funcs.notebook import *\n",
    "import time\n",
    "tstamp = time.strftime(\"%Y_%m_%d\", time.localtime())"
   ]
  },
  {
   "cell_type": "code",
   "execution_count": 2,
   "metadata": {},
   "outputs": [
    {
     "name": "stdout",
     "output_type": "stream",
     "text": [
      "-----------------------------------------\n",
      "[UP] Using NASA Composite Table from ../data/2022_07_26_NASA_COMPOSITE.csv\n",
      "-----------------------------------------\n",
      "-----------------------------------------\n",
      "[DOWN] Saving 2948 uncontroversial transiting exosystems from NASA Composite Table to ../data/2022_07_27_confirmed_uncontroversial_innermost_transiting_exoplanet.csv\n",
      "-----------------------------------------\n"
     ]
    }
   ],
   "source": [
    "# --------------------------------------------------\n",
    "# READ IN NASA EXOPLANET ARCHIVE TABLE\n",
    "# Composite Table of confirmed exoplanets\n",
    "path = \"../data/2022_07_26_NASA_COMPOSITE.csv\"\n",
    "mprint(f\"[UP] Using NASA Composite Table from {path}\")\n",
    "df_nasa_full = pd.read_csv(path, skiprows=320) # composite table\n",
    "\n",
    "# select only uncontroversial detections of planets known to transit\n",
    "conditions = (df_nasa_full.pl_controv_flag==0) & (df_nasa_full.tran_flag==1)\n",
    "sel = df_nasa_full[conditions]\n",
    "\n",
    "# select the indices of the innermost planets\n",
    "sel = sel.sort_values(\"pl_orbper\",ascending=True)\n",
    "df_nasa = sel.groupby(\"tic_id\").first().reset_index()\n",
    "\n",
    "path =f\"../data/{tstamp}_confirmed_uncontroversial_innermost_transiting_exoplanet.csv\"\n",
    "mprint(f\"[DOWN] Saving {df_nasa.shape[0]} uncontroversial \"\n",
    "       f\"transiting exosystems from NASA Composite Table to {path}\")\n",
    "df_nasa.to_csv(path, index=False)\n",
    "\n",
    "# --------------------------------------------------\n"
   ]
  },
  {
   "cell_type": "code",
   "execution_count": 3,
   "metadata": {},
   "outputs": [
    {
     "name": "stdout",
     "output_type": "stream",
     "text": [
      "-----------------------------------------\n",
      "[UP] Using TESS-TOI Table from ../data/2022_07_26_TESS_TOI_CATALOG.csv\n",
      "-----------------------------------------\n",
      "-----------------------------------------\n",
      "[DOWN] Saving CP and KP sample of 650 planet hosts from TESS TOI to ../data/2022_07_27_tess_confirmed_and_known_planets.csv\n",
      "-----------------------------------------\n"
     ]
    }
   ],
   "source": [
    "# --------------------------------------------------\n",
    "# READ in TESS-TOI CATALOG\n",
    "\n",
    "path = \"../data/2022_07_26_TESS_TOI_CATALOG.csv\"\n",
    "mprint(f\"[UP] Using TESS-TOI Table from {path}\")\n",
    "df_tess_full = pd.read_csv(path, skiprows=90)\n",
    "\n",
    "# select only known candidates and confirmed planets\n",
    "# KP = known planet, CP = confirmed planet\n",
    "df1 = df_tess_full[df_tess_full[\"tfopwg_disp\"].isin([\"KP\",\"CP\"])]\n",
    "\n",
    "# sort by orbital period\n",
    "df1 = df1.sort_values(\"pl_orbper\",ascending=True)\n",
    "\n",
    "# select innermost planet\n",
    "df_tess  = df1.groupby(\"tid\").first().reset_index()\n",
    "df_tess = df_tess.rename(index=str, columns={\"tid\":\"tic_id\"})\n",
    "\n",
    "# save to file\n",
    "path = f\"../data/{tstamp}_tess_confirmed_and_known_planets.csv\"\n",
    "mprint(f\"[DOWN] Saving CP and KP sample of {df_tess.shape[0]} \"\n",
    "       f\"planet hosts from TESS TOI to {path}\")\n",
    "df_tess.to_csv(path, index=False)\n",
    "\n",
    "# --------------------------------------------------"
   ]
  },
  {
   "cell_type": "code",
   "execution_count": 4,
   "metadata": {
    "scrolled": false
   },
   "outputs": [],
   "source": [
    "# --------------------------------------------------\n",
    "# MERGE BOTH TABLES on TIC ID\n",
    "\n",
    "# Note: \n",
    "# All NASA ARCHIVE entries have a TIC ID expect \n",
    "# for some RV, direct imaging, and microlensing targets\n",
    "# and two transiting planets in the galactic bulge.\n",
    "\n",
    "# the TIC ID should look the same in both data frames\n",
    "df_nasa[\"TIC\"] = df_nasa.tic_id.str[4:]\n",
    "df_tess[\"TIC\"] = df_tess.tic_id.astype(str)\n",
    "\n",
    "# select final columns for the merged table\n",
    "columns = [\"pl_orbper\",\"pl_orbpererr1\",\"pl_orbpererr2\",\n",
    "          \"pl_tranmid\",\"pl_tranmiderr1\", \"pl_tranmiderr2\"]\n",
    "\n",
    "df_merged = df_nasa.merge(df_tess, how=\"outer\",on=[\"TIC\"], suffixes=[\"\",\"_tess\"])\n",
    "\n",
    "# --------------------------------------------------"
   ]
  },
  {
   "cell_type": "code",
   "execution_count": 5,
   "metadata": {},
   "outputs": [],
   "source": [
    "# --------------------------------------------------\n",
    "# SELECT FINAL COLUMNS and FILL IN MISSING VALUES IN\n",
    "# NASA table from TESS TABLE\n",
    "\n",
    "# select columns\n",
    "df_final = df_merged[[\"TIC\"] +\n",
    "                     [\"hostname\",\"pl_name\",\"sy_pnum\",\"sy_snum\"] +\n",
    "                     columns +\n",
    "                     [c+\"_tess\" for c in columns]]\n",
    "\n",
    "# fill in TESS orbital parameter if NASA table is missing them\n",
    "condition = ((df_final[\"pl_orbper\"].isnull()) & (~df_final[\"pl_orbper_tess\"].isnull()))\n",
    "\n",
    "# set flag if values are filled in from TESS table\n",
    "df_final[\"obrparams_tess\"] = 0\n",
    "df_final.loc[condition,\"obrparams_tess\"] = 1\n",
    "\n",
    "# fill in each column\n",
    "for col in columns:\n",
    "    df_final[col].fillna(df_final[col+\"_tess\"], inplace=True)\n",
    "    \n",
    "# --------------------------------------------------"
   ]
  },
  {
   "cell_type": "code",
   "execution_count": 6,
   "metadata": {},
   "outputs": [],
   "source": [
    "# --------------------------------------------------\n",
    "# WRITE RESULT TO FILE\n",
    "\n",
    "df_final.to_csv(\"../data/2022_07_27_input_catalog_star_planet_systems.csv\",index=False)\n",
    "\n",
    "# --------------------------------------------------"
   ]
  },
  {
   "cell_type": "code",
   "execution_count": 7,
   "metadata": {},
   "outputs": [
    {
     "data": {
      "text/plain": [
       "(2993, 18)"
      ]
     },
     "execution_count": 7,
     "metadata": {},
     "output_type": "execute_result"
    }
   ],
   "source": [
    "df_final.shape"
   ]
  },
  {
   "cell_type": "code",
   "execution_count": null,
   "metadata": {},
   "outputs": [],
   "source": []
  }
 ],
 "metadata": {
  "kernelspec": {
   "display_name": "forallpurposes",
   "language": "python",
   "name": "forallpurposes"
  },
  "language_info": {
   "codemirror_mode": {
    "name": "ipython",
    "version": 3
   },
   "file_extension": ".py",
   "mimetype": "text/x-python",
   "name": "python",
   "nbconvert_exporter": "python",
   "pygments_lexer": "ipython3",
   "version": "3.6.9"
  }
 },
 "nbformat": 4,
 "nbformat_minor": 2
}
