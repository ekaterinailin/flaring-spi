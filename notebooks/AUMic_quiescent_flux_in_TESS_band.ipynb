{
 "cells": [
  {
   "cell_type": "code",
   "execution_count": 25,
   "metadata": {},
   "outputs": [],
   "source": [
    "from funcs.notebook import *\n",
    "\n",
    "from astropy.constants import R_sun, L_sun\n",
    "import astropy.units as u"
   ]
  },
  {
   "cell_type": "code",
   "execution_count": 8,
   "metadata": {},
   "outputs": [],
   "source": [
    "bt = pd.read_csv(\"/home/ekaterina/Documents/001_science/AU_Mic/lte037-5.0-0.0a+0.0.BT-NextGen.7.dat.txt\",\n",
    "                skiprows=8,names=[\"lambd\",'flux'],sep=\"\\s+\")\n",
    "tess = pd.read_csv(\"/home/ekaterina/Documents/001_science/MalachiteMountains/analysis/notebooks/static/TESS.txt\",\n",
    "                   skiprows=8,sep=\"\\s+\")"
   ]
  },
  {
   "cell_type": "code",
   "execution_count": 9,
   "metadata": {},
   "outputs": [
    {
     "data": {
      "text/html": [
       "<div>\n",
       "<style scoped>\n",
       "    .dataframe tbody tr th:only-of-type {\n",
       "        vertical-align: middle;\n",
       "    }\n",
       "\n",
       "    .dataframe tbody tr th {\n",
       "        vertical-align: top;\n",
       "    }\n",
       "\n",
       "    .dataframe thead th {\n",
       "        text-align: right;\n",
       "    }\n",
       "</style>\n",
       "<table border=\"1\" class=\"dataframe\">\n",
       "  <thead>\n",
       "    <tr style=\"text-align: right;\">\n",
       "      <th></th>\n",
       "      <th>nm</th>\n",
       "      <th>response</th>\n",
       "      <th>lambd</th>\n",
       "    </tr>\n",
       "  </thead>\n",
       "  <tbody>\n",
       "    <tr>\n",
       "      <th>0</th>\n",
       "      <td>500.035217</td>\n",
       "      <td>0.004863</td>\n",
       "      <td>5000.35217</td>\n",
       "    </tr>\n",
       "    <tr>\n",
       "      <th>1</th>\n",
       "      <td>533.764648</td>\n",
       "      <td>0.004863</td>\n",
       "      <td>5337.64648</td>\n",
       "    </tr>\n",
       "    <tr>\n",
       "      <th>2</th>\n",
       "      <td>565.076416</td>\n",
       "      <td>0.007879</td>\n",
       "      <td>5650.76416</td>\n",
       "    </tr>\n",
       "    <tr>\n",
       "      <th>3</th>\n",
       "      <td>580.145508</td>\n",
       "      <td>0.007879</td>\n",
       "      <td>5801.45508</td>\n",
       "    </tr>\n",
       "    <tr>\n",
       "      <th>4</th>\n",
       "      <td>600.501709</td>\n",
       "      <td>0.826957</td>\n",
       "      <td>6005.01709</td>\n",
       "    </tr>\n",
       "  </tbody>\n",
       "</table>\n",
       "</div>"
      ],
      "text/plain": [
       "           nm  response       lambd\n",
       "0  500.035217  0.004863  5000.35217\n",
       "1  533.764648  0.004863  5337.64648\n",
       "2  565.076416  0.007879  5650.76416\n",
       "3  580.145508  0.007879  5801.45508\n",
       "4  600.501709  0.826957  6005.01709"
      ]
     },
     "execution_count": 9,
     "metadata": {},
     "output_type": "execute_result"
    }
   ],
   "source": [
    "tess[\"lambd\"] = tess.nm * 10.\n",
    "tess.head()"
   ]
  },
  {
   "cell_type": "code",
   "execution_count": 14,
   "metadata": {},
   "outputs": [],
   "source": [
    "# Interpolate response from rwav to w:\n",
    "rres = np.interp(tess.lambd, bt.lambd, bt.flux, left=0, right=0)\n",
    "\n",
    "# Integrating the flux of the thermal\n",
    "# spectrum times the response curve over wavelength:\n",
    "tessflux = np.trapz(tess.response * rres, x=tess.lambd)*u.erg * u.cm**(-2) * u.s**(-1)"
   ]
  },
  {
   "cell_type": "code",
   "execution_count": 15,
   "metadata": {},
   "outputs": [],
   "source": [
    "r, rerr = 0.75 * R_sun, 0.03 * R_sun "
   ]
  },
  {
   "cell_type": "code",
   "execution_count": 16,
   "metadata": {},
   "outputs": [],
   "source": [
    "tesslum = np.pi * r**2 * tessflux"
   ]
  },
  {
   "cell_type": "code",
   "execution_count": 30,
   "metadata": {},
   "outputs": [],
   "source": [
    "tesslum = tesslum.to(\"erg /s\")"
   ]
  },
  {
   "cell_type": "code",
   "execution_count": 31,
   "metadata": {},
   "outputs": [],
   "source": [
    "with open(\"../results/values/tesslum_aumic.txt\", \"w\") as f:\n",
    "    f.write(str(tesslum.value))"
   ]
  },
  {
   "cell_type": "code",
   "execution_count": 22,
   "metadata": {},
   "outputs": [
    {
     "data": {
      "text/latex": [
       "$3.5681762 \\times 10^{32} \\; \\mathrm{\\frac{erg}{s}}$"
      ],
      "text/plain": [
       "<Quantity 3.56817621e+32 erg / s>"
      ]
     },
     "execution_count": 22,
     "metadata": {},
     "output_type": "execute_result"
    }
   ],
   "source": [
    "( np.trapz(bt.flux , x=bt.lambd)*u.erg * u.cm**(-2) * u.s**(-1) * 4. * np.pi * r**2).to(\"erg/s\")"
   ]
  },
  {
   "cell_type": "code",
   "execution_count": 28,
   "metadata": {},
   "outputs": [
    {
     "data": {
      "text/latex": [
       "$1.078877 \\times 10^{33} \\; \\mathrm{\\frac{erg}{s}}$"
      ],
      "text/plain": [
       "<Quantity 1.07887699e+33 erg / s>"
      ]
     },
     "execution_count": 28,
     "metadata": {},
     "output_type": "execute_result"
    }
   ],
   "source": [
    "(np.power(10, -.55) *L_sun).to(\"erg/s\")"
   ]
  },
  {
   "cell_type": "code",
   "execution_count": null,
   "metadata": {},
   "outputs": [],
   "source": []
  }
 ],
 "metadata": {
  "kernelspec": {
   "display_name": "forallpurposes",
   "language": "python",
   "name": "forallpurposes"
  },
  "language_info": {
   "codemirror_mode": {
    "name": "ipython",
    "version": 3
   },
   "file_extension": ".py",
   "mimetype": "text/x-python",
   "name": "python",
   "nbconvert_exporter": "python",
   "pygments_lexer": "ipython3",
   "version": "3.6.9"
  }
 },
 "nbformat": 4,
 "nbformat_minor": 2
}
