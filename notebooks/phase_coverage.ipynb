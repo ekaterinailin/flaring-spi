{
 "cells": [
  {
   "cell_type": "code",
   "execution_count": 353,
   "metadata": {},
   "outputs": [],
   "source": [
    "from funcs.notebook import *\n",
    "df = pd.read_csv(\"../results/2020_02_obsdurs.csv\")\n",
    "hist = pd.DataFrame()"
   ]
  },
  {
   "cell_type": "code",
   "execution_count": 354,
   "metadata": {},
   "outputs": [
    {
     "data": {
      "text/plain": [
       "array([0.00000000e+00, 8.13008130e-04, 1.62601626e-03, ...,\n",
       "       9.98373984e-01, 9.99186992e-01, 1.00000000e+00])"
      ]
     },
     "execution_count": 354,
     "metadata": {},
     "output_type": "execute_result"
    }
   ],
   "source": [
    "bins = np.linspace(0,1,1231)\n",
    "bins"
   ]
  },
  {
   "cell_type": "code",
   "execution_count": 369,
   "metadata": {},
   "outputs": [
    {
     "data": {
      "text/plain": [
       "1231"
      ]
     },
     "execution_count": 369,
     "metadata": {},
     "output_type": "execute_result"
    }
   ],
   "source": [
    "len(bins)"
   ]
  },
  {
   "cell_type": "code",
   "execution_count": 355,
   "metadata": {},
   "outputs": [],
   "source": [
    "for i, row in df.iterrows():\n",
    "    lc = pd.read_csv(f\"../results/observedtimes/{row.ID}_{row.qcs}_{row.lc_n}_{row.mission}.csv\")\n",
    "    counts, bins = np.histogram(lc.phase.values, bins=bins)\n",
    "    hist[f\"{row.ID}_{row.qcs}_{row.lc_n}_{row.mission}\"] = counts"
   ]
  },
  {
   "cell_type": "code",
   "execution_count": 356,
   "metadata": {},
   "outputs": [],
   "source": [
    "hist.to_csv(f\"../results/observedtimes/hist_1231_obst.csv\")"
   ]
  },
  {
   "cell_type": "code",
   "execution_count": 357,
   "metadata": {},
   "outputs": [
    {
     "data": {
      "text/plain": [
       "(0.0, 1.0)"
      ]
     },
     "execution_count": 357,
     "metadata": {},
     "output_type": "execute_result"
    },
    {
     "data": {
      "image/png": "[encoded data removed]",
      "text/plain": [
       "<Figure size 432x288 with 1 Axes>"
      ]
     },
     "metadata": {
      "needs_background": "light"
     },
     "output_type": "display_data"
    }
   ],
   "source": [
    "plt.bar((bins[:-1]+bins[1:]) / 2, hist.sum(axis=1).values, width = bins[1]-bins[0],facecolor=\"w\", edgecolor=\"k\")\n",
    "plt.xlim(0,1)"
   ]
  },
  {
   "cell_type": "code",
   "execution_count": 358,
   "metadata": {},
   "outputs": [
    {
     "data": {
      "text/plain": [
       "(1295, 19)"
      ]
     },
     "execution_count": 358,
     "metadata": {},
     "output_type": "execute_result"
    }
   ],
   "source": [
    "flares = pd.read_csv(\"../results/2020_02_flares_vetted.csv\")\n",
    "flares[\"real?\"] = flares[\"real?\"].fillna(0).astype(float)\n",
    "ff = flares[(flares[\"real?\"]==1.)]\n",
    "ff.shape"
   ]
  },
  {
   "cell_type": "code",
   "execution_count": 359,
   "metadata": {},
   "outputs": [
    {
     "name": "stdout",
     "output_type": "stream",
     "text": [
      "[Errno 2] No such file or directory: '../results/observedtimes/TOI-700_27_0_TESS.csv'\n",
      "[Errno 2] No such file or directory: '../results/observedtimes/2MASS J01225093-2439505_30_1_TESS.csv'\n",
      "[Errno 2] No such file or directory: '../results/observedtimes/2MASS J01225093-2439505_30_1_TESS.csv'\n",
      "[Errno 2] No such file or directory: '../results/observedtimes/2MASS J01225093-2439505_30_1_TESS.csv'\n",
      "[Errno 2] No such file or directory: '../results/observedtimes/2MASS J01225093-2439505_30_1_TESS.csv'\n",
      "[Errno 2] No such file or directory: '../results/observedtimes/2MASS J01225093-2439505_30_1_TESS.csv'\n",
      "[Errno 2] No such file or directory: '../results/observedtimes/2MASS J01225093-2439505_30_1_TESS.csv'\n",
      "[Errno 2] No such file or directory: '../results/observedtimes/2MASS J01225093-2439505_30_1_TESS.csv'\n",
      "[Errno 2] No such file or directory: '../results/observedtimes/2MASS J01225093-2439505_30_1_TESS.csv'\n",
      "[Errno 2] No such file or directory: '../results/observedtimes/2MASS J01225093-2439505_30_1_TESS.csv'\n",
      "[Errno 2] No such file or directory: '../results/observedtimes/2MASS J01225093-2439505_30_1_TESS.csv'\n",
      "[Errno 2] No such file or directory: '../results/observedtimes/2MASS J01225093-2439505_30_1_TESS.csv'\n",
      "[Errno 2] No such file or directory: '../results/observedtimes/2MASS J01225093-2439505_30_1_TESS.csv'\n",
      "[Errno 2] No such file or directory: '../results/observedtimes/2MASS J01225093-2439505_30_1_TESS.csv'\n",
      "[Errno 2] No such file or directory: '../results/observedtimes/GJ 1061_30_1_TESS.csv'\n",
      "[Errno 2] No such file or directory: '../results/observedtimes/GJ 1061_31_1_TESS.csv'\n",
      "[Errno 2] No such file or directory: '../results/observedtimes/GJ 3323_5_1_TESS.csv'\n",
      "[Errno 2] No such file or directory: '../results/observedtimes/GJ 3323_5_1_TESS.csv'\n",
      "[Errno 2] No such file or directory: '../results/observedtimes/GJ 3323_5_1_TESS.csv'\n",
      "[Errno 2] No such file or directory: '../results/observedtimes/GJ 3323_5_1_TESS.csv'\n",
      "[Errno 2] No such file or directory: '../results/observedtimes/GJ 3323_5_1_TESS.csv'\n",
      "[Errno 2] No such file or directory: '../results/observedtimes/GJ 3323_5_1_TESS.csv'\n",
      "[Errno 2] No such file or directory: '../results/observedtimes/GJ 3323_5_1_TESS.csv'\n",
      "[Errno 2] No such file or directory: '../results/observedtimes/RR Cae_30_1_TESS.csv'\n",
      "[Errno 2] No such file or directory: '../results/observedtimes/RR Cae_30_1_TESS.csv'\n",
      "[Errno 2] No such file or directory: '../results/observedtimes/RR Cae_30_1_TESS.csv'\n",
      "[Errno 2] No such file or directory: '../results/observedtimes/YZ Cet_30_1_TESS.csv'\n",
      "[Errno 2] No such file or directory: '../results/observedtimes/YZ Cet_30_1_TESS.csv'\n",
      "[Errno 2] No such file or directory: '../results/observedtimes/YZ Cet_30_1_TESS.csv'\n",
      "[Errno 2] No such file or directory: '../results/observedtimes/YZ Cet_30_1_TESS.csv'\n",
      "[Errno 2] No such file or directory: '../results/observedtimes/YZ Cet_30_1_TESS.csv'\n",
      "[Errno 2] No such file or directory: '../results/observedtimes/YZ Cet_30_1_TESS.csv'\n",
      "[Errno 2] No such file or directory: '../results/observedtimes/YZ Cet_30_1_TESS.csv'\n",
      "[Errno 2] No such file or directory: '../results/observedtimes/YZ Cet_30_1_TESS.csv'\n",
      "[Errno 2] No such file or directory: '../results/observedtimes/TIC 32090583_27_1_TESS.csv'\n",
      "[Errno 2] No such file or directory: '../results/observedtimes/TIC 32090583_27_1_TESS.csv'\n",
      "[Errno 2] No such file or directory: '../results/observedtimes/TIC 32090583_27_1_TESS.csv'\n",
      "[Errno 2] No such file or directory: '../results/observedtimes/TIC 32090583_27_1_TESS.csv'\n",
      "[Errno 2] No such file or directory: '../results/observedtimes/TIC 32090583_27_1_TESS.csv'\n",
      "[Errno 2] No such file or directory: '../results/observedtimes/TIC 32090583_28_1_TESS.csv'\n",
      "[Errno 2] No such file or directory: '../results/observedtimes/TIC 32090583_28_1_TESS.csv'\n",
      "[Errno 2] No such file or directory: '../results/observedtimes/TIC 32090583_28_1_TESS.csv'\n",
      "[Errno 2] No such file or directory: '../results/observedtimes/TIC 32090583_28_1_TESS.csv'\n",
      "[Errno 2] No such file or directory: '../results/observedtimes/TIC 32090583_29_1_TESS.csv'\n",
      "[Errno 2] No such file or directory: '../results/observedtimes/TIC 32090583_29_1_TESS.csv'\n",
      "[Errno 2] No such file or directory: '../results/observedtimes/TIC 32090583_29_1_TESS.csv'\n",
      "[Errno 2] No such file or directory: '../results/observedtimes/TIC 32090583_29_1_TESS.csv'\n",
      "[Errno 2] No such file or directory: '../results/observedtimes/TIC 32090583_30_1_TESS.csv'\n",
      "[Errno 2] No such file or directory: '../results/observedtimes/TIC 32090583_30_1_TESS.csv'\n",
      "[Errno 2] No such file or directory: '../results/observedtimes/TIC 32090583_30_1_TESS.csv'\n",
      "[Errno 2] No such file or directory: '../results/observedtimes/TIC 32090583_30_1_TESS.csv'\n",
      "[Errno 2] No such file or directory: '../results/observedtimes/TIC 32090583_30_1_TESS.csv'\n",
      "[Errno 2] No such file or directory: '../results/observedtimes/TIC 32090583_30_1_TESS.csv'\n",
      "[Errno 2] No such file or directory: '../results/observedtimes/TIC 32090583_31_1_TESS.csv'\n",
      "[Errno 2] No such file or directory: '../results/observedtimes/TIC 101230735_27_1_TESS.csv'\n",
      "[Errno 2] No such file or directory: '../results/observedtimes/TIC 272086159_27_1_TESS.csv'\n",
      "[Errno 2] No such file or directory: '../results/observedtimes/TIC 272086159_27_1_TESS.csv'\n",
      "[Errno 2] No such file or directory: '../results/observedtimes/TIC 272086159_27_1_TESS.csv'\n",
      "[Errno 2] No such file or directory: '../results/observedtimes/TIC 272086159_28_1_TESS.csv'\n",
      "[Errno 2] No such file or directory: '../results/observedtimes/TIC 272086159_28_1_TESS.csv'\n",
      "[Errno 2] No such file or directory: '../results/observedtimes/TIC 272086159_28_1_TESS.csv'\n",
      "[Errno 2] No such file or directory: '../results/observedtimes/TIC 278198753_27_1_TESS.csv'\n",
      "[Errno 2] No such file or directory: '../results/observedtimes/TIC 278198753_27_1_TESS.csv'\n",
      "[Errno 2] No such file or directory: '../results/observedtimes/TIC 278683844_31_1_TESS.csv'\n",
      "[Errno 2] No such file or directory: '../results/observedtimes/TIC 420112587_22_1_TESS.csv'\n",
      "[Errno 2] No such file or directory: '../results/observedtimes/TIC 420112587_26_1_TESS.csv'\n",
      "[Errno 2] No such file or directory: '../results/observedtimes/TIC 2760710_29_1_TESS.csv'\n"
     ]
    }
   ],
   "source": [
    "phases = []\n",
    "for j, row in ff.iterrows():\n",
    "    try:\n",
    "        lc = pd.read_csv(f\"../results/observedtimes/{row.ID}_{row.qcs}_{row.lc_n}_{row.mission}.csv\")\n",
    "        phases.append(lc.phase[np.argmin(np.abs(lc.time-row.tstart))])\n",
    "    except Exception as e:\n",
    "        print(e)\n",
    "        phases.append(np.nan)\n",
    " "
   ]
  },
  {
   "cell_type": "code",
   "execution_count": 361,
   "metadata": {},
   "outputs": [],
   "source": [
    "counts, bins = np.histogram(phases, bins=bins)\n",
    "cumfreq = (counts / hist.sum(axis=1).values).cumsum()\n",
    "lin = np.linspace(cumfreq[0],np.max(cumfreq),len(bins)-1)"
   ]
  },
  {
   "cell_type": "code",
   "execution_count": 367,
   "metadata": {},
   "outputs": [
    {
     "data": {
      "image/png": "[encoded data removed]",
      "text/plain": [
       "<Figure size 792x504 with 1 Axes>"
      ]
     },
     "metadata": {
      "needs_background": "light"
     },
     "output_type": "display_data"
    }
   ],
   "source": [
    "plt.figure(figsize=(11,7))\n",
    "plt.errorbar((bins[:-1]+bins[1:]) / 2,\n",
    "             cumfreq,#counts / hist.sum(axis=1).values, \n",
    "             #yerr = np.sqrt(counts) / hist.sum(axis=1).values,\n",
    "             c='k',fmt=\"o\")\n",
    "plt.plot((bins[:-1]+bins[1:]) / 2, lin, c=\"orange\")\n",
    "plt.xlim(0,1)\n",
    "plt.ylabel(\"cumulative flare start observations / all observations\")\n",
    "plt.xlabel(\"orbital phase\")\n",
    "plt.title(\"full sample\")\n",
    "plt.ylim(cumfreq[0],np.max(cumfreq))\n",
    "plt.savefig(\"../results/plots/cumulative_flare_phases_full_sample.png\", dpi=300)"
   ]
  },
  {
   "cell_type": "code",
   "execution_count": 372,
   "metadata": {},
   "outputs": [
    {
     "name": "stdout",
     "output_type": "stream",
     "text": [
      "2.48e-05 +/- 1.03e-06\n",
      "2.53e-05 +/- 1.03e-06\n"
     ]
    }
   ],
   "source": [
    "f = pd.DataFrame({\"freq\":counts / hist.sum(axis=1).values, \"phase\":(bins[:-1]+bins[1:]) / 2})\n",
    "h1 = hist.sum(axis=1).values[:615].sum()\n",
    "h2 = hist.sum(axis=1).values[615:].sum()\n",
    "phases = np.array(phases)\n",
    "f1 = np.where((phases<.25) | (phases>.75))[0].shape[0] \n",
    "f2 = np.where((phases>.25) & (phases<.75))[0].shape[0]\n",
    "e1, e2 = np.sqrt(f1)/h1, np.sqrt(f2)/h2\n",
    "print(fr\"{f1 / h1:.2e} +/- {e1:.2e}\")\n",
    "print(fr\"{f2 / h1:.2e} +/- {e2:.2e}\")"
   ]
  },
  {
   "cell_type": "code",
   "execution_count": 376,
   "metadata": {},
   "outputs": [
    {
     "data": {
      "text/plain": [
       "'2.59e-05'"
      ]
     },
     "execution_count": 376,
     "metadata": {},
     "output_type": "execute_result"
    }
   ],
   "source": [
    "_ = f1 / h1 + e1\n",
    "fr\"{_:.2e}\""
   ]
  },
  {
   "cell_type": "markdown",
   "metadata": {},
   "source": [
    "# AU Mic only"
   ]
  },
  {
   "cell_type": "code",
   "execution_count": 330,
   "metadata": {},
   "outputs": [],
   "source": [
    "aumic1 = flares = pd.read_csv(\"../results/2021_02_18_AUMic_flares_1.csv\")\n",
    "aumic27 = flares = pd.read_csv(\"../results/2021_02_11_AUMic_flares_27.csv\")\n",
    "aumic = pd.concat([aumic1,aumic27])\n",
    "aumic = aumic[aumic.final==1]"
   ]
  },
  {
   "cell_type": "code",
   "execution_count": 331,
   "metadata": {},
   "outputs": [
    {
     "data": {
      "text/plain": [
       "(215, 20)"
      ]
     },
     "execution_count": 331,
     "metadata": {},
     "output_type": "execute_result"
    }
   ],
   "source": [
    "aumic.shape"
   ]
  },
  {
   "cell_type": "code",
   "execution_count": 347,
   "metadata": {},
   "outputs": [],
   "source": [
    "bins = np.linspace(0,1,216)\n",
    "# bins"
   ]
  },
  {
   "cell_type": "code",
   "execution_count": 348,
   "metadata": {},
   "outputs": [],
   "source": [
    "aumicphases = pd.DataFrame()"
   ]
  },
  {
   "cell_type": "code",
   "execution_count": 349,
   "metadata": {},
   "outputs": [],
   "source": [
    "for qcs in [1,27]:\n",
    "    lc = pd.read_csv(f\"../results/observedtimes/AU Mic_{qcs}_0_TESS.csv\")\n",
    "    counts, bins = np.histogram(lc.phase.values, bins=bins)\n",
    "    aumicphases[qcs] = counts"
   ]
  },
  {
   "cell_type": "code",
   "execution_count": 350,
   "metadata": {},
   "outputs": [
    {
     "data": {
      "text/plain": [
       "(0.0, 1.0)"
      ]
     },
     "execution_count": 350,
     "metadata": {},
     "output_type": "execute_result"
    },
    {
     "data": {
      "image/png": "[encoded data removed]",
      "text/plain": [
       "<Figure size 432x288 with 1 Axes>"
      ]
     },
     "metadata": {
      "needs_background": "light"
     },
     "output_type": "display_data"
    }
   ],
   "source": [
    "plt.bar((bins[:-1]+bins[1:]) / 2, aumicphases.sum(axis=1).values, width = bins[1]-bins[0],facecolor=\"w\", edgecolor=\"k\")\n",
    "plt.xlim(0,1)"
   ]
  },
  {
   "cell_type": "code",
   "execution_count": 336,
   "metadata": {},
   "outputs": [],
   "source": [
    "phases = []\n",
    "for j, row in aumic.iterrows():\n",
    "    try:\n",
    "        lc = pd.read_csv(f\"../results/observedtimes/AU Mic_{row.qcs}_0_TESS.csv\")\n",
    "        phases.append(lc.phase[np.argmin(np.abs(lc.time-row.tstart))])\n",
    "    except Exception as e:\n",
    "        print(e)\n",
    "        phases.append(np.nan)"
   ]
  },
  {
   "cell_type": "code",
   "execution_count": 351,
   "metadata": {},
   "outputs": [],
   "source": [
    "counts, bins = np.histogram(phases, bins=bins)\n",
    "cumfreq = (counts / aumicphases.sum(axis=1).values).cumsum()\n",
    "lin = np.linspace(cumfreq[0],np.max(cumfreq),len(bins)-1)\n",
    "# lin"
   ]
  },
  {
   "cell_type": "code",
   "execution_count": 352,
   "metadata": {},
   "outputs": [
    {
     "data": {
      "image/png": "[encoded data removed]",
      "text/plain": [
       "<Figure size 792x504 with 1 Axes>"
      ]
     },
     "metadata": {
      "needs_background": "light"
     },
     "output_type": "display_data"
    }
   ],
   "source": [
    "plt.figure(figsize=(11,7))\n",
    "plt.errorbar((bins[:-1]+bins[1:]) / 2,\n",
    "             cumfreq, #(counts / aumicphases.sum(axis=1).values), \n",
    "            # yerr = np.sqrt(counts) / aumicphases.sum(axis=1).values,\n",
    "             c='k',fmt=\"o\")\n",
    "plt.plot((bins[:-1]+bins[1:]) / 2,lin)\n",
    "plt.xlim(0,1)\n",
    "plt.ylabel(\"cumulative flare start observations / all observations\")\n",
    "plt.xlabel(\"orbital phase\")\n",
    "plt.title(\"AU Mic\")\n",
    "plt.ylim(cumfreq[0],np.max(cumfreq))\n",
    "plt.savefig(\"../results/plots/AUMic_cumulative_flare_phases.png\", dpi=300)"
   ]
  },
  {
   "cell_type": "code",
   "execution_count": 288,
   "metadata": {},
   "outputs": [],
   "source": [
    "f = pd.DataFrame({\"freq\":counts / aumicphases.sum(axis=1).values, \"phase\":(bins[:-1]+bins[1:]) / 2})"
   ]
  },
  {
   "cell_type": "code",
   "execution_count": 294,
   "metadata": {},
   "outputs": [
    {
     "data": {
      "text/plain": [
       "(0.0018418985872794655,\n",
       " 0.001830346856519179,\n",
       " 0.0016096489346704836,\n",
       " 0.0017443157927139372)"
      ]
     },
     "execution_count": 294,
     "metadata": {},
     "output_type": "execute_result"
    }
   ],
   "source": [
    "( f[(f.phase<.25) | (f.phase>.25)].freq.mean(),f[(f.phase<.25) | (f.phase>.25)].freq.std(),\n",
    " f[(f.phase>.25) & (f.phase<.75)].freq.mean(),f[(f.phase>.25) & (f.phase<.75)].freq.std())"
   ]
  },
  {
   "cell_type": "code",
   "execution_count": 289,
   "metadata": {},
   "outputs": [
    {
     "data": {
      "text/html": [
       "<div>\n",
       "<style scoped>\n",
       "    .dataframe tbody tr th:only-of-type {\n",
       "        vertical-align: middle;\n",
       "    }\n",
       "\n",
       "    .dataframe tbody tr th {\n",
       "        vertical-align: top;\n",
       "    }\n",
       "\n",
       "    .dataframe thead th {\n",
       "        text-align: right;\n",
       "    }\n",
       "</style>\n",
       "<table border=\"1\" class=\"dataframe\">\n",
       "  <thead>\n",
       "    <tr style=\"text-align: right;\">\n",
       "      <th></th>\n",
       "      <th>freq</th>\n",
       "      <th>phase</th>\n",
       "    </tr>\n",
       "  </thead>\n",
       "  <tbody>\n",
       "    <tr>\n",
       "      <th>0</th>\n",
       "      <td>0.003279</td>\n",
       "      <td>0.002513</td>\n",
       "    </tr>\n",
       "    <tr>\n",
       "      <th>1</th>\n",
       "      <td>0.006623</td>\n",
       "      <td>0.007538</td>\n",
       "    </tr>\n",
       "    <tr>\n",
       "      <th>2</th>\n",
       "      <td>0.000000</td>\n",
       "      <td>0.012563</td>\n",
       "    </tr>\n",
       "    <tr>\n",
       "      <th>3</th>\n",
       "      <td>0.000000</td>\n",
       "      <td>0.017588</td>\n",
       "    </tr>\n",
       "    <tr>\n",
       "      <th>4</th>\n",
       "      <td>0.000000</td>\n",
       "      <td>0.022613</td>\n",
       "    </tr>\n",
       "    <tr>\n",
       "      <th>...</th>\n",
       "      <td>...</td>\n",
       "      <td>...</td>\n",
       "    </tr>\n",
       "    <tr>\n",
       "      <th>194</th>\n",
       "      <td>0.000000</td>\n",
       "      <td>0.977387</td>\n",
       "    </tr>\n",
       "    <tr>\n",
       "      <th>195</th>\n",
       "      <td>0.001656</td>\n",
       "      <td>0.982412</td>\n",
       "    </tr>\n",
       "    <tr>\n",
       "      <th>196</th>\n",
       "      <td>0.001653</td>\n",
       "      <td>0.987437</td>\n",
       "    </tr>\n",
       "    <tr>\n",
       "      <th>197</th>\n",
       "      <td>0.005000</td>\n",
       "      <td>0.992462</td>\n",
       "    </tr>\n",
       "    <tr>\n",
       "      <th>198</th>\n",
       "      <td>0.003295</td>\n",
       "      <td>0.997487</td>\n",
       "    </tr>\n",
       "  </tbody>\n",
       "</table>\n",
       "<p>199 rows × 2 columns</p>\n",
       "</div>"
      ],
      "text/plain": [
       "         freq     phase\n",
       "0    0.003279  0.002513\n",
       "1    0.006623  0.007538\n",
       "2    0.000000  0.012563\n",
       "3    0.000000  0.017588\n",
       "4    0.000000  0.022613\n",
       "..        ...       ...\n",
       "194  0.000000  0.977387\n",
       "195  0.001656  0.982412\n",
       "196  0.001653  0.987437\n",
       "197  0.005000  0.992462\n",
       "198  0.003295  0.997487\n",
       "\n",
       "[199 rows x 2 columns]"
      ]
     },
     "execution_count": 289,
     "metadata": {},
     "output_type": "execute_result"
    }
   ],
   "source": [
    "f"
   ]
  },
  {
   "cell_type": "code",
   "execution_count": 314,
   "metadata": {},
   "outputs": [],
   "source": [
    "h1 = aumicphases.sum(axis=1).values[:50].sum()\n",
    "h2 = aumicphases.sum(axis=1).values[50:].sum()"
   ]
  },
  {
   "cell_type": "code",
   "execution_count": 315,
   "metadata": {},
   "outputs": [],
   "source": [
    "phases = np.array(phases)\n",
    "f1 = np.where((phases<.25) | (phases>.75))[0].shape[0]\n",
    "f2 = np.where((phases>.25) & (phases<.75))[0].shape[0]"
   ]
  },
  {
   "cell_type": "code",
   "execution_count": 321,
   "metadata": {},
   "outputs": [
    {
     "data": {
      "text/plain": [
       "<ErrorbarContainer object of 3 artists>"
      ]
     },
     "execution_count": 321,
     "metadata": {},
     "output_type": "execute_result"
    },
    {
     "data": {
      "image/png": "[encoded data removed]",
      "text/plain": [
       "<Figure size 432x288 with 1 Axes>"
      ]
     },
     "metadata": {
      "needs_background": "light"
     },
     "output_type": "display_data"
    }
   ],
   "source": [
    "f12, e12 = [f1/h1,  f2/h2], [np.sqrt(f1)/h1, np.sqrt(f2)/h2,]\n",
    "plt.errorbar([\"front\", \"back\"], f12, yerr=e12 ,fmt=\"o\")"
   ]
  },
  {
   "cell_type": "code",
   "execution_count": 327,
   "metadata": {},
   "outputs": [
    {
     "name": "stdout",
     "output_type": "stream",
     "text": [
      "2.01e-03 +/- 1.85e-04\n",
      "1.61e-03 +/- 1.64e-04\n"
     ]
    }
   ],
   "source": [
    "print(fr\"{f12[0]:.2e} +/- {e12[0]:.2e}\")\n",
    "print(fr\"{f12[1]:.2e} +/- {e12[1]:.2e}\")"
   ]
  },
  {
   "cell_type": "code",
   "execution_count": 383,
   "metadata": {},
   "outputs": [
    {
     "data": {
      "text/plain": [
       "0.19824467783875124"
      ]
     },
     "execution_count": 383,
     "metadata": {},
     "output_type": "execute_result"
    }
   ],
   "source": [
    "(f12[0] - f12[1]) / f12[0]"
   ]
  },
  {
   "cell_type": "code",
   "execution_count": 378,
   "metadata": {},
   "outputs": [
    {
     "data": {
      "text/plain": [
       "(0.09205746178983235, 0.10153461651336189)"
      ]
     },
     "execution_count": 378,
     "metadata": {},
     "output_type": "execute_result"
    }
   ],
   "source": [
    "e12[0] / f12[0], e12[1] / f12[1]"
   ]
  },
  {
   "cell_type": "code",
   "execution_count": null,
   "metadata": {},
   "outputs": [],
   "source": []
  }
 ],
 "metadata": {
  "kernelspec": {
   "display_name": "forallpurposes",
   "language": "python",
   "name": "forallpurposes"
  },
  "language_info": {
   "codemirror_mode": {
    "name": "ipython",
    "version": 3
   },
   "file_extension": ".py",
   "mimetype": "text/x-python",
   "name": "python",
   "nbconvert_exporter": "python",
   "pygments_lexer": "ipython3",
   "version": "3.6.9"
  }
 },
 "nbformat": 4,
 "nbformat_minor": 2
}
