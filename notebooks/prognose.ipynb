{
 "cells": [
  {
   "cell_type": "code",
   "execution_count": 7,
   "metadata": {},
   "outputs": [],
   "source": [
    "import numpy as np\n",
    "import pandas as pd\n",
    "import pytest\n",
    "\n",
    "# critical KS statistic D for 99% confidence\n",
    "g001 = lambda x: 1.62762 / np.sqrt(x)\n",
    "# critical KS statistic D for 99.9% confidence\n",
    "g0001 = lambda x: 1.94947 / np.sqrt(x)"
   ]
  },
  {
   "cell_type": "code",
   "execution_count": 104,
   "metadata": {},
   "outputs": [],
   "source": [
    "from funcs.notebook import *"
   ]
  },
  {
   "cell_type": "code",
   "execution_count": 209,
   "metadata": {},
   "outputs": [],
   "source": [
    "res = pd.read_csv(\"../results/kstests.csv\")\n",
    "res = res[(res.period==\"Orbit\") & (res.subsample==\"total\")] \n",
    "d = res[[\"sector\",\"totobs_days\"]].iloc[1:].set_index(\"sector\").totobs_days.to_dict()\n",
    "f1 = 100 / d[\"Sector 1\"]\n",
    "f2 = 115 / d[\"Sector 27\"]"
   ]
  },
  {
   "cell_type": "code",
   "execution_count": 210,
   "metadata": {},
   "outputs": [],
   "source": [
    "x = np.arange(0,3000)\n"
   ]
  },
  {
   "cell_type": "code",
   "execution_count": 216,
   "metadata": {},
   "outputs": [],
   "source": [
    "resul = {}\n",
    "for i, row in res.iterrows():\n",
    "    N001, N0001 = np.argmin(np.abs(g001(x) - row.D)), np.argmin(np.abs(g0001(x) - row.D))\n",
    "    dN001, dN0001 = N001 - row.nflares, N0001 - row.nflares\n",
    "    resul[row.sector] = {\"99%\":{\"2min\":dN001 / f1, \"20s\":dN001 / f2}, \n",
    "                    \"99.9%\":{\"2min\":dN0001 / f1, \"20s\":dN0001 / f2}}"
   ]
  },
  {
   "cell_type": "code",
   "execution_count": 218,
   "metadata": {},
   "outputs": [
    {
     "data": {
      "text/html": [
       "<div>\n",
       "<style scoped>\n",
       "    .dataframe tbody tr th:only-of-type {\n",
       "        vertical-align: middle;\n",
       "    }\n",
       "\n",
       "    .dataframe tbody tr th {\n",
       "        vertical-align: top;\n",
       "    }\n",
       "\n",
       "    .dataframe thead tr th {\n",
       "        text-align: left;\n",
       "    }\n",
       "</style>\n",
       "<table border=\"1\" class=\"dataframe\">\n",
       "  <thead>\n",
       "    <tr>\n",
       "      <th></th>\n",
       "      <th colspan=\"2\" halign=\"left\">Both Sectors</th>\n",
       "      <th colspan=\"2\" halign=\"left\">Sector 1</th>\n",
       "      <th colspan=\"2\" halign=\"left\">Sector 27</th>\n",
       "    </tr>\n",
       "    <tr>\n",
       "      <th></th>\n",
       "      <th>99%</th>\n",
       "      <th>99.9%</th>\n",
       "      <th>99%</th>\n",
       "      <th>99.9%</th>\n",
       "      <th>99%</th>\n",
       "      <th>99.9%</th>\n",
       "    </tr>\n",
       "  </thead>\n",
       "  <tbody>\n",
       "    <tr>\n",
       "      <th>2min</th>\n",
       "      <td>78.909944</td>\n",
       "      <td>136.710222</td>\n",
       "      <td>21.360972</td>\n",
       "      <td>41.465417</td>\n",
       "      <td>38.198444</td>\n",
       "      <td>67.601194</td>\n",
       "    </tr>\n",
       "    <tr>\n",
       "      <th>20s</th>\n",
       "      <td>63.669694</td>\n",
       "      <td>110.306731</td>\n",
       "      <td>17.235427</td>\n",
       "      <td>33.457005</td>\n",
       "      <td>30.820998</td>\n",
       "      <td>54.545056</td>\n",
       "    </tr>\n",
       "  </tbody>\n",
       "</table>\n",
       "</div>"
      ],
      "text/plain": [
       "     Both Sectors               Sector 1             Sector 27           \n",
       "              99%       99.9%        99%      99.9%        99%      99.9%\n",
       "2min    78.909944  136.710222  21.360972  41.465417  38.198444  67.601194\n",
       "20s     63.669694  110.306731  17.235427  33.457005  30.820998  54.545056"
      ]
     },
     "execution_count": 218,
     "metadata": {},
     "output_type": "execute_result"
    }
   ],
   "source": [
    "reform = {(outerKey, innerKey): values for outerKey, \n",
    "          innerDict in resul.items() for innerKey, \n",
    "          values in innerDict.items()}\n",
    "pd.DataFrame(reform)"
   ]
  },
  {
   "cell_type": "code",
   "execution_count": 192,
   "metadata": {},
   "outputs": [],
   "source": [
    "res = pd.DataFrame({\"99%\":{\"2min\":dN001 / f1, \"20s\":dN001 / f2}, \n",
    "                    \"99.9%\":{\"2min\":dN0001 / f1, \"20s\":dN0001 / f2}})"
   ]
  },
  {
   "cell_type": "code",
   "execution_count": 197,
   "metadata": {},
   "outputs": [
    {
     "data": {
      "text/plain": [
       "391.6159420289855"
      ]
     },
     "execution_count": 197,
     "metadata": {},
     "output_type": "execute_result"
    }
   ],
   "source": [
    "res"
   ]
  },
  {
   "cell_type": "code",
   "execution_count": null,
   "metadata": {},
   "outputs": [],
   "source": []
  }
 ],
 "metadata": {
  "kernelspec": {
   "display_name": "forallpurposes",
   "language": "python",
   "name": "forallpurposes"
  },
  "language_info": {
   "codemirror_mode": {
    "name": "ipython",
    "version": 3
   },
   "file_extension": ".py",
   "mimetype": "text/x-python",
   "name": "python",
   "nbconvert_exporter": "python",
   "pygments_lexer": "ipython3",
   "version": "3.6.9"
  }
 },
 "nbformat": 4,
 "nbformat_minor": 2
}
