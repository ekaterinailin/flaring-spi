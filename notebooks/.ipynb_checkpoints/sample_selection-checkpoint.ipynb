{
 "cells": [
  {
   "cell_type": "code",
   "execution_count": 327,
   "metadata": {},
   "outputs": [],
   "source": [
    "import warnings\n",
    "warnings.filterwarnings('ignore')\n",
    "\n",
    "import pandas as pd\n",
    "import numpy as np\n",
    "\n",
    "import matplotlib.pyplot as plt\n",
    "%matplotlib inline\n",
    "\n",
    "\n",
    "import matplotlib \n",
    "matplotlib.rc('xtick', labelsize=14) \n",
    "matplotlib.rc('ytick', labelsize=14) \n",
    "\n",
    "font = {'weight' : 'normal',\n",
    "        'size'   : 16}\n",
    "\n",
    "matplotlib.rc('font', **font)\n",
    "\n",
    "\n",
    "import astropy.units as u\n",
    "from astropy.constants import R_sun, M_sun, G\n",
    "\n",
    "from collections import defaultdict\n",
    "\n",
    "\n",
    "from funcs.radii import (distance_from_parallax,\n",
    "                         mann_radius_from_abs_Ks,\n",
    "                         calculate_abs_Ks,\n",
    "                         calculate_distmod)\n",
    "\n",
    "# -----------------------------------------------------------\n",
    "# TESS covers 73% of the sky, but only nearby stars, \n",
    "# some targets may saturate, especially from the ground\n",
    "# give the star a 50/50 chance \n",
    "# - what TESS does not see which is not also galactic disk\n",
    "mapfacility = defaultdict(lambda: 0.4)\n",
    "\n",
    "mapping = [(\"Transiting Exoplanet Survey Satellite (TESS)\",1.), (\"Kepler\",6.), (\"K2\",.5)]\n",
    "\n",
    "for k,v in mapping:\n",
    "    mapfacility[k] =v\n",
    "    \n",
    "def map_flares_disc_facility(facility):\n",
    "    return mapfacility[facility]\n",
    "\n",
    "# -----------------------------------------------------------\n",
    "\n",
    "def TESS_flaring_fraction_estimate(radius):\n",
    "    f0, f1, f2 = (radius > 1.), (radius > 0.59), (radius > 0.39)\n",
    "    if f0:\n",
    "        return 0.001 # F stars nearly never flare\n",
    "    elif f1 & ~f0:\n",
    "        return 0.01 #Tu et al. TESS sun-like star flare studies\n",
    "    elif ~f1 & f2:\n",
    "        return .1 #Guenther et al. K-earlyM stars in TESS\n",
    "    elif ~f2:\n",
    "        return .3 #Guenther et al. M stars in TESS\n",
    "\n",
    "# -----------------------------------------------------------\n",
    "    \n",
    "maporbits = defaultdict(lambda: 13.)\n",
    "# TESS covers 73% of the sky, but only nearby stars, \n",
    "# some targets may saturate, especially from the ground\n",
    "# give the star a roughly 50/50 chance was observed \n",
    "# for a single sector, i.e. about 13 days on average\n",
    "\n",
    "mapping = [(\"Transiting Exoplanet Survey Satellite (TESS)\", 25.),\n",
    "           (\"Kepler\", 80.),\n",
    "           (\"K2\", 70.)]\n",
    "\n",
    "for k,v in mapping:\n",
    "    maporbits[k] =v    \n",
    "    \n",
    "def number_of_orbits_covered(orbper, facility):\n",
    "    \"\"\"\n",
    "    Parameter:\n",
    "    -------------\n",
    "    orbper : float\n",
    "        orbital period of star\n",
    "    facility : str\n",
    "        observing facility\n",
    "        \n",
    "    Return:\n",
    "    -------\n",
    "    number of orbits covered in observation by\n",
    "    facility\n",
    "    \"\"\"\n",
    "    obsdur = maporbits[facility]\n",
    "    return obsdur / orbper"
   ]
  },
  {
   "cell_type": "markdown",
   "metadata": {},
   "source": [
    "[Planetary Systems table](https://exoplanetarchive.ipac.caltech.edu/cgi-bin/TblView/nph-tblView?app=ExoTbls&config=PS)\n",
    "\n",
    "[Composite Table](https://exoplanetarchive.ipac.caltech.edu/cgi-bin/TblView/nph-tblView?app=ExoTbls&config=PSCompPars)\n",
    "\n",
    "[column description](https://exoplanetarchive.ipac.caltech.edu/docs/API_PS_columns.html)"
   ]
  },
  {
   "cell_type": "code",
   "execution_count": 328,
   "metadata": {},
   "outputs": [],
   "source": [
    "# Composite Table of confirmed exoplanets\n",
    "df = pd.read_csv(\"../data/PSCompPars_2021.01.08_01.59.05.csv\",skiprows=318) # composite table\n",
    "# df.columns.values"
   ]
  },
  {
   "cell_type": "code",
   "execution_count": 388,
   "metadata": {},
   "outputs": [
    {
     "data": {
      "text/plain": [
       "(350, 313)"
      ]
     },
     "execution_count": 388,
     "metadata": {},
     "output_type": "execute_result"
    }
   ],
   "source": []
  },
  {
   "cell_type": "code",
   "execution_count": 430,
   "metadata": {},
   "outputs": [
    {
     "data": {
      "text/plain": [
       "((4303, 313), (3209, 312))"
      ]
     },
     "execution_count": 430,
     "metadata": {},
     "output_type": "execute_result"
    }
   ],
   "source": [
    "# select only uncontroversial detections\n",
    "sel = df[df.pl_controv_flag==0]\n",
    "sel.shape, sel.groupby(\"hostname\").first().shape"
   ]
  },
  {
   "cell_type": "code",
   "execution_count": 432,
   "metadata": {},
   "outputs": [
    {
     "data": {
      "text/plain": [
       "(5, 154, 0)"
      ]
     },
     "execution_count": 432,
     "metadata": {},
     "output_type": "execute_result"
    }
   ],
   "source": [
    "_ = sel[[\"sy_plx\",\"sy_dist\",\"hostname\"]]\n",
    "\n",
    "# Use plx as minimal criterion\n",
    "no_plx_no_dist = _[(_.sy_plx.isnull()) & (_.sy_dist.isnull())].groupby(\"hostname\").first().shape[0]\n",
    "no_plx_but_dist = _[(_.sy_plx.isnull()) & ~(_.sy_dist.isnull())].groupby(\"hostname\").first().shape[0]\n",
    "no_dist_but_plx =  _[~(_.sy_plx.isnull()) & (_.sy_dist.isnull())].groupby(\"hostname\").first().shape[0]\n",
    "no_plx_no_dist, no_plx_but_dist, no_dist_but_plx"
   ]
  },
  {
   "cell_type": "code",
   "execution_count": 331,
   "metadata": {},
   "outputs": [],
   "source": [
    "d, derr = distance_from_parallax(sel[sel.sy_dist.isnull()].sy_plx, sel[sel.sy_dist.isnull()].sy_plxerr1)\n",
    "    \n",
    "sel.loc[sel.sy_dist.isnull(), \"sy_dist\"] = d\n",
    "sel.loc[sel.sy_dist.isnull(), \"sy_disterr1\"] = derr"
   ]
  },
  {
   "cell_type": "code",
   "execution_count": 332,
   "metadata": {},
   "outputs": [
    {
     "data": {
      "text/plain": [
       "True"
      ]
     },
     "execution_count": 332,
     "metadata": {},
     "output_type": "execute_result"
    }
   ],
   "source": [
    "sel[sel.sy_dist.isnull()].shape[0] == no_plx_no_dist"
   ]
  },
  {
   "cell_type": "code",
   "execution_count": 417,
   "metadata": {},
   "outputs": [
    {
     "data": {
      "text/plain": [
       "(4303, 16)"
      ]
     },
     "execution_count": 417,
     "metadata": {},
     "output_type": "execute_result"
    }
   ],
   "source": [
    "subsel = sel[[\"pl_name\",\"pl_orbsmax\",\"sy_kmag\",\"sy_kmagerr1\",\n",
    "              \"sy_dist\",\"sy_disterr1\", \"pl_orbper\", \"pl_orbeccen\",\n",
    "             \"sy_snum\",\"cb_flag\", \"hostname\", \"discoverymethod\", \"disc_facility\",\n",
    "             \"st_rotp\", \"st_age\", \"st_vsin\"]]\n",
    "subsel.shape"
   ]
  },
  {
   "cell_type": "code",
   "execution_count": 419,
   "metadata": {},
   "outputs": [],
   "source": [
    "dmod, dmoderr = calculate_distmod(subsel.sy_dist, subsel.sy_disterr1)\n",
    "\n",
    "K, Kerr = calculate_abs_Ks(dmod, dmoderr, subsel.sy_kmag, subsel.sy_kmagerr1,)\n",
    "\n",
    "r, rerr = mann_radius_from_abs_Ks(K, Kerr)\n",
    "subsel[\"rad_rsun\"] = r\n",
    "subsel[\"rad_rsun_err\"] = r\n",
    "subsel[\"flaring_probability\"] = (subsel.rad_rsun.apply(TESS_flaring_fraction_estimate) *\n",
    "                                 subsel.disc_facility.apply(map_flares_disc_facility))"
   ]
  },
  {
   "cell_type": "code",
   "execution_count": 420,
   "metadata": {},
   "outputs": [
    {
     "data": {
      "text/plain": [
       "(4166, 4191)"
      ]
     },
     "execution_count": 420,
     "metadata": {},
     "output_type": "execute_result"
    }
   ],
   "source": [
    "subsel[~subsel.pl_orbper.isnull()].shape[0], subsel[~subsel.rad_rsun.isnull()].shape[0]"
   ]
  },
  {
   "cell_type": "code",
   "execution_count": 421,
   "metadata": {},
   "outputs": [],
   "source": [
    "subsel[\"a_over_R\"] = (subsel.pl_orbsmax.values * u.AU / (subsel.rad_rsun.values * R_sun)).decompose()\n",
    "subsel[\"periastron_over_R\"] = subsel.a_over_R * (1. - subsel.pl_orbeccen  )"
   ]
  },
  {
   "cell_type": "code",
   "execution_count": 428,
   "metadata": {},
   "outputs": [
    {
     "data": {
      "text/plain": [
       "(4166, 3837)"
      ]
     },
     "execution_count": 428,
     "metadata": {},
     "output_type": "execute_result"
    }
   ],
   "source": [
    "hasorbperiod = ~subsel.pl_orbper.isnull()\n",
    "haseccenvalue = ~subsel.pl_orbeccen.isnull()\n",
    "subsel[hasorbperiod].shape[0], subsel[hasorbperiod  & haseccenvalue].shape[0]"
   ]
  },
  {
   "cell_type": "code",
   "execution_count": 423,
   "metadata": {},
   "outputs": [
    {
     "data": {
      "text/plain": [
       "(247, 20)"
      ]
     },
     "execution_count": 423,
     "metadata": {},
     "output_type": "execute_result"
    }
   ],
   "source": [
    "subsel[~subsel.st_rotp.isnull()].groupby(\"hostname\").first().shape[0]"
   ]
  },
  {
   "cell_type": "code",
   "execution_count": 425,
   "metadata": {},
   "outputs": [
    {
     "data": {
      "text/plain": [
       "(1084, 20)"
      ]
     },
     "execution_count": 425,
     "metadata": {},
     "output_type": "execute_result"
    }
   ],
   "source": [
    "subsel[(~subsel.st_vsin.isnull()) | (~subsel.st_rotp.isnull())].groupby(\"hostname\").first().shape[0]"
   ]
  },
  {
   "cell_type": "code",
   "execution_count": 407,
   "metadata": {},
   "outputs": [
    {
     "data": {
      "text/plain": [
       "(2555, 19)"
      ]
     },
     "execution_count": 407,
     "metadata": {},
     "output_type": "execute_result"
    }
   ],
   "source": [
    "subsel[~subsel.st_age.isnull()].groupby(\"hostname\").first().shape[0]"
   ]
  },
  {
   "cell_type": "code",
   "execution_count": 408,
   "metadata": {},
   "outputs": [
    {
     "data": {
      "text/plain": [
       "<matplotlib.axes._subplots.AxesSubplot at 0x7f98069c5710>"
      ]
     },
     "execution_count": 408,
     "metadata": {},
     "output_type": "execute_result"
    },
    {
     "data": {
      "image/png": "[encoded data removed]",
      "text/plain": [
       "<Figure size 432x288 with 1 Axes>"
      ]
     },
     "metadata": {
      "needs_background": "light"
     },
     "output_type": "display_data"
    }
   ],
   "source": [
    "subsel.st_age.hist()"
   ]
  },
  {
   "cell_type": "code",
   "execution_count": 339,
   "metadata": {},
   "outputs": [],
   "source": [
    "transiting = subsel.discoverymethod == \"Transit\""
   ]
  },
  {
   "cell_type": "code",
   "execution_count": 370,
   "metadata": {},
   "outputs": [
    {
     "name": "stdout",
     "output_type": "stream",
     "text": [
      "50, 92-917 flares, 2042 stars, 32281 orbits, 3e-03 flares per orbit\n",
      "30, 71-715 flares, 1773 stars, 31610 orbits, 2e-03 flares per orbit\n",
      "20, 54-541 flares, 1399 stars, 29816 orbits, 2e-03 flares per orbit\n",
      "10, 19-193 flares, 636 stars, 21073 orbits, 9e-04 flares per orbit\n",
      "5, 3-34 flares, 98 stars, 8539 orbits, 4e-04 flares per orbit\n",
      "3, 0-2 flares, 6 stars, 1233 orbits, 2e-04 flares per orbit\n"
     ]
    },
    {
     "data": {
      "image/png": "[encoded data removed]",
      "text/plain": [
       "<Figure size 432x288 with 1 Axes>"
      ]
     },
     "metadata": {
      "needs_background": "light"
     },
     "output_type": "display_data"
    }
   ],
   "source": [
    "f5orlater = subsel.rad_rsun < 1.4 # F5 of later\n",
    "\n",
    "\n",
    "for aoR in [50, 30, 20, 10, 5, 3]:\n",
    "    \n",
    "    closein = subsel.a_over_R < aoR\n",
    "    _ = subsel[f5orlater & closein & transiting].groupby(\"hostname\").first()\n",
    "    orbits = _.apply(lambda x: number_of_orbits_covered(x.pl_orbper, x.disc_facility), axis=1).sum()\n",
    "    flaresmin = _.flaring_probability.sum()\n",
    "    flaresmax = flaresmin * 10\n",
    "    print(f\"{aoR}, {flaresmin:.0f}-\"\n",
    "          f\"{flaresmax:.0f} flares, \"\n",
    "          f\"{_.shape[0]} stars, \"\n",
    "          f\"{orbits:.0f} orbits, \"\n",
    "          f\"{flaresmin/orbits:.0e} flares per orbit\")\n",
    "    _.pl_orbper.hist(bins=np.logspace(-.5, 2, 20), grid=False, \n",
    "                     label=f\"X={aoR}\", alpha=.8, edgecolor=\"k\")\n",
    "    \n",
    "plt.xscale(\"log\")\n",
    "plt.xlabel(r\"Orbital period [days]\")\n",
    "plt.ylabel(r\"# stars\")\n",
    "plt.legend(frameon=False)\n",
    "plt.title(r\"$\\dfrac{a}{R_*}<X$ in transiting systems\");"
   ]
  },
  {
   "cell_type": "code",
   "execution_count": 443,
   "metadata": {},
   "outputs": [],
   "source": [
    "f5orlater = subsel.rad_rsun < 1.4 # F5 of later\n",
    "\n",
    "est = {}\n",
    "for aoR in [50, 30, 20, 10]:\n",
    "    est[aoR] = {}\n",
    "    closein = subsel.a_over_R < aoR\n",
    "    for e in [.0,.1,.2,.3,.4,.5]:\n",
    "        hashigheccen = subsel.pl_orbeccen >= e\n",
    "        \n",
    "        _ = subsel[f5orlater & closein & hashigheccen &transiting].groupby(\"hostname\").first()\n",
    "        orbits = _.apply(lambda x: number_of_orbits_covered(x.pl_orbper, x.disc_facility), axis=1).sum()\n",
    "        flaresmin = _.flaring_probability.sum()\n",
    "        flaresmax = flaresmin * 10\n",
    "#         print(f\"{aoR}, {flaresmin:.0f}-\"\n",
    "#               f\"{flaresmax:.0f} flares, \"\n",
    "#               f\"{_.shape[0]} stars, \"\n",
    "#               f\"{orbits:.0f} orbits, \"\n",
    "#               f\"{flaresmin/orbits:.0e} flares per orbit\")\n",
    "#         _.pl_orbper.hist(bins=np.logspace(-.5, 2, 20), grid=False, \n",
    "#                          label=f\"X={aoR}\", alpha=.8, edgecolor=\"k\")\n",
    "        est[aoR][e] = {\"flaresmin\" : flaresmin,\n",
    "                       \"flaresmax\" : flaresmax,\n",
    "                       \"nstars\" : _.shape[0],\n",
    "                       \"orbits\" : int(orbits),\n",
    "                       \"flaresmin_per_orbit\": flaresmin/orbits,\n",
    "                       \"flaresmax_per_orbit\": flaresmax/orbits}\n",
    "\n",
    "# plt.xscale(\"log\")\n",
    "# plt.xlabel(r\"Orbital period [days]\")\n",
    "# plt.ylabel(r\"# stars\")\n",
    "# plt.legend(frameon=False)\n",
    "# plt.title(r\"$\\dfrac{a}{R_*}<X$ in transiting systems\");"
   ]
  },
  {
   "cell_type": "code",
   "execution_count": 444,
   "metadata": {},
   "outputs": [],
   "source": [
    "reform = {(outerKey, innerKey): values for outerKey, \n",
    "          innerDict in est.items() for innerKey, \n",
    "          values in innerDict.items()}\n",
    "fermi = pd.DataFrame(reform).T.reset_index().rename(index=str, \n",
    "                                                    columns={\"level_0\":\"max_a_over_R\", \"level_1\":\"min_e\"})\n",
    "fermi = fermi.set_index([\"max_a_over_R\",\"min_e\"])"
   ]
  },
  {
   "cell_type": "code",
   "execution_count": 445,
   "metadata": {},
   "outputs": [],
   "source": [
    "fermi.to_csv(\"../sample_selection_exoplanets.csv\")"
   ]
  },
  {
   "cell_type": "code",
   "execution_count": 446,
   "metadata": {},
   "outputs": [
    {
     "data": {
      "text/html": [
       "<div>\n",
       "<style scoped>\n",
       "    .dataframe tbody tr th:only-of-type {\n",
       "        vertical-align: middle;\n",
       "    }\n",
       "\n",
       "    .dataframe tbody tr th {\n",
       "        vertical-align: top;\n",
       "    }\n",
       "\n",
       "    .dataframe thead th {\n",
       "        text-align: right;\n",
       "    }\n",
       "</style>\n",
       "<table border=\"1\" class=\"dataframe\">\n",
       "  <thead>\n",
       "    <tr style=\"text-align: right;\">\n",
       "      <th></th>\n",
       "      <th></th>\n",
       "      <th>flaresmin</th>\n",
       "      <th>flaresmax</th>\n",
       "      <th>nstars</th>\n",
       "      <th>orbits</th>\n",
       "      <th>flaresmin_per_orbit</th>\n",
       "      <th>flaresmax_per_orbit</th>\n",
       "    </tr>\n",
       "    <tr>\n",
       "      <th>max_a_over_R</th>\n",
       "      <th>min_e</th>\n",
       "      <th></th>\n",
       "      <th></th>\n",
       "      <th></th>\n",
       "      <th></th>\n",
       "      <th></th>\n",
       "      <th></th>\n",
       "    </tr>\n",
       "  </thead>\n",
       "  <tbody>\n",
       "    <tr>\n",
       "      <th rowspan=\"4\" valign=\"top\">50</th>\n",
       "      <th>0.0</th>\n",
       "      <td>89.0506</td>\n",
       "      <td>890.506</td>\n",
       "      <td>1890.0</td>\n",
       "      <td>29944.0</td>\n",
       "      <td>0.002974</td>\n",
       "      <td>0.029738</td>\n",
       "    </tr>\n",
       "    <tr>\n",
       "      <th>0.1</th>\n",
       "      <td>6.4548</td>\n",
       "      <td>64.548</td>\n",
       "      <td>178.0</td>\n",
       "      <td>1644.0</td>\n",
       "      <td>0.003926</td>\n",
       "      <td>0.039258</td>\n",
       "    </tr>\n",
       "    <tr>\n",
       "      <th>0.2</th>\n",
       "      <td>3.3707</td>\n",
       "      <td>33.707</td>\n",
       "      <td>89.0</td>\n",
       "      <td>675.0</td>\n",
       "      <td>0.004989</td>\n",
       "      <td>0.049895</td>\n",
       "    </tr>\n",
       "    <tr>\n",
       "      <th>0.3</th>\n",
       "      <td>3.0388</td>\n",
       "      <td>30.388</td>\n",
       "      <td>53.0</td>\n",
       "      <td>312.0</td>\n",
       "      <td>0.009725</td>\n",
       "      <td>0.097250</td>\n",
       "    </tr>\n",
       "    <tr>\n",
       "      <th rowspan=\"4\" valign=\"top\">30</th>\n",
       "      <th>0.0</th>\n",
       "      <td>69.4731</td>\n",
       "      <td>694.731</td>\n",
       "      <td>1642.0</td>\n",
       "      <td>29371.0</td>\n",
       "      <td>0.002365</td>\n",
       "      <td>0.023654</td>\n",
       "    </tr>\n",
       "    <tr>\n",
       "      <th>0.1</th>\n",
       "      <td>4.8773</td>\n",
       "      <td>48.773</td>\n",
       "      <td>161.0</td>\n",
       "      <td>1586.0</td>\n",
       "      <td>0.003074</td>\n",
       "      <td>0.030739</td>\n",
       "    </tr>\n",
       "    <tr>\n",
       "      <th>0.2</th>\n",
       "      <td>3.2787</td>\n",
       "      <td>32.787</td>\n",
       "      <td>82.0</td>\n",
       "      <td>663.0</td>\n",
       "      <td>0.004939</td>\n",
       "      <td>0.049387</td>\n",
       "    </tr>\n",
       "    <tr>\n",
       "      <th>0.3</th>\n",
       "      <td>2.9618</td>\n",
       "      <td>29.618</td>\n",
       "      <td>49.0</td>\n",
       "      <td>307.0</td>\n",
       "      <td>0.009641</td>\n",
       "      <td>0.096411</td>\n",
       "    </tr>\n",
       "    <tr>\n",
       "      <th rowspan=\"3\" valign=\"top\">20</th>\n",
       "      <th>0.0</th>\n",
       "      <td>52.9352</td>\n",
       "      <td>529.352</td>\n",
       "      <td>1305.0</td>\n",
       "      <td>27791.0</td>\n",
       "      <td>0.001905</td>\n",
       "      <td>0.019048</td>\n",
       "    </tr>\n",
       "    <tr>\n",
       "      <th>0.1</th>\n",
       "      <td>2.1883</td>\n",
       "      <td>21.883</td>\n",
       "      <td>132.0</td>\n",
       "      <td>1415.0</td>\n",
       "      <td>0.001546</td>\n",
       "      <td>0.015465</td>\n",
       "    </tr>\n",
       "    <tr>\n",
       "      <th>0.2</th>\n",
       "      <td>1.2707</td>\n",
       "      <td>12.707</td>\n",
       "      <td>69.0</td>\n",
       "      <td>595.0</td>\n",
       "      <td>0.002134</td>\n",
       "      <td>0.021342</td>\n",
       "    </tr>\n",
       "    <tr>\n",
       "      <th>10</th>\n",
       "      <th>0.0</th>\n",
       "      <td>18.6045</td>\n",
       "      <td>186.045</td>\n",
       "      <td>602.0</td>\n",
       "      <td>19762.0</td>\n",
       "      <td>0.000941</td>\n",
       "      <td>0.009414</td>\n",
       "    </tr>\n",
       "  </tbody>\n",
       "</table>\n",
       "</div>"
      ],
      "text/plain": [
       "                    flaresmin  flaresmax  nstars   orbits  \\\n",
       "max_a_over_R min_e                                          \n",
       "50           0.0      89.0506    890.506  1890.0  29944.0   \n",
       "             0.1       6.4548     64.548   178.0   1644.0   \n",
       "             0.2       3.3707     33.707    89.0    675.0   \n",
       "             0.3       3.0388     30.388    53.0    312.0   \n",
       "30           0.0      69.4731    694.731  1642.0  29371.0   \n",
       "             0.1       4.8773     48.773   161.0   1586.0   \n",
       "             0.2       3.2787     32.787    82.0    663.0   \n",
       "             0.3       2.9618     29.618    49.0    307.0   \n",
       "20           0.0      52.9352    529.352  1305.0  27791.0   \n",
       "             0.1       2.1883     21.883   132.0   1415.0   \n",
       "             0.2       1.2707     12.707    69.0    595.0   \n",
       "10           0.0      18.6045    186.045   602.0  19762.0   \n",
       "\n",
       "                    flaresmin_per_orbit  flaresmax_per_orbit  \n",
       "max_a_over_R min_e                                            \n",
       "50           0.0               0.002974             0.029738  \n",
       "             0.1               0.003926             0.039258  \n",
       "             0.2               0.004989             0.049895  \n",
       "             0.3               0.009725             0.097250  \n",
       "30           0.0               0.002365             0.023654  \n",
       "             0.1               0.003074             0.030739  \n",
       "             0.2               0.004939             0.049387  \n",
       "             0.3               0.009641             0.096411  \n",
       "20           0.0               0.001905             0.019048  \n",
       "             0.1               0.001546             0.015465  \n",
       "             0.2               0.002134             0.021342  \n",
       "10           0.0               0.000941             0.009414  "
      ]
     },
     "execution_count": 446,
     "metadata": {},
     "output_type": "execute_result"
    }
   ],
   "source": [
    "fermi[fermi.flaresmax>10.]"
   ]
  },
  {
   "cell_type": "code",
   "execution_count": 314,
   "metadata": {},
   "outputs": [
    {
     "data": {
      "image/png": "[encoded data removed]",
      "text/plain": [
       "<Figure size 432x288 with 1 Axes>"
      ]
     },
     "metadata": {
      "needs_background": "light"
     },
     "output_type": "display_data"
    }
   ],
   "source": [
    "subsel.rad_rsun.hist(bins=np.linspace(.1, 1.4, 20), grid=False, facecolor=\"w\", edgecolor=\"k\")\n",
    "plt.xlim(.1,1.4)\n",
    "plt.xlabel(r\"Stellar radius [$R_\\odot$]\")\n",
    "plt.ylabel(r\"# stars\");"
   ]
  },
  {
   "cell_type": "code",
   "execution_count": 416,
   "metadata": {},
   "outputs": [
    {
     "data": {
      "image/png": "[encoded data removed]",
      "text/plain": [
       "<Figure size 432x288 with 1 Axes>"
      ]
     },
     "metadata": {
      "needs_background": "light"
     },
     "output_type": "display_data"
    }
   ],
   "source": [
    "subsel.st_age.hist(bins=np.logspace(-2, np.log10(14), 20), grid=False, facecolor=\"w\", edgecolor=\"k\")\n",
    "plt.xlim(.01,14)\n",
    "plt.xscale(\"log\")\n",
    "plt.xlabel(r\"Stellar age [Gyr]\")\n",
    "plt.ylabel(r\"# stars\");"
   ]
  },
  {
   "cell_type": "code",
   "execution_count": 326,
   "metadata": {},
   "outputs": [
    {
     "data": {
      "image/png": "[encoded data removed]",
      "text/plain": [
       "<Figure size 432x288 with 1 Axes>"
      ]
     },
     "metadata": {
      "needs_background": "light"
     },
     "output_type": "display_data"
    }
   ],
   "source": [
    "subsel.pl_orbper.hist(bins=np.logspace(-.5, 5, 20), grid=False, facecolor=\"w\", edgecolor=\"k\")\n",
    "# plt.xlim(.1,1.4)\n",
    "plt.xscale(\"log\")\n",
    "plt.xlabel(r\"Orbital period [days]\")\n",
    "plt.ylabel(r\"# stars\");"
   ]
  },
  {
   "cell_type": "code",
   "execution_count": 185,
   "metadata": {},
   "outputs": [
    {
     "data": {
      "text/plain": [
       "2.0399999999999996"
      ]
     },
     "execution_count": 185,
     "metadata": {},
     "output_type": "execute_result"
    }
   ],
   "source": [
    "hashigheccen = subsel.pl_orbeccen > .3\n",
    "closein = subsel.periastron_over_R < 5.\n",
    "subsel[f5orlater & closein & hashigheccen].groupby(\"hostname\").first().flaring_probability.sum()"
   ]
  },
  {
   "cell_type": "code",
   "execution_count": 127,
   "metadata": {},
   "outputs": [],
   "source": [
    "binary = (subsel.sy_snum == 2)\n",
    "not_circumbinary = (subsel.cb_flag == 0)"
   ]
  },
  {
   "cell_type": "code",
   "execution_count": 176,
   "metadata": {},
   "outputs": [
    {
     "data": {
      "text/plain": [
       "2.3"
      ]
     },
     "execution_count": 176,
     "metadata": {},
     "output_type": "execute_result"
    }
   ],
   "source": [
    "subsel[binary & not_circumbinary & closein & isdwarf].groupby(\"hostname\").first().flaring_probability.sum()"
   ]
  },
  {
   "cell_type": "code",
   "execution_count": 195,
   "metadata": {},
   "outputs": [
    {
     "data": {
      "text/plain": [
       "(67, 16)"
      ]
     },
     "execution_count": 195,
     "metadata": {},
     "output_type": "execute_result"
    }
   ],
   "source": [
    "subsel[isdwarf & closein & transiting].groupby(\"hostname\").first().shape#flaring_probability.sum()"
   ]
  },
  {
   "cell_type": "code",
   "execution_count": 202,
   "metadata": {},
   "outputs": [
    {
     "data": {
      "text/plain": [
       "array(['Imaging', 'Disk Kinematics', 'Microlensing', 'Pulsar Timing'],\n",
       "      dtype=object)"
      ]
     },
     "execution_count": 202,
     "metadata": {},
     "output_type": "execute_result"
    }
   ],
   "source": [
    "subsel[subsel.pl_orbper.isnull()].discoverymethod.unique()"
   ]
  },
  {
   "cell_type": "code",
   "execution_count": 206,
   "metadata": {},
   "outputs": [
    {
     "data": {
      "text/plain": [
       "discoverymethod\n",
       "Astrometry                          1\n",
       "Disk Kinematics                     1\n",
       "Eclipse Timing Variations          14\n",
       "Imaging                            48\n",
       "Microlensing                      106\n",
       "Orbital Brightness Modulation       1\n",
       "Pulsar Timing                       7\n",
       "Pulsation Timing Variations         2\n",
       "Radial Velocity                   818\n",
       "Transit                          3284\n",
       "Transit Timing Variations          21\n",
       "Name: pl_name, dtype: int64"
      ]
     },
     "execution_count": 206,
     "metadata": {},
     "output_type": "execute_result"
    }
   ],
   "source": [
    "subsel.groupby(\"discoverymethod\").pl_name.count()"
   ]
  },
  {
   "cell_type": "code",
   "execution_count": 214,
   "metadata": {},
   "outputs": [
    {
     "data": {
      "text/plain": [
       "disc_facility\n",
       "Acton Sky Portal Observatory                       1\n",
       "Anglo-Australian Telescope                        37\n",
       "Apache Point Observatory                           1\n",
       "Arecibo Observatory                                3\n",
       "Atacama Large Millimeter Array (ALMA)              1\n",
       "Bohyunsan Optical Astronomical Observatory        17\n",
       "Calar Alto Observatory                            11\n",
       "Cerro Tololo Inter-American Observatory            2\n",
       "CoRoT                                             33\n",
       "European Southern Observatory                      2\n",
       "Fred Lawrence Whipple Observatory                  5\n",
       "Gemini Observatory                                 9\n",
       "HATNet                                            60\n",
       "HATSouth                                          69\n",
       "Haleakala Observatory                              2\n",
       "Haute-Provence Observatory                        51\n",
       "Hubble Space Telescope                             5\n",
       "Infrared Survey Facility                           1\n",
       "K2                                               425\n",
       "KELT                                              10\n",
       "KELT-North                                         7\n",
       "KELT-South                                         4\n",
       "KMTNet                                            19\n",
       "KOINet                                             1\n",
       "Kepler                                          2386\n",
       "Kitt Peak National Observatory                     1\n",
       "La Silla Observatory                             240\n",
       "Las Campanas Observatory                          29\n",
       "Leoncito Astronomical Complex                      1\n",
       "Lick Observatory                                  32\n",
       "MEarth Project                                     2\n",
       "MOA                                               25\n",
       "Mauna Kea Observatory                              1\n",
       "McDonald Observatory                              29\n",
       "Multiple Facilities                               14\n",
       "Multiple Observatories                           151\n",
       "OGLE                                              67\n",
       "Oak Ridge Observatory                              1\n",
       "Okayama Astrophysical Observatory                 23\n",
       "Palomar Observatory                                2\n",
       "Paranal Observatory                               25\n",
       "Parkes Observatory                                 2\n",
       "Qatar                                             11\n",
       "Roque de los Muchachos Observatory                22\n",
       "Spitzer Space Telescope                            3\n",
       "Subaru Telescope                                   8\n",
       "SuperWASP                                        113\n",
       "SuperWASP-North                                    5\n",
       "SuperWASP-South                                   32\n",
       "Teide Observatory                                  1\n",
       "Thueringer Landessternwarte Tautenburg             8\n",
       "TrES                                               5\n",
       "Transiting Exoplanet Survey Satellite (TESS)      91\n",
       "United Kingdom Infrared Telescope                  2\n",
       "W. M. Keck Observatory                           174\n",
       "WASP-South                                        10\n",
       "Winer Observatory                                  1\n",
       "XO                                                 7\n",
       "Xinglong Station                                   2\n",
       "Yunnan Astronomical Observatory                    1\n",
       "Name: pl_name, dtype: int64"
      ]
     },
     "execution_count": 214,
     "metadata": {},
     "output_type": "execute_result"
    }
   ],
   "source": [
    "subsel.groupby(\"disc_facility\").pl_name.count()"
   ]
  },
  {
   "cell_type": "markdown",
   "metadata": {},
   "source": [
    "# Backlog"
   ]
  },
  {
   "cell_type": "code",
   "execution_count": 210,
   "metadata": {},
   "outputs": [],
   "source": [
    "# get a sense of stellar masses covered using Kepler #3\n",
    "T = np.logspace(-1,2.5,100) * u.d\n",
    "\n",
    "Rmax, Mmax = 0.559 * R_sun, 0.55 * M_sun\n",
    "Rmin, Mmin = 0.199 * R_sun, 0.16 * M_sun\n",
    "RmaxK, MmaxK = 0.817 * R_sun, 0.87 * M_sun\n",
    "RmaxG, MmaxG = 1.18 * R_sun, 1.11 * M_sun\n",
    "\n",
    "a3 = (T**2 * G * MmaxG / 4 / (np.pi**2))\n",
    "amaxG_over_R = np.power((a3/RmaxG**3).decompose().value, 1/3)\n",
    "\n",
    "a3 = (T**2 * G * MmaxK / 4 / (np.pi**2))\n",
    "amaxK_over_R = np.power((a3/RmaxK**3).decompose().value, 1/3)\n",
    "\n",
    "a3 = (T**2 * G * Mmax / 4 / (np.pi**2))\n",
    "amax_over_R = np.power((a3/Rmax**3).decompose().value, 1/3)\n",
    "\n",
    "a3 = (T**2 * G * Mmin / 4 / (np.pi**2))\n",
    "amin_over_R = np.power((a3/Rmin**3).decompose().value, 1/3)\n",
    "\n",
    "plt.figure(figsize=(9,7))\n",
    "plt.scatter(subsel.pl_orbper,subsel.a_over_R, marker=\"x\", c=\"grey\")\n",
    "plt.fill_between(T, amax_over_R, amin_over_R, facecolor=\"r\", alpha=.3, label=\"M0-M5\")\n",
    "plt.fill_between(T, amaxK_over_R, amax_over_R, facecolor=\"orange\", alpha=.3, label=\"K dwarfs\")\n",
    "plt.fill_between(T, amaxG_over_R, amaxK_over_R, facecolor=\"g\", alpha=.3, label=\"G dwarfs\")\n",
    "plt.xlim(.1,130)\n",
    "plt.ylim(2,130)\n",
    "plt.xscale(\"log\")\n",
    "plt.yscale(\"log\")\n",
    "plt.xlabel(\"Orbital period [d]\")\n",
    "plt.ylabel(r\"$a/R_*$\")"
   ]
  }
 ],
 "metadata": {
  "kernelspec": {
   "display_name": "forallpurposes",
   "language": "python",
   "name": "forallpurposes"
  },
  "language_info": {
   "codemirror_mode": {
    "name": "ipython",
    "version": 3
   },
   "file_extension": ".py",
   "mimetype": "text/x-python",
   "name": "python",
   "nbconvert_exporter": "python",
   "pygments_lexer": "ipython3",
   "version": "3.6.9"
  }
 },
 "nbformat": 4,
 "nbformat_minor": 2
}
