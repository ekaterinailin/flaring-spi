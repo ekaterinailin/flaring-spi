{
 "cells": [
  {
   "cell_type": "code",
   "execution_count": 1,
   "metadata": {},
   "outputs": [],
   "source": [
    "from funcs.notebook import *\n",
    "from scipy.fftpack import fft"
   ]
  },
  {
   "cell_type": "code",
   "execution_count": 2,
   "metadata": {},
   "outputs": [],
   "source": [
    "def select_window_length(flux, minwinlength=75):\n",
    "    \"\"\"Performs an FFT and defines a window\n",
    "    length that is smaller than the most prominent\n",
    "    frequency.\n",
    "    \n",
    "    Parameters:\n",
    "    -----------\n",
    "    flux : array\n",
    "        \n",
    "    Return:\n",
    "    --------\n",
    "    odd int\n",
    "    \"\"\"\n",
    "    #normalize flux and FFT it:\n",
    "    yf = np.abs(fft(flux / np.nanmean(flux) - 1.))\n",
    "    \n",
    "    \n",
    "    maxfreq = len(yf) // minwinlength * 3\n",
    "    minfreq = 1\n",
    "\n",
    "    # choose window length\n",
    "    w = np.rint(len(yf) / (minfreq + np.argmax(yf[minfreq:maxfreq])) / 3)\n",
    "   \n",
    "    # w must be odd\n",
    "    if w%2==0:\n",
    "        w += 1\n",
    "    \n",
    "    # maximum window length is 1/3 of the chunk\n",
    "    return int(max(w, minwinlength))"
   ]
  },
  {
   "cell_type": "code",
   "execution_count": 3,
   "metadata": {},
   "outputs": [
    {
     "data": {
      "text/plain": [
       "1256.6666666666667"
      ]
     },
     "execution_count": 3,
     "metadata": {},
     "output_type": "execute_result"
    }
   ],
   "source": [
    "time = np.arange(10,10 + 12*np.pi,.01)\n",
    "flux = np.random.normal(0,5,time.shape[0]) + 400. + 10*np.sin(2.5*time)\n",
    "len(time)/3"
   ]
  },
  {
   "cell_type": "code",
   "execution_count": 4,
   "metadata": {},
   "outputs": [],
   "source": [
    "assert select_window_length(flux) == int(np.rint(time.shape[0]/6/2.5/3 + 1.))"
   ]
  },
  {
   "cell_type": "code",
   "execution_count": 5,
   "metadata": {},
   "outputs": [
    {
     "data": {
      "text/plain": [
       "(1257, 1257.0)"
      ]
     },
     "execution_count": 5,
     "metadata": {},
     "output_type": "execute_result"
    }
   ],
   "source": [
    "flux = np.random.normal(0,5,time.shape[0]) + 400. + 10*np.sin(5*time)\n",
    "select_window_length(flux) == 75 # minimum length\n",
    "\n",
    "\n",
    "flux = np.random.normal(0,5,time.shape[0]) + 400. + 10*np.sin(.5*time)\n",
    "assert select_window_length(flux) == int(np.rint(time.shape[0]/6/.5/3))\n",
    "\n",
    "flux = np.random.normal(0,5,time.shape[0]) + 400. + 10*np.sin(.007*time)\n",
    "select_window_length(flux), np.rint(len(time)/3)"
   ]
  },
  {
   "cell_type": "code",
   "execution_count": 6,
   "metadata": {},
   "outputs": [
    {
     "data": {
      "image/png": "[encoded data removed]",
      "text/plain": [
       "<Figure size 432x288 with 1 Axes>"
      ]
     },
     "metadata": {
      "needs_background": "light"
     },
     "output_type": "display_data"
    }
   ],
   "source": [
    "%matplotlib inline\n",
    "plt.plot(time, flux);"
   ]
  },
  {
   "cell_type": "code",
   "execution_count": 7,
   "metadata": {},
   "outputs": [
    {
     "ename": "NameError",
     "evalue": "name 'yf' is not defined",
     "output_type": "error",
     "traceback": [
      "\u001b[0;31m---------------------------------------------------------------------------\u001b[0m",
      "\u001b[0;31mNameError\u001b[0m                                 Traceback (most recent call last)",
      "\u001b[0;32m<ipython-input-7-9960b267cf91>\u001b[0m in \u001b[0;36m<module>\u001b[0;34m\u001b[0m\n\u001b[1;32m      1\u001b[0m \u001b[0;31m# plt.plot(yf)\u001b[0m\u001b[0;34m\u001b[0m\u001b[0;34m\u001b[0m\u001b[0;34m\u001b[0m\u001b[0m\n\u001b[0;32m----> 2\u001b[0;31m \u001b[0mplt\u001b[0m\u001b[0;34m.\u001b[0m\u001b[0mplot\u001b[0m\u001b[0;34m(\u001b[0m\u001b[0myf\u001b[0m\u001b[0;34m)\u001b[0m\u001b[0;34m\u001b[0m\u001b[0;34m\u001b[0m\u001b[0m\n\u001b[0m\u001b[1;32m      3\u001b[0m \u001b[0;31m# plt.ylim(0,5)\u001b[0m\u001b[0;34m\u001b[0m\u001b[0;34m\u001b[0m\u001b[0;34m\u001b[0m\u001b[0m\n\u001b[1;32m      4\u001b[0m \u001b[0mplt\u001b[0m\u001b[0;34m.\u001b[0m\u001b[0mxlim\u001b[0m\u001b[0;34m(\u001b[0m\u001b[0;36m0\u001b[0m\u001b[0;34m,\u001b[0m\u001b[0;36m100\u001b[0m\u001b[0;34m)\u001b[0m\u001b[0;34m\u001b[0m\u001b[0;34m\u001b[0m\u001b[0m\n",
      "\u001b[0;31mNameError\u001b[0m: name 'yf' is not defined"
     ]
    }
   ],
   "source": [
    "# plt.plot(yf)\n",
    "plt.plot(yf)\n",
    "# plt.ylim(0,5)\n",
    "plt.xlim(0,100)"
   ]
  },
  {
   "cell_type": "code",
   "execution_count": null,
   "metadata": {},
   "outputs": [],
   "source": [
    "assert w=="
   ]
  },
  {
   "cell_type": "code",
   "execution_count": null,
   "metadata": {},
   "outputs": [],
   "source": [
    "from altaipony.altai import detrend_savgol\n",
    "from altaipony.flarelc import FlareLightCurve"
   ]
  },
  {
   "cell_type": "code",
   "execution_count": null,
   "metadata": {},
   "outputs": [],
   "source": [
    "time = np.arange(10,10 + 12*np.pi,.01)\n",
    "flux = np.random.normal(0,15,time.shape[0]) + 400. + 20*np.sin(2.5*time)\n",
    "err = np.random.normal(0,15,time.shape[0]) \n",
    "lc = FlareLightCurve(time=time, flux=flux, flux_err=err)\n",
    "lc.plot()"
   ]
  },
  {
   "cell_type": "code",
   "execution_count": null,
   "metadata": {},
   "outputs": [],
   "source": [
    "lc = detrend_savgol(lc, window_length=75, pad=3, printwl=True)"
   ]
  },
  {
   "cell_type": "code",
   "execution_count": null,
   "metadata": {},
   "outputs": [],
   "source": [
    "plt.plot(lc.time, lc.detrended_flux)\n",
    "plt.plot(lc.time, lc.flux)"
   ]
  },
  {
   "cell_type": "code",
   "execution_count": null,
   "metadata": {},
   "outputs": [],
   "source": [
    "np.std(lc.detrended_flux)"
   ]
  },
  {
   "cell_type": "code",
   "execution_count": null,
   "metadata": {},
   "outputs": [],
   "source": [
    "def detrend_savgol(lc, window_length=None, pad=3, printwl=False, **kwargs):\n",
    "    '''Construct a model light curve.\n",
    "    Based on original Apppaloosa (Davenport 2016)\n",
    "    with Savitzky-Golay filtering from scipy,\n",
    "    and iterative sigma_clipping adopted \n",
    "    from K2SC (Aigrain et al. 2016).\n",
    "\n",
    "    \n",
    "    Parameters:\n",
    "    ------------\n",
    "    flc : FlareLightCurve\n",
    "        TESS light curve\n",
    "    window_length : int\n",
    "        number of datapoints for Sav.-Gol. filter,\n",
    "        either one value for entire light curve\n",
    "        of piecewise for gaps\n",
    "    pad : int\n",
    "        mask this number of data points before and\n",
    "        after each outlier. Note that sigma_clip\n",
    "        already expands the mask \n",
    "    printwl : bool\n",
    "        if True will print final window_length\n",
    "    kwargs : dict\n",
    "        keyword arguments to pass to :func:`utils.sigma_clip`\n",
    "    \n",
    "    Return:\n",
    "    -------\n",
    "    FlareLightCurve\n",
    "    '''\n",
    "    \n",
    "    lc = lc[np.where(~np.isnan(lc.flux))]\n",
    "    lc.detrended_flux = np.full_like(lc.flux, np.nan)\n",
    "    lc.flux_model = np.full_like(lc.flux, np.nan)\n",
    "    lc.detrended_flux_err = lc.flux_err\n",
    "    \n",
    "    if lc.gaps is None:\n",
    "        lc = lc.find_gaps()\n",
    "    if (isinstance(window_length, tuple) or isinstance(window_length, list)):\n",
    "        gaps = [(window_length[i], lc.gaps[i][0], lc.gaps[i][1]) for i in range(len(lc.gaps))]\n",
    "    elif isinstance(window_length, int):\n",
    "        gaps = [(window_length, lc.gaps[i][0], lc.gaps[i][1]) for i in range(len(lc.gaps))]\n",
    "    elif window_length is None:\n",
    "        gaps = [(-999, lc.gaps[i][0], lc.gaps[i][1]) for i in range(len(lc.gaps))]\n",
    "    \n",
    "    for (wl,le,ri) in gaps:\n",
    "        \n",
    "        # Do the iterative sigma clipping\n",
    "        ok = np.where(sigma_clip(lc.flux[le:ri]))[0] + le\n",
    "        outliers = list(set(list(range(le, ri))) - set(ok)) # inverse of ok\n",
    "        \n",
    "        time = lc.time[ok]\n",
    "        flux = lc.flux[ok]\n",
    "        error = lc.flux_err[ok]\n",
    "        \n",
    "        # ----------------------------------\n",
    "        # Main detrending happens here:\n",
    "        \n",
    "        # This is from Appaloosa: \n",
    "        if wl == -999:\n",
    "            dt = np.nanmedian(time[1:] - time[0:-1])\n",
    "            wl = np.floor(.1 / dt)\n",
    "            if wl % 2 == 0:\n",
    "                wl = wl + 1\n",
    "        \n",
    "        # args are flux, window_length, polyorder, mode is \n",
    "        wl = max(wl, 5) #wl must be larger than polyorder\n",
    "        if printwl: \n",
    "            print(f\"window length: {wl}\")\n",
    "        flux_model_i = savgol_filter(flux, wl, 3, mode='nearest')\n",
    "        \n",
    "        flux_diff = flux - flux_model_i + np.nanmean(flux_model_i)\n",
    "        lc.detrended_flux[ok] = flux_diff\n",
    "        lc.flux_model[ok] = flux_model_i\n",
    "        \n",
    "        # Find out where outlier begin and end:\n",
    "        a = np.isnan(lc.detrended_flux[le:ri]).astype(int)\n",
    "        \n",
    "        #pad outliers-------------------\n",
    "       # print(np.where(a)[0])\n",
    "        x = np.where(a)[0]\n",
    "        for i in range(-pad,pad+1):\n",
    "            y = x+i\n",
    "            y[np.where(y>len(a)-1)] = len(a)-1\n",
    "            a[y] = True\n",
    "        #print(list(np.where(a)[0]))\n",
    "        #--------------------------------\n",
    "        lc.detrended_flux[le:ri][a] = np.nan"
   ]
  },
  {
   "cell_type": "code",
   "execution_count": null,
   "metadata": {},
   "outputs": [],
   "source": []
  },
  {
   "cell_type": "code",
   "execution_count": null,
   "metadata": {},
   "outputs": [],
   "source": [
    "a = np.ones(25).astype(int)\n",
    "a[3] = 0\n",
    "a[[15,16]] = 0\n",
    "expand_mask(copy.deepcopy(a), longdecay=2)"
   ]
  },
  {
   "cell_type": "code",
   "execution_count": null,
   "metadata": {},
   "outputs": [],
   "source": [
    "# check result\n",
    "assert (expand_mask(copy.deepcopy(a)) == np.array([1, 1, 1, 0, 1,\n",
    "                                    1, 1, 1, 1, 1,\n",
    "                                    1, 1, 0, 0, 0,\n",
    "                                    0, 0, 0, 0, 0,\n",
    "                                    0, 0, 0, 1, 1])).all()\n",
    "\n",
    "# this breaks the function:\n",
    "a[7] = np.nan\n",
    "\n",
    "# check that it does\n",
    "with pytest.raises(ValueError) as e:\n",
    "    expand_mask(copy.deepcopy(a))"
   ]
  },
  {
   "cell_type": "code",
   "execution_count": null,
   "metadata": {},
   "outputs": [],
   "source": [
    "a = a.astype(int)\n",
    "a"
   ]
  },
  {
   "cell_type": "code",
   "execution_count": null,
   "metadata": {},
   "outputs": [],
   "source": [
    "%timeit expand_mask(a)"
   ]
  },
  {
   "cell_type": "code",
   "execution_count": null,
   "metadata": {},
   "outputs": [],
   "source": [
    "%timeit expand_maskn(a)"
   ]
  },
  {
   "cell_type": "code",
   "execution_count": null,
   "metadata": {},
   "outputs": [],
   "source": [
    "~isflare * 1"
   ]
  },
  {
   "cell_type": "code",
   "execution_count": null,
   "metadata": {},
   "outputs": [],
   "source": [
    "assert (~isflare * 1 == np.array([1, 1, 1, 0, 1,\n",
    "                                  1, 1, 1, 1, 1,\n",
    "                                  1, 1, 0, 0, 0,\n",
    "                                  0, 0, 0, 0, 0,\n",
    "                                  0, 0, 0, 1, 1])).all()"
   ]
  },
  {
   "cell_type": "code",
   "execution_count": null,
   "metadata": {},
   "outputs": [],
   "source": [
    "a[np.where(a==0)]=np.nan\n",
    "np.cumsum(a)"
   ]
  },
  {
   "cell_type": "code",
   "execution_count": null,
   "metadata": {},
   "outputs": [],
   "source": [
    "np.cumsum(a[np.where(a>0)])"
   ]
  },
  {
   "cell_type": "code",
   "execution_count": null,
   "metadata": {},
   "outputs": [],
   "source": []
  },
  {
   "cell_type": "code",
   "execution_count": null,
   "metadata": {},
   "outputs": [],
   "source": [
    "reverse_counts"
   ]
  },
  {
   "cell_type": "code",
   "execution_count": null,
   "metadata": {},
   "outputs": [],
   "source": []
  }
 ],
 "metadata": {
  "kernelspec": {
   "display_name": "forallpurposes",
   "language": "python",
   "name": "forallpurposes"
  },
  "language_info": {
   "codemirror_mode": {
    "name": "ipython",
    "version": 3
   },
   "file_extension": ".py",
   "mimetype": "text/x-python",
   "name": "python",
   "nbconvert_exporter": "python",
   "pygments_lexer": "ipython3",
   "version": "3.6.9"
  }
 },
 "nbformat": 4,
 "nbformat_minor": 2
}
