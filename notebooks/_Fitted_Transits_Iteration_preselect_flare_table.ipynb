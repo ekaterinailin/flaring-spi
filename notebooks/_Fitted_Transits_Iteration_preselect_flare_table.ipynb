{
 "cells": [
  {
   "cell_type": "code",
   "execution_count": 1,
   "metadata": {},
   "outputs": [],
   "source": [
    "import numpy as np\n",
    "import pandas as pd\n",
    "\n",
    "import matplotlib.pyplot as plt\n",
    "\n",
    "from altaipony.lcio import from_mast"
   ]
  },
  {
   "cell_type": "code",
   "execution_count": 2,
   "metadata": {},
   "outputs": [
    {
     "name": "stderr",
     "output_type": "stream",
     "text": [
      "NumExpr defaulting to 8 threads.\n"
     ]
    }
   ],
   "source": [
    "df = pd.read_csv(\"../results/2021_08_flares_uncorrected.csv\")\n",
    "old = pd.read_csv(\"../results/2020_02_flares_vetted.csv\")\n",
    "old = old[old[\"real?\"]==1]"
   ]
  },
  {
   "cell_type": "code",
   "execution_count": 10,
   "metadata": {},
   "outputs": [
    {
     "data": {
      "text/plain": [
       "151"
      ]
     },
     "execution_count": 10,
     "metadata": {},
     "output_type": "execute_result"
    }
   ],
   "source": [
    "old.groupby(\"ID\").count().shape[0]"
   ]
  },
  {
   "cell_type": "code",
   "execution_count": 11,
   "metadata": {},
   "outputs": [
    {
     "data": {
      "text/plain": [
       "152"
      ]
     },
     "execution_count": 11,
     "metadata": {},
     "output_type": "execute_result"
    }
   ],
   "source": [
    "df.groupby(\"ID\").count().shape[0]"
   ]
  },
  {
   "cell_type": "code",
   "execution_count": 4,
   "metadata": {},
   "outputs": [
    {
     "data": {
      "text/html": [
       "<div>\n",
       "<style scoped>\n",
       "    .dataframe tbody tr th:only-of-type {\n",
       "        vertical-align: middle;\n",
       "    }\n",
       "\n",
       "    .dataframe tbody tr th {\n",
       "        vertical-align: top;\n",
       "    }\n",
       "\n",
       "    .dataframe thead th {\n",
       "        text-align: right;\n",
       "    }\n",
       "</style>\n",
       "<table border=\"1\" class=\"dataframe\">\n",
       "  <thead>\n",
       "    <tr style=\"text-align: right;\">\n",
       "      <th></th>\n",
       "      <th>ID</th>\n",
       "      <th>qcs</th>\n",
       "      <th>lc_n</th>\n",
       "      <th>mission</th>\n",
       "      <th>tstamp</th>\n",
       "    </tr>\n",
       "  </thead>\n",
       "  <tbody>\n",
       "    <tr>\n",
       "      <th>0</th>\n",
       "      <td>2MASS J01225093-2439505</td>\n",
       "      <td>3.0</td>\n",
       "      <td>0</td>\n",
       "      <td>TESS</td>\n",
       "      <td>03_08_2021_16_17_36</td>\n",
       "    </tr>\n",
       "    <tr>\n",
       "      <th>1</th>\n",
       "      <td>2MASS J01225093-2439505</td>\n",
       "      <td>30.0</td>\n",
       "      <td>0</td>\n",
       "      <td>TESS</td>\n",
       "      <td>09_08_2021_12_28_27</td>\n",
       "    </tr>\n",
       "    <tr>\n",
       "      <th>2</th>\n",
       "      <td>2MASS J02192210-3925225</td>\n",
       "      <td>3.0</td>\n",
       "      <td>0</td>\n",
       "      <td>TESS</td>\n",
       "      <td>03_08_2021_19_38_31</td>\n",
       "    </tr>\n",
       "    <tr>\n",
       "      <th>3</th>\n",
       "      <td>51 Eri</td>\n",
       "      <td>5.0</td>\n",
       "      <td>0</td>\n",
       "      <td>TESS</td>\n",
       "      <td>03_08_2021_21_17_20</td>\n",
       "    </tr>\n",
       "    <tr>\n",
       "      <th>4</th>\n",
       "      <td>AU Mic</td>\n",
       "      <td>27.0</td>\n",
       "      <td>0</td>\n",
       "      <td>TESS</td>\n",
       "      <td>09_08_2021_12_25_34</td>\n",
       "    </tr>\n",
       "    <tr>\n",
       "      <th>...</th>\n",
       "      <td>...</td>\n",
       "      <td>...</td>\n",
       "      <td>...</td>\n",
       "      <td>...</td>\n",
       "      <td>...</td>\n",
       "    </tr>\n",
       "    <tr>\n",
       "      <th>1309</th>\n",
       "      <td>WASP-99</td>\n",
       "      <td>3.0</td>\n",
       "      <td>0</td>\n",
       "      <td>TESS</td>\n",
       "      <td>03_08_2021_21_47_44</td>\n",
       "    </tr>\n",
       "    <tr>\n",
       "      <th>1310</th>\n",
       "      <td>WASP-99</td>\n",
       "      <td>29.0</td>\n",
       "      <td>0</td>\n",
       "      <td>TESS</td>\n",
       "      <td>09_08_2021_13_21_37</td>\n",
       "    </tr>\n",
       "    <tr>\n",
       "      <th>1311</th>\n",
       "      <td>WASP-99</td>\n",
       "      <td>30.0</td>\n",
       "      <td>0</td>\n",
       "      <td>TESS</td>\n",
       "      <td>09_08_2021_12_36_05</td>\n",
       "    </tr>\n",
       "    <tr>\n",
       "      <th>1312</th>\n",
       "      <td>YZ Cet</td>\n",
       "      <td>3.0</td>\n",
       "      <td>0</td>\n",
       "      <td>TESS</td>\n",
       "      <td>03_08_2021_11_00_00</td>\n",
       "    </tr>\n",
       "    <tr>\n",
       "      <th>1313</th>\n",
       "      <td>YZ Cet</td>\n",
       "      <td>30.0</td>\n",
       "      <td>0</td>\n",
       "      <td>TESS</td>\n",
       "      <td>09_08_2021_12_40_00</td>\n",
       "    </tr>\n",
       "  </tbody>\n",
       "</table>\n",
       "<p>1314 rows × 5 columns</p>\n",
       "</div>"
      ],
      "text/plain": [
       "                           ID   qcs  lc_n mission               tstamp\n",
       "0     2MASS J01225093-2439505   3.0     0    TESS  03_08_2021_16_17_36\n",
       "1     2MASS J01225093-2439505  30.0     0    TESS  09_08_2021_12_28_27\n",
       "2     2MASS J02192210-3925225   3.0     0    TESS  03_08_2021_19_38_31\n",
       "3                      51 Eri   5.0     0    TESS  03_08_2021_21_17_20\n",
       "4                      AU Mic  27.0     0    TESS  09_08_2021_12_25_34\n",
       "...                       ...   ...   ...     ...                  ...\n",
       "1309                  WASP-99   3.0     0    TESS  03_08_2021_21_47_44\n",
       "1310                  WASP-99  29.0     0    TESS  09_08_2021_13_21_37\n",
       "1311                  WASP-99  30.0     0    TESS  09_08_2021_12_36_05\n",
       "1312                   YZ Cet   3.0     0    TESS  03_08_2021_11_00_00\n",
       "1313                   YZ Cet  30.0     0    TESS  09_08_2021_12_40_00\n",
       "\n",
       "[1314 rows x 5 columns]"
      ]
     },
     "execution_count": 4,
     "metadata": {},
     "output_type": "execute_result"
    }
   ],
   "source": [
    "# For each LC, select the latest iteration \n",
    "# of de-trending and flare finding from the table \n",
    "# and drop the rest\n",
    "lateststamps = df.groupby([\"ID\",\"qcs\",\"lc_n\",\"mission\"]).tstamp.max().reset_index()\n",
    "lateststamps"
   ]
  },
  {
   "cell_type": "code",
   "execution_count": 54,
   "metadata": {},
   "outputs": [],
   "source": [
    "# merge in the full table such that we are left wit only those latest iterations\n",
    "lastdf = lateststamps.merge(df, how=\"left\", on=[\"ID\",\"qcs\",\"lc_n\",\"mission\",\"tstamp\"])"
   ]
  },
  {
   "cell_type": "code",
   "execution_count": 56,
   "metadata": {},
   "outputs": [
    {
     "data": {
      "text/plain": [
       "(4227, 17)"
      ]
     },
     "execution_count": 56,
     "metadata": {},
     "output_type": "execute_result"
    }
   ],
   "source": [
    "lastdf.shape\n",
    "lastdf.head()"
   ]
  },
  {
   "cell_type": "code",
   "execution_count": 59,
   "metadata": {},
   "outputs": [],
   "source": [
    "lastdf.sort_values(by=[\"ID\",\"tstamp\"]).to_csv(\"../results/2021_08_flares.csv\")"
   ]
  },
  {
   "cell_type": "markdown",
   "metadata": {},
   "source": [
    "# obsdurs table vetting"
   ]
  },
  {
   "cell_type": "code",
   "execution_count": 23,
   "metadata": {},
   "outputs": [],
   "source": [
    "obs = pd.read_csv(\"../results/2021_08_obsdurs.csv\")"
   ]
  },
  {
   "cell_type": "code",
   "execution_count": 24,
   "metadata": {},
   "outputs": [
    {
     "data": {
      "text/plain": [
       "(2455, 6)"
      ]
     },
     "execution_count": 24,
     "metadata": {},
     "output_type": "execute_result"
    }
   ],
   "source": [
    "obs.shape"
   ]
  },
  {
   "cell_type": "code",
   "execution_count": 25,
   "metadata": {},
   "outputs": [],
   "source": [
    "obs = obs.drop_duplicates(subset=[\"ID\",\"qcs\",\"lc_n\",\"mission\"])[[\"ID\",\"qcs\",\"lc_n\",\"mission\"]]\n",
    "obs[\"version\"] = \"new\""
   ]
  },
  {
   "cell_type": "code",
   "execution_count": 26,
   "metadata": {},
   "outputs": [
    {
     "data": {
      "text/plain": [
       "(1377, 5)"
      ]
     },
     "execution_count": 26,
     "metadata": {},
     "output_type": "execute_result"
    }
   ],
   "source": [
    "obs.shape"
   ]
  },
  {
   "cell_type": "code",
   "execution_count": 27,
   "metadata": {},
   "outputs": [],
   "source": [
    "obsold  = pd.read_csv(\"../results/2020_02_obsdurs.csv\")"
   ]
  },
  {
   "cell_type": "code",
   "execution_count": 28,
   "metadata": {},
   "outputs": [],
   "source": [
    "obsold = obsold.drop_duplicates(subset=[\"ID\",\"qcs\",\"lc_n\",\"mission\"])[[\"ID\",\"qcs\",\"lc_n\",\"mission\"]]\n",
    "obsold[\"version\"] = \"old\""
   ]
  },
  {
   "cell_type": "code",
   "execution_count": 29,
   "metadata": {},
   "outputs": [
    {
     "data": {
      "text/plain": [
       "(1327, 5)"
      ]
     },
     "execution_count": 29,
     "metadata": {},
     "output_type": "execute_result"
    }
   ],
   "source": [
    "obsold.shape"
   ]
  },
  {
   "cell_type": "code",
   "execution_count": 30,
   "metadata": {},
   "outputs": [
    {
     "data": {
      "text/html": [
       "<div>\n",
       "<style scoped>\n",
       "    .dataframe tbody tr th:only-of-type {\n",
       "        vertical-align: middle;\n",
       "    }\n",
       "\n",
       "    .dataframe tbody tr th {\n",
       "        vertical-align: top;\n",
       "    }\n",
       "\n",
       "    .dataframe thead th {\n",
       "        text-align: right;\n",
       "    }\n",
       "</style>\n",
       "<table border=\"1\" class=\"dataframe\">\n",
       "  <thead>\n",
       "    <tr style=\"text-align: right;\">\n",
       "      <th></th>\n",
       "      <th></th>\n",
       "      <th>ID</th>\n",
       "      <th>qcs</th>\n",
       "      <th>lc_n</th>\n",
       "      <th>mission</th>\n",
       "    </tr>\n",
       "    <tr>\n",
       "      <th>version_new</th>\n",
       "      <th>version_old</th>\n",
       "      <th></th>\n",
       "      <th></th>\n",
       "      <th></th>\n",
       "      <th></th>\n",
       "    </tr>\n",
       "  </thead>\n",
       "  <tbody>\n",
       "    <tr>\n",
       "      <th>new</th>\n",
       "      <th>old</th>\n",
       "      <td>1327</td>\n",
       "      <td>1327</td>\n",
       "      <td>1327</td>\n",
       "      <td>1327</td>\n",
       "    </tr>\n",
       "  </tbody>\n",
       "</table>\n",
       "</div>"
      ],
      "text/plain": [
       "                           ID   qcs  lc_n  mission\n",
       "version_new version_old                           \n",
       "new         old          1327  1327  1327     1327"
      ]
     },
     "execution_count": 30,
     "metadata": {},
     "output_type": "execute_result"
    }
   ],
   "source": [
    "merg = obs.merge(obsold, on=[\"ID\",\"qcs\",\"lc_n\",\"mission\"], how=\"outer\", suffixes=(\"_new\",\"_old\"))\n",
    "merg.groupby([\"version_new\",\"version_old\"]).count()"
   ]
  },
  {
   "cell_type": "code",
   "execution_count": 31,
   "metadata": {},
   "outputs": [
    {
     "data": {
      "text/html": [
       "<div>\n",
       "<style scoped>\n",
       "    .dataframe tbody tr th:only-of-type {\n",
       "        vertical-align: middle;\n",
       "    }\n",
       "\n",
       "    .dataframe tbody tr th {\n",
       "        vertical-align: top;\n",
       "    }\n",
       "\n",
       "    .dataframe thead th {\n",
       "        text-align: right;\n",
       "    }\n",
       "</style>\n",
       "<table border=\"1\" class=\"dataframe\">\n",
       "  <thead>\n",
       "    <tr style=\"text-align: right;\">\n",
       "      <th></th>\n",
       "      <th>ID</th>\n",
       "      <th>qcs</th>\n",
       "      <th>lc_n</th>\n",
       "      <th>mission</th>\n",
       "      <th>version_new</th>\n",
       "      <th>version_old</th>\n",
       "    </tr>\n",
       "  </thead>\n",
       "  <tbody>\n",
       "  </tbody>\n",
       "</table>\n",
       "</div>"
      ],
      "text/plain": [
       "Empty DataFrame\n",
       "Columns: [ID, qcs, lc_n, mission, version_new, version_old]\n",
       "Index: []"
      ]
     },
     "execution_count": 31,
     "metadata": {},
     "output_type": "execute_result"
    }
   ],
   "source": [
    "merg[merg.version_new.isnull()].sort_values(\"ID\")#.to_csv(\"../results/leftoverlcs.csv\", index=False)"
   ]
  },
  {
   "cell_type": "code",
   "execution_count": 33,
   "metadata": {},
   "outputs": [
    {
     "data": {
      "text/plain": [
       "(50, 6)"
      ]
     },
     "execution_count": 33,
     "metadata": {},
     "output_type": "execute_result"
    }
   ],
   "source": [
    "merg[merg.version_old.isnull()].sort_values(\"ID\").shape"
   ]
  },
  {
   "cell_type": "code",
   "execution_count": null,
   "metadata": {},
   "outputs": [],
   "source": []
  }
 ],
 "metadata": {
  "kernelspec": {
   "display_name": "python37",
   "language": "python",
   "name": "python37"
  },
  "language_info": {
   "codemirror_mode": {
    "name": "ipython",
    "version": 3
   },
   "file_extension": ".py",
   "mimetype": "text/x-python",
   "name": "python",
   "nbconvert_exporter": "python",
   "pygments_lexer": "ipython3",
   "version": "3.7.5"
  }
 },
 "nbformat": 4,
 "nbformat_minor": 2
}
