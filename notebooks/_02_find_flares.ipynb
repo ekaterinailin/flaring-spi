{
 "cells": [
  {
   "cell_type": "code",
   "execution_count": 1,
   "metadata": {},
   "outputs": [
    {
     "name": "stderr",
     "output_type": "stream",
     "text": [
      "\n",
      "Bad key legend.labelcolor in file /home/ekaterina/.config/matplotlib/matplotlibrc, line 530 ('legend.labelcolor:    None')\n",
      "You probably need to get an updated matplotlibrc file from\n",
      "https://github.com/matplotlib/matplotlib/blob/v3.4.2/matplotlibrc.template\n",
      "or from the matplotlib source distribution\n"
     ]
    }
   ],
   "source": [
    "\"\"\"\n",
    "UTF-8, Python 3\n",
    "\n",
    "------------------\n",
    "Flaring SPI\n",
    "------------------\n",
    "\n",
    "Ekaterina Ilin, 2021, MIT License\n",
    "\n",
    "De-trending Kepler and TESS\n",
    "\n",
    "- get table of Kepler exoplanet system light curves\n",
    "- fetch FLC\n",
    "- get system info from table\n",
    "- mask transits\n",
    "- apply custom detrending\n",
    "- search flares\n",
    "- save results\n",
    "\"\"\"\n",
    "\n",
    "\n",
    "import copy\n",
    "import time\n",
    "\n",
    "from funcs.notebook import *\n",
    "from funcs.detrend import estimate_detrended_noise, fit_spline, remove_sines_iteratively, remove_exponential_fringes\n",
    "from funcs.transitmask import get_full_transit_mask\n",
    "\n",
    "from altaipony.lcio import from_mast, from_path\n",
    "from altaipony.flarelc import FlareLightCurve\n",
    "from altaipony.altai import find_iterative_median\n",
    "\n",
    "from lightkurve import search_lightcurvefile\n",
    "\n",
    "from astropy.io import fits\n",
    "\n",
    "\n",
    "def custom_detrending(lc, spline_coarseness=30, spline_order=3,\n",
    "                      savgol1=6., savgol2=3., pad=3):\n",
    "    \"\"\"Custom de-trending for TESS and Kepler \n",
    "    short cadence light curves, including TESS Cycle 3 20s\n",
    "    cadence.\n",
    "    \n",
    "    Parameters:\n",
    "    ------------\n",
    "    lc : FlareLightCurve\n",
    "        light curve that has at least time, flux and flux_err\n",
    "    spline_coarseness : float\n",
    "        time scale in hours for spline points. \n",
    "        See fit_spline for details.\n",
    "    spline_order: int\n",
    "        Spline order for the coarse spline fit.\n",
    "        Default is cubic spline.\n",
    "    savgol1 : float\n",
    "        Window size for first Savitzky-Golay filter application.\n",
    "        Unit is hours, defaults to 6 hours.\n",
    "    savgol2 : float\n",
    "        Window size for second Savitzky-Golay filter application.\n",
    "        Unit is hours, defaults to 3 hours.\n",
    "    pad : 3\n",
    "        Outliers in Savitzky-Golay filter are padded with this\n",
    "        number of data points. Defaults to 3.\n",
    "        \n",
    "    Return:\n",
    "    -------\n",
    "    FlareLightCurve with detrended_flux attribute\n",
    "    \"\"\"\n",
    "    dt = np.mean(np.diff(lc.time.value))\n",
    "#     plt.figure(figsize=(16,8))\n",
    "#     plt.xlim(20,21)\n",
    "#     plt.plot(lc.time, lc.flux+2500, c=\"c\", label=\"original light curve\")\n",
    "#     t0 = time.clock()\n",
    "    # fit a spline to the general trends\n",
    "    lc1, model = fit_spline(lc, spline_order=spline_order,\n",
    "                            spline_coarseness=spline_coarseness)\n",
    "    \n",
    "    # replace for next step\n",
    "    lc1.flux = lc1.detrended_flux.value\n",
    "#     t1 = time.clock()\n",
    "#     plt.plot(lc1.time, model+2500, c=\"r\", label=\"rough trends\")\n",
    "#     plt.plot(lc1.time, lc1.detrended_flux+500, c=\"orange\", label=\"rough trends removed\")\n",
    "\n",
    "    # removes strong and fast variability on 5 day to 4.8 hours \n",
    "    # simple sines are probably because rotational variability is \n",
    "    # either weak and transient or strong and persistent on the timescales\n",
    "    lc2 = lc1#remove_sines_iteratively(lc1)\n",
    "#     t2 = time.clock()\n",
    "#     plt.plot(lc2time, lc2.detrended_flux-200, label=\"sines removed\")\n",
    "    \n",
    "    # choose a 6 hour window\n",
    "    w = int((np.rint(savgol1 / 24. / dt) // 2) * 2 + 1)\n",
    "\n",
    "    # use Savitzy-Golay to iron out the rest\n",
    "    lc3 = lc2.detrend(\"savgol\", window_length=w, pad=pad)\n",
    "#     t3 = time.clock()\n",
    "    # choose a three hour window\n",
    "    w = int((np.rint(savgol2 / 24. / dt) // 2) * 2 + 1)\n",
    "\n",
    "    # use Savitzy-Golay to iron out the rest\n",
    "    lc4 = lc3.detrend(\"savgol\", window_length=w, pad=pad)\n",
    "#     t4 = time.clock()\n",
    "#     plt.plot(lc4.time, lc4.detrended_flux-800, c=\"k\", label=\"SavGol applied\")\n",
    "    \n",
    "    # find median value\n",
    "    lc4 = find_iterative_median(lc4)\n",
    "#     t41 = time.clock()\n",
    "    # replace for next step\n",
    "    lc4.flux = lc4.detrended_flux.value\n",
    "    \n",
    "    # remove exopential fringes that neither spline, \n",
    "    # nor sines, nor SavGol \n",
    "    # can remove.\n",
    "    lc5 = remove_exponential_fringes(lc4)\n",
    "#     t5 = time.clock()\n",
    "#     plt.plot(lc5.time, lc5.detrended_flux, c=\"magenta\", label=\"expfunc applied\")\n",
    "#     print(t1-t0, t2-t1, t3-t2, t4-t3, t41-t4, t5-t41, t5-t0)\n",
    "#     plt.xlim(10,40)\n",
    "#     plt.xlabel(\"time [days]\")\n",
    "#     plt.ylabel(\"flux\")\n",
    "#     plt.legend()    \n",
    "    return lc5\n",
    "\n",
    "\n",
    "def add_meta_data_and_write(ff, dflcn, ID, TIC, sector, mission,\n",
    "                  lc_n, w, tstamp, mask_pos_outliers_sigma):\n",
    "    \"\"\"Write out flare table to file.\"\"\"\n",
    "    \n",
    "    \n",
    "    if ff.shape[0]==0:\n",
    "        ff[\"phase\"]=-1\n",
    "        ff[\"total_n_valid_data_points\"] = dflcn.detrended_flux.shape[0]\n",
    "        ff[\"ID\"] = ID\n",
    "        ff[\"TIC\"] = TIC\n",
    "        ff[\"qcs\"] = sector\n",
    "        ff[\"mission\"] = mission\n",
    "        ff[\"tstamp\"] = tstamp\n",
    "        ff[\"lc_n\"] = lc_n\n",
    "        ff[\"w\"] = w\n",
    "        ff[\"mask_pos_outliers_sigma\"] = mask_pos_outliers_sigma\n",
    "        ff[\"real\"]=-1\n",
    "        ff = ff.append({\"phase\":-1,\n",
    "                        \"total_n_valid_data_points\":dflcn.detrended_flux.shape[0],\n",
    "                        \"ID\":ID,\n",
    "                        \"TIC\":TIC,\n",
    "                        \"qcs\" : sector,\n",
    "                        \"mission\":mission,\n",
    "                        \"tstamp\":tstamp,\n",
    "                        \"lc_n\":lc_n,\n",
    "                        \"w\":w,\n",
    "                        \"mask_pos_outliers_sigma\":mask_pos_outliers_sigma,\n",
    "                        \"real\":-1},\n",
    "                         ignore_index=True)\n",
    "\n",
    "    # otherwise add ID, QCS and mission\n",
    "    else:\n",
    "        ff[\"total_n_valid_data_points\"] = dflcn.detrended_flux.shape[0]\n",
    "        ff[\"ID\"] = ID\n",
    "        ff[\"TIC\"] = TIC\n",
    "        ff[\"qcs\"] = sector\n",
    "        ff[\"mission\"] = mission\n",
    "        ff[\"tstamp\"] = tstamp\n",
    "        ff[\"lc_n\"] = lc_n\n",
    "        ff[\"w\"] = w\n",
    "        ff[\"mask_pos_outliers_sigma\"] = mask_pos_outliers_sigma\n",
    "\n",
    "    # add results to file\n",
    "    with open(\"../results/2022_07_flares.csv\", \"a\") as file:\n",
    "        ff.to_csv(file, index=False, header=False)\n",
    "            \n",
    "def write_flc_to_file(dflcn, flc, path_dflcn):\n",
    "    \"\"\"Write detrended light curve to fits.\"\"\"\n",
    "    \n",
    "    \n",
    "    dflcn.to_fits(path_dflcn, \n",
    "                  FLUX=flc.flux.value,\n",
    "                  DETRENDED_FLUX=dflcn.detrended_flux.value,\n",
    "                  DETRENDED_FLUX_ERR=dflcn.detrended_flux_err.value,\n",
    "                  IT_MED=dflcn.it_med.value,\n",
    "                  FLUX_MODEL=dflcn.flux_model.value,\n",
    "                  PHASE = dflcn.phase,\n",
    "                  overwrite=True)\n",
    "\n",
    "def write_no_lc(input_target):\n",
    "    with open(\"../results/2022_07_nolc.txt\",\"a\") as f:\n",
    "        s = f\"TIC {input_target.TIC}\\n\"\n",
    "        f.write(s)\n",
    "    \n",
    "    \n",
    "sep = \"-----------------------------------------\"\n",
    "\n",
    "def mprint(message):\n",
    "    print(sep)\n",
    "    print(message)\n",
    "    print(sep)\n",
    "    \n",
    "offset = {\"K2\":2454833.,\n",
    "          \"Kepler\":2454833.,\n",
    "          \"TESS\":2457000.,\n",
    "          'Transiting Exoplanet Survey Satellite (TESS)':2457000.}    "
   ]
  },
  {
   "cell_type": "code",
   "execution_count": 2,
   "metadata": {},
   "outputs": [],
   "source": [
    "def run_analysis(flc, input_target, sector, mission, lc_n, download_dir,\n",
    "                 i=0, mask_pos_outliers_sigma = 2.5, addtail = True):\n",
    "    # get timestamp for result\n",
    "    tstamp = time.strftime(\"%Y_%m_%d\", time.localtime())\n",
    "    print(f\"date: {tstamp}\")\n",
    "\n",
    "    dflc = custom_detrending(flc)\n",
    "    print(\"LC successfully detrended.\")\n",
    "\n",
    "    # define two hour window for rolling std\n",
    "    w = np.floor(1. / 12. / np.nanmin(np.diff(dflc.time.value)))\n",
    "    if w%2==0: \n",
    "        w+=1\n",
    "\n",
    "    # use window to estimate the noise in the LC\n",
    "    dflcn = estimate_detrended_noise(dflc, std_window=int(w), \n",
    "                                  mask_pos_outliers_sigma=mask_pos_outliers_sigma)\n",
    "\n",
    "    # search the residual for flares\n",
    "    ff = dflcn.find_flares(addtail=addtail).flares\n",
    "\n",
    "\n",
    "    # calculate the observed phases\n",
    "    # calculate midtime of transit in TESS or Kepler time\n",
    "    if mission == \"TESS\":\n",
    "        if np.isfinite(input_target.pl_tranmid_tess):\n",
    "            midtime = input_target.pl_tranmid_tess - offset[mission]\n",
    "        else:\n",
    "            midtime = input_target.pl_tranmid - offset[mission]\n",
    "    elif mission == \"Kepler\":\n",
    "        midtime = input_target.pl_tranmid - offset[mission]\n",
    "    print(f\"Transit midtime in {mission} time: {midtime}\")\n",
    "\n",
    "    # calculate phases for the light curve\n",
    "    dflcn['phase'] = ((dflcn.time.value - midtime) % input_target.pl_orbper) / input_target.pl_orbper\n",
    "\n",
    "    # calculate the phase at which the flare was observed\n",
    "    ff[\"phase\"] = ff.cstart.apply(lambda x: dflcn[\"phase\"][np.where(x==dflcn.cadenceno)][0])\n",
    "    \n",
    "\n",
    "    # this is just to get the order of columns right, will be added later again\n",
    "    if ff.shape[0]>0:\n",
    "        del ff[\"total_n_valid_data_points\"]\n",
    "\n",
    "    # chop out all phases where we have no data points to look for flares in:\n",
    "    dflcn[\"phase\"][~np.isfinite(dflcn[\"detrended_flux\"])] = np.nan\n",
    "\n",
    "    fshow = ff[[\"tstart\",'tstop',\"phase\",\"ampl_rec\",\"dur\"]]\n",
    "    if fshow.shape[0]>0:\n",
    "        print(f\"Flares found:\\n{fshow}\")\n",
    "    else:\n",
    "        print(f'No flares found in LC.')\n",
    "\n",
    "    # add meta info to flare table\n",
    "    # if no flares found, add empty row and write to file\n",
    "    add_meta_data_and_write(ff, dflcn, input_target.hostname, \n",
    "                            input_target.TIC, sector,\n",
    "                            mission, lc_n, w, tstamp,\n",
    "                            mask_pos_outliers_sigma)\n",
    "\n",
    "\n",
    "    #write out detrended light curve\n",
    "    if mission==\"TESS\":\n",
    "        path_dflcn = f\"{download_dir}/{tstamp}_{input_target.TIC}_{sector}_altai_{i}.fits\"\n",
    "    elif mission==\"Kepler\":\n",
    "        name = input_target.hostname.replace(\" \",\"_\").replace(\"-\",\"_\")\n",
    "        path_dflcn = f\"{download_dir}/{tstamp}_{input_target.hostname}_{sector}_altai_{i}.fits\"\n",
    "        \n",
    "    write_flc_to_file(dflcn, flc, path_dflcn)\n",
    "    print(f\"Wrote out LC to {path_dflcn}.\")\n",
    "\n",
    "#     %matplotlib inline\n",
    "#     plt.figure(figsize=(16,5))\n",
    "    # plt.plot(flc.time, flc.flux)\n",
    "    # plt.plot(dflcn.time.value, dflcn.detrended_flux.value/,c=\"orange\")\n",
    "#     plt.plot(flc.time.value, flc.pdcsap_flux.value/np.median(flc.pdcsap_flux.value),c=\"r\")\n",
    "#     plt.scatter(dflcn.time.value, dflcn.phase.value/10+1,c=\"k\",zorder=10,s=.3)\n",
    "#     plt.title(f\"{mission} Sector/Quarter {sector}, TIC {input_target.TIC}, {input_target.hostname}, {cadence} cadence.\")\n",
    "    # plt.plot(flc.time.value, flc.flux.value,c=\"k\")\n",
    "    # x=25\n",
    "    # plt.xlim(2412,2414)\n",
    "    # plt.ylim(0.99,1.3)\n",
    "    return ff.shape[0]\n",
    "\n",
    "def get_table_of_light_curves(input_target):\n",
    "\n",
    "    try:\n",
    "        lcs  = search_lightcurvefile(input_target.hostname)   \n",
    "        conditions = (lcs.exptime.value < 130) & (lcs.author != \"TASOC\")\n",
    "        lcs_sel = lcs[conditions]\n",
    "    except KeyError:\n",
    "        try:\n",
    "            lcs  = search_lightcurvefile(f\"TIC {input_target.TIC}\")\n",
    "            conditions = (lcs.exptime.value < 130) & (lcs.author != \"TASOC\")\n",
    "            lcs_sel = lcs[conditions]\n",
    "        except KeyError:\n",
    "            write_no_lc(input_target)\n",
    "            return\n",
    "    if len(lcs)==0:\n",
    "        write_no_lc(input_target)\n",
    "        return\n",
    "   \n",
    "    \n",
    "    lcs_sel = lcs_sel.table.to_pandas().sort_values(by=\"t_exptime\")\n",
    "    lcs_sel_tess = lcs_sel.loc[lcs_sel.mission.str[:4]==\"TESS\",:].drop_duplicates(subset=[\"mission\"],keep=\"first\")\n",
    "    lcs_sel_kepler = lcs_sel[lcs_sel.mission.str[:6]==\"Kepler\"].drop_duplicates(subset=[\"mission\"])\n",
    "\n",
    "    lcs_sel = pd.concat([lcs_sel_kepler,lcs_sel_tess])\n",
    "   \n",
    "    return lcs_sel"
   ]
  },
  {
   "cell_type": "code",
   "execution_count": 3,
   "metadata": {},
   "outputs": [
    {
     "name": "stdout",
     "output_type": "stream",
     "text": [
      "-----------------------------------------\n",
      "[UP] Using compiled input catalog from ../data/2022_07_27_input_catalog_star_planet_systems.csv\n",
      "-----------------------------------------\n"
     ]
    }
   ],
   "source": [
    "# Composite Table of confirmed exoplanets\n",
    "path = \"../data/2022_07_27_input_catalog_star_planet_systems.csv\"\n",
    "\n",
    "mprint(f\"[UP] Using compiled input catalog from {path}\")\n",
    "\n",
    "input_catalog = pd.read_csv(path) "
   ]
  },
  {
   "cell_type": "code",
   "execution_count": 4,
   "metadata": {},
   "outputs": [
    {
     "data": {
      "text/plain": [
       "0"
      ]
     },
     "execution_count": 4,
     "metadata": {},
     "output_type": "execute_result"
    }
   ],
   "source": [
    "lcs_sel=pd.DataFrame()\n",
    "lcs_sel.shape[0]"
   ]
  },
  {
   "cell_type": "code",
   "execution_count": 8,
   "metadata": {},
   "outputs": [
    {
     "data": {
      "text/html": [
       "<div>\n",
       "<style scoped>\n",
       "    .dataframe tbody tr th:only-of-type {\n",
       "        vertical-align: middle;\n",
       "    }\n",
       "\n",
       "    .dataframe tbody tr th {\n",
       "        vertical-align: top;\n",
       "    }\n",
       "\n",
       "    .dataframe thead th {\n",
       "        text-align: right;\n",
       "    }\n",
       "</style>\n",
       "<table border=\"1\" class=\"dataframe\">\n",
       "  <thead>\n",
       "    <tr style=\"text-align: right;\">\n",
       "      <th></th>\n",
       "      <th>TIC</th>\n",
       "      <th>hostname</th>\n",
       "      <th>pl_name</th>\n",
       "      <th>sy_pnum</th>\n",
       "      <th>sy_snum</th>\n",
       "      <th>pl_orbper</th>\n",
       "      <th>pl_orbpererr1</th>\n",
       "      <th>pl_orbpererr2</th>\n",
       "      <th>pl_tranmid</th>\n",
       "      <th>pl_tranmiderr1</th>\n",
       "      <th>pl_tranmiderr2</th>\n",
       "      <th>pl_orbper_tess</th>\n",
       "      <th>pl_orbpererr1_tess</th>\n",
       "      <th>pl_orbpererr2_tess</th>\n",
       "      <th>pl_tranmid_tess</th>\n",
       "      <th>pl_tranmiderr1_tess</th>\n",
       "      <th>pl_tranmiderr2_tess</th>\n",
       "      <th>obrparams_tess</th>\n",
       "    </tr>\n",
       "  </thead>\n",
       "  <tbody>\n",
       "    <tr>\n",
       "      <th>2426</th>\n",
       "      <td>38846515</td>\n",
       "      <td>WASP-100</td>\n",
       "      <td>WASP-100 b</td>\n",
       "      <td>1.0</td>\n",
       "      <td>2.0</td>\n",
       "      <td>2.84938</td>\n",
       "      <td>0.000008</td>\n",
       "      <td>-0.000008</td>\n",
       "      <td>2.458501e+06</td>\n",
       "      <td>0.00012</td>\n",
       "      <td>-0.00012</td>\n",
       "      <td>2.849382</td>\n",
       "      <td>0.000004</td>\n",
       "      <td>-0.000004</td>\n",
       "      <td>2.459387e+06</td>\n",
       "      <td>0.000487</td>\n",
       "      <td>-0.000487</td>\n",
       "      <td>0</td>\n",
       "    </tr>\n",
       "  </tbody>\n",
       "</table>\n",
       "</div>"
      ],
      "text/plain": [
       "           TIC  hostname     pl_name  sy_pnum  sy_snum  pl_orbper  \\\n",
       "2426  38846515  WASP-100  WASP-100 b      1.0      2.0    2.84938   \n",
       "\n",
       "      pl_orbpererr1  pl_orbpererr2    pl_tranmid  pl_tranmiderr1  \\\n",
       "2426       0.000008      -0.000008  2.458501e+06         0.00012   \n",
       "\n",
       "      pl_tranmiderr2  pl_orbper_tess  pl_orbpererr1_tess  pl_orbpererr2_tess  \\\n",
       "2426        -0.00012        2.849382            0.000004           -0.000004   \n",
       "\n",
       "      pl_tranmid_tess  pl_tranmiderr1_tess  pl_tranmiderr2_tess  \\\n",
       "2426     2.459387e+06             0.000487            -0.000487   \n",
       "\n",
       "      obrparams_tess  \n",
       "2426               0  "
      ]
     },
     "execution_count": 8,
     "metadata": {},
     "output_type": "execute_result"
    }
   ],
   "source": [
    "input_catalog[input_catalog.hostname == \"WASP-100\"]\n"
   ]
  },
  {
   "cell_type": "code",
   "execution_count": 9,
   "metadata": {
    "scrolled": false
   },
   "outputs": [],
   "source": [
    "count = 2427\n",
    "#Kepler-24 is the next one in line!"
   ]
  },
  {
   "cell_type": "code",
   "execution_count": null,
   "metadata": {
    "scrolled": true
   },
   "outputs": [
    {
     "name": "stdout",
     "output_type": "stream",
     "text": [
      "(0, 0)\n"
     ]
    },
    {
     "name": "stderr",
     "output_type": "stream",
     "text": [
      "/home/ekaterina/Documents/000_envs/python37/lib/python3.7/site-packages/ipykernel_launcher.py:88: LightkurveDeprecationWarning: The search_lightcurvefile function is deprecated and may be removed in a future version.\n",
      "        Use search_lightcurve() instead.\n"
     ]
    },
    {
     "name": "stdout",
     "output_type": "stream",
     "text": [
      "Get TESS Sector/Quarter 42, TIC 388801714, K2-210, short cadence.\n"
     ]
    },
    {
     "name": "stderr",
     "output_type": "stream",
     "text": [
      "/home/ekaterina/Documents/000_envs/python37/lib/python3.7/site-packages/lightkurve/io/tess.py:34: ResourceWarning: unclosed file <_io.FileIO name='/home/ekaterina/Documents/001_science/lcs/mastDownload/TESS/tess2021232031932-s0042-0000000388801714-0213-s/tess2021232031932-s0042-0000000388801714-0213-s_lc.fits' mode='rb' closefd=True>\n",
      "  lc = read_generic_lightcurve(filename, flux_column=flux_column, time_format=\"btjd\")\n",
      "2% (307/17674) of the cadences will be ignored due to the quality mask (quality_bitmask=175).\n",
      "2% (307/17674) of the cadences will be ignored due to the quality mask (quality_bitmask=175).\n"
     ]
    },
    {
     "name": "stdout",
     "output_type": "stream",
     "text": [
      "date: 2022_08_02\n",
      "LC successfully detrended.\n"
     ]
    },
    {
     "name": "stderr",
     "output_type": "stream",
     "text": [
      "/home/ekaterina/Documents/000_envs/python37/lib/python3.7/site-packages/numpy/lib/nanfunctions.py:1117: RuntimeWarning: Mean of empty slice\n",
      "  return np.nanmean(a, axis, out=out, keepdims=keepdims)\n",
      "Found 0 candidate(s) in the (0,5601) gap.\n",
      "Found 0 candidate(s) in the (5601,12976) gap.\n"
     ]
    },
    {
     "name": "stdout",
     "output_type": "stream",
     "text": [
      "Transit midtime in TESS time: 465.8038200000301\n",
      "No flares found in LC.\n",
      "Wrote out LC to /home/ekaterina/Documents/001_science/lcs/2022_08_02_388801714_42_altai_0.fits.\n",
      "Get TESS Sector/Quarter 43, TIC 388801714, K2-210, short cadence.\n"
     ]
    },
    {
     "name": "stderr",
     "output_type": "stream",
     "text": [
      "/home/ekaterina/Documents/000_envs/python37/lib/python3.7/site-packages/lightkurve/io/tess.py:34: ResourceWarning: unclosed file <_io.FileIO name='/home/ekaterina/Documents/001_science/lcs/mastDownload/TESS/tess2021258175143-s0043-0000000388801714-0214-s/tess2021258175143-s0043-0000000388801714-0214-s_lc.fits' mode='rb' closefd=True>\n",
      "  lc = read_generic_lightcurve(filename, flux_column=flux_column, time_format=\"btjd\")\n",
      "0% (33/17050) of the cadences will be ignored due to the quality mask (quality_bitmask=175).\n",
      "0% (33/17050) of the cadences will be ignored due to the quality mask (quality_bitmask=175).\n"
     ]
    },
    {
     "name": "stdout",
     "output_type": "stream",
     "text": [
      "date: 2022_08_02\n",
      "LC successfully detrended.\n"
     ]
    },
    {
     "name": "stderr",
     "output_type": "stream",
     "text": [
      "/home/ekaterina/Documents/000_envs/python37/lib/python3.7/site-packages/numpy/lib/nanfunctions.py:1117: RuntimeWarning: Mean of empty slice\n",
      "  return np.nanmean(a, axis, out=out, keepdims=keepdims)\n",
      "Found 0 candidate(s) in the (0,5728) gap.\n",
      "Found 0 candidate(s) in the (5728,6023) gap.\n",
      "Found 0 candidate(s) in the (6023,14048) gap.\n",
      "/home/ekaterina/Documents/000_envs/python37/lib/python3.7/site-packages/ipykernel_launcher.py:88: LightkurveDeprecationWarning: The search_lightcurvefile function is deprecated and may be removed in a future version.\n",
      "        Use search_lightcurve() instead.\n"
     ]
    },
    {
     "name": "stdout",
     "output_type": "stream",
     "text": [
      "Transit midtime in TESS time: 465.8038200000301\n",
      "No flares found in LC.\n",
      "Wrote out LC to /home/ekaterina/Documents/001_science/lcs/2022_08_02_388801714_43_altai_0.fits.\n",
      "\n",
      "---------------------\n",
      "0 flares found!\n",
      "-------------------\n",
      "\n",
      "(0, 0)\n",
      "Get TESS Sector/Quarter 45, TIC 388804061, K2-18, short cadence.\n"
     ]
    },
    {
     "name": "stderr",
     "output_type": "stream",
     "text": [
      "/home/ekaterina/Documents/000_envs/python37/lib/python3.7/site-packages/lightkurve/io/tess.py:34: ResourceWarning: unclosed file <_io.FileIO name='/home/ekaterina/Documents/001_science/lcs/mastDownload/TESS/tess2021310001228-s0045-0000000388804061-0216-s/tess2021310001228-s0045-0000000388804061-0216-s_lc.fits' mode='rb' closefd=True>\n",
      "  lc = read_generic_lightcurve(filename, flux_column=flux_column, time_format=\"btjd\")\n",
      "1% (186/17256) of the cadences will be ignored due to the quality mask (quality_bitmask=175).\n",
      "1% (186/17256) of the cadences will be ignored due to the quality mask (quality_bitmask=175).\n"
     ]
    },
    {
     "name": "stdout",
     "output_type": "stream",
     "text": [
      "date: 2022_08_02\n",
      "LC successfully detrended.\n"
     ]
    },
    {
     "name": "stderr",
     "output_type": "stream",
     "text": [
      "/home/ekaterina/Documents/000_envs/python37/lib/python3.7/site-packages/numpy/lib/nanfunctions.py:1117: RuntimeWarning: Mean of empty slice\n",
      "  return np.nanmean(a, axis, out=out, keepdims=keepdims)\n",
      "Found 0 candidate(s) in the (0,8254) gap.\n",
      "Found 0 candidate(s) in the (8254,16233) gap.\n"
     ]
    },
    {
     "name": "stdout",
     "output_type": "stream",
     "text": [
      "Transit midtime in TESS time: 2537.2496240003966\n",
      "No flares found in LC.\n",
      "Wrote out LC to /home/ekaterina/Documents/001_science/lcs/2022_08_02_388804061_45_altai_0.fits.\n",
      "Get TESS Sector/Quarter 46, TIC 388804061, K2-18, short cadence.\n"
     ]
    },
    {
     "name": "stderr",
     "output_type": "stream",
     "text": [
      "/home/ekaterina/Documents/000_envs/python37/lib/python3.7/site-packages/lightkurve/io/tess.py:34: ResourceWarning: unclosed file <_io.FileIO name='/home/ekaterina/Documents/001_science/lcs/mastDownload/TESS/tess2021336043614-s0046-0000000388804061-0217-s/tess2021336043614-s0046-0000000388804061-0217-s_lc.fits' mode='rb' closefd=True>\n",
      "  lc = read_generic_lightcurve(filename, flux_column=flux_column, time_format=\"btjd\")\n",
      "2% (387/18539) of the cadences will be ignored due to the quality mask (quality_bitmask=175).\n",
      "2% (387/18539) of the cadences will be ignored due to the quality mask (quality_bitmask=175).\n"
     ]
    },
    {
     "name": "stdout",
     "output_type": "stream",
     "text": [
      "date: 2022_08_02\n",
      "LC successfully detrended.\n"
     ]
    },
    {
     "name": "stderr",
     "output_type": "stream",
     "text": [
      "/home/ekaterina/Documents/000_envs/python37/lib/python3.7/site-packages/numpy/lib/nanfunctions.py:1117: RuntimeWarning: Mean of empty slice\n",
      "  return np.nanmean(a, axis, out=out, keepdims=keepdims)\n",
      "Found 0 candidate(s) in the (0,8354) gap.\n",
      "Found 0 candidate(s) in the (8354,16972) gap.\n",
      "/home/ekaterina/Documents/000_envs/python37/lib/python3.7/site-packages/ipykernel_launcher.py:88: LightkurveDeprecationWarning: The search_lightcurvefile function is deprecated and may be removed in a future version.\n",
      "        Use search_lightcurve() instead.\n"
     ]
    },
    {
     "name": "stdout",
     "output_type": "stream",
     "text": [
      "Transit midtime in TESS time: 2537.2496240003966\n",
      "No flares found in LC.\n",
      "Wrote out LC to /home/ekaterina/Documents/001_science/lcs/2022_08_02_388804061_46_altai_0.fits.\n",
      "\n",
      "---------------------\n",
      "0 flares found!\n",
      "-------------------\n",
      "\n",
      "(0, 0)\n",
      "Get TESS Sector/Quarter 42, TIC 388811663, K2-212, short cadence.\n"
     ]
    },
    {
     "name": "stderr",
     "output_type": "stream",
     "text": [
      "/home/ekaterina/Documents/000_envs/python37/lib/python3.7/site-packages/lightkurve/io/tess.py:34: ResourceWarning: unclosed file <_io.FileIO name='/home/ekaterina/Documents/001_science/lcs/mastDownload/TESS/tess2021232031932-s0042-0000000388811663-0213-s/tess2021232031932-s0042-0000000388811663-0213-s_lc.fits' mode='rb' closefd=True>\n",
      "  lc = read_generic_lightcurve(filename, flux_column=flux_column, time_format=\"btjd\")\n",
      "2% (307/17674) of the cadences will be ignored due to the quality mask (quality_bitmask=175).\n",
      "2% (307/17674) of the cadences will be ignored due to the quality mask (quality_bitmask=175).\n"
     ]
    },
    {
     "name": "stdout",
     "output_type": "stream",
     "text": [
      "date: 2022_08_02\n",
      "LC successfully detrended.\n"
     ]
    },
    {
     "name": "stderr",
     "output_type": "stream",
     "text": [
      "/home/ekaterina/Documents/000_envs/python37/lib/python3.7/site-packages/numpy/lib/nanfunctions.py:1117: RuntimeWarning: Mean of empty slice\n",
      "  return np.nanmean(a, axis, out=out, keepdims=keepdims)\n",
      "Found 0 candidate(s) in the (0,5609) gap.\n",
      "Found 0 candidate(s) in the (5609,13027) gap.\n"
     ]
    },
    {
     "name": "stdout",
     "output_type": "stream",
     "text": [
      "Transit midtime in TESS time: 2495.5644490001723\n",
      "No flares found in LC.\n",
      "Wrote out LC to /home/ekaterina/Documents/001_science/lcs/2022_08_02_388811663_42_altai_0.fits.\n",
      "Get TESS Sector/Quarter 43, TIC 388811663, K2-212, short cadence.\n"
     ]
    },
    {
     "name": "stderr",
     "output_type": "stream",
     "text": [
      "/home/ekaterina/Documents/000_envs/python37/lib/python3.7/site-packages/lightkurve/io/tess.py:34: ResourceWarning: unclosed file <_io.FileIO name='/home/ekaterina/Documents/001_science/lcs/mastDownload/TESS/tess2021258175143-s0043-0000000388811663-0214-s/tess2021258175143-s0043-0000000388811663-0214-s_lc.fits' mode='rb' closefd=True>\n",
      "  lc = read_generic_lightcurve(filename, flux_column=flux_column, time_format=\"btjd\")\n",
      "0% (33/17050) of the cadences will be ignored due to the quality mask (quality_bitmask=175).\n",
      "0% (33/17050) of the cadences will be ignored due to the quality mask (quality_bitmask=175).\n"
     ]
    },
    {
     "name": "stdout",
     "output_type": "stream",
     "text": [
      "date: 2022_08_02\n",
      "LC successfully detrended.\n"
     ]
    },
    {
     "name": "stderr",
     "output_type": "stream",
     "text": [
      "/home/ekaterina/Documents/000_envs/python37/lib/python3.7/site-packages/numpy/lib/nanfunctions.py:1117: RuntimeWarning: Mean of empty slice\n",
      "  return np.nanmean(a, axis, out=out, keepdims=keepdims)\n",
      "Found 0 candidate(s) in the (0,5728) gap.\n",
      "Found 0 candidate(s) in the (5728,13753) gap.\n",
      "/home/ekaterina/Documents/000_envs/python37/lib/python3.7/site-packages/ipykernel_launcher.py:88: LightkurveDeprecationWarning: The search_lightcurvefile function is deprecated and may be removed in a future version.\n",
      "        Use search_lightcurve() instead.\n"
     ]
    },
    {
     "name": "stdout",
     "output_type": "stream",
     "text": [
      "Transit midtime in TESS time: 2495.5644490001723\n",
      "No flares found in LC.\n",
      "Wrote out LC to /home/ekaterina/Documents/001_science/lcs/2022_08_02_388811663_43_altai_0.fits.\n",
      "\n",
      "---------------------\n",
      "0 flares found!\n",
      "-------------------\n",
      "\n",
      "(0, 0)\n",
      "Get TESS Sector/Quarter 27, TIC 389352124, WASP-7, fast cadence.\n"
     ]
    },
    {
     "name": "stderr",
     "output_type": "stream",
     "text": [
      "/home/ekaterina/Documents/000_envs/python37/lib/python3.7/site-packages/lightkurve/io/tess.py:34: ResourceWarning: unclosed file <_io.FileIO name='/home/ekaterina/Documents/001_science/lcs/mastDownload/TESS/tess2020186164531-s0027-0000000389352124-0189-a_fast/tess2020186164531-s0027-0000000389352124-0189-a_fast-lc.fits' mode='rb' closefd=True>\n",
      "  lc = read_generic_lightcurve(filename, flux_column=flux_column, time_format=\"btjd\")\n",
      "0% (154/100890) of the cadences will be ignored due to the quality mask (quality_bitmask=175).\n",
      "0% (154/100890) of the cadences will be ignored due to the quality mask (quality_bitmask=175).\n"
     ]
    },
    {
     "name": "stdout",
     "output_type": "stream",
     "text": [
      "date: 2022_08_02\n",
      "LC successfully detrended.\n"
     ]
    },
    {
     "name": "stderr",
     "output_type": "stream",
     "text": [
      "/home/ekaterina/Documents/000_envs/python37/lib/python3.7/site-packages/numpy/lib/nanfunctions.py:1117: RuntimeWarning: Mean of empty slice\n",
      "  return np.nanmean(a, axis, out=out, keepdims=keepdims)\n",
      "Found 2 candidate(s) in the (0,51149) gap.\n",
      "Found 1 candidate(s) in the (51149,100736) gap.\n",
      "/home/ekaterina/Documents/000_envs/python37/lib/python3.7/site-packages/ipykernel_launcher.py:88: LightkurveDeprecationWarning: The search_lightcurvefile function is deprecated and may be removed in a future version.\n",
      "        Use search_lightcurve() instead.\n"
     ]
    },
    {
     "name": "stdout",
     "output_type": "stream",
     "text": [
      "Transit midtime in TESS time: 2038.758216000162\n",
      "Flares found:\n",
      "        tstart        tstop     phase  ampl_rec       dur\n",
      "0  2041.882071  2041.882765  0.630491  0.014791  0.000694\n",
      "1  2045.441165  2045.441859  0.348826  0.040381  0.000694\n",
      "2  2055.085918  2055.086612  0.295435  0.025431  0.000694\n",
      "Wrote out LC to /home/ekaterina/Documents/001_science/lcs/2022_08_02_389352124_27_altai_0.fits.\n",
      "\n",
      "---------------------\n",
      "3 flares found!\n",
      "-------------------\n",
      "\n",
      "(0, 0)\n",
      "Get TESS Sector/Quarter 10, TIC 390001646, OGLE-TR-211, short cadence.\n"
     ]
    },
    {
     "name": "stderr",
     "output_type": "stream",
     "text": [
      "/home/ekaterina/Documents/000_envs/python37/lib/python3.7/site-packages/lightkurve/io/tess.py:34: ResourceWarning: unclosed file <_io.FileIO name='/home/ekaterina/Documents/001_science/lcs/mastDownload/TESS/tess2019085135100-s0010-0000000390001646-0140-s/tess2019085135100-s0010-0000000390001646-0140-s_lc.fits' mode='rb' closefd=True>\n",
      "  lc = read_generic_lightcurve(filename, flux_column=flux_column, time_format=\"btjd\")\n",
      "3% (505/18197) of the cadences will be ignored due to the quality mask (quality_bitmask=175).\n",
      "3% (505/18197) of the cadences will be ignored due to the quality mask (quality_bitmask=175).\n"
     ]
    },
    {
     "name": "stdout",
     "output_type": "stream",
     "text": [
      "date: 2022_08_02\n",
      "LC successfully detrended.\n"
     ]
    },
    {
     "name": "stderr",
     "output_type": "stream",
     "text": [
      "/home/ekaterina/Documents/000_envs/python37/lib/python3.7/site-packages/numpy/lib/nanfunctions.py:1117: RuntimeWarning: Mean of empty slice\n",
      "  return np.nanmean(a, axis, out=out, keepdims=keepdims)\n",
      "Found 0 candidate(s) in the (0,8117) gap.\n",
      "Found 0 candidate(s) in the (8117,16371) gap.\n"
     ]
    },
    {
     "name": "stdout",
     "output_type": "stream",
     "text": [
      "Transit midtime in TESS time: -3571.6659999997355\n",
      "No flares found in LC.\n",
      "Wrote out LC to /home/ekaterina/Documents/001_science/lcs/2022_08_02_390001646_10_altai_0.fits.\n",
      "Get TESS Sector/Quarter 11, TIC 390001646, OGLE-TR-211, short cadence.\n"
     ]
    },
    {
     "name": "stderr",
     "output_type": "stream",
     "text": [
      "/home/ekaterina/Documents/000_envs/python37/lib/python3.7/site-packages/lightkurve/io/tess.py:34: ResourceWarning: unclosed file <_io.FileIO name='/home/ekaterina/Documents/001_science/lcs/mastDownload/TESS/tess2019112060037-s0011-0000000390001646-0143-s/tess2019112060037-s0011-0000000390001646-0143-s_lc.fits' mode='rb' closefd=True>\n",
      "  lc = read_generic_lightcurve(filename, flux_column=flux_column, time_format=\"btjd\")\n",
      "3% (562/18749) of the cadences will be ignored due to the quality mask (quality_bitmask=175).\n",
      "3% (562/18749) of the cadences will be ignored due to the quality mask (quality_bitmask=175).\n"
     ]
    },
    {
     "name": "stdout",
     "output_type": "stream",
     "text": [
      "date: 2022_08_02\n",
      "LC successfully detrended.\n"
     ]
    },
    {
     "name": "stderr",
     "output_type": "stream",
     "text": [
      "/home/ekaterina/Documents/000_envs/python37/lib/python3.7/site-packages/numpy/lib/nanfunctions.py:1117: RuntimeWarning: Mean of empty slice\n",
      "  return np.nanmean(a, axis, out=out, keepdims=keepdims)\n",
      "Found 0 candidate(s) in the (0,8234) gap.\n",
      "Found 0 candidate(s) in the (8234,16691) gap.\n",
      "/home/ekaterina/Documents/000_envs/python37/lib/python3.7/site-packages/ipykernel_launcher.py:88: LightkurveDeprecationWarning: The search_lightcurvefile function is deprecated and may be removed in a future version.\n",
      "        Use search_lightcurve() instead.\n"
     ]
    },
    {
     "name": "stdout",
     "output_type": "stream",
     "text": [
      "Transit midtime in TESS time: -3571.6659999997355\n",
      "No flares found in LC.\n",
      "Wrote out LC to /home/ekaterina/Documents/001_science/lcs/2022_08_02_390001646_11_altai_0.fits.\n",
      "\n",
      "---------------------\n",
      "0 flares found!\n",
      "-------------------\n",
      "\n",
      "(0, 0)\n",
      "Get TESS Sector/Quarter 23, TIC 390651552, GJ 486, short cadence.\n"
     ]
    },
    {
     "name": "stderr",
     "output_type": "stream",
     "text": [
      "/home/ekaterina/Documents/000_envs/python37/lib/python3.7/site-packages/lightkurve/io/tess.py:34: ResourceWarning: unclosed file <_io.FileIO name='/home/ekaterina/Documents/001_science/lcs/mastDownload/TESS/tess2020078014623-s0023-0000000390651552-0177-s/tess2020078014623-s0023-0000000390651552-0177-s_lc.fits' mode='rb' closefd=True>\n",
      "  lc = read_generic_lightcurve(filename, flux_column=flux_column, time_format=\"btjd\")\n",
      "6% (1053/18588) of the cadences will be ignored due to the quality mask (quality_bitmask=175).\n",
      "6% (1053/18588) of the cadences will be ignored due to the quality mask (quality_bitmask=175).\n"
     ]
    },
    {
     "name": "stdout",
     "output_type": "stream",
     "text": [
      "date: 2022_08_02\n",
      "LC successfully detrended.\n"
     ]
    },
    {
     "name": "stderr",
     "output_type": "stream",
     "text": [
      "/home/ekaterina/Documents/000_envs/python37/lib/python3.7/site-packages/numpy/lib/nanfunctions.py:1117: RuntimeWarning: Mean of empty slice\n",
      "  return np.nanmean(a, axis, out=out, keepdims=keepdims)\n",
      "Found 0 candidate(s) in the (0,6966) gap.\n",
      "Found 0 candidate(s) in the (6966,13167) gap.\n"
     ]
    },
    {
     "name": "stdout",
     "output_type": "stream",
     "text": [
      "Transit midtime in TESS time: 2691.1493370002136\n",
      "No flares found in LC.\n",
      "Wrote out LC to /home/ekaterina/Documents/001_science/lcs/2022_08_02_390651552_23_altai_0.fits.\n",
      "Get TESS Sector/Quarter 50, TIC 390651552, GJ 486, short cadence.\n"
     ]
    },
    {
     "name": "stderr",
     "output_type": "stream",
     "text": [
      "/home/ekaterina/Documents/000_envs/python37/lib/python3.7/site-packages/lightkurve/io/tess.py:34: ResourceWarning: unclosed file <_io.FileIO name='/home/ekaterina/Documents/001_science/lcs/mastDownload/TESS/tess2022085151738-s0050-0000000390651552-0222-s/tess2022085151738-s0050-0000000390651552-0222-s_lc.fits' mode='rb' closefd=True>\n",
      "  lc = read_generic_lightcurve(filename, flux_column=flux_column, time_format=\"btjd\")\n",
      "5% (935/18126) of the cadences will be ignored due to the quality mask (quality_bitmask=175).\n",
      "5% (935/18126) of the cadences will be ignored due to the quality mask (quality_bitmask=175).\n"
     ]
    },
    {
     "name": "stdout",
     "output_type": "stream",
     "text": [
      "date: 2022_08_02\n",
      "LC successfully detrended.\n"
     ]
    },
    {
     "name": "stderr",
     "output_type": "stream",
     "text": [
      "/home/ekaterina/Documents/000_envs/python37/lib/python3.7/site-packages/numpy/lib/nanfunctions.py:1117: RuntimeWarning: Mean of empty slice\n",
      "  return np.nanmean(a, axis, out=out, keepdims=keepdims)\n",
      "Found 0 candidate(s) in the (0,361) gap.\n",
      "Found 0 candidate(s) in the (361,1980) gap.\n",
      "Found 0 candidate(s) in the (1980,6283) gap.\n",
      "Found 0 candidate(s) in the (6283,10822) gap.\n",
      "/home/ekaterina/Documents/000_envs/python37/lib/python3.7/site-packages/ipykernel_launcher.py:88: LightkurveDeprecationWarning: The search_lightcurvefile function is deprecated and may be removed in a future version.\n",
      "        Use search_lightcurve() instead.\n"
     ]
    },
    {
     "name": "stdout",
     "output_type": "stream",
     "text": [
      "Transit midtime in TESS time: 2691.1493370002136\n",
      "No flares found in LC.\n",
      "Wrote out LC to /home/ekaterina/Documents/001_science/lcs/2022_08_02_390651552_50_altai_0.fits.\n",
      "\n",
      "---------------------\n",
      "0 flares found!\n",
      "-------------------\n",
      "\n",
      "(0, 0)\n"
     ]
    },
    {
     "name": "stderr",
     "output_type": "stream",
     "text": [
      "No data found for target \"CoRoT-8\".\n",
      "No data found for target \"CoRoT-8\".\n",
      "/home/ekaterina/Documents/000_envs/python37/lib/python3.7/site-packages/ipykernel_launcher.py:93: LightkurveDeprecationWarning: The search_lightcurvefile function is deprecated and may be removed in a future version.\n",
      "        Use search_lightcurve() instead.\n",
      "No data found for target \"TIC 391880567\".\n",
      "No data found for target \"TIC 391880567\".\n",
      "/home/ekaterina/Documents/000_envs/python37/lib/python3.7/site-packages/ipykernel_launcher.py:88: LightkurveDeprecationWarning: The search_lightcurvefile function is deprecated and may be removed in a future version.\n",
      "        Use search_lightcurve() instead.\n",
      "No data found for target \"CoRoT-2\".\n",
      "No data found for target \"CoRoT-2\".\n",
      "/home/ekaterina/Documents/000_envs/python37/lib/python3.7/site-packages/ipykernel_launcher.py:93: LightkurveDeprecationWarning: The search_lightcurvefile function is deprecated and may be removed in a future version.\n",
      "        Use search_lightcurve() instead.\n",
      "No data found for target \"TIC 391958006\".\n",
      "No data found for target \"TIC 391958006\".\n",
      "/home/ekaterina/Documents/000_envs/python37/lib/python3.7/site-packages/ipykernel_launcher.py:88: LightkurveDeprecationWarning: The search_lightcurvefile function is deprecated and may be removed in a future version.\n",
      "        Use search_lightcurve() instead.\n",
      "No data found for target \"CoRoT-3\".\n",
      "No data found for target \"CoRoT-3\".\n",
      "/home/ekaterina/Documents/000_envs/python37/lib/python3.7/site-packages/ipykernel_launcher.py:93: LightkurveDeprecationWarning: The search_lightcurvefile function is deprecated and may be removed in a future version.\n",
      "        Use search_lightcurve() instead.\n",
      "No data found for target \"TIC 392353449\".\n",
      "No data found for target \"TIC 392353449\".\n",
      "/home/ekaterina/Documents/000_envs/python37/lib/python3.7/site-packages/ipykernel_launcher.py:88: LightkurveDeprecationWarning: The search_lightcurvefile function is deprecated and may be removed in a future version.\n",
      "        Use search_lightcurve() instead.\n",
      "/home/ekaterina/Documents/000_envs/python37/lib/python3.7/site-packages/ipykernel_launcher.py:88: LightkurveDeprecationWarning: The search_lightcurvefile function is deprecated and may be removed in a future version.\n",
      "        Use search_lightcurve() instead.\n"
     ]
    },
    {
     "name": "stdout",
     "output_type": "stream",
     "text": [
      "Get TESS Sector/Quarter 52, TIC 392476080, TOI-2109, short cadence.\n"
     ]
    },
    {
     "name": "stderr",
     "output_type": "stream",
     "text": [
      "/home/ekaterina/Documents/000_envs/python37/lib/python3.7/site-packages/lightkurve/io/tess.py:34: ResourceWarning: unclosed file <_io.FileIO name='/home/ekaterina/Documents/001_science/lcs/mastDownload/TESS/tess2022138205153-s0052-0000000392476080-0224-s/tess2022138205153-s0052-0000000392476080-0224-s_lc.fits' mode='rb' closefd=True>\n",
      "  lc = read_generic_lightcurve(filename, flux_column=flux_column, time_format=\"btjd\")\n",
      "0% (30/16779) of the cadences will be ignored due to the quality mask (quality_bitmask=175).\n",
      "0% (30/16779) of the cadences will be ignored due to the quality mask (quality_bitmask=175).\n"
     ]
    },
    {
     "name": "stdout",
     "output_type": "stream",
     "text": [
      "date: 2022_08_02\n",
      "LC successfully detrended.\n"
     ]
    },
    {
     "name": "stderr",
     "output_type": "stream",
     "text": [
      "/home/ekaterina/Documents/000_envs/python37/lib/python3.7/site-packages/numpy/lib/nanfunctions.py:1117: RuntimeWarning: Mean of empty slice\n",
      "  return np.nanmean(a, axis, out=out, keepdims=keepdims)\n",
      "Found 0 candidate(s) in the (0,1337) gap.\n",
      "Found 0 candidate(s) in the (1337,5294) gap.\n",
      "Found 0 candidate(s) in the (5294,6776) gap.\n",
      "Found 0 candidate(s) in the (6776,10844) gap.\n",
      "/home/ekaterina/Documents/000_envs/python37/lib/python3.7/site-packages/ipykernel_launcher.py:88: LightkurveDeprecationWarning: The search_lightcurvefile function is deprecated and may be removed in a future version.\n",
      "        Use search_lightcurve() instead.\n"
     ]
    },
    {
     "name": "stdout",
     "output_type": "stream",
     "text": [
      "Transit midtime in TESS time: 1984.388879999984\n",
      "No flares found in LC.\n",
      "Wrote out LC to /home/ekaterina/Documents/001_science/lcs/2022_08_02_392476080_52_altai_0.fits.\n",
      "\n",
      "---------------------\n",
      "0 flares found!\n",
      "-------------------\n",
      "\n",
      "(0, 0)\n"
     ]
    },
    {
     "name": "stderr",
     "output_type": "stream",
     "text": [
      "Could not resolve K2-324 to a sky position.\n",
      "Could not resolve K2-324 to a sky position.\n",
      "/home/ekaterina/Documents/000_envs/python37/lib/python3.7/site-packages/ipykernel_launcher.py:93: LightkurveDeprecationWarning: The search_lightcurvefile function is deprecated and may be removed in a future version.\n",
      "        Use search_lightcurve() instead.\n"
     ]
    },
    {
     "name": "stdout",
     "output_type": "stream",
     "text": [
      "Get TESS Sector/Quarter 45, TIC 392817207, K2-324, short cadence.\n"
     ]
    },
    {
     "name": "stderr",
     "output_type": "stream",
     "text": [
      "/home/ekaterina/Documents/000_envs/python37/lib/python3.7/site-packages/lightkurve/io/tess.py:34: ResourceWarning: unclosed file <_io.FileIO name='/home/ekaterina/Documents/001_science/lcs/mastDownload/TESS/tess2021310001228-s0045-0000000392817207-0216-s/tess2021310001228-s0045-0000000392817207-0216-s_lc.fits' mode='rb' closefd=True>\n",
      "  lc = read_generic_lightcurve(filename, flux_column=flux_column, time_format=\"btjd\")\n",
      "1% (186/17256) of the cadences will be ignored due to the quality mask (quality_bitmask=175).\n",
      "1% (186/17256) of the cadences will be ignored due to the quality mask (quality_bitmask=175).\n"
     ]
    },
    {
     "name": "stdout",
     "output_type": "stream",
     "text": [
      "date: 2022_08_02\n",
      "LC successfully detrended.\n"
     ]
    },
    {
     "name": "stderr",
     "output_type": "stream",
     "text": [
      "/home/ekaterina/Documents/000_envs/python37/lib/python3.7/site-packages/numpy/lib/nanfunctions.py:1117: RuntimeWarning: Mean of empty slice\n",
      "  return np.nanmean(a, axis, out=out, keepdims=keepdims)\n",
      "Found 0 candidate(s) in the (0,8024) gap.\n",
      "Found 0 candidate(s) in the (8024,15729) gap.\n"
     ]
    },
    {
     "name": "stdout",
     "output_type": "stream",
     "text": [
      "Transit midtime in TESS time: 909.1460000001825\n",
      "No flares found in LC.\n",
      "Wrote out LC to /home/ekaterina/Documents/001_science/lcs/2022_08_02_392817207_45_altai_0.fits.\n",
      "Get TESS Sector/Quarter 46, TIC 392817207, K2-324, short cadence.\n"
     ]
    },
    {
     "name": "stderr",
     "output_type": "stream",
     "text": [
      "/home/ekaterina/Documents/000_envs/python37/lib/python3.7/site-packages/lightkurve/io/tess.py:34: ResourceWarning: unclosed file <_io.FileIO name='/home/ekaterina/Documents/001_science/lcs/mastDownload/TESS/tess2021336043614-s0046-0000000392817207-0217-s/tess2021336043614-s0046-0000000392817207-0217-s_lc.fits' mode='rb' closefd=True>\n",
      "  lc = read_generic_lightcurve(filename, flux_column=flux_column, time_format=\"btjd\")\n",
      "2% (387/18539) of the cadences will be ignored due to the quality mask (quality_bitmask=175).\n",
      "2% (387/18539) of the cadences will be ignored due to the quality mask (quality_bitmask=175).\n"
     ]
    },
    {
     "name": "stdout",
     "output_type": "stream",
     "text": [
      "date: 2022_08_02\n",
      "LC successfully detrended.\n"
     ]
    },
    {
     "name": "stderr",
     "output_type": "stream",
     "text": [
      "/home/ekaterina/Documents/000_envs/python37/lib/python3.7/site-packages/numpy/lib/nanfunctions.py:1117: RuntimeWarning: Mean of empty slice\n",
      "  return np.nanmean(a, axis, out=out, keepdims=keepdims)\n",
      "Found 0 candidate(s) in the (0,8062) gap.\n",
      "Found 0 candidate(s) in the (8062,16341) gap.\n",
      "/home/ekaterina/Documents/000_envs/python37/lib/python3.7/site-packages/ipykernel_launcher.py:88: LightkurveDeprecationWarning: The search_lightcurvefile function is deprecated and may be removed in a future version.\n",
      "        Use search_lightcurve() instead.\n"
     ]
    },
    {
     "name": "stdout",
     "output_type": "stream",
     "text": [
      "Transit midtime in TESS time: 909.1460000001825\n",
      "No flares found in LC.\n",
      "Wrote out LC to /home/ekaterina/Documents/001_science/lcs/2022_08_02_392817207_46_altai_0.fits.\n",
      "\n",
      "---------------------\n",
      "0 flares found!\n",
      "-------------------\n",
      "\n",
      "(0, 0)\n"
     ]
    },
    {
     "name": "stderr",
     "output_type": "stream",
     "text": [
      "Could not resolve K2-323 to a sky position.\n",
      "Could not resolve K2-323 to a sky position.\n",
      "/home/ekaterina/Documents/000_envs/python37/lib/python3.7/site-packages/ipykernel_launcher.py:93: LightkurveDeprecationWarning: The search_lightcurvefile function is deprecated and may be removed in a future version.\n",
      "        Use search_lightcurve() instead.\n"
     ]
    },
    {
     "name": "stdout",
     "output_type": "stream",
     "text": [
      "Get TESS Sector/Quarter 45, TIC 392852196, K2-323, short cadence.\n"
     ]
    },
    {
     "name": "stderr",
     "output_type": "stream",
     "text": [
      "/home/ekaterina/Documents/000_envs/python37/lib/python3.7/site-packages/lightkurve/io/tess.py:34: ResourceWarning: unclosed file <_io.FileIO name='/home/ekaterina/Documents/001_science/lcs/mastDownload/TESS/tess2021310001228-s0045-0000000392852196-0216-s/tess2021310001228-s0045-0000000392852196-0216-s_lc.fits' mode='rb' closefd=True>\n",
      "  lc = read_generic_lightcurve(filename, flux_column=flux_column, time_format=\"btjd\")\n",
      "1% (186/17256) of the cadences will be ignored due to the quality mask (quality_bitmask=175).\n",
      "1% (186/17256) of the cadences will be ignored due to the quality mask (quality_bitmask=175).\n"
     ]
    },
    {
     "name": "stdout",
     "output_type": "stream",
     "text": [
      "date: 2022_08_02\n",
      "LC successfully detrended.\n"
     ]
    },
    {
     "name": "stderr",
     "output_type": "stream",
     "text": [
      "/home/ekaterina/Documents/000_envs/python37/lib/python3.7/site-packages/numpy/lib/nanfunctions.py:1117: RuntimeWarning: Mean of empty slice\n",
      "  return np.nanmean(a, axis, out=out, keepdims=keepdims)\n",
      "Found 0 candidate(s) in the (0,8116) gap.\n",
      "Found 0 candidate(s) in the (8116,15918) gap.\n"
     ]
    },
    {
     "name": "stdout",
     "output_type": "stream",
     "text": [
      "Transit midtime in TESS time: 914.2510000001639\n",
      "No flares found in LC.\n",
      "Wrote out LC to /home/ekaterina/Documents/001_science/lcs/2022_08_02_392852196_45_altai_0.fits.\n",
      "Get TESS Sector/Quarter 46, TIC 392852196, K2-323, short cadence.\n"
     ]
    },
    {
     "name": "stderr",
     "output_type": "stream",
     "text": [
      "/home/ekaterina/Documents/000_envs/python37/lib/python3.7/site-packages/lightkurve/io/tess.py:34: ResourceWarning: unclosed file <_io.FileIO name='/home/ekaterina/Documents/001_science/lcs/mastDownload/TESS/tess2021336043614-s0046-0000000392852196-0217-s/tess2021336043614-s0046-0000000392852196-0217-s_lc.fits' mode='rb' closefd=True>\n",
      "  lc = read_generic_lightcurve(filename, flux_column=flux_column, time_format=\"btjd\")\n",
      "2% (387/18539) of the cadences will be ignored due to the quality mask (quality_bitmask=175).\n",
      "2% (387/18539) of the cadences will be ignored due to the quality mask (quality_bitmask=175).\n"
     ]
    },
    {
     "name": "stdout",
     "output_type": "stream",
     "text": [
      "date: 2022_08_02\n",
      "LC successfully detrended.\n"
     ]
    },
    {
     "name": "stderr",
     "output_type": "stream",
     "text": [
      "/home/ekaterina/Documents/000_envs/python37/lib/python3.7/site-packages/numpy/lib/nanfunctions.py:1117: RuntimeWarning: Mean of empty slice\n",
      "  return np.nanmean(a, axis, out=out, keepdims=keepdims)\n",
      "Found 0 candidate(s) in the (0,7861) gap.\n",
      "Found 0 candidate(s) in the (7861,15961) gap.\n",
      "/home/ekaterina/Documents/000_envs/python37/lib/python3.7/site-packages/ipykernel_launcher.py:88: LightkurveDeprecationWarning: The search_lightcurvefile function is deprecated and may be removed in a future version.\n",
      "        Use search_lightcurve() instead.\n"
     ]
    },
    {
     "name": "stdout",
     "output_type": "stream",
     "text": [
      "Transit midtime in TESS time: 914.2510000001639\n",
      "No flares found in LC.\n",
      "Wrote out LC to /home/ekaterina/Documents/001_science/lcs/2022_08_02_392852196_46_altai_0.fits.\n",
      "\n",
      "---------------------\n",
      "0 flares found!\n",
      "-------------------\n",
      "\n",
      "(0, 0)\n"
     ]
    },
    {
     "name": "stderr",
     "output_type": "stream",
     "text": [
      "/home/ekaterina/Documents/000_envs/python37/lib/python3.7/site-packages/ipykernel_launcher.py:88: LightkurveDeprecationWarning: The search_lightcurvefile function is deprecated and may be removed in a future version.\n",
      "        Use search_lightcurve() instead.\n"
     ]
    },
    {
     "name": "stdout",
     "output_type": "stream",
     "text": [
      "Get TESS Sector/Quarter 32, TIC 393414358, WASP-63, fast cadence.\n"
     ]
    },
    {
     "name": "stderr",
     "output_type": "stream",
     "text": [
      "/home/ekaterina/Documents/000_envs/python37/lib/python3.7/site-packages/lightkurve/io/tess.py:34: ResourceWarning: unclosed file <_io.FileIO name='/home/ekaterina/Documents/001_science/lcs/mastDownload/TESS/tess2020324010417-s0032-0000000393414358-0200-a_fast/tess2020324010417-s0032-0000000393414358-0200-a_fast-lc.fits' mode='rb' closefd=True>\n",
      "  lc = read_generic_lightcurve(filename, flux_column=flux_column, time_format=\"btjd\")\n",
      "0% (174/108083) of the cadences will be ignored due to the quality mask (quality_bitmask=175).\n",
      "0% (174/108083) of the cadences will be ignored due to the quality mask (quality_bitmask=175).\n"
     ]
    },
    {
     "name": "stdout",
     "output_type": "stream",
     "text": [
      "date: 2022_08_02\n",
      "LC successfully detrended.\n"
     ]
    },
    {
     "name": "stderr",
     "output_type": "stream",
     "text": [
      "/home/ekaterina/Documents/000_envs/python37/lib/python3.7/site-packages/numpy/lib/nanfunctions.py:1117: RuntimeWarning: Mean of empty slice\n",
      "  return np.nanmean(a, axis, out=out, keepdims=keepdims)\n",
      "Found 0 candidate(s) in the (0,49569) gap.\n",
      "Found 1 candidate(s) in the (49569,105038) gap.\n"
     ]
    },
    {
     "name": "stdout",
     "output_type": "stream",
     "text": [
      "Transit midtime in TESS time: 1469.697071999777\n",
      "Flares found:\n",
      "        tstart      tstop     phase  ampl_rec       dur\n",
      "0  2189.218574  2189.2195  0.346358  0.284685  0.000926\n",
      "Wrote out LC to /home/ekaterina/Documents/001_science/lcs/2022_08_02_393414358_32_altai_0.fits.\n",
      "Get TESS Sector/Quarter 33, TIC 393414358, WASP-63, fast cadence.\n"
     ]
    },
    {
     "name": "stderr",
     "output_type": "stream",
     "text": [
      "/home/ekaterina/Documents/000_envs/python37/lib/python3.7/site-packages/lightkurve/io/tess.py:34: ResourceWarning: unclosed file <_io.FileIO name='/home/ekaterina/Documents/001_science/lcs/mastDownload/TESS/tess2020351194500-s0033-0000000393414358-0203-a_fast/tess2020351194500-s0033-0000000393414358-0203-a_fast-lc.fits' mode='rb' closefd=True>\n",
      "  lc = read_generic_lightcurve(filename, flux_column=flux_column, time_format=\"btjd\")\n",
      "0% (139/104910) of the cadences will be ignored due to the quality mask (quality_bitmask=175).\n",
      "0% (139/104910) of the cadences will be ignored due to the quality mask (quality_bitmask=175).\n"
     ]
    },
    {
     "name": "stdout",
     "output_type": "stream",
     "text": [
      "date: 2022_08_02\n",
      "LC successfully detrended.\n"
     ]
    },
    {
     "name": "stderr",
     "output_type": "stream",
     "text": [
      "/home/ekaterina/Documents/000_envs/python37/lib/python3.7/site-packages/numpy/lib/nanfunctions.py:1117: RuntimeWarning: Mean of empty slice\n",
      "  return np.nanmean(a, axis, out=out, keepdims=keepdims)\n",
      "Found 0 candidate(s) in the (0,52371) gap.\n",
      "Found 0 candidate(s) in the (52371,104771) gap.\n"
     ]
    },
    {
     "name": "stdout",
     "output_type": "stream",
     "text": [
      "Transit midtime in TESS time: 1469.697071999777\n",
      "No flares found in LC.\n",
      "Wrote out LC to /home/ekaterina/Documents/001_science/lcs/2022_08_02_393414358_33_altai_0.fits.\n",
      "Get TESS Sector/Quarter 06, TIC 393414358, WASP-63, short cadence.\n"
     ]
    },
    {
     "name": "stderr",
     "output_type": "stream",
     "text": [
      "/home/ekaterina/Documents/000_envs/python37/lib/python3.7/site-packages/lightkurve/io/tess.py:34: ResourceWarning: unclosed file <_io.FileIO name='/home/ekaterina/Documents/001_science/lcs/mastDownload/TESS/tess2018349182500-s0006-0000000393414358-0126-s/tess2018349182500-s0006-0000000393414358-0126-s_lc.fits' mode='rb' closefd=True>\n",
      "  lc = read_generic_lightcurve(filename, flux_column=flux_column, time_format=\"btjd\")\n",
      "1% (207/14898) of the cadences will be ignored due to the quality mask (quality_bitmask=175).\n",
      "1% (207/14898) of the cadences will be ignored due to the quality mask (quality_bitmask=175).\n"
     ]
    },
    {
     "name": "stdout",
     "output_type": "stream",
     "text": [
      "date: 2022_08_02\n",
      "LC successfully detrended.\n"
     ]
    },
    {
     "name": "stderr",
     "output_type": "stream",
     "text": [
      "/home/ekaterina/Documents/000_envs/python37/lib/python3.7/site-packages/numpy/lib/nanfunctions.py:1117: RuntimeWarning: Mean of empty slice\n",
      "  return np.nanmean(a, axis, out=out, keepdims=keepdims)\n",
      "Found 0 candidate(s) in the (0,6169) gap.\n",
      "Found 0 candidate(s) in the (6169,14597) gap.\n"
     ]
    },
    {
     "name": "stdout",
     "output_type": "stream",
     "text": [
      "Transit midtime in TESS time: 1469.697071999777\n",
      "No flares found in LC.\n",
      "Wrote out LC to /home/ekaterina/Documents/001_science/lcs/2022_08_02_393414358_06_altai_0.fits.\n",
      "Get TESS Sector/Quarter 07, TIC 393414358, WASP-63, short cadence.\n"
     ]
    },
    {
     "name": "stderr",
     "output_type": "stream",
     "text": [
      "/home/ekaterina/Documents/000_envs/python37/lib/python3.7/site-packages/lightkurve/io/tess.py:34: ResourceWarning: unclosed file <_io.FileIO name='/home/ekaterina/Documents/001_science/lcs/mastDownload/TESS/tess2019006130736-s0007-0000000393414358-0131-s/tess2019006130736-s0007-0000000393414358-0131-s_lc.fits' mode='rb' closefd=True>\n",
      "  lc = read_generic_lightcurve(filename, flux_column=flux_column, time_format=\"btjd\")\n",
      "0% (73/16416) of the cadences will be ignored due to the quality mask (quality_bitmask=175).\n",
      "0% (73/16416) of the cadences will be ignored due to the quality mask (quality_bitmask=175).\n"
     ]
    },
    {
     "name": "stdout",
     "output_type": "stream",
     "text": [
      "date: 2022_08_02\n",
      "LC successfully detrended.\n"
     ]
    },
    {
     "name": "stderr",
     "output_type": "stream",
     "text": [
      "/home/ekaterina/Documents/000_envs/python37/lib/python3.7/site-packages/numpy/lib/nanfunctions.py:1117: RuntimeWarning: Mean of empty slice\n",
      "  return np.nanmean(a, axis, out=out, keepdims=keepdims)\n",
      "Found 0 candidate(s) in the (0,8053) gap.\n",
      "Found 0 candidate(s) in the (8053,16072) gap.\n",
      "/home/ekaterina/Documents/000_envs/python37/lib/python3.7/site-packages/ipykernel_launcher.py:88: LightkurveDeprecationWarning: The search_lightcurvefile function is deprecated and may be removed in a future version.\n",
      "        Use search_lightcurve() instead.\n"
     ]
    },
    {
     "name": "stdout",
     "output_type": "stream",
     "text": [
      "Transit midtime in TESS time: 1469.697071999777\n",
      "No flares found in LC.\n",
      "Wrote out LC to /home/ekaterina/Documents/001_science/lcs/2022_08_02_393414358_07_altai_0.fits.\n",
      "\n",
      "---------------------\n",
      "1 flares found!\n",
      "-------------------\n",
      "\n",
      "(0, 0)\n",
      "Get TESS Sector/Quarter 45, TIC 393495970, WASP-104, short cadence.\n"
     ]
    },
    {
     "name": "stderr",
     "output_type": "stream",
     "text": [
      "/home/ekaterina/Documents/000_envs/python37/lib/python3.7/site-packages/lightkurve/io/tess.py:34: ResourceWarning: unclosed file <_io.FileIO name='/home/ekaterina/Documents/001_science/lcs/mastDownload/TESS/tess2021310001228-s0045-0000000393495970-0216-s/tess2021310001228-s0045-0000000393495970-0216-s_lc.fits' mode='rb' closefd=True>\n",
      "  lc = read_generic_lightcurve(filename, flux_column=flux_column, time_format=\"btjd\")\n",
      "1% (186/17256) of the cadences will be ignored due to the quality mask (quality_bitmask=175).\n",
      "1% (186/17256) of the cadences will be ignored due to the quality mask (quality_bitmask=175).\n"
     ]
    },
    {
     "name": "stdout",
     "output_type": "stream",
     "text": [
      "date: 2022_08_02\n"
     ]
    },
    {
     "name": "stderr",
     "output_type": "stream",
     "text": [
      "/home/ekaterina/Documents/001_science/Flaring_SPI/notebooks/funcs/detrend.py:364: RuntimeWarning: overflow encountered in exp\n",
      "  return a * np.exp(b * (c - x)) + d * np.exp(e * (f - x)) + g\n",
      "/home/ekaterina/Documents/001_science/Flaring_SPI/notebooks/funcs/detrend.py:364: RuntimeWarning: overflow encountered in multiply\n",
      "  return a * np.exp(b * (c - x)) + d * np.exp(e * (f - x)) + g\n"
     ]
    },
    {
     "name": "stdout",
     "output_type": "stream",
     "text": [
      "LC successfully detrended.\n"
     ]
    },
    {
     "name": "stderr",
     "output_type": "stream",
     "text": [
      "/home/ekaterina/Documents/000_envs/python37/lib/python3.7/site-packages/numpy/lib/nanfunctions.py:1117: RuntimeWarning: Mean of empty slice\n",
      "  return np.nanmean(a, axis, out=out, keepdims=keepdims)\n",
      "Found 0 candidate(s) in the (0,8116) gap.\n",
      "Found 0 candidate(s) in the (8116,15918) gap.\n"
     ]
    },
    {
     "name": "stdout",
     "output_type": "stream",
     "text": [
      "Transit midtime in TESS time: 2576.3738480000757\n",
      "No flares found in LC.\n",
      "Wrote out LC to /home/ekaterina/Documents/001_science/lcs/2022_08_02_393495970_45_altai_0.fits.\n",
      "Get TESS Sector/Quarter 46, TIC 393495970, WASP-104, short cadence.\n"
     ]
    },
    {
     "name": "stderr",
     "output_type": "stream",
     "text": [
      "/home/ekaterina/Documents/000_envs/python37/lib/python3.7/site-packages/lightkurve/io/tess.py:34: ResourceWarning: unclosed file <_io.FileIO name='/home/ekaterina/Documents/001_science/lcs/mastDownload/TESS/tess2021336043614-s0046-0000000393495970-0217-s/tess2021336043614-s0046-0000000393495970-0217-s_lc.fits' mode='rb' closefd=True>\n",
      "  lc = read_generic_lightcurve(filename, flux_column=flux_column, time_format=\"btjd\")\n",
      "2% (387/18539) of the cadences will be ignored due to the quality mask (quality_bitmask=175).\n",
      "2% (387/18539) of the cadences will be ignored due to the quality mask (quality_bitmask=175).\n"
     ]
    },
    {
     "name": "stdout",
     "output_type": "stream",
     "text": [
      "date: 2022_08_02\n",
      "LC successfully detrended.\n"
     ]
    },
    {
     "name": "stderr",
     "output_type": "stream",
     "text": [
      "/home/ekaterina/Documents/000_envs/python37/lib/python3.7/site-packages/numpy/lib/nanfunctions.py:1117: RuntimeWarning: Mean of empty slice\n",
      "  return np.nanmean(a, axis, out=out, keepdims=keepdims)\n",
      "Found 0 candidate(s) in the (0,7869) gap.\n",
      "Found 0 candidate(s) in the (7869,15980) gap.\n",
      "/home/ekaterina/Documents/000_envs/python37/lib/python3.7/site-packages/ipykernel_launcher.py:88: LightkurveDeprecationWarning: The search_lightcurvefile function is deprecated and may be removed in a future version.\n",
      "        Use search_lightcurve() instead.\n"
     ]
    },
    {
     "name": "stdout",
     "output_type": "stream",
     "text": [
      "Transit midtime in TESS time: 2576.3738480000757\n",
      "No flares found in LC.\n",
      "Wrote out LC to /home/ekaterina/Documents/001_science/lcs/2022_08_02_393495970_46_altai_0.fits.\n",
      "\n",
      "---------------------\n",
      "0 flares found!\n",
      "-------------------\n",
      "\n",
      "(0, 0)\n"
     ]
    },
    {
     "name": "stderr",
     "output_type": "stream",
     "text": [
      "Could not resolve K2-402 to a sky position.\n",
      "Could not resolve K2-402 to a sky position.\n",
      "/home/ekaterina/Documents/000_envs/python37/lib/python3.7/site-packages/ipykernel_launcher.py:93: LightkurveDeprecationWarning: The search_lightcurvefile function is deprecated and may be removed in a future version.\n",
      "        Use search_lightcurve() instead.\n"
     ]
    },
    {
     "name": "stdout",
     "output_type": "stream",
     "text": [
      "Get TESS Sector/Quarter 45, TIC 393548451, K2-402, short cadence.\n"
     ]
    },
    {
     "name": "stderr",
     "output_type": "stream",
     "text": [
      "/home/ekaterina/Documents/000_envs/python37/lib/python3.7/site-packages/lightkurve/io/tess.py:34: ResourceWarning: unclosed file <_io.FileIO name='/home/ekaterina/Documents/001_science/lcs/mastDownload/TESS/tess2021310001228-s0045-0000000393548451-0216-s/tess2021310001228-s0045-0000000393548451-0216-s_lc.fits' mode='rb' closefd=True>\n",
      "  lc = read_generic_lightcurve(filename, flux_column=flux_column, time_format=\"btjd\")\n",
      "1% (186/17256) of the cadences will be ignored due to the quality mask (quality_bitmask=175).\n",
      "1% (186/17256) of the cadences will be ignored due to the quality mask (quality_bitmask=175).\n"
     ]
    },
    {
     "name": "stdout",
     "output_type": "stream",
     "text": [
      "date: 2022_08_02\n",
      "LC successfully detrended.\n"
     ]
    },
    {
     "name": "stderr",
     "output_type": "stream",
     "text": [
      "/home/ekaterina/Documents/000_envs/python37/lib/python3.7/site-packages/numpy/lib/nanfunctions.py:1117: RuntimeWarning: Mean of empty slice\n",
      "  return np.nanmean(a, axis, out=out, keepdims=keepdims)\n",
      "Found 0 candidate(s) in the (0,8116) gap.\n",
      "Found 0 candidate(s) in the (8116,15918) gap.\n"
     ]
    },
    {
     "name": "stdout",
     "output_type": "stream",
     "text": [
      "Transit midtime in TESS time: 920.4286000002176\n",
      "No flares found in LC.\n",
      "Wrote out LC to /home/ekaterina/Documents/001_science/lcs/2022_08_02_393548451_45_altai_0.fits.\n",
      "Get TESS Sector/Quarter 46, TIC 393548451, K2-402, short cadence.\n"
     ]
    },
    {
     "name": "stderr",
     "output_type": "stream",
     "text": [
      "/home/ekaterina/Documents/000_envs/python37/lib/python3.7/site-packages/lightkurve/io/tess.py:34: ResourceWarning: unclosed file <_io.FileIO name='/home/ekaterina/Documents/001_science/lcs/mastDownload/TESS/tess2021336043614-s0046-0000000393548451-0217-s/tess2021336043614-s0046-0000000393548451-0217-s_lc.fits' mode='rb' closefd=True>\n",
      "  lc = read_generic_lightcurve(filename, flux_column=flux_column, time_format=\"btjd\")\n",
      "2% (387/18539) of the cadences will be ignored due to the quality mask (quality_bitmask=175).\n",
      "2% (387/18539) of the cadences will be ignored due to the quality mask (quality_bitmask=175).\n"
     ]
    },
    {
     "name": "stdout",
     "output_type": "stream",
     "text": [
      "date: 2022_08_02\n",
      "LC successfully detrended.\n"
     ]
    },
    {
     "name": "stderr",
     "output_type": "stream",
     "text": [
      "/home/ekaterina/Documents/000_envs/python37/lib/python3.7/site-packages/numpy/lib/nanfunctions.py:1117: RuntimeWarning: Mean of empty slice\n",
      "  return np.nanmean(a, axis, out=out, keepdims=keepdims)\n",
      "Found 0 candidate(s) in the (0,7898) gap.\n",
      "Found 0 candidate(s) in the (7898,16025) gap.\n",
      "/home/ekaterina/Documents/000_envs/python37/lib/python3.7/site-packages/ipykernel_launcher.py:88: LightkurveDeprecationWarning: The search_lightcurvefile function is deprecated and may be removed in a future version.\n",
      "        Use search_lightcurve() instead.\n"
     ]
    },
    {
     "name": "stdout",
     "output_type": "stream",
     "text": [
      "Transit midtime in TESS time: 920.4286000002176\n",
      "No flares found in LC.\n",
      "Wrote out LC to /home/ekaterina/Documents/001_science/lcs/2022_08_02_393548451_46_altai_0.fits.\n",
      "\n",
      "---------------------\n",
      "0 flares found!\n",
      "-------------------\n",
      "\n",
      "(0, 0)\n",
      "Get TESS Sector/Quarter 01, TIC 394137592, HD 1397, short cadence.\n"
     ]
    },
    {
     "name": "stderr",
     "output_type": "stream",
     "text": [
      "/home/ekaterina/Documents/000_envs/python37/lib/python3.7/site-packages/lightkurve/io/tess.py:34: ResourceWarning: unclosed file <_io.FileIO name='/home/ekaterina/Documents/001_science/lcs/mastDownload/TESS/tess2018206045859-s0001-0000000394137592-0120-s/tess2018206045859-s0001-0000000394137592-0120-s_lc.fits' mode='rb' closefd=True>\n",
      "  lc = read_generic_lightcurve(filename, flux_column=flux_column, time_format=\"btjd\")\n",
      "5% (982/19261) of the cadences will be ignored due to the quality mask (quality_bitmask=175).\n",
      "5% (982/19261) of the cadences will be ignored due to the quality mask (quality_bitmask=175).\n"
     ]
    },
    {
     "name": "stdout",
     "output_type": "stream",
     "text": [
      "date: 2022_08_02\n",
      "LC successfully detrended.\n"
     ]
    },
    {
     "name": "stderr",
     "output_type": "stream",
     "text": [
      "/home/ekaterina/Documents/000_envs/python37/lib/python3.7/site-packages/numpy/lib/nanfunctions.py:1117: RuntimeWarning: Mean of empty slice\n",
      "  return np.nanmean(a, axis, out=out, keepdims=keepdims)\n",
      "Found 0 candidate(s) in the (0,9409) gap.\n",
      "Found 0 candidate(s) in the (9409,18277) gap.\n",
      "/home/ekaterina/Documents/000_envs/python37/lib/python3.7/site-packages/ipykernel_launcher.py:88: LightkurveDeprecationWarning: The search_lightcurvefile function is deprecated and may be removed in a future version.\n",
      "        Use search_lightcurve() instead.\n"
     ]
    },
    {
     "name": "stdout",
     "output_type": "stream",
     "text": [
      "Transit midtime in TESS time: 1332.08280499978\n",
      "No flares found in LC.\n",
      "Wrote out LC to /home/ekaterina/Documents/001_science/lcs/2022_08_02_394137592_01_altai_0.fits.\n",
      "\n",
      "---------------------\n",
      "0 flares found!\n",
      "-------------------\n",
      "\n",
      "(0, 0)\n",
      "Get Kepler Sector/Quarter 04, TIC 394172596, Kepler-444, short cadence.\n",
      "No LC found for Kepler, Kepler-444, Quarter 04.\n",
      "Get Kepler Sector/Quarter 17, TIC 394172596, Kepler-444, short cadence.\n"
     ]
    },
    {
     "name": "stderr",
     "output_type": "stream",
     "text": [
      "/home/ekaterina/Documents/000_envs/python37/lib/python3.7/site-packages/lightkurve/io/kepler.py:38: ResourceWarning: unclosed file <_io.FileIO name='/home/ekaterina/Documents/001_science/lcs/mastDownload/Kepler/kplr006278762_sc_Q000010300000000332/kplr006278762-2013121191144_slc.fits' mode='rb' closefd=True>\n",
      "  time_format=\"bkjd\",\n",
      "1% (248/32850) of the cadences will be ignored due to the quality mask (quality_bitmask=1130799).\n",
      "1% (248/32850) of the cadences will be ignored due to the quality mask (quality_bitmask=1130799).\n",
      "/home/ekaterina/Documents/000_envs/python37/lib/python3.7/site-packages/lightkurve/io/kepler.py:38: ResourceWarning: unclosed file <_io.FileIO name='/home/ekaterina/Documents/001_science/lcs/mastDownload/Kepler/kplr006278762_sc_Q000010300000000332/kplr006278762-2013131215648_slc.fits' mode='rb' closefd=True>\n",
      "  time_format=\"bkjd\",\n",
      "0% (28/6180) of the cadences will be ignored due to the quality mask (quality_bitmask=1130799).\n",
      "0% (28/6180) of the cadences will be ignored due to the quality mask (quality_bitmask=1130799).\n"
     ]
    },
    {
     "name": "stdout",
     "output_type": "stream",
     "text": [
      "2 LCs found for Kepler, Kepler-444, Quarter 17.\n",
      "date: 2022_08_02\n",
      "LC successfully detrended.\n"
     ]
    },
    {
     "name": "stderr",
     "output_type": "stream",
     "text": [
      "/home/ekaterina/Documents/000_envs/python37/lib/python3.7/site-packages/numpy/lib/nanfunctions.py:1117: RuntimeWarning: Mean of empty slice\n",
      "  return np.nanmean(a, axis, out=out, keepdims=keepdims)\n",
      "Found 0 candidate(s) in the (0,2385) gap.\n",
      "Found 0 candidate(s) in the (2385,32600) gap.\n"
     ]
    },
    {
     "name": "stdout",
     "output_type": "stream",
     "text": [
      "Transit midtime in Kepler time: 133.25989999994636\n",
      "No flares found in LC.\n",
      "Wrote out LC to /home/ekaterina/Documents/001_science/lcs/2022_08_02_Kepler-444_17_altai_0.fits.\n",
      "date: 2022_08_02\n",
      "LC successfully detrended.\n"
     ]
    },
    {
     "name": "stderr",
     "output_type": "stream",
     "text": [
      "Found 0 candidate(s) in the (0,6151) gap.\n"
     ]
    },
    {
     "name": "stdout",
     "output_type": "stream",
     "text": [
      "Transit midtime in Kepler time: 133.25989999994636\n",
      "No flares found in LC.\n",
      "Wrote out LC to /home/ekaterina/Documents/001_science/lcs/2022_08_02_Kepler-444_17_altai_1.fits.\n",
      "Get Kepler Sector/Quarter 16, TIC 394172596, Kepler-444, short cadence.\n"
     ]
    },
    {
     "name": "stderr",
     "output_type": "stream",
     "text": [
      "/home/ekaterina/Documents/000_envs/python37/lib/python3.7/site-packages/lightkurve/io/kepler.py:38: ResourceWarning: unclosed file <_io.FileIO name='/home/ekaterina/Documents/001_science/lcs/mastDownload/Kepler/kplr006278762_sc_Q000010300000000332/kplr006278762-2013017113907_slc.fits' mode='rb' closefd=True>\n",
      "  time_format=\"bkjd\",\n",
      "1% (58/7680) of the cadences will be ignored due to the quality mask (quality_bitmask=1130799).\n",
      "1% (58/7680) of the cadences will be ignored due to the quality mask (quality_bitmask=1130799).\n",
      "/home/ekaterina/Documents/000_envs/python37/lib/python3.7/site-packages/lightkurve/io/kepler.py:38: ResourceWarning: unclosed file <_io.FileIO name='/home/ekaterina/Documents/001_science/lcs/mastDownload/Kepler/kplr006278762_sc_Q000010300000000332/kplr006278762-2013065031647_slc.fits' mode='rb' closefd=True>\n",
      "  time_format=\"bkjd\",\n",
      "1% (455/53220) of the cadences will be ignored due to the quality mask (quality_bitmask=1130799).\n",
      "1% (455/53220) of the cadences will be ignored due to the quality mask (quality_bitmask=1130799).\n",
      "/home/ekaterina/Documents/000_envs/python37/lib/python3.7/site-packages/lightkurve/io/kepler.py:38: ResourceWarning: unclosed file <_io.FileIO name='/home/ekaterina/Documents/001_science/lcs/mastDownload/Kepler/kplr006278762_sc_Q000010300000000332/kplr006278762-2013098041711_slc.fits' mode='rb' closefd=True>\n",
      "  time_format=\"bkjd\",\n",
      "1% (274/46770) of the cadences will be ignored due to the quality mask (quality_bitmask=1130799).\n",
      "1% (274/46770) of the cadences will be ignored due to the quality mask (quality_bitmask=1130799).\n"
     ]
    },
    {
     "name": "stdout",
     "output_type": "stream",
     "text": [
      "3 LCs found for Kepler, Kepler-444, Quarter 16.\n",
      "date: 2022_08_02\n",
      "LC successfully detrended.\n"
     ]
    },
    {
     "name": "stderr",
     "output_type": "stream",
     "text": [
      "Found 0 candidate(s) in the (0,7621) gap.\n"
     ]
    },
    {
     "name": "stdout",
     "output_type": "stream",
     "text": [
      "Transit midtime in Kepler time: 133.25989999994636\n",
      "No flares found in LC.\n",
      "Wrote out LC to /home/ekaterina/Documents/001_science/lcs/2022_08_02_Kepler-444_16_altai_0.fits.\n",
      "date: 2022_08_02\n",
      "LC successfully detrended.\n"
     ]
    },
    {
     "name": "stderr",
     "output_type": "stream",
     "text": [
      "Found 0 candidate(s) in the (0,52752) gap.\n"
     ]
    },
    {
     "name": "stdout",
     "output_type": "stream",
     "text": [
      "Transit midtime in Kepler time: 133.25989999994636\n",
      "No flares found in LC.\n",
      "Wrote out LC to /home/ekaterina/Documents/001_science/lcs/2022_08_02_Kepler-444_16_altai_1.fits.\n",
      "date: 2022_08_02\n",
      "LC successfully detrended.\n"
     ]
    },
    {
     "name": "stderr",
     "output_type": "stream",
     "text": [
      "Found 1 candidate(s) in the (0,46462) gap.\n"
     ]
    },
    {
     "name": "stdout",
     "output_type": "stream",
     "text": [
      "Transit midtime in Kepler time: 133.25989999994636\n",
      "Flares found:\n",
      "        tstart        tstop     phase  ampl_rec       dur\n",
      "0  1534.037158  1534.039202  0.093413  0.000999  0.002043\n",
      "Wrote out LC to /home/ekaterina/Documents/001_science/lcs/2022_08_02_Kepler-444_16_altai_2.fits.\n",
      "Get Kepler Sector/Quarter 15, TIC 394172596, Kepler-444, short cadence.\n"
     ]
    },
    {
     "name": "stderr",
     "output_type": "stream",
     "text": [
      "/home/ekaterina/Documents/000_envs/python37/lib/python3.7/site-packages/lightkurve/io/kepler.py:38: ResourceWarning: unclosed file <_io.FileIO name='/home/ekaterina/Documents/001_science/lcs/mastDownload/Kepler/kplr006278762_sc_Q000010300000000332/kplr006278762-2012310112549_slc.fits' mode='rb' closefd=True>\n",
      "  time_format=\"bkjd\",\n",
      "1% (334/45270) of the cadences will be ignored due to the quality mask (quality_bitmask=1130799).\n",
      "1% (334/45270) of the cadences will be ignored due to the quality mask (quality_bitmask=1130799).\n",
      "/home/ekaterina/Documents/000_envs/python37/lib/python3.7/site-packages/lightkurve/io/kepler.py:38: ResourceWarning: unclosed file <_io.FileIO name='/home/ekaterina/Documents/001_science/lcs/mastDownload/Kepler/kplr006278762_sc_Q000010300000000332/kplr006278762-2012341132017_slc.fits' mode='rb' closefd=True>\n",
      "  time_format=\"bkjd\",\n",
      "1% (366/38310) of the cadences will be ignored due to the quality mask (quality_bitmask=1130799).\n",
      "1% (366/38310) of the cadences will be ignored due to the quality mask (quality_bitmask=1130799).\n",
      "/home/ekaterina/Documents/000_envs/python37/lib/python3.7/site-packages/lightkurve/io/kepler.py:38: ResourceWarning: unclosed file <_io.FileIO name='/home/ekaterina/Documents/001_science/lcs/mastDownload/Kepler/kplr006278762_sc_Q000010300000000332/kplr006278762-2013011073258_slc.fits' mode='rb' closefd=True>\n",
      "  time_format=\"bkjd\",\n",
      "0% (198/51270) of the cadences will be ignored due to the quality mask (quality_bitmask=1130799).\n",
      "0% (198/51270) of the cadences will be ignored due to the quality mask (quality_bitmask=1130799).\n"
     ]
    },
    {
     "name": "stdout",
     "output_type": "stream",
     "text": [
      "3 LCs found for Kepler, Kepler-444, Quarter 15.\n",
      "date: 2022_08_02\n",
      "LC successfully detrended.\n"
     ]
    },
    {
     "name": "stderr",
     "output_type": "stream",
     "text": [
      "Found 0 candidate(s) in the (0,44875) gap.\n"
     ]
    },
    {
     "name": "stdout",
     "output_type": "stream",
     "text": [
      "Transit midtime in Kepler time: 133.25989999994636\n",
      "No flares found in LC.\n",
      "Wrote out LC to /home/ekaterina/Documents/001_science/lcs/2022_08_02_Kepler-444_15_altai_0.fits.\n",
      "date: 2022_08_02\n",
      "LC successfully detrended.\n"
     ]
    },
    {
     "name": "stderr",
     "output_type": "stream",
     "text": [
      "/home/ekaterina/Documents/000_envs/python37/lib/python3.7/site-packages/numpy/lib/nanfunctions.py:1117: RuntimeWarning: Mean of empty slice\n",
      "  return np.nanmean(a, axis, out=out, keepdims=keepdims)\n",
      "Found 0 candidate(s) in the (0,10870) gap.\n",
      "Found 1 candidate(s) in the (10870,35655) gap.\n"
     ]
    },
    {
     "name": "stdout",
     "output_type": "stream",
     "text": [
      "Transit midtime in Kepler time: 133.25989999994636\n",
      "Flares found:\n",
      "        tstart        tstop     phase  ampl_rec       dur\n",
      "0  1433.193652  1433.195696  0.082147  0.002304  0.002043\n",
      "Wrote out LC to /home/ekaterina/Documents/001_science/lcs/2022_08_02_Kepler-444_15_altai_1.fits.\n",
      "date: 2022_08_02\n",
      "LC successfully detrended.\n"
     ]
    },
    {
     "name": "stderr",
     "output_type": "stream",
     "text": [
      "Found 0 candidate(s) in the (0,51069) gap.\n"
     ]
    },
    {
     "name": "stdout",
     "output_type": "stream",
     "text": [
      "Transit midtime in Kepler time: 133.25989999994636\n",
      "No flares found in LC.\n",
      "Wrote out LC to /home/ekaterina/Documents/001_science/lcs/2022_08_02_Kepler-444_15_altai_2.fits.\n",
      "Get Kepler Sector/Quarter 06, TIC 394172596, Kepler-444, short cadence.\n",
      "No LC found for Kepler, Kepler-444, Quarter 06.\n",
      "Get TESS Sector/Quarter 40, TIC 394172596, Kepler-444, fast cadence.\n"
     ]
    },
    {
     "name": "stderr",
     "output_type": "stream",
     "text": [
      "/home/ekaterina/Documents/000_envs/python37/lib/python3.7/site-packages/lightkurve/io/tess.py:34: ResourceWarning: unclosed file <_io.FileIO name='/home/ekaterina/Documents/001_science/lcs/mastDownload/TESS/tess2021175071901-s0040-0000000394172596-0211-a_fast/tess2021175071901-s0040-0000000394172596-0211-a_fast-lc.fits' mode='rb' closefd=True>\n",
      "  lc = read_generic_lightcurve(filename, flux_column=flux_column, time_format=\"btjd\")\n",
      "0% (151/117871) of the cadences will be ignored due to the quality mask (quality_bitmask=175).\n",
      "0% (151/117871) of the cadences will be ignored due to the quality mask (quality_bitmask=175).\n"
     ]
    },
    {
     "name": "stdout",
     "output_type": "stream",
     "text": [
      "date: 2022_08_02\n",
      "LC successfully detrended.\n"
     ]
    },
    {
     "name": "stderr",
     "output_type": "stream",
     "text": [
      "/home/ekaterina/Documents/000_envs/python37/lib/python3.7/site-packages/numpy/lib/nanfunctions.py:1117: RuntimeWarning: Mean of empty slice\n",
      "  return np.nanmean(a, axis, out=out, keepdims=keepdims)\n",
      "Found 0 candidate(s) in the (0,59335) gap.\n",
      "Found 0 candidate(s) in the (59335,117720) gap.\n"
     ]
    },
    {
     "name": "stdout",
     "output_type": "stream",
     "text": [
      "Transit midtime in TESS time: -2033.7401000000536\n",
      "No flares found in LC.\n",
      "Wrote out LC to /home/ekaterina/Documents/001_science/lcs/2022_08_02_394172596_40_altai_0.fits.\n",
      "Get TESS Sector/Quarter 41, TIC 394172596, Kepler-444, fast cadence.\n"
     ]
    },
    {
     "name": "stderr",
     "output_type": "stream",
     "text": [
      "/home/ekaterina/Documents/000_envs/python37/lib/python3.7/site-packages/lightkurve/io/tess.py:34: ResourceWarning: unclosed file <_io.FileIO name='/home/ekaterina/Documents/001_science/lcs/mastDownload/TESS/tess2021204101404-s0041-0000000394172596-0212-a_fast/tess2021204101404-s0041-0000000394172596-0212-a_fast-lc.fits' mode='rb' closefd=True>\n",
      "  lc = read_generic_lightcurve(filename, flux_column=flux_column, time_format=\"btjd\")\n",
      "0% (138/110100) of the cadences will be ignored due to the quality mask (quality_bitmask=175).\n",
      "0% (138/110100) of the cadences will be ignored due to the quality mask (quality_bitmask=175).\n"
     ]
    },
    {
     "name": "stdout",
     "output_type": "stream",
     "text": [
      "date: 2022_08_02\n",
      "LC successfully detrended.\n"
     ]
    },
    {
     "name": "stderr",
     "output_type": "stream",
     "text": [
      "/home/ekaterina/Documents/000_envs/python37/lib/python3.7/site-packages/numpy/lib/nanfunctions.py:1117: RuntimeWarning: Mean of empty slice\n",
      "  return np.nanmean(a, axis, out=out, keepdims=keepdims)\n",
      "Found 0 candidate(s) in the (0,54441) gap.\n",
      "Found 0 candidate(s) in the (54441,109962) gap.\n"
     ]
    },
    {
     "name": "stdout",
     "output_type": "stream",
     "text": [
      "Transit midtime in TESS time: -2033.7401000000536\n",
      "No flares found in LC.\n",
      "Wrote out LC to /home/ekaterina/Documents/001_science/lcs/2022_08_02_394172596_41_altai_0.fits.\n",
      "Get TESS Sector/Quarter 14, TIC 394172596, Kepler-444, short cadence.\n"
     ]
    },
    {
     "name": "stderr",
     "output_type": "stream",
     "text": [
      "/home/ekaterina/Documents/000_envs/python37/lib/python3.7/site-packages/lightkurve/io/tess.py:34: ResourceWarning: unclosed file <_io.FileIO name='/home/ekaterina/Documents/001_science/lcs/mastDownload/TESS/tess2019198215352-s0014-0000000394172596-0150-s/tess2019198215352-s0014-0000000394172596-0150-s_lc.fits' mode='rb' closefd=True>\n",
      "  lc = read_generic_lightcurve(filename, flux_column=flux_column, time_format=\"btjd\")\n",
      "1% (230/18654) of the cadences will be ignored due to the quality mask (quality_bitmask=175).\n",
      "1% (230/18654) of the cadences will be ignored due to the quality mask (quality_bitmask=175).\n"
     ]
    },
    {
     "name": "stdout",
     "output_type": "stream",
     "text": [
      "date: 2022_08_02\n",
      "LC successfully detrended.\n"
     ]
    },
    {
     "name": "stderr",
     "output_type": "stream",
     "text": [
      "/home/ekaterina/Documents/000_envs/python37/lib/python3.7/site-packages/numpy/lib/nanfunctions.py:1117: RuntimeWarning: Mean of empty slice\n",
      "  return np.nanmean(a, axis, out=out, keepdims=keepdims)\n",
      "Found 0 candidate(s) in the (0,9245) gap.\n",
      "Found 0 candidate(s) in the (9245,18424) gap.\n",
      "/home/ekaterina/Documents/000_envs/python37/lib/python3.7/site-packages/ipykernel_launcher.py:88: LightkurveDeprecationWarning: The search_lightcurvefile function is deprecated and may be removed in a future version.\n",
      "        Use search_lightcurve() instead.\n"
     ]
    },
    {
     "name": "stdout",
     "output_type": "stream",
     "text": [
      "Transit midtime in TESS time: -2033.7401000000536\n",
      "No flares found in LC.\n",
      "Wrote out LC to /home/ekaterina/Documents/001_science/lcs/2022_08_02_394172596_14_altai_0.fits.\n",
      "\n",
      "---------------------\n",
      "2 flares found!\n",
      "-------------------\n",
      "\n",
      "(0, 0)\n"
     ]
    },
    {
     "name": "stderr",
     "output_type": "stream",
     "text": [
      "Could not resolve Kepler-1864 to a sky position.\n",
      "Could not resolve Kepler-1864 to a sky position.\n",
      "/home/ekaterina/Documents/000_envs/python37/lib/python3.7/site-packages/ipykernel_launcher.py:93: LightkurveDeprecationWarning: The search_lightcurvefile function is deprecated and may be removed in a future version.\n",
      "        Use search_lightcurve() instead.\n"
     ]
    },
    {
     "name": "stdout",
     "output_type": "stream",
     "text": [
      "Get TESS Sector/Quarter 40, TIC 394172692, Kepler-1864, fast cadence.\n"
     ]
    },
    {
     "name": "stderr",
     "output_type": "stream",
     "text": [
      "/home/ekaterina/Documents/000_envs/python37/lib/python3.7/site-packages/lightkurve/io/tess.py:34: ResourceWarning: unclosed file <_io.FileIO name='/home/ekaterina/Documents/001_science/lcs/mastDownload/TESS/tess2021175071901-s0040-0000000394172692-0211-a_fast/tess2021175071901-s0040-0000000394172692-0211-a_fast-lc.fits' mode='rb' closefd=True>\n",
      "  lc = read_generic_lightcurve(filename, flux_column=flux_column, time_format=\"btjd\")\n",
      "0% (151/117871) of the cadences will be ignored due to the quality mask (quality_bitmask=175).\n",
      "0% (151/117871) of the cadences will be ignored due to the quality mask (quality_bitmask=175).\n"
     ]
    },
    {
     "name": "stdout",
     "output_type": "stream",
     "text": [
      "date: 2022_08_02\n",
      "LC successfully detrended.\n"
     ]
    },
    {
     "name": "stderr",
     "output_type": "stream",
     "text": [
      "/home/ekaterina/Documents/000_envs/python37/lib/python3.7/site-packages/numpy/lib/nanfunctions.py:1117: RuntimeWarning: Mean of empty slice\n",
      "  return np.nanmean(a, axis, out=out, keepdims=keepdims)\n",
      "Found 0 candidate(s) in the (0,59335) gap.\n",
      "Found 0 candidate(s) in the (59335,117720) gap.\n"
     ]
    },
    {
     "name": "stdout",
     "output_type": "stream",
     "text": [
      "Transit midtime in TESS time: -2031.8821999998763\n",
      "No flares found in LC.\n",
      "Wrote out LC to /home/ekaterina/Documents/001_science/lcs/2022_08_02_394172692_40_altai_0.fits.\n",
      "Get TESS Sector/Quarter 41, TIC 394172692, Kepler-1864, fast cadence.\n"
     ]
    },
    {
     "name": "stderr",
     "output_type": "stream",
     "text": [
      "/home/ekaterina/Documents/000_envs/python37/lib/python3.7/site-packages/lightkurve/io/tess.py:34: ResourceWarning: unclosed file <_io.FileIO name='/home/ekaterina/Documents/001_science/lcs/mastDownload/TESS/tess2021204101404-s0041-0000000394172692-0212-a_fast/tess2021204101404-s0041-0000000394172692-0212-a_fast-lc.fits' mode='rb' closefd=True>\n",
      "  lc = read_generic_lightcurve(filename, flux_column=flux_column, time_format=\"btjd\")\n",
      "0% (138/110100) of the cadences will be ignored due to the quality mask (quality_bitmask=175).\n",
      "0% (138/110100) of the cadences will be ignored due to the quality mask (quality_bitmask=175).\n"
     ]
    },
    {
     "name": "stdout",
     "output_type": "stream",
     "text": [
      "date: 2022_08_02\n",
      "LC successfully detrended.\n"
     ]
    },
    {
     "name": "stderr",
     "output_type": "stream",
     "text": [
      "/home/ekaterina/Documents/000_envs/python37/lib/python3.7/site-packages/numpy/lib/nanfunctions.py:1117: RuntimeWarning: Mean of empty slice\n",
      "  return np.nanmean(a, axis, out=out, keepdims=keepdims)\n",
      "Found 0 candidate(s) in the (0,54441) gap.\n",
      "Found 0 candidate(s) in the (54441,109962) gap.\n",
      "/home/ekaterina/Documents/000_envs/python37/lib/python3.7/site-packages/ipykernel_launcher.py:88: LightkurveDeprecationWarning: The search_lightcurvefile function is deprecated and may be removed in a future version.\n",
      "        Use search_lightcurve() instead.\n"
     ]
    },
    {
     "name": "stdout",
     "output_type": "stream",
     "text": [
      "Transit midtime in TESS time: -2031.8821999998763\n",
      "No flares found in LC.\n",
      "Wrote out LC to /home/ekaterina/Documents/001_science/lcs/2022_08_02_394172692_41_altai_0.fits.\n",
      "\n",
      "---------------------\n",
      "0 flares found!\n",
      "-------------------\n",
      "\n",
      "(0, 0)\n",
      "Get Kepler Sector/Quarter 08, TIC 394174221, Kepler-635, short cadence.\n",
      "No LC found for Kepler, Kepler-635, Quarter 08.\n",
      "\n",
      "---------------------\n",
      "0 flares found!\n",
      "-------------------\n",
      "\n",
      "(0, 0)\n"
     ]
    },
    {
     "name": "stderr",
     "output_type": "stream",
     "text": [
      "/home/ekaterina/Documents/000_envs/python37/lib/python3.7/site-packages/ipykernel_launcher.py:88: LightkurveDeprecationWarning: The search_lightcurvefile function is deprecated and may be removed in a future version.\n",
      "        Use search_lightcurve() instead.\n"
     ]
    },
    {
     "name": "stdout",
     "output_type": "stream",
     "text": [
      "Get Kepler Sector/Quarter 12, TIC 394174412, Kepler-926, short cadence.\n"
     ]
    },
    {
     "name": "stderr",
     "output_type": "stream",
     "text": [
      "/home/ekaterina/Documents/000_envs/python37/lib/python3.7/site-packages/lightkurve/io/kepler.py:38: ResourceWarning: unclosed file <_io.FileIO name='/home/ekaterina/Documents/001_science/lcs/mastDownload/Kepler/kplr005526717_sc_Q000000000000300000/kplr005526717-2012032013838_slc.fits' mode='rb' closefd=True>\n",
      "  time_format=\"bkjd\",\n",
      "13% (4872/38910) of the cadences will be ignored due to the quality mask (quality_bitmask=1130799).\n",
      "13% (4872/38910) of the cadences will be ignored due to the quality mask (quality_bitmask=1130799).\n",
      "/home/ekaterina/Documents/000_envs/python37/lib/python3.7/site-packages/lightkurve/io/kepler.py:38: ResourceWarning: unclosed file <_io.FileIO name='/home/ekaterina/Documents/001_science/lcs/mastDownload/Kepler/kplr005526717_sc_Q000000000000300000/kplr005526717-2012060035710_slc.fits' mode='rb' closefd=True>\n",
      "  time_format=\"bkjd\",\n",
      "1% (216/40200) of the cadences will be ignored due to the quality mask (quality_bitmask=1130799).\n",
      "1% (216/40200) of the cadences will be ignored due to the quality mask (quality_bitmask=1130799).\n",
      "/home/ekaterina/Documents/000_envs/python37/lib/python3.7/site-packages/lightkurve/io/kepler.py:38: ResourceWarning: unclosed file <_io.FileIO name='/home/ekaterina/Documents/001_science/lcs/mastDownload/Kepler/kplr005526717_sc_Q000000000000300000/kplr005526717-2012088054726_slc.fits' mode='rb' closefd=True>\n",
      "  time_format=\"bkjd\",\n",
      "17% (6893/39840) of the cadences will be ignored due to the quality mask (quality_bitmask=1130799).\n",
      "17% (6893/39840) of the cadences will be ignored due to the quality mask (quality_bitmask=1130799).\n"
     ]
    },
    {
     "name": "stdout",
     "output_type": "stream",
     "text": [
      "3 LCs found for Kepler, Kepler-926, Quarter 12.\n",
      "date: 2022_08_02\n",
      "LC successfully detrended.\n"
     ]
    },
    {
     "name": "stderr",
     "output_type": "stream",
     "text": [
      "/home/ekaterina/Documents/000_envs/python37/lib/python3.7/site-packages/numpy/lib/nanfunctions.py:1117: RuntimeWarning: Mean of empty slice\n",
      "  return np.nanmean(a, axis, out=out, keepdims=keepdims)\n",
      "Found 0 candidate(s) in the (0,25142) gap.\n",
      "Found 0 candidate(s) in the (25142,28728) gap.\n",
      "Found 0 candidate(s) in the (28728,34037) gap.\n"
     ]
    },
    {
     "name": "stdout",
     "output_type": "stream",
     "text": [
      "Transit midtime in Kepler time: 178.15604999987409\n",
      "No flares found in LC.\n",
      "Wrote out LC to /home/ekaterina/Documents/001_science/lcs/2022_08_02_Kepler-926_12_altai_0.fits.\n",
      "date: 2022_08_02\n",
      "LC successfully detrended.\n"
     ]
    },
    {
     "name": "stderr",
     "output_type": "stream",
     "text": [
      "Found 0 candidate(s) in the (0,39984) gap.\n"
     ]
    },
    {
     "name": "stdout",
     "output_type": "stream",
     "text": [
      "Transit midtime in Kepler time: 178.15604999987409\n",
      "No flares found in LC.\n",
      "Wrote out LC to /home/ekaterina/Documents/001_science/lcs/2022_08_02_Kepler-926_12_altai_1.fits.\n",
      "date: 2022_08_02\n",
      "LC successfully detrended.\n"
     ]
    },
    {
     "name": "stderr",
     "output_type": "stream",
     "text": [
      "Found 0 candidate(s) in the (0,8251) gap.\n",
      "Found 0 candidate(s) in the (8251,32946) gap.\n",
      "/home/ekaterina/Documents/000_envs/python37/lib/python3.7/site-packages/ipykernel_launcher.py:88: LightkurveDeprecationWarning: The search_lightcurvefile function is deprecated and may be removed in a future version.\n",
      "        Use search_lightcurve() instead.\n"
     ]
    },
    {
     "name": "stdout",
     "output_type": "stream",
     "text": [
      "Transit midtime in Kepler time: 178.15604999987409\n",
      "No flares found in LC.\n",
      "Wrote out LC to /home/ekaterina/Documents/001_science/lcs/2022_08_02_Kepler-926_12_altai_2.fits.\n",
      "\n",
      "---------------------\n",
      "0 flares found!\n",
      "-------------------\n",
      "\n",
      "(0, 0)\n"
     ]
    },
    {
     "name": "stderr",
     "output_type": "stream",
     "text": [
      "Could not resolve Kepler-1896 to a sky position.\n",
      "Could not resolve Kepler-1896 to a sky position.\n",
      "/home/ekaterina/Documents/000_envs/python37/lib/python3.7/site-packages/ipykernel_launcher.py:93: LightkurveDeprecationWarning: The search_lightcurvefile function is deprecated and may be removed in a future version.\n",
      "        Use search_lightcurve() instead.\n",
      "/home/ekaterina/Documents/000_envs/python37/lib/python3.7/site-packages/ipykernel_launcher.py:88: LightkurveDeprecationWarning: The search_lightcurvefile function is deprecated and may be removed in a future version.\n",
      "        Use search_lightcurve() instead.\n",
      "/home/ekaterina/Documents/000_envs/python37/lib/python3.7/site-packages/ipykernel_launcher.py:88: LightkurveDeprecationWarning: The search_lightcurvefile function is deprecated and may be removed in a future version.\n",
      "        Use search_lightcurve() instead.\n",
      "/home/ekaterina/Documents/000_envs/python37/lib/python3.7/site-packages/ipykernel_launcher.py:88: LightkurveDeprecationWarning: The search_lightcurvefile function is deprecated and may be removed in a future version.\n",
      "        Use search_lightcurve() instead.\n",
      "Could not resolve Kepler-1736 to a sky position.\n",
      "Could not resolve Kepler-1736 to a sky position.\n",
      "/home/ekaterina/Documents/000_envs/python37/lib/python3.7/site-packages/ipykernel_launcher.py:93: LightkurveDeprecationWarning: The search_lightcurvefile function is deprecated and may be removed in a future version.\n",
      "        Use search_lightcurve() instead.\n",
      "/home/ekaterina/Documents/000_envs/python37/lib/python3.7/site-packages/ipykernel_launcher.py:88: LightkurveDeprecationWarning: The search_lightcurvefile function is deprecated and may be removed in a future version.\n",
      "        Use search_lightcurve() instead.\n",
      "Could not resolve TOI-1107 to a sky position.\n",
      "Could not resolve TOI-1107 to a sky position.\n",
      "/home/ekaterina/Documents/000_envs/python37/lib/python3.7/site-packages/ipykernel_launcher.py:93: LightkurveDeprecationWarning: The search_lightcurvefile function is deprecated and may be removed in a future version.\n",
      "        Use search_lightcurve() instead.\n"
     ]
    },
    {
     "name": "stdout",
     "output_type": "stream",
     "text": [
      "Get TESS Sector/Quarter 38, TIC 394561119, TOI-1107, fast cadence.\n"
     ]
    },
    {
     "name": "stderr",
     "output_type": "stream",
     "text": [
      "/home/ekaterina/Documents/000_envs/python37/lib/python3.7/site-packages/lightkurve/io/tess.py:34: ResourceWarning: unclosed file <_io.FileIO name='/home/ekaterina/Documents/001_science/lcs/mastDownload/TESS/tess2021118034608-s0038-0000000394561119-0209-a_fast/tess2021118034608-s0038-0000000394561119-0209-a_fast-lc.fits' mode='rb' closefd=True>\n",
      "  lc = read_generic_lightcurve(filename, flux_column=flux_column, time_format=\"btjd\")\n",
      "0% (172/111227) of the cadences will be ignored due to the quality mask (quality_bitmask=175).\n",
      "0% (172/111227) of the cadences will be ignored due to the quality mask (quality_bitmask=175).\n"
     ]
    },
    {
     "name": "stdout",
     "output_type": "stream",
     "text": [
      "date: 2022_08_02\n",
      "LC successfully detrended.\n"
     ]
    },
    {
     "name": "stderr",
     "output_type": "stream",
     "text": [
      "/home/ekaterina/Documents/000_envs/python37/lib/python3.7/site-packages/numpy/lib/nanfunctions.py:1117: RuntimeWarning: Mean of empty slice\n",
      "  return np.nanmean(a, axis, out=out, keepdims=keepdims)\n",
      "Found 2 candidate(s) in the (0,49254) gap.\n",
      "Found 0 candidate(s) in the (49254,101479) gap.\n"
     ]
    },
    {
     "name": "stdout",
     "output_type": "stream",
     "text": [
      "Transit midtime in TESS time: 2385.0123000000603\n",
      "Flares found:\n",
      "        tstart        tstop     phase  ampl_rec       dur\n",
      "0  2344.570064  2344.570759  0.083406  0.061168  0.000694\n",
      "1  2344.961967  2344.962662  0.179503  0.273789  0.000694\n",
      "Wrote out LC to /home/ekaterina/Documents/001_science/lcs/2022_08_02_394561119_38_altai_0.fits.\n",
      "Get TESS Sector/Quarter 39, TIC 394561119, TOI-1107, fast cadence.\n"
     ]
    },
    {
     "name": "stderr",
     "output_type": "stream",
     "text": [
      "/home/ekaterina/Documents/000_envs/python37/lib/python3.7/site-packages/lightkurve/io/tess.py:34: ResourceWarning: unclosed file <_io.FileIO name='/home/ekaterina/Documents/001_science/lcs/mastDownload/TESS/tess2021146024351-s0039-0000000394561119-0210-a_fast/tess2021146024351-s0039-0000000394561119-0210-a_fast-lc.fits' mode='rb' closefd=True>\n",
      "  lc = read_generic_lightcurve(filename, flux_column=flux_column, time_format=\"btjd\")\n",
      "0% (199/116462) of the cadences will be ignored due to the quality mask (quality_bitmask=175).\n",
      "0% (199/116462) of the cadences will be ignored due to the quality mask (quality_bitmask=175).\n"
     ]
    },
    {
     "name": "stdout",
     "output_type": "stream",
     "text": [
      "date: 2022_08_02\n",
      "LC successfully detrended.\n"
     ]
    },
    {
     "name": "stderr",
     "output_type": "stream",
     "text": [
      "/home/ekaterina/Documents/000_envs/python37/lib/python3.7/site-packages/numpy/lib/nanfunctions.py:1117: RuntimeWarning: Mean of empty slice\n",
      "  return np.nanmean(a, axis, out=out, keepdims=keepdims)\n",
      "Found 1 candidate(s) in the (0,56493) gap.\n",
      "Found 0 candidate(s) in the (56493,116263) gap.\n",
      "/home/ekaterina/Documents/000_envs/python37/lib/python3.7/site-packages/ipykernel_launcher.py:88: LightkurveDeprecationWarning: The search_lightcurvefile function is deprecated and may be removed in a future version.\n",
      "        Use search_lightcurve() instead.\n"
     ]
    },
    {
     "name": "stdout",
     "output_type": "stream",
     "text": [
      "Transit midtime in TESS time: 2385.0123000000603\n",
      "Flares found:\n",
      "        tstart        tstop     phase  ampl_rec       dur\n",
      "0  2365.475528  2365.476223  0.209508  0.040637  0.000694\n",
      "Wrote out LC to /home/ekaterina/Documents/001_science/lcs/2022_08_02_394561119_39_altai_0.fits.\n",
      "\n",
      "---------------------\n",
      "3 flares found!\n",
      "-------------------\n",
      "\n",
      "(0, 0)\n"
     ]
    },
    {
     "name": "stderr",
     "output_type": "stream",
     "text": [
      "/home/ekaterina/Documents/000_envs/python37/lib/python3.7/site-packages/ipykernel_launcher.py:88: LightkurveDeprecationWarning: The search_lightcurvefile function is deprecated and may be removed in a future version.\n",
      "        Use search_lightcurve() instead.\n"
     ]
    },
    {
     "name": "stdout",
     "output_type": "stream",
     "text": [
      "Get TESS Sector/Quarter 18, TIC 396562848, LHS 1478, short cadence.\n"
     ]
    },
    {
     "name": "stderr",
     "output_type": "stream",
     "text": [
      "/home/ekaterina/Documents/000_envs/python37/lib/python3.7/site-packages/lightkurve/io/tess.py:34: ResourceWarning: unclosed file <_io.FileIO name='/home/ekaterina/Documents/001_science/lcs/mastDownload/TESS/tess2019306063752-s0018-0000000396562848-0162-s/tess2019306063752-s0018-0000000396562848-0162-s_lc.fits' mode='rb' closefd=True>\n",
      "  lc = read_generic_lightcurve(filename, flux_column=flux_column, time_format=\"btjd\")\n",
      "1% (201/16648) of the cadences will be ignored due to the quality mask (quality_bitmask=175).\n",
      "1% (201/16648) of the cadences will be ignored due to the quality mask (quality_bitmask=175).\n"
     ]
    },
    {
     "name": "stdout",
     "output_type": "stream",
     "text": [
      "date: 2022_08_02\n",
      "LC successfully detrended.\n"
     ]
    },
    {
     "name": "stderr",
     "output_type": "stream",
     "text": [
      "/home/ekaterina/Documents/000_envs/python37/lib/python3.7/site-packages/numpy/lib/nanfunctions.py:1117: RuntimeWarning: Mean of empty slice\n",
      "  return np.nanmean(a, axis, out=out, keepdims=keepdims)\n",
      "Found 0 candidate(s) in the (0,324) gap.\n",
      "Found 0 candidate(s) in the (324,7113) gap.\n",
      "Found 0 candidate(s) in the (7113,14557) gap.\n"
     ]
    },
    {
     "name": "stdout",
     "output_type": "stream",
     "text": [
      "Transit midtime in TESS time: 1792.6037189997733\n",
      "No flares found in LC.\n",
      "Wrote out LC to /home/ekaterina/Documents/001_science/lcs/2022_08_02_396562848_18_altai_0.fits.\n",
      "Get TESS Sector/Quarter 19, TIC 396562848, LHS 1478, short cadence.\n"
     ]
    },
    {
     "name": "stderr",
     "output_type": "stream",
     "text": [
      "/home/ekaterina/Documents/000_envs/python37/lib/python3.7/site-packages/lightkurve/io/tess.py:34: ResourceWarning: unclosed file <_io.FileIO name='/home/ekaterina/Documents/001_science/lcs/mastDownload/TESS/tess2019331140908-s0019-0000000396562848-0164-s/tess2019331140908-s0019-0000000396562848-0164-s_lc.fits' mode='rb' closefd=True>\n",
      "  lc = read_generic_lightcurve(filename, flux_column=flux_column, time_format=\"btjd\")\n",
      "2% (290/17355) of the cadences will be ignored due to the quality mask (quality_bitmask=175).\n",
      "2% (290/17355) of the cadences will be ignored due to the quality mask (quality_bitmask=175).\n"
     ]
    },
    {
     "name": "stdout",
     "output_type": "stream",
     "text": [
      "date: 2022_08_02\n",
      "LC successfully detrended.\n"
     ]
    },
    {
     "name": "stderr",
     "output_type": "stream",
     "text": [
      "/home/ekaterina/Documents/000_envs/python37/lib/python3.7/site-packages/numpy/lib/nanfunctions.py:1117: RuntimeWarning: Mean of empty slice\n",
      "  return np.nanmean(a, axis, out=out, keepdims=keepdims)\n",
      "Found 0 candidate(s) in the (0,8177) gap.\n",
      "Found 0 candidate(s) in the (8177,16816) gap.\n"
     ]
    },
    {
     "name": "stdout",
     "output_type": "stream",
     "text": [
      "Transit midtime in TESS time: 1792.6037189997733\n",
      "No flares found in LC.\n",
      "Wrote out LC to /home/ekaterina/Documents/001_science/lcs/2022_08_02_396562848_19_altai_0.fits.\n",
      "Get TESS Sector/Quarter 25, TIC 396562848, LHS 1478, short cadence.\n"
     ]
    },
    {
     "name": "stderr",
     "output_type": "stream",
     "text": [
      "/home/ekaterina/Documents/000_envs/python37/lib/python3.7/site-packages/lightkurve/io/tess.py:34: ResourceWarning: unclosed file <_io.FileIO name='/home/ekaterina/Documents/001_science/lcs/mastDownload/TESS/tess2020133194932-s0025-0000000396562848-0182-s/tess2020133194932-s0025-0000000396562848-0182-s_lc.fits' mode='rb' closefd=True>\n",
      "  lc = read_generic_lightcurve(filename, flux_column=flux_column, time_format=\"btjd\")\n",
      "2% (324/17570) of the cadences will be ignored due to the quality mask (quality_bitmask=175).\n",
      "2% (324/17570) of the cadences will be ignored due to the quality mask (quality_bitmask=175).\n"
     ]
    },
    {
     "name": "stdout",
     "output_type": "stream",
     "text": [
      "date: 2022_08_02\n",
      "LC successfully detrended.\n"
     ]
    },
    {
     "name": "stderr",
     "output_type": "stream",
     "text": [
      "/home/ekaterina/Documents/000_envs/python37/lib/python3.7/site-packages/numpy/lib/nanfunctions.py:1117: RuntimeWarning: Mean of empty slice\n",
      "  return np.nanmean(a, axis, out=out, keepdims=keepdims)\n",
      "Found 0 candidate(s) in the (0,8478) gap.\n",
      "Found 0 candidate(s) in the (8478,17246) gap.\n"
     ]
    },
    {
     "name": "stdout",
     "output_type": "stream",
     "text": [
      "Transit midtime in TESS time: 1792.6037189997733\n",
      "No flares found in LC.\n",
      "Wrote out LC to /home/ekaterina/Documents/001_science/lcs/2022_08_02_396562848_25_altai_0.fits.\n",
      "Get TESS Sector/Quarter 26, TIC 396562848, LHS 1478, short cadence.\n"
     ]
    },
    {
     "name": "stderr",
     "output_type": "stream",
     "text": [
      "/home/ekaterina/Documents/000_envs/python37/lib/python3.7/site-packages/lightkurve/io/tess.py:34: ResourceWarning: unclosed file <_io.FileIO name='/home/ekaterina/Documents/001_science/lcs/mastDownload/TESS/tess2020160202036-s0026-0000000396562848-0188-s/tess2020160202036-s0026-0000000396562848-0188-s_lc.fits' mode='rb' closefd=True>\n",
      "  lc = read_generic_lightcurve(filename, flux_column=flux_column, time_format=\"btjd\")\n",
      "2% (306/17248) of the cadences will be ignored due to the quality mask (quality_bitmask=175).\n",
      "2% (306/17248) of the cadences will be ignored due to the quality mask (quality_bitmask=175).\n"
     ]
    },
    {
     "name": "stdout",
     "output_type": "stream",
     "text": [
      "date: 2022_08_02\n",
      "LC successfully detrended.\n"
     ]
    },
    {
     "name": "stderr",
     "output_type": "stream",
     "text": [
      "/home/ekaterina/Documents/000_envs/python37/lib/python3.7/site-packages/numpy/lib/nanfunctions.py:1117: RuntimeWarning: Mean of empty slice\n",
      "  return np.nanmean(a, axis, out=out, keepdims=keepdims)\n",
      "Found 0 candidate(s) in the (0,7828) gap.\n",
      "Found 0 candidate(s) in the (7828,8093) gap.\n",
      "Found 0 candidate(s) in the (8093,16083) gap.\n"
     ]
    },
    {
     "name": "stdout",
     "output_type": "stream",
     "text": [
      "Transit midtime in TESS time: 1792.6037189997733\n",
      "No flares found in LC.\n",
      "Wrote out LC to /home/ekaterina/Documents/001_science/lcs/2022_08_02_396562848_26_altai_0.fits.\n",
      "Get TESS Sector/Quarter 52, TIC 396562848, LHS 1478, short cadence.\n"
     ]
    },
    {
     "name": "stderr",
     "output_type": "stream",
     "text": [
      "/home/ekaterina/Documents/000_envs/python37/lib/python3.7/site-packages/lightkurve/io/tess.py:34: ResourceWarning: unclosed file <_io.FileIO name='/home/ekaterina/Documents/001_science/lcs/mastDownload/TESS/tess2022138205153-s0052-0000000396562848-0224-s/tess2022138205153-s0052-0000000396562848-0224-s_lc.fits' mode='rb' closefd=True>\n",
      "  lc = read_generic_lightcurve(filename, flux_column=flux_column, time_format=\"btjd\")\n",
      "0% (30/16779) of the cadences will be ignored due to the quality mask (quality_bitmask=175).\n",
      "0% (30/16779) of the cadences will be ignored due to the quality mask (quality_bitmask=175).\n"
     ]
    },
    {
     "name": "stdout",
     "output_type": "stream",
     "text": [
      "date: 2022_08_02\n",
      "LC successfully detrended.\n"
     ]
    },
    {
     "name": "stderr",
     "output_type": "stream",
     "text": [
      "/home/ekaterina/Documents/000_envs/python37/lib/python3.7/site-packages/numpy/lib/nanfunctions.py:1117: RuntimeWarning: Mean of empty slice\n",
      "  return np.nanmean(a, axis, out=out, keepdims=keepdims)\n",
      "Found 0 candidate(s) in the (0,8385) gap.\n",
      "Found 0 candidate(s) in the (8385,16749) gap.\n"
     ]
    },
    {
     "name": "stdout",
     "output_type": "stream",
     "text": [
      "Transit midtime in TESS time: 1792.6037189997733\n",
      "No flares found in LC.\n",
      "Wrote out LC to /home/ekaterina/Documents/001_science/lcs/2022_08_02_396562848_52_altai_0.fits.\n",
      "Get TESS Sector/Quarter 53, TIC 396562848, LHS 1478, short cadence.\n"
     ]
    },
    {
     "name": "stderr",
     "output_type": "stream",
     "text": [
      "/home/ekaterina/Documents/000_envs/python37/lib/python3.7/site-packages/lightkurve/io/tess.py:34: ResourceWarning: unclosed file <_io.FileIO name='/home/ekaterina/Documents/001_science/lcs/mastDownload/TESS/tess2022164095748-s0053-0000000396562848-0226-s/tess2022164095748-s0053-0000000396562848-0226-s_lc.fits' mode='rb' closefd=True>\n",
      "  lc = read_generic_lightcurve(filename, flux_column=flux_column, time_format=\"btjd\")\n",
      "0% (30/17336) of the cadences will be ignored due to the quality mask (quality_bitmask=175).\n",
      "0% (30/17336) of the cadences will be ignored due to the quality mask (quality_bitmask=175).\n"
     ]
    },
    {
     "name": "stdout",
     "output_type": "stream",
     "text": [
      "date: 2022_08_02\n",
      "LC successfully detrended.\n"
     ]
    },
    {
     "name": "stderr",
     "output_type": "stream",
     "text": [
      "/home/ekaterina/Documents/000_envs/python37/lib/python3.7/site-packages/numpy/lib/nanfunctions.py:1117: RuntimeWarning: Mean of empty slice\n",
      "  return np.nanmean(a, axis, out=out, keepdims=keepdims)\n",
      "Found 0 candidate(s) in the (0,537) gap.\n",
      "Found 0 candidate(s) in the (537,8267) gap.\n",
      "Found 0 candidate(s) in the (8267,16945) gap.\n",
      "/home/ekaterina/Documents/000_envs/python37/lib/python3.7/site-packages/ipykernel_launcher.py:88: LightkurveDeprecationWarning: The search_lightcurvefile function is deprecated and may be removed in a future version.\n",
      "        Use search_lightcurve() instead.\n"
     ]
    },
    {
     "name": "stdout",
     "output_type": "stream",
     "text": [
      "Transit midtime in TESS time: 1792.6037189997733\n",
      "No flares found in LC.\n",
      "Wrote out LC to /home/ekaterina/Documents/001_science/lcs/2022_08_02_396562848_53_altai_0.fits.\n",
      "\n",
      "---------------------\n",
      "0 flares found!\n",
      "-------------------\n",
      "\n",
      "(0, 0)\n",
      "Get TESS Sector/Quarter 45, TIC 396972464, K2-12, short cadence.\n"
     ]
    },
    {
     "name": "stderr",
     "output_type": "stream",
     "text": [
      "/home/ekaterina/Documents/000_envs/python37/lib/python3.7/site-packages/lightkurve/io/tess.py:34: ResourceWarning: unclosed file <_io.FileIO name='/home/ekaterina/Documents/001_science/lcs/mastDownload/TESS/tess2021310001228-s0045-0000000396972464-0216-s/tess2021310001228-s0045-0000000396972464-0216-s_lc.fits' mode='rb' closefd=True>\n",
      "  lc = read_generic_lightcurve(filename, flux_column=flux_column, time_format=\"btjd\")\n",
      "1% (186/17256) of the cadences will be ignored due to the quality mask (quality_bitmask=175).\n",
      "1% (186/17256) of the cadences will be ignored due to the quality mask (quality_bitmask=175).\n"
     ]
    },
    {
     "name": "stdout",
     "output_type": "stream",
     "text": [
      "date: 2022_08_02\n",
      "LC successfully detrended.\n"
     ]
    },
    {
     "name": "stderr",
     "output_type": "stream",
     "text": [
      "/home/ekaterina/Documents/000_envs/python37/lib/python3.7/site-packages/numpy/lib/nanfunctions.py:1117: RuntimeWarning: Mean of empty slice\n",
      "  return np.nanmean(a, axis, out=out, keepdims=keepdims)\n",
      "Found 0 candidate(s) in the (0,8239) gap.\n",
      "Found 0 candidate(s) in the (8239,16204) gap.\n"
     ]
    },
    {
     "name": "stdout",
     "output_type": "stream",
     "text": [
      "Transit midtime in TESS time: -184.626600000076\n",
      "No flares found in LC.\n",
      "Wrote out LC to /home/ekaterina/Documents/001_science/lcs/2022_08_02_396972464_45_altai_0.fits.\n",
      "Get TESS Sector/Quarter 46, TIC 396972464, K2-12, short cadence.\n"
     ]
    },
    {
     "name": "stderr",
     "output_type": "stream",
     "text": [
      "/home/ekaterina/Documents/000_envs/python37/lib/python3.7/site-packages/lightkurve/io/tess.py:34: ResourceWarning: unclosed file <_io.FileIO name='/home/ekaterina/Documents/001_science/lcs/mastDownload/TESS/tess2021336043614-s0046-0000000396972464-0217-s/tess2021336043614-s0046-0000000396972464-0217-s_lc.fits' mode='rb' closefd=True>\n",
      "  lc = read_generic_lightcurve(filename, flux_column=flux_column, time_format=\"btjd\")\n",
      "2% (387/18539) of the cadences will be ignored due to the quality mask (quality_bitmask=175).\n",
      "2% (387/18539) of the cadences will be ignored due to the quality mask (quality_bitmask=175).\n"
     ]
    },
    {
     "name": "stdout",
     "output_type": "stream",
     "text": [
      "date: 2022_08_02\n",
      "LC successfully detrended.\n"
     ]
    },
    {
     "name": "stderr",
     "output_type": "stream",
     "text": [
      "/home/ekaterina/Documents/000_envs/python37/lib/python3.7/site-packages/numpy/lib/nanfunctions.py:1117: RuntimeWarning: Mean of empty slice\n",
      "  return np.nanmean(a, axis, out=out, keepdims=keepdims)\n",
      "Found 0 candidate(s) in the (0,8349) gap.\n",
      "Found 0 candidate(s) in the (8349,16950) gap.\n",
      "/home/ekaterina/Documents/000_envs/python37/lib/python3.7/site-packages/ipykernel_launcher.py:88: LightkurveDeprecationWarning: The search_lightcurvefile function is deprecated and may be removed in a future version.\n",
      "        Use search_lightcurve() instead.\n"
     ]
    },
    {
     "name": "stdout",
     "output_type": "stream",
     "text": [
      "Transit midtime in TESS time: -184.626600000076\n",
      "No flares found in LC.\n",
      "Wrote out LC to /home/ekaterina/Documents/001_science/lcs/2022_08_02_396972464_46_altai_0.fits.\n",
      "\n",
      "---------------------\n",
      "0 flares found!\n",
      "-------------------\n",
      "\n",
      "(0, 0)\n",
      "Get TESS Sector/Quarter 45, TIC 397022282, K2-48, short cadence.\n"
     ]
    },
    {
     "name": "stderr",
     "output_type": "stream",
     "text": [
      "/home/ekaterina/Documents/000_envs/python37/lib/python3.7/site-packages/lightkurve/io/tess.py:34: ResourceWarning: unclosed file <_io.FileIO name='/home/ekaterina/Documents/001_science/lcs/mastDownload/TESS/tess2021310001228-s0045-0000000397022282-0216-s/tess2021310001228-s0045-0000000397022282-0216-s_lc.fits' mode='rb' closefd=True>\n",
      "  lc = read_generic_lightcurve(filename, flux_column=flux_column, time_format=\"btjd\")\n",
      "1% (186/17256) of the cadences will be ignored due to the quality mask (quality_bitmask=175).\n",
      "1% (186/17256) of the cadences will be ignored due to the quality mask (quality_bitmask=175).\n"
     ]
    },
    {
     "name": "stdout",
     "output_type": "stream",
     "text": [
      "date: 2022_08_02\n",
      "LC successfully detrended.\n"
     ]
    },
    {
     "name": "stderr",
     "output_type": "stream",
     "text": [
      "/home/ekaterina/Documents/000_envs/python37/lib/python3.7/site-packages/numpy/lib/nanfunctions.py:1117: RuntimeWarning: Mean of empty slice\n",
      "  return np.nanmean(a, axis, out=out, keepdims=keepdims)\n",
      "Found 0 candidate(s) in the (0,8254) gap.\n",
      "Found 0 candidate(s) in the (8254,16233) gap.\n"
     ]
    },
    {
     "name": "stdout",
     "output_type": "stream",
     "text": [
      "Transit midtime in TESS time: -182.5140999997966\n",
      "No flares found in LC.\n",
      "Wrote out LC to /home/ekaterina/Documents/001_science/lcs/2022_08_02_397022282_45_altai_0.fits.\n",
      "Get TESS Sector/Quarter 46, TIC 397022282, K2-48, short cadence.\n"
     ]
    },
    {
     "name": "stderr",
     "output_type": "stream",
     "text": [
      "/home/ekaterina/Documents/000_envs/python37/lib/python3.7/site-packages/lightkurve/io/tess.py:34: ResourceWarning: unclosed file <_io.FileIO name='/home/ekaterina/Documents/001_science/lcs/mastDownload/TESS/tess2021336043614-s0046-0000000397022282-0217-s/tess2021336043614-s0046-0000000397022282-0217-s_lc.fits' mode='rb' closefd=True>\n",
      "  lc = read_generic_lightcurve(filename, flux_column=flux_column, time_format=\"btjd\")\n",
      "2% (387/18539) of the cadences will be ignored due to the quality mask (quality_bitmask=175).\n",
      "2% (387/18539) of the cadences will be ignored due to the quality mask (quality_bitmask=175).\n"
     ]
    },
    {
     "name": "stdout",
     "output_type": "stream",
     "text": [
      "date: 2022_08_02\n",
      "LC successfully detrended.\n"
     ]
    },
    {
     "name": "stderr",
     "output_type": "stream",
     "text": [
      "/home/ekaterina/Documents/000_envs/python37/lib/python3.7/site-packages/numpy/lib/nanfunctions.py:1117: RuntimeWarning: Mean of empty slice\n",
      "  return np.nanmean(a, axis, out=out, keepdims=keepdims)\n",
      "Found 0 candidate(s) in the (0,8347) gap.\n",
      "Found 0 candidate(s) in the (8347,16940) gap.\n",
      "/home/ekaterina/Documents/000_envs/python37/lib/python3.7/site-packages/ipykernel_launcher.py:88: LightkurveDeprecationWarning: The search_lightcurvefile function is deprecated and may be removed in a future version.\n",
      "        Use search_lightcurve() instead.\n"
     ]
    },
    {
     "name": "stdout",
     "output_type": "stream",
     "text": [
      "Transit midtime in TESS time: -182.5140999997966\n",
      "No flares found in LC.\n",
      "Wrote out LC to /home/ekaterina/Documents/001_science/lcs/2022_08_02_397022282_46_altai_0.fits.\n",
      "\n",
      "---------------------\n",
      "0 flares found!\n",
      "-------------------\n",
      "\n",
      "(0, 0)\n"
     ]
    },
    {
     "name": "stderr",
     "output_type": "stream",
     "text": [
      "/home/ekaterina/Documents/000_envs/python37/lib/python3.7/site-packages/ipykernel_launcher.py:88: LightkurveDeprecationWarning: The search_lightcurvefile function is deprecated and may be removed in a future version.\n",
      "        Use search_lightcurve() instead.\n"
     ]
    },
    {
     "name": "stdout",
     "output_type": "stream",
     "text": [
      "Get TESS Sector/Quarter 46, TIC 397056271, K2-153, short cadence.\n"
     ]
    },
    {
     "name": "stderr",
     "output_type": "stream",
     "text": [
      "/home/ekaterina/Documents/000_envs/python37/lib/python3.7/site-packages/lightkurve/io/tess.py:34: ResourceWarning: unclosed file <_io.FileIO name='/home/ekaterina/Documents/001_science/lcs/mastDownload/TESS/tess2021336043614-s0046-0000000397056271-0217-s/tess2021336043614-s0046-0000000397056271-0217-s_lc.fits' mode='rb' closefd=True>\n",
      "  lc = read_generic_lightcurve(filename, flux_column=flux_column, time_format=\"btjd\")\n",
      "2% (387/18539) of the cadences will be ignored due to the quality mask (quality_bitmask=175).\n",
      "2% (387/18539) of the cadences will be ignored due to the quality mask (quality_bitmask=175).\n"
     ]
    },
    {
     "name": "stdout",
     "output_type": "stream",
     "text": [
      "date: 2022_08_02\n",
      "LC successfully detrended.\n"
     ]
    },
    {
     "name": "stderr",
     "output_type": "stream",
     "text": [
      "/home/ekaterina/Documents/000_envs/python37/lib/python3.7/site-packages/numpy/lib/nanfunctions.py:1117: RuntimeWarning: Mean of empty slice\n",
      "  return np.nanmean(a, axis, out=out, keepdims=keepdims)\n",
      "Found 0 candidate(s) in the (0,7999) gap.\n",
      "Found 0 candidate(s) in the (7999,16264) gap.\n",
      "/home/ekaterina/Documents/000_envs/python37/lib/python3.7/site-packages/ipykernel_launcher.py:88: LightkurveDeprecationWarning: The search_lightcurvefile function is deprecated and may be removed in a future version.\n",
      "        Use search_lightcurve() instead.\n"
     ]
    },
    {
     "name": "stdout",
     "output_type": "stream",
     "text": [
      "Transit midtime in TESS time: 588.4270000001416\n",
      "No flares found in LC.\n",
      "Wrote out LC to /home/ekaterina/Documents/001_science/lcs/2022_08_02_397056271_46_altai_0.fits.\n",
      "\n",
      "---------------------\n",
      "0 flares found!\n",
      "-------------------\n",
      "\n",
      "(0, 0)\n",
      "Get TESS Sector/Quarter 27, TIC 398275886, K2-147, fast cadence.\n"
     ]
    },
    {
     "name": "stderr",
     "output_type": "stream",
     "text": [
      "/home/ekaterina/Documents/000_envs/python37/lib/python3.7/site-packages/lightkurve/io/tess.py:34: ResourceWarning: unclosed file <_io.FileIO name='/home/ekaterina/Documents/001_science/lcs/mastDownload/TESS/tess2020186164531-s0027-0000000398275886-0189-a_fast/tess2020186164531-s0027-0000000398275886-0189-a_fast-lc.fits' mode='rb' closefd=True>\n",
      "  lc = read_generic_lightcurve(filename, flux_column=flux_column, time_format=\"btjd\")\n",
      "0% (154/100890) of the cadences will be ignored due to the quality mask (quality_bitmask=175).\n",
      "0% (154/100890) of the cadences will be ignored due to the quality mask (quality_bitmask=175).\n"
     ]
    },
    {
     "name": "stdout",
     "output_type": "stream",
     "text": [
      "date: 2022_08_02\n",
      "LC successfully detrended.\n"
     ]
    },
    {
     "name": "stderr",
     "output_type": "stream",
     "text": [
      "/home/ekaterina/Documents/000_envs/python37/lib/python3.7/site-packages/numpy/lib/nanfunctions.py:1117: RuntimeWarning: Mean of empty slice\n",
      "  return np.nanmean(a, axis, out=out, keepdims=keepdims)\n",
      "Found 0 candidate(s) in the (0,51149) gap.\n",
      "Found 0 candidate(s) in the (51149,100736) gap.\n",
      "/home/ekaterina/Documents/000_envs/python37/lib/python3.7/site-packages/ipykernel_launcher.py:88: LightkurveDeprecationWarning: The search_lightcurvefile function is deprecated and may be removed in a future version.\n",
      "        Use search_lightcurve() instead.\n"
     ]
    },
    {
     "name": "stdout",
     "output_type": "stream",
     "text": [
      "Transit midtime in TESS time: 327.91683000000194\n",
      "No flares found in LC.\n",
      "Wrote out LC to /home/ekaterina/Documents/001_science/lcs/2022_08_02_398275886_27_altai_0.fits.\n",
      "\n",
      "---------------------\n",
      "0 flares found!\n",
      "-------------------\n",
      "\n",
      "(0, 0)\n",
      "Get TESS Sector/Quarter 42, TIC 398572544, WASP-28, short cadence.\n"
     ]
    },
    {
     "name": "stderr",
     "output_type": "stream",
     "text": [
      "/home/ekaterina/Documents/000_envs/python37/lib/python3.7/site-packages/lightkurve/io/tess.py:34: ResourceWarning: unclosed file <_io.FileIO name='/home/ekaterina/Documents/001_science/lcs/mastDownload/TESS/tess2021232031932-s0042-0000000398572544-0213-s/tess2021232031932-s0042-0000000398572544-0213-s_lc.fits' mode='rb' closefd=True>\n",
      "  lc = read_generic_lightcurve(filename, flux_column=flux_column, time_format=\"btjd\")\n",
      "2% (307/17674) of the cadences will be ignored due to the quality mask (quality_bitmask=175).\n",
      "2% (307/17674) of the cadences will be ignored due to the quality mask (quality_bitmask=175).\n"
     ]
    },
    {
     "name": "stdout",
     "output_type": "stream",
     "text": [
      "date: 2022_08_02\n",
      "LC successfully detrended.\n"
     ]
    },
    {
     "name": "stderr",
     "output_type": "stream",
     "text": [
      "/home/ekaterina/Documents/000_envs/python37/lib/python3.7/site-packages/numpy/lib/nanfunctions.py:1117: RuntimeWarning: Mean of empty slice\n",
      "  return np.nanmean(a, axis, out=out, keepdims=keepdims)\n",
      "Found 0 candidate(s) in the (0,4238) gap.\n",
      "Found 1 candidate(s) in the (4238,11098) gap.\n",
      "/home/ekaterina/Documents/000_envs/python37/lib/python3.7/site-packages/ipykernel_launcher.py:88: LightkurveDeprecationWarning: The search_lightcurvefile function is deprecated and may be removed in a future version.\n",
      "        Use search_lightcurve() instead.\n"
     ]
    },
    {
     "name": "stdout",
     "output_type": "stream",
     "text": [
      "Transit midtime in TESS time: 2449.1847660001367\n",
      "Flares found:\n",
      "        tstart       tstop     phase  ampl_rec       dur\n",
      "0  2469.696812  2469.74959  0.017319  0.026803  0.052778\n",
      "Wrote out LC to /home/ekaterina/Documents/001_science/lcs/2022_08_02_398572544_42_altai_0.fits.\n",
      "\n",
      "---------------------\n",
      "1 flares found!\n",
      "-------------------\n",
      "\n",
      "(0, 0)\n"
     ]
    },
    {
     "name": "stderr",
     "output_type": "stream",
     "text": [
      "No data found for target \"HAT-P-41\".\n",
      "No data found for target \"HAT-P-41\".\n",
      "/home/ekaterina/Documents/000_envs/python37/lib/python3.7/site-packages/ipykernel_launcher.py:93: LightkurveDeprecationWarning: The search_lightcurvefile function is deprecated and may be removed in a future version.\n",
      "        Use search_lightcurve() instead.\n",
      "No data found for target \"TIC 398895470\".\n",
      "No data found for target \"TIC 398895470\".\n",
      "/home/ekaterina/Documents/000_envs/python37/lib/python3.7/site-packages/ipykernel_launcher.py:88: LightkurveDeprecationWarning: The search_lightcurvefile function is deprecated and may be removed in a future version.\n",
      "        Use search_lightcurve() instead.\n"
     ]
    },
    {
     "name": "stdout",
     "output_type": "stream",
     "text": [
      "Get TESS Sector/Quarter 37, TIC 398943781, WASP-41, fast cadence.\n"
     ]
    },
    {
     "name": "stderr",
     "output_type": "stream",
     "text": [
      "/home/ekaterina/Documents/000_envs/python37/lib/python3.7/site-packages/lightkurve/io/tess.py:34: ResourceWarning: unclosed file <_io.FileIO name='/home/ekaterina/Documents/001_science/lcs/mastDownload/TESS/tess2021091135823-s0037-0000000398943781-0208-a_fast/tess2021091135823-s0037-0000000398943781-0208-a_fast-lc.fits' mode='rb' closefd=True>\n",
      "  lc = read_generic_lightcurve(filename, flux_column=flux_column, time_format=\"btjd\")\n",
      "0% (267/104361) of the cadences will be ignored due to the quality mask (quality_bitmask=175).\n",
      "0% (267/104361) of the cadences will be ignored due to the quality mask (quality_bitmask=175).\n"
     ]
    },
    {
     "name": "stdout",
     "output_type": "stream",
     "text": [
      "date: 2022_08_02\n",
      "LC successfully detrended.\n"
     ]
    },
    {
     "name": "stderr",
     "output_type": "stream",
     "text": [
      "/home/ekaterina/Documents/000_envs/python37/lib/python3.7/site-packages/numpy/lib/nanfunctions.py:1117: RuntimeWarning: Mean of empty slice\n",
      "  return np.nanmean(a, axis, out=out, keepdims=keepdims)\n",
      "Found 0 candidate(s) in the (0,43502) gap.\n",
      "Found 0 candidate(s) in the (43502,87626) gap.\n"
     ]
    },
    {
     "name": "stdout",
     "output_type": "stream",
     "text": [
      "Transit midtime in TESS time: 2308.5349220000207\n",
      "No flares found in LC.\n",
      "Wrote out LC to /home/ekaterina/Documents/001_science/lcs/2022_08_02_398943781_37_altai_0.fits.\n",
      "Get TESS Sector/Quarter 10, TIC 398943781, WASP-41, short cadence.\n"
     ]
    },
    {
     "name": "stderr",
     "output_type": "stream",
     "text": [
      "/home/ekaterina/Documents/000_envs/python37/lib/python3.7/site-packages/lightkurve/io/tess.py:34: ResourceWarning: unclosed file <_io.FileIO name='/home/ekaterina/Documents/001_science/lcs/mastDownload/TESS/tess2019085135100-s0010-0000000398943781-0140-s/tess2019085135100-s0010-0000000398943781-0140-s_lc.fits' mode='rb' closefd=True>\n",
      "  lc = read_generic_lightcurve(filename, flux_column=flux_column, time_format=\"btjd\")\n",
      "3% (505/18197) of the cadences will be ignored due to the quality mask (quality_bitmask=175).\n",
      "3% (505/18197) of the cadences will be ignored due to the quality mask (quality_bitmask=175).\n"
     ]
    },
    {
     "name": "stdout",
     "output_type": "stream",
     "text": [
      "date: 2022_08_02\n",
      "LC successfully detrended.\n"
     ]
    },
    {
     "name": "stderr",
     "output_type": "stream",
     "text": [
      "/home/ekaterina/Documents/000_envs/python37/lib/python3.7/site-packages/numpy/lib/nanfunctions.py:1117: RuntimeWarning: Mean of empty slice\n",
      "  return np.nanmean(a, axis, out=out, keepdims=keepdims)\n",
      "Found 0 candidate(s) in the (0,7413) gap.\n",
      "Found 0 candidate(s) in the (7413,14776) gap.\n",
      "/home/ekaterina/Documents/000_envs/python37/lib/python3.7/site-packages/ipykernel_launcher.py:88: LightkurveDeprecationWarning: The search_lightcurvefile function is deprecated and may be removed in a future version.\n",
      "        Use search_lightcurve() instead.\n"
     ]
    },
    {
     "name": "stdout",
     "output_type": "stream",
     "text": [
      "Transit midtime in TESS time: 2308.5349220000207\n",
      "No flares found in LC.\n",
      "Wrote out LC to /home/ekaterina/Documents/001_science/lcs/2022_08_02_398943781_10_altai_0.fits.\n",
      "\n",
      "---------------------\n",
      "0 flares found!\n",
      "-------------------\n",
      "\n",
      "(0, 0)\n",
      "Get TESS Sector/Quarter 24, TIC 39903405, HAT-P-2, short cadence.\n"
     ]
    },
    {
     "name": "stderr",
     "output_type": "stream",
     "text": [
      "/home/ekaterina/Documents/000_envs/python37/lib/python3.7/site-packages/lightkurve/io/tess.py:34: ResourceWarning: unclosed file <_io.FileIO name='/home/ekaterina/Documents/001_science/lcs/mastDownload/TESS/tess2020106103520-s0024-0000000039903405-0180-s/tess2020106103520-s0024-0000000039903405-0180-s_lc.fits' mode='rb' closefd=True>\n",
      "  lc = read_generic_lightcurve(filename, flux_column=flux_column, time_format=\"btjd\")\n",
      "1% (196/18413) of the cadences will be ignored due to the quality mask (quality_bitmask=175).\n",
      "1% (196/18413) of the cadences will be ignored due to the quality mask (quality_bitmask=175).\n"
     ]
    },
    {
     "name": "stdout",
     "output_type": "stream",
     "text": [
      "date: 2022_08_02\n",
      "LC successfully detrended.\n"
     ]
    },
    {
     "name": "stderr",
     "output_type": "stream",
     "text": [
      "/home/ekaterina/Documents/000_envs/python37/lib/python3.7/site-packages/numpy/lib/nanfunctions.py:1117: RuntimeWarning: Mean of empty slice\n",
      "  return np.nanmean(a, axis, out=out, keepdims=keepdims)\n",
      "Found 0 candidate(s) in the (0,8938) gap.\n",
      "Found 0 candidate(s) in the (8938,18217) gap.\n"
     ]
    },
    {
     "name": "stdout",
     "output_type": "stream",
     "text": [
      "Transit midtime in TESS time: 2711.121970000211\n",
      "No flares found in LC.\n",
      "Wrote out LC to /home/ekaterina/Documents/001_science/lcs/2022_08_02_39903405_24_altai_0.fits.\n",
      "Get TESS Sector/Quarter 25, TIC 39903405, HAT-P-2, short cadence.\n"
     ]
    },
    {
     "name": "stderr",
     "output_type": "stream",
     "text": [
      "/home/ekaterina/Documents/000_envs/python37/lib/python3.7/site-packages/lightkurve/io/tess.py:34: ResourceWarning: unclosed file <_io.FileIO name='/home/ekaterina/Documents/001_science/lcs/mastDownload/TESS/tess2020133194932-s0025-0000000039903405-0182-s/tess2020133194932-s0025-0000000039903405-0182-s_lc.fits' mode='rb' closefd=True>\n",
      "  lc = read_generic_lightcurve(filename, flux_column=flux_column, time_format=\"btjd\")\n",
      "2% (324/17570) of the cadences will be ignored due to the quality mask (quality_bitmask=175).\n",
      "2% (324/17570) of the cadences will be ignored due to the quality mask (quality_bitmask=175).\n"
     ]
    },
    {
     "name": "stdout",
     "output_type": "stream",
     "text": [
      "date: 2022_08_02\n",
      "LC successfully detrended.\n"
     ]
    },
    {
     "name": "stderr",
     "output_type": "stream",
     "text": [
      "/home/ekaterina/Documents/000_envs/python37/lib/python3.7/site-packages/numpy/lib/nanfunctions.py:1117: RuntimeWarning: Mean of empty slice\n",
      "  return np.nanmean(a, axis, out=out, keepdims=keepdims)\n",
      "Found 4 candidate(s) in the (0,8478) gap.\n",
      "Found 0 candidate(s) in the (8478,17246) gap.\n"
     ]
    },
    {
     "name": "stdout",
     "output_type": "stream",
     "text": [
      "Transit midtime in TESS time: 2711.121970000211\n",
      "Flares found:\n",
      "        tstart        tstop     phase  ampl_rec       dur\n",
      "0  1995.305123  1995.317622  0.936036  0.001685  0.012500\n",
      "1  1995.325956  1995.339844  0.939734  0.001382  0.013889\n",
      "2  1995.350955  1995.360678  0.944172  0.001681  0.009722\n",
      "3  1995.377344  1995.591231  0.948856  0.002667  0.213887\n",
      "Wrote out LC to /home/ekaterina/Documents/001_science/lcs/2022_08_02_39903405_25_altai_0.fits.\n",
      "Get TESS Sector/Quarter 51, TIC 39903405, HAT-P-2, short cadence.\n"
     ]
    },
    {
     "name": "stderr",
     "output_type": "stream",
     "text": [
      "/home/ekaterina/Documents/000_envs/python37/lib/python3.7/site-packages/lightkurve/io/tess.py:34: ResourceWarning: unclosed file <_io.FileIO name='/home/ekaterina/Documents/001_science/lcs/mastDownload/TESS/tess2022112184951-s0051-0000000039903405-0223-s/tess2022112184951-s0051-0000000039903405-0223-s_lc.fits' mode='rb' closefd=True>\n",
      "  lc = read_generic_lightcurve(filename, flux_column=flux_column, time_format=\"btjd\")\n",
      "3% (572/16999) of the cadences will be ignored due to the quality mask (quality_bitmask=175).\n",
      "3% (572/16999) of the cadences will be ignored due to the quality mask (quality_bitmask=175).\n"
     ]
    },
    {
     "name": "stdout",
     "output_type": "stream",
     "text": [
      "date: 2022_08_02\n",
      "LC successfully detrended.\n"
     ]
    },
    {
     "name": "stderr",
     "output_type": "stream",
     "text": [
      "/home/ekaterina/Documents/000_envs/python37/lib/python3.7/site-packages/numpy/lib/nanfunctions.py:1117: RuntimeWarning: Mean of empty slice\n",
      "  return np.nanmean(a, axis, out=out, keepdims=keepdims)\n",
      "Found 0 candidate(s) in the (0,351) gap.\n",
      "Found 0 candidate(s) in the (351,6232) gap.\n",
      "Found 0 candidate(s) in the (6232,11702) gap.\n"
     ]
    },
    {
     "name": "stdout",
     "output_type": "stream",
     "text": [
      "Transit midtime in TESS time: 2711.121970000211\n",
      "No flares found in LC.\n",
      "Wrote out LC to /home/ekaterina/Documents/001_science/lcs/2022_08_02_39903405_51_altai_0.fits.\n",
      "Get TESS Sector/Quarter 52, TIC 39903405, HAT-P-2, short cadence.\n"
     ]
    },
    {
     "name": "stderr",
     "output_type": "stream",
     "text": [
      "/home/ekaterina/Documents/000_envs/python37/lib/python3.7/site-packages/lightkurve/io/tess.py:34: ResourceWarning: unclosed file <_io.FileIO name='/home/ekaterina/Documents/001_science/lcs/mastDownload/TESS/tess2022138205153-s0052-0000000039903405-0224-s/tess2022138205153-s0052-0000000039903405-0224-s_lc.fits' mode='rb' closefd=True>\n",
      "  lc = read_generic_lightcurve(filename, flux_column=flux_column, time_format=\"btjd\")\n",
      "0% (30/16779) of the cadences will be ignored due to the quality mask (quality_bitmask=175).\n",
      "0% (30/16779) of the cadences will be ignored due to the quality mask (quality_bitmask=175).\n"
     ]
    },
    {
     "name": "stdout",
     "output_type": "stream",
     "text": [
      "date: 2022_08_02\n",
      "LC successfully detrended.\n"
     ]
    },
    {
     "name": "stderr",
     "output_type": "stream",
     "text": [
      "/home/ekaterina/Documents/000_envs/python37/lib/python3.7/site-packages/numpy/lib/nanfunctions.py:1117: RuntimeWarning: Mean of empty slice\n",
      "  return np.nanmean(a, axis, out=out, keepdims=keepdims)\n",
      "Found 0 candidate(s) in the (0,8385) gap.\n",
      "Found 0 candidate(s) in the (8385,16749) gap.\n",
      "/home/ekaterina/Documents/000_envs/python37/lib/python3.7/site-packages/ipykernel_launcher.py:88: LightkurveDeprecationWarning: The search_lightcurvefile function is deprecated and may be removed in a future version.\n",
      "        Use search_lightcurve() instead.\n"
     ]
    },
    {
     "name": "stdout",
     "output_type": "stream",
     "text": [
      "Transit midtime in TESS time: 2711.121970000211\n",
      "No flares found in LC.\n",
      "Wrote out LC to /home/ekaterina/Documents/001_science/lcs/2022_08_02_39903405_52_altai_0.fits.\n",
      "\n",
      "---------------------\n",
      "4 flares found!\n",
      "-------------------\n",
      "\n",
      "(0, 0)\n"
     ]
    },
    {
     "name": "stderr",
     "output_type": "stream",
     "text": [
      "/home/ekaterina/Documents/000_envs/python37/lib/python3.7/site-packages/ipykernel_launcher.py:88: LightkurveDeprecationWarning: The search_lightcurvefile function is deprecated and may be removed in a future version.\n",
      "        Use search_lightcurve() instead.\n"
     ]
    },
    {
     "name": "stdout",
     "output_type": "stream",
     "text": [
      "Get TESS Sector/Quarter 42, TIC 39926974, K2-28, short cadence.\n"
     ]
    },
    {
     "name": "stderr",
     "output_type": "stream",
     "text": [
      "/home/ekaterina/Documents/000_envs/python37/lib/python3.7/site-packages/lightkurve/io/tess.py:34: ResourceWarning: unclosed file <_io.FileIO name='/home/ekaterina/Documents/001_science/lcs/mastDownload/TESS/tess2021232031932-s0042-0000000039926974-0213-s/tess2021232031932-s0042-0000000039926974-0213-s_lc.fits' mode='rb' closefd=True>\n",
      "  lc = read_generic_lightcurve(filename, flux_column=flux_column, time_format=\"btjd\")\n",
      "2% (307/17674) of the cadences will be ignored due to the quality mask (quality_bitmask=175).\n",
      "2% (307/17674) of the cadences will be ignored due to the quality mask (quality_bitmask=175).\n"
     ]
    },
    {
     "name": "stdout",
     "output_type": "stream",
     "text": [
      "date: 2022_08_02\n",
      "LC successfully detrended.\n"
     ]
    },
    {
     "name": "stderr",
     "output_type": "stream",
     "text": [
      "/home/ekaterina/Documents/000_envs/python37/lib/python3.7/site-packages/numpy/lib/nanfunctions.py:1117: RuntimeWarning: Mean of empty slice\n",
      "  return np.nanmean(a, axis, out=out, keepdims=keepdims)\n",
      "Found 0 candidate(s) in the (0,2884) gap.\n",
      "Found 1 candidate(s) in the (2884,9653) gap.\n",
      "/home/ekaterina/Documents/000_envs/python37/lib/python3.7/site-packages/ipykernel_launcher.py:88: LightkurveDeprecationWarning: The search_lightcurvefile function is deprecated and may be removed in a future version.\n",
      "        Use search_lightcurve() instead.\n"
     ]
    },
    {
     "name": "stdout",
     "output_type": "stream",
     "text": [
      "Transit midtime in TESS time: 2448.6542250001803\n",
      "Flares found:\n",
      "        tstart        tstop     phase  ampl_rec       dur\n",
      "0  2464.050912  2464.074522  0.811322  0.049765  0.023611\n",
      "Wrote out LC to /home/ekaterina/Documents/001_science/lcs/2022_08_02_39926974_42_altai_0.fits.\n",
      "\n",
      "---------------------\n",
      "1 flares found!\n",
      "-------------------\n",
      "\n",
      "(0, 0)\n",
      "Get TESS Sector/Quarter 42, TIC 39928614, K2-69, short cadence.\n"
     ]
    },
    {
     "name": "stderr",
     "output_type": "stream",
     "text": [
      "/home/ekaterina/Documents/000_envs/python37/lib/python3.7/site-packages/lightkurve/io/tess.py:34: ResourceWarning: unclosed file <_io.FileIO name='/home/ekaterina/Documents/001_science/lcs/mastDownload/TESS/tess2021232031932-s0042-0000000039928614-0213-s/tess2021232031932-s0042-0000000039928614-0213-s_lc.fits' mode='rb' closefd=True>\n",
      "  lc = read_generic_lightcurve(filename, flux_column=flux_column, time_format=\"btjd\")\n",
      "2% (307/17674) of the cadences will be ignored due to the quality mask (quality_bitmask=175).\n",
      "2% (307/17674) of the cadences will be ignored due to the quality mask (quality_bitmask=175).\n"
     ]
    },
    {
     "name": "stdout",
     "output_type": "stream",
     "text": [
      "date: 2022_08_02\n",
      "LC successfully detrended.\n"
     ]
    },
    {
     "name": "stderr",
     "output_type": "stream",
     "text": [
      "/home/ekaterina/Documents/000_envs/python37/lib/python3.7/site-packages/numpy/lib/nanfunctions.py:1117: RuntimeWarning: Mean of empty slice\n",
      "  return np.nanmean(a, axis, out=out, keepdims=keepdims)\n",
      "Found 0 candidate(s) in the (0,2976) gap.\n",
      "Found 0 candidate(s) in the (2976,9747) gap.\n",
      "/home/ekaterina/Documents/000_envs/python37/lib/python3.7/site-packages/ipykernel_launcher.py:88: LightkurveDeprecationWarning: The search_lightcurvefile function is deprecated and may be removed in a future version.\n",
      "        Use search_lightcurve() instead.\n"
     ]
    },
    {
     "name": "stdout",
     "output_type": "stream",
     "text": [
      "Transit midtime in TESS time: -17.21749999979511\n",
      "No flares found in LC.\n",
      "Wrote out LC to /home/ekaterina/Documents/001_science/lcs/2022_08_02_39928614_42_altai_0.fits.\n",
      "\n",
      "---------------------\n",
      "0 flares found!\n",
      "-------------------\n",
      "\n",
      "(0, 0)\n",
      "Get TESS Sector/Quarter 42, TIC 39936432, K2-116, short cadence.\n"
     ]
    },
    {
     "name": "stderr",
     "output_type": "stream",
     "text": [
      "/home/ekaterina/Documents/000_envs/python37/lib/python3.7/site-packages/lightkurve/io/tess.py:34: ResourceWarning: unclosed file <_io.FileIO name='/home/ekaterina/Documents/001_science/lcs/mastDownload/TESS/tess2021232031932-s0042-0000000039936432-0213-s/tess2021232031932-s0042-0000000039936432-0213-s_lc.fits' mode='rb' closefd=True>\n",
      "  lc = read_generic_lightcurve(filename, flux_column=flux_column, time_format=\"btjd\")\n",
      "2% (307/17674) of the cadences will be ignored due to the quality mask (quality_bitmask=175).\n",
      "2% (307/17674) of the cadences will be ignored due to the quality mask (quality_bitmask=175).\n"
     ]
    },
    {
     "name": "stdout",
     "output_type": "stream",
     "text": [
      "date: 2022_08_02\n",
      "LC successfully detrended.\n"
     ]
    },
    {
     "name": "stderr",
     "output_type": "stream",
     "text": [
      "/home/ekaterina/Documents/000_envs/python37/lib/python3.7/site-packages/numpy/lib/nanfunctions.py:1117: RuntimeWarning: Mean of empty slice\n",
      "  return np.nanmean(a, axis, out=out, keepdims=keepdims)\n",
      "Found 0 candidate(s) in the (0,2977) gap.\n",
      "Found 0 candidate(s) in the (2977,9731) gap.\n",
      "/home/ekaterina/Documents/000_envs/python37/lib/python3.7/site-packages/ipykernel_launcher.py:88: LightkurveDeprecationWarning: The search_lightcurvefile function is deprecated and may be removed in a future version.\n",
      "        Use search_lightcurve() instead.\n"
     ]
    },
    {
     "name": "stdout",
     "output_type": "stream",
     "text": [
      "Transit midtime in TESS time: -20.0519999996759\n",
      "No flares found in LC.\n",
      "Wrote out LC to /home/ekaterina/Documents/001_science/lcs/2022_08_02_39936432_42_altai_0.fits.\n",
      "\n",
      "---------------------\n",
      "0 flares found!\n",
      "-------------------\n",
      "\n",
      "(0, 0)\n"
     ]
    },
    {
     "name": "stderr",
     "output_type": "stream",
     "text": [
      "No data found for target \"WASP-81\".\n",
      "No data found for target \"WASP-81\".\n",
      "/home/ekaterina/Documents/000_envs/python37/lib/python3.7/site-packages/ipykernel_launcher.py:93: LightkurveDeprecationWarning: The search_lightcurvefile function is deprecated and may be removed in a future version.\n",
      "        Use search_lightcurve() instead.\n",
      "No data found for target \"TIC 399402994\".\n",
      "No data found for target \"TIC 399402994\".\n",
      "/home/ekaterina/Documents/000_envs/python37/lib/python3.7/site-packages/ipykernel_launcher.py:88: LightkurveDeprecationWarning: The search_lightcurvefile function is deprecated and may be removed in a future version.\n",
      "        Use search_lightcurve() instead.\n",
      "Could not resolve K2-384 to a sky position.\n",
      "Could not resolve K2-384 to a sky position.\n",
      "/home/ekaterina/Documents/000_envs/python37/lib/python3.7/site-packages/ipykernel_launcher.py:93: LightkurveDeprecationWarning: The search_lightcurvefile function is deprecated and may be removed in a future version.\n",
      "        Use search_lightcurve() instead.\n"
     ]
    },
    {
     "name": "stdout",
     "output_type": "stream",
     "text": [
      "Get TESS Sector/Quarter 30, TIC 399702475, K2-384, fast cadence.\n"
     ]
    },
    {
     "name": "stderr",
     "output_type": "stream",
     "text": [
      "/home/ekaterina/Documents/000_envs/python37/lib/python3.7/site-packages/lightkurve/io/tess.py:34: ResourceWarning: unclosed file <_io.FileIO name='/home/ekaterina/Documents/001_science/lcs/mastDownload/TESS/tess2020266004630-s0030-0000000399702475-0195-a_fast/tess2020266004630-s0030-0000000399702475-0195-a_fast-lc.fits' mode='rb' closefd=True>\n",
      "  lc = read_generic_lightcurve(filename, flux_column=flux_column, time_format=\"btjd\")\n",
      "1% (1204/113535) of the cadences will be ignored due to the quality mask (quality_bitmask=175).\n",
      "1% (1204/113535) of the cadences will be ignored due to the quality mask (quality_bitmask=175).\n"
     ]
    },
    {
     "name": "stdout",
     "output_type": "stream",
     "text": [
      "date: 2022_08_02\n",
      "LC successfully detrended.\n"
     ]
    },
    {
     "name": "stderr",
     "output_type": "stream",
     "text": [
      "/home/ekaterina/Documents/000_envs/python37/lib/python3.7/site-packages/numpy/lib/nanfunctions.py:1117: RuntimeWarning: Mean of empty slice\n",
      "  return np.nanmean(a, axis, out=out, keepdims=keepdims)\n",
      "Found 3 candidate(s) in the (0,46565) gap.\n",
      "Found 1 candidate(s) in the (46565,97429) gap.\n"
     ]
    },
    {
     "name": "stdout",
     "output_type": "stream",
     "text": [
      "Transit midtime in TESS time: 393.71570000005886\n",
      "Flares found:\n",
      "        tstart        tstop     phase  ampl_rec       dur\n",
      "0  2118.956104  2119.004022  0.121008  0.264436  0.047918\n",
      "1  2119.004947  2119.011198  0.142896  0.158677  0.006250\n",
      "2  2119.013050  2119.014901  0.146527  0.166997  0.001852\n",
      "3  2139.783788  2139.854621  0.454386  0.320953  0.070832\n",
      "Wrote out LC to /home/ekaterina/Documents/001_science/lcs/2022_08_02_399702475_30_altai_0.fits.\n",
      "Get TESS Sector/Quarter 42, TIC 399702475, K2-384, short cadence.\n"
     ]
    },
    {
     "name": "stderr",
     "output_type": "stream",
     "text": [
      "/home/ekaterina/Documents/000_envs/python37/lib/python3.7/site-packages/lightkurve/io/tess.py:34: ResourceWarning: unclosed file <_io.FileIO name='/home/ekaterina/Documents/001_science/lcs/mastDownload/TESS/tess2021232031932-s0042-0000000399702475-0213-s/tess2021232031932-s0042-0000000399702475-0213-s_lc.fits' mode='rb' closefd=True>\n",
      "  lc = read_generic_lightcurve(filename, flux_column=flux_column, time_format=\"btjd\")\n",
      "2% (307/17674) of the cadences will be ignored due to the quality mask (quality_bitmask=175).\n",
      "2% (307/17674) of the cadences will be ignored due to the quality mask (quality_bitmask=175).\n"
     ]
    },
    {
     "name": "stdout",
     "output_type": "stream",
     "text": [
      "date: 2022_08_02\n",
      "LC successfully detrended.\n"
     ]
    },
    {
     "name": "stderr",
     "output_type": "stream",
     "text": [
      "/home/ekaterina/Documents/000_envs/python37/lib/python3.7/site-packages/numpy/lib/nanfunctions.py:1117: RuntimeWarning: Mean of empty slice\n",
      "  return np.nanmean(a, axis, out=out, keepdims=keepdims)\n",
      "Found 0 candidate(s) in the (0,5623) gap.\n",
      "Found 0 candidate(s) in the (5623,13065) gap.\n"
     ]
    },
    {
     "name": "stdout",
     "output_type": "stream",
     "text": [
      "Transit midtime in TESS time: 393.71570000005886\n",
      "No flares found in LC.\n",
      "Wrote out LC to /home/ekaterina/Documents/001_science/lcs/2022_08_02_399702475_42_altai_0.fits.\n",
      "Get TESS Sector/Quarter 43, TIC 399702475, K2-384, short cadence.\n"
     ]
    },
    {
     "name": "stderr",
     "output_type": "stream",
     "text": [
      "/home/ekaterina/Documents/000_envs/python37/lib/python3.7/site-packages/lightkurve/io/tess.py:34: ResourceWarning: unclosed file <_io.FileIO name='/home/ekaterina/Documents/001_science/lcs/mastDownload/TESS/tess2021258175143-s0043-0000000399702475-0214-s/tess2021258175143-s0043-0000000399702475-0214-s_lc.fits' mode='rb' closefd=True>\n",
      "  lc = read_generic_lightcurve(filename, flux_column=flux_column, time_format=\"btjd\")\n",
      "0% (33/17050) of the cadences will be ignored due to the quality mask (quality_bitmask=175).\n",
      "0% (33/17050) of the cadences will be ignored due to the quality mask (quality_bitmask=175).\n"
     ]
    },
    {
     "name": "stdout",
     "output_type": "stream",
     "text": [
      "date: 2022_08_02\n",
      "LC successfully detrended.\n"
     ]
    },
    {
     "name": "stderr",
     "output_type": "stream",
     "text": [
      "/home/ekaterina/Documents/000_envs/python37/lib/python3.7/site-packages/numpy/lib/nanfunctions.py:1117: RuntimeWarning: Mean of empty slice\n",
      "  return np.nanmean(a, axis, out=out, keepdims=keepdims)\n",
      "Found 0 candidate(s) in the (0,5726) gap.\n",
      "Found 0 candidate(s) in the (5726,13737) gap.\n",
      "/home/ekaterina/Documents/000_envs/python37/lib/python3.7/site-packages/ipykernel_launcher.py:88: LightkurveDeprecationWarning: The search_lightcurvefile function is deprecated and may be removed in a future version.\n",
      "        Use search_lightcurve() instead.\n"
     ]
    },
    {
     "name": "stdout",
     "output_type": "stream",
     "text": [
      "Transit midtime in TESS time: 393.71570000005886\n",
      "No flares found in LC.\n",
      "Wrote out LC to /home/ekaterina/Documents/001_science/lcs/2022_08_02_399702475_43_altai_0.fits.\n",
      "\n",
      "---------------------\n",
      "4 flares found!\n",
      "-------------------\n",
      "\n",
      "(0, 0)\n",
      "Get TESS Sector/Quarter 30, TIC 399722652, K2-208, fast cadence.\n"
     ]
    },
    {
     "name": "stderr",
     "output_type": "stream",
     "text": [
      "/home/ekaterina/Documents/000_envs/python37/lib/python3.7/site-packages/lightkurve/io/tess.py:34: ResourceWarning: unclosed file <_io.FileIO name='/home/ekaterina/Documents/001_science/lcs/mastDownload/TESS/tess2020266004630-s0030-0000000399722652-0195-a_fast/tess2020266004630-s0030-0000000399722652-0195-a_fast-lc.fits' mode='rb' closefd=True>\n",
      "  lc = read_generic_lightcurve(filename, flux_column=flux_column, time_format=\"btjd\")\n",
      "1% (1204/113535) of the cadences will be ignored due to the quality mask (quality_bitmask=175).\n",
      "1% (1204/113535) of the cadences will be ignored due to the quality mask (quality_bitmask=175).\n"
     ]
    },
    {
     "name": "stdout",
     "output_type": "stream",
     "text": [
      "date: 2022_08_02\n",
      "LC successfully detrended.\n"
     ]
    },
    {
     "name": "stderr",
     "output_type": "stream",
     "text": [
      "/home/ekaterina/Documents/000_envs/python37/lib/python3.7/site-packages/numpy/lib/nanfunctions.py:1117: RuntimeWarning: Mean of empty slice\n",
      "  return np.nanmean(a, axis, out=out, keepdims=keepdims)\n",
      "Found 0 candidate(s) in the (0,46583) gap.\n",
      "Found 1 candidate(s) in the (46583,97447) gap.\n"
     ]
    },
    {
     "name": "stdout",
     "output_type": "stream",
     "text": [
      "Transit midtime in TESS time: 396.51164000015706\n",
      "Flares found:\n",
      "        tstart        tstop     phase  ampl_rec      dur\n",
      "0  2138.578481  2138.580101  0.673695  0.023023  0.00162\n",
      "Wrote out LC to /home/ekaterina/Documents/001_science/lcs/2022_08_02_399722652_30_altai_0.fits.\n",
      "Get TESS Sector/Quarter 42, TIC 399722652, K2-208, short cadence.\n"
     ]
    },
    {
     "name": "stderr",
     "output_type": "stream",
     "text": [
      "/home/ekaterina/Documents/000_envs/python37/lib/python3.7/site-packages/lightkurve/io/tess.py:34: ResourceWarning: unclosed file <_io.FileIO name='/home/ekaterina/Documents/001_science/lcs/mastDownload/TESS/tess2021232031932-s0042-0000000399722652-0213-s/tess2021232031932-s0042-0000000399722652-0213-s_lc.fits' mode='rb' closefd=True>\n",
      "  lc = read_generic_lightcurve(filename, flux_column=flux_column, time_format=\"btjd\")\n",
      "2% (307/17674) of the cadences will be ignored due to the quality mask (quality_bitmask=175).\n",
      "2% (307/17674) of the cadences will be ignored due to the quality mask (quality_bitmask=175).\n"
     ]
    },
    {
     "name": "stdout",
     "output_type": "stream",
     "text": [
      "date: 2022_08_02\n",
      "LC successfully detrended.\n"
     ]
    },
    {
     "name": "stderr",
     "output_type": "stream",
     "text": [
      "/home/ekaterina/Documents/000_envs/python37/lib/python3.7/site-packages/numpy/lib/nanfunctions.py:1117: RuntimeWarning: Mean of empty slice\n",
      "  return np.nanmean(a, axis, out=out, keepdims=keepdims)\n",
      "Found 0 candidate(s) in the (0,5624) gap.\n",
      "Found 0 candidate(s) in the (5624,13062) gap.\n"
     ]
    },
    {
     "name": "stdout",
     "output_type": "stream",
     "text": [
      "Transit midtime in TESS time: 396.51164000015706\n",
      "No flares found in LC.\n",
      "Wrote out LC to /home/ekaterina/Documents/001_science/lcs/2022_08_02_399722652_42_altai_0.fits.\n",
      "Get TESS Sector/Quarter 43, TIC 399722652, K2-208, short cadence.\n"
     ]
    },
    {
     "name": "stderr",
     "output_type": "stream",
     "text": [
      "/home/ekaterina/Documents/000_envs/python37/lib/python3.7/site-packages/lightkurve/io/tess.py:34: ResourceWarning: unclosed file <_io.FileIO name='/home/ekaterina/Documents/001_science/lcs/mastDownload/TESS/tess2021258175143-s0043-0000000399722652-0214-s/tess2021258175143-s0043-0000000399722652-0214-s_lc.fits' mode='rb' closefd=True>\n",
      "  lc = read_generic_lightcurve(filename, flux_column=flux_column, time_format=\"btjd\")\n",
      "0% (33/17050) of the cadences will be ignored due to the quality mask (quality_bitmask=175).\n",
      "0% (33/17050) of the cadences will be ignored due to the quality mask (quality_bitmask=175).\n"
     ]
    },
    {
     "name": "stdout",
     "output_type": "stream",
     "text": [
      "date: 2022_08_02\n",
      "LC successfully detrended.\n"
     ]
    },
    {
     "name": "stderr",
     "output_type": "stream",
     "text": [
      "/home/ekaterina/Documents/000_envs/python37/lib/python3.7/site-packages/numpy/lib/nanfunctions.py:1117: RuntimeWarning: Mean of empty slice\n",
      "  return np.nanmean(a, axis, out=out, keepdims=keepdims)\n",
      "Found 0 candidate(s) in the (0,5725) gap.\n",
      "Found 0 candidate(s) in the (5725,13735) gap.\n",
      "/home/ekaterina/Documents/000_envs/python37/lib/python3.7/site-packages/ipykernel_launcher.py:88: LightkurveDeprecationWarning: The search_lightcurvefile function is deprecated and may be removed in a future version.\n",
      "        Use search_lightcurve() instead.\n"
     ]
    },
    {
     "name": "stdout",
     "output_type": "stream",
     "text": [
      "Transit midtime in TESS time: 396.51164000015706\n",
      "No flares found in LC.\n",
      "Wrote out LC to /home/ekaterina/Documents/001_science/lcs/2022_08_02_399722652_43_altai_0.fits.\n",
      "\n",
      "---------------------\n",
      "1 flares found!\n",
      "-------------------\n",
      "\n",
      "(0, 0)\n",
      "Get TESS Sector/Quarter 30, TIC 399731211, K2-211, fast cadence.\n"
     ]
    },
    {
     "name": "stderr",
     "output_type": "stream",
     "text": [
      "/home/ekaterina/Documents/000_envs/python37/lib/python3.7/site-packages/lightkurve/io/tess.py:34: ResourceWarning: unclosed file <_io.FileIO name='/home/ekaterina/Documents/001_science/lcs/mastDownload/TESS/tess2020266004630-s0030-0000000399731211-0195-a_fast/tess2020266004630-s0030-0000000399731211-0195-a_fast-lc.fits' mode='rb' closefd=True>\n",
      "  lc = read_generic_lightcurve(filename, flux_column=flux_column, time_format=\"btjd\")\n",
      "1% (1204/113535) of the cadences will be ignored due to the quality mask (quality_bitmask=175).\n",
      "1% (1204/113535) of the cadences will be ignored due to the quality mask (quality_bitmask=175).\n"
     ]
    },
    {
     "name": "stdout",
     "output_type": "stream",
     "text": [
      "date: 2022_08_02\n",
      "LC successfully detrended.\n"
     ]
    },
    {
     "name": "stderr",
     "output_type": "stream",
     "text": [
      "/home/ekaterina/Documents/000_envs/python37/lib/python3.7/site-packages/numpy/lib/nanfunctions.py:1117: RuntimeWarning: Mean of empty slice\n",
      "  return np.nanmean(a, axis, out=out, keepdims=keepdims)\n",
      "Found 0 candidate(s) in the (0,46479) gap.\n",
      "Found 0 candidate(s) in the (46479,97305) gap.\n"
     ]
    },
    {
     "name": "stdout",
     "output_type": "stream",
     "text": [
      "Transit midtime in TESS time: 395.82322000013664\n",
      "No flares found in LC.\n",
      "Wrote out LC to /home/ekaterina/Documents/001_science/lcs/2022_08_02_399731211_30_altai_0.fits.\n",
      "Get TESS Sector/Quarter 42, TIC 399731211, K2-211, short cadence.\n"
     ]
    },
    {
     "name": "stderr",
     "output_type": "stream",
     "text": [
      "/home/ekaterina/Documents/000_envs/python37/lib/python3.7/site-packages/lightkurve/io/tess.py:34: ResourceWarning: unclosed file <_io.FileIO name='/home/ekaterina/Documents/001_science/lcs/mastDownload/TESS/tess2021232031932-s0042-0000000399731211-0213-s/tess2021232031932-s0042-0000000399731211-0213-s_lc.fits' mode='rb' closefd=True>\n",
      "  lc = read_generic_lightcurve(filename, flux_column=flux_column, time_format=\"btjd\")\n",
      "2% (307/17674) of the cadences will be ignored due to the quality mask (quality_bitmask=175).\n",
      "2% (307/17674) of the cadences will be ignored due to the quality mask (quality_bitmask=175).\n"
     ]
    },
    {
     "name": "stdout",
     "output_type": "stream",
     "text": [
      "date: 2022_08_02\n",
      "LC successfully detrended.\n"
     ]
    },
    {
     "name": "stderr",
     "output_type": "stream",
     "text": [
      "/home/ekaterina/Documents/000_envs/python37/lib/python3.7/site-packages/numpy/lib/nanfunctions.py:1117: RuntimeWarning: Mean of empty slice\n",
      "  return np.nanmean(a, axis, out=out, keepdims=keepdims)\n",
      "Found 0 candidate(s) in the (0,5625) gap.\n",
      "Found 0 candidate(s) in the (5625,13071) gap.\n"
     ]
    },
    {
     "name": "stdout",
     "output_type": "stream",
     "text": [
      "Transit midtime in TESS time: 395.82322000013664\n",
      "No flares found in LC.\n",
      "Wrote out LC to /home/ekaterina/Documents/001_science/lcs/2022_08_02_399731211_42_altai_0.fits.\n",
      "Get TESS Sector/Quarter 43, TIC 399731211, K2-211, short cadence.\n"
     ]
    },
    {
     "name": "stderr",
     "output_type": "stream",
     "text": [
      "/home/ekaterina/Documents/000_envs/python37/lib/python3.7/site-packages/lightkurve/io/tess.py:34: ResourceWarning: unclosed file <_io.FileIO name='/home/ekaterina/Documents/001_science/lcs/mastDownload/TESS/tess2021258175143-s0043-0000000399731211-0214-s/tess2021258175143-s0043-0000000399731211-0214-s_lc.fits' mode='rb' closefd=True>\n",
      "  lc = read_generic_lightcurve(filename, flux_column=flux_column, time_format=\"btjd\")\n",
      "0% (33/17050) of the cadences will be ignored due to the quality mask (quality_bitmask=175).\n",
      "0% (33/17050) of the cadences will be ignored due to the quality mask (quality_bitmask=175).\n"
     ]
    },
    {
     "name": "stdout",
     "output_type": "stream",
     "text": [
      "date: 2022_08_02\n",
      "LC successfully detrended.\n"
     ]
    },
    {
     "name": "stderr",
     "output_type": "stream",
     "text": [
      "/home/ekaterina/Documents/000_envs/python37/lib/python3.7/site-packages/numpy/lib/nanfunctions.py:1117: RuntimeWarning: Mean of empty slice\n",
      "  return np.nanmean(a, axis, out=out, keepdims=keepdims)\n",
      "Found 0 candidate(s) in the (0,5725) gap.\n",
      "Found 0 candidate(s) in the (5725,13734) gap.\n",
      "/home/ekaterina/Documents/000_envs/python37/lib/python3.7/site-packages/ipykernel_launcher.py:88: LightkurveDeprecationWarning: The search_lightcurvefile function is deprecated and may be removed in a future version.\n",
      "        Use search_lightcurve() instead.\n"
     ]
    },
    {
     "name": "stdout",
     "output_type": "stream",
     "text": [
      "Transit midtime in TESS time: 395.82322000013664\n",
      "No flares found in LC.\n",
      "Wrote out LC to /home/ekaterina/Documents/001_science/lcs/2022_08_02_399731211_43_altai_0.fits.\n",
      "\n",
      "---------------------\n",
      "0 flares found!\n",
      "-------------------\n",
      "\n",
      "(0, 0)\n"
     ]
    },
    {
     "name": "stderr",
     "output_type": "stream",
     "text": [
      "/home/ekaterina/Documents/000_envs/python37/lib/python3.7/site-packages/ipykernel_launcher.py:88: LightkurveDeprecationWarning: The search_lightcurvefile function is deprecated and may be removed in a future version.\n",
      "        Use search_lightcurve() instead.\n"
     ]
    },
    {
     "name": "stdout",
     "output_type": "stream",
     "text": [
      "Get Kepler Sector/Quarter 07, TIC 399794329, Kepler-30, short cadence.\n",
      "No LC found for Kepler, Kepler-30, Quarter 07.\n",
      "Get Kepler Sector/Quarter 17, TIC 399794329, Kepler-30, short cadence.\n"
     ]
    },
    {
     "name": "stderr",
     "output_type": "stream",
     "text": [
      "/home/ekaterina/Documents/000_envs/python37/lib/python3.7/site-packages/lightkurve/io/kepler.py:38: ResourceWarning: unclosed file <_io.FileIO name='/home/ekaterina/Documents/001_science/lcs/mastDownload/Kepler/kplr003832474_sc_Q000000033333333332/kplr003832474-2013121191144_slc.fits' mode='rb' closefd=True>\n",
      "  time_format=\"bkjd\",\n",
      "1% (248/32850) of the cadences will be ignored due to the quality mask (quality_bitmask=1130799).\n",
      "1% (248/32850) of the cadences will be ignored due to the quality mask (quality_bitmask=1130799).\n",
      "/home/ekaterina/Documents/000_envs/python37/lib/python3.7/site-packages/lightkurve/io/kepler.py:38: ResourceWarning: unclosed file <_io.FileIO name='/home/ekaterina/Documents/001_science/lcs/mastDownload/Kepler/kplr003832474_sc_Q000000033333333332/kplr003832474-2013131215648_slc.fits' mode='rb' closefd=True>\n",
      "  time_format=\"bkjd\",\n",
      "0% (28/6180) of the cadences will be ignored due to the quality mask (quality_bitmask=1130799).\n",
      "0% (28/6180) of the cadences will be ignored due to the quality mask (quality_bitmask=1130799).\n"
     ]
    },
    {
     "name": "stdout",
     "output_type": "stream",
     "text": [
      "2 LCs found for Kepler, Kepler-30, Quarter 17.\n",
      "date: 2022_08_02\n",
      "LC successfully detrended.\n"
     ]
    },
    {
     "name": "stderr",
     "output_type": "stream",
     "text": [
      "/home/ekaterina/Documents/000_envs/python37/lib/python3.7/site-packages/numpy/lib/nanfunctions.py:1117: RuntimeWarning: Mean of empty slice\n",
      "  return np.nanmean(a, axis, out=out, keepdims=keepdims)\n",
      "Found 0 candidate(s) in the (0,2385) gap.\n",
      "Found 1 candidate(s) in the (2385,32600) gap.\n"
     ]
    },
    {
     "name": "stdout",
     "output_type": "stream",
     "text": [
      "Transit midtime in Kepler time: 413.6475999997929\n",
      "Flares found:\n",
      "       tstart        tstop     phase  ampl_rec       dur\n",
      "0  1561.12496  1561.127004  0.117204  0.037827  0.002043\n",
      "Wrote out LC to /home/ekaterina/Documents/001_science/lcs/2022_08_02_Kepler-30_17_altai_0.fits.\n",
      "date: 2022_08_02\n",
      "LC successfully detrended.\n"
     ]
    },
    {
     "name": "stderr",
     "output_type": "stream",
     "text": [
      "Found 0 candidate(s) in the (0,6151) gap.\n"
     ]
    },
    {
     "name": "stdout",
     "output_type": "stream",
     "text": [
      "Transit midtime in Kepler time: 413.6475999997929\n",
      "No flares found in LC.\n",
      "Wrote out LC to /home/ekaterina/Documents/001_science/lcs/2022_08_02_Kepler-30_17_altai_1.fits.\n",
      "Get Kepler Sector/Quarter 16, TIC 399794329, Kepler-30, short cadence.\n"
     ]
    },
    {
     "name": "stderr",
     "output_type": "stream",
     "text": [
      "/home/ekaterina/Documents/000_envs/python37/lib/python3.7/site-packages/lightkurve/io/kepler.py:38: ResourceWarning: unclosed file <_io.FileIO name='/home/ekaterina/Documents/001_science/lcs/mastDownload/Kepler/kplr003832474_sc_Q000000033333333332/kplr003832474-2013017113907_slc.fits' mode='rb' closefd=True>\n",
      "  time_format=\"bkjd\",\n",
      "1% (58/7680) of the cadences will be ignored due to the quality mask (quality_bitmask=1130799).\n",
      "1% (58/7680) of the cadences will be ignored due to the quality mask (quality_bitmask=1130799).\n",
      "/home/ekaterina/Documents/000_envs/python37/lib/python3.7/site-packages/lightkurve/io/kepler.py:38: ResourceWarning: unclosed file <_io.FileIO name='/home/ekaterina/Documents/001_science/lcs/mastDownload/Kepler/kplr003832474_sc_Q000000033333333332/kplr003832474-2013065031647_slc.fits' mode='rb' closefd=True>\n",
      "  time_format=\"bkjd\",\n",
      "1% (455/53220) of the cadences will be ignored due to the quality mask (quality_bitmask=1130799).\n",
      "1% (455/53220) of the cadences will be ignored due to the quality mask (quality_bitmask=1130799).\n",
      "/home/ekaterina/Documents/000_envs/python37/lib/python3.7/site-packages/lightkurve/io/kepler.py:38: ResourceWarning: unclosed file <_io.FileIO name='/home/ekaterina/Documents/001_science/lcs/mastDownload/Kepler/kplr003832474_sc_Q000000033333333332/kplr003832474-2013098041711_slc.fits' mode='rb' closefd=True>\n",
      "  time_format=\"bkjd\",\n",
      "1% (274/46770) of the cadences will be ignored due to the quality mask (quality_bitmask=1130799).\n",
      "1% (274/46770) of the cadences will be ignored due to the quality mask (quality_bitmask=1130799).\n"
     ]
    },
    {
     "name": "stdout",
     "output_type": "stream",
     "text": [
      "3 LCs found for Kepler, Kepler-30, Quarter 16.\n",
      "date: 2022_08_02\n",
      "LC successfully detrended.\n"
     ]
    },
    {
     "name": "stderr",
     "output_type": "stream",
     "text": [
      "Found 0 candidate(s) in the (0,7622) gap.\n"
     ]
    },
    {
     "name": "stdout",
     "output_type": "stream",
     "text": [
      "Transit midtime in Kepler time: 413.6475999997929\n",
      "No flares found in LC.\n",
      "Wrote out LC to /home/ekaterina/Documents/001_science/lcs/2022_08_02_Kepler-30_16_altai_0.fits.\n",
      "date: 2022_08_02\n",
      "LC successfully detrended.\n"
     ]
    },
    {
     "name": "stderr",
     "output_type": "stream",
     "text": [
      "Found 0 candidate(s) in the (0,52753) gap.\n"
     ]
    },
    {
     "name": "stdout",
     "output_type": "stream",
     "text": [
      "Transit midtime in Kepler time: 413.6475999997929\n",
      "No flares found in LC.\n",
      "Wrote out LC to /home/ekaterina/Documents/001_science/lcs/2022_08_02_Kepler-30_16_altai_1.fits.\n",
      "date: 2022_08_02\n",
      "LC successfully detrended.\n"
     ]
    },
    {
     "name": "stderr",
     "output_type": "stream",
     "text": [
      "Found 0 candidate(s) in the (0,46462) gap.\n"
     ]
    },
    {
     "name": "stdout",
     "output_type": "stream",
     "text": [
      "Transit midtime in Kepler time: 413.6475999997929\n",
      "No flares found in LC.\n",
      "Wrote out LC to /home/ekaterina/Documents/001_science/lcs/2022_08_02_Kepler-30_16_altai_2.fits.\n",
      "Get Kepler Sector/Quarter 15, TIC 399794329, Kepler-30, short cadence.\n"
     ]
    },
    {
     "name": "stderr",
     "output_type": "stream",
     "text": [
      "/home/ekaterina/Documents/000_envs/python37/lib/python3.7/site-packages/lightkurve/io/kepler.py:38: ResourceWarning: unclosed file <_io.FileIO name='/home/ekaterina/Documents/001_science/lcs/mastDownload/Kepler/kplr003832474_sc_Q000000033333333332/kplr003832474-2012310112549_slc.fits' mode='rb' closefd=True>\n",
      "  time_format=\"bkjd\",\n",
      "1% (334/45270) of the cadences will be ignored due to the quality mask (quality_bitmask=1130799).\n",
      "1% (334/45270) of the cadences will be ignored due to the quality mask (quality_bitmask=1130799).\n",
      "/home/ekaterina/Documents/000_envs/python37/lib/python3.7/site-packages/lightkurve/io/kepler.py:38: ResourceWarning: unclosed file <_io.FileIO name='/home/ekaterina/Documents/001_science/lcs/mastDownload/Kepler/kplr003832474_sc_Q000000033333333332/kplr003832474-2012341132017_slc.fits' mode='rb' closefd=True>\n",
      "  time_format=\"bkjd\",\n",
      "1% (366/38310) of the cadences will be ignored due to the quality mask (quality_bitmask=1130799).\n",
      "1% (366/38310) of the cadences will be ignored due to the quality mask (quality_bitmask=1130799).\n",
      "/home/ekaterina/Documents/000_envs/python37/lib/python3.7/site-packages/lightkurve/io/kepler.py:38: ResourceWarning: unclosed file <_io.FileIO name='/home/ekaterina/Documents/001_science/lcs/mastDownload/Kepler/kplr003832474_sc_Q000000033333333332/kplr003832474-2013011073258_slc.fits' mode='rb' closefd=True>\n",
      "  time_format=\"bkjd\",\n",
      "0% (198/51270) of the cadences will be ignored due to the quality mask (quality_bitmask=1130799).\n",
      "0% (198/51270) of the cadences will be ignored due to the quality mask (quality_bitmask=1130799).\n"
     ]
    },
    {
     "name": "stdout",
     "output_type": "stream",
     "text": [
      "3 LCs found for Kepler, Kepler-30, Quarter 15.\n",
      "date: 2022_08_02\n",
      "LC successfully detrended.\n"
     ]
    },
    {
     "name": "stderr",
     "output_type": "stream",
     "text": [
      "Found 0 candidate(s) in the (0,44875) gap.\n"
     ]
    },
    {
     "name": "stdout",
     "output_type": "stream",
     "text": [
      "Transit midtime in Kepler time: 413.6475999997929\n",
      "No flares found in LC.\n",
      "Wrote out LC to /home/ekaterina/Documents/001_science/lcs/2022_08_02_Kepler-30_15_altai_0.fits.\n",
      "date: 2022_08_02\n",
      "LC successfully detrended.\n"
     ]
    },
    {
     "name": "stderr",
     "output_type": "stream",
     "text": [
      "/home/ekaterina/Documents/000_envs/python37/lib/python3.7/site-packages/numpy/lib/nanfunctions.py:1117: RuntimeWarning: Mean of empty slice\n",
      "  return np.nanmean(a, axis, out=out, keepdims=keepdims)\n",
      "Found 0 candidate(s) in the (0,10870) gap.\n",
      "Found 0 candidate(s) in the (10870,35655) gap.\n"
     ]
    },
    {
     "name": "stdout",
     "output_type": "stream",
     "text": [
      "Transit midtime in Kepler time: 413.6475999997929\n",
      "No flares found in LC.\n",
      "Wrote out LC to /home/ekaterina/Documents/001_science/lcs/2022_08_02_Kepler-30_15_altai_1.fits.\n",
      "date: 2022_08_02\n",
      "LC successfully detrended.\n"
     ]
    },
    {
     "name": "stderr",
     "output_type": "stream",
     "text": [
      "Found 0 candidate(s) in the (0,51069) gap.\n"
     ]
    },
    {
     "name": "stdout",
     "output_type": "stream",
     "text": [
      "Transit midtime in Kepler time: 413.6475999997929\n",
      "No flares found in LC.\n",
      "Wrote out LC to /home/ekaterina/Documents/001_science/lcs/2022_08_02_Kepler-30_15_altai_2.fits.\n",
      "Get Kepler Sector/Quarter 14, TIC 399794329, Kepler-30, short cadence.\n"
     ]
    },
    {
     "name": "stderr",
     "output_type": "stream",
     "text": [
      "/home/ekaterina/Documents/000_envs/python37/lib/python3.7/site-packages/lightkurve/io/kepler.py:38: ResourceWarning: unclosed file <_io.FileIO name='/home/ekaterina/Documents/001_science/lcs/mastDownload/Kepler/kplr003832474_sc_Q000000033333333332/kplr003832474-2012211050319_slc.fits' mode='rb' closefd=True>\n",
      "  time_format=\"bkjd\",\n",
      "4% (1670/38520) of the cadences will be ignored due to the quality mask (quality_bitmask=1130799).\n",
      "4% (1670/38520) of the cadences will be ignored due to the quality mask (quality_bitmask=1130799).\n",
      "/home/ekaterina/Documents/000_envs/python37/lib/python3.7/site-packages/lightkurve/io/kepler.py:38: ResourceWarning: unclosed file <_io.FileIO name='/home/ekaterina/Documents/001_science/lcs/mastDownload/Kepler/kplr003832474_sc_Q000000033333333332/kplr003832474-2012242122129_slc.fits' mode='rb' closefd=True>\n",
      "  time_format=\"bkjd\",\n",
      "0% (106/44280) of the cadences will be ignored due to the quality mask (quality_bitmask=1130799).\n",
      "0% (106/44280) of the cadences will be ignored due to the quality mask (quality_bitmask=1130799).\n",
      "/home/ekaterina/Documents/000_envs/python37/lib/python3.7/site-packages/lightkurve/io/kepler.py:38: ResourceWarning: unclosed file <_io.FileIO name='/home/ekaterina/Documents/001_science/lcs/mastDownload/Kepler/kplr003832474_sc_Q000000033333333332/kplr003832474-2012277125453_slc.fits' mode='rb' closefd=True>\n",
      "  time_format=\"bkjd\",\n",
      "0% (161/50160) of the cadences will be ignored due to the quality mask (quality_bitmask=1130799).\n",
      "0% (161/50160) of the cadences will be ignored due to the quality mask (quality_bitmask=1130799).\n"
     ]
    },
    {
     "name": "stdout",
     "output_type": "stream",
     "text": [
      "3 LCs found for Kepler, Kepler-30, Quarter 14.\n",
      "date: 2022_08_02\n",
      "LC successfully detrended.\n"
     ]
    },
    {
     "name": "stderr",
     "output_type": "stream",
     "text": [
      "/home/ekaterina/Documents/000_envs/python37/lib/python3.7/site-packages/numpy/lib/nanfunctions.py:1117: RuntimeWarning: Mean of empty slice\n",
      "  return np.nanmean(a, axis, out=out, keepdims=keepdims)\n",
      "Found 0 candidate(s) in the (0,22219) gap.\n",
      "Found 0 candidate(s) in the (22219,34810) gap.\n"
     ]
    },
    {
     "name": "stdout",
     "output_type": "stream",
     "text": [
      "Transit midtime in Kepler time: 413.6475999997929\n",
      "No flares found in LC.\n",
      "Wrote out LC to /home/ekaterina/Documents/001_science/lcs/2022_08_02_Kepler-30_14_altai_0.fits.\n",
      "date: 2022_08_02\n",
      "LC successfully detrended.\n"
     ]
    },
    {
     "name": "stderr",
     "output_type": "stream",
     "text": [
      "Found 0 candidate(s) in the (0,44147) gap.\n"
     ]
    },
    {
     "name": "stdout",
     "output_type": "stream",
     "text": [
      "Transit midtime in Kepler time: 413.6475999997929\n",
      "No flares found in LC.\n",
      "Wrote out LC to /home/ekaterina/Documents/001_science/lcs/2022_08_02_Kepler-30_14_altai_1.fits.\n",
      "date: 2022_08_02\n",
      "LC successfully detrended.\n"
     ]
    },
    {
     "name": "stderr",
     "output_type": "stream",
     "text": [
      "Found 1 candidate(s) in the (0,49958) gap.\n"
     ]
    },
    {
     "name": "stdout",
     "output_type": "stream",
     "text": [
      "Transit midtime in Kepler time: 413.6475999997929\n",
      "Flares found:\n",
      "       tstart        tstop     phase  ampl_rec       dur\n",
      "0  1337.50174  1337.505826  0.493947  0.022838  0.004087\n",
      "Wrote out LC to /home/ekaterina/Documents/001_science/lcs/2022_08_02_Kepler-30_14_altai_2.fits.\n",
      "Get Kepler Sector/Quarter 13, TIC 399794329, Kepler-30, short cadence.\n"
     ]
    },
    {
     "name": "stderr",
     "output_type": "stream",
     "text": [
      "/home/ekaterina/Documents/000_envs/python37/lib/python3.7/site-packages/lightkurve/io/kepler.py:38: ResourceWarning: unclosed file <_io.FileIO name='/home/ekaterina/Documents/001_science/lcs/mastDownload/Kepler/kplr003832474_sc_Q000000033333333332/kplr003832474-2012121044856_slc.fits' mode='rb' closefd=True>\n",
      "  time_format=\"bkjd\",\n",
      "1% (563/47370) of the cadences will be ignored due to the quality mask (quality_bitmask=1130799).\n",
      "1% (563/47370) of the cadences will be ignored due to the quality mask (quality_bitmask=1130799).\n",
      "/home/ekaterina/Documents/000_envs/python37/lib/python3.7/site-packages/lightkurve/io/kepler.py:38: ResourceWarning: unclosed file <_io.FileIO name='/home/ekaterina/Documents/001_science/lcs/mastDownload/Kepler/kplr003832474_sc_Q000000033333333332/kplr003832474-2012151031540_slc.fits' mode='rb' closefd=True>\n",
      "  time_format=\"bkjd\",\n",
      "1% (448/42930) of the cadences will be ignored due to the quality mask (quality_bitmask=1130799).\n",
      "1% (448/42930) of the cadences will be ignored due to the quality mask (quality_bitmask=1130799).\n",
      "/home/ekaterina/Documents/000_envs/python37/lib/python3.7/site-packages/lightkurve/io/kepler.py:38: ResourceWarning: unclosed file <_io.FileIO name='/home/ekaterina/Documents/001_science/lcs/mastDownload/Kepler/kplr003832474_sc_Q000000033333333332/kplr003832474-2012179063303_slc.fits' mode='rb' closefd=True>\n",
      "  time_format=\"bkjd\",\n",
      "2% (867/39990) of the cadences will be ignored due to the quality mask (quality_bitmask=1130799).\n",
      "2% (867/39990) of the cadences will be ignored due to the quality mask (quality_bitmask=1130799).\n"
     ]
    },
    {
     "name": "stdout",
     "output_type": "stream",
     "text": [
      "3 LCs found for Kepler, Kepler-30, Quarter 13.\n",
      "date: 2022_08_02\n",
      "LC successfully detrended.\n"
     ]
    },
    {
     "name": "stderr",
     "output_type": "stream",
     "text": [
      "Found 0 candidate(s) in the (0,46806) gap.\n"
     ]
    },
    {
     "name": "stdout",
     "output_type": "stream",
     "text": [
      "Transit midtime in Kepler time: 413.6475999997929\n",
      "No flares found in LC.\n",
      "Wrote out LC to /home/ekaterina/Documents/001_science/lcs/2022_08_02_Kepler-30_13_altai_0.fits.\n",
      "date: 2022_08_02\n",
      "LC successfully detrended.\n"
     ]
    },
    {
     "name": "stderr",
     "output_type": "stream",
     "text": [
      "Found 0 candidate(s) in the (0,42289) gap.\n"
     ]
    },
    {
     "name": "stdout",
     "output_type": "stream",
     "text": [
      "Transit midtime in Kepler time: 413.6475999997929\n",
      "No flares found in LC.\n",
      "Wrote out LC to /home/ekaterina/Documents/001_science/lcs/2022_08_02_Kepler-30_13_altai_1.fits.\n",
      "date: 2022_08_02\n",
      "LC successfully detrended.\n"
     ]
    },
    {
     "name": "stderr",
     "output_type": "stream",
     "text": [
      "/home/ekaterina/Documents/000_envs/python37/lib/python3.7/site-packages/numpy/lib/nanfunctions.py:1117: RuntimeWarning: Mean of empty slice\n",
      "  return np.nanmean(a, axis, out=out, keepdims=keepdims)\n",
      "Found 0 candidate(s) in the (0,33465) gap.\n",
      "Found 0 candidate(s) in the (33465,39122) gap.\n"
     ]
    },
    {
     "name": "stdout",
     "output_type": "stream",
     "text": [
      "Transit midtime in Kepler time: 413.6475999997929\n",
      "No flares found in LC.\n",
      "Wrote out LC to /home/ekaterina/Documents/001_science/lcs/2022_08_02_Kepler-30_13_altai_2.fits.\n",
      "Get Kepler Sector/Quarter 12, TIC 399794329, Kepler-30, short cadence.\n"
     ]
    },
    {
     "name": "stderr",
     "output_type": "stream",
     "text": [
      "/home/ekaterina/Documents/000_envs/python37/lib/python3.7/site-packages/lightkurve/io/kepler.py:38: ResourceWarning: unclosed file <_io.FileIO name='/home/ekaterina/Documents/001_science/lcs/mastDownload/Kepler/kplr003832474_sc_Q000000033333333332/kplr003832474-2012032013838_slc.fits' mode='rb' closefd=True>\n",
      "  time_format=\"bkjd\",\n",
      "13% (4872/38910) of the cadences will be ignored due to the quality mask (quality_bitmask=1130799).\n",
      "13% (4872/38910) of the cadences will be ignored due to the quality mask (quality_bitmask=1130799).\n",
      "/home/ekaterina/Documents/000_envs/python37/lib/python3.7/site-packages/lightkurve/io/kepler.py:38: ResourceWarning: unclosed file <_io.FileIO name='/home/ekaterina/Documents/001_science/lcs/mastDownload/Kepler/kplr003832474_sc_Q000000033333333332/kplr003832474-2012060035710_slc.fits' mode='rb' closefd=True>\n",
      "  time_format=\"bkjd\",\n",
      "1% (216/40200) of the cadences will be ignored due to the quality mask (quality_bitmask=1130799).\n",
      "1% (216/40200) of the cadences will be ignored due to the quality mask (quality_bitmask=1130799).\n",
      "/home/ekaterina/Documents/000_envs/python37/lib/python3.7/site-packages/lightkurve/io/kepler.py:38: ResourceWarning: unclosed file <_io.FileIO name='/home/ekaterina/Documents/001_science/lcs/mastDownload/Kepler/kplr003832474_sc_Q000000033333333332/kplr003832474-2012088054726_slc.fits' mode='rb' closefd=True>\n",
      "  time_format=\"bkjd\",\n",
      "17% (6893/39840) of the cadences will be ignored due to the quality mask (quality_bitmask=1130799).\n",
      "17% (6893/39840) of the cadences will be ignored due to the quality mask (quality_bitmask=1130799).\n"
     ]
    },
    {
     "name": "stdout",
     "output_type": "stream",
     "text": [
      "3 LCs found for Kepler, Kepler-30, Quarter 12.\n",
      "date: 2022_08_02\n",
      "LC successfully detrended.\n"
     ]
    },
    {
     "name": "stderr",
     "output_type": "stream",
     "text": [
      "/home/ekaterina/Documents/000_envs/python37/lib/python3.7/site-packages/numpy/lib/nanfunctions.py:1117: RuntimeWarning: Mean of empty slice\n",
      "  return np.nanmean(a, axis, out=out, keepdims=keepdims)\n",
      "Found 0 candidate(s) in the (0,25142) gap.\n",
      "Found 0 candidate(s) in the (25142,28728) gap.\n",
      "Found 0 candidate(s) in the (28728,34037) gap.\n"
     ]
    },
    {
     "name": "stdout",
     "output_type": "stream",
     "text": [
      "Transit midtime in Kepler time: 413.6475999997929\n",
      "No flares found in LC.\n",
      "Wrote out LC to /home/ekaterina/Documents/001_science/lcs/2022_08_02_Kepler-30_12_altai_0.fits.\n",
      "date: 2022_08_02\n",
      "LC successfully detrended.\n"
     ]
    },
    {
     "name": "stderr",
     "output_type": "stream",
     "text": [
      "Found 0 candidate(s) in the (0,39984) gap.\n"
     ]
    },
    {
     "name": "stdout",
     "output_type": "stream",
     "text": [
      "Transit midtime in Kepler time: 413.6475999997929\n",
      "No flares found in LC.\n",
      "Wrote out LC to /home/ekaterina/Documents/001_science/lcs/2022_08_02_Kepler-30_12_altai_1.fits.\n",
      "date: 2022_08_02\n",
      "LC successfully detrended.\n"
     ]
    },
    {
     "name": "stderr",
     "output_type": "stream",
     "text": [
      "Found 0 candidate(s) in the (0,8251) gap.\n",
      "Found 0 candidate(s) in the (8251,32946) gap.\n"
     ]
    },
    {
     "name": "stdout",
     "output_type": "stream",
     "text": [
      "Transit midtime in Kepler time: 413.6475999997929\n",
      "No flares found in LC.\n",
      "Wrote out LC to /home/ekaterina/Documents/001_science/lcs/2022_08_02_Kepler-30_12_altai_2.fits.\n",
      "Get Kepler Sector/Quarter 08, TIC 399794329, Kepler-30, short cadence.\n",
      "No LC found for Kepler, Kepler-30, Quarter 08.\n",
      "Get Kepler Sector/Quarter 09, TIC 399794329, Kepler-30, short cadence.\n",
      "No LC found for Kepler, Kepler-30, Quarter 09.\n",
      "Get Kepler Sector/Quarter 10, TIC 399794329, Kepler-30, short cadence.\n"
     ]
    },
    {
     "name": "stderr",
     "output_type": "stream",
     "text": [
      "/home/ekaterina/Documents/000_envs/python37/lib/python3.7/site-packages/lightkurve/io/kepler.py:38: ResourceWarning: unclosed file <_io.FileIO name='/home/ekaterina/Documents/001_science/lcs/mastDownload/Kepler/kplr003832474_sc_Q000000033333333332/kplr003832474-2011208035123_slc.fits' mode='rb' closefd=True>\n",
      "  time_format=\"bkjd\",\n",
      "1% (242/44220) of the cadences will be ignored due to the quality mask (quality_bitmask=1130799).\n",
      "1% (242/44220) of the cadences will be ignored due to the quality mask (quality_bitmask=1130799).\n",
      "/home/ekaterina/Documents/000_envs/python37/lib/python3.7/site-packages/lightkurve/io/kepler.py:38: ResourceWarning: unclosed file <_io.FileIO name='/home/ekaterina/Documents/001_science/lcs/mastDownload/Kepler/kplr003832474_sc_Q000000033333333332/kplr003832474-2011240104155_slc.fits' mode='rb' closefd=True>\n",
      "  time_format=\"bkjd\",\n",
      "3% (1158/46170) of the cadences will be ignored due to the quality mask (quality_bitmask=1130799).\n",
      "3% (1158/46170) of the cadences will be ignored due to the quality mask (quality_bitmask=1130799).\n",
      "/home/ekaterina/Documents/000_envs/python37/lib/python3.7/site-packages/lightkurve/io/kepler.py:38: ResourceWarning: unclosed file <_io.FileIO name='/home/ekaterina/Documents/001_science/lcs/mastDownload/Kepler/kplr003832474_sc_Q000000033333333332/kplr003832474-2011271113734_slc.fits' mode='rb' closefd=True>\n",
      "  time_format=\"bkjd\",\n",
      "1% (241/44340) of the cadences will be ignored due to the quality mask (quality_bitmask=1130799).\n",
      "1% (241/44340) of the cadences will be ignored due to the quality mask (quality_bitmask=1130799).\n"
     ]
    },
    {
     "name": "stdout",
     "output_type": "stream",
     "text": [
      "3 LCs found for Kepler, Kepler-30, Quarter 10.\n",
      "date: 2022_08_02\n",
      "LC successfully detrended.\n"
     ]
    },
    {
     "name": "stderr",
     "output_type": "stream",
     "text": [
      "Found 0 candidate(s) in the (0,43978) gap.\n"
     ]
    },
    {
     "name": "stdout",
     "output_type": "stream",
     "text": [
      "Transit midtime in Kepler time: 413.6475999997929\n",
      "No flares found in LC.\n",
      "Wrote out LC to /home/ekaterina/Documents/001_science/lcs/2022_08_02_Kepler-30_10_altai_0.fits.\n",
      "date: 2022_08_02\n",
      "LC successfully detrended.\n"
     ]
    },
    {
     "name": "stderr",
     "output_type": "stream",
     "text": [
      "Found 0 candidate(s) in the (0,45005) gap.\n"
     ]
    },
    {
     "name": "stdout",
     "output_type": "stream",
     "text": [
      "Transit midtime in Kepler time: 413.6475999997929\n",
      "No flares found in LC.\n",
      "Wrote out LC to /home/ekaterina/Documents/001_science/lcs/2022_08_02_Kepler-30_10_altai_1.fits.\n",
      "date: 2022_08_02\n",
      "LC successfully detrended.\n"
     ]
    },
    {
     "name": "stderr",
     "output_type": "stream",
     "text": [
      "Found 1 candidate(s) in the (0,44060) gap.\n"
     ]
    },
    {
     "name": "stdout",
     "output_type": "stream",
     "text": [
      "Transit midtime in Kepler time: 413.6475999997929\n",
      "Flares found:\n",
      "      tstart       tstop     phase  ampl_rec       dur\n",
      "0  973.89318  973.897948  0.098626  0.043961  0.004768\n",
      "Wrote out LC to /home/ekaterina/Documents/001_science/lcs/2022_08_02_Kepler-30_10_altai_2.fits.\n",
      "Get Kepler Sector/Quarter 11, TIC 399794329, Kepler-30, short cadence.\n"
     ]
    },
    {
     "name": "stderr",
     "output_type": "stream",
     "text": [
      "/home/ekaterina/Documents/000_envs/python37/lib/python3.7/site-packages/lightkurve/io/kepler.py:38: ResourceWarning: unclosed file <_io.FileIO name='/home/ekaterina/Documents/001_science/lcs/mastDownload/Kepler/kplr003832474_sc_Q000000033333333332/kplr003832474-2011303113607_slc.fits' mode='rb' closefd=True>\n",
      "  time_format=\"bkjd\",\n",
      "1% (436/45630) of the cadences will be ignored due to the quality mask (quality_bitmask=1130799).\n",
      "1% (436/45630) of the cadences will be ignored due to the quality mask (quality_bitmask=1130799).\n",
      "/home/ekaterina/Documents/000_envs/python37/lib/python3.7/site-packages/lightkurve/io/kepler.py:38: ResourceWarning: unclosed file <_io.FileIO name='/home/ekaterina/Documents/001_science/lcs/mastDownload/Kepler/kplr003832474_sc_Q000000033333333332/kplr003832474-2011334093404_slc.fits' mode='rb' closefd=True>\n",
      "  time_format=\"bkjd\",\n",
      "2% (797/44340) of the cadences will be ignored due to the quality mask (quality_bitmask=1130799).\n",
      "2% (797/44340) of the cadences will be ignored due to the quality mask (quality_bitmask=1130799).\n",
      "/home/ekaterina/Documents/000_envs/python37/lib/python3.7/site-packages/lightkurve/io/kepler.py:38: ResourceWarning: unclosed file <_io.FileIO name='/home/ekaterina/Documents/001_science/lcs/mastDownload/Kepler/kplr003832474_sc_Q000000033333333332/kplr003832474-2012004120508_slc.fits' mode='rb' closefd=True>\n",
      "  time_format=\"bkjd\",\n",
      "1% (518/46830) of the cadences will be ignored due to the quality mask (quality_bitmask=1130799).\n",
      "1% (518/46830) of the cadences will be ignored due to the quality mask (quality_bitmask=1130799).\n"
     ]
    },
    {
     "name": "stdout",
     "output_type": "stream",
     "text": [
      "3 LCs found for Kepler, Kepler-30, Quarter 11.\n",
      "date: 2022_08_02\n",
      "LC successfully detrended.\n"
     ]
    },
    {
     "name": "stderr",
     "output_type": "stream",
     "text": [
      "Found 1 candidate(s) in the (0,45188) gap.\n"
     ]
    },
    {
     "name": "stdout",
     "output_type": "stream",
     "text": [
      "Transit midtime in Kepler time: 413.6475999997929\n",
      "Flares found:\n",
      "        tstart       tstop     phase  ampl_rec       dur\n",
      "0  1009.981086  1009.98381  0.328853  0.066489  0.002724\n",
      "Wrote out LC to /home/ekaterina/Documents/001_science/lcs/2022_08_02_Kepler-30_11_altai_0.fits.\n",
      "date: 2022_08_02\n",
      "LC successfully detrended.\n"
     ]
    },
    {
     "name": "stderr",
     "output_type": "stream",
     "text": [
      "Found 0 candidate(s) in the (0,43543) gap.\n"
     ]
    },
    {
     "name": "stdout",
     "output_type": "stream",
     "text": [
      "Transit midtime in Kepler time: 413.6475999997929\n",
      "No flares found in LC.\n",
      "Wrote out LC to /home/ekaterina/Documents/001_science/lcs/2022_08_02_Kepler-30_11_altai_1.fits.\n",
      "date: 2022_08_02\n",
      "LC successfully detrended.\n"
     ]
    },
    {
     "name": "stderr",
     "output_type": "stream",
     "text": [
      "/home/ekaterina/Documents/000_envs/python37/lib/python3.7/site-packages/numpy/lib/nanfunctions.py:1117: RuntimeWarning: Mean of empty slice\n",
      "  return np.nanmean(a, axis, out=out, keepdims=keepdims)\n",
      "Found 0 candidate(s) in the (0,8640) gap.\n",
      "Found 0 candidate(s) in the (8640,46311) gap.\n"
     ]
    },
    {
     "name": "stdout",
     "output_type": "stream",
     "text": [
      "Transit midtime in Kepler time: 413.6475999997929\n",
      "No flares found in LC.\n",
      "Wrote out LC to /home/ekaterina/Documents/001_science/lcs/2022_08_02_Kepler-30_11_altai_2.fits.\n",
      "Get TESS Sector/Quarter 14, TIC 399794329, Kepler-30, short cadence.\n"
     ]
    },
    {
     "name": "stderr",
     "output_type": "stream",
     "text": [
      "/home/ekaterina/Documents/000_envs/python37/lib/python3.7/site-packages/lightkurve/io/tess.py:34: ResourceWarning: unclosed file <_io.FileIO name='/home/ekaterina/Documents/001_science/lcs/mastDownload/TESS/tess2019198215352-s0014-0000000399794329-0150-s/tess2019198215352-s0014-0000000399794329-0150-s_lc.fits' mode='rb' closefd=True>\n",
      "  lc = read_generic_lightcurve(filename, flux_column=flux_column, time_format=\"btjd\")\n",
      "1% (230/18654) of the cadences will be ignored due to the quality mask (quality_bitmask=175).\n",
      "1% (230/18654) of the cadences will be ignored due to the quality mask (quality_bitmask=175).\n"
     ]
    },
    {
     "name": "stdout",
     "output_type": "stream",
     "text": [
      "date: 2022_08_02\n",
      "LC successfully detrended.\n"
     ]
    },
    {
     "name": "stderr",
     "output_type": "stream",
     "text": [
      "/home/ekaterina/Documents/000_envs/python37/lib/python3.7/site-packages/numpy/lib/nanfunctions.py:1117: RuntimeWarning: Mean of empty slice\n",
      "  return np.nanmean(a, axis, out=out, keepdims=keepdims)\n",
      "Found 0 candidate(s) in the (0,9245) gap.\n",
      "Found 0 candidate(s) in the (9245,18424) gap.\n"
     ]
    },
    {
     "name": "stdout",
     "output_type": "stream",
     "text": [
      "Transit midtime in TESS time: -1753.3524000002071\n",
      "No flares found in LC.\n",
      "Wrote out LC to /home/ekaterina/Documents/001_science/lcs/2022_08_02_399794329_14_altai_0.fits.\n",
      "Get TESS Sector/Quarter 26, TIC 399794329, Kepler-30, short cadence.\n"
     ]
    },
    {
     "name": "stderr",
     "output_type": "stream",
     "text": [
      "/home/ekaterina/Documents/000_envs/python37/lib/python3.7/site-packages/lightkurve/io/tess.py:34: ResourceWarning: unclosed file <_io.FileIO name='/home/ekaterina/Documents/001_science/lcs/mastDownload/TESS/tess2020160202036-s0026-0000000399794329-0188-s/tess2020160202036-s0026-0000000399794329-0188-s_lc.fits' mode='rb' closefd=True>\n",
      "  lc = read_generic_lightcurve(filename, flux_column=flux_column, time_format=\"btjd\")\n",
      "2% (306/17248) of the cadences will be ignored due to the quality mask (quality_bitmask=175).\n",
      "2% (306/17248) of the cadences will be ignored due to the quality mask (quality_bitmask=175).\n"
     ]
    },
    {
     "name": "stdout",
     "output_type": "stream",
     "text": [
      "date: 2022_08_02\n",
      "LC successfully detrended.\n"
     ]
    },
    {
     "name": "stderr",
     "output_type": "stream",
     "text": [
      "/home/ekaterina/Documents/000_envs/python37/lib/python3.7/site-packages/numpy/lib/nanfunctions.py:1117: RuntimeWarning: Mean of empty slice\n",
      "  return np.nanmean(a, axis, out=out, keepdims=keepdims)\n",
      "Found 0 candidate(s) in the (0,8442) gap.\n",
      "Found 0 candidate(s) in the (8442,16941) gap.\n",
      "/home/ekaterina/Documents/000_envs/python37/lib/python3.7/site-packages/ipykernel_launcher.py:88: LightkurveDeprecationWarning: The search_lightcurvefile function is deprecated and may be removed in a future version.\n",
      "        Use search_lightcurve() instead.\n"
     ]
    },
    {
     "name": "stdout",
     "output_type": "stream",
     "text": [
      "Transit midtime in TESS time: -1753.3524000002071\n",
      "No flares found in LC.\n",
      "Wrote out LC to /home/ekaterina/Documents/001_science/lcs/2022_08_02_399794329_26_altai_0.fits.\n",
      "\n",
      "---------------------\n",
      "4 flares found!\n",
      "-------------------\n",
      "\n",
      "(0, 0)\n",
      "Get TESS Sector/Quarter 40, TIC 399794420, Kepler-686, short cadence.\n"
     ]
    },
    {
     "name": "stderr",
     "output_type": "stream",
     "text": [
      "/home/ekaterina/Documents/000_envs/python37/lib/python3.7/site-packages/lightkurve/io/tess.py:34: ResourceWarning: unclosed file <_io.FileIO name='/home/ekaterina/Documents/001_science/lcs/mastDownload/TESS/tess2021175071901-s0040-0000000399794420-0211-s/tess2021175071901-s0040-0000000399794420-0211-s_lc.fits' mode='rb' closefd=True>\n",
      "  lc = read_generic_lightcurve(filename, flux_column=flux_column, time_format=\"btjd\")\n",
      "0% (32/19643) of the cadences will be ignored due to the quality mask (quality_bitmask=175).\n",
      "0% (32/19643) of the cadences will be ignored due to the quality mask (quality_bitmask=175).\n"
     ]
    },
    {
     "name": "stdout",
     "output_type": "stream",
     "text": [
      "date: 2022_08_02\n",
      "LC successfully detrended.\n"
     ]
    },
    {
     "name": "stderr",
     "output_type": "stream",
     "text": [
      "/home/ekaterina/Documents/000_envs/python37/lib/python3.7/site-packages/numpy/lib/nanfunctions.py:1117: RuntimeWarning: Mean of empty slice\n",
      "  return np.nanmean(a, axis, out=out, keepdims=keepdims)\n",
      "Found 0 candidate(s) in the (0,9882) gap.\n",
      "Found 0 candidate(s) in the (9882,19611) gap.\n"
     ]
    },
    {
     "name": "stdout",
     "output_type": "stream",
     "text": [
      "Transit midtime in TESS time: 2421.077645999845\n",
      "No flares found in LC.\n",
      "Wrote out LC to /home/ekaterina/Documents/001_science/lcs/2022_08_02_399794420_40_altai_0.fits.\n",
      "Get TESS Sector/Quarter 41, TIC 399794420, Kepler-686, short cadence.\n"
     ]
    },
    {
     "name": "stderr",
     "output_type": "stream",
     "text": [
      "/home/ekaterina/Documents/000_envs/python37/lib/python3.7/site-packages/lightkurve/io/tess.py:34: ResourceWarning: unclosed file <_io.FileIO name='/home/ekaterina/Documents/001_science/lcs/mastDownload/TESS/tess2021204101404-s0041-0000000399794420-0212-s/tess2021204101404-s0041-0000000399794420-0212-s_lc.fits' mode='rb' closefd=True>\n",
      "  lc = read_generic_lightcurve(filename, flux_column=flux_column, time_format=\"btjd\")\n",
      "0% (26/18348) of the cadences will be ignored due to the quality mask (quality_bitmask=175).\n",
      "0% (26/18348) of the cadences will be ignored due to the quality mask (quality_bitmask=175).\n"
     ]
    },
    {
     "name": "stdout",
     "output_type": "stream",
     "text": [
      "date: 2022_08_02\n",
      "LC successfully detrended.\n"
     ]
    },
    {
     "name": "stderr",
     "output_type": "stream",
     "text": [
      "/home/ekaterina/Documents/000_envs/python37/lib/python3.7/site-packages/numpy/lib/nanfunctions.py:1117: RuntimeWarning: Mean of empty slice\n",
      "  return np.nanmean(a, axis, out=out, keepdims=keepdims)\n",
      "Found 0 candidate(s) in the (0,9071) gap.\n",
      "Found 0 candidate(s) in the (9071,18322) gap.\n"
     ]
    },
    {
     "name": "stdout",
     "output_type": "stream",
     "text": [
      "Transit midtime in TESS time: 2421.077645999845\n",
      "No flares found in LC.\n",
      "Wrote out LC to /home/ekaterina/Documents/001_science/lcs/2022_08_02_399794420_41_altai_0.fits.\n",
      "Get TESS Sector/Quarter 53, TIC 399794420, Kepler-686, short cadence.\n"
     ]
    },
    {
     "name": "stderr",
     "output_type": "stream",
     "text": [
      "/home/ekaterina/Documents/000_envs/python37/lib/python3.7/site-packages/lightkurve/io/tess.py:34: ResourceWarning: unclosed file <_io.FileIO name='/home/ekaterina/Documents/001_science/lcs/mastDownload/TESS/tess2022164095748-s0053-0000000399794420-0226-s/tess2022164095748-s0053-0000000399794420-0226-s_lc.fits' mode='rb' closefd=True>\n",
      "  lc = read_generic_lightcurve(filename, flux_column=flux_column, time_format=\"btjd\")\n",
      "0% (30/17336) of the cadences will be ignored due to the quality mask (quality_bitmask=175).\n",
      "0% (30/17336) of the cadences will be ignored due to the quality mask (quality_bitmask=175).\n"
     ]
    },
    {
     "name": "stdout",
     "output_type": "stream",
     "text": [
      "date: 2022_08_02\n",
      "LC successfully detrended.\n"
     ]
    },
    {
     "name": "stderr",
     "output_type": "stream",
     "text": [
      "/home/ekaterina/Documents/000_envs/python37/lib/python3.7/site-packages/numpy/lib/nanfunctions.py:1117: RuntimeWarning: Mean of empty slice\n",
      "  return np.nanmean(a, axis, out=out, keepdims=keepdims)\n",
      "Found 0 candidate(s) in the (0,1118) gap.\n",
      "Found 0 candidate(s) in the (1118,8316) gap.\n",
      "Found 0 candidate(s) in the (8316,16994) gap.\n",
      "/home/ekaterina/Documents/000_envs/python37/lib/python3.7/site-packages/ipykernel_launcher.py:88: LightkurveDeprecationWarning: The search_lightcurvefile function is deprecated and may be removed in a future version.\n",
      "        Use search_lightcurve() instead.\n"
     ]
    },
    {
     "name": "stdout",
     "output_type": "stream",
     "text": [
      "Transit midtime in TESS time: 2421.077645999845\n",
      "No flares found in LC.\n",
      "Wrote out LC to /home/ekaterina/Documents/001_science/lcs/2022_08_02_399794420_53_altai_0.fits.\n",
      "\n",
      "---------------------\n",
      "0 flares found!\n",
      "-------------------\n",
      "\n",
      "(0, 0)\n"
     ]
    },
    {
     "name": "stderr",
     "output_type": "stream",
     "text": [
      "/home/ekaterina/Documents/000_envs/python37/lib/python3.7/site-packages/ipykernel_launcher.py:88: LightkurveDeprecationWarning: The search_lightcurvefile function is deprecated and may be removed in a future version.\n",
      "        Use search_lightcurve() instead.\n",
      "Could not resolve Kepler-1849 to a sky position.\n",
      "Could not resolve Kepler-1849 to a sky position.\n",
      "/home/ekaterina/Documents/000_envs/python37/lib/python3.7/site-packages/ipykernel_launcher.py:93: LightkurveDeprecationWarning: The search_lightcurvefile function is deprecated and may be removed in a future version.\n",
      "        Use search_lightcurve() instead.\n",
      "/home/ekaterina/Documents/000_envs/python37/lib/python3.7/site-packages/ipykernel_launcher.py:88: LightkurveDeprecationWarning: The search_lightcurvefile function is deprecated and may be removed in a future version.\n",
      "        Use search_lightcurve() instead.\n",
      "Could not resolve Kepler-1814 to a sky position.\n",
      "Could not resolve Kepler-1814 to a sky position.\n",
      "/home/ekaterina/Documents/000_envs/python37/lib/python3.7/site-packages/ipykernel_launcher.py:93: LightkurveDeprecationWarning: The search_lightcurvefile function is deprecated and may be removed in a future version.\n",
      "        Use search_lightcurve() instead.\n",
      "/home/ekaterina/Documents/000_envs/python37/lib/python3.7/site-packages/ipykernel_launcher.py:88: LightkurveDeprecationWarning: The search_lightcurvefile function is deprecated and may be removed in a future version.\n",
      "        Use search_lightcurve() instead.\n"
     ]
    },
    {
     "name": "stdout",
     "output_type": "stream",
     "text": [
      "Get Kepler Sector/Quarter 07, TIC 399822422, Kepler-205, short cadence.\n",
      "No LC found for Kepler, Kepler-205, Quarter 07.\n",
      "Get Kepler Sector/Quarter 16, TIC 399822422, Kepler-205, short cadence.\n"
     ]
    },
    {
     "name": "stderr",
     "output_type": "stream",
     "text": [
      "/home/ekaterina/Documents/000_envs/python37/lib/python3.7/site-packages/lightkurve/io/kepler.py:38: ResourceWarning: unclosed file <_io.FileIO name='/home/ekaterina/Documents/001_science/lcs/mastDownload/Kepler/kplr006425957_sc_Q000000033033003330/kplr006425957-2013017113907_slc.fits' mode='rb' closefd=True>\n",
      "  time_format=\"bkjd\",\n",
      "1% (58/7680) of the cadences will be ignored due to the quality mask (quality_bitmask=1130799).\n",
      "1% (58/7680) of the cadences will be ignored due to the quality mask (quality_bitmask=1130799).\n",
      "/home/ekaterina/Documents/000_envs/python37/lib/python3.7/site-packages/lightkurve/io/kepler.py:38: ResourceWarning: unclosed file <_io.FileIO name='/home/ekaterina/Documents/001_science/lcs/mastDownload/Kepler/kplr006425957_sc_Q000000033033003330/kplr006425957-2013065031647_slc.fits' mode='rb' closefd=True>\n",
      "  time_format=\"bkjd\",\n",
      "1% (455/53220) of the cadences will be ignored due to the quality mask (quality_bitmask=1130799).\n",
      "1% (455/53220) of the cadences will be ignored due to the quality mask (quality_bitmask=1130799).\n",
      "/home/ekaterina/Documents/000_envs/python37/lib/python3.7/site-packages/lightkurve/io/kepler.py:38: ResourceWarning: unclosed file <_io.FileIO name='/home/ekaterina/Documents/001_science/lcs/mastDownload/Kepler/kplr006425957_sc_Q000000033033003330/kplr006425957-2013098041711_slc.fits' mode='rb' closefd=True>\n",
      "  time_format=\"bkjd\",\n",
      "1% (274/46770) of the cadences will be ignored due to the quality mask (quality_bitmask=1130799).\n",
      "1% (274/46770) of the cadences will be ignored due to the quality mask (quality_bitmask=1130799).\n"
     ]
    },
    {
     "name": "stdout",
     "output_type": "stream",
     "text": [
      "3 LCs found for Kepler, Kepler-205, Quarter 16.\n",
      "date: 2022_08_02\n",
      "LC successfully detrended.\n"
     ]
    },
    {
     "name": "stderr",
     "output_type": "stream",
     "text": [
      "Found 0 candidate(s) in the (0,7622) gap.\n"
     ]
    },
    {
     "name": "stdout",
     "output_type": "stream",
     "text": [
      "Transit midtime in Kepler time: 170.84453999996185\n",
      "No flares found in LC.\n",
      "Wrote out LC to /home/ekaterina/Documents/001_science/lcs/2022_08_02_Kepler-205_16_altai_0.fits.\n",
      "date: 2022_08_02\n",
      "LC successfully detrended.\n"
     ]
    },
    {
     "name": "stderr",
     "output_type": "stream",
     "text": [
      "Found 0 candidate(s) in the (0,52752) gap.\n"
     ]
    },
    {
     "name": "stdout",
     "output_type": "stream",
     "text": [
      "Transit midtime in Kepler time: 170.84453999996185\n",
      "No flares found in LC.\n",
      "Wrote out LC to /home/ekaterina/Documents/001_science/lcs/2022_08_02_Kepler-205_16_altai_1.fits.\n",
      "date: 2022_08_02\n",
      "LC successfully detrended.\n"
     ]
    },
    {
     "name": "stderr",
     "output_type": "stream",
     "text": [
      "Found 0 candidate(s) in the (0,46462) gap.\n"
     ]
    },
    {
     "name": "stdout",
     "output_type": "stream",
     "text": [
      "Transit midtime in Kepler time: 170.84453999996185\n",
      "No flares found in LC.\n",
      "Wrote out LC to /home/ekaterina/Documents/001_science/lcs/2022_08_02_Kepler-205_16_altai_2.fits.\n",
      "Get Kepler Sector/Quarter 15, TIC 399822422, Kepler-205, short cadence.\n"
     ]
    },
    {
     "name": "stderr",
     "output_type": "stream",
     "text": [
      "/home/ekaterina/Documents/000_envs/python37/lib/python3.7/site-packages/lightkurve/io/kepler.py:38: ResourceWarning: unclosed file <_io.FileIO name='/home/ekaterina/Documents/001_science/lcs/mastDownload/Kepler/kplr006425957_sc_Q000000033033003330/kplr006425957-2012310112549_slc.fits' mode='rb' closefd=True>\n",
      "  time_format=\"bkjd\",\n",
      "1% (334/45270) of the cadences will be ignored due to the quality mask (quality_bitmask=1130799).\n",
      "1% (334/45270) of the cadences will be ignored due to the quality mask (quality_bitmask=1130799).\n",
      "/home/ekaterina/Documents/000_envs/python37/lib/python3.7/site-packages/lightkurve/io/kepler.py:38: ResourceWarning: unclosed file <_io.FileIO name='/home/ekaterina/Documents/001_science/lcs/mastDownload/Kepler/kplr006425957_sc_Q000000033033003330/kplr006425957-2012341132017_slc.fits' mode='rb' closefd=True>\n",
      "  time_format=\"bkjd\",\n",
      "1% (366/38310) of the cadences will be ignored due to the quality mask (quality_bitmask=1130799).\n",
      "1% (366/38310) of the cadences will be ignored due to the quality mask (quality_bitmask=1130799).\n",
      "/home/ekaterina/Documents/000_envs/python37/lib/python3.7/site-packages/lightkurve/io/kepler.py:38: ResourceWarning: unclosed file <_io.FileIO name='/home/ekaterina/Documents/001_science/lcs/mastDownload/Kepler/kplr006425957_sc_Q000000033033003330/kplr006425957-2013011073258_slc.fits' mode='rb' closefd=True>\n",
      "  time_format=\"bkjd\",\n",
      "0% (198/51270) of the cadences will be ignored due to the quality mask (quality_bitmask=1130799).\n",
      "0% (198/51270) of the cadences will be ignored due to the quality mask (quality_bitmask=1130799).\n"
     ]
    },
    {
     "name": "stdout",
     "output_type": "stream",
     "text": [
      "3 LCs found for Kepler, Kepler-205, Quarter 15.\n",
      "date: 2022_08_02\n",
      "LC successfully detrended.\n"
     ]
    },
    {
     "name": "stderr",
     "output_type": "stream",
     "text": [
      "Found 0 candidate(s) in the (0,44875) gap.\n"
     ]
    },
    {
     "name": "stdout",
     "output_type": "stream",
     "text": [
      "Transit midtime in Kepler time: 170.84453999996185\n",
      "No flares found in LC.\n",
      "Wrote out LC to /home/ekaterina/Documents/001_science/lcs/2022_08_02_Kepler-205_15_altai_0.fits.\n",
      "date: 2022_08_02\n",
      "LC successfully detrended.\n"
     ]
    },
    {
     "name": "stderr",
     "output_type": "stream",
     "text": [
      "/home/ekaterina/Documents/000_envs/python37/lib/python3.7/site-packages/numpy/lib/nanfunctions.py:1117: RuntimeWarning: Mean of empty slice\n",
      "  return np.nanmean(a, axis, out=out, keepdims=keepdims)\n",
      "Found 0 candidate(s) in the (0,10870) gap.\n",
      "Found 0 candidate(s) in the (10870,35655) gap.\n"
     ]
    },
    {
     "name": "stdout",
     "output_type": "stream",
     "text": [
      "Transit midtime in Kepler time: 170.84453999996185\n",
      "No flares found in LC.\n",
      "Wrote out LC to /home/ekaterina/Documents/001_science/lcs/2022_08_02_Kepler-205_15_altai_1.fits.\n",
      "date: 2022_08_02\n",
      "LC successfully detrended.\n"
     ]
    },
    {
     "name": "stderr",
     "output_type": "stream",
     "text": [
      "Found 0 candidate(s) in the (0,51069) gap.\n"
     ]
    },
    {
     "name": "stdout",
     "output_type": "stream",
     "text": [
      "Transit midtime in Kepler time: 170.84453999996185\n",
      "No flares found in LC.\n",
      "Wrote out LC to /home/ekaterina/Documents/001_science/lcs/2022_08_02_Kepler-205_15_altai_2.fits.\n",
      "Get Kepler Sector/Quarter 14, TIC 399822422, Kepler-205, short cadence.\n"
     ]
    },
    {
     "name": "stderr",
     "output_type": "stream",
     "text": [
      "/home/ekaterina/Documents/000_envs/python37/lib/python3.7/site-packages/lightkurve/io/kepler.py:38: ResourceWarning: unclosed file <_io.FileIO name='/home/ekaterina/Documents/001_science/lcs/mastDownload/Kepler/kplr006425957_sc_Q000000033033003330/kplr006425957-2012211050319_slc.fits' mode='rb' closefd=True>\n",
      "  time_format=\"bkjd\",\n",
      "4% (1670/38520) of the cadences will be ignored due to the quality mask (quality_bitmask=1130799).\n",
      "4% (1670/38520) of the cadences will be ignored due to the quality mask (quality_bitmask=1130799).\n",
      "/home/ekaterina/Documents/000_envs/python37/lib/python3.7/site-packages/lightkurve/io/kepler.py:38: ResourceWarning: unclosed file <_io.FileIO name='/home/ekaterina/Documents/001_science/lcs/mastDownload/Kepler/kplr006425957_sc_Q000000033033003330/kplr006425957-2012242122129_slc.fits' mode='rb' closefd=True>\n",
      "  time_format=\"bkjd\",\n",
      "0% (106/44280) of the cadences will be ignored due to the quality mask (quality_bitmask=1130799).\n",
      "0% (106/44280) of the cadences will be ignored due to the quality mask (quality_bitmask=1130799).\n",
      "/home/ekaterina/Documents/000_envs/python37/lib/python3.7/site-packages/lightkurve/io/kepler.py:38: ResourceWarning: unclosed file <_io.FileIO name='/home/ekaterina/Documents/001_science/lcs/mastDownload/Kepler/kplr006425957_sc_Q000000033033003330/kplr006425957-2012277125453_slc.fits' mode='rb' closefd=True>\n",
      "  time_format=\"bkjd\",\n",
      "0% (161/50160) of the cadences will be ignored due to the quality mask (quality_bitmask=1130799).\n",
      "0% (161/50160) of the cadences will be ignored due to the quality mask (quality_bitmask=1130799).\n"
     ]
    },
    {
     "name": "stdout",
     "output_type": "stream",
     "text": [
      "3 LCs found for Kepler, Kepler-205, Quarter 14.\n",
      "date: 2022_08_02\n",
      "LC successfully detrended.\n"
     ]
    },
    {
     "name": "stderr",
     "output_type": "stream",
     "text": [
      "/home/ekaterina/Documents/000_envs/python37/lib/python3.7/site-packages/numpy/lib/nanfunctions.py:1117: RuntimeWarning: Mean of empty slice\n",
      "  return np.nanmean(a, axis, out=out, keepdims=keepdims)\n",
      "Found 0 candidate(s) in the (0,22219) gap.\n",
      "Found 0 candidate(s) in the (22219,34810) gap.\n"
     ]
    },
    {
     "name": "stdout",
     "output_type": "stream",
     "text": [
      "Transit midtime in Kepler time: 170.84453999996185\n",
      "No flares found in LC.\n",
      "Wrote out LC to /home/ekaterina/Documents/001_science/lcs/2022_08_02_Kepler-205_14_altai_0.fits.\n",
      "date: 2022_08_02\n"
     ]
    }
   ],
   "source": [
    "Nflares = 0 \n",
    "while Nflares < 1000:\n",
    "    lcs_sel=pd.DataFrame()\n",
    "    print(lcs_sel.shape)\n",
    "    while lcs_sel.shape[0]==0:\n",
    "        input_target = input_catalog.iloc[count]\n",
    "\n",
    "        lcs_sel = get_table_of_light_curves(input_target)\n",
    "        if lcs_sel is None:\n",
    "            lcs_sel=pd.DataFrame()\n",
    "        count+=1\n",
    "\n",
    "    TIC = \"TIC \" + str(input_target.TIC)\n",
    "    ID = input_target.hostname\n",
    "    n = 0\n",
    "    Nflares = 0\n",
    "    while n<lcs_sel.shape[0]:\n",
    "\n",
    "        sector = lcs_sel.iloc[n].mission[-2:]\n",
    "        mission = lcs_sel.iloc[n].mission.split(\" \")[0]\n",
    "\n",
    "        lc_n = n + 1\n",
    "\n",
    "        if lcs_sel.iloc[n].exptime < 30:\n",
    "            cadence = \"fast\"\n",
    "        else: \n",
    "            cadence = \"short\"\n",
    "\n",
    "        print(f\"Get {mission} Sector/Quarter {sector}, {TIC}, {ID}, {cadence} cadence.\")\n",
    "\n",
    "        # fetch light curve from MAST\n",
    "        download_dir = \"/home/ekaterina/Documents/001_science/lcs\"\n",
    "\n",
    "        if mission==\"TESS\":\n",
    "            flc = from_mast(TIC, mission=mission, c=sector,\n",
    "                        cadence=cadence, author=\"SPOC\",\n",
    "                        download_dir=download_dir)\n",
    "            if flc is None:\n",
    "                print(f\"No LC found for {mission}, {ID}, Quarter {sector}.\")\n",
    "                with open(\"../results/2022_07_listed_but_nothing_found.txt\", \"a\") as f:\n",
    "                    string = f\"{mission},{ID},{TIC},{sector},{cadence}\\n\"\n",
    "                    f.write(string)\n",
    "                n += 1\n",
    "            else:\n",
    "                Nflares += run_analysis(flc, input_target, sector, mission, lc_n, download_dir, i=0)\n",
    "                n += 1\n",
    "        elif mission==\"Kepler\":\n",
    "            flcl = from_mast(ID, mission=mission, c=sector,\n",
    "                        cadence=cadence,\n",
    "                        download_dir=download_dir)\n",
    "\n",
    "            if flcl is None:\n",
    "                print(f\"No LC found for {mission}, {ID}, Quarter {sector}.\")\n",
    "                with open(\"../results/2022_07_listed_but_nothing_found.txt\", \"a\") as f:\n",
    "                    string = f\"{mission},{ID},{TIC},{sector},{cadence}\\n\"\n",
    "                    f.write(string)\n",
    "                n += 1\n",
    "\n",
    "            elif type(flcl) != list:\n",
    "\n",
    "                print(f\"1 LC found for {mission}, {ID}, Quarter {sector}.\")\n",
    "                Nflares += run_analysis(flcl, input_target, sector, mission, lc_n, download_dir, i=0)\n",
    "                n += 1\n",
    "\n",
    "\n",
    "\n",
    "            else:\n",
    "                print(f\"{len(flcl)} LCs found for {mission}, {ID}, Quarter {sector}.\")\n",
    "                for i, flc in enumerate(flcl):\n",
    "                    Nflares += run_analysis(flc, input_target, sector, mission, lc_n, download_dir, i=i)\n",
    "\n",
    "                n += 1\n",
    "\n",
    "    print(f\"\\n---------------------\\n{Nflares} flares found!\\n-------------------\\n\")\n",
    "print(f\"\\nNext count is {count}.\\n\")"
   ]
  },
  {
   "cell_type": "code",
   "execution_count": null,
   "metadata": {},
   "outputs": [],
   "source": [
    "type(flcl) != list"
   ]
  },
  {
   "cell_type": "code",
   "execution_count": null,
   "metadata": {},
   "outputs": [],
   "source": [
    "# 2022_07_29_Kepler-974_14_altai_2\n",
    "# 2022_07_29_Kepler-974_15_altai_2\n",
    "# 2022_07_29_Kepler-974_16_altai_1.fits +2\n",
    "fff = fits.open(\"/home/ekaterina/Documents/001_science/lcs/2022_07_29_Kepler-350_14_altai_2.fits\")[1].data\n",
    "ff = pd.read_csv(\"../results/2022_07_flares.csv\")\n",
    "ff = ff[(ff.ID == ID) & (ff.qcs==14)]\n",
    "ff"
   ]
  },
  {
   "cell_type": "code",
   "execution_count": null,
   "metadata": {
    "scrolled": false
   },
   "outputs": [],
   "source": [
    "%matplotlib inline\n",
    "for j, flare in ff.iloc[2:].iterrows():\n",
    "    plt.figure(figsize=(16,5))\n",
    "    cap=.5\n",
    "    ts, tf = flare.tstart, flare.tstop\n",
    "    print(ts,tf)\n",
    "    _ = fff[np.where((fff['time']>=ts-.1/cap) & (fff['time']<=tf+.1/cap))]\n",
    "    med = np.median(_['flux'])\n",
    "    plt.plot(_['time'], _['flux']/med, c=\"k\")\n",
    "    \n",
    "    _ = fff[np.where((fff['time']>=ts-1e-8) & (fff['time']<=tf+1e-8))]\n",
    "    plt.scatter(_['time'], _['flux']/med, c=\"r\")\n",
    "\n",
    "    plt.scatter(ts, flare.phase/5 + 1)\n",
    "    plt.plot(_['time'], _['phase']/5 + 1, c=\"grey\")\n",
    "#     plt.ylim(0.99,1.004)"
   ]
  },
  {
   "cell_type": "code",
   "execution_count": null,
   "metadata": {},
   "outputs": [],
   "source": []
  }
 ],
 "metadata": {
  "kernelspec": {
   "display_name": "python37",
   "language": "python",
   "name": "python37"
  },
  "language_info": {
   "codemirror_mode": {
    "name": "ipython",
    "version": 3
   },
   "file_extension": ".py",
   "mimetype": "text/x-python",
   "name": "python",
   "nbconvert_exporter": "python",
   "pygments_lexer": "ipython3",
   "version": "3.7.5"
  }
 },
 "nbformat": 4,
 "nbformat_minor": 2
}
