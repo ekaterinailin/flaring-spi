{
 "cells": [
  {
   "cell_type": "code",
   "execution_count": 1,
   "metadata": {},
   "outputs": [
    {
     "name": "stderr",
     "output_type": "stream",
     "text": [
      "\n",
      "Bad key legend.labelcolor in file /home/ekaterina/.config/matplotlib/matplotlibrc, line 530 ('legend.labelcolor:    None')\n",
      "You probably need to get an updated matplotlibrc file from\n",
      "https://github.com/matplotlib/matplotlib/blob/v3.4.2/matplotlibrc.template\n",
      "or from the matplotlib source distribution\n"
     ]
    }
   ],
   "source": [
    "\"\"\"\n",
    "UTF-8, Python 3\n",
    "\n",
    "------------------\n",
    "Flaring SPI\n",
    "------------------\n",
    "\n",
    "Ekaterina Ilin, 2021, MIT License\n",
    "\n",
    "De-trending Kepler and TESS\n",
    "\n",
    "- get table of Kepler exoplanet system light curves\n",
    "- fetch FLC\n",
    "- get system info from table\n",
    "- mask transits\n",
    "- apply custom detrending\n",
    "- search flares\n",
    "- save results\n",
    "\"\"\"\n",
    "\n",
    "\n",
    "import copy\n",
    "import time\n",
    "\n",
    "from funcs.notebook import *\n",
    "from funcs.detrend import estimate_detrended_noise, fit_spline, remove_sines_iteratively, remove_exponential_fringes\n",
    "from funcs.transitmask import get_full_transit_mask\n",
    "\n",
    "from altaipony.lcio import from_mast, from_path\n",
    "from altaipony.flarelc import FlareLightCurve\n",
    "from altaipony.altai import find_iterative_median\n",
    "\n",
    "from lightkurve import search_lightcurvefile\n",
    "\n",
    "from astropy.io import fits\n",
    "\n",
    "\n",
    "def custom_detrending(lc, spline_coarseness=30, spline_order=3,\n",
    "                      savgol1=6., savgol2=3., pad=3):\n",
    "    \"\"\"Custom de-trending for TESS and Kepler \n",
    "    short cadence light curves, including TESS Cycle 3 20s\n",
    "    cadence.\n",
    "    \n",
    "    Parameters:\n",
    "    ------------\n",
    "    lc : FlareLightCurve\n",
    "        light curve that has at least time, flux and flux_err\n",
    "    spline_coarseness : float\n",
    "        time scale in hours for spline points. \n",
    "        See fit_spline for details.\n",
    "    spline_order: int\n",
    "        Spline order for the coarse spline fit.\n",
    "        Default is cubic spline.\n",
    "    savgol1 : float\n",
    "        Window size for first Savitzky-Golay filter application.\n",
    "        Unit is hours, defaults to 6 hours.\n",
    "    savgol2 : float\n",
    "        Window size for second Savitzky-Golay filter application.\n",
    "        Unit is hours, defaults to 3 hours.\n",
    "    pad : 3\n",
    "        Outliers in Savitzky-Golay filter are padded with this\n",
    "        number of data points. Defaults to 3.\n",
    "        \n",
    "    Return:\n",
    "    -------\n",
    "    FlareLightCurve with detrended_flux attribute\n",
    "    \"\"\"\n",
    "    dt = np.mean(np.diff(lc.time.value))\n",
    "#     plt.figure(figsize=(16,8))\n",
    "#     plt.xlim(20,21)\n",
    "#     plt.plot(lc.time, lc.flux+2500, c=\"c\", label=\"original light curve\")\n",
    "#     t0 = time.clock()\n",
    "    # fit a spline to the general trends\n",
    "    lc1, model = fit_spline(lc, spline_order=spline_order,\n",
    "                            spline_coarseness=spline_coarseness)\n",
    "    \n",
    "    # replace for next step\n",
    "    lc1.flux = lc1.detrended_flux.value\n",
    "#     t1 = time.clock()\n",
    "#     plt.plot(lc1.time, model+2500, c=\"r\", label=\"rough trends\")\n",
    "#     plt.plot(lc1.time, lc1.detrended_flux+500, c=\"orange\", label=\"rough trends removed\")\n",
    "\n",
    "    # removes strong and fast variability on 5 day to 4.8 hours \n",
    "    # simple sines are probably because rotational variability is \n",
    "    # either weak and transient or strong and persistent on the timescales\n",
    "    lc2 = lc1#remove_sines_iteratively(lc1)\n",
    "#     t2 = time.clock()\n",
    "#     plt.plot(lc2time, lc2.detrended_flux-200, label=\"sines removed\")\n",
    "    \n",
    "    # choose a 6 hour window\n",
    "    w = int((np.rint(savgol1 / 24. / dt) // 2) * 2 + 1)\n",
    "\n",
    "    # use Savitzy-Golay to iron out the rest\n",
    "    lc3 = lc2.detrend(\"savgol\", window_length=w, pad=pad)\n",
    "#     t3 = time.clock()\n",
    "    # choose a three hour window\n",
    "    w = int((np.rint(savgol2 / 24. / dt) // 2) * 2 + 1)\n",
    "\n",
    "    # use Savitzy-Golay to iron out the rest\n",
    "    lc4 = lc3.detrend(\"savgol\", window_length=w, pad=pad)\n",
    "#     t4 = time.clock()\n",
    "#     plt.plot(lc4.time, lc4.detrended_flux-800, c=\"k\", label=\"SavGol applied\")\n",
    "    \n",
    "    # find median value\n",
    "    lc4 = find_iterative_median(lc4)\n",
    "#     t41 = time.clock()\n",
    "    # replace for next step\n",
    "    lc4.flux = lc4.detrended_flux.value\n",
    "    \n",
    "    # remove exopential fringes that neither spline, \n",
    "    # nor sines, nor SavGol \n",
    "    # can remove.\n",
    "    lc5 = remove_exponential_fringes(lc4)\n",
    "#     t5 = time.clock()\n",
    "#     plt.plot(lc5.time, lc5.detrended_flux, c=\"magenta\", label=\"expfunc applied\")\n",
    "#     print(t1-t0, t2-t1, t3-t2, t4-t3, t41-t4, t5-t41, t5-t0)\n",
    "#     plt.xlim(10,40)\n",
    "#     plt.xlabel(\"time [days]\")\n",
    "#     plt.ylabel(\"flux\")\n",
    "#     plt.legend()    \n",
    "    return lc5\n",
    "\n",
    "\n",
    "def add_meta_data_and_write(ff, dflcn, ID, TIC, sector, mission,\n",
    "                  lc_n, w, tstamp, mask_pos_outliers_sigma):\n",
    "    \"\"\"Write out flare table to file.\"\"\"\n",
    "    \n",
    "    \n",
    "    if ff.shape[0]==0:\n",
    "        ff[\"phase\"]=-1\n",
    "        ff[\"total_n_valid_data_points\"] = dflcn.detrended_flux.shape[0]\n",
    "        ff[\"ID\"] = ID\n",
    "        ff[\"TIC\"] = TIC\n",
    "        ff[\"qcs\"] = sector\n",
    "        ff[\"mission\"] = mission\n",
    "        ff[\"tstamp\"] = tstamp\n",
    "        ff[\"lc_n\"] = lc_n\n",
    "        ff[\"w\"] = w\n",
    "        ff[\"mask_pos_outliers_sigma\"] = mask_pos_outliers_sigma\n",
    "        ff[\"real\"]=-1\n",
    "        ff = ff.append({\"phase\":-1,\n",
    "                        \"total_n_valid_data_points\":dflcn.detrended_flux.shape[0],\n",
    "                        \"ID\":ID,\n",
    "                        \"TIC\":TIC,\n",
    "                        \"qcs\" : sector,\n",
    "                        \"mission\":mission,\n",
    "                        \"tstamp\":tstamp,\n",
    "                        \"lc_n\":lc_n,\n",
    "                        \"w\":w,\n",
    "                        \"mask_pos_outliers_sigma\":mask_pos_outliers_sigma,\n",
    "                        \"real\":-1},\n",
    "                         ignore_index=True)\n",
    "\n",
    "    # otherwise add ID, QCS and mission\n",
    "    else:\n",
    "        ff[\"total_n_valid_data_points\"] = dflcn.detrended_flux.shape[0]\n",
    "        ff[\"ID\"] = ID\n",
    "        ff[\"TIC\"] = TIC\n",
    "        ff[\"qcs\"] = sector\n",
    "        ff[\"mission\"] = mission\n",
    "        ff[\"tstamp\"] = tstamp\n",
    "        ff[\"lc_n\"] = lc_n\n",
    "        ff[\"w\"] = w\n",
    "        ff[\"mask_pos_outliers_sigma\"] = mask_pos_outliers_sigma\n",
    "\n",
    "    # add results to file\n",
    "    with open(\"../results/2022_07_flares.csv\", \"a\") as file:\n",
    "        ff.to_csv(file, index=False, header=False)\n",
    "            \n",
    "def write_flc_to_file(dflcn, flc, path_dflcn):\n",
    "    \"\"\"Write detrended light curve to fits.\"\"\"\n",
    "    \n",
    "    \n",
    "    dflcn.to_fits(path_dflcn, \n",
    "                  FLUX=flc.flux.value,\n",
    "                  DETRENDED_FLUX=dflcn.detrended_flux.value,\n",
    "                  DETRENDED_FLUX_ERR=dflcn.detrended_flux_err.value,\n",
    "                  IT_MED=dflcn.it_med.value,\n",
    "                  FLUX_MODEL=dflcn.flux_model.value,\n",
    "                  PHASE = dflcn.phase,\n",
    "                  overwrite=True)\n",
    "\n",
    "def write_no_lc(input_target):\n",
    "    with open(\"../results/2022_07_nolc.txt\",\"a\") as f:\n",
    "        s = f\"TIC {input_target.TIC}\\n\"\n",
    "        f.write(s)\n",
    "    \n",
    "    \n",
    "sep = \"-----------------------------------------\"\n",
    "\n",
    "def mprint(message):\n",
    "    print(sep)\n",
    "    print(message)\n",
    "    print(sep)\n",
    "    \n",
    "offset = {\"K2\":2454833.,\n",
    "          \"Kepler\":2454833.,\n",
    "          \"TESS\":2457000.,\n",
    "          'Transiting Exoplanet Survey Satellite (TESS)':2457000.}    "
   ]
  },
  {
   "cell_type": "code",
   "execution_count": 2,
   "metadata": {},
   "outputs": [],
   "source": [
    "def run_analysis(flc, input_target, sector, mission, lc_n, download_dir,\n",
    "                 i=0, mask_pos_outliers_sigma = 2.5, addtail = True):\n",
    "    # get timestamp for result\n",
    "    tstamp = time.strftime(\"%Y_%m_%d\", time.localtime())\n",
    "    print(f\"date: {tstamp}\")\n",
    "\n",
    "    dflc = custom_detrending(flc)\n",
    "    print(\"LC successfully detrended.\")\n",
    "\n",
    "    # define two hour window for rolling std\n",
    "    w = np.floor(1. / 12. / np.nanmin(np.diff(dflc.time.value)))\n",
    "    if w%2==0: \n",
    "        w+=1\n",
    "\n",
    "    # use window to estimate the noise in the LC\n",
    "    dflcn = estimate_detrended_noise(dflc, std_window=int(w), \n",
    "                                  mask_pos_outliers_sigma=mask_pos_outliers_sigma)\n",
    "\n",
    "    # search the residual for flares\n",
    "    ff = dflcn.find_flares(addtail=addtail).flares\n",
    "\n",
    "\n",
    "    # calculate the observed phases\n",
    "    # calculate midtime of transit in TESS or Kepler time\n",
    "    if mission == \"TESS\":\n",
    "        if np.isfinite(input_target.pl_tranmid_tess):\n",
    "            midtime = input_target.pl_tranmid_tess - offset[mission]\n",
    "        else:\n",
    "            midtime = input_target.pl_tranmid - offset[mission]\n",
    "    elif mission == \"Kepler\":\n",
    "        midtime = input_target.pl_tranmid - offset[mission]\n",
    "    print(f\"Transit midtime in {mission} time: {midtime}\")\n",
    "\n",
    "    # calculate phases for the light curve\n",
    "    dflcn['phase'] = ((dflcn.time.value - midtime) % input_target.pl_orbper) / input_target.pl_orbper\n",
    "\n",
    "    # calculate the phase at which the flare was observed\n",
    "    ff[\"phase\"] = ff.cstart.apply(lambda x: dflcn[\"phase\"][np.where(x==dflcn.cadenceno)][0])\n",
    "    \n",
    "\n",
    "    # this is just to get the order of columns right, will be added later again\n",
    "    if ff.shape[0]>0:\n",
    "        del ff[\"total_n_valid_data_points\"]\n",
    "\n",
    "    # chop out all phases where we have no data points to look for flares in:\n",
    "    dflcn[\"phase\"][~np.isfinite(dflcn[\"detrended_flux\"])] = np.nan\n",
    "\n",
    "    fshow = ff[[\"tstart\",'tstop',\"phase\",\"ampl_rec\",\"dur\"]]\n",
    "    if fshow.shape[0]>0:\n",
    "        print(f\"Flares found:\\n{fshow}\")\n",
    "    else:\n",
    "        print(f'No flares found in LC.')\n",
    "\n",
    "    # add meta info to flare table\n",
    "    # if no flares found, add empty row and write to file\n",
    "    add_meta_data_and_write(ff, dflcn, input_target.hostname, \n",
    "                            input_target.TIC, sector,\n",
    "                            mission, lc_n, w, tstamp,\n",
    "                            mask_pos_outliers_sigma)\n",
    "\n",
    "\n",
    "    #write out detrended light curve\n",
    "    if mission==\"TESS\":\n",
    "        path_dflcn = f\"{download_dir}/{tstamp}_{input_target.TIC}_{sector}_altai_{i}.fits\"\n",
    "    elif mission==\"Kepler\":\n",
    "        name = input_target.hostname.replace(\" \",\"_\").replace(\"-\",\"_\")\n",
    "        path_dflcn = f\"{download_dir}/{tstamp}_{input_target.hostname}_{sector}_altai_{i}.fits\"\n",
    "        \n",
    "    write_flc_to_file(dflcn, flc, path_dflcn)\n",
    "    print(f\"Wrote out LC to {path_dflcn}.\")\n",
    "\n",
    "#     %matplotlib inline\n",
    "#     plt.figure(figsize=(16,5))\n",
    "    # plt.plot(flc.time, flc.flux)\n",
    "    # plt.plot(dflcn.time.value, dflcn.detrended_flux.value/,c=\"orange\")\n",
    "#     plt.plot(flc.time.value, flc.pdcsap_flux.value/np.median(flc.pdcsap_flux.value),c=\"r\")\n",
    "#     plt.scatter(dflcn.time.value, dflcn.phase.value/10+1,c=\"k\",zorder=10,s=.3)\n",
    "#     plt.title(f\"{mission} Sector/Quarter {sector}, TIC {input_target.TIC}, {input_target.hostname}, {cadence} cadence.\")\n",
    "    # plt.plot(flc.time.value, flc.flux.value,c=\"k\")\n",
    "    # x=25\n",
    "    # plt.xlim(2412,2414)\n",
    "    # plt.ylim(0.99,1.3)\n",
    "    return ff.shape[0]\n",
    "\n",
    "def get_table_of_light_curves(input_target):\n",
    "\n",
    "    try:\n",
    "        lcs  = search_lightcurvefile(input_target.hostname)   \n",
    "        conditions = (lcs.exptime.value < 130) & (lcs.author != \"TASOC\")\n",
    "        lcs_sel = lcs[conditions]\n",
    "    except KeyError:\n",
    "        try:\n",
    "            lcs  = search_lightcurvefile(f\"TIC {input_target.TIC}\")\n",
    "            conditions = (lcs.exptime.value < 130) & (lcs.author != \"TASOC\")\n",
    "            lcs_sel = lcs[conditions]\n",
    "        except KeyError:\n",
    "            write_no_lc(input_target)\n",
    "            return\n",
    "    if len(lcs)==0:\n",
    "        write_no_lc(input_target)\n",
    "        return\n",
    "   \n",
    "    \n",
    "    lcs_sel = lcs_sel.table.to_pandas().sort_values(by=\"t_exptime\")\n",
    "    lcs_sel_tess = lcs_sel.loc[lcs_sel.mission.str[:4]==\"TESS\",:].drop_duplicates(subset=[\"mission\"],keep=\"first\")\n",
    "    lcs_sel_kepler = lcs_sel[lcs_sel.mission.str[:6]==\"Kepler\"].drop_duplicates(subset=[\"mission\"])\n",
    "\n",
    "    lcs_sel = pd.concat([lcs_sel_kepler,lcs_sel_tess])\n",
    "   \n",
    "    return lcs_sel"
   ]
  },
  {
   "cell_type": "code",
   "execution_count": 3,
   "metadata": {},
   "outputs": [
    {
     "name": "stdout",
     "output_type": "stream",
     "text": [
      "-----------------------------------------\n",
      "[UP] Using compiled input catalog from ../data/2022_07_27_input_catalog_star_planet_systems.csv\n",
      "-----------------------------------------\n"
     ]
    }
   ],
   "source": [
    "# Composite Table of confirmed exoplanets\n",
    "path = \"../data/2022_07_27_input_catalog_star_planet_systems.csv\"\n",
    "\n",
    "mprint(f\"[UP] Using compiled input catalog from {path}\")\n",
    "\n",
    "input_catalog = pd.read_csv(path) "
   ]
  },
  {
   "cell_type": "code",
   "execution_count": 4,
   "metadata": {},
   "outputs": [
    {
     "data": {
      "text/plain": [
       "0"
      ]
     },
     "execution_count": 4,
     "metadata": {},
     "output_type": "execute_result"
    }
   ],
   "source": [
    "lcs_sel=pd.DataFrame()\n",
    "lcs_sel.shape[0]"
   ]
  },
  {
   "cell_type": "code",
   "execution_count": 8,
   "metadata": {},
   "outputs": [
    {
     "data": {
      "text/html": [
       "<div>\n",
       "<style scoped>\n",
       "    .dataframe tbody tr th:only-of-type {\n",
       "        vertical-align: middle;\n",
       "    }\n",
       "\n",
       "    .dataframe tbody tr th {\n",
       "        vertical-align: top;\n",
       "    }\n",
       "\n",
       "    .dataframe thead th {\n",
       "        text-align: right;\n",
       "    }\n",
       "</style>\n",
       "<table border=\"1\" class=\"dataframe\">\n",
       "  <thead>\n",
       "    <tr style=\"text-align: right;\">\n",
       "      <th></th>\n",
       "      <th>TIC</th>\n",
       "      <th>hostname</th>\n",
       "      <th>pl_name</th>\n",
       "      <th>sy_pnum</th>\n",
       "      <th>sy_snum</th>\n",
       "      <th>pl_orbper</th>\n",
       "      <th>pl_orbpererr1</th>\n",
       "      <th>pl_orbpererr2</th>\n",
       "      <th>pl_tranmid</th>\n",
       "      <th>pl_tranmiderr1</th>\n",
       "      <th>pl_tranmiderr2</th>\n",
       "      <th>pl_orbper_tess</th>\n",
       "      <th>pl_orbpererr1_tess</th>\n",
       "      <th>pl_orbpererr2_tess</th>\n",
       "      <th>pl_tranmid_tess</th>\n",
       "      <th>pl_tranmiderr1_tess</th>\n",
       "      <th>pl_tranmiderr2_tess</th>\n",
       "      <th>obrparams_tess</th>\n",
       "    </tr>\n",
       "  </thead>\n",
       "  <tbody>\n",
       "    <tr>\n",
       "      <th>2829</th>\n",
       "      <td>63213622</td>\n",
       "      <td>Kepler-1313</td>\n",
       "      <td>Kepler-1313 b</td>\n",
       "      <td>1.0</td>\n",
       "      <td>1.0</td>\n",
       "      <td>3.833091</td>\n",
       "      <td>0.000005</td>\n",
       "      <td>-0.000005</td>\n",
       "      <td>2.454965e+06</td>\n",
       "      <td>0.00115</td>\n",
       "      <td>-0.00115</td>\n",
       "      <td>NaN</td>\n",
       "      <td>NaN</td>\n",
       "      <td>NaN</td>\n",
       "      <td>NaN</td>\n",
       "      <td>NaN</td>\n",
       "      <td>NaN</td>\n",
       "      <td>0</td>\n",
       "    </tr>\n",
       "  </tbody>\n",
       "</table>\n",
       "</div>"
      ],
      "text/plain": [
       "           TIC     hostname        pl_name  sy_pnum  sy_snum  pl_orbper  \\\n",
       "2829  63213622  Kepler-1313  Kepler-1313 b      1.0      1.0   3.833091   \n",
       "\n",
       "      pl_orbpererr1  pl_orbpererr2    pl_tranmid  pl_tranmiderr1  \\\n",
       "2829       0.000005      -0.000005  2.454965e+06         0.00115   \n",
       "\n",
       "      pl_tranmiderr2  pl_orbper_tess  pl_orbpererr1_tess  pl_orbpererr2_tess  \\\n",
       "2829        -0.00115             NaN                 NaN                 NaN   \n",
       "\n",
       "      pl_tranmid_tess  pl_tranmiderr1_tess  pl_tranmiderr2_tess  \\\n",
       "2829              NaN                  NaN                  NaN   \n",
       "\n",
       "      obrparams_tess  \n",
       "2829               0  "
      ]
     },
     "execution_count": 8,
     "metadata": {},
     "output_type": "execute_result"
    }
   ],
   "source": [
    "input_catalog[input_catalog.hostname == \"Kepler-1313\"]\n"
   ]
  },
  {
   "cell_type": "code",
   "execution_count": 9,
   "metadata": {
    "scrolled": false
   },
   "outputs": [],
   "source": [
    "count = 2830\n",
    "#Kepler-24 is the next one in line!"
   ]
  },
  {
   "cell_type": "code",
   "execution_count": null,
   "metadata": {
    "scrolled": true
   },
   "outputs": [
    {
     "name": "stdout",
     "output_type": "stream",
     "text": [
      "(0, 0)\n"
     ]
    },
    {
     "name": "stderr",
     "output_type": "stream",
     "text": [
      "/home/ekaterina/Documents/000_envs/python37/lib/python3.7/site-packages/ipykernel_launcher.py:88: LightkurveDeprecationWarning: The search_lightcurvefile function is deprecated and may be removed in a future version.\n",
      "        Use search_lightcurve() instead.\n",
      "/home/ekaterina/Documents/000_envs/python37/lib/python3.7/site-packages/ipykernel_launcher.py:88: LightkurveDeprecationWarning: The search_lightcurvefile function is deprecated and may be removed in a future version.\n",
      "        Use search_lightcurve() instead.\n",
      "/home/ekaterina/Documents/000_envs/python37/lib/python3.7/site-packages/ipykernel_launcher.py:88: LightkurveDeprecationWarning: The search_lightcurvefile function is deprecated and may be removed in a future version.\n",
      "        Use search_lightcurve() instead.\n",
      "Could not resolve Kepler-1918 to a sky position.\n",
      "Could not resolve Kepler-1918 to a sky position.\n",
      "/home/ekaterina/Documents/000_envs/python37/lib/python3.7/site-packages/ipykernel_launcher.py:93: LightkurveDeprecationWarning: The search_lightcurvefile function is deprecated and may be removed in a future version.\n",
      "        Use search_lightcurve() instead.\n",
      "/home/ekaterina/Documents/000_envs/python37/lib/python3.7/site-packages/ipykernel_launcher.py:88: LightkurveDeprecationWarning: The search_lightcurvefile function is deprecated and may be removed in a future version.\n",
      "        Use search_lightcurve() instead.\n",
      "Could not resolve Kepler-1825 to a sky position.\n",
      "Could not resolve Kepler-1825 to a sky position.\n",
      "/home/ekaterina/Documents/000_envs/python37/lib/python3.7/site-packages/ipykernel_launcher.py:93: LightkurveDeprecationWarning: The search_lightcurvefile function is deprecated and may be removed in a future version.\n",
      "        Use search_lightcurve() instead.\n",
      "/home/ekaterina/Documents/000_envs/python37/lib/python3.7/site-packages/ipykernel_launcher.py:88: LightkurveDeprecationWarning: The search_lightcurvefile function is deprecated and may be removed in a future version.\n",
      "        Use search_lightcurve() instead.\n"
     ]
    },
    {
     "name": "stdout",
     "output_type": "stream",
     "text": [
      "Get Kepler Sector/Quarter 07, TIC 63283780, Kepler-210, short cadence.\n",
      "No LC found for Kepler, Kepler-210, Quarter 07.\n",
      "Get Kepler Sector/Quarter 17, TIC 63283780, Kepler-210, short cadence.\n"
     ]
    },
    {
     "name": "stderr",
     "output_type": "stream",
     "text": [
      "/home/ekaterina/Documents/000_envs/python37/lib/python3.7/site-packages/lightkurve/io/kepler.py:38: ResourceWarning: unclosed file <_io.FileIO name='/home/ekaterina/Documents/001_science/lcs/mastDownload/Kepler/kplr007447200_sc_Q000000033333323332/kplr007447200-2013121191144_slc.fits' mode='rb' closefd=True>\n",
      "  time_format=\"bkjd\",\n",
      "1% (248/32850) of the cadences will be ignored due to the quality mask (quality_bitmask=1130799).\n",
      "1% (248/32850) of the cadences will be ignored due to the quality mask (quality_bitmask=1130799).\n",
      "/home/ekaterina/Documents/000_envs/python37/lib/python3.7/site-packages/lightkurve/io/kepler.py:38: ResourceWarning: unclosed file <_io.FileIO name='/home/ekaterina/Documents/001_science/lcs/mastDownload/Kepler/kplr007447200_sc_Q000000033333323332/kplr007447200-2013131215648_slc.fits' mode='rb' closefd=True>\n",
      "  time_format=\"bkjd\",\n",
      "0% (28/6180) of the cadences will be ignored due to the quality mask (quality_bitmask=1130799).\n",
      "0% (28/6180) of the cadences will be ignored due to the quality mask (quality_bitmask=1130799).\n"
     ]
    },
    {
     "name": "stdout",
     "output_type": "stream",
     "text": [
      "2 LCs found for Kepler, Kepler-210, Quarter 17.\n",
      "date: 2022_08_02\n",
      "LC successfully detrended.\n"
     ]
    },
    {
     "name": "stderr",
     "output_type": "stream",
     "text": [
      "/home/ekaterina/Documents/000_envs/python37/lib/python3.7/site-packages/numpy/lib/nanfunctions.py:1117: RuntimeWarning: Mean of empty slice\n",
      "  return np.nanmean(a, axis, out=out, keepdims=keepdims)\n",
      "Found 0 candidate(s) in the (0,2385) gap.\n",
      "Found 0 candidate(s) in the (2385,32600) gap.\n"
     ]
    },
    {
     "name": "stdout",
     "output_type": "stream",
     "text": [
      "Transit midtime in Kepler time: 170.89153000013903\n",
      "No flares found in LC.\n",
      "Wrote out LC to /home/ekaterina/Documents/001_science/lcs/2022_08_02_Kepler-210_17_altai_0.fits.\n",
      "date: 2022_08_02\n",
      "LC successfully detrended.\n"
     ]
    },
    {
     "name": "stderr",
     "output_type": "stream",
     "text": [
      "Found 1 candidate(s) in the (0,6151) gap.\n"
     ]
    },
    {
     "name": "stdout",
     "output_type": "stream",
     "text": [
      "Transit midtime in Kepler time: 170.89153000013903\n",
      "Flares found:\n",
      "        tstart        tstop     phase  ampl_rec       dur\n",
      "0  1591.001673  1591.003717  0.872681  0.003398  0.002043\n",
      "Wrote out LC to /home/ekaterina/Documents/001_science/lcs/2022_08_02_Kepler-210_17_altai_1.fits.\n",
      "Get Kepler Sector/Quarter 16, TIC 63283780, Kepler-210, short cadence.\n"
     ]
    },
    {
     "name": "stderr",
     "output_type": "stream",
     "text": [
      "/home/ekaterina/Documents/000_envs/python37/lib/python3.7/site-packages/lightkurve/io/kepler.py:38: ResourceWarning: unclosed file <_io.FileIO name='/home/ekaterina/Documents/001_science/lcs/mastDownload/Kepler/kplr007447200_sc_Q000000033333323332/kplr007447200-2013017113907_slc.fits' mode='rb' closefd=True>\n",
      "  time_format=\"bkjd\",\n",
      "1% (58/7680) of the cadences will be ignored due to the quality mask (quality_bitmask=1130799).\n",
      "1% (58/7680) of the cadences will be ignored due to the quality mask (quality_bitmask=1130799).\n",
      "/home/ekaterina/Documents/000_envs/python37/lib/python3.7/site-packages/lightkurve/io/kepler.py:38: ResourceWarning: unclosed file <_io.FileIO name='/home/ekaterina/Documents/001_science/lcs/mastDownload/Kepler/kplr007447200_sc_Q000000033333323332/kplr007447200-2013065031647_slc.fits' mode='rb' closefd=True>\n",
      "  time_format=\"bkjd\",\n",
      "1% (455/53220) of the cadences will be ignored due to the quality mask (quality_bitmask=1130799).\n",
      "1% (455/53220) of the cadences will be ignored due to the quality mask (quality_bitmask=1130799).\n",
      "/home/ekaterina/Documents/000_envs/python37/lib/python3.7/site-packages/lightkurve/io/kepler.py:38: ResourceWarning: unclosed file <_io.FileIO name='/home/ekaterina/Documents/001_science/lcs/mastDownload/Kepler/kplr007447200_sc_Q000000033333323332/kplr007447200-2013098041711_slc.fits' mode='rb' closefd=True>\n",
      "  time_format=\"bkjd\",\n",
      "1% (274/46770) of the cadences will be ignored due to the quality mask (quality_bitmask=1130799).\n",
      "1% (274/46770) of the cadences will be ignored due to the quality mask (quality_bitmask=1130799).\n"
     ]
    },
    {
     "name": "stdout",
     "output_type": "stream",
     "text": [
      "3 LCs found for Kepler, Kepler-210, Quarter 16.\n",
      "date: 2022_08_02\n",
      "LC successfully detrended.\n"
     ]
    },
    {
     "name": "stderr",
     "output_type": "stream",
     "text": [
      "Found 0 candidate(s) in the (0,7622) gap.\n"
     ]
    },
    {
     "name": "stdout",
     "output_type": "stream",
     "text": [
      "Transit midtime in Kepler time: 170.89153000013903\n",
      "No flares found in LC.\n",
      "Wrote out LC to /home/ekaterina/Documents/001_science/lcs/2022_08_02_Kepler-210_16_altai_0.fits.\n",
      "date: 2022_08_02\n",
      "LC successfully detrended.\n"
     ]
    },
    {
     "name": "stderr",
     "output_type": "stream",
     "text": [
      "Found 0 candidate(s) in the (0,52751) gap.\n"
     ]
    },
    {
     "name": "stdout",
     "output_type": "stream",
     "text": [
      "Transit midtime in Kepler time: 170.89153000013903\n",
      "No flares found in LC.\n",
      "Wrote out LC to /home/ekaterina/Documents/001_science/lcs/2022_08_02_Kepler-210_16_altai_1.fits.\n",
      "date: 2022_08_02\n",
      "LC successfully detrended.\n"
     ]
    },
    {
     "name": "stderr",
     "output_type": "stream",
     "text": [
      "Found 0 candidate(s) in the (0,46462) gap.\n"
     ]
    },
    {
     "name": "stdout",
     "output_type": "stream",
     "text": [
      "Transit midtime in Kepler time: 170.89153000013903\n",
      "No flares found in LC.\n",
      "Wrote out LC to /home/ekaterina/Documents/001_science/lcs/2022_08_02_Kepler-210_16_altai_2.fits.\n",
      "Get Kepler Sector/Quarter 15, TIC 63283780, Kepler-210, short cadence.\n"
     ]
    },
    {
     "name": "stderr",
     "output_type": "stream",
     "text": [
      "/home/ekaterina/Documents/000_envs/python37/lib/python3.7/site-packages/lightkurve/io/kepler.py:38: ResourceWarning: unclosed file <_io.FileIO name='/home/ekaterina/Documents/001_science/lcs/mastDownload/Kepler/kplr007447200_sc_Q000000033333323332/kplr007447200-2012310112549_slc.fits' mode='rb' closefd=True>\n",
      "  time_format=\"bkjd\",\n",
      "1% (334/45270) of the cadences will be ignored due to the quality mask (quality_bitmask=1130799).\n",
      "1% (334/45270) of the cadences will be ignored due to the quality mask (quality_bitmask=1130799).\n",
      "/home/ekaterina/Documents/000_envs/python37/lib/python3.7/site-packages/lightkurve/io/kepler.py:38: ResourceWarning: unclosed file <_io.FileIO name='/home/ekaterina/Documents/001_science/lcs/mastDownload/Kepler/kplr007447200_sc_Q000000033333323332/kplr007447200-2012341132017_slc.fits' mode='rb' closefd=True>\n",
      "  time_format=\"bkjd\",\n",
      "1% (366/38310) of the cadences will be ignored due to the quality mask (quality_bitmask=1130799).\n",
      "1% (366/38310) of the cadences will be ignored due to the quality mask (quality_bitmask=1130799).\n",
      "/home/ekaterina/Documents/000_envs/python37/lib/python3.7/site-packages/lightkurve/io/kepler.py:38: ResourceWarning: unclosed file <_io.FileIO name='/home/ekaterina/Documents/001_science/lcs/mastDownload/Kepler/kplr007447200_sc_Q000000033333323332/kplr007447200-2013011073258_slc.fits' mode='rb' closefd=True>\n",
      "  time_format=\"bkjd\",\n",
      "0% (198/51270) of the cadences will be ignored due to the quality mask (quality_bitmask=1130799).\n",
      "0% (198/51270) of the cadences will be ignored due to the quality mask (quality_bitmask=1130799).\n"
     ]
    },
    {
     "name": "stdout",
     "output_type": "stream",
     "text": [
      "3 LCs found for Kepler, Kepler-210, Quarter 15.\n",
      "date: 2022_08_02\n",
      "LC successfully detrended.\n"
     ]
    },
    {
     "name": "stderr",
     "output_type": "stream",
     "text": [
      "Found 0 candidate(s) in the (0,44875) gap.\n"
     ]
    },
    {
     "name": "stdout",
     "output_type": "stream",
     "text": [
      "Transit midtime in Kepler time: 170.89153000013903\n",
      "No flares found in LC.\n",
      "Wrote out LC to /home/ekaterina/Documents/001_science/lcs/2022_08_02_Kepler-210_15_altai_0.fits.\n",
      "date: 2022_08_02\n",
      "LC successfully detrended.\n"
     ]
    },
    {
     "name": "stderr",
     "output_type": "stream",
     "text": [
      "/home/ekaterina/Documents/000_envs/python37/lib/python3.7/site-packages/numpy/lib/nanfunctions.py:1117: RuntimeWarning: Mean of empty slice\n",
      "  return np.nanmean(a, axis, out=out, keepdims=keepdims)\n",
      "Found 0 candidate(s) in the (0,10870) gap.\n",
      "Found 0 candidate(s) in the (10870,35655) gap.\n"
     ]
    },
    {
     "name": "stdout",
     "output_type": "stream",
     "text": [
      "Transit midtime in Kepler time: 170.89153000013903\n",
      "No flares found in LC.\n",
      "Wrote out LC to /home/ekaterina/Documents/001_science/lcs/2022_08_02_Kepler-210_15_altai_1.fits.\n",
      "date: 2022_08_02\n",
      "LC successfully detrended.\n"
     ]
    },
    {
     "name": "stderr",
     "output_type": "stream",
     "text": [
      "Found 15 candidate(s) in the (0,51069) gap.\n"
     ]
    },
    {
     "name": "stdout",
     "output_type": "stream",
     "text": [
      "Transit midtime in Kepler time: 170.89153000013903\n",
      "Flares found:\n",
      "         tstart        tstop     phase  ampl_rec       dur\n",
      "0   1470.743237  1470.746642  0.852312  0.002756  0.003406\n",
      "1   1470.768437  1470.770481  0.862584  0.002430  0.002043\n",
      "2   1470.814752  1470.816795  0.881463  0.003181  0.002043\n",
      "3   1470.831780  1470.835185  0.888404  0.002384  0.003405\n",
      "4   1470.850850  1470.857661  0.896178  0.002534  0.006811\n",
      "5   1470.881500  1470.886948  0.908671  0.004278  0.005449\n",
      "6   1470.894441  1470.901252  0.913947  0.004630  0.006811\n",
      "7   1470.903976  1470.906019  0.917833  0.003190  0.002043\n",
      "8   1470.921003  1470.925090  0.924774  0.003617  0.004087\n",
      "9   1470.937350  1470.944842  0.931437  0.003694  0.007492\n",
      "10  1470.954377  1470.957102  0.938378  0.002919  0.002724\n",
      "11  1470.960507  1470.965275  0.940877  0.003380  0.004768\n",
      "12  1470.969361  1470.973448  0.944486  0.002806  0.004087\n",
      "13  1470.987070  1470.997287  0.951705  0.003951  0.010216\n",
      "14  1471.000692  1471.005460  0.957257  0.003366  0.004768\n",
      "Wrote out LC to /home/ekaterina/Documents/001_science/lcs/2022_08_02_Kepler-210_15_altai_2.fits.\n",
      "Get Kepler Sector/Quarter 14, TIC 63283780, Kepler-210, short cadence.\n"
     ]
    },
    {
     "name": "stderr",
     "output_type": "stream",
     "text": [
      "/home/ekaterina/Documents/000_envs/python37/lib/python3.7/site-packages/lightkurve/io/kepler.py:38: ResourceWarning: unclosed file <_io.FileIO name='/home/ekaterina/Documents/001_science/lcs/mastDownload/Kepler/kplr007447200_sc_Q000000033333323332/kplr007447200-2012211050319_slc.fits' mode='rb' closefd=True>\n",
      "  time_format=\"bkjd\",\n",
      "4% (1670/38520) of the cadences will be ignored due to the quality mask (quality_bitmask=1130799).\n",
      "4% (1670/38520) of the cadences will be ignored due to the quality mask (quality_bitmask=1130799).\n",
      "/home/ekaterina/Documents/000_envs/python37/lib/python3.7/site-packages/lightkurve/io/kepler.py:38: ResourceWarning: unclosed file <_io.FileIO name='/home/ekaterina/Documents/001_science/lcs/mastDownload/Kepler/kplr007447200_sc_Q000000033333323332/kplr007447200-2012242122129_slc.fits' mode='rb' closefd=True>\n",
      "  time_format=\"bkjd\",\n",
      "0% (106/44280) of the cadences will be ignored due to the quality mask (quality_bitmask=1130799).\n",
      "0% (106/44280) of the cadences will be ignored due to the quality mask (quality_bitmask=1130799).\n",
      "/home/ekaterina/Documents/000_envs/python37/lib/python3.7/site-packages/lightkurve/io/kepler.py:38: ResourceWarning: unclosed file <_io.FileIO name='/home/ekaterina/Documents/001_science/lcs/mastDownload/Kepler/kplr007447200_sc_Q000000033333323332/kplr007447200-2012277125453_slc.fits' mode='rb' closefd=True>\n",
      "  time_format=\"bkjd\",\n",
      "0% (161/50160) of the cadences will be ignored due to the quality mask (quality_bitmask=1130799).\n",
      "0% (161/50160) of the cadences will be ignored due to the quality mask (quality_bitmask=1130799).\n"
     ]
    },
    {
     "name": "stdout",
     "output_type": "stream",
     "text": [
      "3 LCs found for Kepler, Kepler-210, Quarter 14.\n",
      "date: 2022_08_02\n",
      "LC successfully detrended.\n"
     ]
    },
    {
     "name": "stderr",
     "output_type": "stream",
     "text": [
      "/home/ekaterina/Documents/000_envs/python37/lib/python3.7/site-packages/numpy/lib/nanfunctions.py:1117: RuntimeWarning: Mean of empty slice\n",
      "  return np.nanmean(a, axis, out=out, keepdims=keepdims)\n",
      "Found 0 candidate(s) in the (0,22220) gap.\n",
      "Found 0 candidate(s) in the (22220,34811) gap.\n"
     ]
    },
    {
     "name": "stdout",
     "output_type": "stream",
     "text": [
      "Transit midtime in Kepler time: 170.89153000013903\n",
      "No flares found in LC.\n",
      "Wrote out LC to /home/ekaterina/Documents/001_science/lcs/2022_08_02_Kepler-210_14_altai_0.fits.\n",
      "date: 2022_08_02\n",
      "LC successfully detrended.\n"
     ]
    },
    {
     "name": "stderr",
     "output_type": "stream",
     "text": [
      "Found 1 candidate(s) in the (0,44149) gap.\n"
     ]
    },
    {
     "name": "stdout",
     "output_type": "stream",
     "text": [
      "Transit midtime in Kepler time: 170.89153000013903\n",
      "Flares found:\n",
      "       tstart        tstop     phase  ampl_rec       dur\n",
      "0  1323.11434  1323.117064  0.675053  0.006854  0.002725\n",
      "Wrote out LC to /home/ekaterina/Documents/001_science/lcs/2022_08_02_Kepler-210_14_altai_1.fits.\n",
      "date: 2022_08_02\n",
      "LC successfully detrended.\n"
     ]
    },
    {
     "name": "stderr",
     "output_type": "stream",
     "text": [
      "Found 1 candidate(s) in the (0,49958) gap.\n"
     ]
    },
    {
     "name": "stdout",
     "output_type": "stream",
     "text": [
      "Transit midtime in Kepler time: 170.89153000013903\n",
      "Flares found:\n",
      "        tstart        tstop    phase  ampl_rec       dur\n",
      "0  1337.504365  1337.507771  0.54079  0.008801  0.003405\n",
      "Wrote out LC to /home/ekaterina/Documents/001_science/lcs/2022_08_02_Kepler-210_14_altai_2.fits.\n",
      "Get Kepler Sector/Quarter 13, TIC 63283780, Kepler-210, short cadence.\n"
     ]
    },
    {
     "name": "stderr",
     "output_type": "stream",
     "text": [
      "/home/ekaterina/Documents/000_envs/python37/lib/python3.7/site-packages/lightkurve/io/kepler.py:38: ResourceWarning: unclosed file <_io.FileIO name='/home/ekaterina/Documents/001_science/lcs/mastDownload/Kepler/kplr007447200_sc_Q000000033333323332/kplr007447200-2012151031540_slc.fits' mode='rb' closefd=True>\n",
      "  time_format=\"bkjd\",\n",
      "1% (448/42930) of the cadences will be ignored due to the quality mask (quality_bitmask=1130799).\n",
      "1% (448/42930) of the cadences will be ignored due to the quality mask (quality_bitmask=1130799).\n",
      "/home/ekaterina/Documents/000_envs/python37/lib/python3.7/site-packages/lightkurve/io/kepler.py:38: ResourceWarning: unclosed file <_io.FileIO name='/home/ekaterina/Documents/001_science/lcs/mastDownload/Kepler/kplr007447200_sc_Q000000033333323332/kplr007447200-2012179063303_slc.fits' mode='rb' closefd=True>\n",
      "  time_format=\"bkjd\",\n",
      "2% (867/39990) of the cadences will be ignored due to the quality mask (quality_bitmask=1130799).\n",
      "2% (867/39990) of the cadences will be ignored due to the quality mask (quality_bitmask=1130799).\n"
     ]
    },
    {
     "name": "stdout",
     "output_type": "stream",
     "text": [
      "2 LCs found for Kepler, Kepler-210, Quarter 13.\n",
      "date: 2022_08_02\n",
      "LC successfully detrended.\n"
     ]
    },
    {
     "name": "stderr",
     "output_type": "stream",
     "text": [
      "Found 0 candidate(s) in the (0,42289) gap.\n"
     ]
    },
    {
     "name": "stdout",
     "output_type": "stream",
     "text": [
      "Transit midtime in Kepler time: 170.89153000013903\n",
      "No flares found in LC.\n",
      "Wrote out LC to /home/ekaterina/Documents/001_science/lcs/2022_08_02_Kepler-210_13_altai_0.fits.\n",
      "date: 2022_08_02\n",
      "LC successfully detrended.\n"
     ]
    },
    {
     "name": "stderr",
     "output_type": "stream",
     "text": [
      "/home/ekaterina/Documents/000_envs/python37/lib/python3.7/site-packages/numpy/lib/nanfunctions.py:1117: RuntimeWarning: Mean of empty slice\n",
      "  return np.nanmean(a, axis, out=out, keepdims=keepdims)\n",
      "Found 0 candidate(s) in the (0,33464) gap.\n",
      "Found 0 candidate(s) in the (33464,39121) gap.\n"
     ]
    },
    {
     "name": "stdout",
     "output_type": "stream",
     "text": [
      "Transit midtime in Kepler time: 170.89153000013903\n",
      "No flares found in LC.\n",
      "Wrote out LC to /home/ekaterina/Documents/001_science/lcs/2022_08_02_Kepler-210_13_altai_1.fits.\n",
      "Get Kepler Sector/Quarter 12, TIC 63283780, Kepler-210, short cadence.\n"
     ]
    },
    {
     "name": "stderr",
     "output_type": "stream",
     "text": [
      "/home/ekaterina/Documents/000_envs/python37/lib/python3.7/site-packages/lightkurve/io/kepler.py:38: ResourceWarning: unclosed file <_io.FileIO name='/home/ekaterina/Documents/001_science/lcs/mastDownload/Kepler/kplr007447200_sc_Q000000033333323332/kplr007447200-2012032013838_slc.fits' mode='rb' closefd=True>\n",
      "  time_format=\"bkjd\",\n",
      "13% (4872/38910) of the cadences will be ignored due to the quality mask (quality_bitmask=1130799).\n",
      "13% (4872/38910) of the cadences will be ignored due to the quality mask (quality_bitmask=1130799).\n",
      "/home/ekaterina/Documents/000_envs/python37/lib/python3.7/site-packages/lightkurve/io/kepler.py:38: ResourceWarning: unclosed file <_io.FileIO name='/home/ekaterina/Documents/001_science/lcs/mastDownload/Kepler/kplr007447200_sc_Q000000033333323332/kplr007447200-2012060035710_slc.fits' mode='rb' closefd=True>\n",
      "  time_format=\"bkjd\",\n",
      "1% (216/40200) of the cadences will be ignored due to the quality mask (quality_bitmask=1130799).\n",
      "1% (216/40200) of the cadences will be ignored due to the quality mask (quality_bitmask=1130799).\n",
      "/home/ekaterina/Documents/000_envs/python37/lib/python3.7/site-packages/lightkurve/io/kepler.py:38: ResourceWarning: unclosed file <_io.FileIO name='/home/ekaterina/Documents/001_science/lcs/mastDownload/Kepler/kplr007447200_sc_Q000000033333323332/kplr007447200-2012088054726_slc.fits' mode='rb' closefd=True>\n",
      "  time_format=\"bkjd\",\n",
      "17% (6893/39840) of the cadences will be ignored due to the quality mask (quality_bitmask=1130799).\n",
      "17% (6893/39840) of the cadences will be ignored due to the quality mask (quality_bitmask=1130799).\n"
     ]
    },
    {
     "name": "stdout",
     "output_type": "stream",
     "text": [
      "3 LCs found for Kepler, Kepler-210, Quarter 12.\n",
      "date: 2022_08_02\n",
      "LC successfully detrended.\n"
     ]
    },
    {
     "name": "stderr",
     "output_type": "stream",
     "text": [
      "/home/ekaterina/Documents/000_envs/python37/lib/python3.7/site-packages/numpy/lib/nanfunctions.py:1117: RuntimeWarning: Mean of empty slice\n",
      "  return np.nanmean(a, axis, out=out, keepdims=keepdims)\n",
      "Found 0 candidate(s) in the (0,25142) gap.\n",
      "Found 0 candidate(s) in the (25142,28728) gap.\n",
      "Found 0 candidate(s) in the (28728,34037) gap.\n"
     ]
    },
    {
     "name": "stdout",
     "output_type": "stream",
     "text": [
      "Transit midtime in Kepler time: 170.89153000013903\n",
      "No flares found in LC.\n",
      "Wrote out LC to /home/ekaterina/Documents/001_science/lcs/2022_08_02_Kepler-210_12_altai_0.fits.\n",
      "date: 2022_08_02\n",
      "LC successfully detrended.\n"
     ]
    },
    {
     "name": "stderr",
     "output_type": "stream",
     "text": [
      "Found 0 candidate(s) in the (0,39984) gap.\n"
     ]
    },
    {
     "name": "stdout",
     "output_type": "stream",
     "text": [
      "Transit midtime in Kepler time: 170.89153000013903\n",
      "No flares found in LC.\n",
      "Wrote out LC to /home/ekaterina/Documents/001_science/lcs/2022_08_02_Kepler-210_12_altai_1.fits.\n",
      "date: 2022_08_02\n",
      "LC successfully detrended.\n"
     ]
    },
    {
     "name": "stderr",
     "output_type": "stream",
     "text": [
      "Found 0 candidate(s) in the (0,8251) gap.\n",
      "Found 0 candidate(s) in the (8251,32946) gap.\n"
     ]
    },
    {
     "name": "stdout",
     "output_type": "stream",
     "text": [
      "Transit midtime in Kepler time: 170.89153000013903\n",
      "No flares found in LC.\n",
      "Wrote out LC to /home/ekaterina/Documents/001_science/lcs/2022_08_02_Kepler-210_12_altai_2.fits.\n",
      "Get Kepler Sector/Quarter 09, TIC 63283780, Kepler-210, short cadence.\n",
      "No LC found for Kepler, Kepler-210, Quarter 09.\n",
      "Get Kepler Sector/Quarter 11, TIC 63283780, Kepler-210, short cadence.\n"
     ]
    },
    {
     "name": "stderr",
     "output_type": "stream",
     "text": [
      "/home/ekaterina/Documents/000_envs/python37/lib/python3.7/site-packages/lightkurve/io/kepler.py:38: ResourceWarning: unclosed file <_io.FileIO name='/home/ekaterina/Documents/001_science/lcs/mastDownload/Kepler/kplr007447200_sc_Q000000033333323332/kplr007447200-2011303113607_slc.fits' mode='rb' closefd=True>\n",
      "  time_format=\"bkjd\",\n",
      "1% (436/45630) of the cadences will be ignored due to the quality mask (quality_bitmask=1130799).\n",
      "1% (436/45630) of the cadences will be ignored due to the quality mask (quality_bitmask=1130799).\n",
      "/home/ekaterina/Documents/000_envs/python37/lib/python3.7/site-packages/lightkurve/io/kepler.py:38: ResourceWarning: unclosed file <_io.FileIO name='/home/ekaterina/Documents/001_science/lcs/mastDownload/Kepler/kplr007447200_sc_Q000000033333323332/kplr007447200-2011334093404_slc.fits' mode='rb' closefd=True>\n",
      "  time_format=\"bkjd\",\n",
      "2% (797/44340) of the cadences will be ignored due to the quality mask (quality_bitmask=1130799).\n",
      "2% (797/44340) of the cadences will be ignored due to the quality mask (quality_bitmask=1130799).\n",
      "/home/ekaterina/Documents/000_envs/python37/lib/python3.7/site-packages/lightkurve/io/kepler.py:38: ResourceWarning: unclosed file <_io.FileIO name='/home/ekaterina/Documents/001_science/lcs/mastDownload/Kepler/kplr007447200_sc_Q000000033333323332/kplr007447200-2012004120508_slc.fits' mode='rb' closefd=True>\n",
      "  time_format=\"bkjd\",\n",
      "1% (518/46830) of the cadences will be ignored due to the quality mask (quality_bitmask=1130799).\n",
      "1% (518/46830) of the cadences will be ignored due to the quality mask (quality_bitmask=1130799).\n"
     ]
    },
    {
     "name": "stdout",
     "output_type": "stream",
     "text": [
      "3 LCs found for Kepler, Kepler-210, Quarter 11.\n",
      "date: 2022_08_02\n",
      "LC successfully detrended.\n"
     ]
    },
    {
     "name": "stderr",
     "output_type": "stream",
     "text": [
      "Found 0 candidate(s) in the (0,45183) gap.\n"
     ]
    },
    {
     "name": "stdout",
     "output_type": "stream",
     "text": [
      "Transit midtime in Kepler time: 170.89153000013903\n",
      "No flares found in LC.\n",
      "Wrote out LC to /home/ekaterina/Documents/001_science/lcs/2022_08_02_Kepler-210_11_altai_0.fits.\n",
      "date: 2022_08_02\n"
     ]
    },
    {
     "name": "stderr",
     "output_type": "stream",
     "text": [
      "/home/ekaterina/Documents/001_science/Flaring_SPI/notebooks/funcs/detrend.py:364: RuntimeWarning: overflow encountered in exp\n",
      "  return a * np.exp(b * (c - x)) + d * np.exp(e * (f - x)) + g\n",
      "/home/ekaterina/Documents/001_science/Flaring_SPI/notebooks/funcs/detrend.py:364: RuntimeWarning: overflow encountered in multiply\n",
      "  return a * np.exp(b * (c - x)) + d * np.exp(e * (f - x)) + g\n"
     ]
    },
    {
     "name": "stdout",
     "output_type": "stream",
     "text": [
      "LC successfully detrended.\n"
     ]
    },
    {
     "name": "stderr",
     "output_type": "stream",
     "text": [
      "Found 0 candidate(s) in the (0,43543) gap.\n"
     ]
    },
    {
     "name": "stdout",
     "output_type": "stream",
     "text": [
      "Transit midtime in Kepler time: 170.89153000013903\n",
      "No flares found in LC.\n",
      "Wrote out LC to /home/ekaterina/Documents/001_science/lcs/2022_08_02_Kepler-210_11_altai_1.fits.\n",
      "date: 2022_08_02\n",
      "LC successfully detrended.\n"
     ]
    },
    {
     "name": "stderr",
     "output_type": "stream",
     "text": [
      "/home/ekaterina/Documents/000_envs/python37/lib/python3.7/site-packages/numpy/lib/nanfunctions.py:1117: RuntimeWarning: Mean of empty slice\n",
      "  return np.nanmean(a, axis, out=out, keepdims=keepdims)\n",
      "Found 0 candidate(s) in the (0,8640) gap.\n",
      "Found 0 candidate(s) in the (8640,46311) gap.\n"
     ]
    },
    {
     "name": "stdout",
     "output_type": "stream",
     "text": [
      "Transit midtime in Kepler time: 170.89153000013903\n",
      "No flares found in LC.\n",
      "Wrote out LC to /home/ekaterina/Documents/001_science/lcs/2022_08_02_Kepler-210_11_altai_2.fits.\n",
      "Get Kepler Sector/Quarter 10, TIC 63283780, Kepler-210, short cadence.\n"
     ]
    },
    {
     "name": "stderr",
     "output_type": "stream",
     "text": [
      "/home/ekaterina/Documents/000_envs/python37/lib/python3.7/site-packages/lightkurve/io/kepler.py:38: ResourceWarning: unclosed file <_io.FileIO name='/home/ekaterina/Documents/001_science/lcs/mastDownload/Kepler/kplr007447200_sc_Q000000033333323332/kplr007447200-2011208035123_slc.fits' mode='rb' closefd=True>\n",
      "  time_format=\"bkjd\",\n",
      "1% (242/44220) of the cadences will be ignored due to the quality mask (quality_bitmask=1130799).\n",
      "1% (242/44220) of the cadences will be ignored due to the quality mask (quality_bitmask=1130799).\n",
      "/home/ekaterina/Documents/000_envs/python37/lib/python3.7/site-packages/lightkurve/io/kepler.py:38: ResourceWarning: unclosed file <_io.FileIO name='/home/ekaterina/Documents/001_science/lcs/mastDownload/Kepler/kplr007447200_sc_Q000000033333323332/kplr007447200-2011240104155_slc.fits' mode='rb' closefd=True>\n",
      "  time_format=\"bkjd\",\n",
      "3% (1158/46170) of the cadences will be ignored due to the quality mask (quality_bitmask=1130799).\n",
      "3% (1158/46170) of the cadences will be ignored due to the quality mask (quality_bitmask=1130799).\n",
      "/home/ekaterina/Documents/000_envs/python37/lib/python3.7/site-packages/lightkurve/io/kepler.py:38: ResourceWarning: unclosed file <_io.FileIO name='/home/ekaterina/Documents/001_science/lcs/mastDownload/Kepler/kplr007447200_sc_Q000000033333323332/kplr007447200-2011271113734_slc.fits' mode='rb' closefd=True>\n",
      "  time_format=\"bkjd\",\n",
      "1% (241/44340) of the cadences will be ignored due to the quality mask (quality_bitmask=1130799).\n",
      "1% (241/44340) of the cadences will be ignored due to the quality mask (quality_bitmask=1130799).\n"
     ]
    },
    {
     "name": "stdout",
     "output_type": "stream",
     "text": [
      "3 LCs found for Kepler, Kepler-210, Quarter 10.\n",
      "date: 2022_08_02\n",
      "LC successfully detrended.\n"
     ]
    },
    {
     "name": "stderr",
     "output_type": "stream",
     "text": [
      "Found 0 candidate(s) in the (0,43978) gap.\n"
     ]
    },
    {
     "name": "stdout",
     "output_type": "stream",
     "text": [
      "Transit midtime in Kepler time: 170.89153000013903\n",
      "No flares found in LC.\n",
      "Wrote out LC to /home/ekaterina/Documents/001_science/lcs/2022_08_02_Kepler-210_10_altai_0.fits.\n",
      "date: 2022_08_02\n",
      "LC successfully detrended.\n"
     ]
    },
    {
     "name": "stderr",
     "output_type": "stream",
     "text": [
      "Found 0 candidate(s) in the (0,45006) gap.\n"
     ]
    },
    {
     "name": "stdout",
     "output_type": "stream",
     "text": [
      "Transit midtime in Kepler time: 170.89153000013903\n",
      "No flares found in LC.\n",
      "Wrote out LC to /home/ekaterina/Documents/001_science/lcs/2022_08_02_Kepler-210_10_altai_1.fits.\n",
      "date: 2022_08_02\n",
      "LC successfully detrended.\n"
     ]
    },
    {
     "name": "stderr",
     "output_type": "stream",
     "text": [
      "Found 1 candidate(s) in the (0,44062) gap.\n"
     ]
    },
    {
     "name": "stdout",
     "output_type": "stream",
     "text": [
      "Transit midtime in Kepler time: 170.89153000013903\n",
      "Flares found:\n",
      "       tstart       tstop    phase  ampl_rec       dur\n",
      "0  973.892498  973.897947  0.32343  0.012963  0.005449\n",
      "Wrote out LC to /home/ekaterina/Documents/001_science/lcs/2022_08_02_Kepler-210_10_altai_2.fits.\n",
      "Get Kepler Sector/Quarter 08, TIC 63283780, Kepler-210, short cadence.\n",
      "No LC found for Kepler, Kepler-210, Quarter 08.\n",
      "Get TESS Sector/Quarter 40, TIC 63283780, Kepler-210, short cadence.\n"
     ]
    },
    {
     "name": "stderr",
     "output_type": "stream",
     "text": [
      "/home/ekaterina/Documents/000_envs/python37/lib/python3.7/site-packages/lightkurve/io/tess.py:34: ResourceWarning: unclosed file <_io.FileIO name='/home/ekaterina/Documents/001_science/lcs/mastDownload/TESS/tess2021175071901-s0040-0000000063283780-0211-s/tess2021175071901-s0040-0000000063283780-0211-s_lc.fits' mode='rb' closefd=True>\n",
      "  lc = read_generic_lightcurve(filename, flux_column=flux_column, time_format=\"btjd\")\n",
      "0% (32/19643) of the cadences will be ignored due to the quality mask (quality_bitmask=175).\n",
      "0% (32/19643) of the cadences will be ignored due to the quality mask (quality_bitmask=175).\n"
     ]
    },
    {
     "name": "stdout",
     "output_type": "stream",
     "text": [
      "date: 2022_08_02\n",
      "LC successfully detrended.\n"
     ]
    },
    {
     "name": "stderr",
     "output_type": "stream",
     "text": [
      "/home/ekaterina/Documents/000_envs/python37/lib/python3.7/site-packages/numpy/lib/nanfunctions.py:1117: RuntimeWarning: Mean of empty slice\n",
      "  return np.nanmean(a, axis, out=out, keepdims=keepdims)\n",
      "Found 0 candidate(s) in the (0,9882) gap.\n",
      "Found 0 candidate(s) in the (9882,19611) gap.\n"
     ]
    },
    {
     "name": "stdout",
     "output_type": "stream",
     "text": [
      "Transit midtime in TESS time: -1996.108469999861\n",
      "No flares found in LC.\n",
      "Wrote out LC to /home/ekaterina/Documents/001_science/lcs/2022_08_02_63283780_40_altai_0.fits.\n",
      "Get TESS Sector/Quarter 41, TIC 63283780, Kepler-210, short cadence.\n"
     ]
    },
    {
     "name": "stderr",
     "output_type": "stream",
     "text": [
      "/home/ekaterina/Documents/000_envs/python37/lib/python3.7/site-packages/lightkurve/io/tess.py:34: ResourceWarning: unclosed file <_io.FileIO name='/home/ekaterina/Documents/001_science/lcs/mastDownload/TESS/tess2021204101404-s0041-0000000063283780-0212-s/tess2021204101404-s0041-0000000063283780-0212-s_lc.fits' mode='rb' closefd=True>\n",
      "  lc = read_generic_lightcurve(filename, flux_column=flux_column, time_format=\"btjd\")\n",
      "0% (26/18348) of the cadences will be ignored due to the quality mask (quality_bitmask=175).\n",
      "0% (26/18348) of the cadences will be ignored due to the quality mask (quality_bitmask=175).\n"
     ]
    },
    {
     "name": "stdout",
     "output_type": "stream",
     "text": [
      "date: 2022_08_02\n",
      "LC successfully detrended.\n"
     ]
    },
    {
     "name": "stderr",
     "output_type": "stream",
     "text": [
      "/home/ekaterina/Documents/000_envs/python37/lib/python3.7/site-packages/numpy/lib/nanfunctions.py:1117: RuntimeWarning: Mean of empty slice\n",
      "  return np.nanmean(a, axis, out=out, keepdims=keepdims)\n",
      "Found 0 candidate(s) in the (0,9071) gap.\n",
      "Found 0 candidate(s) in the (9071,18322) gap.\n",
      "/home/ekaterina/Documents/000_envs/python37/lib/python3.7/site-packages/ipykernel_launcher.py:88: LightkurveDeprecationWarning: The search_lightcurvefile function is deprecated and may be removed in a future version.\n",
      "        Use search_lightcurve() instead.\n"
     ]
    },
    {
     "name": "stdout",
     "output_type": "stream",
     "text": [
      "Transit midtime in TESS time: -1996.108469999861\n",
      "No flares found in LC.\n",
      "Wrote out LC to /home/ekaterina/Documents/001_science/lcs/2022_08_02_63283780_41_altai_0.fits.\n",
      "\n",
      "---------------------\n",
      "19 flares found!\n",
      "-------------------\n",
      "\n",
      "(0, 0)\n",
      "Get TESS Sector/Quarter 40, TIC 63284044, Kepler-1387, short cadence.\n"
     ]
    },
    {
     "name": "stderr",
     "output_type": "stream",
     "text": [
      "/home/ekaterina/Documents/000_envs/python37/lib/python3.7/site-packages/lightkurve/io/tess.py:34: ResourceWarning: unclosed file <_io.FileIO name='/home/ekaterina/Documents/001_science/lcs/mastDownload/TESS/tess2021175071901-s0040-0000000063284044-0211-s/tess2021175071901-s0040-0000000063284044-0211-s_lc.fits' mode='rb' closefd=True>\n",
      "  lc = read_generic_lightcurve(filename, flux_column=flux_column, time_format=\"btjd\")\n",
      "0% (32/19643) of the cadences will be ignored due to the quality mask (quality_bitmask=175).\n",
      "0% (32/19643) of the cadences will be ignored due to the quality mask (quality_bitmask=175).\n"
     ]
    },
    {
     "name": "stdout",
     "output_type": "stream",
     "text": [
      "date: 2022_08_02\n",
      "LC successfully detrended.\n"
     ]
    },
    {
     "name": "stderr",
     "output_type": "stream",
     "text": [
      "/home/ekaterina/Documents/000_envs/python37/lib/python3.7/site-packages/numpy/lib/nanfunctions.py:1117: RuntimeWarning: Mean of empty slice\n",
      "  return np.nanmean(a, axis, out=out, keepdims=keepdims)\n",
      "Found 0 candidate(s) in the (0,9882) gap.\n",
      "Found 0 candidate(s) in the (9882,19611) gap.\n"
     ]
    },
    {
     "name": "stdout",
     "output_type": "stream",
     "text": [
      "Transit midtime in TESS time: -2033.6422700001858\n",
      "No flares found in LC.\n",
      "Wrote out LC to /home/ekaterina/Documents/001_science/lcs/2022_08_02_63284044_40_altai_0.fits.\n",
      "Get TESS Sector/Quarter 41, TIC 63284044, Kepler-1387, short cadence.\n"
     ]
    },
    {
     "name": "stderr",
     "output_type": "stream",
     "text": [
      "/home/ekaterina/Documents/000_envs/python37/lib/python3.7/site-packages/lightkurve/io/tess.py:34: ResourceWarning: unclosed file <_io.FileIO name='/home/ekaterina/Documents/001_science/lcs/mastDownload/TESS/tess2021204101404-s0041-0000000063284044-0212-s/tess2021204101404-s0041-0000000063284044-0212-s_lc.fits' mode='rb' closefd=True>\n",
      "  lc = read_generic_lightcurve(filename, flux_column=flux_column, time_format=\"btjd\")\n",
      "0% (26/18348) of the cadences will be ignored due to the quality mask (quality_bitmask=175).\n",
      "0% (26/18348) of the cadences will be ignored due to the quality mask (quality_bitmask=175).\n"
     ]
    },
    {
     "name": "stdout",
     "output_type": "stream",
     "text": [
      "date: 2022_08_02\n",
      "LC successfully detrended.\n"
     ]
    },
    {
     "name": "stderr",
     "output_type": "stream",
     "text": [
      "/home/ekaterina/Documents/000_envs/python37/lib/python3.7/site-packages/numpy/lib/nanfunctions.py:1117: RuntimeWarning: Mean of empty slice\n",
      "  return np.nanmean(a, axis, out=out, keepdims=keepdims)\n",
      "Found 0 candidate(s) in the (0,9071) gap.\n",
      "Found 0 candidate(s) in the (9071,18322) gap.\n",
      "/home/ekaterina/Documents/000_envs/python37/lib/python3.7/site-packages/ipykernel_launcher.py:88: LightkurveDeprecationWarning: The search_lightcurvefile function is deprecated and may be removed in a future version.\n",
      "        Use search_lightcurve() instead.\n"
     ]
    },
    {
     "name": "stdout",
     "output_type": "stream",
     "text": [
      "Transit midtime in TESS time: -2033.6422700001858\n",
      "No flares found in LC.\n",
      "Wrote out LC to /home/ekaterina/Documents/001_science/lcs/2022_08_02_63284044_41_altai_0.fits.\n",
      "\n",
      "---------------------\n",
      "0 flares found!\n",
      "-------------------\n",
      "\n",
      "(0, 0)\n"
     ]
    },
    {
     "name": "stderr",
     "output_type": "stream",
     "text": [
      "/home/ekaterina/Documents/000_envs/python37/lib/python3.7/site-packages/ipykernel_launcher.py:88: LightkurveDeprecationWarning: The search_lightcurvefile function is deprecated and may be removed in a future version.\n",
      "        Use search_lightcurve() instead.\n",
      "/home/ekaterina/Documents/000_envs/python37/lib/python3.7/site-packages/ipykernel_launcher.py:88: LightkurveDeprecationWarning: The search_lightcurvefile function is deprecated and may be removed in a future version.\n",
      "        Use search_lightcurve() instead.\n",
      "Could not resolve Kepler-1797 to a sky position.\n",
      "Could not resolve Kepler-1797 to a sky position.\n",
      "/home/ekaterina/Documents/000_envs/python37/lib/python3.7/site-packages/ipykernel_launcher.py:93: LightkurveDeprecationWarning: The search_lightcurvefile function is deprecated and may be removed in a future version.\n",
      "        Use search_lightcurve() instead.\n",
      "/home/ekaterina/Documents/000_envs/python37/lib/python3.7/site-packages/ipykernel_launcher.py:88: LightkurveDeprecationWarning: The search_lightcurvefile function is deprecated and may be removed in a future version.\n",
      "        Use search_lightcurve() instead.\n",
      "/home/ekaterina/Documents/000_envs/python37/lib/python3.7/site-packages/ipykernel_launcher.py:88: LightkurveDeprecationWarning: The search_lightcurvefile function is deprecated and may be removed in a future version.\n",
      "        Use search_lightcurve() instead.\n"
     ]
    },
    {
     "name": "stdout",
     "output_type": "stream",
     "text": [
      "Get Kepler Sector/Quarter 03, TIC 63289259, Kepler-478, short cadence.\n",
      "No LC found for Kepler, Kepler-478, Quarter 03.\n",
      "Get Kepler Sector/Quarter 04, TIC 63289259, Kepler-478, short cadence.\n",
      "No LC found for Kepler, Kepler-478, Quarter 04.\n",
      "Get Kepler Sector/Quarter 05, TIC 63289259, Kepler-478, short cadence.\n",
      "No LC found for Kepler, Kepler-478, Quarter 05.\n",
      "Get Kepler Sector/Quarter 06, TIC 63289259, Kepler-478, short cadence.\n",
      "No LC found for Kepler, Kepler-478, Quarter 06.\n",
      "Get Kepler Sector/Quarter 07, TIC 63289259, Kepler-478, short cadence.\n",
      "No LC found for Kepler, Kepler-478, Quarter 07.\n",
      "\n",
      "---------------------\n",
      "0 flares found!\n",
      "-------------------\n",
      "\n",
      "(0, 0)\n"
     ]
    },
    {
     "name": "stderr",
     "output_type": "stream",
     "text": [
      "/home/ekaterina/Documents/000_envs/python37/lib/python3.7/site-packages/ipykernel_launcher.py:88: LightkurveDeprecationWarning: The search_lightcurvefile function is deprecated and may be removed in a future version.\n",
      "        Use search_lightcurve() instead.\n",
      "/home/ekaterina/Documents/000_envs/python37/lib/python3.7/site-packages/ipykernel_launcher.py:88: LightkurveDeprecationWarning: The search_lightcurvefile function is deprecated and may be removed in a future version.\n",
      "        Use search_lightcurve() instead.\n",
      "/home/ekaterina/Documents/000_envs/python37/lib/python3.7/site-packages/ipykernel_launcher.py:88: LightkurveDeprecationWarning: The search_lightcurvefile function is deprecated and may be removed in a future version.\n",
      "        Use search_lightcurve() instead.\n"
     ]
    },
    {
     "name": "stdout",
     "output_type": "stream",
     "text": [
      "Get Kepler Sector/Quarter 15, TIC 63293562, Kepler-342, short cadence.\n"
     ]
    },
    {
     "name": "stderr",
     "output_type": "stream",
     "text": [
      "/home/ekaterina/Documents/000_envs/python37/lib/python3.7/site-packages/lightkurve/io/kepler.py:38: ResourceWarning: unclosed file <_io.FileIO name='/home/ekaterina/Documents/001_science/lcs/mastDownload/Kepler/kplr009892816_sc_Q000000000000000330/kplr009892816-2012310112549_slc.fits' mode='rb' closefd=True>\n",
      "  time_format=\"bkjd\",\n",
      "1% (334/45270) of the cadences will be ignored due to the quality mask (quality_bitmask=1130799).\n",
      "1% (334/45270) of the cadences will be ignored due to the quality mask (quality_bitmask=1130799).\n",
      "/home/ekaterina/Documents/000_envs/python37/lib/python3.7/site-packages/lightkurve/io/kepler.py:38: ResourceWarning: unclosed file <_io.FileIO name='/home/ekaterina/Documents/001_science/lcs/mastDownload/Kepler/kplr009892816_sc_Q000000000000000330/kplr009892816-2012341132017_slc.fits' mode='rb' closefd=True>\n",
      "  time_format=\"bkjd\",\n",
      "1% (366/38310) of the cadences will be ignored due to the quality mask (quality_bitmask=1130799).\n",
      "1% (366/38310) of the cadences will be ignored due to the quality mask (quality_bitmask=1130799).\n",
      "/home/ekaterina/Documents/000_envs/python37/lib/python3.7/site-packages/lightkurve/io/kepler.py:38: ResourceWarning: unclosed file <_io.FileIO name='/home/ekaterina/Documents/001_science/lcs/mastDownload/Kepler/kplr009892816_sc_Q000000000000000330/kplr009892816-2013011073258_slc.fits' mode='rb' closefd=True>\n",
      "  time_format=\"bkjd\",\n",
      "0% (198/51270) of the cadences will be ignored due to the quality mask (quality_bitmask=1130799).\n",
      "0% (198/51270) of the cadences will be ignored due to the quality mask (quality_bitmask=1130799).\n"
     ]
    },
    {
     "name": "stdout",
     "output_type": "stream",
     "text": [
      "3 LCs found for Kepler, Kepler-342, Quarter 15.\n",
      "date: 2022_08_02\n",
      "LC successfully detrended.\n"
     ]
    },
    {
     "name": "stderr",
     "output_type": "stream",
     "text": [
      "Found 0 candidate(s) in the (0,44875) gap.\n"
     ]
    },
    {
     "name": "stdout",
     "output_type": "stream",
     "text": [
      "Transit midtime in Kepler time: 131.75113000022247\n",
      "No flares found in LC.\n",
      "Wrote out LC to /home/ekaterina/Documents/001_science/lcs/2022_08_02_Kepler-342_15_altai_0.fits.\n",
      "date: 2022_08_02\n",
      "LC successfully detrended.\n"
     ]
    },
    {
     "name": "stderr",
     "output_type": "stream",
     "text": [
      "/home/ekaterina/Documents/000_envs/python37/lib/python3.7/site-packages/numpy/lib/nanfunctions.py:1117: RuntimeWarning: Mean of empty slice\n",
      "  return np.nanmean(a, axis, out=out, keepdims=keepdims)\n",
      "Found 0 candidate(s) in the (0,10870) gap.\n",
      "Found 0 candidate(s) in the (10870,35656) gap.\n"
     ]
    },
    {
     "name": "stdout",
     "output_type": "stream",
     "text": [
      "Transit midtime in Kepler time: 131.75113000022247\n",
      "No flares found in LC.\n",
      "Wrote out LC to /home/ekaterina/Documents/001_science/lcs/2022_08_02_Kepler-342_15_altai_1.fits.\n",
      "date: 2022_08_02\n",
      "LC successfully detrended.\n"
     ]
    },
    {
     "name": "stderr",
     "output_type": "stream",
     "text": [
      "Found 0 candidate(s) in the (0,51070) gap.\n"
     ]
    },
    {
     "name": "stdout",
     "output_type": "stream",
     "text": [
      "Transit midtime in Kepler time: 131.75113000022247\n",
      "No flares found in LC.\n",
      "Wrote out LC to /home/ekaterina/Documents/001_science/lcs/2022_08_02_Kepler-342_15_altai_2.fits.\n",
      "Get Kepler Sector/Quarter 16, TIC 63293562, Kepler-342, short cadence.\n"
     ]
    },
    {
     "name": "stderr",
     "output_type": "stream",
     "text": [
      "/home/ekaterina/Documents/000_envs/python37/lib/python3.7/site-packages/lightkurve/io/kepler.py:38: ResourceWarning: unclosed file <_io.FileIO name='/home/ekaterina/Documents/001_science/lcs/mastDownload/Kepler/kplr009892816_sc_Q000000000000000330/kplr009892816-2013017113907_slc.fits' mode='rb' closefd=True>\n",
      "  time_format=\"bkjd\",\n",
      "1% (58/7680) of the cadences will be ignored due to the quality mask (quality_bitmask=1130799).\n",
      "1% (58/7680) of the cadences will be ignored due to the quality mask (quality_bitmask=1130799).\n",
      "/home/ekaterina/Documents/000_envs/python37/lib/python3.7/site-packages/lightkurve/io/kepler.py:38: ResourceWarning: unclosed file <_io.FileIO name='/home/ekaterina/Documents/001_science/lcs/mastDownload/Kepler/kplr009892816_sc_Q000000000000000330/kplr009892816-2013065031647_slc.fits' mode='rb' closefd=True>\n",
      "  time_format=\"bkjd\",\n",
      "1% (455/53220) of the cadences will be ignored due to the quality mask (quality_bitmask=1130799).\n",
      "1% (455/53220) of the cadences will be ignored due to the quality mask (quality_bitmask=1130799).\n",
      "/home/ekaterina/Documents/000_envs/python37/lib/python3.7/site-packages/lightkurve/io/kepler.py:38: ResourceWarning: unclosed file <_io.FileIO name='/home/ekaterina/Documents/001_science/lcs/mastDownload/Kepler/kplr009892816_sc_Q000000000000000330/kplr009892816-2013098041711_slc.fits' mode='rb' closefd=True>\n",
      "  time_format=\"bkjd\",\n",
      "1% (274/46770) of the cadences will be ignored due to the quality mask (quality_bitmask=1130799).\n",
      "1% (274/46770) of the cadences will be ignored due to the quality mask (quality_bitmask=1130799).\n"
     ]
    },
    {
     "name": "stdout",
     "output_type": "stream",
     "text": [
      "3 LCs found for Kepler, Kepler-342, Quarter 16.\n",
      "date: 2022_08_02\n",
      "LC successfully detrended.\n"
     ]
    },
    {
     "name": "stderr",
     "output_type": "stream",
     "text": [
      "Found 0 candidate(s) in the (0,7622) gap.\n"
     ]
    },
    {
     "name": "stdout",
     "output_type": "stream",
     "text": [
      "Transit midtime in Kepler time: 131.75113000022247\n",
      "No flares found in LC.\n",
      "Wrote out LC to /home/ekaterina/Documents/001_science/lcs/2022_08_02_Kepler-342_16_altai_0.fits.\n",
      "date: 2022_08_02\n",
      "LC successfully detrended.\n"
     ]
    },
    {
     "name": "stderr",
     "output_type": "stream",
     "text": [
      "Found 0 candidate(s) in the (0,52752) gap.\n"
     ]
    },
    {
     "name": "stdout",
     "output_type": "stream",
     "text": [
      "Transit midtime in Kepler time: 131.75113000022247\n",
      "No flares found in LC.\n",
      "Wrote out LC to /home/ekaterina/Documents/001_science/lcs/2022_08_02_Kepler-342_16_altai_1.fits.\n",
      "date: 2022_08_02\n",
      "LC successfully detrended.\n"
     ]
    },
    {
     "name": "stderr",
     "output_type": "stream",
     "text": [
      "Found 0 candidate(s) in the (0,46462) gap.\n",
      "/home/ekaterina/Documents/000_envs/python37/lib/python3.7/site-packages/ipykernel_launcher.py:88: LightkurveDeprecationWarning: The search_lightcurvefile function is deprecated and may be removed in a future version.\n",
      "        Use search_lightcurve() instead.\n"
     ]
    },
    {
     "name": "stdout",
     "output_type": "stream",
     "text": [
      "Transit midtime in Kepler time: 131.75113000022247\n",
      "No flares found in LC.\n",
      "Wrote out LC to /home/ekaterina/Documents/001_science/lcs/2022_08_02_Kepler-342_16_altai_2.fits.\n",
      "\n",
      "---------------------\n",
      "0 flares found!\n",
      "-------------------\n",
      "\n",
      "(0, 0)\n"
     ]
    },
    {
     "name": "stderr",
     "output_type": "stream",
     "text": [
      "/home/ekaterina/Documents/000_envs/python37/lib/python3.7/site-packages/ipykernel_launcher.py:88: LightkurveDeprecationWarning: The search_lightcurvefile function is deprecated and may be removed in a future version.\n",
      "        Use search_lightcurve() instead.\n",
      "Could not resolve Kepler-1905 to a sky position.\n",
      "Could not resolve Kepler-1905 to a sky position.\n",
      "/home/ekaterina/Documents/000_envs/python37/lib/python3.7/site-packages/ipykernel_launcher.py:93: LightkurveDeprecationWarning: The search_lightcurvefile function is deprecated and may be removed in a future version.\n",
      "        Use search_lightcurve() instead.\n",
      "/home/ekaterina/Documents/000_envs/python37/lib/python3.7/site-packages/ipykernel_launcher.py:88: LightkurveDeprecationWarning: The search_lightcurvefile function is deprecated and may be removed in a future version.\n",
      "        Use search_lightcurve() instead.\n"
     ]
    },
    {
     "name": "stdout",
     "output_type": "stream",
     "text": [
      "Get Kepler Sector/Quarter 12, TIC 63362772, Kepler-256, short cadence.\n"
     ]
    },
    {
     "name": "stderr",
     "output_type": "stream",
     "text": [
      "/home/ekaterina/Documents/000_envs/python37/lib/python3.7/site-packages/lightkurve/io/kepler.py:38: ResourceWarning: unclosed file <_io.FileIO name='/home/ekaterina/Documents/001_science/lcs/mastDownload/Kepler/kplr009466668_sc_Q000000000000310000/kplr009466668-2012032013838_slc.fits' mode='rb' closefd=True>\n",
      "  time_format=\"bkjd\",\n",
      "13% (4872/38910) of the cadences will be ignored due to the quality mask (quality_bitmask=1130799).\n",
      "13% (4872/38910) of the cadences will be ignored due to the quality mask (quality_bitmask=1130799).\n",
      "/home/ekaterina/Documents/000_envs/python37/lib/python3.7/site-packages/lightkurve/io/kepler.py:38: ResourceWarning: unclosed file <_io.FileIO name='/home/ekaterina/Documents/001_science/lcs/mastDownload/Kepler/kplr009466668_sc_Q000000000000310000/kplr009466668-2012060035710_slc.fits' mode='rb' closefd=True>\n",
      "  time_format=\"bkjd\",\n",
      "1% (216/40200) of the cadences will be ignored due to the quality mask (quality_bitmask=1130799).\n",
      "1% (216/40200) of the cadences will be ignored due to the quality mask (quality_bitmask=1130799).\n",
      "/home/ekaterina/Documents/000_envs/python37/lib/python3.7/site-packages/lightkurve/io/kepler.py:38: ResourceWarning: unclosed file <_io.FileIO name='/home/ekaterina/Documents/001_science/lcs/mastDownload/Kepler/kplr009466668_sc_Q000000000000310000/kplr009466668-2012088054726_slc.fits' mode='rb' closefd=True>\n",
      "  time_format=\"bkjd\",\n",
      "17% (6893/39840) of the cadences will be ignored due to the quality mask (quality_bitmask=1130799).\n",
      "17% (6893/39840) of the cadences will be ignored due to the quality mask (quality_bitmask=1130799).\n"
     ]
    },
    {
     "name": "stdout",
     "output_type": "stream",
     "text": [
      "3 LCs found for Kepler, Kepler-256, Quarter 12.\n",
      "date: 2022_08_02\n",
      "LC successfully detrended.\n"
     ]
    },
    {
     "name": "stderr",
     "output_type": "stream",
     "text": [
      "/home/ekaterina/Documents/000_envs/python37/lib/python3.7/site-packages/numpy/lib/nanfunctions.py:1117: RuntimeWarning: Mean of empty slice\n",
      "  return np.nanmean(a, axis, out=out, keepdims=keepdims)\n",
      "Found 0 candidate(s) in the (0,25142) gap.\n",
      "Found 0 candidate(s) in the (25142,28728) gap.\n",
      "Found 0 candidate(s) in the (28728,34037) gap.\n"
     ]
    },
    {
     "name": "stdout",
     "output_type": "stream",
     "text": [
      "Transit midtime in Kepler time: 132.06776000000536\n",
      "No flares found in LC.\n",
      "Wrote out LC to /home/ekaterina/Documents/001_science/lcs/2022_08_02_Kepler-256_12_altai_0.fits.\n",
      "date: 2022_08_02\n",
      "LC successfully detrended.\n"
     ]
    },
    {
     "name": "stderr",
     "output_type": "stream",
     "text": [
      "Found 0 candidate(s) in the (0,39984) gap.\n"
     ]
    },
    {
     "name": "stdout",
     "output_type": "stream",
     "text": [
      "Transit midtime in Kepler time: 132.06776000000536\n",
      "No flares found in LC.\n",
      "Wrote out LC to /home/ekaterina/Documents/001_science/lcs/2022_08_02_Kepler-256_12_altai_1.fits.\n",
      "date: 2022_08_02\n",
      "LC successfully detrended.\n"
     ]
    },
    {
     "name": "stderr",
     "output_type": "stream",
     "text": [
      "Found 0 candidate(s) in the (0,8251) gap.\n",
      "Found 0 candidate(s) in the (8251,32946) gap.\n"
     ]
    },
    {
     "name": "stdout",
     "output_type": "stream",
     "text": [
      "Transit midtime in Kepler time: 132.06776000000536\n",
      "No flares found in LC.\n",
      "Wrote out LC to /home/ekaterina/Documents/001_science/lcs/2022_08_02_Kepler-256_12_altai_2.fits.\n",
      "Get Kepler Sector/Quarter 13, TIC 63362772, Kepler-256, short cadence.\n"
     ]
    },
    {
     "name": "stderr",
     "output_type": "stream",
     "text": [
      "/home/ekaterina/Documents/000_envs/python37/lib/python3.7/site-packages/lightkurve/io/kepler.py:38: ResourceWarning: unclosed file <_io.FileIO name='/home/ekaterina/Documents/001_science/lcs/mastDownload/Kepler/kplr009466668_sc_Q000000000000310000/kplr009466668-2012179063303_slc.fits' mode='rb' closefd=True>\n",
      "  time_format=\"bkjd\",\n",
      "2% (867/39990) of the cadences will be ignored due to the quality mask (quality_bitmask=1130799).\n",
      "2% (867/39990) of the cadences will be ignored due to the quality mask (quality_bitmask=1130799).\n"
     ]
    },
    {
     "name": "stdout",
     "output_type": "stream",
     "text": [
      "1 LC found for Kepler, Kepler-256, Quarter 13.\n",
      "date: 2022_08_02\n",
      "LC successfully detrended.\n"
     ]
    },
    {
     "name": "stderr",
     "output_type": "stream",
     "text": [
      "/home/ekaterina/Documents/000_envs/python37/lib/python3.7/site-packages/numpy/lib/nanfunctions.py:1117: RuntimeWarning: Mean of empty slice\n",
      "  return np.nanmean(a, axis, out=out, keepdims=keepdims)\n",
      "Found 0 candidate(s) in the (0,33464) gap.\n",
      "Found 0 candidate(s) in the (33464,39121) gap.\n",
      "/home/ekaterina/Documents/000_envs/python37/lib/python3.7/site-packages/ipykernel_launcher.py:88: LightkurveDeprecationWarning: The search_lightcurvefile function is deprecated and may be removed in a future version.\n",
      "        Use search_lightcurve() instead.\n"
     ]
    },
    {
     "name": "stdout",
     "output_type": "stream",
     "text": [
      "Transit midtime in Kepler time: 132.06776000000536\n",
      "No flares found in LC.\n",
      "Wrote out LC to /home/ekaterina/Documents/001_science/lcs/2022_08_02_Kepler-256_13_altai_0.fits.\n",
      "\n",
      "---------------------\n",
      "0 flares found!\n",
      "-------------------\n",
      "\n",
      "(0, 0)\n",
      "Get Kepler Sector/Quarter 17, TIC 63365721, Kepler-993, short cadence.\n"
     ]
    },
    {
     "name": "stderr",
     "output_type": "stream",
     "text": [
      "/home/ekaterina/Documents/000_envs/python37/lib/python3.7/site-packages/lightkurve/io/kepler.py:38: ResourceWarning: unclosed file <_io.FileIO name='/home/ekaterina/Documents/001_science/lcs/mastDownload/Kepler/kplr008367644_sc_Q000000000000000002/kplr008367644-2013121191144_slc.fits' mode='rb' closefd=True>\n",
      "  time_format=\"bkjd\",\n",
      "1% (248/32850) of the cadences will be ignored due to the quality mask (quality_bitmask=1130799).\n",
      "1% (248/32850) of the cadences will be ignored due to the quality mask (quality_bitmask=1130799).\n",
      "/home/ekaterina/Documents/000_envs/python37/lib/python3.7/site-packages/lightkurve/io/kepler.py:38: ResourceWarning: unclosed file <_io.FileIO name='/home/ekaterina/Documents/001_science/lcs/mastDownload/Kepler/kplr008367644_sc_Q000000000000000002/kplr008367644-2013131215648_slc.fits' mode='rb' closefd=True>\n",
      "  time_format=\"bkjd\",\n",
      "0% (28/6180) of the cadences will be ignored due to the quality mask (quality_bitmask=1130799).\n",
      "0% (28/6180) of the cadences will be ignored due to the quality mask (quality_bitmask=1130799).\n"
     ]
    },
    {
     "name": "stdout",
     "output_type": "stream",
     "text": [
      "2 LCs found for Kepler, Kepler-993, Quarter 17.\n",
      "date: 2022_08_02\n"
     ]
    },
    {
     "name": "stderr",
     "output_type": "stream",
     "text": [
      "/home/ekaterina/Documents/001_science/Flaring_SPI/notebooks/funcs/detrend.py:364: RuntimeWarning: overflow encountered in exp\n",
      "  return a * np.exp(b * (c - x)) + d * np.exp(e * (f - x)) + g\n",
      "/home/ekaterina/Documents/001_science/Flaring_SPI/notebooks/funcs/detrend.py:364: RuntimeWarning: overflow encountered in multiply\n",
      "  return a * np.exp(b * (c - x)) + d * np.exp(e * (f - x)) + g\n",
      "/home/ekaterina/Documents/000_envs/python37/lib/python3.7/site-packages/numpy/lib/nanfunctions.py:1117: RuntimeWarning: Mean of empty slice\n",
      "  return np.nanmean(a, axis, out=out, keepdims=keepdims)\n"
     ]
    },
    {
     "name": "stdout",
     "output_type": "stream",
     "text": [
      "LC successfully detrended.\n"
     ]
    },
    {
     "name": "stderr",
     "output_type": "stream",
     "text": [
      "Found 0 candidate(s) in the (0,2385) gap.\n",
      "Found 0 candidate(s) in the (2385,32600) gap.\n"
     ]
    },
    {
     "name": "stdout",
     "output_type": "stream",
     "text": [
      "Transit midtime in Kepler time: 135.23132000025362\n",
      "No flares found in LC.\n",
      "Wrote out LC to /home/ekaterina/Documents/001_science/lcs/2022_08_02_Kepler-993_17_altai_0.fits.\n",
      "date: 2022_08_02\n",
      "LC successfully detrended.\n"
     ]
    },
    {
     "name": "stderr",
     "output_type": "stream",
     "text": [
      "Found 0 candidate(s) in the (0,6151) gap.\n",
      "/home/ekaterina/Documents/000_envs/python37/lib/python3.7/site-packages/ipykernel_launcher.py:88: LightkurveDeprecationWarning: The search_lightcurvefile function is deprecated and may be removed in a future version.\n",
      "        Use search_lightcurve() instead.\n"
     ]
    },
    {
     "name": "stdout",
     "output_type": "stream",
     "text": [
      "Transit midtime in Kepler time: 135.23132000025362\n",
      "No flares found in LC.\n",
      "Wrote out LC to /home/ekaterina/Documents/001_science/lcs/2022_08_02_Kepler-993_17_altai_1.fits.\n",
      "\n",
      "---------------------\n",
      "0 flares found!\n",
      "-------------------\n",
      "\n",
      "(0, 0)\n",
      "Get Kepler Sector/Quarter 12, TIC 63366281, Kepler-327, short cadence.\n"
     ]
    },
    {
     "name": "stderr",
     "output_type": "stream",
     "text": [
      "/home/ekaterina/Documents/000_envs/python37/lib/python3.7/site-packages/lightkurve/io/kepler.py:38: ResourceWarning: unclosed file <_io.FileIO name='/home/ekaterina/Documents/001_science/lcs/mastDownload/Kepler/kplr008167996_sc_Q000000000000333332/kplr008167996-2012032013838_slc.fits' mode='rb' closefd=True>\n",
      "  time_format=\"bkjd\",\n",
      "13% (4872/38910) of the cadences will be ignored due to the quality mask (quality_bitmask=1130799).\n",
      "13% (4872/38910) of the cadences will be ignored due to the quality mask (quality_bitmask=1130799).\n",
      "/home/ekaterina/Documents/000_envs/python37/lib/python3.7/site-packages/lightkurve/io/kepler.py:38: ResourceWarning: unclosed file <_io.FileIO name='/home/ekaterina/Documents/001_science/lcs/mastDownload/Kepler/kplr008167996_sc_Q000000000000333332/kplr008167996-2012060035710_slc.fits' mode='rb' closefd=True>\n",
      "  time_format=\"bkjd\",\n",
      "1% (216/40200) of the cadences will be ignored due to the quality mask (quality_bitmask=1130799).\n",
      "1% (216/40200) of the cadences will be ignored due to the quality mask (quality_bitmask=1130799).\n",
      "/home/ekaterina/Documents/000_envs/python37/lib/python3.7/site-packages/lightkurve/io/kepler.py:38: ResourceWarning: unclosed file <_io.FileIO name='/home/ekaterina/Documents/001_science/lcs/mastDownload/Kepler/kplr008167996_sc_Q000000000000333332/kplr008167996-2012088054726_slc.fits' mode='rb' closefd=True>\n",
      "  time_format=\"bkjd\",\n",
      "17% (6893/39840) of the cadences will be ignored due to the quality mask (quality_bitmask=1130799).\n",
      "17% (6893/39840) of the cadences will be ignored due to the quality mask (quality_bitmask=1130799).\n"
     ]
    },
    {
     "name": "stdout",
     "output_type": "stream",
     "text": [
      "3 LCs found for Kepler, Kepler-327, Quarter 12.\n",
      "date: 2022_08_02\n",
      "LC successfully detrended.\n"
     ]
    },
    {
     "name": "stderr",
     "output_type": "stream",
     "text": [
      "/home/ekaterina/Documents/000_envs/python37/lib/python3.7/site-packages/numpy/lib/nanfunctions.py:1117: RuntimeWarning: Mean of empty slice\n",
      "  return np.nanmean(a, axis, out=out, keepdims=keepdims)\n",
      "Found 0 candidate(s) in the (0,25142) gap.\n",
      "Found 0 candidate(s) in the (25142,28728) gap.\n",
      "Found 0 candidate(s) in the (28728,34037) gap.\n"
     ]
    },
    {
     "name": "stdout",
     "output_type": "stream",
     "text": [
      "Transit midtime in Kepler time: 132.60487999999896\n",
      "No flares found in LC.\n",
      "Wrote out LC to /home/ekaterina/Documents/001_science/lcs/2022_08_02_Kepler-327_12_altai_0.fits.\n",
      "date: 2022_08_02\n",
      "LC successfully detrended.\n"
     ]
    },
    {
     "name": "stderr",
     "output_type": "stream",
     "text": [
      "Found 0 candidate(s) in the (0,39984) gap.\n"
     ]
    },
    {
     "name": "stdout",
     "output_type": "stream",
     "text": [
      "Transit midtime in Kepler time: 132.60487999999896\n",
      "No flares found in LC.\n",
      "Wrote out LC to /home/ekaterina/Documents/001_science/lcs/2022_08_02_Kepler-327_12_altai_1.fits.\n",
      "date: 2022_08_02\n",
      "LC successfully detrended.\n"
     ]
    },
    {
     "name": "stderr",
     "output_type": "stream",
     "text": [
      "Found 0 candidate(s) in the (0,8251) gap.\n",
      "Found 0 candidate(s) in the (8251,32946) gap.\n"
     ]
    },
    {
     "name": "stdout",
     "output_type": "stream",
     "text": [
      "Transit midtime in Kepler time: 132.60487999999896\n",
      "No flares found in LC.\n",
      "Wrote out LC to /home/ekaterina/Documents/001_science/lcs/2022_08_02_Kepler-327_12_altai_2.fits.\n",
      "Get Kepler Sector/Quarter 16, TIC 63366281, Kepler-327, short cadence.\n"
     ]
    },
    {
     "name": "stderr",
     "output_type": "stream",
     "text": [
      "/home/ekaterina/Documents/000_envs/python37/lib/python3.7/site-packages/lightkurve/io/kepler.py:38: ResourceWarning: unclosed file <_io.FileIO name='/home/ekaterina/Documents/001_science/lcs/mastDownload/Kepler/kplr008167996_sc_Q000000000000333332/kplr008167996-2013017113907_slc.fits' mode='rb' closefd=True>\n",
      "  time_format=\"bkjd\",\n",
      "1% (58/7680) of the cadences will be ignored due to the quality mask (quality_bitmask=1130799).\n",
      "1% (58/7680) of the cadences will be ignored due to the quality mask (quality_bitmask=1130799).\n",
      "/home/ekaterina/Documents/000_envs/python37/lib/python3.7/site-packages/lightkurve/io/kepler.py:38: ResourceWarning: unclosed file <_io.FileIO name='/home/ekaterina/Documents/001_science/lcs/mastDownload/Kepler/kplr008167996_sc_Q000000000000333332/kplr008167996-2013065031647_slc.fits' mode='rb' closefd=True>\n",
      "  time_format=\"bkjd\",\n",
      "1% (455/53220) of the cadences will be ignored due to the quality mask (quality_bitmask=1130799).\n",
      "1% (455/53220) of the cadences will be ignored due to the quality mask (quality_bitmask=1130799).\n",
      "/home/ekaterina/Documents/000_envs/python37/lib/python3.7/site-packages/lightkurve/io/kepler.py:38: ResourceWarning: unclosed file <_io.FileIO name='/home/ekaterina/Documents/001_science/lcs/mastDownload/Kepler/kplr008167996_sc_Q000000000000333332/kplr008167996-2013098041711_slc.fits' mode='rb' closefd=True>\n",
      "  time_format=\"bkjd\",\n",
      "1% (274/46770) of the cadences will be ignored due to the quality mask (quality_bitmask=1130799).\n",
      "1% (274/46770) of the cadences will be ignored due to the quality mask (quality_bitmask=1130799).\n"
     ]
    },
    {
     "name": "stdout",
     "output_type": "stream",
     "text": [
      "3 LCs found for Kepler, Kepler-327, Quarter 16.\n",
      "date: 2022_08_02\n",
      "LC successfully detrended.\n"
     ]
    },
    {
     "name": "stderr",
     "output_type": "stream",
     "text": [
      "Found 0 candidate(s) in the (0,7622) gap.\n"
     ]
    },
    {
     "name": "stdout",
     "output_type": "stream",
     "text": [
      "Transit midtime in Kepler time: 132.60487999999896\n",
      "No flares found in LC.\n",
      "Wrote out LC to /home/ekaterina/Documents/001_science/lcs/2022_08_02_Kepler-327_16_altai_0.fits.\n",
      "date: 2022_08_02\n",
      "LC successfully detrended.\n"
     ]
    },
    {
     "name": "stderr",
     "output_type": "stream",
     "text": [
      "Found 0 candidate(s) in the (0,52751) gap.\n"
     ]
    },
    {
     "name": "stdout",
     "output_type": "stream",
     "text": [
      "Transit midtime in Kepler time: 132.60487999999896\n",
      "No flares found in LC.\n",
      "Wrote out LC to /home/ekaterina/Documents/001_science/lcs/2022_08_02_Kepler-327_16_altai_1.fits.\n",
      "date: 2022_08_02\n",
      "LC successfully detrended.\n"
     ]
    },
    {
     "name": "stderr",
     "output_type": "stream",
     "text": [
      "Found 0 candidate(s) in the (0,46462) gap.\n"
     ]
    },
    {
     "name": "stdout",
     "output_type": "stream",
     "text": [
      "Transit midtime in Kepler time: 132.60487999999896\n",
      "No flares found in LC.\n",
      "Wrote out LC to /home/ekaterina/Documents/001_science/lcs/2022_08_02_Kepler-327_16_altai_2.fits.\n",
      "Get Kepler Sector/Quarter 15, TIC 63366281, Kepler-327, short cadence.\n"
     ]
    },
    {
     "name": "stderr",
     "output_type": "stream",
     "text": [
      "/home/ekaterina/Documents/000_envs/python37/lib/python3.7/site-packages/lightkurve/io/kepler.py:38: ResourceWarning: unclosed file <_io.FileIO name='/home/ekaterina/Documents/001_science/lcs/mastDownload/Kepler/kplr008167996_sc_Q000000000000333332/kplr008167996-2012310112549_slc.fits' mode='rb' closefd=True>\n",
      "  time_format=\"bkjd\",\n",
      "1% (334/45270) of the cadences will be ignored due to the quality mask (quality_bitmask=1130799).\n",
      "1% (334/45270) of the cadences will be ignored due to the quality mask (quality_bitmask=1130799).\n",
      "/home/ekaterina/Documents/000_envs/python37/lib/python3.7/site-packages/lightkurve/io/kepler.py:38: ResourceWarning: unclosed file <_io.FileIO name='/home/ekaterina/Documents/001_science/lcs/mastDownload/Kepler/kplr008167996_sc_Q000000000000333332/kplr008167996-2012341132017_slc.fits' mode='rb' closefd=True>\n",
      "  time_format=\"bkjd\",\n",
      "1% (366/38310) of the cadences will be ignored due to the quality mask (quality_bitmask=1130799).\n",
      "1% (366/38310) of the cadences will be ignored due to the quality mask (quality_bitmask=1130799).\n",
      "/home/ekaterina/Documents/000_envs/python37/lib/python3.7/site-packages/lightkurve/io/kepler.py:38: ResourceWarning: unclosed file <_io.FileIO name='/home/ekaterina/Documents/001_science/lcs/mastDownload/Kepler/kplr008167996_sc_Q000000000000333332/kplr008167996-2013011073258_slc.fits' mode='rb' closefd=True>\n",
      "  time_format=\"bkjd\",\n",
      "0% (198/51270) of the cadences will be ignored due to the quality mask (quality_bitmask=1130799).\n",
      "0% (198/51270) of the cadences will be ignored due to the quality mask (quality_bitmask=1130799).\n"
     ]
    },
    {
     "name": "stdout",
     "output_type": "stream",
     "text": [
      "3 LCs found for Kepler, Kepler-327, Quarter 15.\n",
      "date: 2022_08_02\n",
      "LC successfully detrended.\n"
     ]
    },
    {
     "name": "stderr",
     "output_type": "stream",
     "text": [
      "Found 0 candidate(s) in the (0,44874) gap.\n"
     ]
    },
    {
     "name": "stdout",
     "output_type": "stream",
     "text": [
      "Transit midtime in Kepler time: 132.60487999999896\n",
      "No flares found in LC.\n",
      "Wrote out LC to /home/ekaterina/Documents/001_science/lcs/2022_08_02_Kepler-327_15_altai_0.fits.\n",
      "date: 2022_08_02\n",
      "LC successfully detrended.\n"
     ]
    },
    {
     "name": "stderr",
     "output_type": "stream",
     "text": [
      "/home/ekaterina/Documents/000_envs/python37/lib/python3.7/site-packages/numpy/lib/nanfunctions.py:1117: RuntimeWarning: Mean of empty slice\n",
      "  return np.nanmean(a, axis, out=out, keepdims=keepdims)\n",
      "Found 0 candidate(s) in the (0,10870) gap.\n",
      "Found 0 candidate(s) in the (10870,35655) gap.\n"
     ]
    },
    {
     "name": "stdout",
     "output_type": "stream",
     "text": [
      "Transit midtime in Kepler time: 132.60487999999896\n",
      "No flares found in LC.\n",
      "Wrote out LC to /home/ekaterina/Documents/001_science/lcs/2022_08_02_Kepler-327_15_altai_1.fits.\n",
      "date: 2022_08_02\n",
      "LC successfully detrended.\n"
     ]
    },
    {
     "name": "stderr",
     "output_type": "stream",
     "text": [
      "Found 0 candidate(s) in the (0,51068) gap.\n"
     ]
    },
    {
     "name": "stdout",
     "output_type": "stream",
     "text": [
      "Transit midtime in Kepler time: 132.60487999999896\n",
      "No flares found in LC.\n",
      "Wrote out LC to /home/ekaterina/Documents/001_science/lcs/2022_08_02_Kepler-327_15_altai_2.fits.\n",
      "Get Kepler Sector/Quarter 17, TIC 63366281, Kepler-327, short cadence.\n"
     ]
    },
    {
     "name": "stderr",
     "output_type": "stream",
     "text": [
      "/home/ekaterina/Documents/000_envs/python37/lib/python3.7/site-packages/lightkurve/io/kepler.py:38: ResourceWarning: unclosed file <_io.FileIO name='/home/ekaterina/Documents/001_science/lcs/mastDownload/Kepler/kplr008167996_sc_Q000000000000333332/kplr008167996-2013121191144_slc.fits' mode='rb' closefd=True>\n",
      "  time_format=\"bkjd\",\n",
      "1% (248/32850) of the cadences will be ignored due to the quality mask (quality_bitmask=1130799).\n",
      "1% (248/32850) of the cadences will be ignored due to the quality mask (quality_bitmask=1130799).\n",
      "/home/ekaterina/Documents/000_envs/python37/lib/python3.7/site-packages/lightkurve/io/kepler.py:38: ResourceWarning: unclosed file <_io.FileIO name='/home/ekaterina/Documents/001_science/lcs/mastDownload/Kepler/kplr008167996_sc_Q000000000000333332/kplr008167996-2013131215648_slc.fits' mode='rb' closefd=True>\n",
      "  time_format=\"bkjd\",\n",
      "0% (28/6180) of the cadences will be ignored due to the quality mask (quality_bitmask=1130799).\n",
      "0% (28/6180) of the cadences will be ignored due to the quality mask (quality_bitmask=1130799).\n"
     ]
    },
    {
     "name": "stdout",
     "output_type": "stream",
     "text": [
      "2 LCs found for Kepler, Kepler-327, Quarter 17.\n",
      "date: 2022_08_02\n",
      "LC successfully detrended.\n"
     ]
    },
    {
     "name": "stderr",
     "output_type": "stream",
     "text": [
      "/home/ekaterina/Documents/000_envs/python37/lib/python3.7/site-packages/numpy/lib/nanfunctions.py:1117: RuntimeWarning: Mean of empty slice\n",
      "  return np.nanmean(a, axis, out=out, keepdims=keepdims)\n",
      "Found 0 candidate(s) in the (0,2385) gap.\n",
      "Found 0 candidate(s) in the (2385,32600) gap.\n"
     ]
    },
    {
     "name": "stdout",
     "output_type": "stream",
     "text": [
      "Transit midtime in Kepler time: 132.60487999999896\n",
      "No flares found in LC.\n",
      "Wrote out LC to /home/ekaterina/Documents/001_science/lcs/2022_08_02_Kepler-327_17_altai_0.fits.\n",
      "date: 2022_08_02\n",
      "LC successfully detrended.\n"
     ]
    },
    {
     "name": "stderr",
     "output_type": "stream",
     "text": [
      "Found 0 candidate(s) in the (0,6151) gap.\n"
     ]
    },
    {
     "name": "stdout",
     "output_type": "stream",
     "text": [
      "Transit midtime in Kepler time: 132.60487999999896\n",
      "No flares found in LC.\n",
      "Wrote out LC to /home/ekaterina/Documents/001_science/lcs/2022_08_02_Kepler-327_17_altai_1.fits.\n",
      "Get Kepler Sector/Quarter 14, TIC 63366281, Kepler-327, short cadence.\n"
     ]
    },
    {
     "name": "stderr",
     "output_type": "stream",
     "text": [
      "/home/ekaterina/Documents/000_envs/python37/lib/python3.7/site-packages/lightkurve/io/kepler.py:38: ResourceWarning: unclosed file <_io.FileIO name='/home/ekaterina/Documents/001_science/lcs/mastDownload/Kepler/kplr008167996_sc_Q000000000000333332/kplr008167996-2012211050319_slc.fits' mode='rb' closefd=True>\n",
      "  time_format=\"bkjd\",\n",
      "4% (1670/38520) of the cadences will be ignored due to the quality mask (quality_bitmask=1130799).\n",
      "4% (1670/38520) of the cadences will be ignored due to the quality mask (quality_bitmask=1130799).\n",
      "/home/ekaterina/Documents/000_envs/python37/lib/python3.7/site-packages/lightkurve/io/kepler.py:38: ResourceWarning: unclosed file <_io.FileIO name='/home/ekaterina/Documents/001_science/lcs/mastDownload/Kepler/kplr008167996_sc_Q000000000000333332/kplr008167996-2012242122129_slc.fits' mode='rb' closefd=True>\n",
      "  time_format=\"bkjd\",\n",
      "0% (106/44280) of the cadences will be ignored due to the quality mask (quality_bitmask=1130799).\n",
      "0% (106/44280) of the cadences will be ignored due to the quality mask (quality_bitmask=1130799).\n",
      "/home/ekaterina/Documents/000_envs/python37/lib/python3.7/site-packages/lightkurve/io/kepler.py:38: ResourceWarning: unclosed file <_io.FileIO name='/home/ekaterina/Documents/001_science/lcs/mastDownload/Kepler/kplr008167996_sc_Q000000000000333332/kplr008167996-2012277125453_slc.fits' mode='rb' closefd=True>\n",
      "  time_format=\"bkjd\",\n",
      "0% (161/50160) of the cadences will be ignored due to the quality mask (quality_bitmask=1130799).\n",
      "0% (161/50160) of the cadences will be ignored due to the quality mask (quality_bitmask=1130799).\n"
     ]
    },
    {
     "name": "stdout",
     "output_type": "stream",
     "text": [
      "3 LCs found for Kepler, Kepler-327, Quarter 14.\n",
      "date: 2022_08_02\n",
      "LC successfully detrended.\n"
     ]
    },
    {
     "name": "stderr",
     "output_type": "stream",
     "text": [
      "/home/ekaterina/Documents/000_envs/python37/lib/python3.7/site-packages/numpy/lib/nanfunctions.py:1117: RuntimeWarning: Mean of empty slice\n",
      "  return np.nanmean(a, axis, out=out, keepdims=keepdims)\n",
      "Found 0 candidate(s) in the (0,22219) gap.\n",
      "Found 0 candidate(s) in the (22219,34810) gap.\n"
     ]
    },
    {
     "name": "stdout",
     "output_type": "stream",
     "text": [
      "Transit midtime in Kepler time: 132.60487999999896\n",
      "No flares found in LC.\n",
      "Wrote out LC to /home/ekaterina/Documents/001_science/lcs/2022_08_02_Kepler-327_14_altai_0.fits.\n",
      "date: 2022_08_02\n",
      "LC successfully detrended.\n"
     ]
    },
    {
     "name": "stderr",
     "output_type": "stream",
     "text": [
      "Found 0 candidate(s) in the (0,44146) gap.\n"
     ]
    },
    {
     "name": "stdout",
     "output_type": "stream",
     "text": [
      "Transit midtime in Kepler time: 132.60487999999896\n",
      "No flares found in LC.\n",
      "Wrote out LC to /home/ekaterina/Documents/001_science/lcs/2022_08_02_Kepler-327_14_altai_1.fits.\n",
      "date: 2022_08_02\n",
      "LC successfully detrended.\n"
     ]
    },
    {
     "name": "stderr",
     "output_type": "stream",
     "text": [
      "Found 1 candidate(s) in the (0,49956) gap.\n"
     ]
    },
    {
     "name": "stdout",
     "output_type": "stream",
     "text": [
      "Transit midtime in Kepler time: 132.60487999999896\n",
      "Flares found:\n",
      "        tstart        tstop     phase  ampl_rec       dur\n",
      "0  1337.501566  1337.508377  0.587269  0.021536  0.006811\n",
      "Wrote out LC to /home/ekaterina/Documents/001_science/lcs/2022_08_02_Kepler-327_14_altai_2.fits.\n",
      "Get Kepler Sector/Quarter 13, TIC 63366281, Kepler-327, short cadence.\n"
     ]
    },
    {
     "name": "stderr",
     "output_type": "stream",
     "text": [
      "/home/ekaterina/Documents/000_envs/python37/lib/python3.7/site-packages/lightkurve/io/kepler.py:38: ResourceWarning: unclosed file <_io.FileIO name='/home/ekaterina/Documents/001_science/lcs/mastDownload/Kepler/kplr008167996_sc_Q000000000000333332/kplr008167996-2012121044856_slc.fits' mode='rb' closefd=True>\n",
      "  time_format=\"bkjd\",\n",
      "1% (563/47370) of the cadences will be ignored due to the quality mask (quality_bitmask=1130799).\n",
      "1% (563/47370) of the cadences will be ignored due to the quality mask (quality_bitmask=1130799).\n",
      "/home/ekaterina/Documents/000_envs/python37/lib/python3.7/site-packages/lightkurve/io/kepler.py:38: ResourceWarning: unclosed file <_io.FileIO name='/home/ekaterina/Documents/001_science/lcs/mastDownload/Kepler/kplr008167996_sc_Q000000000000333332/kplr008167996-2012151031540_slc.fits' mode='rb' closefd=True>\n",
      "  time_format=\"bkjd\",\n",
      "1% (448/42930) of the cadences will be ignored due to the quality mask (quality_bitmask=1130799).\n",
      "1% (448/42930) of the cadences will be ignored due to the quality mask (quality_bitmask=1130799).\n",
      "/home/ekaterina/Documents/000_envs/python37/lib/python3.7/site-packages/lightkurve/io/kepler.py:38: ResourceWarning: unclosed file <_io.FileIO name='/home/ekaterina/Documents/001_science/lcs/mastDownload/Kepler/kplr008167996_sc_Q000000000000333332/kplr008167996-2012179063303_slc.fits' mode='rb' closefd=True>\n",
      "  time_format=\"bkjd\",\n",
      "2% (867/39990) of the cadences will be ignored due to the quality mask (quality_bitmask=1130799).\n",
      "2% (867/39990) of the cadences will be ignored due to the quality mask (quality_bitmask=1130799).\n"
     ]
    },
    {
     "name": "stdout",
     "output_type": "stream",
     "text": [
      "3 LCs found for Kepler, Kepler-327, Quarter 13.\n",
      "date: 2022_08_02\n",
      "LC successfully detrended.\n"
     ]
    },
    {
     "name": "stderr",
     "output_type": "stream",
     "text": [
      "Found 0 candidate(s) in the (0,46806) gap.\n"
     ]
    },
    {
     "name": "stdout",
     "output_type": "stream",
     "text": [
      "Transit midtime in Kepler time: 132.60487999999896\n",
      "No flares found in LC.\n",
      "Wrote out LC to /home/ekaterina/Documents/001_science/lcs/2022_08_02_Kepler-327_13_altai_0.fits.\n",
      "date: 2022_08_02\n",
      "LC successfully detrended.\n"
     ]
    },
    {
     "name": "stderr",
     "output_type": "stream",
     "text": [
      "Found 0 candidate(s) in the (0,42289) gap.\n"
     ]
    },
    {
     "name": "stdout",
     "output_type": "stream",
     "text": [
      "Transit midtime in Kepler time: 132.60487999999896\n",
      "No flares found in LC.\n",
      "Wrote out LC to /home/ekaterina/Documents/001_science/lcs/2022_08_02_Kepler-327_13_altai_1.fits.\n",
      "date: 2022_08_02\n",
      "LC successfully detrended.\n"
     ]
    },
    {
     "name": "stderr",
     "output_type": "stream",
     "text": [
      "/home/ekaterina/Documents/000_envs/python37/lib/python3.7/site-packages/numpy/lib/nanfunctions.py:1117: RuntimeWarning: Mean of empty slice\n",
      "  return np.nanmean(a, axis, out=out, keepdims=keepdims)\n",
      "Found 0 candidate(s) in the (0,33464) gap.\n",
      "Found 0 candidate(s) in the (33464,39121) gap.\n",
      "/home/ekaterina/Documents/000_envs/python37/lib/python3.7/site-packages/ipykernel_launcher.py:88: LightkurveDeprecationWarning: The search_lightcurvefile function is deprecated and may be removed in a future version.\n",
      "        Use search_lightcurve() instead.\n"
     ]
    },
    {
     "name": "stdout",
     "output_type": "stream",
     "text": [
      "Transit midtime in Kepler time: 132.60487999999896\n",
      "No flares found in LC.\n",
      "Wrote out LC to /home/ekaterina/Documents/001_science/lcs/2022_08_02_Kepler-327_13_altai_2.fits.\n",
      "\n",
      "---------------------\n",
      "1 flares found!\n",
      "-------------------\n",
      "\n",
      "(0, 0)\n"
     ]
    },
    {
     "name": "stderr",
     "output_type": "stream",
     "text": [
      "/home/ekaterina/Documents/000_envs/python37/lib/python3.7/site-packages/ipykernel_launcher.py:88: LightkurveDeprecationWarning: The search_lightcurvefile function is deprecated and may be removed in a future version.\n",
      "        Use search_lightcurve() instead.\n",
      "Could not resolve Kepler-1869 to a sky position.\n",
      "Could not resolve Kepler-1869 to a sky position.\n",
      "/home/ekaterina/Documents/000_envs/python37/lib/python3.7/site-packages/ipykernel_launcher.py:93: LightkurveDeprecationWarning: The search_lightcurvefile function is deprecated and may be removed in a future version.\n",
      "        Use search_lightcurve() instead.\n"
     ]
    },
    {
     "name": "stdout",
     "output_type": "stream",
     "text": [
      "Get Kepler Sector/Quarter 03, TIC 63368895, Kepler-1869, short cadence.\n"
     ]
    },
    {
     "name": "stderr",
     "output_type": "stream",
     "text": [
      "Could not resolve Kepler-1869 to a sky position.\n",
      "Could not resolve Kepler-1869 to a sky position.\n"
     ]
    },
    {
     "name": "stdout",
     "output_type": "stream",
     "text": [
      "No LC found for Kepler, Kepler-1869, Quarter 03.\n",
      "Get Kepler Sector/Quarter 14, TIC 63368895, Kepler-1869, short cadence.\n"
     ]
    },
    {
     "name": "stderr",
     "output_type": "stream",
     "text": [
      "Could not resolve Kepler-1869 to a sky position.\n",
      "Could not resolve Kepler-1869 to a sky position.\n"
     ]
    },
    {
     "name": "stdout",
     "output_type": "stream",
     "text": [
      "No LC found for Kepler, Kepler-1869, Quarter 14.\n",
      "Get Kepler Sector/Quarter 15, TIC 63368895, Kepler-1869, short cadence.\n"
     ]
    },
    {
     "name": "stderr",
     "output_type": "stream",
     "text": [
      "Could not resolve Kepler-1869 to a sky position.\n",
      "Could not resolve Kepler-1869 to a sky position.\n"
     ]
    },
    {
     "name": "stdout",
     "output_type": "stream",
     "text": [
      "No LC found for Kepler, Kepler-1869, Quarter 15.\n",
      "Get Kepler Sector/Quarter 16, TIC 63368895, Kepler-1869, short cadence.\n"
     ]
    },
    {
     "name": "stderr",
     "output_type": "stream",
     "text": [
      "Could not resolve Kepler-1869 to a sky position.\n",
      "Could not resolve Kepler-1869 to a sky position.\n"
     ]
    },
    {
     "name": "stdout",
     "output_type": "stream",
     "text": [
      "No LC found for Kepler, Kepler-1869, Quarter 16.\n",
      "Get TESS Sector/Quarter 40, TIC 63368895, Kepler-1869, fast cadence.\n"
     ]
    },
    {
     "name": "stderr",
     "output_type": "stream",
     "text": [
      "/home/ekaterina/Documents/000_envs/python37/lib/python3.7/site-packages/lightkurve/io/tess.py:34: ResourceWarning: unclosed file <_io.FileIO name='/home/ekaterina/Documents/001_science/lcs/mastDownload/TESS/tess2021175071901-s0040-0000000063368895-0211-a_fast/tess2021175071901-s0040-0000000063368895-0211-a_fast-lc.fits' mode='rb' closefd=True>\n",
      "  lc = read_generic_lightcurve(filename, flux_column=flux_column, time_format=\"btjd\")\n",
      "0% (151/117871) of the cadences will be ignored due to the quality mask (quality_bitmask=175).\n",
      "0% (151/117871) of the cadences will be ignored due to the quality mask (quality_bitmask=175).\n"
     ]
    },
    {
     "name": "stdout",
     "output_type": "stream",
     "text": [
      "date: 2022_08_02\n",
      "LC successfully detrended.\n"
     ]
    },
    {
     "name": "stderr",
     "output_type": "stream",
     "text": [
      "/home/ekaterina/Documents/000_envs/python37/lib/python3.7/site-packages/numpy/lib/nanfunctions.py:1117: RuntimeWarning: Mean of empty slice\n",
      "  return np.nanmean(a, axis, out=out, keepdims=keepdims)\n",
      "Found 0 candidate(s) in the (0,59335) gap.\n",
      "Found 1 candidate(s) in the (59335,117720) gap.\n"
     ]
    },
    {
     "name": "stdout",
     "output_type": "stream",
     "text": [
      "Transit midtime in TESS time: -2030.7968899998814\n",
      "Flares found:\n",
      "        tstart        tstop     phase  ampl_rec       dur\n",
      "0  2405.751773  2405.752467  0.204719  0.040464  0.000694\n",
      "Wrote out LC to /home/ekaterina/Documents/001_science/lcs/2022_08_02_63368895_40_altai_0.fits.\n",
      "Get TESS Sector/Quarter 41, TIC 63368895, Kepler-1869, fast cadence.\n"
     ]
    },
    {
     "name": "stderr",
     "output_type": "stream",
     "text": [
      "/home/ekaterina/Documents/000_envs/python37/lib/python3.7/site-packages/lightkurve/io/tess.py:34: ResourceWarning: unclosed file <_io.FileIO name='/home/ekaterina/Documents/001_science/lcs/mastDownload/TESS/tess2021204101404-s0041-0000000063368895-0212-a_fast/tess2021204101404-s0041-0000000063368895-0212-a_fast-lc.fits' mode='rb' closefd=True>\n",
      "  lc = read_generic_lightcurve(filename, flux_column=flux_column, time_format=\"btjd\")\n",
      "0% (138/110100) of the cadences will be ignored due to the quality mask (quality_bitmask=175).\n",
      "0% (138/110100) of the cadences will be ignored due to the quality mask (quality_bitmask=175).\n"
     ]
    },
    {
     "name": "stdout",
     "output_type": "stream",
     "text": [
      "date: 2022_08_02\n",
      "LC successfully detrended.\n"
     ]
    },
    {
     "name": "stderr",
     "output_type": "stream",
     "text": [
      "/home/ekaterina/Documents/000_envs/python37/lib/python3.7/site-packages/numpy/lib/nanfunctions.py:1117: RuntimeWarning: Mean of empty slice\n",
      "  return np.nanmean(a, axis, out=out, keepdims=keepdims)\n",
      "Found 0 candidate(s) in the (0,54441) gap.\n",
      "Found 0 candidate(s) in the (54441,109962) gap.\n"
     ]
    },
    {
     "name": "stdout",
     "output_type": "stream",
     "text": [
      "Transit midtime in TESS time: -2030.7968899998814\n",
      "No flares found in LC.\n",
      "Wrote out LC to /home/ekaterina/Documents/001_science/lcs/2022_08_02_63368895_41_altai_0.fits.\n",
      "Get TESS Sector/Quarter 15, TIC 63368895, Kepler-1869, short cadence.\n"
     ]
    },
    {
     "name": "stderr",
     "output_type": "stream",
     "text": [
      "/home/ekaterina/Documents/000_envs/python37/lib/python3.7/site-packages/lightkurve/io/tess.py:34: ResourceWarning: unclosed file <_io.FileIO name='/home/ekaterina/Documents/001_science/lcs/mastDownload/TESS/tess2019226182529-s0015-0000000063368895-0151-s/tess2019226182529-s0015-0000000063368895-0151-s_lc.fits' mode='rb' closefd=True>\n",
      "  lc = read_generic_lightcurve(filename, flux_column=flux_column, time_format=\"btjd\")\n",
      "1% (232/17981) of the cadences will be ignored due to the quality mask (quality_bitmask=175).\n",
      "1% (232/17981) of the cadences will be ignored due to the quality mask (quality_bitmask=175).\n"
     ]
    },
    {
     "name": "stdout",
     "output_type": "stream",
     "text": [
      "date: 2022_08_02\n",
      "LC successfully detrended.\n"
     ]
    },
    {
     "name": "stderr",
     "output_type": "stream",
     "text": [
      "/home/ekaterina/Documents/000_envs/python37/lib/python3.7/site-packages/numpy/lib/nanfunctions.py:1117: RuntimeWarning: Mean of empty slice\n",
      "  return np.nanmean(a, axis, out=out, keepdims=keepdims)\n",
      "Found 0 candidate(s) in the (0,7401) gap.\n",
      "Found 0 candidate(s) in the (7401,15001) gap.\n",
      "Found 0 candidate(s) in the (15001,15258) gap.\n",
      "/home/ekaterina/Documents/000_envs/python37/lib/python3.7/site-packages/ipykernel_launcher.py:88: LightkurveDeprecationWarning: The search_lightcurvefile function is deprecated and may be removed in a future version.\n",
      "        Use search_lightcurve() instead.\n"
     ]
    },
    {
     "name": "stdout",
     "output_type": "stream",
     "text": [
      "Transit midtime in TESS time: -2030.7968899998814\n",
      "No flares found in LC.\n",
      "Wrote out LC to /home/ekaterina/Documents/001_science/lcs/2022_08_02_63368895_15_altai_0.fits.\n",
      "\n",
      "---------------------\n",
      "1 flares found!\n",
      "-------------------\n",
      "\n",
      "(0, 0)\n"
     ]
    },
    {
     "name": "stderr",
     "output_type": "stream",
     "text": [
      "Could not resolve Kepler-1902 to a sky position.\n",
      "Could not resolve Kepler-1902 to a sky position.\n",
      "/home/ekaterina/Documents/000_envs/python37/lib/python3.7/site-packages/ipykernel_launcher.py:93: LightkurveDeprecationWarning: The search_lightcurvefile function is deprecated and may be removed in a future version.\n",
      "        Use search_lightcurve() instead.\n"
     ]
    },
    {
     "name": "stdout",
     "output_type": "stream",
     "text": [
      "Get TESS Sector/Quarter 40, TIC 63370825, Kepler-1902, short cadence.\n"
     ]
    },
    {
     "name": "stderr",
     "output_type": "stream",
     "text": [
      "/home/ekaterina/Documents/000_envs/python37/lib/python3.7/site-packages/lightkurve/io/tess.py:34: ResourceWarning: unclosed file <_io.FileIO name='/home/ekaterina/Documents/001_science/lcs/mastDownload/TESS/tess2021175071901-s0040-0000000063370825-0211-s/tess2021175071901-s0040-0000000063370825-0211-s_lc.fits' mode='rb' closefd=True>\n",
      "  lc = read_generic_lightcurve(filename, flux_column=flux_column, time_format=\"btjd\")\n",
      "0% (32/19643) of the cadences will be ignored due to the quality mask (quality_bitmask=175).\n",
      "0% (32/19643) of the cadences will be ignored due to the quality mask (quality_bitmask=175).\n"
     ]
    },
    {
     "name": "stdout",
     "output_type": "stream",
     "text": [
      "date: 2022_08_02\n",
      "LC successfully detrended.\n"
     ]
    },
    {
     "name": "stderr",
     "output_type": "stream",
     "text": [
      "/home/ekaterina/Documents/000_envs/python37/lib/python3.7/site-packages/numpy/lib/nanfunctions.py:1117: RuntimeWarning: Mean of empty slice\n",
      "  return np.nanmean(a, axis, out=out, keepdims=keepdims)\n",
      "Found 0 candidate(s) in the (0,9882) gap.\n",
      "Found 0 candidate(s) in the (9882,19611) gap.\n"
     ]
    },
    {
     "name": "stdout",
     "output_type": "stream",
     "text": [
      "Transit midtime in TESS time: -2034.8476700000465\n",
      "No flares found in LC.\n",
      "Wrote out LC to /home/ekaterina/Documents/001_science/lcs/2022_08_02_63370825_40_altai_0.fits.\n",
      "Get TESS Sector/Quarter 41, TIC 63370825, Kepler-1902, short cadence.\n"
     ]
    },
    {
     "name": "stderr",
     "output_type": "stream",
     "text": [
      "/home/ekaterina/Documents/000_envs/python37/lib/python3.7/site-packages/lightkurve/io/tess.py:34: ResourceWarning: unclosed file <_io.FileIO name='/home/ekaterina/Documents/001_science/lcs/mastDownload/TESS/tess2021204101404-s0041-0000000063370825-0212-s/tess2021204101404-s0041-0000000063370825-0212-s_lc.fits' mode='rb' closefd=True>\n",
      "  lc = read_generic_lightcurve(filename, flux_column=flux_column, time_format=\"btjd\")\n",
      "0% (26/18348) of the cadences will be ignored due to the quality mask (quality_bitmask=175).\n",
      "0% (26/18348) of the cadences will be ignored due to the quality mask (quality_bitmask=175).\n"
     ]
    },
    {
     "name": "stdout",
     "output_type": "stream",
     "text": [
      "date: 2022_08_02\n",
      "LC successfully detrended.\n"
     ]
    },
    {
     "name": "stderr",
     "output_type": "stream",
     "text": [
      "/home/ekaterina/Documents/000_envs/python37/lib/python3.7/site-packages/numpy/lib/nanfunctions.py:1117: RuntimeWarning: Mean of empty slice\n",
      "  return np.nanmean(a, axis, out=out, keepdims=keepdims)\n",
      "Found 0 candidate(s) in the (0,9071) gap.\n",
      "Found 0 candidate(s) in the (9071,18322) gap.\n",
      "/home/ekaterina/Documents/000_envs/python37/lib/python3.7/site-packages/ipykernel_launcher.py:88: LightkurveDeprecationWarning: The search_lightcurvefile function is deprecated and may be removed in a future version.\n",
      "        Use search_lightcurve() instead.\n"
     ]
    },
    {
     "name": "stdout",
     "output_type": "stream",
     "text": [
      "Transit midtime in TESS time: -2034.8476700000465\n",
      "No flares found in LC.\n",
      "Wrote out LC to /home/ekaterina/Documents/001_science/lcs/2022_08_02_63370825_41_altai_0.fits.\n",
      "\n",
      "---------------------\n",
      "0 flares found!\n",
      "-------------------\n",
      "\n",
      "(0, 0)\n",
      "Get Kepler Sector/Quarter 07, TIC 63372898, Kepler-82, short cadence.\n",
      "No LC found for Kepler, Kepler-82, Quarter 07.\n",
      "Get Kepler Sector/Quarter 17, TIC 63372898, Kepler-82, short cadence.\n"
     ]
    },
    {
     "name": "stderr",
     "output_type": "stream",
     "text": [
      "/home/ekaterina/Documents/000_envs/python37/lib/python3.7/site-packages/lightkurve/io/kepler.py:38: ResourceWarning: unclosed file <_io.FileIO name='/home/ekaterina/Documents/001_science/lcs/mastDownload/Kepler/kplr007366258_sc_Q000000033333333332/kplr007366258-2013121191144_slc.fits' mode='rb' closefd=True>\n",
      "  time_format=\"bkjd\",\n",
      "1% (248/32850) of the cadences will be ignored due to the quality mask (quality_bitmask=1130799).\n",
      "1% (248/32850) of the cadences will be ignored due to the quality mask (quality_bitmask=1130799).\n",
      "/home/ekaterina/Documents/000_envs/python37/lib/python3.7/site-packages/lightkurve/io/kepler.py:38: ResourceWarning: unclosed file <_io.FileIO name='/home/ekaterina/Documents/001_science/lcs/mastDownload/Kepler/kplr007366258_sc_Q000000033333333332/kplr007366258-2013131215648_slc.fits' mode='rb' closefd=True>\n",
      "  time_format=\"bkjd\",\n",
      "0% (28/6180) of the cadences will be ignored due to the quality mask (quality_bitmask=1130799).\n",
      "0% (28/6180) of the cadences will be ignored due to the quality mask (quality_bitmask=1130799).\n"
     ]
    },
    {
     "name": "stdout",
     "output_type": "stream",
     "text": [
      "2 LCs found for Kepler, Kepler-82, Quarter 17.\n",
      "date: 2022_08_02\n",
      "LC successfully detrended.\n"
     ]
    },
    {
     "name": "stderr",
     "output_type": "stream",
     "text": [
      "/home/ekaterina/Documents/000_envs/python37/lib/python3.7/site-packages/numpy/lib/nanfunctions.py:1117: RuntimeWarning: Mean of empty slice\n",
      "  return np.nanmean(a, axis, out=out, keepdims=keepdims)\n",
      "Found 0 candidate(s) in the (0,2385) gap.\n",
      "Found 0 candidate(s) in the (2385,32600) gap.\n"
     ]
    },
    {
     "name": "stdout",
     "output_type": "stream",
     "text": [
      "Transit midtime in Kepler time: 135.08185999980196\n",
      "No flares found in LC.\n",
      "Wrote out LC to /home/ekaterina/Documents/001_science/lcs/2022_08_02_Kepler-82_17_altai_0.fits.\n",
      "date: 2022_08_02\n",
      "LC successfully detrended.\n"
     ]
    },
    {
     "name": "stderr",
     "output_type": "stream",
     "text": [
      "Found 0 candidate(s) in the (0,6151) gap.\n"
     ]
    },
    {
     "name": "stdout",
     "output_type": "stream",
     "text": [
      "Transit midtime in Kepler time: 135.08185999980196\n",
      "No flares found in LC.\n",
      "Wrote out LC to /home/ekaterina/Documents/001_science/lcs/2022_08_02_Kepler-82_17_altai_1.fits.\n",
      "Get Kepler Sector/Quarter 16, TIC 63372898, Kepler-82, short cadence.\n"
     ]
    },
    {
     "name": "stderr",
     "output_type": "stream",
     "text": [
      "/home/ekaterina/Documents/000_envs/python37/lib/python3.7/site-packages/lightkurve/io/kepler.py:38: ResourceWarning: unclosed file <_io.FileIO name='/home/ekaterina/Documents/001_science/lcs/mastDownload/Kepler/kplr007366258_sc_Q000000033333333332/kplr007366258-2013017113907_slc.fits' mode='rb' closefd=True>\n",
      "  time_format=\"bkjd\",\n",
      "1% (58/7680) of the cadences will be ignored due to the quality mask (quality_bitmask=1130799).\n",
      "1% (58/7680) of the cadences will be ignored due to the quality mask (quality_bitmask=1130799).\n",
      "/home/ekaterina/Documents/000_envs/python37/lib/python3.7/site-packages/lightkurve/io/kepler.py:38: ResourceWarning: unclosed file <_io.FileIO name='/home/ekaterina/Documents/001_science/lcs/mastDownload/Kepler/kplr007366258_sc_Q000000033333333332/kplr007366258-2013065031647_slc.fits' mode='rb' closefd=True>\n",
      "  time_format=\"bkjd\",\n",
      "1% (455/53220) of the cadences will be ignored due to the quality mask (quality_bitmask=1130799).\n",
      "1% (455/53220) of the cadences will be ignored due to the quality mask (quality_bitmask=1130799).\n",
      "/home/ekaterina/Documents/000_envs/python37/lib/python3.7/site-packages/lightkurve/io/kepler.py:38: ResourceWarning: unclosed file <_io.FileIO name='/home/ekaterina/Documents/001_science/lcs/mastDownload/Kepler/kplr007366258_sc_Q000000033333333332/kplr007366258-2013098041711_slc.fits' mode='rb' closefd=True>\n",
      "  time_format=\"bkjd\",\n",
      "1% (274/46770) of the cadences will be ignored due to the quality mask (quality_bitmask=1130799).\n",
      "1% (274/46770) of the cadences will be ignored due to the quality mask (quality_bitmask=1130799).\n"
     ]
    },
    {
     "name": "stdout",
     "output_type": "stream",
     "text": [
      "3 LCs found for Kepler, Kepler-82, Quarter 16.\n",
      "date: 2022_08_02\n",
      "LC successfully detrended.\n"
     ]
    },
    {
     "name": "stderr",
     "output_type": "stream",
     "text": [
      "Found 0 candidate(s) in the (0,7622) gap.\n"
     ]
    },
    {
     "name": "stdout",
     "output_type": "stream",
     "text": [
      "Transit midtime in Kepler time: 135.08185999980196\n",
      "No flares found in LC.\n",
      "Wrote out LC to /home/ekaterina/Documents/001_science/lcs/2022_08_02_Kepler-82_16_altai_0.fits.\n",
      "date: 2022_08_02\n",
      "LC successfully detrended.\n"
     ]
    },
    {
     "name": "stderr",
     "output_type": "stream",
     "text": [
      "Found 0 candidate(s) in the (0,52751) gap.\n"
     ]
    },
    {
     "name": "stdout",
     "output_type": "stream",
     "text": [
      "Transit midtime in Kepler time: 135.08185999980196\n",
      "No flares found in LC.\n",
      "Wrote out LC to /home/ekaterina/Documents/001_science/lcs/2022_08_02_Kepler-82_16_altai_1.fits.\n",
      "date: 2022_08_02\n",
      "LC successfully detrended.\n"
     ]
    },
    {
     "name": "stderr",
     "output_type": "stream",
     "text": [
      "Found 0 candidate(s) in the (0,46462) gap.\n"
     ]
    },
    {
     "name": "stdout",
     "output_type": "stream",
     "text": [
      "Transit midtime in Kepler time: 135.08185999980196\n",
      "No flares found in LC.\n",
      "Wrote out LC to /home/ekaterina/Documents/001_science/lcs/2022_08_02_Kepler-82_16_altai_2.fits.\n",
      "Get Kepler Sector/Quarter 15, TIC 63372898, Kepler-82, short cadence.\n"
     ]
    },
    {
     "name": "stderr",
     "output_type": "stream",
     "text": [
      "/home/ekaterina/Documents/000_envs/python37/lib/python3.7/site-packages/lightkurve/io/kepler.py:38: ResourceWarning: unclosed file <_io.FileIO name='/home/ekaterina/Documents/001_science/lcs/mastDownload/Kepler/kplr007366258_sc_Q000000033333333332/kplr007366258-2012310112549_slc.fits' mode='rb' closefd=True>\n",
      "  time_format=\"bkjd\",\n",
      "1% (334/45270) of the cadences will be ignored due to the quality mask (quality_bitmask=1130799).\n",
      "1% (334/45270) of the cadences will be ignored due to the quality mask (quality_bitmask=1130799).\n",
      "/home/ekaterina/Documents/000_envs/python37/lib/python3.7/site-packages/lightkurve/io/kepler.py:38: ResourceWarning: unclosed file <_io.FileIO name='/home/ekaterina/Documents/001_science/lcs/mastDownload/Kepler/kplr007366258_sc_Q000000033333333332/kplr007366258-2012341132017_slc.fits' mode='rb' closefd=True>\n",
      "  time_format=\"bkjd\",\n",
      "1% (366/38310) of the cadences will be ignored due to the quality mask (quality_bitmask=1130799).\n",
      "1% (366/38310) of the cadences will be ignored due to the quality mask (quality_bitmask=1130799).\n",
      "/home/ekaterina/Documents/000_envs/python37/lib/python3.7/site-packages/lightkurve/io/kepler.py:38: ResourceWarning: unclosed file <_io.FileIO name='/home/ekaterina/Documents/001_science/lcs/mastDownload/Kepler/kplr007366258_sc_Q000000033333333332/kplr007366258-2013011073258_slc.fits' mode='rb' closefd=True>\n",
      "  time_format=\"bkjd\",\n",
      "0% (198/51270) of the cadences will be ignored due to the quality mask (quality_bitmask=1130799).\n",
      "0% (198/51270) of the cadences will be ignored due to the quality mask (quality_bitmask=1130799).\n"
     ]
    },
    {
     "name": "stdout",
     "output_type": "stream",
     "text": [
      "3 LCs found for Kepler, Kepler-82, Quarter 15.\n",
      "date: 2022_08_02\n",
      "LC successfully detrended.\n"
     ]
    },
    {
     "name": "stderr",
     "output_type": "stream",
     "text": [
      "Found 0 candidate(s) in the (0,44875) gap.\n"
     ]
    },
    {
     "name": "stdout",
     "output_type": "stream",
     "text": [
      "Transit midtime in Kepler time: 135.08185999980196\n",
      "No flares found in LC.\n",
      "Wrote out LC to /home/ekaterina/Documents/001_science/lcs/2022_08_02_Kepler-82_15_altai_0.fits.\n",
      "date: 2022_08_02\n",
      "LC successfully detrended.\n"
     ]
    },
    {
     "name": "stderr",
     "output_type": "stream",
     "text": [
      "/home/ekaterina/Documents/000_envs/python37/lib/python3.7/site-packages/numpy/lib/nanfunctions.py:1117: RuntimeWarning: Mean of empty slice\n",
      "  return np.nanmean(a, axis, out=out, keepdims=keepdims)\n",
      "Found 0 candidate(s) in the (0,10870) gap.\n",
      "Found 0 candidate(s) in the (10870,35655) gap.\n"
     ]
    },
    {
     "name": "stdout",
     "output_type": "stream",
     "text": [
      "Transit midtime in Kepler time: 135.08185999980196\n",
      "No flares found in LC.\n",
      "Wrote out LC to /home/ekaterina/Documents/001_science/lcs/2022_08_02_Kepler-82_15_altai_1.fits.\n",
      "date: 2022_08_02\n",
      "LC successfully detrended.\n"
     ]
    },
    {
     "name": "stderr",
     "output_type": "stream",
     "text": [
      "Found 0 candidate(s) in the (0,51069) gap.\n"
     ]
    },
    {
     "name": "stdout",
     "output_type": "stream",
     "text": [
      "Transit midtime in Kepler time: 135.08185999980196\n",
      "No flares found in LC.\n",
      "Wrote out LC to /home/ekaterina/Documents/001_science/lcs/2022_08_02_Kepler-82_15_altai_2.fits.\n",
      "Get Kepler Sector/Quarter 14, TIC 63372898, Kepler-82, short cadence.\n"
     ]
    },
    {
     "name": "stderr",
     "output_type": "stream",
     "text": [
      "/home/ekaterina/Documents/000_envs/python37/lib/python3.7/site-packages/lightkurve/io/kepler.py:38: ResourceWarning: unclosed file <_io.FileIO name='/home/ekaterina/Documents/001_science/lcs/mastDownload/Kepler/kplr007366258_sc_Q000000033333333332/kplr007366258-2012211050319_slc.fits' mode='rb' closefd=True>\n",
      "  time_format=\"bkjd\",\n",
      "4% (1670/38520) of the cadences will be ignored due to the quality mask (quality_bitmask=1130799).\n",
      "4% (1670/38520) of the cadences will be ignored due to the quality mask (quality_bitmask=1130799).\n",
      "/home/ekaterina/Documents/000_envs/python37/lib/python3.7/site-packages/lightkurve/io/kepler.py:38: ResourceWarning: unclosed file <_io.FileIO name='/home/ekaterina/Documents/001_science/lcs/mastDownload/Kepler/kplr007366258_sc_Q000000033333333332/kplr007366258-2012242122129_slc.fits' mode='rb' closefd=True>\n",
      "  time_format=\"bkjd\",\n",
      "0% (106/44280) of the cadences will be ignored due to the quality mask (quality_bitmask=1130799).\n",
      "0% (106/44280) of the cadences will be ignored due to the quality mask (quality_bitmask=1130799).\n",
      "/home/ekaterina/Documents/000_envs/python37/lib/python3.7/site-packages/lightkurve/io/kepler.py:38: ResourceWarning: unclosed file <_io.FileIO name='/home/ekaterina/Documents/001_science/lcs/mastDownload/Kepler/kplr007366258_sc_Q000000033333333332/kplr007366258-2012277125453_slc.fits' mode='rb' closefd=True>\n",
      "  time_format=\"bkjd\",\n",
      "0% (161/50160) of the cadences will be ignored due to the quality mask (quality_bitmask=1130799).\n",
      "0% (161/50160) of the cadences will be ignored due to the quality mask (quality_bitmask=1130799).\n"
     ]
    },
    {
     "name": "stdout",
     "output_type": "stream",
     "text": [
      "3 LCs found for Kepler, Kepler-82, Quarter 14.\n",
      "date: 2022_08_02\n",
      "LC successfully detrended.\n"
     ]
    },
    {
     "name": "stderr",
     "output_type": "stream",
     "text": [
      "/home/ekaterina/Documents/000_envs/python37/lib/python3.7/site-packages/numpy/lib/nanfunctions.py:1117: RuntimeWarning: Mean of empty slice\n",
      "  return np.nanmean(a, axis, out=out, keepdims=keepdims)\n",
      "Found 0 candidate(s) in the (0,22220) gap.\n",
      "Found 0 candidate(s) in the (22220,34811) gap.\n"
     ]
    },
    {
     "name": "stdout",
     "output_type": "stream",
     "text": [
      "Transit midtime in Kepler time: 135.08185999980196\n",
      "No flares found in LC.\n",
      "Wrote out LC to /home/ekaterina/Documents/001_science/lcs/2022_08_02_Kepler-82_14_altai_0.fits.\n",
      "date: 2022_08_02\n",
      "LC successfully detrended.\n"
     ]
    },
    {
     "name": "stderr",
     "output_type": "stream",
     "text": [
      "Found 1 candidate(s) in the (0,44149) gap.\n"
     ]
    },
    {
     "name": "stdout",
     "output_type": "stream",
     "text": [
      "Transit midtime in Kepler time: 135.08185999980196\n",
      "Flares found:\n",
      "        tstart        tstop     phase  ampl_rec       dur\n",
      "0  1323.114355  1323.117079  0.553058   0.02191  0.002725\n",
      "Wrote out LC to /home/ekaterina/Documents/001_science/lcs/2022_08_02_Kepler-82_14_altai_1.fits.\n",
      "date: 2022_08_02\n",
      "LC successfully detrended.\n"
     ]
    },
    {
     "name": "stderr",
     "output_type": "stream",
     "text": [
      "Found 1 candidate(s) in the (0,49958) gap.\n"
     ]
    },
    {
     "name": "stdout",
     "output_type": "stream",
     "text": [
      "Transit midtime in Kepler time: 135.08185999980196\n",
      "Flares found:\n",
      "        tstart        tstop     phase  ampl_rec      dur\n",
      "0  1337.501661  1337.507791  0.590634  0.034513  0.00613\n",
      "Wrote out LC to /home/ekaterina/Documents/001_science/lcs/2022_08_02_Kepler-82_14_altai_2.fits.\n",
      "Get Kepler Sector/Quarter 13, TIC 63372898, Kepler-82, short cadence.\n"
     ]
    },
    {
     "name": "stderr",
     "output_type": "stream",
     "text": [
      "/home/ekaterina/Documents/000_envs/python37/lib/python3.7/site-packages/lightkurve/io/kepler.py:38: ResourceWarning: unclosed file <_io.FileIO name='/home/ekaterina/Documents/001_science/lcs/mastDownload/Kepler/kplr007366258_sc_Q000000033333333332/kplr007366258-2012121044856_slc.fits' mode='rb' closefd=True>\n",
      "  time_format=\"bkjd\",\n",
      "1% (563/47370) of the cadences will be ignored due to the quality mask (quality_bitmask=1130799).\n",
      "1% (563/47370) of the cadences will be ignored due to the quality mask (quality_bitmask=1130799).\n",
      "/home/ekaterina/Documents/000_envs/python37/lib/python3.7/site-packages/lightkurve/io/kepler.py:38: ResourceWarning: unclosed file <_io.FileIO name='/home/ekaterina/Documents/001_science/lcs/mastDownload/Kepler/kplr007366258_sc_Q000000033333333332/kplr007366258-2012151031540_slc.fits' mode='rb' closefd=True>\n",
      "  time_format=\"bkjd\",\n",
      "1% (448/42930) of the cadences will be ignored due to the quality mask (quality_bitmask=1130799).\n",
      "1% (448/42930) of the cadences will be ignored due to the quality mask (quality_bitmask=1130799).\n",
      "/home/ekaterina/Documents/000_envs/python37/lib/python3.7/site-packages/lightkurve/io/kepler.py:38: ResourceWarning: unclosed file <_io.FileIO name='/home/ekaterina/Documents/001_science/lcs/mastDownload/Kepler/kplr007366258_sc_Q000000033333333332/kplr007366258-2012179063303_slc.fits' mode='rb' closefd=True>\n",
      "  time_format=\"bkjd\",\n",
      "2% (867/39990) of the cadences will be ignored due to the quality mask (quality_bitmask=1130799).\n",
      "2% (867/39990) of the cadences will be ignored due to the quality mask (quality_bitmask=1130799).\n"
     ]
    },
    {
     "name": "stdout",
     "output_type": "stream",
     "text": [
      "3 LCs found for Kepler, Kepler-82, Quarter 13.\n",
      "date: 2022_08_02\n",
      "LC successfully detrended.\n"
     ]
    },
    {
     "name": "stderr",
     "output_type": "stream",
     "text": [
      "Found 0 candidate(s) in the (0,46806) gap.\n"
     ]
    },
    {
     "name": "stdout",
     "output_type": "stream",
     "text": [
      "Transit midtime in Kepler time: 135.08185999980196\n",
      "No flares found in LC.\n",
      "Wrote out LC to /home/ekaterina/Documents/001_science/lcs/2022_08_02_Kepler-82_13_altai_0.fits.\n",
      "date: 2022_08_02\n",
      "LC successfully detrended.\n"
     ]
    },
    {
     "name": "stderr",
     "output_type": "stream",
     "text": [
      "Found 0 candidate(s) in the (0,42289) gap.\n"
     ]
    },
    {
     "name": "stdout",
     "output_type": "stream",
     "text": [
      "Transit midtime in Kepler time: 135.08185999980196\n",
      "No flares found in LC.\n",
      "Wrote out LC to /home/ekaterina/Documents/001_science/lcs/2022_08_02_Kepler-82_13_altai_1.fits.\n",
      "date: 2022_08_02\n",
      "LC successfully detrended.\n"
     ]
    },
    {
     "name": "stderr",
     "output_type": "stream",
     "text": [
      "/home/ekaterina/Documents/000_envs/python37/lib/python3.7/site-packages/numpy/lib/nanfunctions.py:1117: RuntimeWarning: Mean of empty slice\n",
      "  return np.nanmean(a, axis, out=out, keepdims=keepdims)\n",
      "Found 0 candidate(s) in the (0,33464) gap.\n",
      "Found 0 candidate(s) in the (33464,39121) gap.\n"
     ]
    },
    {
     "name": "stdout",
     "output_type": "stream",
     "text": [
      "Transit midtime in Kepler time: 135.08185999980196\n",
      "No flares found in LC.\n",
      "Wrote out LC to /home/ekaterina/Documents/001_science/lcs/2022_08_02_Kepler-82_13_altai_2.fits.\n",
      "Get Kepler Sector/Quarter 12, TIC 63372898, Kepler-82, short cadence.\n"
     ]
    },
    {
     "name": "stderr",
     "output_type": "stream",
     "text": [
      "/home/ekaterina/Documents/000_envs/python37/lib/python3.7/site-packages/lightkurve/io/kepler.py:38: ResourceWarning: unclosed file <_io.FileIO name='/home/ekaterina/Documents/001_science/lcs/mastDownload/Kepler/kplr007366258_sc_Q000000033333333332/kplr007366258-2012032013838_slc.fits' mode='rb' closefd=True>\n",
      "  time_format=\"bkjd\",\n",
      "13% (4872/38910) of the cadences will be ignored due to the quality mask (quality_bitmask=1130799).\n",
      "13% (4872/38910) of the cadences will be ignored due to the quality mask (quality_bitmask=1130799).\n",
      "/home/ekaterina/Documents/000_envs/python37/lib/python3.7/site-packages/lightkurve/io/kepler.py:38: ResourceWarning: unclosed file <_io.FileIO name='/home/ekaterina/Documents/001_science/lcs/mastDownload/Kepler/kplr007366258_sc_Q000000033333333332/kplr007366258-2012060035710_slc.fits' mode='rb' closefd=True>\n",
      "  time_format=\"bkjd\",\n",
      "1% (216/40200) of the cadences will be ignored due to the quality mask (quality_bitmask=1130799).\n",
      "1% (216/40200) of the cadences will be ignored due to the quality mask (quality_bitmask=1130799).\n",
      "/home/ekaterina/Documents/000_envs/python37/lib/python3.7/site-packages/lightkurve/io/kepler.py:38: ResourceWarning: unclosed file <_io.FileIO name='/home/ekaterina/Documents/001_science/lcs/mastDownload/Kepler/kplr007366258_sc_Q000000033333333332/kplr007366258-2012088054726_slc.fits' mode='rb' closefd=True>\n",
      "  time_format=\"bkjd\",\n",
      "17% (6893/39840) of the cadences will be ignored due to the quality mask (quality_bitmask=1130799).\n",
      "17% (6893/39840) of the cadences will be ignored due to the quality mask (quality_bitmask=1130799).\n"
     ]
    },
    {
     "name": "stdout",
     "output_type": "stream",
     "text": [
      "3 LCs found for Kepler, Kepler-82, Quarter 12.\n",
      "date: 2022_08_02\n",
      "LC successfully detrended.\n"
     ]
    },
    {
     "name": "stderr",
     "output_type": "stream",
     "text": [
      "/home/ekaterina/Documents/000_envs/python37/lib/python3.7/site-packages/numpy/lib/nanfunctions.py:1117: RuntimeWarning: Mean of empty slice\n",
      "  return np.nanmean(a, axis, out=out, keepdims=keepdims)\n",
      "Found 0 candidate(s) in the (0,25142) gap.\n",
      "Found 0 candidate(s) in the (25142,28728) gap.\n",
      "Found 0 candidate(s) in the (28728,34037) gap.\n"
     ]
    },
    {
     "name": "stdout",
     "output_type": "stream",
     "text": [
      "Transit midtime in Kepler time: 135.08185999980196\n",
      "No flares found in LC.\n",
      "Wrote out LC to /home/ekaterina/Documents/001_science/lcs/2022_08_02_Kepler-82_12_altai_0.fits.\n",
      "date: 2022_08_02\n",
      "LC successfully detrended.\n"
     ]
    },
    {
     "name": "stderr",
     "output_type": "stream",
     "text": [
      "Found 0 candidate(s) in the (0,39984) gap.\n"
     ]
    },
    {
     "name": "stdout",
     "output_type": "stream",
     "text": [
      "Transit midtime in Kepler time: 135.08185999980196\n",
      "No flares found in LC.\n",
      "Wrote out LC to /home/ekaterina/Documents/001_science/lcs/2022_08_02_Kepler-82_12_altai_1.fits.\n",
      "date: 2022_08_02\n",
      "LC successfully detrended.\n"
     ]
    },
    {
     "name": "stderr",
     "output_type": "stream",
     "text": [
      "Found 0 candidate(s) in the (0,8251) gap.\n",
      "Found 0 candidate(s) in the (8251,32946) gap.\n"
     ]
    },
    {
     "name": "stdout",
     "output_type": "stream",
     "text": [
      "Transit midtime in Kepler time: 135.08185999980196\n",
      "No flares found in LC.\n",
      "Wrote out LC to /home/ekaterina/Documents/001_science/lcs/2022_08_02_Kepler-82_12_altai_2.fits.\n",
      "Get Kepler Sector/Quarter 08, TIC 63372898, Kepler-82, short cadence.\n",
      "No LC found for Kepler, Kepler-82, Quarter 08.\n",
      "Get Kepler Sector/Quarter 09, TIC 63372898, Kepler-82, short cadence.\n",
      "No LC found for Kepler, Kepler-82, Quarter 09.\n",
      "Get Kepler Sector/Quarter 10, TIC 63372898, Kepler-82, short cadence.\n"
     ]
    },
    {
     "name": "stderr",
     "output_type": "stream",
     "text": [
      "/home/ekaterina/Documents/000_envs/python37/lib/python3.7/site-packages/lightkurve/io/kepler.py:38: ResourceWarning: unclosed file <_io.FileIO name='/home/ekaterina/Documents/001_science/lcs/mastDownload/Kepler/kplr007366258_sc_Q000000033333333332/kplr007366258-2011208035123_slc.fits' mode='rb' closefd=True>\n",
      "  time_format=\"bkjd\",\n",
      "1% (242/44220) of the cadences will be ignored due to the quality mask (quality_bitmask=1130799).\n",
      "1% (242/44220) of the cadences will be ignored due to the quality mask (quality_bitmask=1130799).\n",
      "/home/ekaterina/Documents/000_envs/python37/lib/python3.7/site-packages/lightkurve/io/kepler.py:38: ResourceWarning: unclosed file <_io.FileIO name='/home/ekaterina/Documents/001_science/lcs/mastDownload/Kepler/kplr007366258_sc_Q000000033333333332/kplr007366258-2011240104155_slc.fits' mode='rb' closefd=True>\n",
      "  time_format=\"bkjd\",\n",
      "3% (1158/46170) of the cadences will be ignored due to the quality mask (quality_bitmask=1130799).\n",
      "3% (1158/46170) of the cadences will be ignored due to the quality mask (quality_bitmask=1130799).\n",
      "/home/ekaterina/Documents/000_envs/python37/lib/python3.7/site-packages/lightkurve/io/kepler.py:38: ResourceWarning: unclosed file <_io.FileIO name='/home/ekaterina/Documents/001_science/lcs/mastDownload/Kepler/kplr007366258_sc_Q000000033333333332/kplr007366258-2011271113734_slc.fits' mode='rb' closefd=True>\n",
      "  time_format=\"bkjd\",\n",
      "1% (241/44340) of the cadences will be ignored due to the quality mask (quality_bitmask=1130799).\n",
      "1% (241/44340) of the cadences will be ignored due to the quality mask (quality_bitmask=1130799).\n"
     ]
    },
    {
     "name": "stdout",
     "output_type": "stream",
     "text": [
      "3 LCs found for Kepler, Kepler-82, Quarter 10.\n",
      "date: 2022_08_02\n",
      "LC successfully detrended.\n"
     ]
    },
    {
     "name": "stderr",
     "output_type": "stream",
     "text": [
      "Found 0 candidate(s) in the (0,43978) gap.\n"
     ]
    },
    {
     "name": "stdout",
     "output_type": "stream",
     "text": [
      "Transit midtime in Kepler time: 135.08185999980196\n",
      "No flares found in LC.\n",
      "Wrote out LC to /home/ekaterina/Documents/001_science/lcs/2022_08_02_Kepler-82_10_altai_0.fits.\n",
      "date: 2022_08_02\n",
      "LC successfully detrended.\n"
     ]
    },
    {
     "name": "stderr",
     "output_type": "stream",
     "text": [
      "Found 0 candidate(s) in the (0,45006) gap.\n"
     ]
    },
    {
     "name": "stdout",
     "output_type": "stream",
     "text": [
      "Transit midtime in Kepler time: 135.08185999980196\n",
      "No flares found in LC.\n",
      "Wrote out LC to /home/ekaterina/Documents/001_science/lcs/2022_08_02_Kepler-82_10_altai_1.fits.\n",
      "date: 2022_08_02\n",
      "LC successfully detrended.\n"
     ]
    },
    {
     "name": "stderr",
     "output_type": "stream",
     "text": [
      "Found 1 candidate(s) in the (0,44062) gap.\n"
     ]
    },
    {
     "name": "stdout",
     "output_type": "stream",
     "text": [
      "Transit midtime in Kepler time: 135.08185999980196\n",
      "Flares found:\n",
      "       tstart       tstop     phase  ampl_rec       dur\n",
      "0  973.892521  973.897289  0.003521  0.041866  0.004768\n",
      "Wrote out LC to /home/ekaterina/Documents/001_science/lcs/2022_08_02_Kepler-82_10_altai_2.fits.\n",
      "Get Kepler Sector/Quarter 11, TIC 63372898, Kepler-82, short cadence.\n"
     ]
    },
    {
     "name": "stderr",
     "output_type": "stream",
     "text": [
      "/home/ekaterina/Documents/000_envs/python37/lib/python3.7/site-packages/lightkurve/io/kepler.py:38: ResourceWarning: unclosed file <_io.FileIO name='/home/ekaterina/Documents/001_science/lcs/mastDownload/Kepler/kplr007366258_sc_Q000000033333333332/kplr007366258-2011303113607_slc.fits' mode='rb' closefd=True>\n",
      "  time_format=\"bkjd\",\n",
      "1% (436/45630) of the cadences will be ignored due to the quality mask (quality_bitmask=1130799).\n",
      "1% (436/45630) of the cadences will be ignored due to the quality mask (quality_bitmask=1130799).\n",
      "/home/ekaterina/Documents/000_envs/python37/lib/python3.7/site-packages/lightkurve/io/kepler.py:38: ResourceWarning: unclosed file <_io.FileIO name='/home/ekaterina/Documents/001_science/lcs/mastDownload/Kepler/kplr007366258_sc_Q000000033333333332/kplr007366258-2011334093404_slc.fits' mode='rb' closefd=True>\n",
      "  time_format=\"bkjd\",\n",
      "2% (797/44340) of the cadences will be ignored due to the quality mask (quality_bitmask=1130799).\n",
      "2% (797/44340) of the cadences will be ignored due to the quality mask (quality_bitmask=1130799).\n",
      "/home/ekaterina/Documents/000_envs/python37/lib/python3.7/site-packages/lightkurve/io/kepler.py:38: ResourceWarning: unclosed file <_io.FileIO name='/home/ekaterina/Documents/001_science/lcs/mastDownload/Kepler/kplr007366258_sc_Q000000033333333332/kplr007366258-2012004120508_slc.fits' mode='rb' closefd=True>\n",
      "  time_format=\"bkjd\",\n",
      "1% (518/46830) of the cadences will be ignored due to the quality mask (quality_bitmask=1130799).\n",
      "1% (518/46830) of the cadences will be ignored due to the quality mask (quality_bitmask=1130799).\n"
     ]
    },
    {
     "name": "stdout",
     "output_type": "stream",
     "text": [
      "3 LCs found for Kepler, Kepler-82, Quarter 11.\n",
      "date: 2022_08_02\n",
      "LC successfully detrended.\n"
     ]
    },
    {
     "name": "stderr",
     "output_type": "stream",
     "text": [
      "Found 0 candidate(s) in the (0,45183) gap.\n"
     ]
    },
    {
     "name": "stdout",
     "output_type": "stream",
     "text": [
      "Transit midtime in Kepler time: 135.08185999980196\n",
      "No flares found in LC.\n",
      "Wrote out LC to /home/ekaterina/Documents/001_science/lcs/2022_08_02_Kepler-82_11_altai_0.fits.\n",
      "date: 2022_08_02\n",
      "LC successfully detrended.\n"
     ]
    },
    {
     "name": "stderr",
     "output_type": "stream",
     "text": [
      "Found 0 candidate(s) in the (0,43543) gap.\n"
     ]
    },
    {
     "name": "stdout",
     "output_type": "stream",
     "text": [
      "Transit midtime in Kepler time: 135.08185999980196\n",
      "No flares found in LC.\n",
      "Wrote out LC to /home/ekaterina/Documents/001_science/lcs/2022_08_02_Kepler-82_11_altai_1.fits.\n",
      "date: 2022_08_02\n",
      "LC successfully detrended.\n"
     ]
    },
    {
     "name": "stderr",
     "output_type": "stream",
     "text": [
      "/home/ekaterina/Documents/000_envs/python37/lib/python3.7/site-packages/numpy/lib/nanfunctions.py:1117: RuntimeWarning: Mean of empty slice\n",
      "  return np.nanmean(a, axis, out=out, keepdims=keepdims)\n",
      "Found 0 candidate(s) in the (0,8640) gap.\n",
      "Found 0 candidate(s) in the (8640,46311) gap.\n"
     ]
    },
    {
     "name": "stdout",
     "output_type": "stream",
     "text": [
      "Transit midtime in Kepler time: 135.08185999980196\n",
      "No flares found in LC.\n",
      "Wrote out LC to /home/ekaterina/Documents/001_science/lcs/2022_08_02_Kepler-82_11_altai_2.fits.\n",
      "Get TESS Sector/Quarter 40, TIC 63372898, Kepler-82, short cadence.\n"
     ]
    },
    {
     "name": "stderr",
     "output_type": "stream",
     "text": [
      "/home/ekaterina/Documents/000_envs/python37/lib/python3.7/site-packages/lightkurve/io/tess.py:34: ResourceWarning: unclosed file <_io.FileIO name='/home/ekaterina/Documents/001_science/lcs/mastDownload/TESS/tess2021175071901-s0040-0000000063372898-0211-s/tess2021175071901-s0040-0000000063372898-0211-s_lc.fits' mode='rb' closefd=True>\n",
      "  lc = read_generic_lightcurve(filename, flux_column=flux_column, time_format=\"btjd\")\n",
      "0% (32/19643) of the cadences will be ignored due to the quality mask (quality_bitmask=175).\n",
      "0% (32/19643) of the cadences will be ignored due to the quality mask (quality_bitmask=175).\n"
     ]
    },
    {
     "name": "stdout",
     "output_type": "stream",
     "text": [
      "date: 2022_08_02\n",
      "LC successfully detrended.\n"
     ]
    },
    {
     "name": "stderr",
     "output_type": "stream",
     "text": [
      "/home/ekaterina/Documents/000_envs/python37/lib/python3.7/site-packages/numpy/lib/nanfunctions.py:1117: RuntimeWarning: Mean of empty slice\n",
      "  return np.nanmean(a, axis, out=out, keepdims=keepdims)\n",
      "Found 0 candidate(s) in the (0,9882) gap.\n",
      "Found 0 candidate(s) in the (9882,19611) gap.\n"
     ]
    },
    {
     "name": "stdout",
     "output_type": "stream",
     "text": [
      "Transit midtime in TESS time: -2031.918140000198\n",
      "No flares found in LC.\n",
      "Wrote out LC to /home/ekaterina/Documents/001_science/lcs/2022_08_02_63372898_40_altai_0.fits.\n",
      "Get TESS Sector/Quarter 41, TIC 63372898, Kepler-82, short cadence.\n"
     ]
    },
    {
     "name": "stderr",
     "output_type": "stream",
     "text": [
      "/home/ekaterina/Documents/000_envs/python37/lib/python3.7/site-packages/lightkurve/io/tess.py:34: ResourceWarning: unclosed file <_io.FileIO name='/home/ekaterina/Documents/001_science/lcs/mastDownload/TESS/tess2021204101404-s0041-0000000063372898-0212-s/tess2021204101404-s0041-0000000063372898-0212-s_lc.fits' mode='rb' closefd=True>\n",
      "  lc = read_generic_lightcurve(filename, flux_column=flux_column, time_format=\"btjd\")\n",
      "0% (26/18348) of the cadences will be ignored due to the quality mask (quality_bitmask=175).\n",
      "0% (26/18348) of the cadences will be ignored due to the quality mask (quality_bitmask=175).\n"
     ]
    },
    {
     "name": "stdout",
     "output_type": "stream",
     "text": [
      "date: 2022_08_02\n",
      "LC successfully detrended.\n"
     ]
    },
    {
     "name": "stderr",
     "output_type": "stream",
     "text": [
      "/home/ekaterina/Documents/000_envs/python37/lib/python3.7/site-packages/numpy/lib/nanfunctions.py:1117: RuntimeWarning: Mean of empty slice\n",
      "  return np.nanmean(a, axis, out=out, keepdims=keepdims)\n",
      "Found 0 candidate(s) in the (0,9071) gap.\n",
      "Found 0 candidate(s) in the (9071,18322) gap.\n",
      "/home/ekaterina/Documents/000_envs/python37/lib/python3.7/site-packages/ipykernel_launcher.py:88: LightkurveDeprecationWarning: The search_lightcurvefile function is deprecated and may be removed in a future version.\n",
      "        Use search_lightcurve() instead.\n"
     ]
    },
    {
     "name": "stdout",
     "output_type": "stream",
     "text": [
      "Transit midtime in TESS time: -2031.918140000198\n",
      "No flares found in LC.\n",
      "Wrote out LC to /home/ekaterina/Documents/001_science/lcs/2022_08_02_63372898_41_altai_0.fits.\n",
      "\n",
      "---------------------\n",
      "3 flares found!\n",
      "-------------------\n",
      "\n",
      "(0, 0)\n"
     ]
    },
    {
     "name": "stderr",
     "output_type": "stream",
     "text": [
      "/home/ekaterina/Documents/000_envs/python37/lib/python3.7/site-packages/ipykernel_launcher.py:88: LightkurveDeprecationWarning: The search_lightcurvefile function is deprecated and may be removed in a future version.\n",
      "        Use search_lightcurve() instead.\n",
      "/home/ekaterina/Documents/000_envs/python37/lib/python3.7/site-packages/ipykernel_launcher.py:88: LightkurveDeprecationWarning: The search_lightcurvefile function is deprecated and may be removed in a future version.\n",
      "        Use search_lightcurve() instead.\n",
      "/home/ekaterina/Documents/000_envs/python37/lib/python3.7/site-packages/ipykernel_launcher.py:88: LightkurveDeprecationWarning: The search_lightcurvefile function is deprecated and may be removed in a future version.\n",
      "        Use search_lightcurve() instead.\n"
     ]
    },
    {
     "name": "stdout",
     "output_type": "stream",
     "text": [
      "Get TESS Sector/Quarter 40, TIC 63452310, Kepler-1323, short cadence.\n"
     ]
    },
    {
     "name": "stderr",
     "output_type": "stream",
     "text": [
      "/home/ekaterina/Documents/000_envs/python37/lib/python3.7/site-packages/lightkurve/io/tess.py:34: ResourceWarning: unclosed file <_io.FileIO name='/home/ekaterina/Documents/001_science/lcs/mastDownload/TESS/tess2021175071901-s0040-0000000063452310-0211-s/tess2021175071901-s0040-0000000063452310-0211-s_lc.fits' mode='rb' closefd=True>\n",
      "  lc = read_generic_lightcurve(filename, flux_column=flux_column, time_format=\"btjd\")\n",
      "0% (32/19643) of the cadences will be ignored due to the quality mask (quality_bitmask=175).\n",
      "0% (32/19643) of the cadences will be ignored due to the quality mask (quality_bitmask=175).\n"
     ]
    },
    {
     "name": "stdout",
     "output_type": "stream",
     "text": [
      "date: 2022_08_02\n",
      "LC successfully detrended.\n"
     ]
    },
    {
     "name": "stderr",
     "output_type": "stream",
     "text": [
      "/home/ekaterina/Documents/000_envs/python37/lib/python3.7/site-packages/numpy/lib/nanfunctions.py:1117: RuntimeWarning: Mean of empty slice\n",
      "  return np.nanmean(a, axis, out=out, keepdims=keepdims)\n",
      "Found 0 candidate(s) in the (0,602) gap.\n",
      "Found 0 candidate(s) in the (602,9320) gap.\n",
      "Found 0 candidate(s) in the (9320,19049) gap.\n"
     ]
    },
    {
     "name": "stdout",
     "output_type": "stream",
     "text": [
      "Transit midtime in TESS time: -2034.7492490001023\n",
      "No flares found in LC.\n",
      "Wrote out LC to /home/ekaterina/Documents/001_science/lcs/2022_08_02_63452310_40_altai_0.fits.\n",
      "Get TESS Sector/Quarter 41, TIC 63452310, Kepler-1323, short cadence.\n"
     ]
    },
    {
     "name": "stderr",
     "output_type": "stream",
     "text": [
      "/home/ekaterina/Documents/000_envs/python37/lib/python3.7/site-packages/lightkurve/io/tess.py:34: ResourceWarning: unclosed file <_io.FileIO name='/home/ekaterina/Documents/001_science/lcs/mastDownload/TESS/tess2021204101404-s0041-0000000063452310-0212-s/tess2021204101404-s0041-0000000063452310-0212-s_lc.fits' mode='rb' closefd=True>\n",
      "  lc = read_generic_lightcurve(filename, flux_column=flux_column, time_format=\"btjd\")\n",
      "0% (26/18348) of the cadences will be ignored due to the quality mask (quality_bitmask=175).\n",
      "0% (26/18348) of the cadences will be ignored due to the quality mask (quality_bitmask=175).\n"
     ]
    },
    {
     "name": "stdout",
     "output_type": "stream",
     "text": [
      "date: 2022_08_02\n",
      "LC successfully detrended.\n"
     ]
    },
    {
     "name": "stderr",
     "output_type": "stream",
     "text": [
      "/home/ekaterina/Documents/000_envs/python37/lib/python3.7/site-packages/numpy/lib/nanfunctions.py:1117: RuntimeWarning: Mean of empty slice\n",
      "  return np.nanmean(a, axis, out=out, keepdims=keepdims)\n",
      "Found 0 candidate(s) in the (0,9071) gap.\n",
      "Found 0 candidate(s) in the (9071,18322) gap.\n",
      "/home/ekaterina/Documents/000_envs/python37/lib/python3.7/site-packages/ipykernel_launcher.py:88: LightkurveDeprecationWarning: The search_lightcurvefile function is deprecated and may be removed in a future version.\n",
      "        Use search_lightcurve() instead.\n"
     ]
    },
    {
     "name": "stdout",
     "output_type": "stream",
     "text": [
      "Transit midtime in TESS time: -2034.7492490001023\n",
      "No flares found in LC.\n",
      "Wrote out LC to /home/ekaterina/Documents/001_science/lcs/2022_08_02_63452310_41_altai_0.fits.\n",
      "\n",
      "---------------------\n",
      "0 flares found!\n",
      "-------------------\n",
      "\n",
      "(0, 0)\n",
      "Get Kepler Sector/Quarter 04, TIC 63452790, Kepler-423, short cadence.\n",
      "No LC found for Kepler, Kepler-423, Quarter 04.\n",
      "Get Kepler Sector/Quarter 13, TIC 63452790, Kepler-423, short cadence.\n"
     ]
    },
    {
     "name": "stderr",
     "output_type": "stream",
     "text": [
      "/home/ekaterina/Documents/000_envs/python37/lib/python3.7/site-packages/lightkurve/io/kepler.py:38: ResourceWarning: unclosed file <_io.FileIO name='/home/ekaterina/Documents/001_science/lcs/mastDownload/Kepler/kplr009651668_sc_Q000033333000030000/kplr009651668-2012121044856_slc.fits' mode='rb' closefd=True>\n",
      "  time_format=\"bkjd\",\n",
      "1% (563/47370) of the cadences will be ignored due to the quality mask (quality_bitmask=1130799).\n",
      "1% (563/47370) of the cadences will be ignored due to the quality mask (quality_bitmask=1130799).\n",
      "/home/ekaterina/Documents/000_envs/python37/lib/python3.7/site-packages/lightkurve/io/kepler.py:38: ResourceWarning: unclosed file <_io.FileIO name='/home/ekaterina/Documents/001_science/lcs/mastDownload/Kepler/kplr009651668_sc_Q000033333000030000/kplr009651668-2012151031540_slc.fits' mode='rb' closefd=True>\n",
      "  time_format=\"bkjd\",\n",
      "1% (448/42930) of the cadences will be ignored due to the quality mask (quality_bitmask=1130799).\n",
      "1% (448/42930) of the cadences will be ignored due to the quality mask (quality_bitmask=1130799).\n",
      "/home/ekaterina/Documents/000_envs/python37/lib/python3.7/site-packages/lightkurve/io/kepler.py:38: ResourceWarning: unclosed file <_io.FileIO name='/home/ekaterina/Documents/001_science/lcs/mastDownload/Kepler/kplr009651668_sc_Q000033333000030000/kplr009651668-2012179063303_slc.fits' mode='rb' closefd=True>\n",
      "  time_format=\"bkjd\",\n",
      "2% (867/39990) of the cadences will be ignored due to the quality mask (quality_bitmask=1130799).\n",
      "2% (867/39990) of the cadences will be ignored due to the quality mask (quality_bitmask=1130799).\n"
     ]
    },
    {
     "name": "stdout",
     "output_type": "stream",
     "text": [
      "3 LCs found for Kepler, Kepler-423, Quarter 13.\n",
      "date: 2022_08_02\n"
     ]
    },
    {
     "name": "stderr",
     "output_type": "stream",
     "text": [
      "/home/ekaterina/Documents/001_science/Flaring_SPI/notebooks/funcs/detrend.py:364: RuntimeWarning: overflow encountered in exp\n",
      "  return a * np.exp(b * (c - x)) + d * np.exp(e * (f - x)) + g\n",
      "/home/ekaterina/Documents/001_science/Flaring_SPI/notebooks/funcs/detrend.py:364: RuntimeWarning: overflow encountered in multiply\n",
      "  return a * np.exp(b * (c - x)) + d * np.exp(e * (f - x)) + g\n"
     ]
    },
    {
     "name": "stdout",
     "output_type": "stream",
     "text": [
      "LC successfully detrended.\n"
     ]
    },
    {
     "name": "stderr",
     "output_type": "stream",
     "text": [
      "Found 6 candidate(s) in the (0,46806) gap.\n"
     ]
    },
    {
     "name": "stdout",
     "output_type": "stream",
     "text": [
      "Transit midtime in Kepler time: 133.3548099999316\n",
      "Flares found:\n",
      "        tstart        tstop     phase  ampl_rec       dur\n",
      "0  1182.743294  1182.835247  0.931469  0.007540  0.091953\n",
      "1  1182.865217  1182.869985  0.976889  0.006493  0.004768\n",
      "2  1182.990546  1182.997358  0.023579  0.004644  0.006811\n",
      "3  1183.031415  1183.034139  0.038803  0.005323  0.002725\n",
      "4  1183.043675  1183.045719  0.043371  0.003854  0.002043\n",
      "5  1183.057979  1183.060022  0.048700  0.003212  0.002043\n",
      "Wrote out LC to /home/ekaterina/Documents/001_science/lcs/2022_08_02_Kepler-423_13_altai_0.fits.\n",
      "date: 2022_08_02\n"
     ]
    },
    {
     "name": "stderr",
     "output_type": "stream",
     "text": [
      "/home/ekaterina/Documents/001_science/Flaring_SPI/notebooks/funcs/detrend.py:364: RuntimeWarning: overflow encountered in exp\n",
      "  return a * np.exp(b * (c - x)) + d * np.exp(e * (f - x)) + g\n",
      "/home/ekaterina/Documents/001_science/Flaring_SPI/notebooks/funcs/detrend.py:364: RuntimeWarning: overflow encountered in multiply\n",
      "  return a * np.exp(b * (c - x)) + d * np.exp(e * (f - x)) + g\n"
     ]
    },
    {
     "name": "stdout",
     "output_type": "stream",
     "text": [
      "LC successfully detrended.\n"
     ]
    },
    {
     "name": "stderr",
     "output_type": "stream",
     "text": [
      "Found 12 candidate(s) in the (0,42289) gap.\n"
     ]
    },
    {
     "name": "stdout",
     "output_type": "stream",
     "text": [
      "Transit midtime in Kepler time: 133.3548099999316\n",
      "Flares found:\n",
      "         tstart        tstop     phase  ampl_rec       dur\n",
      "0   1244.725323  1244.727367  0.021798  0.004669  0.002043\n",
      "1   1244.764830  1244.772322  0.036516  0.004056  0.007493\n",
      "2   1244.796844  1244.798887  0.048442  0.006492  0.002043\n",
      "3   1244.803655  1244.808423  0.050980  0.005044  0.004768\n",
      "4   1244.811829  1244.815234  0.054025  0.003685  0.003406\n",
      "5   1244.823408  1244.828176  0.058338  0.005194  0.004768\n",
      "6   1244.830901  1244.834307  0.061130  0.005190  0.003406\n",
      "7   1244.839075  1244.854060  0.064175  0.003678  0.014985\n",
      "8   1244.859509  1244.864958  0.071787  0.005069  0.005449\n",
      "9   1244.870407  1244.876538  0.075847  0.004530  0.006130\n",
      "10  1244.887436  1244.890161  0.082191  0.004073  0.002725\n",
      "11  1244.894248  1244.928305  0.084728  0.006491  0.034057\n",
      "Wrote out LC to /home/ekaterina/Documents/001_science/lcs/2022_08_02_Kepler-423_13_altai_1.fits.\n",
      "date: 2022_08_02\n",
      "LC successfully detrended.\n"
     ]
    },
    {
     "name": "stderr",
     "output_type": "stream",
     "text": [
      "/home/ekaterina/Documents/000_envs/python37/lib/python3.7/site-packages/numpy/lib/nanfunctions.py:1117: RuntimeWarning: Mean of empty slice\n",
      "  return np.nanmean(a, axis, out=out, keepdims=keepdims)\n",
      "Found 0 candidate(s) in the (0,33464) gap.\n",
      "Found 0 candidate(s) in the (33464,39121) gap.\n"
     ]
    },
    {
     "name": "stdout",
     "output_type": "stream",
     "text": [
      "Transit midtime in Kepler time: 133.3548099999316\n",
      "No flares found in LC.\n",
      "Wrote out LC to /home/ekaterina/Documents/001_science/lcs/2022_08_02_Kepler-423_13_altai_2.fits.\n",
      "Get Kepler Sector/Quarter 08, TIC 63452790, Kepler-423, short cadence.\n",
      "No LC found for Kepler, Kepler-423, Quarter 08.\n",
      "Get Kepler Sector/Quarter 07, TIC 63452790, Kepler-423, short cadence.\n",
      "No LC found for Kepler, Kepler-423, Quarter 07.\n",
      "Get Kepler Sector/Quarter 06, TIC 63452790, Kepler-423, short cadence.\n",
      "No LC found for Kepler, Kepler-423, Quarter 06.\n",
      "Get Kepler Sector/Quarter 05, TIC 63452790, Kepler-423, short cadence.\n",
      "No LC found for Kepler, Kepler-423, Quarter 05.\n",
      "Get TESS Sector/Quarter 40, TIC 63452790, Kepler-423, short cadence.\n"
     ]
    },
    {
     "name": "stderr",
     "output_type": "stream",
     "text": [
      "/home/ekaterina/Documents/000_envs/python37/lib/python3.7/site-packages/lightkurve/io/tess.py:34: ResourceWarning: unclosed file <_io.FileIO name='/home/ekaterina/Documents/001_science/lcs/mastDownload/TESS/tess2021175071901-s0040-0000000063452790-0211-s/tess2021175071901-s0040-0000000063452790-0211-s_lc.fits' mode='rb' closefd=True>\n",
      "  lc = read_generic_lightcurve(filename, flux_column=flux_column, time_format=\"btjd\")\n",
      "0% (32/19643) of the cadences will be ignored due to the quality mask (quality_bitmask=175).\n",
      "0% (32/19643) of the cadences will be ignored due to the quality mask (quality_bitmask=175).\n"
     ]
    },
    {
     "name": "stdout",
     "output_type": "stream",
     "text": [
      "date: 2022_08_02\n",
      "LC successfully detrended.\n"
     ]
    },
    {
     "name": "stderr",
     "output_type": "stream",
     "text": [
      "/home/ekaterina/Documents/000_envs/python37/lib/python3.7/site-packages/numpy/lib/nanfunctions.py:1117: RuntimeWarning: Mean of empty slice\n",
      "  return np.nanmean(a, axis, out=out, keepdims=keepdims)\n",
      "Found 0 candidate(s) in the (0,542) gap.\n",
      "Found 0 candidate(s) in the (542,8818) gap.\n",
      "Found 0 candidate(s) in the (8818,9670) gap.\n",
      "Found 0 candidate(s) in the (9670,18330) gap.\n"
     ]
    },
    {
     "name": "stdout",
     "output_type": "stream",
     "text": [
      "Transit midtime in TESS time: 2392.813779000193\n",
      "No flares found in LC.\n",
      "Wrote out LC to /home/ekaterina/Documents/001_science/lcs/2022_08_02_63452790_40_altai_0.fits.\n",
      "Get TESS Sector/Quarter 41, TIC 63452790, Kepler-423, short cadence.\n"
     ]
    },
    {
     "name": "stderr",
     "output_type": "stream",
     "text": [
      "/home/ekaterina/Documents/000_envs/python37/lib/python3.7/site-packages/lightkurve/io/tess.py:34: ResourceWarning: unclosed file <_io.FileIO name='/home/ekaterina/Documents/001_science/lcs/mastDownload/TESS/tess2021204101404-s0041-0000000063452790-0212-s/tess2021204101404-s0041-0000000063452790-0212-s_lc.fits' mode='rb' closefd=True>\n",
      "  lc = read_generic_lightcurve(filename, flux_column=flux_column, time_format=\"btjd\")\n",
      "0% (26/18348) of the cadences will be ignored due to the quality mask (quality_bitmask=175).\n",
      "0% (26/18348) of the cadences will be ignored due to the quality mask (quality_bitmask=175).\n"
     ]
    },
    {
     "name": "stdout",
     "output_type": "stream",
     "text": [
      "date: 2022_08_02\n",
      "LC successfully detrended.\n"
     ]
    },
    {
     "name": "stderr",
     "output_type": "stream",
     "text": [
      "/home/ekaterina/Documents/000_envs/python37/lib/python3.7/site-packages/numpy/lib/nanfunctions.py:1117: RuntimeWarning: Mean of empty slice\n",
      "  return np.nanmean(a, axis, out=out, keepdims=keepdims)\n",
      "Found 0 candidate(s) in the (0,9071) gap.\n",
      "Found 0 candidate(s) in the (9071,18322) gap.\n",
      "/home/ekaterina/Documents/000_envs/python37/lib/python3.7/site-packages/ipykernel_launcher.py:88: LightkurveDeprecationWarning: The search_lightcurvefile function is deprecated and may be removed in a future version.\n",
      "        Use search_lightcurve() instead.\n"
     ]
    },
    {
     "name": "stdout",
     "output_type": "stream",
     "text": [
      "Transit midtime in TESS time: 2392.813779000193\n",
      "No flares found in LC.\n",
      "Wrote out LC to /home/ekaterina/Documents/001_science/lcs/2022_08_02_63452790_41_altai_0.fits.\n",
      "\n",
      "---------------------\n",
      "18 flares found!\n",
      "-------------------\n",
      "\n",
      "(0, 0)\n"
     ]
    },
    {
     "name": "stderr",
     "output_type": "stream",
     "text": [
      "/home/ekaterina/Documents/000_envs/python37/lib/python3.7/site-packages/ipykernel_launcher.py:88: LightkurveDeprecationWarning: The search_lightcurvefile function is deprecated and may be removed in a future version.\n",
      "        Use search_lightcurve() instead.\n",
      "Could not resolve K2-288 B to a sky position.\n",
      "Could not resolve K2-288 B to a sky position.\n",
      "/home/ekaterina/Documents/000_envs/python37/lib/python3.7/site-packages/ipykernel_launcher.py:93: LightkurveDeprecationWarning: The search_lightcurvefile function is deprecated and may be removed in a future version.\n",
      "        Use search_lightcurve() instead.\n"
     ]
    },
    {
     "name": "stdout",
     "output_type": "stream",
     "text": [
      "Get TESS Sector/Quarter 42, TIC 640381384, K2-288 B, short cadence.\n"
     ]
    },
    {
     "name": "stderr",
     "output_type": "stream",
     "text": [
      "/home/ekaterina/Documents/000_envs/python37/lib/python3.7/site-packages/lightkurve/io/tess.py:34: ResourceWarning: unclosed file <_io.FileIO name='/home/ekaterina/Documents/001_science/lcs/mastDownload/TESS/tess2021232031932-s0042-0000000640381384-0213-s/tess2021232031932-s0042-0000000640381384-0213-s_lc.fits' mode='rb' closefd=True>\n",
      "  lc = read_generic_lightcurve(filename, flux_column=flux_column, time_format=\"btjd\")\n",
      "2% (307/17674) of the cadences will be ignored due to the quality mask (quality_bitmask=175).\n",
      "2% (307/17674) of the cadences will be ignored due to the quality mask (quality_bitmask=175).\n"
     ]
    },
    {
     "name": "stdout",
     "output_type": "stream",
     "text": [
      "date: 2022_08_02\n",
      "LC successfully detrended.\n"
     ]
    },
    {
     "name": "stderr",
     "output_type": "stream",
     "text": [
      "/home/ekaterina/Documents/000_envs/python37/lib/python3.7/site-packages/numpy/lib/nanfunctions.py:1117: RuntimeWarning: Mean of empty slice\n",
      "  return np.nanmean(a, axis, out=out, keepdims=keepdims)\n",
      "Found 0 candidate(s) in the (0,5849) gap.\n",
      "Found 0 candidate(s) in the (5849,12172) gap.\n"
     ]
    },
    {
     "name": "stdout",
     "output_type": "stream",
     "text": [
      "Transit midtime in TESS time: 63.40236600022763\n",
      "No flares found in LC.\n",
      "Wrote out LC to /home/ekaterina/Documents/001_science/lcs/2022_08_02_640381384_42_altai_0.fits.\n",
      "Get TESS Sector/Quarter 43, TIC 640381384, K2-288 B, short cadence.\n"
     ]
    },
    {
     "name": "stderr",
     "output_type": "stream",
     "text": [
      "/home/ekaterina/Documents/000_envs/python37/lib/python3.7/site-packages/lightkurve/io/tess.py:34: ResourceWarning: unclosed file <_io.FileIO name='/home/ekaterina/Documents/001_science/lcs/mastDownload/TESS/tess2021258175143-s0043-0000000640381384-0214-s/tess2021258175143-s0043-0000000640381384-0214-s_lc.fits' mode='rb' closefd=True>\n",
      "  lc = read_generic_lightcurve(filename, flux_column=flux_column, time_format=\"btjd\")\n",
      "0% (33/17050) of the cadences will be ignored due to the quality mask (quality_bitmask=175).\n",
      "0% (33/17050) of the cadences will be ignored due to the quality mask (quality_bitmask=175).\n"
     ]
    },
    {
     "name": "stdout",
     "output_type": "stream",
     "text": [
      "date: 2022_08_02\n",
      "LC successfully detrended.\n"
     ]
    },
    {
     "name": "stderr",
     "output_type": "stream",
     "text": [
      "/home/ekaterina/Documents/000_envs/python37/lib/python3.7/site-packages/numpy/lib/nanfunctions.py:1117: RuntimeWarning: Mean of empty slice\n",
      "  return np.nanmean(a, axis, out=out, keepdims=keepdims)\n",
      "Found 0 candidate(s) in the (0,7494) gap.\n",
      "Found 0 candidate(s) in the (7494,15634) gap.\n"
     ]
    },
    {
     "name": "stdout",
     "output_type": "stream",
     "text": [
      "Transit midtime in TESS time: 63.40236600022763\n",
      "No flares found in LC.\n",
      "Wrote out LC to /home/ekaterina/Documents/001_science/lcs/2022_08_02_640381384_43_altai_0.fits.\n",
      "Get TESS Sector/Quarter 44, TIC 640381384, K2-288 B, short cadence.\n"
     ]
    },
    {
     "name": "stderr",
     "output_type": "stream",
     "text": [
      "/home/ekaterina/Documents/000_envs/python37/lib/python3.7/site-packages/lightkurve/io/tess.py:34: ResourceWarning: unclosed file <_io.FileIO name='/home/ekaterina/Documents/001_science/lcs/mastDownload/TESS/tess2021284114741-s0044-0000000640381384-0215-s/tess2021284114741-s0044-0000000640381384-0215-s_lc.fits' mode='rb' closefd=True>\n",
      "  lc = read_generic_lightcurve(filename, flux_column=flux_column, time_format=\"btjd\")\n",
      "0% (45/16405) of the cadences will be ignored due to the quality mask (quality_bitmask=175).\n",
      "0% (45/16405) of the cadences will be ignored due to the quality mask (quality_bitmask=175).\n"
     ]
    },
    {
     "name": "stdout",
     "output_type": "stream",
     "text": [
      "date: 2022_08_02\n",
      "LC successfully detrended.\n"
     ]
    },
    {
     "name": "stderr",
     "output_type": "stream",
     "text": [
      "/home/ekaterina/Documents/000_envs/python37/lib/python3.7/site-packages/numpy/lib/nanfunctions.py:1117: RuntimeWarning: Mean of empty slice\n",
      "  return np.nanmean(a, axis, out=out, keepdims=keepdims)\n",
      "Found 0 candidate(s) in the (0,7592) gap.\n",
      "Found 0 candidate(s) in the (7592,15662) gap.\n",
      "/home/ekaterina/Documents/000_envs/python37/lib/python3.7/site-packages/ipykernel_launcher.py:88: LightkurveDeprecationWarning: The search_lightcurvefile function is deprecated and may be removed in a future version.\n",
      "        Use search_lightcurve() instead.\n"
     ]
    },
    {
     "name": "stdout",
     "output_type": "stream",
     "text": [
      "Transit midtime in TESS time: 63.40236600022763\n",
      "No flares found in LC.\n",
      "Wrote out LC to /home/ekaterina/Documents/001_science/lcs/2022_08_02_640381384_44_altai_0.fits.\n",
      "\n",
      "---------------------\n",
      "0 flares found!\n",
      "-------------------\n",
      "\n",
      "(0, 0)\n",
      "Get TESS Sector/Quarter 33, TIC 66561343, TOI-892, short cadence.\n"
     ]
    },
    {
     "name": "stderr",
     "output_type": "stream",
     "text": [
      "/home/ekaterina/Documents/000_envs/python37/lib/python3.7/site-packages/lightkurve/io/tess.py:34: ResourceWarning: unclosed file <_io.FileIO name='/home/ekaterina/Documents/001_science/lcs/mastDownload/TESS/tess2020351194500-s0033-0000000066561343-0203-s/tess2020351194500-s0033-0000000066561343-0203-s_lc.fits' mode='rb' closefd=True>\n",
      "  lc = read_generic_lightcurve(filename, flux_column=flux_column, time_format=\"btjd\")\n",
      "0% (25/17483) of the cadences will be ignored due to the quality mask (quality_bitmask=175).\n",
      "0% (25/17483) of the cadences will be ignored due to the quality mask (quality_bitmask=175).\n"
     ]
    },
    {
     "name": "stdout",
     "output_type": "stream",
     "text": [
      "date: 2022_08_02\n",
      "LC successfully detrended.\n"
     ]
    },
    {
     "name": "stderr",
     "output_type": "stream",
     "text": [
      "/home/ekaterina/Documents/000_envs/python37/lib/python3.7/site-packages/numpy/lib/nanfunctions.py:1117: RuntimeWarning: Mean of empty slice\n",
      "  return np.nanmean(a, axis, out=out, keepdims=keepdims)\n",
      "Found 0 candidate(s) in the (0,8727) gap.\n",
      "Found 0 candidate(s) in the (8727,17458) gap.\n",
      "/home/ekaterina/Documents/000_envs/python37/lib/python3.7/site-packages/ipykernel_launcher.py:88: LightkurveDeprecationWarning: The search_lightcurvefile function is deprecated and may be removed in a future version.\n",
      "        Use search_lightcurve() instead.\n"
     ]
    },
    {
     "name": "stdout",
     "output_type": "stream",
     "text": [
      "Transit midtime in TESS time: 2219.5520739997737\n",
      "No flares found in LC.\n",
      "Wrote out LC to /home/ekaterina/Documents/001_science/lcs/2022_08_02_66561343_33_altai_0.fits.\n",
      "\n",
      "---------------------\n",
      "0 flares found!\n",
      "-------------------\n",
      "\n",
      "(0, 0)\n",
      "Get TESS Sector/Quarter 13, TIC 6663331, HATS-28, short cadence.\n"
     ]
    },
    {
     "name": "stderr",
     "output_type": "stream",
     "text": [
      "/home/ekaterina/Documents/000_envs/python37/lib/python3.7/site-packages/lightkurve/io/tess.py:34: ResourceWarning: unclosed file <_io.FileIO name='/home/ekaterina/Documents/001_science/lcs/mastDownload/TESS/tess2019169103026-s0013-0000000006663331-0146-s/tess2019169103026-s0013-0000000006663331-0146-s_lc.fits' mode='rb' closefd=True>\n",
      "  lc = read_generic_lightcurve(filename, flux_column=flux_column, time_format=\"btjd\")\n",
      "2% (370/19811) of the cadences will be ignored due to the quality mask (quality_bitmask=175).\n",
      "2% (370/19811) of the cadences will be ignored due to the quality mask (quality_bitmask=175).\n"
     ]
    },
    {
     "name": "stdout",
     "output_type": "stream",
     "text": [
      "date: 2022_08_02\n",
      "LC successfully detrended.\n"
     ]
    },
    {
     "name": "stderr",
     "output_type": "stream",
     "text": [
      "/home/ekaterina/Documents/000_envs/python37/lib/python3.7/site-packages/numpy/lib/nanfunctions.py:1117: RuntimeWarning: Mean of empty slice\n",
      "  return np.nanmean(a, axis, out=out, keepdims=keepdims)\n",
      "Found 0 candidate(s) in the (0,736) gap.\n",
      "Found 0 candidate(s) in the (736,6920) gap.\n",
      "Found 0 candidate(s) in the (6920,16648) gap.\n",
      "/home/ekaterina/Documents/000_envs/python37/lib/python3.7/site-packages/ipykernel_launcher.py:88: LightkurveDeprecationWarning: The search_lightcurvefile function is deprecated and may be removed in a future version.\n",
      "        Use search_lightcurve() instead.\n"
     ]
    },
    {
     "name": "stdout",
     "output_type": "stream",
     "text": [
      "Transit midtime in TESS time: 1656.6332310000435\n",
      "No flares found in LC.\n",
      "Wrote out LC to /home/ekaterina/Documents/001_science/lcs/2022_08_02_6663331_13_altai_0.fits.\n",
      "\n",
      "---------------------\n",
      "0 flares found!\n",
      "-------------------\n",
      "\n",
      "(0, 0)\n"
     ]
    },
    {
     "name": "stderr",
     "output_type": "stream",
     "text": [
      "/home/ekaterina/Documents/000_envs/python37/lib/python3.7/site-packages/ipykernel_launcher.py:88: LightkurveDeprecationWarning: The search_lightcurvefile function is deprecated and may be removed in a future version.\n",
      "        Use search_lightcurve() instead.\n"
     ]
    },
    {
     "name": "stdout",
     "output_type": "stream",
     "text": [
      "Get TESS Sector/Quarter 12, TIC 66818296, WASP-17, short cadence.\n"
     ]
    },
    {
     "name": "stderr",
     "output_type": "stream",
     "text": [
      "/home/ekaterina/Documents/000_envs/python37/lib/python3.7/site-packages/lightkurve/io/tess.py:34: ResourceWarning: unclosed file <_io.FileIO name='/home/ekaterina/Documents/001_science/lcs/mastDownload/TESS/tess2019140104343-s0012-0000000066818296-0144-s/tess2019140104343-s0012-0000000066818296-0144-s_lc.fits' mode='rb' closefd=True>\n",
      "  lc = read_generic_lightcurve(filename, flux_column=flux_column, time_format=\"btjd\")\n",
      "3% (498/19373) of the cadences will be ignored due to the quality mask (quality_bitmask=175).\n",
      "3% (498/19373) of the cadences will be ignored due to the quality mask (quality_bitmask=175).\n"
     ]
    },
    {
     "name": "stdout",
     "output_type": "stream",
     "text": [
      "date: 2022_08_02\n",
      "LC successfully detrended.\n"
     ]
    },
    {
     "name": "stderr",
     "output_type": "stream",
     "text": [
      "/home/ekaterina/Documents/000_envs/python37/lib/python3.7/site-packages/numpy/lib/nanfunctions.py:1117: RuntimeWarning: Mean of empty slice\n",
      "  return np.nanmean(a, axis, out=out, keepdims=keepdims)\n",
      "Found 0 candidate(s) in the (0,7004) gap.\n",
      "Found 0 candidate(s) in the (7004,13936) gap.\n"
     ]
    },
    {
     "name": "stdout",
     "output_type": "stream",
     "text": [
      "Transit midtime in TESS time: 2336.8678799998015\n",
      "No flares found in LC.\n",
      "Wrote out LC to /home/ekaterina/Documents/001_science/lcs/2022_08_02_66818296_12_altai_0.fits.\n",
      "Get TESS Sector/Quarter 38, TIC 66818296, WASP-17, short cadence.\n"
     ]
    },
    {
     "name": "stderr",
     "output_type": "stream",
     "text": [
      "/home/ekaterina/Documents/000_envs/python37/lib/python3.7/site-packages/lightkurve/io/tess.py:34: ResourceWarning: unclosed file <_io.FileIO name='/home/ekaterina/Documents/001_science/lcs/mastDownload/TESS/tess2021118034608-s0038-0000000066818296-0209-s/tess2021118034608-s0038-0000000066818296-0209-s_lc.fits' mode='rb' closefd=True>\n",
      "  lc = read_generic_lightcurve(filename, flux_column=flux_column, time_format=\"btjd\")\n",
      "0% (41/18535) of the cadences will be ignored due to the quality mask (quality_bitmask=175).\n",
      "0% (41/18535) of the cadences will be ignored due to the quality mask (quality_bitmask=175).\n"
     ]
    },
    {
     "name": "stdout",
     "output_type": "stream",
     "text": [
      "date: 2022_08_02\n",
      "LC successfully detrended.\n"
     ]
    },
    {
     "name": "stderr",
     "output_type": "stream",
     "text": [
      "/home/ekaterina/Documents/000_envs/python37/lib/python3.7/site-packages/numpy/lib/nanfunctions.py:1117: RuntimeWarning: Mean of empty slice\n",
      "  return np.nanmean(a, axis, out=out, keepdims=keepdims)\n",
      "Found 0 candidate(s) in the (0,8718) gap.\n",
      "Found 0 candidate(s) in the (8718,18252) gap.\n",
      "/home/ekaterina/Documents/000_envs/python37/lib/python3.7/site-packages/ipykernel_launcher.py:88: LightkurveDeprecationWarning: The search_lightcurvefile function is deprecated and may be removed in a future version.\n",
      "        Use search_lightcurve() instead.\n"
     ]
    },
    {
     "name": "stdout",
     "output_type": "stream",
     "text": [
      "Transit midtime in TESS time: 2336.8678799998015\n",
      "No flares found in LC.\n",
      "Wrote out LC to /home/ekaterina/Documents/001_science/lcs/2022_08_02_66818296_38_altai_0.fits.\n",
      "\n",
      "---------------------\n",
      "0 flares found!\n",
      "-------------------\n",
      "\n",
      "(0, 0)\n"
     ]
    },
    {
     "name": "stderr",
     "output_type": "stream",
     "text": [
      "/home/ekaterina/Documents/000_envs/python37/lib/python3.7/site-packages/ipykernel_launcher.py:88: LightkurveDeprecationWarning: The search_lightcurvefile function is deprecated and may be removed in a future version.\n",
      "        Use search_lightcurve() instead.\n"
     ]
    },
    {
     "name": "stdout",
     "output_type": "stream",
     "text": [
      "Get TESS Sector/Quarter 21, TIC 67666096, KELT-3, short cadence.\n"
     ]
    },
    {
     "name": "stderr",
     "output_type": "stream",
     "text": [
      "/home/ekaterina/Documents/000_envs/python37/lib/python3.7/site-packages/lightkurve/io/tess.py:34: ResourceWarning: unclosed file <_io.FileIO name='/home/ekaterina/Documents/001_science/lcs/mastDownload/TESS/tess2020020091053-s0021-0000000067666096-0167-s/tess2020020091053-s0021-0000000067666096-0167-s_lc.fits' mode='rb' closefd=True>\n",
      "  lc = read_generic_lightcurve(filename, flux_column=flux_column, time_format=\"btjd\")\n",
      "1% (269/19027) of the cadences will be ignored due to the quality mask (quality_bitmask=175).\n",
      "1% (269/19027) of the cadences will be ignored due to the quality mask (quality_bitmask=175).\n"
     ]
    },
    {
     "name": "stdout",
     "output_type": "stream",
     "text": [
      "date: 2022_08_02\n",
      "LC successfully detrended.\n"
     ]
    },
    {
     "name": "stderr",
     "output_type": "stream",
     "text": [
      "/home/ekaterina/Documents/000_envs/python37/lib/python3.7/site-packages/numpy/lib/nanfunctions.py:1117: RuntimeWarning: Mean of empty slice\n",
      "  return np.nanmean(a, axis, out=out, keepdims=keepdims)\n",
      "Found 0 candidate(s) in the (0,9590) gap.\n",
      "Found 0 candidate(s) in the (9590,17327) gap.\n"
     ]
    },
    {
     "name": "stdout",
     "output_type": "stream",
     "text": [
      "Transit midtime in TESS time: 2635.2072630003095\n",
      "No flares found in LC.\n",
      "Wrote out LC to /home/ekaterina/Documents/001_science/lcs/2022_08_02_67666096_21_altai_0.fits.\n",
      "Get TESS Sector/Quarter 48, TIC 67666096, KELT-3, short cadence.\n"
     ]
    },
    {
     "name": "stderr",
     "output_type": "stream",
     "text": [
      "/home/ekaterina/Documents/000_envs/python37/lib/python3.7/site-packages/lightkurve/io/tess.py:34: ResourceWarning: unclosed file <_io.FileIO name='/home/ekaterina/Documents/001_science/lcs/mastDownload/TESS/tess2022027120115-s0048-0000000067666096-0219-s/tess2022027120115-s0048-0000000067666096-0219-s_lc.fits' mode='rb' closefd=True>\n",
      "  lc = read_generic_lightcurve(filename, flux_column=flux_column, time_format=\"btjd\")\n",
      "1% (197/19186) of the cadences will be ignored due to the quality mask (quality_bitmask=175).\n",
      "1% (197/19186) of the cadences will be ignored due to the quality mask (quality_bitmask=175).\n"
     ]
    },
    {
     "name": "stdout",
     "output_type": "stream",
     "text": [
      "date: 2022_08_02\n",
      "LC successfully detrended.\n"
     ]
    },
    {
     "name": "stderr",
     "output_type": "stream",
     "text": [
      "/home/ekaterina/Documents/000_envs/python37/lib/python3.7/site-packages/numpy/lib/nanfunctions.py:1117: RuntimeWarning: Mean of empty slice\n",
      "  return np.nanmean(a, axis, out=out, keepdims=keepdims)\n",
      "Found 0 candidate(s) in the (0,8369) gap.\n",
      "Found 0 candidate(s) in the (8369,15492) gap.\n",
      "/home/ekaterina/Documents/000_envs/python37/lib/python3.7/site-packages/ipykernel_launcher.py:88: LightkurveDeprecationWarning: The search_lightcurvefile function is deprecated and may be removed in a future version.\n",
      "        Use search_lightcurve() instead.\n"
     ]
    },
    {
     "name": "stdout",
     "output_type": "stream",
     "text": [
      "Transit midtime in TESS time: 2635.2072630003095\n",
      "No flares found in LC.\n",
      "Wrote out LC to /home/ekaterina/Documents/001_science/lcs/2022_08_02_67666096_48_altai_0.fits.\n",
      "\n",
      "---------------------\n",
      "0 flares found!\n",
      "-------------------\n",
      "\n",
      "(0, 0)\n"
     ]
    },
    {
     "name": "stderr",
     "output_type": "stream",
     "text": [
      "/home/ekaterina/Documents/000_envs/python37/lib/python3.7/site-packages/ipykernel_launcher.py:88: LightkurveDeprecationWarning: The search_lightcurvefile function is deprecated and may be removed in a future version.\n",
      "        Use search_lightcurve() instead.\n",
      "/home/ekaterina/Documents/000_envs/python37/lib/python3.7/site-packages/ipykernel_launcher.py:88: LightkurveDeprecationWarning: The search_lightcurvefile function is deprecated and may be removed in a future version.\n",
      "        Use search_lightcurve() instead.\n",
      "/home/ekaterina/Documents/000_envs/python37/lib/python3.7/site-packages/ipykernel_launcher.py:88: LightkurveDeprecationWarning: The search_lightcurvefile function is deprecated and may be removed in a future version.\n",
      "        Use search_lightcurve() instead.\n"
     ]
    },
    {
     "name": "stdout",
     "output_type": "stream",
     "text": [
      "Get TESS Sector/Quarter 43, TIC 68577662, K2-232, short cadence.\n"
     ]
    },
    {
     "name": "stderr",
     "output_type": "stream",
     "text": [
      "/home/ekaterina/Documents/000_envs/python37/lib/python3.7/site-packages/lightkurve/io/tess.py:34: ResourceWarning: unclosed file <_io.FileIO name='/home/ekaterina/Documents/001_science/lcs/mastDownload/TESS/tess2021258175143-s0043-0000000068577662-0214-s/tess2021258175143-s0043-0000000068577662-0214-s_lc.fits' mode='rb' closefd=True>\n",
      "  lc = read_generic_lightcurve(filename, flux_column=flux_column, time_format=\"btjd\")\n",
      "0% (33/17050) of the cadences will be ignored due to the quality mask (quality_bitmask=175).\n",
      "0% (33/17050) of the cadences will be ignored due to the quality mask (quality_bitmask=175).\n"
     ]
    },
    {
     "name": "stdout",
     "output_type": "stream",
     "text": [
      "date: 2022_08_02\n",
      "LC successfully detrended.\n"
     ]
    },
    {
     "name": "stderr",
     "output_type": "stream",
     "text": [
      "/home/ekaterina/Documents/000_envs/python37/lib/python3.7/site-packages/numpy/lib/nanfunctions.py:1117: RuntimeWarning: Mean of empty slice\n",
      "  return np.nanmean(a, axis, out=out, keepdims=keepdims)\n",
      "Found 0 candidate(s) in the (0,7463) gap.\n",
      "Found 0 candidate(s) in the (7463,15564) gap.\n"
     ]
    },
    {
     "name": "stdout",
     "output_type": "stream",
     "text": [
      "Transit midtime in TESS time: 2522.948826999869\n",
      "No flares found in LC.\n",
      "Wrote out LC to /home/ekaterina/Documents/001_science/lcs/2022_08_02_68577662_43_altai_0.fits.\n",
      "Get TESS Sector/Quarter 44, TIC 68577662, K2-232, short cadence.\n"
     ]
    },
    {
     "name": "stderr",
     "output_type": "stream",
     "text": [
      "/home/ekaterina/Documents/000_envs/python37/lib/python3.7/site-packages/lightkurve/io/tess.py:34: ResourceWarning: unclosed file <_io.FileIO name='/home/ekaterina/Documents/001_science/lcs/mastDownload/TESS/tess2021284114741-s0044-0000000068577662-0215-s/tess2021284114741-s0044-0000000068577662-0215-s_lc.fits' mode='rb' closefd=True>\n",
      "  lc = read_generic_lightcurve(filename, flux_column=flux_column, time_format=\"btjd\")\n",
      "0% (45/16405) of the cadences will be ignored due to the quality mask (quality_bitmask=175).\n",
      "0% (45/16405) of the cadences will be ignored due to the quality mask (quality_bitmask=175).\n"
     ]
    },
    {
     "name": "stdout",
     "output_type": "stream",
     "text": [
      "date: 2022_08_02\n",
      "LC successfully detrended.\n"
     ]
    },
    {
     "name": "stderr",
     "output_type": "stream",
     "text": [
      "/home/ekaterina/Documents/000_envs/python37/lib/python3.7/site-packages/numpy/lib/nanfunctions.py:1117: RuntimeWarning: Mean of empty slice\n",
      "  return np.nanmean(a, axis, out=out, keepdims=keepdims)\n",
      "Found 0 candidate(s) in the (0,8066) gap.\n",
      "Found 0 candidate(s) in the (8066,16136) gap.\n",
      "/home/ekaterina/Documents/000_envs/python37/lib/python3.7/site-packages/ipykernel_launcher.py:88: LightkurveDeprecationWarning: The search_lightcurvefile function is deprecated and may be removed in a future version.\n",
      "        Use search_lightcurve() instead.\n"
     ]
    },
    {
     "name": "stdout",
     "output_type": "stream",
     "text": [
      "Transit midtime in TESS time: 2522.948826999869\n",
      "No flares found in LC.\n",
      "Wrote out LC to /home/ekaterina/Documents/001_science/lcs/2022_08_02_68577662_44_altai_0.fits.\n",
      "\n",
      "---------------------\n",
      "0 flares found!\n",
      "-------------------\n",
      "\n",
      "(0, 0)\n",
      "Get TESS Sector/Quarter 44, TIC 6892385, K2-105, short cadence.\n"
     ]
    },
    {
     "name": "stderr",
     "output_type": "stream",
     "text": [
      "/home/ekaterina/Documents/000_envs/python37/lib/python3.7/site-packages/lightkurve/io/tess.py:34: ResourceWarning: unclosed file <_io.FileIO name='/home/ekaterina/Documents/001_science/lcs/mastDownload/TESS/tess2021284114741-s0044-0000000006892385-0215-s/tess2021284114741-s0044-0000000006892385-0215-s_lc.fits' mode='rb' closefd=True>\n",
      "  lc = read_generic_lightcurve(filename, flux_column=flux_column, time_format=\"btjd\")\n",
      "0% (45/16405) of the cadences will be ignored due to the quality mask (quality_bitmask=175).\n",
      "0% (45/16405) of the cadences will be ignored due to the quality mask (quality_bitmask=175).\n"
     ]
    },
    {
     "name": "stdout",
     "output_type": "stream",
     "text": [
      "date: 2022_08_02\n",
      "LC successfully detrended.\n"
     ]
    },
    {
     "name": "stderr",
     "output_type": "stream",
     "text": [
      "/home/ekaterina/Documents/000_envs/python37/lib/python3.7/site-packages/numpy/lib/nanfunctions.py:1117: RuntimeWarning: Mean of empty slice\n",
      "  return np.nanmean(a, axis, out=out, keepdims=keepdims)\n",
      "Found 0 candidate(s) in the (0,8084) gap.\n",
      "Found 0 candidate(s) in the (8084,15207) gap.\n"
     ]
    },
    {
     "name": "stdout",
     "output_type": "stream",
     "text": [
      "Transit midtime in TESS time: 2578.481006000191\n",
      "No flares found in LC.\n",
      "Wrote out LC to /home/ekaterina/Documents/001_science/lcs/2022_08_02_6892385_44_altai_0.fits.\n",
      "Get TESS Sector/Quarter 45, TIC 6892385, K2-105, short cadence.\n"
     ]
    },
    {
     "name": "stderr",
     "output_type": "stream",
     "text": [
      "/home/ekaterina/Documents/000_envs/python37/lib/python3.7/site-packages/lightkurve/io/tess.py:34: ResourceWarning: unclosed file <_io.FileIO name='/home/ekaterina/Documents/001_science/lcs/mastDownload/TESS/tess2021310001228-s0045-0000000006892385-0216-s/tess2021310001228-s0045-0000000006892385-0216-s_lc.fits' mode='rb' closefd=True>\n",
      "  lc = read_generic_lightcurve(filename, flux_column=flux_column, time_format=\"btjd\")\n",
      "1% (186/17256) of the cadences will be ignored due to the quality mask (quality_bitmask=175).\n",
      "1% (186/17256) of the cadences will be ignored due to the quality mask (quality_bitmask=175).\n"
     ]
    },
    {
     "name": "stdout",
     "output_type": "stream",
     "text": [
      "date: 2022_08_02\n",
      "LC successfully detrended.\n"
     ]
    },
    {
     "name": "stderr",
     "output_type": "stream",
     "text": [
      "/home/ekaterina/Documents/000_envs/python37/lib/python3.7/site-packages/numpy/lib/nanfunctions.py:1117: RuntimeWarning: Mean of empty slice\n",
      "  return np.nanmean(a, axis, out=out, keepdims=keepdims)\n",
      "Found 0 candidate(s) in the (0,8453) gap.\n",
      "Found 0 candidate(s) in the (8453,15510) gap.\n"
     ]
    },
    {
     "name": "stdout",
     "output_type": "stream",
     "text": [
      "Transit midtime in TESS time: 2578.481006000191\n",
      "No flares found in LC.\n",
      "Wrote out LC to /home/ekaterina/Documents/001_science/lcs/2022_08_02_6892385_45_altai_0.fits.\n",
      "Get TESS Sector/Quarter 46, TIC 6892385, K2-105, short cadence.\n"
     ]
    },
    {
     "name": "stderr",
     "output_type": "stream",
     "text": [
      "/home/ekaterina/Documents/000_envs/python37/lib/python3.7/site-packages/lightkurve/io/tess.py:34: ResourceWarning: unclosed file <_io.FileIO name='/home/ekaterina/Documents/001_science/lcs/mastDownload/TESS/tess2021336043614-s0046-0000000006892385-0217-s/tess2021336043614-s0046-0000000006892385-0217-s_lc.fits' mode='rb' closefd=True>\n",
      "  lc = read_generic_lightcurve(filename, flux_column=flux_column, time_format=\"btjd\")\n",
      "2% (387/18539) of the cadences will be ignored due to the quality mask (quality_bitmask=175).\n",
      "2% (387/18539) of the cadences will be ignored due to the quality mask (quality_bitmask=175).\n"
     ]
    },
    {
     "name": "stdout",
     "output_type": "stream",
     "text": [
      "date: 2022_08_02\n",
      "LC successfully detrended.\n"
     ]
    },
    {
     "name": "stderr",
     "output_type": "stream",
     "text": [
      "/home/ekaterina/Documents/000_envs/python37/lib/python3.7/site-packages/numpy/lib/nanfunctions.py:1117: RuntimeWarning: Mean of empty slice\n",
      "  return np.nanmean(a, axis, out=out, keepdims=keepdims)\n",
      "Found 0 candidate(s) in the (0,8335) gap.\n",
      "Found 0 candidate(s) in the (8335,16407) gap.\n",
      "/home/ekaterina/Documents/000_envs/python37/lib/python3.7/site-packages/ipykernel_launcher.py:88: LightkurveDeprecationWarning: The search_lightcurvefile function is deprecated and may be removed in a future version.\n",
      "        Use search_lightcurve() instead.\n"
     ]
    },
    {
     "name": "stdout",
     "output_type": "stream",
     "text": [
      "Transit midtime in TESS time: 2578.481006000191\n",
      "No flares found in LC.\n",
      "Wrote out LC to /home/ekaterina/Documents/001_science/lcs/2022_08_02_6892385_46_altai_0.fits.\n",
      "\n",
      "---------------------\n",
      "0 flares found!\n",
      "-------------------\n",
      "\n",
      "(0, 0)\n",
      "Get TESS Sector/Quarter 44, TIC 6893917, KELT-17, short cadence.\n"
     ]
    },
    {
     "name": "stderr",
     "output_type": "stream",
     "text": [
      "/home/ekaterina/Documents/000_envs/python37/lib/python3.7/site-packages/lightkurve/io/tess.py:34: ResourceWarning: unclosed file <_io.FileIO name='/home/ekaterina/Documents/001_science/lcs/mastDownload/TESS/tess2021284114741-s0044-0000000006893917-0215-s/tess2021284114741-s0044-0000000006893917-0215-s_lc.fits' mode='rb' closefd=True>\n",
      "  lc = read_generic_lightcurve(filename, flux_column=flux_column, time_format=\"btjd\")\n",
      "0% (45/16405) of the cadences will be ignored due to the quality mask (quality_bitmask=175).\n",
      "0% (45/16405) of the cadences will be ignored due to the quality mask (quality_bitmask=175).\n"
     ]
    },
    {
     "name": "stdout",
     "output_type": "stream",
     "text": [
      "date: 2022_08_02\n",
      "LC successfully detrended.\n"
     ]
    },
    {
     "name": "stderr",
     "output_type": "stream",
     "text": [
      "/home/ekaterina/Documents/000_envs/python37/lib/python3.7/site-packages/numpy/lib/nanfunctions.py:1117: RuntimeWarning: Mean of empty slice\n",
      "  return np.nanmean(a, axis, out=out, keepdims=keepdims)\n",
      "Found 0 candidate(s) in the (0,8111) gap.\n",
      "Found 0 candidate(s) in the (8111,15237) gap.\n"
     ]
    },
    {
     "name": "stdout",
     "output_type": "stream",
     "text": [
      "Transit midtime in TESS time: 2576.3192199999467\n",
      "No flares found in LC.\n",
      "Wrote out LC to /home/ekaterina/Documents/001_science/lcs/2022_08_02_6893917_44_altai_0.fits.\n",
      "Get TESS Sector/Quarter 45, TIC 6893917, KELT-17, short cadence.\n"
     ]
    },
    {
     "name": "stderr",
     "output_type": "stream",
     "text": [
      "/home/ekaterina/Documents/000_envs/python37/lib/python3.7/site-packages/lightkurve/io/tess.py:34: ResourceWarning: unclosed file <_io.FileIO name='/home/ekaterina/Documents/001_science/lcs/mastDownload/TESS/tess2021310001228-s0045-0000000006893917-0216-s/tess2021310001228-s0045-0000000006893917-0216-s_lc.fits' mode='rb' closefd=True>\n",
      "  lc = read_generic_lightcurve(filename, flux_column=flux_column, time_format=\"btjd\")\n",
      "1% (186/17256) of the cadences will be ignored due to the quality mask (quality_bitmask=175).\n",
      "1% (186/17256) of the cadences will be ignored due to the quality mask (quality_bitmask=175).\n"
     ]
    },
    {
     "name": "stdout",
     "output_type": "stream",
     "text": [
      "date: 2022_08_02\n",
      "LC successfully detrended.\n"
     ]
    },
    {
     "name": "stderr",
     "output_type": "stream",
     "text": [
      "/home/ekaterina/Documents/000_envs/python37/lib/python3.7/site-packages/numpy/lib/nanfunctions.py:1117: RuntimeWarning: Mean of empty slice\n",
      "  return np.nanmean(a, axis, out=out, keepdims=keepdims)\n",
      "Found 0 candidate(s) in the (0,8459) gap.\n",
      "Found 0 candidate(s) in the (8459,15523) gap.\n"
     ]
    },
    {
     "name": "stdout",
     "output_type": "stream",
     "text": [
      "Transit midtime in TESS time: 2576.3192199999467\n",
      "No flares found in LC.\n",
      "Wrote out LC to /home/ekaterina/Documents/001_science/lcs/2022_08_02_6893917_45_altai_0.fits.\n",
      "Get TESS Sector/Quarter 46, TIC 6893917, KELT-17, short cadence.\n"
     ]
    },
    {
     "name": "stderr",
     "output_type": "stream",
     "text": [
      "/home/ekaterina/Documents/000_envs/python37/lib/python3.7/site-packages/lightkurve/io/tess.py:34: ResourceWarning: unclosed file <_io.FileIO name='/home/ekaterina/Documents/001_science/lcs/mastDownload/TESS/tess2021336043614-s0046-0000000006893917-0217-s/tess2021336043614-s0046-0000000006893917-0217-s_lc.fits' mode='rb' closefd=True>\n",
      "  lc = read_generic_lightcurve(filename, flux_column=flux_column, time_format=\"btjd\")\n",
      "2% (387/18539) of the cadences will be ignored due to the quality mask (quality_bitmask=175).\n",
      "2% (387/18539) of the cadences will be ignored due to the quality mask (quality_bitmask=175).\n"
     ]
    },
    {
     "name": "stdout",
     "output_type": "stream",
     "text": [
      "date: 2022_08_02\n",
      "LC successfully detrended.\n"
     ]
    },
    {
     "name": "stderr",
     "output_type": "stream",
     "text": [
      "/home/ekaterina/Documents/000_envs/python37/lib/python3.7/site-packages/numpy/lib/nanfunctions.py:1117: RuntimeWarning: Mean of empty slice\n",
      "  return np.nanmean(a, axis, out=out, keepdims=keepdims)\n",
      "Found 0 candidate(s) in the (0,8495) gap.\n",
      "Found 0 candidate(s) in the (8495,16651) gap.\n",
      "/home/ekaterina/Documents/000_envs/python37/lib/python3.7/site-packages/ipykernel_launcher.py:88: LightkurveDeprecationWarning: The search_lightcurvefile function is deprecated and may be removed in a future version.\n",
      "        Use search_lightcurve() instead.\n"
     ]
    },
    {
     "name": "stdout",
     "output_type": "stream",
     "text": [
      "Transit midtime in TESS time: 2576.3192199999467\n",
      "No flares found in LC.\n",
      "Wrote out LC to /home/ekaterina/Documents/001_science/lcs/2022_08_02_6893917_46_altai_0.fits.\n",
      "\n",
      "---------------------\n",
      "0 flares found!\n",
      "-------------------\n",
      "\n",
      "(0, 0)\n"
     ]
    },
    {
     "name": "stderr",
     "output_type": "stream",
     "text": [
      "No data found for target \"WASP-67\".\n",
      "No data found for target \"WASP-67\".\n",
      "/home/ekaterina/Documents/000_envs/python37/lib/python3.7/site-packages/ipykernel_launcher.py:93: LightkurveDeprecationWarning: The search_lightcurvefile function is deprecated and may be removed in a future version.\n",
      "        Use search_lightcurve() instead.\n",
      "No data found for target \"TIC 68952448\".\n",
      "No data found for target \"TIC 68952448\".\n",
      "/home/ekaterina/Documents/000_envs/python37/lib/python3.7/site-packages/ipykernel_launcher.py:88: LightkurveDeprecationWarning: The search_lightcurvefile function is deprecated and may be removed in a future version.\n",
      "        Use search_lightcurve() instead.\n"
     ]
    },
    {
     "name": "stdout",
     "output_type": "stream",
     "text": [
      "Get TESS Sector/Quarter 14, TIC 69679391, KELT-20, short cadence.\n"
     ]
    },
    {
     "name": "stderr",
     "output_type": "stream",
     "text": [
      "/home/ekaterina/Documents/000_envs/python37/lib/python3.7/site-packages/lightkurve/io/tess.py:34: ResourceWarning: unclosed file <_io.FileIO name='/home/ekaterina/Documents/001_science/lcs/mastDownload/TESS/tess2019198215352-s0014-0000000069679391-0150-s/tess2019198215352-s0014-0000000069679391-0150-s_lc.fits' mode='rb' closefd=True>\n",
      "  lc = read_generic_lightcurve(filename, flux_column=flux_column, time_format=\"btjd\")\n",
      "1% (230/18654) of the cadences will be ignored due to the quality mask (quality_bitmask=175).\n",
      "1% (230/18654) of the cadences will be ignored due to the quality mask (quality_bitmask=175).\n"
     ]
    },
    {
     "name": "stdout",
     "output_type": "stream",
     "text": [
      "date: 2022_08_02\n",
      "LC successfully detrended.\n"
     ]
    },
    {
     "name": "stderr",
     "output_type": "stream",
     "text": [
      "/home/ekaterina/Documents/000_envs/python37/lib/python3.7/site-packages/numpy/lib/nanfunctions.py:1117: RuntimeWarning: Mean of empty slice\n",
      "  return np.nanmean(a, axis, out=out, keepdims=keepdims)\n",
      "Found 0 candidate(s) in the (0,5230) gap.\n",
      "Found 0 candidate(s) in the (5230,6151) gap.\n",
      "Found 0 candidate(s) in the (6151,11505) gap.\n",
      "Found 0 candidate(s) in the (11505,12093) gap.\n"
     ]
    },
    {
     "name": "stdout",
     "output_type": "stream",
     "text": [
      "Transit midtime in TESS time: 2441.668734999839\n",
      "No flares found in LC.\n",
      "Wrote out LC to /home/ekaterina/Documents/001_science/lcs/2022_08_02_69679391_14_altai_0.fits.\n",
      "Get TESS Sector/Quarter 40, TIC 69679391, KELT-20, short cadence.\n"
     ]
    },
    {
     "name": "stderr",
     "output_type": "stream",
     "text": [
      "/home/ekaterina/Documents/000_envs/python37/lib/python3.7/site-packages/lightkurve/io/tess.py:34: ResourceWarning: unclosed file <_io.FileIO name='/home/ekaterina/Documents/001_science/lcs/mastDownload/TESS/tess2021175071901-s0040-0000000069679391-0211-s/tess2021175071901-s0040-0000000069679391-0211-s_lc.fits' mode='rb' closefd=True>\n",
      "  lc = read_generic_lightcurve(filename, flux_column=flux_column, time_format=\"btjd\")\n",
      "0% (32/19643) of the cadences will be ignored due to the quality mask (quality_bitmask=175).\n",
      "0% (32/19643) of the cadences will be ignored due to the quality mask (quality_bitmask=175).\n"
     ]
    },
    {
     "name": "stdout",
     "output_type": "stream",
     "text": [
      "date: 2022_08_02\n",
      "LC successfully detrended.\n"
     ]
    },
    {
     "name": "stderr",
     "output_type": "stream",
     "text": [
      "/home/ekaterina/Documents/000_envs/python37/lib/python3.7/site-packages/numpy/lib/nanfunctions.py:1117: RuntimeWarning: Mean of empty slice\n",
      "  return np.nanmean(a, axis, out=out, keepdims=keepdims)\n",
      "Found 0 candidate(s) in the (0,9882) gap.\n",
      "Found 0 candidate(s) in the (9882,19611) gap.\n"
     ]
    },
    {
     "name": "stdout",
     "output_type": "stream",
     "text": [
      "Transit midtime in TESS time: 2441.668734999839\n",
      "No flares found in LC.\n",
      "Wrote out LC to /home/ekaterina/Documents/001_science/lcs/2022_08_02_69679391_40_altai_0.fits.\n",
      "Get TESS Sector/Quarter 41, TIC 69679391, KELT-20, short cadence.\n"
     ]
    },
    {
     "name": "stderr",
     "output_type": "stream",
     "text": [
      "/home/ekaterina/Documents/000_envs/python37/lib/python3.7/site-packages/lightkurve/io/tess.py:34: ResourceWarning: unclosed file <_io.FileIO name='/home/ekaterina/Documents/001_science/lcs/mastDownload/TESS/tess2021204101404-s0041-0000000069679391-0212-s/tess2021204101404-s0041-0000000069679391-0212-s_lc.fits' mode='rb' closefd=True>\n",
      "  lc = read_generic_lightcurve(filename, flux_column=flux_column, time_format=\"btjd\")\n",
      "0% (26/18348) of the cadences will be ignored due to the quality mask (quality_bitmask=175).\n",
      "0% (26/18348) of the cadences will be ignored due to the quality mask (quality_bitmask=175).\n"
     ]
    },
    {
     "name": "stdout",
     "output_type": "stream",
     "text": [
      "date: 2022_08_02\n",
      "LC successfully detrended.\n"
     ]
    },
    {
     "name": "stderr",
     "output_type": "stream",
     "text": [
      "/home/ekaterina/Documents/000_envs/python37/lib/python3.7/site-packages/numpy/lib/nanfunctions.py:1117: RuntimeWarning: Mean of empty slice\n",
      "  return np.nanmean(a, axis, out=out, keepdims=keepdims)\n",
      "Found 0 candidate(s) in the (0,9071) gap.\n",
      "Found 0 candidate(s) in the (9071,18322) gap.\n",
      "/home/ekaterina/Documents/000_envs/python37/lib/python3.7/site-packages/ipykernel_launcher.py:88: LightkurveDeprecationWarning: The search_lightcurvefile function is deprecated and may be removed in a future version.\n",
      "        Use search_lightcurve() instead.\n"
     ]
    },
    {
     "name": "stdout",
     "output_type": "stream",
     "text": [
      "Transit midtime in TESS time: 2441.668734999839\n",
      "No flares found in LC.\n",
      "Wrote out LC to /home/ekaterina/Documents/001_science/lcs/2022_08_02_69679391_41_altai_0.fits.\n",
      "\n",
      "---------------------\n",
      "0 flares found!\n",
      "-------------------\n",
      "\n",
      "(0, 0)\n",
      "Get TESS Sector/Quarter 28, TIC 69747919, K2-167, fast cadence.\n"
     ]
    },
    {
     "name": "stderr",
     "output_type": "stream",
     "text": [
      "/home/ekaterina/Documents/000_envs/python37/lib/python3.7/site-packages/lightkurve/io/tess.py:34: ResourceWarning: unclosed file <_io.FileIO name='/home/ekaterina/Documents/001_science/lcs/mastDownload/TESS/tess2020212050318-s0028-0000000069747919-0190-a_fast/tess2020212050318-s0028-0000000069747919-0190-a_fast-lc.fits' mode='rb' closefd=True>\n",
      "  lc = read_generic_lightcurve(filename, flux_column=flux_column, time_format=\"btjd\")\n",
      "0% (161/103965) of the cadences will be ignored due to the quality mask (quality_bitmask=175).\n",
      "0% (161/103965) of the cadences will be ignored due to the quality mask (quality_bitmask=175).\n"
     ]
    },
    {
     "name": "stdout",
     "output_type": "stream",
     "text": [
      "date: 2022_08_02\n",
      "LC successfully detrended.\n"
     ]
    },
    {
     "name": "stderr",
     "output_type": "stream",
     "text": [
      "/home/ekaterina/Documents/000_envs/python37/lib/python3.7/site-packages/numpy/lib/nanfunctions.py:1117: RuntimeWarning: Mean of empty slice\n",
      "  return np.nanmean(a, axis, out=out, keepdims=keepdims)\n",
      "Found 0 candidate(s) in the (0,46275) gap.\n",
      "Found 0 candidate(s) in the (46275,91649) gap.\n"
     ]
    },
    {
     "name": "stdout",
     "output_type": "stream",
     "text": [
      "Transit midtime in TESS time: 2085.3911200002767\n",
      "No flares found in LC.\n",
      "Wrote out LC to /home/ekaterina/Documents/001_science/lcs/2022_08_02_69747919_28_altai_0.fits.\n",
      "Get TESS Sector/Quarter 02, TIC 69747919, K2-167, short cadence.\n"
     ]
    },
    {
     "name": "stderr",
     "output_type": "stream",
     "text": [
      "/home/ekaterina/Documents/000_envs/python37/lib/python3.7/site-packages/lightkurve/io/tess.py:34: ResourceWarning: unclosed file <_io.FileIO name='/home/ekaterina/Documents/001_science/lcs/mastDownload/TESS/tess2018234235059-s0002-0000000069747919-0121-s/tess2018234235059-s0002-0000000069747919-0121-s_lc.fits' mode='rb' closefd=True>\n",
      "  lc = read_generic_lightcurve(filename, flux_column=flux_column, time_format=\"btjd\")\n",
      "2% (399/18699) of the cadences will be ignored due to the quality mask (quality_bitmask=175).\n",
      "2% (399/18699) of the cadences will be ignored due to the quality mask (quality_bitmask=175).\n"
     ]
    },
    {
     "name": "stdout",
     "output_type": "stream",
     "text": [
      "date: 2022_08_02\n",
      "LC successfully detrended.\n"
     ]
    },
    {
     "name": "stderr",
     "output_type": "stream",
     "text": [
      "/home/ekaterina/Documents/000_envs/python37/lib/python3.7/site-packages/numpy/lib/nanfunctions.py:1117: RuntimeWarning: Mean of empty slice\n",
      "  return np.nanmean(a, axis, out=out, keepdims=keepdims)\n",
      "Found 0 candidate(s) in the (0,9226) gap.\n",
      "Found 0 candidate(s) in the (9226,18300) gap.\n"
     ]
    },
    {
     "name": "stdout",
     "output_type": "stream",
     "text": [
      "Transit midtime in TESS time: 2085.3911200002767\n",
      "No flares found in LC.\n",
      "Wrote out LC to /home/ekaterina/Documents/001_science/lcs/2022_08_02_69747919_02_altai_0.fits.\n",
      "Get TESS Sector/Quarter 42, TIC 69747919, K2-167, short cadence.\n"
     ]
    },
    {
     "name": "stderr",
     "output_type": "stream",
     "text": [
      "/home/ekaterina/Documents/000_envs/python37/lib/python3.7/site-packages/lightkurve/io/tess.py:34: ResourceWarning: unclosed file <_io.FileIO name='/home/ekaterina/Documents/001_science/lcs/mastDownload/TESS/tess2021232031932-s0042-0000000069747919-0213-s/tess2021232031932-s0042-0000000069747919-0213-s_lc.fits' mode='rb' closefd=True>\n",
      "  lc = read_generic_lightcurve(filename, flux_column=flux_column, time_format=\"btjd\")\n",
      "2% (307/17674) of the cadences will be ignored due to the quality mask (quality_bitmask=175).\n",
      "2% (307/17674) of the cadences will be ignored due to the quality mask (quality_bitmask=175).\n"
     ]
    },
    {
     "name": "stdout",
     "output_type": "stream",
     "text": [
      "date: 2022_08_02\n",
      "LC successfully detrended.\n"
     ]
    },
    {
     "name": "stderr",
     "output_type": "stream",
     "text": [
      "/home/ekaterina/Documents/000_envs/python37/lib/python3.7/site-packages/numpy/lib/nanfunctions.py:1117: RuntimeWarning: Mean of empty slice\n",
      "  return np.nanmean(a, axis, out=out, keepdims=keepdims)\n",
      "Found 0 candidate(s) in the (0,3009) gap.\n",
      "Found 0 candidate(s) in the (3009,9780) gap.\n",
      "/home/ekaterina/Documents/000_envs/python37/lib/python3.7/site-packages/ipykernel_launcher.py:88: LightkurveDeprecationWarning: The search_lightcurvefile function is deprecated and may be removed in a future version.\n",
      "        Use search_lightcurve() instead.\n"
     ]
    },
    {
     "name": "stdout",
     "output_type": "stream",
     "text": [
      "Transit midtime in TESS time: 2085.3911200002767\n",
      "No flares found in LC.\n",
      "Wrote out LC to /home/ekaterina/Documents/001_science/lcs/2022_08_02_69747919_42_altai_0.fits.\n",
      "\n",
      "---------------------\n",
      "0 flares found!\n",
      "-------------------\n",
      "\n",
      "(0, 0)\n",
      "Get TESS Sector/Quarter 34, TIC 7020254, K2-115, fast cadence.\n"
     ]
    },
    {
     "name": "stderr",
     "output_type": "stream",
     "text": [
      "/home/ekaterina/Documents/000_envs/python37/lib/python3.7/site-packages/lightkurve/io/tess.py:34: ResourceWarning: unclosed file <_io.FileIO name='/home/ekaterina/Documents/001_science/lcs/mastDownload/TESS/tess2021014023720-s0034-0000000007020254-0204-a_fast/tess2021014023720-s0034-0000000007020254-0204-a_fast-lc.fits' mode='rb' closefd=True>\n",
      "  lc = read_generic_lightcurve(filename, flux_column=flux_column, time_format=\"btjd\")\n",
      "0% (210/104760) of the cadences will be ignored due to the quality mask (quality_bitmask=175).\n",
      "0% (210/104760) of the cadences will be ignored due to the quality mask (quality_bitmask=175).\n"
     ]
    },
    {
     "name": "stdout",
     "output_type": "stream",
     "text": [
      "date: 2022_08_02\n",
      "LC successfully detrended.\n"
     ]
    },
    {
     "name": "stderr",
     "output_type": "stream",
     "text": [
      "/home/ekaterina/Documents/000_envs/python37/lib/python3.7/site-packages/numpy/lib/nanfunctions.py:1117: RuntimeWarning: Mean of empty slice\n",
      "  return np.nanmean(a, axis, out=out, keepdims=keepdims)\n",
      "Found 0 candidate(s) in the (0,51251) gap.\n",
      "Found 0 candidate(s) in the (51251,101563) gap.\n"
     ]
    },
    {
     "name": "stdout",
     "output_type": "stream",
     "text": [
      "Transit midtime in TESS time: 2549.3745409999974\n",
      "No flares found in LC.\n",
      "Wrote out LC to /home/ekaterina/Documents/001_science/lcs/2022_08_02_7020254_34_altai_0.fits.\n",
      "Get TESS Sector/Quarter 07, TIC 7020254, K2-115, short cadence.\n"
     ]
    },
    {
     "name": "stderr",
     "output_type": "stream",
     "text": [
      "/home/ekaterina/Documents/000_envs/python37/lib/python3.7/site-packages/lightkurve/io/tess.py:34: ResourceWarning: unclosed file <_io.FileIO name='/home/ekaterina/Documents/001_science/lcs/mastDownload/TESS/tess2019006130736-s0007-0000000007020254-0131-s/tess2019006130736-s0007-0000000007020254-0131-s_lc.fits' mode='rb' closefd=True>\n",
      "  lc = read_generic_lightcurve(filename, flux_column=flux_column, time_format=\"btjd\")\n",
      "0% (73/16416) of the cadences will be ignored due to the quality mask (quality_bitmask=175).\n",
      "0% (73/16416) of the cadences will be ignored due to the quality mask (quality_bitmask=175).\n"
     ]
    },
    {
     "name": "stdout",
     "output_type": "stream",
     "text": [
      "date: 2022_08_02\n",
      "LC successfully detrended.\n"
     ]
    },
    {
     "name": "stderr",
     "output_type": "stream",
     "text": [
      "/home/ekaterina/Documents/000_envs/python37/lib/python3.7/site-packages/numpy/lib/nanfunctions.py:1117: RuntimeWarning: Mean of empty slice\n",
      "  return np.nanmean(a, axis, out=out, keepdims=keepdims)\n",
      "Found 0 candidate(s) in the (0,8171) gap.\n",
      "Found 0 candidate(s) in the (8171,16343) gap.\n"
     ]
    },
    {
     "name": "stdout",
     "output_type": "stream",
     "text": [
      "Transit midtime in TESS time: 2549.3745409999974\n",
      "No flares found in LC.\n",
      "Wrote out LC to /home/ekaterina/Documents/001_science/lcs/2022_08_02_7020254_07_altai_0.fits.\n",
      "Get TESS Sector/Quarter 45, TIC 7020254, K2-115, short cadence.\n"
     ]
    },
    {
     "name": "stderr",
     "output_type": "stream",
     "text": [
      "/home/ekaterina/Documents/000_envs/python37/lib/python3.7/site-packages/lightkurve/io/tess.py:34: ResourceWarning: unclosed file <_io.FileIO name='/home/ekaterina/Documents/001_science/lcs/mastDownload/TESS/tess2021310001228-s0045-0000000007020254-0216-s/tess2021310001228-s0045-0000000007020254-0216-s_lc.fits' mode='rb' closefd=True>\n",
      "  lc = read_generic_lightcurve(filename, flux_column=flux_column, time_format=\"btjd\")\n",
      "1% (186/17256) of the cadences will be ignored due to the quality mask (quality_bitmask=175).\n",
      "1% (186/17256) of the cadences will be ignored due to the quality mask (quality_bitmask=175).\n"
     ]
    },
    {
     "name": "stdout",
     "output_type": "stream",
     "text": [
      "date: 2022_08_02\n",
      "LC successfully detrended.\n"
     ]
    },
    {
     "name": "stderr",
     "output_type": "stream",
     "text": [
      "/home/ekaterina/Documents/000_envs/python37/lib/python3.7/site-packages/numpy/lib/nanfunctions.py:1117: RuntimeWarning: Mean of empty slice\n",
      "  return np.nanmean(a, axis, out=out, keepdims=keepdims)\n",
      "Found 0 candidate(s) in the (0,8459) gap.\n",
      "Found 0 candidate(s) in the (8459,15515) gap.\n"
     ]
    },
    {
     "name": "stdout",
     "output_type": "stream",
     "text": [
      "Transit midtime in TESS time: 2549.3745409999974\n",
      "No flares found in LC.\n",
      "Wrote out LC to /home/ekaterina/Documents/001_science/lcs/2022_08_02_7020254_45_altai_0.fits.\n",
      "Get TESS Sector/Quarter 46, TIC 7020254, K2-115, short cadence.\n"
     ]
    },
    {
     "name": "stderr",
     "output_type": "stream",
     "text": [
      "/home/ekaterina/Documents/000_envs/python37/lib/python3.7/site-packages/lightkurve/io/tess.py:34: ResourceWarning: unclosed file <_io.FileIO name='/home/ekaterina/Documents/001_science/lcs/mastDownload/TESS/tess2021336043614-s0046-0000000007020254-0217-s/tess2021336043614-s0046-0000000007020254-0217-s_lc.fits' mode='rb' closefd=True>\n",
      "  lc = read_generic_lightcurve(filename, flux_column=flux_column, time_format=\"btjd\")\n",
      "2% (387/18539) of the cadences will be ignored due to the quality mask (quality_bitmask=175).\n",
      "2% (387/18539) of the cadences will be ignored due to the quality mask (quality_bitmask=175).\n"
     ]
    },
    {
     "name": "stdout",
     "output_type": "stream",
     "text": [
      "date: 2022_08_02\n",
      "LC successfully detrended.\n"
     ]
    },
    {
     "name": "stderr",
     "output_type": "stream",
     "text": [
      "/home/ekaterina/Documents/000_envs/python37/lib/python3.7/site-packages/numpy/lib/nanfunctions.py:1117: RuntimeWarning: Mean of empty slice\n",
      "  return np.nanmean(a, axis, out=out, keepdims=keepdims)\n",
      "Found 0 candidate(s) in the (0,8350) gap.\n",
      "Found 0 candidate(s) in the (8350,16369) gap.\n",
      "/home/ekaterina/Documents/000_envs/python37/lib/python3.7/site-packages/ipykernel_launcher.py:88: LightkurveDeprecationWarning: The search_lightcurvefile function is deprecated and may be removed in a future version.\n",
      "        Use search_lightcurve() instead.\n"
     ]
    },
    {
     "name": "stdout",
     "output_type": "stream",
     "text": [
      "Transit midtime in TESS time: 2549.3745409999974\n",
      "No flares found in LC.\n",
      "Wrote out LC to /home/ekaterina/Documents/001_science/lcs/2022_08_02_7020254_46_altai_0.fits.\n",
      "\n",
      "---------------------\n",
      "0 flares found!\n",
      "-------------------\n",
      "\n",
      "(0, 0)\n"
     ]
    },
    {
     "name": "stderr",
     "output_type": "stream",
     "text": [
      "Could not resolve K2-315 to a sky position.\n",
      "Could not resolve K2-315 to a sky position.\n",
      "/home/ekaterina/Documents/000_envs/python37/lib/python3.7/site-packages/ipykernel_launcher.py:93: LightkurveDeprecationWarning: The search_lightcurvefile function is deprecated and may be removed in a future version.\n",
      "        Use search_lightcurve() instead.\n",
      "/home/ekaterina/Documents/000_envs/python37/lib/python3.7/site-packages/ipykernel_launcher.py:88: LightkurveDeprecationWarning: The search_lightcurvefile function is deprecated and may be removed in a future version.\n",
      "        Use search_lightcurve() instead.\n",
      "Could not resolve K2-317 to a sky position.\n",
      "Could not resolve K2-317 to a sky position.\n",
      "/home/ekaterina/Documents/000_envs/python37/lib/python3.7/site-packages/ipykernel_launcher.py:93: LightkurveDeprecationWarning: The search_lightcurvefile function is deprecated and may be removed in a future version.\n",
      "        Use search_lightcurve() instead.\n",
      "/home/ekaterina/Documents/000_envs/python37/lib/python3.7/site-packages/ipykernel_launcher.py:88: LightkurveDeprecationWarning: The search_lightcurvefile function is deprecated and may be removed in a future version.\n",
      "        Use search_lightcurve() instead.\n"
     ]
    },
    {
     "name": "stdout",
     "output_type": "stream",
     "text": [
      "Get TESS Sector/Quarter 44, TIC 7059054, K2-121, short cadence.\n"
     ]
    },
    {
     "name": "stderr",
     "output_type": "stream",
     "text": [
      "/home/ekaterina/Documents/000_envs/python37/lib/python3.7/site-packages/lightkurve/io/tess.py:34: ResourceWarning: unclosed file <_io.FileIO name='/home/ekaterina/Documents/001_science/lcs/mastDownload/TESS/tess2021284114741-s0044-0000000007059054-0215-s/tess2021284114741-s0044-0000000007059054-0215-s_lc.fits' mode='rb' closefd=True>\n",
      "  lc = read_generic_lightcurve(filename, flux_column=flux_column, time_format=\"btjd\")\n",
      "0% (45/16405) of the cadences will be ignored due to the quality mask (quality_bitmask=175).\n",
      "0% (45/16405) of the cadences will be ignored due to the quality mask (quality_bitmask=175).\n"
     ]
    },
    {
     "name": "stdout",
     "output_type": "stream",
     "text": [
      "date: 2022_08_02\n",
      "LC successfully detrended.\n"
     ]
    },
    {
     "name": "stderr",
     "output_type": "stream",
     "text": [
      "/home/ekaterina/Documents/000_envs/python37/lib/python3.7/site-packages/numpy/lib/nanfunctions.py:1117: RuntimeWarning: Mean of empty slice\n",
      "  return np.nanmean(a, axis, out=out, keepdims=keepdims)\n",
      "Found 0 candidate(s) in the (0,8112) gap.\n",
      "Found 0 candidate(s) in the (8112,15240) gap.\n"
     ]
    },
    {
     "name": "stdout",
     "output_type": "stream",
     "text": [
      "Transit midtime in TESS time: 2570.493415000383\n",
      "No flares found in LC.\n",
      "Wrote out LC to /home/ekaterina/Documents/001_science/lcs/2022_08_02_7059054_44_altai_0.fits.\n",
      "Get TESS Sector/Quarter 45, TIC 7059054, K2-121, short cadence.\n"
     ]
    },
    {
     "name": "stderr",
     "output_type": "stream",
     "text": [
      "/home/ekaterina/Documents/000_envs/python37/lib/python3.7/site-packages/lightkurve/io/tess.py:34: ResourceWarning: unclosed file <_io.FileIO name='/home/ekaterina/Documents/001_science/lcs/mastDownload/TESS/tess2021310001228-s0045-0000000007059054-0216-s/tess2021310001228-s0045-0000000007059054-0216-s_lc.fits' mode='rb' closefd=True>\n",
      "  lc = read_generic_lightcurve(filename, flux_column=flux_column, time_format=\"btjd\")\n",
      "1% (186/17256) of the cadences will be ignored due to the quality mask (quality_bitmask=175).\n",
      "1% (186/17256) of the cadences will be ignored due to the quality mask (quality_bitmask=175).\n"
     ]
    },
    {
     "name": "stdout",
     "output_type": "stream",
     "text": [
      "date: 2022_08_02\n",
      "LC successfully detrended.\n"
     ]
    },
    {
     "name": "stderr",
     "output_type": "stream",
     "text": [
      "/home/ekaterina/Documents/000_envs/python37/lib/python3.7/site-packages/numpy/lib/nanfunctions.py:1117: RuntimeWarning: Mean of empty slice\n",
      "  return np.nanmean(a, axis, out=out, keepdims=keepdims)\n",
      "Found 0 candidate(s) in the (0,8419) gap.\n",
      "Found 0 candidate(s) in the (8419,15475) gap.\n"
     ]
    },
    {
     "name": "stdout",
     "output_type": "stream",
     "text": [
      "Transit midtime in TESS time: 2570.493415000383\n",
      "No flares found in LC.\n",
      "Wrote out LC to /home/ekaterina/Documents/001_science/lcs/2022_08_02_7059054_45_altai_0.fits.\n",
      "Get TESS Sector/Quarter 46, TIC 7059054, K2-121, short cadence.\n"
     ]
    },
    {
     "name": "stderr",
     "output_type": "stream",
     "text": [
      "/home/ekaterina/Documents/000_envs/python37/lib/python3.7/site-packages/lightkurve/io/tess.py:34: ResourceWarning: unclosed file <_io.FileIO name='/home/ekaterina/Documents/001_science/lcs/mastDownload/TESS/tess2021336043614-s0046-0000000007059054-0217-s/tess2021336043614-s0046-0000000007059054-0217-s_lc.fits' mode='rb' closefd=True>\n",
      "  lc = read_generic_lightcurve(filename, flux_column=flux_column, time_format=\"btjd\")\n",
      "2% (387/18539) of the cadences will be ignored due to the quality mask (quality_bitmask=175).\n",
      "2% (387/18539) of the cadences will be ignored due to the quality mask (quality_bitmask=175).\n"
     ]
    },
    {
     "name": "stdout",
     "output_type": "stream",
     "text": [
      "date: 2022_08_02\n",
      "LC successfully detrended.\n"
     ]
    },
    {
     "name": "stderr",
     "output_type": "stream",
     "text": [
      "/home/ekaterina/Documents/000_envs/python37/lib/python3.7/site-packages/numpy/lib/nanfunctions.py:1117: RuntimeWarning: Mean of empty slice\n",
      "  return np.nanmean(a, axis, out=out, keepdims=keepdims)\n",
      "Found 0 candidate(s) in the (0,8483) gap.\n",
      "Found 0 candidate(s) in the (8483,16639) gap.\n",
      "/home/ekaterina/Documents/000_envs/python37/lib/python3.7/site-packages/ipykernel_launcher.py:88: LightkurveDeprecationWarning: The search_lightcurvefile function is deprecated and may be removed in a future version.\n",
      "        Use search_lightcurve() instead.\n"
     ]
    },
    {
     "name": "stdout",
     "output_type": "stream",
     "text": [
      "Transit midtime in TESS time: 2570.493415000383\n",
      "No flares found in LC.\n",
      "Wrote out LC to /home/ekaterina/Documents/001_science/lcs/2022_08_02_7059054_46_altai_0.fits.\n",
      "\n",
      "---------------------\n",
      "0 flares found!\n",
      "-------------------\n",
      "\n",
      "(0, 0)\n"
     ]
    },
    {
     "name": "stderr",
     "output_type": "stream",
     "text": [
      "/home/ekaterina/Documents/000_envs/python37/lib/python3.7/site-packages/ipykernel_launcher.py:88: LightkurveDeprecationWarning: The search_lightcurvefile function is deprecated and may be removed in a future version.\n",
      "        Use search_lightcurve() instead.\n",
      "/home/ekaterina/Documents/000_envs/python37/lib/python3.7/site-packages/ipykernel_launcher.py:88: LightkurveDeprecationWarning: The search_lightcurvefile function is deprecated and may be removed in a future version.\n",
      "        Use search_lightcurve() instead.\n"
     ]
    },
    {
     "name": "stdout",
     "output_type": "stream",
     "text": [
      "Get TESS Sector/Quarter 13, TIC 7088246, HATS-23, short cadence.\n"
     ]
    },
    {
     "name": "stderr",
     "output_type": "stream",
     "text": [
      "/home/ekaterina/Documents/000_envs/python37/lib/python3.7/site-packages/lightkurve/io/tess.py:34: ResourceWarning: unclosed file <_io.FileIO name='/home/ekaterina/Documents/001_science/lcs/mastDownload/TESS/tess2019169103026-s0013-0000000007088246-0146-s/tess2019169103026-s0013-0000000007088246-0146-s_lc.fits' mode='rb' closefd=True>\n",
      "  lc = read_generic_lightcurve(filename, flux_column=flux_column, time_format=\"btjd\")\n",
      "2% (370/19811) of the cadences will be ignored due to the quality mask (quality_bitmask=175).\n",
      "2% (370/19811) of the cadences will be ignored due to the quality mask (quality_bitmask=175).\n"
     ]
    },
    {
     "name": "stdout",
     "output_type": "stream",
     "text": [
      "date: 2022_08_02\n",
      "LC successfully detrended.\n"
     ]
    },
    {
     "name": "stderr",
     "output_type": "stream",
     "text": [
      "/home/ekaterina/Documents/000_envs/python37/lib/python3.7/site-packages/numpy/lib/nanfunctions.py:1117: RuntimeWarning: Mean of empty slice\n",
      "  return np.nanmean(a, axis, out=out, keepdims=keepdims)\n",
      "Found 0 candidate(s) in the (0,7344) gap.\n",
      "Found 0 candidate(s) in the (7344,17072) gap.\n",
      "/home/ekaterina/Documents/000_envs/python37/lib/python3.7/site-packages/ipykernel_launcher.py:88: LightkurveDeprecationWarning: The search_lightcurvefile function is deprecated and may be removed in a future version.\n",
      "        Use search_lightcurve() instead.\n"
     ]
    },
    {
     "name": "stdout",
     "output_type": "stream",
     "text": [
      "Transit midtime in TESS time: 1654.3479940001853\n",
      "No flares found in LC.\n",
      "Wrote out LC to /home/ekaterina/Documents/001_science/lcs/2022_08_02_7088246_13_altai_0.fits.\n",
      "\n",
      "---------------------\n",
      "0 flares found!\n",
      "-------------------\n",
      "\n",
      "(0, 0)\n",
      "Get TESS Sector/Quarter 05, TIC 70899085, LP 714-47, short cadence.\n"
     ]
    },
    {
     "name": "stderr",
     "output_type": "stream",
     "text": [
      "/home/ekaterina/Documents/000_envs/python37/lib/python3.7/site-packages/lightkurve/io/tess.py:34: ResourceWarning: unclosed file <_io.FileIO name='/home/ekaterina/Documents/001_science/lcs/mastDownload/TESS/tess2018319095959-s0005-0000000070899085-0125-s/tess2018319095959-s0005-0000000070899085-0125-s_lc.fits' mode='rb' closefd=True>\n",
      "  lc = read_generic_lightcurve(filename, flux_column=flux_column, time_format=\"btjd\")\n",
      "1% (252/17971) of the cadences will be ignored due to the quality mask (quality_bitmask=175).\n",
      "1% (252/17971) of the cadences will be ignored due to the quality mask (quality_bitmask=175).\n"
     ]
    },
    {
     "name": "stdout",
     "output_type": "stream",
     "text": [
      "date: 2022_08_02\n",
      "LC successfully detrended.\n"
     ]
    },
    {
     "name": "stderr",
     "output_type": "stream",
     "text": [
      "/home/ekaterina/Documents/000_envs/python37/lib/python3.7/site-packages/numpy/lib/nanfunctions.py:1117: RuntimeWarning: Mean of empty slice\n",
      "  return np.nanmean(a, axis, out=out, keepdims=keepdims)\n",
      "Found 0 candidate(s) in the (0,8377) gap.\n",
      "Found 0 candidate(s) in the (8377,17016) gap.\n"
     ]
    },
    {
     "name": "stdout",
     "output_type": "stream",
     "text": [
      "Transit midtime in TESS time: 2196.1153409997933\n",
      "No flares found in LC.\n",
      "Wrote out LC to /home/ekaterina/Documents/001_science/lcs/2022_08_02_70899085_05_altai_0.fits.\n",
      "Get TESS Sector/Quarter 32, TIC 70899085, LP 714-47, short cadence.\n"
     ]
    },
    {
     "name": "stderr",
     "output_type": "stream",
     "text": [
      "/home/ekaterina/Documents/000_envs/python37/lib/python3.7/site-packages/lightkurve/io/tess.py:34: ResourceWarning: unclosed file <_io.FileIO name='/home/ekaterina/Documents/001_science/lcs/mastDownload/TESS/tess2020324010417-s0032-0000000070899085-0200-s/tess2020324010417-s0032-0000000070899085-0200-s_lc.fits' mode='rb' closefd=True>\n",
      "  lc = read_generic_lightcurve(filename, flux_column=flux_column, time_format=\"btjd\")\n",
      "0% (34/18011) of the cadences will be ignored due to the quality mask (quality_bitmask=175).\n",
      "0% (34/18011) of the cadences will be ignored due to the quality mask (quality_bitmask=175).\n"
     ]
    },
    {
     "name": "stdout",
     "output_type": "stream",
     "text": [
      "date: 2022_08_02\n",
      "LC successfully detrended.\n"
     ]
    },
    {
     "name": "stderr",
     "output_type": "stream",
     "text": [
      "/home/ekaterina/Documents/000_envs/python37/lib/python3.7/site-packages/numpy/lib/nanfunctions.py:1117: RuntimeWarning: Mean of empty slice\n",
      "  return np.nanmean(a, axis, out=out, keepdims=keepdims)\n",
      "Found 0 candidate(s) in the (0,8296) gap.\n",
      "Found 2 candidate(s) in the (8296,17587) gap.\n",
      "/home/ekaterina/Documents/000_envs/python37/lib/python3.7/site-packages/ipykernel_launcher.py:88: LightkurveDeprecationWarning: The search_lightcurvefile function is deprecated and may be removed in a future version.\n",
      "        Use search_lightcurve() instead.\n"
     ]
    },
    {
     "name": "stdout",
     "output_type": "stream",
     "text": [
      "Transit midtime in TESS time: 2196.1153409997933\n",
      "Flares found:\n",
      "        tstart        tstop     phase  ampl_rec       dur\n",
      "0  2199.733034  2199.745534  0.892809  0.005726  0.012499\n",
      "1  2199.751089  2200.094131  0.897264  0.012956  0.343042\n",
      "Wrote out LC to /home/ekaterina/Documents/001_science/lcs/2022_08_02_70899085_32_altai_0.fits.\n",
      "\n",
      "---------------------\n",
      "2 flares found!\n",
      "-------------------\n",
      "\n",
      "(0, 0)\n"
     ]
    },
    {
     "name": "stderr",
     "output_type": "stream",
     "text": [
      "/home/ekaterina/Documents/000_envs/python37/lib/python3.7/site-packages/ipykernel_launcher.py:88: LightkurveDeprecationWarning: The search_lightcurvefile function is deprecated and may be removed in a future version.\n",
      "        Use search_lightcurve() instead.\n",
      "No data found for target \"WASP-68\".\n",
      "No data found for target \"WASP-68\".\n",
      "/home/ekaterina/Documents/000_envs/python37/lib/python3.7/site-packages/ipykernel_launcher.py:93: LightkurveDeprecationWarning: The search_lightcurvefile function is deprecated and may be removed in a future version.\n",
      "        Use search_lightcurve() instead.\n",
      "No data found for target \"TIC 71841620\".\n",
      "No data found for target \"TIC 71841620\".\n",
      "/home/ekaterina/Documents/000_envs/python37/lib/python3.7/site-packages/ipykernel_launcher.py:88: LightkurveDeprecationWarning: The search_lightcurvefile function is deprecated and may be removed in a future version.\n",
      "        Use search_lightcurve() instead.\n"
     ]
    },
    {
     "name": "stdout",
     "output_type": "stream",
     "text": [
      "Get TESS Sector/Quarter 10, TIC 73228647, HD 110113, short cadence.\n"
     ]
    },
    {
     "name": "stderr",
     "output_type": "stream",
     "text": [
      "/home/ekaterina/Documents/000_envs/python37/lib/python3.7/site-packages/lightkurve/io/tess.py:34: ResourceWarning: unclosed file <_io.FileIO name='/home/ekaterina/Documents/001_science/lcs/mastDownload/TESS/tess2019085135100-s0010-0000000073228647-0140-s/tess2019085135100-s0010-0000000073228647-0140-s_lc.fits' mode='rb' closefd=True>\n",
      "  lc = read_generic_lightcurve(filename, flux_column=flux_column, time_format=\"btjd\")\n",
      "3% (505/18197) of the cadences will be ignored due to the quality mask (quality_bitmask=175).\n",
      "3% (505/18197) of the cadences will be ignored due to the quality mask (quality_bitmask=175).\n"
     ]
    },
    {
     "name": "stdout",
     "output_type": "stream",
     "text": [
      "date: 2022_08_02\n",
      "LC successfully detrended.\n"
     ]
    },
    {
     "name": "stderr",
     "output_type": "stream",
     "text": [
      "/home/ekaterina/Documents/000_envs/python37/lib/python3.7/site-packages/numpy/lib/nanfunctions.py:1117: RuntimeWarning: Mean of empty slice\n",
      "  return np.nanmean(a, axis, out=out, keepdims=keepdims)\n",
      "Found 0 candidate(s) in the (0,7660) gap.\n",
      "Found 0 candidate(s) in the (7660,15416) gap.\n"
     ]
    },
    {
     "name": "stdout",
     "output_type": "stream",
     "text": [
      "Transit midtime in TESS time: 2309.38083499996\n",
      "No flares found in LC.\n",
      "Wrote out LC to /home/ekaterina/Documents/001_science/lcs/2022_08_02_73228647_10_altai_0.fits.\n",
      "Get TESS Sector/Quarter 37, TIC 73228647, HD 110113, short cadence.\n"
     ]
    },
    {
     "name": "stderr",
     "output_type": "stream",
     "text": [
      "/home/ekaterina/Documents/000_envs/python37/lib/python3.7/site-packages/lightkurve/io/tess.py:34: ResourceWarning: unclosed file <_io.FileIO name='/home/ekaterina/Documents/001_science/lcs/mastDownload/TESS/tess2021091135823-s0037-0000000073228647-0208-s/tess2021091135823-s0037-0000000073228647-0208-s_lc.fits' mode='rb' closefd=True>\n",
      "  lc = read_generic_lightcurve(filename, flux_column=flux_column, time_format=\"btjd\")\n",
      "0% (53/17391) of the cadences will be ignored due to the quality mask (quality_bitmask=175).\n",
      "0% (53/17391) of the cadences will be ignored due to the quality mask (quality_bitmask=175).\n"
     ]
    },
    {
     "name": "stdout",
     "output_type": "stream",
     "text": [
      "date: 2022_08_02\n",
      "LC successfully detrended.\n"
     ]
    },
    {
     "name": "stderr",
     "output_type": "stream",
     "text": [
      "/home/ekaterina/Documents/000_envs/python37/lib/python3.7/site-packages/numpy/lib/nanfunctions.py:1117: RuntimeWarning: Mean of empty slice\n",
      "  return np.nanmean(a, axis, out=out, keepdims=keepdims)\n",
      "Found 0 candidate(s) in the (0,7866) gap.\n",
      "Found 0 candidate(s) in the (7866,15962) gap.\n",
      "/home/ekaterina/Documents/000_envs/python37/lib/python3.7/site-packages/ipykernel_launcher.py:88: LightkurveDeprecationWarning: The search_lightcurvefile function is deprecated and may be removed in a future version.\n",
      "        Use search_lightcurve() instead.\n"
     ]
    },
    {
     "name": "stdout",
     "output_type": "stream",
     "text": [
      "Transit midtime in TESS time: 2309.38083499996\n",
      "No flares found in LC.\n",
      "Wrote out LC to /home/ekaterina/Documents/001_science/lcs/2022_08_02_73228647_37_altai_0.fits.\n",
      "\n",
      "---------------------\n",
      "0 flares found!\n",
      "-------------------\n",
      "\n",
      "(0, 0)\n",
      "Get TESS Sector/Quarter 37, TIC 73717937, HATS-17, fast cadence.\n"
     ]
    },
    {
     "name": "stderr",
     "output_type": "stream",
     "text": [
      "/home/ekaterina/Documents/000_envs/python37/lib/python3.7/site-packages/lightkurve/io/tess.py:34: ResourceWarning: unclosed file <_io.FileIO name='/home/ekaterina/Documents/001_science/lcs/mastDownload/TESS/tess2021091135823-s0037-0000000073717937-0208-a_fast/tess2021091135823-s0037-0000000073717937-0208-a_fast-lc.fits' mode='rb' closefd=True>\n",
      "  lc = read_generic_lightcurve(filename, flux_column=flux_column, time_format=\"btjd\")\n",
      "0% (267/104361) of the cadences will be ignored due to the quality mask (quality_bitmask=175).\n",
      "0% (267/104361) of the cadences will be ignored due to the quality mask (quality_bitmask=175).\n"
     ]
    },
    {
     "name": "stdout",
     "output_type": "stream",
     "text": [
      "date: 2022_08_02\n",
      "LC successfully detrended.\n"
     ]
    },
    {
     "name": "stderr",
     "output_type": "stream",
     "text": [
      "/home/ekaterina/Documents/000_envs/python37/lib/python3.7/site-packages/numpy/lib/nanfunctions.py:1117: RuntimeWarning: Mean of empty slice\n",
      "  return np.nanmean(a, axis, out=out, keepdims=keepdims)\n",
      "Found 0 candidate(s) in the (0,46724) gap.\n",
      "Found 0 candidate(s) in the (46724,94947) gap.\n"
     ]
    },
    {
     "name": "stdout",
     "output_type": "stream",
     "text": [
      "Transit midtime in TESS time: 1602.0888430001214\n",
      "No flares found in LC.\n",
      "Wrote out LC to /home/ekaterina/Documents/001_science/lcs/2022_08_02_73717937_37_altai_0.fits.\n",
      "Get TESS Sector/Quarter 10, TIC 73717937, HATS-17, short cadence.\n"
     ]
    },
    {
     "name": "stderr",
     "output_type": "stream",
     "text": [
      "/home/ekaterina/Documents/000_envs/python37/lib/python3.7/site-packages/lightkurve/io/tess.py:34: ResourceWarning: unclosed file <_io.FileIO name='/home/ekaterina/Documents/001_science/lcs/mastDownload/TESS/tess2019085135100-s0010-0000000073717937-0140-s/tess2019085135100-s0010-0000000073717937-0140-s_lc.fits' mode='rb' closefd=True>\n",
      "  lc = read_generic_lightcurve(filename, flux_column=flux_column, time_format=\"btjd\")\n",
      "3% (505/18197) of the cadences will be ignored due to the quality mask (quality_bitmask=175).\n",
      "3% (505/18197) of the cadences will be ignored due to the quality mask (quality_bitmask=175).\n"
     ]
    },
    {
     "name": "stdout",
     "output_type": "stream",
     "text": [
      "date: 2022_08_02\n",
      "LC successfully detrended.\n"
     ]
    },
    {
     "name": "stderr",
     "output_type": "stream",
     "text": [
      "/home/ekaterina/Documents/000_envs/python37/lib/python3.7/site-packages/numpy/lib/nanfunctions.py:1117: RuntimeWarning: Mean of empty slice\n",
      "  return np.nanmean(a, axis, out=out, keepdims=keepdims)\n",
      "Found 0 candidate(s) in the (0,7490) gap.\n",
      "Found 0 candidate(s) in the (7490,14970) gap.\n"
     ]
    },
    {
     "name": "stdout",
     "output_type": "stream",
     "text": [
      "Transit midtime in TESS time: 1602.0888430001214\n",
      "No flares found in LC.\n",
      "Wrote out LC to /home/ekaterina/Documents/001_science/lcs/2022_08_02_73717937_10_altai_0.fits.\n",
      "Get TESS Sector/Quarter 11, TIC 73717937, HATS-17, short cadence.\n"
     ]
    },
    {
     "name": "stderr",
     "output_type": "stream",
     "text": [
      "/home/ekaterina/Documents/000_envs/python37/lib/python3.7/site-packages/lightkurve/io/tess.py:34: ResourceWarning: unclosed file <_io.FileIO name='/home/ekaterina/Documents/001_science/lcs/mastDownload/TESS/tess2019112060037-s0011-0000000073717937-0143-s/tess2019112060037-s0011-0000000073717937-0143-s_lc.fits' mode='rb' closefd=True>\n",
      "  lc = read_generic_lightcurve(filename, flux_column=flux_column, time_format=\"btjd\")\n",
      "3% (562/18749) of the cadences will be ignored due to the quality mask (quality_bitmask=175).\n",
      "3% (562/18749) of the cadences will be ignored due to the quality mask (quality_bitmask=175).\n"
     ]
    },
    {
     "name": "stdout",
     "output_type": "stream",
     "text": [
      "date: 2022_08_02\n",
      "LC successfully detrended.\n"
     ]
    },
    {
     "name": "stderr",
     "output_type": "stream",
     "text": [
      "/home/ekaterina/Documents/000_envs/python37/lib/python3.7/site-packages/numpy/lib/nanfunctions.py:1117: RuntimeWarning: Mean of empty slice\n",
      "  return np.nanmean(a, axis, out=out, keepdims=keepdims)\n",
      "Found 0 candidate(s) in the (0,6828) gap.\n",
      "Found 0 candidate(s) in the (6828,13654) gap.\n",
      "/home/ekaterina/Documents/000_envs/python37/lib/python3.7/site-packages/ipykernel_launcher.py:88: LightkurveDeprecationWarning: The search_lightcurvefile function is deprecated and may be removed in a future version.\n",
      "        Use search_lightcurve() instead.\n"
     ]
    },
    {
     "name": "stdout",
     "output_type": "stream",
     "text": [
      "Transit midtime in TESS time: 1602.0888430001214\n",
      "No flares found in LC.\n",
      "Wrote out LC to /home/ekaterina/Documents/001_science/lcs/2022_08_02_73717937_11_altai_0.fits.\n",
      "\n",
      "---------------------\n",
      "0 flares found!\n",
      "-------------------\n",
      "\n",
      "(0, 0)\n"
     ]
    },
    {
     "name": "stderr",
     "output_type": "stream",
     "text": [
      "/home/ekaterina/Documents/000_envs/python37/lib/python3.7/site-packages/ipykernel_launcher.py:88: LightkurveDeprecationWarning: The search_lightcurvefile function is deprecated and may be removed in a future version.\n",
      "        Use search_lightcurve() instead.\n",
      "Could not resolve K2-316 to a sky position.\n",
      "Could not resolve K2-316 to a sky position.\n",
      "/home/ekaterina/Documents/000_envs/python37/lib/python3.7/site-packages/ipykernel_launcher.py:93: LightkurveDeprecationWarning: The search_lightcurvefile function is deprecated and may be removed in a future version.\n",
      "        Use search_lightcurve() instead.\n",
      "/home/ekaterina/Documents/000_envs/python37/lib/python3.7/site-packages/ipykernel_launcher.py:88: LightkurveDeprecationWarning: The search_lightcurvefile function is deprecated and may be removed in a future version.\n",
      "        Use search_lightcurve() instead.\n",
      "Could not resolve K2-378 to a sky position.\n",
      "Could not resolve K2-378 to a sky position.\n",
      "/home/ekaterina/Documents/000_envs/python37/lib/python3.7/site-packages/ipykernel_launcher.py:93: LightkurveDeprecationWarning: The search_lightcurvefile function is deprecated and may be removed in a future version.\n",
      "        Use search_lightcurve() instead.\n",
      "/home/ekaterina/Documents/000_envs/python37/lib/python3.7/site-packages/ipykernel_launcher.py:88: LightkurveDeprecationWarning: The search_lightcurvefile function is deprecated and may be removed in a future version.\n",
      "        Use search_lightcurve() instead.\n",
      "/home/ekaterina/Documents/000_envs/python37/lib/python3.7/site-packages/ipykernel_launcher.py:88: LightkurveDeprecationWarning: The search_lightcurvefile function is deprecated and may be removed in a future version.\n",
      "        Use search_lightcurve() instead.\n",
      "/home/ekaterina/Documents/000_envs/python37/lib/python3.7/site-packages/ipykernel_launcher.py:88: LightkurveDeprecationWarning: The search_lightcurvefile function is deprecated and may be removed in a future version.\n",
      "        Use search_lightcurve() instead.\n"
     ]
    },
    {
     "name": "stdout",
     "output_type": "stream",
     "text": [
      "Get TESS Sector/Quarter 41, TIC 75262942, Wendelstein-1, short cadence.\n"
     ]
    },
    {
     "name": "stderr",
     "output_type": "stream",
     "text": [
      "/home/ekaterina/Documents/000_envs/python37/lib/python3.7/site-packages/lightkurve/io/tess.py:34: ResourceWarning: unclosed file <_io.FileIO name='/home/ekaterina/Documents/001_science/lcs/mastDownload/TESS/tess2021204101404-s0041-0000000075262942-0212-s/tess2021204101404-s0041-0000000075262942-0212-s_lc.fits' mode='rb' closefd=True>\n",
      "  lc = read_generic_lightcurve(filename, flux_column=flux_column, time_format=\"btjd\")\n",
      "0% (26/18348) of the cadences will be ignored due to the quality mask (quality_bitmask=175).\n",
      "0% (26/18348) of the cadences will be ignored due to the quality mask (quality_bitmask=175).\n"
     ]
    },
    {
     "name": "stdout",
     "output_type": "stream",
     "text": [
      "date: 2022_08_02\n",
      "LC successfully detrended.\n"
     ]
    },
    {
     "name": "stderr",
     "output_type": "stream",
     "text": [
      "/home/ekaterina/Documents/000_envs/python37/lib/python3.7/site-packages/numpy/lib/nanfunctions.py:1117: RuntimeWarning: Mean of empty slice\n",
      "  return np.nanmean(a, axis, out=out, keepdims=keepdims)\n",
      "Found 0 candidate(s) in the (0,9071) gap.\n",
      "Found 0 candidate(s) in the (9071,18322) gap.\n",
      "/home/ekaterina/Documents/000_envs/python37/lib/python3.7/site-packages/ipykernel_launcher.py:88: LightkurveDeprecationWarning: The search_lightcurvefile function is deprecated and may be removed in a future version.\n",
      "        Use search_lightcurve() instead.\n"
     ]
    },
    {
     "name": "stdout",
     "output_type": "stream",
     "text": [
      "Transit midtime in TESS time: 2421.4617929998785\n",
      "No flares found in LC.\n",
      "Wrote out LC to /home/ekaterina/Documents/001_science/lcs/2022_08_02_75262942_41_altai_0.fits.\n",
      "\n",
      "---------------------\n",
      "0 flares found!\n",
      "-------------------\n",
      "\n",
      "(0, 0)\n"
     ]
    },
    {
     "name": "stderr",
     "output_type": "stream",
     "text": [
      "/home/ekaterina/Documents/000_envs/python37/lib/python3.7/site-packages/ipykernel_launcher.py:88: LightkurveDeprecationWarning: The search_lightcurvefile function is deprecated and may be removed in a future version.\n",
      "        Use search_lightcurve() instead.\n"
     ]
    },
    {
     "name": "stdout",
     "output_type": "stream",
     "text": [
      "Get TESS Sector/Quarter 26, TIC 76419763, HAT-P-5, short cadence.\n"
     ]
    },
    {
     "name": "stderr",
     "output_type": "stream",
     "text": [
      "/home/ekaterina/Documents/000_envs/python37/lib/python3.7/site-packages/lightkurve/io/tess.py:34: ResourceWarning: unclosed file <_io.FileIO name='/home/ekaterina/Documents/001_science/lcs/mastDownload/TESS/tess2020160202036-s0026-0000000076419763-0188-s/tess2020160202036-s0026-0000000076419763-0188-s_lc.fits' mode='rb' closefd=True>\n",
      "  lc = read_generic_lightcurve(filename, flux_column=flux_column, time_format=\"btjd\")\n",
      "2% (306/17248) of the cadences will be ignored due to the quality mask (quality_bitmask=175).\n",
      "2% (306/17248) of the cadences will be ignored due to the quality mask (quality_bitmask=175).\n"
     ]
    },
    {
     "name": "stdout",
     "output_type": "stream",
     "text": [
      "date: 2022_08_02\n",
      "LC successfully detrended.\n"
     ]
    },
    {
     "name": "stderr",
     "output_type": "stream",
     "text": [
      "/home/ekaterina/Documents/000_envs/python37/lib/python3.7/site-packages/numpy/lib/nanfunctions.py:1117: RuntimeWarning: Mean of empty slice\n",
      "  return np.nanmean(a, axis, out=out, keepdims=keepdims)\n",
      "Found 0 candidate(s) in the (0,8442) gap.\n",
      "Found 1 candidate(s) in the (8442,16941) gap.\n"
     ]
    },
    {
     "name": "stdout",
     "output_type": "stream",
     "text": [
      "Transit midtime in TESS time: 2414.3947419999167\n",
      "Flares found:\n",
      "        tstart        tstop    phase  ampl_rec       dur\n",
      "0  2034.891376  2035.109432  0.90363  0.012577  0.218055\n",
      "Wrote out LC to /home/ekaterina/Documents/001_science/lcs/2022_08_02_76419763_26_altai_0.fits.\n",
      "Get TESS Sector/Quarter 40, TIC 76419763, HAT-P-5, short cadence.\n"
     ]
    },
    {
     "name": "stderr",
     "output_type": "stream",
     "text": [
      "/home/ekaterina/Documents/000_envs/python37/lib/python3.7/site-packages/lightkurve/io/tess.py:34: ResourceWarning: unclosed file <_io.FileIO name='/home/ekaterina/Documents/001_science/lcs/mastDownload/TESS/tess2021175071901-s0040-0000000076419763-0211-s/tess2021175071901-s0040-0000000076419763-0211-s_lc.fits' mode='rb' closefd=True>\n",
      "  lc = read_generic_lightcurve(filename, flux_column=flux_column, time_format=\"btjd\")\n",
      "0% (32/19643) of the cadences will be ignored due to the quality mask (quality_bitmask=175).\n",
      "0% (32/19643) of the cadences will be ignored due to the quality mask (quality_bitmask=175).\n"
     ]
    },
    {
     "name": "stdout",
     "output_type": "stream",
     "text": [
      "date: 2022_08_02\n",
      "LC successfully detrended.\n"
     ]
    },
    {
     "name": "stderr",
     "output_type": "stream",
     "text": [
      "/home/ekaterina/Documents/000_envs/python37/lib/python3.7/site-packages/numpy/lib/nanfunctions.py:1117: RuntimeWarning: Mean of empty slice\n",
      "  return np.nanmean(a, axis, out=out, keepdims=keepdims)\n",
      "Found 0 candidate(s) in the (0,9882) gap.\n",
      "Found 0 candidate(s) in the (9882,19611) gap.\n"
     ]
    },
    {
     "name": "stdout",
     "output_type": "stream",
     "text": [
      "Transit midtime in TESS time: 2414.3947419999167\n",
      "No flares found in LC.\n",
      "Wrote out LC to /home/ekaterina/Documents/001_science/lcs/2022_08_02_76419763_40_altai_0.fits.\n",
      "Get TESS Sector/Quarter 53, TIC 76419763, HAT-P-5, short cadence.\n"
     ]
    },
    {
     "name": "stderr",
     "output_type": "stream",
     "text": [
      "/home/ekaterina/Documents/000_envs/python37/lib/python3.7/site-packages/lightkurve/io/tess.py:34: ResourceWarning: unclosed file <_io.FileIO name='/home/ekaterina/Documents/001_science/lcs/mastDownload/TESS/tess2022164095748-s0053-0000000076419763-0226-s/tess2022164095748-s0053-0000000076419763-0226-s_lc.fits' mode='rb' closefd=True>\n",
      "  lc = read_generic_lightcurve(filename, flux_column=flux_column, time_format=\"btjd\")\n",
      "0% (30/17336) of the cadences will be ignored due to the quality mask (quality_bitmask=175).\n",
      "0% (30/17336) of the cadences will be ignored due to the quality mask (quality_bitmask=175).\n"
     ]
    },
    {
     "name": "stdout",
     "output_type": "stream",
     "text": [
      "date: 2022_08_02\n",
      "LC successfully detrended.\n"
     ]
    },
    {
     "name": "stderr",
     "output_type": "stream",
     "text": [
      "/home/ekaterina/Documents/000_envs/python37/lib/python3.7/site-packages/numpy/lib/nanfunctions.py:1117: RuntimeWarning: Mean of empty slice\n",
      "  return np.nanmean(a, axis, out=out, keepdims=keepdims)\n",
      "Found 0 candidate(s) in the (0,2746) gap.\n",
      "Found 0 candidate(s) in the (2746,5596) gap.\n",
      "Found 0 candidate(s) in the (5596,8854) gap.\n",
      "Found 0 candidate(s) in the (8854,11707) gap.\n",
      "/home/ekaterina/Documents/000_envs/python37/lib/python3.7/site-packages/ipykernel_launcher.py:88: LightkurveDeprecationWarning: The search_lightcurvefile function is deprecated and may be removed in a future version.\n",
      "        Use search_lightcurve() instead.\n"
     ]
    },
    {
     "name": "stdout",
     "output_type": "stream",
     "text": [
      "Transit midtime in TESS time: 2414.3947419999167\n",
      "No flares found in LC.\n",
      "Wrote out LC to /home/ekaterina/Documents/001_science/lcs/2022_08_02_76419763_53_altai_0.fits.\n",
      "\n",
      "---------------------\n",
      "1 flares found!\n",
      "-------------------\n",
      "\n",
      "(0, 0)\n",
      "Get TESS Sector/Quarter 29, TIC 77031414, WASP-173 A, fast cadence.\n"
     ]
    },
    {
     "name": "stderr",
     "output_type": "stream",
     "text": [
      "/home/ekaterina/Documents/000_envs/python37/lib/python3.7/site-packages/lightkurve/io/tess.py:34: ResourceWarning: unclosed file <_io.FileIO name='/home/ekaterina/Documents/001_science/lcs/mastDownload/TESS/tess2020238165205-s0029-0000000077031414-0193-a_fast/tess2020238165205-s0029-0000000077031414-0193-a_fast-lc.fits' mode='rb' closefd=True>\n",
      "  lc = read_generic_lightcurve(filename, flux_column=flux_column, time_format=\"btjd\")\n",
      "1% (1060/109110) of the cadences will be ignored due to the quality mask (quality_bitmask=175).\n",
      "1% (1060/109110) of the cadences will be ignored due to the quality mask (quality_bitmask=175).\n"
     ]
    },
    {
     "name": "stdout",
     "output_type": "stream",
     "text": [
      "date: 2022_08_02\n",
      "LC successfully detrended.\n"
     ]
    },
    {
     "name": "stderr",
     "output_type": "stream",
     "text": [
      "/home/ekaterina/Documents/000_envs/python37/lib/python3.7/site-packages/numpy/lib/nanfunctions.py:1117: RuntimeWarning: Mean of empty slice\n",
      "  return np.nanmean(a, axis, out=out, keepdims=keepdims)\n",
      "Found 0 candidate(s) in the (0,43604) gap.\n",
      "Found 0 candidate(s) in the (43604,87333) gap.\n"
     ]
    },
    {
     "name": "stdout",
     "output_type": "stream",
     "text": [
      "Transit midtime in TESS time: 1355.195919000078\n",
      "No flares found in LC.\n",
      "Wrote out LC to /home/ekaterina/Documents/001_science/lcs/2022_08_02_77031414_29_altai_0.fits.\n",
      "Get TESS Sector/Quarter 02, TIC 77031414, WASP-173 A, short cadence.\n"
     ]
    },
    {
     "name": "stderr",
     "output_type": "stream",
     "text": [
      "/home/ekaterina/Documents/000_envs/python37/lib/python3.7/site-packages/lightkurve/io/tess.py:34: ResourceWarning: unclosed file <_io.FileIO name='/home/ekaterina/Documents/001_science/lcs/mastDownload/TESS/tess2018234235059-s0002-0000000077031414-0121-s/tess2018234235059-s0002-0000000077031414-0121-s_lc.fits' mode='rb' closefd=True>\n",
      "  lc = read_generic_lightcurve(filename, flux_column=flux_column, time_format=\"btjd\")\n",
      "2% (399/18699) of the cadences will be ignored due to the quality mask (quality_bitmask=175).\n",
      "2% (399/18699) of the cadences will be ignored due to the quality mask (quality_bitmask=175).\n"
     ]
    },
    {
     "name": "stdout",
     "output_type": "stream",
     "text": [
      "date: 2022_08_02\n"
     ]
    },
    {
     "name": "stderr",
     "output_type": "stream",
     "text": [
      "/home/ekaterina/Documents/001_science/Flaring_SPI/notebooks/funcs/detrend.py:364: RuntimeWarning: overflow encountered in exp\n",
      "  return a * np.exp(b * (c - x)) + d * np.exp(e * (f - x)) + g\n",
      "/home/ekaterina/Documents/001_science/Flaring_SPI/notebooks/funcs/detrend.py:364: RuntimeWarning: overflow encountered in multiply\n",
      "  return a * np.exp(b * (c - x)) + d * np.exp(e * (f - x)) + g\n"
     ]
    },
    {
     "name": "stdout",
     "output_type": "stream",
     "text": [
      "LC successfully detrended.\n"
     ]
    },
    {
     "name": "stderr",
     "output_type": "stream",
     "text": [
      "/home/ekaterina/Documents/000_envs/python37/lib/python3.7/site-packages/numpy/lib/nanfunctions.py:1117: RuntimeWarning: Mean of empty slice\n",
      "  return np.nanmean(a, axis, out=out, keepdims=keepdims)\n",
      "Found 0 candidate(s) in the (0,9226) gap.\n",
      "Found 0 candidate(s) in the (9226,18300) gap.\n",
      "/home/ekaterina/Documents/000_envs/python37/lib/python3.7/site-packages/ipykernel_launcher.py:88: LightkurveDeprecationWarning: The search_lightcurvefile function is deprecated and may be removed in a future version.\n",
      "        Use search_lightcurve() instead.\n"
     ]
    },
    {
     "name": "stdout",
     "output_type": "stream",
     "text": [
      "Transit midtime in TESS time: 1355.195919000078\n",
      "No flares found in LC.\n",
      "Wrote out LC to /home/ekaterina/Documents/001_science/lcs/2022_08_02_77031414_02_altai_0.fits.\n",
      "\n",
      "---------------------\n",
      "0 flares found!\n",
      "-------------------\n",
      "\n",
      "(0, 0)\n",
      "Get TESS Sector/Quarter 29, TIC 77044471, HATS-16, fast cadence.\n"
     ]
    },
    {
     "name": "stderr",
     "output_type": "stream",
     "text": [
      "/home/ekaterina/Documents/000_envs/python37/lib/python3.7/site-packages/lightkurve/io/tess.py:34: ResourceWarning: unclosed file <_io.FileIO name='/home/ekaterina/Documents/001_science/lcs/mastDownload/TESS/tess2020238165205-s0029-0000000077044471-0193-a_fast/tess2020238165205-s0029-0000000077044471-0193-a_fast-lc.fits' mode='rb' closefd=True>\n",
      "  lc = read_generic_lightcurve(filename, flux_column=flux_column, time_format=\"btjd\")\n",
      "1% (1060/109110) of the cadences will be ignored due to the quality mask (quality_bitmask=175).\n",
      "1% (1060/109110) of the cadences will be ignored due to the quality mask (quality_bitmask=175).\n"
     ]
    },
    {
     "name": "stdout",
     "output_type": "stream",
     "text": [
      "date: 2022_08_02\n",
      "LC successfully detrended.\n"
     ]
    },
    {
     "name": "stderr",
     "output_type": "stream",
     "text": [
      "/home/ekaterina/Documents/000_envs/python37/lib/python3.7/site-packages/numpy/lib/nanfunctions.py:1117: RuntimeWarning: Mean of empty slice\n",
      "  return np.nanmean(a, axis, out=out, keepdims=keepdims)\n",
      "Found 0 candidate(s) in the (0,42393) gap.\n",
      "Found 0 candidate(s) in the (42393,84258) gap.\n"
     ]
    },
    {
     "name": "stdout",
     "output_type": "stream",
     "text": [
      "Transit midtime in TESS time: 2089.5183310001157\n",
      "No flares found in LC.\n",
      "Wrote out LC to /home/ekaterina/Documents/001_science/lcs/2022_08_02_77044471_29_altai_0.fits.\n",
      "Get TESS Sector/Quarter 02, TIC 77044471, HATS-16, short cadence.\n"
     ]
    },
    {
     "name": "stderr",
     "output_type": "stream",
     "text": [
      "/home/ekaterina/Documents/000_envs/python37/lib/python3.7/site-packages/lightkurve/io/tess.py:34: ResourceWarning: unclosed file <_io.FileIO name='/home/ekaterina/Documents/001_science/lcs/mastDownload/TESS/tess2018234235059-s0002-0000000077044471-0121-s/tess2018234235059-s0002-0000000077044471-0121-s_lc.fits' mode='rb' closefd=True>\n",
      "  lc = read_generic_lightcurve(filename, flux_column=flux_column, time_format=\"btjd\")\n",
      "2% (399/18699) of the cadences will be ignored due to the quality mask (quality_bitmask=175).\n",
      "2% (399/18699) of the cadences will be ignored due to the quality mask (quality_bitmask=175).\n"
     ]
    },
    {
     "name": "stdout",
     "output_type": "stream",
     "text": [
      "date: 2022_08_02\n",
      "LC successfully detrended.\n"
     ]
    },
    {
     "name": "stderr",
     "output_type": "stream",
     "text": [
      "/home/ekaterina/Documents/000_envs/python37/lib/python3.7/site-packages/numpy/lib/nanfunctions.py:1117: RuntimeWarning: Mean of empty slice\n",
      "  return np.nanmean(a, axis, out=out, keepdims=keepdims)\n",
      "Found 0 candidate(s) in the (0,9226) gap.\n",
      "Found 0 candidate(s) in the (9226,18300) gap.\n",
      "/home/ekaterina/Documents/000_envs/python37/lib/python3.7/site-packages/ipykernel_launcher.py:88: LightkurveDeprecationWarning: The search_lightcurvefile function is deprecated and may be removed in a future version.\n",
      "        Use search_lightcurve() instead.\n"
     ]
    },
    {
     "name": "stdout",
     "output_type": "stream",
     "text": [
      "Transit midtime in TESS time: 2089.5183310001157\n",
      "No flares found in LC.\n",
      "Wrote out LC to /home/ekaterina/Documents/001_science/lcs/2022_08_02_77044471_02_altai_0.fits.\n",
      "\n",
      "---------------------\n",
      "0 flares found!\n",
      "-------------------\n",
      "\n",
      "(0, 0)\n"
     ]
    },
    {
     "name": "stderr",
     "output_type": "stream",
     "text": [
      "/home/ekaterina/Documents/000_envs/python37/lib/python3.7/site-packages/ipykernel_launcher.py:88: LightkurveDeprecationWarning: The search_lightcurvefile function is deprecated and may be removed in a future version.\n",
      "        Use search_lightcurve() instead.\n"
     ]
    },
    {
     "name": "stdout",
     "output_type": "stream",
     "text": [
      "Get TESS Sector/Quarter 31, TIC 77156657, WASP-159, fast cadence.\n"
     ]
    },
    {
     "name": "stderr",
     "output_type": "stream",
     "text": [
      "/home/ekaterina/Documents/000_envs/python37/lib/python3.7/site-packages/lightkurve/io/tess.py:34: ResourceWarning: unclosed file <_io.FileIO name='/home/ekaterina/Documents/001_science/lcs/mastDownload/TESS/tess2020294194027-s0031-0000000077156657-0198-a_fast/tess2020294194027-s0031-0000000077156657-0198-a_fast-lc.fits' mode='rb' closefd=True>\n",
      "  lc = read_generic_lightcurve(filename, flux_column=flux_column, time_format=\"btjd\")\n",
      "0% (185/103848) of the cadences will be ignored due to the quality mask (quality_bitmask=175).\n",
      "0% (185/103848) of the cadences will be ignored due to the quality mask (quality_bitmask=175).\n"
     ]
    },
    {
     "name": "stdout",
     "output_type": "stream",
     "text": [
      "date: 2022_08_02\n",
      "LC successfully detrended.\n"
     ]
    },
    {
     "name": "stderr",
     "output_type": "stream",
     "text": [
      "/home/ekaterina/Documents/000_envs/python37/lib/python3.7/site-packages/numpy/lib/nanfunctions.py:1117: RuntimeWarning: Mean of empty slice\n",
      "  return np.nanmean(a, axis, out=out, keepdims=keepdims)\n",
      "Found 1 candidate(s) in the (0,52577) gap.\n",
      "Found 0 candidate(s) in the (52577,100396) gap.\n"
     ]
    },
    {
     "name": "stdout",
     "output_type": "stream",
     "text": [
      "Transit midtime in TESS time: 2196.572151000146\n",
      "Flares found:\n",
      "        tstart        tstop     phase  ampl_rec       dur\n",
      "0  2145.464551  2145.465246  0.692119  0.591674  0.000694\n",
      "Wrote out LC to /home/ekaterina/Documents/001_science/lcs/2022_08_02_77156657_31_altai_0.fits.\n",
      "Get TESS Sector/Quarter 32, TIC 77156657, WASP-159, fast cadence.\n"
     ]
    },
    {
     "name": "stderr",
     "output_type": "stream",
     "text": [
      "/home/ekaterina/Documents/000_envs/python37/lib/python3.7/site-packages/lightkurve/io/tess.py:34: ResourceWarning: unclosed file <_io.FileIO name='/home/ekaterina/Documents/001_science/lcs/mastDownload/TESS/tess2020324010417-s0032-0000000077156657-0200-a_fast/tess2020324010417-s0032-0000000077156657-0200-a_fast-lc.fits' mode='rb' closefd=True>\n",
      "  lc = read_generic_lightcurve(filename, flux_column=flux_column, time_format=\"btjd\")\n",
      "0% (174/108083) of the cadences will be ignored due to the quality mask (quality_bitmask=175).\n",
      "0% (174/108083) of the cadences will be ignored due to the quality mask (quality_bitmask=175).\n"
     ]
    },
    {
     "name": "stdout",
     "output_type": "stream",
     "text": [
      "date: 2022_08_02\n",
      "LC successfully detrended.\n"
     ]
    },
    {
     "name": "stderr",
     "output_type": "stream",
     "text": [
      "/home/ekaterina/Documents/000_envs/python37/lib/python3.7/site-packages/numpy/lib/nanfunctions.py:1117: RuntimeWarning: Mean of empty slice\n",
      "  return np.nanmean(a, axis, out=out, keepdims=keepdims)\n",
      "Found 0 candidate(s) in the (0,49717) gap.\n",
      "Found 1 candidate(s) in the (49717,105197) gap.\n",
      "/home/ekaterina/Documents/000_envs/python37/lib/python3.7/site-packages/ipykernel_launcher.py:88: LightkurveDeprecationWarning: The search_lightcurvefile function is deprecated and may be removed in a future version.\n",
      "        Use search_lightcurve() instead.\n"
     ]
    },
    {
     "name": "stdout",
     "output_type": "stream",
     "text": [
      "Transit midtime in TESS time: 2196.572151000146\n",
      "Flares found:\n",
      "        tstart        tstop     phase  ampl_rec       dur\n",
      "0  2198.856777  2198.857471  0.594893  0.296535  0.000694\n",
      "Wrote out LC to /home/ekaterina/Documents/001_science/lcs/2022_08_02_77156657_32_altai_0.fits.\n",
      "\n",
      "---------------------\n",
      "2 flares found!\n",
      "-------------------\n",
      "\n",
      "(0, 0)\n",
      "Get TESS Sector/Quarter 04, TIC 77156829, LHS 1678, short cadence.\n"
     ]
    },
    {
     "name": "stderr",
     "output_type": "stream",
     "text": [
      "/home/ekaterina/Documents/000_envs/python37/lib/python3.7/site-packages/lightkurve/io/tess.py:34: ResourceWarning: unclosed file <_io.FileIO name='/home/ekaterina/Documents/001_science/lcs/mastDownload/TESS/tess2018292075959-s0004-0000000077156829-0124-s/tess2018292075959-s0004-0000000077156829-0124-s_lc.fits' mode='rb' closefd=True>\n",
      "  lc = read_generic_lightcurve(filename, flux_column=flux_column, time_format=\"btjd\")\n",
      "2% (272/15973) of the cadences will be ignored due to the quality mask (quality_bitmask=175).\n",
      "2% (272/15973) of the cadences will be ignored due to the quality mask (quality_bitmask=175).\n"
     ]
    },
    {
     "name": "stdout",
     "output_type": "stream",
     "text": [
      "date: 2022_08_02\n",
      "LC successfully detrended.\n"
     ]
    },
    {
     "name": "stderr",
     "output_type": "stream",
     "text": [
      "/home/ekaterina/Documents/000_envs/python37/lib/python3.7/site-packages/numpy/lib/nanfunctions.py:1117: RuntimeWarning: Mean of empty slice\n",
      "  return np.nanmean(a, axis, out=out, keepdims=keepdims)\n",
      "Found 0 candidate(s) in the (0,5292) gap.\n",
      "Found 0 candidate(s) in the (5292,6244) gap.\n",
      "Found 0 candidate(s) in the (6244,14751) gap.\n"
     ]
    },
    {
     "name": "stdout",
     "output_type": "stream",
     "text": [
      "Transit midtime in TESS time: 1411.4736270001158\n",
      "No flares found in LC.\n",
      "Wrote out LC to /home/ekaterina/Documents/001_science/lcs/2022_08_02_77156829_04_altai_0.fits.\n",
      "Get TESS Sector/Quarter 05, TIC 77156829, LHS 1678, short cadence.\n"
     ]
    },
    {
     "name": "stderr",
     "output_type": "stream",
     "text": [
      "/home/ekaterina/Documents/000_envs/python37/lib/python3.7/site-packages/lightkurve/io/tess.py:34: ResourceWarning: unclosed file <_io.FileIO name='/home/ekaterina/Documents/001_science/lcs/mastDownload/TESS/tess2018319095959-s0005-0000000077156829-0125-s/tess2018319095959-s0005-0000000077156829-0125-s_lc.fits' mode='rb' closefd=True>\n",
      "  lc = read_generic_lightcurve(filename, flux_column=flux_column, time_format=\"btjd\")\n",
      "1% (252/17971) of the cadences will be ignored due to the quality mask (quality_bitmask=175).\n",
      "1% (252/17971) of the cadences will be ignored due to the quality mask (quality_bitmask=175).\n"
     ]
    },
    {
     "name": "stdout",
     "output_type": "stream",
     "text": [
      "date: 2022_08_02\n",
      "LC successfully detrended.\n"
     ]
    },
    {
     "name": "stderr",
     "output_type": "stream",
     "text": [
      "/home/ekaterina/Documents/000_envs/python37/lib/python3.7/site-packages/numpy/lib/nanfunctions.py:1117: RuntimeWarning: Mean of empty slice\n",
      "  return np.nanmean(a, axis, out=out, keepdims=keepdims)\n",
      "Found 0 candidate(s) in the (0,8383) gap.\n",
      "Found 0 candidate(s) in the (8383,17033) gap.\n"
     ]
    },
    {
     "name": "stdout",
     "output_type": "stream",
     "text": [
      "Transit midtime in TESS time: 1411.4736270001158\n",
      "No flares found in LC.\n",
      "Wrote out LC to /home/ekaterina/Documents/001_science/lcs/2022_08_02_77156829_05_altai_0.fits.\n",
      "Get TESS Sector/Quarter 31, TIC 77156829, LHS 1678, short cadence.\n"
     ]
    },
    {
     "name": "stderr",
     "output_type": "stream",
     "text": [
      "/home/ekaterina/Documents/000_envs/python37/lib/python3.7/site-packages/lightkurve/io/tess.py:34: ResourceWarning: unclosed file <_io.FileIO name='/home/ekaterina/Documents/001_science/lcs/mastDownload/TESS/tess2020294194027-s0031-0000000077156829-0198-s/tess2020294194027-s0031-0000000077156829-0198-s_lc.fits' mode='rb' closefd=True>\n",
      "  lc = read_generic_lightcurve(filename, flux_column=flux_column, time_format=\"btjd\")\n",
      "0% (51/17305) of the cadences will be ignored due to the quality mask (quality_bitmask=175).\n",
      "0% (51/17305) of the cadences will be ignored due to the quality mask (quality_bitmask=175).\n"
     ]
    },
    {
     "name": "stdout",
     "output_type": "stream",
     "text": [
      "date: 2022_08_02\n",
      "LC successfully detrended.\n"
     ]
    },
    {
     "name": "stderr",
     "output_type": "stream",
     "text": [
      "/home/ekaterina/Documents/000_envs/python37/lib/python3.7/site-packages/numpy/lib/nanfunctions.py:1117: RuntimeWarning: Mean of empty slice\n",
      "  return np.nanmean(a, axis, out=out, keepdims=keepdims)\n",
      "Found 0 candidate(s) in the (0,8730) gap.\n",
      "Found 0 candidate(s) in the (8730,16687) gap.\n"
     ]
    },
    {
     "name": "stdout",
     "output_type": "stream",
     "text": [
      "Transit midtime in TESS time: 1411.4736270001158\n",
      "No flares found in LC.\n",
      "Wrote out LC to /home/ekaterina/Documents/001_science/lcs/2022_08_02_77156829_31_altai_0.fits.\n",
      "Get TESS Sector/Quarter 32, TIC 77156829, LHS 1678, short cadence.\n"
     ]
    },
    {
     "name": "stderr",
     "output_type": "stream",
     "text": [
      "/home/ekaterina/Documents/000_envs/python37/lib/python3.7/site-packages/lightkurve/io/tess.py:34: ResourceWarning: unclosed file <_io.FileIO name='/home/ekaterina/Documents/001_science/lcs/mastDownload/TESS/tess2020324010417-s0032-0000000077156829-0200-s/tess2020324010417-s0032-0000000077156829-0200-s_lc.fits' mode='rb' closefd=True>\n",
      "  lc = read_generic_lightcurve(filename, flux_column=flux_column, time_format=\"btjd\")\n",
      "0% (34/18011) of the cadences will be ignored due to the quality mask (quality_bitmask=175).\n",
      "0% (34/18011) of the cadences will be ignored due to the quality mask (quality_bitmask=175).\n"
     ]
    },
    {
     "name": "stdout",
     "output_type": "stream",
     "text": [
      "date: 2022_08_02\n",
      "LC successfully detrended.\n"
     ]
    },
    {
     "name": "stderr",
     "output_type": "stream",
     "text": [
      "/home/ekaterina/Documents/000_envs/python37/lib/python3.7/site-packages/numpy/lib/nanfunctions.py:1117: RuntimeWarning: Mean of empty slice\n",
      "  return np.nanmean(a, axis, out=out, keepdims=keepdims)\n",
      "Found 0 candidate(s) in the (0,8272) gap.\n",
      "Found 0 candidate(s) in the (8272,17479) gap.\n",
      "/home/ekaterina/Documents/000_envs/python37/lib/python3.7/site-packages/ipykernel_launcher.py:88: LightkurveDeprecationWarning: The search_lightcurvefile function is deprecated and may be removed in a future version.\n",
      "        Use search_lightcurve() instead.\n"
     ]
    },
    {
     "name": "stdout",
     "output_type": "stream",
     "text": [
      "Transit midtime in TESS time: 1411.4736270001158\n",
      "No flares found in LC.\n",
      "Wrote out LC to /home/ekaterina/Documents/001_science/lcs/2022_08_02_77156829_32_altai_0.fits.\n",
      "\n",
      "---------------------\n",
      "0 flares found!\n",
      "-------------------\n",
      "\n",
      "(0, 0)\n"
     ]
    },
    {
     "name": "stderr",
     "output_type": "stream",
     "text": [
      "No data found for target \"WASP-89\".\n",
      "No data found for target \"WASP-89\".\n",
      "/home/ekaterina/Documents/000_envs/python37/lib/python3.7/site-packages/ipykernel_launcher.py:93: LightkurveDeprecationWarning: The search_lightcurvefile function is deprecated and may be removed in a future version.\n",
      "        Use search_lightcurve() instead.\n",
      "No data found for target \"TIC 77202722\".\n",
      "No data found for target \"TIC 77202722\".\n",
      "/home/ekaterina/Documents/000_envs/python37/lib/python3.7/site-packages/ipykernel_launcher.py:88: LightkurveDeprecationWarning: The search_lightcurvefile function is deprecated and may be removed in a future version.\n",
      "        Use search_lightcurve() instead.\n"
     ]
    },
    {
     "name": "stdout",
     "output_type": "stream",
     "text": [
      "Get TESS Sector/Quarter 32, TIC 78055054, HATS-43, fast cadence.\n"
     ]
    },
    {
     "name": "stderr",
     "output_type": "stream",
     "text": [
      "/home/ekaterina/Documents/000_envs/python37/lib/python3.7/site-packages/lightkurve/io/tess.py:34: ResourceWarning: unclosed file <_io.FileIO name='/home/ekaterina/Documents/001_science/lcs/mastDownload/TESS/tess2020324010417-s0032-0000000078055054-0200-a_fast/tess2020324010417-s0032-0000000078055054-0200-a_fast-lc.fits' mode='rb' closefd=True>\n",
      "  lc = read_generic_lightcurve(filename, flux_column=flux_column, time_format=\"btjd\")\n",
      "0% (174/108083) of the cadences will be ignored due to the quality mask (quality_bitmask=175).\n",
      "0% (174/108083) of the cadences will be ignored due to the quality mask (quality_bitmask=175).\n"
     ]
    },
    {
     "name": "stdout",
     "output_type": "stream",
     "text": [
      "date: 2022_08_02\n",
      "LC successfully detrended.\n"
     ]
    },
    {
     "name": "stderr",
     "output_type": "stream",
     "text": [
      "/home/ekaterina/Documents/000_envs/python37/lib/python3.7/site-packages/numpy/lib/nanfunctions.py:1117: RuntimeWarning: Mean of empty slice\n",
      "  return np.nanmean(a, axis, out=out, keepdims=keepdims)\n",
      "Found 0 candidate(s) in the (0,49729) gap.\n",
      "Found 0 candidate(s) in the (49729,105884) gap.\n"
     ]
    },
    {
     "name": "stdout",
     "output_type": "stream",
     "text": [
      "Transit midtime in TESS time: 2198.519993000198\n",
      "No flares found in LC.\n",
      "Wrote out LC to /home/ekaterina/Documents/001_science/lcs/2022_08_02_78055054_32_altai_0.fits.\n",
      "Get TESS Sector/Quarter 05, TIC 78055054, HATS-43, short cadence.\n"
     ]
    },
    {
     "name": "stderr",
     "output_type": "stream",
     "text": [
      "/home/ekaterina/Documents/000_envs/python37/lib/python3.7/site-packages/lightkurve/io/tess.py:34: ResourceWarning: unclosed file <_io.FileIO name='/home/ekaterina/Documents/001_science/lcs/mastDownload/TESS/tess2018319095959-s0005-0000000078055054-0125-s/tess2018319095959-s0005-0000000078055054-0125-s_lc.fits' mode='rb' closefd=True>\n",
      "  lc = read_generic_lightcurve(filename, flux_column=flux_column, time_format=\"btjd\")\n",
      "1% (252/17971) of the cadences will be ignored due to the quality mask (quality_bitmask=175).\n",
      "1% (252/17971) of the cadences will be ignored due to the quality mask (quality_bitmask=175).\n"
     ]
    },
    {
     "name": "stdout",
     "output_type": "stream",
     "text": [
      "date: 2022_08_02\n",
      "LC successfully detrended.\n"
     ]
    },
    {
     "name": "stderr",
     "output_type": "stream",
     "text": [
      "/home/ekaterina/Documents/000_envs/python37/lib/python3.7/site-packages/numpy/lib/nanfunctions.py:1117: RuntimeWarning: Mean of empty slice\n",
      "  return np.nanmean(a, axis, out=out, keepdims=keepdims)\n",
      "Found 0 candidate(s) in the (0,8505) gap.\n",
      "Found 0 candidate(s) in the (8505,17203) gap.\n"
     ]
    },
    {
     "name": "stdout",
     "output_type": "stream",
     "text": [
      "Transit midtime in TESS time: 2198.519993000198\n",
      "No flares found in LC.\n",
      "Wrote out LC to /home/ekaterina/Documents/001_science/lcs/2022_08_02_78055054_05_altai_0.fits.\n",
      "Get TESS Sector/Quarter 06, TIC 78055054, HATS-43, short cadence.\n"
     ]
    },
    {
     "name": "stderr",
     "output_type": "stream",
     "text": [
      "/home/ekaterina/Documents/000_envs/python37/lib/python3.7/site-packages/lightkurve/io/tess.py:34: ResourceWarning: unclosed file <_io.FileIO name='/home/ekaterina/Documents/001_science/lcs/mastDownload/TESS/tess2018349182500-s0006-0000000078055054-0126-s/tess2018349182500-s0006-0000000078055054-0126-s_lc.fits' mode='rb' closefd=True>\n",
      "  lc = read_generic_lightcurve(filename, flux_column=flux_column, time_format=\"btjd\")\n",
      "1% (207/14898) of the cadences will be ignored due to the quality mask (quality_bitmask=175).\n",
      "1% (207/14898) of the cadences will be ignored due to the quality mask (quality_bitmask=175).\n"
     ]
    },
    {
     "name": "stdout",
     "output_type": "stream",
     "text": [
      "date: 2022_08_02\n",
      "LC successfully detrended.\n"
     ]
    },
    {
     "name": "stderr",
     "output_type": "stream",
     "text": [
      "/home/ekaterina/Documents/000_envs/python37/lib/python3.7/site-packages/numpy/lib/nanfunctions.py:1117: RuntimeWarning: Mean of empty slice\n",
      "  return np.nanmean(a, axis, out=out, keepdims=keepdims)\n",
      "Found 0 candidate(s) in the (0,6169) gap.\n",
      "Found 0 candidate(s) in the (6169,14544) gap.\n",
      "/home/ekaterina/Documents/000_envs/python37/lib/python3.7/site-packages/ipykernel_launcher.py:88: LightkurveDeprecationWarning: The search_lightcurvefile function is deprecated and may be removed in a future version.\n",
      "        Use search_lightcurve() instead.\n"
     ]
    },
    {
     "name": "stdout",
     "output_type": "stream",
     "text": [
      "Transit midtime in TESS time: 2198.519993000198\n",
      "No flares found in LC.\n",
      "Wrote out LC to /home/ekaterina/Documents/001_science/lcs/2022_08_02_78055054_06_altai_0.fits.\n",
      "\n",
      "---------------------\n",
      "0 flares found!\n",
      "-------------------\n",
      "\n",
      "(0, 0)\n"
     ]
    },
    {
     "name": "stderr",
     "output_type": "stream",
     "text": [
      "Could not resolve TOI-1064 to a sky position.\n",
      "Could not resolve TOI-1064 to a sky position.\n",
      "/home/ekaterina/Documents/000_envs/python37/lib/python3.7/site-packages/ipykernel_launcher.py:93: LightkurveDeprecationWarning: The search_lightcurvefile function is deprecated and may be removed in a future version.\n",
      "        Use search_lightcurve() instead.\n"
     ]
    },
    {
     "name": "stdout",
     "output_type": "stream",
     "text": [
      "Get TESS Sector/Quarter 27, TIC 79748331, TOI-1064, fast cadence.\n"
     ]
    },
    {
     "name": "stderr",
     "output_type": "stream",
     "text": [
      "/home/ekaterina/Documents/000_envs/python37/lib/python3.7/site-packages/lightkurve/io/tess.py:34: ResourceWarning: unclosed file <_io.FileIO name='/home/ekaterina/Documents/001_science/lcs/mastDownload/TESS/tess2020186164531-s0027-0000000079748331-0189-a_fast/tess2020186164531-s0027-0000000079748331-0189-a_fast-lc.fits' mode='rb' closefd=True>\n",
      "  lc = read_generic_lightcurve(filename, flux_column=flux_column, time_format=\"btjd\")\n",
      "0% (154/100890) of the cadences will be ignored due to the quality mask (quality_bitmask=175).\n",
      "0% (154/100890) of the cadences will be ignored due to the quality mask (quality_bitmask=175).\n"
     ]
    },
    {
     "name": "stdout",
     "output_type": "stream",
     "text": [
      "date: 2022_08_02\n",
      "LC successfully detrended.\n"
     ]
    },
    {
     "name": "stderr",
     "output_type": "stream",
     "text": [
      "/home/ekaterina/Documents/000_envs/python37/lib/python3.7/site-packages/numpy/lib/nanfunctions.py:1117: RuntimeWarning: Mean of empty slice\n",
      "  return np.nanmean(a, axis, out=out, keepdims=keepdims)\n",
      "Found 0 candidate(s) in the (0,35706) gap.\n",
      "Found 0 candidate(s) in the (35706,71703) gap.\n"
     ]
    },
    {
     "name": "stdout",
     "output_type": "stream",
     "text": [
      "Transit midtime in TESS time: 1656.6682500001043\n",
      "No flares found in LC.\n",
      "Wrote out LC to /home/ekaterina/Documents/001_science/lcs/2022_08_02_79748331_27_altai_0.fits.\n",
      "Get TESS Sector/Quarter 13, TIC 79748331, TOI-1064, short cadence.\n"
     ]
    },
    {
     "name": "stderr",
     "output_type": "stream",
     "text": [
      "/home/ekaterina/Documents/000_envs/python37/lib/python3.7/site-packages/lightkurve/io/tess.py:34: ResourceWarning: unclosed file <_io.FileIO name='/home/ekaterina/Documents/001_science/lcs/mastDownload/TESS/tess2019169103026-s0013-0000000079748331-0146-s/tess2019169103026-s0013-0000000079748331-0146-s_lc.fits' mode='rb' closefd=True>\n",
      "  lc = read_generic_lightcurve(filename, flux_column=flux_column, time_format=\"btjd\")\n",
      "2% (370/19811) of the cadences will be ignored due to the quality mask (quality_bitmask=175).\n",
      "2% (370/19811) of the cadences will be ignored due to the quality mask (quality_bitmask=175).\n"
     ]
    },
    {
     "name": "stdout",
     "output_type": "stream",
     "text": [
      "date: 2022_08_02\n",
      "LC successfully detrended.\n"
     ]
    },
    {
     "name": "stderr",
     "output_type": "stream",
     "text": [
      "/home/ekaterina/Documents/000_envs/python37/lib/python3.7/site-packages/numpy/lib/nanfunctions.py:1117: RuntimeWarning: Mean of empty slice\n",
      "  return np.nanmean(a, axis, out=out, keepdims=keepdims)\n",
      "Found 0 candidate(s) in the (0,6863) gap.\n",
      "Found 0 candidate(s) in the (6863,16591) gap.\n",
      "/home/ekaterina/Documents/000_envs/python37/lib/python3.7/site-packages/ipykernel_launcher.py:88: LightkurveDeprecationWarning: The search_lightcurvefile function is deprecated and may be removed in a future version.\n",
      "        Use search_lightcurve() instead.\n"
     ]
    },
    {
     "name": "stdout",
     "output_type": "stream",
     "text": [
      "Transit midtime in TESS time: 1656.6682500001043\n",
      "No flares found in LC.\n",
      "Wrote out LC to /home/ekaterina/Documents/001_science/lcs/2022_08_02_79748331_13_altai_0.fits.\n",
      "\n",
      "---------------------\n",
      "0 flares found!\n",
      "-------------------\n",
      "\n",
      "(0, 0)\n",
      "Get TESS Sector/Quarter 46, TIC 82050863, K2-9, short cadence.\n"
     ]
    },
    {
     "name": "stderr",
     "output_type": "stream",
     "text": [
      "/home/ekaterina/Documents/000_envs/python37/lib/python3.7/site-packages/lightkurve/io/tess.py:34: ResourceWarning: unclosed file <_io.FileIO name='/home/ekaterina/Documents/001_science/lcs/mastDownload/TESS/tess2021336043614-s0046-0000000082050863-0217-s/tess2021336043614-s0046-0000000082050863-0217-s_lc.fits' mode='rb' closefd=True>\n",
      "  lc = read_generic_lightcurve(filename, flux_column=flux_column, time_format=\"btjd\")\n",
      "2% (387/18539) of the cadences will be ignored due to the quality mask (quality_bitmask=175).\n",
      "2% (387/18539) of the cadences will be ignored due to the quality mask (quality_bitmask=175).\n"
     ]
    },
    {
     "name": "stdout",
     "output_type": "stream",
     "text": [
      "date: 2022_08_02\n",
      "LC successfully detrended.\n"
     ]
    },
    {
     "name": "stderr",
     "output_type": "stream",
     "text": [
      "/home/ekaterina/Documents/000_envs/python37/lib/python3.7/site-packages/numpy/lib/nanfunctions.py:1117: RuntimeWarning: Mean of empty slice\n",
      "  return np.nanmean(a, axis, out=out, keepdims=keepdims)\n",
      "Found 0 candidate(s) in the (0,8349) gap.\n",
      "Found 0 candidate(s) in the (8349,16950) gap.\n",
      "/home/ekaterina/Documents/000_envs/python37/lib/python3.7/site-packages/ipykernel_launcher.py:88: LightkurveDeprecationWarning: The search_lightcurvefile function is deprecated and may be removed in a future version.\n",
      "        Use search_lightcurve() instead.\n"
     ]
    },
    {
     "name": "stdout",
     "output_type": "stream",
     "text": [
      "Transit midtime in TESS time: -177.32879999978468\n",
      "No flares found in LC.\n",
      "Wrote out LC to /home/ekaterina/Documents/001_science/lcs/2022_08_02_82050863_46_altai_0.fits.\n",
      "\n",
      "---------------------\n",
      "0 flares found!\n",
      "-------------------\n",
      "\n",
      "(0, 0)\n",
      "Get TESS Sector/Quarter 36, TIC 82054726, K2-42, fast cadence.\n"
     ]
    },
    {
     "name": "stderr",
     "output_type": "stream",
     "text": [
      "/home/ekaterina/Documents/000_envs/python37/lib/python3.7/site-packages/lightkurve/io/tess.py:34: ResourceWarning: unclosed file <_io.FileIO name='/home/ekaterina/Documents/001_science/lcs/mastDownload/TESS/tess2021065132309-s0036-0000000082054726-0207-a_fast/tess2021065132309-s0036-0000000082054726-0207-a_fast-lc.fits' mode='rb' closefd=True>\n",
      "  lc = read_generic_lightcurve(filename, flux_column=flux_column, time_format=\"btjd\")\n",
      "0% (173/104387) of the cadences will be ignored due to the quality mask (quality_bitmask=175).\n",
      "0% (173/104387) of the cadences will be ignored due to the quality mask (quality_bitmask=175).\n"
     ]
    },
    {
     "name": "stdout",
     "output_type": "stream",
     "text": [
      "date: 2022_08_02\n",
      "LC successfully detrended.\n"
     ]
    },
    {
     "name": "stderr",
     "output_type": "stream",
     "text": [
      "/home/ekaterina/Documents/000_envs/python37/lib/python3.7/site-packages/numpy/lib/nanfunctions.py:1117: RuntimeWarning: Mean of empty slice\n",
      "  return np.nanmean(a, axis, out=out, keepdims=keepdims)\n",
      "Found 0 candidate(s) in the (0,46863) gap.\n",
      "Found 0 candidate(s) in the (46863,93860) gap.\n"
     ]
    },
    {
     "name": "stdout",
     "output_type": "stream",
     "text": [
      "Transit midtime in TESS time: -185.3237000000663\n",
      "No flares found in LC.\n",
      "Wrote out LC to /home/ekaterina/Documents/001_science/lcs/2022_08_02_82054726_36_altai_0.fits.\n",
      "Get TESS Sector/Quarter 46, TIC 82054726, K2-42, short cadence.\n"
     ]
    },
    {
     "name": "stderr",
     "output_type": "stream",
     "text": [
      "/home/ekaterina/Documents/000_envs/python37/lib/python3.7/site-packages/lightkurve/io/tess.py:34: ResourceWarning: unclosed file <_io.FileIO name='/home/ekaterina/Documents/001_science/lcs/mastDownload/TESS/tess2021336043614-s0046-0000000082054726-0217-s/tess2021336043614-s0046-0000000082054726-0217-s_lc.fits' mode='rb' closefd=True>\n",
      "  lc = read_generic_lightcurve(filename, flux_column=flux_column, time_format=\"btjd\")\n",
      "2% (387/18539) of the cadences will be ignored due to the quality mask (quality_bitmask=175).\n",
      "2% (387/18539) of the cadences will be ignored due to the quality mask (quality_bitmask=175).\n"
     ]
    },
    {
     "name": "stdout",
     "output_type": "stream",
     "text": [
      "date: 2022_08_02\n",
      "LC successfully detrended.\n"
     ]
    },
    {
     "name": "stderr",
     "output_type": "stream",
     "text": [
      "/home/ekaterina/Documents/000_envs/python37/lib/python3.7/site-packages/numpy/lib/nanfunctions.py:1117: RuntimeWarning: Mean of empty slice\n",
      "  return np.nanmean(a, axis, out=out, keepdims=keepdims)\n",
      "Found 0 candidate(s) in the (0,8349) gap.\n",
      "Found 0 candidate(s) in the (8349,16950) gap.\n",
      "/home/ekaterina/Documents/000_envs/python37/lib/python3.7/site-packages/ipykernel_launcher.py:88: LightkurveDeprecationWarning: The search_lightcurvefile function is deprecated and may be removed in a future version.\n",
      "        Use search_lightcurve() instead.\n"
     ]
    },
    {
     "name": "stdout",
     "output_type": "stream",
     "text": [
      "Transit midtime in TESS time: -185.3237000000663\n",
      "No flares found in LC.\n",
      "Wrote out LC to /home/ekaterina/Documents/001_science/lcs/2022_08_02_82054726_46_altai_0.fits.\n",
      "\n",
      "---------------------\n",
      "0 flares found!\n",
      "-------------------\n",
      "\n",
      "(0, 0)\n",
      "Get TESS Sector/Quarter 49, TIC 82308728, HD 97658, fast cadence.\n"
     ]
    },
    {
     "name": "stderr",
     "output_type": "stream",
     "text": [
      "/home/ekaterina/Documents/000_envs/python37/lib/python3.7/site-packages/lightkurve/io/tess.py:34: ResourceWarning: unclosed file <_io.FileIO name='/home/ekaterina/Documents/001_science/lcs/mastDownload/TESS/tess2022057073128-s0049-0000000082308728-0221-a_fast/tess2022057073128-s0049-0000000082308728-0221-a_fast-lc.fits' mode='rb' closefd=True>\n",
      "  lc = read_generic_lightcurve(filename, flux_column=flux_column, time_format=\"btjd\")\n",
      "3% (3061/111825) of the cadences will be ignored due to the quality mask (quality_bitmask=175).\n",
      "3% (3061/111825) of the cadences will be ignored due to the quality mask (quality_bitmask=175).\n"
     ]
    },
    {
     "name": "stdout",
     "output_type": "stream",
     "text": [
      "date: 2022_08_02\n",
      "LC successfully detrended.\n"
     ]
    },
    {
     "name": "stderr",
     "output_type": "stream",
     "text": [
      "/home/ekaterina/Documents/000_envs/python37/lib/python3.7/site-packages/numpy/lib/nanfunctions.py:1117: RuntimeWarning: Mean of empty slice\n",
      "  return np.nanmean(a, axis, out=out, keepdims=keepdims)\n",
      "Found 0 candidate(s) in the (0,43749) gap.\n",
      "Found 0 candidate(s) in the (43749,44269) gap.\n",
      "Found 0 candidate(s) in the (44269,82207) gap.\n"
     ]
    },
    {
     "name": "stdout",
     "output_type": "stream",
     "text": [
      "Transit midtime in TESS time: 1904.926270000171\n",
      "No flares found in LC.\n",
      "Wrote out LC to /home/ekaterina/Documents/001_science/lcs/2022_08_02_82308728_49_altai_0.fits.\n",
      "Get TESS Sector/Quarter 22, TIC 82308728, HD 97658, short cadence.\n"
     ]
    },
    {
     "name": "stderr",
     "output_type": "stream",
     "text": [
      "/home/ekaterina/Documents/000_envs/python37/lib/python3.7/site-packages/lightkurve/io/tess.py:34: ResourceWarning: unclosed file <_io.FileIO name='/home/ekaterina/Documents/001_science/lcs/mastDownload/TESS/tess2020049080258-s0022-0000000082308728-0174-s/tess2020049080258-s0022-0000000082308728-0174-s_lc.fits' mode='rb' closefd=True>\n",
      "  lc = read_generic_lightcurve(filename, flux_column=flux_column, time_format=\"btjd\")\n",
      "1% (188/18807) of the cadences will be ignored due to the quality mask (quality_bitmask=175).\n",
      "1% (188/18807) of the cadences will be ignored due to the quality mask (quality_bitmask=175).\n"
     ]
    },
    {
     "name": "stdout",
     "output_type": "stream",
     "text": [
      "date: 2022_08_02\n",
      "LC successfully detrended.\n"
     ]
    },
    {
     "name": "stderr",
     "output_type": "stream",
     "text": [
      "/home/ekaterina/Documents/000_envs/python37/lib/python3.7/site-packages/numpy/lib/nanfunctions.py:1117: RuntimeWarning: Mean of empty slice\n",
      "  return np.nanmean(a, axis, out=out, keepdims=keepdims)\n",
      "Found 0 candidate(s) in the (0,8807) gap.\n",
      "Found 0 candidate(s) in the (8807,15942) gap.\n",
      "/home/ekaterina/Documents/000_envs/python37/lib/python3.7/site-packages/ipykernel_launcher.py:88: LightkurveDeprecationWarning: The search_lightcurvefile function is deprecated and may be removed in a future version.\n",
      "        Use search_lightcurve() instead.\n"
     ]
    },
    {
     "name": "stdout",
     "output_type": "stream",
     "text": [
      "Transit midtime in TESS time: 1904.926270000171\n",
      "No flares found in LC.\n",
      "Wrote out LC to /home/ekaterina/Documents/001_science/lcs/2022_08_02_82308728_22_altai_0.fits.\n",
      "\n",
      "---------------------\n",
      "0 flares found!\n",
      "-------------------\n",
      "\n",
      "(0, 0)\n",
      "Get TESS Sector/Quarter 43, TIC 83181153, K2-26, short cadence.\n"
     ]
    },
    {
     "name": "stderr",
     "output_type": "stream",
     "text": [
      "/home/ekaterina/Documents/000_envs/python37/lib/python3.7/site-packages/lightkurve/io/tess.py:34: ResourceWarning: unclosed file <_io.FileIO name='/home/ekaterina/Documents/001_science/lcs/mastDownload/TESS/tess2021258175143-s0043-0000000083181153-0214-s/tess2021258175143-s0043-0000000083181153-0214-s_lc.fits' mode='rb' closefd=True>\n",
      "  lc = read_generic_lightcurve(filename, flux_column=flux_column, time_format=\"btjd\")\n",
      "0% (33/17050) of the cadences will be ignored due to the quality mask (quality_bitmask=175).\n",
      "0% (33/17050) of the cadences will be ignored due to the quality mask (quality_bitmask=175).\n"
     ]
    },
    {
     "name": "stdout",
     "output_type": "stream",
     "text": [
      "date: 2022_08_02\n",
      "LC successfully detrended.\n"
     ]
    },
    {
     "name": "stderr",
     "output_type": "stream",
     "text": [
      "/home/ekaterina/Documents/000_envs/python37/lib/python3.7/site-packages/numpy/lib/nanfunctions.py:1117: RuntimeWarning: Mean of empty slice\n",
      "  return np.nanmean(a, axis, out=out, keepdims=keepdims)\n",
      "Found 0 candidate(s) in the (0,7703) gap.\n",
      "Found 0 candidate(s) in the (7703,15544) gap.\n"
     ]
    },
    {
     "name": "stdout",
     "output_type": "stream",
     "text": [
      "Transit midtime in TESS time: -224.83410000009462\n",
      "No flares found in LC.\n",
      "Wrote out LC to /home/ekaterina/Documents/001_science/lcs/2022_08_02_83181153_43_altai_0.fits.\n",
      "Get TESS Sector/Quarter 44, TIC 83181153, K2-26, short cadence.\n"
     ]
    },
    {
     "name": "stderr",
     "output_type": "stream",
     "text": [
      "/home/ekaterina/Documents/000_envs/python37/lib/python3.7/site-packages/lightkurve/io/tess.py:34: ResourceWarning: unclosed file <_io.FileIO name='/home/ekaterina/Documents/001_science/lcs/mastDownload/TESS/tess2021284114741-s0044-0000000083181153-0215-s/tess2021284114741-s0044-0000000083181153-0215-s_lc.fits' mode='rb' closefd=True>\n",
      "  lc = read_generic_lightcurve(filename, flux_column=flux_column, time_format=\"btjd\")\n",
      "0% (45/16405) of the cadences will be ignored due to the quality mask (quality_bitmask=175).\n",
      "0% (45/16405) of the cadences will be ignored due to the quality mask (quality_bitmask=175).\n"
     ]
    },
    {
     "name": "stdout",
     "output_type": "stream",
     "text": [
      "date: 2022_08_02\n",
      "LC successfully detrended.\n"
     ]
    },
    {
     "name": "stderr",
     "output_type": "stream",
     "text": [
      "/home/ekaterina/Documents/000_envs/python37/lib/python3.7/site-packages/numpy/lib/nanfunctions.py:1117: RuntimeWarning: Mean of empty slice\n",
      "  return np.nanmean(a, axis, out=out, keepdims=keepdims)\n",
      "Found 0 candidate(s) in the (0,8108) gap.\n",
      "Found 0 candidate(s) in the (8108,15667) gap.\n"
     ]
    },
    {
     "name": "stdout",
     "output_type": "stream",
     "text": [
      "Transit midtime in TESS time: -224.83410000009462\n",
      "No flares found in LC.\n",
      "Wrote out LC to /home/ekaterina/Documents/001_science/lcs/2022_08_02_83181153_44_altai_0.fits.\n",
      "Get TESS Sector/Quarter 45, TIC 83181153, K2-26, short cadence.\n"
     ]
    },
    {
     "name": "stderr",
     "output_type": "stream",
     "text": [
      "/home/ekaterina/Documents/000_envs/python37/lib/python3.7/site-packages/lightkurve/io/tess.py:34: ResourceWarning: unclosed file <_io.FileIO name='/home/ekaterina/Documents/001_science/lcs/mastDownload/TESS/tess2021310001228-s0045-0000000083181153-0216-s/tess2021310001228-s0045-0000000083181153-0216-s_lc.fits' mode='rb' closefd=True>\n",
      "  lc = read_generic_lightcurve(filename, flux_column=flux_column, time_format=\"btjd\")\n",
      "1% (186/17256) of the cadences will be ignored due to the quality mask (quality_bitmask=175).\n",
      "1% (186/17256) of the cadences will be ignored due to the quality mask (quality_bitmask=175).\n"
     ]
    },
    {
     "name": "stdout",
     "output_type": "stream",
     "text": [
      "date: 2022_08_02\n",
      "LC successfully detrended.\n"
     ]
    },
    {
     "name": "stderr",
     "output_type": "stream",
     "text": [
      "/home/ekaterina/Documents/000_envs/python37/lib/python3.7/site-packages/numpy/lib/nanfunctions.py:1117: RuntimeWarning: Mean of empty slice\n",
      "  return np.nanmean(a, axis, out=out, keepdims=keepdims)\n",
      "Found 0 candidate(s) in the (0,8582) gap.\n",
      "Found 0 candidate(s) in the (8582,16107) gap.\n",
      "/home/ekaterina/Documents/000_envs/python37/lib/python3.7/site-packages/ipykernel_launcher.py:88: LightkurveDeprecationWarning: The search_lightcurvefile function is deprecated and may be removed in a future version.\n",
      "        Use search_lightcurve() instead.\n"
     ]
    },
    {
     "name": "stdout",
     "output_type": "stream",
     "text": [
      "Transit midtime in TESS time: -224.83410000009462\n",
      "No flares found in LC.\n",
      "Wrote out LC to /home/ekaterina/Documents/001_science/lcs/2022_08_02_83181153_45_altai_0.fits.\n",
      "\n",
      "---------------------\n",
      "0 flares found!\n",
      "-------------------\n",
      "\n",
      "(0, 0)\n",
      "Get TESS Sector/Quarter 19, TIC 8400842, XO-3, short cadence.\n"
     ]
    },
    {
     "name": "stderr",
     "output_type": "stream",
     "text": [
      "/home/ekaterina/Documents/000_envs/python37/lib/python3.7/site-packages/lightkurve/io/tess.py:34: ResourceWarning: unclosed file <_io.FileIO name='/home/ekaterina/Documents/001_science/lcs/mastDownload/TESS/tess2019331140908-s0019-0000000008400842-0164-s/tess2019331140908-s0019-0000000008400842-0164-s_lc.fits' mode='rb' closefd=True>\n",
      "  lc = read_generic_lightcurve(filename, flux_column=flux_column, time_format=\"btjd\")\n",
      "2% (290/17355) of the cadences will be ignored due to the quality mask (quality_bitmask=175).\n",
      "2% (290/17355) of the cadences will be ignored due to the quality mask (quality_bitmask=175).\n"
     ]
    },
    {
     "name": "stdout",
     "output_type": "stream",
     "text": [
      "date: 2022_08_02\n",
      "LC successfully detrended.\n"
     ]
    },
    {
     "name": "stderr",
     "output_type": "stream",
     "text": [
      "/home/ekaterina/Documents/000_envs/python37/lib/python3.7/site-packages/numpy/lib/nanfunctions.py:1117: RuntimeWarning: Mean of empty slice\n",
      "  return np.nanmean(a, axis, out=out, keepdims=keepdims)\n",
      "Found 0 candidate(s) in the (0,8183) gap.\n",
      "Found 0 candidate(s) in the (8183,16820) gap.\n",
      "/home/ekaterina/Documents/000_envs/python37/lib/python3.7/site-packages/ipykernel_launcher.py:88: LightkurveDeprecationWarning: The search_lightcurvefile function is deprecated and may be removed in a future version.\n",
      "        Use search_lightcurve() instead.\n"
     ]
    },
    {
     "name": "stdout",
     "output_type": "stream",
     "text": [
      "Transit midtime in TESS time: 1819.0640980000608\n",
      "No flares found in LC.\n",
      "Wrote out LC to /home/ekaterina/Documents/001_science/lcs/2022_08_02_8400842_19_altai_0.fits.\n",
      "\n",
      "---------------------\n",
      "0 flares found!\n",
      "-------------------\n",
      "\n",
      "(0, 0)\n",
      "Get TESS Sector/Quarter 43, TIC 84339983, HAT-P-56, short cadence.\n"
     ]
    },
    {
     "name": "stderr",
     "output_type": "stream",
     "text": [
      "/home/ekaterina/Documents/000_envs/python37/lib/python3.7/site-packages/lightkurve/io/tess.py:34: ResourceWarning: unclosed file <_io.FileIO name='/home/ekaterina/Documents/001_science/lcs/mastDownload/TESS/tess2021258175143-s0043-0000000084339983-0214-s/tess2021258175143-s0043-0000000084339983-0214-s_lc.fits' mode='rb' closefd=True>\n",
      "  lc = read_generic_lightcurve(filename, flux_column=flux_column, time_format=\"btjd\")\n",
      "0% (33/17050) of the cadences will be ignored due to the quality mask (quality_bitmask=175).\n",
      "0% (33/17050) of the cadences will be ignored due to the quality mask (quality_bitmask=175).\n"
     ]
    },
    {
     "name": "stdout",
     "output_type": "stream",
     "text": [
      "date: 2022_08_02\n",
      "LC successfully detrended.\n"
     ]
    },
    {
     "name": "stderr",
     "output_type": "stream",
     "text": [
      "/home/ekaterina/Documents/000_envs/python37/lib/python3.7/site-packages/numpy/lib/nanfunctions.py:1117: RuntimeWarning: Mean of empty slice\n",
      "  return np.nanmean(a, axis, out=out, keepdims=keepdims)\n",
      "Found 0 candidate(s) in the (0,7935) gap.\n",
      "Found 0 candidate(s) in the (7935,15973) gap.\n"
     ]
    },
    {
     "name": "stdout",
     "output_type": "stream",
     "text": [
      "Transit midtime in TESS time: 2548.173845999874\n",
      "No flares found in LC.\n",
      "Wrote out LC to /home/ekaterina/Documents/001_science/lcs/2022_08_02_84339983_43_altai_0.fits.\n",
      "Get TESS Sector/Quarter 44, TIC 84339983, HAT-P-56, short cadence.\n"
     ]
    },
    {
     "name": "stderr",
     "output_type": "stream",
     "text": [
      "/home/ekaterina/Documents/000_envs/python37/lib/python3.7/site-packages/lightkurve/io/tess.py:34: ResourceWarning: unclosed file <_io.FileIO name='/home/ekaterina/Documents/001_science/lcs/mastDownload/TESS/tess2021284114741-s0044-0000000084339983-0215-s/tess2021284114741-s0044-0000000084339983-0215-s_lc.fits' mode='rb' closefd=True>\n",
      "  lc = read_generic_lightcurve(filename, flux_column=flux_column, time_format=\"btjd\")\n",
      "0% (45/16405) of the cadences will be ignored due to the quality mask (quality_bitmask=175).\n",
      "0% (45/16405) of the cadences will be ignored due to the quality mask (quality_bitmask=175).\n"
     ]
    },
    {
     "name": "stdout",
     "output_type": "stream",
     "text": [
      "date: 2022_08_02\n",
      "LC successfully detrended.\n"
     ]
    },
    {
     "name": "stderr",
     "output_type": "stream",
     "text": [
      "/home/ekaterina/Documents/000_envs/python37/lib/python3.7/site-packages/numpy/lib/nanfunctions.py:1117: RuntimeWarning: Mean of empty slice\n",
      "  return np.nanmean(a, axis, out=out, keepdims=keepdims)\n",
      "Found 1 candidate(s) in the (0,8234) gap.\n",
      "Found 0 candidate(s) in the (8234,15788) gap.\n"
     ]
    },
    {
     "name": "stdout",
     "output_type": "stream",
     "text": [
      "Transit midtime in TESS time: 2548.173845999874\n",
      "Flares found:\n",
      "        tstart        tstop     phase  ampl_rec      dur\n",
      "0  2503.121495  2503.192335  0.857006  0.028588  0.07084\n",
      "Wrote out LC to /home/ekaterina/Documents/001_science/lcs/2022_08_02_84339983_44_altai_0.fits.\n",
      "Get TESS Sector/Quarter 45, TIC 84339983, HAT-P-56, short cadence.\n"
     ]
    },
    {
     "name": "stderr",
     "output_type": "stream",
     "text": [
      "/home/ekaterina/Documents/000_envs/python37/lib/python3.7/site-packages/lightkurve/io/tess.py:34: ResourceWarning: unclosed file <_io.FileIO name='/home/ekaterina/Documents/001_science/lcs/mastDownload/TESS/tess2021310001228-s0045-0000000084339983-0216-s/tess2021310001228-s0045-0000000084339983-0216-s_lc.fits' mode='rb' closefd=True>\n",
      "  lc = read_generic_lightcurve(filename, flux_column=flux_column, time_format=\"btjd\")\n",
      "1% (186/17256) of the cadences will be ignored due to the quality mask (quality_bitmask=175).\n",
      "1% (186/17256) of the cadences will be ignored due to the quality mask (quality_bitmask=175).\n"
     ]
    },
    {
     "name": "stdout",
     "output_type": "stream",
     "text": [
      "date: 2022_08_02\n",
      "LC successfully detrended.\n"
     ]
    },
    {
     "name": "stderr",
     "output_type": "stream",
     "text": [
      "/home/ekaterina/Documents/000_envs/python37/lib/python3.7/site-packages/numpy/lib/nanfunctions.py:1117: RuntimeWarning: Mean of empty slice\n",
      "  return np.nanmean(a, axis, out=out, keepdims=keepdims)\n",
      "Found 0 candidate(s) in the (0,8485) gap.\n",
      "Found 0 candidate(s) in the (8485,15915) gap.\n",
      "/home/ekaterina/Documents/000_envs/python37/lib/python3.7/site-packages/ipykernel_launcher.py:88: LightkurveDeprecationWarning: The search_lightcurvefile function is deprecated and may be removed in a future version.\n",
      "        Use search_lightcurve() instead.\n"
     ]
    },
    {
     "name": "stdout",
     "output_type": "stream",
     "text": [
      "Transit midtime in TESS time: 2548.173845999874\n",
      "No flares found in LC.\n",
      "Wrote out LC to /home/ekaterina/Documents/001_science/lcs/2022_08_02_84339983_45_altai_0.fits.\n",
      "\n",
      "---------------------\n",
      "1 flares found!\n",
      "-------------------\n",
      "\n",
      "(0, 0)\n",
      "Get TESS Sector/Quarter 42, TIC 85593751, WASP-11, short cadence.\n"
     ]
    },
    {
     "name": "stderr",
     "output_type": "stream",
     "text": [
      "/home/ekaterina/Documents/000_envs/python37/lib/python3.7/site-packages/lightkurve/io/tess.py:34: ResourceWarning: unclosed file <_io.FileIO name='/home/ekaterina/Documents/001_science/lcs/mastDownload/TESS/tess2021232031932-s0042-0000000085593751-0213-s/tess2021232031932-s0042-0000000085593751-0213-s_lc.fits' mode='rb' closefd=True>\n",
      "  lc = read_generic_lightcurve(filename, flux_column=flux_column, time_format=\"btjd\")\n",
      "2% (307/17674) of the cadences will be ignored due to the quality mask (quality_bitmask=175).\n",
      "2% (307/17674) of the cadences will be ignored due to the quality mask (quality_bitmask=175).\n"
     ]
    },
    {
     "name": "stdout",
     "output_type": "stream",
     "text": [
      "date: 2022_08_02\n",
      "LC successfully detrended.\n"
     ]
    },
    {
     "name": "stderr",
     "output_type": "stream",
     "text": [
      "/home/ekaterina/Documents/000_envs/python37/lib/python3.7/site-packages/numpy/lib/nanfunctions.py:1117: RuntimeWarning: Mean of empty slice\n",
      "  return np.nanmean(a, axis, out=out, keepdims=keepdims)\n",
      "Found 0 candidate(s) in the (0,6386) gap.\n",
      "Found 0 candidate(s) in the (6386,13081) gap.\n",
      "/home/ekaterina/Documents/000_envs/python37/lib/python3.7/site-packages/ipykernel_launcher.py:88: LightkurveDeprecationWarning: The search_lightcurvefile function is deprecated and may be removed in a future version.\n",
      "        Use search_lightcurve() instead.\n"
     ]
    },
    {
     "name": "stdout",
     "output_type": "stream",
     "text": [
      "Transit midtime in TESS time: 2450.010664000176\n",
      "No flares found in LC.\n",
      "Wrote out LC to /home/ekaterina/Documents/001_science/lcs/2022_08_02_85593751_42_altai_0.fits.\n",
      "\n",
      "---------------------\n",
      "0 flares found!\n",
      "-------------------\n",
      "\n",
      "(0, 0)\n",
      "Get TESS Sector/Quarter 44, TIC 86130229, K2-352, fast cadence.\n"
     ]
    },
    {
     "name": "stderr",
     "output_type": "stream",
     "text": [
      "/home/ekaterina/Documents/000_envs/python37/lib/python3.7/site-packages/lightkurve/io/tess.py:34: ResourceWarning: unclosed file <_io.FileIO name='/home/ekaterina/Documents/001_science/lcs/mastDownload/TESS/tess2021284114741-s0044-0000000086130229-0215-a_fast/tess2021284114741-s0044-0000000086130229-0215-a_fast-lc.fits' mode='rb' closefd=True>\n",
      "  lc = read_generic_lightcurve(filename, flux_column=flux_column, time_format=\"btjd\")\n",
      "0% (237/98454) of the cadences will be ignored due to the quality mask (quality_bitmask=175).\n",
      "0% (237/98454) of the cadences will be ignored due to the quality mask (quality_bitmask=175).\n"
     ]
    },
    {
     "name": "stdout",
     "output_type": "stream",
     "text": [
      "date: 2022_08_02\n",
      "LC successfully detrended.\n"
     ]
    },
    {
     "name": "stderr",
     "output_type": "stream",
     "text": [
      "/home/ekaterina/Documents/000_envs/python37/lib/python3.7/site-packages/numpy/lib/nanfunctions.py:1117: RuntimeWarning: Mean of empty slice\n",
      "  return np.nanmean(a, axis, out=out, keepdims=keepdims)\n",
      "Found 0 candidate(s) in the (0,49030) gap.\n",
      "Found 1 candidate(s) in the (49030,94747) gap.\n"
     ]
    },
    {
     "name": "stdout",
     "output_type": "stream",
     "text": [
      "Transit midtime in TESS time: 1098.6352820000611\n",
      "Flares found:\n",
      "        tstart        tstop     phase  ampl_rec       dur\n",
      "0  2519.362573  2519.363268  0.550844  0.118819  0.000695\n",
      "Wrote out LC to /home/ekaterina/Documents/001_science/lcs/2022_08_02_86130229_44_altai_0.fits.\n",
      "Get TESS Sector/Quarter 45, TIC 86130229, K2-352, fast cadence.\n"
     ]
    },
    {
     "name": "stderr",
     "output_type": "stream",
     "text": [
      "/home/ekaterina/Documents/000_envs/python37/lib/python3.7/site-packages/lightkurve/io/tess.py:34: ResourceWarning: unclosed file <_io.FileIO name='/home/ekaterina/Documents/001_science/lcs/mastDownload/TESS/tess2021310001228-s0045-0000000086130229-0216-a_fast/tess2021310001228-s0045-0000000086130229-0216-a_fast-lc.fits' mode='rb' closefd=True>\n",
      "  lc = read_generic_lightcurve(filename, flux_column=flux_column, time_format=\"btjd\")\n",
      "1% (868/103545) of the cadences will be ignored due to the quality mask (quality_bitmask=175).\n",
      "1% (868/103545) of the cadences will be ignored due to the quality mask (quality_bitmask=175).\n"
     ]
    },
    {
     "name": "stdout",
     "output_type": "stream",
     "text": [
      "date: 2022_08_02\n",
      "LC successfully detrended.\n"
     ]
    },
    {
     "name": "stderr",
     "output_type": "stream",
     "text": [
      "/home/ekaterina/Documents/000_envs/python37/lib/python3.7/site-packages/numpy/lib/nanfunctions.py:1117: RuntimeWarning: Mean of empty slice\n",
      "  return np.nanmean(a, axis, out=out, keepdims=keepdims)\n",
      "Found 0 candidate(s) in the (0,50406) gap.\n",
      "Found 1 candidate(s) in the (50406,97343) gap.\n"
     ]
    },
    {
     "name": "stdout",
     "output_type": "stream",
     "text": [
      "Transit midtime in TESS time: 1098.6352820000611\n",
      "Flares found:\n",
      "        tstart        tstop    phase  ampl_rec       dur\n",
      "0  2545.007225  2545.007919  0.54628   0.01178  0.000695\n",
      "Wrote out LC to /home/ekaterina/Documents/001_science/lcs/2022_08_02_86130229_45_altai_0.fits.\n",
      "Get TESS Sector/Quarter 46, TIC 86130229, K2-352, fast cadence.\n"
     ]
    },
    {
     "name": "stderr",
     "output_type": "stream",
     "text": [
      "/home/ekaterina/Documents/000_envs/python37/lib/python3.7/site-packages/lightkurve/io/tess.py:34: ResourceWarning: unclosed file <_io.FileIO name='/home/ekaterina/Documents/001_science/lcs/mastDownload/TESS/tess2021336043614-s0046-0000000086130229-0217-a_fast/tess2021336043614-s0046-0000000086130229-0217-a_fast-lc.fits' mode='rb' closefd=True>\n",
      "  lc = read_generic_lightcurve(filename, flux_column=flux_column, time_format=\"btjd\")\n",
      "2% (1782/111240) of the cadences will be ignored due to the quality mask (quality_bitmask=175).\n",
      "2% (1782/111240) of the cadences will be ignored due to the quality mask (quality_bitmask=175).\n"
     ]
    },
    {
     "name": "stdout",
     "output_type": "stream",
     "text": [
      "date: 2022_08_02\n",
      "LC successfully detrended.\n"
     ]
    },
    {
     "name": "stderr",
     "output_type": "stream",
     "text": [
      "/home/ekaterina/Documents/000_envs/python37/lib/python3.7/site-packages/numpy/lib/nanfunctions.py:1117: RuntimeWarning: Mean of empty slice\n",
      "  return np.nanmean(a, axis, out=out, keepdims=keepdims)\n",
      "Found 1 candidate(s) in the (0,49008) gap.\n",
      "Found 0 candidate(s) in the (49008,98874) gap.\n",
      "/home/ekaterina/Documents/000_envs/python37/lib/python3.7/site-packages/ipykernel_launcher.py:88: LightkurveDeprecationWarning: The search_lightcurvefile function is deprecated and may be removed in a future version.\n",
      "        Use search_lightcurve() instead.\n"
     ]
    },
    {
     "name": "stdout",
     "output_type": "stream",
     "text": [
      "Transit midtime in TESS time: 1098.6352820000611\n",
      "Flares found:\n",
      "        tstart        tstop     phase  ampl_rec       dur\n",
      "0  2559.268717  2559.269411  0.436579  0.069278  0.000695\n",
      "Wrote out LC to /home/ekaterina/Documents/001_science/lcs/2022_08_02_86130229_46_altai_0.fits.\n",
      "\n",
      "---------------------\n",
      "3 flares found!\n",
      "-------------------\n",
      "\n",
      "(0, 0)\n",
      "Get TESS Sector/Quarter 20, TIC 86396382, WASP-12, short cadence.\n"
     ]
    },
    {
     "name": "stderr",
     "output_type": "stream",
     "text": [
      "/home/ekaterina/Documents/000_envs/python37/lib/python3.7/site-packages/lightkurve/io/tess.py:34: ResourceWarning: unclosed file <_io.FileIO name='/home/ekaterina/Documents/001_science/lcs/mastDownload/TESS/tess2019357164649-s0020-0000000086396382-0165-s/tess2019357164649-s0020-0000000086396382-0165-s_lc.fits' mode='rb' closefd=True>\n",
      "  lc = read_generic_lightcurve(filename, flux_column=flux_column, time_format=\"btjd\")\n",
      "1% (217/17850) of the cadences will be ignored due to the quality mask (quality_bitmask=175).\n",
      "1% (217/17850) of the cadences will be ignored due to the quality mask (quality_bitmask=175).\n"
     ]
    },
    {
     "name": "stdout",
     "output_type": "stream",
     "text": [
      "date: 2022_08_02\n",
      "LC successfully detrended.\n"
     ]
    },
    {
     "name": "stderr",
     "output_type": "stream",
     "text": [
      "/home/ekaterina/Documents/000_envs/python37/lib/python3.7/site-packages/numpy/lib/nanfunctions.py:1117: RuntimeWarning: Mean of empty slice\n",
      "  return np.nanmean(a, axis, out=out, keepdims=keepdims)\n",
      "Found 0 candidate(s) in the (0,8795) gap.\n",
      "Found 0 candidate(s) in the (8795,16552) gap.\n"
     ]
    },
    {
     "name": "stdout",
     "output_type": "stream",
     "text": [
      "Transit midtime in TESS time: 2550.2430819999427\n",
      "No flares found in LC.\n",
      "Wrote out LC to /home/ekaterina/Documents/001_science/lcs/2022_08_02_86396382_20_altai_0.fits.\n",
      "Get TESS Sector/Quarter 43, TIC 86396382, WASP-12, short cadence.\n"
     ]
    },
    {
     "name": "stderr",
     "output_type": "stream",
     "text": [
      "/home/ekaterina/Documents/000_envs/python37/lib/python3.7/site-packages/lightkurve/io/tess.py:34: ResourceWarning: unclosed file <_io.FileIO name='/home/ekaterina/Documents/001_science/lcs/mastDownload/TESS/tess2021258175143-s0043-0000000086396382-0214-s/tess2021258175143-s0043-0000000086396382-0214-s_lc.fits' mode='rb' closefd=True>\n",
      "  lc = read_generic_lightcurve(filename, flux_column=flux_column, time_format=\"btjd\")\n",
      "0% (33/17050) of the cadences will be ignored due to the quality mask (quality_bitmask=175).\n",
      "0% (33/17050) of the cadences will be ignored due to the quality mask (quality_bitmask=175).\n"
     ]
    },
    {
     "name": "stdout",
     "output_type": "stream",
     "text": [
      "date: 2022_08_02\n",
      "LC successfully detrended.\n"
     ]
    },
    {
     "name": "stderr",
     "output_type": "stream",
     "text": [
      "/home/ekaterina/Documents/000_envs/python37/lib/python3.7/site-packages/numpy/lib/nanfunctions.py:1117: RuntimeWarning: Mean of empty slice\n",
      "  return np.nanmean(a, axis, out=out, keepdims=keepdims)\n",
      "Found 0 candidate(s) in the (0,7708) gap.\n",
      "Found 0 candidate(s) in the (7708,15577) gap.\n"
     ]
    },
    {
     "name": "stdout",
     "output_type": "stream",
     "text": [
      "Transit midtime in TESS time: 2550.2430819999427\n",
      "No flares found in LC.\n",
      "Wrote out LC to /home/ekaterina/Documents/001_science/lcs/2022_08_02_86396382_43_altai_0.fits.\n",
      "Get TESS Sector/Quarter 44, TIC 86396382, WASP-12, short cadence.\n"
     ]
    },
    {
     "name": "stderr",
     "output_type": "stream",
     "text": [
      "/home/ekaterina/Documents/000_envs/python37/lib/python3.7/site-packages/lightkurve/io/tess.py:34: ResourceWarning: unclosed file <_io.FileIO name='/home/ekaterina/Documents/001_science/lcs/mastDownload/TESS/tess2021284114741-s0044-0000000086396382-0215-s/tess2021284114741-s0044-0000000086396382-0215-s_lc.fits' mode='rb' closefd=True>\n",
      "  lc = read_generic_lightcurve(filename, flux_column=flux_column, time_format=\"btjd\")\n",
      "0% (45/16405) of the cadences will be ignored due to the quality mask (quality_bitmask=175).\n",
      "0% (45/16405) of the cadences will be ignored due to the quality mask (quality_bitmask=175).\n"
     ]
    },
    {
     "name": "stdout",
     "output_type": "stream",
     "text": [
      "date: 2022_08_02\n",
      "LC successfully detrended.\n"
     ]
    },
    {
     "name": "stderr",
     "output_type": "stream",
     "text": [
      "/home/ekaterina/Documents/000_envs/python37/lib/python3.7/site-packages/numpy/lib/nanfunctions.py:1117: RuntimeWarning: Mean of empty slice\n",
      "  return np.nanmean(a, axis, out=out, keepdims=keepdims)\n",
      "Found 0 candidate(s) in the (0,8224) gap.\n",
      "Found 0 candidate(s) in the (8224,15779) gap.\n"
     ]
    },
    {
     "name": "stdout",
     "output_type": "stream",
     "text": [
      "Transit midtime in TESS time: 2550.2430819999427\n",
      "No flares found in LC.\n",
      "Wrote out LC to /home/ekaterina/Documents/001_science/lcs/2022_08_02_86396382_44_altai_0.fits.\n",
      "Get TESS Sector/Quarter 45, TIC 86396382, WASP-12, short cadence.\n"
     ]
    },
    {
     "name": "stderr",
     "output_type": "stream",
     "text": [
      "/home/ekaterina/Documents/000_envs/python37/lib/python3.7/site-packages/lightkurve/io/tess.py:34: ResourceWarning: unclosed file <_io.FileIO name='/home/ekaterina/Documents/001_science/lcs/mastDownload/TESS/tess2021310001228-s0045-0000000086396382-0216-s/tess2021310001228-s0045-0000000086396382-0216-s_lc.fits' mode='rb' closefd=True>\n",
      "  lc = read_generic_lightcurve(filename, flux_column=flux_column, time_format=\"btjd\")\n",
      "1% (186/17256) of the cadences will be ignored due to the quality mask (quality_bitmask=175).\n",
      "1% (186/17256) of the cadences will be ignored due to the quality mask (quality_bitmask=175).\n"
     ]
    },
    {
     "name": "stdout",
     "output_type": "stream",
     "text": [
      "date: 2022_08_02\n",
      "LC successfully detrended.\n"
     ]
    },
    {
     "name": "stderr",
     "output_type": "stream",
     "text": [
      "/home/ekaterina/Documents/000_envs/python37/lib/python3.7/site-packages/numpy/lib/nanfunctions.py:1117: RuntimeWarning: Mean of empty slice\n",
      "  return np.nanmean(a, axis, out=out, keepdims=keepdims)\n",
      "Found 0 candidate(s) in the (0,8559) gap.\n",
      "Found 0 candidate(s) in the (8559,16085) gap.\n",
      "/home/ekaterina/Documents/000_envs/python37/lib/python3.7/site-packages/ipykernel_launcher.py:88: LightkurveDeprecationWarning: The search_lightcurvefile function is deprecated and may be removed in a future version.\n",
      "        Use search_lightcurve() instead.\n"
     ]
    },
    {
     "name": "stdout",
     "output_type": "stream",
     "text": [
      "Transit midtime in TESS time: 2550.2430819999427\n",
      "No flares found in LC.\n",
      "Wrote out LC to /home/ekaterina/Documents/001_science/lcs/2022_08_02_86396382_45_altai_0.fits.\n",
      "\n",
      "---------------------\n",
      "0 flares found!\n",
      "-------------------\n",
      "\n",
      "(0, 0)\n",
      "Get TESS Sector/Quarter 21, TIC 8767448, WASP-13, short cadence.\n"
     ]
    },
    {
     "name": "stderr",
     "output_type": "stream",
     "text": [
      "/home/ekaterina/Documents/000_envs/python37/lib/python3.7/site-packages/lightkurve/io/tess.py:34: ResourceWarning: unclosed file <_io.FileIO name='/home/ekaterina/Documents/001_science/lcs/mastDownload/TESS/tess2020020091053-s0021-0000000008767448-0167-s/tess2020020091053-s0021-0000000008767448-0167-s_lc.fits' mode='rb' closefd=True>\n",
      "  lc = read_generic_lightcurve(filename, flux_column=flux_column, time_format=\"btjd\")\n",
      "1% (269/19027) of the cadences will be ignored due to the quality mask (quality_bitmask=175).\n",
      "1% (269/19027) of the cadences will be ignored due to the quality mask (quality_bitmask=175).\n"
     ]
    },
    {
     "name": "stdout",
     "output_type": "stream",
     "text": [
      "date: 2022_08_02\n",
      "LC successfully detrended.\n"
     ]
    },
    {
     "name": "stderr",
     "output_type": "stream",
     "text": [
      "/home/ekaterina/Documents/000_envs/python37/lib/python3.7/site-packages/numpy/lib/nanfunctions.py:1117: RuntimeWarning: Mean of empty slice\n",
      "  return np.nanmean(a, axis, out=out, keepdims=keepdims)\n",
      "Found 0 candidate(s) in the (0,9598) gap.\n",
      "Found 0 candidate(s) in the (9598,17351) gap.\n",
      "/home/ekaterina/Documents/000_envs/python37/lib/python3.7/site-packages/ipykernel_launcher.py:88: LightkurveDeprecationWarning: The search_lightcurvefile function is deprecated and may be removed in a future version.\n",
      "        Use search_lightcurve() instead.\n"
     ]
    },
    {
     "name": "stdout",
     "output_type": "stream",
     "text": [
      "Transit midtime in TESS time: 1892.510627000127\n",
      "No flares found in LC.\n",
      "Wrote out LC to /home/ekaterina/Documents/001_science/lcs/2022_08_02_8767448_21_altai_0.fits.\n",
      "\n",
      "---------------------\n",
      "0 flares found!\n",
      "-------------------\n",
      "\n",
      "(0, 0)\n",
      "Get TESS Sector/Quarter 28, TIC 89020549, TOI-132, fast cadence.\n"
     ]
    },
    {
     "name": "stderr",
     "output_type": "stream",
     "text": [
      "/home/ekaterina/Documents/000_envs/python37/lib/python3.7/site-packages/lightkurve/io/tess.py:34: ResourceWarning: unclosed file <_io.FileIO name='/home/ekaterina/Documents/001_science/lcs/mastDownload/TESS/tess2020212050318-s0028-0000000089020549-0190-a_fast/tess2020212050318-s0028-0000000089020549-0190-a_fast-lc.fits' mode='rb' closefd=True>\n",
      "  lc = read_generic_lightcurve(filename, flux_column=flux_column, time_format=\"btjd\")\n",
      "0% (161/103965) of the cadences will be ignored due to the quality mask (quality_bitmask=175).\n",
      "0% (161/103965) of the cadences will be ignored due to the quality mask (quality_bitmask=175).\n"
     ]
    },
    {
     "name": "stdout",
     "output_type": "stream",
     "text": [
      "date: 2022_08_02\n",
      "LC successfully detrended.\n"
     ]
    },
    {
     "name": "stderr",
     "output_type": "stream",
     "text": [
      "/home/ekaterina/Documents/000_envs/python37/lib/python3.7/site-packages/numpy/lib/nanfunctions.py:1117: RuntimeWarning: Mean of empty slice\n",
      "  return np.nanmean(a, axis, out=out, keepdims=keepdims)\n",
      "Found 0 candidate(s) in the (0,42554) gap.\n",
      "Found 0 candidate(s) in the (42554,84415) gap.\n"
     ]
    },
    {
     "name": "stdout",
     "output_type": "stream",
     "text": [
      "Transit midtime in TESS time: 1326.9028929998167\n",
      "No flares found in LC.\n",
      "Wrote out LC to /home/ekaterina/Documents/001_science/lcs/2022_08_02_89020549_28_altai_0.fits.\n",
      "Get TESS Sector/Quarter 01, TIC 89020549, TOI-132, short cadence.\n"
     ]
    },
    {
     "name": "stderr",
     "output_type": "stream",
     "text": [
      "/home/ekaterina/Documents/000_envs/python37/lib/python3.7/site-packages/lightkurve/io/tess.py:34: ResourceWarning: unclosed file <_io.FileIO name='/home/ekaterina/Documents/001_science/lcs/mastDownload/TESS/tess2018206045859-s0001-0000000089020549-0120-s/tess2018206045859-s0001-0000000089020549-0120-s_lc.fits' mode='rb' closefd=True>\n",
      "  lc = read_generic_lightcurve(filename, flux_column=flux_column, time_format=\"btjd\")\n",
      "5% (982/19261) of the cadences will be ignored due to the quality mask (quality_bitmask=175).\n",
      "5% (982/19261) of the cadences will be ignored due to the quality mask (quality_bitmask=175).\n"
     ]
    },
    {
     "name": "stdout",
     "output_type": "stream",
     "text": [
      "date: 2022_08_02\n",
      "LC successfully detrended.\n"
     ]
    },
    {
     "name": "stderr",
     "output_type": "stream",
     "text": [
      "/home/ekaterina/Documents/000_envs/python37/lib/python3.7/site-packages/numpy/lib/nanfunctions.py:1117: RuntimeWarning: Mean of empty slice\n",
      "  return np.nanmean(a, axis, out=out, keepdims=keepdims)\n",
      "Found 0 candidate(s) in the (0,9409) gap.\n",
      "Found 0 candidate(s) in the (9409,18277) gap.\n",
      "/home/ekaterina/Documents/000_envs/python37/lib/python3.7/site-packages/ipykernel_launcher.py:88: LightkurveDeprecationWarning: The search_lightcurvefile function is deprecated and may be removed in a future version.\n",
      "        Use search_lightcurve() instead.\n"
     ]
    },
    {
     "name": "stdout",
     "output_type": "stream",
     "text": [
      "Transit midtime in TESS time: 1326.9028929998167\n",
      "No flares found in LC.\n",
      "Wrote out LC to /home/ekaterina/Documents/001_science/lcs/2022_08_02_89020549_01_altai_0.fits.\n",
      "\n",
      "---------------------\n",
      "0 flares found!\n",
      "-------------------\n",
      "\n",
      "(0, 0)\n"
     ]
    },
    {
     "name": "stderr",
     "output_type": "stream",
     "text": [
      "Could not resolve K2-325 to a sky position.\n",
      "Could not resolve K2-325 to a sky position.\n",
      "/home/ekaterina/Documents/000_envs/python37/lib/python3.7/site-packages/ipykernel_launcher.py:93: LightkurveDeprecationWarning: The search_lightcurvefile function is deprecated and may be removed in a future version.\n",
      "        Use search_lightcurve() instead.\n"
     ]
    },
    {
     "name": "stdout",
     "output_type": "stream",
     "text": [
      "Get TESS Sector/Quarter 42, TIC 8918021, K2-325, short cadence.\n"
     ]
    },
    {
     "name": "stderr",
     "output_type": "stream",
     "text": [
      "/home/ekaterina/Documents/000_envs/python37/lib/python3.7/site-packages/lightkurve/io/tess.py:34: ResourceWarning: unclosed file <_io.FileIO name='/home/ekaterina/Documents/001_science/lcs/mastDownload/TESS/tess2021232031932-s0042-0000000008918021-0213-s/tess2021232031932-s0042-0000000008918021-0213-s_lc.fits' mode='rb' closefd=True>\n",
      "  lc = read_generic_lightcurve(filename, flux_column=flux_column, time_format=\"btjd\")\n",
      "2% (307/17674) of the cadences will be ignored due to the quality mask (quality_bitmask=175).\n",
      "2% (307/17674) of the cadences will be ignored due to the quality mask (quality_bitmask=175).\n"
     ]
    },
    {
     "name": "stdout",
     "output_type": "stream",
     "text": [
      "date: 2022_08_02\n",
      "LC successfully detrended.\n"
     ]
    },
    {
     "name": "stderr",
     "output_type": "stream",
     "text": [
      "/home/ekaterina/Documents/000_envs/python37/lib/python3.7/site-packages/numpy/lib/nanfunctions.py:1117: RuntimeWarning: Mean of empty slice\n",
      "  return np.nanmean(a, axis, out=out, keepdims=keepdims)\n",
      "Found 0 candidate(s) in the (0,4289) gap.\n",
      "Found 0 candidate(s) in the (4289,11350) gap.\n",
      "/home/ekaterina/Documents/000_envs/python37/lib/python3.7/site-packages/ipykernel_launcher.py:88: LightkurveDeprecationWarning: The search_lightcurvefile function is deprecated and may be removed in a future version.\n",
      "        Use search_lightcurve() instead.\n"
     ]
    },
    {
     "name": "stdout",
     "output_type": "stream",
     "text": [
      "Transit midtime in TESS time: 743.8179999999702\n",
      "No flares found in LC.\n",
      "Wrote out LC to /home/ekaterina/Documents/001_science/lcs/2022_08_02_8918021_42_altai_0.fits.\n",
      "\n",
      "---------------------\n",
      "0 flares found!\n",
      "-------------------\n",
      "\n",
      "(0, 0)\n"
     ]
    },
    {
     "name": "stderr",
     "output_type": "stream",
     "text": [
      "Could not resolve K2-392 to a sky position.\n",
      "Could not resolve K2-392 to a sky position.\n",
      "/home/ekaterina/Documents/000_envs/python37/lib/python3.7/site-packages/ipykernel_launcher.py:93: LightkurveDeprecationWarning: The search_lightcurvefile function is deprecated and may be removed in a future version.\n",
      "        Use search_lightcurve() instead.\n"
     ]
    },
    {
     "name": "stdout",
     "output_type": "stream",
     "text": [
      "Get TESS Sector/Quarter 42, TIC 8963531, K2-392, short cadence.\n"
     ]
    },
    {
     "name": "stderr",
     "output_type": "stream",
     "text": [
      "/home/ekaterina/Documents/000_envs/python37/lib/python3.7/site-packages/lightkurve/io/tess.py:34: ResourceWarning: unclosed file <_io.FileIO name='/home/ekaterina/Documents/001_science/lcs/mastDownload/TESS/tess2021232031932-s0042-0000000008963531-0213-s/tess2021232031932-s0042-0000000008963531-0213-s_lc.fits' mode='rb' closefd=True>\n",
      "  lc = read_generic_lightcurve(filename, flux_column=flux_column, time_format=\"btjd\")\n",
      "2% (307/17674) of the cadences will be ignored due to the quality mask (quality_bitmask=175).\n",
      "2% (307/17674) of the cadences will be ignored due to the quality mask (quality_bitmask=175).\n"
     ]
    },
    {
     "name": "stdout",
     "output_type": "stream",
     "text": [
      "date: 2022_08_02\n",
      "LC successfully detrended.\n"
     ]
    },
    {
     "name": "stderr",
     "output_type": "stream",
     "text": [
      "/home/ekaterina/Documents/000_envs/python37/lib/python3.7/site-packages/numpy/lib/nanfunctions.py:1117: RuntimeWarning: Mean of empty slice\n",
      "  return np.nanmean(a, axis, out=out, keepdims=keepdims)\n",
      "Found 0 candidate(s) in the (0,4295) gap.\n",
      "Found 0 candidate(s) in the (4295,11343) gap.\n",
      "/home/ekaterina/Documents/000_envs/python37/lib/python3.7/site-packages/ipykernel_launcher.py:88: LightkurveDeprecationWarning: The search_lightcurvefile function is deprecated and may be removed in a future version.\n",
      "        Use search_lightcurve() instead.\n"
     ]
    },
    {
     "name": "stdout",
     "output_type": "stream",
     "text": [
      "Transit midtime in TESS time: 739.6737000001594\n",
      "No flares found in LC.\n",
      "Wrote out LC to /home/ekaterina/Documents/001_science/lcs/2022_08_02_8963531_42_altai_0.fits.\n",
      "\n",
      "---------------------\n",
      "0 flares found!\n",
      "-------------------\n",
      "\n",
      "(0, 0)\n"
     ]
    },
    {
     "name": "stderr",
     "output_type": "stream",
     "text": [
      "Could not resolve K2-379 to a sky position.\n",
      "Could not resolve K2-379 to a sky position.\n",
      "/home/ekaterina/Documents/000_envs/python37/lib/python3.7/site-packages/ipykernel_launcher.py:93: LightkurveDeprecationWarning: The search_lightcurvefile function is deprecated and may be removed in a future version.\n",
      "        Use search_lightcurve() instead.\n",
      "/home/ekaterina/Documents/000_envs/python37/lib/python3.7/site-packages/ipykernel_launcher.py:88: LightkurveDeprecationWarning: The search_lightcurvefile function is deprecated and may be removed in a future version.\n",
      "        Use search_lightcurve() instead.\n",
      "Could not resolve K2-389 to a sky position.\n",
      "Could not resolve K2-389 to a sky position.\n",
      "/home/ekaterina/Documents/000_envs/python37/lib/python3.7/site-packages/ipykernel_launcher.py:93: LightkurveDeprecationWarning: The search_lightcurvefile function is deprecated and may be removed in a future version.\n",
      "        Use search_lightcurve() instead.\n"
     ]
    },
    {
     "name": "stdout",
     "output_type": "stream",
     "text": [
      "Get TESS Sector/Quarter 42, TIC 9030096, K2-389, short cadence.\n"
     ]
    },
    {
     "name": "stderr",
     "output_type": "stream",
     "text": [
      "/home/ekaterina/Documents/000_envs/python37/lib/python3.7/site-packages/lightkurve/io/tess.py:34: ResourceWarning: unclosed file <_io.FileIO name='/home/ekaterina/Documents/001_science/lcs/mastDownload/TESS/tess2021232031932-s0042-0000000009030096-0213-s/tess2021232031932-s0042-0000000009030096-0213-s_lc.fits' mode='rb' closefd=True>\n",
      "  lc = read_generic_lightcurve(filename, flux_column=flux_column, time_format=\"btjd\")\n",
      "2% (307/17674) of the cadences will be ignored due to the quality mask (quality_bitmask=175).\n",
      "2% (307/17674) of the cadences will be ignored due to the quality mask (quality_bitmask=175).\n"
     ]
    },
    {
     "name": "stdout",
     "output_type": "stream",
     "text": [
      "date: 2022_08_02\n",
      "LC successfully detrended.\n"
     ]
    },
    {
     "name": "stderr",
     "output_type": "stream",
     "text": [
      "/home/ekaterina/Documents/000_envs/python37/lib/python3.7/site-packages/numpy/lib/nanfunctions.py:1117: RuntimeWarning: Mean of empty slice\n",
      "  return np.nanmean(a, axis, out=out, keepdims=keepdims)\n",
      "Found 1 candidate(s) in the (0,4412) gap.\n",
      "Found 0 candidate(s) in the (4412,11446) gap.\n",
      "/home/ekaterina/Documents/000_envs/python37/lib/python3.7/site-packages/ipykernel_launcher.py:88: LightkurveDeprecationWarning: The search_lightcurvefile function is deprecated and may be removed in a future version.\n",
      "        Use search_lightcurve() instead.\n"
     ]
    },
    {
     "name": "stdout",
     "output_type": "stream",
     "text": [
      "Transit midtime in TESS time: 742.7820000001229\n",
      "Flares found:\n",
      "        tstart        tstop     phase  ampl_rec      dur\n",
      "0  2453.552077  2453.720137  0.296541  0.073562  0.16806\n",
      "Wrote out LC to /home/ekaterina/Documents/001_science/lcs/2022_08_02_9030096_42_altai_0.fits.\n",
      "\n",
      "---------------------\n",
      "1 flares found!\n",
      "-------------------\n",
      "\n",
      "(0, 0)\n"
     ]
    },
    {
     "name": "stderr",
     "output_type": "stream",
     "text": [
      "Could not resolve K2-390 to a sky position.\n",
      "Could not resolve K2-390 to a sky position.\n",
      "/home/ekaterina/Documents/000_envs/python37/lib/python3.7/site-packages/ipykernel_launcher.py:93: LightkurveDeprecationWarning: The search_lightcurvefile function is deprecated and may be removed in a future version.\n",
      "        Use search_lightcurve() instead.\n"
     ]
    },
    {
     "name": "stdout",
     "output_type": "stream",
     "text": [
      "Get TESS Sector/Quarter 42, TIC 9030119, K2-390, short cadence.\n"
     ]
    },
    {
     "name": "stderr",
     "output_type": "stream",
     "text": [
      "/home/ekaterina/Documents/000_envs/python37/lib/python3.7/site-packages/lightkurve/io/tess.py:34: ResourceWarning: unclosed file <_io.FileIO name='/home/ekaterina/Documents/001_science/lcs/mastDownload/TESS/tess2021232031932-s0042-0000000009030119-0213-s/tess2021232031932-s0042-0000000009030119-0213-s_lc.fits' mode='rb' closefd=True>\n",
      "  lc = read_generic_lightcurve(filename, flux_column=flux_column, time_format=\"btjd\")\n",
      "2% (307/17674) of the cadences will be ignored due to the quality mask (quality_bitmask=175).\n",
      "2% (307/17674) of the cadences will be ignored due to the quality mask (quality_bitmask=175).\n"
     ]
    },
    {
     "name": "stdout",
     "output_type": "stream",
     "text": [
      "date: 2022_08_02\n",
      "LC successfully detrended.\n"
     ]
    },
    {
     "name": "stderr",
     "output_type": "stream",
     "text": [
      "/home/ekaterina/Documents/000_envs/python37/lib/python3.7/site-packages/numpy/lib/nanfunctions.py:1117: RuntimeWarning: Mean of empty slice\n",
      "  return np.nanmean(a, axis, out=out, keepdims=keepdims)\n",
      "Found 0 candidate(s) in the (0,4412) gap.\n",
      "Found 0 candidate(s) in the (4412,11473) gap.\n",
      "/home/ekaterina/Documents/000_envs/python37/lib/python3.7/site-packages/ipykernel_launcher.py:88: LightkurveDeprecationWarning: The search_lightcurvefile function is deprecated and may be removed in a future version.\n",
      "        Use search_lightcurve() instead.\n"
     ]
    },
    {
     "name": "stdout",
     "output_type": "stream",
     "text": [
      "Transit midtime in TESS time: 739.9029000001028\n",
      "No flares found in LC.\n",
      "Wrote out LC to /home/ekaterina/Documents/001_science/lcs/2022_08_02_9030119_42_altai_0.fits.\n",
      "\n",
      "---------------------\n",
      "0 flares found!\n",
      "-------------------\n",
      "\n",
      "(0, 0)\n"
     ]
    },
    {
     "name": "stderr",
     "output_type": "stream",
     "text": [
      "Could not resolve K2-391 to a sky position.\n",
      "Could not resolve K2-391 to a sky position.\n",
      "/home/ekaterina/Documents/000_envs/python37/lib/python3.7/site-packages/ipykernel_launcher.py:93: LightkurveDeprecationWarning: The search_lightcurvefile function is deprecated and may be removed in a future version.\n",
      "        Use search_lightcurve() instead.\n"
     ]
    },
    {
     "name": "stdout",
     "output_type": "stream",
     "text": [
      "Get TESS Sector/Quarter 42, TIC 9054633, K2-391, short cadence.\n"
     ]
    },
    {
     "name": "stderr",
     "output_type": "stream",
     "text": [
      "/home/ekaterina/Documents/000_envs/python37/lib/python3.7/site-packages/lightkurve/io/tess.py:34: ResourceWarning: unclosed file <_io.FileIO name='/home/ekaterina/Documents/001_science/lcs/mastDownload/TESS/tess2021232031932-s0042-0000000009054633-0213-s/tess2021232031932-s0042-0000000009054633-0213-s_lc.fits' mode='rb' closefd=True>\n",
      "  lc = read_generic_lightcurve(filename, flux_column=flux_column, time_format=\"btjd\")\n",
      "2% (307/17674) of the cadences will be ignored due to the quality mask (quality_bitmask=175).\n",
      "2% (307/17674) of the cadences will be ignored due to the quality mask (quality_bitmask=175).\n"
     ]
    },
    {
     "name": "stdout",
     "output_type": "stream",
     "text": [
      "date: 2022_08_02\n",
      "LC successfully detrended.\n"
     ]
    },
    {
     "name": "stderr",
     "output_type": "stream",
     "text": [
      "/home/ekaterina/Documents/000_envs/python37/lib/python3.7/site-packages/numpy/lib/nanfunctions.py:1117: RuntimeWarning: Mean of empty slice\n",
      "  return np.nanmean(a, axis, out=out, keepdims=keepdims)\n",
      "Found 0 candidate(s) in the (0,4386) gap.\n",
      "Found 0 candidate(s) in the (4386,11430) gap.\n",
      "/home/ekaterina/Documents/000_envs/python37/lib/python3.7/site-packages/ipykernel_launcher.py:88: LightkurveDeprecationWarning: The search_lightcurvefile function is deprecated and may be removed in a future version.\n",
      "        Use search_lightcurve() instead.\n"
     ]
    },
    {
     "name": "stdout",
     "output_type": "stream",
     "text": [
      "Transit midtime in TESS time: 741.5164999999106\n",
      "No flares found in LC.\n",
      "Wrote out LC to /home/ekaterina/Documents/001_science/lcs/2022_08_02_9054633_42_altai_0.fits.\n",
      "\n",
      "---------------------\n",
      "0 flares found!\n",
      "-------------------\n",
      "\n",
      "(0, 0)\n"
     ]
    },
    {
     "name": "stderr",
     "output_type": "stream",
     "text": [
      "Could not resolve K2-380 to a sky position.\n",
      "Could not resolve K2-380 to a sky position.\n",
      "/home/ekaterina/Documents/000_envs/python37/lib/python3.7/site-packages/ipykernel_launcher.py:93: LightkurveDeprecationWarning: The search_lightcurvefile function is deprecated and may be removed in a future version.\n",
      "        Use search_lightcurve() instead.\n",
      "/home/ekaterina/Documents/000_envs/python37/lib/python3.7/site-packages/ipykernel_launcher.py:88: LightkurveDeprecationWarning: The search_lightcurvefile function is deprecated and may be removed in a future version.\n",
      "        Use search_lightcurve() instead.\n",
      "No data found for target \"WASP-59\".\n",
      "No data found for target \"WASP-59\".\n",
      "/home/ekaterina/Documents/000_envs/python37/lib/python3.7/site-packages/ipykernel_launcher.py:93: LightkurveDeprecationWarning: The search_lightcurvefile function is deprecated and may be removed in a future version.\n",
      "        Use search_lightcurve() instead.\n",
      "No data found for target \"TIC 91051152\".\n",
      "No data found for target \"TIC 91051152\".\n",
      "/home/ekaterina/Documents/000_envs/python37/lib/python3.7/site-packages/ipykernel_launcher.py:88: LightkurveDeprecationWarning: The search_lightcurvefile function is deprecated and may be removed in a future version.\n",
      "        Use search_lightcurve() instead.\n",
      "No data found for target \"OGLE-TR-113\".\n",
      "No data found for target \"OGLE-TR-113\".\n",
      "/home/ekaterina/Documents/000_envs/python37/lib/python3.7/site-packages/ipykernel_launcher.py:93: LightkurveDeprecationWarning: The search_lightcurvefile function is deprecated and may be removed in a future version.\n",
      "        Use search_lightcurve() instead.\n",
      "No data found for target \"TIC 915110182\".\n",
      "No data found for target \"TIC 915110182\".\n",
      "/home/ekaterina/Documents/000_envs/python37/lib/python3.7/site-packages/ipykernel_launcher.py:88: LightkurveDeprecationWarning: The search_lightcurvefile function is deprecated and may be removed in a future version.\n",
      "        Use search_lightcurve() instead.\n"
     ]
    },
    {
     "name": "stdout",
     "output_type": "stream",
     "text": [
      "Get TESS Sector/Quarter 47, TIC 9155187, XO-5, short cadence.\n"
     ]
    },
    {
     "name": "stderr",
     "output_type": "stream",
     "text": [
      "/home/ekaterina/Documents/000_envs/python37/lib/python3.7/site-packages/lightkurve/io/tess.py:34: ResourceWarning: unclosed file <_io.FileIO name='/home/ekaterina/Documents/001_science/lcs/mastDownload/TESS/tess2021364111932-s0047-0000000009155187-0218-s/tess2021364111932-s0047-0000000009155187-0218-s_lc.fits' mode='rb' closefd=True>\n",
      "  lc = read_generic_lightcurve(filename, flux_column=flux_column, time_format=\"btjd\")\n",
      "0% (24/18886) of the cadences will be ignored due to the quality mask (quality_bitmask=175).\n",
      "0% (24/18886) of the cadences will be ignored due to the quality mask (quality_bitmask=175).\n"
     ]
    },
    {
     "name": "stdout",
     "output_type": "stream",
     "text": [
      "date: 2022_08_02\n",
      "LC successfully detrended.\n"
     ]
    },
    {
     "name": "stderr",
     "output_type": "stream",
     "text": [
      "/home/ekaterina/Documents/000_envs/python37/lib/python3.7/site-packages/numpy/lib/nanfunctions.py:1117: RuntimeWarning: Mean of empty slice\n",
      "  return np.nanmean(a, axis, out=out, keepdims=keepdims)\n",
      "Found 0 candidate(s) in the (0,9008) gap.\n",
      "Found 0 candidate(s) in the (9008,16570) gap.\n",
      "/home/ekaterina/Documents/000_envs/python37/lib/python3.7/site-packages/ipykernel_launcher.py:88: LightkurveDeprecationWarning: The search_lightcurvefile function is deprecated and may be removed in a future version.\n",
      "        Use search_lightcurve() instead.\n"
     ]
    },
    {
     "name": "stdout",
     "output_type": "stream",
     "text": [
      "Transit midtime in TESS time: 2582.167295999825\n",
      "No flares found in LC.\n",
      "Wrote out LC to /home/ekaterina/Documents/001_science/lcs/2022_08_02_9155187_47_altai_0.fits.\n",
      "\n",
      "---------------------\n",
      "0 flares found!\n",
      "-------------------\n",
      "\n",
      "(0, 0)\n",
      "Get TESS Sector/Quarter 30, TIC 92226327, LHS 1140, fast cadence.\n"
     ]
    },
    {
     "name": "stderr",
     "output_type": "stream",
     "text": [
      "/home/ekaterina/Documents/000_envs/python37/lib/python3.7/site-packages/lightkurve/io/tess.py:34: ResourceWarning: unclosed file <_io.FileIO name='/home/ekaterina/Documents/001_science/lcs/mastDownload/TESS/tess2020266004630-s0030-0000000092226327-0195-a_fast/tess2020266004630-s0030-0000000092226327-0195-a_fast-lc.fits' mode='rb' closefd=True>\n",
      "  lc = read_generic_lightcurve(filename, flux_column=flux_column, time_format=\"btjd\")\n",
      "1% (1204/113535) of the cadences will be ignored due to the quality mask (quality_bitmask=175).\n",
      "1% (1204/113535) of the cadences will be ignored due to the quality mask (quality_bitmask=175).\n"
     ]
    },
    {
     "name": "stdout",
     "output_type": "stream",
     "text": [
      "date: 2022_08_02\n",
      "LC successfully detrended.\n"
     ]
    },
    {
     "name": "stderr",
     "output_type": "stream",
     "text": [
      "/home/ekaterina/Documents/000_envs/python37/lib/python3.7/site-packages/numpy/lib/nanfunctions.py:1117: RuntimeWarning: Mean of empty slice\n",
      "  return np.nanmean(a, axis, out=out, keepdims=keepdims)\n",
      "Found 1 candidate(s) in the (0,45670) gap.\n",
      "Found 0 candidate(s) in the (45670,95742) gap.\n"
     ]
    },
    {
     "name": "stdout",
     "output_type": "stream",
     "text": [
      "Transit midtime in TESS time: 2141.1004880000837\n",
      "Flares found:\n",
      "        tstart        tstop     phase  ampl_rec       dur\n",
      "0  2120.779426  2120.780121  0.621098  0.165394  0.000694\n",
      "Wrote out LC to /home/ekaterina/Documents/001_science/lcs/2022_08_02_92226327_30_altai_0.fits.\n",
      "Get TESS Sector/Quarter 03, TIC 92226327, LHS 1140, short cadence.\n"
     ]
    },
    {
     "name": "stderr",
     "output_type": "stream",
     "text": [
      "/home/ekaterina/Documents/000_envs/python37/lib/python3.7/site-packages/lightkurve/io/tess.py:34: ResourceWarning: unclosed file <_io.FileIO name='/home/ekaterina/Documents/001_science/lcs/mastDownload/TESS/tess2018263035959-s0003-0000000092226327-0123-s/tess2018263035959-s0003-0000000092226327-0123-s_lc.fits' mode='rb' closefd=True>\n",
      "  lc = read_generic_lightcurve(filename, flux_column=flux_column, time_format=\"btjd\")\n",
      "Warning: 30% (5871/19412) of the cadences will be ignored due to the quality mask (quality_bitmask=175).\n",
      "Warning: 30% (5871/19412) of the cadences will be ignored due to the quality mask (quality_bitmask=175).\n"
     ]
    },
    {
     "name": "stdout",
     "output_type": "stream",
     "text": [
      "date: 2022_08_02\n",
      "LC successfully detrended.\n"
     ]
    },
    {
     "name": "stderr",
     "output_type": "stream",
     "text": [
      "/home/ekaterina/Documents/000_envs/python37/lib/python3.7/site-packages/numpy/lib/nanfunctions.py:1117: RuntimeWarning: Mean of empty slice\n",
      "  return np.nanmean(a, axis, out=out, keepdims=keepdims)\n",
      "Found 0 candidate(s) in the (0,5922) gap.\n",
      "Found 0 candidate(s) in the (5922,12736) gap.\n",
      "/home/ekaterina/Documents/000_envs/python37/lib/python3.7/site-packages/ipykernel_launcher.py:88: LightkurveDeprecationWarning: The search_lightcurvefile function is deprecated and may be removed in a future version.\n",
      "        Use search_lightcurve() instead.\n"
     ]
    },
    {
     "name": "stdout",
     "output_type": "stream",
     "text": [
      "Transit midtime in TESS time: 2141.1004880000837\n",
      "No flares found in LC.\n",
      "Wrote out LC to /home/ekaterina/Documents/001_science/lcs/2022_08_02_92226327_03_altai_0.fits.\n",
      "\n",
      "---------------------\n",
      "1 flares found!\n",
      "-------------------\n",
      "\n",
      "(0, 0)\n",
      "Get TESS Sector/Quarter 27, TIC 92352620, WASP-94 A, fast cadence.\n"
     ]
    },
    {
     "name": "stderr",
     "output_type": "stream",
     "text": [
      "/home/ekaterina/Documents/000_envs/python37/lib/python3.7/site-packages/lightkurve/io/tess.py:34: ResourceWarning: unclosed file <_io.FileIO name='/home/ekaterina/Documents/001_science/lcs/mastDownload/TESS/tess2020186164531-s0027-0000000092352620-0189-a_fast/tess2020186164531-s0027-0000000092352620-0189-a_fast-lc.fits' mode='rb' closefd=True>\n",
      "  lc = read_generic_lightcurve(filename, flux_column=flux_column, time_format=\"btjd\")\n",
      "0% (154/100890) of the cadences will be ignored due to the quality mask (quality_bitmask=175).\n",
      "0% (154/100890) of the cadences will be ignored due to the quality mask (quality_bitmask=175).\n"
     ]
    },
    {
     "name": "stdout",
     "output_type": "stream",
     "text": [
      "date: 2022_08_02\n",
      "LC successfully detrended.\n"
     ]
    },
    {
     "name": "stderr",
     "output_type": "stream",
     "text": [
      "/home/ekaterina/Documents/000_envs/python37/lib/python3.7/site-packages/numpy/lib/nanfunctions.py:1117: RuntimeWarning: Mean of empty slice\n",
      "  return np.nanmean(a, axis, out=out, keepdims=keepdims)\n",
      "Found 0 candidate(s) in the (0,51149) gap.\n",
      "Found 0 candidate(s) in the (51149,100736) gap.\n"
     ]
    },
    {
     "name": "stdout",
     "output_type": "stream",
     "text": [
      "Transit midtime in TESS time: 2039.3358459998854\n",
      "No flares found in LC.\n",
      "Wrote out LC to /home/ekaterina/Documents/001_science/lcs/2022_08_02_92352620_27_altai_0.fits.\n",
      "Get TESS Sector/Quarter 01, TIC 92352620, WASP-94 A, short cadence.\n"
     ]
    },
    {
     "name": "stderr",
     "output_type": "stream",
     "text": [
      "/home/ekaterina/Documents/000_envs/python37/lib/python3.7/site-packages/lightkurve/io/tess.py:34: ResourceWarning: unclosed file <_io.FileIO name='/home/ekaterina/Documents/001_science/lcs/mastDownload/TESS/tess2018206045859-s0001-0000000092352620-0120-s/tess2018206045859-s0001-0000000092352620-0120-s_lc.fits' mode='rb' closefd=True>\n",
      "  lc = read_generic_lightcurve(filename, flux_column=flux_column, time_format=\"btjd\")\n",
      "5% (982/19261) of the cadences will be ignored due to the quality mask (quality_bitmask=175).\n",
      "5% (982/19261) of the cadences will be ignored due to the quality mask (quality_bitmask=175).\n"
     ]
    },
    {
     "name": "stdout",
     "output_type": "stream",
     "text": [
      "date: 2022_08_02\n",
      "LC successfully detrended.\n"
     ]
    },
    {
     "name": "stderr",
     "output_type": "stream",
     "text": [
      "/home/ekaterina/Documents/000_envs/python37/lib/python3.7/site-packages/numpy/lib/nanfunctions.py:1117: RuntimeWarning: Mean of empty slice\n",
      "  return np.nanmean(a, axis, out=out, keepdims=keepdims)\n",
      "Found 0 candidate(s) in the (0,9411) gap.\n",
      "Found 0 candidate(s) in the (9411,18183) gap.\n",
      "/home/ekaterina/Documents/000_envs/python37/lib/python3.7/site-packages/ipykernel_launcher.py:88: LightkurveDeprecationWarning: The search_lightcurvefile function is deprecated and may be removed in a future version.\n",
      "        Use search_lightcurve() instead.\n"
     ]
    },
    {
     "name": "stdout",
     "output_type": "stream",
     "text": [
      "Transit midtime in TESS time: 2039.3358459998854\n",
      "No flares found in LC.\n",
      "Wrote out LC to /home/ekaterina/Documents/001_science/lcs/2022_08_02_92352620_01_altai_0.fits.\n",
      "\n",
      "---------------------\n",
      "0 flares found!\n",
      "-------------------\n",
      "\n",
      "(0, 0)\n"
     ]
    },
    {
     "name": "stderr",
     "output_type": "stream",
     "text": [
      "No data found for target \"WASP-133\".\n",
      "No data found for target \"WASP-133\".\n",
      "/home/ekaterina/Documents/000_envs/python37/lib/python3.7/site-packages/ipykernel_launcher.py:93: LightkurveDeprecationWarning: The search_lightcurvefile function is deprecated and may be removed in a future version.\n",
      "        Use search_lightcurve() instead.\n",
      "No data found for target \"TIC 92449173\".\n",
      "No data found for target \"TIC 92449173\".\n",
      "/home/ekaterina/Documents/000_envs/python37/lib/python3.7/site-packages/ipykernel_launcher.py:88: LightkurveDeprecationWarning: The search_lightcurvefile function is deprecated and may be removed in a future version.\n",
      "        Use search_lightcurve() instead.\n",
      "No data found for target \"HATS-31\".\n",
      "No data found for target \"HATS-31\".\n",
      "/home/ekaterina/Documents/000_envs/python37/lib/python3.7/site-packages/ipykernel_launcher.py:93: LightkurveDeprecationWarning: The search_lightcurvefile function is deprecated and may be removed in a future version.\n",
      "        Use search_lightcurve() instead.\n",
      "No data found for target \"TIC 9385460\".\n",
      "No data found for target \"TIC 9385460\".\n",
      "/home/ekaterina/Documents/000_envs/python37/lib/python3.7/site-packages/ipykernel_launcher.py:88: LightkurveDeprecationWarning: The search_lightcurvefile function is deprecated and may be removed in a future version.\n",
      "        Use search_lightcurve() instead.\n",
      "/home/ekaterina/Documents/000_envs/python37/lib/python3.7/site-packages/ipykernel_launcher.py:88: LightkurveDeprecationWarning: The search_lightcurvefile function is deprecated and may be removed in a future version.\n",
      "        Use search_lightcurve() instead.\n"
     ]
    },
    {
     "name": "stdout",
     "output_type": "stream",
     "text": [
      "Get TESS Sector/Quarter 46, TIC 94892940, K2-162, short cadence.\n"
     ]
    },
    {
     "name": "stderr",
     "output_type": "stream",
     "text": [
      "/home/ekaterina/Documents/000_envs/python37/lib/python3.7/site-packages/lightkurve/io/tess.py:34: ResourceWarning: unclosed file <_io.FileIO name='/home/ekaterina/Documents/001_science/lcs/mastDownload/TESS/tess2021336043614-s0046-0000000094892940-0217-s/tess2021336043614-s0046-0000000094892940-0217-s_lc.fits' mode='rb' closefd=True>\n",
      "  lc = read_generic_lightcurve(filename, flux_column=flux_column, time_format=\"btjd\")\n",
      "2% (387/18539) of the cadences will be ignored due to the quality mask (quality_bitmask=175).\n",
      "2% (387/18539) of the cadences will be ignored due to the quality mask (quality_bitmask=175).\n"
     ]
    },
    {
     "name": "stdout",
     "output_type": "stream",
     "text": [
      "date: 2022_08_02\n",
      "LC successfully detrended.\n"
     ]
    },
    {
     "name": "stderr",
     "output_type": "stream",
     "text": [
      "/home/ekaterina/Documents/000_envs/python37/lib/python3.7/site-packages/numpy/lib/nanfunctions.py:1117: RuntimeWarning: Mean of empty slice\n",
      "  return np.nanmean(a, axis, out=out, keepdims=keepdims)\n",
      "Found 0 candidate(s) in the (0,8024) gap.\n",
      "Found 0 candidate(s) in the (8024,16320) gap.\n",
      "/home/ekaterina/Documents/000_envs/python37/lib/python3.7/site-packages/ipykernel_launcher.py:88: LightkurveDeprecationWarning: The search_lightcurvefile function is deprecated and may be removed in a future version.\n",
      "        Use search_lightcurve() instead.\n"
     ]
    },
    {
     "name": "stdout",
     "output_type": "stream",
     "text": [
      "Transit midtime in TESS time: 583.907600000035\n",
      "No flares found in LC.\n",
      "Wrote out LC to /home/ekaterina/Documents/001_science/lcs/2022_08_02_94892940_46_altai_0.fits.\n",
      "\n",
      "---------------------\n",
      "0 flares found!\n",
      "-------------------\n",
      "\n",
      "(0, 0)\n"
     ]
    },
    {
     "name": "stderr",
     "output_type": "stream",
     "text": [
      "/home/ekaterina/Documents/000_envs/python37/lib/python3.7/site-packages/ipykernel_launcher.py:88: LightkurveDeprecationWarning: The search_lightcurvefile function is deprecated and may be removed in a future version.\n",
      "        Use search_lightcurve() instead.\n"
     ]
    },
    {
     "name": "stdout",
     "output_type": "stream",
     "text": [
      "Get TESS Sector/Quarter 05, TIC 94986319, TOI-421, short cadence.\n"
     ]
    },
    {
     "name": "stderr",
     "output_type": "stream",
     "text": [
      "/home/ekaterina/Documents/000_envs/python37/lib/python3.7/site-packages/lightkurve/io/tess.py:34: ResourceWarning: unclosed file <_io.FileIO name='/home/ekaterina/Documents/001_science/lcs/mastDownload/TESS/tess2018319095959-s0005-0000000094986319-0125-s/tess2018319095959-s0005-0000000094986319-0125-s_lc.fits' mode='rb' closefd=True>\n",
      "  lc = read_generic_lightcurve(filename, flux_column=flux_column, time_format=\"btjd\")\n",
      "1% (252/17971) of the cadences will be ignored due to the quality mask (quality_bitmask=175).\n",
      "1% (252/17971) of the cadences will be ignored due to the quality mask (quality_bitmask=175).\n"
     ]
    },
    {
     "name": "stdout",
     "output_type": "stream",
     "text": [
      "date: 2022_08_02\n",
      "LC successfully detrended.\n"
     ]
    },
    {
     "name": "stderr",
     "output_type": "stream",
     "text": [
      "/home/ekaterina/Documents/000_envs/python37/lib/python3.7/site-packages/numpy/lib/nanfunctions.py:1117: RuntimeWarning: Mean of empty slice\n",
      "  return np.nanmean(a, axis, out=out, keepdims=keepdims)\n",
      "Found 0 candidate(s) in the (0,8609) gap.\n",
      "Found 0 candidate(s) in the (8609,17323) gap.\n"
     ]
    },
    {
     "name": "stdout",
     "output_type": "stream",
     "text": [
      "Transit midtime in TESS time: 1441.2806689999998\n",
      "No flares found in LC.\n",
      "Wrote out LC to /home/ekaterina/Documents/001_science/lcs/2022_08_02_94986319_05_altai_0.fits.\n",
      "Get TESS Sector/Quarter 06, TIC 94986319, TOI-421, short cadence.\n"
     ]
    },
    {
     "name": "stderr",
     "output_type": "stream",
     "text": [
      "/home/ekaterina/Documents/000_envs/python37/lib/python3.7/site-packages/lightkurve/io/tess.py:34: ResourceWarning: unclosed file <_io.FileIO name='/home/ekaterina/Documents/001_science/lcs/mastDownload/TESS/tess2018349182500-s0006-0000000094986319-0126-s/tess2018349182500-s0006-0000000094986319-0126-s_lc.fits' mode='rb' closefd=True>\n",
      "  lc = read_generic_lightcurve(filename, flux_column=flux_column, time_format=\"btjd\")\n",
      "1% (207/14898) of the cadences will be ignored due to the quality mask (quality_bitmask=175).\n",
      "1% (207/14898) of the cadences will be ignored due to the quality mask (quality_bitmask=175).\n"
     ]
    },
    {
     "name": "stdout",
     "output_type": "stream",
     "text": [
      "date: 2022_08_02\n",
      "LC successfully detrended.\n"
     ]
    },
    {
     "name": "stderr",
     "output_type": "stream",
     "text": [
      "/home/ekaterina/Documents/000_envs/python37/lib/python3.7/site-packages/numpy/lib/nanfunctions.py:1117: RuntimeWarning: Mean of empty slice\n",
      "  return np.nanmean(a, axis, out=out, keepdims=keepdims)\n",
      "Found 0 candidate(s) in the (0,6169) gap.\n",
      "Found 0 candidate(s) in the (6169,14610) gap.\n"
     ]
    },
    {
     "name": "stdout",
     "output_type": "stream",
     "text": [
      "Transit midtime in TESS time: 1441.2806689999998\n",
      "No flares found in LC.\n",
      "Wrote out LC to /home/ekaterina/Documents/001_science/lcs/2022_08_02_94986319_06_altai_0.fits.\n",
      "Get TESS Sector/Quarter 32, TIC 94986319, TOI-421, short cadence.\n"
     ]
    },
    {
     "name": "stderr",
     "output_type": "stream",
     "text": [
      "/home/ekaterina/Documents/000_envs/python37/lib/python3.7/site-packages/lightkurve/io/tess.py:34: ResourceWarning: unclosed file <_io.FileIO name='/home/ekaterina/Documents/001_science/lcs/mastDownload/TESS/tess2020324010417-s0032-0000000094986319-0200-s/tess2020324010417-s0032-0000000094986319-0200-s_lc.fits' mode='rb' closefd=True>\n",
      "  lc = read_generic_lightcurve(filename, flux_column=flux_column, time_format=\"btjd\")\n",
      "0% (34/18011) of the cadences will be ignored due to the quality mask (quality_bitmask=175).\n",
      "0% (34/18011) of the cadences will be ignored due to the quality mask (quality_bitmask=175).\n"
     ]
    },
    {
     "name": "stdout",
     "output_type": "stream",
     "text": [
      "date: 2022_08_02\n",
      "LC successfully detrended.\n"
     ]
    },
    {
     "name": "stderr",
     "output_type": "stream",
     "text": [
      "/home/ekaterina/Documents/000_envs/python37/lib/python3.7/site-packages/numpy/lib/nanfunctions.py:1117: RuntimeWarning: Mean of empty slice\n",
      "  return np.nanmean(a, axis, out=out, keepdims=keepdims)\n",
      "Found 0 candidate(s) in the (0,8219) gap.\n",
      "Found 0 candidate(s) in the (8219,17423) gap.\n",
      "/home/ekaterina/Documents/000_envs/python37/lib/python3.7/site-packages/ipykernel_launcher.py:88: LightkurveDeprecationWarning: The search_lightcurvefile function is deprecated and may be removed in a future version.\n",
      "        Use search_lightcurve() instead.\n"
     ]
    },
    {
     "name": "stdout",
     "output_type": "stream",
     "text": [
      "Transit midtime in TESS time: 1441.2806689999998\n",
      "No flares found in LC.\n",
      "Wrote out LC to /home/ekaterina/Documents/001_science/lcs/2022_08_02_94986319_32_altai_0.fits.\n",
      "\n",
      "---------------------\n",
      "0 flares found!\n",
      "-------------------\n",
      "\n",
      "(0, 0)\n",
      "Get TESS Sector/Quarter 46, TIC 96199085, K2-243, fast cadence.\n"
     ]
    },
    {
     "name": "stderr",
     "output_type": "stream",
     "text": [
      "/home/ekaterina/Documents/000_envs/python37/lib/python3.7/site-packages/lightkurve/io/tess.py:34: ResourceWarning: unclosed file <_io.FileIO name='/home/ekaterina/Documents/001_science/lcs/mastDownload/TESS/tess2021336043614-s0046-0000000096199085-0217-a_fast/tess2021336043614-s0046-0000000096199085-0217-a_fast-lc.fits' mode='rb' closefd=True>\n",
      "  lc = read_generic_lightcurve(filename, flux_column=flux_column, time_format=\"btjd\")\n",
      "2% (1782/111240) of the cadences will be ignored due to the quality mask (quality_bitmask=175).\n",
      "2% (1782/111240) of the cadences will be ignored due to the quality mask (quality_bitmask=175).\n"
     ]
    },
    {
     "name": "stdout",
     "output_type": "stream",
     "text": [
      "date: 2022_08_02\n",
      "LC successfully detrended.\n"
     ]
    },
    {
     "name": "stderr",
     "output_type": "stream",
     "text": [
      "/home/ekaterina/Documents/000_envs/python37/lib/python3.7/site-packages/numpy/lib/nanfunctions.py:1117: RuntimeWarning: Mean of empty slice\n",
      "  return np.nanmean(a, axis, out=out, keepdims=keepdims)\n",
      "Found 0 candidate(s) in the (0,46073) gap.\n",
      "Found 0 candidate(s) in the (46073,93910) gap.\n",
      "/home/ekaterina/Documents/000_envs/python37/lib/python3.7/site-packages/ipykernel_launcher.py:88: LightkurveDeprecationWarning: The search_lightcurvefile function is deprecated and may be removed in a future version.\n",
      "        Use search_lightcurve() instead.\n"
     ]
    },
    {
     "name": "stdout",
     "output_type": "stream",
     "text": [
      "Transit midtime in TESS time: 593.2061999998987\n",
      "No flares found in LC.\n",
      "Wrote out LC to /home/ekaterina/Documents/001_science/lcs/2022_08_02_96199085_46_altai_0.fits.\n",
      "\n",
      "---------------------\n",
      "0 flares found!\n",
      "-------------------\n",
      "\n",
      "(0, 0)\n"
     ]
    },
    {
     "name": "stderr",
     "output_type": "stream",
     "text": [
      "No data found for target \"HATS-8\".\n",
      "No data found for target \"HATS-8\".\n",
      "/home/ekaterina/Documents/000_envs/python37/lib/python3.7/site-packages/ipykernel_launcher.py:93: LightkurveDeprecationWarning: The search_lightcurvefile function is deprecated and may be removed in a future version.\n",
      "        Use search_lightcurve() instead.\n",
      "No data found for target \"TIC 96847781\".\n",
      "No data found for target \"TIC 96847781\".\n",
      "/home/ekaterina/Documents/000_envs/python37/lib/python3.7/site-packages/ipykernel_launcher.py:88: LightkurveDeprecationWarning: The search_lightcurvefile function is deprecated and may be removed in a future version.\n",
      "        Use search_lightcurve() instead.\n"
     ]
    },
    {
     "name": "stdout",
     "output_type": "stream",
     "text": [
      "Get TESS Sector/Quarter 01, TIC 97409519, WASP-124, short cadence.\n"
     ]
    },
    {
     "name": "stderr",
     "output_type": "stream",
     "text": [
      "/home/ekaterina/Documents/000_envs/python37/lib/python3.7/site-packages/lightkurve/io/tess.py:34: ResourceWarning: unclosed file <_io.FileIO name='/home/ekaterina/Documents/001_science/lcs/mastDownload/TESS/tess2018206045859-s0001-0000000097409519-0120-s/tess2018206045859-s0001-0000000097409519-0120-s_lc.fits' mode='rb' closefd=True>\n",
      "  lc = read_generic_lightcurve(filename, flux_column=flux_column, time_format=\"btjd\")\n",
      "5% (982/19261) of the cadences will be ignored due to the quality mask (quality_bitmask=175).\n",
      "5% (982/19261) of the cadences will be ignored due to the quality mask (quality_bitmask=175).\n"
     ]
    },
    {
     "name": "stdout",
     "output_type": "stream",
     "text": [
      "date: 2022_08_02\n",
      "LC successfully detrended.\n"
     ]
    },
    {
     "name": "stderr",
     "output_type": "stream",
     "text": [
      "/home/ekaterina/Documents/000_envs/python37/lib/python3.7/site-packages/numpy/lib/nanfunctions.py:1117: RuntimeWarning: Mean of empty slice\n",
      "  return np.nanmean(a, axis, out=out, keepdims=keepdims)\n",
      "Found 0 candidate(s) in the (0,832) gap.\n",
      "Found 0 candidate(s) in the (832,1209) gap.\n",
      "Found 0 candidate(s) in the (1209,8744) gap.\n",
      "Found 0 candidate(s) in the (8744,17477) gap.\n",
      "/home/ekaterina/Documents/000_envs/python37/lib/python3.7/site-packages/ipykernel_launcher.py:88: LightkurveDeprecationWarning: The search_lightcurvefile function is deprecated and may be removed in a future version.\n",
      "        Use search_lightcurve() instead.\n"
     ]
    },
    {
     "name": "stdout",
     "output_type": "stream",
     "text": [
      "Transit midtime in TESS time: 1327.0530849997886\n",
      "No flares found in LC.\n",
      "Wrote out LC to /home/ekaterina/Documents/001_science/lcs/2022_08_02_97409519_01_altai_0.fits.\n",
      "\n",
      "---------------------\n",
      "0 flares found!\n",
      "-------------------\n",
      "\n",
      "(0, 0)\n",
      "Get TESS Sector/Quarter 43, TIC 97735908, KELT-2 A, short cadence.\n"
     ]
    },
    {
     "name": "stderr",
     "output_type": "stream",
     "text": [
      "/home/ekaterina/Documents/000_envs/python37/lib/python3.7/site-packages/lightkurve/io/tess.py:34: ResourceWarning: unclosed file <_io.FileIO name='/home/ekaterina/Documents/001_science/lcs/mastDownload/TESS/tess2021258175143-s0043-0000000097735908-0214-s/tess2021258175143-s0043-0000000097735908-0214-s_lc.fits' mode='rb' closefd=True>\n",
      "  lc = read_generic_lightcurve(filename, flux_column=flux_column, time_format=\"btjd\")\n",
      "0% (33/17050) of the cadences will be ignored due to the quality mask (quality_bitmask=175).\n",
      "0% (33/17050) of the cadences will be ignored due to the quality mask (quality_bitmask=175).\n"
     ]
    },
    {
     "name": "stdout",
     "output_type": "stream",
     "text": [
      "date: 2022_08_02\n",
      "LC successfully detrended.\n"
     ]
    },
    {
     "name": "stderr",
     "output_type": "stream",
     "text": [
      "/home/ekaterina/Documents/000_envs/python37/lib/python3.7/site-packages/numpy/lib/nanfunctions.py:1117: RuntimeWarning: Mean of empty slice\n",
      "  return np.nanmean(a, axis, out=out, keepdims=keepdims)\n",
      "Found 0 candidate(s) in the (0,7935) gap.\n",
      "Found 2 candidate(s) in the (7935,15973) gap.\n"
     ]
    },
    {
     "name": "stdout",
     "output_type": "stream",
     "text": [
      "Transit midtime in TESS time: 2549.4743380001746\n",
      "Flares found:\n",
      "        tstart        tstop     phase  ampl_rec       dur\n",
      "0  2491.785012  2491.980864  0.976599  0.192522  0.195853\n",
      "1  2495.897906  2496.092369  0.976381  0.192072  0.194463\n",
      "Wrote out LC to /home/ekaterina/Documents/001_science/lcs/2022_08_02_97735908_43_altai_0.fits.\n",
      "Get TESS Sector/Quarter 44, TIC 97735908, KELT-2 A, short cadence.\n"
     ]
    },
    {
     "name": "stderr",
     "output_type": "stream",
     "text": [
      "/home/ekaterina/Documents/000_envs/python37/lib/python3.7/site-packages/lightkurve/io/tess.py:34: ResourceWarning: unclosed file <_io.FileIO name='/home/ekaterina/Documents/001_science/lcs/mastDownload/TESS/tess2021284114741-s0044-0000000097735908-0215-s/tess2021284114741-s0044-0000000097735908-0215-s_lc.fits' mode='rb' closefd=True>\n",
      "  lc = read_generic_lightcurve(filename, flux_column=flux_column, time_format=\"btjd\")\n",
      "0% (45/16405) of the cadences will be ignored due to the quality mask (quality_bitmask=175).\n",
      "0% (45/16405) of the cadences will be ignored due to the quality mask (quality_bitmask=175).\n"
     ]
    },
    {
     "name": "stdout",
     "output_type": "stream",
     "text": [
      "date: 2022_08_02\n",
      "LC successfully detrended.\n"
     ]
    },
    {
     "name": "stderr",
     "output_type": "stream",
     "text": [
      "/home/ekaterina/Documents/000_envs/python37/lib/python3.7/site-packages/numpy/lib/nanfunctions.py:1117: RuntimeWarning: Mean of empty slice\n",
      "  return np.nanmean(a, axis, out=out, keepdims=keepdims)\n",
      "Found 0 candidate(s) in the (0,8234) gap.\n",
      "Found 0 candidate(s) in the (8234,15793) gap.\n"
     ]
    },
    {
     "name": "stdout",
     "output_type": "stream",
     "text": [
      "Transit midtime in TESS time: 2549.4743380001746\n",
      "No flares found in LC.\n",
      "Wrote out LC to /home/ekaterina/Documents/001_science/lcs/2022_08_02_97735908_44_altai_0.fits.\n",
      "Get TESS Sector/Quarter 45, TIC 97735908, KELT-2 A, short cadence.\n"
     ]
    },
    {
     "name": "stderr",
     "output_type": "stream",
     "text": [
      "/home/ekaterina/Documents/000_envs/python37/lib/python3.7/site-packages/lightkurve/io/tess.py:34: ResourceWarning: unclosed file <_io.FileIO name='/home/ekaterina/Documents/001_science/lcs/mastDownload/TESS/tess2021310001228-s0045-0000000097735908-0216-s/tess2021310001228-s0045-0000000097735908-0216-s_lc.fits' mode='rb' closefd=True>\n",
      "  lc = read_generic_lightcurve(filename, flux_column=flux_column, time_format=\"btjd\")\n",
      "1% (186/17256) of the cadences will be ignored due to the quality mask (quality_bitmask=175).\n",
      "1% (186/17256) of the cadences will be ignored due to the quality mask (quality_bitmask=175).\n"
     ]
    },
    {
     "name": "stdout",
     "output_type": "stream",
     "text": [
      "date: 2022_08_02\n",
      "LC successfully detrended.\n"
     ]
    },
    {
     "name": "stderr",
     "output_type": "stream",
     "text": [
      "/home/ekaterina/Documents/000_envs/python37/lib/python3.7/site-packages/numpy/lib/nanfunctions.py:1117: RuntimeWarning: Mean of empty slice\n",
      "  return np.nanmean(a, axis, out=out, keepdims=keepdims)\n",
      "Found 0 candidate(s) in the (0,8582) gap.\n",
      "Found 0 candidate(s) in the (8582,16109) gap.\n",
      "/home/ekaterina/Documents/000_envs/python37/lib/python3.7/site-packages/ipykernel_launcher.py:88: LightkurveDeprecationWarning: The search_lightcurvefile function is deprecated and may be removed in a future version.\n",
      "        Use search_lightcurve() instead.\n"
     ]
    },
    {
     "name": "stdout",
     "output_type": "stream",
     "text": [
      "Transit midtime in TESS time: 2549.4743380001746\n",
      "No flares found in LC.\n",
      "Wrote out LC to /home/ekaterina/Documents/001_science/lcs/2022_08_02_97735908_45_altai_0.fits.\n",
      "\n",
      "---------------------\n",
      "2 flares found!\n",
      "-------------------\n",
      "\n",
      "(0, 0)\n",
      "Get TESS Sector/Quarter 33, TIC 98283926, HATS-42, fast cadence.\n"
     ]
    },
    {
     "name": "stderr",
     "output_type": "stream",
     "text": [
      "/home/ekaterina/Documents/000_envs/python37/lib/python3.7/site-packages/lightkurve/io/tess.py:34: ResourceWarning: unclosed file <_io.FileIO name='/home/ekaterina/Documents/001_science/lcs/mastDownload/TESS/tess2020351194500-s0033-0000000098283926-0203-a_fast/tess2020351194500-s0033-0000000098283926-0203-a_fast-lc.fits' mode='rb' closefd=True>\n",
      "  lc = read_generic_lightcurve(filename, flux_column=flux_column, time_format=\"btjd\")\n",
      "0% (139/104910) of the cadences will be ignored due to the quality mask (quality_bitmask=175).\n",
      "0% (139/104910) of the cadences will be ignored due to the quality mask (quality_bitmask=175).\n"
     ]
    },
    {
     "name": "stdout",
     "output_type": "stream",
     "text": [
      "date: 2022_08_02\n",
      "LC successfully detrended.\n"
     ]
    },
    {
     "name": "stderr",
     "output_type": "stream",
     "text": [
      "/home/ekaterina/Documents/000_envs/python37/lib/python3.7/site-packages/numpy/lib/nanfunctions.py:1117: RuntimeWarning: Mean of empty slice\n",
      "  return np.nanmean(a, axis, out=out, keepdims=keepdims)\n",
      "Found 0 candidate(s) in the (0,52371) gap.\n",
      "Found 0 candidate(s) in the (52371,104771) gap.\n"
     ]
    },
    {
     "name": "stdout",
     "output_type": "stream",
     "text": [
      "Transit midtime in TESS time: 2253.248463000171\n",
      "No flares found in LC.\n",
      "Wrote out LC to /home/ekaterina/Documents/001_science/lcs/2022_08_02_98283926_33_altai_0.fits.\n",
      "Get TESS Sector/Quarter 34, TIC 98283926, HATS-42, fast cadence.\n"
     ]
    },
    {
     "name": "stderr",
     "output_type": "stream",
     "text": [
      "/home/ekaterina/Documents/000_envs/python37/lib/python3.7/site-packages/lightkurve/io/tess.py:34: ResourceWarning: unclosed file <_io.FileIO name='/home/ekaterina/Documents/001_science/lcs/mastDownload/TESS/tess2021014023720-s0034-0000000098283926-0204-a_fast/tess2021014023720-s0034-0000000098283926-0204-a_fast-lc.fits' mode='rb' closefd=True>\n",
      "  lc = read_generic_lightcurve(filename, flux_column=flux_column, time_format=\"btjd\")\n",
      "0% (210/104760) of the cadences will be ignored due to the quality mask (quality_bitmask=175).\n",
      "0% (210/104760) of the cadences will be ignored due to the quality mask (quality_bitmask=175).\n"
     ]
    },
    {
     "name": "stdout",
     "output_type": "stream",
     "text": [
      "date: 2022_08_02\n"
     ]
    }
   ],
   "source": [
    "Nflares = 0 \n",
    "while Nflares < 1000:\n",
    "    lcs_sel=pd.DataFrame()\n",
    "    print(lcs_sel.shape)\n",
    "    while lcs_sel.shape[0]==0:\n",
    "        input_target = input_catalog.iloc[count]\n",
    "\n",
    "        lcs_sel = get_table_of_light_curves(input_target)\n",
    "        if lcs_sel is None:\n",
    "            lcs_sel=pd.DataFrame()\n",
    "        count+=1\n",
    "\n",
    "    TIC = \"TIC \" + str(input_target.TIC)\n",
    "    ID = input_target.hostname\n",
    "    n = 0\n",
    "    Nflares = 0\n",
    "    while n<lcs_sel.shape[0]:\n",
    "\n",
    "        sector = lcs_sel.iloc[n].mission[-2:]\n",
    "        mission = lcs_sel.iloc[n].mission.split(\" \")[0]\n",
    "\n",
    "        lc_n = n + 1\n",
    "\n",
    "        if lcs_sel.iloc[n].exptime < 30:\n",
    "            cadence = \"fast\"\n",
    "        else: \n",
    "            cadence = \"short\"\n",
    "\n",
    "        print(f\"Get {mission} Sector/Quarter {sector}, {TIC}, {ID}, {cadence} cadence.\")\n",
    "\n",
    "        # fetch light curve from MAST\n",
    "        download_dir = \"/home/ekaterina/Documents/001_science/lcs\"\n",
    "\n",
    "        if mission==\"TESS\":\n",
    "            flc = from_mast(TIC, mission=mission, c=sector,\n",
    "                        cadence=cadence, author=\"SPOC\",\n",
    "                        download_dir=download_dir)\n",
    "            if flc is None:\n",
    "                print(f\"No LC found for {mission}, {ID}, Quarter {sector}.\")\n",
    "                with open(\"../results/2022_07_listed_but_nothing_found.txt\", \"a\") as f:\n",
    "                    string = f\"{mission},{ID},{TIC},{sector},{cadence}\\n\"\n",
    "                    f.write(string)\n",
    "                n += 1\n",
    "            else:\n",
    "                Nflares += run_analysis(flc, input_target, sector, mission, lc_n, download_dir, i=0)\n",
    "                n += 1\n",
    "        elif mission==\"Kepler\":\n",
    "            flcl = from_mast(ID, mission=mission, c=sector,\n",
    "                        cadence=cadence,\n",
    "                        download_dir=download_dir)\n",
    "\n",
    "            if flcl is None:\n",
    "                print(f\"No LC found for {mission}, {ID}, Quarter {sector}.\")\n",
    "                with open(\"../results/2022_07_listed_but_nothing_found.txt\", \"a\") as f:\n",
    "                    string = f\"{mission},{ID},{TIC},{sector},{cadence}\\n\"\n",
    "                    f.write(string)\n",
    "                n += 1\n",
    "\n",
    "            elif type(flcl) != list:\n",
    "\n",
    "                print(f\"1 LC found for {mission}, {ID}, Quarter {sector}.\")\n",
    "                Nflares += run_analysis(flcl, input_target, sector, mission, lc_n, download_dir, i=0)\n",
    "                n += 1\n",
    "\n",
    "\n",
    "\n",
    "            else:\n",
    "                print(f\"{len(flcl)} LCs found for {mission}, {ID}, Quarter {sector}.\")\n",
    "                for i, flc in enumerate(flcl):\n",
    "                    Nflares += run_analysis(flc, input_target, sector, mission, lc_n, download_dir, i=i)\n",
    "\n",
    "                n += 1\n",
    "\n",
    "    print(f\"\\n---------------------\\n{Nflares} flares found!\\n-------------------\\n\")\n",
    "print(f\"\\nNext count is {count}.\\n\")"
   ]
  },
  {
   "cell_type": "code",
   "execution_count": null,
   "metadata": {},
   "outputs": [],
   "source": [
    "type(flcl) != list"
   ]
  },
  {
   "cell_type": "code",
   "execution_count": null,
   "metadata": {},
   "outputs": [],
   "source": [
    "# 2022_07_29_Kepler-974_14_altai_2\n",
    "# 2022_07_29_Kepler-974_15_altai_2\n",
    "# 2022_07_29_Kepler-974_16_altai_1.fits +2\n",
    "fff = fits.open(\"/home/ekaterina/Documents/001_science/lcs/2022_07_29_Kepler-350_14_altai_2.fits\")[1].data\n",
    "ff = pd.read_csv(\"../results/2022_07_flares.csv\")\n",
    "ff = ff[(ff.ID == ID) & (ff.qcs==14)]\n",
    "ff"
   ]
  },
  {
   "cell_type": "code",
   "execution_count": null,
   "metadata": {
    "scrolled": false
   },
   "outputs": [],
   "source": [
    "%matplotlib inline\n",
    "for j, flare in ff.iloc[2:].iterrows():\n",
    "    plt.figure(figsize=(16,5))\n",
    "    cap=.5\n",
    "    ts, tf = flare.tstart, flare.tstop\n",
    "    print(ts,tf)\n",
    "    _ = fff[np.where((fff['time']>=ts-.1/cap) & (fff['time']<=tf+.1/cap))]\n",
    "    med = np.median(_['flux'])\n",
    "    plt.plot(_['time'], _['flux']/med, c=\"k\")\n",
    "    \n",
    "    _ = fff[np.where((fff['time']>=ts-1e-8) & (fff['time']<=tf+1e-8))]\n",
    "    plt.scatter(_['time'], _['flux']/med, c=\"r\")\n",
    "\n",
    "    plt.scatter(ts, flare.phase/5 + 1)\n",
    "    plt.plot(_['time'], _['phase']/5 + 1, c=\"grey\")\n",
    "#     plt.ylim(0.99,1.004)"
   ]
  },
  {
   "cell_type": "code",
   "execution_count": null,
   "metadata": {},
   "outputs": [],
   "source": []
  }
 ],
 "metadata": {
  "kernelspec": {
   "display_name": "python37",
   "language": "python",
   "name": "python37"
  },
  "language_info": {
   "codemirror_mode": {
    "name": "ipython",
    "version": 3
   },
   "file_extension": ".py",
   "mimetype": "text/x-python",
   "name": "python",
   "nbconvert_exporter": "python",
   "pygments_lexer": "ipython3",
   "version": "3.7.5"
  }
 },
 "nbformat": 4,
 "nbformat_minor": 2
}
