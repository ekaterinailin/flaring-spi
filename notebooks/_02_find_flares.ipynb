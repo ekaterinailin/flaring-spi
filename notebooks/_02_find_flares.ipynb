{
 "cells": [
  {
   "cell_type": "code",
   "execution_count": 1,
   "metadata": {},
   "outputs": [
    {
     "name": "stderr",
     "output_type": "stream",
     "text": [
      "\n",
      "Bad key legend.labelcolor in file /home/ekaterina/.config/matplotlib/matplotlibrc, line 530 ('legend.labelcolor:    None')\n",
      "You probably need to get an updated matplotlibrc file from\n",
      "https://github.com/matplotlib/matplotlib/blob/v3.4.2/matplotlibrc.template\n",
      "or from the matplotlib source distribution\n"
     ]
    }
   ],
   "source": [
    "\"\"\"\n",
    "UTF-8, Python 3\n",
    "\n",
    "------------------\n",
    "Flaring SPI\n",
    "------------------\n",
    "\n",
    "Ekaterina Ilin, 2021, MIT License\n",
    "\n",
    "De-trending Kepler and TESS\n",
    "\n",
    "- get table of Kepler exoplanet system light curves\n",
    "- fetch FLC\n",
    "- get system info from table\n",
    "- mask transits\n",
    "- apply custom detrending\n",
    "- search flares\n",
    "- save results\n",
    "\"\"\"\n",
    "\n",
    "\n",
    "import copy\n",
    "import time\n",
    "\n",
    "from funcs.notebook import *\n",
    "from funcs.detrend import estimate_detrended_noise, fit_spline, remove_sines_iteratively, remove_exponential_fringes\n",
    "from funcs.transitmask import get_full_transit_mask\n",
    "\n",
    "from altaipony.lcio import from_mast, from_path\n",
    "from altaipony.flarelc import FlareLightCurve\n",
    "from altaipony.altai import find_iterative_median\n",
    "\n",
    "from lightkurve import search_lightcurvefile\n",
    "\n",
    "from astropy.io import fits\n",
    "\n",
    "\n",
    "def custom_detrending(lc, spline_coarseness=30, spline_order=3,\n",
    "                      savgol1=6., savgol2=3., pad=3):\n",
    "    \"\"\"Custom de-trending for TESS and Kepler \n",
    "    short cadence light curves, including TESS Cycle 3 20s\n",
    "    cadence.\n",
    "    \n",
    "    Parameters:\n",
    "    ------------\n",
    "    lc : FlareLightCurve\n",
    "        light curve that has at least time, flux and flux_err\n",
    "    spline_coarseness : float\n",
    "        time scale in hours for spline points. \n",
    "        See fit_spline for details.\n",
    "    spline_order: int\n",
    "        Spline order for the coarse spline fit.\n",
    "        Default is cubic spline.\n",
    "    savgol1 : float\n",
    "        Window size for first Savitzky-Golay filter application.\n",
    "        Unit is hours, defaults to 6 hours.\n",
    "    savgol2 : float\n",
    "        Window size for second Savitzky-Golay filter application.\n",
    "        Unit is hours, defaults to 3 hours.\n",
    "    pad : 3\n",
    "        Outliers in Savitzky-Golay filter are padded with this\n",
    "        number of data points. Defaults to 3.\n",
    "        \n",
    "    Return:\n",
    "    -------\n",
    "    FlareLightCurve with detrended_flux attribute\n",
    "    \"\"\"\n",
    "    dt = np.mean(np.diff(lc.time.value))\n",
    "#     plt.figure(figsize=(16,8))\n",
    "#     plt.xlim(20,21)\n",
    "#     plt.plot(lc.time, lc.flux+2500, c=\"c\", label=\"original light curve\")\n",
    "#     t0 = time.clock()\n",
    "    # fit a spline to the general trends\n",
    "    lc1, model = fit_spline(lc, spline_order=spline_order,\n",
    "                            spline_coarseness=spline_coarseness)\n",
    "    \n",
    "    # replace for next step\n",
    "    lc1.flux = lc1.detrended_flux.value\n",
    "#     t1 = time.clock()\n",
    "#     plt.plot(lc1.time, model+2500, c=\"r\", label=\"rough trends\")\n",
    "#     plt.plot(lc1.time, lc1.detrended_flux+500, c=\"orange\", label=\"rough trends removed\")\n",
    "\n",
    "    # removes strong and fast variability on 5 day to 4.8 hours \n",
    "    # simple sines are probably because rotational variability is \n",
    "    # either weak and transient or strong and persistent on the timescales\n",
    "    lc2 = lc1#remove_sines_iteratively(lc1)\n",
    "#     t2 = time.clock()\n",
    "#     plt.plot(lc2time, lc2.detrended_flux-200, label=\"sines removed\")\n",
    "    \n",
    "    # choose a 6 hour window\n",
    "    w = int((np.rint(savgol1 / 24. / dt) // 2) * 2 + 1)\n",
    "\n",
    "    # use Savitzy-Golay to iron out the rest\n",
    "    lc3 = lc2.detrend(\"savgol\", window_length=w, pad=pad)\n",
    "#     t3 = time.clock()\n",
    "    # choose a three hour window\n",
    "    w = int((np.rint(savgol2 / 24. / dt) // 2) * 2 + 1)\n",
    "\n",
    "    # use Savitzy-Golay to iron out the rest\n",
    "    lc4 = lc3.detrend(\"savgol\", window_length=w, pad=pad)\n",
    "#     t4 = time.clock()\n",
    "#     plt.plot(lc4.time, lc4.detrended_flux-800, c=\"k\", label=\"SavGol applied\")\n",
    "    \n",
    "    # find median value\n",
    "    lc4 = find_iterative_median(lc4)\n",
    "#     t41 = time.clock()\n",
    "    # replace for next step\n",
    "    lc4.flux = lc4.detrended_flux.value\n",
    "    \n",
    "    # remove exopential fringes that neither spline, \n",
    "    # nor sines, nor SavGol \n",
    "    # can remove.\n",
    "    lc5 = remove_exponential_fringes(lc4)\n",
    "#     t5 = time.clock()\n",
    "#     plt.plot(lc5.time, lc5.detrended_flux, c=\"magenta\", label=\"expfunc applied\")\n",
    "#     print(t1-t0, t2-t1, t3-t2, t4-t3, t41-t4, t5-t41, t5-t0)\n",
    "#     plt.xlim(10,40)\n",
    "#     plt.xlabel(\"time [days]\")\n",
    "#     plt.ylabel(\"flux\")\n",
    "#     plt.legend()    \n",
    "    return lc5\n",
    "\n",
    "\n",
    "def add_meta_data_and_write(ff, dflcn, ID, TIC, sector, mission,\n",
    "                  lc_n, w, tstamp, mask_pos_outliers_sigma):\n",
    "    \"\"\"Write out flare table to file.\"\"\"\n",
    "    \n",
    "    \n",
    "    if ff.shape[0]==0:\n",
    "        ff[\"phase\"]=-1\n",
    "        ff[\"total_n_valid_data_points\"] = dflcn.detrended_flux.shape[0]\n",
    "        ff[\"ID\"] = ID\n",
    "        ff[\"TIC\"] = TIC\n",
    "        ff[\"qcs\"] = sector\n",
    "        ff[\"mission\"] = mission\n",
    "        ff[\"tstamp\"] = tstamp\n",
    "        ff[\"lc_n\"] = lc_n\n",
    "        ff[\"w\"] = w\n",
    "        ff[\"mask_pos_outliers_sigma\"] = mask_pos_outliers_sigma\n",
    "        ff[\"real\"]=-1\n",
    "        ff = ff.append({\"phase\":-1,\n",
    "                        \"total_n_valid_data_points\":dflcn.detrended_flux.shape[0],\n",
    "                        \"ID\":ID,\n",
    "                        \"TIC\":TIC,\n",
    "                        \"qcs\" : sector,\n",
    "                        \"mission\":mission,\n",
    "                        \"tstamp\":tstamp,\n",
    "                        \"lc_n\":lc_n,\n",
    "                        \"w\":w,\n",
    "                        \"mask_pos_outliers_sigma\":mask_pos_outliers_sigma,\n",
    "                        \"real\":-1},\n",
    "                         ignore_index=True)\n",
    "\n",
    "    # otherwise add ID, QCS and mission\n",
    "    else:\n",
    "        ff[\"total_n_valid_data_points\"] = dflcn.detrended_flux.shape[0]\n",
    "        ff[\"ID\"] = ID\n",
    "        ff[\"TIC\"] = TIC\n",
    "        ff[\"qcs\"] = sector\n",
    "        ff[\"mission\"] = mission\n",
    "        ff[\"tstamp\"] = tstamp\n",
    "        ff[\"lc_n\"] = lc_n\n",
    "        ff[\"w\"] = w\n",
    "        ff[\"mask_pos_outliers_sigma\"] = mask_pos_outliers_sigma\n",
    "\n",
    "    # add results to file\n",
    "    with open(\"../results/2022_07_flares.csv\", \"a\") as file:\n",
    "        ff.to_csv(file, index=False, header=False)\n",
    "            \n",
    "def write_flc_to_file(dflcn, flc, path_dflcn):\n",
    "    \"\"\"Write detrended light curve to fits.\"\"\"\n",
    "    \n",
    "    \n",
    "    dflcn.to_fits(path_dflcn, \n",
    "                  FLUX=flc.flux.value,\n",
    "                  DETRENDED_FLUX=dflcn.detrended_flux.value,\n",
    "                  DETRENDED_FLUX_ERR=dflcn.detrended_flux_err.value,\n",
    "                  IT_MED=dflcn.it_med.value,\n",
    "                  FLUX_MODEL=dflcn.flux_model.value,\n",
    "                  PHASE = dflcn.phase,\n",
    "                  overwrite=True)\n",
    "\n",
    "def write_no_lc(input_target):\n",
    "    with open(\"../results/2022_07_nolc.txt\",\"a\") as f:\n",
    "        s = f\"TIC {input_target.TIC}\\n\"\n",
    "        f.write(s)\n",
    "    \n",
    "    \n",
    "sep = \"-----------------------------------------\"\n",
    "\n",
    "def mprint(message):\n",
    "    print(sep)\n",
    "    print(message)\n",
    "    print(sep)\n",
    "    \n",
    "offset = {\"K2\":2454833.,\n",
    "          \"Kepler\":2454833.,\n",
    "          \"TESS\":2457000.,\n",
    "          'Transiting Exoplanet Survey Satellite (TESS)':2457000.}    "
   ]
  },
  {
   "cell_type": "code",
   "execution_count": 2,
   "metadata": {},
   "outputs": [],
   "source": [
    "def run_analysis(flc, input_target, sector, mission, lc_n, download_dir,\n",
    "                 i=0, mask_pos_outliers_sigma = 2.5, addtail = True):\n",
    "    # get timestamp for result\n",
    "    tstamp = time.strftime(\"%Y_%m_%d\", time.localtime())\n",
    "    print(f\"date: {tstamp}\")\n",
    "\n",
    "    dflc = custom_detrending(flc)\n",
    "    print(\"LC successfully detrended.\")\n",
    "\n",
    "    # define two hour window for rolling std\n",
    "    w = np.floor(1. / 12. / np.nanmin(np.diff(dflc.time.value)))\n",
    "    if w%2==0: \n",
    "        w+=1\n",
    "\n",
    "    # use window to estimate the noise in the LC\n",
    "    dflcn = estimate_detrended_noise(dflc, std_window=int(w), \n",
    "                                  mask_pos_outliers_sigma=mask_pos_outliers_sigma)\n",
    "\n",
    "    # search the residual for flares\n",
    "    ff = dflcn.find_flares(addtail=addtail).flares\n",
    "\n",
    "\n",
    "    # calculate the observed phases\n",
    "    # calculate midtime of transit in TESS or Kepler time\n",
    "    if mission == \"TESS\":\n",
    "        if np.isfinite(input_target.pl_tranmid_tess):\n",
    "            midtime = input_target.pl_tranmid_tess - offset[mission]\n",
    "        else:\n",
    "            midtime = input_target.pl_tranmid - offset[mission]\n",
    "    elif mission == \"Kepler\":\n",
    "        midtime = input_target.pl_tranmid - offset[mission]\n",
    "    print(f\"Transit midtime in {mission} time: {midtime}\")\n",
    "\n",
    "    # calculate phases for the light curve\n",
    "    dflcn['phase'] = ((dflcn.time.value - midtime) % input_target.pl_orbper) / input_target.pl_orbper\n",
    "\n",
    "    # calculate the phase at which the flare was observed\n",
    "    ff[\"phase\"] = ff.cstart.apply(lambda x: dflcn[\"phase\"][np.where(x==dflcn.cadenceno)][0])\n",
    "    \n",
    "\n",
    "    # this is just to get the order of columns right, will be added later again\n",
    "    if ff.shape[0]>0:\n",
    "        del ff[\"total_n_valid_data_points\"]\n",
    "\n",
    "    # chop out all phases where we have no data points to look for flares in:\n",
    "    dflcn[\"phase\"][~np.isfinite(dflcn[\"detrended_flux\"])] = np.nan\n",
    "\n",
    "    fshow = ff[[\"tstart\",'tstop',\"phase\",\"ampl_rec\",\"dur\"]]\n",
    "    if fshow.shape[0]>0:\n",
    "        print(f\"Flares found:\\n{fshow}\")\n",
    "    else:\n",
    "        print(f'No flares found in LC.')\n",
    "\n",
    "    # add meta info to flare table\n",
    "    # if no flares found, add empty row and write to file\n",
    "    add_meta_data_and_write(ff, dflcn, input_target.hostname, \n",
    "                            input_target.TIC, sector,\n",
    "                            mission, lc_n, w, tstamp,\n",
    "                            mask_pos_outliers_sigma)\n",
    "\n",
    "\n",
    "    #write out detrended light curve\n",
    "    if mission==\"TESS\":\n",
    "        path_dflcn = f\"{download_dir}/{tstamp}_{input_target.TIC}_{sector}_altai_{i}.fits\"\n",
    "    elif mission==\"Kepler\":\n",
    "        name = input_target.hostname.replace(\" \",\"_\").replace(\"-\",\"_\")\n",
    "        path_dflcn = f\"{download_dir}/{tstamp}_{input_target.hostname}_{sector}_altai_{i}.fits\"\n",
    "        \n",
    "    write_flc_to_file(dflcn, flc, path_dflcn)\n",
    "    print(f\"Wrote out LC to {path_dflcn}.\")\n",
    "\n",
    "#     %matplotlib inline\n",
    "#     plt.figure(figsize=(16,5))\n",
    "    # plt.plot(flc.time, flc.flux)\n",
    "    # plt.plot(dflcn.time.value, dflcn.detrended_flux.value/,c=\"orange\")\n",
    "#     plt.plot(flc.time.value, flc.pdcsap_flux.value/np.median(flc.pdcsap_flux.value),c=\"r\")\n",
    "#     plt.scatter(dflcn.time.value, dflcn.phase.value/10+1,c=\"k\",zorder=10,s=.3)\n",
    "#     plt.title(f\"{mission} Sector/Quarter {sector}, TIC {input_target.TIC}, {input_target.hostname}, {cadence} cadence.\")\n",
    "    # plt.plot(flc.time.value, flc.flux.value,c=\"k\")\n",
    "    # x=25\n",
    "    # plt.xlim(2412,2414)\n",
    "    # plt.ylim(0.99,1.3)\n",
    "    return ff.shape[0]\n",
    "\n",
    "def get_table_of_light_curves(input_target):\n",
    "\n",
    "    try:\n",
    "        lcs  = search_lightcurvefile(input_target.hostname)   \n",
    "        conditions = (lcs.exptime.value < 130) & (lcs.author != \"TASOC\")\n",
    "        lcs_sel = lcs[conditions]\n",
    "    except KeyError:\n",
    "        try:\n",
    "            lcs  = search_lightcurvefile(f\"TIC {input_target.TIC}\")\n",
    "            conditions = (lcs.exptime.value < 130) & (lcs.author != \"TASOC\")\n",
    "            lcs_sel = lcs[conditions]\n",
    "        except KeyError:\n",
    "            write_no_lc(input_target)\n",
    "            return\n",
    "    if len(lcs)==0:\n",
    "        write_no_lc(input_target)\n",
    "        return\n",
    "   \n",
    "    \n",
    "    lcs_sel = lcs_sel.table.to_pandas().sort_values(by=\"t_exptime\")\n",
    "    lcs_sel_tess = lcs_sel.loc[lcs_sel.mission.str[:4]==\"TESS\",:].drop_duplicates(subset=[\"mission\"],keep=\"first\")\n",
    "    lcs_sel_kepler = lcs_sel[lcs_sel.mission.str[:6]==\"Kepler\"].drop_duplicates(subset=[\"mission\"])\n",
    "\n",
    "    lcs_sel = pd.concat([lcs_sel_kepler,lcs_sel_tess])\n",
    "   \n",
    "    return lcs_sel"
   ]
  },
  {
   "cell_type": "code",
   "execution_count": 3,
   "metadata": {},
   "outputs": [
    {
     "name": "stdout",
     "output_type": "stream",
     "text": [
      "-----------------------------------------\n",
      "[UP] Using compiled input catalog from ../data/2022_07_27_input_catalog_star_planet_systems.csv\n",
      "-----------------------------------------\n"
     ]
    }
   ],
   "source": [
    "# Composite Table of confirmed exoplanets\n",
    "path = \"../data/2022_07_27_input_catalog_star_planet_systems.csv\"\n",
    "\n",
    "mprint(f\"[UP] Using compiled input catalog from {path}\")\n",
    "\n",
    "input_catalog = pd.read_csv(path) "
   ]
  },
  {
   "cell_type": "code",
   "execution_count": 4,
   "metadata": {},
   "outputs": [
    {
     "data": {
      "text/plain": [
       "0"
      ]
     },
     "execution_count": 4,
     "metadata": {},
     "output_type": "execute_result"
    }
   ],
   "source": [
    "lcs_sel=pd.DataFrame()\n",
    "lcs_sel.shape[0]"
   ]
  },
  {
   "cell_type": "code",
   "execution_count": 28,
   "metadata": {},
   "outputs": [
    {
     "data": {
      "text/html": [
       "<div>\n",
       "<style scoped>\n",
       "    .dataframe tbody tr th:only-of-type {\n",
       "        vertical-align: middle;\n",
       "    }\n",
       "\n",
       "    .dataframe tbody tr th {\n",
       "        vertical-align: top;\n",
       "    }\n",
       "\n",
       "    .dataframe thead th {\n",
       "        text-align: right;\n",
       "    }\n",
       "</style>\n",
       "<table border=\"1\" class=\"dataframe\">\n",
       "  <thead>\n",
       "    <tr style=\"text-align: right;\">\n",
       "      <th></th>\n",
       "      <th>TIC</th>\n",
       "      <th>hostname</th>\n",
       "      <th>pl_name</th>\n",
       "      <th>sy_pnum</th>\n",
       "      <th>sy_snum</th>\n",
       "      <th>pl_orbper</th>\n",
       "      <th>pl_orbpererr1</th>\n",
       "      <th>pl_orbpererr2</th>\n",
       "      <th>pl_tranmid</th>\n",
       "      <th>pl_tranmiderr1</th>\n",
       "      <th>pl_tranmiderr2</th>\n",
       "      <th>pl_orbper_tess</th>\n",
       "      <th>pl_orbpererr1_tess</th>\n",
       "      <th>pl_orbpererr2_tess</th>\n",
       "      <th>pl_tranmid_tess</th>\n",
       "      <th>pl_tranmiderr1_tess</th>\n",
       "      <th>pl_tranmiderr2_tess</th>\n",
       "      <th>obrparams_tess</th>\n",
       "    </tr>\n",
       "  </thead>\n",
       "  <tbody>\n",
       "    <tr>\n",
       "      <th>2426</th>\n",
       "      <td>38846515</td>\n",
       "      <td>WASP-100</td>\n",
       "      <td>WASP-100 b</td>\n",
       "      <td>1.0</td>\n",
       "      <td>2.0</td>\n",
       "      <td>2.84938</td>\n",
       "      <td>0.000008</td>\n",
       "      <td>-0.000008</td>\n",
       "      <td>2.458501e+06</td>\n",
       "      <td>0.00012</td>\n",
       "      <td>-0.00012</td>\n",
       "      <td>2.849382</td>\n",
       "      <td>0.000004</td>\n",
       "      <td>-0.000004</td>\n",
       "      <td>2.459387e+06</td>\n",
       "      <td>0.000487</td>\n",
       "      <td>-0.000487</td>\n",
       "      <td>0</td>\n",
       "    </tr>\n",
       "  </tbody>\n",
       "</table>\n",
       "</div>"
      ],
      "text/plain": [
       "           TIC  hostname     pl_name  sy_pnum  sy_snum  pl_orbper  \\\n",
       "2426  38846515  WASP-100  WASP-100 b      1.0      2.0    2.84938   \n",
       "\n",
       "      pl_orbpererr1  pl_orbpererr2    pl_tranmid  pl_tranmiderr1  \\\n",
       "2426       0.000008      -0.000008  2.458501e+06         0.00012   \n",
       "\n",
       "      pl_tranmiderr2  pl_orbper_tess  pl_orbpererr1_tess  pl_orbpererr2_tess  \\\n",
       "2426        -0.00012        2.849382            0.000004           -0.000004   \n",
       "\n",
       "      pl_tranmid_tess  pl_tranmiderr1_tess  pl_tranmiderr2_tess  \\\n",
       "2426     2.459387e+06             0.000487            -0.000487   \n",
       "\n",
       "      obrparams_tess  \n",
       "2426               0  "
      ]
     },
     "execution_count": 28,
     "metadata": {},
     "output_type": "execute_result"
    }
   ],
   "source": [
    "input_catalog[input_catalog.hostname == \"WASP-100\"]\n"
   ]
  },
  {
   "cell_type": "code",
   "execution_count": 29,
   "metadata": {
    "scrolled": false
   },
   "outputs": [],
   "source": [
    "count = 2426\n",
    "#Kepler-24 is the next one in line!"
   ]
  },
  {
   "cell_type": "code",
   "execution_count": 27,
   "metadata": {
    "scrolled": true
   },
   "outputs": [
    {
     "name": "stdout",
     "output_type": "stream",
     "text": [
      "(0, 0)\n"
     ]
    },
    {
     "name": "stderr",
     "output_type": "stream",
     "text": [
      "/home/ekaterina/Documents/000_envs/python37/lib/python3.7/site-packages/ipykernel_launcher.py:88: LightkurveDeprecationWarning: The search_lightcurvefile function is deprecated and may be removed in a future version.\n",
      "        Use search_lightcurve() instead.\n"
     ]
    },
    {
     "name": "stdout",
     "output_type": "stream",
     "text": [
      "Get TESS Sector/Quarter 51, TIC 368739874, NGTS-5, short cadence.\n"
     ]
    },
    {
     "name": "stderr",
     "output_type": "stream",
     "text": [
      "/home/ekaterina/Documents/000_envs/python37/lib/python3.7/site-packages/lightkurve/io/tess.py:34: ResourceWarning: unclosed file <_io.FileIO name='/home/ekaterina/Documents/001_science/lcs/mastDownload/TESS/tess2022112184951-s0051-0000000368739874-0223-s/tess2022112184951-s0051-0000000368739874-0223-s_lc.fits' mode='rb' closefd=True>\n",
      "  lc = read_generic_lightcurve(filename, flux_column=flux_column, time_format=\"btjd\")\n",
      "3% (572/16999) of the cadences will be ignored due to the quality mask (quality_bitmask=175).\n",
      "3% (572/16999) of the cadences will be ignored due to the quality mask (quality_bitmask=175).\n"
     ]
    },
    {
     "name": "stdout",
     "output_type": "stream",
     "text": [
      "date: 2022_08_02\n",
      "LC successfully detrended.\n"
     ]
    },
    {
     "name": "stderr",
     "output_type": "stream",
     "text": [
      "/home/ekaterina/Documents/000_envs/python37/lib/python3.7/site-packages/numpy/lib/nanfunctions.py:1117: RuntimeWarning: Mean of empty slice\n",
      "  return np.nanmean(a, axis, out=out, keepdims=keepdims)\n",
      "Found 0 candidate(s) in the (0,431) gap.\n",
      "Found 0 candidate(s) in the (431,4480) gap.\n",
      "Found 0 candidate(s) in the (4480,6757) gap.\n",
      "/home/ekaterina/Documents/000_envs/python37/lib/python3.7/site-packages/ipykernel_launcher.py:88: LightkurveDeprecationWarning: The search_lightcurvefile function is deprecated and may be removed in a future version.\n",
      "        Use search_lightcurve() instead.\n"
     ]
    },
    {
     "name": "stdout",
     "output_type": "stream",
     "text": [
      "Transit midtime in TESS time: 740.3526200000197\n",
      "No flares found in LC.\n",
      "Wrote out LC to /home/ekaterina/Documents/001_science/lcs/2022_08_02_368739874_51_altai_0.fits.\n",
      "\n",
      "---------------------\n",
      "0 flares found!\n",
      "-------------------\n",
      "\n",
      "(0, 0)\n",
      "Get TESS Sector/Quarter 51, TIC 368805700, WASP-37, short cadence.\n"
     ]
    },
    {
     "name": "stderr",
     "output_type": "stream",
     "text": [
      "/home/ekaterina/Documents/000_envs/python37/lib/python3.7/site-packages/lightkurve/io/tess.py:34: ResourceWarning: unclosed file <_io.FileIO name='/home/ekaterina/Documents/001_science/lcs/mastDownload/TESS/tess2022112184951-s0051-0000000368805700-0223-s/tess2022112184951-s0051-0000000368805700-0223-s_lc.fits' mode='rb' closefd=True>\n",
      "  lc = read_generic_lightcurve(filename, flux_column=flux_column, time_format=\"btjd\")\n",
      "3% (572/16999) of the cadences will be ignored due to the quality mask (quality_bitmask=175).\n",
      "3% (572/16999) of the cadences will be ignored due to the quality mask (quality_bitmask=175).\n"
     ]
    },
    {
     "name": "stdout",
     "output_type": "stream",
     "text": [
      "date: 2022_08_02\n",
      "LC successfully detrended.\n"
     ]
    },
    {
     "name": "stderr",
     "output_type": "stream",
     "text": [
      "/home/ekaterina/Documents/000_envs/python37/lib/python3.7/site-packages/numpy/lib/nanfunctions.py:1117: RuntimeWarning: Mean of empty slice\n",
      "  return np.nanmean(a, axis, out=out, keepdims=keepdims)\n",
      "Found 0 candidate(s) in the (0,523) gap.\n",
      "Found 0 candidate(s) in the (523,5026) gap.\n",
      "Found 0 candidate(s) in the (5026,5812) gap.\n",
      "Found 0 candidate(s) in the (5812,8134) gap.\n",
      "/home/ekaterina/Documents/000_envs/python37/lib/python3.7/site-packages/ipykernel_launcher.py:88: LightkurveDeprecationWarning: The search_lightcurvefile function is deprecated and may be removed in a future version.\n",
      "        Use search_lightcurve() instead.\n"
     ]
    },
    {
     "name": "stdout",
     "output_type": "stream",
     "text": [
      "Transit midtime in TESS time: 2695.989748999942\n",
      "No flares found in LC.\n",
      "Wrote out LC to /home/ekaterina/Documents/001_science/lcs/2022_08_02_368805700_51_altai_0.fits.\n",
      "\n",
      "---------------------\n",
      "0 flares found!\n",
      "-------------------\n",
      "\n",
      "(0, 0)\n",
      "Get TESS Sector/Quarter 27, TIC 369455629, WASP-182, fast cadence.\n"
     ]
    },
    {
     "name": "stderr",
     "output_type": "stream",
     "text": [
      "/home/ekaterina/Documents/000_envs/python37/lib/python3.7/site-packages/lightkurve/io/tess.py:34: ResourceWarning: unclosed file <_io.FileIO name='/home/ekaterina/Documents/001_science/lcs/mastDownload/TESS/tess2020186164531-s0027-0000000369455629-0189-a_fast/tess2020186164531-s0027-0000000369455629-0189-a_fast-lc.fits' mode='rb' closefd=True>\n",
      "  lc = read_generic_lightcurve(filename, flux_column=flux_column, time_format=\"btjd\")\n",
      "0% (154/100890) of the cadences will be ignored due to the quality mask (quality_bitmask=175).\n",
      "0% (154/100890) of the cadences will be ignored due to the quality mask (quality_bitmask=175).\n"
     ]
    },
    {
     "name": "stdout",
     "output_type": "stream",
     "text": [
      "date: 2022_08_02\n",
      "LC successfully detrended.\n"
     ]
    },
    {
     "name": "stderr",
     "output_type": "stream",
     "text": [
      "/home/ekaterina/Documents/000_envs/python37/lib/python3.7/site-packages/numpy/lib/nanfunctions.py:1117: RuntimeWarning: Mean of empty slice\n",
      "  return np.nanmean(a, axis, out=out, keepdims=keepdims)\n",
      "Found 0 candidate(s) in the (0,51149) gap.\n",
      "Found 0 candidate(s) in the (51149,100736) gap.\n",
      "/home/ekaterina/Documents/000_envs/python37/lib/python3.7/site-packages/ipykernel_launcher.py:88: LightkurveDeprecationWarning: The search_lightcurvefile function is deprecated and may be removed in a future version.\n",
      "        Use search_lightcurve() instead.\n"
     ]
    },
    {
     "name": "stdout",
     "output_type": "stream",
     "text": [
      "Transit midtime in TESS time: 2038.5105739999563\n",
      "No flares found in LC.\n",
      "Wrote out LC to /home/ekaterina/Documents/001_science/lcs/2022_08_02_369455629_27_altai_0.fits.\n",
      "\n",
      "---------------------\n",
      "0 flares found!\n",
      "-------------------\n",
      "\n",
      "(0, 0)\n",
      "Get TESS Sector/Quarter 27, TIC 370133522, GJ 1252, fast cadence.\n"
     ]
    },
    {
     "name": "stderr",
     "output_type": "stream",
     "text": [
      "/home/ekaterina/Documents/000_envs/python37/lib/python3.7/site-packages/lightkurve/io/tess.py:34: ResourceWarning: unclosed file <_io.FileIO name='/home/ekaterina/Documents/001_science/lcs/mastDownload/TESS/tess2020186164531-s0027-0000000370133522-0189-a_fast/tess2020186164531-s0027-0000000370133522-0189-a_fast-lc.fits' mode='rb' closefd=True>\n",
      "  lc = read_generic_lightcurve(filename, flux_column=flux_column, time_format=\"btjd\")\n",
      "0% (154/100890) of the cadences will be ignored due to the quality mask (quality_bitmask=175).\n",
      "0% (154/100890) of the cadences will be ignored due to the quality mask (quality_bitmask=175).\n"
     ]
    },
    {
     "name": "stdout",
     "output_type": "stream",
     "text": [
      "date: 2022_08_02\n",
      "LC successfully detrended.\n"
     ]
    },
    {
     "name": "stderr",
     "output_type": "stream",
     "text": [
      "/home/ekaterina/Documents/000_envs/python37/lib/python3.7/site-packages/numpy/lib/nanfunctions.py:1117: RuntimeWarning: Mean of empty slice\n",
      "  return np.nanmean(a, axis, out=out, keepdims=keepdims)\n",
      "Found 0 candidate(s) in the (0,51149) gap.\n",
      "Found 0 candidate(s) in the (51149,100536) gap.\n"
     ]
    },
    {
     "name": "stdout",
     "output_type": "stream",
     "text": [
      "Transit midtime in TESS time: 1654.1054549999535\n",
      "No flares found in LC.\n",
      "Wrote out LC to /home/ekaterina/Documents/001_science/lcs/2022_08_02_370133522_27_altai_0.fits.\n",
      "Get TESS Sector/Quarter 13, TIC 370133522, GJ 1252, short cadence.\n"
     ]
    },
    {
     "name": "stderr",
     "output_type": "stream",
     "text": [
      "/home/ekaterina/Documents/000_envs/python37/lib/python3.7/site-packages/lightkurve/io/tess.py:34: ResourceWarning: unclosed file <_io.FileIO name='/home/ekaterina/Documents/001_science/lcs/mastDownload/TESS/tess2019169103026-s0013-0000000370133522-0146-s/tess2019169103026-s0013-0000000370133522-0146-s_lc.fits' mode='rb' closefd=True>\n",
      "  lc = read_generic_lightcurve(filename, flux_column=flux_column, time_format=\"btjd\")\n",
      "2% (370/19811) of the cadences will be ignored due to the quality mask (quality_bitmask=175).\n",
      "2% (370/19811) of the cadences will be ignored due to the quality mask (quality_bitmask=175).\n"
     ]
    },
    {
     "name": "stdout",
     "output_type": "stream",
     "text": [
      "date: 2022_08_02\n",
      "LC successfully detrended.\n"
     ]
    },
    {
     "name": "stderr",
     "output_type": "stream",
     "text": [
      "/home/ekaterina/Documents/000_envs/python37/lib/python3.7/site-packages/numpy/lib/nanfunctions.py:1117: RuntimeWarning: Mean of empty slice\n",
      "  return np.nanmean(a, axis, out=out, keepdims=keepdims)\n",
      "Found 0 candidate(s) in the (0,237) gap.\n",
      "Found 0 candidate(s) in the (237,8555) gap.\n",
      "Found 0 candidate(s) in the (8555,17542) gap.\n",
      "/home/ekaterina/Documents/000_envs/python37/lib/python3.7/site-packages/ipykernel_launcher.py:88: LightkurveDeprecationWarning: The search_lightcurvefile function is deprecated and may be removed in a future version.\n",
      "        Use search_lightcurve() instead.\n"
     ]
    },
    {
     "name": "stdout",
     "output_type": "stream",
     "text": [
      "Transit midtime in TESS time: 1654.1054549999535\n",
      "No flares found in LC.\n",
      "Wrote out LC to /home/ekaterina/Documents/001_science/lcs/2022_08_02_370133522_13_altai_0.fits.\n",
      "\n",
      "---------------------\n",
      "0 flares found!\n",
      "-------------------\n",
      "\n",
      "(0, 0)\n"
     ]
    },
    {
     "name": "stderr",
     "output_type": "stream",
     "text": [
      "No data found for target \"CoRoT-29\".\n",
      "No data found for target \"CoRoT-29\".\n",
      "/home/ekaterina/Documents/000_envs/python37/lib/python3.7/site-packages/ipykernel_launcher.py:93: LightkurveDeprecationWarning: The search_lightcurvefile function is deprecated and may be removed in a future version.\n",
      "        Use search_lightcurve() instead.\n",
      "No data found for target \"TIC 370736259\".\n",
      "No data found for target \"TIC 370736259\".\n",
      "/home/ekaterina/Documents/000_envs/python37/lib/python3.7/site-packages/ipykernel_launcher.py:88: LightkurveDeprecationWarning: The search_lightcurvefile function is deprecated and may be removed in a future version.\n",
      "        Use search_lightcurve() instead.\n"
     ]
    },
    {
     "name": "stdout",
     "output_type": "stream",
     "text": [
      "Get TESS Sector/Quarter 20, TIC 371234684, HAT-P-9, short cadence.\n"
     ]
    },
    {
     "name": "stderr",
     "output_type": "stream",
     "text": [
      "/home/ekaterina/Documents/000_envs/python37/lib/python3.7/site-packages/lightkurve/io/tess.py:34: ResourceWarning: unclosed file <_io.FileIO name='/home/ekaterina/Documents/001_science/lcs/mastDownload/TESS/tess2019357164649-s0020-0000000371234684-0165-s/tess2019357164649-s0020-0000000371234684-0165-s_lc.fits' mode='rb' closefd=True>\n",
      "  lc = read_generic_lightcurve(filename, flux_column=flux_column, time_format=\"btjd\")\n",
      "1% (217/17850) of the cadences will be ignored due to the quality mask (quality_bitmask=175).\n",
      "1% (217/17850) of the cadences will be ignored due to the quality mask (quality_bitmask=175).\n"
     ]
    },
    {
     "name": "stdout",
     "output_type": "stream",
     "text": [
      "date: 2022_08_02\n",
      "LC successfully detrended.\n"
     ]
    },
    {
     "name": "stderr",
     "output_type": "stream",
     "text": [
      "/home/ekaterina/Documents/000_envs/python37/lib/python3.7/site-packages/numpy/lib/nanfunctions.py:1117: RuntimeWarning: Mean of empty slice\n",
      "  return np.nanmean(a, axis, out=out, keepdims=keepdims)\n",
      "Found 0 candidate(s) in the (0,8795) gap.\n",
      "Found 0 candidate(s) in the (8795,16556) gap.\n"
     ]
    },
    {
     "name": "stdout",
     "output_type": "stream",
     "text": [
      "Transit midtime in TESS time: 2603.8650799999014\n",
      "No flares found in LC.\n",
      "Wrote out LC to /home/ekaterina/Documents/001_science/lcs/2022_08_02_371234684_20_altai_0.fits.\n",
      "Get TESS Sector/Quarter 47, TIC 371234684, HAT-P-9, short cadence.\n"
     ]
    },
    {
     "name": "stderr",
     "output_type": "stream",
     "text": [
      "/home/ekaterina/Documents/000_envs/python37/lib/python3.7/site-packages/lightkurve/io/tess.py:34: ResourceWarning: unclosed file <_io.FileIO name='/home/ekaterina/Documents/001_science/lcs/mastDownload/TESS/tess2021364111932-s0047-0000000371234684-0218-s/tess2021364111932-s0047-0000000371234684-0218-s_lc.fits' mode='rb' closefd=True>\n",
      "  lc = read_generic_lightcurve(filename, flux_column=flux_column, time_format=\"btjd\")\n",
      "0% (24/18886) of the cadences will be ignored due to the quality mask (quality_bitmask=175).\n",
      "0% (24/18886) of the cadences will be ignored due to the quality mask (quality_bitmask=175).\n"
     ]
    },
    {
     "name": "stdout",
     "output_type": "stream",
     "text": [
      "date: 2022_08_02\n",
      "LC successfully detrended.\n"
     ]
    },
    {
     "name": "stderr",
     "output_type": "stream",
     "text": [
      "/home/ekaterina/Documents/000_envs/python37/lib/python3.7/site-packages/numpy/lib/nanfunctions.py:1117: RuntimeWarning: Mean of empty slice\n",
      "  return np.nanmean(a, axis, out=out, keepdims=keepdims)\n",
      "Found 0 candidate(s) in the (0,8280) gap.\n",
      "Found 0 candidate(s) in the (8280,15778) gap.\n",
      "/home/ekaterina/Documents/000_envs/python37/lib/python3.7/site-packages/ipykernel_launcher.py:88: LightkurveDeprecationWarning: The search_lightcurvefile function is deprecated and may be removed in a future version.\n",
      "        Use search_lightcurve() instead.\n"
     ]
    },
    {
     "name": "stdout",
     "output_type": "stream",
     "text": [
      "Transit midtime in TESS time: 2603.8650799999014\n",
      "No flares found in LC.\n",
      "Wrote out LC to /home/ekaterina/Documents/001_science/lcs/2022_08_02_371234684_47_altai_0.fits.\n",
      "\n",
      "---------------------\n",
      "0 flares found!\n",
      "-------------------\n",
      "\n",
      "(0, 0)\n",
      "Get TESS Sector/Quarter 36, TIC 371443216, MASCARA-4, short cadence.\n"
     ]
    },
    {
     "name": "stderr",
     "output_type": "stream",
     "text": [
      "/home/ekaterina/Documents/000_envs/python37/lib/python3.7/site-packages/lightkurve/io/tess.py:34: ResourceWarning: unclosed file <_io.FileIO name='/home/ekaterina/Documents/001_science/lcs/mastDownload/TESS/tess2021065132309-s0036-0000000371443216-0207-s/tess2021065132309-s0036-0000000371443216-0207-s_lc.fits' mode='rb' closefd=True>\n",
      "  lc = read_generic_lightcurve(filename, flux_column=flux_column, time_format=\"btjd\")\n",
      "0% (52/17395) of the cadences will be ignored due to the quality mask (quality_bitmask=175).\n",
      "0% (52/17395) of the cadences will be ignored due to the quality mask (quality_bitmask=175).\n"
     ]
    },
    {
     "name": "stdout",
     "output_type": "stream",
     "text": [
      "date: 2022_08_02\n",
      "LC successfully detrended.\n"
     ]
    },
    {
     "name": "stderr",
     "output_type": "stream",
     "text": [
      "/home/ekaterina/Documents/000_envs/python37/lib/python3.7/site-packages/numpy/lib/nanfunctions.py:1117: RuntimeWarning: Mean of empty slice\n",
      "  return np.nanmean(a, axis, out=out, keepdims=keepdims)\n",
      "Found 0 candidate(s) in the (0,7944) gap.\n",
      "Found 0 candidate(s) in the (7944,15920) gap.\n"
     ]
    },
    {
     "name": "stdout",
     "output_type": "stream",
     "text": [
      "Transit midtime in TESS time: 2336.095726000145\n",
      "No flares found in LC.\n",
      "Wrote out LC to /home/ekaterina/Documents/001_science/lcs/2022_08_02_371443216_36_altai_0.fits.\n",
      "Get TESS Sector/Quarter 38, TIC 371443216, MASCARA-4, short cadence.\n"
     ]
    },
    {
     "name": "stderr",
     "output_type": "stream",
     "text": [
      "/home/ekaterina/Documents/000_envs/python37/lib/python3.7/site-packages/lightkurve/io/tess.py:34: ResourceWarning: unclosed file <_io.FileIO name='/home/ekaterina/Documents/001_science/lcs/mastDownload/TESS/tess2021118034608-s0038-0000000371443216-0209-s/tess2021118034608-s0038-0000000371443216-0209-s_lc.fits' mode='rb' closefd=True>\n",
      "  lc = read_generic_lightcurve(filename, flux_column=flux_column, time_format=\"btjd\")\n",
      "0% (41/18535) of the cadences will be ignored due to the quality mask (quality_bitmask=175).\n",
      "0% (41/18535) of the cadences will be ignored due to the quality mask (quality_bitmask=175).\n"
     ]
    },
    {
     "name": "stdout",
     "output_type": "stream",
     "text": [
      "date: 2022_08_02\n",
      "LC successfully detrended.\n"
     ]
    },
    {
     "name": "stderr",
     "output_type": "stream",
     "text": [
      "/home/ekaterina/Documents/000_envs/python37/lib/python3.7/site-packages/numpy/lib/nanfunctions.py:1117: RuntimeWarning: Mean of empty slice\n",
      "  return np.nanmean(a, axis, out=out, keepdims=keepdims)\n",
      "Found 0 candidate(s) in the (0,8960) gap.\n",
      "Found 0 candidate(s) in the (8960,18494) gap.\n",
      "/home/ekaterina/Documents/000_envs/python37/lib/python3.7/site-packages/ipykernel_launcher.py:88: LightkurveDeprecationWarning: The search_lightcurvefile function is deprecated and may be removed in a future version.\n",
      "        Use search_lightcurve() instead.\n"
     ]
    },
    {
     "name": "stdout",
     "output_type": "stream",
     "text": [
      "Transit midtime in TESS time: 2336.095726000145\n",
      "No flares found in LC.\n",
      "Wrote out LC to /home/ekaterina/Documents/001_science/lcs/2022_08_02_371443216_38_altai_0.fits.\n",
      "\n",
      "---------------------\n",
      "0 flares found!\n",
      "-------------------\n",
      "\n",
      "(0, 0)\n",
      "Get TESS Sector/Quarter 33, TIC 37168957, CoRoT-18, fast cadence.\n"
     ]
    },
    {
     "name": "stderr",
     "output_type": "stream",
     "text": [
      "/home/ekaterina/Documents/000_envs/python37/lib/python3.7/site-packages/lightkurve/io/tess.py:34: ResourceWarning: unclosed file <_io.FileIO name='/home/ekaterina/Documents/001_science/lcs/mastDownload/TESS/tess2020351194500-s0033-0000000037168957-0203-a_fast/tess2020351194500-s0033-0000000037168957-0203-a_fast-lc.fits' mode='rb' closefd=True>\n",
      "  lc = read_generic_lightcurve(filename, flux_column=flux_column, time_format=\"btjd\")\n",
      "0% (139/104910) of the cadences will be ignored due to the quality mask (quality_bitmask=175).\n",
      "0% (139/104910) of the cadences will be ignored due to the quality mask (quality_bitmask=175).\n"
     ]
    },
    {
     "name": "stdout",
     "output_type": "stream",
     "text": [
      "date: 2022_08_02\n",
      "LC successfully detrended.\n"
     ]
    },
    {
     "name": "stderr",
     "output_type": "stream",
     "text": [
      "/home/ekaterina/Documents/000_envs/python37/lib/python3.7/site-packages/numpy/lib/nanfunctions.py:1117: RuntimeWarning: Mean of empty slice\n",
      "  return np.nanmean(a, axis, out=out, keepdims=keepdims)\n",
      "Found 1 candidate(s) in the (0,52371) gap.\n",
      "Found 0 candidate(s) in the (52371,104771) gap.\n"
     ]
    },
    {
     "name": "stdout",
     "output_type": "stream",
     "text": [
      "Transit midtime in TESS time: 2203.608483000193\n",
      "Flares found:\n",
      "        tstart        tstop     phase  ampl_rec       dur\n",
      "0  2210.981733  2210.982427  0.880516  2.690498  0.000694\n",
      "Wrote out LC to /home/ekaterina/Documents/001_science/lcs/2022_08_02_37168957_33_altai_0.fits.\n",
      "Get TESS Sector/Quarter 06, TIC 37168957, CoRoT-18, short cadence.\n"
     ]
    },
    {
     "name": "stderr",
     "output_type": "stream",
     "text": [
      "/home/ekaterina/Documents/000_envs/python37/lib/python3.7/site-packages/lightkurve/io/tess.py:34: ResourceWarning: unclosed file <_io.FileIO name='/home/ekaterina/Documents/001_science/lcs/mastDownload/TESS/tess2018349182500-s0006-0000000037168957-0126-s/tess2018349182500-s0006-0000000037168957-0126-s_lc.fits' mode='rb' closefd=True>\n",
      "  lc = read_generic_lightcurve(filename, flux_column=flux_column, time_format=\"btjd\")\n",
      "1% (207/14898) of the cadences will be ignored due to the quality mask (quality_bitmask=175).\n",
      "1% (207/14898) of the cadences will be ignored due to the quality mask (quality_bitmask=175).\n"
     ]
    },
    {
     "name": "stdout",
     "output_type": "stream",
     "text": [
      "date: 2022_08_02\n",
      "LC successfully detrended.\n"
     ]
    },
    {
     "name": "stderr",
     "output_type": "stream",
     "text": [
      "/home/ekaterina/Documents/000_envs/python37/lib/python3.7/site-packages/numpy/lib/nanfunctions.py:1117: RuntimeWarning: Mean of empty slice\n",
      "  return np.nanmean(a, axis, out=out, keepdims=keepdims)\n",
      "Found 0 candidate(s) in the (0,6138) gap.\n",
      "Found 0 candidate(s) in the (6138,14620) gap.\n",
      "/home/ekaterina/Documents/000_envs/python37/lib/python3.7/site-packages/ipykernel_launcher.py:88: LightkurveDeprecationWarning: The search_lightcurvefile function is deprecated and may be removed in a future version.\n",
      "        Use search_lightcurve() instead.\n"
     ]
    },
    {
     "name": "stdout",
     "output_type": "stream",
     "text": [
      "Transit midtime in TESS time: 2203.608483000193\n",
      "No flares found in LC.\n",
      "Wrote out LC to /home/ekaterina/Documents/001_science/lcs/2022_08_02_37168957_06_altai_0.fits.\n",
      "\n",
      "---------------------\n",
      "1 flares found!\n",
      "-------------------\n",
      "\n",
      "(0, 0)\n"
     ]
    },
    {
     "name": "stderr",
     "output_type": "stream",
     "text": [
      "No data found for target \"NGTS-10\".\n",
      "No data found for target \"NGTS-10\".\n",
      "/home/ekaterina/Documents/000_envs/python37/lib/python3.7/site-packages/ipykernel_launcher.py:93: LightkurveDeprecationWarning: The search_lightcurvefile function is deprecated and may be removed in a future version.\n",
      "        Use search_lightcurve() instead.\n",
      "No data found for target \"TIC 37348844\".\n",
      "No data found for target \"TIC 37348844\".\n",
      "/home/ekaterina/Documents/000_envs/python37/lib/python3.7/site-packages/ipykernel_launcher.py:88: LightkurveDeprecationWarning: The search_lightcurvefile function is deprecated and may be removed in a future version.\n",
      "        Use search_lightcurve() instead.\n"
     ]
    },
    {
     "name": "stdout",
     "output_type": "stream",
     "text": [
      "Get TESS Sector/Quarter 22, TIC 373693175, HAT-P-36, short cadence.\n"
     ]
    },
    {
     "name": "stderr",
     "output_type": "stream",
     "text": [
      "/home/ekaterina/Documents/000_envs/python37/lib/python3.7/site-packages/lightkurve/io/tess.py:34: ResourceWarning: unclosed file <_io.FileIO name='/home/ekaterina/Documents/001_science/lcs/mastDownload/TESS/tess2020049080258-s0022-0000000373693175-0174-s/tess2020049080258-s0022-0000000373693175-0174-s_lc.fits' mode='rb' closefd=True>\n",
      "  lc = read_generic_lightcurve(filename, flux_column=flux_column, time_format=\"btjd\")\n",
      "1% (188/18807) of the cadences will be ignored due to the quality mask (quality_bitmask=175).\n",
      "1% (188/18807) of the cadences will be ignored due to the quality mask (quality_bitmask=175).\n"
     ]
    },
    {
     "name": "stdout",
     "output_type": "stream",
     "text": [
      "date: 2022_08_02\n",
      "LC successfully detrended.\n"
     ]
    },
    {
     "name": "stderr",
     "output_type": "stream",
     "text": [
      "/home/ekaterina/Documents/000_envs/python37/lib/python3.7/site-packages/numpy/lib/nanfunctions.py:1117: RuntimeWarning: Mean of empty slice\n",
      "  return np.nanmean(a, axis, out=out, keepdims=keepdims)\n",
      "Found 0 candidate(s) in the (0,8653) gap.\n",
      "Found 0 candidate(s) in the (8653,16619) gap.\n"
     ]
    },
    {
     "name": "stdout",
     "output_type": "stream",
     "text": [
      "Transit midtime in TESS time: 2662.701890000142\n",
      "No flares found in LC.\n",
      "Wrote out LC to /home/ekaterina/Documents/001_science/lcs/2022_08_02_373693175_22_altai_0.fits.\n",
      "Get TESS Sector/Quarter 49, TIC 373693175, HAT-P-36, short cadence.\n"
     ]
    },
    {
     "name": "stderr",
     "output_type": "stream",
     "text": [
      "/home/ekaterina/Documents/000_envs/python37/lib/python3.7/site-packages/lightkurve/io/tess.py:34: ResourceWarning: unclosed file <_io.FileIO name='/home/ekaterina/Documents/001_science/lcs/mastDownload/TESS/tess2022057073128-s0049-0000000373693175-0221-s/tess2022057073128-s0049-0000000373693175-0221-s_lc.fits' mode='rb' closefd=True>\n",
      "  lc = read_generic_lightcurve(filename, flux_column=flux_column, time_format=\"btjd\")\n",
      "4% (664/18635) of the cadences will be ignored due to the quality mask (quality_bitmask=175).\n",
      "4% (664/18635) of the cadences will be ignored due to the quality mask (quality_bitmask=175).\n"
     ]
    },
    {
     "name": "stdout",
     "output_type": "stream",
     "text": [
      "date: 2022_08_02\n"
     ]
    },
    {
     "name": "stderr",
     "output_type": "stream",
     "text": [
      "/home/ekaterina/Documents/001_science/Flaring_SPI/notebooks/funcs/detrend.py:364: RuntimeWarning: overflow encountered in exp\n",
      "  return a * np.exp(b * (c - x)) + d * np.exp(e * (f - x)) + g\n",
      "/home/ekaterina/Documents/001_science/Flaring_SPI/notebooks/funcs/detrend.py:364: RuntimeWarning: overflow encountered in multiply\n",
      "  return a * np.exp(b * (c - x)) + d * np.exp(e * (f - x)) + g\n"
     ]
    },
    {
     "name": "stdout",
     "output_type": "stream",
     "text": [
      "LC successfully detrended.\n"
     ]
    },
    {
     "name": "stderr",
     "output_type": "stream",
     "text": [
      "/home/ekaterina/Documents/000_envs/python37/lib/python3.7/site-packages/numpy/lib/nanfunctions.py:1117: RuntimeWarning: Mean of empty slice\n",
      "  return np.nanmean(a, axis, out=out, keepdims=keepdims)\n",
      "Found 0 candidate(s) in the (0,6657) gap.\n",
      "Found 0 candidate(s) in the (6657,12569) gap.\n",
      "/home/ekaterina/Documents/000_envs/python37/lib/python3.7/site-packages/ipykernel_launcher.py:88: LightkurveDeprecationWarning: The search_lightcurvefile function is deprecated and may be removed in a future version.\n",
      "        Use search_lightcurve() instead.\n"
     ]
    },
    {
     "name": "stdout",
     "output_type": "stream",
     "text": [
      "Transit midtime in TESS time: 2662.701890000142\n",
      "No flares found in LC.\n",
      "Wrote out LC to /home/ekaterina/Documents/001_science/lcs/2022_08_02_373693175_49_altai_0.fits.\n",
      "\n",
      "---------------------\n",
      "0 flares found!\n",
      "-------------------\n",
      "\n",
      "(0, 0)\n",
      "Get TESS Sector/Quarter 35, TIC 374180079, K2-266, fast cadence.\n"
     ]
    },
    {
     "name": "stderr",
     "output_type": "stream",
     "text": [
      "/home/ekaterina/Documents/000_envs/python37/lib/python3.7/site-packages/lightkurve/io/tess.py:34: ResourceWarning: unclosed file <_io.FileIO name='/home/ekaterina/Documents/001_science/lcs/mastDownload/TESS/tess2021039152502-s0035-0000000374180079-0205-a_fast/tess2021039152502-s0035-0000000374180079-0205-a_fast-lc.fits' mode='rb' closefd=True>\n",
      "  lc = read_generic_lightcurve(filename, flux_column=flux_column, time_format=\"btjd\")\n",
      "16% (15613/100699) of the cadences will be ignored due to the quality mask (quality_bitmask=175).\n",
      "16% (15613/100699) of the cadences will be ignored due to the quality mask (quality_bitmask=175).\n"
     ]
    },
    {
     "name": "stdout",
     "output_type": "stream",
     "text": [
      "date: 2022_08_02\n",
      "LC successfully detrended.\n"
     ]
    },
    {
     "name": "stderr",
     "output_type": "stream",
     "text": [
      "/home/ekaterina/Documents/000_envs/python37/lib/python3.7/site-packages/numpy/lib/nanfunctions.py:1117: RuntimeWarning: Mean of empty slice\n",
      "  return np.nanmean(a, axis, out=out, keepdims=keepdims)\n",
      "Found 0 candidate(s) in the (0,44536) gap.\n",
      "Found 0 candidate(s) in the (44536,47900) gap.\n",
      "Found 0 candidate(s) in the (47900,82284) gap.\n"
     ]
    },
    {
     "name": "stdout",
     "output_type": "stream",
     "text": [
      "Transit midtime in TESS time: 2267.6527610002086\n",
      "No flares found in LC.\n",
      "Wrote out LC to /home/ekaterina/Documents/001_science/lcs/2022_08_02_374180079_35_altai_0.fits.\n",
      "Get TESS Sector/Quarter 45, TIC 374180079, K2-266, fast cadence.\n"
     ]
    },
    {
     "name": "stderr",
     "output_type": "stream",
     "text": [
      "/home/ekaterina/Documents/000_envs/python37/lib/python3.7/site-packages/lightkurve/io/tess.py:34: ResourceWarning: unclosed file <_io.FileIO name='/home/ekaterina/Documents/001_science/lcs/mastDownload/TESS/tess2021310001228-s0045-0000000374180079-0216-a_fast/tess2021310001228-s0045-0000000374180079-0216-a_fast-lc.fits' mode='rb' closefd=True>\n",
      "  lc = read_generic_lightcurve(filename, flux_column=flux_column, time_format=\"btjd\")\n",
      "1% (868/103545) of the cadences will be ignored due to the quality mask (quality_bitmask=175).\n",
      "1% (868/103545) of the cadences will be ignored due to the quality mask (quality_bitmask=175).\n"
     ]
    },
    {
     "name": "stdout",
     "output_type": "stream",
     "text": [
      "date: 2022_08_02\n",
      "LC successfully detrended.\n"
     ]
    },
    {
     "name": "stderr",
     "output_type": "stream",
     "text": [
      "/home/ekaterina/Documents/000_envs/python37/lib/python3.7/site-packages/numpy/lib/nanfunctions.py:1117: RuntimeWarning: Mean of empty slice\n",
      "  return np.nanmean(a, axis, out=out, keepdims=keepdims)\n",
      "Found 0 candidate(s) in the (0,48051) gap.\n",
      "Found 3 candidate(s) in the (48051,94113) gap.\n"
     ]
    },
    {
     "name": "stdout",
     "output_type": "stream",
     "text": [
      "Transit midtime in TESS time: 2267.6527610002086\n",
      "Flares found:\n",
      "        tstart        tstop     phase  ampl_rec       dur\n",
      "0  2547.387934  2547.388860  0.791159  0.019446  0.000926\n",
      "1  2547.389786  2547.393491  0.793972  0.018512  0.003704\n",
      "2  2547.395343  2547.443727  0.802409  0.041664  0.048384\n",
      "Wrote out LC to /home/ekaterina/Documents/001_science/lcs/2022_08_02_374180079_45_altai_0.fits.\n",
      "Get TESS Sector/Quarter 46, TIC 374180079, K2-266, fast cadence.\n"
     ]
    },
    {
     "name": "stderr",
     "output_type": "stream",
     "text": [
      "/home/ekaterina/Documents/000_envs/python37/lib/python3.7/site-packages/lightkurve/io/tess.py:34: ResourceWarning: unclosed file <_io.FileIO name='/home/ekaterina/Documents/001_science/lcs/mastDownload/TESS/tess2021336043614-s0046-0000000374180079-0217-a_fast/tess2021336043614-s0046-0000000374180079-0217-a_fast-lc.fits' mode='rb' closefd=True>\n",
      "  lc = read_generic_lightcurve(filename, flux_column=flux_column, time_format=\"btjd\")\n",
      "2% (1782/111240) of the cadences will be ignored due to the quality mask (quality_bitmask=175).\n",
      "2% (1782/111240) of the cadences will be ignored due to the quality mask (quality_bitmask=175).\n"
     ]
    },
    {
     "name": "stdout",
     "output_type": "stream",
     "text": [
      "date: 2022_08_02\n",
      "LC successfully detrended.\n"
     ]
    },
    {
     "name": "stderr",
     "output_type": "stream",
     "text": [
      "/home/ekaterina/Documents/000_envs/python37/lib/python3.7/site-packages/numpy/lib/nanfunctions.py:1117: RuntimeWarning: Mean of empty slice\n",
      "  return np.nanmean(a, axis, out=out, keepdims=keepdims)\n",
      "Found 0 candidate(s) in the (0,48700) gap.\n",
      "Found 0 candidate(s) in the (48700,98586) gap.\n",
      "/home/ekaterina/Documents/000_envs/python37/lib/python3.7/site-packages/ipykernel_launcher.py:88: LightkurveDeprecationWarning: The search_lightcurvefile function is deprecated and may be removed in a future version.\n",
      "        Use search_lightcurve() instead.\n"
     ]
    },
    {
     "name": "stdout",
     "output_type": "stream",
     "text": [
      "Transit midtime in TESS time: 2267.6527610002086\n",
      "No flares found in LC.\n",
      "Wrote out LC to /home/ekaterina/Documents/001_science/lcs/2022_08_02_374180079_46_altai_0.fits.\n",
      "\n",
      "---------------------\n",
      "3 flares found!\n",
      "-------------------\n",
      "\n",
      "(0, 0)\n"
     ]
    },
    {
     "name": "stderr",
     "output_type": "stream",
     "text": [
      "Could not resolve K2-399 to a sky position.\n",
      "Could not resolve K2-399 to a sky position.\n",
      "/home/ekaterina/Documents/000_envs/python37/lib/python3.7/site-packages/ipykernel_launcher.py:93: LightkurveDeprecationWarning: The search_lightcurvefile function is deprecated and may be removed in a future version.\n",
      "        Use search_lightcurve() instead.\n"
     ]
    },
    {
     "name": "stdout",
     "output_type": "stream",
     "text": [
      "Get TESS Sector/Quarter 45, TIC 374200604, K2-399, short cadence.\n"
     ]
    },
    {
     "name": "stderr",
     "output_type": "stream",
     "text": [
      "/home/ekaterina/Documents/000_envs/python37/lib/python3.7/site-packages/lightkurve/io/tess.py:34: ResourceWarning: unclosed file <_io.FileIO name='/home/ekaterina/Documents/001_science/lcs/mastDownload/TESS/tess2021310001228-s0045-0000000374200604-0216-s/tess2021310001228-s0045-0000000374200604-0216-s_lc.fits' mode='rb' closefd=True>\n",
      "  lc = read_generic_lightcurve(filename, flux_column=flux_column, time_format=\"btjd\")\n",
      "1% (186/17256) of the cadences will be ignored due to the quality mask (quality_bitmask=175).\n",
      "1% (186/17256) of the cadences will be ignored due to the quality mask (quality_bitmask=175).\n"
     ]
    },
    {
     "name": "stdout",
     "output_type": "stream",
     "text": [
      "date: 2022_08_02\n",
      "LC successfully detrended.\n"
     ]
    },
    {
     "name": "stderr",
     "output_type": "stream",
     "text": [
      "/home/ekaterina/Documents/000_envs/python37/lib/python3.7/site-packages/numpy/lib/nanfunctions.py:1117: RuntimeWarning: Mean of empty slice\n",
      "  return np.nanmean(a, axis, out=out, keepdims=keepdims)\n",
      "Found 0 candidate(s) in the (0,7977) gap.\n",
      "Found 0 candidate(s) in the (7977,15632) gap.\n"
     ]
    },
    {
     "name": "stdout",
     "output_type": "stream",
     "text": [
      "Transit midtime in TESS time: 906.2190999998711\n",
      "No flares found in LC.\n",
      "Wrote out LC to /home/ekaterina/Documents/001_science/lcs/2022_08_02_374200604_45_altai_0.fits.\n",
      "Get TESS Sector/Quarter 46, TIC 374200604, K2-399, short cadence.\n"
     ]
    },
    {
     "name": "stderr",
     "output_type": "stream",
     "text": [
      "/home/ekaterina/Documents/000_envs/python37/lib/python3.7/site-packages/lightkurve/io/tess.py:34: ResourceWarning: unclosed file <_io.FileIO name='/home/ekaterina/Documents/001_science/lcs/mastDownload/TESS/tess2021336043614-s0046-0000000374200604-0217-s/tess2021336043614-s0046-0000000374200604-0217-s_lc.fits' mode='rb' closefd=True>\n",
      "  lc = read_generic_lightcurve(filename, flux_column=flux_column, time_format=\"btjd\")\n",
      "2% (387/18539) of the cadences will be ignored due to the quality mask (quality_bitmask=175).\n",
      "2% (387/18539) of the cadences will be ignored due to the quality mask (quality_bitmask=175).\n"
     ]
    },
    {
     "name": "stdout",
     "output_type": "stream",
     "text": [
      "date: 2022_08_02\n",
      "LC successfully detrended.\n"
     ]
    },
    {
     "name": "stderr",
     "output_type": "stream",
     "text": [
      "/home/ekaterina/Documents/000_envs/python37/lib/python3.7/site-packages/numpy/lib/nanfunctions.py:1117: RuntimeWarning: Mean of empty slice\n",
      "  return np.nanmean(a, axis, out=out, keepdims=keepdims)\n",
      "Found 0 candidate(s) in the (0,8069) gap.\n",
      "Found 0 candidate(s) in the (8069,16355) gap.\n",
      "/home/ekaterina/Documents/000_envs/python37/lib/python3.7/site-packages/ipykernel_launcher.py:88: LightkurveDeprecationWarning: The search_lightcurvefile function is deprecated and may be removed in a future version.\n",
      "        Use search_lightcurve() instead.\n"
     ]
    },
    {
     "name": "stdout",
     "output_type": "stream",
     "text": [
      "Transit midtime in TESS time: 906.2190999998711\n",
      "No flares found in LC.\n",
      "Wrote out LC to /home/ekaterina/Documents/001_science/lcs/2022_08_02_374200604_46_altai_0.fits.\n",
      "\n",
      "---------------------\n",
      "0 flares found!\n",
      "-------------------\n",
      "\n",
      "(0, 0)\n",
      "Get TESS Sector/Quarter 45, TIC 374339566, K2-239, short cadence.\n"
     ]
    },
    {
     "name": "stderr",
     "output_type": "stream",
     "text": [
      "/home/ekaterina/Documents/000_envs/python37/lib/python3.7/site-packages/lightkurve/io/tess.py:34: ResourceWarning: unclosed file <_io.FileIO name='/home/ekaterina/Documents/001_science/lcs/mastDownload/TESS/tess2021310001228-s0045-0000000374339566-0216-s/tess2021310001228-s0045-0000000374339566-0216-s_lc.fits' mode='rb' closefd=True>\n",
      "  lc = read_generic_lightcurve(filename, flux_column=flux_column, time_format=\"btjd\")\n",
      "1% (186/17256) of the cadences will be ignored due to the quality mask (quality_bitmask=175).\n",
      "1% (186/17256) of the cadences will be ignored due to the quality mask (quality_bitmask=175).\n"
     ]
    },
    {
     "name": "stdout",
     "output_type": "stream",
     "text": [
      "date: 2022_08_02\n",
      "LC successfully detrended.\n"
     ]
    },
    {
     "name": "stderr",
     "output_type": "stream",
     "text": [
      "/home/ekaterina/Documents/000_envs/python37/lib/python3.7/site-packages/numpy/lib/nanfunctions.py:1117: RuntimeWarning: Mean of empty slice\n",
      "  return np.nanmean(a, axis, out=out, keepdims=keepdims)\n",
      "Found 0 candidate(s) in the (0,8116) gap.\n",
      "Found 0 candidate(s) in the (8116,15918) gap.\n"
     ]
    },
    {
     "name": "stdout",
     "output_type": "stream",
     "text": [
      "Transit midtime in TESS time: 908.191000000108\n",
      "No flares found in LC.\n",
      "Wrote out LC to /home/ekaterina/Documents/001_science/lcs/2022_08_02_374339566_45_altai_0.fits.\n",
      "Get TESS Sector/Quarter 46, TIC 374339566, K2-239, short cadence.\n"
     ]
    },
    {
     "name": "stderr",
     "output_type": "stream",
     "text": [
      "/home/ekaterina/Documents/000_envs/python37/lib/python3.7/site-packages/lightkurve/io/tess.py:34: ResourceWarning: unclosed file <_io.FileIO name='/home/ekaterina/Documents/001_science/lcs/mastDownload/TESS/tess2021336043614-s0046-0000000374339566-0217-s/tess2021336043614-s0046-0000000374339566-0217-s_lc.fits' mode='rb' closefd=True>\n",
      "  lc = read_generic_lightcurve(filename, flux_column=flux_column, time_format=\"btjd\")\n",
      "2% (387/18539) of the cadences will be ignored due to the quality mask (quality_bitmask=175).\n",
      "2% (387/18539) of the cadences will be ignored due to the quality mask (quality_bitmask=175).\n"
     ]
    },
    {
     "name": "stdout",
     "output_type": "stream",
     "text": [
      "date: 2022_08_02\n",
      "LC successfully detrended.\n"
     ]
    },
    {
     "name": "stderr",
     "output_type": "stream",
     "text": [
      "/home/ekaterina/Documents/000_envs/python37/lib/python3.7/site-packages/numpy/lib/nanfunctions.py:1117: RuntimeWarning: Mean of empty slice\n",
      "  return np.nanmean(a, axis, out=out, keepdims=keepdims)\n",
      "Found 0 candidate(s) in the (0,7904) gap.\n",
      "Found 0 candidate(s) in the (7904,16030) gap.\n",
      "/home/ekaterina/Documents/000_envs/python37/lib/python3.7/site-packages/ipykernel_launcher.py:88: LightkurveDeprecationWarning: The search_lightcurvefile function is deprecated and may be removed in a future version.\n",
      "        Use search_lightcurve() instead.\n"
     ]
    },
    {
     "name": "stdout",
     "output_type": "stream",
     "text": [
      "Transit midtime in TESS time: 908.191000000108\n",
      "No flares found in LC.\n",
      "Wrote out LC to /home/ekaterina/Documents/001_science/lcs/2022_08_02_374339566_46_altai_0.fits.\n",
      "\n",
      "---------------------\n",
      "0 flares found!\n",
      "-------------------\n",
      "\n",
      "(0, 0)\n"
     ]
    },
    {
     "name": "stderr",
     "output_type": "stream",
     "text": [
      "No data found for target \"WASP-2\".\n",
      "No data found for target \"WASP-2\".\n",
      "/home/ekaterina/Documents/000_envs/python37/lib/python3.7/site-packages/ipykernel_launcher.py:93: LightkurveDeprecationWarning: The search_lightcurvefile function is deprecated and may be removed in a future version.\n",
      "        Use search_lightcurve() instead.\n",
      "No data found for target \"TIC 374530847\".\n",
      "No data found for target \"TIC 374530847\".\n",
      "/home/ekaterina/Documents/000_envs/python37/lib/python3.7/site-packages/ipykernel_launcher.py:88: LightkurveDeprecationWarning: The search_lightcurvefile function is deprecated and may be removed in a future version.\n",
      "        Use search_lightcurve() instead.\n"
     ]
    },
    {
     "name": "stdout",
     "output_type": "stream",
     "text": [
      "Get TESS Sector/Quarter 15, TIC 375506058, TOI-1431, short cadence.\n"
     ]
    },
    {
     "name": "stderr",
     "output_type": "stream",
     "text": [
      "/home/ekaterina/Documents/000_envs/python37/lib/python3.7/site-packages/lightkurve/io/tess.py:34: ResourceWarning: unclosed file <_io.FileIO name='/home/ekaterina/Documents/001_science/lcs/mastDownload/TESS/tess2019226182529-s0015-0000000375506058-0151-s/tess2019226182529-s0015-0000000375506058-0151-s_lc.fits' mode='rb' closefd=True>\n",
      "  lc = read_generic_lightcurve(filename, flux_column=flux_column, time_format=\"btjd\")\n",
      "1% (232/17981) of the cadences will be ignored due to the quality mask (quality_bitmask=175).\n",
      "1% (232/17981) of the cadences will be ignored due to the quality mask (quality_bitmask=175).\n"
     ]
    },
    {
     "name": "stdout",
     "output_type": "stream",
     "text": [
      "date: 2022_08_02\n",
      "LC successfully detrended.\n"
     ]
    },
    {
     "name": "stderr",
     "output_type": "stream",
     "text": [
      "/home/ekaterina/Documents/000_envs/python37/lib/python3.7/site-packages/numpy/lib/nanfunctions.py:1117: RuntimeWarning: Mean of empty slice\n",
      "  return np.nanmean(a, axis, out=out, keepdims=keepdims)\n",
      "Found 0 candidate(s) in the (0,8886) gap.\n",
      "Found 0 candidate(s) in the (8886,17748) gap.\n"
     ]
    },
    {
     "name": "stdout",
     "output_type": "stream",
     "text": [
      "Transit midtime in TESS time: 1712.6752659999765\n",
      "No flares found in LC.\n",
      "Wrote out LC to /home/ekaterina/Documents/001_science/lcs/2022_08_02_375506058_15_altai_0.fits.\n",
      "Get TESS Sector/Quarter 16, TIC 375506058, TOI-1431, short cadence.\n"
     ]
    },
    {
     "name": "stderr",
     "output_type": "stream",
     "text": [
      "/home/ekaterina/Documents/000_envs/python37/lib/python3.7/site-packages/lightkurve/io/tess.py:34: ResourceWarning: unclosed file <_io.FileIO name='/home/ekaterina/Documents/001_science/lcs/mastDownload/TESS/tess2019253231442-s0016-0000000375506058-0152-s/tess2019253231442-s0016-0000000375506058-0152-s_lc.fits' mode='rb' closefd=True>\n",
      "  lc = read_generic_lightcurve(filename, flux_column=flux_column, time_format=\"btjd\")\n",
      "1% (115/16834) of the cadences will be ignored due to the quality mask (quality_bitmask=175).\n",
      "1% (115/16834) of the cadences will be ignored due to the quality mask (quality_bitmask=175).\n"
     ]
    },
    {
     "name": "stdout",
     "output_type": "stream",
     "text": [
      "date: 2022_08_02\n",
      "LC successfully detrended.\n"
     ]
    },
    {
     "name": "stderr",
     "output_type": "stream",
     "text": [
      "/home/ekaterina/Documents/000_envs/python37/lib/python3.7/site-packages/numpy/lib/nanfunctions.py:1117: RuntimeWarning: Mean of empty slice\n",
      "  return np.nanmean(a, axis, out=out, keepdims=keepdims)\n",
      "Found 0 candidate(s) in the (0,7319) gap.\n",
      "Found 0 candidate(s) in the (7319,15049) gap.\n",
      "/home/ekaterina/Documents/000_envs/python37/lib/python3.7/site-packages/ipykernel_launcher.py:88: LightkurveDeprecationWarning: The search_lightcurvefile function is deprecated and may be removed in a future version.\n",
      "        Use search_lightcurve() instead.\n"
     ]
    },
    {
     "name": "stdout",
     "output_type": "stream",
     "text": [
      "Transit midtime in TESS time: 1712.6752659999765\n",
      "No flares found in LC.\n",
      "Wrote out LC to /home/ekaterina/Documents/001_science/lcs/2022_08_02_375506058_16_altai_0.fits.\n",
      "\n",
      "---------------------\n",
      "0 flares found!\n",
      "-------------------\n",
      "\n",
      "(0, 0)\n"
     ]
    },
    {
     "name": "stderr",
     "output_type": "stream",
     "text": [
      "No data found for target \"WASP-176\".\n",
      "No data found for target \"WASP-176\".\n",
      "/home/ekaterina/Documents/000_envs/python37/lib/python3.7/site-packages/ipykernel_launcher.py:93: LightkurveDeprecationWarning: The search_lightcurvefile function is deprecated and may be removed in a future version.\n",
      "        Use search_lightcurve() instead.\n",
      "No data found for target \"TIC 375942197\".\n",
      "No data found for target \"TIC 375942197\".\n",
      "/home/ekaterina/Documents/000_envs/python37/lib/python3.7/site-packages/ipykernel_launcher.py:88: LightkurveDeprecationWarning: The search_lightcurvefile function is deprecated and may be removed in a future version.\n",
      "        Use search_lightcurve() instead.\n",
      "/home/ekaterina/Documents/000_envs/python37/lib/python3.7/site-packages/ipykernel_launcher.py:88: LightkurveDeprecationWarning: The search_lightcurvefile function is deprecated and may be removed in a future version.\n",
      "        Use search_lightcurve() instead.\n",
      "Could not resolve K2-386 to a sky position.\n",
      "Could not resolve K2-386 to a sky position.\n",
      "/home/ekaterina/Documents/000_envs/python37/lib/python3.7/site-packages/ipykernel_launcher.py:93: LightkurveDeprecationWarning: The search_lightcurvefile function is deprecated and may be removed in a future version.\n",
      "        Use search_lightcurve() instead.\n"
     ]
    },
    {
     "name": "stdout",
     "output_type": "stream",
     "text": [
      "Get TESS Sector/Quarter 42, TIC 376879052, K2-386, short cadence.\n"
     ]
    },
    {
     "name": "stderr",
     "output_type": "stream",
     "text": [
      "/home/ekaterina/Documents/000_envs/python37/lib/python3.7/site-packages/lightkurve/io/tess.py:34: ResourceWarning: unclosed file <_io.FileIO name='/home/ekaterina/Documents/001_science/lcs/mastDownload/TESS/tess2021232031932-s0042-0000000376879052-0213-s/tess2021232031932-s0042-0000000376879052-0213-s_lc.fits' mode='rb' closefd=True>\n",
      "  lc = read_generic_lightcurve(filename, flux_column=flux_column, time_format=\"btjd\")\n",
      "2% (307/17674) of the cadences will be ignored due to the quality mask (quality_bitmask=175).\n",
      "2% (307/17674) of the cadences will be ignored due to the quality mask (quality_bitmask=175).\n"
     ]
    },
    {
     "name": "stdout",
     "output_type": "stream",
     "text": [
      "date: 2022_08_02\n",
      "LC successfully detrended.\n"
     ]
    },
    {
     "name": "stderr",
     "output_type": "stream",
     "text": [
      "/home/ekaterina/Documents/000_envs/python37/lib/python3.7/site-packages/numpy/lib/nanfunctions.py:1117: RuntimeWarning: Mean of empty slice\n",
      "  return np.nanmean(a, axis, out=out, keepdims=keepdims)\n",
      "Found 0 candidate(s) in the (0,5595) gap.\n",
      "Found 0 candidate(s) in the (5595,12980) gap.\n"
     ]
    },
    {
     "name": "stdout",
     "output_type": "stream",
     "text": [
      "Transit midtime in TESS time: 395.90560000017285\n",
      "No flares found in LC.\n",
      "Wrote out LC to /home/ekaterina/Documents/001_science/lcs/2022_08_02_376879052_42_altai_0.fits.\n",
      "Get TESS Sector/Quarter 43, TIC 376879052, K2-386, short cadence.\n"
     ]
    },
    {
     "name": "stderr",
     "output_type": "stream",
     "text": [
      "/home/ekaterina/Documents/000_envs/python37/lib/python3.7/site-packages/lightkurve/io/tess.py:34: ResourceWarning: unclosed file <_io.FileIO name='/home/ekaterina/Documents/001_science/lcs/mastDownload/TESS/tess2021258175143-s0043-0000000376879052-0214-s/tess2021258175143-s0043-0000000376879052-0214-s_lc.fits' mode='rb' closefd=True>\n",
      "  lc = read_generic_lightcurve(filename, flux_column=flux_column, time_format=\"btjd\")\n",
      "0% (33/17050) of the cadences will be ignored due to the quality mask (quality_bitmask=175).\n",
      "0% (33/17050) of the cadences will be ignored due to the quality mask (quality_bitmask=175).\n"
     ]
    },
    {
     "name": "stdout",
     "output_type": "stream",
     "text": [
      "date: 2022_08_02\n",
      "LC successfully detrended.\n"
     ]
    },
    {
     "name": "stderr",
     "output_type": "stream",
     "text": [
      "/home/ekaterina/Documents/000_envs/python37/lib/python3.7/site-packages/numpy/lib/nanfunctions.py:1117: RuntimeWarning: Mean of empty slice\n",
      "  return np.nanmean(a, axis, out=out, keepdims=keepdims)\n",
      "Found 0 candidate(s) in the (0,5728) gap.\n",
      "Found 0 candidate(s) in the (5728,6018) gap.\n",
      "Found 0 candidate(s) in the (6018,14031) gap.\n",
      "/home/ekaterina/Documents/000_envs/python37/lib/python3.7/site-packages/ipykernel_launcher.py:88: LightkurveDeprecationWarning: The search_lightcurvefile function is deprecated and may be removed in a future version.\n",
      "        Use search_lightcurve() instead.\n"
     ]
    },
    {
     "name": "stdout",
     "output_type": "stream",
     "text": [
      "Transit midtime in TESS time: 395.90560000017285\n",
      "No flares found in LC.\n",
      "Wrote out LC to /home/ekaterina/Documents/001_science/lcs/2022_08_02_376879052_43_altai_0.fits.\n",
      "\n",
      "---------------------\n",
      "0 flares found!\n",
      "-------------------\n",
      "\n",
      "(0, 0)\n",
      "Get TESS Sector/Quarter 42, TIC 376879419, K2-150, short cadence.\n"
     ]
    },
    {
     "name": "stderr",
     "output_type": "stream",
     "text": [
      "/home/ekaterina/Documents/000_envs/python37/lib/python3.7/site-packages/lightkurve/io/tess.py:34: ResourceWarning: unclosed file <_io.FileIO name='/home/ekaterina/Documents/001_science/lcs/mastDownload/TESS/tess2021232031932-s0042-0000000376879419-0213-s/tess2021232031932-s0042-0000000376879419-0213-s_lc.fits' mode='rb' closefd=True>\n",
      "  lc = read_generic_lightcurve(filename, flux_column=flux_column, time_format=\"btjd\")\n",
      "2% (307/17674) of the cadences will be ignored due to the quality mask (quality_bitmask=175).\n",
      "2% (307/17674) of the cadences will be ignored due to the quality mask (quality_bitmask=175).\n"
     ]
    },
    {
     "name": "stdout",
     "output_type": "stream",
     "text": [
      "date: 2022_08_02\n",
      "LC successfully detrended.\n"
     ]
    },
    {
     "name": "stderr",
     "output_type": "stream",
     "text": [
      "/home/ekaterina/Documents/000_envs/python37/lib/python3.7/site-packages/numpy/lib/nanfunctions.py:1117: RuntimeWarning: Mean of empty slice\n",
      "  return np.nanmean(a, axis, out=out, keepdims=keepdims)\n",
      "Found 0 candidate(s) in the (0,5585) gap.\n",
      "Found 0 candidate(s) in the (5585,12993) gap.\n"
     ]
    },
    {
     "name": "stdout",
     "output_type": "stream",
     "text": [
      "Transit midtime in TESS time: 391.96157999988645\n",
      "No flares found in LC.\n",
      "Wrote out LC to /home/ekaterina/Documents/001_science/lcs/2022_08_02_376879419_42_altai_0.fits.\n",
      "Get TESS Sector/Quarter 43, TIC 376879419, K2-150, short cadence.\n"
     ]
    },
    {
     "name": "stderr",
     "output_type": "stream",
     "text": [
      "/home/ekaterina/Documents/000_envs/python37/lib/python3.7/site-packages/lightkurve/io/tess.py:34: ResourceWarning: unclosed file <_io.FileIO name='/home/ekaterina/Documents/001_science/lcs/mastDownload/TESS/tess2021258175143-s0043-0000000376879419-0214-s/tess2021258175143-s0043-0000000376879419-0214-s_lc.fits' mode='rb' closefd=True>\n",
      "  lc = read_generic_lightcurve(filename, flux_column=flux_column, time_format=\"btjd\")\n",
      "0% (33/17050) of the cadences will be ignored due to the quality mask (quality_bitmask=175).\n",
      "0% (33/17050) of the cadences will be ignored due to the quality mask (quality_bitmask=175).\n"
     ]
    },
    {
     "name": "stdout",
     "output_type": "stream",
     "text": [
      "date: 2022_08_02\n",
      "LC successfully detrended.\n"
     ]
    },
    {
     "name": "stderr",
     "output_type": "stream",
     "text": [
      "/home/ekaterina/Documents/000_envs/python37/lib/python3.7/site-packages/numpy/lib/nanfunctions.py:1117: RuntimeWarning: Mean of empty slice\n",
      "  return np.nanmean(a, axis, out=out, keepdims=keepdims)\n",
      "Found 1 candidate(s) in the (0,5713) gap.\n",
      "Found 0 candidate(s) in the (5713,13687) gap.\n",
      "/home/ekaterina/Documents/000_envs/python37/lib/python3.7/site-packages/ipykernel_launcher.py:88: LightkurveDeprecationWarning: The search_lightcurvefile function is deprecated and may be removed in a future version.\n",
      "        Use search_lightcurve() instead.\n"
     ]
    },
    {
     "name": "stdout",
     "output_type": "stream",
     "text": [
      "Transit midtime in TESS time: 391.96157999988645\n",
      "Flares found:\n",
      "        tstart       tstop     phase  ampl_rec       dur\n",
      "0  2477.090776  2477.09772  0.829699  0.043691  0.006945\n",
      "Wrote out LC to /home/ekaterina/Documents/001_science/lcs/2022_08_02_376879419_43_altai_0.fits.\n",
      "\n",
      "---------------------\n",
      "1 flares found!\n",
      "-------------------\n",
      "\n",
      "(0, 0)\n",
      "Get TESS Sector/Quarter 42, TIC 376905329, K2-215, short cadence.\n"
     ]
    },
    {
     "name": "stderr",
     "output_type": "stream",
     "text": [
      "/home/ekaterina/Documents/000_envs/python37/lib/python3.7/site-packages/lightkurve/io/tess.py:34: ResourceWarning: unclosed file <_io.FileIO name='/home/ekaterina/Documents/001_science/lcs/mastDownload/TESS/tess2021232031932-s0042-0000000376905329-0213-s/tess2021232031932-s0042-0000000376905329-0213-s_lc.fits' mode='rb' closefd=True>\n",
      "  lc = read_generic_lightcurve(filename, flux_column=flux_column, time_format=\"btjd\")\n",
      "2% (307/17674) of the cadences will be ignored due to the quality mask (quality_bitmask=175).\n",
      "2% (307/17674) of the cadences will be ignored due to the quality mask (quality_bitmask=175).\n"
     ]
    },
    {
     "name": "stdout",
     "output_type": "stream",
     "text": [
      "date: 2022_08_02\n",
      "LC successfully detrended.\n"
     ]
    },
    {
     "name": "stderr",
     "output_type": "stream",
     "text": [
      "/home/ekaterina/Documents/000_envs/python37/lib/python3.7/site-packages/numpy/lib/nanfunctions.py:1117: RuntimeWarning: Mean of empty slice\n",
      "  return np.nanmean(a, axis, out=out, keepdims=keepdims)\n",
      "Found 0 candidate(s) in the (0,5598) gap.\n",
      "Found 0 candidate(s) in the (5598,12980) gap.\n"
     ]
    },
    {
     "name": "stdout",
     "output_type": "stream",
     "text": [
      "Transit midtime in TESS time: 394.33224999997765\n",
      "No flares found in LC.\n",
      "Wrote out LC to /home/ekaterina/Documents/001_science/lcs/2022_08_02_376905329_42_altai_0.fits.\n",
      "Get TESS Sector/Quarter 43, TIC 376905329, K2-215, short cadence.\n"
     ]
    },
    {
     "name": "stderr",
     "output_type": "stream",
     "text": [
      "/home/ekaterina/Documents/000_envs/python37/lib/python3.7/site-packages/lightkurve/io/tess.py:34: ResourceWarning: unclosed file <_io.FileIO name='/home/ekaterina/Documents/001_science/lcs/mastDownload/TESS/tess2021258175143-s0043-0000000376905329-0214-s/tess2021258175143-s0043-0000000376905329-0214-s_lc.fits' mode='rb' closefd=True>\n",
      "  lc = read_generic_lightcurve(filename, flux_column=flux_column, time_format=\"btjd\")\n",
      "0% (33/17050) of the cadences will be ignored due to the quality mask (quality_bitmask=175).\n",
      "0% (33/17050) of the cadences will be ignored due to the quality mask (quality_bitmask=175).\n"
     ]
    },
    {
     "name": "stdout",
     "output_type": "stream",
     "text": [
      "date: 2022_08_02\n",
      "LC successfully detrended.\n"
     ]
    },
    {
     "name": "stderr",
     "output_type": "stream",
     "text": [
      "/home/ekaterina/Documents/000_envs/python37/lib/python3.7/site-packages/numpy/lib/nanfunctions.py:1117: RuntimeWarning: Mean of empty slice\n",
      "  return np.nanmean(a, axis, out=out, keepdims=keepdims)\n",
      "Found 0 candidate(s) in the (0,5728) gap.\n",
      "Found 0 candidate(s) in the (5728,6023) gap.\n",
      "Found 0 candidate(s) in the (6023,14043) gap.\n",
      "/home/ekaterina/Documents/000_envs/python37/lib/python3.7/site-packages/ipykernel_launcher.py:88: LightkurveDeprecationWarning: The search_lightcurvefile function is deprecated and may be removed in a future version.\n",
      "        Use search_lightcurve() instead.\n"
     ]
    },
    {
     "name": "stdout",
     "output_type": "stream",
     "text": [
      "Transit midtime in TESS time: 394.33224999997765\n",
      "No flares found in LC.\n",
      "Wrote out LC to /home/ekaterina/Documents/001_science/lcs/2022_08_02_376905329_43_altai_0.fits.\n",
      "\n",
      "---------------------\n",
      "0 flares found!\n",
      "-------------------\n",
      "\n",
      "(0, 0)\n",
      "Get TESS Sector/Quarter 42, TIC 376936928, K2-151, short cadence.\n"
     ]
    },
    {
     "name": "stderr",
     "output_type": "stream",
     "text": [
      "/home/ekaterina/Documents/000_envs/python37/lib/python3.7/site-packages/lightkurve/io/tess.py:34: ResourceWarning: unclosed file <_io.FileIO name='/home/ekaterina/Documents/001_science/lcs/mastDownload/TESS/tess2021232031932-s0042-0000000376936928-0213-s/tess2021232031932-s0042-0000000376936928-0213-s_lc.fits' mode='rb' closefd=True>\n",
      "  lc = read_generic_lightcurve(filename, flux_column=flux_column, time_format=\"btjd\")\n",
      "2% (307/17674) of the cadences will be ignored due to the quality mask (quality_bitmask=175).\n",
      "2% (307/17674) of the cadences will be ignored due to the quality mask (quality_bitmask=175).\n"
     ]
    },
    {
     "name": "stdout",
     "output_type": "stream",
     "text": [
      "date: 2022_08_02\n",
      "LC successfully detrended.\n"
     ]
    },
    {
     "name": "stderr",
     "output_type": "stream",
     "text": [
      "/home/ekaterina/Documents/000_envs/python37/lib/python3.7/site-packages/numpy/lib/nanfunctions.py:1117: RuntimeWarning: Mean of empty slice\n",
      "  return np.nanmean(a, axis, out=out, keepdims=keepdims)\n",
      "Found 0 candidate(s) in the (0,5585) gap.\n",
      "Found 0 candidate(s) in the (5585,13013) gap.\n"
     ]
    },
    {
     "name": "stdout",
     "output_type": "stream",
     "text": [
      "Transit midtime in TESS time: 395.23735000006855\n",
      "No flares found in LC.\n",
      "Wrote out LC to /home/ekaterina/Documents/001_science/lcs/2022_08_02_376936928_42_altai_0.fits.\n",
      "Get TESS Sector/Quarter 43, TIC 376936928, K2-151, short cadence.\n"
     ]
    },
    {
     "name": "stderr",
     "output_type": "stream",
     "text": [
      "/home/ekaterina/Documents/000_envs/python37/lib/python3.7/site-packages/lightkurve/io/tess.py:34: ResourceWarning: unclosed file <_io.FileIO name='/home/ekaterina/Documents/001_science/lcs/mastDownload/TESS/tess2021258175143-s0043-0000000376936928-0214-s/tess2021258175143-s0043-0000000376936928-0214-s_lc.fits' mode='rb' closefd=True>\n",
      "  lc = read_generic_lightcurve(filename, flux_column=flux_column, time_format=\"btjd\")\n",
      "0% (33/17050) of the cadences will be ignored due to the quality mask (quality_bitmask=175).\n",
      "0% (33/17050) of the cadences will be ignored due to the quality mask (quality_bitmask=175).\n"
     ]
    },
    {
     "name": "stdout",
     "output_type": "stream",
     "text": [
      "date: 2022_08_02\n",
      "LC successfully detrended.\n"
     ]
    },
    {
     "name": "stderr",
     "output_type": "stream",
     "text": [
      "/home/ekaterina/Documents/000_envs/python37/lib/python3.7/site-packages/numpy/lib/nanfunctions.py:1117: RuntimeWarning: Mean of empty slice\n",
      "  return np.nanmean(a, axis, out=out, keepdims=keepdims)\n",
      "Found 0 candidate(s) in the (0,5713) gap.\n",
      "Found 6 candidate(s) in the (5713,13680) gap.\n",
      "/home/ekaterina/Documents/000_envs/python37/lib/python3.7/site-packages/ipykernel_launcher.py:88: LightkurveDeprecationWarning: The search_lightcurvefile function is deprecated and may be removed in a future version.\n",
      "        Use search_lightcurve() instead.\n"
     ]
    },
    {
     "name": "stdout",
     "output_type": "stream",
     "text": [
      "Transit midtime in TESS time: 395.23735000006855\n",
      "Flares found:\n",
      "        tstart        tstop     phase  ampl_rec       dur\n",
      "0  2497.135636  2497.139803  0.014975  0.024146  0.004167\n",
      "1  2497.207858  2497.295359  0.033806  0.032234  0.087500\n",
      "2  2497.302303  2497.330081  0.058430  0.027985  0.027778\n",
      "3  2497.335637  2497.363415  0.067120  0.034410  0.027778\n",
      "4  2497.371748  2497.392582  0.076536  0.036861  0.020833\n",
      "5  2497.400915  2498.259252  0.084140  0.171656  0.858337\n",
      "Wrote out LC to /home/ekaterina/Documents/001_science/lcs/2022_08_02_376936928_43_altai_0.fits.\n",
      "\n",
      "---------------------\n",
      "6 flares found!\n",
      "-------------------\n",
      "\n",
      "(0, 0)\n"
     ]
    },
    {
     "name": "stderr",
     "output_type": "stream",
     "text": [
      "Could not resolve K2-387 to a sky position.\n",
      "Could not resolve K2-387 to a sky position.\n",
      "/home/ekaterina/Documents/000_envs/python37/lib/python3.7/site-packages/ipykernel_launcher.py:93: LightkurveDeprecationWarning: The search_lightcurvefile function is deprecated and may be removed in a future version.\n",
      "        Use search_lightcurve() instead.\n"
     ]
    },
    {
     "name": "stdout",
     "output_type": "stream",
     "text": [
      "Get TESS Sector/Quarter 42, TIC 376938120, K2-387, short cadence.\n"
     ]
    },
    {
     "name": "stderr",
     "output_type": "stream",
     "text": [
      "/home/ekaterina/Documents/000_envs/python37/lib/python3.7/site-packages/lightkurve/io/tess.py:34: ResourceWarning: unclosed file <_io.FileIO name='/home/ekaterina/Documents/001_science/lcs/mastDownload/TESS/tess2021232031932-s0042-0000000376938120-0213-s/tess2021232031932-s0042-0000000376938120-0213-s_lc.fits' mode='rb' closefd=True>\n",
      "  lc = read_generic_lightcurve(filename, flux_column=flux_column, time_format=\"btjd\")\n",
      "2% (307/17674) of the cadences will be ignored due to the quality mask (quality_bitmask=175).\n",
      "2% (307/17674) of the cadences will be ignored due to the quality mask (quality_bitmask=175).\n"
     ]
    },
    {
     "name": "stdout",
     "output_type": "stream",
     "text": [
      "date: 2022_08_02\n",
      "LC successfully detrended.\n"
     ]
    },
    {
     "name": "stderr",
     "output_type": "stream",
     "text": [
      "/home/ekaterina/Documents/000_envs/python37/lib/python3.7/site-packages/numpy/lib/nanfunctions.py:1117: RuntimeWarning: Mean of empty slice\n",
      "  return np.nanmean(a, axis, out=out, keepdims=keepdims)\n",
      "Found 0 candidate(s) in the (0,5585) gap.\n",
      "Found 0 candidate(s) in the (5585,13008) gap.\n"
     ]
    },
    {
     "name": "stdout",
     "output_type": "stream",
     "text": [
      "Transit midtime in TESS time: 401.9786999998614\n",
      "No flares found in LC.\n",
      "Wrote out LC to /home/ekaterina/Documents/001_science/lcs/2022_08_02_376938120_42_altai_0.fits.\n",
      "Get TESS Sector/Quarter 43, TIC 376938120, K2-387, short cadence.\n"
     ]
    },
    {
     "name": "stderr",
     "output_type": "stream",
     "text": [
      "/home/ekaterina/Documents/000_envs/python37/lib/python3.7/site-packages/lightkurve/io/tess.py:34: ResourceWarning: unclosed file <_io.FileIO name='/home/ekaterina/Documents/001_science/lcs/mastDownload/TESS/tess2021258175143-s0043-0000000376938120-0214-s/tess2021258175143-s0043-0000000376938120-0214-s_lc.fits' mode='rb' closefd=True>\n",
      "  lc = read_generic_lightcurve(filename, flux_column=flux_column, time_format=\"btjd\")\n",
      "0% (33/17050) of the cadences will be ignored due to the quality mask (quality_bitmask=175).\n",
      "0% (33/17050) of the cadences will be ignored due to the quality mask (quality_bitmask=175).\n"
     ]
    },
    {
     "name": "stdout",
     "output_type": "stream",
     "text": [
      "date: 2022_08_02\n",
      "LC successfully detrended.\n"
     ]
    },
    {
     "name": "stderr",
     "output_type": "stream",
     "text": [
      "/home/ekaterina/Documents/000_envs/python37/lib/python3.7/site-packages/numpy/lib/nanfunctions.py:1117: RuntimeWarning: Mean of empty slice\n",
      "  return np.nanmean(a, axis, out=out, keepdims=keepdims)\n",
      "Found 0 candidate(s) in the (0,5713) gap.\n",
      "Found 0 candidate(s) in the (5713,13640) gap.\n",
      "/home/ekaterina/Documents/000_envs/python37/lib/python3.7/site-packages/ipykernel_launcher.py:88: LightkurveDeprecationWarning: The search_lightcurvefile function is deprecated and may be removed in a future version.\n",
      "        Use search_lightcurve() instead.\n"
     ]
    },
    {
     "name": "stdout",
     "output_type": "stream",
     "text": [
      "Transit midtime in TESS time: 401.9786999998614\n",
      "No flares found in LC.\n",
      "Wrote out LC to /home/ekaterina/Documents/001_science/lcs/2022_08_02_376938120_43_altai_0.fits.\n",
      "\n",
      "---------------------\n",
      "0 flares found!\n",
      "-------------------\n",
      "\n",
      "(0, 0)\n",
      "Get TESS Sector/Quarter 42, TIC 376939759, K2-113, short cadence.\n"
     ]
    },
    {
     "name": "stderr",
     "output_type": "stream",
     "text": [
      "/home/ekaterina/Documents/000_envs/python37/lib/python3.7/site-packages/lightkurve/io/tess.py:34: ResourceWarning: unclosed file <_io.FileIO name='/home/ekaterina/Documents/001_science/lcs/mastDownload/TESS/tess2021232031932-s0042-0000000376939759-0213-s/tess2021232031932-s0042-0000000376939759-0213-s_lc.fits' mode='rb' closefd=True>\n",
      "  lc = read_generic_lightcurve(filename, flux_column=flux_column, time_format=\"btjd\")\n",
      "2% (307/17674) of the cadences will be ignored due to the quality mask (quality_bitmask=175).\n",
      "2% (307/17674) of the cadences will be ignored due to the quality mask (quality_bitmask=175).\n"
     ]
    },
    {
     "name": "stdout",
     "output_type": "stream",
     "text": [
      "date: 2022_08_02\n",
      "LC successfully detrended.\n"
     ]
    },
    {
     "name": "stderr",
     "output_type": "stream",
     "text": [
      "/home/ekaterina/Documents/000_envs/python37/lib/python3.7/site-packages/numpy/lib/nanfunctions.py:1117: RuntimeWarning: Mean of empty slice\n",
      "  return np.nanmean(a, axis, out=out, keepdims=keepdims)\n",
      "Found 0 candidate(s) in the (0,5601) gap.\n",
      "Found 0 candidate(s) in the (5601,13014) gap.\n"
     ]
    },
    {
     "name": "stdout",
     "output_type": "stream",
     "text": [
      "Transit midtime in TESS time: 2493.040290000383\n",
      "No flares found in LC.\n",
      "Wrote out LC to /home/ekaterina/Documents/001_science/lcs/2022_08_02_376939759_42_altai_0.fits.\n",
      "Get TESS Sector/Quarter 43, TIC 376939759, K2-113, short cadence.\n"
     ]
    },
    {
     "name": "stderr",
     "output_type": "stream",
     "text": [
      "/home/ekaterina/Documents/000_envs/python37/lib/python3.7/site-packages/lightkurve/io/tess.py:34: ResourceWarning: unclosed file <_io.FileIO name='/home/ekaterina/Documents/001_science/lcs/mastDownload/TESS/tess2021258175143-s0043-0000000376939759-0214-s/tess2021258175143-s0043-0000000376939759-0214-s_lc.fits' mode='rb' closefd=True>\n",
      "  lc = read_generic_lightcurve(filename, flux_column=flux_column, time_format=\"btjd\")\n",
      "0% (33/17050) of the cadences will be ignored due to the quality mask (quality_bitmask=175).\n",
      "0% (33/17050) of the cadences will be ignored due to the quality mask (quality_bitmask=175).\n"
     ]
    },
    {
     "name": "stdout",
     "output_type": "stream",
     "text": [
      "date: 2022_08_02\n",
      "LC successfully detrended.\n"
     ]
    },
    {
     "name": "stderr",
     "output_type": "stream",
     "text": [
      "/home/ekaterina/Documents/000_envs/python37/lib/python3.7/site-packages/numpy/lib/nanfunctions.py:1117: RuntimeWarning: Mean of empty slice\n",
      "  return np.nanmean(a, axis, out=out, keepdims=keepdims)\n",
      "Found 0 candidate(s) in the (0,5728) gap.\n",
      "Found 0 candidate(s) in the (5728,5996) gap.\n",
      "Found 0 candidate(s) in the (5996,13998) gap.\n",
      "/home/ekaterina/Documents/000_envs/python37/lib/python3.7/site-packages/ipykernel_launcher.py:88: LightkurveDeprecationWarning: The search_lightcurvefile function is deprecated and may be removed in a future version.\n",
      "        Use search_lightcurve() instead.\n"
     ]
    },
    {
     "name": "stdout",
     "output_type": "stream",
     "text": [
      "Transit midtime in TESS time: 2493.040290000383\n",
      "No flares found in LC.\n",
      "Wrote out LC to /home/ekaterina/Documents/001_science/lcs/2022_08_02_376939759_43_altai_0.fits.\n",
      "\n",
      "---------------------\n",
      "0 flares found!\n",
      "-------------------\n",
      "\n",
      "(0, 0)\n",
      "Get TESS Sector/Quarter 45, TIC 377064495, TOI-561, fast cadence.\n"
     ]
    },
    {
     "name": "stderr",
     "output_type": "stream",
     "text": [
      "/home/ekaterina/Documents/000_envs/python37/lib/python3.7/site-packages/lightkurve/io/tess.py:34: ResourceWarning: unclosed file <_io.FileIO name='/home/ekaterina/Documents/001_science/lcs/mastDownload/TESS/tess2021310001228-s0045-0000000377064495-0216-a_fast/tess2021310001228-s0045-0000000377064495-0216-a_fast-lc.fits' mode='rb' closefd=True>\n",
      "  lc = read_generic_lightcurve(filename, flux_column=flux_column, time_format=\"btjd\")\n",
      "1% (868/103545) of the cadences will be ignored due to the quality mask (quality_bitmask=175).\n",
      "1% (868/103545) of the cadences will be ignored due to the quality mask (quality_bitmask=175).\n"
     ]
    },
    {
     "name": "stdout",
     "output_type": "stream",
     "text": [
      "date: 2022_08_02\n",
      "LC successfully detrended.\n"
     ]
    },
    {
     "name": "stderr",
     "output_type": "stream",
     "text": [
      "/home/ekaterina/Documents/000_envs/python37/lib/python3.7/site-packages/numpy/lib/nanfunctions.py:1117: RuntimeWarning: Mean of empty slice\n",
      "  return np.nanmean(a, axis, out=out, keepdims=keepdims)\n",
      "Found 0 candidate(s) in the (0,50471) gap.\n",
      "Found 0 candidate(s) in the (50471,52879) gap.\n",
      "Found 0 candidate(s) in the (52879,96760) gap.\n"
     ]
    },
    {
     "name": "stdout",
     "output_type": "stream",
     "text": [
      "Transit midtime in TESS time: 2279.794766999781\n",
      "No flares found in LC.\n",
      "Wrote out LC to /home/ekaterina/Documents/001_science/lcs/2022_08_02_377064495_45_altai_0.fits.\n",
      "Get TESS Sector/Quarter 46, TIC 377064495, TOI-561, fast cadence.\n"
     ]
    },
    {
     "name": "stderr",
     "output_type": "stream",
     "text": [
      "/home/ekaterina/Documents/000_envs/python37/lib/python3.7/site-packages/lightkurve/io/tess.py:34: ResourceWarning: unclosed file <_io.FileIO name='/home/ekaterina/Documents/001_science/lcs/mastDownload/TESS/tess2021336043614-s0046-0000000377064495-0217-a_fast/tess2021336043614-s0046-0000000377064495-0217-a_fast-lc.fits' mode='rb' closefd=True>\n",
      "  lc = read_generic_lightcurve(filename, flux_column=flux_column, time_format=\"btjd\")\n",
      "2% (1782/111240) of the cadences will be ignored due to the quality mask (quality_bitmask=175).\n",
      "2% (1782/111240) of the cadences will be ignored due to the quality mask (quality_bitmask=175).\n"
     ]
    },
    {
     "name": "stdout",
     "output_type": "stream",
     "text": [
      "date: 2022_08_02\n",
      "LC successfully detrended.\n"
     ]
    },
    {
     "name": "stderr",
     "output_type": "stream",
     "text": [
      "/home/ekaterina/Documents/000_envs/python37/lib/python3.7/site-packages/numpy/lib/nanfunctions.py:1117: RuntimeWarning: Mean of empty slice\n",
      "  return np.nanmean(a, axis, out=out, keepdims=keepdims)\n",
      "Found 0 candidate(s) in the (0,50398) gap.\n",
      "Found 0 candidate(s) in the (50398,101939) gap.\n"
     ]
    },
    {
     "name": "stdout",
     "output_type": "stream",
     "text": [
      "Transit midtime in TESS time: 2279.794766999781\n",
      "No flares found in LC.\n",
      "Wrote out LC to /home/ekaterina/Documents/001_science/lcs/2022_08_02_377064495_46_altai_0.fits.\n",
      "Get TESS Sector/Quarter 08, TIC 377064495, TOI-561, short cadence.\n"
     ]
    },
    {
     "name": "stderr",
     "output_type": "stream",
     "text": [
      "/home/ekaterina/Documents/000_envs/python37/lib/python3.7/site-packages/lightkurve/io/tess.py:34: ResourceWarning: unclosed file <_io.FileIO name='/home/ekaterina/Documents/001_science/lcs/mastDownload/TESS/tess2019032160000-s0008-0000000377064495-0136-s/tess2019032160000-s0008-0000000377064495-0136-s_lc.fits' mode='rb' closefd=True>\n",
      "  lc = read_generic_lightcurve(filename, flux_column=flux_column, time_format=\"btjd\")\n",
      "8% (1183/14555) of the cadences will be ignored due to the quality mask (quality_bitmask=175).\n",
      "8% (1183/14555) of the cadences will be ignored due to the quality mask (quality_bitmask=175).\n"
     ]
    },
    {
     "name": "stdout",
     "output_type": "stream",
     "text": [
      "date: 2022_08_02\n",
      "LC successfully detrended.\n"
     ]
    },
    {
     "name": "stderr",
     "output_type": "stream",
     "text": [
      "/home/ekaterina/Documents/000_envs/python37/lib/python3.7/site-packages/numpy/lib/nanfunctions.py:1117: RuntimeWarning: Mean of empty slice\n",
      "  return np.nanmean(a, axis, out=out, keepdims=keepdims)\n",
      "Found 0 candidate(s) in the (0,8008) gap.\n",
      "Found 0 candidate(s) in the (8008,13035) gap.\n"
     ]
    },
    {
     "name": "stdout",
     "output_type": "stream",
     "text": [
      "Transit midtime in TESS time: 2279.794766999781\n",
      "No flares found in LC.\n",
      "Wrote out LC to /home/ekaterina/Documents/001_science/lcs/2022_08_02_377064495_08_altai_0.fits.\n",
      "Get TESS Sector/Quarter 35, TIC 377064495, TOI-561, short cadence.\n"
     ]
    },
    {
     "name": "stderr",
     "output_type": "stream",
     "text": [
      "/home/ekaterina/Documents/000_envs/python37/lib/python3.7/site-packages/lightkurve/io/tess.py:34: ResourceWarning: unclosed file <_io.FileIO name='/home/ekaterina/Documents/001_science/lcs/mastDownload/TESS/tess2021039152502-s0035-0000000377064495-0205-s/tess2021039152502-s0035-0000000377064495-0205-s_lc.fits' mode='rb' closefd=True>\n",
      "  lc = read_generic_lightcurve(filename, flux_column=flux_column, time_format=\"btjd\")\n",
      "16% (2634/16780) of the cadences will be ignored due to the quality mask (quality_bitmask=175).\n",
      "16% (2634/16780) of the cadences will be ignored due to the quality mask (quality_bitmask=175).\n"
     ]
    },
    {
     "name": "stdout",
     "output_type": "stream",
     "text": [
      "date: 2022_08_02\n",
      "LC successfully detrended.\n"
     ]
    },
    {
     "name": "stderr",
     "output_type": "stream",
     "text": [
      "/home/ekaterina/Documents/000_envs/python37/lib/python3.7/site-packages/numpy/lib/nanfunctions.py:1117: RuntimeWarning: Mean of empty slice\n",
      "  return np.nanmean(a, axis, out=out, keepdims=keepdims)\n",
      "Found 0 candidate(s) in the (0,7392) gap.\n",
      "Found 1 candidate(s) in the (7392,7951) gap.\n",
      "Found 0 candidate(s) in the (7951,13679) gap.\n",
      "/home/ekaterina/Documents/000_envs/python37/lib/python3.7/site-packages/ipykernel_launcher.py:88: LightkurveDeprecationWarning: The search_lightcurvefile function is deprecated and may be removed in a future version.\n",
      "        Use search_lightcurve() instead.\n"
     ]
    },
    {
     "name": "stdout",
     "output_type": "stream",
     "text": [
      "Transit midtime in TESS time: 2279.794766999781\n",
      "Flares found:\n",
      "        tstart        tstop    phase  ampl_rec       dur\n",
      "0  2266.720477  2266.726032  0.72339  0.002921  0.005555\n",
      "Wrote out LC to /home/ekaterina/Documents/001_science/lcs/2022_08_02_377064495_35_altai_0.fits.\n",
      "\n",
      "---------------------\n",
      "1 flares found!\n",
      "-------------------\n",
      "\n",
      "(0, 0)\n",
      "Get TESS Sector/Quarter 46, TIC 377171980, K2-166, fast cadence.\n"
     ]
    },
    {
     "name": "stderr",
     "output_type": "stream",
     "text": [
      "/home/ekaterina/Documents/000_envs/python37/lib/python3.7/site-packages/lightkurve/io/tess.py:34: ResourceWarning: unclosed file <_io.FileIO name='/home/ekaterina/Documents/001_science/lcs/mastDownload/TESS/tess2021336043614-s0046-0000000377171980-0217-a_fast/tess2021336043614-s0046-0000000377171980-0217-a_fast-lc.fits' mode='rb' closefd=True>\n",
      "  lc = read_generic_lightcurve(filename, flux_column=flux_column, time_format=\"btjd\")\n",
      "2% (1782/111240) of the cadences will be ignored due to the quality mask (quality_bitmask=175).\n",
      "2% (1782/111240) of the cadences will be ignored due to the quality mask (quality_bitmask=175).\n"
     ]
    },
    {
     "name": "stdout",
     "output_type": "stream",
     "text": [
      "date: 2022_08_02\n",
      "LC successfully detrended.\n"
     ]
    },
    {
     "name": "stderr",
     "output_type": "stream",
     "text": [
      "/home/ekaterina/Documents/000_envs/python37/lib/python3.7/site-packages/numpy/lib/nanfunctions.py:1117: RuntimeWarning: Mean of empty slice\n",
      "  return np.nanmean(a, axis, out=out, keepdims=keepdims)\n",
      "Found 0 candidate(s) in the (0,48086) gap.\n",
      "Found 0 candidate(s) in the (48086,97755) gap.\n",
      "/home/ekaterina/Documents/000_envs/python37/lib/python3.7/site-packages/ipykernel_launcher.py:88: LightkurveDeprecationWarning: The search_lightcurvefile function is deprecated and may be removed in a future version.\n",
      "        Use search_lightcurve() instead.\n"
     ]
    },
    {
     "name": "stdout",
     "output_type": "stream",
     "text": [
      "Transit midtime in TESS time: 621.2226999998093\n",
      "No flares found in LC.\n",
      "Wrote out LC to /home/ekaterina/Documents/001_science/lcs/2022_08_02_377171980_46_altai_0.fits.\n",
      "\n",
      "---------------------\n",
      "0 flares found!\n",
      "-------------------\n",
      "\n",
      "(0, 0)\n"
     ]
    },
    {
     "name": "stderr",
     "output_type": "stream",
     "text": [
      "/home/ekaterina/Documents/000_envs/python37/lib/python3.7/site-packages/ipykernel_launcher.py:88: LightkurveDeprecationWarning: The search_lightcurvefile function is deprecated and may be removed in a future version.\n",
      "        Use search_lightcurve() instead.\n"
     ]
    },
    {
     "name": "stdout",
     "output_type": "stream",
     "text": [
      "Get TESS Sector/Quarter 46, TIC 377259959, K2-259, short cadence.\n"
     ]
    },
    {
     "name": "stderr",
     "output_type": "stream",
     "text": [
      "/home/ekaterina/Documents/000_envs/python37/lib/python3.7/site-packages/lightkurve/io/tess.py:34: ResourceWarning: unclosed file <_io.FileIO name='/home/ekaterina/Documents/001_science/lcs/mastDownload/TESS/tess2021336043614-s0046-0000000377259959-0217-s/tess2021336043614-s0046-0000000377259959-0217-s_lc.fits' mode='rb' closefd=True>\n",
      "  lc = read_generic_lightcurve(filename, flux_column=flux_column, time_format=\"btjd\")\n",
      "2% (387/18539) of the cadences will be ignored due to the quality mask (quality_bitmask=175).\n",
      "2% (387/18539) of the cadences will be ignored due to the quality mask (quality_bitmask=175).\n"
     ]
    },
    {
     "name": "stdout",
     "output_type": "stream",
     "text": [
      "date: 2022_08_02\n",
      "LC successfully detrended.\n"
     ]
    },
    {
     "name": "stderr",
     "output_type": "stream",
     "text": [
      "/home/ekaterina/Documents/000_envs/python37/lib/python3.7/site-packages/numpy/lib/nanfunctions.py:1117: RuntimeWarning: Mean of empty slice\n",
      "  return np.nanmean(a, axis, out=out, keepdims=keepdims)\n",
      "Found 0 candidate(s) in the (0,8067) gap.\n",
      "Found 0 candidate(s) in the (8067,16419) gap.\n",
      "/home/ekaterina/Documents/000_envs/python37/lib/python3.7/site-packages/ipykernel_launcher.py:88: LightkurveDeprecationWarning: The search_lightcurvefile function is deprecated and may be removed in a future version.\n",
      "        Use search_lightcurve() instead.\n"
     ]
    },
    {
     "name": "stdout",
     "output_type": "stream",
     "text": [
      "Transit midtime in TESS time: 585.7094000000507\n",
      "No flares found in LC.\n",
      "Wrote out LC to /home/ekaterina/Documents/001_science/lcs/2022_08_02_377259959_46_altai_0.fits.\n",
      "\n",
      "---------------------\n",
      "0 flares found!\n",
      "-------------------\n",
      "\n",
      "(0, 0)\n"
     ]
    },
    {
     "name": "stderr",
     "output_type": "stream",
     "text": [
      "Could not resolve Kepler-1789 to a sky position.\n",
      "Could not resolve Kepler-1789 to a sky position.\n",
      "/home/ekaterina/Documents/000_envs/python37/lib/python3.7/site-packages/ipykernel_launcher.py:93: LightkurveDeprecationWarning: The search_lightcurvefile function is deprecated and may be removed in a future version.\n",
      "        Use search_lightcurve() instead.\n",
      "/home/ekaterina/Documents/000_envs/python37/lib/python3.7/site-packages/ipykernel_launcher.py:88: LightkurveDeprecationWarning: The search_lightcurvefile function is deprecated and may be removed in a future version.\n",
      "        Use search_lightcurve() instead.\n"
     ]
    },
    {
     "name": "stdout",
     "output_type": "stream",
     "text": [
      "Get Kepler Sector/Quarter 02, TIC 377780790, Kepler-10, short cadence.\n",
      "No LC found for Kepler, Kepler-10, Quarter 02.\n",
      "Get Kepler Sector/Quarter 11, TIC 377780790, Kepler-10, short cadence.\n"
     ]
    },
    {
     "name": "stderr",
     "output_type": "stream",
     "text": [
      "/home/ekaterina/Documents/000_envs/python37/lib/python3.7/site-packages/lightkurve/io/kepler.py:38: ResourceWarning: unclosed file <_io.FileIO name='/home/ekaterina/Documents/001_science/lcs/mastDownload/Kepler/kplr011904151_sc_Q001313330333033302/kplr011904151-2011303113607_slc.fits' mode='rb' closefd=True>\n",
      "  time_format=\"bkjd\",\n",
      "1% (436/45630) of the cadences will be ignored due to the quality mask (quality_bitmask=1130799).\n",
      "1% (436/45630) of the cadences will be ignored due to the quality mask (quality_bitmask=1130799).\n",
      "/home/ekaterina/Documents/000_envs/python37/lib/python3.7/site-packages/lightkurve/io/kepler.py:38: ResourceWarning: unclosed file <_io.FileIO name='/home/ekaterina/Documents/001_science/lcs/mastDownload/Kepler/kplr011904151_sc_Q001313330333033302/kplr011904151-2011334093404_slc.fits' mode='rb' closefd=True>\n",
      "  time_format=\"bkjd\",\n",
      "2% (797/44340) of the cadences will be ignored due to the quality mask (quality_bitmask=1130799).\n",
      "2% (797/44340) of the cadences will be ignored due to the quality mask (quality_bitmask=1130799).\n",
      "/home/ekaterina/Documents/000_envs/python37/lib/python3.7/site-packages/lightkurve/io/kepler.py:38: ResourceWarning: unclosed file <_io.FileIO name='/home/ekaterina/Documents/001_science/lcs/mastDownload/Kepler/kplr011904151_sc_Q001313330333033302/kplr011904151-2012004120508_slc.fits' mode='rb' closefd=True>\n",
      "  time_format=\"bkjd\",\n",
      "1% (518/46830) of the cadences will be ignored due to the quality mask (quality_bitmask=1130799).\n",
      "1% (518/46830) of the cadences will be ignored due to the quality mask (quality_bitmask=1130799).\n"
     ]
    },
    {
     "name": "stdout",
     "output_type": "stream",
     "text": [
      "3 LCs found for Kepler, Kepler-10, Quarter 11.\n",
      "date: 2022_08_02\n",
      "LC successfully detrended.\n"
     ]
    },
    {
     "name": "stderr",
     "output_type": "stream",
     "text": [
      "Found 0 candidate(s) in the (0,45185) gap.\n"
     ]
    },
    {
     "name": "stdout",
     "output_type": "stream",
     "text": [
      "Transit midtime in Kepler time: 131.57512999977916\n",
      "No flares found in LC.\n",
      "Wrote out LC to /home/ekaterina/Documents/001_science/lcs/2022_08_02_Kepler-10_11_altai_0.fits.\n",
      "date: 2022_08_02\n",
      "LC successfully detrended.\n"
     ]
    },
    {
     "name": "stderr",
     "output_type": "stream",
     "text": [
      "Found 0 candidate(s) in the (0,43543) gap.\n"
     ]
    },
    {
     "name": "stdout",
     "output_type": "stream",
     "text": [
      "Transit midtime in Kepler time: 131.57512999977916\n",
      "No flares found in LC.\n",
      "Wrote out LC to /home/ekaterina/Documents/001_science/lcs/2022_08_02_Kepler-10_11_altai_1.fits.\n",
      "date: 2022_08_02\n",
      "LC successfully detrended.\n"
     ]
    },
    {
     "name": "stderr",
     "output_type": "stream",
     "text": [
      "/home/ekaterina/Documents/000_envs/python37/lib/python3.7/site-packages/numpy/lib/nanfunctions.py:1117: RuntimeWarning: Mean of empty slice\n",
      "  return np.nanmean(a, axis, out=out, keepdims=keepdims)\n",
      "Found 0 candidate(s) in the (0,8640) gap.\n",
      "Found 0 candidate(s) in the (8640,46311) gap.\n"
     ]
    },
    {
     "name": "stdout",
     "output_type": "stream",
     "text": [
      "Transit midtime in Kepler time: 131.57512999977916\n",
      "No flares found in LC.\n",
      "Wrote out LC to /home/ekaterina/Documents/001_science/lcs/2022_08_02_Kepler-10_11_altai_2.fits.\n",
      "Get Kepler Sector/Quarter 13, TIC 377780790, Kepler-10, short cadence.\n"
     ]
    },
    {
     "name": "stderr",
     "output_type": "stream",
     "text": [
      "/home/ekaterina/Documents/000_envs/python37/lib/python3.7/site-packages/lightkurve/io/kepler.py:38: ResourceWarning: unclosed file <_io.FileIO name='/home/ekaterina/Documents/001_science/lcs/mastDownload/Kepler/kplr011904151_sc_Q001313330333033302/kplr011904151-2012121044856_slc.fits' mode='rb' closefd=True>\n",
      "  time_format=\"bkjd\",\n",
      "1% (563/47370) of the cadences will be ignored due to the quality mask (quality_bitmask=1130799).\n",
      "1% (563/47370) of the cadences will be ignored due to the quality mask (quality_bitmask=1130799).\n",
      "/home/ekaterina/Documents/000_envs/python37/lib/python3.7/site-packages/lightkurve/io/kepler.py:38: ResourceWarning: unclosed file <_io.FileIO name='/home/ekaterina/Documents/001_science/lcs/mastDownload/Kepler/kplr011904151_sc_Q001313330333033302/kplr011904151-2012151031540_slc.fits' mode='rb' closefd=True>\n",
      "  time_format=\"bkjd\",\n",
      "1% (448/42930) of the cadences will be ignored due to the quality mask (quality_bitmask=1130799).\n",
      "1% (448/42930) of the cadences will be ignored due to the quality mask (quality_bitmask=1130799).\n",
      "/home/ekaterina/Documents/000_envs/python37/lib/python3.7/site-packages/lightkurve/io/kepler.py:38: ResourceWarning: unclosed file <_io.FileIO name='/home/ekaterina/Documents/001_science/lcs/mastDownload/Kepler/kplr011904151_sc_Q001313330333033302/kplr011904151-2012179063303_slc.fits' mode='rb' closefd=True>\n",
      "  time_format=\"bkjd\",\n",
      "2% (867/39990) of the cadences will be ignored due to the quality mask (quality_bitmask=1130799).\n",
      "2% (867/39990) of the cadences will be ignored due to the quality mask (quality_bitmask=1130799).\n"
     ]
    },
    {
     "name": "stdout",
     "output_type": "stream",
     "text": [
      "3 LCs found for Kepler, Kepler-10, Quarter 13.\n",
      "date: 2022_08_02\n",
      "LC successfully detrended.\n"
     ]
    },
    {
     "name": "stderr",
     "output_type": "stream",
     "text": [
      "Found 0 candidate(s) in the (0,46806) gap.\n"
     ]
    },
    {
     "name": "stdout",
     "output_type": "stream",
     "text": [
      "Transit midtime in Kepler time: 131.57512999977916\n",
      "No flares found in LC.\n",
      "Wrote out LC to /home/ekaterina/Documents/001_science/lcs/2022_08_02_Kepler-10_13_altai_0.fits.\n",
      "date: 2022_08_02\n",
      "LC successfully detrended.\n"
     ]
    },
    {
     "name": "stderr",
     "output_type": "stream",
     "text": [
      "Found 0 candidate(s) in the (0,42289) gap.\n"
     ]
    },
    {
     "name": "stdout",
     "output_type": "stream",
     "text": [
      "Transit midtime in Kepler time: 131.57512999977916\n",
      "No flares found in LC.\n",
      "Wrote out LC to /home/ekaterina/Documents/001_science/lcs/2022_08_02_Kepler-10_13_altai_1.fits.\n",
      "date: 2022_08_02\n",
      "LC successfully detrended.\n"
     ]
    },
    {
     "name": "stderr",
     "output_type": "stream",
     "text": [
      "/home/ekaterina/Documents/000_envs/python37/lib/python3.7/site-packages/numpy/lib/nanfunctions.py:1117: RuntimeWarning: Mean of empty slice\n",
      "  return np.nanmean(a, axis, out=out, keepdims=keepdims)\n",
      "Found 0 candidate(s) in the (0,33464) gap.\n",
      "Found 0 candidate(s) in the (33464,39121) gap.\n"
     ]
    },
    {
     "name": "stdout",
     "output_type": "stream",
     "text": [
      "Transit midtime in Kepler time: 131.57512999977916\n",
      "No flares found in LC.\n",
      "Wrote out LC to /home/ekaterina/Documents/001_science/lcs/2022_08_02_Kepler-10_13_altai_2.fits.\n",
      "Get Kepler Sector/Quarter 14, TIC 377780790, Kepler-10, short cadence.\n"
     ]
    },
    {
     "name": "stderr",
     "output_type": "stream",
     "text": [
      "/home/ekaterina/Documents/000_envs/python37/lib/python3.7/site-packages/lightkurve/io/kepler.py:38: ResourceWarning: unclosed file <_io.FileIO name='/home/ekaterina/Documents/001_science/lcs/mastDownload/Kepler/kplr011904151_sc_Q001313330333033302/kplr011904151-2012211050319_slc.fits' mode='rb' closefd=True>\n",
      "  time_format=\"bkjd\",\n",
      "4% (1670/38520) of the cadences will be ignored due to the quality mask (quality_bitmask=1130799).\n",
      "4% (1670/38520) of the cadences will be ignored due to the quality mask (quality_bitmask=1130799).\n",
      "/home/ekaterina/Documents/000_envs/python37/lib/python3.7/site-packages/lightkurve/io/kepler.py:38: ResourceWarning: unclosed file <_io.FileIO name='/home/ekaterina/Documents/001_science/lcs/mastDownload/Kepler/kplr011904151_sc_Q001313330333033302/kplr011904151-2012242122129_slc.fits' mode='rb' closefd=True>\n",
      "  time_format=\"bkjd\",\n",
      "0% (106/44280) of the cadences will be ignored due to the quality mask (quality_bitmask=1130799).\n",
      "0% (106/44280) of the cadences will be ignored due to the quality mask (quality_bitmask=1130799).\n",
      "/home/ekaterina/Documents/000_envs/python37/lib/python3.7/site-packages/lightkurve/io/kepler.py:38: ResourceWarning: unclosed file <_io.FileIO name='/home/ekaterina/Documents/001_science/lcs/mastDownload/Kepler/kplr011904151_sc_Q001313330333033302/kplr011904151-2012277125453_slc.fits' mode='rb' closefd=True>\n",
      "  time_format=\"bkjd\",\n",
      "0% (161/50160) of the cadences will be ignored due to the quality mask (quality_bitmask=1130799).\n",
      "0% (161/50160) of the cadences will be ignored due to the quality mask (quality_bitmask=1130799).\n"
     ]
    },
    {
     "name": "stdout",
     "output_type": "stream",
     "text": [
      "3 LCs found for Kepler, Kepler-10, Quarter 14.\n",
      "date: 2022_08_02\n",
      "LC successfully detrended.\n"
     ]
    },
    {
     "name": "stderr",
     "output_type": "stream",
     "text": [
      "/home/ekaterina/Documents/000_envs/python37/lib/python3.7/site-packages/numpy/lib/nanfunctions.py:1117: RuntimeWarning: Mean of empty slice\n",
      "  return np.nanmean(a, axis, out=out, keepdims=keepdims)\n",
      "Found 1 candidate(s) in the (0,22222) gap.\n",
      "Found 0 candidate(s) in the (22222,34813) gap.\n"
     ]
    },
    {
     "name": "stdout",
     "output_type": "stream",
     "text": [
      "Transit midtime in Kepler time: 131.57512999977916\n",
      "Flares found:\n",
      "        tstart        tstop     phase  ampl_rec       dur\n",
      "0  1281.128892  1281.130935  0.616257  0.002364  0.002043\n",
      "Wrote out LC to /home/ekaterina/Documents/001_science/lcs/2022_08_02_Kepler-10_14_altai_0.fits.\n",
      "date: 2022_08_02\n",
      "LC successfully detrended.\n"
     ]
    },
    {
     "name": "stderr",
     "output_type": "stream",
     "text": [
      "Found 0 candidate(s) in the (0,44149) gap.\n"
     ]
    },
    {
     "name": "stdout",
     "output_type": "stream",
     "text": [
      "Transit midtime in Kepler time: 131.57512999977916\n",
      "No flares found in LC.\n",
      "Wrote out LC to /home/ekaterina/Documents/001_science/lcs/2022_08_02_Kepler-10_14_altai_1.fits.\n",
      "date: 2022_08_02\n",
      "LC successfully detrended.\n"
     ]
    },
    {
     "name": "stderr",
     "output_type": "stream",
     "text": [
      "Found 1 candidate(s) in the (0,49957) gap.\n"
     ]
    },
    {
     "name": "stdout",
     "output_type": "stream",
     "text": [
      "Transit midtime in Kepler time: 131.57512999977916\n",
      "Flares found:\n",
      "        tstart        tstop     phase  ampl_rec       dur\n",
      "0  1337.499477  1337.507651  0.925142  0.004671  0.008173\n",
      "Wrote out LC to /home/ekaterina/Documents/001_science/lcs/2022_08_02_Kepler-10_14_altai_2.fits.\n",
      "Get Kepler Sector/Quarter 15, TIC 377780790, Kepler-10, short cadence.\n"
     ]
    },
    {
     "name": "stderr",
     "output_type": "stream",
     "text": [
      "/home/ekaterina/Documents/000_envs/python37/lib/python3.7/site-packages/lightkurve/io/kepler.py:38: ResourceWarning: unclosed file <_io.FileIO name='/home/ekaterina/Documents/001_science/lcs/mastDownload/Kepler/kplr011904151_sc_Q001313330333033302/kplr011904151-2012310112549_slc.fits' mode='rb' closefd=True>\n",
      "  time_format=\"bkjd\",\n",
      "1% (334/45270) of the cadences will be ignored due to the quality mask (quality_bitmask=1130799).\n",
      "1% (334/45270) of the cadences will be ignored due to the quality mask (quality_bitmask=1130799).\n",
      "/home/ekaterina/Documents/000_envs/python37/lib/python3.7/site-packages/lightkurve/io/kepler.py:38: ResourceWarning: unclosed file <_io.FileIO name='/home/ekaterina/Documents/001_science/lcs/mastDownload/Kepler/kplr011904151_sc_Q001313330333033302/kplr011904151-2012341132017_slc.fits' mode='rb' closefd=True>\n",
      "  time_format=\"bkjd\",\n",
      "1% (366/38310) of the cadences will be ignored due to the quality mask (quality_bitmask=1130799).\n",
      "1% (366/38310) of the cadences will be ignored due to the quality mask (quality_bitmask=1130799).\n",
      "/home/ekaterina/Documents/000_envs/python37/lib/python3.7/site-packages/lightkurve/io/kepler.py:38: ResourceWarning: unclosed file <_io.FileIO name='/home/ekaterina/Documents/001_science/lcs/mastDownload/Kepler/kplr011904151_sc_Q001313330333033302/kplr011904151-2013011073258_slc.fits' mode='rb' closefd=True>\n",
      "  time_format=\"bkjd\",\n",
      "0% (198/51270) of the cadences will be ignored due to the quality mask (quality_bitmask=1130799).\n",
      "0% (198/51270) of the cadences will be ignored due to the quality mask (quality_bitmask=1130799).\n"
     ]
    },
    {
     "name": "stdout",
     "output_type": "stream",
     "text": [
      "3 LCs found for Kepler, Kepler-10, Quarter 15.\n",
      "date: 2022_08_02\n",
      "LC successfully detrended.\n"
     ]
    },
    {
     "name": "stderr",
     "output_type": "stream",
     "text": [
      "Found 0 candidate(s) in the (0,44875) gap.\n"
     ]
    },
    {
     "name": "stdout",
     "output_type": "stream",
     "text": [
      "Transit midtime in Kepler time: 131.57512999977916\n",
      "No flares found in LC.\n",
      "Wrote out LC to /home/ekaterina/Documents/001_science/lcs/2022_08_02_Kepler-10_15_altai_0.fits.\n",
      "date: 2022_08_02\n",
      "LC successfully detrended.\n"
     ]
    },
    {
     "name": "stderr",
     "output_type": "stream",
     "text": [
      "/home/ekaterina/Documents/000_envs/python37/lib/python3.7/site-packages/numpy/lib/nanfunctions.py:1117: RuntimeWarning: Mean of empty slice\n",
      "  return np.nanmean(a, axis, out=out, keepdims=keepdims)\n",
      "Found 0 candidate(s) in the (0,10870) gap.\n",
      "Found 0 candidate(s) in the (10870,35656) gap.\n"
     ]
    },
    {
     "name": "stdout",
     "output_type": "stream",
     "text": [
      "Transit midtime in Kepler time: 131.57512999977916\n",
      "No flares found in LC.\n",
      "Wrote out LC to /home/ekaterina/Documents/001_science/lcs/2022_08_02_Kepler-10_15_altai_1.fits.\n",
      "date: 2022_08_02\n",
      "LC successfully detrended.\n"
     ]
    },
    {
     "name": "stderr",
     "output_type": "stream",
     "text": [
      "Found 0 candidate(s) in the (0,51070) gap.\n"
     ]
    },
    {
     "name": "stdout",
     "output_type": "stream",
     "text": [
      "Transit midtime in Kepler time: 131.57512999977916\n",
      "No flares found in LC.\n",
      "Wrote out LC to /home/ekaterina/Documents/001_science/lcs/2022_08_02_Kepler-10_15_altai_2.fits.\n",
      "Get Kepler Sector/Quarter 17, TIC 377780790, Kepler-10, short cadence.\n"
     ]
    },
    {
     "name": "stderr",
     "output_type": "stream",
     "text": [
      "/home/ekaterina/Documents/000_envs/python37/lib/python3.7/site-packages/lightkurve/io/kepler.py:38: ResourceWarning: unclosed file <_io.FileIO name='/home/ekaterina/Documents/001_science/lcs/mastDownload/Kepler/kplr011904151_sc_Q001313330333033302/kplr011904151-2013121191144_slc.fits' mode='rb' closefd=True>\n",
      "  time_format=\"bkjd\",\n",
      "1% (248/32850) of the cadences will be ignored due to the quality mask (quality_bitmask=1130799).\n",
      "1% (248/32850) of the cadences will be ignored due to the quality mask (quality_bitmask=1130799).\n",
      "/home/ekaterina/Documents/000_envs/python37/lib/python3.7/site-packages/lightkurve/io/kepler.py:38: ResourceWarning: unclosed file <_io.FileIO name='/home/ekaterina/Documents/001_science/lcs/mastDownload/Kepler/kplr011904151_sc_Q001313330333033302/kplr011904151-2013131215648_slc.fits' mode='rb' closefd=True>\n",
      "  time_format=\"bkjd\",\n",
      "0% (28/6180) of the cadences will be ignored due to the quality mask (quality_bitmask=1130799).\n",
      "0% (28/6180) of the cadences will be ignored due to the quality mask (quality_bitmask=1130799).\n"
     ]
    },
    {
     "name": "stdout",
     "output_type": "stream",
     "text": [
      "2 LCs found for Kepler, Kepler-10, Quarter 17.\n",
      "date: 2022_08_02\n",
      "LC successfully detrended.\n"
     ]
    },
    {
     "name": "stderr",
     "output_type": "stream",
     "text": [
      "/home/ekaterina/Documents/000_envs/python37/lib/python3.7/site-packages/numpy/lib/nanfunctions.py:1117: RuntimeWarning: Mean of empty slice\n",
      "  return np.nanmean(a, axis, out=out, keepdims=keepdims)\n",
      "Found 0 candidate(s) in the (0,2385) gap.\n",
      "Found 0 candidate(s) in the (2385,32600) gap.\n"
     ]
    },
    {
     "name": "stdout",
     "output_type": "stream",
     "text": [
      "Transit midtime in Kepler time: 131.57512999977916\n",
      "No flares found in LC.\n",
      "Wrote out LC to /home/ekaterina/Documents/001_science/lcs/2022_08_02_Kepler-10_17_altai_0.fits.\n",
      "date: 2022_08_02\n",
      "LC successfully detrended.\n"
     ]
    },
    {
     "name": "stderr",
     "output_type": "stream",
     "text": [
      "Found 3 candidate(s) in the (0,6151) gap.\n"
     ]
    },
    {
     "name": "stdout",
     "output_type": "stream",
     "text": [
      "Transit midtime in Kepler time: 131.57512999977916\n",
      "Flares found:\n",
      "        tstart        tstop     phase  ampl_rec       dur\n",
      "0  1590.943441  1590.946166  0.548053  0.001001  0.002724\n",
      "1  1590.953658  1590.978861  0.560252  0.001842  0.025202\n",
      "2  1590.997933  1591.009512  0.613118  0.003417  0.011579\n",
      "Wrote out LC to /home/ekaterina/Documents/001_science/lcs/2022_08_02_Kepler-10_17_altai_1.fits.\n",
      "Get Kepler Sector/Quarter 10, TIC 377780790, Kepler-10, short cadence.\n"
     ]
    },
    {
     "name": "stderr",
     "output_type": "stream",
     "text": [
      "/home/ekaterina/Documents/000_envs/python37/lib/python3.7/site-packages/lightkurve/io/kepler.py:38: ResourceWarning: unclosed file <_io.FileIO name='/home/ekaterina/Documents/001_science/lcs/mastDownload/Kepler/kplr011904151_sc_Q001313330333033302/kplr011904151-2011208035123_slc.fits' mode='rb' closefd=True>\n",
      "  time_format=\"bkjd\",\n",
      "1% (242/44220) of the cadences will be ignored due to the quality mask (quality_bitmask=1130799).\n",
      "1% (242/44220) of the cadences will be ignored due to the quality mask (quality_bitmask=1130799).\n",
      "/home/ekaterina/Documents/000_envs/python37/lib/python3.7/site-packages/lightkurve/io/kepler.py:38: ResourceWarning: unclosed file <_io.FileIO name='/home/ekaterina/Documents/001_science/lcs/mastDownload/Kepler/kplr011904151_sc_Q001313330333033302/kplr011904151-2011240104155_slc.fits' mode='rb' closefd=True>\n",
      "  time_format=\"bkjd\",\n",
      "3% (1158/46170) of the cadences will be ignored due to the quality mask (quality_bitmask=1130799).\n",
      "3% (1158/46170) of the cadences will be ignored due to the quality mask (quality_bitmask=1130799).\n",
      "/home/ekaterina/Documents/000_envs/python37/lib/python3.7/site-packages/lightkurve/io/kepler.py:38: ResourceWarning: unclosed file <_io.FileIO name='/home/ekaterina/Documents/001_science/lcs/mastDownload/Kepler/kplr011904151_sc_Q001313330333033302/kplr011904151-2011271113734_slc.fits' mode='rb' closefd=True>\n",
      "  time_format=\"bkjd\",\n",
      "1% (241/44340) of the cadences will be ignored due to the quality mask (quality_bitmask=1130799).\n",
      "1% (241/44340) of the cadences will be ignored due to the quality mask (quality_bitmask=1130799).\n"
     ]
    },
    {
     "name": "stdout",
     "output_type": "stream",
     "text": [
      "3 LCs found for Kepler, Kepler-10, Quarter 10.\n",
      "date: 2022_08_02\n",
      "LC successfully detrended.\n"
     ]
    },
    {
     "name": "stderr",
     "output_type": "stream",
     "text": [
      "Found 0 candidate(s) in the (0,43978) gap.\n"
     ]
    },
    {
     "name": "stdout",
     "output_type": "stream",
     "text": [
      "Transit midtime in Kepler time: 131.57512999977916\n",
      "No flares found in LC.\n",
      "Wrote out LC to /home/ekaterina/Documents/001_science/lcs/2022_08_02_Kepler-10_10_altai_0.fits.\n",
      "date: 2022_08_02\n",
      "LC successfully detrended.\n"
     ]
    },
    {
     "name": "stderr",
     "output_type": "stream",
     "text": [
      "Found 0 candidate(s) in the (0,45006) gap.\n"
     ]
    },
    {
     "name": "stdout",
     "output_type": "stream",
     "text": [
      "Transit midtime in Kepler time: 131.57512999977916\n",
      "No flares found in LC.\n",
      "Wrote out LC to /home/ekaterina/Documents/001_science/lcs/2022_08_02_Kepler-10_10_altai_1.fits.\n",
      "date: 2022_08_02\n",
      "LC successfully detrended.\n"
     ]
    },
    {
     "name": "stderr",
     "output_type": "stream",
     "text": [
      "Found 1 candidate(s) in the (0,44063) gap.\n"
     ]
    },
    {
     "name": "stdout",
     "output_type": "stream",
     "text": [
      "Transit midtime in Kepler time: 131.57512999977916\n",
      "Flares found:\n",
      "       tstart       tstop     phase  ampl_rec       dur\n",
      "0  973.891696  973.896464  0.761932   0.00436  0.004768\n",
      "Wrote out LC to /home/ekaterina/Documents/001_science/lcs/2022_08_02_Kepler-10_10_altai_2.fits.\n",
      "Get Kepler Sector/Quarter 03, TIC 377780790, Kepler-10, short cadence.\n",
      "No LC found for Kepler, Kepler-10, Quarter 03.\n",
      "Get Kepler Sector/Quarter 04, TIC 377780790, Kepler-10, short cadence.\n",
      "No LC found for Kepler, Kepler-10, Quarter 04.\n",
      "Get Kepler Sector/Quarter 05, TIC 377780790, Kepler-10, short cadence.\n",
      "No LC found for Kepler, Kepler-10, Quarter 05.\n",
      "Get Kepler Sector/Quarter 06, TIC 377780790, Kepler-10, short cadence.\n",
      "No LC found for Kepler, Kepler-10, Quarter 06.\n",
      "Get Kepler Sector/Quarter 07, TIC 377780790, Kepler-10, short cadence.\n",
      "No LC found for Kepler, Kepler-10, Quarter 07.\n",
      "Get Kepler Sector/Quarter 09, TIC 377780790, Kepler-10, short cadence.\n",
      "No LC found for Kepler, Kepler-10, Quarter 09.\n",
      "Get TESS Sector/Quarter 41, TIC 377780790, Kepler-10, fast cadence.\n"
     ]
    },
    {
     "name": "stderr",
     "output_type": "stream",
     "text": [
      "/home/ekaterina/Documents/000_envs/python37/lib/python3.7/site-packages/lightkurve/io/tess.py:34: ResourceWarning: unclosed file <_io.FileIO name='/home/ekaterina/Documents/001_science/lcs/mastDownload/TESS/tess2021204101404-s0041-0000000377780790-0212-a_fast/tess2021204101404-s0041-0000000377780790-0212-a_fast-lc.fits' mode='rb' closefd=True>\n",
      "  lc = read_generic_lightcurve(filename, flux_column=flux_column, time_format=\"btjd\")\n",
      "0% (138/110100) of the cadences will be ignored due to the quality mask (quality_bitmask=175).\n",
      "0% (138/110100) of the cadences will be ignored due to the quality mask (quality_bitmask=175).\n"
     ]
    },
    {
     "name": "stdout",
     "output_type": "stream",
     "text": [
      "date: 2022_08_02\n",
      "LC successfully detrended.\n"
     ]
    },
    {
     "name": "stderr",
     "output_type": "stream",
     "text": [
      "/home/ekaterina/Documents/000_envs/python37/lib/python3.7/site-packages/numpy/lib/nanfunctions.py:1117: RuntimeWarning: Mean of empty slice\n",
      "  return np.nanmean(a, axis, out=out, keepdims=keepdims)\n",
      "Found 2 candidate(s) in the (0,54441) gap.\n",
      "Found 0 candidate(s) in the (54441,109962) gap.\n"
     ]
    },
    {
     "name": "stdout",
     "output_type": "stream",
     "text": [
      "Transit midtime in TESS time: -2035.4248700002208\n",
      "Flares found:\n",
      "       tstart        tstop     phase  ampl_rec       dur\n",
      "0  2422.30297  2422.303665  0.717307  0.072937  0.000694\n",
      "1  2431.08906  2431.089986  0.208273  0.224929  0.000926\n",
      "Wrote out LC to /home/ekaterina/Documents/001_science/lcs/2022_08_02_377780790_41_altai_0.fits.\n",
      "Get TESS Sector/Quarter 40, TIC 377780790, Kepler-10, fast cadence.\n"
     ]
    },
    {
     "name": "stderr",
     "output_type": "stream",
     "text": [
      "/home/ekaterina/Documents/000_envs/python37/lib/python3.7/site-packages/lightkurve/io/tess.py:34: ResourceWarning: unclosed file <_io.FileIO name='/home/ekaterina/Documents/001_science/lcs/mastDownload/TESS/tess2021175071901-s0040-0000000377780790-0211-a_fast/tess2021175071901-s0040-0000000377780790-0211-a_fast-lc.fits' mode='rb' closefd=True>\n",
      "  lc = read_generic_lightcurve(filename, flux_column=flux_column, time_format=\"btjd\")\n",
      "0% (151/117871) of the cadences will be ignored due to the quality mask (quality_bitmask=175).\n",
      "0% (151/117871) of the cadences will be ignored due to the quality mask (quality_bitmask=175).\n"
     ]
    },
    {
     "name": "stdout",
     "output_type": "stream",
     "text": [
      "date: 2022_08_02\n",
      "LC successfully detrended.\n"
     ]
    },
    {
     "name": "stderr",
     "output_type": "stream",
     "text": [
      "/home/ekaterina/Documents/000_envs/python37/lib/python3.7/site-packages/numpy/lib/nanfunctions.py:1117: RuntimeWarning: Mean of empty slice\n",
      "  return np.nanmean(a, axis, out=out, keepdims=keepdims)\n",
      "Found 0 candidate(s) in the (0,59335) gap.\n",
      "Found 1 candidate(s) in the (59335,117720) gap.\n"
     ]
    },
    {
     "name": "stdout",
     "output_type": "stream",
     "text": [
      "Transit midtime in TESS time: -2035.4248700002208\n",
      "Flares found:\n",
      "        tstart       tstop     phase  ampl_rec       dur\n",
      "0  2408.619134  2408.62006  0.378222  0.052239  0.000926\n",
      "Wrote out LC to /home/ekaterina/Documents/001_science/lcs/2022_08_02_377780790_40_altai_0.fits.\n",
      "Get TESS Sector/Quarter 53, TIC 377780790, Kepler-10, fast cadence.\n"
     ]
    },
    {
     "name": "stderr",
     "output_type": "stream",
     "text": [
      "/home/ekaterina/Documents/000_envs/python37/lib/python3.7/site-packages/lightkurve/io/tess.py:34: ResourceWarning: unclosed file <_io.FileIO name='/home/ekaterina/Documents/001_science/lcs/mastDownload/TESS/tess2022164095748-s0053-0000000377780790-0226-a_fast/tess2022164095748-s0053-0000000377780790-0226-a_fast-lc.fits' mode='rb' closefd=True>\n",
      "  lc = read_generic_lightcurve(filename, flux_column=flux_column, time_format=\"btjd\")\n",
      "0% (143/104025) of the cadences will be ignored due to the quality mask (quality_bitmask=175).\n",
      "0% (143/104025) of the cadences will be ignored due to the quality mask (quality_bitmask=175).\n"
     ]
    },
    {
     "name": "stdout",
     "output_type": "stream",
     "text": [
      "date: 2022_08_02\n",
      "LC successfully detrended.\n"
     ]
    },
    {
     "name": "stderr",
     "output_type": "stream",
     "text": [
      "/home/ekaterina/Documents/000_envs/python37/lib/python3.7/site-packages/numpy/lib/nanfunctions.py:1117: RuntimeWarning: Mean of empty slice\n",
      "  return np.nanmean(a, axis, out=out, keepdims=keepdims)\n",
      "Found 0 candidate(s) in the (0,3587) gap.\n",
      "Found 0 candidate(s) in the (3587,36564) gap.\n",
      "Found 0 candidate(s) in the (36564,41106) gap.\n",
      "Found 0 candidate(s) in the (41106,42717) gap.\n",
      "Found 0 candidate(s) in the (42717,74055) gap.\n"
     ]
    },
    {
     "name": "stdout",
     "output_type": "stream",
     "text": [
      "Transit midtime in TESS time: -2035.4248700002208\n",
      "No flares found in LC.\n",
      "Wrote out LC to /home/ekaterina/Documents/001_science/lcs/2022_08_02_377780790_53_altai_0.fits.\n",
      "Get TESS Sector/Quarter 14, TIC 377780790, Kepler-10, short cadence.\n"
     ]
    },
    {
     "name": "stderr",
     "output_type": "stream",
     "text": [
      "/home/ekaterina/Documents/000_envs/python37/lib/python3.7/site-packages/lightkurve/io/tess.py:34: ResourceWarning: unclosed file <_io.FileIO name='/home/ekaterina/Documents/001_science/lcs/mastDownload/TESS/tess2019198215352-s0014-0000000377780790-0150-s/tess2019198215352-s0014-0000000377780790-0150-s_lc.fits' mode='rb' closefd=True>\n",
      "  lc = read_generic_lightcurve(filename, flux_column=flux_column, time_format=\"btjd\")\n",
      "1% (230/18654) of the cadences will be ignored due to the quality mask (quality_bitmask=175).\n",
      "1% (230/18654) of the cadences will be ignored due to the quality mask (quality_bitmask=175).\n"
     ]
    },
    {
     "name": "stdout",
     "output_type": "stream",
     "text": [
      "date: 2022_08_02\n",
      "LC successfully detrended.\n"
     ]
    },
    {
     "name": "stderr",
     "output_type": "stream",
     "text": [
      "/home/ekaterina/Documents/000_envs/python37/lib/python3.7/site-packages/numpy/lib/nanfunctions.py:1117: RuntimeWarning: Mean of empty slice\n",
      "  return np.nanmean(a, axis, out=out, keepdims=keepdims)\n",
      "Found 0 candidate(s) in the (0,9245) gap.\n",
      "Found 0 candidate(s) in the (9245,17292) gap.\n",
      "Found 0 candidate(s) in the (17292,18108) gap.\n",
      "/home/ekaterina/Documents/000_envs/python37/lib/python3.7/site-packages/ipykernel_launcher.py:88: LightkurveDeprecationWarning: The search_lightcurvefile function is deprecated and may be removed in a future version.\n",
      "        Use search_lightcurve() instead.\n"
     ]
    },
    {
     "name": "stdout",
     "output_type": "stream",
     "text": [
      "Transit midtime in TESS time: -2035.4248700002208\n",
      "No flares found in LC.\n",
      "Wrote out LC to /home/ekaterina/Documents/001_science/lcs/2022_08_02_377780790_14_altai_0.fits.\n",
      "\n",
      "---------------------\n",
      "9 flares found!\n",
      "-------------------\n",
      "\n",
      "(0, 0)\n",
      "Get TESS Sector/Quarter 40, TIC 377781254, Kepler-1479, short cadence.\n"
     ]
    },
    {
     "name": "stderr",
     "output_type": "stream",
     "text": [
      "/home/ekaterina/Documents/000_envs/python37/lib/python3.7/site-packages/lightkurve/io/tess.py:34: ResourceWarning: unclosed file <_io.FileIO name='/home/ekaterina/Documents/001_science/lcs/mastDownload/TESS/tess2021175071901-s0040-0000000377781254-0211-s/tess2021175071901-s0040-0000000377781254-0211-s_lc.fits' mode='rb' closefd=True>\n",
      "  lc = read_generic_lightcurve(filename, flux_column=flux_column, time_format=\"btjd\")\n",
      "0% (32/19643) of the cadences will be ignored due to the quality mask (quality_bitmask=175).\n",
      "0% (32/19643) of the cadences will be ignored due to the quality mask (quality_bitmask=175).\n"
     ]
    },
    {
     "name": "stdout",
     "output_type": "stream",
     "text": [
      "date: 2022_08_02\n",
      "LC successfully detrended.\n"
     ]
    },
    {
     "name": "stderr",
     "output_type": "stream",
     "text": [
      "/home/ekaterina/Documents/000_envs/python37/lib/python3.7/site-packages/numpy/lib/nanfunctions.py:1117: RuntimeWarning: Mean of empty slice\n",
      "  return np.nanmean(a, axis, out=out, keepdims=keepdims)\n",
      "Found 0 candidate(s) in the (0,9882) gap.\n",
      "Found 0 candidate(s) in the (9882,19611) gap.\n"
     ]
    },
    {
     "name": "stdout",
     "output_type": "stream",
     "text": [
      "Transit midtime in TESS time: -2026.5321599999443\n",
      "No flares found in LC.\n",
      "Wrote out LC to /home/ekaterina/Documents/001_science/lcs/2022_08_02_377781254_40_altai_0.fits.\n",
      "Get TESS Sector/Quarter 41, TIC 377781254, Kepler-1479, short cadence.\n"
     ]
    },
    {
     "name": "stderr",
     "output_type": "stream",
     "text": [
      "/home/ekaterina/Documents/000_envs/python37/lib/python3.7/site-packages/lightkurve/io/tess.py:34: ResourceWarning: unclosed file <_io.FileIO name='/home/ekaterina/Documents/001_science/lcs/mastDownload/TESS/tess2021204101404-s0041-0000000377781254-0212-s/tess2021204101404-s0041-0000000377781254-0212-s_lc.fits' mode='rb' closefd=True>\n",
      "  lc = read_generic_lightcurve(filename, flux_column=flux_column, time_format=\"btjd\")\n",
      "0% (26/18348) of the cadences will be ignored due to the quality mask (quality_bitmask=175).\n",
      "0% (26/18348) of the cadences will be ignored due to the quality mask (quality_bitmask=175).\n"
     ]
    },
    {
     "name": "stdout",
     "output_type": "stream",
     "text": [
      "date: 2022_08_02\n",
      "LC successfully detrended.\n"
     ]
    },
    {
     "name": "stderr",
     "output_type": "stream",
     "text": [
      "/home/ekaterina/Documents/000_envs/python37/lib/python3.7/site-packages/numpy/lib/nanfunctions.py:1117: RuntimeWarning: Mean of empty slice\n",
      "  return np.nanmean(a, axis, out=out, keepdims=keepdims)\n",
      "Found 0 candidate(s) in the (0,9071) gap.\n",
      "Found 0 candidate(s) in the (9071,18322) gap.\n"
     ]
    },
    {
     "name": "stdout",
     "output_type": "stream",
     "text": [
      "Transit midtime in TESS time: -2026.5321599999443\n",
      "No flares found in LC.\n",
      "Wrote out LC to /home/ekaterina/Documents/001_science/lcs/2022_08_02_377781254_41_altai_0.fits.\n",
      "Get TESS Sector/Quarter 53, TIC 377781254, Kepler-1479, short cadence.\n"
     ]
    },
    {
     "name": "stderr",
     "output_type": "stream",
     "text": [
      "/home/ekaterina/Documents/000_envs/python37/lib/python3.7/site-packages/lightkurve/io/tess.py:34: ResourceWarning: unclosed file <_io.FileIO name='/home/ekaterina/Documents/001_science/lcs/mastDownload/TESS/tess2022164095748-s0053-0000000377781254-0226-s/tess2022164095748-s0053-0000000377781254-0226-s_lc.fits' mode='rb' closefd=True>\n",
      "  lc = read_generic_lightcurve(filename, flux_column=flux_column, time_format=\"btjd\")\n",
      "0% (30/17336) of the cadences will be ignored due to the quality mask (quality_bitmask=175).\n",
      "0% (30/17336) of the cadences will be ignored due to the quality mask (quality_bitmask=175).\n"
     ]
    },
    {
     "name": "stdout",
     "output_type": "stream",
     "text": [
      "date: 2022_08_02\n",
      "LC successfully detrended.\n"
     ]
    },
    {
     "name": "stderr",
     "output_type": "stream",
     "text": [
      "/home/ekaterina/Documents/000_envs/python37/lib/python3.7/site-packages/numpy/lib/nanfunctions.py:1117: RuntimeWarning: Mean of empty slice\n",
      "  return np.nanmean(a, axis, out=out, keepdims=keepdims)\n",
      "Found 0 candidate(s) in the (0,579) gap.\n",
      "Found 0 candidate(s) in the (579,6094) gap.\n",
      "Found 0 candidate(s) in the (6094,6842) gap.\n",
      "Found 0 candidate(s) in the (6842,12534) gap.\n",
      "/home/ekaterina/Documents/000_envs/python37/lib/python3.7/site-packages/ipykernel_launcher.py:88: LightkurveDeprecationWarning: The search_lightcurvefile function is deprecated and may be removed in a future version.\n",
      "        Use search_lightcurve() instead.\n"
     ]
    },
    {
     "name": "stdout",
     "output_type": "stream",
     "text": [
      "Transit midtime in TESS time: -2026.5321599999443\n",
      "No flares found in LC.\n",
      "Wrote out LC to /home/ekaterina/Documents/001_science/lcs/2022_08_02_377781254_53_altai_0.fits.\n",
      "\n",
      "---------------------\n",
      "0 flares found!\n",
      "-------------------\n",
      "\n",
      "(0, 0)\n"
     ]
    },
    {
     "name": "stderr",
     "output_type": "stream",
     "text": [
      "Could not resolve Kepler-1673 to a sky position.\n",
      "Could not resolve Kepler-1673 to a sky position.\n",
      "/home/ekaterina/Documents/000_envs/python37/lib/python3.7/site-packages/ipykernel_launcher.py:93: LightkurveDeprecationWarning: The search_lightcurvefile function is deprecated and may be removed in a future version.\n",
      "        Use search_lightcurve() instead.\n"
     ]
    },
    {
     "name": "stdout",
     "output_type": "stream",
     "text": [
      "Get TESS Sector/Quarter 40, TIC 377782148, Kepler-1673, short cadence.\n"
     ]
    },
    {
     "name": "stderr",
     "output_type": "stream",
     "text": [
      "/home/ekaterina/Documents/000_envs/python37/lib/python3.7/site-packages/lightkurve/io/tess.py:34: ResourceWarning: unclosed file <_io.FileIO name='/home/ekaterina/Documents/001_science/lcs/mastDownload/TESS/tess2021175071901-s0040-0000000377782148-0211-s/tess2021175071901-s0040-0000000377782148-0211-s_lc.fits' mode='rb' closefd=True>\n",
      "  lc = read_generic_lightcurve(filename, flux_column=flux_column, time_format=\"btjd\")\n",
      "0% (32/19643) of the cadences will be ignored due to the quality mask (quality_bitmask=175).\n",
      "0% (32/19643) of the cadences will be ignored due to the quality mask (quality_bitmask=175).\n"
     ]
    },
    {
     "name": "stdout",
     "output_type": "stream",
     "text": [
      "date: 2022_08_02\n",
      "LC successfully detrended.\n"
     ]
    },
    {
     "name": "stderr",
     "output_type": "stream",
     "text": [
      "/home/ekaterina/Documents/000_envs/python37/lib/python3.7/site-packages/numpy/lib/nanfunctions.py:1117: RuntimeWarning: Mean of empty slice\n",
      "  return np.nanmean(a, axis, out=out, keepdims=keepdims)\n",
      "Found 0 candidate(s) in the (0,9882) gap.\n",
      "Found 0 candidate(s) in the (9882,19611) gap.\n"
     ]
    },
    {
     "name": "stdout",
     "output_type": "stream",
     "text": [
      "Transit midtime in TESS time: -2013.34505000012\n",
      "No flares found in LC.\n",
      "Wrote out LC to /home/ekaterina/Documents/001_science/lcs/2022_08_02_377782148_40_altai_0.fits.\n",
      "Get TESS Sector/Quarter 41, TIC 377782148, Kepler-1673, short cadence.\n"
     ]
    },
    {
     "name": "stderr",
     "output_type": "stream",
     "text": [
      "/home/ekaterina/Documents/000_envs/python37/lib/python3.7/site-packages/lightkurve/io/tess.py:34: ResourceWarning: unclosed file <_io.FileIO name='/home/ekaterina/Documents/001_science/lcs/mastDownload/TESS/tess2021204101404-s0041-0000000377782148-0212-s/tess2021204101404-s0041-0000000377782148-0212-s_lc.fits' mode='rb' closefd=True>\n",
      "  lc = read_generic_lightcurve(filename, flux_column=flux_column, time_format=\"btjd\")\n",
      "0% (26/18348) of the cadences will be ignored due to the quality mask (quality_bitmask=175).\n",
      "0% (26/18348) of the cadences will be ignored due to the quality mask (quality_bitmask=175).\n"
     ]
    },
    {
     "name": "stdout",
     "output_type": "stream",
     "text": [
      "date: 2022_08_02\n",
      "LC successfully detrended.\n"
     ]
    },
    {
     "name": "stderr",
     "output_type": "stream",
     "text": [
      "/home/ekaterina/Documents/000_envs/python37/lib/python3.7/site-packages/numpy/lib/nanfunctions.py:1117: RuntimeWarning: Mean of empty slice\n",
      "  return np.nanmean(a, axis, out=out, keepdims=keepdims)\n",
      "Found 0 candidate(s) in the (0,9071) gap.\n",
      "Found 0 candidate(s) in the (9071,18322) gap.\n"
     ]
    },
    {
     "name": "stdout",
     "output_type": "stream",
     "text": [
      "Transit midtime in TESS time: -2013.34505000012\n",
      "No flares found in LC.\n",
      "Wrote out LC to /home/ekaterina/Documents/001_science/lcs/2022_08_02_377782148_41_altai_0.fits.\n",
      "Get TESS Sector/Quarter 53, TIC 377782148, Kepler-1673, short cadence.\n"
     ]
    },
    {
     "name": "stderr",
     "output_type": "stream",
     "text": [
      "/home/ekaterina/Documents/000_envs/python37/lib/python3.7/site-packages/lightkurve/io/tess.py:34: ResourceWarning: unclosed file <_io.FileIO name='/home/ekaterina/Documents/001_science/lcs/mastDownload/TESS/tess2022164095748-s0053-0000000377782148-0226-s/tess2022164095748-s0053-0000000377782148-0226-s_lc.fits' mode='rb' closefd=True>\n",
      "  lc = read_generic_lightcurve(filename, flux_column=flux_column, time_format=\"btjd\")\n",
      "0% (30/17336) of the cadences will be ignored due to the quality mask (quality_bitmask=175).\n",
      "0% (30/17336) of the cadences will be ignored due to the quality mask (quality_bitmask=175).\n"
     ]
    },
    {
     "name": "stdout",
     "output_type": "stream",
     "text": [
      "date: 2022_08_02\n",
      "LC successfully detrended.\n"
     ]
    },
    {
     "name": "stderr",
     "output_type": "stream",
     "text": [
      "/home/ekaterina/Documents/000_envs/python37/lib/python3.7/site-packages/numpy/lib/nanfunctions.py:1117: RuntimeWarning: Mean of empty slice\n",
      "  return np.nanmean(a, axis, out=out, keepdims=keepdims)\n",
      "Found 0 candidate(s) in the (0,556) gap.\n",
      "Found 0 candidate(s) in the (556,6110) gap.\n",
      "Found 0 candidate(s) in the (6110,6830) gap.\n",
      "Found 0 candidate(s) in the (6830,12566) gap.\n",
      "/home/ekaterina/Documents/000_envs/python37/lib/python3.7/site-packages/ipykernel_launcher.py:88: LightkurveDeprecationWarning: The search_lightcurvefile function is deprecated and may be removed in a future version.\n",
      "        Use search_lightcurve() instead.\n"
     ]
    },
    {
     "name": "stdout",
     "output_type": "stream",
     "text": [
      "Transit midtime in TESS time: -2013.34505000012\n",
      "No flares found in LC.\n",
      "Wrote out LC to /home/ekaterina/Documents/001_science/lcs/2022_08_02_377782148_53_altai_0.fits.\n",
      "\n",
      "---------------------\n",
      "0 flares found!\n",
      "-------------------\n",
      "\n",
      "(0, 0)\n"
     ]
    },
    {
     "name": "stderr",
     "output_type": "stream",
     "text": [
      "/home/ekaterina/Documents/000_envs/python37/lib/python3.7/site-packages/ipykernel_launcher.py:88: LightkurveDeprecationWarning: The search_lightcurvefile function is deprecated and may be removed in a future version.\n",
      "        Use search_lightcurve() instead.\n"
     ]
    },
    {
     "name": "stdout",
     "output_type": "stream",
     "text": [
      "Get Kepler Sector/Quarter 15, TIC 377782363, Kepler-230, short cadence.\n"
     ]
    },
    {
     "name": "stderr",
     "output_type": "stream",
     "text": [
      "/home/ekaterina/Documents/000_envs/python37/lib/python3.7/site-packages/lightkurve/io/kepler.py:38: ResourceWarning: unclosed file <_io.FileIO name='/home/ekaterina/Documents/001_science/lcs/mastDownload/Kepler/kplr011018648_sc_Q000000000000000302/kplr011018648-2012310112549_slc.fits' mode='rb' closefd=True>\n",
      "  time_format=\"bkjd\",\n",
      "1% (334/45270) of the cadences will be ignored due to the quality mask (quality_bitmask=1130799).\n",
      "1% (334/45270) of the cadences will be ignored due to the quality mask (quality_bitmask=1130799).\n",
      "/home/ekaterina/Documents/000_envs/python37/lib/python3.7/site-packages/lightkurve/io/kepler.py:38: ResourceWarning: unclosed file <_io.FileIO name='/home/ekaterina/Documents/001_science/lcs/mastDownload/Kepler/kplr011018648_sc_Q000000000000000302/kplr011018648-2012341132017_slc.fits' mode='rb' closefd=True>\n",
      "  time_format=\"bkjd\",\n",
      "1% (366/38310) of the cadences will be ignored due to the quality mask (quality_bitmask=1130799).\n",
      "1% (366/38310) of the cadences will be ignored due to the quality mask (quality_bitmask=1130799).\n",
      "/home/ekaterina/Documents/000_envs/python37/lib/python3.7/site-packages/lightkurve/io/kepler.py:38: ResourceWarning: unclosed file <_io.FileIO name='/home/ekaterina/Documents/001_science/lcs/mastDownload/Kepler/kplr011018648_sc_Q000000000000000302/kplr011018648-2013011073258_slc.fits' mode='rb' closefd=True>\n",
      "  time_format=\"bkjd\",\n",
      "0% (198/51270) of the cadences will be ignored due to the quality mask (quality_bitmask=1130799).\n",
      "0% (198/51270) of the cadences will be ignored due to the quality mask (quality_bitmask=1130799).\n"
     ]
    },
    {
     "name": "stdout",
     "output_type": "stream",
     "text": [
      "3 LCs found for Kepler, Kepler-230, Quarter 15.\n",
      "date: 2022_08_02\n",
      "LC successfully detrended.\n"
     ]
    },
    {
     "name": "stderr",
     "output_type": "stream",
     "text": [
      "Found 0 candidate(s) in the (0,44875) gap.\n"
     ]
    },
    {
     "name": "stdout",
     "output_type": "stream",
     "text": [
      "Transit midtime in Kepler time: 194.13742000004277\n",
      "No flares found in LC.\n",
      "Wrote out LC to /home/ekaterina/Documents/001_science/lcs/2022_08_02_Kepler-230_15_altai_0.fits.\n",
      "date: 2022_08_02\n",
      "LC successfully detrended.\n"
     ]
    },
    {
     "name": "stderr",
     "output_type": "stream",
     "text": [
      "/home/ekaterina/Documents/000_envs/python37/lib/python3.7/site-packages/numpy/lib/nanfunctions.py:1117: RuntimeWarning: Mean of empty slice\n",
      "  return np.nanmean(a, axis, out=out, keepdims=keepdims)\n",
      "Found 0 candidate(s) in the (0,10870) gap.\n",
      "Found 0 candidate(s) in the (10870,35655) gap.\n"
     ]
    },
    {
     "name": "stdout",
     "output_type": "stream",
     "text": [
      "Transit midtime in Kepler time: 194.13742000004277\n",
      "No flares found in LC.\n",
      "Wrote out LC to /home/ekaterina/Documents/001_science/lcs/2022_08_02_Kepler-230_15_altai_1.fits.\n",
      "date: 2022_08_02\n",
      "LC successfully detrended.\n"
     ]
    },
    {
     "name": "stderr",
     "output_type": "stream",
     "text": [
      "Found 0 candidate(s) in the (0,51068) gap.\n"
     ]
    },
    {
     "name": "stdout",
     "output_type": "stream",
     "text": [
      "Transit midtime in Kepler time: 194.13742000004277\n",
      "No flares found in LC.\n",
      "Wrote out LC to /home/ekaterina/Documents/001_science/lcs/2022_08_02_Kepler-230_15_altai_2.fits.\n",
      "Get Kepler Sector/Quarter 17, TIC 377782363, Kepler-230, short cadence.\n"
     ]
    },
    {
     "name": "stderr",
     "output_type": "stream",
     "text": [
      "/home/ekaterina/Documents/000_envs/python37/lib/python3.7/site-packages/lightkurve/io/kepler.py:38: ResourceWarning: unclosed file <_io.FileIO name='/home/ekaterina/Documents/001_science/lcs/mastDownload/Kepler/kplr011018648_sc_Q000000000000000302/kplr011018648-2013121191144_slc.fits' mode='rb' closefd=True>\n",
      "  time_format=\"bkjd\",\n",
      "1% (248/32850) of the cadences will be ignored due to the quality mask (quality_bitmask=1130799).\n",
      "1% (248/32850) of the cadences will be ignored due to the quality mask (quality_bitmask=1130799).\n",
      "/home/ekaterina/Documents/000_envs/python37/lib/python3.7/site-packages/lightkurve/io/kepler.py:38: ResourceWarning: unclosed file <_io.FileIO name='/home/ekaterina/Documents/001_science/lcs/mastDownload/Kepler/kplr011018648_sc_Q000000000000000302/kplr011018648-2013131215648_slc.fits' mode='rb' closefd=True>\n",
      "  time_format=\"bkjd\",\n",
      "0% (28/6180) of the cadences will be ignored due to the quality mask (quality_bitmask=1130799).\n",
      "0% (28/6180) of the cadences will be ignored due to the quality mask (quality_bitmask=1130799).\n"
     ]
    },
    {
     "name": "stdout",
     "output_type": "stream",
     "text": [
      "2 LCs found for Kepler, Kepler-230, Quarter 17.\n",
      "date: 2022_08_02\n",
      "LC successfully detrended.\n"
     ]
    },
    {
     "name": "stderr",
     "output_type": "stream",
     "text": [
      "/home/ekaterina/Documents/000_envs/python37/lib/python3.7/site-packages/numpy/lib/nanfunctions.py:1117: RuntimeWarning: Mean of empty slice\n",
      "  return np.nanmean(a, axis, out=out, keepdims=keepdims)\n",
      "Found 0 candidate(s) in the (0,2385) gap.\n",
      "Found 0 candidate(s) in the (2385,32600) gap.\n"
     ]
    },
    {
     "name": "stdout",
     "output_type": "stream",
     "text": [
      "Transit midtime in Kepler time: 194.13742000004277\n",
      "No flares found in LC.\n",
      "Wrote out LC to /home/ekaterina/Documents/001_science/lcs/2022_08_02_Kepler-230_17_altai_0.fits.\n",
      "date: 2022_08_02\n",
      "LC successfully detrended.\n"
     ]
    },
    {
     "name": "stderr",
     "output_type": "stream",
     "text": [
      "Found 0 candidate(s) in the (0,6151) gap.\n",
      "/home/ekaterina/Documents/000_envs/python37/lib/python3.7/site-packages/ipykernel_launcher.py:88: LightkurveDeprecationWarning: The search_lightcurvefile function is deprecated and may be removed in a future version.\n",
      "        Use search_lightcurve() instead.\n"
     ]
    },
    {
     "name": "stdout",
     "output_type": "stream",
     "text": [
      "Transit midtime in Kepler time: 194.13742000004277\n",
      "No flares found in LC.\n",
      "Wrote out LC to /home/ekaterina/Documents/001_science/lcs/2022_08_02_Kepler-230_17_altai_1.fits.\n",
      "\n",
      "---------------------\n",
      "0 flares found!\n",
      "-------------------\n",
      "\n",
      "(0, 0)\n"
     ]
    },
    {
     "name": "stderr",
     "output_type": "stream",
     "text": [
      "/home/ekaterina/Documents/000_envs/python37/lib/python3.7/site-packages/ipykernel_launcher.py:88: LightkurveDeprecationWarning: The search_lightcurvefile function is deprecated and may be removed in a future version.\n",
      "        Use search_lightcurve() instead.\n"
     ]
    },
    {
     "name": "stdout",
     "output_type": "stream",
     "text": [
      "Get Kepler Sector/Quarter 09, TIC 377871791, Kepler-418, short cadence.\n",
      "No LC found for Kepler, Kepler-418, Quarter 09.\n",
      "Get Kepler Sector/Quarter 11, TIC 377871791, Kepler-418, short cadence.\n"
     ]
    },
    {
     "name": "stderr",
     "output_type": "stream",
     "text": [
      "/home/ekaterina/Documents/000_envs/python37/lib/python3.7/site-packages/lightkurve/io/kepler.py:38: ResourceWarning: unclosed file <_io.FileIO name='/home/ekaterina/Documents/001_science/lcs/mastDownload/Kepler/kplr003247268_sc_Q000000000303010311/kplr003247268-2011303113607_slc.fits' mode='rb' closefd=True>\n",
      "  time_format=\"bkjd\",\n",
      "1% (436/45630) of the cadences will be ignored due to the quality mask (quality_bitmask=1130799).\n",
      "1% (436/45630) of the cadences will be ignored due to the quality mask (quality_bitmask=1130799).\n",
      "/home/ekaterina/Documents/000_envs/python37/lib/python3.7/site-packages/lightkurve/io/kepler.py:38: ResourceWarning: unclosed file <_io.FileIO name='/home/ekaterina/Documents/001_science/lcs/mastDownload/Kepler/kplr003247268_sc_Q000000000303010311/kplr003247268-2011334093404_slc.fits' mode='rb' closefd=True>\n",
      "  time_format=\"bkjd\",\n",
      "2% (797/44340) of the cadences will be ignored due to the quality mask (quality_bitmask=1130799).\n",
      "2% (797/44340) of the cadences will be ignored due to the quality mask (quality_bitmask=1130799).\n",
      "/home/ekaterina/Documents/000_envs/python37/lib/python3.7/site-packages/lightkurve/io/kepler.py:38: ResourceWarning: unclosed file <_io.FileIO name='/home/ekaterina/Documents/001_science/lcs/mastDownload/Kepler/kplr003247268_sc_Q000000000303010311/kplr003247268-2012004120508_slc.fits' mode='rb' closefd=True>\n",
      "  time_format=\"bkjd\",\n",
      "1% (518/46830) of the cadences will be ignored due to the quality mask (quality_bitmask=1130799).\n",
      "1% (518/46830) of the cadences will be ignored due to the quality mask (quality_bitmask=1130799).\n"
     ]
    },
    {
     "name": "stdout",
     "output_type": "stream",
     "text": [
      "3 LCs found for Kepler, Kepler-418, Quarter 11.\n",
      "date: 2022_08_02\n",
      "LC successfully detrended.\n"
     ]
    },
    {
     "name": "stderr",
     "output_type": "stream",
     "text": [
      "Found 0 candidate(s) in the (0,45186) gap.\n"
     ]
    },
    {
     "name": "stdout",
     "output_type": "stream",
     "text": [
      "Transit midtime in Kepler time: 140.32109500002116\n",
      "No flares found in LC.\n",
      "Wrote out LC to /home/ekaterina/Documents/001_science/lcs/2022_08_02_Kepler-418_11_altai_0.fits.\n",
      "date: 2022_08_02\n",
      "LC successfully detrended.\n"
     ]
    },
    {
     "name": "stderr",
     "output_type": "stream",
     "text": [
      "Found 0 candidate(s) in the (0,43543) gap.\n"
     ]
    },
    {
     "name": "stdout",
     "output_type": "stream",
     "text": [
      "Transit midtime in Kepler time: 140.32109500002116\n",
      "No flares found in LC.\n",
      "Wrote out LC to /home/ekaterina/Documents/001_science/lcs/2022_08_02_Kepler-418_11_altai_1.fits.\n",
      "date: 2022_08_02\n",
      "LC successfully detrended.\n"
     ]
    },
    {
     "name": "stderr",
     "output_type": "stream",
     "text": [
      "/home/ekaterina/Documents/000_envs/python37/lib/python3.7/site-packages/numpy/lib/nanfunctions.py:1117: RuntimeWarning: Mean of empty slice\n",
      "  return np.nanmean(a, axis, out=out, keepdims=keepdims)\n",
      "Found 0 candidate(s) in the (0,8640) gap.\n",
      "Found 0 candidate(s) in the (8640,46311) gap.\n"
     ]
    },
    {
     "name": "stdout",
     "output_type": "stream",
     "text": [
      "Transit midtime in Kepler time: 140.32109500002116\n",
      "No flares found in LC.\n",
      "Wrote out LC to /home/ekaterina/Documents/001_science/lcs/2022_08_02_Kepler-418_11_altai_2.fits.\n",
      "Get Kepler Sector/Quarter 13, TIC 377871791, Kepler-418, short cadence.\n"
     ]
    },
    {
     "name": "stderr",
     "output_type": "stream",
     "text": [
      "/home/ekaterina/Documents/000_envs/python37/lib/python3.7/site-packages/lightkurve/io/kepler.py:38: ResourceWarning: unclosed file <_io.FileIO name='/home/ekaterina/Documents/001_science/lcs/mastDownload/Kepler/kplr003247268_sc_Q000000000303010311/kplr003247268-2012151031540_slc.fits' mode='rb' closefd=True>\n",
      "  time_format=\"bkjd\",\n",
      "1% (448/42930) of the cadences will be ignored due to the quality mask (quality_bitmask=1130799).\n",
      "1% (448/42930) of the cadences will be ignored due to the quality mask (quality_bitmask=1130799).\n"
     ]
    },
    {
     "name": "stdout",
     "output_type": "stream",
     "text": [
      "1 LC found for Kepler, Kepler-418, Quarter 13.\n",
      "date: 2022_08_02\n",
      "LC successfully detrended.\n"
     ]
    },
    {
     "name": "stderr",
     "output_type": "stream",
     "text": [
      "Found 0 candidate(s) in the (0,42289) gap.\n"
     ]
    },
    {
     "name": "stdout",
     "output_type": "stream",
     "text": [
      "Transit midtime in Kepler time: 140.32109500002116\n",
      "No flares found in LC.\n",
      "Wrote out LC to /home/ekaterina/Documents/001_science/lcs/2022_08_02_Kepler-418_13_altai_0.fits.\n",
      "Get Kepler Sector/Quarter 15, TIC 377871791, Kepler-418, short cadence.\n"
     ]
    },
    {
     "name": "stderr",
     "output_type": "stream",
     "text": [
      "/home/ekaterina/Documents/000_envs/python37/lib/python3.7/site-packages/lightkurve/io/kepler.py:38: ResourceWarning: unclosed file <_io.FileIO name='/home/ekaterina/Documents/001_science/lcs/mastDownload/Kepler/kplr003247268_sc_Q000000000303010311/kplr003247268-2012310112549_slc.fits' mode='rb' closefd=True>\n",
      "  time_format=\"bkjd\",\n",
      "1% (334/45270) of the cadences will be ignored due to the quality mask (quality_bitmask=1130799).\n",
      "1% (334/45270) of the cadences will be ignored due to the quality mask (quality_bitmask=1130799).\n",
      "/home/ekaterina/Documents/000_envs/python37/lib/python3.7/site-packages/lightkurve/io/kepler.py:38: ResourceWarning: unclosed file <_io.FileIO name='/home/ekaterina/Documents/001_science/lcs/mastDownload/Kepler/kplr003247268_sc_Q000000000303010311/kplr003247268-2012341132017_slc.fits' mode='rb' closefd=True>\n",
      "  time_format=\"bkjd\",\n",
      "1% (366/38310) of the cadences will be ignored due to the quality mask (quality_bitmask=1130799).\n",
      "1% (366/38310) of the cadences will be ignored due to the quality mask (quality_bitmask=1130799).\n",
      "/home/ekaterina/Documents/000_envs/python37/lib/python3.7/site-packages/lightkurve/io/kepler.py:38: ResourceWarning: unclosed file <_io.FileIO name='/home/ekaterina/Documents/001_science/lcs/mastDownload/Kepler/kplr003247268_sc_Q000000000303010311/kplr003247268-2013011073258_slc.fits' mode='rb' closefd=True>\n",
      "  time_format=\"bkjd\",\n",
      "0% (198/51270) of the cadences will be ignored due to the quality mask (quality_bitmask=1130799).\n",
      "0% (198/51270) of the cadences will be ignored due to the quality mask (quality_bitmask=1130799).\n"
     ]
    },
    {
     "name": "stdout",
     "output_type": "stream",
     "text": [
      "3 LCs found for Kepler, Kepler-418, Quarter 15.\n",
      "date: 2022_08_02\n",
      "LC successfully detrended.\n"
     ]
    },
    {
     "name": "stderr",
     "output_type": "stream",
     "text": [
      "Found 0 candidate(s) in the (0,44875) gap.\n"
     ]
    },
    {
     "name": "stdout",
     "output_type": "stream",
     "text": [
      "Transit midtime in Kepler time: 140.32109500002116\n",
      "No flares found in LC.\n",
      "Wrote out LC to /home/ekaterina/Documents/001_science/lcs/2022_08_02_Kepler-418_15_altai_0.fits.\n",
      "date: 2022_08_02\n",
      "LC successfully detrended.\n"
     ]
    },
    {
     "name": "stderr",
     "output_type": "stream",
     "text": [
      "/home/ekaterina/Documents/000_envs/python37/lib/python3.7/site-packages/numpy/lib/nanfunctions.py:1117: RuntimeWarning: Mean of empty slice\n",
      "  return np.nanmean(a, axis, out=out, keepdims=keepdims)\n",
      "Found 0 candidate(s) in the (0,10870) gap.\n",
      "Found 0 candidate(s) in the (10870,35656) gap.\n"
     ]
    },
    {
     "name": "stdout",
     "output_type": "stream",
     "text": [
      "Transit midtime in Kepler time: 140.32109500002116\n",
      "No flares found in LC.\n",
      "Wrote out LC to /home/ekaterina/Documents/001_science/lcs/2022_08_02_Kepler-418_15_altai_1.fits.\n",
      "date: 2022_08_02\n",
      "LC successfully detrended.\n"
     ]
    },
    {
     "name": "stderr",
     "output_type": "stream",
     "text": [
      "Found 0 candidate(s) in the (0,51070) gap.\n"
     ]
    },
    {
     "name": "stdout",
     "output_type": "stream",
     "text": [
      "Transit midtime in Kepler time: 140.32109500002116\n",
      "No flares found in LC.\n",
      "Wrote out LC to /home/ekaterina/Documents/001_science/lcs/2022_08_02_Kepler-418_15_altai_2.fits.\n",
      "Get Kepler Sector/Quarter 16, TIC 377871791, Kepler-418, short cadence.\n"
     ]
    },
    {
     "name": "stderr",
     "output_type": "stream",
     "text": [
      "/home/ekaterina/Documents/000_envs/python37/lib/python3.7/site-packages/lightkurve/io/kepler.py:38: ResourceWarning: unclosed file <_io.FileIO name='/home/ekaterina/Documents/001_science/lcs/mastDownload/Kepler/kplr003247268_sc_Q000000000303010311/kplr003247268-2013017113907_slc.fits' mode='rb' closefd=True>\n",
      "  time_format=\"bkjd\",\n",
      "1% (58/7680) of the cadences will be ignored due to the quality mask (quality_bitmask=1130799).\n",
      "1% (58/7680) of the cadences will be ignored due to the quality mask (quality_bitmask=1130799).\n"
     ]
    },
    {
     "name": "stdout",
     "output_type": "stream",
     "text": [
      "1 LC found for Kepler, Kepler-418, Quarter 16.\n",
      "date: 2022_08_02\n",
      "LC successfully detrended.\n"
     ]
    },
    {
     "name": "stderr",
     "output_type": "stream",
     "text": [
      "Found 0 candidate(s) in the (0,7622) gap.\n"
     ]
    },
    {
     "name": "stdout",
     "output_type": "stream",
     "text": [
      "Transit midtime in Kepler time: 140.32109500002116\n",
      "No flares found in LC.\n",
      "Wrote out LC to /home/ekaterina/Documents/001_science/lcs/2022_08_02_Kepler-418_16_altai_0.fits.\n",
      "Get Kepler Sector/Quarter 17, TIC 377871791, Kepler-418, short cadence.\n"
     ]
    },
    {
     "name": "stderr",
     "output_type": "stream",
     "text": [
      "/home/ekaterina/Documents/000_envs/python37/lib/python3.7/site-packages/lightkurve/io/kepler.py:38: ResourceWarning: unclosed file <_io.FileIO name='/home/ekaterina/Documents/001_science/lcs/mastDownload/Kepler/kplr003247268_sc_Q000000000303010311/kplr003247268-2013121191144_slc.fits' mode='rb' closefd=True>\n",
      "  time_format=\"bkjd\",\n",
      "1% (248/32850) of the cadences will be ignored due to the quality mask (quality_bitmask=1130799).\n",
      "1% (248/32850) of the cadences will be ignored due to the quality mask (quality_bitmask=1130799).\n"
     ]
    },
    {
     "name": "stdout",
     "output_type": "stream",
     "text": [
      "1 LC found for Kepler, Kepler-418, Quarter 17.\n",
      "date: 2022_08_02\n",
      "LC successfully detrended.\n"
     ]
    },
    {
     "name": "stderr",
     "output_type": "stream",
     "text": [
      "/home/ekaterina/Documents/000_envs/python37/lib/python3.7/site-packages/numpy/lib/nanfunctions.py:1117: RuntimeWarning: Mean of empty slice\n",
      "  return np.nanmean(a, axis, out=out, keepdims=keepdims)\n",
      "Found 0 candidate(s) in the (0,2385) gap.\n",
      "Found 0 candidate(s) in the (2385,32600) gap.\n",
      "/home/ekaterina/Documents/000_envs/python37/lib/python3.7/site-packages/ipykernel_launcher.py:88: LightkurveDeprecationWarning: The search_lightcurvefile function is deprecated and may be removed in a future version.\n",
      "        Use search_lightcurve() instead.\n"
     ]
    },
    {
     "name": "stdout",
     "output_type": "stream",
     "text": [
      "Transit midtime in Kepler time: 140.32109500002116\n",
      "No flares found in LC.\n",
      "Wrote out LC to /home/ekaterina/Documents/001_science/lcs/2022_08_02_Kepler-418_17_altai_0.fits.\n",
      "\n",
      "---------------------\n",
      "0 flares found!\n",
      "-------------------\n",
      "\n",
      "(0, 0)\n",
      "Get Kepler Sector/Quarter 02, TIC 377873569, Kepler-1658, short cadence.\n",
      "No LC found for Kepler, Kepler-1658, Quarter 02.\n",
      "Get Kepler Sector/Quarter 04, TIC 377873569, Kepler-1658, short cadence.\n",
      "No LC found for Kepler, Kepler-1658, Quarter 04.\n",
      "Get Kepler Sector/Quarter 07, TIC 377873569, Kepler-1658, short cadence.\n",
      "No LC found for Kepler, Kepler-1658, Quarter 07.\n",
      "Get Kepler Sector/Quarter 08, TIC 377873569, Kepler-1658, short cadence.\n",
      "No LC found for Kepler, Kepler-1658, Quarter 08.\n",
      "Get TESS Sector/Quarter 41, TIC 377873569, Kepler-1658, short cadence.\n"
     ]
    },
    {
     "name": "stderr",
     "output_type": "stream",
     "text": [
      "/home/ekaterina/Documents/000_envs/python37/lib/python3.7/site-packages/lightkurve/io/tess.py:34: ResourceWarning: unclosed file <_io.FileIO name='/home/ekaterina/Documents/001_science/lcs/mastDownload/TESS/tess2021204101404-s0041-0000000377873569-0212-s/tess2021204101404-s0041-0000000377873569-0212-s_lc.fits' mode='rb' closefd=True>\n",
      "  lc = read_generic_lightcurve(filename, flux_column=flux_column, time_format=\"btjd\")\n",
      "0% (26/18348) of the cadences will be ignored due to the quality mask (quality_bitmask=175).\n",
      "0% (26/18348) of the cadences will be ignored due to the quality mask (quality_bitmask=175).\n"
     ]
    },
    {
     "name": "stdout",
     "output_type": "stream",
     "text": [
      "date: 2022_08_02\n",
      "LC successfully detrended.\n"
     ]
    },
    {
     "name": "stderr",
     "output_type": "stream",
     "text": [
      "/home/ekaterina/Documents/000_envs/python37/lib/python3.7/site-packages/numpy/lib/nanfunctions.py:1117: RuntimeWarning: Mean of empty slice\n",
      "  return np.nanmean(a, axis, out=out, keepdims=keepdims)\n",
      "Found 0 candidate(s) in the (0,9071) gap.\n",
      "Found 0 candidate(s) in the (9071,18322) gap.\n",
      "/home/ekaterina/Documents/000_envs/python37/lib/python3.7/site-packages/ipykernel_launcher.py:88: LightkurveDeprecationWarning: The search_lightcurvefile function is deprecated and may be removed in a future version.\n",
      "        Use search_lightcurve() instead.\n"
     ]
    },
    {
     "name": "stdout",
     "output_type": "stream",
     "text": [
      "Transit midtime in TESS time: 2421.1395100001246\n",
      "No flares found in LC.\n",
      "Wrote out LC to /home/ekaterina/Documents/001_science/lcs/2022_08_02_377873569_41_altai_0.fits.\n",
      "\n",
      "---------------------\n",
      "0 flares found!\n",
      "-------------------\n",
      "\n",
      "(0, 0)\n"
     ]
    },
    {
     "name": "stderr",
     "output_type": "stream",
     "text": [
      "Could not resolve Kepler-1725 to a sky position.\n",
      "Could not resolve Kepler-1725 to a sky position.\n",
      "/home/ekaterina/Documents/000_envs/python37/lib/python3.7/site-packages/ipykernel_launcher.py:93: LightkurveDeprecationWarning: The search_lightcurvefile function is deprecated and may be removed in a future version.\n",
      "        Use search_lightcurve() instead.\n",
      "/home/ekaterina/Documents/000_envs/python37/lib/python3.7/site-packages/ipykernel_launcher.py:88: LightkurveDeprecationWarning: The search_lightcurvefile function is deprecated and may be removed in a future version.\n",
      "        Use search_lightcurve() instead.\n"
     ]
    },
    {
     "name": "stdout",
     "output_type": "stream",
     "text": [
      "Get Kepler Sector/Quarter 12, TIC 377909730, Kepler-304, short cadence.\n"
     ]
    },
    {
     "name": "stderr",
     "output_type": "stream",
     "text": [
      "/home/ekaterina/Documents/000_envs/python37/lib/python3.7/site-packages/lightkurve/io/kepler.py:38: ResourceWarning: unclosed file <_io.FileIO name='/home/ekaterina/Documents/001_science/lcs/mastDownload/Kepler/kplr005371776_sc_Q000000000000330312/kplr005371776-2012032013838_slc.fits' mode='rb' closefd=True>\n",
      "  time_format=\"bkjd\",\n",
      "13% (4872/38910) of the cadences will be ignored due to the quality mask (quality_bitmask=1130799).\n",
      "13% (4872/38910) of the cadences will be ignored due to the quality mask (quality_bitmask=1130799).\n",
      "/home/ekaterina/Documents/000_envs/python37/lib/python3.7/site-packages/lightkurve/io/kepler.py:38: ResourceWarning: unclosed file <_io.FileIO name='/home/ekaterina/Documents/001_science/lcs/mastDownload/Kepler/kplr005371776_sc_Q000000000000330312/kplr005371776-2012060035710_slc.fits' mode='rb' closefd=True>\n",
      "  time_format=\"bkjd\",\n",
      "1% (216/40200) of the cadences will be ignored due to the quality mask (quality_bitmask=1130799).\n",
      "1% (216/40200) of the cadences will be ignored due to the quality mask (quality_bitmask=1130799).\n",
      "/home/ekaterina/Documents/000_envs/python37/lib/python3.7/site-packages/lightkurve/io/kepler.py:38: ResourceWarning: unclosed file <_io.FileIO name='/home/ekaterina/Documents/001_science/lcs/mastDownload/Kepler/kplr005371776_sc_Q000000000000330312/kplr005371776-2012088054726_slc.fits' mode='rb' closefd=True>\n",
      "  time_format=\"bkjd\",\n",
      "17% (6893/39840) of the cadences will be ignored due to the quality mask (quality_bitmask=1130799).\n",
      "17% (6893/39840) of the cadences will be ignored due to the quality mask (quality_bitmask=1130799).\n"
     ]
    },
    {
     "name": "stdout",
     "output_type": "stream",
     "text": [
      "3 LCs found for Kepler, Kepler-304, Quarter 12.\n",
      "date: 2022_08_02\n",
      "LC successfully detrended.\n"
     ]
    },
    {
     "name": "stderr",
     "output_type": "stream",
     "text": [
      "/home/ekaterina/Documents/000_envs/python37/lib/python3.7/site-packages/numpy/lib/nanfunctions.py:1117: RuntimeWarning: Mean of empty slice\n",
      "  return np.nanmean(a, axis, out=out, keepdims=keepdims)\n",
      "Found 0 candidate(s) in the (0,25142) gap.\n",
      "Found 0 candidate(s) in the (25142,28728) gap.\n",
      "Found 0 candidate(s) in the (28728,34037) gap.\n"
     ]
    },
    {
     "name": "stdout",
     "output_type": "stream",
     "text": [
      "Transit midtime in Kepler time: 133.0685700001195\n",
      "No flares found in LC.\n",
      "Wrote out LC to /home/ekaterina/Documents/001_science/lcs/2022_08_02_Kepler-304_12_altai_0.fits.\n",
      "date: 2022_08_02\n",
      "LC successfully detrended.\n"
     ]
    },
    {
     "name": "stderr",
     "output_type": "stream",
     "text": [
      "Found 0 candidate(s) in the (0,39984) gap.\n"
     ]
    },
    {
     "name": "stdout",
     "output_type": "stream",
     "text": [
      "Transit midtime in Kepler time: 133.0685700001195\n",
      "No flares found in LC.\n",
      "Wrote out LC to /home/ekaterina/Documents/001_science/lcs/2022_08_02_Kepler-304_12_altai_1.fits.\n",
      "date: 2022_08_02\n",
      "LC successfully detrended.\n"
     ]
    },
    {
     "name": "stderr",
     "output_type": "stream",
     "text": [
      "Found 0 candidate(s) in the (0,8251) gap.\n",
      "Found 0 candidate(s) in the (8251,32946) gap.\n"
     ]
    },
    {
     "name": "stdout",
     "output_type": "stream",
     "text": [
      "Transit midtime in Kepler time: 133.0685700001195\n",
      "No flares found in LC.\n",
      "Wrote out LC to /home/ekaterina/Documents/001_science/lcs/2022_08_02_Kepler-304_12_altai_2.fits.\n",
      "Get Kepler Sector/Quarter 13, TIC 377909730, Kepler-304, short cadence.\n"
     ]
    },
    {
     "name": "stderr",
     "output_type": "stream",
     "text": [
      "/home/ekaterina/Documents/000_envs/python37/lib/python3.7/site-packages/lightkurve/io/kepler.py:38: ResourceWarning: unclosed file <_io.FileIO name='/home/ekaterina/Documents/001_science/lcs/mastDownload/Kepler/kplr005371776_sc_Q000000000000330312/kplr005371776-2012121044856_slc.fits' mode='rb' closefd=True>\n",
      "  time_format=\"bkjd\",\n",
      "1% (563/47370) of the cadences will be ignored due to the quality mask (quality_bitmask=1130799).\n",
      "1% (563/47370) of the cadences will be ignored due to the quality mask (quality_bitmask=1130799).\n",
      "/home/ekaterina/Documents/000_envs/python37/lib/python3.7/site-packages/lightkurve/io/kepler.py:38: ResourceWarning: unclosed file <_io.FileIO name='/home/ekaterina/Documents/001_science/lcs/mastDownload/Kepler/kplr005371776_sc_Q000000000000330312/kplr005371776-2012151031540_slc.fits' mode='rb' closefd=True>\n",
      "  time_format=\"bkjd\",\n",
      "1% (448/42930) of the cadences will be ignored due to the quality mask (quality_bitmask=1130799).\n",
      "1% (448/42930) of the cadences will be ignored due to the quality mask (quality_bitmask=1130799).\n",
      "/home/ekaterina/Documents/000_envs/python37/lib/python3.7/site-packages/lightkurve/io/kepler.py:38: ResourceWarning: unclosed file <_io.FileIO name='/home/ekaterina/Documents/001_science/lcs/mastDownload/Kepler/kplr005371776_sc_Q000000000000330312/kplr005371776-2012179063303_slc.fits' mode='rb' closefd=True>\n",
      "  time_format=\"bkjd\",\n",
      "2% (867/39990) of the cadences will be ignored due to the quality mask (quality_bitmask=1130799).\n",
      "2% (867/39990) of the cadences will be ignored due to the quality mask (quality_bitmask=1130799).\n"
     ]
    },
    {
     "name": "stdout",
     "output_type": "stream",
     "text": [
      "3 LCs found for Kepler, Kepler-304, Quarter 13.\n",
      "date: 2022_08_02\n",
      "LC successfully detrended.\n"
     ]
    },
    {
     "name": "stderr",
     "output_type": "stream",
     "text": [
      "Found 0 candidate(s) in the (0,46806) gap.\n"
     ]
    },
    {
     "name": "stdout",
     "output_type": "stream",
     "text": [
      "Transit midtime in Kepler time: 133.0685700001195\n",
      "No flares found in LC.\n",
      "Wrote out LC to /home/ekaterina/Documents/001_science/lcs/2022_08_02_Kepler-304_13_altai_0.fits.\n",
      "date: 2022_08_02\n",
      "LC successfully detrended.\n"
     ]
    },
    {
     "name": "stderr",
     "output_type": "stream",
     "text": [
      "Found 0 candidate(s) in the (0,42289) gap.\n"
     ]
    },
    {
     "name": "stdout",
     "output_type": "stream",
     "text": [
      "Transit midtime in Kepler time: 133.0685700001195\n",
      "No flares found in LC.\n",
      "Wrote out LC to /home/ekaterina/Documents/001_science/lcs/2022_08_02_Kepler-304_13_altai_1.fits.\n",
      "date: 2022_08_02\n",
      "LC successfully detrended.\n"
     ]
    },
    {
     "name": "stderr",
     "output_type": "stream",
     "text": [
      "/home/ekaterina/Documents/000_envs/python37/lib/python3.7/site-packages/numpy/lib/nanfunctions.py:1117: RuntimeWarning: Mean of empty slice\n",
      "  return np.nanmean(a, axis, out=out, keepdims=keepdims)\n",
      "Found 0 candidate(s) in the (0,33464) gap.\n",
      "Found 0 candidate(s) in the (33464,39121) gap.\n"
     ]
    },
    {
     "name": "stdout",
     "output_type": "stream",
     "text": [
      "Transit midtime in Kepler time: 133.0685700001195\n",
      "No flares found in LC.\n",
      "Wrote out LC to /home/ekaterina/Documents/001_science/lcs/2022_08_02_Kepler-304_13_altai_2.fits.\n",
      "Get Kepler Sector/Quarter 15, TIC 377909730, Kepler-304, short cadence.\n"
     ]
    },
    {
     "name": "stderr",
     "output_type": "stream",
     "text": [
      "/home/ekaterina/Documents/000_envs/python37/lib/python3.7/site-packages/lightkurve/io/kepler.py:38: ResourceWarning: unclosed file <_io.FileIO name='/home/ekaterina/Documents/001_science/lcs/mastDownload/Kepler/kplr005371776_sc_Q000000000000330312/kplr005371776-2012310112549_slc.fits' mode='rb' closefd=True>\n",
      "  time_format=\"bkjd\",\n",
      "1% (334/45270) of the cadences will be ignored due to the quality mask (quality_bitmask=1130799).\n",
      "1% (334/45270) of the cadences will be ignored due to the quality mask (quality_bitmask=1130799).\n",
      "/home/ekaterina/Documents/000_envs/python37/lib/python3.7/site-packages/lightkurve/io/kepler.py:38: ResourceWarning: unclosed file <_io.FileIO name='/home/ekaterina/Documents/001_science/lcs/mastDownload/Kepler/kplr005371776_sc_Q000000000000330312/kplr005371776-2012341132017_slc.fits' mode='rb' closefd=True>\n",
      "  time_format=\"bkjd\",\n",
      "1% (366/38310) of the cadences will be ignored due to the quality mask (quality_bitmask=1130799).\n",
      "1% (366/38310) of the cadences will be ignored due to the quality mask (quality_bitmask=1130799).\n",
      "/home/ekaterina/Documents/000_envs/python37/lib/python3.7/site-packages/lightkurve/io/kepler.py:38: ResourceWarning: unclosed file <_io.FileIO name='/home/ekaterina/Documents/001_science/lcs/mastDownload/Kepler/kplr005371776_sc_Q000000000000330312/kplr005371776-2013011073258_slc.fits' mode='rb' closefd=True>\n",
      "  time_format=\"bkjd\",\n",
      "0% (198/51270) of the cadences will be ignored due to the quality mask (quality_bitmask=1130799).\n",
      "0% (198/51270) of the cadences will be ignored due to the quality mask (quality_bitmask=1130799).\n"
     ]
    },
    {
     "name": "stdout",
     "output_type": "stream",
     "text": [
      "3 LCs found for Kepler, Kepler-304, Quarter 15.\n",
      "date: 2022_08_02\n",
      "LC successfully detrended.\n"
     ]
    },
    {
     "name": "stderr",
     "output_type": "stream",
     "text": [
      "Found 0 candidate(s) in the (0,44875) gap.\n"
     ]
    },
    {
     "name": "stdout",
     "output_type": "stream",
     "text": [
      "Transit midtime in Kepler time: 133.0685700001195\n",
      "No flares found in LC.\n",
      "Wrote out LC to /home/ekaterina/Documents/001_science/lcs/2022_08_02_Kepler-304_15_altai_0.fits.\n",
      "date: 2022_08_02\n",
      "LC successfully detrended.\n"
     ]
    },
    {
     "name": "stderr",
     "output_type": "stream",
     "text": [
      "/home/ekaterina/Documents/000_envs/python37/lib/python3.7/site-packages/numpy/lib/nanfunctions.py:1117: RuntimeWarning: Mean of empty slice\n",
      "  return np.nanmean(a, axis, out=out, keepdims=keepdims)\n",
      "Found 0 candidate(s) in the (0,10870) gap.\n",
      "Found 0 candidate(s) in the (10870,35655) gap.\n"
     ]
    },
    {
     "name": "stdout",
     "output_type": "stream",
     "text": [
      "Transit midtime in Kepler time: 133.0685700001195\n",
      "No flares found in LC.\n",
      "Wrote out LC to /home/ekaterina/Documents/001_science/lcs/2022_08_02_Kepler-304_15_altai_1.fits.\n",
      "date: 2022_08_02\n",
      "LC successfully detrended.\n"
     ]
    },
    {
     "name": "stderr",
     "output_type": "stream",
     "text": [
      "Found 0 candidate(s) in the (0,51069) gap.\n"
     ]
    },
    {
     "name": "stdout",
     "output_type": "stream",
     "text": [
      "Transit midtime in Kepler time: 133.0685700001195\n",
      "No flares found in LC.\n",
      "Wrote out LC to /home/ekaterina/Documents/001_science/lcs/2022_08_02_Kepler-304_15_altai_2.fits.\n",
      "Get Kepler Sector/Quarter 16, TIC 377909730, Kepler-304, short cadence.\n"
     ]
    },
    {
     "name": "stderr",
     "output_type": "stream",
     "text": [
      "/home/ekaterina/Documents/000_envs/python37/lib/python3.7/site-packages/lightkurve/io/kepler.py:38: ResourceWarning: unclosed file <_io.FileIO name='/home/ekaterina/Documents/001_science/lcs/mastDownload/Kepler/kplr005371776_sc_Q000000000000330312/kplr005371776-2013017113907_slc.fits' mode='rb' closefd=True>\n",
      "  time_format=\"bkjd\",\n",
      "1% (58/7680) of the cadences will be ignored due to the quality mask (quality_bitmask=1130799).\n",
      "1% (58/7680) of the cadences will be ignored due to the quality mask (quality_bitmask=1130799).\n"
     ]
    },
    {
     "name": "stdout",
     "output_type": "stream",
     "text": [
      "1 LC found for Kepler, Kepler-304, Quarter 16.\n",
      "date: 2022_08_02\n",
      "LC successfully detrended.\n"
     ]
    },
    {
     "name": "stderr",
     "output_type": "stream",
     "text": [
      "Found 0 candidate(s) in the (0,7621) gap.\n"
     ]
    },
    {
     "name": "stdout",
     "output_type": "stream",
     "text": [
      "Transit midtime in Kepler time: 133.0685700001195\n",
      "No flares found in LC.\n",
      "Wrote out LC to /home/ekaterina/Documents/001_science/lcs/2022_08_02_Kepler-304_16_altai_0.fits.\n",
      "Get Kepler Sector/Quarter 17, TIC 377909730, Kepler-304, short cadence.\n"
     ]
    },
    {
     "name": "stderr",
     "output_type": "stream",
     "text": [
      "/home/ekaterina/Documents/000_envs/python37/lib/python3.7/site-packages/lightkurve/io/kepler.py:38: ResourceWarning: unclosed file <_io.FileIO name='/home/ekaterina/Documents/001_science/lcs/mastDownload/Kepler/kplr005371776_sc_Q000000000000330312/kplr005371776-2013121191144_slc.fits' mode='rb' closefd=True>\n",
      "  time_format=\"bkjd\",\n",
      "1% (248/32850) of the cadences will be ignored due to the quality mask (quality_bitmask=1130799).\n",
      "1% (248/32850) of the cadences will be ignored due to the quality mask (quality_bitmask=1130799).\n",
      "/home/ekaterina/Documents/000_envs/python37/lib/python3.7/site-packages/lightkurve/io/kepler.py:38: ResourceWarning: unclosed file <_io.FileIO name='/home/ekaterina/Documents/001_science/lcs/mastDownload/Kepler/kplr005371776_sc_Q000000000000330312/kplr005371776-2013131215648_slc.fits' mode='rb' closefd=True>\n",
      "  time_format=\"bkjd\",\n",
      "0% (28/6180) of the cadences will be ignored due to the quality mask (quality_bitmask=1130799).\n",
      "0% (28/6180) of the cadences will be ignored due to the quality mask (quality_bitmask=1130799).\n"
     ]
    },
    {
     "name": "stdout",
     "output_type": "stream",
     "text": [
      "2 LCs found for Kepler, Kepler-304, Quarter 17.\n",
      "date: 2022_08_02\n",
      "LC successfully detrended.\n"
     ]
    },
    {
     "name": "stderr",
     "output_type": "stream",
     "text": [
      "/home/ekaterina/Documents/000_envs/python37/lib/python3.7/site-packages/numpy/lib/nanfunctions.py:1117: RuntimeWarning: Mean of empty slice\n",
      "  return np.nanmean(a, axis, out=out, keepdims=keepdims)\n",
      "Found 0 candidate(s) in the (0,2385) gap.\n",
      "Found 0 candidate(s) in the (2385,32600) gap.\n"
     ]
    },
    {
     "name": "stdout",
     "output_type": "stream",
     "text": [
      "Transit midtime in Kepler time: 133.0685700001195\n",
      "No flares found in LC.\n",
      "Wrote out LC to /home/ekaterina/Documents/001_science/lcs/2022_08_02_Kepler-304_17_altai_0.fits.\n",
      "date: 2022_08_02\n",
      "LC successfully detrended.\n"
     ]
    },
    {
     "name": "stderr",
     "output_type": "stream",
     "text": [
      "Found 0 candidate(s) in the (0,6151) gap.\n"
     ]
    },
    {
     "name": "stdout",
     "output_type": "stream",
     "text": [
      "Transit midtime in Kepler time: 133.0685700001195\n",
      "No flares found in LC.\n",
      "Wrote out LC to /home/ekaterina/Documents/001_science/lcs/2022_08_02_Kepler-304_17_altai_1.fits.\n",
      "Get TESS Sector/Quarter 40, TIC 377909730, Kepler-304, short cadence.\n"
     ]
    },
    {
     "name": "stderr",
     "output_type": "stream",
     "text": [
      "/home/ekaterina/Documents/000_envs/python37/lib/python3.7/site-packages/lightkurve/io/tess.py:34: ResourceWarning: unclosed file <_io.FileIO name='/home/ekaterina/Documents/001_science/lcs/mastDownload/TESS/tess2021175071901-s0040-0000000377909730-0211-s/tess2021175071901-s0040-0000000377909730-0211-s_lc.fits' mode='rb' closefd=True>\n",
      "  lc = read_generic_lightcurve(filename, flux_column=flux_column, time_format=\"btjd\")\n",
      "0% (32/19643) of the cadences will be ignored due to the quality mask (quality_bitmask=175).\n",
      "0% (32/19643) of the cadences will be ignored due to the quality mask (quality_bitmask=175).\n"
     ]
    },
    {
     "name": "stdout",
     "output_type": "stream",
     "text": [
      "date: 2022_08_02\n",
      "LC successfully detrended.\n"
     ]
    },
    {
     "name": "stderr",
     "output_type": "stream",
     "text": [
      "/home/ekaterina/Documents/000_envs/python37/lib/python3.7/site-packages/numpy/lib/nanfunctions.py:1117: RuntimeWarning: Mean of empty slice\n",
      "  return np.nanmean(a, axis, out=out, keepdims=keepdims)\n",
      "Found 0 candidate(s) in the (0,9882) gap.\n",
      "Found 0 candidate(s) in the (9882,19611) gap.\n"
     ]
    },
    {
     "name": "stdout",
     "output_type": "stream",
     "text": [
      "Transit midtime in TESS time: -2033.9314299998805\n",
      "No flares found in LC.\n",
      "Wrote out LC to /home/ekaterina/Documents/001_science/lcs/2022_08_02_377909730_40_altai_0.fits.\n",
      "Get TESS Sector/Quarter 41, TIC 377909730, Kepler-304, short cadence.\n"
     ]
    },
    {
     "name": "stderr",
     "output_type": "stream",
     "text": [
      "/home/ekaterina/Documents/000_envs/python37/lib/python3.7/site-packages/lightkurve/io/tess.py:34: ResourceWarning: unclosed file <_io.FileIO name='/home/ekaterina/Documents/001_science/lcs/mastDownload/TESS/tess2021204101404-s0041-0000000377909730-0212-s/tess2021204101404-s0041-0000000377909730-0212-s_lc.fits' mode='rb' closefd=True>\n",
      "  lc = read_generic_lightcurve(filename, flux_column=flux_column, time_format=\"btjd\")\n",
      "0% (26/18348) of the cadences will be ignored due to the quality mask (quality_bitmask=175).\n",
      "0% (26/18348) of the cadences will be ignored due to the quality mask (quality_bitmask=175).\n"
     ]
    },
    {
     "name": "stdout",
     "output_type": "stream",
     "text": [
      "date: 2022_08_02\n",
      "LC successfully detrended.\n"
     ]
    },
    {
     "name": "stderr",
     "output_type": "stream",
     "text": [
      "/home/ekaterina/Documents/000_envs/python37/lib/python3.7/site-packages/numpy/lib/nanfunctions.py:1117: RuntimeWarning: Mean of empty slice\n",
      "  return np.nanmean(a, axis, out=out, keepdims=keepdims)\n",
      "Found 0 candidate(s) in the (0,9071) gap.\n",
      "Found 0 candidate(s) in the (9071,18322) gap.\n",
      "/home/ekaterina/Documents/000_envs/python37/lib/python3.7/site-packages/ipykernel_launcher.py:88: LightkurveDeprecationWarning: The search_lightcurvefile function is deprecated and may be removed in a future version.\n",
      "        Use search_lightcurve() instead.\n"
     ]
    },
    {
     "name": "stdout",
     "output_type": "stream",
     "text": [
      "Transit midtime in TESS time: -2033.9314299998805\n",
      "No flares found in LC.\n",
      "Wrote out LC to /home/ekaterina/Documents/001_science/lcs/2022_08_02_377909730_41_altai_0.fits.\n",
      "\n",
      "---------------------\n",
      "0 flares found!\n",
      "-------------------\n",
      "\n",
      "(0, 0)\n"
     ]
    },
    {
     "name": "stderr",
     "output_type": "stream",
     "text": [
      "/home/ekaterina/Documents/000_envs/python37/lib/python3.7/site-packages/ipykernel_launcher.py:88: LightkurveDeprecationWarning: The search_lightcurvefile function is deprecated and may be removed in a future version.\n",
      "        Use search_lightcurve() instead.\n",
      "Could not resolve Kepler-1756 to a sky position.\n",
      "Could not resolve Kepler-1756 to a sky position.\n",
      "/home/ekaterina/Documents/000_envs/python37/lib/python3.7/site-packages/ipykernel_launcher.py:93: LightkurveDeprecationWarning: The search_lightcurvefile function is deprecated and may be removed in a future version.\n",
      "        Use search_lightcurve() instead.\n"
     ]
    },
    {
     "name": "stdout",
     "output_type": "stream",
     "text": [
      "Get Kepler Sector/Quarter 09, TIC 377910183, Kepler-1756, short cadence.\n"
     ]
    },
    {
     "name": "stderr",
     "output_type": "stream",
     "text": [
      "Could not resolve Kepler-1756 to a sky position.\n",
      "Could not resolve Kepler-1756 to a sky position.\n"
     ]
    },
    {
     "name": "stdout",
     "output_type": "stream",
     "text": [
      "No LC found for Kepler, Kepler-1756, Quarter 09.\n",
      "Get Kepler Sector/Quarter 11, TIC 377910183, Kepler-1756, short cadence.\n"
     ]
    },
    {
     "name": "stderr",
     "output_type": "stream",
     "text": [
      "Could not resolve Kepler-1756 to a sky position.\n",
      "Could not resolve Kepler-1756 to a sky position.\n",
      "/home/ekaterina/Documents/000_envs/python37/lib/python3.7/site-packages/ipykernel_launcher.py:88: LightkurveDeprecationWarning: The search_lightcurvefile function is deprecated and may be removed in a future version.\n",
      "        Use search_lightcurve() instead.\n"
     ]
    },
    {
     "name": "stdout",
     "output_type": "stream",
     "text": [
      "No LC found for Kepler, Kepler-1756, Quarter 11.\n",
      "\n",
      "---------------------\n",
      "0 flares found!\n",
      "-------------------\n",
      "\n",
      "(0, 0)\n"
     ]
    },
    {
     "name": "stderr",
     "output_type": "stream",
     "text": [
      "/home/ekaterina/Documents/000_envs/python37/lib/python3.7/site-packages/ipykernel_launcher.py:88: LightkurveDeprecationWarning: The search_lightcurvefile function is deprecated and may be removed in a future version.\n",
      "        Use search_lightcurve() instead.\n",
      "/home/ekaterina/Documents/000_envs/python37/lib/python3.7/site-packages/ipykernel_launcher.py:88: LightkurveDeprecationWarning: The search_lightcurvefile function is deprecated and may be removed in a future version.\n",
      "        Use search_lightcurve() instead.\n",
      "/home/ekaterina/Documents/000_envs/python37/lib/python3.7/site-packages/ipykernel_launcher.py:88: LightkurveDeprecationWarning: The search_lightcurvefile function is deprecated and may be removed in a future version.\n",
      "        Use search_lightcurve() instead.\n",
      "/home/ekaterina/Documents/000_envs/python37/lib/python3.7/site-packages/ipykernel_launcher.py:88: LightkurveDeprecationWarning: The search_lightcurvefile function is deprecated and may be removed in a future version.\n",
      "        Use search_lightcurve() instead.\n",
      "/home/ekaterina/Documents/000_envs/python37/lib/python3.7/site-packages/ipykernel_launcher.py:88: LightkurveDeprecationWarning: The search_lightcurvefile function is deprecated and may be removed in a future version.\n",
      "        Use search_lightcurve() instead.\n"
     ]
    },
    {
     "name": "stdout",
     "output_type": "stream",
     "text": [
      "Get TESS Sector/Quarter 40, TIC 378085037, Kepler-577, short cadence.\n"
     ]
    },
    {
     "name": "stderr",
     "output_type": "stream",
     "text": [
      "/home/ekaterina/Documents/000_envs/python37/lib/python3.7/site-packages/lightkurve/io/tess.py:34: ResourceWarning: unclosed file <_io.FileIO name='/home/ekaterina/Documents/001_science/lcs/mastDownload/TESS/tess2021175071901-s0040-0000000378085037-0211-s/tess2021175071901-s0040-0000000378085037-0211-s_lc.fits' mode='rb' closefd=True>\n",
      "  lc = read_generic_lightcurve(filename, flux_column=flux_column, time_format=\"btjd\")\n",
      "0% (32/19643) of the cadences will be ignored due to the quality mask (quality_bitmask=175).\n",
      "0% (32/19643) of the cadences will be ignored due to the quality mask (quality_bitmask=175).\n"
     ]
    },
    {
     "name": "stdout",
     "output_type": "stream",
     "text": [
      "date: 2022_08_02\n",
      "LC successfully detrended.\n"
     ]
    },
    {
     "name": "stderr",
     "output_type": "stream",
     "text": [
      "/home/ekaterina/Documents/000_envs/python37/lib/python3.7/site-packages/numpy/lib/nanfunctions.py:1117: RuntimeWarning: Mean of empty slice\n",
      "  return np.nanmean(a, axis, out=out, keepdims=keepdims)\n",
      "Found 0 candidate(s) in the (0,9882) gap.\n",
      "Found 0 candidate(s) in the (9882,19611) gap.\n"
     ]
    },
    {
     "name": "stdout",
     "output_type": "stream",
     "text": [
      "Transit midtime in TESS time: -1978.210409999825\n",
      "No flares found in LC.\n",
      "Wrote out LC to /home/ekaterina/Documents/001_science/lcs/2022_08_02_378085037_40_altai_0.fits.\n",
      "Get TESS Sector/Quarter 41, TIC 378085037, Kepler-577, short cadence.\n"
     ]
    },
    {
     "name": "stderr",
     "output_type": "stream",
     "text": [
      "/home/ekaterina/Documents/000_envs/python37/lib/python3.7/site-packages/lightkurve/io/tess.py:34: ResourceWarning: unclosed file <_io.FileIO name='/home/ekaterina/Documents/001_science/lcs/mastDownload/TESS/tess2021204101404-s0041-0000000378085037-0212-s/tess2021204101404-s0041-0000000378085037-0212-s_lc.fits' mode='rb' closefd=True>\n",
      "  lc = read_generic_lightcurve(filename, flux_column=flux_column, time_format=\"btjd\")\n",
      "0% (26/18348) of the cadences will be ignored due to the quality mask (quality_bitmask=175).\n",
      "0% (26/18348) of the cadences will be ignored due to the quality mask (quality_bitmask=175).\n"
     ]
    },
    {
     "name": "stdout",
     "output_type": "stream",
     "text": [
      "date: 2022_08_02\n",
      "LC successfully detrended.\n"
     ]
    },
    {
     "name": "stderr",
     "output_type": "stream",
     "text": [
      "/home/ekaterina/Documents/000_envs/python37/lib/python3.7/site-packages/numpy/lib/nanfunctions.py:1117: RuntimeWarning: Mean of empty slice\n",
      "  return np.nanmean(a, axis, out=out, keepdims=keepdims)\n",
      "Found 0 candidate(s) in the (0,6345) gap.\n",
      "Found 0 candidate(s) in the (6345,8970) gap.\n",
      "Found 0 candidate(s) in the (8970,18221) gap.\n",
      "/home/ekaterina/Documents/000_envs/python37/lib/python3.7/site-packages/ipykernel_launcher.py:88: LightkurveDeprecationWarning: The search_lightcurvefile function is deprecated and may be removed in a future version.\n",
      "        Use search_lightcurve() instead.\n"
     ]
    },
    {
     "name": "stdout",
     "output_type": "stream",
     "text": [
      "Transit midtime in TESS time: -1978.210409999825\n",
      "No flares found in LC.\n",
      "Wrote out LC to /home/ekaterina/Documents/001_science/lcs/2022_08_02_378085037_41_altai_0.fits.\n",
      "\n",
      "---------------------\n",
      "0 flares found!\n",
      "-------------------\n",
      "\n",
      "(0, 0)\n",
      "Get TESS Sector/Quarter 40, TIC 378085713, Kepler-688, short cadence.\n"
     ]
    },
    {
     "name": "stderr",
     "output_type": "stream",
     "text": [
      "/home/ekaterina/Documents/000_envs/python37/lib/python3.7/site-packages/lightkurve/io/tess.py:34: ResourceWarning: unclosed file <_io.FileIO name='/home/ekaterina/Documents/001_science/lcs/mastDownload/TESS/tess2021175071901-s0040-0000000378085713-0211-s/tess2021175071901-s0040-0000000378085713-0211-s_lc.fits' mode='rb' closefd=True>\n",
      "  lc = read_generic_lightcurve(filename, flux_column=flux_column, time_format=\"btjd\")\n",
      "0% (32/19643) of the cadences will be ignored due to the quality mask (quality_bitmask=175).\n",
      "0% (32/19643) of the cadences will be ignored due to the quality mask (quality_bitmask=175).\n"
     ]
    },
    {
     "name": "stdout",
     "output_type": "stream",
     "text": [
      "date: 2022_08_02\n",
      "LC successfully detrended.\n"
     ]
    },
    {
     "name": "stderr",
     "output_type": "stream",
     "text": [
      "/home/ekaterina/Documents/000_envs/python37/lib/python3.7/site-packages/numpy/lib/nanfunctions.py:1117: RuntimeWarning: Mean of empty slice\n",
      "  return np.nanmean(a, axis, out=out, keepdims=keepdims)\n",
      "Found 1 candidate(s) in the (0,9882) gap.\n",
      "Found 0 candidate(s) in the (9882,19611) gap.\n"
     ]
    },
    {
     "name": "stdout",
     "output_type": "stream",
     "text": [
      "Transit midtime in TESS time: -1996.4724750001915\n",
      "Flares found:\n",
      "        tstart        tstop     phase  ampl_rec       dur\n",
      "0  2391.524084  2391.528251  0.300743  0.173487  0.004167\n",
      "Wrote out LC to /home/ekaterina/Documents/001_science/lcs/2022_08_02_378085713_40_altai_0.fits.\n",
      "Get TESS Sector/Quarter 41, TIC 378085713, Kepler-688, short cadence.\n"
     ]
    },
    {
     "name": "stderr",
     "output_type": "stream",
     "text": [
      "/home/ekaterina/Documents/000_envs/python37/lib/python3.7/site-packages/lightkurve/io/tess.py:34: ResourceWarning: unclosed file <_io.FileIO name='/home/ekaterina/Documents/001_science/lcs/mastDownload/TESS/tess2021204101404-s0041-0000000378085713-0212-s/tess2021204101404-s0041-0000000378085713-0212-s_lc.fits' mode='rb' closefd=True>\n",
      "  lc = read_generic_lightcurve(filename, flux_column=flux_column, time_format=\"btjd\")\n",
      "0% (26/18348) of the cadences will be ignored due to the quality mask (quality_bitmask=175).\n",
      "0% (26/18348) of the cadences will be ignored due to the quality mask (quality_bitmask=175).\n"
     ]
    },
    {
     "name": "stdout",
     "output_type": "stream",
     "text": [
      "date: 2022_08_02\n",
      "LC successfully detrended.\n"
     ]
    },
    {
     "name": "stderr",
     "output_type": "stream",
     "text": [
      "/home/ekaterina/Documents/000_envs/python37/lib/python3.7/site-packages/numpy/lib/nanfunctions.py:1117: RuntimeWarning: Mean of empty slice\n",
      "  return np.nanmean(a, axis, out=out, keepdims=keepdims)\n",
      "Found 0 candidate(s) in the (0,9071) gap.\n",
      "Found 0 candidate(s) in the (9071,18322) gap.\n",
      "/home/ekaterina/Documents/000_envs/python37/lib/python3.7/site-packages/ipykernel_launcher.py:88: LightkurveDeprecationWarning: The search_lightcurvefile function is deprecated and may be removed in a future version.\n",
      "        Use search_lightcurve() instead.\n"
     ]
    },
    {
     "name": "stdout",
     "output_type": "stream",
     "text": [
      "Transit midtime in TESS time: -1996.4724750001915\n",
      "No flares found in LC.\n",
      "Wrote out LC to /home/ekaterina/Documents/001_science/lcs/2022_08_02_378085713_41_altai_0.fits.\n",
      "\n",
      "---------------------\n",
      "1 flares found!\n",
      "-------------------\n",
      "\n",
      "(0, 0)\n"
     ]
    },
    {
     "name": "stderr",
     "output_type": "stream",
     "text": [
      "/home/ekaterina/Documents/000_envs/python37/lib/python3.7/site-packages/ipykernel_launcher.py:88: LightkurveDeprecationWarning: The search_lightcurvefile function is deprecated and may be removed in a future version.\n",
      "        Use search_lightcurve() instead.\n",
      "/home/ekaterina/Documents/000_envs/python37/lib/python3.7/site-packages/ipykernel_launcher.py:88: LightkurveDeprecationWarning: The search_lightcurvefile function is deprecated and may be removed in a future version.\n",
      "        Use search_lightcurve() instead.\n",
      "Could not resolve Kepler-1834 to a sky position.\n",
      "Could not resolve Kepler-1834 to a sky position.\n",
      "/home/ekaterina/Documents/000_envs/python37/lib/python3.7/site-packages/ipykernel_launcher.py:93: LightkurveDeprecationWarning: The search_lightcurvefile function is deprecated and may be removed in a future version.\n",
      "        Use search_lightcurve() instead.\n",
      "/home/ekaterina/Documents/000_envs/python37/lib/python3.7/site-packages/ipykernel_launcher.py:88: LightkurveDeprecationWarning: The search_lightcurvefile function is deprecated and may be removed in a future version.\n",
      "        Use search_lightcurve() instead.\n",
      "/home/ekaterina/Documents/000_envs/python37/lib/python3.7/site-packages/ipykernel_launcher.py:88: LightkurveDeprecationWarning: The search_lightcurvefile function is deprecated and may be removed in a future version.\n",
      "        Use search_lightcurve() instead.\n",
      "/home/ekaterina/Documents/000_envs/python37/lib/python3.7/site-packages/ipykernel_launcher.py:88: LightkurveDeprecationWarning: The search_lightcurvefile function is deprecated and may be removed in a future version.\n",
      "        Use search_lightcurve() instead.\n",
      "/home/ekaterina/Documents/000_envs/python37/lib/python3.7/site-packages/ipykernel_launcher.py:88: LightkurveDeprecationWarning: The search_lightcurvefile function is deprecated and may be removed in a future version.\n",
      "        Use search_lightcurve() instead.\n"
     ]
    },
    {
     "name": "stdout",
     "output_type": "stream",
     "text": [
      "Get TESS Sector/Quarter 34, TIC 379929661, HAT-P-69, fast cadence.\n"
     ]
    },
    {
     "name": "stderr",
     "output_type": "stream",
     "text": [
      "/home/ekaterina/Documents/000_envs/python37/lib/python3.7/site-packages/lightkurve/io/tess.py:34: ResourceWarning: unclosed file <_io.FileIO name='/home/ekaterina/Documents/001_science/lcs/mastDownload/TESS/tess2021014023720-s0034-0000000379929661-0204-a_fast/tess2021014023720-s0034-0000000379929661-0204-a_fast-lc.fits' mode='rb' closefd=True>\n",
      "  lc = read_generic_lightcurve(filename, flux_column=flux_column, time_format=\"btjd\")\n",
      "0% (210/104760) of the cadences will be ignored due to the quality mask (quality_bitmask=175).\n",
      "0% (210/104760) of the cadences will be ignored due to the quality mask (quality_bitmask=175).\n"
     ]
    },
    {
     "name": "stdout",
     "output_type": "stream",
     "text": [
      "date: 2022_08_02\n",
      "LC successfully detrended.\n"
     ]
    },
    {
     "name": "stderr",
     "output_type": "stream",
     "text": [
      "/home/ekaterina/Documents/000_envs/python37/lib/python3.7/site-packages/numpy/lib/nanfunctions.py:1117: RuntimeWarning: Mean of empty slice\n",
      "  return np.nanmean(a, axis, out=out, keepdims=keepdims)\n",
      "Found 2 candidate(s) in the (0,51088) gap.\n",
      "Found 1 candidate(s) in the (51088,101275) gap.\n",
      "/home/ekaterina/Documents/000_envs/python37/lib/python3.7/site-packages/ipykernel_launcher.py:88: LightkurveDeprecationWarning: The search_lightcurvefile function is deprecated and may be removed in a future version.\n",
      "        Use search_lightcurve() instead.\n"
     ]
    },
    {
     "name": "stdout",
     "output_type": "stream",
     "text": [
      "Transit midtime in TESS time: 2242.559429000132\n",
      "Flares found:\n",
      "        tstart        tstop     phase  ampl_rec       dur\n",
      "0  2235.974537  2235.975232  0.624407  0.025341  0.000694\n",
      "1  2236.657420  2236.658114  0.767062  0.040354  0.000694\n",
      "2  2250.585962  2250.586656  0.676753  0.007044  0.000694\n",
      "Wrote out LC to /home/ekaterina/Documents/001_science/lcs/2022_08_02_379929661_34_altai_0.fits.\n",
      "\n",
      "---------------------\n",
      "3 flares found!\n",
      "-------------------\n",
      "\n",
      "(0, 0)\n",
      "Get TESS Sector/Quarter 46, TIC 380255458, K2-140, short cadence.\n"
     ]
    },
    {
     "name": "stderr",
     "output_type": "stream",
     "text": [
      "/home/ekaterina/Documents/000_envs/python37/lib/python3.7/site-packages/lightkurve/io/tess.py:34: ResourceWarning: unclosed file <_io.FileIO name='/home/ekaterina/Documents/001_science/lcs/mastDownload/TESS/tess2021336043614-s0046-0000000380255458-0217-s/tess2021336043614-s0046-0000000380255458-0217-s_lc.fits' mode='rb' closefd=True>\n",
      "  lc = read_generic_lightcurve(filename, flux_column=flux_column, time_format=\"btjd\")\n",
      "2% (387/18539) of the cadences will be ignored due to the quality mask (quality_bitmask=175).\n",
      "2% (387/18539) of the cadences will be ignored due to the quality mask (quality_bitmask=175).\n"
     ]
    },
    {
     "name": "stdout",
     "output_type": "stream",
     "text": [
      "date: 2022_08_02\n",
      "LC successfully detrended.\n"
     ]
    },
    {
     "name": "stderr",
     "output_type": "stream",
     "text": [
      "/home/ekaterina/Documents/000_envs/python37/lib/python3.7/site-packages/numpy/lib/nanfunctions.py:1117: RuntimeWarning: Mean of empty slice\n",
      "  return np.nanmean(a, axis, out=out, keepdims=keepdims)\n",
      "Found 0 candidate(s) in the (0,7691) gap.\n",
      "Found 0 candidate(s) in the (7691,15677) gap.\n",
      "/home/ekaterina/Documents/000_envs/python37/lib/python3.7/site-packages/ipykernel_launcher.py:88: LightkurveDeprecationWarning: The search_lightcurvefile function is deprecated and may be removed in a future version.\n",
      "        Use search_lightcurve() instead.\n"
     ]
    },
    {
     "name": "stdout",
     "output_type": "stream",
     "text": [
      "Transit midtime in TESS time: 588.2850900003687\n",
      "No flares found in LC.\n",
      "Wrote out LC to /home/ekaterina/Documents/001_science/lcs/2022_08_02_380255458_46_altai_0.fits.\n",
      "\n",
      "---------------------\n",
      "0 flares found!\n",
      "-------------------\n",
      "\n",
      "(0, 0)\n"
     ]
    },
    {
     "name": "stderr",
     "output_type": "stream",
     "text": [
      "/home/ekaterina/Documents/000_envs/python37/lib/python3.7/site-packages/ipykernel_launcher.py:88: LightkurveDeprecationWarning: The search_lightcurvefile function is deprecated and may be removed in a future version.\n",
      "        Use search_lightcurve() instead.\n",
      "/home/ekaterina/Documents/000_envs/python37/lib/python3.7/site-packages/ipykernel_launcher.py:88: LightkurveDeprecationWarning: The search_lightcurvefile function is deprecated and may be removed in a future version.\n",
      "        Use search_lightcurve() instead.\n"
     ]
    },
    {
     "name": "stdout",
     "output_type": "stream",
     "text": [
      "Get TESS Sector/Quarter 39, TIC 380589029, HATS-24, fast cadence.\n"
     ]
    },
    {
     "name": "stderr",
     "output_type": "stream",
     "text": [
      "/home/ekaterina/Documents/000_envs/python37/lib/python3.7/site-packages/lightkurve/io/tess.py:34: ResourceWarning: unclosed file <_io.FileIO name='/home/ekaterina/Documents/001_science/lcs/mastDownload/TESS/tess2021146024351-s0039-0000000380589029-0210-a_fast/tess2021146024351-s0039-0000000380589029-0210-a_fast-lc.fits' mode='rb' closefd=True>\n",
      "  lc = read_generic_lightcurve(filename, flux_column=flux_column, time_format=\"btjd\")\n",
      "0% (199/116462) of the cadences will be ignored due to the quality mask (quality_bitmask=175).\n",
      "0% (199/116462) of the cadences will be ignored due to the quality mask (quality_bitmask=175).\n"
     ]
    },
    {
     "name": "stdout",
     "output_type": "stream",
     "text": [
      "date: 2022_08_02\n",
      "LC successfully detrended.\n"
     ]
    },
    {
     "name": "stderr",
     "output_type": "stream",
     "text": [
      "/home/ekaterina/Documents/000_envs/python37/lib/python3.7/site-packages/numpy/lib/nanfunctions.py:1117: RuntimeWarning: Mean of empty slice\n",
      "  return np.nanmean(a, axis, out=out, keepdims=keepdims)\n",
      "Found 0 candidate(s) in the (0,56493) gap.\n",
      "Found 0 candidate(s) in the (56493,116263) gap.\n"
     ]
    },
    {
     "name": "stdout",
     "output_type": "stream",
     "text": [
      "Transit midtime in TESS time: 2388.9036980001256\n",
      "No flares found in LC.\n",
      "Wrote out LC to /home/ekaterina/Documents/001_science/lcs/2022_08_02_380589029_39_altai_0.fits.\n",
      "Get TESS Sector/Quarter 13, TIC 380589029, HATS-24, short cadence.\n"
     ]
    },
    {
     "name": "stderr",
     "output_type": "stream",
     "text": [
      "/home/ekaterina/Documents/000_envs/python37/lib/python3.7/site-packages/lightkurve/io/tess.py:34: ResourceWarning: unclosed file <_io.FileIO name='/home/ekaterina/Documents/001_science/lcs/mastDownload/TESS/tess2019169103026-s0013-0000000380589029-0146-s/tess2019169103026-s0013-0000000380589029-0146-s_lc.fits' mode='rb' closefd=True>\n",
      "  lc = read_generic_lightcurve(filename, flux_column=flux_column, time_format=\"btjd\")\n",
      "2% (370/19811) of the cadences will be ignored due to the quality mask (quality_bitmask=175).\n",
      "2% (370/19811) of the cadences will be ignored due to the quality mask (quality_bitmask=175).\n"
     ]
    },
    {
     "name": "stdout",
     "output_type": "stream",
     "text": [
      "date: 2022_08_02\n",
      "LC successfully detrended.\n"
     ]
    },
    {
     "name": "stderr",
     "output_type": "stream",
     "text": [
      "/home/ekaterina/Documents/000_envs/python37/lib/python3.7/site-packages/numpy/lib/nanfunctions.py:1117: RuntimeWarning: Mean of empty slice\n",
      "  return np.nanmean(a, axis, out=out, keepdims=keepdims)\n",
      "Found 0 candidate(s) in the (0,465) gap.\n",
      "Found 0 candidate(s) in the (465,9508) gap.\n",
      "Found 0 candidate(s) in the (9508,19235) gap.\n",
      "/home/ekaterina/Documents/000_envs/python37/lib/python3.7/site-packages/ipykernel_launcher.py:88: LightkurveDeprecationWarning: The search_lightcurvefile function is deprecated and may be removed in a future version.\n",
      "        Use search_lightcurve() instead.\n"
     ]
    },
    {
     "name": "stdout",
     "output_type": "stream",
     "text": [
      "Transit midtime in TESS time: 2388.9036980001256\n",
      "No flares found in LC.\n",
      "Wrote out LC to /home/ekaterina/Documents/001_science/lcs/2022_08_02_380589029_13_altai_0.fits.\n",
      "\n",
      "---------------------\n",
      "0 flares found!\n",
      "-------------------\n",
      "\n",
      "(0, 0)\n",
      "Get TESS Sector/Quarter 45, TIC 380619414, WASP-85 A, short cadence.\n"
     ]
    },
    {
     "name": "stderr",
     "output_type": "stream",
     "text": [
      "/home/ekaterina/Documents/000_envs/python37/lib/python3.7/site-packages/lightkurve/io/tess.py:34: ResourceWarning: unclosed file <_io.FileIO name='/home/ekaterina/Documents/001_science/lcs/mastDownload/TESS/tess2021310001228-s0045-0000000380619414-0216-s/tess2021310001228-s0045-0000000380619414-0216-s_lc.fits' mode='rb' closefd=True>\n",
      "  lc = read_generic_lightcurve(filename, flux_column=flux_column, time_format=\"btjd\")\n",
      "1% (186/17256) of the cadences will be ignored due to the quality mask (quality_bitmask=175).\n",
      "1% (186/17256) of the cadences will be ignored due to the quality mask (quality_bitmask=175).\n"
     ]
    },
    {
     "name": "stdout",
     "output_type": "stream",
     "text": [
      "date: 2022_08_02\n",
      "LC successfully detrended.\n"
     ]
    },
    {
     "name": "stderr",
     "output_type": "stream",
     "text": [
      "/home/ekaterina/Documents/000_envs/python37/lib/python3.7/site-packages/numpy/lib/nanfunctions.py:1117: RuntimeWarning: Mean of empty slice\n",
      "  return np.nanmean(a, axis, out=out, keepdims=keepdims)\n",
      "Found 1 candidate(s) in the (0,8254) gap.\n",
      "Found 0 candidate(s) in the (8254,16233) gap.\n"
     ]
    },
    {
     "name": "stdout",
     "output_type": "stream",
     "text": [
      "Transit midtime in TESS time: 2553.605072000064\n",
      "Flares found:\n",
      "        tstart        tstop     phase  ampl_rec       dur\n",
      "0  2537.880201  2537.884368  0.078773  0.005517  0.004167\n",
      "Wrote out LC to /home/ekaterina/Documents/001_science/lcs/2022_08_02_380619414_45_altai_0.fits.\n",
      "Get TESS Sector/Quarter 46, TIC 380619414, WASP-85 A, short cadence.\n"
     ]
    },
    {
     "name": "stderr",
     "output_type": "stream",
     "text": [
      "/home/ekaterina/Documents/000_envs/python37/lib/python3.7/site-packages/lightkurve/io/tess.py:34: ResourceWarning: unclosed file <_io.FileIO name='/home/ekaterina/Documents/001_science/lcs/mastDownload/TESS/tess2021336043614-s0046-0000000380619414-0217-s/tess2021336043614-s0046-0000000380619414-0217-s_lc.fits' mode='rb' closefd=True>\n",
      "  lc = read_generic_lightcurve(filename, flux_column=flux_column, time_format=\"btjd\")\n",
      "2% (387/18539) of the cadences will be ignored due to the quality mask (quality_bitmask=175).\n",
      "2% (387/18539) of the cadences will be ignored due to the quality mask (quality_bitmask=175).\n"
     ]
    },
    {
     "name": "stdout",
     "output_type": "stream",
     "text": [
      "date: 2022_08_02\n",
      "LC successfully detrended.\n"
     ]
    },
    {
     "name": "stderr",
     "output_type": "stream",
     "text": [
      "/home/ekaterina/Documents/000_envs/python37/lib/python3.7/site-packages/numpy/lib/nanfunctions.py:1117: RuntimeWarning: Mean of empty slice\n",
      "  return np.nanmean(a, axis, out=out, keepdims=keepdims)\n",
      "Found 0 candidate(s) in the (0,8354) gap.\n",
      "Found 0 candidate(s) in the (8354,16972) gap.\n",
      "/home/ekaterina/Documents/000_envs/python37/lib/python3.7/site-packages/ipykernel_launcher.py:88: LightkurveDeprecationWarning: The search_lightcurvefile function is deprecated and may be removed in a future version.\n",
      "        Use search_lightcurve() instead.\n"
     ]
    },
    {
     "name": "stdout",
     "output_type": "stream",
     "text": [
      "Transit midtime in TESS time: 2553.605072000064\n",
      "No flares found in LC.\n",
      "Wrote out LC to /home/ekaterina/Documents/001_science/lcs/2022_08_02_380619414_46_altai_0.fits.\n",
      "\n",
      "---------------------\n",
      "1 flares found!\n",
      "-------------------\n",
      "\n",
      "(0, 0)\n",
      "Get TESS Sector/Quarter 45, TIC 38064757, K2-5, short cadence.\n"
     ]
    },
    {
     "name": "stderr",
     "output_type": "stream",
     "text": [
      "/home/ekaterina/Documents/000_envs/python37/lib/python3.7/site-packages/lightkurve/io/tess.py:34: ResourceWarning: unclosed file <_io.FileIO name='/home/ekaterina/Documents/001_science/lcs/mastDownload/TESS/tess2021310001228-s0045-0000000038064757-0216-s/tess2021310001228-s0045-0000000038064757-0216-s_lc.fits' mode='rb' closefd=True>\n",
      "  lc = read_generic_lightcurve(filename, flux_column=flux_column, time_format=\"btjd\")\n",
      "1% (186/17256) of the cadences will be ignored due to the quality mask (quality_bitmask=175).\n",
      "1% (186/17256) of the cadences will be ignored due to the quality mask (quality_bitmask=175).\n"
     ]
    },
    {
     "name": "stdout",
     "output_type": "stream",
     "text": [
      "date: 2022_08_02\n",
      "LC successfully detrended.\n"
     ]
    },
    {
     "name": "stderr",
     "output_type": "stream",
     "text": [
      "/home/ekaterina/Documents/000_envs/python37/lib/python3.7/site-packages/numpy/lib/nanfunctions.py:1117: RuntimeWarning: Mean of empty slice\n",
      "  return np.nanmean(a, axis, out=out, keepdims=keepdims)\n",
      "Found 0 candidate(s) in the (0,8236) gap.\n",
      "Found 0 candidate(s) in the (8236,16194) gap.\n"
     ]
    },
    {
     "name": "stdout",
     "output_type": "stream",
     "text": [
      "Transit midtime in TESS time: -191.14000000013039\n",
      "No flares found in LC.\n",
      "Wrote out LC to /home/ekaterina/Documents/001_science/lcs/2022_08_02_38064757_45_altai_0.fits.\n",
      "Get TESS Sector/Quarter 46, TIC 38064757, K2-5, short cadence.\n"
     ]
    },
    {
     "name": "stderr",
     "output_type": "stream",
     "text": [
      "/home/ekaterina/Documents/000_envs/python37/lib/python3.7/site-packages/lightkurve/io/tess.py:34: ResourceWarning: unclosed file <_io.FileIO name='/home/ekaterina/Documents/001_science/lcs/mastDownload/TESS/tess2021336043614-s0046-0000000038064757-0217-s/tess2021336043614-s0046-0000000038064757-0217-s_lc.fits' mode='rb' closefd=True>\n",
      "  lc = read_generic_lightcurve(filename, flux_column=flux_column, time_format=\"btjd\")\n",
      "2% (387/18539) of the cadences will be ignored due to the quality mask (quality_bitmask=175).\n",
      "2% (387/18539) of the cadences will be ignored due to the quality mask (quality_bitmask=175).\n"
     ]
    },
    {
     "name": "stdout",
     "output_type": "stream",
     "text": [
      "date: 2022_08_02\n",
      "LC successfully detrended.\n"
     ]
    },
    {
     "name": "stderr",
     "output_type": "stream",
     "text": [
      "/home/ekaterina/Documents/000_envs/python37/lib/python3.7/site-packages/numpy/lib/nanfunctions.py:1117: RuntimeWarning: Mean of empty slice\n",
      "  return np.nanmean(a, axis, out=out, keepdims=keepdims)\n",
      "Found 0 candidate(s) in the (0,8195) gap.\n",
      "Found 0 candidate(s) in the (8195,16640) gap.\n",
      "/home/ekaterina/Documents/000_envs/python37/lib/python3.7/site-packages/ipykernel_launcher.py:88: LightkurveDeprecationWarning: The search_lightcurvefile function is deprecated and may be removed in a future version.\n",
      "        Use search_lightcurve() instead.\n"
     ]
    },
    {
     "name": "stdout",
     "output_type": "stream",
     "text": [
      "Transit midtime in TESS time: -191.14000000013039\n",
      "No flares found in LC.\n",
      "Wrote out LC to /home/ekaterina/Documents/001_science/lcs/2022_08_02_38064757_46_altai_0.fits.\n",
      "\n",
      "---------------------\n",
      "0 flares found!\n",
      "-------------------\n",
      "\n",
      "(0, 0)\n",
      "Get TESS Sector/Quarter 45, TIC 38087018, K2-45, short cadence.\n"
     ]
    },
    {
     "name": "stderr",
     "output_type": "stream",
     "text": [
      "/home/ekaterina/Documents/000_envs/python37/lib/python3.7/site-packages/lightkurve/io/tess.py:34: ResourceWarning: unclosed file <_io.FileIO name='/home/ekaterina/Documents/001_science/lcs/mastDownload/TESS/tess2021310001228-s0045-0000000038087018-0216-s/tess2021310001228-s0045-0000000038087018-0216-s_lc.fits' mode='rb' closefd=True>\n",
      "  lc = read_generic_lightcurve(filename, flux_column=flux_column, time_format=\"btjd\")\n",
      "1% (186/17256) of the cadences will be ignored due to the quality mask (quality_bitmask=175).\n",
      "1% (186/17256) of the cadences will be ignored due to the quality mask (quality_bitmask=175).\n"
     ]
    },
    {
     "name": "stdout",
     "output_type": "stream",
     "text": [
      "date: 2022_08_02\n",
      "LC successfully detrended.\n"
     ]
    },
    {
     "name": "stderr",
     "output_type": "stream",
     "text": [
      "/home/ekaterina/Documents/000_envs/python37/lib/python3.7/site-packages/numpy/lib/nanfunctions.py:1117: RuntimeWarning: Mean of empty slice\n",
      "  return np.nanmean(a, axis, out=out, keepdims=keepdims)\n",
      "Found 0 candidate(s) in the (0,8239) gap.\n",
      "Found 0 candidate(s) in the (8239,16202) gap.\n"
     ]
    },
    {
     "name": "stdout",
     "output_type": "stream",
     "text": [
      "Transit midtime in TESS time: 2552.1344380001538\n",
      "No flares found in LC.\n",
      "Wrote out LC to /home/ekaterina/Documents/001_science/lcs/2022_08_02_38087018_45_altai_0.fits.\n",
      "Get TESS Sector/Quarter 46, TIC 38087018, K2-45, short cadence.\n"
     ]
    },
    {
     "name": "stderr",
     "output_type": "stream",
     "text": [
      "/home/ekaterina/Documents/000_envs/python37/lib/python3.7/site-packages/lightkurve/io/tess.py:34: ResourceWarning: unclosed file <_io.FileIO name='/home/ekaterina/Documents/001_science/lcs/mastDownload/TESS/tess2021336043614-s0046-0000000038087018-0217-s/tess2021336043614-s0046-0000000038087018-0217-s_lc.fits' mode='rb' closefd=True>\n",
      "  lc = read_generic_lightcurve(filename, flux_column=flux_column, time_format=\"btjd\")\n",
      "2% (387/18539) of the cadences will be ignored due to the quality mask (quality_bitmask=175).\n",
      "2% (387/18539) of the cadences will be ignored due to the quality mask (quality_bitmask=175).\n"
     ]
    },
    {
     "name": "stdout",
     "output_type": "stream",
     "text": [
      "date: 2022_08_02\n",
      "LC successfully detrended.\n"
     ]
    },
    {
     "name": "stderr",
     "output_type": "stream",
     "text": [
      "/home/ekaterina/Documents/000_envs/python37/lib/python3.7/site-packages/numpy/lib/nanfunctions.py:1117: RuntimeWarning: Mean of empty slice\n",
      "  return np.nanmean(a, axis, out=out, keepdims=keepdims)\n",
      "Found 0 candidate(s) in the (0,8217) gap.\n",
      "Found 0 candidate(s) in the (8217,16687) gap.\n",
      "/home/ekaterina/Documents/000_envs/python37/lib/python3.7/site-packages/ipykernel_launcher.py:88: LightkurveDeprecationWarning: The search_lightcurvefile function is deprecated and may be removed in a future version.\n",
      "        Use search_lightcurve() instead.\n"
     ]
    },
    {
     "name": "stdout",
     "output_type": "stream",
     "text": [
      "Transit midtime in TESS time: 2552.1344380001538\n",
      "No flares found in LC.\n",
      "Wrote out LC to /home/ekaterina/Documents/001_science/lcs/2022_08_02_38087018_46_altai_0.fits.\n",
      "\n",
      "---------------------\n",
      "0 flares found!\n",
      "-------------------\n",
      "\n",
      "(0, 0)\n",
      "Get TESS Sector/Quarter 42, TIC 380884458, K2-281, short cadence.\n"
     ]
    },
    {
     "name": "stderr",
     "output_type": "stream",
     "text": [
      "/home/ekaterina/Documents/000_envs/python37/lib/python3.7/site-packages/lightkurve/io/tess.py:34: ResourceWarning: unclosed file <_io.FileIO name='/home/ekaterina/Documents/001_science/lcs/mastDownload/TESS/tess2021232031932-s0042-0000000380884458-0213-s/tess2021232031932-s0042-0000000380884458-0213-s_lc.fits' mode='rb' closefd=True>\n",
      "  lc = read_generic_lightcurve(filename, flux_column=flux_column, time_format=\"btjd\")\n",
      "2% (307/17674) of the cadences will be ignored due to the quality mask (quality_bitmask=175).\n",
      "2% (307/17674) of the cadences will be ignored due to the quality mask (quality_bitmask=175).\n"
     ]
    },
    {
     "name": "stdout",
     "output_type": "stream",
     "text": [
      "date: 2022_08_02\n",
      "LC successfully detrended.\n"
     ]
    },
    {
     "name": "stderr",
     "output_type": "stream",
     "text": [
      "/home/ekaterina/Documents/000_envs/python37/lib/python3.7/site-packages/numpy/lib/nanfunctions.py:1117: RuntimeWarning: Mean of empty slice\n",
      "  return np.nanmean(a, axis, out=out, keepdims=keepdims)\n",
      "Found 0 candidate(s) in the (0,5589) gap.\n",
      "Found 0 candidate(s) in the (5589,12943) gap.\n",
      "/home/ekaterina/Documents/000_envs/python37/lib/python3.7/site-packages/ipykernel_launcher.py:88: LightkurveDeprecationWarning: The search_lightcurvefile function is deprecated and may be removed in a future version.\n",
      "        Use search_lightcurve() instead.\n"
     ]
    },
    {
     "name": "stdout",
     "output_type": "stream",
     "text": [
      "Transit midtime in TESS time: 393.8820799998939\n",
      "No flares found in LC.\n",
      "Wrote out LC to /home/ekaterina/Documents/001_science/lcs/2022_08_02_380884458_42_altai_0.fits.\n",
      "\n",
      "---------------------\n",
      "0 flares found!\n",
      "-------------------\n",
      "\n",
      "(0, 0)\n",
      "Get TESS Sector/Quarter 42, TIC 380907135, WASP-118, short cadence.\n"
     ]
    },
    {
     "name": "stderr",
     "output_type": "stream",
     "text": [
      "/home/ekaterina/Documents/000_envs/python37/lib/python3.7/site-packages/lightkurve/io/tess.py:34: ResourceWarning: unclosed file <_io.FileIO name='/home/ekaterina/Documents/001_science/lcs/mastDownload/TESS/tess2021232031932-s0042-0000000380907135-0213-s/tess2021232031932-s0042-0000000380907135-0213-s_lc.fits' mode='rb' closefd=True>\n",
      "  lc = read_generic_lightcurve(filename, flux_column=flux_column, time_format=\"btjd\")\n",
      "2% (307/17674) of the cadences will be ignored due to the quality mask (quality_bitmask=175).\n",
      "2% (307/17674) of the cadences will be ignored due to the quality mask (quality_bitmask=175).\n"
     ]
    },
    {
     "name": "stdout",
     "output_type": "stream",
     "text": [
      "date: 2022_08_02\n",
      "LC successfully detrended.\n"
     ]
    },
    {
     "name": "stderr",
     "output_type": "stream",
     "text": [
      "/home/ekaterina/Documents/000_envs/python37/lib/python3.7/site-packages/numpy/lib/nanfunctions.py:1117: RuntimeWarning: Mean of empty slice\n",
      "  return np.nanmean(a, axis, out=out, keepdims=keepdims)\n",
      "Found 0 candidate(s) in the (0,5619) gap.\n",
      "Found 0 candidate(s) in the (5619,13054) gap.\n"
     ]
    },
    {
     "name": "stdout",
     "output_type": "stream",
     "text": [
      "Transit midtime in TESS time: 2474.392709999811\n",
      "No flares found in LC.\n",
      "Wrote out LC to /home/ekaterina/Documents/001_science/lcs/2022_08_02_380907135_42_altai_0.fits.\n",
      "Get TESS Sector/Quarter 43, TIC 380907135, WASP-118, short cadence.\n"
     ]
    },
    {
     "name": "stderr",
     "output_type": "stream",
     "text": [
      "/home/ekaterina/Documents/000_envs/python37/lib/python3.7/site-packages/lightkurve/io/tess.py:34: ResourceWarning: unclosed file <_io.FileIO name='/home/ekaterina/Documents/001_science/lcs/mastDownload/TESS/tess2021258175143-s0043-0000000380907135-0214-s/tess2021258175143-s0043-0000000380907135-0214-s_lc.fits' mode='rb' closefd=True>\n",
      "  lc = read_generic_lightcurve(filename, flux_column=flux_column, time_format=\"btjd\")\n",
      "0% (33/17050) of the cadences will be ignored due to the quality mask (quality_bitmask=175).\n",
      "0% (33/17050) of the cadences will be ignored due to the quality mask (quality_bitmask=175).\n"
     ]
    },
    {
     "name": "stdout",
     "output_type": "stream",
     "text": [
      "date: 2022_08_02\n",
      "LC successfully detrended.\n"
     ]
    },
    {
     "name": "stderr",
     "output_type": "stream",
     "text": [
      "/home/ekaterina/Documents/000_envs/python37/lib/python3.7/site-packages/numpy/lib/nanfunctions.py:1117: RuntimeWarning: Mean of empty slice\n",
      "  return np.nanmean(a, axis, out=out, keepdims=keepdims)\n",
      "Found 0 candidate(s) in the (0,5728) gap.\n",
      "Found 0 candidate(s) in the (5728,13753) gap.\n",
      "/home/ekaterina/Documents/000_envs/python37/lib/python3.7/site-packages/ipykernel_launcher.py:88: LightkurveDeprecationWarning: The search_lightcurvefile function is deprecated and may be removed in a future version.\n",
      "        Use search_lightcurve() instead.\n"
     ]
    },
    {
     "name": "stdout",
     "output_type": "stream",
     "text": [
      "Transit midtime in TESS time: 2474.392709999811\n",
      "No flares found in LC.\n",
      "Wrote out LC to /home/ekaterina/Documents/001_science/lcs/2022_08_02_380907135_43_altai_0.fits.\n",
      "\n",
      "---------------------\n",
      "0 flares found!\n",
      "-------------------\n",
      "\n",
      "(0, 0)\n",
      "Get TESS Sector/Quarter 45, TIC 38114658, K2-8, short cadence.\n"
     ]
    },
    {
     "name": "stderr",
     "output_type": "stream",
     "text": [
      "/home/ekaterina/Documents/000_envs/python37/lib/python3.7/site-packages/lightkurve/io/tess.py:34: ResourceWarning: unclosed file <_io.FileIO name='/home/ekaterina/Documents/001_science/lcs/mastDownload/TESS/tess2021310001228-s0045-0000000038114658-0216-s/tess2021310001228-s0045-0000000038114658-0216-s_lc.fits' mode='rb' closefd=True>\n",
      "  lc = read_generic_lightcurve(filename, flux_column=flux_column, time_format=\"btjd\")\n",
      "1% (186/17256) of the cadences will be ignored due to the quality mask (quality_bitmask=175).\n",
      "1% (186/17256) of the cadences will be ignored due to the quality mask (quality_bitmask=175).\n"
     ]
    },
    {
     "name": "stdout",
     "output_type": "stream",
     "text": [
      "date: 2022_08_02\n",
      "LC successfully detrended.\n"
     ]
    },
    {
     "name": "stderr",
     "output_type": "stream",
     "text": [
      "/home/ekaterina/Documents/000_envs/python37/lib/python3.7/site-packages/numpy/lib/nanfunctions.py:1117: RuntimeWarning: Mean of empty slice\n",
      "  return np.nanmean(a, axis, out=out, keepdims=keepdims)\n",
      "Found 0 candidate(s) in the (0,8234) gap.\n",
      "Found 0 candidate(s) in the (8234,16193) gap.\n"
     ]
    },
    {
     "name": "stdout",
     "output_type": "stream",
     "text": [
      "Transit midtime in TESS time: -186.92929999995977\n",
      "No flares found in LC.\n",
      "Wrote out LC to /home/ekaterina/Documents/001_science/lcs/2022_08_02_38114658_45_altai_0.fits.\n",
      "Get TESS Sector/Quarter 46, TIC 38114658, K2-8, short cadence.\n"
     ]
    },
    {
     "name": "stderr",
     "output_type": "stream",
     "text": [
      "/home/ekaterina/Documents/000_envs/python37/lib/python3.7/site-packages/lightkurve/io/tess.py:34: ResourceWarning: unclosed file <_io.FileIO name='/home/ekaterina/Documents/001_science/lcs/mastDownload/TESS/tess2021336043614-s0046-0000000038114658-0217-s/tess2021336043614-s0046-0000000038114658-0217-s_lc.fits' mode='rb' closefd=True>\n",
      "  lc = read_generic_lightcurve(filename, flux_column=flux_column, time_format=\"btjd\")\n",
      "2% (387/18539) of the cadences will be ignored due to the quality mask (quality_bitmask=175).\n",
      "2% (387/18539) of the cadences will be ignored due to the quality mask (quality_bitmask=175).\n"
     ]
    },
    {
     "name": "stdout",
     "output_type": "stream",
     "text": [
      "date: 2022_08_02\n",
      "LC successfully detrended.\n"
     ]
    },
    {
     "name": "stderr",
     "output_type": "stream",
     "text": [
      "/home/ekaterina/Documents/000_envs/python37/lib/python3.7/site-packages/numpy/lib/nanfunctions.py:1117: RuntimeWarning: Mean of empty slice\n",
      "  return np.nanmean(a, axis, out=out, keepdims=keepdims)\n",
      "Found 0 candidate(s) in the (0,8307) gap.\n",
      "Found 0 candidate(s) in the (8307,16858) gap.\n",
      "/home/ekaterina/Documents/000_envs/python37/lib/python3.7/site-packages/ipykernel_launcher.py:88: LightkurveDeprecationWarning: The search_lightcurvefile function is deprecated and may be removed in a future version.\n",
      "        Use search_lightcurve() instead.\n"
     ]
    },
    {
     "name": "stdout",
     "output_type": "stream",
     "text": [
      "Transit midtime in TESS time: -186.92929999995977\n",
      "No flares found in LC.\n",
      "Wrote out LC to /home/ekaterina/Documents/001_science/lcs/2022_08_02_38114658_46_altai_0.fits.\n",
      "\n",
      "---------------------\n",
      "0 flares found!\n",
      "-------------------\n",
      "\n",
      "(0, 0)\n"
     ]
    },
    {
     "name": "stderr",
     "output_type": "stream",
     "text": [
      "/home/ekaterina/Documents/000_envs/python37/lib/python3.7/site-packages/ipykernel_launcher.py:88: LightkurveDeprecationWarning: The search_lightcurvefile function is deprecated and may be removed in a future version.\n",
      "        Use search_lightcurve() instead.\n"
     ]
    },
    {
     "name": "stdout",
     "output_type": "stream",
     "text": [
      "Get TESS Sector/Quarter 42, TIC 38129680, K2-64, short cadence.\n"
     ]
    },
    {
     "name": "stderr",
     "output_type": "stream",
     "text": [
      "/home/ekaterina/Documents/000_envs/python37/lib/python3.7/site-packages/lightkurve/io/tess.py:34: ResourceWarning: unclosed file <_io.FileIO name='/home/ekaterina/Documents/001_science/lcs/mastDownload/TESS/tess2021232031932-s0042-0000000038129680-0213-s/tess2021232031932-s0042-0000000038129680-0213-s_lc.fits' mode='rb' closefd=True>\n",
      "  lc = read_generic_lightcurve(filename, flux_column=flux_column, time_format=\"btjd\")\n",
      "2% (307/17674) of the cadences will be ignored due to the quality mask (quality_bitmask=175).\n",
      "2% (307/17674) of the cadences will be ignored due to the quality mask (quality_bitmask=175).\n"
     ]
    },
    {
     "name": "stdout",
     "output_type": "stream",
     "text": [
      "date: 2022_08_02\n",
      "LC successfully detrended.\n"
     ]
    },
    {
     "name": "stderr",
     "output_type": "stream",
     "text": [
      "/home/ekaterina/Documents/000_envs/python37/lib/python3.7/site-packages/numpy/lib/nanfunctions.py:1117: RuntimeWarning: Mean of empty slice\n",
      "  return np.nanmean(a, axis, out=out, keepdims=keepdims)\n",
      "Found 0 candidate(s) in the (0,2963) gap.\n",
      "Found 0 candidate(s) in the (2963,9734) gap.\n",
      "/home/ekaterina/Documents/000_envs/python37/lib/python3.7/site-packages/ipykernel_launcher.py:88: LightkurveDeprecationWarning: The search_lightcurvefile function is deprecated and may be removed in a future version.\n",
      "        Use search_lightcurve() instead.\n"
     ]
    },
    {
     "name": "stdout",
     "output_type": "stream",
     "text": [
      "Transit midtime in TESS time: -13.808199999853969\n",
      "No flares found in LC.\n",
      "Wrote out LC to /home/ekaterina/Documents/001_science/lcs/2022_08_02_38129680_42_altai_0.fits.\n",
      "\n",
      "---------------------\n",
      "0 flares found!\n",
      "-------------------\n",
      "\n",
      "(0, 0)\n"
     ]
    },
    {
     "name": "stderr",
     "output_type": "stream",
     "text": [
      "Could not resolve K2-368 to a sky position.\n",
      "Could not resolve K2-368 to a sky position.\n",
      "/home/ekaterina/Documents/000_envs/python37/lib/python3.7/site-packages/ipykernel_launcher.py:93: LightkurveDeprecationWarning: The search_lightcurvefile function is deprecated and may be removed in a future version.\n",
      "        Use search_lightcurve() instead.\n",
      "/home/ekaterina/Documents/000_envs/python37/lib/python3.7/site-packages/ipykernel_launcher.py:88: LightkurveDeprecationWarning: The search_lightcurvefile function is deprecated and may be removed in a future version.\n",
      "        Use search_lightcurve() instead.\n"
     ]
    },
    {
     "name": "stdout",
     "output_type": "stream",
     "text": [
      "Get TESS Sector/Quarter 27, TIC 381856447, WASP-145 A, short cadence.\n"
     ]
    },
    {
     "name": "stderr",
     "output_type": "stream",
     "text": [
      "/home/ekaterina/Documents/000_envs/python37/lib/python3.7/site-packages/lightkurve/io/tess.py:34: ResourceWarning: unclosed file <_io.FileIO name='/home/ekaterina/Documents/001_science/lcs/mastDownload/TESS/tess2020186164531-s0027-0000000381856447-0189-s/tess2020186164531-s0027-0000000381856447-0189-s_lc.fits' mode='rb' closefd=True>\n",
      "  lc = read_generic_lightcurve(filename, flux_column=flux_column, time_format=\"btjd\")\n",
      "0% (31/16812) of the cadences will be ignored due to the quality mask (quality_bitmask=175).\n",
      "0% (31/16812) of the cadences will be ignored due to the quality mask (quality_bitmask=175).\n"
     ]
    },
    {
     "name": "stdout",
     "output_type": "stream",
     "text": [
      "date: 2022_08_02\n",
      "LC successfully detrended.\n"
     ]
    },
    {
     "name": "stderr",
     "output_type": "stream",
     "text": [
      "/home/ekaterina/Documents/000_envs/python37/lib/python3.7/site-packages/numpy/lib/nanfunctions.py:1117: RuntimeWarning: Mean of empty slice\n",
      "  return np.nanmean(a, axis, out=out, keepdims=keepdims)\n",
      "Found 0 candidate(s) in the (0,8521) gap.\n",
      "Found 0 candidate(s) in the (8521,16496) gap.\n",
      "/home/ekaterina/Documents/000_envs/python37/lib/python3.7/site-packages/ipykernel_launcher.py:88: LightkurveDeprecationWarning: The search_lightcurvefile function is deprecated and may be removed in a future version.\n",
      "        Use search_lightcurve() instead.\n"
     ]
    },
    {
     "name": "stdout",
     "output_type": "stream",
     "text": [
      "Transit midtime in TESS time: 2037.7735399999656\n",
      "No flares found in LC.\n",
      "Wrote out LC to /home/ekaterina/Documents/001_science/lcs/2022_08_02_381856447_27_altai_0.fits.\n",
      "\n",
      "---------------------\n",
      "0 flares found!\n",
      "-------------------\n",
      "\n",
      "(0, 0)\n"
     ]
    },
    {
     "name": "stderr",
     "output_type": "stream",
     "text": [
      "/home/ekaterina/Documents/000_envs/python37/lib/python3.7/site-packages/ipykernel_launcher.py:88: LightkurveDeprecationWarning: The search_lightcurvefile function is deprecated and may be removed in a future version.\n",
      "        Use search_lightcurve() instead.\n"
     ]
    },
    {
     "name": "stdout",
     "output_type": "stream",
     "text": [
      "Get TESS Sector/Quarter 31, TIC 382391899, WASP-50, fast cadence.\n"
     ]
    },
    {
     "name": "stderr",
     "output_type": "stream",
     "text": [
      "/home/ekaterina/Documents/000_envs/python37/lib/python3.7/site-packages/lightkurve/io/tess.py:34: ResourceWarning: unclosed file <_io.FileIO name='/home/ekaterina/Documents/001_science/lcs/mastDownload/TESS/tess2020294194027-s0031-0000000382391899-0198-a_fast/tess2020294194027-s0031-0000000382391899-0198-a_fast-lc.fits' mode='rb' closefd=True>\n",
      "  lc = read_generic_lightcurve(filename, flux_column=flux_column, time_format=\"btjd\")\n",
      "0% (185/103848) of the cadences will be ignored due to the quality mask (quality_bitmask=175).\n",
      "0% (185/103848) of the cadences will be ignored due to the quality mask (quality_bitmask=175).\n"
     ]
    },
    {
     "name": "stdout",
     "output_type": "stream",
     "text": [
      "date: 2022_08_02\n",
      "LC successfully detrended.\n"
     ]
    },
    {
     "name": "stderr",
     "output_type": "stream",
     "text": [
      "/home/ekaterina/Documents/000_envs/python37/lib/python3.7/site-packages/numpy/lib/nanfunctions.py:1117: RuntimeWarning: Mean of empty slice\n",
      "  return np.nanmean(a, axis, out=out, keepdims=keepdims)\n",
      "Found 0 candidate(s) in the (0,49238) gap.\n",
      "Found 0 candidate(s) in the (49238,97057) gap.\n"
     ]
    },
    {
     "name": "stdout",
     "output_type": "stream",
     "text": [
      "Transit midtime in TESS time: 2169.6694609997794\n",
      "No flares found in LC.\n",
      "Wrote out LC to /home/ekaterina/Documents/001_science/lcs/2022_08_02_382391899_31_altai_0.fits.\n",
      "Get TESS Sector/Quarter 04, TIC 382391899, WASP-50, short cadence.\n"
     ]
    },
    {
     "name": "stderr",
     "output_type": "stream",
     "text": [
      "/home/ekaterina/Documents/000_envs/python37/lib/python3.7/site-packages/lightkurve/io/tess.py:34: ResourceWarning: unclosed file <_io.FileIO name='/home/ekaterina/Documents/001_science/lcs/mastDownload/TESS/tess2018292075959-s0004-0000000382391899-0124-s/tess2018292075959-s0004-0000000382391899-0124-s_lc.fits' mode='rb' closefd=True>\n",
      "  lc = read_generic_lightcurve(filename, flux_column=flux_column, time_format=\"btjd\")\n",
      "2% (272/15973) of the cadences will be ignored due to the quality mask (quality_bitmask=175).\n",
      "2% (272/15973) of the cadences will be ignored due to the quality mask (quality_bitmask=175).\n"
     ]
    },
    {
     "name": "stdout",
     "output_type": "stream",
     "text": [
      "date: 2022_08_02\n",
      "LC successfully detrended.\n"
     ]
    },
    {
     "name": "stderr",
     "output_type": "stream",
     "text": [
      "/home/ekaterina/Documents/000_envs/python37/lib/python3.7/site-packages/numpy/lib/nanfunctions.py:1117: RuntimeWarning: Mean of empty slice\n",
      "  return np.nanmean(a, axis, out=out, keepdims=keepdims)\n",
      "Found 0 candidate(s) in the (0,5292) gap.\n",
      "Found 0 candidate(s) in the (5292,6180) gap.\n",
      "Found 0 candidate(s) in the (6180,14658) gap.\n",
      "/home/ekaterina/Documents/000_envs/python37/lib/python3.7/site-packages/ipykernel_launcher.py:88: LightkurveDeprecationWarning: The search_lightcurvefile function is deprecated and may be removed in a future version.\n",
      "        Use search_lightcurve() instead.\n"
     ]
    },
    {
     "name": "stdout",
     "output_type": "stream",
     "text": [
      "Transit midtime in TESS time: 2169.6694609997794\n",
      "No flares found in LC.\n",
      "Wrote out LC to /home/ekaterina/Documents/001_science/lcs/2022_08_02_382391899_04_altai_0.fits.\n",
      "\n",
      "---------------------\n",
      "0 flares found!\n",
      "-------------------\n",
      "\n",
      "(0, 0)\n"
     ]
    },
    {
     "name": "stderr",
     "output_type": "stream",
     "text": [
      "/home/ekaterina/Documents/000_envs/python37/lib/python3.7/site-packages/ipykernel_launcher.py:88: LightkurveDeprecationWarning: The search_lightcurvefile function is deprecated and may be removed in a future version.\n",
      "        Use search_lightcurve() instead.\n"
     ]
    },
    {
     "name": "stdout",
     "output_type": "stream",
     "text": [
      "Get TESS Sector/Quarter 42, TIC 38337202, K2-72, short cadence.\n"
     ]
    },
    {
     "name": "stderr",
     "output_type": "stream",
     "text": [
      "/home/ekaterina/Documents/000_envs/python37/lib/python3.7/site-packages/lightkurve/io/tess.py:34: ResourceWarning: unclosed file <_io.FileIO name='/home/ekaterina/Documents/001_science/lcs/mastDownload/TESS/tess2021232031932-s0042-0000000038337202-0213-s/tess2021232031932-s0042-0000000038337202-0213-s_lc.fits' mode='rb' closefd=True>\n",
      "  lc = read_generic_lightcurve(filename, flux_column=flux_column, time_format=\"btjd\")\n",
      "2% (307/17674) of the cadences will be ignored due to the quality mask (quality_bitmask=175).\n",
      "2% (307/17674) of the cadences will be ignored due to the quality mask (quality_bitmask=175).\n"
     ]
    },
    {
     "name": "stdout",
     "output_type": "stream",
     "text": [
      "date: 2022_08_02\n",
      "LC successfully detrended.\n"
     ]
    },
    {
     "name": "stderr",
     "output_type": "stream",
     "text": [
      "/home/ekaterina/Documents/000_envs/python37/lib/python3.7/site-packages/numpy/lib/nanfunctions.py:1117: RuntimeWarning: Mean of empty slice\n",
      "  return np.nanmean(a, axis, out=out, keepdims=keepdims)\n",
      "Found 0 candidate(s) in the (0,2884) gap.\n",
      "Found 0 candidate(s) in the (2884,9653) gap.\n",
      "/home/ekaterina/Documents/000_envs/python37/lib/python3.7/site-packages/ipykernel_launcher.py:88: LightkurveDeprecationWarning: The search_lightcurvefile function is deprecated and may be removed in a future version.\n",
      "        Use search_lightcurve() instead.\n"
     ]
    },
    {
     "name": "stdout",
     "output_type": "stream",
     "text": [
      "Transit midtime in TESS time: 10.376000000163913\n",
      "No flares found in LC.\n",
      "Wrote out LC to /home/ekaterina/Documents/001_science/lcs/2022_08_02_38337202_42_altai_0.fits.\n",
      "\n",
      "---------------------\n",
      "0 flares found!\n",
      "-------------------\n",
      "\n",
      "(0, 0)\n",
      "Get TESS Sector/Quarter 27, TIC 383390264, HD 110082, fast cadence.\n"
     ]
    },
    {
     "name": "stderr",
     "output_type": "stream",
     "text": [
      "/home/ekaterina/Documents/000_envs/python37/lib/python3.7/site-packages/lightkurve/io/tess.py:34: ResourceWarning: unclosed file <_io.FileIO name='/home/ekaterina/Documents/001_science/lcs/mastDownload/TESS/tess2020186164531-s0027-0000000383390264-0189-a_fast/tess2020186164531-s0027-0000000383390264-0189-a_fast-lc.fits' mode='rb' closefd=True>\n",
      "  lc = read_generic_lightcurve(filename, flux_column=flux_column, time_format=\"btjd\")\n",
      "0% (154/100890) of the cadences will be ignored due to the quality mask (quality_bitmask=175).\n",
      "0% (154/100890) of the cadences will be ignored due to the quality mask (quality_bitmask=175).\n"
     ]
    },
    {
     "name": "stdout",
     "output_type": "stream",
     "text": [
      "date: 2022_08_02\n",
      "LC successfully detrended.\n"
     ]
    },
    {
     "name": "stderr",
     "output_type": "stream",
     "text": [
      "/home/ekaterina/Documents/000_envs/python37/lib/python3.7/site-packages/numpy/lib/nanfunctions.py:1117: RuntimeWarning: Mean of empty slice\n",
      "  return np.nanmean(a, axis, out=out, keepdims=keepdims)\n",
      "Found 0 candidate(s) in the (0,51149) gap.\n",
      "Found 0 candidate(s) in the (51149,100736) gap.\n"
     ]
    },
    {
     "name": "stdout",
     "output_type": "stream",
     "text": [
      "Transit midtime in TESS time: 1629.9090049997903\n",
      "No flares found in LC.\n",
      "Wrote out LC to /home/ekaterina/Documents/001_science/lcs/2022_08_02_383390264_27_altai_0.fits.\n",
      "Get TESS Sector/Quarter 12, TIC 383390264, HD 110082, short cadence.\n"
     ]
    },
    {
     "name": "stderr",
     "output_type": "stream",
     "text": [
      "/home/ekaterina/Documents/000_envs/python37/lib/python3.7/site-packages/lightkurve/io/tess.py:34: ResourceWarning: unclosed file <_io.FileIO name='/home/ekaterina/Documents/001_science/lcs/mastDownload/TESS/tess2019140104343-s0012-0000000383390264-0144-s/tess2019140104343-s0012-0000000383390264-0144-s_lc.fits' mode='rb' closefd=True>\n",
      "  lc = read_generic_lightcurve(filename, flux_column=flux_column, time_format=\"btjd\")\n",
      "3% (498/19373) of the cadences will be ignored due to the quality mask (quality_bitmask=175).\n",
      "3% (498/19373) of the cadences will be ignored due to the quality mask (quality_bitmask=175).\n"
     ]
    },
    {
     "name": "stdout",
     "output_type": "stream",
     "text": [
      "date: 2022_08_02\n",
      "LC successfully detrended.\n"
     ]
    },
    {
     "name": "stderr",
     "output_type": "stream",
     "text": [
      "/home/ekaterina/Documents/000_envs/python37/lib/python3.7/site-packages/numpy/lib/nanfunctions.py:1117: RuntimeWarning: Mean of empty slice\n",
      "  return np.nanmean(a, axis, out=out, keepdims=keepdims)\n",
      "Found 0 candidate(s) in the (0,7528) gap.\n",
      "Found 0 candidate(s) in the (7528,15105) gap.\n"
     ]
    },
    {
     "name": "stdout",
     "output_type": "stream",
     "text": [
      "Transit midtime in TESS time: 1629.9090049997903\n",
      "No flares found in LC.\n",
      "Wrote out LC to /home/ekaterina/Documents/001_science/lcs/2022_08_02_383390264_12_altai_0.fits.\n",
      "Get TESS Sector/Quarter 13, TIC 383390264, HD 110082, short cadence.\n"
     ]
    },
    {
     "name": "stderr",
     "output_type": "stream",
     "text": [
      "/home/ekaterina/Documents/000_envs/python37/lib/python3.7/site-packages/lightkurve/io/tess.py:34: ResourceWarning: unclosed file <_io.FileIO name='/home/ekaterina/Documents/001_science/lcs/mastDownload/TESS/tess2019169103026-s0013-0000000383390264-0146-s/tess2019169103026-s0013-0000000383390264-0146-s_lc.fits' mode='rb' closefd=True>\n",
      "  lc = read_generic_lightcurve(filename, flux_column=flux_column, time_format=\"btjd\")\n",
      "2% (370/19811) of the cadences will be ignored due to the quality mask (quality_bitmask=175).\n",
      "2% (370/19811) of the cadences will be ignored due to the quality mask (quality_bitmask=175).\n"
     ]
    },
    {
     "name": "stdout",
     "output_type": "stream",
     "text": [
      "date: 2022_08_02\n",
      "LC successfully detrended.\n"
     ]
    },
    {
     "name": "stderr",
     "output_type": "stream",
     "text": [
      "/home/ekaterina/Documents/000_envs/python37/lib/python3.7/site-packages/numpy/lib/nanfunctions.py:1117: RuntimeWarning: Mean of empty slice\n",
      "  return np.nanmean(a, axis, out=out, keepdims=keepdims)\n",
      "Found 0 candidate(s) in the (0,9712) gap.\n",
      "Found 5 candidate(s) in the (9712,19439) gap.\n",
      "/home/ekaterina/Documents/000_envs/python37/lib/python3.7/site-packages/ipykernel_launcher.py:88: LightkurveDeprecationWarning: The search_lightcurvefile function is deprecated and may be removed in a future version.\n",
      "        Use search_lightcurve() instead.\n"
     ]
    },
    {
     "name": "stdout",
     "output_type": "stream",
     "text": [
      "Transit midtime in TESS time: 1629.9090049997903\n",
      "Flares found:\n",
      "        tstart        tstop     phase  ampl_rec       dur\n",
      "0  1681.393489  1681.664317  0.056069  0.004153  0.270828\n",
      "1  1681.675428  1681.682372  0.083757  0.002264  0.006944\n",
      "2  1681.687927  1681.736537  0.084984  0.003076  0.048610\n",
      "3  1681.744871  1681.775425  0.090577  0.003470  0.030555\n",
      "4  1681.782370  1681.786536  0.094259  0.001461  0.004167\n",
      "Wrote out LC to /home/ekaterina/Documents/001_science/lcs/2022_08_02_383390264_13_altai_0.fits.\n",
      "\n",
      "---------------------\n",
      "5 flares found!\n",
      "-------------------\n",
      "\n",
      "(0, 0)\n",
      "Get TESS Sector/Quarter 42, TIC 38354061, K2-73, short cadence.\n"
     ]
    },
    {
     "name": "stderr",
     "output_type": "stream",
     "text": [
      "/home/ekaterina/Documents/000_envs/python37/lib/python3.7/site-packages/lightkurve/io/tess.py:34: ResourceWarning: unclosed file <_io.FileIO name='/home/ekaterina/Documents/001_science/lcs/mastDownload/TESS/tess2021232031932-s0042-0000000038354061-0213-s/tess2021232031932-s0042-0000000038354061-0213-s_lc.fits' mode='rb' closefd=True>\n",
      "  lc = read_generic_lightcurve(filename, flux_column=flux_column, time_format=\"btjd\")\n",
      "2% (307/17674) of the cadences will be ignored due to the quality mask (quality_bitmask=175).\n",
      "2% (307/17674) of the cadences will be ignored due to the quality mask (quality_bitmask=175).\n"
     ]
    },
    {
     "name": "stdout",
     "output_type": "stream",
     "text": [
      "date: 2022_08_02\n",
      "LC successfully detrended.\n"
     ]
    },
    {
     "name": "stderr",
     "output_type": "stream",
     "text": [
      "/home/ekaterina/Documents/000_envs/python37/lib/python3.7/site-packages/numpy/lib/nanfunctions.py:1117: RuntimeWarning: Mean of empty slice\n",
      "  return np.nanmean(a, axis, out=out, keepdims=keepdims)\n",
      "Found 0 candidate(s) in the (0,2884) gap.\n",
      "Found 0 candidate(s) in the (2884,9653) gap.\n",
      "/home/ekaterina/Documents/000_envs/python37/lib/python3.7/site-packages/ipykernel_launcher.py:88: LightkurveDeprecationWarning: The search_lightcurvefile function is deprecated and may be removed in a future version.\n",
      "        Use search_lightcurve() instead.\n"
     ]
    },
    {
     "name": "stdout",
     "output_type": "stream",
     "text": [
      "Transit midtime in TESS time: -12.32590000005439\n",
      "No flares found in LC.\n",
      "Wrote out LC to /home/ekaterina/Documents/001_science/lcs/2022_08_02_38354061_42_altai_0.fits.\n",
      "\n",
      "---------------------\n",
      "0 flares found!\n",
      "-------------------\n",
      "\n",
      "(0, 0)\n"
     ]
    },
    {
     "name": "stderr",
     "output_type": "stream",
     "text": [
      "/home/ekaterina/Documents/000_envs/python37/lib/python3.7/site-packages/ipykernel_launcher.py:88: LightkurveDeprecationWarning: The search_lightcurvefile function is deprecated and may be removed in a future version.\n",
      "        Use search_lightcurve() instead.\n"
     ]
    },
    {
     "name": "stdout",
     "output_type": "stream",
     "text": [
      "Get TESS Sector/Quarter 34, TIC 386259537, WASP-169, fast cadence.\n"
     ]
    },
    {
     "name": "stderr",
     "output_type": "stream",
     "text": [
      "/home/ekaterina/Documents/000_envs/python37/lib/python3.7/site-packages/lightkurve/io/tess.py:34: ResourceWarning: unclosed file <_io.FileIO name='/home/ekaterina/Documents/001_science/lcs/mastDownload/TESS/tess2021014023720-s0034-0000000386259537-0204-a_fast/tess2021014023720-s0034-0000000386259537-0204-a_fast-lc.fits' mode='rb' closefd=True>\n",
      "  lc = read_generic_lightcurve(filename, flux_column=flux_column, time_format=\"btjd\")\n",
      "0% (210/104760) of the cadences will be ignored due to the quality mask (quality_bitmask=175).\n",
      "0% (210/104760) of the cadences will be ignored due to the quality mask (quality_bitmask=175).\n"
     ]
    },
    {
     "name": "stdout",
     "output_type": "stream",
     "text": [
      "date: 2022_08_02\n",
      "LC successfully detrended.\n"
     ]
    },
    {
     "name": "stderr",
     "output_type": "stream",
     "text": [
      "/home/ekaterina/Documents/000_envs/python37/lib/python3.7/site-packages/numpy/lib/nanfunctions.py:1117: RuntimeWarning: Mean of empty slice\n",
      "  return np.nanmean(a, axis, out=out, keepdims=keepdims)\n",
      "Found 0 candidate(s) in the (0,51073) gap.\n",
      "Found 0 candidate(s) in the (51073,101281) gap.\n",
      "/home/ekaterina/Documents/000_envs/python37/lib/python3.7/site-packages/ipykernel_launcher.py:88: LightkurveDeprecationWarning: The search_lightcurvefile function is deprecated and may be removed in a future version.\n",
      "        Use search_lightcurve() instead.\n"
     ]
    },
    {
     "name": "stdout",
     "output_type": "stream",
     "text": [
      "Transit midtime in TESS time: 2228.937202999834\n",
      "No flares found in LC.\n",
      "Wrote out LC to /home/ekaterina/Documents/001_science/lcs/2022_08_02_386259537_34_altai_0.fits.\n",
      "\n",
      "---------------------\n",
      "0 flares found!\n",
      "-------------------\n",
      "\n",
      "(0, 0)\n",
      "Get TESS Sector/Quarter 06, TIC 387690507, TOI-530, short cadence.\n"
     ]
    },
    {
     "name": "stderr",
     "output_type": "stream",
     "text": [
      "/home/ekaterina/Documents/000_envs/python37/lib/python3.7/site-packages/lightkurve/io/tess.py:34: ResourceWarning: unclosed file <_io.FileIO name='/home/ekaterina/Documents/001_science/lcs/mastDownload/TESS/tess2018349182500-s0006-0000000387690507-0126-s/tess2018349182500-s0006-0000000387690507-0126-s_lc.fits' mode='rb' closefd=True>\n",
      "  lc = read_generic_lightcurve(filename, flux_column=flux_column, time_format=\"btjd\")\n",
      "1% (207/14898) of the cadences will be ignored due to the quality mask (quality_bitmask=175).\n",
      "1% (207/14898) of the cadences will be ignored due to the quality mask (quality_bitmask=175).\n"
     ]
    },
    {
     "name": "stdout",
     "output_type": "stream",
     "text": [
      "date: 2022_08_02\n",
      "LC successfully detrended.\n"
     ]
    },
    {
     "name": "stderr",
     "output_type": "stream",
     "text": [
      "/home/ekaterina/Documents/000_envs/python37/lib/python3.7/site-packages/numpy/lib/nanfunctions.py:1117: RuntimeWarning: Mean of empty slice\n",
      "  return np.nanmean(a, axis, out=out, keepdims=keepdims)\n",
      "Found 0 candidate(s) in the (0,6169) gap.\n",
      "Found 0 candidate(s) in the (6169,14685) gap.\n"
     ]
    },
    {
     "name": "stdout",
     "output_type": "stream",
     "text": [
      "Transit midtime in TESS time: 2530.5435069999658\n",
      "No flares found in LC.\n",
      "Wrote out LC to /home/ekaterina/Documents/001_science/lcs/2022_08_02_387690507_06_altai_0.fits.\n",
      "Get TESS Sector/Quarter 33, TIC 387690507, TOI-530, short cadence.\n"
     ]
    },
    {
     "name": "stderr",
     "output_type": "stream",
     "text": [
      "/home/ekaterina/Documents/000_envs/python37/lib/python3.7/site-packages/lightkurve/io/tess.py:34: ResourceWarning: unclosed file <_io.FileIO name='/home/ekaterina/Documents/001_science/lcs/mastDownload/TESS/tess2020351194500-s0033-0000000387690507-0203-s/tess2020351194500-s0033-0000000387690507-0203-s_lc.fits' mode='rb' closefd=True>\n",
      "  lc = read_generic_lightcurve(filename, flux_column=flux_column, time_format=\"btjd\")\n",
      "0% (25/17483) of the cadences will be ignored due to the quality mask (quality_bitmask=175).\n",
      "0% (25/17483) of the cadences will be ignored due to the quality mask (quality_bitmask=175).\n"
     ]
    },
    {
     "name": "stdout",
     "output_type": "stream",
     "text": [
      "date: 2022_08_02\n",
      "LC successfully detrended.\n"
     ]
    },
    {
     "name": "stderr",
     "output_type": "stream",
     "text": [
      "/home/ekaterina/Documents/000_envs/python37/lib/python3.7/site-packages/numpy/lib/nanfunctions.py:1117: RuntimeWarning: Mean of empty slice\n",
      "  return np.nanmean(a, axis, out=out, keepdims=keepdims)\n",
      "Found 0 candidate(s) in the (0,8727) gap.\n",
      "Found 0 candidate(s) in the (8727,17458) gap.\n"
     ]
    },
    {
     "name": "stdout",
     "output_type": "stream",
     "text": [
      "Transit midtime in TESS time: 2530.5435069999658\n",
      "No flares found in LC.\n",
      "Wrote out LC to /home/ekaterina/Documents/001_science/lcs/2022_08_02_387690507_33_altai_0.fits.\n",
      "Get TESS Sector/Quarter 44, TIC 387690507, TOI-530, short cadence.\n"
     ]
    },
    {
     "name": "stderr",
     "output_type": "stream",
     "text": [
      "/home/ekaterina/Documents/000_envs/python37/lib/python3.7/site-packages/lightkurve/io/tess.py:34: ResourceWarning: unclosed file <_io.FileIO name='/home/ekaterina/Documents/001_science/lcs/mastDownload/TESS/tess2021284114741-s0044-0000000387690507-0215-s/tess2021284114741-s0044-0000000387690507-0215-s_lc.fits' mode='rb' closefd=True>\n",
      "  lc = read_generic_lightcurve(filename, flux_column=flux_column, time_format=\"btjd\")\n",
      "0% (45/16405) of the cadences will be ignored due to the quality mask (quality_bitmask=175).\n",
      "0% (45/16405) of the cadences will be ignored due to the quality mask (quality_bitmask=175).\n"
     ]
    },
    {
     "name": "stdout",
     "output_type": "stream",
     "text": [
      "date: 2022_08_02\n"
     ]
    },
    {
     "name": "stderr",
     "output_type": "stream",
     "text": [
      "/home/ekaterina/Documents/001_science/Flaring_SPI/notebooks/funcs/detrend.py:364: RuntimeWarning: overflow encountered in exp\n",
      "  return a * np.exp(b * (c - x)) + d * np.exp(e * (f - x)) + g\n",
      "/home/ekaterina/Documents/001_science/Flaring_SPI/notebooks/funcs/detrend.py:364: RuntimeWarning: overflow encountered in multiply\n",
      "  return a * np.exp(b * (c - x)) + d * np.exp(e * (f - x)) + g\n"
     ]
    },
    {
     "name": "stdout",
     "output_type": "stream",
     "text": [
      "LC successfully detrended.\n"
     ]
    },
    {
     "name": "stderr",
     "output_type": "stream",
     "text": [
      "/home/ekaterina/Documents/000_envs/python37/lib/python3.7/site-packages/numpy/lib/nanfunctions.py:1117: RuntimeWarning: Mean of empty slice\n",
      "  return np.nanmean(a, axis, out=out, keepdims=keepdims)\n",
      "Found 1 candidate(s) in the (0,8232) gap.\n",
      "Found 0 candidate(s) in the (8232,15791) gap.\n"
     ]
    },
    {
     "name": "stdout",
     "output_type": "stream",
     "text": [
      "Transit midtime in TESS time: 2530.5435069999658\n",
      "Flares found:\n",
      "        tstart        tstop     phase  ampl_rec       dur\n",
      "0  2500.270845  2500.297237  0.260712  0.148334  0.026392\n",
      "Wrote out LC to /home/ekaterina/Documents/001_science/lcs/2022_08_02_387690507_44_altai_0.fits.\n",
      "Get TESS Sector/Quarter 45, TIC 387690507, TOI-530, short cadence.\n"
     ]
    },
    {
     "name": "stderr",
     "output_type": "stream",
     "text": [
      "/home/ekaterina/Documents/000_envs/python37/lib/python3.7/site-packages/lightkurve/io/tess.py:34: ResourceWarning: unclosed file <_io.FileIO name='/home/ekaterina/Documents/001_science/lcs/mastDownload/TESS/tess2021310001228-s0045-0000000387690507-0216-s/tess2021310001228-s0045-0000000387690507-0216-s_lc.fits' mode='rb' closefd=True>\n",
      "  lc = read_generic_lightcurve(filename, flux_column=flux_column, time_format=\"btjd\")\n",
      "1% (186/17256) of the cadences will be ignored due to the quality mask (quality_bitmask=175).\n",
      "1% (186/17256) of the cadences will be ignored due to the quality mask (quality_bitmask=175).\n"
     ]
    },
    {
     "name": "stdout",
     "output_type": "stream",
     "text": [
      "date: 2022_08_02\n",
      "LC successfully detrended.\n"
     ]
    },
    {
     "name": "stderr",
     "output_type": "stream",
     "text": [
      "/home/ekaterina/Documents/000_envs/python37/lib/python3.7/site-packages/numpy/lib/nanfunctions.py:1117: RuntimeWarning: Mean of empty slice\n",
      "  return np.nanmean(a, axis, out=out, keepdims=keepdims)\n",
      "Found 0 candidate(s) in the (0,8452) gap.\n",
      "Found 0 candidate(s) in the (8452,15998) gap.\n",
      "/home/ekaterina/Documents/000_envs/python37/lib/python3.7/site-packages/ipykernel_launcher.py:88: LightkurveDeprecationWarning: The search_lightcurvefile function is deprecated and may be removed in a future version.\n",
      "        Use search_lightcurve() instead.\n"
     ]
    },
    {
     "name": "stdout",
     "output_type": "stream",
     "text": [
      "Transit midtime in TESS time: 2530.5435069999658\n",
      "No flares found in LC.\n",
      "Wrote out LC to /home/ekaterina/Documents/001_science/lcs/2022_08_02_387690507_45_altai_0.fits.\n",
      "\n",
      "---------------------\n",
      "1 flares found!\n",
      "-------------------\n",
      "\n",
      "(0, 0)\n",
      "Get TESS Sector/Quarter 34, TIC 388104525, WASP-119, fast cadence.\n"
     ]
    },
    {
     "name": "stderr",
     "output_type": "stream",
     "text": [
      "/home/ekaterina/Documents/000_envs/python37/lib/python3.7/site-packages/lightkurve/io/tess.py:34: ResourceWarning: unclosed file <_io.FileIO name='/home/ekaterina/Documents/001_science/lcs/mastDownload/TESS/tess2021014023720-s0034-0000000388104525-0204-a_fast/tess2021014023720-s0034-0000000388104525-0204-a_fast-lc.fits' mode='rb' closefd=True>\n",
      "  lc = read_generic_lightcurve(filename, flux_column=flux_column, time_format=\"btjd\")\n",
      "0% (210/104760) of the cadences will be ignored due to the quality mask (quality_bitmask=175).\n",
      "0% (210/104760) of the cadences will be ignored due to the quality mask (quality_bitmask=175).\n"
     ]
    },
    {
     "name": "stdout",
     "output_type": "stream",
     "text": [
      "date: 2022_08_02\n",
      "LC successfully detrended.\n"
     ]
    },
    {
     "name": "stderr",
     "output_type": "stream",
     "text": [
      "/home/ekaterina/Documents/000_envs/python37/lib/python3.7/site-packages/numpy/lib/nanfunctions.py:1117: RuntimeWarning: Mean of empty slice\n",
      "  return np.nanmean(a, axis, out=out, keepdims=keepdims)\n",
      "Found 0 candidate(s) in the (0,50557) gap.\n",
      "Found 0 candidate(s) in the (50557,100253) gap.\n"
     ]
    },
    {
     "name": "stdout",
     "output_type": "stream",
     "text": [
      "Transit midtime in TESS time: 2307.3329980000854\n",
      "No flares found in LC.\n",
      "Wrote out LC to /home/ekaterina/Documents/001_science/lcs/2022_08_02_388104525_34_altai_0.fits.\n",
      "Get TESS Sector/Quarter 31, TIC 388104525, WASP-119, fast cadence.\n"
     ]
    },
    {
     "name": "stderr",
     "output_type": "stream",
     "text": [
      "/home/ekaterina/Documents/000_envs/python37/lib/python3.7/site-packages/lightkurve/io/tess.py:34: ResourceWarning: unclosed file <_io.FileIO name='/home/ekaterina/Documents/001_science/lcs/mastDownload/TESS/tess2020294194027-s0031-0000000388104525-0198-a_fast/tess2020294194027-s0031-0000000388104525-0198-a_fast-lc.fits' mode='rb' closefd=True>\n",
      "  lc = read_generic_lightcurve(filename, flux_column=flux_column, time_format=\"btjd\")\n",
      "0% (185/103848) of the cadences will be ignored due to the quality mask (quality_bitmask=175).\n",
      "0% (185/103848) of the cadences will be ignored due to the quality mask (quality_bitmask=175).\n"
     ]
    },
    {
     "name": "stdout",
     "output_type": "stream",
     "text": [
      "date: 2022_08_02\n",
      "LC successfully detrended.\n"
     ]
    },
    {
     "name": "stderr",
     "output_type": "stream",
     "text": [
      "/home/ekaterina/Documents/000_envs/python37/lib/python3.7/site-packages/numpy/lib/nanfunctions.py:1117: RuntimeWarning: Mean of empty slice\n",
      "  return np.nanmean(a, axis, out=out, keepdims=keepdims)\n",
      "Found 0 candidate(s) in the (0,51562) gap.\n",
      "Found 0 candidate(s) in the (51562,99381) gap.\n"
     ]
    },
    {
     "name": "stdout",
     "output_type": "stream",
     "text": [
      "Transit midtime in TESS time: 2307.3329980000854\n",
      "No flares found in LC.\n",
      "Wrote out LC to /home/ekaterina/Documents/001_science/lcs/2022_08_02_388104525_31_altai_0.fits.\n",
      "Get TESS Sector/Quarter 27, TIC 388104525, WASP-119, fast cadence.\n"
     ]
    },
    {
     "name": "stderr",
     "output_type": "stream",
     "text": [
      "/home/ekaterina/Documents/000_envs/python37/lib/python3.7/site-packages/lightkurve/io/tess.py:34: ResourceWarning: unclosed file <_io.FileIO name='/home/ekaterina/Documents/001_science/lcs/mastDownload/TESS/tess2020186164531-s0027-0000000388104525-0189-a_fast/tess2020186164531-s0027-0000000388104525-0189-a_fast-lc.fits' mode='rb' closefd=True>\n",
      "  lc = read_generic_lightcurve(filename, flux_column=flux_column, time_format=\"btjd\")\n",
      "0% (154/100890) of the cadences will be ignored due to the quality mask (quality_bitmask=175).\n",
      "0% (154/100890) of the cadences will be ignored due to the quality mask (quality_bitmask=175).\n"
     ]
    },
    {
     "name": "stdout",
     "output_type": "stream",
     "text": [
      "date: 2022_08_02\n",
      "LC successfully detrended.\n"
     ]
    },
    {
     "name": "stderr",
     "output_type": "stream",
     "text": [
      "/home/ekaterina/Documents/000_envs/python37/lib/python3.7/site-packages/numpy/lib/nanfunctions.py:1117: RuntimeWarning: Mean of empty slice\n",
      "  return np.nanmean(a, axis, out=out, keepdims=keepdims)\n",
      "Found 0 candidate(s) in the (0,44643) gap.\n",
      "Found 0 candidate(s) in the (44643,89207) gap.\n"
     ]
    },
    {
     "name": "stdout",
     "output_type": "stream",
     "text": [
      "Transit midtime in TESS time: 2307.3329980000854\n",
      "No flares found in LC.\n",
      "Wrote out LC to /home/ekaterina/Documents/001_science/lcs/2022_08_02_388104525_27_altai_0.fits.\n",
      "Get TESS Sector/Quarter 30, TIC 388104525, WASP-119, fast cadence.\n"
     ]
    },
    {
     "name": "stderr",
     "output_type": "stream",
     "text": [
      "/home/ekaterina/Documents/000_envs/python37/lib/python3.7/site-packages/lightkurve/io/tess.py:34: ResourceWarning: unclosed file <_io.FileIO name='/home/ekaterina/Documents/001_science/lcs/mastDownload/TESS/tess2020266004630-s0030-0000000388104525-0195-a_fast/tess2020266004630-s0030-0000000388104525-0195-a_fast-lc.fits' mode='rb' closefd=True>\n",
      "  lc = read_generic_lightcurve(filename, flux_column=flux_column, time_format=\"btjd\")\n",
      "1% (1204/113535) of the cadences will be ignored due to the quality mask (quality_bitmask=175).\n",
      "1% (1204/113535) of the cadences will be ignored due to the quality mask (quality_bitmask=175).\n"
     ]
    },
    {
     "name": "stdout",
     "output_type": "stream",
     "text": [
      "date: 2022_08_02\n",
      "LC successfully detrended.\n"
     ]
    },
    {
     "name": "stderr",
     "output_type": "stream",
     "text": [
      "/home/ekaterina/Documents/000_envs/python37/lib/python3.7/site-packages/numpy/lib/nanfunctions.py:1117: RuntimeWarning: Mean of empty slice\n",
      "  return np.nanmean(a, axis, out=out, keepdims=keepdims)\n",
      "Found 0 candidate(s) in the (0,49885) gap.\n",
      "Found 0 candidate(s) in the (49885,100140) gap.\n"
     ]
    },
    {
     "name": "stdout",
     "output_type": "stream",
     "text": [
      "Transit midtime in TESS time: 2307.3329980000854\n",
      "No flares found in LC.\n",
      "Wrote out LC to /home/ekaterina/Documents/001_science/lcs/2022_08_02_388104525_30_altai_0.fits.\n",
      "Get TESS Sector/Quarter 28, TIC 388104525, WASP-119, fast cadence.\n"
     ]
    },
    {
     "name": "stderr",
     "output_type": "stream",
     "text": [
      "/home/ekaterina/Documents/000_envs/python37/lib/python3.7/site-packages/lightkurve/io/tess.py:34: ResourceWarning: unclosed file <_io.FileIO name='/home/ekaterina/Documents/001_science/lcs/mastDownload/TESS/tess2020212050318-s0028-0000000388104525-0190-a_fast/tess2020212050318-s0028-0000000388104525-0190-a_fast-lc.fits' mode='rb' closefd=True>\n",
      "  lc = read_generic_lightcurve(filename, flux_column=flux_column, time_format=\"btjd\")\n",
      "0% (161/103965) of the cadences will be ignored due to the quality mask (quality_bitmask=175).\n",
      "0% (161/103965) of the cadences will be ignored due to the quality mask (quality_bitmask=175).\n"
     ]
    },
    {
     "name": "stdout",
     "output_type": "stream",
     "text": [
      "date: 2022_08_02\n",
      "LC successfully detrended.\n"
     ]
    },
    {
     "name": "stderr",
     "output_type": "stream",
     "text": [
      "/home/ekaterina/Documents/000_envs/python37/lib/python3.7/site-packages/numpy/lib/nanfunctions.py:1117: RuntimeWarning: Mean of empty slice\n",
      "  return np.nanmean(a, axis, out=out, keepdims=keepdims)\n",
      "Found 0 candidate(s) in the (0,44282) gap.\n",
      "Found 0 candidate(s) in the (44282,88939) gap.\n"
     ]
    },
    {
     "name": "stdout",
     "output_type": "stream",
     "text": [
      "Transit midtime in TESS time: 2307.3329980000854\n",
      "No flares found in LC.\n",
      "Wrote out LC to /home/ekaterina/Documents/001_science/lcs/2022_08_02_388104525_28_altai_0.fits.\n",
      "Get TESS Sector/Quarter 37, TIC 388104525, WASP-119, fast cadence.\n"
     ]
    },
    {
     "name": "stderr",
     "output_type": "stream",
     "text": [
      "/home/ekaterina/Documents/000_envs/python37/lib/python3.7/site-packages/lightkurve/io/tess.py:34: ResourceWarning: unclosed file <_io.FileIO name='/home/ekaterina/Documents/001_science/lcs/mastDownload/TESS/tess2021091135823-s0037-0000000388104525-0208-a_fast/tess2021091135823-s0037-0000000388104525-0208-a_fast-lc.fits' mode='rb' closefd=True>\n",
      "  lc = read_generic_lightcurve(filename, flux_column=flux_column, time_format=\"btjd\")\n",
      "0% (267/104361) of the cadences will be ignored due to the quality mask (quality_bitmask=175).\n",
      "0% (267/104361) of the cadences will be ignored due to the quality mask (quality_bitmask=175).\n"
     ]
    },
    {
     "name": "stdout",
     "output_type": "stream",
     "text": [
      "date: 2022_08_02\n",
      "LC successfully detrended.\n"
     ]
    },
    {
     "name": "stderr",
     "output_type": "stream",
     "text": [
      "/home/ekaterina/Documents/000_envs/python37/lib/python3.7/site-packages/numpy/lib/nanfunctions.py:1117: RuntimeWarning: Mean of empty slice\n",
      "  return np.nanmean(a, axis, out=out, keepdims=keepdims)\n",
      "Found 0 candidate(s) in the (0,42758) gap.\n",
      "Found 0 candidate(s) in the (42758,86475) gap.\n"
     ]
    },
    {
     "name": "stdout",
     "output_type": "stream",
     "text": [
      "Transit midtime in TESS time: 2307.3329980000854\n",
      "No flares found in LC.\n",
      "Wrote out LC to /home/ekaterina/Documents/001_science/lcs/2022_08_02_388104525_37_altai_0.fits.\n",
      "Get TESS Sector/Quarter 29, TIC 388104525, WASP-119, fast cadence.\n"
     ]
    },
    {
     "name": "stderr",
     "output_type": "stream",
     "text": [
      "/home/ekaterina/Documents/000_envs/python37/lib/python3.7/site-packages/lightkurve/io/tess.py:34: ResourceWarning: unclosed file <_io.FileIO name='/home/ekaterina/Documents/001_science/lcs/mastDownload/TESS/tess2020238165205-s0029-0000000388104525-0193-a_fast/tess2020238165205-s0029-0000000388104525-0193-a_fast-lc.fits' mode='rb' closefd=True>\n",
      "  lc = read_generic_lightcurve(filename, flux_column=flux_column, time_format=\"btjd\")\n",
      "1% (1060/109110) of the cadences will be ignored due to the quality mask (quality_bitmask=175).\n",
      "1% (1060/109110) of the cadences will be ignored due to the quality mask (quality_bitmask=175).\n"
     ]
    },
    {
     "name": "stdout",
     "output_type": "stream",
     "text": [
      "date: 2022_08_02\n",
      "LC successfully detrended.\n"
     ]
    },
    {
     "name": "stderr",
     "output_type": "stream",
     "text": [
      "/home/ekaterina/Documents/000_envs/python37/lib/python3.7/site-packages/numpy/lib/nanfunctions.py:1117: RuntimeWarning: Mean of empty slice\n",
      "  return np.nanmean(a, axis, out=out, keepdims=keepdims)\n",
      "Found 0 candidate(s) in the (0,42682) gap.\n",
      "Found 0 candidate(s) in the (42682,84615) gap.\n"
     ]
    },
    {
     "name": "stdout",
     "output_type": "stream",
     "text": [
      "Transit midtime in TESS time: 2307.3329980000854\n",
      "No flares found in LC.\n",
      "Wrote out LC to /home/ekaterina/Documents/001_science/lcs/2022_08_02_388104525_29_altai_0.fits.\n",
      "Get TESS Sector/Quarter 01, TIC 388104525, WASP-119, short cadence.\n"
     ]
    },
    {
     "name": "stderr",
     "output_type": "stream",
     "text": [
      "/home/ekaterina/Documents/000_envs/python37/lib/python3.7/site-packages/lightkurve/io/tess.py:34: ResourceWarning: unclosed file <_io.FileIO name='/home/ekaterina/Documents/001_science/lcs/mastDownload/TESS/tess2018206045859-s0001-0000000388104525-0120-s/tess2018206045859-s0001-0000000388104525-0120-s_lc.fits' mode='rb' closefd=True>\n",
      "  lc = read_generic_lightcurve(filename, flux_column=flux_column, time_format=\"btjd\")\n",
      "5% (982/19261) of the cadences will be ignored due to the quality mask (quality_bitmask=175).\n",
      "5% (982/19261) of the cadences will be ignored due to the quality mask (quality_bitmask=175).\n"
     ]
    },
    {
     "name": "stdout",
     "output_type": "stream",
     "text": [
      "date: 2022_08_02\n"
     ]
    },
    {
     "name": "stderr",
     "output_type": "stream",
     "text": [
      "/home/ekaterina/Documents/001_science/Flaring_SPI/notebooks/funcs/detrend.py:364: RuntimeWarning: overflow encountered in exp\n",
      "  return a * np.exp(b * (c - x)) + d * np.exp(e * (f - x)) + g\n",
      "/home/ekaterina/Documents/001_science/Flaring_SPI/notebooks/funcs/detrend.py:364: RuntimeWarning: overflow encountered in multiply\n",
      "  return a * np.exp(b * (c - x)) + d * np.exp(e * (f - x)) + g\n"
     ]
    },
    {
     "name": "stdout",
     "output_type": "stream",
     "text": [
      "LC successfully detrended.\n"
     ]
    },
    {
     "name": "stderr",
     "output_type": "stream",
     "text": [
      "/home/ekaterina/Documents/000_envs/python37/lib/python3.7/site-packages/numpy/lib/nanfunctions.py:1117: RuntimeWarning: Mean of empty slice\n",
      "  return np.nanmean(a, axis, out=out, keepdims=keepdims)\n",
      "Found 0 candidate(s) in the (0,9410) gap.\n",
      "Found 0 candidate(s) in the (9410,18278) gap.\n"
     ]
    },
    {
     "name": "stdout",
     "output_type": "stream",
     "text": [
      "Transit midtime in TESS time: 2307.3329980000854\n",
      "No flares found in LC.\n",
      "Wrote out LC to /home/ekaterina/Documents/001_science/lcs/2022_08_02_388104525_01_altai_0.fits.\n",
      "Get TESS Sector/Quarter 11, TIC 388104525, WASP-119, short cadence.\n"
     ]
    },
    {
     "name": "stderr",
     "output_type": "stream",
     "text": [
      "/home/ekaterina/Documents/000_envs/python37/lib/python3.7/site-packages/lightkurve/io/tess.py:34: ResourceWarning: unclosed file <_io.FileIO name='/home/ekaterina/Documents/001_science/lcs/mastDownload/TESS/tess2019112060037-s0011-0000000388104525-0143-s/tess2019112060037-s0011-0000000388104525-0143-s_lc.fits' mode='rb' closefd=True>\n",
      "  lc = read_generic_lightcurve(filename, flux_column=flux_column, time_format=\"btjd\")\n",
      "3% (562/18749) of the cadences will be ignored due to the quality mask (quality_bitmask=175).\n",
      "3% (562/18749) of the cadences will be ignored due to the quality mask (quality_bitmask=175).\n"
     ]
    },
    {
     "name": "stdout",
     "output_type": "stream",
     "text": [
      "date: 2022_08_02\n",
      "LC successfully detrended.\n"
     ]
    },
    {
     "name": "stderr",
     "output_type": "stream",
     "text": [
      "/home/ekaterina/Documents/000_envs/python37/lib/python3.7/site-packages/numpy/lib/nanfunctions.py:1117: RuntimeWarning: Mean of empty slice\n",
      "  return np.nanmean(a, axis, out=out, keepdims=keepdims)\n",
      "Found 0 candidate(s) in the (0,6923) gap.\n",
      "Found 0 candidate(s) in the (6923,13778) gap.\n"
     ]
    },
    {
     "name": "stdout",
     "output_type": "stream",
     "text": [
      "Transit midtime in TESS time: 2307.3329980000854\n",
      "No flares found in LC.\n",
      "Wrote out LC to /home/ekaterina/Documents/001_science/lcs/2022_08_02_388104525_11_altai_0.fits.\n",
      "Get TESS Sector/Quarter 07, TIC 388104525, WASP-119, short cadence.\n"
     ]
    },
    {
     "name": "stderr",
     "output_type": "stream",
     "text": [
      "/home/ekaterina/Documents/000_envs/python37/lib/python3.7/site-packages/lightkurve/io/tess.py:34: ResourceWarning: unclosed file <_io.FileIO name='/home/ekaterina/Documents/001_science/lcs/mastDownload/TESS/tess2019006130736-s0007-0000000388104525-0131-s/tess2019006130736-s0007-0000000388104525-0131-s_lc.fits' mode='rb' closefd=True>\n",
      "  lc = read_generic_lightcurve(filename, flux_column=flux_column, time_format=\"btjd\")\n",
      "0% (73/16416) of the cadences will be ignored due to the quality mask (quality_bitmask=175).\n",
      "0% (73/16416) of the cadences will be ignored due to the quality mask (quality_bitmask=175).\n"
     ]
    },
    {
     "name": "stdout",
     "output_type": "stream",
     "text": [
      "date: 2022_08_02\n",
      "LC successfully detrended.\n"
     ]
    },
    {
     "name": "stderr",
     "output_type": "stream",
     "text": [
      "/home/ekaterina/Documents/000_envs/python37/lib/python3.7/site-packages/numpy/lib/nanfunctions.py:1117: RuntimeWarning: Mean of empty slice\n",
      "  return np.nanmean(a, axis, out=out, keepdims=keepdims)\n",
      "Found 0 candidate(s) in the (0,8088) gap.\n",
      "Found 0 candidate(s) in the (8088,16132) gap.\n"
     ]
    },
    {
     "name": "stdout",
     "output_type": "stream",
     "text": [
      "Transit midtime in TESS time: 2307.3329980000854\n",
      "No flares found in LC.\n",
      "Wrote out LC to /home/ekaterina/Documents/001_science/lcs/2022_08_02_388104525_07_altai_0.fits.\n",
      "Get TESS Sector/Quarter 04, TIC 388104525, WASP-119, short cadence.\n"
     ]
    },
    {
     "name": "stderr",
     "output_type": "stream",
     "text": [
      "/home/ekaterina/Documents/000_envs/python37/lib/python3.7/site-packages/lightkurve/io/tess.py:34: ResourceWarning: unclosed file <_io.FileIO name='/home/ekaterina/Documents/001_science/lcs/mastDownload/TESS/tess2018292075959-s0004-0000000388104525-0124-s/tess2018292075959-s0004-0000000388104525-0124-s_lc.fits' mode='rb' closefd=True>\n",
      "  lc = read_generic_lightcurve(filename, flux_column=flux_column, time_format=\"btjd\")\n",
      "2% (272/15973) of the cadences will be ignored due to the quality mask (quality_bitmask=175).\n",
      "2% (272/15973) of the cadences will be ignored due to the quality mask (quality_bitmask=175).\n"
     ]
    },
    {
     "name": "stdout",
     "output_type": "stream",
     "text": [
      "date: 2022_08_02\n",
      "LC successfully detrended.\n"
     ]
    },
    {
     "name": "stderr",
     "output_type": "stream",
     "text": [
      "/home/ekaterina/Documents/000_envs/python37/lib/python3.7/site-packages/numpy/lib/nanfunctions.py:1117: RuntimeWarning: Mean of empty slice\n",
      "  return np.nanmean(a, axis, out=out, keepdims=keepdims)\n",
      "Found 0 candidate(s) in the (0,5292) gap.\n",
      "Found 0 candidate(s) in the (5292,6146) gap.\n",
      "Found 0 candidate(s) in the (6146,14590) gap.\n"
     ]
    },
    {
     "name": "stdout",
     "output_type": "stream",
     "text": [
      "Transit midtime in TESS time: 2307.3329980000854\n",
      "No flares found in LC.\n",
      "Wrote out LC to /home/ekaterina/Documents/001_science/lcs/2022_08_02_388104525_04_altai_0.fits.\n",
      "Get TESS Sector/Quarter 03, TIC 388104525, WASP-119, short cadence.\n"
     ]
    },
    {
     "name": "stderr",
     "output_type": "stream",
     "text": [
      "/home/ekaterina/Documents/000_envs/python37/lib/python3.7/site-packages/lightkurve/io/tess.py:34: ResourceWarning: unclosed file <_io.FileIO name='/home/ekaterina/Documents/001_science/lcs/mastDownload/TESS/tess2018263035959-s0003-0000000388104525-0123-s/tess2018263035959-s0003-0000000388104525-0123-s_lc.fits' mode='rb' closefd=True>\n",
      "  lc = read_generic_lightcurve(filename, flux_column=flux_column, time_format=\"btjd\")\n",
      "Warning: 30% (5871/19412) of the cadences will be ignored due to the quality mask (quality_bitmask=175).\n",
      "Warning: 30% (5871/19412) of the cadences will be ignored due to the quality mask (quality_bitmask=175).\n"
     ]
    },
    {
     "name": "stdout",
     "output_type": "stream",
     "text": [
      "date: 2022_08_02\n",
      "LC successfully detrended.\n"
     ]
    },
    {
     "name": "stderr",
     "output_type": "stream",
     "text": [
      "/home/ekaterina/Documents/000_envs/python37/lib/python3.7/site-packages/numpy/lib/nanfunctions.py:1117: RuntimeWarning: Mean of empty slice\n",
      "  return np.nanmean(a, axis, out=out, keepdims=keepdims)\n",
      "Found 0 candidate(s) in the (0,5708) gap.\n",
      "Found 0 candidate(s) in the (5708,12522) gap.\n"
     ]
    },
    {
     "name": "stdout",
     "output_type": "stream",
     "text": [
      "Transit midtime in TESS time: 2307.3329980000854\n",
      "No flares found in LC.\n",
      "Wrote out LC to /home/ekaterina/Documents/001_science/lcs/2022_08_02_388104525_03_altai_0.fits.\n",
      "Get TESS Sector/Quarter 02, TIC 388104525, WASP-119, short cadence.\n"
     ]
    },
    {
     "name": "stderr",
     "output_type": "stream",
     "text": [
      "/home/ekaterina/Documents/000_envs/python37/lib/python3.7/site-packages/lightkurve/io/tess.py:34: ResourceWarning: unclosed file <_io.FileIO name='/home/ekaterina/Documents/001_science/lcs/mastDownload/TESS/tess2018234235059-s0002-0000000388104525-0121-s/tess2018234235059-s0002-0000000388104525-0121-s_lc.fits' mode='rb' closefd=True>\n",
      "  lc = read_generic_lightcurve(filename, flux_column=flux_column, time_format=\"btjd\")\n",
      "2% (399/18699) of the cadences will be ignored due to the quality mask (quality_bitmask=175).\n",
      "2% (399/18699) of the cadences will be ignored due to the quality mask (quality_bitmask=175).\n"
     ]
    },
    {
     "name": "stdout",
     "output_type": "stream",
     "text": [
      "date: 2022_08_02\n",
      "LC successfully detrended.\n"
     ]
    },
    {
     "name": "stderr",
     "output_type": "stream",
     "text": [
      "/home/ekaterina/Documents/000_envs/python37/lib/python3.7/site-packages/numpy/lib/nanfunctions.py:1117: RuntimeWarning: Mean of empty slice\n",
      "  return np.nanmean(a, axis, out=out, keepdims=keepdims)\n",
      "Found 0 candidate(s) in the (0,9225) gap.\n",
      "Found 0 candidate(s) in the (9225,18299) gap.\n",
      "/home/ekaterina/Documents/000_envs/python37/lib/python3.7/site-packages/ipykernel_launcher.py:88: LightkurveDeprecationWarning: The search_lightcurvefile function is deprecated and may be removed in a future version.\n",
      "        Use search_lightcurve() instead.\n"
     ]
    },
    {
     "name": "stdout",
     "output_type": "stream",
     "text": [
      "Transit midtime in TESS time: 2307.3329980000854\n",
      "No flares found in LC.\n",
      "Wrote out LC to /home/ekaterina/Documents/001_science/lcs/2022_08_02_388104525_02_altai_0.fits.\n",
      "\n",
      "---------------------\n",
      "0 flares found!\n",
      "-------------------\n",
      "\n",
      "(0, 0)\n",
      "Get TESS Sector/Quarter 30, TIC 38846515, WASP-100, fast cadence.\n"
     ]
    },
    {
     "name": "stderr",
     "output_type": "stream",
     "text": [
      "/home/ekaterina/Documents/000_envs/python37/lib/python3.7/site-packages/lightkurve/io/tess.py:34: ResourceWarning: unclosed file <_io.FileIO name='/home/ekaterina/Documents/001_science/lcs/mastDownload/TESS/tess2020266004630-s0030-0000000038846515-0195-a_fast/tess2020266004630-s0030-0000000038846515-0195-a_fast-lc.fits' mode='rb' closefd=True>\n",
      "  lc = read_generic_lightcurve(filename, flux_column=flux_column, time_format=\"btjd\")\n",
      "1% (1204/113535) of the cadences will be ignored due to the quality mask (quality_bitmask=175).\n",
      "1% (1204/113535) of the cadences will be ignored due to the quality mask (quality_bitmask=175).\n"
     ]
    },
    {
     "name": "stdout",
     "output_type": "stream",
     "text": [
      "date: 2022_08_02\n",
      "LC successfully detrended.\n"
     ]
    },
    {
     "name": "stderr",
     "output_type": "stream",
     "text": [
      "/home/ekaterina/Documents/000_envs/python37/lib/python3.7/site-packages/numpy/lib/nanfunctions.py:1117: RuntimeWarning: Mean of empty slice\n",
      "  return np.nanmean(a, axis, out=out, keepdims=keepdims)\n",
      "Found 0 candidate(s) in the (0,50360) gap.\n",
      "Found 0 candidate(s) in the (50360,101496) gap.\n"
     ]
    },
    {
     "name": "stdout",
     "output_type": "stream",
     "text": [
      "Transit midtime in TESS time: 2386.715317999944\n",
      "No flares found in LC.\n",
      "Wrote out LC to /home/ekaterina/Documents/001_science/lcs/2022_08_02_38846515_30_altai_0.fits.\n",
      "Get TESS Sector/Quarter 29, TIC 38846515, WASP-100, fast cadence.\n"
     ]
    },
    {
     "name": "stderr",
     "output_type": "stream",
     "text": [
      "/home/ekaterina/Documents/000_envs/python37/lib/python3.7/site-packages/lightkurve/io/tess.py:34: ResourceWarning: unclosed file <_io.FileIO name='/home/ekaterina/Documents/001_science/lcs/mastDownload/TESS/tess2020238165205-s0029-0000000038846515-0193-a_fast/tess2020238165205-s0029-0000000038846515-0193-a_fast-lc.fits' mode='rb' closefd=True>\n",
      "  lc = read_generic_lightcurve(filename, flux_column=flux_column, time_format=\"btjd\")\n",
      "1% (1060/109110) of the cadences will be ignored due to the quality mask (quality_bitmask=175).\n",
      "1% (1060/109110) of the cadences will be ignored due to the quality mask (quality_bitmask=175).\n"
     ]
    },
    {
     "name": "stdout",
     "output_type": "stream",
     "text": [
      "date: 2022_08_02\n",
      "LC successfully detrended.\n"
     ]
    },
    {
     "name": "stderr",
     "output_type": "stream",
     "text": [
      "/home/ekaterina/Documents/000_envs/python37/lib/python3.7/site-packages/numpy/lib/nanfunctions.py:1117: RuntimeWarning: Mean of empty slice\n",
      "  return np.nanmean(a, axis, out=out, keepdims=keepdims)\n",
      "Found 0 candidate(s) in the (0,48247) gap.\n",
      "Found 0 candidate(s) in the (48247,94409) gap.\n"
     ]
    },
    {
     "name": "stdout",
     "output_type": "stream",
     "text": [
      "Transit midtime in TESS time: 2386.715317999944\n",
      "No flares found in LC.\n",
      "Wrote out LC to /home/ekaterina/Documents/001_science/lcs/2022_08_02_38846515_29_altai_0.fits.\n",
      "Get TESS Sector/Quarter 32, TIC 38846515, WASP-100, fast cadence.\n"
     ]
    },
    {
     "name": "stderr",
     "output_type": "stream",
     "text": [
      "/home/ekaterina/Documents/000_envs/python37/lib/python3.7/site-packages/lightkurve/io/tess.py:34: ResourceWarning: unclosed file <_io.FileIO name='/home/ekaterina/Documents/001_science/lcs/mastDownload/TESS/tess2020324010417-s0032-0000000038846515-0200-a_fast/tess2020324010417-s0032-0000000038846515-0200-a_fast-lc.fits' mode='rb' closefd=True>\n",
      "  lc = read_generic_lightcurve(filename, flux_column=flux_column, time_format=\"btjd\")\n",
      "0% (174/108083) of the cadences will be ignored due to the quality mask (quality_bitmask=175).\n",
      "0% (174/108083) of the cadences will be ignored due to the quality mask (quality_bitmask=175).\n"
     ]
    },
    {
     "name": "stdout",
     "output_type": "stream",
     "text": [
      "date: 2022_08_02\n",
      "LC successfully detrended.\n"
     ]
    },
    {
     "name": "stderr",
     "output_type": "stream",
     "text": [
      "/home/ekaterina/Documents/000_envs/python37/lib/python3.7/site-packages/numpy/lib/nanfunctions.py:1117: RuntimeWarning: Mean of empty slice\n",
      "  return np.nanmean(a, axis, out=out, keepdims=keepdims)\n",
      "Found 1 candidate(s) in the (0,49573) gap.\n",
      "Found 0 candidate(s) in the (49573,104708) gap.\n"
     ]
    },
    {
     "name": "stdout",
     "output_type": "stream",
     "text": [
      "Transit midtime in TESS time: 2386.715317999944\n",
      "Flares found:\n",
      "        tstart        tstop     phase  ampl_rec       dur\n",
      "0  2182.436659  2182.437353  0.307681  0.040027  0.000694\n",
      "Wrote out LC to /home/ekaterina/Documents/001_science/lcs/2022_08_02_38846515_32_altai_0.fits.\n",
      "Get TESS Sector/Quarter 28, TIC 38846515, WASP-100, fast cadence.\n"
     ]
    },
    {
     "name": "stderr",
     "output_type": "stream",
     "text": [
      "/home/ekaterina/Documents/000_envs/python37/lib/python3.7/site-packages/lightkurve/io/tess.py:34: ResourceWarning: unclosed file <_io.FileIO name='/home/ekaterina/Documents/001_science/lcs/mastDownload/TESS/tess2020212050318-s0028-0000000038846515-0190-a_fast/tess2020212050318-s0028-0000000038846515-0190-a_fast-lc.fits' mode='rb' closefd=True>\n",
      "  lc = read_generic_lightcurve(filename, flux_column=flux_column, time_format=\"btjd\")\n",
      "0% (161/103965) of the cadences will be ignored due to the quality mask (quality_bitmask=175).\n",
      "0% (161/103965) of the cadences will be ignored due to the quality mask (quality_bitmask=175).\n"
     ]
    },
    {
     "name": "stdout",
     "output_type": "stream",
     "text": [
      "date: 2022_08_02\n",
      "LC successfully detrended.\n"
     ]
    },
    {
     "name": "stderr",
     "output_type": "stream",
     "text": [
      "/home/ekaterina/Documents/000_envs/python37/lib/python3.7/site-packages/numpy/lib/nanfunctions.py:1117: RuntimeWarning: Mean of empty slice\n",
      "  return np.nanmean(a, axis, out=out, keepdims=keepdims)\n",
      "Found 1 candidate(s) in the (0,43189) gap.\n",
      "Found 0 candidate(s) in the (43189,86396) gap.\n"
     ]
    },
    {
     "name": "stdout",
     "output_type": "stream",
     "text": [
      "Transit midtime in TESS time: 2386.715317999944\n",
      "Flares found:\n",
      "        tstart        tstop     phase  ampl_rec       dur\n",
      "0  2069.830145  2069.831071  0.788026   0.15753  0.000926\n",
      "Wrote out LC to /home/ekaterina/Documents/001_science/lcs/2022_08_02_38846515_28_altai_0.fits.\n",
      "Get TESS Sector/Quarter 27, TIC 38846515, WASP-100, fast cadence.\n"
     ]
    },
    {
     "name": "stderr",
     "output_type": "stream",
     "text": [
      "/home/ekaterina/Documents/000_envs/python37/lib/python3.7/site-packages/lightkurve/io/tess.py:34: ResourceWarning: unclosed file <_io.FileIO name='/home/ekaterina/Documents/001_science/lcs/mastDownload/TESS/tess2020186164531-s0027-0000000038846515-0189-a_fast/tess2020186164531-s0027-0000000038846515-0189-a_fast-lc.fits' mode='rb' closefd=True>\n",
      "  lc = read_generic_lightcurve(filename, flux_column=flux_column, time_format=\"btjd\")\n",
      "0% (154/100890) of the cadences will be ignored due to the quality mask (quality_bitmask=175).\n",
      "0% (154/100890) of the cadences will be ignored due to the quality mask (quality_bitmask=175).\n"
     ]
    },
    {
     "name": "stdout",
     "output_type": "stream",
     "text": [
      "date: 2022_08_02\n",
      "LC successfully detrended.\n"
     ]
    },
    {
     "name": "stderr",
     "output_type": "stream",
     "text": [
      "/home/ekaterina/Documents/000_envs/python37/lib/python3.7/site-packages/numpy/lib/nanfunctions.py:1117: RuntimeWarning: Mean of empty slice\n",
      "  return np.nanmean(a, axis, out=out, keepdims=keepdims)\n",
      "Found 1 candidate(s) in the (0,49146) gap.\n",
      "Found 0 candidate(s) in the (49146,96752) gap.\n"
     ]
    },
    {
     "name": "stdout",
     "output_type": "stream",
     "text": [
      "Transit midtime in TESS time: 2386.715317999944\n",
      "Flares found:\n",
      "        tstart        tstop     phase  ampl_rec       dur\n",
      "0  2039.279738  2039.280432  0.066253  0.099684  0.000694\n",
      "Wrote out LC to /home/ekaterina/Documents/001_science/lcs/2022_08_02_38846515_27_altai_0.fits.\n",
      "Get TESS Sector/Quarter 33, TIC 38846515, WASP-100, fast cadence.\n"
     ]
    },
    {
     "name": "stderr",
     "output_type": "stream",
     "text": [
      "/home/ekaterina/Documents/000_envs/python37/lib/python3.7/site-packages/lightkurve/io/tess.py:34: ResourceWarning: unclosed file <_io.FileIO name='/home/ekaterina/Documents/001_science/lcs/mastDownload/TESS/tess2020351194500-s0033-0000000038846515-0203-a_fast/tess2020351194500-s0033-0000000038846515-0203-a_fast-lc.fits' mode='rb' closefd=True>\n",
      "  lc = read_generic_lightcurve(filename, flux_column=flux_column, time_format=\"btjd\")\n",
      "0% (139/104910) of the cadences will be ignored due to the quality mask (quality_bitmask=175).\n",
      "0% (139/104910) of the cadences will be ignored due to the quality mask (quality_bitmask=175).\n"
     ]
    },
    {
     "name": "stdout",
     "output_type": "stream",
     "text": [
      "date: 2022_08_02\n",
      "LC successfully detrended.\n"
     ]
    },
    {
     "name": "stderr",
     "output_type": "stream",
     "text": [
      "/home/ekaterina/Documents/000_envs/python37/lib/python3.7/site-packages/numpy/lib/nanfunctions.py:1117: RuntimeWarning: Mean of empty slice\n",
      "  return np.nanmean(a, axis, out=out, keepdims=keepdims)\n",
      "Found 1 candidate(s) in the (0,52371) gap.\n",
      "Found 3 candidate(s) in the (52371,104771) gap.\n"
     ]
    },
    {
     "name": "stdout",
     "output_type": "stream",
     "text": [
      "Transit midtime in TESS time: 2386.715317999944\n",
      "Flares found:\n",
      "        tstart        tstop     phase  ampl_rec       dur\n",
      "0  2208.690185  2208.690879  0.521449  0.022857  0.000694\n",
      "1  2216.098626  2216.099321  0.121468  0.017032  0.000694\n",
      "2  2220.033287  2220.033982  0.502351  0.029635  0.000694\n",
      "3  2224.246642  2224.247336  0.981043  0.072432  0.000694\n",
      "Wrote out LC to /home/ekaterina/Documents/001_science/lcs/2022_08_02_38846515_33_altai_0.fits.\n",
      "Get TESS Sector/Quarter 39, TIC 38846515, WASP-100, fast cadence.\n"
     ]
    },
    {
     "ename": "KeyboardInterrupt",
     "evalue": "",
     "output_type": "error",
     "traceback": [
      "\u001b[0;31m---------------------------------------------------------------------------\u001b[0m",
      "\u001b[0;31mKeyboardInterrupt\u001b[0m                         Traceback (most recent call last)",
      "\u001b[0;32m/tmp/ipykernel_5897/1574339314.py\u001b[0m in \u001b[0;36m<module>\u001b[0;34m\u001b[0m\n\u001b[1;32m     35\u001b[0m             flc = from_mast(TIC, mission=mission, c=sector,\n\u001b[1;32m     36\u001b[0m                         \u001b[0mcadence\u001b[0m\u001b[0;34m=\u001b[0m\u001b[0mcadence\u001b[0m\u001b[0;34m,\u001b[0m \u001b[0mauthor\u001b[0m\u001b[0;34m=\u001b[0m\u001b[0;34m\"SPOC\"\u001b[0m\u001b[0;34m,\u001b[0m\u001b[0;34m\u001b[0m\u001b[0;34m\u001b[0m\u001b[0m\n\u001b[0;32m---> 37\u001b[0;31m                         download_dir=download_dir)\n\u001b[0m\u001b[1;32m     38\u001b[0m             \u001b[0;32mif\u001b[0m \u001b[0mflc\u001b[0m \u001b[0;32mis\u001b[0m \u001b[0;32mNone\u001b[0m\u001b[0;34m:\u001b[0m\u001b[0;34m\u001b[0m\u001b[0;34m\u001b[0m\u001b[0m\n\u001b[1;32m     39\u001b[0m                 \u001b[0mprint\u001b[0m\u001b[0;34m(\u001b[0m\u001b[0;34mf\"No LC found for {mission}, {ID}, Quarter {sector}.\"\u001b[0m\u001b[0;34m)\u001b[0m\u001b[0;34m\u001b[0m\u001b[0;34m\u001b[0m\u001b[0m\n",
      "\u001b[0;32m~/Documents/000_envs/python37/lib/python3.7/site-packages/altaipony/lcio.py\u001b[0m in \u001b[0;36mfrom_mast\u001b[0;34m(targetid, mission, c, mode, campaign, sector, quarter, **kwargs)\u001b[0m\n\u001b[1;32m     67\u001b[0m         \u001b[0;32mif\u001b[0m \u001b[0msector\u001b[0m \u001b[0;34m!=\u001b[0m \u001b[0;32mNone\u001b[0m\u001b[0;34m:\u001b[0m\u001b[0;34m\u001b[0m\u001b[0;34m\u001b[0m\u001b[0m\n\u001b[1;32m     68\u001b[0m             \u001b[0mc\u001b[0m \u001b[0;34m=\u001b[0m \u001b[0msector\u001b[0m\u001b[0;34m\u001b[0m\u001b[0;34m\u001b[0m\u001b[0m\n\u001b[0;32m---> 69\u001b[0;31m         \u001b[0;32mreturn\u001b[0m \u001b[0m_from_mast_TESS\u001b[0m\u001b[0;34m(\u001b[0m\u001b[0mtargetid\u001b[0m\u001b[0;34m,\u001b[0m \u001b[0mc\u001b[0m\u001b[0;34m,\u001b[0m \u001b[0;34m**\u001b[0m\u001b[0mkwargs\u001b[0m\u001b[0;34m)\u001b[0m\u001b[0;34m\u001b[0m\u001b[0;34m\u001b[0m\u001b[0m\n\u001b[0m\u001b[1;32m     70\u001b[0m \u001b[0;34m\u001b[0m\u001b[0m\n\u001b[1;32m     71\u001b[0m     \u001b[0;32mreturn\u001b[0m\u001b[0;34m\u001b[0m\u001b[0;34m\u001b[0m\u001b[0m\n",
      "\u001b[0;32m~/Documents/000_envs/python37/lib/python3.7/site-packages/altaipony/lcio.py\u001b[0m in \u001b[0;36m_from_mast_TESS\u001b[0;34m(targetid, c, flux_type, cadence, download_dir, **kwargs)\u001b[0m\n\u001b[1;32m    123\u001b[0m     return _handle_missions(flcfilelist, mission, flux_type,\n\u001b[1;32m    124\u001b[0m                             \u001b[0mcadence\u001b[0m\u001b[0;34m,\u001b[0m \u001b[0mdownload_dir\u001b[0m\u001b[0;34m,\u001b[0m \u001b[0mtargetid\u001b[0m\u001b[0;34m,\u001b[0m\u001b[0;34m\u001b[0m\u001b[0;34m\u001b[0m\u001b[0m\n\u001b[0;32m--> 125\u001b[0;31m                             c)\n\u001b[0m\u001b[1;32m    126\u001b[0m \u001b[0;34m\u001b[0m\u001b[0m\n\u001b[1;32m    127\u001b[0m def _handle_missions(flcfilelist, mission, flux_type,\n",
      "\u001b[0;32m~/Documents/000_envs/python37/lib/python3.7/site-packages/altaipony/lcio.py\u001b[0m in \u001b[0;36m_handle_missions\u001b[0;34m(flcfilelist, mission, flux_type, cadence, download_dir, targetid, c)\u001b[0m\n\u001b[1;32m    158\u001b[0m \u001b[0;34m\u001b[0m\u001b[0m\n\u001b[1;32m    159\u001b[0m     \u001b[0;32mif\u001b[0m \u001b[0mlen\u001b[0m\u001b[0;34m(\u001b[0m\u001b[0mflcfilelist\u001b[0m\u001b[0;34m)\u001b[0m\u001b[0;34m==\u001b[0m\u001b[0;36m1\u001b[0m\u001b[0;34m:\u001b[0m\u001b[0;34m\u001b[0m\u001b[0;34m\u001b[0m\u001b[0m\n\u001b[0;32m--> 160\u001b[0;31m         \u001b[0mlc\u001b[0m \u001b[0;34m=\u001b[0m \u001b[0mflcfilelist\u001b[0m\u001b[0;34m.\u001b[0m\u001b[0mdownload\u001b[0m\u001b[0;34m(\u001b[0m\u001b[0mdownload_dir\u001b[0m\u001b[0;34m=\u001b[0m\u001b[0mdownload_dir\u001b[0m\u001b[0;34m)\u001b[0m\u001b[0;34m\u001b[0m\u001b[0;34m\u001b[0m\u001b[0m\n\u001b[0m\u001b[1;32m    161\u001b[0m         \u001b[0;31m#lc = flcfile.get_lightcurve(flux_type)\u001b[0m\u001b[0;34m\u001b[0m\u001b[0;34m\u001b[0m\u001b[0;34m\u001b[0m\u001b[0m\n\u001b[1;32m    162\u001b[0m \u001b[0;34m\u001b[0m\u001b[0m\n",
      "\u001b[0;32m~/Documents/000_envs/python37/lib/python3.7/site-packages/lightkurve/utils.py\u001b[0m in \u001b[0;36mwrapper\u001b[0;34m(*args, **kwargs)\u001b[0m\n\u001b[1;32m    553\u001b[0m             \u001b[0msys\u001b[0m\u001b[0;34m.\u001b[0m\u001b[0mstdout\u001b[0m \u001b[0;34m=\u001b[0m \u001b[0mdevnull\u001b[0m\u001b[0;34m\u001b[0m\u001b[0;34m\u001b[0m\u001b[0m\n\u001b[1;32m    554\u001b[0m             \u001b[0;32mtry\u001b[0m\u001b[0;34m:\u001b[0m\u001b[0;34m\u001b[0m\u001b[0;34m\u001b[0m\u001b[0m\n\u001b[0;32m--> 555\u001b[0;31m                 \u001b[0;32mreturn\u001b[0m \u001b[0mf\u001b[0m\u001b[0;34m(\u001b[0m\u001b[0;34m*\u001b[0m\u001b[0margs\u001b[0m\u001b[0;34m,\u001b[0m \u001b[0;34m**\u001b[0m\u001b[0mkwargs\u001b[0m\u001b[0;34m)\u001b[0m\u001b[0;34m\u001b[0m\u001b[0;34m\u001b[0m\u001b[0m\n\u001b[0m\u001b[1;32m    556\u001b[0m             \u001b[0;31m# restore to default\u001b[0m\u001b[0;34m\u001b[0m\u001b[0;34m\u001b[0m\u001b[0;34m\u001b[0m\u001b[0m\n\u001b[1;32m    557\u001b[0m             \u001b[0;32mfinally\u001b[0m\u001b[0;34m:\u001b[0m\u001b[0;34m\u001b[0m\u001b[0;34m\u001b[0m\u001b[0m\n",
      "\u001b[0;32m~/Documents/000_envs/python37/lib/python3.7/site-packages/lightkurve/search.py\u001b[0m in \u001b[0;36mdownload\u001b[0;34m(self, quality_bitmask, download_dir, cutout_size, **kwargs)\u001b[0m\n\u001b[1;32m    358\u001b[0m             \u001b[0mdownload_dir\u001b[0m\u001b[0;34m=\u001b[0m\u001b[0mdownload_dir\u001b[0m\u001b[0;34m,\u001b[0m\u001b[0;34m\u001b[0m\u001b[0;34m\u001b[0m\u001b[0m\n\u001b[1;32m    359\u001b[0m             \u001b[0mcutout_size\u001b[0m\u001b[0;34m=\u001b[0m\u001b[0mcutout_size\u001b[0m\u001b[0;34m,\u001b[0m\u001b[0;34m\u001b[0m\u001b[0;34m\u001b[0m\u001b[0m\n\u001b[0;32m--> 360\u001b[0;31m             \u001b[0;34m**\u001b[0m\u001b[0mkwargs\u001b[0m\u001b[0;34m,\u001b[0m\u001b[0;34m\u001b[0m\u001b[0;34m\u001b[0m\u001b[0m\n\u001b[0m\u001b[1;32m    361\u001b[0m         )\n\u001b[1;32m    362\u001b[0m \u001b[0;34m\u001b[0m\u001b[0m\n",
      "\u001b[0;32m~/Documents/000_envs/python37/lib/python3.7/site-packages/lightkurve/search.py\u001b[0m in \u001b[0;36m_download_one\u001b[0;34m(self, table, quality_bitmask, download_dir, cutout_size, **kwargs)\u001b[0m\n\u001b[1;32m    285\u001b[0m                 \u001b[0mlog\u001b[0m\u001b[0;34m.\u001b[0m\u001b[0mdebug\u001b[0m\u001b[0;34m(\u001b[0m\u001b[0;34m\"Started downloading {}.\"\u001b[0m\u001b[0;34m.\u001b[0m\u001b[0mformat\u001b[0m\u001b[0;34m(\u001b[0m\u001b[0mtable\u001b[0m\u001b[0;34m[\u001b[0m\u001b[0;34m:\u001b[0m\u001b[0;36m1\u001b[0m\u001b[0;34m]\u001b[0m\u001b[0;34m[\u001b[0m\u001b[0;34m\"dataURL\"\u001b[0m\u001b[0;34m]\u001b[0m\u001b[0;34m[\u001b[0m\u001b[0;36m0\u001b[0m\u001b[0;34m]\u001b[0m\u001b[0;34m)\u001b[0m\u001b[0;34m)\u001b[0m\u001b[0;34m\u001b[0m\u001b[0;34m\u001b[0m\u001b[0m\n\u001b[1;32m    286\u001b[0m                 path = Observations.download_products(\n\u001b[0;32m--> 287\u001b[0;31m                     \u001b[0mtable\u001b[0m\u001b[0;34m[\u001b[0m\u001b[0;34m:\u001b[0m\u001b[0;36m1\u001b[0m\u001b[0;34m]\u001b[0m\u001b[0;34m,\u001b[0m \u001b[0mmrp_only\u001b[0m\u001b[0;34m=\u001b[0m\u001b[0;32mFalse\u001b[0m\u001b[0;34m,\u001b[0m \u001b[0mdownload_dir\u001b[0m\u001b[0;34m=\u001b[0m\u001b[0mdownload_dir\u001b[0m\u001b[0;34m\u001b[0m\u001b[0;34m\u001b[0m\u001b[0m\n\u001b[0m\u001b[1;32m    288\u001b[0m                 )[\"Local Path\"][0]\n\u001b[1;32m    289\u001b[0m                 \u001b[0mlog\u001b[0m\u001b[0;34m.\u001b[0m\u001b[0mdebug\u001b[0m\u001b[0;34m(\u001b[0m\u001b[0;34m\"Finished downloading.\"\u001b[0m\u001b[0;34m)\u001b[0m\u001b[0;34m\u001b[0m\u001b[0;34m\u001b[0m\u001b[0m\n",
      "\u001b[0;32m~/Documents/000_envs/python37/lib/python3.7/site-packages/astroquery/mast/observations.py\u001b[0m in \u001b[0;36mdownload_products\u001b[0;34m(self, products, download_dir, cache, curl_flag, mrp_only, cloud_only, **filters)\u001b[0m\n\u001b[1;32m    726\u001b[0m         \u001b[0;32melse\u001b[0m\u001b[0;34m:\u001b[0m\u001b[0;34m\u001b[0m\u001b[0;34m\u001b[0m\u001b[0m\n\u001b[1;32m    727\u001b[0m             \u001b[0mbase_dir\u001b[0m \u001b[0;34m=\u001b[0m \u001b[0mdownload_dir\u001b[0m\u001b[0;34m.\u001b[0m\u001b[0mrstrip\u001b[0m\u001b[0;34m(\u001b[0m\u001b[0;34m'/'\u001b[0m\u001b[0;34m)\u001b[0m \u001b[0;34m+\u001b[0m \u001b[0;34m\"/mastDownload\"\u001b[0m\u001b[0;34m\u001b[0m\u001b[0;34m\u001b[0m\u001b[0m\n\u001b[0;32m--> 728\u001b[0;31m             \u001b[0mmanifest\u001b[0m \u001b[0;34m=\u001b[0m \u001b[0mself\u001b[0m\u001b[0;34m.\u001b[0m\u001b[0m_download_files\u001b[0m\u001b[0;34m(\u001b[0m\u001b[0mproducts\u001b[0m\u001b[0;34m,\u001b[0m \u001b[0mbase_dir\u001b[0m\u001b[0;34m,\u001b[0m \u001b[0mcache\u001b[0m\u001b[0;34m,\u001b[0m \u001b[0mcloud_only\u001b[0m\u001b[0;34m)\u001b[0m\u001b[0;34m\u001b[0m\u001b[0;34m\u001b[0m\u001b[0m\n\u001b[0m\u001b[1;32m    729\u001b[0m \u001b[0;34m\u001b[0m\u001b[0m\n\u001b[1;32m    730\u001b[0m         \u001b[0;32mreturn\u001b[0m \u001b[0mmanifest\u001b[0m\u001b[0;34m\u001b[0m\u001b[0;34m\u001b[0m\u001b[0m\n",
      "\u001b[0;32m~/Documents/000_envs/python37/lib/python3.7/site-packages/astroquery/mast/observations.py\u001b[0m in \u001b[0;36m_download_files\u001b[0;34m(self, products, base_dir, cache, cloud_only)\u001b[0m\n\u001b[1;32m    611\u001b[0m             \u001b[0;31m# download the files\u001b[0m\u001b[0;34m\u001b[0m\u001b[0;34m\u001b[0m\u001b[0;34m\u001b[0m\u001b[0m\n\u001b[1;32m    612\u001b[0m             status, msg, url = self.download_file(data_product[\"dataURI\"], local_path=local_path,\n\u001b[0;32m--> 613\u001b[0;31m                                                   cache=cache, cloud_only=cloud_only)\n\u001b[0m\u001b[1;32m    614\u001b[0m \u001b[0;34m\u001b[0m\u001b[0m\n\u001b[1;32m    615\u001b[0m             \u001b[0mmanifest_array\u001b[0m\u001b[0;34m.\u001b[0m\u001b[0mappend\u001b[0m\u001b[0;34m(\u001b[0m\u001b[0;34m[\u001b[0m\u001b[0mlocal_path\u001b[0m\u001b[0;34m,\u001b[0m \u001b[0mstatus\u001b[0m\u001b[0;34m,\u001b[0m \u001b[0mmsg\u001b[0m\u001b[0;34m,\u001b[0m \u001b[0murl\u001b[0m\u001b[0;34m]\u001b[0m\u001b[0;34m)\u001b[0m\u001b[0;34m\u001b[0m\u001b[0;34m\u001b[0m\u001b[0m\n",
      "\u001b[0;32m~/Documents/000_envs/python37/lib/python3.7/site-packages/astroquery/mast/observations.py\u001b[0m in \u001b[0;36mdownload_file\u001b[0;34m(self, uri, local_path, base_url, cache, cloud_only)\u001b[0m\n\u001b[1;32m    562\u001b[0m             \u001b[0;32melse\u001b[0m\u001b[0;34m:\u001b[0m\u001b[0;34m\u001b[0m\u001b[0;34m\u001b[0m\u001b[0m\n\u001b[1;32m    563\u001b[0m                 self._download_file(data_url, local_path,\n\u001b[0;32m--> 564\u001b[0;31m                                     cache=cache, head_safe=True, continuation=False)\n\u001b[0m\u001b[1;32m    565\u001b[0m \u001b[0;34m\u001b[0m\u001b[0m\n\u001b[1;32m    566\u001b[0m             \u001b[0;31m# check if file exists also this is where would perform md5,\u001b[0m\u001b[0;34m\u001b[0m\u001b[0;34m\u001b[0m\u001b[0;34m\u001b[0m\u001b[0m\n",
      "\u001b[0;32m~/Documents/000_envs/python37/lib/python3.7/site-packages/astroquery/query.py\u001b[0m in \u001b[0;36m_download_file\u001b[0;34m(self, url, local_filepath, timeout, auth, continuation, cache, method, head_safe, **kwargs)\u001b[0m\n\u001b[1;32m    422\u001b[0m                                   file=progress_stream) as pb:\n\u001b[1;32m    423\u001b[0m             \u001b[0;32mwith\u001b[0m \u001b[0mopen\u001b[0m\u001b[0;34m(\u001b[0m\u001b[0mlocal_filepath\u001b[0m\u001b[0;34m,\u001b[0m \u001b[0mopen_mode\u001b[0m\u001b[0;34m)\u001b[0m \u001b[0;32mas\u001b[0m \u001b[0mf\u001b[0m\u001b[0;34m:\u001b[0m\u001b[0;34m\u001b[0m\u001b[0;34m\u001b[0m\u001b[0m\n\u001b[0;32m--> 424\u001b[0;31m                 \u001b[0;32mfor\u001b[0m \u001b[0mblock\u001b[0m \u001b[0;32min\u001b[0m \u001b[0mresponse\u001b[0m\u001b[0;34m.\u001b[0m\u001b[0miter_content\u001b[0m\u001b[0;34m(\u001b[0m\u001b[0mblocksize\u001b[0m\u001b[0;34m)\u001b[0m\u001b[0;34m:\u001b[0m\u001b[0;34m\u001b[0m\u001b[0;34m\u001b[0m\u001b[0m\n\u001b[0m\u001b[1;32m    425\u001b[0m                     \u001b[0mf\u001b[0m\u001b[0;34m.\u001b[0m\u001b[0mwrite\u001b[0m\u001b[0;34m(\u001b[0m\u001b[0mblock\u001b[0m\u001b[0;34m)\u001b[0m\u001b[0;34m\u001b[0m\u001b[0;34m\u001b[0m\u001b[0m\n\u001b[1;32m    426\u001b[0m                     \u001b[0mbytes_read\u001b[0m \u001b[0;34m+=\u001b[0m \u001b[0mlen\u001b[0m\u001b[0;34m(\u001b[0m\u001b[0mblock\u001b[0m\u001b[0;34m)\u001b[0m\u001b[0;34m\u001b[0m\u001b[0;34m\u001b[0m\u001b[0m\n",
      "\u001b[0;32m~/Documents/000_envs/python37/lib/python3.7/site-packages/requests/models.py\u001b[0m in \u001b[0;36mgenerate\u001b[0;34m()\u001b[0m\n\u001b[1;32m    756\u001b[0m             \u001b[0;32mif\u001b[0m \u001b[0mhasattr\u001b[0m\u001b[0;34m(\u001b[0m\u001b[0mself\u001b[0m\u001b[0;34m.\u001b[0m\u001b[0mraw\u001b[0m\u001b[0;34m,\u001b[0m \u001b[0;34m'stream'\u001b[0m\u001b[0;34m)\u001b[0m\u001b[0;34m:\u001b[0m\u001b[0;34m\u001b[0m\u001b[0;34m\u001b[0m\u001b[0m\n\u001b[1;32m    757\u001b[0m                 \u001b[0;32mtry\u001b[0m\u001b[0;34m:\u001b[0m\u001b[0;34m\u001b[0m\u001b[0;34m\u001b[0m\u001b[0m\n\u001b[0;32m--> 758\u001b[0;31m                     \u001b[0;32mfor\u001b[0m \u001b[0mchunk\u001b[0m \u001b[0;32min\u001b[0m \u001b[0mself\u001b[0m\u001b[0;34m.\u001b[0m\u001b[0mraw\u001b[0m\u001b[0;34m.\u001b[0m\u001b[0mstream\u001b[0m\u001b[0;34m(\u001b[0m\u001b[0mchunk_size\u001b[0m\u001b[0;34m,\u001b[0m \u001b[0mdecode_content\u001b[0m\u001b[0;34m=\u001b[0m\u001b[0;32mTrue\u001b[0m\u001b[0;34m)\u001b[0m\u001b[0;34m:\u001b[0m\u001b[0;34m\u001b[0m\u001b[0;34m\u001b[0m\u001b[0m\n\u001b[0m\u001b[1;32m    759\u001b[0m                         \u001b[0;32myield\u001b[0m \u001b[0mchunk\u001b[0m\u001b[0;34m\u001b[0m\u001b[0;34m\u001b[0m\u001b[0m\n\u001b[1;32m    760\u001b[0m                 \u001b[0;32mexcept\u001b[0m \u001b[0mProtocolError\u001b[0m \u001b[0;32mas\u001b[0m \u001b[0me\u001b[0m\u001b[0;34m:\u001b[0m\u001b[0;34m\u001b[0m\u001b[0;34m\u001b[0m\u001b[0m\n",
      "\u001b[0;32m~/Documents/000_envs/python37/lib/python3.7/site-packages/urllib3/response.py\u001b[0m in \u001b[0;36mstream\u001b[0;34m(self, amt, decode_content)\u001b[0m\n\u001b[1;32m    574\u001b[0m         \u001b[0;32melse\u001b[0m\u001b[0;34m:\u001b[0m\u001b[0;34m\u001b[0m\u001b[0;34m\u001b[0m\u001b[0m\n\u001b[1;32m    575\u001b[0m             \u001b[0;32mwhile\u001b[0m \u001b[0;32mnot\u001b[0m \u001b[0mis_fp_closed\u001b[0m\u001b[0;34m(\u001b[0m\u001b[0mself\u001b[0m\u001b[0;34m.\u001b[0m\u001b[0m_fp\u001b[0m\u001b[0;34m)\u001b[0m\u001b[0;34m:\u001b[0m\u001b[0;34m\u001b[0m\u001b[0;34m\u001b[0m\u001b[0m\n\u001b[0;32m--> 576\u001b[0;31m                 \u001b[0mdata\u001b[0m \u001b[0;34m=\u001b[0m \u001b[0mself\u001b[0m\u001b[0;34m.\u001b[0m\u001b[0mread\u001b[0m\u001b[0;34m(\u001b[0m\u001b[0mamt\u001b[0m\u001b[0;34m=\u001b[0m\u001b[0mamt\u001b[0m\u001b[0;34m,\u001b[0m \u001b[0mdecode_content\u001b[0m\u001b[0;34m=\u001b[0m\u001b[0mdecode_content\u001b[0m\u001b[0;34m)\u001b[0m\u001b[0;34m\u001b[0m\u001b[0;34m\u001b[0m\u001b[0m\n\u001b[0m\u001b[1;32m    577\u001b[0m \u001b[0;34m\u001b[0m\u001b[0m\n\u001b[1;32m    578\u001b[0m                 \u001b[0;32mif\u001b[0m \u001b[0mdata\u001b[0m\u001b[0;34m:\u001b[0m\u001b[0;34m\u001b[0m\u001b[0;34m\u001b[0m\u001b[0m\n",
      "\u001b[0;32m~/Documents/000_envs/python37/lib/python3.7/site-packages/urllib3/response.py\u001b[0m in \u001b[0;36mread\u001b[0;34m(self, amt, decode_content, cache_content)\u001b[0m\n\u001b[1;32m    517\u001b[0m             \u001b[0;32melse\u001b[0m\u001b[0;34m:\u001b[0m\u001b[0;34m\u001b[0m\u001b[0;34m\u001b[0m\u001b[0m\n\u001b[1;32m    518\u001b[0m                 \u001b[0mcache_content\u001b[0m \u001b[0;34m=\u001b[0m \u001b[0;32mFalse\u001b[0m\u001b[0;34m\u001b[0m\u001b[0;34m\u001b[0m\u001b[0m\n\u001b[0;32m--> 519\u001b[0;31m                 \u001b[0mdata\u001b[0m \u001b[0;34m=\u001b[0m \u001b[0mself\u001b[0m\u001b[0;34m.\u001b[0m\u001b[0m_fp\u001b[0m\u001b[0;34m.\u001b[0m\u001b[0mread\u001b[0m\u001b[0;34m(\u001b[0m\u001b[0mamt\u001b[0m\u001b[0;34m)\u001b[0m \u001b[0;32mif\u001b[0m \u001b[0;32mnot\u001b[0m \u001b[0mfp_closed\u001b[0m \u001b[0;32melse\u001b[0m \u001b[0;34mb\"\"\u001b[0m\u001b[0;34m\u001b[0m\u001b[0;34m\u001b[0m\u001b[0m\n\u001b[0m\u001b[1;32m    520\u001b[0m                 if (\n\u001b[1;32m    521\u001b[0m                     \u001b[0mamt\u001b[0m \u001b[0;34m!=\u001b[0m \u001b[0;36m0\u001b[0m \u001b[0;32mand\u001b[0m \u001b[0;32mnot\u001b[0m \u001b[0mdata\u001b[0m\u001b[0;34m\u001b[0m\u001b[0;34m\u001b[0m\u001b[0m\n",
      "\u001b[0;32m/usr/lib/python3.7/http/client.py\u001b[0m in \u001b[0;36mread\u001b[0;34m(self, amt)\u001b[0m\n\u001b[1;32m    459\u001b[0m             \u001b[0;31m# Amount is given, implement using readinto\u001b[0m\u001b[0;34m\u001b[0m\u001b[0;34m\u001b[0m\u001b[0;34m\u001b[0m\u001b[0m\n\u001b[1;32m    460\u001b[0m             \u001b[0mb\u001b[0m \u001b[0;34m=\u001b[0m \u001b[0mbytearray\u001b[0m\u001b[0;34m(\u001b[0m\u001b[0mamt\u001b[0m\u001b[0;34m)\u001b[0m\u001b[0;34m\u001b[0m\u001b[0;34m\u001b[0m\u001b[0m\n\u001b[0;32m--> 461\u001b[0;31m             \u001b[0mn\u001b[0m \u001b[0;34m=\u001b[0m \u001b[0mself\u001b[0m\u001b[0;34m.\u001b[0m\u001b[0mreadinto\u001b[0m\u001b[0;34m(\u001b[0m\u001b[0mb\u001b[0m\u001b[0;34m)\u001b[0m\u001b[0;34m\u001b[0m\u001b[0;34m\u001b[0m\u001b[0m\n\u001b[0m\u001b[1;32m    462\u001b[0m             \u001b[0;32mreturn\u001b[0m \u001b[0mmemoryview\u001b[0m\u001b[0;34m(\u001b[0m\u001b[0mb\u001b[0m\u001b[0;34m)\u001b[0m\u001b[0;34m[\u001b[0m\u001b[0;34m:\u001b[0m\u001b[0mn\u001b[0m\u001b[0;34m]\u001b[0m\u001b[0;34m.\u001b[0m\u001b[0mtobytes\u001b[0m\u001b[0;34m(\u001b[0m\u001b[0;34m)\u001b[0m\u001b[0;34m\u001b[0m\u001b[0;34m\u001b[0m\u001b[0m\n\u001b[1;32m    463\u001b[0m         \u001b[0;32melse\u001b[0m\u001b[0;34m:\u001b[0m\u001b[0;34m\u001b[0m\u001b[0;34m\u001b[0m\u001b[0m\n",
      "\u001b[0;32m/usr/lib/python3.7/http/client.py\u001b[0m in \u001b[0;36mreadinto\u001b[0;34m(self, b)\u001b[0m\n\u001b[1;32m    503\u001b[0m         \u001b[0;31m# connection, and the user is reading more bytes than will be provided\u001b[0m\u001b[0;34m\u001b[0m\u001b[0;34m\u001b[0m\u001b[0;34m\u001b[0m\u001b[0m\n\u001b[1;32m    504\u001b[0m         \u001b[0;31m# (for example, reading in 1k chunks)\u001b[0m\u001b[0;34m\u001b[0m\u001b[0;34m\u001b[0m\u001b[0;34m\u001b[0m\u001b[0m\n\u001b[0;32m--> 505\u001b[0;31m         \u001b[0mn\u001b[0m \u001b[0;34m=\u001b[0m \u001b[0mself\u001b[0m\u001b[0;34m.\u001b[0m\u001b[0mfp\u001b[0m\u001b[0;34m.\u001b[0m\u001b[0mreadinto\u001b[0m\u001b[0;34m(\u001b[0m\u001b[0mb\u001b[0m\u001b[0;34m)\u001b[0m\u001b[0;34m\u001b[0m\u001b[0;34m\u001b[0m\u001b[0m\n\u001b[0m\u001b[1;32m    506\u001b[0m         \u001b[0;32mif\u001b[0m \u001b[0;32mnot\u001b[0m \u001b[0mn\u001b[0m \u001b[0;32mand\u001b[0m \u001b[0mb\u001b[0m\u001b[0;34m:\u001b[0m\u001b[0;34m\u001b[0m\u001b[0;34m\u001b[0m\u001b[0m\n\u001b[1;32m    507\u001b[0m             \u001b[0;31m# Ideally, we would raise IncompleteRead if the content-length\u001b[0m\u001b[0;34m\u001b[0m\u001b[0;34m\u001b[0m\u001b[0;34m\u001b[0m\u001b[0m\n",
      "\u001b[0;32m/usr/lib/python3.7/socket.py\u001b[0m in \u001b[0;36mreadinto\u001b[0;34m(self, b)\u001b[0m\n\u001b[1;32m    587\u001b[0m         \u001b[0;32mwhile\u001b[0m \u001b[0;32mTrue\u001b[0m\u001b[0;34m:\u001b[0m\u001b[0;34m\u001b[0m\u001b[0;34m\u001b[0m\u001b[0m\n\u001b[1;32m    588\u001b[0m             \u001b[0;32mtry\u001b[0m\u001b[0;34m:\u001b[0m\u001b[0;34m\u001b[0m\u001b[0;34m\u001b[0m\u001b[0m\n\u001b[0;32m--> 589\u001b[0;31m                 \u001b[0;32mreturn\u001b[0m \u001b[0mself\u001b[0m\u001b[0;34m.\u001b[0m\u001b[0m_sock\u001b[0m\u001b[0;34m.\u001b[0m\u001b[0mrecv_into\u001b[0m\u001b[0;34m(\u001b[0m\u001b[0mb\u001b[0m\u001b[0;34m)\u001b[0m\u001b[0;34m\u001b[0m\u001b[0;34m\u001b[0m\u001b[0m\n\u001b[0m\u001b[1;32m    590\u001b[0m             \u001b[0;32mexcept\u001b[0m \u001b[0mtimeout\u001b[0m\u001b[0;34m:\u001b[0m\u001b[0;34m\u001b[0m\u001b[0;34m\u001b[0m\u001b[0m\n\u001b[1;32m    591\u001b[0m                 \u001b[0mself\u001b[0m\u001b[0;34m.\u001b[0m\u001b[0m_timeout_occurred\u001b[0m \u001b[0;34m=\u001b[0m \u001b[0;32mTrue\u001b[0m\u001b[0;34m\u001b[0m\u001b[0;34m\u001b[0m\u001b[0m\n",
      "\u001b[0;32m/usr/lib/python3.7/ssl.py\u001b[0m in \u001b[0;36mrecv_into\u001b[0;34m(self, buffer, nbytes, flags)\u001b[0m\n\u001b[1;32m   1069\u001b[0m                   \u001b[0;34m\"non-zero flags not allowed in calls to recv_into() on %s\"\u001b[0m \u001b[0;34m%\u001b[0m\u001b[0;34m\u001b[0m\u001b[0;34m\u001b[0m\u001b[0m\n\u001b[1;32m   1070\u001b[0m                   self.__class__)\n\u001b[0;32m-> 1071\u001b[0;31m             \u001b[0;32mreturn\u001b[0m \u001b[0mself\u001b[0m\u001b[0;34m.\u001b[0m\u001b[0mread\u001b[0m\u001b[0;34m(\u001b[0m\u001b[0mnbytes\u001b[0m\u001b[0;34m,\u001b[0m \u001b[0mbuffer\u001b[0m\u001b[0;34m)\u001b[0m\u001b[0;34m\u001b[0m\u001b[0;34m\u001b[0m\u001b[0m\n\u001b[0m\u001b[1;32m   1072\u001b[0m         \u001b[0;32melse\u001b[0m\u001b[0;34m:\u001b[0m\u001b[0;34m\u001b[0m\u001b[0;34m\u001b[0m\u001b[0m\n\u001b[1;32m   1073\u001b[0m             \u001b[0;32mreturn\u001b[0m \u001b[0msuper\u001b[0m\u001b[0;34m(\u001b[0m\u001b[0;34m)\u001b[0m\u001b[0;34m.\u001b[0m\u001b[0mrecv_into\u001b[0m\u001b[0;34m(\u001b[0m\u001b[0mbuffer\u001b[0m\u001b[0;34m,\u001b[0m \u001b[0mnbytes\u001b[0m\u001b[0;34m,\u001b[0m \u001b[0mflags\u001b[0m\u001b[0;34m)\u001b[0m\u001b[0;34m\u001b[0m\u001b[0;34m\u001b[0m\u001b[0m\n",
      "\u001b[0;32m/usr/lib/python3.7/ssl.py\u001b[0m in \u001b[0;36mread\u001b[0;34m(self, len, buffer)\u001b[0m\n\u001b[1;32m    927\u001b[0m         \u001b[0;32mtry\u001b[0m\u001b[0;34m:\u001b[0m\u001b[0;34m\u001b[0m\u001b[0;34m\u001b[0m\u001b[0m\n\u001b[1;32m    928\u001b[0m             \u001b[0;32mif\u001b[0m \u001b[0mbuffer\u001b[0m \u001b[0;32mis\u001b[0m \u001b[0;32mnot\u001b[0m \u001b[0;32mNone\u001b[0m\u001b[0;34m:\u001b[0m\u001b[0;34m\u001b[0m\u001b[0;34m\u001b[0m\u001b[0m\n\u001b[0;32m--> 929\u001b[0;31m                 \u001b[0;32mreturn\u001b[0m \u001b[0mself\u001b[0m\u001b[0;34m.\u001b[0m\u001b[0m_sslobj\u001b[0m\u001b[0;34m.\u001b[0m\u001b[0mread\u001b[0m\u001b[0;34m(\u001b[0m\u001b[0mlen\u001b[0m\u001b[0;34m,\u001b[0m \u001b[0mbuffer\u001b[0m\u001b[0;34m)\u001b[0m\u001b[0;34m\u001b[0m\u001b[0;34m\u001b[0m\u001b[0m\n\u001b[0m\u001b[1;32m    930\u001b[0m             \u001b[0;32melse\u001b[0m\u001b[0;34m:\u001b[0m\u001b[0;34m\u001b[0m\u001b[0;34m\u001b[0m\u001b[0m\n\u001b[1;32m    931\u001b[0m                 \u001b[0;32mreturn\u001b[0m \u001b[0mself\u001b[0m\u001b[0;34m.\u001b[0m\u001b[0m_sslobj\u001b[0m\u001b[0;34m.\u001b[0m\u001b[0mread\u001b[0m\u001b[0;34m(\u001b[0m\u001b[0mlen\u001b[0m\u001b[0;34m)\u001b[0m\u001b[0;34m\u001b[0m\u001b[0;34m\u001b[0m\u001b[0m\n",
      "\u001b[0;31mKeyboardInterrupt\u001b[0m: "
     ]
    }
   ],
   "source": [
    "Nflares = 0 \n",
    "while Nflares < 1000:\n",
    "    lcs_sel=pd.DataFrame()\n",
    "    print(lcs_sel.shape)\n",
    "    while lcs_sel.shape[0]==0:\n",
    "        input_target = input_catalog.iloc[count]\n",
    "\n",
    "        lcs_sel = get_table_of_light_curves(input_target)\n",
    "        if lcs_sel is None:\n",
    "            lcs_sel=pd.DataFrame()\n",
    "        count+=1\n",
    "\n",
    "    TIC = \"TIC \" + str(input_target.TIC)\n",
    "    ID = input_target.hostname\n",
    "    n = 0\n",
    "    Nflares = 0\n",
    "    while n<lcs_sel.shape[0]:\n",
    "\n",
    "        sector = lcs_sel.iloc[n].mission[-2:]\n",
    "        mission = lcs_sel.iloc[n].mission.split(\" \")[0]\n",
    "\n",
    "        lc_n = n + 1\n",
    "\n",
    "        if lcs_sel.iloc[n].exptime < 30:\n",
    "            cadence = \"fast\"\n",
    "        else: \n",
    "            cadence = \"short\"\n",
    "\n",
    "        print(f\"Get {mission} Sector/Quarter {sector}, {TIC}, {ID}, {cadence} cadence.\")\n",
    "\n",
    "        # fetch light curve from MAST\n",
    "        download_dir = \"/home/ekaterina/Documents/001_science/lcs\"\n",
    "\n",
    "        if mission==\"TESS\":\n",
    "            flc = from_mast(TIC, mission=mission, c=sector,\n",
    "                        cadence=cadence, author=\"SPOC\",\n",
    "                        download_dir=download_dir)\n",
    "            if flc is None:\n",
    "                print(f\"No LC found for {mission}, {ID}, Quarter {sector}.\")\n",
    "                with open(\"../results/2022_07_listed_but_nothing_found.txt\", \"a\") as f:\n",
    "                    string = f\"{mission},{ID},{TIC},{sector},{cadence}\\n\"\n",
    "                    f.write(string)\n",
    "                n += 1\n",
    "            else:\n",
    "                Nflares += run_analysis(flc, input_target, sector, mission, lc_n, download_dir, i=0)\n",
    "                n += 1\n",
    "        elif mission==\"Kepler\":\n",
    "            flcl = from_mast(ID, mission=mission, c=sector,\n",
    "                        cadence=cadence,\n",
    "                        download_dir=download_dir)\n",
    "\n",
    "            if flcl is None:\n",
    "                print(f\"No LC found for {mission}, {ID}, Quarter {sector}.\")\n",
    "                with open(\"../results/2022_07_listed_but_nothing_found.txt\", \"a\") as f:\n",
    "                    string = f\"{mission},{ID},{TIC},{sector},{cadence}\\n\"\n",
    "                    f.write(string)\n",
    "                n += 1\n",
    "\n",
    "            elif type(flcl) != list:\n",
    "\n",
    "                print(f\"1 LC found for {mission}, {ID}, Quarter {sector}.\")\n",
    "                Nflares += run_analysis(flcl, input_target, sector, mission, lc_n, download_dir, i=0)\n",
    "                n += 1\n",
    "\n",
    "\n",
    "\n",
    "            else:\n",
    "                print(f\"{len(flcl)} LCs found for {mission}, {ID}, Quarter {sector}.\")\n",
    "                for i, flc in enumerate(flcl):\n",
    "                    Nflares += run_analysis(flc, input_target, sector, mission, lc_n, download_dir, i=i)\n",
    "\n",
    "                n += 1\n",
    "\n",
    "    print(f\"\\n---------------------\\n{Nflares} flares found!\\n-------------------\\n\")\n",
    "print(f\"\\nNext count is {count}.\\n\")"
   ]
  },
  {
   "cell_type": "code",
   "execution_count": null,
   "metadata": {},
   "outputs": [],
   "source": [
    "type(flcl) != list"
   ]
  },
  {
   "cell_type": "code",
   "execution_count": null,
   "metadata": {},
   "outputs": [],
   "source": [
    "# 2022_07_29_Kepler-974_14_altai_2\n",
    "# 2022_07_29_Kepler-974_15_altai_2\n",
    "# 2022_07_29_Kepler-974_16_altai_1.fits +2\n",
    "fff = fits.open(\"/home/ekaterina/Documents/001_science/lcs/2022_07_29_Kepler-350_14_altai_2.fits\")[1].data\n",
    "ff = pd.read_csv(\"../results/2022_07_flares.csv\")\n",
    "ff = ff[(ff.ID == ID) & (ff.qcs==14)]\n",
    "ff"
   ]
  },
  {
   "cell_type": "code",
   "execution_count": null,
   "metadata": {
    "scrolled": false
   },
   "outputs": [],
   "source": [
    "%matplotlib inline\n",
    "for j, flare in ff.iloc[2:].iterrows():\n",
    "    plt.figure(figsize=(16,5))\n",
    "    cap=.5\n",
    "    ts, tf = flare.tstart, flare.tstop\n",
    "    print(ts,tf)\n",
    "    _ = fff[np.where((fff['time']>=ts-.1/cap) & (fff['time']<=tf+.1/cap))]\n",
    "    med = np.median(_['flux'])\n",
    "    plt.plot(_['time'], _['flux']/med, c=\"k\")\n",
    "    \n",
    "    _ = fff[np.where((fff['time']>=ts-1e-8) & (fff['time']<=tf+1e-8))]\n",
    "    plt.scatter(_['time'], _['flux']/med, c=\"r\")\n",
    "\n",
    "    plt.scatter(ts, flare.phase/5 + 1)\n",
    "    plt.plot(_['time'], _['phase']/5 + 1, c=\"grey\")\n",
    "#     plt.ylim(0.99,1.004)"
   ]
  },
  {
   "cell_type": "code",
   "execution_count": null,
   "metadata": {},
   "outputs": [],
   "source": []
  }
 ],
 "metadata": {
  "kernelspec": {
   "display_name": "python37",
   "language": "python",
   "name": "python37"
  },
  "language_info": {
   "codemirror_mode": {
    "name": "ipython",
    "version": 3
   },
   "file_extension": ".py",
   "mimetype": "text/x-python",
   "name": "python",
   "nbconvert_exporter": "python",
   "pygments_lexer": "ipython3",
   "version": "3.7.5"
  }
 },
 "nbformat": 4,
 "nbformat_minor": 2
}
